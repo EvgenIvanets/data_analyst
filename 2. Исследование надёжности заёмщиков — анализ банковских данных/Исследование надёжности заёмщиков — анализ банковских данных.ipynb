{
 "cells": [
  {
   "cell_type": "markdown",
   "metadata": {},
   "source": [
    "# Исследование надёжности заёмщиков\n",
    "\n",
    "Заказчик — кредитный отдел банка. Нужно разобраться, влияет ли семейное положение и количество детей клиента на факт погашения кредита в срок. Входные данные от банка — статистика о платёжеспособности клиентов.\n",
    "\n",
    "Результаты исследования будут учтены при построении модели **кредитного скоринга** — специальной системы, которая оценивает способность потенциального заёмщика вернуть кредит банку.\n",
    "\n",
    "**Цель исследования** - ответить на вопросы:\n",
    "1. Есть ли зависимость между наличием детей и возвратом кредита в срок?\n",
    "2. Есть ли зависимость между семейным положением и возвратом кредита в срок?\n",
    "3. Есть ли зависимость между уровнем дохода и возвратом кредита в срок?\n",
    "4. Как разные цели кредита влияют на его возврат в срок?\n",
    "\n"
   ]
  },
  {
   "cell_type": "markdown",
   "metadata": {},
   "source": [
    "## Шаг 1. Откройте файл с данными и изучите общую информацию"
   ]
  },
  {
   "cell_type": "code",
   "execution_count": 1,
   "metadata": {},
   "outputs": [],
   "source": [
    "import pandas as pd # импорт библиотеки Pandas"
   ]
  },
  {
   "cell_type": "code",
   "execution_count": 2,
   "metadata": {},
   "outputs": [],
   "source": [
    "df = pd.read_csv('/datasets/data.csv')  # чтение файла и сохранение в переменной df"
   ]
  },
  {
   "cell_type": "code",
   "execution_count": 3,
   "metadata": {
    "scrolled": true
   },
   "outputs": [
    {
     "data": {
      "text/html": [
       "<div>\n",
       "<style scoped>\n",
       "    .dataframe tbody tr th:only-of-type {\n",
       "        vertical-align: middle;\n",
       "    }\n",
       "\n",
       "    .dataframe tbody tr th {\n",
       "        vertical-align: top;\n",
       "    }\n",
       "\n",
       "    .dataframe thead th {\n",
       "        text-align: right;\n",
       "    }\n",
       "</style>\n",
       "<table border=\"1\" class=\"dataframe\">\n",
       "  <thead>\n",
       "    <tr style=\"text-align: right;\">\n",
       "      <th></th>\n",
       "      <th>children</th>\n",
       "      <th>days_employed</th>\n",
       "      <th>dob_years</th>\n",
       "      <th>education</th>\n",
       "      <th>education_id</th>\n",
       "      <th>family_status</th>\n",
       "      <th>family_status_id</th>\n",
       "      <th>gender</th>\n",
       "      <th>income_type</th>\n",
       "      <th>debt</th>\n",
       "      <th>total_income</th>\n",
       "      <th>purpose</th>\n",
       "    </tr>\n",
       "  </thead>\n",
       "  <tbody>\n",
       "    <tr>\n",
       "      <td>0</td>\n",
       "      <td>1</td>\n",
       "      <td>-8437.673028</td>\n",
       "      <td>42</td>\n",
       "      <td>высшее</td>\n",
       "      <td>0</td>\n",
       "      <td>женат / замужем</td>\n",
       "      <td>0</td>\n",
       "      <td>F</td>\n",
       "      <td>сотрудник</td>\n",
       "      <td>0</td>\n",
       "      <td>253875.639453</td>\n",
       "      <td>покупка жилья</td>\n",
       "    </tr>\n",
       "    <tr>\n",
       "      <td>1</td>\n",
       "      <td>1</td>\n",
       "      <td>-4024.803754</td>\n",
       "      <td>36</td>\n",
       "      <td>среднее</td>\n",
       "      <td>1</td>\n",
       "      <td>женат / замужем</td>\n",
       "      <td>0</td>\n",
       "      <td>F</td>\n",
       "      <td>сотрудник</td>\n",
       "      <td>0</td>\n",
       "      <td>112080.014102</td>\n",
       "      <td>приобретение автомобиля</td>\n",
       "    </tr>\n",
       "    <tr>\n",
       "      <td>2</td>\n",
       "      <td>0</td>\n",
       "      <td>-5623.422610</td>\n",
       "      <td>33</td>\n",
       "      <td>Среднее</td>\n",
       "      <td>1</td>\n",
       "      <td>женат / замужем</td>\n",
       "      <td>0</td>\n",
       "      <td>M</td>\n",
       "      <td>сотрудник</td>\n",
       "      <td>0</td>\n",
       "      <td>145885.952297</td>\n",
       "      <td>покупка жилья</td>\n",
       "    </tr>\n",
       "    <tr>\n",
       "      <td>3</td>\n",
       "      <td>3</td>\n",
       "      <td>-4124.747207</td>\n",
       "      <td>32</td>\n",
       "      <td>среднее</td>\n",
       "      <td>1</td>\n",
       "      <td>женат / замужем</td>\n",
       "      <td>0</td>\n",
       "      <td>M</td>\n",
       "      <td>сотрудник</td>\n",
       "      <td>0</td>\n",
       "      <td>267628.550329</td>\n",
       "      <td>дополнительное образование</td>\n",
       "    </tr>\n",
       "    <tr>\n",
       "      <td>4</td>\n",
       "      <td>0</td>\n",
       "      <td>340266.072047</td>\n",
       "      <td>53</td>\n",
       "      <td>среднее</td>\n",
       "      <td>1</td>\n",
       "      <td>гражданский брак</td>\n",
       "      <td>1</td>\n",
       "      <td>F</td>\n",
       "      <td>пенсионер</td>\n",
       "      <td>0</td>\n",
       "      <td>158616.077870</td>\n",
       "      <td>сыграть свадьбу</td>\n",
       "    </tr>\n",
       "    <tr>\n",
       "      <td>5</td>\n",
       "      <td>0</td>\n",
       "      <td>-926.185831</td>\n",
       "      <td>27</td>\n",
       "      <td>высшее</td>\n",
       "      <td>0</td>\n",
       "      <td>гражданский брак</td>\n",
       "      <td>1</td>\n",
       "      <td>M</td>\n",
       "      <td>компаньон</td>\n",
       "      <td>0</td>\n",
       "      <td>255763.565419</td>\n",
       "      <td>покупка жилья</td>\n",
       "    </tr>\n",
       "    <tr>\n",
       "      <td>6</td>\n",
       "      <td>0</td>\n",
       "      <td>-2879.202052</td>\n",
       "      <td>43</td>\n",
       "      <td>высшее</td>\n",
       "      <td>0</td>\n",
       "      <td>женат / замужем</td>\n",
       "      <td>0</td>\n",
       "      <td>F</td>\n",
       "      <td>компаньон</td>\n",
       "      <td>0</td>\n",
       "      <td>240525.971920</td>\n",
       "      <td>операции с жильем</td>\n",
       "    </tr>\n",
       "    <tr>\n",
       "      <td>7</td>\n",
       "      <td>0</td>\n",
       "      <td>-152.779569</td>\n",
       "      <td>50</td>\n",
       "      <td>СРЕДНЕЕ</td>\n",
       "      <td>1</td>\n",
       "      <td>женат / замужем</td>\n",
       "      <td>0</td>\n",
       "      <td>M</td>\n",
       "      <td>сотрудник</td>\n",
       "      <td>0</td>\n",
       "      <td>135823.934197</td>\n",
       "      <td>образование</td>\n",
       "    </tr>\n",
       "    <tr>\n",
       "      <td>8</td>\n",
       "      <td>2</td>\n",
       "      <td>-6929.865299</td>\n",
       "      <td>35</td>\n",
       "      <td>ВЫСШЕЕ</td>\n",
       "      <td>0</td>\n",
       "      <td>гражданский брак</td>\n",
       "      <td>1</td>\n",
       "      <td>F</td>\n",
       "      <td>сотрудник</td>\n",
       "      <td>0</td>\n",
       "      <td>95856.832424</td>\n",
       "      <td>на проведение свадьбы</td>\n",
       "    </tr>\n",
       "    <tr>\n",
       "      <td>9</td>\n",
       "      <td>0</td>\n",
       "      <td>-2188.756445</td>\n",
       "      <td>41</td>\n",
       "      <td>среднее</td>\n",
       "      <td>1</td>\n",
       "      <td>женат / замужем</td>\n",
       "      <td>0</td>\n",
       "      <td>M</td>\n",
       "      <td>сотрудник</td>\n",
       "      <td>0</td>\n",
       "      <td>144425.938277</td>\n",
       "      <td>покупка жилья для семьи</td>\n",
       "    </tr>\n",
       "  </tbody>\n",
       "</table>\n",
       "</div>"
      ],
      "text/plain": [
       "   children  days_employed  dob_years education  education_id  \\\n",
       "0         1   -8437.673028         42    высшее             0   \n",
       "1         1   -4024.803754         36   среднее             1   \n",
       "2         0   -5623.422610         33   Среднее             1   \n",
       "3         3   -4124.747207         32   среднее             1   \n",
       "4         0  340266.072047         53   среднее             1   \n",
       "5         0    -926.185831         27    высшее             0   \n",
       "6         0   -2879.202052         43    высшее             0   \n",
       "7         0    -152.779569         50   СРЕДНЕЕ             1   \n",
       "8         2   -6929.865299         35    ВЫСШЕЕ             0   \n",
       "9         0   -2188.756445         41   среднее             1   \n",
       "\n",
       "      family_status  family_status_id gender income_type  debt   total_income  \\\n",
       "0   женат / замужем                 0      F   сотрудник     0  253875.639453   \n",
       "1   женат / замужем                 0      F   сотрудник     0  112080.014102   \n",
       "2   женат / замужем                 0      M   сотрудник     0  145885.952297   \n",
       "3   женат / замужем                 0      M   сотрудник     0  267628.550329   \n",
       "4  гражданский брак                 1      F   пенсионер     0  158616.077870   \n",
       "5  гражданский брак                 1      M   компаньон     0  255763.565419   \n",
       "6   женат / замужем                 0      F   компаньон     0  240525.971920   \n",
       "7   женат / замужем                 0      M   сотрудник     0  135823.934197   \n",
       "8  гражданский брак                 1      F   сотрудник     0   95856.832424   \n",
       "9   женат / замужем                 0      M   сотрудник     0  144425.938277   \n",
       "\n",
       "                      purpose  \n",
       "0               покупка жилья  \n",
       "1     приобретение автомобиля  \n",
       "2               покупка жилья  \n",
       "3  дополнительное образование  \n",
       "4             сыграть свадьбу  \n",
       "5               покупка жилья  \n",
       "6           операции с жильем  \n",
       "7                 образование  \n",
       "8       на проведение свадьбы  \n",
       "9     покупка жилья для семьи  "
      ]
     },
     "execution_count": 3,
     "metadata": {},
     "output_type": "execute_result"
    }
   ],
   "source": [
    "df.head(10) # получение первых 10 строк таблицы df"
   ]
  },
  {
   "cell_type": "code",
   "execution_count": 4,
   "metadata": {},
   "outputs": [
    {
     "name": "stdout",
     "output_type": "stream",
     "text": [
      "<class 'pandas.core.frame.DataFrame'>\n",
      "RangeIndex: 21525 entries, 0 to 21524\n",
      "Data columns (total 12 columns):\n",
      "children            21525 non-null int64\n",
      "days_employed       19351 non-null float64\n",
      "dob_years           21525 non-null int64\n",
      "education           21525 non-null object\n",
      "education_id        21525 non-null int64\n",
      "family_status       21525 non-null object\n",
      "family_status_id    21525 non-null int64\n",
      "gender              21525 non-null object\n",
      "income_type         21525 non-null object\n",
      "debt                21525 non-null int64\n",
      "total_income        19351 non-null float64\n",
      "purpose             21525 non-null object\n",
      "dtypes: float64(2), int64(5), object(5)\n",
      "memory usage: 2.0+ MB\n"
     ]
    }
   ],
   "source": [
    "df.info() # получаем общую информацию о данных"
   ]
  },
  {
   "cell_type": "markdown",
   "metadata": {},
   "source": [
    "Итак, в таблице 12 столбцов. Типы данных - `int64`, `float64`, `object`.\n",
    "\n",
    "Cогласно документации к данным:\n",
    "* `children` - количество детей в семье;\n",
    "* `days_employed` — общий трудовой стаж в днях;\n",
    "* `dob_years` — возраст клиента в годах;\n",
    "* `education` — уровень образования клиента;\n",
    "* `education_id` — идентификатор уровня образования;\n",
    "* `family_status` — семейное положение;\n",
    "* `family_status_id` — идентификатор семейного положения;\n",
    "* `gender` — пол клиента;\n",
    "* `income_type` — тип занятости;\n",
    "* `debt` — имел ли задолженность по возврату кредитов;\n",
    "* `total_income` — ежемесячный доход;\n",
    "* `purpose` — цель получения кредита.\n",
    "\n",
    "\n"
   ]
  },
  {
   "cell_type": "markdown",
   "metadata": {},
   "source": [
    "**Вывод**\n",
    "\n",
    "В каждой стоке таблицы - информация о клиентах. Часть колонок предоставляет информацию о самом клиенте: количество детей, трудовой стаж, возраст, уровень образования, семейное положение, пол, тип занятости, наличие задолжности по возврату кредита, ежемесячный доход и цель получения кредита. В остальных колонках идентификаторы(`id`). \n",
    "\n",
    "Предварительно можно утверждать, что даных достаточно для ответа на вопросы. Но в данных встречаются пропуски, их нужно устранить.\n",
    "\n"
   ]
  },
  {
   "cell_type": "markdown",
   "metadata": {},
   "source": [
    "## Шаг 2. Предобработка данных"
   ]
  },
  {
   "cell_type": "markdown",
   "metadata": {},
   "source": [
    "### Обработка пропусков"
   ]
  },
  {
   "cell_type": "code",
   "execution_count": 5,
   "metadata": {},
   "outputs": [
    {
     "data": {
      "text/plain": [
       "children               0\n",
       "days_employed       2174\n",
       "dob_years              0\n",
       "education              0\n",
       "education_id           0\n",
       "family_status          0\n",
       "family_status_id       0\n",
       "gender                 0\n",
       "income_type            0\n",
       "debt                   0\n",
       "total_income        2174\n",
       "purpose                0\n",
       "dtype: int64"
      ]
     },
     "execution_count": 5,
     "metadata": {},
     "output_type": "execute_result"
    }
   ],
   "source": [
    "df.isna().sum() # подсчет пропусков"
   ]
  },
  {
   "cell_type": "markdown",
   "metadata": {},
   "source": [
    "Не все пропущеные значения влияют на исследование. Пропуски в `days_employed` неважны для нашего исследования.\n",
    "\n",
    "Но пропуски в `total_income` повлияют нарезультаты исследования, `total_income` количественная переменная, а значит мы можем востановить данные применив среднее арифметическое или медиану. В данном случае целесобразно использовать медианное значение т.к. заработная плата у клиентов может сильно отличаться."
   ]
  },
  {
   "cell_type": "code",
   "execution_count": 6,
   "metadata": {},
   "outputs": [],
   "source": [
    "df['days_employed'] = df['days_employed'].fillna(0) #заменим пропуски в столбце 'days_employed' на 0"
   ]
  },
  {
   "cell_type": "markdown",
   "metadata": {},
   "source": [
    "Определим какие типы занятости встречаются в столбце `income_type`. "
   ]
  },
  {
   "cell_type": "code",
   "execution_count": 7,
   "metadata": {},
   "outputs": [
    {
     "data": {
      "text/plain": [
       "array(['сотрудник', 'пенсионер', 'компаньон', 'госслужащий',\n",
       "       'безработный', 'предприниматель', 'студент', 'в декрете'],\n",
       "      dtype=object)"
      ]
     },
     "execution_count": 7,
     "metadata": {},
     "output_type": "execute_result"
    }
   ],
   "source": [
    "df['income_type'].unique() # находим уникальные категории в столбце 'income_type'"
   ]
  },
  {
   "cell_type": "code",
   "execution_count": 8,
   "metadata": {},
   "outputs": [
    {
     "data": {
      "text/plain": [
       "income_type\n",
       "безработный        131339.751676\n",
       "в декрете           53829.130729\n",
       "госслужащий        150447.935283\n",
       "компаньон          172357.950966\n",
       "пенсионер          118514.486412\n",
       "предприниматель    499163.144947\n",
       "сотрудник          142594.396847\n",
       "студент             98201.625314\n",
       "Name: total_income, dtype: float64"
      ]
     },
     "execution_count": 8,
     "metadata": {},
     "output_type": "execute_result"
    }
   ],
   "source": [
    "df.groupby('income_type')['total_income'].median() # определение медианной ЗП по разным категориям"
   ]
  },
  {
   "cell_type": "markdown",
   "metadata": {},
   "source": [
    "Заполнения пропусков в стоблце `total_income` для категории 'безработный'"
   ]
  },
  {
   "cell_type": "code",
   "execution_count": 9,
   "metadata": {},
   "outputs": [],
   "source": [
    "# медианная ЗП для категории 'безработный'\n",
    "unemployed_income_median = df[df['income_type'] == 'безработный']['total_income'].median()"
   ]
  },
  {
   "cell_type": "code",
   "execution_count": 10,
   "metadata": {},
   "outputs": [],
   "source": [
    "# заполнения пропусков в стоблце total_income для категории 'безработный'\n",
    "df.loc[df['income_type'] == 'безработный', 'total_income'] = df.loc[df['income_type'] == 'безработный', 'total_income'].fillna(unemployed_income_median)"
   ]
  },
  {
   "cell_type": "markdown",
   "metadata": {},
   "source": [
    "Заполнения пропусков в стоблце `total_income` для категории 'в декрете'"
   ]
  },
  {
   "cell_type": "code",
   "execution_count": 11,
   "metadata": {},
   "outputs": [],
   "source": [
    "# медианная ЗП для категории 'в декрете'\n",
    "decree_income_median = df[df['income_type'] == 'в декрете']['total_income'].median()"
   ]
  },
  {
   "cell_type": "code",
   "execution_count": 12,
   "metadata": {},
   "outputs": [],
   "source": [
    "# заполнения пропусков в стоблце total_income для категории 'в декрете'\n",
    "df.loc[df['income_type'] == 'в декрете', 'total_income'] = df.loc[df['income_type'] == 'в декрете', 'total_income'].fillna(decree_income_median)"
   ]
  },
  {
   "cell_type": "markdown",
   "metadata": {},
   "source": [
    "Заполнения пропусков в стоблце `total_income` для категории 'госслужащий'"
   ]
  },
  {
   "cell_type": "code",
   "execution_count": 13,
   "metadata": {},
   "outputs": [],
   "source": [
    "# медианная ЗП для категории 'госслужащий'\n",
    "state_income_median = df[df['income_type'] == 'госслужащий']['total_income'].median()"
   ]
  },
  {
   "cell_type": "code",
   "execution_count": 14,
   "metadata": {},
   "outputs": [],
   "source": [
    "# заполнения пропусков в стоблце total_income для категории 'госслужащий'\n",
    "df.loc[df['income_type'] == 'госслужащий', 'total_income'] = df.loc[df['income_type'] == 'госслужащий', 'total_income'].fillna(state_income_median)"
   ]
  },
  {
   "cell_type": "markdown",
   "metadata": {},
   "source": [
    "Заполнения пропусков в стоблце `total_income` для категории 'компаньон'"
   ]
  },
  {
   "cell_type": "code",
   "execution_count": 15,
   "metadata": {},
   "outputs": [],
   "source": [
    "# медианная ЗП для категории 'компаньон'\n",
    "companion_income_median = df[df['income_type'] == 'компаньон']['total_income'].median()"
   ]
  },
  {
   "cell_type": "code",
   "execution_count": 16,
   "metadata": {},
   "outputs": [],
   "source": [
    "# заполнения пропусков в стоблце total_income для категории 'компаньон'\n",
    "df.loc[df['income_type'] == 'компаньон', 'total_income'] = df.loc[df['income_type'] == 'компаньон', 'total_income'].fillna(companion_income_median)"
   ]
  },
  {
   "cell_type": "markdown",
   "metadata": {},
   "source": [
    "Заполнения пропусков в стоблце `total_income` для категории 'пенсионер'"
   ]
  },
  {
   "cell_type": "code",
   "execution_count": 17,
   "metadata": {},
   "outputs": [],
   "source": [
    "# медианная ЗП для категории 'пенсионер'\n",
    "pensioner_income_median = df[df['income_type'] == 'пенсионер']['total_income'].median()"
   ]
  },
  {
   "cell_type": "code",
   "execution_count": 18,
   "metadata": {},
   "outputs": [],
   "source": [
    "# заполнения пропусков в стоблце total_income для категории 'компаньон'\n",
    "df.loc[df['income_type'] == 'пенсионер', 'total_income'] = df.loc[df['income_type'] == 'пенсионер', 'total_income'].fillna(pensioner_income_median)"
   ]
  },
  {
   "cell_type": "markdown",
   "metadata": {},
   "source": [
    "Заполнения пропусков в стоблце `total_income` для категории 'предприниматель'"
   ]
  },
  {
   "cell_type": "code",
   "execution_count": 19,
   "metadata": {},
   "outputs": [],
   "source": [
    "# медианная ЗП для категории 'предприниматель'\n",
    "businessman_income_median = df[df['income_type'] == 'предприниматель']['total_income'].median()"
   ]
  },
  {
   "cell_type": "code",
   "execution_count": 20,
   "metadata": {},
   "outputs": [],
   "source": [
    "# заполнения пропусков в стоблце total_income для категории 'предприниматель'\n",
    "df.loc[df['income_type'] == 'предприниматель', 'total_income'] = df.loc[df['income_type'] == 'предприниматель', 'total_income'].fillna(businessman_income_median)"
   ]
  },
  {
   "cell_type": "markdown",
   "metadata": {},
   "source": [
    "Заполнения пропусков в стоблце `total_income` для категории 'сотрудник'"
   ]
  },
  {
   "cell_type": "code",
   "execution_count": 21,
   "metadata": {},
   "outputs": [],
   "source": [
    "# медианная ЗП для категории 'сотрудник'\n",
    "employee_income_median = df[df['income_type'] == 'сотрудник']['total_income'].median()"
   ]
  },
  {
   "cell_type": "code",
   "execution_count": 22,
   "metadata": {},
   "outputs": [],
   "source": [
    "# Заполнения пропусков в стоблце total_income для категории 'сотрудник'\n",
    "df.loc[df['income_type'] == 'сотрудник', 'total_income'] = df.loc[df['income_type'] == 'сотрудник', 'total_income'].fillna(employee_income_median)"
   ]
  },
  {
   "cell_type": "markdown",
   "metadata": {},
   "source": [
    "Заполнения пропусков в стоблце `total_income` для категории 'студент'"
   ]
  },
  {
   "cell_type": "code",
   "execution_count": 23,
   "metadata": {},
   "outputs": [],
   "source": [
    "# медианная ЗП для категории 'студент'\n",
    "student_income_median = df[df['income_type'] == 'студент']['total_income'].median()"
   ]
  },
  {
   "cell_type": "code",
   "execution_count": 24,
   "metadata": {},
   "outputs": [],
   "source": [
    "# Заполнения пропусков в стоблце total_income для категории 'студент'\n",
    "df.loc[df['income_type'] == 'студент', 'total_income'] = df.loc[df['income_type'] == 'студент', 'total_income'].fillna(student_income_median)"
   ]
  },
  {
   "cell_type": "markdown",
   "metadata": {},
   "source": [
    "Убедимся в отсутсвии пропусков:"
   ]
  },
  {
   "cell_type": "code",
   "execution_count": 25,
   "metadata": {},
   "outputs": [
    {
     "data": {
      "text/plain": [
       "children            0\n",
       "days_employed       0\n",
       "dob_years           0\n",
       "education           0\n",
       "education_id        0\n",
       "family_status       0\n",
       "family_status_id    0\n",
       "gender              0\n",
       "income_type         0\n",
       "debt                0\n",
       "total_income        0\n",
       "purpose             0\n",
       "dtype: int64"
      ]
     },
     "execution_count": 25,
     "metadata": {},
     "output_type": "execute_result"
    }
   ],
   "source": [
    "df.isna().sum()"
   ]
  },
  {
   "cell_type": "markdown",
   "metadata": {},
   "source": [
    "**Вывод**\n",
    "\n",
    "В столбцах `days_employed` и `total_income` были обнаружены пропуски. Предположим, что это ошибка при заполнении или ошибка программы банка т.к входные данные это статистика платёжеспособности, а в таких данных информация о трудовом стаже и доходе отсутствовать не может.\n",
    "\n",
    "\n",
    "Пропущеные значения обработаны, можем приступать к следующему этапу предобработки данных."
   ]
  },
  {
   "cell_type": "markdown",
   "metadata": {},
   "source": [
    "### Замена типа данных"
   ]
  },
  {
   "cell_type": "markdown",
   "metadata": {},
   "source": [
    "В колонках `days_employed` и `total_income` изменим вещественный тип данных на целочисленный c помощью функции `astype()`."
   ]
  },
  {
   "cell_type": "code",
   "execution_count": 26,
   "metadata": {
    "scrolled": true
   },
   "outputs": [],
   "source": [
    "df['days_employed'] = df['days_employed'].astype(int) # замена типа данных на int"
   ]
  },
  {
   "cell_type": "code",
   "execution_count": 27,
   "metadata": {},
   "outputs": [],
   "source": [
    "df['total_income'] = df['total_income'].astype(int) # замена типа данных на int"
   ]
  },
  {
   "cell_type": "markdown",
   "metadata": {},
   "source": [
    "Посмотрим общую информацию о таблице и убедимся в том, что тип данных изменён:"
   ]
  },
  {
   "cell_type": "code",
   "execution_count": 28,
   "metadata": {},
   "outputs": [
    {
     "name": "stdout",
     "output_type": "stream",
     "text": [
      "<class 'pandas.core.frame.DataFrame'>\n",
      "RangeIndex: 21525 entries, 0 to 21524\n",
      "Data columns (total 12 columns):\n",
      "children            21525 non-null int64\n",
      "days_employed       21525 non-null int64\n",
      "dob_years           21525 non-null int64\n",
      "education           21525 non-null object\n",
      "education_id        21525 non-null int64\n",
      "family_status       21525 non-null object\n",
      "family_status_id    21525 non-null int64\n",
      "gender              21525 non-null object\n",
      "income_type         21525 non-null object\n",
      "debt                21525 non-null int64\n",
      "total_income        21525 non-null int64\n",
      "purpose             21525 non-null object\n",
      "dtypes: int64(7), object(5)\n",
      "memory usage: 2.0+ MB\n"
     ]
    }
   ],
   "source": [
    "df.info()"
   ]
  },
  {
   "cell_type": "markdown",
   "metadata": {},
   "source": [
    "**Вывод**\n",
    "\n",
    "В колонках `days_employed` и `total_income` изменили вещественный тип данных на целочисленный, применили `astype()` т.к эта функция даёт нам возможность выбрать необходимый тип данных. Работать с целочисленными значениями нам будет удобнее, при этом `int` весит меньше чем `float`."
   ]
  },
  {
   "cell_type": "markdown",
   "metadata": {},
   "source": [
    "### Обработка дубликатов"
   ]
  },
  {
   "cell_type": "markdown",
   "metadata": {},
   "source": [
    "При ознакомлении с таблицей я заметил, что в столбце `education` данные заполнены в разных регистрах. \n",
    "\n",
    "Для того чтобы обнаружить все дубликаты приведем данные этого столбца к нижнему регистру:"
   ]
  },
  {
   "cell_type": "code",
   "execution_count": 29,
   "metadata": {},
   "outputs": [],
   "source": [
    "df['education'] = df['education'].str.lower()  # приведение столбца 'education' к нижнему регистру"
   ]
  },
  {
   "cell_type": "markdown",
   "metadata": {},
   "source": [
    "Приведем значения столбца `days_employed` к абсолютным значениям т.к трудовой стаж не может быть отрицательным."
   ]
  },
  {
   "cell_type": "code",
   "execution_count": 30,
   "metadata": {},
   "outputs": [],
   "source": [
    "df['days_employed'] = df['days_employed'].apply(abs) # приведение столбца 'days_employed' к абсолютным значениям"
   ]
  },
  {
   "cell_type": "code",
   "execution_count": null,
   "metadata": {},
   "outputs": [],
   "source": [
    "df['days_employed'].abs()"
   ]
  },
  {
   "cell_type": "markdown",
   "metadata": {},
   "source": [
    "Вызовем метод для поиска явных дубликатов и посчитаем их количество:"
   ]
  },
  {
   "cell_type": "code",
   "execution_count": 31,
   "metadata": {},
   "outputs": [
    {
     "data": {
      "text/plain": [
       "71"
      ]
     },
     "execution_count": 31,
     "metadata": {},
     "output_type": "execute_result"
    }
   ],
   "source": [
    "df.duplicated().sum() # подсчет дубликатов"
   ]
  },
  {
   "cell_type": "markdown",
   "metadata": {},
   "source": [
    "Воспользуемся методом `drop_duplicates()` для удаления дубликатов и перезапишем индексы датафрейма с помощью `reset_index(drop=True)`:"
   ]
  },
  {
   "cell_type": "code",
   "execution_count": 32,
   "metadata": {},
   "outputs": [],
   "source": [
    "df  = df.drop_duplicates().reset_index(drop=True) # удаление дубликатов"
   ]
  },
  {
   "cell_type": "markdown",
   "metadata": {},
   "source": [
    "Еще раз посчитаем явные дубликаты и убедимся, что мы от них полностью избавились:"
   ]
  },
  {
   "cell_type": "code",
   "execution_count": 33,
   "metadata": {},
   "outputs": [
    {
     "data": {
      "text/plain": [
       "0"
      ]
     },
     "execution_count": 33,
     "metadata": {},
     "output_type": "execute_result"
    }
   ],
   "source": [
    "df.duplicated().sum()"
   ]
  },
  {
   "cell_type": "markdown",
   "metadata": {},
   "source": [
    "Посмотрим уникальные значения в необходимых для исследования столбцах для поиска артефактов в данных:"
   ]
  },
  {
   "cell_type": "code",
   "execution_count": 34,
   "metadata": {},
   "outputs": [
    {
     "data": {
      "text/plain": [
       " 0     14091\n",
       " 1      4808\n",
       " 2      2052\n",
       " 3       330\n",
       " 20       76\n",
       "-1        47\n",
       " 4        41\n",
       " 5         9\n",
       "Name: children, dtype: int64"
      ]
     },
     "execution_count": 34,
     "metadata": {},
     "output_type": "execute_result"
    }
   ],
   "source": [
    "df['children'].value_counts() # вывод уникальных значений столбца 'children'"
   ]
  },
  {
   "cell_type": "markdown",
   "metadata": {},
   "source": [
    "Колличество детей в семье не может быть отрицательным, предположим что это ошибка данных и сделаем все значения положительными с помощью функции `abs()`. Так же обратим вниманиие на клиентов у которых 20 детей, это маловероятно но вполне возможно. Из всего датасета таких клиентов 76, а это небольшой процент от данных, оставим эти строки без изменений."
   ]
  },
  {
   "cell_type": "code",
   "execution_count": 35,
   "metadata": {},
   "outputs": [],
   "source": [
    "df['children'] = df['children'].apply(abs) # приведения значений столбца 'children' к абсолютным"
   ]
  },
  {
   "cell_type": "code",
   "execution_count": 36,
   "metadata": {},
   "outputs": [
    {
     "data": {
      "text/plain": [
       "женат / замужем          12339\n",
       "гражданский брак          4151\n",
       "Не женат / не замужем     2810\n",
       "в разводе                 1195\n",
       "вдовец / вдова             959\n",
       "Name: family_status, dtype: int64"
      ]
     },
     "execution_count": 36,
     "metadata": {},
     "output_type": "execute_result"
    }
   ],
   "source": [
    "df['family_status'].value_counts() # вывод уникальных значений столбца 'family_status'"
   ]
  },
  {
   "cell_type": "markdown",
   "metadata": {},
   "source": [
    "В столбце `family_status` аномалий не обнаружено."
   ]
  },
  {
   "cell_type": "code",
   "execution_count": 37,
   "metadata": {
    "scrolled": true
   },
   "outputs": [
    {
     "data": {
      "text/plain": [
       "35    616\n",
       "40    607\n",
       "41    605\n",
       "34    601\n",
       "38    597\n",
       "42    596\n",
       "33    581\n",
       "39    572\n",
       "31    559\n",
       "36    554\n",
       "44    545\n",
       "29    544\n",
       "30    537\n",
       "48    536\n",
       "37    536\n",
       "50    513\n",
       "43    512\n",
       "32    509\n",
       "49    508\n",
       "28    503\n",
       "45    496\n",
       "27    493\n",
       "52    484\n",
       "56    483\n",
       "47    477\n",
       "54    476\n",
       "46    472\n",
       "53    459\n",
       "57    456\n",
       "58    454\n",
       "51    446\n",
       "55    443\n",
       "59    443\n",
       "26    408\n",
       "60    374\n",
       "25    357\n",
       "61    354\n",
       "62    348\n",
       "63    269\n",
       "24    264\n",
       "64    260\n",
       "23    252\n",
       "65    193\n",
       "22    183\n",
       "66    182\n",
       "67    167\n",
       "21    111\n",
       "0     101\n",
       "68     99\n",
       "69     85\n",
       "70     65\n",
       "71     56\n",
       "20     51\n",
       "72     33\n",
       "19     14\n",
       "73      8\n",
       "74      6\n",
       "75      1\n",
       "Name: dob_years, dtype: int64"
      ]
     },
     "execution_count": 37,
     "metadata": {},
     "output_type": "execute_result"
    }
   ],
   "source": [
    "df['dob_years'].value_counts() # вывод уникальных значений столбца 'dob_years'"
   ]
  },
  {
   "cell_type": "code",
   "execution_count": 38,
   "metadata": {},
   "outputs": [
    {
     "data": {
      "text/plain": [
       "F      14174\n",
       "M       7279\n",
       "XNA        1\n",
       "Name: gender, dtype: int64"
      ]
     },
     "execution_count": 38,
     "metadata": {},
     "output_type": "execute_result"
    }
   ],
   "source": [
    "df['gender'].value_counts() # вывод уникальных значений столбца 'gender'"
   ]
  },
  {
   "cell_type": "markdown",
   "metadata": {},
   "source": [
    "**Вывод**\n",
    "\n",
    "Явные дубликаты в данных удалены.\n",
    "Так же в данных есть необычные значения такие как `0` в стоблце `dob_years` и `XNA` в столбце `gender`, но для исследования эти столбцы нам скорее всего непригодятся и не повлияют на его результат, поэтому оставим их без изменения.\n"
   ]
  },
  {
   "cell_type": "markdown",
   "metadata": {},
   "source": [
    "### Лемматизация"
   ]
  },
  {
   "cell_type": "markdown",
   "metadata": {},
   "source": [
    "Импортируем библиотеку `pymystem3` необходимую для лемматизации:"
   ]
  },
  {
   "cell_type": "code",
   "execution_count": 39,
   "metadata": {},
   "outputs": [],
   "source": [
    "from pymystem3 import Mystem # импорт библиотеки\n",
    "m = Mystem()"
   ]
  },
  {
   "cell_type": "markdown",
   "metadata": {},
   "source": [
    "Произведем лемматизацию столбца `purpose`:"
   ]
  },
  {
   "cell_type": "code",
   "execution_count": 40,
   "metadata": {},
   "outputs": [],
   "source": [
    "lemmas = df['purpose'].apply(m.lemmatize) # лемматизация "
   ]
  },
  {
   "cell_type": "markdown",
   "metadata": {},
   "source": [
    "По умолчанию pymastem3 выдает список лемматизированых слов, применим метод `.join` для превращения списка в строку и сохраним всё это в новом столбце датасета."
   ]
  },
  {
   "cell_type": "code",
   "execution_count": 41,
   "metadata": {},
   "outputs": [],
   "source": [
    "df['lemmas'] = lemmas.apply(''.join) # добавление нового столбца с леммами"
   ]
  },
  {
   "cell_type": "markdown",
   "metadata": {},
   "source": [
    "**Вывод**\n",
    "\n",
    "С помощью `apply()` мы лемматизиривали весь столбец `purpose` и сохранили результат в новом столбце `lemmas`."
   ]
  },
  {
   "cell_type": "markdown",
   "metadata": {},
   "source": [
    "### Категоризация данных"
   ]
  },
  {
   "cell_type": "markdown",
   "metadata": {},
   "source": [
    "Создадим словари для `education` и `family_status`, благодаря этому мы сможем обращаться к нужным строкам используя `id` категори."
   ]
  },
  {
   "cell_type": "code",
   "execution_count": 42,
   "metadata": {},
   "outputs": [
    {
     "data": {
      "text/html": [
       "<div>\n",
       "<style scoped>\n",
       "    .dataframe tbody tr th:only-of-type {\n",
       "        vertical-align: middle;\n",
       "    }\n",
       "\n",
       "    .dataframe tbody tr th {\n",
       "        vertical-align: top;\n",
       "    }\n",
       "\n",
       "    .dataframe thead th {\n",
       "        text-align: right;\n",
       "    }\n",
       "</style>\n",
       "<table border=\"1\" class=\"dataframe\">\n",
       "  <thead>\n",
       "    <tr style=\"text-align: right;\">\n",
       "      <th></th>\n",
       "      <th>education</th>\n",
       "      <th>education_id</th>\n",
       "    </tr>\n",
       "  </thead>\n",
       "  <tbody>\n",
       "    <tr>\n",
       "      <td>0</td>\n",
       "      <td>высшее</td>\n",
       "      <td>0</td>\n",
       "    </tr>\n",
       "    <tr>\n",
       "      <td>1</td>\n",
       "      <td>среднее</td>\n",
       "      <td>1</td>\n",
       "    </tr>\n",
       "    <tr>\n",
       "      <td>2</td>\n",
       "      <td>неоконченное высшее</td>\n",
       "      <td>2</td>\n",
       "    </tr>\n",
       "    <tr>\n",
       "      <td>3</td>\n",
       "      <td>начальное</td>\n",
       "      <td>3</td>\n",
       "    </tr>\n",
       "    <tr>\n",
       "      <td>4</td>\n",
       "      <td>ученая степень</td>\n",
       "      <td>4</td>\n",
       "    </tr>\n",
       "  </tbody>\n",
       "</table>\n",
       "</div>"
      ],
      "text/plain": [
       "             education  education_id\n",
       "0               высшее             0\n",
       "1              среднее             1\n",
       "2  неоконченное высшее             2\n",
       "3            начальное             3\n",
       "4       ученая степень             4"
      ]
     },
     "execution_count": 42,
     "metadata": {},
     "output_type": "execute_result"
    }
   ],
   "source": [
    "df[['education', 'education_id']].drop_duplicates().reset_index(drop=True) # словарь для 'education'"
   ]
  },
  {
   "cell_type": "code",
   "execution_count": 43,
   "metadata": {},
   "outputs": [
    {
     "data": {
      "text/html": [
       "<div>\n",
       "<style scoped>\n",
       "    .dataframe tbody tr th:only-of-type {\n",
       "        vertical-align: middle;\n",
       "    }\n",
       "\n",
       "    .dataframe tbody tr th {\n",
       "        vertical-align: top;\n",
       "    }\n",
       "\n",
       "    .dataframe thead th {\n",
       "        text-align: right;\n",
       "    }\n",
       "</style>\n",
       "<table border=\"1\" class=\"dataframe\">\n",
       "  <thead>\n",
       "    <tr style=\"text-align: right;\">\n",
       "      <th></th>\n",
       "      <th>family_status</th>\n",
       "      <th>family_status_id</th>\n",
       "    </tr>\n",
       "  </thead>\n",
       "  <tbody>\n",
       "    <tr>\n",
       "      <td>0</td>\n",
       "      <td>женат / замужем</td>\n",
       "      <td>0</td>\n",
       "    </tr>\n",
       "    <tr>\n",
       "      <td>1</td>\n",
       "      <td>гражданский брак</td>\n",
       "      <td>1</td>\n",
       "    </tr>\n",
       "    <tr>\n",
       "      <td>2</td>\n",
       "      <td>вдовец / вдова</td>\n",
       "      <td>2</td>\n",
       "    </tr>\n",
       "    <tr>\n",
       "      <td>3</td>\n",
       "      <td>в разводе</td>\n",
       "      <td>3</td>\n",
       "    </tr>\n",
       "    <tr>\n",
       "      <td>4</td>\n",
       "      <td>Не женат / не замужем</td>\n",
       "      <td>4</td>\n",
       "    </tr>\n",
       "  </tbody>\n",
       "</table>\n",
       "</div>"
      ],
      "text/plain": [
       "           family_status  family_status_id\n",
       "0        женат / замужем                 0\n",
       "1       гражданский брак                 1\n",
       "2         вдовец / вдова                 2\n",
       "3              в разводе                 3\n",
       "4  Не женат / не замужем                 4"
      ]
     },
     "execution_count": 43,
     "metadata": {},
     "output_type": "execute_result"
    }
   ],
   "source": [
    "df[['family_status', 'family_status_id']].drop_duplicates().reset_index(drop=True) # словарь для 'family_status'"
   ]
  },
  {
   "cell_type": "markdown",
   "metadata": {},
   "source": [
    "В исследовании нам нужно найти зависимость между уровнем дохода и возврата кредита в срок.\n",
    "C помощью метода `qcut()` получим 3 равные категории дохода.\n",
    "\n",
    "Категории дохода:\n",
    "* низкий - `20666 - 119261`\n",
    "* средний - `119261 - 172357`\n",
    "* высокий - `172357 - 2265604`"
   ]
  },
  {
   "cell_type": "code",
   "execution_count": 44,
   "metadata": {
    "scrolled": true
   },
   "outputs": [
    {
     "data": {
      "text/plain": [
       "0        (172357, 2265604]\n",
       "1          (20666, 119261]\n",
       "2         (119261, 172357]\n",
       "3        (172357, 2265604]\n",
       "4         (119261, 172357]\n",
       "               ...        \n",
       "21449    (172357, 2265604]\n",
       "21450     (119261, 172357]\n",
       "21451      (20666, 119261]\n",
       "21452    (172357, 2265604]\n",
       "21453      (20666, 119261]\n",
       "Name: total_income, Length: 21454, dtype: category\n",
       "Categories (3, interval[int64]): [(20666, 119261] < (119261, 172357] < (172357, 2265604]]"
      ]
     },
     "execution_count": 44,
     "metadata": {},
     "output_type": "execute_result"
    }
   ],
   "source": [
    "pd.qcut(df['total_income'], q = 3, precision = 0) # определим категории доходов "
   ]
  },
  {
   "cell_type": "markdown",
   "metadata": {},
   "source": [
    "Напишем функцию, которая будет брать значение из столбца `total_income` и присваивать ему категорию:"
   ]
  },
  {
   "cell_type": "code",
   "execution_count": 45,
   "metadata": {},
   "outputs": [],
   "source": [
    "def income_cat(row):\n",
    "    if row < 119261:\n",
    "        return 'низкий'\n",
    "    if row < 172357:\n",
    "        return 'средний'\n",
    "    if row <= 2265604:\n",
    "        return 'высокий'"
   ]
  },
  {
   "cell_type": "markdown",
   "metadata": {},
   "source": [
    "С помощью метода `apply()` вызовем функцию `income_cat()` для всех строк, полученый результат сохраним в новом столбце `income_category`:"
   ]
  },
  {
   "cell_type": "code",
   "execution_count": 46,
   "metadata": {},
   "outputs": [],
   "source": [
    "df['income_category'] = df['total_income'].apply(income_cat) # добавление нового столбца 'income_category'"
   ]
  },
  {
   "cell_type": "markdown",
   "metadata": {},
   "source": [
    "Так же в исследовании нам нужно определить есть ли зависимость между наличием детей и возвратом кредита в срок.\n",
    "Поэтому выделим новую категорию и создадим для нее столбец `children_category`."
   ]
  },
  {
   "cell_type": "markdown",
   "metadata": {},
   "source": [
    "Напишем функцию, которая будет брать значение из столбца `children` и определять наличие детей."
   ]
  },
  {
   "cell_type": "code",
   "execution_count": 47,
   "metadata": {},
   "outputs": [],
   "source": [
    "def children_cat(row):\n",
    "    if row < 1:\n",
    "        return 'yes'\n",
    "    if row >= 1:\n",
    "        return 'no'"
   ]
  },
  {
   "cell_type": "markdown",
   "metadata": {},
   "source": [
    "Вызовем эту функцию для всех строк и сохраним результат в новом столбце:"
   ]
  },
  {
   "cell_type": "code",
   "execution_count": 48,
   "metadata": {},
   "outputs": [],
   "source": [
    "# применение функции children_cat() и сохранение результата в новом столбце\n",
    "df['children_category'] = df['children'].apply(children_cat) "
   ]
  },
  {
   "cell_type": "markdown",
   "metadata": {},
   "source": [
    "Теперь нам нужно определить категории целей кредита.\n",
    "\n",
    "Для этого вызовем метод `unique()` и посмотрим уникальные значения в столбце с леммами целей."
   ]
  },
  {
   "cell_type": "code",
   "execution_count": 49,
   "metadata": {},
   "outputs": [
    {
     "data": {
      "text/plain": [
       "array(['покупка жилье\\n', 'приобретение автомобиль\\n',\n",
       "       'дополнительный образование\\n', 'сыграть свадьба\\n',\n",
       "       'операция с жилье\\n', 'образование\\n', 'на проведение свадьба\\n',\n",
       "       'покупка жилье для семья\\n', 'покупка недвижимость\\n',\n",
       "       'покупка коммерческий недвижимость\\n',\n",
       "       'покупка жилой недвижимость\\n',\n",
       "       'строительство собственный недвижимость\\n', 'недвижимость\\n',\n",
       "       'строительство недвижимость\\n',\n",
       "       'на покупка подержать автомобиль\\n',\n",
       "       'на покупка свой автомобиль\\n',\n",
       "       'операция с коммерческий недвижимость\\n',\n",
       "       'строительство жилой недвижимость\\n', 'жилье\\n',\n",
       "       'операция со свой недвижимость\\n', 'автомобиль\\n',\n",
       "       'заниматься образование\\n', 'сделка с подержанный автомобиль\\n',\n",
       "       'получение образование\\n', 'свадьба\\n',\n",
       "       'получение дополнительный образование\\n', 'покупка свой жилье\\n',\n",
       "       'операция с недвижимость\\n', 'получение высокий образование\\n',\n",
       "       'свой автомобиль\\n', 'сделка с автомобиль\\n',\n",
       "       'профильный образование\\n', 'высокий образование\\n',\n",
       "       'покупка жилье для сдача\\n', 'на покупка автомобиль\\n',\n",
       "       'ремонт жилье\\n', 'заниматься высокий образование\\n'], dtype=object)"
      ]
     },
     "execution_count": 49,
     "metadata": {},
     "output_type": "execute_result"
    }
   ],
   "source": [
    "df['lemmas'].unique()"
   ]
  },
  {
   "cell_type": "markdown",
   "metadata": {},
   "source": [
    "Исходя из списка целей можно выделить следующие категории:\n",
    "\n",
    "* недвижимость(жилье)\n",
    "* автомобиль\n",
    "* образование\n",
    "* свадьба\n"
   ]
  },
  {
   "cell_type": "markdown",
   "metadata": {},
   "source": [
    "Напишем функцию которая присвоит категории целям кредита по столбцу `lemmas`:"
   ]
  },
  {
   "cell_type": "code",
   "execution_count": 50,
   "metadata": {},
   "outputs": [],
   "source": [
    "def purpose_category(row):\n",
    "    if 'недвижимость' in row  or 'жилье' in row:\n",
    "        return 'недвижимость'\n",
    "    if 'автомобиль' in row:\n",
    "        return 'автомобиль'\n",
    "    if 'образование' in row:\n",
    "        return 'образование'\n",
    "    if 'свадьба' in row:\n",
    "        return 'свадьба'"
   ]
  },
  {
   "cell_type": "markdown",
   "metadata": {},
   "source": [
    "С помощью метода `apply()` вызовем функцию `purpose_category()` для всех строк, полученый результат сохраним в новом столбце `purpose_category`:"
   ]
  },
  {
   "cell_type": "code",
   "execution_count": 51,
   "metadata": {},
   "outputs": [],
   "source": [
    "df['purpose_category'] = df['lemmas'].apply(purpose_category)"
   ]
  },
  {
   "cell_type": "markdown",
   "metadata": {},
   "source": [
    "**Вывод**\n",
    "\n",
    "Создали словари для быстрого обращения к строкам по `education_id` и `family_status_id`. \n",
    "Добавили три новых столбца в датасет с категориями дохода `income_category`, наличием детей `children_category` и категорией целей кредита `purpose_category`."
   ]
  },
  {
   "cell_type": "markdown",
   "metadata": {},
   "source": [
    "## Шаг 3. Ответьте на вопросы"
   ]
  },
  {
   "cell_type": "markdown",
   "metadata": {},
   "source": [
    "- **Есть ли зависимость между наличием детей и возвратом кредита в срок?**\n",
    "\n",
    "Для ответа на этот вопрос создадим сводную таблицу, которая покажет клиентов без детей и с детьми, с разделением на должников и тех кто платил во вреемя:"
   ]
  },
  {
   "cell_type": "code",
   "execution_count": 52,
   "metadata": {
    "scrolled": false
   },
   "outputs": [
    {
     "data": {
      "text/html": [
       "<div>\n",
       "<style scoped>\n",
       "    .dataframe tbody tr th:only-of-type {\n",
       "        vertical-align: middle;\n",
       "    }\n",
       "\n",
       "    .dataframe tbody tr th {\n",
       "        vertical-align: top;\n",
       "    }\n",
       "\n",
       "    .dataframe thead th {\n",
       "        text-align: right;\n",
       "    }\n",
       "</style>\n",
       "<table border=\"1\" class=\"dataframe\">\n",
       "  <thead>\n",
       "    <tr style=\"text-align: right;\">\n",
       "      <th>debt</th>\n",
       "      <th>children_category</th>\n",
       "      <th>0</th>\n",
       "      <th>1</th>\n",
       "    </tr>\n",
       "  </thead>\n",
       "  <tbody>\n",
       "    <tr>\n",
       "      <td>0</td>\n",
       "      <td>no</td>\n",
       "      <td>6685</td>\n",
       "      <td>678</td>\n",
       "    </tr>\n",
       "    <tr>\n",
       "      <td>1</td>\n",
       "      <td>yes</td>\n",
       "      <td>13028</td>\n",
       "      <td>1063</td>\n",
       "    </tr>\n",
       "  </tbody>\n",
       "</table>\n",
       "</div>"
      ],
      "text/plain": [
       "debt children_category      0     1\n",
       "0                   no   6685   678\n",
       "1                  yes  13028  1063"
      ]
     },
     "execution_count": 52,
     "metadata": {},
     "output_type": "execute_result"
    }
   ],
   "source": [
    "pivot_children_debt = df.pivot_table(index=['children_category'], columns='debt', values='gender', aggfunc='count') # сводна таблица\n",
    "pivot_children_debt.reset_index() # удалим мултииндекс"
   ]
  },
  {
   "cell_type": "markdown",
   "metadata": {},
   "source": [
    "Оределим долю клиентов которые `не имеют` детей и `не имели` задолжностей по кредитам:"
   ]
  },
  {
   "cell_type": "code",
   "execution_count": 53,
   "metadata": {},
   "outputs": [
    {
     "data": {
      "text/plain": [
       "'Доля клиентов не имеющих детей и не имевших задолжностей по кредиту составляет: 91%'"
      ]
     },
     "execution_count": 53,
     "metadata": {},
     "output_type": "execute_result"
    }
   ],
   "source": [
    "no_children = pivot_children_debt.loc['no', 0]/(pivot_children_debt.loc['no',0] + pivot_children_debt.loc['no',1])\n",
    "'Доля клиентов не имеющих детей и не имевших задолжностей по кредиту составляет: {:.0%}'.format(no_children)"
   ]
  },
  {
   "cell_type": "markdown",
   "metadata": {},
   "source": [
    "Оределим долю клиентов которые `имеют` детей и `не имели` задолжностей по кредитам:"
   ]
  },
  {
   "cell_type": "code",
   "execution_count": 54,
   "metadata": {},
   "outputs": [
    {
     "data": {
      "text/plain": [
       "'Доля клиентов имеющих детей и не имевших задолжностей по кредиту составляет: 92%'"
      ]
     },
     "execution_count": 54,
     "metadata": {},
     "output_type": "execute_result"
    }
   ],
   "source": [
    "yes_children = pivot_children_debt.loc['yes', 0]/(pivot_children_debt.loc['yes',0] + pivot_children_debt.loc['yes',1])\n",
    "'Доля клиентов имеющих детей и не имевших задолжностей по кредиту составляет: {:.0%}'.format(yes_children)"
   ]
  },
  {
   "cell_type": "markdown",
   "metadata": {},
   "source": [
    "**Вывод:**\n",
    "\n",
    "\n",
    "Не зависимо от того есть у клиентов дети или нет, в 91% и 92% случаев они не имели задолжности по кредиту."
   ]
  },
  {
   "cell_type": "markdown",
   "metadata": {},
   "source": [
    "- **Есть ли зависимость между семейным положением и возвратом кредита в срок?**\n",
    "\n",
    "\n",
    "Для ответа на этот вопрос создадим сводную таблицу, которая покажет клиентов находящихся в разном семейном положении, с разделением на должников и тех кто платил во вреемя:"
   ]
  },
  {
   "cell_type": "code",
   "execution_count": 55,
   "metadata": {},
   "outputs": [
    {
     "data": {
      "text/html": [
       "<div>\n",
       "<style scoped>\n",
       "    .dataframe tbody tr th:only-of-type {\n",
       "        vertical-align: middle;\n",
       "    }\n",
       "\n",
       "    .dataframe tbody tr th {\n",
       "        vertical-align: top;\n",
       "    }\n",
       "\n",
       "    .dataframe thead th {\n",
       "        text-align: right;\n",
       "    }\n",
       "</style>\n",
       "<table border=\"1\" class=\"dataframe\">\n",
       "  <thead>\n",
       "    <tr style=\"text-align: right;\">\n",
       "      <th></th>\n",
       "      <th>debt</th>\n",
       "      <th>0</th>\n",
       "      <th>1</th>\n",
       "    </tr>\n",
       "    <tr>\n",
       "      <th>family_status_id</th>\n",
       "      <th>family_status</th>\n",
       "      <th></th>\n",
       "      <th></th>\n",
       "    </tr>\n",
       "  </thead>\n",
       "  <tbody>\n",
       "    <tr>\n",
       "      <td>0</td>\n",
       "      <td>женат / замужем</td>\n",
       "      <td>11408</td>\n",
       "      <td>931</td>\n",
       "    </tr>\n",
       "    <tr>\n",
       "      <td>1</td>\n",
       "      <td>гражданский брак</td>\n",
       "      <td>3763</td>\n",
       "      <td>388</td>\n",
       "    </tr>\n",
       "    <tr>\n",
       "      <td>2</td>\n",
       "      <td>вдовец / вдова</td>\n",
       "      <td>896</td>\n",
       "      <td>63</td>\n",
       "    </tr>\n",
       "    <tr>\n",
       "      <td>3</td>\n",
       "      <td>в разводе</td>\n",
       "      <td>1110</td>\n",
       "      <td>85</td>\n",
       "    </tr>\n",
       "    <tr>\n",
       "      <td>4</td>\n",
       "      <td>Не женат / не замужем</td>\n",
       "      <td>2536</td>\n",
       "      <td>274</td>\n",
       "    </tr>\n",
       "  </tbody>\n",
       "</table>\n",
       "</div>"
      ],
      "text/plain": [
       "debt                                        0    1\n",
       "family_status_id family_status                    \n",
       "0                женат / замужем        11408  931\n",
       "1                гражданский брак        3763  388\n",
       "2                вдовец / вдова           896   63\n",
       "3                в разводе               1110   85\n",
       "4                Не женат / не замужем   2536  274"
      ]
     },
     "execution_count": 55,
     "metadata": {},
     "output_type": "execute_result"
    }
   ],
   "source": [
    "pivot_family_status = df.pivot_table(index = ['family_status_id','family_status'], columns = 'debt', values = 'gender', aggfunc = 'count')\n",
    "pivot_family_status"
   ]
  },
  {
   "cell_type": "markdown",
   "metadata": {},
   "source": [
    "Создал новый датафрейм т.к при извлечении нужных значений из сводной таблицы возникли проблемы :("
   ]
  },
  {
   "cell_type": "code",
   "execution_count": 56,
   "metadata": {},
   "outputs": [
    {
     "data": {
      "text/html": [
       "<div>\n",
       "<style scoped>\n",
       "    .dataframe tbody tr th:only-of-type {\n",
       "        vertical-align: middle;\n",
       "    }\n",
       "\n",
       "    .dataframe tbody tr th {\n",
       "        vertical-align: top;\n",
       "    }\n",
       "\n",
       "    .dataframe thead th {\n",
       "        text-align: right;\n",
       "    }\n",
       "</style>\n",
       "<table border=\"1\" class=\"dataframe\">\n",
       "  <thead>\n",
       "    <tr style=\"text-align: right;\">\n",
       "      <th></th>\n",
       "      <th>family_status_id</th>\n",
       "      <th>не должник</th>\n",
       "      <th>должник</th>\n",
       "    </tr>\n",
       "  </thead>\n",
       "  <tbody>\n",
       "    <tr>\n",
       "      <td>0</td>\n",
       "      <td>0</td>\n",
       "      <td>11408</td>\n",
       "      <td>931</td>\n",
       "    </tr>\n",
       "    <tr>\n",
       "      <td>1</td>\n",
       "      <td>1</td>\n",
       "      <td>3763</td>\n",
       "      <td>388</td>\n",
       "    </tr>\n",
       "    <tr>\n",
       "      <td>2</td>\n",
       "      <td>2</td>\n",
       "      <td>896</td>\n",
       "      <td>63</td>\n",
       "    </tr>\n",
       "    <tr>\n",
       "      <td>3</td>\n",
       "      <td>3</td>\n",
       "      <td>1110</td>\n",
       "      <td>85</td>\n",
       "    </tr>\n",
       "    <tr>\n",
       "      <td>4</td>\n",
       "      <td>4</td>\n",
       "      <td>2536</td>\n",
       "      <td>247</td>\n",
       "    </tr>\n",
       "  </tbody>\n",
       "</table>\n",
       "</div>"
      ],
      "text/plain": [
       "   family_status_id  не должник  должник\n",
       "0                 0       11408      931\n",
       "1                 1        3763      388\n",
       "2                 2         896       63\n",
       "3                 3        1110       85\n",
       "4                 4        2536      247"
      ]
     },
     "execution_count": 56,
     "metadata": {},
     "output_type": "execute_result"
    }
   ],
   "source": [
    "data = [[0, 11408, 931],\n",
    "        [1, 3763, 388],\n",
    "        [2, 896,63],\n",
    "        [3,1110,85],\n",
    "        [4, 2536, 247]]\n",
    "columns = ['family_status_id', 'не должник', 'должник']\n",
    "pivot_family_status = pd.DataFrame(data = data, columns = columns)\n",
    "pivot_family_status"
   ]
  },
  {
   "cell_type": "markdown",
   "metadata": {},
   "source": [
    "Определим долю клиентов находящихся в `официальном браке` и не имевших задолжностей по кредиту:"
   ]
  },
  {
   "cell_type": "code",
   "execution_count": 57,
   "metadata": {},
   "outputs": [
    {
     "data": {
      "text/plain": [
       "'Доля клиентов находящихся в официальном браке и не имевших задолжностей по кредиту составляет: 92%'"
      ]
     },
     "execution_count": 57,
     "metadata": {},
     "output_type": "execute_result"
    }
   ],
   "source": [
    "family_status_0 = pivot_family_status.loc[0,'не должник']/(pivot_family_status.loc[0,'не должник'] + pivot_family_status.loc[0,'должник'])\n",
    "'Доля клиентов находящихся в официальном браке и не имевших задолжностей по кредиту составляет: {:.0%}'.format(family_status_0)"
   ]
  },
  {
   "cell_type": "markdown",
   "metadata": {},
   "source": [
    "Определим долю клиентов находящихся в `гражданском браке` и не имевших задолжностей по кредиту:"
   ]
  },
  {
   "cell_type": "code",
   "execution_count": 58,
   "metadata": {},
   "outputs": [
    {
     "data": {
      "text/plain": [
       "'Доля клиентов находящихся в гражданском браке и не имевших задолжностей по кредиту составляет: 91%'"
      ]
     },
     "execution_count": 58,
     "metadata": {},
     "output_type": "execute_result"
    }
   ],
   "source": [
    "family_status_1 = pivot_family_status.loc[1,'не должник']/(pivot_family_status.loc[1,'не должник'] + pivot_family_status.loc[1,'должник'])\n",
    "'Доля клиентов находящихся в гражданском браке и не имевших задолжностей по кредиту составляет: {:.0%}'.format(family_status_1)"
   ]
  },
  {
   "cell_type": "markdown",
   "metadata": {},
   "source": [
    "Определим долю клиентов в статусе `вдовец/вдова` и не имевших задолжностей по кредиту:"
   ]
  },
  {
   "cell_type": "code",
   "execution_count": 59,
   "metadata": {},
   "outputs": [
    {
     "data": {
      "text/plain": [
       "'Доля клиентов в статусе вдовец/вдова и не имевших задолжностей по кредиту составляет: 93%'"
      ]
     },
     "execution_count": 59,
     "metadata": {},
     "output_type": "execute_result"
    }
   ],
   "source": [
    "family_status_2 = pivot_family_status.loc[2,'не должник']/(pivot_family_status.loc[2,'не должник'] + pivot_family_status.loc[2,'должник'])\n",
    "'Доля клиентов в статусе вдовец/вдова и не имевших задолжностей по кредиту составляет: {:.0%}'.format(family_status_2)"
   ]
  },
  {
   "cell_type": "markdown",
   "metadata": {},
   "source": [
    "Определим долю клиентов находящихся `в разводе` и не имевших задолжностей по кредиту:"
   ]
  },
  {
   "cell_type": "code",
   "execution_count": 60,
   "metadata": {},
   "outputs": [
    {
     "data": {
      "text/plain": [
       "'Доля клиентов находящихся в разводе и не имевших задолжностей по кредиту составляет: 93%'"
      ]
     },
     "execution_count": 60,
     "metadata": {},
     "output_type": "execute_result"
    }
   ],
   "source": [
    "family_status_3 = pivot_family_status.loc[3,'не должник']/(pivot_family_status.loc[3,'не должник'] + pivot_family_status.loc[3,'должник'])\n",
    "'Доля клиентов находящихся в разводе и не имевших задолжностей по кредиту составляет: {:.0%}'.format(family_status_3)"
   ]
  },
  {
   "cell_type": "markdown",
   "metadata": {},
   "source": [
    "Определим долю клиентов находящихся статусе `не женат/не замужем` и не имевших задолжностей по кредиту:"
   ]
  },
  {
   "cell_type": "code",
   "execution_count": 61,
   "metadata": {},
   "outputs": [
    {
     "data": {
      "text/plain": [
       "'Доля клиентов находящихся статусе не женат/не замужем и не имевших задолжностей по кредиту составляет: 91%'"
      ]
     },
     "execution_count": 61,
     "metadata": {},
     "output_type": "execute_result"
    }
   ],
   "source": [
    "family_status_4 = pivot_family_status.loc[4,'не должник']/(pivot_family_status.loc[4,'не должник'] + pivot_family_status.loc[4,'должник'])\n",
    "'Доля клиентов находящихся статусе не женат/не замужем и не имевших задолжностей по кредиту составляет: {:.0%}'.format(family_status_4)"
   ]
  },
  {
   "cell_type": "markdown",
   "metadata": {},
   "source": [
    "**Вывод:**\n",
    "\n",
    "Не зависимо от семейного положения клиентов в 91-93% случаев они не имели задолжности по кредиту."
   ]
  },
  {
   "cell_type": "markdown",
   "metadata": {},
   "source": [
    "- **Есть ли зависимость между уровнем дохода и возвратом кредита в срок?**\n",
    "\n",
    "Для ответа на этот вопрос создадим сводную таблицу, которая покажет клиентов по  категориям дохода, с разделением на должников и тех кто платил во вреемя:"
   ]
  },
  {
   "cell_type": "code",
   "execution_count": 62,
   "metadata": {},
   "outputs": [
    {
     "data": {
      "text/html": [
       "<div>\n",
       "<style scoped>\n",
       "    .dataframe tbody tr th:only-of-type {\n",
       "        vertical-align: middle;\n",
       "    }\n",
       "\n",
       "    .dataframe tbody tr th {\n",
       "        vertical-align: top;\n",
       "    }\n",
       "\n",
       "    .dataframe thead th {\n",
       "        text-align: right;\n",
       "    }\n",
       "</style>\n",
       "<table border=\"1\" class=\"dataframe\">\n",
       "  <thead>\n",
       "    <tr style=\"text-align: right;\">\n",
       "      <th>debt</th>\n",
       "      <th>income_category</th>\n",
       "      <th>0</th>\n",
       "      <th>1</th>\n",
       "    </tr>\n",
       "  </thead>\n",
       "  <tbody>\n",
       "    <tr>\n",
       "      <td>0</td>\n",
       "      <td>высокий</td>\n",
       "      <td>6961</td>\n",
       "      <td>558</td>\n",
       "    </tr>\n",
       "    <tr>\n",
       "      <td>1</td>\n",
       "      <td>низкий</td>\n",
       "      <td>6570</td>\n",
       "      <td>581</td>\n",
       "    </tr>\n",
       "    <tr>\n",
       "      <td>2</td>\n",
       "      <td>средний</td>\n",
       "      <td>6182</td>\n",
       "      <td>602</td>\n",
       "    </tr>\n",
       "  </tbody>\n",
       "</table>\n",
       "</div>"
      ],
      "text/plain": [
       "debt income_category     0    1\n",
       "0            высокий  6961  558\n",
       "1             низкий  6570  581\n",
       "2            средний  6182  602"
      ]
     },
     "execution_count": 62,
     "metadata": {},
     "output_type": "execute_result"
    }
   ],
   "source": [
    "pivot_income_debt = df.pivot_table(index = 'income_category', columns = 'debt', values = 'gender', aggfunc = 'count')\n",
    "pivot_income_debt.reset_index() # удалим мультииндекс"
   ]
  },
  {
   "cell_type": "markdown",
   "metadata": {},
   "source": [
    "Определим долю клиентов имеющих `высокий` доход и не имевших задолжностей по кредиту:"
   ]
  },
  {
   "cell_type": "code",
   "execution_count": 63,
   "metadata": {},
   "outputs": [
    {
     "data": {
      "text/plain": [
       "'Доля клиентов имеющих высокий доход и не имевших задолжностей по кредиту составляет: 93%'"
      ]
     },
     "execution_count": 63,
     "metadata": {},
     "output_type": "execute_result"
    }
   ],
   "source": [
    "income_max = pivot_income_debt.loc['высокий', 0] / (pivot_income_debt.loc['высокий', 0] + pivot_income_debt.loc['высокий', 1])\n",
    "'Доля клиентов имеющих высокий доход и не имевших задолжностей по кредиту составляет: {:.0%}'.format(income_max)"
   ]
  },
  {
   "cell_type": "markdown",
   "metadata": {},
   "source": [
    "Определим долю клиентов имеющих `низкий` доход и не имевших задолжностей по кредиту:"
   ]
  },
  {
   "cell_type": "code",
   "execution_count": 64,
   "metadata": {},
   "outputs": [
    {
     "data": {
      "text/plain": [
       "'Доля клиентов имеющих низкий доход и не имевших задолжностей по кредиту составляет: 92%'"
      ]
     },
     "execution_count": 64,
     "metadata": {},
     "output_type": "execute_result"
    }
   ],
   "source": [
    "income_min = pivot_income_debt.loc['низкий', 0] / (pivot_income_debt.loc['низкий', 0] + pivot_income_debt.loc['низкий', 1])\n",
    "'Доля клиентов имеющих низкий доход и не имевших задолжностей по кредиту составляет: {:.0%}'.format(income_min)"
   ]
  },
  {
   "cell_type": "markdown",
   "metadata": {},
   "source": [
    "Определим долю клиентов имеющих `средний` доход и не имевших задолжностей по кредиту:"
   ]
  },
  {
   "cell_type": "code",
   "execution_count": 65,
   "metadata": {},
   "outputs": [
    {
     "data": {
      "text/plain": [
       "'Доля клиентов имеющих средний доход и не имевших задолжностей по кредиту составляет: 91%'"
      ]
     },
     "execution_count": 65,
     "metadata": {},
     "output_type": "execute_result"
    }
   ],
   "source": [
    "income_mean = pivot_income_debt.loc['средний', 0] / (pivot_income_debt.loc['средний', 0] + pivot_income_debt.loc['средний', 1])\n",
    "'Доля клиентов имеющих средний доход и не имевших задолжностей по кредиту составляет: {:.0%}'.format(income_mean)"
   ]
  },
  {
   "cell_type": "markdown",
   "metadata": {},
   "source": [
    "**Вывод:**\n",
    "\n",
    "Не зависимо от уровня доходов клиентов в 91-93% случаев они не имели задолжности по кредиту."
   ]
  },
  {
   "cell_type": "markdown",
   "metadata": {},
   "source": [
    "- **Как разные цели кредита влияют на его возврат в срок?**\n",
    "\n",
    "Для ответа на этот вопрос создадим сводную таблицу, которая покажет клиентов по категориям целей кредита, с разделением на должников и тех кто платил во вреемя:"
   ]
  },
  {
   "cell_type": "code",
   "execution_count": 66,
   "metadata": {},
   "outputs": [
    {
     "data": {
      "text/html": [
       "<div>\n",
       "<style scoped>\n",
       "    .dataframe tbody tr th:only-of-type {\n",
       "        vertical-align: middle;\n",
       "    }\n",
       "\n",
       "    .dataframe tbody tr th {\n",
       "        vertical-align: top;\n",
       "    }\n",
       "\n",
       "    .dataframe thead th {\n",
       "        text-align: right;\n",
       "    }\n",
       "</style>\n",
       "<table border=\"1\" class=\"dataframe\">\n",
       "  <thead>\n",
       "    <tr style=\"text-align: right;\">\n",
       "      <th>debt</th>\n",
       "      <th>purpose_category</th>\n",
       "      <th>0</th>\n",
       "      <th>1</th>\n",
       "    </tr>\n",
       "  </thead>\n",
       "  <tbody>\n",
       "    <tr>\n",
       "      <td>0</td>\n",
       "      <td>автомобиль</td>\n",
       "      <td>3903</td>\n",
       "      <td>403</td>\n",
       "    </tr>\n",
       "    <tr>\n",
       "      <td>1</td>\n",
       "      <td>недвижимость</td>\n",
       "      <td>10029</td>\n",
       "      <td>782</td>\n",
       "    </tr>\n",
       "    <tr>\n",
       "      <td>2</td>\n",
       "      <td>образование</td>\n",
       "      <td>3643</td>\n",
       "      <td>370</td>\n",
       "    </tr>\n",
       "    <tr>\n",
       "      <td>3</td>\n",
       "      <td>свадьба</td>\n",
       "      <td>2138</td>\n",
       "      <td>186</td>\n",
       "    </tr>\n",
       "  </tbody>\n",
       "</table>\n",
       "</div>"
      ],
      "text/plain": [
       "debt purpose_category      0    1\n",
       "0          автомобиль   3903  403\n",
       "1        недвижимость  10029  782\n",
       "2         образование   3643  370\n",
       "3             свадьба   2138  186"
      ]
     },
     "execution_count": 66,
     "metadata": {},
     "output_type": "execute_result"
    }
   ],
   "source": [
    "pivot_purpose_debt = df.pivot_table(index = 'purpose_category', columns = 'debt', values = 'gender', aggfunc = 'count')\n",
    "pivot_purpose_debt.reset_index() # удалим мультииндекс"
   ]
  },
  {
   "cell_type": "markdown",
   "metadata": {},
   "source": [
    "Определим долю клиентов с целью кредита `'автомобиль'` и не имевших задолжностей по кредиту:"
   ]
  },
  {
   "cell_type": "code",
   "execution_count": 67,
   "metadata": {},
   "outputs": [
    {
     "data": {
      "text/plain": [
       "'Доля клиентов c целью кредита автомобиль не имевших задолжностей по кредиту составляет: 91%'"
      ]
     },
     "execution_count": 67,
     "metadata": {},
     "output_type": "execute_result"
    }
   ],
   "source": [
    "purpose_automobile = pivot_purpose_debt.loc['автомобиль', 0] / (pivot_purpose_debt.loc['автомобиль', 0] + pivot_purpose_debt.loc['автомобиль', 1])\n",
    "'Доля клиентов c целью кредита автомобиль не имевших задолжностей по кредиту составляет: {:.0%}'.format(income_mean)"
   ]
  },
  {
   "cell_type": "markdown",
   "metadata": {},
   "source": [
    "Определим долю клиентов с целью кредита `'недвижимость'` и не имевших задолжностей по кредиту:"
   ]
  },
  {
   "cell_type": "code",
   "execution_count": 68,
   "metadata": {},
   "outputs": [
    {
     "data": {
      "text/plain": [
       "'Доля клиентов c целью кредита недвижимость не имевших задолжностей по кредиту составляет: 93%'"
      ]
     },
     "execution_count": 68,
     "metadata": {},
     "output_type": "execute_result"
    }
   ],
   "source": [
    "purpose_immovables = pivot_purpose_debt.loc['недвижимость', 0] / (pivot_purpose_debt.loc['недвижимость', 0] + pivot_purpose_debt.loc['недвижимость', 1])\n",
    "'Доля клиентов c целью кредита недвижимость не имевших задолжностей по кредиту составляет: {:.0%}'.format(purpose_immovables)"
   ]
  },
  {
   "cell_type": "markdown",
   "metadata": {},
   "source": [
    "Определим долю клиентов с целью кредита `'образование'` и не имевших задолжностей по кредиту:"
   ]
  },
  {
   "cell_type": "code",
   "execution_count": 69,
   "metadata": {},
   "outputs": [
    {
     "data": {
      "text/plain": [
       "'Доля клиентов c целью кредита недвижимость не имевших задолжностей по кредиту составляет: 91%'"
      ]
     },
     "execution_count": 69,
     "metadata": {},
     "output_type": "execute_result"
    }
   ],
   "source": [
    "purpose_education = pivot_purpose_debt.loc['образование', 0] / (pivot_purpose_debt.loc['образование', 0] + pivot_purpose_debt.loc['образование', 1])\n",
    "'Доля клиентов c целью кредита недвижимость не имевших задолжностей по кредиту составляет: {:.0%}'.format(purpose_education)"
   ]
  },
  {
   "cell_type": "markdown",
   "metadata": {},
   "source": [
    "Определим долю клиентов с целью кредита `'свадьба'` и не имевших задолжностей по кредиту:"
   ]
  },
  {
   "cell_type": "code",
   "execution_count": 70,
   "metadata": {},
   "outputs": [
    {
     "data": {
      "text/plain": [
       "'Доля клиентов c целью кредита недвижимость не имевших задолжностей по кредиту составляет: 92%'"
      ]
     },
     "execution_count": 70,
     "metadata": {},
     "output_type": "execute_result"
    }
   ],
   "source": [
    "purpose_wedding = pivot_purpose_debt.loc['свадьба', 0] / (pivot_purpose_debt.loc['свадьба', 0] + pivot_purpose_debt.loc['свадьба', 1])\n",
    "'Доля клиентов c целью кредита недвижимость не имевших задолжностей по кредиту составляет: {:.0%}'.format(purpose_wedding)"
   ]
  },
  {
   "cell_type": "markdown",
   "metadata": {},
   "source": [
    "**Вывод:**\n",
    "\n",
    "Не зависимо от целей кредита клиентов в 91-93% случаев они не имели задолжности по кредиту."
   ]
  },
  {
   "cell_type": "markdown",
   "metadata": {},
   "source": [
    "## Шаг 4. Общий вывод"
   ]
  },
  {
   "cell_type": "markdown",
   "metadata": {},
   "source": [
    "**Ответив на все вопросы в исследовании можно сделать вывод:**\n",
    "\n",
    "**Зависимости между наличием детей, семейным положением, уровнем дохода и возвратом кредита в срок нет. Так же разные цели кредита никак не влияют на его возврат в срок. Во всех случаях процент добросовестных клиентов находится в диапазоне 91-93%.**"
   ]
  }
 ],
 "metadata": {
  "ExecuteTimeLog": [
   {
    "duration": 576,
    "start_time": "2022-01-26T09:27:24.600Z"
   },
   {
    "duration": 56,
    "start_time": "2022-01-26T09:28:08.129Z"
   },
   {
    "duration": 30,
    "start_time": "2022-01-26T09:28:11.696Z"
   },
   {
    "duration": 14,
    "start_time": "2022-01-26T09:28:52.178Z"
   },
   {
    "duration": 13,
    "start_time": "2022-01-26T09:30:28.654Z"
   },
   {
    "duration": 576,
    "start_time": "2022-01-26T11:56:28.278Z"
   },
   {
    "duration": 703,
    "start_time": "2022-01-26T11:56:36.779Z"
   },
   {
    "duration": 66,
    "start_time": "2022-01-26T11:56:37.485Z"
   },
   {
    "duration": 31,
    "start_time": "2022-01-26T11:56:37.555Z"
   },
   {
    "duration": 17,
    "start_time": "2022-01-26T11:56:37.589Z"
   },
   {
    "duration": 263,
    "start_time": "2022-01-26T11:56:37.609Z"
   },
   {
    "duration": 7,
    "start_time": "2022-01-26T11:56:55.547Z"
   },
   {
    "duration": 3,
    "start_time": "2022-01-26T12:29:51.105Z"
   },
   {
    "duration": 71,
    "start_time": "2022-01-26T12:29:51.111Z"
   },
   {
    "duration": 19,
    "start_time": "2022-01-26T12:29:51.185Z"
   },
   {
    "duration": 18,
    "start_time": "2022-01-26T12:29:51.207Z"
   },
   {
    "duration": 27,
    "start_time": "2022-01-26T12:30:32.998Z"
   },
   {
    "duration": 12,
    "start_time": "2022-01-26T12:34:36.836Z"
   },
   {
    "duration": 12,
    "start_time": "2022-01-26T12:45:42.297Z"
   },
   {
    "duration": 257,
    "start_time": "2022-01-26T12:46:29.413Z"
   },
   {
    "duration": 8,
    "start_time": "2022-01-26T12:46:34.725Z"
   },
   {
    "duration": 7,
    "start_time": "2022-01-26T12:47:15.432Z"
   },
   {
    "duration": 20,
    "start_time": "2022-01-26T12:49:43.278Z"
   },
   {
    "duration": 22,
    "start_time": "2022-01-26T12:49:55.188Z"
   },
   {
    "duration": 11,
    "start_time": "2022-01-26T12:50:57.058Z"
   },
   {
    "duration": 8,
    "start_time": "2022-01-26T12:51:24.991Z"
   },
   {
    "duration": 245,
    "start_time": "2022-01-26T12:54:57.392Z"
   },
   {
    "duration": 8,
    "start_time": "2022-01-26T12:55:03.404Z"
   },
   {
    "duration": 8,
    "start_time": "2022-01-26T12:58:09.210Z"
   },
   {
    "duration": 8,
    "start_time": "2022-01-26T12:58:12.381Z"
   },
   {
    "duration": 7,
    "start_time": "2022-01-26T13:21:27.684Z"
   },
   {
    "duration": 8,
    "start_time": "2022-01-26T13:23:20.095Z"
   },
   {
    "duration": 276,
    "start_time": "2022-01-26T13:23:25.603Z"
   },
   {
    "duration": 26,
    "start_time": "2022-01-26T13:23:32.600Z"
   },
   {
    "duration": 43,
    "start_time": "2022-01-26T13:23:53.653Z"
   },
   {
    "duration": 49,
    "start_time": "2022-01-26T13:23:54.326Z"
   },
   {
    "duration": 114,
    "start_time": "2022-01-26T13:24:19.389Z"
   },
   {
    "duration": 1983,
    "start_time": "2022-01-26T13:24:46.906Z"
   },
   {
    "duration": 88,
    "start_time": "2022-01-26T13:24:50.489Z"
   },
   {
    "duration": 99,
    "start_time": "2022-01-26T13:24:51.847Z"
   },
   {
    "duration": 19,
    "start_time": "2022-01-26T13:24:58.578Z"
   },
   {
    "duration": 14,
    "start_time": "2022-01-26T13:25:13.590Z"
   },
   {
    "duration": 27,
    "start_time": "2022-01-26T13:25:17.147Z"
   },
   {
    "duration": 63,
    "start_time": "2022-01-26T13:25:18.505Z"
   },
   {
    "duration": 28,
    "start_time": "2022-01-26T13:26:06.875Z"
   },
   {
    "duration": 19,
    "start_time": "2022-01-26T13:28:04.817Z"
   },
   {
    "duration": 62,
    "start_time": "2022-01-26T13:29:48.588Z"
   },
   {
    "duration": 8,
    "start_time": "2022-01-26T13:30:51.090Z"
   },
   {
    "duration": 7,
    "start_time": "2022-01-26T13:31:03.773Z"
   },
   {
    "duration": 7,
    "start_time": "2022-01-26T13:31:09.316Z"
   },
   {
    "duration": 61,
    "start_time": "2022-01-26T13:32:01.340Z"
   },
   {
    "duration": 45,
    "start_time": "2022-01-26T13:32:19.810Z"
   },
   {
    "duration": 67,
    "start_time": "2022-01-26T13:33:42.145Z"
   },
   {
    "duration": 7,
    "start_time": "2022-01-26T13:35:46.774Z"
   },
   {
    "duration": 282,
    "start_time": "2022-01-26T13:36:42.825Z"
   },
   {
    "duration": 43,
    "start_time": "2022-01-26T13:36:48.681Z"
   },
   {
    "duration": 264,
    "start_time": "2022-01-26T13:37:40.865Z"
   },
   {
    "duration": 281,
    "start_time": "2022-01-26T13:37:49.535Z"
   },
   {
    "duration": 15,
    "start_time": "2022-01-26T13:37:55.635Z"
   },
   {
    "duration": 17,
    "start_time": "2022-01-26T13:38:03.929Z"
   },
   {
    "duration": 11,
    "start_time": "2022-01-26T13:39:05.589Z"
   },
   {
    "duration": 15,
    "start_time": "2022-01-26T13:39:29.963Z"
   },
   {
    "duration": 16,
    "start_time": "2022-01-26T13:40:09.165Z"
   },
   {
    "duration": 12,
    "start_time": "2022-01-26T13:40:30.419Z"
   },
   {
    "duration": 10,
    "start_time": "2022-01-26T13:40:53.557Z"
   },
   {
    "duration": 18,
    "start_time": "2022-01-26T13:41:23.929Z"
   },
   {
    "duration": 10,
    "start_time": "2022-01-26T13:41:56.460Z"
   },
   {
    "duration": 23,
    "start_time": "2022-01-26T13:42:27.189Z"
   },
   {
    "duration": 26,
    "start_time": "2022-01-26T13:43:00.273Z"
   },
   {
    "duration": 27,
    "start_time": "2022-01-26T13:43:20.563Z"
   },
   {
    "duration": 15,
    "start_time": "2022-01-26T13:44:01.641Z"
   },
   {
    "duration": 34,
    "start_time": "2022-01-26T13:52:33.192Z"
   },
   {
    "duration": 39,
    "start_time": "2022-01-26T13:52:45.661Z"
   },
   {
    "duration": 99,
    "start_time": "2022-01-26T13:53:24.887Z"
   },
   {
    "duration": 77,
    "start_time": "2022-01-26T13:53:46.964Z"
   },
   {
    "duration": 8,
    "start_time": "2022-01-26T13:53:47.685Z"
   },
   {
    "duration": 10,
    "start_time": "2022-01-26T13:53:58.933Z"
   },
   {
    "duration": 6,
    "start_time": "2022-01-26T13:54:18.304Z"
   },
   {
    "duration": 56,
    "start_time": "2022-01-26T13:54:27.124Z"
   },
   {
    "duration": 27,
    "start_time": "2022-01-26T13:54:35.176Z"
   },
   {
    "duration": 17,
    "start_time": "2022-01-26T13:59:32.709Z"
   },
   {
    "duration": 14,
    "start_time": "2022-01-26T14:00:01.230Z"
   },
   {
    "duration": 13,
    "start_time": "2022-01-26T14:00:03.132Z"
   },
   {
    "duration": 3,
    "start_time": "2022-01-26T14:00:06.231Z"
   },
   {
    "duration": 17,
    "start_time": "2022-01-26T14:00:07.841Z"
   },
   {
    "duration": 13,
    "start_time": "2022-01-26T14:00:08.993Z"
   },
   {
    "duration": 4,
    "start_time": "2022-01-26T14:00:14.019Z"
   },
   {
    "duration": 70,
    "start_time": "2022-01-26T14:00:14.026Z"
   },
   {
    "duration": 19,
    "start_time": "2022-01-26T14:00:14.099Z"
   },
   {
    "duration": 35,
    "start_time": "2022-01-26T14:00:14.121Z"
   },
   {
    "duration": 14,
    "start_time": "2022-01-26T14:00:14.158Z"
   },
   {
    "duration": 4,
    "start_time": "2022-01-26T14:00:14.174Z"
   },
   {
    "duration": 10,
    "start_time": "2022-01-26T14:00:14.181Z"
   },
   {
    "duration": 9,
    "start_time": "2022-01-26T14:00:14.195Z"
   },
   {
    "duration": 60,
    "start_time": "2022-01-26T14:00:14.207Z"
   },
   {
    "duration": 16,
    "start_time": "2022-01-26T14:00:14.270Z"
   },
   {
    "duration": 10,
    "start_time": "2022-01-26T14:00:14.288Z"
   },
   {
    "duration": 11,
    "start_time": "2022-01-26T14:00:14.300Z"
   },
   {
    "duration": 41,
    "start_time": "2022-01-26T14:00:14.313Z"
   },
   {
    "duration": 11,
    "start_time": "2022-01-26T14:00:14.356Z"
   },
   {
    "duration": 12,
    "start_time": "2022-01-26T14:00:14.370Z"
   },
   {
    "duration": 12,
    "start_time": "2022-01-26T14:00:14.385Z"
   },
   {
    "duration": 18,
    "start_time": "2022-01-26T14:00:14.399Z"
   },
   {
    "duration": 13,
    "start_time": "2022-01-26T14:02:51.224Z"
   },
   {
    "duration": 36,
    "start_time": "2022-01-26T14:03:50.140Z"
   },
   {
    "duration": 15,
    "start_time": "2022-01-26T14:03:56.975Z"
   },
   {
    "duration": 255,
    "start_time": "2022-01-26T14:13:12.953Z"
   },
   {
    "duration": 5,
    "start_time": "2022-01-26T14:13:48.921Z"
   },
   {
    "duration": 17,
    "start_time": "2022-01-26T14:14:15.999Z"
   },
   {
    "duration": 16,
    "start_time": "2022-01-26T14:14:18.255Z"
   },
   {
    "duration": 8,
    "start_time": "2022-01-26T14:14:53.939Z"
   },
   {
    "duration": 5,
    "start_time": "2022-01-26T14:15:02.385Z"
   },
   {
    "duration": 4,
    "start_time": "2022-01-26T14:15:11.657Z"
   },
   {
    "duration": 4,
    "start_time": "2022-01-26T14:15:15.694Z"
   },
   {
    "duration": 10,
    "start_time": "2022-01-26T14:15:26.362Z"
   },
   {
    "duration": 6,
    "start_time": "2022-01-26T14:15:44.684Z"
   },
   {
    "duration": 5,
    "start_time": "2022-01-26T14:16:01.305Z"
   },
   {
    "duration": 7,
    "start_time": "2022-01-26T14:16:01.623Z"
   },
   {
    "duration": 6,
    "start_time": "2022-01-26T14:16:06.411Z"
   },
   {
    "duration": 10,
    "start_time": "2022-01-26T14:16:17.229Z"
   },
   {
    "duration": 7,
    "start_time": "2022-01-26T14:16:18.763Z"
   },
   {
    "duration": 11,
    "start_time": "2022-01-26T14:17:11.637Z"
   },
   {
    "duration": 11,
    "start_time": "2022-01-26T14:18:09.548Z"
   },
   {
    "duration": 10,
    "start_time": "2022-01-26T14:18:45.310Z"
   },
   {
    "duration": 6,
    "start_time": "2022-01-26T14:19:18.114Z"
   },
   {
    "duration": 9,
    "start_time": "2022-01-26T14:19:27.003Z"
   },
   {
    "duration": 32,
    "start_time": "2022-01-26T14:20:43.707Z"
   },
   {
    "duration": 266,
    "start_time": "2022-01-26T14:48:15.740Z"
   },
   {
    "duration": 12,
    "start_time": "2022-01-26T14:48:23.045Z"
   },
   {
    "duration": 235,
    "start_time": "2022-01-26T14:51:08.294Z"
   },
   {
    "duration": 10,
    "start_time": "2022-01-26T14:51:16.331Z"
   },
   {
    "duration": 5,
    "start_time": "2022-01-26T14:51:20.385Z"
   },
   {
    "duration": 8,
    "start_time": "2022-01-26T14:52:07.502Z"
   },
   {
    "duration": 8,
    "start_time": "2022-01-26T14:52:11.997Z"
   },
   {
    "duration": 20,
    "start_time": "2022-01-26T14:52:36.708Z"
   },
   {
    "duration": 40,
    "start_time": "2022-01-26T14:53:20.104Z"
   },
   {
    "duration": 52,
    "start_time": "2022-01-26T14:53:42.123Z"
   },
   {
    "duration": 10,
    "start_time": "2022-01-26T14:54:32.598Z"
   },
   {
    "duration": 9,
    "start_time": "2022-01-26T14:55:20.076Z"
   },
   {
    "duration": 243,
    "start_time": "2022-01-26T14:55:53.337Z"
   },
   {
    "duration": 14,
    "start_time": "2022-01-26T14:55:58.876Z"
   },
   {
    "duration": 42,
    "start_time": "2022-01-26T14:56:02.766Z"
   },
   {
    "duration": 10,
    "start_time": "2022-01-26T14:56:08.133Z"
   },
   {
    "duration": 12,
    "start_time": "2022-01-26T14:56:08.661Z"
   },
   {
    "duration": 41,
    "start_time": "2022-01-26T14:56:09.198Z"
   },
   {
    "duration": 4,
    "start_time": "2022-01-26T14:58:24.417Z"
   },
   {
    "duration": 75,
    "start_time": "2022-01-26T14:58:24.423Z"
   },
   {
    "duration": 19,
    "start_time": "2022-01-26T14:58:24.501Z"
   },
   {
    "duration": 37,
    "start_time": "2022-01-26T14:58:24.523Z"
   },
   {
    "duration": 14,
    "start_time": "2022-01-26T14:58:24.562Z"
   },
   {
    "duration": 9,
    "start_time": "2022-01-26T14:58:24.578Z"
   },
   {
    "duration": 16,
    "start_time": "2022-01-26T14:58:24.589Z"
   },
   {
    "duration": 40,
    "start_time": "2022-01-26T14:58:24.608Z"
   },
   {
    "duration": 9,
    "start_time": "2022-01-26T14:58:24.652Z"
   },
   {
    "duration": 19,
    "start_time": "2022-01-26T14:58:24.664Z"
   },
   {
    "duration": 28,
    "start_time": "2022-01-26T14:58:24.685Z"
   },
   {
    "duration": 51,
    "start_time": "2022-01-26T14:58:24.715Z"
   },
   {
    "duration": 16,
    "start_time": "2022-01-26T14:58:24.769Z"
   },
   {
    "duration": 65,
    "start_time": "2022-01-26T14:58:42.070Z"
   },
   {
    "duration": 10,
    "start_time": "2022-01-26T14:58:59.398Z"
   },
   {
    "duration": 10,
    "start_time": "2022-01-26T14:59:25.048Z"
   },
   {
    "duration": 12,
    "start_time": "2022-01-26T14:59:26.274Z"
   },
   {
    "duration": 5,
    "start_time": "2022-01-26T14:59:26.662Z"
   },
   {
    "duration": 43,
    "start_time": "2022-01-26T14:59:29.568Z"
   },
   {
    "duration": 11,
    "start_time": "2022-01-26T15:00:43.727Z"
   },
   {
    "duration": 12,
    "start_time": "2022-01-26T15:00:44.253Z"
   },
   {
    "duration": 7,
    "start_time": "2022-01-26T15:04:27.640Z"
   },
   {
    "duration": 12,
    "start_time": "2022-01-26T15:05:31.662Z"
   },
   {
    "duration": 80,
    "start_time": "2022-01-26T15:06:45.446Z"
   },
   {
    "duration": 8,
    "start_time": "2022-01-26T15:06:46.475Z"
   },
   {
    "duration": 18,
    "start_time": "2022-01-26T15:06:57.229Z"
   },
   {
    "duration": 8,
    "start_time": "2022-01-26T15:07:51.357Z"
   },
   {
    "duration": 12,
    "start_time": "2022-01-26T15:08:28.782Z"
   },
   {
    "duration": 9,
    "start_time": "2022-01-26T15:11:31.636Z"
   },
   {
    "duration": 11,
    "start_time": "2022-01-26T15:12:10.887Z"
   },
   {
    "duration": 9,
    "start_time": "2022-01-26T15:15:05.593Z"
   },
   {
    "duration": 418,
    "start_time": "2022-01-26T19:36:23.567Z"
   },
   {
    "duration": 577,
    "start_time": "2022-01-26T19:36:27.902Z"
   },
   {
    "duration": 49,
    "start_time": "2022-01-26T19:36:28.481Z"
   },
   {
    "duration": 18,
    "start_time": "2022-01-26T19:36:28.532Z"
   },
   {
    "duration": 20,
    "start_time": "2022-01-26T19:36:28.551Z"
   },
   {
    "duration": 8,
    "start_time": "2022-01-26T19:36:28.573Z"
   },
   {
    "duration": 3,
    "start_time": "2022-01-26T19:36:28.583Z"
   },
   {
    "duration": 6,
    "start_time": "2022-01-26T19:36:28.588Z"
   },
   {
    "duration": 7,
    "start_time": "2022-01-26T19:36:28.595Z"
   },
   {
    "duration": 4,
    "start_time": "2022-01-26T19:36:28.604Z"
   },
   {
    "duration": 7,
    "start_time": "2022-01-26T19:36:28.610Z"
   },
   {
    "duration": 6,
    "start_time": "2022-01-26T19:36:28.619Z"
   },
   {
    "duration": 12,
    "start_time": "2022-01-26T19:36:28.627Z"
   },
   {
    "duration": 6,
    "start_time": "2022-01-26T19:36:28.672Z"
   },
   {
    "duration": 7,
    "start_time": "2022-01-26T19:36:28.679Z"
   },
   {
    "duration": 6,
    "start_time": "2022-01-26T19:36:28.687Z"
   },
   {
    "duration": 13,
    "start_time": "2022-01-26T19:36:28.694Z"
   },
   {
    "duration": 11,
    "start_time": "2022-01-26T19:36:28.709Z"
   },
   {
    "duration": 12,
    "start_time": "2022-01-26T19:36:28.722Z"
   },
   {
    "duration": 8,
    "start_time": "2022-01-26T19:37:03.805Z"
   },
   {
    "duration": 312,
    "start_time": "2022-01-26T19:38:57.816Z"
   },
   {
    "duration": 6,
    "start_time": "2022-01-26T19:39:00.581Z"
   },
   {
    "duration": 10,
    "start_time": "2022-01-26T19:39:00.917Z"
   },
   {
    "duration": 5,
    "start_time": "2022-01-26T19:40:35.663Z"
   },
   {
    "duration": 5,
    "start_time": "2022-01-26T19:41:08.741Z"
   },
   {
    "duration": 8,
    "start_time": "2022-01-26T19:41:09.172Z"
   },
   {
    "duration": 9,
    "start_time": "2022-01-26T19:41:27.262Z"
   },
   {
    "duration": 8,
    "start_time": "2022-01-26T19:41:27.588Z"
   },
   {
    "duration": 5,
    "start_time": "2022-01-26T19:43:07.321Z"
   },
   {
    "duration": 7,
    "start_time": "2022-01-26T19:43:07.600Z"
   },
   {
    "duration": 12,
    "start_time": "2022-01-26T19:43:21.787Z"
   },
   {
    "duration": 10,
    "start_time": "2022-01-26T19:43:34.824Z"
   },
   {
    "duration": 18,
    "start_time": "2022-01-26T19:43:58.610Z"
   },
   {
    "duration": 10,
    "start_time": "2022-01-26T19:44:05.440Z"
   },
   {
    "duration": 3,
    "start_time": "2022-01-26T19:45:03.551Z"
   },
   {
    "duration": 50,
    "start_time": "2022-01-26T19:45:03.556Z"
   },
   {
    "duration": 13,
    "start_time": "2022-01-26T19:45:03.608Z"
   },
   {
    "duration": 12,
    "start_time": "2022-01-26T19:45:03.623Z"
   },
   {
    "duration": 39,
    "start_time": "2022-01-26T19:45:03.636Z"
   },
   {
    "duration": 3,
    "start_time": "2022-01-26T19:45:03.677Z"
   },
   {
    "duration": 4,
    "start_time": "2022-01-26T19:45:03.682Z"
   },
   {
    "duration": 7,
    "start_time": "2022-01-26T19:45:03.688Z"
   },
   {
    "duration": 5,
    "start_time": "2022-01-26T19:45:03.696Z"
   },
   {
    "duration": 11,
    "start_time": "2022-01-26T19:45:03.703Z"
   },
   {
    "duration": 8,
    "start_time": "2022-01-26T19:45:03.716Z"
   },
   {
    "duration": 15,
    "start_time": "2022-01-26T19:45:03.725Z"
   },
   {
    "duration": 7,
    "start_time": "2022-01-26T19:45:03.772Z"
   },
   {
    "duration": 11,
    "start_time": "2022-01-26T19:45:03.782Z"
   },
   {
    "duration": 8,
    "start_time": "2022-01-26T19:45:03.795Z"
   },
   {
    "duration": 14,
    "start_time": "2022-01-26T19:45:03.804Z"
   },
   {
    "duration": 7,
    "start_time": "2022-01-26T19:45:03.819Z"
   },
   {
    "duration": 13,
    "start_time": "2022-01-26T19:45:03.828Z"
   },
   {
    "duration": 32,
    "start_time": "2022-01-26T19:45:03.844Z"
   },
   {
    "duration": 8,
    "start_time": "2022-01-26T19:45:03.877Z"
   },
   {
    "duration": 8,
    "start_time": "2022-01-26T19:45:03.887Z"
   },
   {
    "duration": 12,
    "start_time": "2022-01-26T19:45:03.896Z"
   },
   {
    "duration": 6,
    "start_time": "2022-01-26T19:45:03.909Z"
   },
   {
    "duration": 13,
    "start_time": "2022-01-26T19:45:03.917Z"
   },
   {
    "duration": 14,
    "start_time": "2022-01-26T19:45:03.932Z"
   },
   {
    "duration": 4,
    "start_time": "2022-01-26T19:51:18.055Z"
   },
   {
    "duration": 295,
    "start_time": "2022-01-26T19:52:41.059Z"
   },
   {
    "duration": 5,
    "start_time": "2022-01-26T19:52:45.718Z"
   },
   {
    "duration": 7,
    "start_time": "2022-01-26T19:53:08.728Z"
   },
   {
    "duration": 5,
    "start_time": "2022-01-26T19:54:51.773Z"
   },
   {
    "duration": 7,
    "start_time": "2022-01-26T19:54:58.536Z"
   },
   {
    "duration": 12,
    "start_time": "2022-01-26T19:58:48.031Z"
   },
   {
    "duration": 335,
    "start_time": "2022-01-26T20:02:15.384Z"
   },
   {
    "duration": 283,
    "start_time": "2022-01-26T20:02:58.108Z"
   },
   {
    "duration": 12,
    "start_time": "2022-01-26T20:03:23.077Z"
   },
   {
    "duration": 10,
    "start_time": "2022-01-26T20:03:42.109Z"
   },
   {
    "duration": 10,
    "start_time": "2022-01-26T20:03:52.526Z"
   },
   {
    "duration": 91,
    "start_time": "2022-01-26T20:04:15.538Z"
   },
   {
    "duration": 259,
    "start_time": "2022-01-26T20:04:21.084Z"
   },
   {
    "duration": 88,
    "start_time": "2022-01-26T20:05:22.034Z"
   },
   {
    "duration": 11,
    "start_time": "2022-01-26T20:05:35.773Z"
   },
   {
    "duration": 13,
    "start_time": "2022-01-26T20:06:09.363Z"
   },
   {
    "duration": 10,
    "start_time": "2022-01-26T20:06:16.581Z"
   },
   {
    "duration": 13,
    "start_time": "2022-01-26T20:06:19.144Z"
   },
   {
    "duration": 255,
    "start_time": "2022-01-26T20:06:43.292Z"
   },
   {
    "duration": 11,
    "start_time": "2022-01-26T20:06:45.114Z"
   },
   {
    "duration": 21,
    "start_time": "2022-01-26T20:07:12.668Z"
   },
   {
    "duration": 22,
    "start_time": "2022-01-26T20:07:20.500Z"
   },
   {
    "duration": 13,
    "start_time": "2022-01-26T20:07:24.575Z"
   },
   {
    "duration": 7,
    "start_time": "2022-01-26T20:08:32.022Z"
   },
   {
    "duration": 12,
    "start_time": "2022-01-26T20:08:33.581Z"
   },
   {
    "duration": 263,
    "start_time": "2022-01-26T20:09:37.336Z"
   },
   {
    "duration": 307,
    "start_time": "2022-01-26T20:09:46.258Z"
   },
   {
    "duration": 111,
    "start_time": "2022-01-26T20:09:53.340Z"
   },
   {
    "duration": 272,
    "start_time": "2022-01-26T20:10:01.462Z"
   },
   {
    "duration": 281,
    "start_time": "2022-01-26T20:10:06.360Z"
   },
   {
    "duration": 1472,
    "start_time": "2022-01-26T20:10:40.271Z"
   },
   {
    "duration": 2,
    "start_time": "2022-01-26T20:11:04.246Z"
   },
   {
    "duration": 77,
    "start_time": "2022-01-26T20:11:04.255Z"
   },
   {
    "duration": 13,
    "start_time": "2022-01-26T20:11:04.334Z"
   },
   {
    "duration": 10,
    "start_time": "2022-01-26T20:11:04.350Z"
   },
   {
    "duration": 10,
    "start_time": "2022-01-26T20:11:04.362Z"
   },
   {
    "duration": 3,
    "start_time": "2022-01-26T20:11:04.374Z"
   },
   {
    "duration": 7,
    "start_time": "2022-01-26T20:11:04.379Z"
   },
   {
    "duration": 8,
    "start_time": "2022-01-26T20:11:04.387Z"
   },
   {
    "duration": 5,
    "start_time": "2022-01-26T20:11:04.397Z"
   },
   {
    "duration": 11,
    "start_time": "2022-01-26T20:11:04.405Z"
   },
   {
    "duration": 9,
    "start_time": "2022-01-26T20:11:04.418Z"
   },
   {
    "duration": 12,
    "start_time": "2022-01-26T20:11:04.429Z"
   },
   {
    "duration": 30,
    "start_time": "2022-01-26T20:11:04.443Z"
   },
   {
    "duration": 8,
    "start_time": "2022-01-26T20:11:04.475Z"
   },
   {
    "duration": 17,
    "start_time": "2022-01-26T20:11:04.485Z"
   },
   {
    "duration": 18,
    "start_time": "2022-01-26T20:11:04.504Z"
   },
   {
    "duration": 11,
    "start_time": "2022-01-26T20:11:04.524Z"
   },
   {
    "duration": 21,
    "start_time": "2022-01-26T20:11:04.536Z"
   },
   {
    "duration": 25,
    "start_time": "2022-01-26T20:11:04.558Z"
   },
   {
    "duration": 15,
    "start_time": "2022-01-26T20:11:04.584Z"
   },
   {
    "duration": 32,
    "start_time": "2022-01-26T20:11:04.601Z"
   },
   {
    "duration": 17,
    "start_time": "2022-01-26T20:11:04.635Z"
   },
   {
    "duration": 14,
    "start_time": "2022-01-26T20:11:04.654Z"
   },
   {
    "duration": 13,
    "start_time": "2022-01-26T20:11:04.669Z"
   },
   {
    "duration": 22,
    "start_time": "2022-01-26T20:11:04.684Z"
   },
   {
    "duration": 17,
    "start_time": "2022-01-26T20:11:04.708Z"
   },
   {
    "duration": 27,
    "start_time": "2022-01-26T20:11:04.726Z"
   },
   {
    "duration": 16,
    "start_time": "2022-01-26T20:11:04.756Z"
   },
   {
    "duration": 36,
    "start_time": "2022-01-26T20:11:12.060Z"
   },
   {
    "duration": 9,
    "start_time": "2022-01-26T20:11:31.315Z"
   },
   {
    "duration": 20,
    "start_time": "2022-01-26T20:11:36.431Z"
   },
   {
    "duration": 23,
    "start_time": "2022-01-26T20:12:07.190Z"
   },
   {
    "duration": 20,
    "start_time": "2022-01-26T20:12:12.575Z"
   },
   {
    "duration": 30,
    "start_time": "2022-01-26T20:12:21.375Z"
   },
   {
    "duration": 13,
    "start_time": "2022-01-26T20:12:25.599Z"
   },
   {
    "duration": 3,
    "start_time": "2022-01-26T20:12:37.104Z"
   },
   {
    "duration": 48,
    "start_time": "2022-01-26T20:12:37.113Z"
   },
   {
    "duration": 15,
    "start_time": "2022-01-26T20:12:37.163Z"
   },
   {
    "duration": 15,
    "start_time": "2022-01-26T20:12:37.181Z"
   },
   {
    "duration": 8,
    "start_time": "2022-01-26T20:12:37.199Z"
   },
   {
    "duration": 4,
    "start_time": "2022-01-26T20:12:37.209Z"
   },
   {
    "duration": 6,
    "start_time": "2022-01-26T20:12:37.215Z"
   },
   {
    "duration": 11,
    "start_time": "2022-01-26T20:12:37.223Z"
   },
   {
    "duration": 8,
    "start_time": "2022-01-26T20:12:37.273Z"
   },
   {
    "duration": 11,
    "start_time": "2022-01-26T20:12:37.285Z"
   },
   {
    "duration": 7,
    "start_time": "2022-01-26T20:12:37.299Z"
   },
   {
    "duration": 9,
    "start_time": "2022-01-26T20:12:37.307Z"
   },
   {
    "duration": 11,
    "start_time": "2022-01-26T20:12:37.317Z"
   },
   {
    "duration": 14,
    "start_time": "2022-01-26T20:12:37.330Z"
   },
   {
    "duration": 30,
    "start_time": "2022-01-26T20:12:37.345Z"
   },
   {
    "duration": 10,
    "start_time": "2022-01-26T20:12:37.389Z"
   },
   {
    "duration": 5,
    "start_time": "2022-01-26T20:12:37.400Z"
   },
   {
    "duration": 10,
    "start_time": "2022-01-26T20:12:37.407Z"
   },
   {
    "duration": 7,
    "start_time": "2022-01-26T20:12:37.419Z"
   },
   {
    "duration": 13,
    "start_time": "2022-01-26T20:12:37.428Z"
   },
   {
    "duration": 13,
    "start_time": "2022-01-26T20:12:37.442Z"
   },
   {
    "duration": 20,
    "start_time": "2022-01-26T20:12:37.457Z"
   },
   {
    "duration": 6,
    "start_time": "2022-01-26T20:12:37.479Z"
   },
   {
    "duration": 15,
    "start_time": "2022-01-26T20:12:37.488Z"
   },
   {
    "duration": 15,
    "start_time": "2022-01-26T20:12:37.504Z"
   },
   {
    "duration": 8,
    "start_time": "2022-01-26T20:12:37.520Z"
   },
   {
    "duration": 25,
    "start_time": "2022-01-26T20:12:37.530Z"
   },
   {
    "duration": 32,
    "start_time": "2022-01-26T20:12:37.558Z"
   },
   {
    "duration": 13,
    "start_time": "2022-01-26T20:12:37.592Z"
   },
   {
    "duration": 14,
    "start_time": "2022-01-26T20:12:45.134Z"
   },
   {
    "duration": 279,
    "start_time": "2022-01-26T20:13:27.336Z"
   },
   {
    "duration": 347,
    "start_time": "2022-01-26T20:13:37.210Z"
   },
   {
    "duration": 4,
    "start_time": "2022-01-26T20:13:45.986Z"
   },
   {
    "duration": 73,
    "start_time": "2022-01-26T20:13:45.992Z"
   },
   {
    "duration": 15,
    "start_time": "2022-01-26T20:13:46.067Z"
   },
   {
    "duration": 32,
    "start_time": "2022-01-26T20:13:46.085Z"
   },
   {
    "duration": 18,
    "start_time": "2022-01-26T20:13:46.119Z"
   },
   {
    "duration": 13,
    "start_time": "2022-01-26T20:13:46.138Z"
   },
   {
    "duration": 17,
    "start_time": "2022-01-26T20:13:46.153Z"
   },
   {
    "duration": 24,
    "start_time": "2022-01-26T20:13:46.175Z"
   },
   {
    "duration": 30,
    "start_time": "2022-01-26T20:13:46.202Z"
   },
   {
    "duration": 24,
    "start_time": "2022-01-26T20:13:46.234Z"
   },
   {
    "duration": 10,
    "start_time": "2022-01-26T20:13:46.260Z"
   },
   {
    "duration": 34,
    "start_time": "2022-01-26T20:13:46.273Z"
   },
   {
    "duration": 18,
    "start_time": "2022-01-26T20:13:46.309Z"
   },
   {
    "duration": 17,
    "start_time": "2022-01-26T20:13:46.329Z"
   },
   {
    "duration": 8,
    "start_time": "2022-01-26T20:13:46.348Z"
   },
   {
    "duration": 27,
    "start_time": "2022-01-26T20:13:46.358Z"
   },
   {
    "duration": 6,
    "start_time": "2022-01-26T20:13:46.387Z"
   },
   {
    "duration": 27,
    "start_time": "2022-01-26T20:13:46.394Z"
   },
   {
    "duration": 13,
    "start_time": "2022-01-26T20:13:46.423Z"
   },
   {
    "duration": 18,
    "start_time": "2022-01-26T20:13:46.438Z"
   },
   {
    "duration": 29,
    "start_time": "2022-01-26T20:13:46.457Z"
   },
   {
    "duration": 15,
    "start_time": "2022-01-26T20:13:46.488Z"
   },
   {
    "duration": 23,
    "start_time": "2022-01-26T20:13:46.506Z"
   },
   {
    "duration": 24,
    "start_time": "2022-01-26T20:13:46.531Z"
   },
   {
    "duration": 12,
    "start_time": "2022-01-26T20:13:46.557Z"
   },
   {
    "duration": 12,
    "start_time": "2022-01-26T20:13:46.570Z"
   },
   {
    "duration": 46,
    "start_time": "2022-01-26T20:13:46.583Z"
   },
   {
    "duration": 12,
    "start_time": "2022-01-26T20:13:46.630Z"
   },
   {
    "duration": 19,
    "start_time": "2022-01-26T20:13:46.644Z"
   },
   {
    "duration": 6,
    "start_time": "2022-01-26T20:14:47.164Z"
   },
   {
    "duration": 13,
    "start_time": "2022-01-26T20:14:54.511Z"
   },
   {
    "duration": 13,
    "start_time": "2022-01-26T20:15:20.796Z"
   },
   {
    "duration": 12,
    "start_time": "2022-01-26T20:15:23.326Z"
   },
   {
    "duration": 3,
    "start_time": "2022-01-26T20:16:03.236Z"
   },
   {
    "duration": 50,
    "start_time": "2022-01-26T20:16:03.241Z"
   },
   {
    "duration": 12,
    "start_time": "2022-01-26T20:16:03.292Z"
   },
   {
    "duration": 15,
    "start_time": "2022-01-26T20:16:03.307Z"
   },
   {
    "duration": 9,
    "start_time": "2022-01-26T20:16:03.324Z"
   },
   {
    "duration": 4,
    "start_time": "2022-01-26T20:16:03.335Z"
   },
   {
    "duration": 34,
    "start_time": "2022-01-26T20:16:03.341Z"
   },
   {
    "duration": 7,
    "start_time": "2022-01-26T20:16:03.377Z"
   },
   {
    "duration": 5,
    "start_time": "2022-01-26T20:16:03.385Z"
   },
   {
    "duration": 8,
    "start_time": "2022-01-26T20:16:03.392Z"
   },
   {
    "duration": 7,
    "start_time": "2022-01-26T20:16:03.402Z"
   },
   {
    "duration": 13,
    "start_time": "2022-01-26T20:16:03.411Z"
   },
   {
    "duration": 9,
    "start_time": "2022-01-26T20:16:03.425Z"
   },
   {
    "duration": 36,
    "start_time": "2022-01-26T20:16:03.436Z"
   },
   {
    "duration": 8,
    "start_time": "2022-01-26T20:16:03.473Z"
   },
   {
    "duration": 9,
    "start_time": "2022-01-26T20:16:03.483Z"
   },
   {
    "duration": 7,
    "start_time": "2022-01-26T20:16:03.494Z"
   },
   {
    "duration": 12,
    "start_time": "2022-01-26T20:16:03.503Z"
   },
   {
    "duration": 6,
    "start_time": "2022-01-26T20:16:03.518Z"
   },
   {
    "duration": 13,
    "start_time": "2022-01-26T20:16:03.525Z"
   },
   {
    "duration": 14,
    "start_time": "2022-01-26T20:16:03.540Z"
   },
   {
    "duration": 22,
    "start_time": "2022-01-26T20:16:03.556Z"
   },
   {
    "duration": 6,
    "start_time": "2022-01-26T20:16:03.580Z"
   },
   {
    "duration": 12,
    "start_time": "2022-01-26T20:16:03.587Z"
   },
   {
    "duration": 14,
    "start_time": "2022-01-26T20:16:03.601Z"
   },
   {
    "duration": 14,
    "start_time": "2022-01-26T20:20:50.983Z"
   },
   {
    "duration": 18,
    "start_time": "2022-01-26T20:20:59.485Z"
   },
   {
    "duration": 10,
    "start_time": "2022-01-26T20:21:05.055Z"
   },
   {
    "duration": 4,
    "start_time": "2022-01-26T20:39:03.072Z"
   },
   {
    "duration": 3,
    "start_time": "2022-01-26T20:39:05.330Z"
   },
   {
    "duration": 3,
    "start_time": "2022-01-26T20:39:28.245Z"
   },
   {
    "duration": 4,
    "start_time": "2022-01-26T20:40:14.369Z"
   },
   {
    "duration": 11,
    "start_time": "2022-01-26T20:41:37.454Z"
   },
   {
    "duration": 17,
    "start_time": "2022-01-26T20:48:07.968Z"
   },
   {
    "duration": 15,
    "start_time": "2022-01-26T20:48:29.487Z"
   },
   {
    "duration": 10,
    "start_time": "2022-01-26T20:53:45.498Z"
   },
   {
    "duration": 18,
    "start_time": "2022-01-26T20:58:28.113Z"
   },
   {
    "duration": 19,
    "start_time": "2022-01-26T20:58:37.998Z"
   },
   {
    "duration": 14,
    "start_time": "2022-01-26T21:04:05.102Z"
   },
   {
    "duration": 3,
    "start_time": "2022-01-26T21:07:54.532Z"
   },
   {
    "duration": 5,
    "start_time": "2022-01-26T21:08:31.484Z"
   },
   {
    "duration": 6,
    "start_time": "2022-01-26T21:11:29.393Z"
   },
   {
    "duration": 429,
    "start_time": "2022-01-27T08:43:50.060Z"
   },
   {
    "duration": 1124,
    "start_time": "2022-01-27T08:44:05.074Z"
   },
   {
    "duration": 67,
    "start_time": "2022-01-27T08:44:06.201Z"
   },
   {
    "duration": 32,
    "start_time": "2022-01-27T08:44:06.272Z"
   },
   {
    "duration": 18,
    "start_time": "2022-01-27T08:44:06.308Z"
   },
   {
    "duration": 46,
    "start_time": "2022-01-27T08:44:06.329Z"
   },
   {
    "duration": 7,
    "start_time": "2022-01-27T08:44:06.377Z"
   },
   {
    "duration": 13,
    "start_time": "2022-01-27T08:44:06.386Z"
   },
   {
    "duration": 15,
    "start_time": "2022-01-27T08:44:06.402Z"
   },
   {
    "duration": 7,
    "start_time": "2022-01-27T08:44:06.420Z"
   },
   {
    "duration": 46,
    "start_time": "2022-01-27T08:44:06.429Z"
   },
   {
    "duration": 16,
    "start_time": "2022-01-27T08:44:06.478Z"
   },
   {
    "duration": 20,
    "start_time": "2022-01-27T08:44:06.497Z"
   },
   {
    "duration": 21,
    "start_time": "2022-01-27T08:44:06.519Z"
   },
   {
    "duration": 34,
    "start_time": "2022-01-27T08:44:06.543Z"
   },
   {
    "duration": 10,
    "start_time": "2022-01-27T08:44:06.580Z"
   },
   {
    "duration": 18,
    "start_time": "2022-01-27T08:44:06.593Z"
   },
   {
    "duration": 16,
    "start_time": "2022-01-27T08:44:06.614Z"
   },
   {
    "duration": 15,
    "start_time": "2022-01-27T08:44:06.632Z"
   },
   {
    "duration": 22,
    "start_time": "2022-01-27T08:44:06.650Z"
   },
   {
    "duration": 21,
    "start_time": "2022-01-27T08:44:06.674Z"
   },
   {
    "duration": 19,
    "start_time": "2022-01-27T08:44:06.698Z"
   },
   {
    "duration": 22,
    "start_time": "2022-01-27T08:44:06.719Z"
   },
   {
    "duration": 7,
    "start_time": "2022-01-27T08:44:06.746Z"
   },
   {
    "duration": 33,
    "start_time": "2022-01-27T08:44:06.756Z"
   },
   {
    "duration": 17,
    "start_time": "2022-01-27T08:44:06.791Z"
   },
   {
    "duration": 27,
    "start_time": "2022-01-27T08:44:06.810Z"
   },
   {
    "duration": 16,
    "start_time": "2022-01-27T08:44:06.840Z"
   },
   {
    "duration": 13,
    "start_time": "2022-01-27T08:44:06.858Z"
   },
   {
    "duration": 30,
    "start_time": "2022-01-27T08:44:06.874Z"
   },
   {
    "duration": 26,
    "start_time": "2022-01-27T08:44:06.906Z"
   },
   {
    "duration": 40,
    "start_time": "2022-01-27T08:44:06.934Z"
   },
   {
    "duration": 24,
    "start_time": "2022-01-27T08:44:06.976Z"
   },
   {
    "duration": 7,
    "start_time": "2022-01-27T08:44:07.002Z"
   },
   {
    "duration": 4,
    "start_time": "2022-01-27T09:12:01.735Z"
   },
   {
    "duration": 72,
    "start_time": "2022-01-27T09:12:01.742Z"
   },
   {
    "duration": 23,
    "start_time": "2022-01-27T09:12:01.818Z"
   },
   {
    "duration": 17,
    "start_time": "2022-01-27T09:12:01.871Z"
   },
   {
    "duration": 23,
    "start_time": "2022-01-27T09:12:01.890Z"
   },
   {
    "duration": 14,
    "start_time": "2022-01-27T09:12:01.916Z"
   },
   {
    "duration": 18,
    "start_time": "2022-01-27T09:12:01.933Z"
   },
   {
    "duration": 24,
    "start_time": "2022-01-27T09:12:01.954Z"
   },
   {
    "duration": 17,
    "start_time": "2022-01-27T09:12:01.981Z"
   },
   {
    "duration": 16,
    "start_time": "2022-01-27T09:12:02.000Z"
   },
   {
    "duration": 11,
    "start_time": "2022-01-27T09:12:02.018Z"
   },
   {
    "duration": 43,
    "start_time": "2022-01-27T09:12:02.032Z"
   },
   {
    "duration": 15,
    "start_time": "2022-01-27T09:12:02.078Z"
   },
   {
    "duration": 12,
    "start_time": "2022-01-27T09:12:02.096Z"
   },
   {
    "duration": 26,
    "start_time": "2022-01-27T09:12:02.111Z"
   },
   {
    "duration": 43,
    "start_time": "2022-01-27T09:12:02.139Z"
   },
   {
    "duration": 9,
    "start_time": "2022-01-27T09:12:02.184Z"
   },
   {
    "duration": 23,
    "start_time": "2022-01-27T09:12:02.195Z"
   },
   {
    "duration": 8,
    "start_time": "2022-01-27T09:12:02.220Z"
   },
   {
    "duration": 16,
    "start_time": "2022-01-27T09:12:02.230Z"
   },
   {
    "duration": 45,
    "start_time": "2022-01-27T09:12:02.248Z"
   },
   {
    "duration": 16,
    "start_time": "2022-01-27T09:12:02.295Z"
   },
   {
    "duration": 10,
    "start_time": "2022-01-27T09:12:02.318Z"
   },
   {
    "duration": 22,
    "start_time": "2022-01-27T09:12:02.332Z"
   },
   {
    "duration": 18,
    "start_time": "2022-01-27T09:12:02.356Z"
   },
   {
    "duration": 6,
    "start_time": "2022-01-27T09:12:02.376Z"
   },
   {
    "duration": 15,
    "start_time": "2022-01-27T09:12:02.385Z"
   },
   {
    "duration": 9,
    "start_time": "2022-01-27T09:12:02.402Z"
   },
   {
    "duration": 18,
    "start_time": "2022-01-27T09:12:02.413Z"
   },
   {
    "duration": 47,
    "start_time": "2022-01-27T09:12:02.433Z"
   },
   {
    "duration": 26,
    "start_time": "2022-01-27T09:12:02.483Z"
   },
   {
    "duration": 59,
    "start_time": "2022-01-27T09:12:02.512Z"
   },
   {
    "duration": 8,
    "start_time": "2022-01-27T09:12:02.574Z"
   },
   {
    "duration": 4,
    "start_time": "2022-01-27T09:16:07.938Z"
   },
   {
    "duration": 61,
    "start_time": "2022-01-27T09:16:07.946Z"
   },
   {
    "duration": 24,
    "start_time": "2022-01-27T09:16:08.011Z"
   },
   {
    "duration": 44,
    "start_time": "2022-01-27T09:16:08.039Z"
   },
   {
    "duration": 23,
    "start_time": "2022-01-27T09:16:08.086Z"
   },
   {
    "duration": 9,
    "start_time": "2022-01-27T09:16:08.112Z"
   },
   {
    "duration": 46,
    "start_time": "2022-01-27T09:16:08.124Z"
   },
   {
    "duration": 12,
    "start_time": "2022-01-27T09:16:08.175Z"
   },
   {
    "duration": 38,
    "start_time": "2022-01-27T09:16:08.190Z"
   },
   {
    "duration": 21,
    "start_time": "2022-01-27T09:16:08.230Z"
   },
   {
    "duration": 12,
    "start_time": "2022-01-27T09:16:08.254Z"
   },
   {
    "duration": 22,
    "start_time": "2022-01-27T09:16:08.269Z"
   },
   {
    "duration": 13,
    "start_time": "2022-01-27T09:16:08.294Z"
   },
   {
    "duration": 14,
    "start_time": "2022-01-27T09:16:08.310Z"
   },
   {
    "duration": 11,
    "start_time": "2022-01-27T09:16:08.327Z"
   },
   {
    "duration": 35,
    "start_time": "2022-01-27T09:16:08.341Z"
   },
   {
    "duration": 10,
    "start_time": "2022-01-27T09:16:08.379Z"
   },
   {
    "duration": 12,
    "start_time": "2022-01-27T09:16:08.391Z"
   },
   {
    "duration": 7,
    "start_time": "2022-01-27T09:16:08.406Z"
   },
   {
    "duration": 15,
    "start_time": "2022-01-27T09:16:08.415Z"
   },
   {
    "duration": 44,
    "start_time": "2022-01-27T09:16:08.432Z"
   },
   {
    "duration": 16,
    "start_time": "2022-01-27T09:16:08.479Z"
   },
   {
    "duration": 7,
    "start_time": "2022-01-27T09:16:08.500Z"
   },
   {
    "duration": 17,
    "start_time": "2022-01-27T09:16:08.510Z"
   },
   {
    "duration": 42,
    "start_time": "2022-01-27T09:16:08.529Z"
   },
   {
    "duration": 5,
    "start_time": "2022-01-27T09:16:08.573Z"
   },
   {
    "duration": 7,
    "start_time": "2022-01-27T09:16:08.581Z"
   },
   {
    "duration": 16,
    "start_time": "2022-01-27T09:16:08.590Z"
   },
   {
    "duration": 16,
    "start_time": "2022-01-27T09:16:08.609Z"
   },
   {
    "duration": 59,
    "start_time": "2022-01-27T09:16:08.628Z"
   },
   {
    "duration": 27,
    "start_time": "2022-01-27T09:16:08.690Z"
   },
   {
    "duration": 58,
    "start_time": "2022-01-27T09:16:08.720Z"
   },
   {
    "duration": 6,
    "start_time": "2022-01-27T09:16:08.781Z"
   },
   {
    "duration": 28,
    "start_time": "2022-01-27T09:17:02.811Z"
   },
   {
    "duration": 10,
    "start_time": "2022-01-27T09:29:00.761Z"
   },
   {
    "duration": 382,
    "start_time": "2022-01-27T09:33:34.258Z"
   },
   {
    "duration": 256,
    "start_time": "2022-01-27T09:36:10.693Z"
   },
   {
    "duration": 29,
    "start_time": "2022-01-27T09:36:17.411Z"
   },
   {
    "duration": 1002,
    "start_time": "2022-01-27T09:37:19.937Z"
   },
   {
    "duration": 7,
    "start_time": "2022-01-27T09:37:36.296Z"
   },
   {
    "duration": 259,
    "start_time": "2022-01-27T09:38:01.765Z"
   },
   {
    "duration": 344,
    "start_time": "2022-01-27T09:38:33.490Z"
   },
   {
    "duration": 9347,
    "start_time": "2022-01-27T09:38:38.209Z"
   },
   {
    "duration": 206,
    "start_time": "2022-01-27T09:38:47.358Z"
   },
   {
    "duration": 340,
    "start_time": "2022-01-27T09:39:44.634Z"
   },
   {
    "duration": 266,
    "start_time": "2022-01-27T09:41:32.489Z"
   },
   {
    "duration": 7937,
    "start_time": "2022-01-27T09:41:38.586Z"
   },
   {
    "duration": 231,
    "start_time": "2022-01-27T09:41:46.296Z"
   },
   {
    "duration": 4,
    "start_time": "2022-01-27T09:41:57.224Z"
   },
   {
    "duration": 4,
    "start_time": "2022-01-27T09:41:59.760Z"
   },
   {
    "duration": 9,
    "start_time": "2022-01-27T09:42:01.470Z"
   },
   {
    "duration": 4,
    "start_time": "2022-01-27T09:42:21.103Z"
   },
   {
    "duration": 7,
    "start_time": "2022-01-27T09:42:22.709Z"
   },
   {
    "duration": 7,
    "start_time": "2022-01-27T09:42:34.574Z"
   },
   {
    "duration": 4,
    "start_time": "2022-01-27T09:44:42.238Z"
   },
   {
    "duration": 6,
    "start_time": "2022-01-27T09:45:02.323Z"
   },
   {
    "duration": 317,
    "start_time": "2022-01-27T09:51:04.110Z"
   },
   {
    "duration": 5,
    "start_time": "2022-01-27T09:51:09.235Z"
   },
   {
    "duration": 3,
    "start_time": "2022-01-27T09:51:10.553Z"
   },
   {
    "duration": 4,
    "start_time": "2022-01-27T09:51:12.020Z"
   },
   {
    "duration": 5,
    "start_time": "2022-01-27T09:51:18.656Z"
   },
   {
    "duration": 4,
    "start_time": "2022-01-27T09:56:50.875Z"
   },
   {
    "duration": 4,
    "start_time": "2022-01-27T09:56:52.253Z"
   },
   {
    "duration": 3921,
    "start_time": "2022-01-27T09:59:51.630Z"
   },
   {
    "duration": 10,
    "start_time": "2022-01-27T09:59:57.472Z"
   },
   {
    "duration": 15,
    "start_time": "2022-01-27T10:05:18.387Z"
   },
   {
    "duration": 52,
    "start_time": "2022-01-27T10:05:20.687Z"
   },
   {
    "duration": 6,
    "start_time": "2022-01-27T10:05:24.832Z"
   },
   {
    "duration": 66,
    "start_time": "2022-01-27T10:05:32.540Z"
   },
   {
    "duration": 8,
    "start_time": "2022-01-27T10:05:33.006Z"
   },
   {
    "duration": 133,
    "start_time": "2022-01-27T10:05:47.079Z"
   },
   {
    "duration": 7,
    "start_time": "2022-01-27T10:05:47.340Z"
   },
   {
    "duration": 67,
    "start_time": "2022-01-27T10:05:57.180Z"
   },
   {
    "duration": 8,
    "start_time": "2022-01-27T10:05:57.425Z"
   },
   {
    "duration": 86,
    "start_time": "2022-01-27T10:06:27.052Z"
   },
   {
    "duration": 21,
    "start_time": "2022-01-27T10:06:27.154Z"
   },
   {
    "duration": 4308,
    "start_time": "2022-01-27T10:06:47.604Z"
   },
   {
    "duration": 1040,
    "start_time": "2022-01-27T10:10:20.282Z"
   },
   {
    "duration": 111,
    "start_time": "2022-01-27T10:10:30.506Z"
   },
   {
    "duration": 407,
    "start_time": "2022-01-27T10:10:32.040Z"
   },
   {
    "duration": 3887,
    "start_time": "2022-01-27T10:10:45.110Z"
   },
   {
    "duration": 3997,
    "start_time": "2022-01-27T10:15:44.087Z"
   },
   {
    "duration": 110,
    "start_time": "2022-01-27T10:16:09.344Z"
   },
   {
    "duration": 309,
    "start_time": "2022-01-27T10:16:17.168Z"
   },
   {
    "duration": 109,
    "start_time": "2022-01-27T10:16:35.961Z"
   },
   {
    "duration": 15,
    "start_time": "2022-01-27T10:16:40.411Z"
   },
   {
    "duration": 132,
    "start_time": "2022-01-27T10:17:33.276Z"
   },
   {
    "duration": 14,
    "start_time": "2022-01-27T10:17:39.780Z"
   },
   {
    "duration": 31,
    "start_time": "2022-01-27T10:17:42.373Z"
   },
   {
    "duration": 15,
    "start_time": "2022-01-27T10:20:04.465Z"
   },
   {
    "duration": 31,
    "start_time": "2022-01-27T10:20:06.350Z"
   },
   {
    "duration": 8,
    "start_time": "2022-01-27T10:20:28.000Z"
   },
   {
    "duration": 4115,
    "start_time": "2022-01-27T10:20:47.413Z"
   },
   {
    "duration": 16,
    "start_time": "2022-01-27T10:20:52.761Z"
   },
   {
    "duration": 7,
    "start_time": "2022-01-27T10:20:59.215Z"
   },
   {
    "duration": 3973,
    "start_time": "2022-01-27T10:22:28.032Z"
   },
   {
    "duration": 14,
    "start_time": "2022-01-27T10:22:32.008Z"
   },
   {
    "duration": 52,
    "start_time": "2022-01-27T10:22:32.025Z"
   },
   {
    "duration": 314,
    "start_time": "2022-01-27T10:27:05.360Z"
   },
   {
    "duration": 14,
    "start_time": "2022-01-27T10:27:12.239Z"
   },
   {
    "duration": 33,
    "start_time": "2022-01-27T10:27:15.346Z"
   },
   {
    "duration": 22,
    "start_time": "2022-01-27T10:29:25.905Z"
   },
   {
    "duration": 3,
    "start_time": "2022-01-27T10:29:41.745Z"
   },
   {
    "duration": 71,
    "start_time": "2022-01-27T10:29:41.753Z"
   },
   {
    "duration": 42,
    "start_time": "2022-01-27T10:29:41.827Z"
   },
   {
    "duration": 15,
    "start_time": "2022-01-27T10:29:41.872Z"
   },
   {
    "duration": 14,
    "start_time": "2022-01-27T10:29:41.889Z"
   },
   {
    "duration": 10,
    "start_time": "2022-01-27T10:29:41.906Z"
   },
   {
    "duration": 12,
    "start_time": "2022-01-27T10:29:41.918Z"
   },
   {
    "duration": 47,
    "start_time": "2022-01-27T10:29:41.933Z"
   },
   {
    "duration": 7,
    "start_time": "2022-01-27T10:29:41.986Z"
   },
   {
    "duration": 12,
    "start_time": "2022-01-27T10:29:41.997Z"
   },
   {
    "duration": 11,
    "start_time": "2022-01-27T10:29:42.012Z"
   },
   {
    "duration": 52,
    "start_time": "2022-01-27T10:29:42.025Z"
   },
   {
    "duration": 14,
    "start_time": "2022-01-27T10:29:42.079Z"
   },
   {
    "duration": 15,
    "start_time": "2022-01-27T10:29:42.095Z"
   },
   {
    "duration": 9,
    "start_time": "2022-01-27T10:29:42.113Z"
   },
   {
    "duration": 16,
    "start_time": "2022-01-27T10:29:42.124Z"
   },
   {
    "duration": 32,
    "start_time": "2022-01-27T10:29:42.143Z"
   },
   {
    "duration": 13,
    "start_time": "2022-01-27T10:29:42.178Z"
   },
   {
    "duration": 7,
    "start_time": "2022-01-27T10:29:42.194Z"
   },
   {
    "duration": 13,
    "start_time": "2022-01-27T10:29:42.203Z"
   },
   {
    "duration": 11,
    "start_time": "2022-01-27T10:29:42.219Z"
   },
   {
    "duration": 44,
    "start_time": "2022-01-27T10:29:42.233Z"
   },
   {
    "duration": 7,
    "start_time": "2022-01-27T10:29:42.280Z"
   },
   {
    "duration": 14,
    "start_time": "2022-01-27T10:29:42.291Z"
   },
   {
    "duration": 20,
    "start_time": "2022-01-27T10:29:42.308Z"
   },
   {
    "duration": 9,
    "start_time": "2022-01-27T10:29:42.330Z"
   },
   {
    "duration": 5,
    "start_time": "2022-01-27T10:29:42.371Z"
   },
   {
    "duration": 21,
    "start_time": "2022-01-27T10:29:42.378Z"
   },
   {
    "duration": 16,
    "start_time": "2022-01-27T10:29:42.401Z"
   },
   {
    "duration": 54,
    "start_time": "2022-01-27T10:29:42.420Z"
   },
   {
    "duration": 25,
    "start_time": "2022-01-27T10:29:42.477Z"
   },
   {
    "duration": 22,
    "start_time": "2022-01-27T10:29:42.504Z"
   },
   {
    "duration": 56,
    "start_time": "2022-01-27T10:29:42.528Z"
   },
   {
    "duration": 5513,
    "start_time": "2022-01-27T10:29:42.586Z"
   },
   {
    "duration": 14,
    "start_time": "2022-01-27T10:29:48.102Z"
   },
   {
    "duration": 21,
    "start_time": "2022-01-27T10:29:48.119Z"
   },
   {
    "duration": 32,
    "start_time": "2022-01-27T10:30:09.868Z"
   },
   {
    "duration": 31,
    "start_time": "2022-01-27T10:32:48.714Z"
   },
   {
    "duration": 315,
    "start_time": "2022-01-27T10:39:26.039Z"
   },
   {
    "duration": 312,
    "start_time": "2022-01-27T10:39:29.661Z"
   },
   {
    "duration": 6,
    "start_time": "2022-01-27T10:39:35.402Z"
   },
   {
    "duration": 9,
    "start_time": "2022-01-27T10:40:00.224Z"
   },
   {
    "duration": 400,
    "start_time": "2022-01-27T10:43:37.467Z"
   },
   {
    "duration": 9,
    "start_time": "2022-01-27T10:43:48.008Z"
   },
   {
    "duration": 12,
    "start_time": "2022-01-27T10:46:14.189Z"
   },
   {
    "duration": 7,
    "start_time": "2022-01-27T10:46:23.568Z"
   },
   {
    "duration": 9,
    "start_time": "2022-01-27T10:51:24.429Z"
   },
   {
    "duration": 14,
    "start_time": "2022-01-27T10:52:32.728Z"
   },
   {
    "duration": 33,
    "start_time": "2022-01-27T10:52:42.432Z"
   },
   {
    "duration": 42,
    "start_time": "2022-01-27T10:53:58.098Z"
   },
   {
    "duration": 9,
    "start_time": "2022-01-27T11:03:22.290Z"
   },
   {
    "duration": 10,
    "start_time": "2022-01-27T11:06:27.320Z"
   },
   {
    "duration": 141,
    "start_time": "2022-01-27T11:07:38.837Z"
   },
   {
    "duration": 11,
    "start_time": "2022-01-27T11:12:11.800Z"
   },
   {
    "duration": 11,
    "start_time": "2022-01-27T11:12:51.781Z"
   },
   {
    "duration": 41,
    "start_time": "2022-01-27T11:20:13.268Z"
   },
   {
    "duration": 3,
    "start_time": "2022-01-27T11:56:38.371Z"
   },
   {
    "duration": 67,
    "start_time": "2022-01-27T11:56:38.377Z"
   },
   {
    "duration": 35,
    "start_time": "2022-01-27T11:56:38.447Z"
   },
   {
    "duration": 16,
    "start_time": "2022-01-27T11:56:38.485Z"
   },
   {
    "duration": 13,
    "start_time": "2022-01-27T11:56:38.503Z"
   },
   {
    "duration": 6,
    "start_time": "2022-01-27T11:56:38.518Z"
   },
   {
    "duration": 7,
    "start_time": "2022-01-27T11:56:38.571Z"
   },
   {
    "duration": 12,
    "start_time": "2022-01-27T11:56:38.581Z"
   },
   {
    "duration": 7,
    "start_time": "2022-01-27T11:56:38.595Z"
   },
   {
    "duration": 12,
    "start_time": "2022-01-27T11:56:38.605Z"
   },
   {
    "duration": 50,
    "start_time": "2022-01-27T11:56:38.619Z"
   },
   {
    "duration": 12,
    "start_time": "2022-01-27T11:56:38.672Z"
   },
   {
    "duration": 9,
    "start_time": "2022-01-27T11:56:38.687Z"
   },
   {
    "duration": 11,
    "start_time": "2022-01-27T11:56:38.699Z"
   },
   {
    "duration": 13,
    "start_time": "2022-01-27T11:56:38.713Z"
   },
   {
    "duration": 45,
    "start_time": "2022-01-27T11:56:38.729Z"
   },
   {
    "duration": 8,
    "start_time": "2022-01-27T11:56:38.776Z"
   },
   {
    "duration": 20,
    "start_time": "2022-01-27T11:56:38.786Z"
   },
   {
    "duration": 7,
    "start_time": "2022-01-27T11:56:38.811Z"
   },
   {
    "duration": 16,
    "start_time": "2022-01-27T11:56:38.821Z"
   },
   {
    "duration": 34,
    "start_time": "2022-01-27T11:56:38.839Z"
   },
   {
    "duration": 12,
    "start_time": "2022-01-27T11:56:38.875Z"
   },
   {
    "duration": 10,
    "start_time": "2022-01-27T11:56:38.890Z"
   },
   {
    "duration": 12,
    "start_time": "2022-01-27T11:56:38.903Z"
   },
   {
    "duration": 16,
    "start_time": "2022-01-27T11:56:38.917Z"
   },
   {
    "duration": 36,
    "start_time": "2022-01-27T11:56:38.935Z"
   },
   {
    "duration": 6,
    "start_time": "2022-01-27T11:56:38.974Z"
   },
   {
    "duration": 20,
    "start_time": "2022-01-27T11:56:38.983Z"
   },
   {
    "duration": 17,
    "start_time": "2022-01-27T11:56:39.006Z"
   },
   {
    "duration": 57,
    "start_time": "2022-01-27T11:56:39.025Z"
   },
   {
    "duration": 26,
    "start_time": "2022-01-27T11:56:39.084Z"
   },
   {
    "duration": 23,
    "start_time": "2022-01-27T11:56:39.112Z"
   },
   {
    "duration": 33,
    "start_time": "2022-01-27T11:56:39.138Z"
   },
   {
    "duration": 15,
    "start_time": "2022-01-27T11:56:39.173Z"
   },
   {
    "duration": 11,
    "start_time": "2022-01-27T11:56:39.190Z"
   },
   {
    "duration": 9,
    "start_time": "2022-01-27T11:56:39.203Z"
   },
   {
    "duration": 16,
    "start_time": "2022-01-27T11:56:39.214Z"
   },
   {
    "duration": 60,
    "start_time": "2022-01-27T11:56:39.233Z"
   },
   {
    "duration": 4975,
    "start_time": "2022-01-27T11:56:39.295Z"
   },
   {
    "duration": 14,
    "start_time": "2022-01-27T11:56:44.273Z"
   },
   {
    "duration": 38,
    "start_time": "2022-01-27T11:57:19.429Z"
   },
   {
    "duration": 43,
    "start_time": "2022-01-27T11:58:17.597Z"
   },
   {
    "duration": 13,
    "start_time": "2022-01-27T12:28:03.105Z"
   },
   {
    "duration": 33,
    "start_time": "2022-01-27T12:28:06.428Z"
   },
   {
    "duration": 25,
    "start_time": "2022-01-27T12:28:07.976Z"
   },
   {
    "duration": 4,
    "start_time": "2022-01-27T12:28:14.417Z"
   },
   {
    "duration": 73,
    "start_time": "2022-01-27T12:28:14.424Z"
   },
   {
    "duration": 37,
    "start_time": "2022-01-27T12:28:14.499Z"
   },
   {
    "duration": 33,
    "start_time": "2022-01-27T12:28:14.539Z"
   },
   {
    "duration": 21,
    "start_time": "2022-01-27T12:28:14.575Z"
   },
   {
    "duration": 5,
    "start_time": "2022-01-27T12:28:14.598Z"
   },
   {
    "duration": 10,
    "start_time": "2022-01-27T12:28:14.606Z"
   },
   {
    "duration": 59,
    "start_time": "2022-01-27T12:28:14.619Z"
   },
   {
    "duration": 13,
    "start_time": "2022-01-27T12:28:14.681Z"
   },
   {
    "duration": 13,
    "start_time": "2022-01-27T12:28:14.697Z"
   },
   {
    "duration": 9,
    "start_time": "2022-01-27T12:28:14.713Z"
   },
   {
    "duration": 53,
    "start_time": "2022-01-27T12:28:14.725Z"
   },
   {
    "duration": 9,
    "start_time": "2022-01-27T12:28:14.780Z"
   },
   {
    "duration": 14,
    "start_time": "2022-01-27T12:28:14.791Z"
   },
   {
    "duration": 8,
    "start_time": "2022-01-27T12:28:14.807Z"
   },
   {
    "duration": 12,
    "start_time": "2022-01-27T12:28:14.817Z"
   },
   {
    "duration": 9,
    "start_time": "2022-01-27T12:28:14.870Z"
   },
   {
    "duration": 13,
    "start_time": "2022-01-27T12:28:14.882Z"
   },
   {
    "duration": 7,
    "start_time": "2022-01-27T12:28:14.899Z"
   },
   {
    "duration": 12,
    "start_time": "2022-01-27T12:28:14.909Z"
   },
   {
    "duration": 46,
    "start_time": "2022-01-27T12:28:14.923Z"
   },
   {
    "duration": 12,
    "start_time": "2022-01-27T12:28:14.971Z"
   },
   {
    "duration": 7,
    "start_time": "2022-01-27T12:28:14.986Z"
   },
   {
    "duration": 12,
    "start_time": "2022-01-27T12:28:14.995Z"
   },
   {
    "duration": 26,
    "start_time": "2022-01-27T12:28:15.010Z"
   },
   {
    "duration": 69,
    "start_time": "2022-01-27T12:28:15.039Z"
   },
   {
    "duration": 5,
    "start_time": "2022-01-27T12:28:15.110Z"
   },
   {
    "duration": 4,
    "start_time": "2022-01-27T12:28:15.118Z"
   },
   {
    "duration": 45,
    "start_time": "2022-01-27T12:28:15.124Z"
   },
   {
    "duration": 15,
    "start_time": "2022-01-27T12:28:15.172Z"
   },
   {
    "duration": 18,
    "start_time": "2022-01-27T12:28:15.190Z"
   },
   {
    "duration": 26,
    "start_time": "2022-01-27T12:28:15.210Z"
   },
   {
    "duration": 50,
    "start_time": "2022-01-27T12:28:15.238Z"
   },
   {
    "duration": 22,
    "start_time": "2022-01-27T12:28:15.290Z"
   },
   {
    "duration": 8,
    "start_time": "2022-01-27T12:28:15.314Z"
   },
   {
    "duration": 46,
    "start_time": "2022-01-27T12:28:15.325Z"
   },
   {
    "duration": 10,
    "start_time": "2022-01-27T12:28:15.373Z"
   },
   {
    "duration": 9,
    "start_time": "2022-01-27T12:28:15.385Z"
   },
   {
    "duration": 9,
    "start_time": "2022-01-27T12:28:15.396Z"
   },
   {
    "duration": 65,
    "start_time": "2022-01-27T12:28:15.407Z"
   },
   {
    "duration": 5535,
    "start_time": "2022-01-27T12:28:15.475Z"
   },
   {
    "duration": 15,
    "start_time": "2022-01-27T12:28:21.012Z"
   },
   {
    "duration": 14,
    "start_time": "2022-01-27T12:28:47.358Z"
   },
   {
    "duration": 336,
    "start_time": "2022-01-27T12:29:01.500Z"
   },
   {
    "duration": 33,
    "start_time": "2022-01-27T12:29:04.687Z"
   },
   {
    "duration": 33,
    "start_time": "2022-01-27T12:37:40.493Z"
   },
   {
    "duration": 31,
    "start_time": "2022-01-27T13:56:52.975Z"
   },
   {
    "duration": 33,
    "start_time": "2022-01-27T14:01:12.997Z"
   },
   {
    "duration": 7,
    "start_time": "2022-01-27T14:01:33.981Z"
   },
   {
    "duration": 466,
    "start_time": "2022-01-27T14:01:52.271Z"
   },
   {
    "duration": 9,
    "start_time": "2022-01-27T14:01:56.419Z"
   },
   {
    "duration": 9,
    "start_time": "2022-01-27T14:02:26.622Z"
   },
   {
    "duration": -669,
    "start_time": "2022-01-27T14:02:44.992Z"
   },
   {
    "duration": 4625,
    "start_time": "2022-01-27T14:02:49.405Z"
   },
   {
    "duration": -351,
    "start_time": "2022-01-27T14:02:54.385Z"
   },
   {
    "duration": -325,
    "start_time": "2022-01-27T14:03:23.166Z"
   },
   {
    "duration": 32,
    "start_time": "2022-01-27T14:03:28.168Z"
   },
   {
    "duration": 23,
    "start_time": "2022-01-27T14:04:09.928Z"
   },
   {
    "duration": -360,
    "start_time": "2022-01-27T14:04:36.104Z"
   },
   {
    "duration": 16,
    "start_time": "2022-01-27T14:04:42.047Z"
   },
   {
    "duration": 30,
    "start_time": "2022-01-27T14:05:29.798Z"
   },
   {
    "duration": 15,
    "start_time": "2022-01-27T14:05:59.732Z"
   },
   {
    "duration": 16,
    "start_time": "2022-01-27T14:06:10.220Z"
   },
   {
    "duration": 16,
    "start_time": "2022-01-27T14:07:37.356Z"
   },
   {
    "duration": 31,
    "start_time": "2022-01-27T14:13:43.039Z"
   },
   {
    "duration": 558,
    "start_time": "2022-01-27T14:14:25.133Z"
   },
   {
    "duration": 307,
    "start_time": "2022-01-27T14:14:40.068Z"
   },
   {
    "duration": 365,
    "start_time": "2022-01-27T14:20:58.872Z"
   },
   {
    "duration": 379,
    "start_time": "2022-01-27T14:21:05.334Z"
   },
   {
    "duration": 642,
    "start_time": "2022-01-27T14:21:15.445Z"
   },
   {
    "duration": 324,
    "start_time": "2022-01-27T14:23:13.650Z"
   },
   {
    "duration": 316,
    "start_time": "2022-01-27T14:24:15.941Z"
   },
   {
    "duration": 325,
    "start_time": "2022-01-27T14:25:44.689Z"
   },
   {
    "duration": 138,
    "start_time": "2022-01-27T14:26:48.713Z"
   },
   {
    "duration": 317,
    "start_time": "2022-01-27T14:26:55.337Z"
   },
   {
    "duration": 6803,
    "start_time": "2022-01-27T14:27:31.307Z"
   },
   {
    "duration": 280,
    "start_time": "2022-01-27T14:28:11.978Z"
   },
   {
    "duration": 116,
    "start_time": "2022-01-27T14:28:19.441Z"
   },
   {
    "duration": 341,
    "start_time": "2022-01-27T14:28:23.545Z"
   },
   {
    "duration": 446,
    "start_time": "2022-01-27T14:28:37.738Z"
   },
   {
    "duration": 353,
    "start_time": "2022-01-27T14:28:46.527Z"
   },
   {
    "duration": 1312,
    "start_time": "2022-01-27T14:31:09.377Z"
   },
   {
    "duration": 1817,
    "start_time": "2022-01-27T14:31:38.464Z"
   },
   {
    "duration": 23,
    "start_time": "2022-01-27T14:31:50.216Z"
   },
   {
    "duration": 457,
    "start_time": "2022-01-27T14:37:29.191Z"
   },
   {
    "duration": 397,
    "start_time": "2022-01-27T14:37:35.625Z"
   },
   {
    "duration": 20,
    "start_time": "2022-01-27T14:37:40.965Z"
   },
   {
    "duration": 19,
    "start_time": "2022-01-27T14:40:37.989Z"
   },
   {
    "duration": 7,
    "start_time": "2022-01-27T14:41:01.314Z"
   },
   {
    "duration": 6,
    "start_time": "2022-01-27T14:41:23.250Z"
   },
   {
    "duration": 27,
    "start_time": "2022-01-27T14:51:55.277Z"
   },
   {
    "duration": 19,
    "start_time": "2022-01-27T14:51:58.307Z"
   },
   {
    "duration": 25,
    "start_time": "2022-01-27T14:52:02.802Z"
   },
   {
    "duration": 21,
    "start_time": "2022-01-27T14:52:05.274Z"
   },
   {
    "duration": 19,
    "start_time": "2022-01-27T14:52:44.628Z"
   },
   {
    "duration": 22,
    "start_time": "2022-01-27T14:54:01.910Z"
   },
   {
    "duration": 5,
    "start_time": "2022-01-27T14:58:33.275Z"
   },
   {
    "duration": 7,
    "start_time": "2022-01-27T14:59:58.611Z"
   },
   {
    "duration": 5,
    "start_time": "2022-01-27T15:00:28.471Z"
   },
   {
    "duration": 6,
    "start_time": "2022-01-27T15:00:50.289Z"
   },
   {
    "duration": 1563,
    "start_time": "2022-01-27T15:02:32.358Z"
   },
   {
    "duration": -287,
    "start_time": "2022-01-27T15:03:36.634Z"
   },
   {
    "duration": 30,
    "start_time": "2022-01-27T15:03:43.610Z"
   },
   {
    "duration": -298,
    "start_time": "2022-01-27T15:04:02.938Z"
   },
   {
    "duration": 4860,
    "start_time": "2022-01-27T15:04:03.639Z"
   },
   {
    "duration": 2224,
    "start_time": "2022-01-27T15:07:10.933Z"
   },
   {
    "duration": 16,
    "start_time": "2022-01-27T15:08:09.919Z"
   },
   {
    "duration": 4,
    "start_time": "2022-01-27T15:08:22.623Z"
   },
   {
    "duration": 15,
    "start_time": "2022-01-27T15:08:23.370Z"
   },
   {
    "duration": 22,
    "start_time": "2022-01-27T15:08:31.925Z"
   },
   {
    "duration": 13,
    "start_time": "2022-01-27T15:09:32.044Z"
   },
   {
    "duration": 40,
    "start_time": "2022-01-27T15:09:36.687Z"
   },
   {
    "duration": 343,
    "start_time": "2022-01-27T15:09:48.631Z"
   },
   {
    "duration": 62,
    "start_time": "2022-01-27T15:09:54.550Z"
   },
   {
    "duration": 12,
    "start_time": "2022-01-27T15:36:41.725Z"
   },
   {
    "duration": 113,
    "start_time": "2022-01-27T15:44:32.962Z"
   },
   {
    "duration": 34,
    "start_time": "2022-01-27T15:45:06.519Z"
   },
   {
    "duration": 95,
    "start_time": "2022-01-27T15:45:31.784Z"
   },
   {
    "duration": 5,
    "start_time": "2022-01-27T15:46:16.324Z"
   },
   {
    "duration": -210,
    "start_time": "2022-01-27T15:46:46.224Z"
   },
   {
    "duration": 13,
    "start_time": "2022-01-27T15:46:48.398Z"
   },
   {
    "duration": 6,
    "start_time": "2022-01-27T15:47:43.021Z"
   },
   {
    "duration": 4,
    "start_time": "2022-01-27T15:48:06.997Z"
   },
   {
    "duration": 4,
    "start_time": "2022-01-27T15:48:10.032Z"
   },
   {
    "duration": 4,
    "start_time": "2022-01-27T15:48:18.676Z"
   },
   {
    "duration": 3,
    "start_time": "2022-01-27T15:48:26.828Z"
   },
   {
    "duration": 4,
    "start_time": "2022-01-27T15:48:28.536Z"
   },
   {
    "duration": 4,
    "start_time": "2022-01-27T15:48:28.888Z"
   },
   {
    "duration": 4,
    "start_time": "2022-01-27T15:48:30.917Z"
   },
   {
    "duration": 4,
    "start_time": "2022-01-27T15:48:37.267Z"
   },
   {
    "duration": 4,
    "start_time": "2022-01-27T15:48:38.313Z"
   },
   {
    "duration": 3,
    "start_time": "2022-01-27T15:48:43.146Z"
   },
   {
    "duration": 3,
    "start_time": "2022-01-27T15:48:47.450Z"
   },
   {
    "duration": 3,
    "start_time": "2022-01-27T15:48:48.817Z"
   },
   {
    "duration": 5,
    "start_time": "2022-01-27T15:48:57.410Z"
   },
   {
    "duration": 73,
    "start_time": "2022-01-27T15:48:57.418Z"
   },
   {
    "duration": 21,
    "start_time": "2022-01-27T15:48:57.494Z"
   },
   {
    "duration": 51,
    "start_time": "2022-01-27T15:48:57.519Z"
   },
   {
    "duration": 18,
    "start_time": "2022-01-27T15:48:57.574Z"
   },
   {
    "duration": 41,
    "start_time": "2022-01-27T15:48:57.595Z"
   },
   {
    "duration": 9,
    "start_time": "2022-01-27T15:48:57.641Z"
   },
   {
    "duration": 11,
    "start_time": "2022-01-27T15:48:57.670Z"
   },
   {
    "duration": 8,
    "start_time": "2022-01-27T15:48:57.683Z"
   },
   {
    "duration": 17,
    "start_time": "2022-01-27T15:48:57.693Z"
   },
   {
    "duration": 9,
    "start_time": "2022-01-27T15:48:57.713Z"
   },
   {
    "duration": 45,
    "start_time": "2022-01-27T15:48:57.724Z"
   },
   {
    "duration": 13,
    "start_time": "2022-01-27T15:48:57.772Z"
   },
   {
    "duration": 11,
    "start_time": "2022-01-27T15:48:57.788Z"
   },
   {
    "duration": 9,
    "start_time": "2022-01-27T15:48:57.801Z"
   },
   {
    "duration": 14,
    "start_time": "2022-01-27T15:48:57.812Z"
   },
   {
    "duration": 42,
    "start_time": "2022-01-27T15:48:57.829Z"
   },
   {
    "duration": 14,
    "start_time": "2022-01-27T15:48:57.874Z"
   },
   {
    "duration": 7,
    "start_time": "2022-01-27T15:48:57.896Z"
   },
   {
    "duration": 14,
    "start_time": "2022-01-27T15:48:57.908Z"
   },
   {
    "duration": 49,
    "start_time": "2022-01-27T15:48:57.924Z"
   },
   {
    "duration": 15,
    "start_time": "2022-01-27T15:48:57.976Z"
   },
   {
    "duration": 7,
    "start_time": "2022-01-27T15:48:57.993Z"
   },
   {
    "duration": 14,
    "start_time": "2022-01-27T15:48:58.003Z"
   },
   {
    "duration": 54,
    "start_time": "2022-01-27T15:48:58.020Z"
   },
   {
    "duration": 5,
    "start_time": "2022-01-27T15:48:58.076Z"
   },
   {
    "duration": 8,
    "start_time": "2022-01-27T15:48:58.083Z"
   },
   {
    "duration": 17,
    "start_time": "2022-01-27T15:48:58.093Z"
   },
   {
    "duration": 15,
    "start_time": "2022-01-27T15:48:58.113Z"
   },
   {
    "duration": 48,
    "start_time": "2022-01-27T15:48:58.130Z"
   },
   {
    "duration": 26,
    "start_time": "2022-01-27T15:48:58.180Z"
   },
   {
    "duration": 26,
    "start_time": "2022-01-27T15:48:58.208Z"
   },
   {
    "duration": 53,
    "start_time": "2022-01-27T15:48:58.236Z"
   },
   {
    "duration": 8,
    "start_time": "2022-01-27T15:48:58.292Z"
   },
   {
    "duration": 12,
    "start_time": "2022-01-27T15:48:58.302Z"
   },
   {
    "duration": 11,
    "start_time": "2022-01-27T15:48:58.317Z"
   },
   {
    "duration": 42,
    "start_time": "2022-01-27T15:48:58.330Z"
   },
   {
    "duration": 10,
    "start_time": "2022-01-27T15:48:58.375Z"
   },
   {
    "duration": 30,
    "start_time": "2022-01-27T15:48:58.387Z"
   },
   {
    "duration": 6151,
    "start_time": "2022-01-27T15:48:58.420Z"
   },
   {
    "duration": 14,
    "start_time": "2022-01-27T15:49:04.574Z"
   },
   {
    "duration": 25,
    "start_time": "2022-01-27T15:49:04.590Z"
   },
   {
    "duration": 16,
    "start_time": "2022-01-27T15:49:04.618Z"
   },
   {
    "duration": 50,
    "start_time": "2022-01-27T15:49:04.636Z"
   },
   {
    "duration": 5,
    "start_time": "2022-01-27T15:49:04.688Z"
   },
   {
    "duration": 22,
    "start_time": "2022-01-27T15:49:04.695Z"
   },
   {
    "duration": 54,
    "start_time": "2022-01-27T15:49:04.719Z"
   },
   {
    "duration": 11,
    "start_time": "2022-01-27T15:49:04.775Z"
   },
   {
    "duration": 7,
    "start_time": "2022-01-27T15:49:04.789Z"
   },
   {
    "duration": 4,
    "start_time": "2022-01-27T15:49:04.798Z"
   },
   {
    "duration": 3,
    "start_time": "2022-01-27T15:49:11.169Z"
   },
   {
    "duration": 4,
    "start_time": "2022-01-27T15:49:39.661Z"
   },
   {
    "duration": 4,
    "start_time": "2022-01-27T15:49:46.607Z"
   },
   {
    "duration": 6,
    "start_time": "2022-01-27T15:49:58.183Z"
   },
   {
    "duration": 5,
    "start_time": "2022-01-27T15:50:02.290Z"
   },
   {
    "duration": 5,
    "start_time": "2022-01-27T15:50:05.472Z"
   },
   {
    "duration": 4,
    "start_time": "2022-01-27T15:51:24.084Z"
   },
   {
    "duration": 13,
    "start_time": "2022-01-27T15:51:51.256Z"
   },
   {
    "duration": 28,
    "start_time": "2022-01-27T15:51:53.606Z"
   },
   {
    "duration": 47,
    "start_time": "2022-01-27T15:51:57.171Z"
   },
   {
    "duration": 5,
    "start_time": "2022-01-27T15:52:59.450Z"
   },
   {
    "duration": 20,
    "start_time": "2022-01-27T15:52:59.798Z"
   },
   {
    "duration": 57,
    "start_time": "2022-01-27T15:53:00.525Z"
   },
   {
    "duration": 5,
    "start_time": "2022-01-27T15:53:12.959Z"
   },
   {
    "duration": 10,
    "start_time": "2022-01-27T15:53:13.462Z"
   },
   {
    "duration": 36,
    "start_time": "2022-01-27T15:53:13.988Z"
   },
   {
    "duration": 4,
    "start_time": "2022-01-27T15:53:44.822Z"
   },
   {
    "duration": 11,
    "start_time": "2022-01-27T15:53:45.190Z"
   },
   {
    "duration": 40,
    "start_time": "2022-01-27T15:53:45.755Z"
   },
   {
    "duration": 36,
    "start_time": "2022-01-27T15:54:05.971Z"
   },
   {
    "duration": 5,
    "start_time": "2022-01-27T15:55:17.664Z"
   },
   {
    "duration": 4,
    "start_time": "2022-01-27T15:55:20.439Z"
   },
   {
    "duration": 14,
    "start_time": "2022-01-27T15:55:20.832Z"
   },
   {
    "duration": 32,
    "start_time": "2022-01-27T15:55:21.402Z"
   },
   {
    "duration": 9,
    "start_time": "2022-01-27T15:55:39.183Z"
   },
   {
    "duration": 21,
    "start_time": "2022-01-27T15:55:39.576Z"
   },
   {
    "duration": 55,
    "start_time": "2022-01-27T15:55:40.120Z"
   },
   {
    "duration": 4,
    "start_time": "2022-01-27T15:56:33.621Z"
   },
   {
    "duration": 18,
    "start_time": "2022-01-27T15:56:34.050Z"
   },
   {
    "duration": 43,
    "start_time": "2022-01-27T15:56:34.585Z"
   },
   {
    "duration": 4,
    "start_time": "2022-01-27T15:56:41.896Z"
   },
   {
    "duration": 12,
    "start_time": "2022-01-27T15:56:42.349Z"
   },
   {
    "duration": 38,
    "start_time": "2022-01-27T15:56:44.174Z"
   },
   {
    "duration": 5,
    "start_time": "2022-01-27T15:56:49.035Z"
   },
   {
    "duration": 101,
    "start_time": "2022-01-27T15:56:49.044Z"
   },
   {
    "duration": 21,
    "start_time": "2022-01-27T15:56:49.170Z"
   },
   {
    "duration": 15,
    "start_time": "2022-01-27T15:56:49.194Z"
   },
   {
    "duration": 59,
    "start_time": "2022-01-27T15:56:49.212Z"
   },
   {
    "duration": 6,
    "start_time": "2022-01-27T15:56:49.274Z"
   },
   {
    "duration": 13,
    "start_time": "2022-01-27T15:56:49.283Z"
   },
   {
    "duration": 15,
    "start_time": "2022-01-27T15:56:49.300Z"
   },
   {
    "duration": 11,
    "start_time": "2022-01-27T15:56:49.319Z"
   },
   {
    "duration": 17,
    "start_time": "2022-01-27T15:56:49.370Z"
   },
   {
    "duration": 14,
    "start_time": "2022-01-27T15:56:49.390Z"
   },
   {
    "duration": 18,
    "start_time": "2022-01-27T15:56:49.408Z"
   },
   {
    "duration": 40,
    "start_time": "2022-01-27T15:56:49.430Z"
   },
   {
    "duration": 15,
    "start_time": "2022-01-27T15:56:49.473Z"
   },
   {
    "duration": 12,
    "start_time": "2022-01-27T15:56:49.490Z"
   },
   {
    "duration": 22,
    "start_time": "2022-01-27T15:56:49.505Z"
   },
   {
    "duration": 8,
    "start_time": "2022-01-27T15:56:49.529Z"
   },
   {
    "duration": 40,
    "start_time": "2022-01-27T15:56:49.539Z"
   },
   {
    "duration": 17,
    "start_time": "2022-01-27T15:56:49.582Z"
   },
   {
    "duration": 17,
    "start_time": "2022-01-27T15:56:49.602Z"
   },
   {
    "duration": 12,
    "start_time": "2022-01-27T15:56:49.623Z"
   },
   {
    "duration": 42,
    "start_time": "2022-01-27T15:56:49.638Z"
   },
   {
    "duration": 10,
    "start_time": "2022-01-27T15:56:49.688Z"
   },
   {
    "duration": 14,
    "start_time": "2022-01-27T15:56:49.701Z"
   },
   {
    "duration": 53,
    "start_time": "2022-01-27T15:56:49.718Z"
   },
   {
    "duration": 6,
    "start_time": "2022-01-27T15:56:49.776Z"
   },
   {
    "duration": 9,
    "start_time": "2022-01-27T15:56:49.785Z"
   },
   {
    "duration": 21,
    "start_time": "2022-01-27T15:56:49.797Z"
   },
   {
    "duration": 16,
    "start_time": "2022-01-27T15:56:49.821Z"
   },
   {
    "duration": 48,
    "start_time": "2022-01-27T15:56:49.840Z"
   },
   {
    "duration": 34,
    "start_time": "2022-01-27T15:56:49.890Z"
   },
   {
    "duration": 56,
    "start_time": "2022-01-27T15:56:49.927Z"
   },
   {
    "duration": 26,
    "start_time": "2022-01-27T15:56:49.986Z"
   },
   {
    "duration": 8,
    "start_time": "2022-01-27T15:56:50.015Z"
   },
   {
    "duration": 58,
    "start_time": "2022-01-27T15:56:50.027Z"
   },
   {
    "duration": 15,
    "start_time": "2022-01-27T15:56:50.088Z"
   },
   {
    "duration": 14,
    "start_time": "2022-01-27T15:56:50.106Z"
   },
   {
    "duration": 15,
    "start_time": "2022-01-27T15:56:50.123Z"
   },
   {
    "duration": 31,
    "start_time": "2022-01-27T15:56:50.171Z"
   },
   {
    "duration": 6622,
    "start_time": "2022-01-27T15:56:50.205Z"
   },
   {
    "duration": 20,
    "start_time": "2022-01-27T15:56:56.830Z"
   },
   {
    "duration": 43,
    "start_time": "2022-01-27T15:56:56.853Z"
   },
   {
    "duration": 20,
    "start_time": "2022-01-27T15:56:56.899Z"
   },
   {
    "duration": 60,
    "start_time": "2022-01-27T15:56:56.922Z"
   },
   {
    "duration": 5,
    "start_time": "2022-01-27T15:56:56.984Z"
   },
   {
    "duration": 16,
    "start_time": "2022-01-27T15:56:56.991Z"
   },
   {
    "duration": 67,
    "start_time": "2022-01-27T15:56:57.010Z"
   },
   {
    "duration": 8,
    "start_time": "2022-01-27T15:56:57.080Z"
   },
   {
    "duration": 25,
    "start_time": "2022-01-27T15:56:57.091Z"
   },
   {
    "duration": 60,
    "start_time": "2022-01-27T15:56:57.119Z"
   },
   {
    "duration": 4,
    "start_time": "2022-01-27T15:59:39.064Z"
   },
   {
    "duration": 18,
    "start_time": "2022-01-27T15:59:39.478Z"
   },
   {
    "duration": 37,
    "start_time": "2022-01-27T15:59:39.992Z"
   },
   {
    "duration": 47,
    "start_time": "2022-01-27T16:00:21.346Z"
   },
   {
    "duration": 46,
    "start_time": "2022-01-27T16:01:18.654Z"
   },
   {
    "duration": 38,
    "start_time": "2022-01-27T16:03:07.623Z"
   },
   {
    "duration": 36,
    "start_time": "2022-01-27T16:03:39.157Z"
   },
   {
    "duration": 3,
    "start_time": "2022-01-27T16:09:35.106Z"
   },
   {
    "duration": 68,
    "start_time": "2022-01-27T16:09:35.112Z"
   },
   {
    "duration": 20,
    "start_time": "2022-01-27T16:09:35.183Z"
   },
   {
    "duration": 24,
    "start_time": "2022-01-27T16:09:35.206Z"
   },
   {
    "duration": 38,
    "start_time": "2022-01-27T16:09:35.233Z"
   },
   {
    "duration": 5,
    "start_time": "2022-01-27T16:09:35.273Z"
   },
   {
    "duration": 10,
    "start_time": "2022-01-27T16:09:35.282Z"
   },
   {
    "duration": 10,
    "start_time": "2022-01-27T16:09:35.295Z"
   },
   {
    "duration": 7,
    "start_time": "2022-01-27T16:09:35.307Z"
   },
   {
    "duration": 57,
    "start_time": "2022-01-27T16:09:35.317Z"
   },
   {
    "duration": 7,
    "start_time": "2022-01-27T16:09:35.377Z"
   },
   {
    "duration": 16,
    "start_time": "2022-01-27T16:09:35.387Z"
   },
   {
    "duration": 16,
    "start_time": "2022-01-27T16:09:35.406Z"
   },
   {
    "duration": 11,
    "start_time": "2022-01-27T16:09:35.425Z"
   },
   {
    "duration": 34,
    "start_time": "2022-01-27T16:09:35.439Z"
   },
   {
    "duration": 11,
    "start_time": "2022-01-27T16:09:35.475Z"
   },
   {
    "duration": 11,
    "start_time": "2022-01-27T16:09:35.488Z"
   },
   {
    "duration": 12,
    "start_time": "2022-01-27T16:09:35.501Z"
   },
   {
    "duration": 7,
    "start_time": "2022-01-27T16:09:35.518Z"
   },
   {
    "duration": 44,
    "start_time": "2022-01-27T16:09:35.528Z"
   },
   {
    "duration": 10,
    "start_time": "2022-01-27T16:09:35.574Z"
   },
   {
    "duration": 12,
    "start_time": "2022-01-27T16:09:35.587Z"
   },
   {
    "duration": 7,
    "start_time": "2022-01-27T16:09:35.601Z"
   },
   {
    "duration": 17,
    "start_time": "2022-01-27T16:09:35.610Z"
   },
   {
    "duration": 45,
    "start_time": "2022-01-27T16:09:35.629Z"
   },
   {
    "duration": 7,
    "start_time": "2022-01-27T16:09:35.676Z"
   },
   {
    "duration": 6,
    "start_time": "2022-01-27T16:09:35.686Z"
   },
   {
    "duration": 18,
    "start_time": "2022-01-27T16:09:35.694Z"
   },
   {
    "duration": 17,
    "start_time": "2022-01-27T16:09:35.714Z"
   },
   {
    "duration": 48,
    "start_time": "2022-01-27T16:09:35.733Z"
   },
   {
    "duration": 27,
    "start_time": "2022-01-27T16:09:35.783Z"
   },
   {
    "duration": 27,
    "start_time": "2022-01-27T16:09:35.813Z"
   },
   {
    "duration": 50,
    "start_time": "2022-01-27T16:09:35.842Z"
   },
   {
    "duration": 10,
    "start_time": "2022-01-27T16:09:35.894Z"
   },
   {
    "duration": 15,
    "start_time": "2022-01-27T16:09:35.907Z"
   },
   {
    "duration": 48,
    "start_time": "2022-01-27T16:09:35.924Z"
   },
   {
    "duration": 11,
    "start_time": "2022-01-27T16:09:35.975Z"
   },
   {
    "duration": 11,
    "start_time": "2022-01-27T16:09:35.989Z"
   },
   {
    "duration": 34,
    "start_time": "2022-01-27T16:09:36.002Z"
   },
   {
    "duration": 4819,
    "start_time": "2022-01-27T16:09:36.039Z"
   },
   {
    "duration": 15,
    "start_time": "2022-01-27T16:09:40.870Z"
   },
   {
    "duration": 29,
    "start_time": "2022-01-27T16:09:40.887Z"
   },
   {
    "duration": 17,
    "start_time": "2022-01-27T16:09:40.919Z"
   },
   {
    "duration": 48,
    "start_time": "2022-01-27T16:09:40.940Z"
   },
   {
    "duration": 5,
    "start_time": "2022-01-27T16:09:40.991Z"
   },
   {
    "duration": 20,
    "start_time": "2022-01-27T16:09:40.999Z"
   },
   {
    "duration": 12,
    "start_time": "2022-01-27T16:09:41.022Z"
   },
   {
    "duration": 45,
    "start_time": "2022-01-27T16:09:41.037Z"
   },
   {
    "duration": 36,
    "start_time": "2022-01-27T16:09:41.085Z"
   },
   {
    "duration": 13,
    "start_time": "2022-01-27T16:12:51.646Z"
   },
   {
    "duration": 37,
    "start_time": "2022-01-27T16:29:00.089Z"
   },
   {
    "duration": 316,
    "start_time": "2022-01-27T16:33:06.727Z"
   },
   {
    "duration": 15,
    "start_time": "2022-01-27T16:33:14.833Z"
   },
   {
    "duration": 53,
    "start_time": "2022-01-27T16:33:20.331Z"
   },
   {
    "duration": 38,
    "start_time": "2022-01-27T16:34:12.146Z"
   },
   {
    "duration": 39,
    "start_time": "2022-01-27T16:34:50.138Z"
   },
   {
    "duration": 22,
    "start_time": "2022-01-27T16:35:09.938Z"
   },
   {
    "duration": 6033,
    "start_time": "2022-01-27T16:35:26.371Z"
   },
   {
    "duration": 14,
    "start_time": "2022-01-27T16:36:02.463Z"
   },
   {
    "duration": 12,
    "start_time": "2022-01-27T16:36:10.505Z"
   },
   {
    "duration": 9,
    "start_time": "2022-01-27T16:36:59.906Z"
   },
   {
    "duration": 14,
    "start_time": "2022-01-27T16:37:29.631Z"
   },
   {
    "duration": 21,
    "start_time": "2022-01-27T16:37:30.650Z"
   },
   {
    "duration": 11,
    "start_time": "2022-01-27T16:37:55.320Z"
   },
   {
    "duration": 9,
    "start_time": "2022-01-27T16:38:11.421Z"
   },
   {
    "duration": 20,
    "start_time": "2022-01-27T16:47:56.702Z"
   },
   {
    "duration": 32,
    "start_time": "2022-01-27T16:48:40.849Z"
   },
   {
    "duration": 34,
    "start_time": "2022-01-27T16:53:15.904Z"
   },
   {
    "duration": 351,
    "start_time": "2022-01-27T16:53:51.199Z"
   },
   {
    "duration": 23,
    "start_time": "2022-01-27T16:54:12.181Z"
   },
   {
    "duration": 26,
    "start_time": "2022-01-27T16:54:15.575Z"
   },
   {
    "duration": 25,
    "start_time": "2022-01-27T16:54:17.071Z"
   },
   {
    "duration": 35,
    "start_time": "2022-01-27T16:54:18.214Z"
   },
   {
    "duration": 21,
    "start_time": "2022-01-27T16:54:24.762Z"
   },
   {
    "duration": 4,
    "start_time": "2022-01-27T16:54:29.689Z"
   },
   {
    "duration": 99,
    "start_time": "2022-01-27T16:54:29.697Z"
   },
   {
    "duration": 29,
    "start_time": "2022-01-27T16:54:29.800Z"
   },
   {
    "duration": 57,
    "start_time": "2022-01-27T16:54:29.832Z"
   },
   {
    "duration": 20,
    "start_time": "2022-01-27T16:54:29.892Z"
   },
   {
    "duration": 6,
    "start_time": "2022-01-27T16:54:29.915Z"
   },
   {
    "duration": 46,
    "start_time": "2022-01-27T16:54:29.925Z"
   },
   {
    "duration": 12,
    "start_time": "2022-01-27T16:54:29.974Z"
   },
   {
    "duration": 7,
    "start_time": "2022-01-27T16:54:29.990Z"
   },
   {
    "duration": 23,
    "start_time": "2022-01-27T16:54:30.000Z"
   },
   {
    "duration": 21,
    "start_time": "2022-01-27T16:54:30.025Z"
   },
   {
    "duration": 13,
    "start_time": "2022-01-27T16:54:30.085Z"
   },
   {
    "duration": 16,
    "start_time": "2022-01-27T16:54:30.100Z"
   },
   {
    "duration": 27,
    "start_time": "2022-01-27T16:54:30.118Z"
   },
   {
    "duration": 11,
    "start_time": "2022-01-27T16:54:30.148Z"
   },
   {
    "duration": 20,
    "start_time": "2022-01-27T16:54:30.162Z"
   },
   {
    "duration": 9,
    "start_time": "2022-01-27T16:54:30.185Z"
   },
   {
    "duration": 16,
    "start_time": "2022-01-27T16:54:30.196Z"
   },
   {
    "duration": 11,
    "start_time": "2022-01-27T16:54:30.219Z"
   },
   {
    "duration": 48,
    "start_time": "2022-01-27T16:54:30.234Z"
   },
   {
    "duration": 19,
    "start_time": "2022-01-27T16:54:30.285Z"
   },
   {
    "duration": 26,
    "start_time": "2022-01-27T16:54:30.307Z"
   },
   {
    "duration": 12,
    "start_time": "2022-01-27T16:54:30.336Z"
   },
   {
    "duration": 22,
    "start_time": "2022-01-27T16:54:30.351Z"
   },
   {
    "duration": 30,
    "start_time": "2022-01-27T16:54:30.376Z"
   },
   {
    "duration": 10,
    "start_time": "2022-01-27T16:54:30.409Z"
   },
   {
    "duration": 9,
    "start_time": "2022-01-27T16:54:30.424Z"
   },
   {
    "duration": 38,
    "start_time": "2022-01-27T16:54:30.436Z"
   },
   {
    "duration": 21,
    "start_time": "2022-01-27T16:54:30.477Z"
   },
   {
    "duration": 22,
    "start_time": "2022-01-27T16:54:30.502Z"
   },
   {
    "duration": 48,
    "start_time": "2022-01-27T16:54:30.527Z"
   },
   {
    "duration": 30,
    "start_time": "2022-01-27T16:54:30.578Z"
   },
   {
    "duration": 25,
    "start_time": "2022-01-27T16:54:30.611Z"
   },
   {
    "duration": 37,
    "start_time": "2022-01-27T16:54:30.638Z"
   },
   {
    "duration": 13,
    "start_time": "2022-01-27T16:54:30.678Z"
   },
   {
    "duration": 14,
    "start_time": "2022-01-27T16:54:30.693Z"
   },
   {
    "duration": 21,
    "start_time": "2022-01-27T16:54:30.710Z"
   },
   {
    "duration": 49,
    "start_time": "2022-01-27T16:54:30.734Z"
   },
   {
    "duration": 47,
    "start_time": "2022-01-27T16:54:30.785Z"
   },
   {
    "duration": 6342,
    "start_time": "2022-01-27T16:54:30.834Z"
   },
   {
    "duration": 15,
    "start_time": "2022-01-27T16:54:37.179Z"
   },
   {
    "duration": 25,
    "start_time": "2022-01-27T16:54:37.196Z"
   },
   {
    "duration": 46,
    "start_time": "2022-01-27T16:54:37.224Z"
   },
   {
    "duration": 20,
    "start_time": "2022-01-27T16:54:37.272Z"
   },
   {
    "duration": 4,
    "start_time": "2022-01-27T16:54:37.294Z"
   },
   {
    "duration": 14,
    "start_time": "2022-01-27T16:54:37.300Z"
   },
   {
    "duration": 3,
    "start_time": "2022-01-27T16:54:37.317Z"
   },
   {
    "duration": 61,
    "start_time": "2022-01-27T16:54:37.323Z"
   },
   {
    "duration": 43,
    "start_time": "2022-01-27T16:54:37.386Z"
   },
   {
    "duration": 40,
    "start_time": "2022-01-27T16:54:37.431Z"
   },
   {
    "duration": 11,
    "start_time": "2022-01-27T16:54:37.474Z"
   },
   {
    "duration": 36,
    "start_time": "2022-01-27T16:54:37.488Z"
   },
   {
    "duration": 30,
    "start_time": "2022-01-27T16:54:39.466Z"
   },
   {
    "duration": 63,
    "start_time": "2022-01-27T17:03:05.917Z"
   },
   {
    "duration": 321,
    "start_time": "2022-01-27T17:04:29.127Z"
   },
   {
    "duration": 311,
    "start_time": "2022-01-27T17:04:52.460Z"
   },
   {
    "duration": 32,
    "start_time": "2022-01-27T17:05:06.338Z"
   },
   {
    "duration": 340,
    "start_time": "2022-01-27T17:05:40.671Z"
   },
   {
    "duration": 31,
    "start_time": "2022-01-27T17:07:48.694Z"
   },
   {
    "duration": 28,
    "start_time": "2022-01-27T17:09:01.477Z"
   },
   {
    "duration": 27,
    "start_time": "2022-01-27T17:09:31.994Z"
   },
   {
    "duration": 26,
    "start_time": "2022-01-27T17:10:39.771Z"
   },
   {
    "duration": 459,
    "start_time": "2022-01-27T17:11:01.133Z"
   },
   {
    "duration": 27,
    "start_time": "2022-01-27T17:11:08.875Z"
   },
   {
    "duration": 34,
    "start_time": "2022-01-27T17:11:45.655Z"
   },
   {
    "duration": 4,
    "start_time": "2022-01-27T17:13:50.479Z"
   },
   {
    "duration": 4,
    "start_time": "2022-01-27T17:13:55.823Z"
   },
   {
    "duration": 75,
    "start_time": "2022-01-27T17:13:55.830Z"
   },
   {
    "duration": 23,
    "start_time": "2022-01-27T17:13:55.909Z"
   },
   {
    "duration": 17,
    "start_time": "2022-01-27T17:13:55.969Z"
   },
   {
    "duration": 14,
    "start_time": "2022-01-27T17:13:55.989Z"
   },
   {
    "duration": 6,
    "start_time": "2022-01-27T17:13:56.006Z"
   },
   {
    "duration": 57,
    "start_time": "2022-01-27T17:13:56.014Z"
   },
   {
    "duration": 10,
    "start_time": "2022-01-27T17:13:56.074Z"
   },
   {
    "duration": 13,
    "start_time": "2022-01-27T17:13:56.088Z"
   },
   {
    "duration": 13,
    "start_time": "2022-01-27T17:13:56.104Z"
   },
   {
    "duration": 8,
    "start_time": "2022-01-27T17:13:56.119Z"
   },
   {
    "duration": 46,
    "start_time": "2022-01-27T17:13:56.130Z"
   },
   {
    "duration": 12,
    "start_time": "2022-01-27T17:13:56.178Z"
   },
   {
    "duration": 15,
    "start_time": "2022-01-27T17:13:56.192Z"
   },
   {
    "duration": 9,
    "start_time": "2022-01-27T17:13:56.209Z"
   },
   {
    "duration": 14,
    "start_time": "2022-01-27T17:13:56.220Z"
   },
   {
    "duration": 34,
    "start_time": "2022-01-27T17:13:56.236Z"
   },
   {
    "duration": 12,
    "start_time": "2022-01-27T17:13:56.273Z"
   },
   {
    "duration": 16,
    "start_time": "2022-01-27T17:13:56.287Z"
   },
   {
    "duration": 16,
    "start_time": "2022-01-27T17:13:56.306Z"
   },
   {
    "duration": 17,
    "start_time": "2022-01-27T17:13:56.325Z"
   },
   {
    "duration": 30,
    "start_time": "2022-01-27T17:13:56.345Z"
   },
   {
    "duration": 7,
    "start_time": "2022-01-27T17:13:56.378Z"
   },
   {
    "duration": 23,
    "start_time": "2022-01-27T17:13:56.387Z"
   },
   {
    "duration": 17,
    "start_time": "2022-01-27T17:13:56.412Z"
   },
   {
    "duration": 5,
    "start_time": "2022-01-27T17:13:56.431Z"
   },
   {
    "duration": 29,
    "start_time": "2022-01-27T17:13:56.441Z"
   },
   {
    "duration": 19,
    "start_time": "2022-01-27T17:13:56.474Z"
   },
   {
    "duration": 16,
    "start_time": "2022-01-27T17:13:56.495Z"
   },
   {
    "duration": 16,
    "start_time": "2022-01-27T17:13:56.514Z"
   },
   {
    "duration": 51,
    "start_time": "2022-01-27T17:13:56.532Z"
   },
   {
    "duration": 28,
    "start_time": "2022-01-27T17:13:56.586Z"
   },
   {
    "duration": 22,
    "start_time": "2022-01-27T17:13:56.617Z"
   },
   {
    "duration": 8,
    "start_time": "2022-01-27T17:13:56.670Z"
   },
   {
    "duration": 24,
    "start_time": "2022-01-27T17:13:56.680Z"
   },
   {
    "duration": 16,
    "start_time": "2022-01-27T17:13:56.707Z"
   },
   {
    "duration": 9,
    "start_time": "2022-01-27T17:13:56.726Z"
   },
   {
    "duration": 35,
    "start_time": "2022-01-27T17:13:56.738Z"
   },
   {
    "duration": 36,
    "start_time": "2022-01-27T17:13:56.775Z"
   },
   {
    "duration": 5274,
    "start_time": "2022-01-27T17:13:56.814Z"
   },
   {
    "duration": 16,
    "start_time": "2022-01-27T17:14:02.091Z"
   },
   {
    "duration": 42,
    "start_time": "2022-01-27T17:14:02.110Z"
   },
   {
    "duration": 22,
    "start_time": "2022-01-27T17:14:02.170Z"
   },
   {
    "duration": 29,
    "start_time": "2022-01-27T17:14:02.195Z"
   },
   {
    "duration": 5,
    "start_time": "2022-01-27T17:14:02.227Z"
   },
   {
    "duration": 52,
    "start_time": "2022-01-27T17:14:02.235Z"
   },
   {
    "duration": 5,
    "start_time": "2022-01-27T17:14:02.290Z"
   },
   {
    "duration": 16,
    "start_time": "2022-01-27T17:14:02.298Z"
   },
   {
    "duration": 78,
    "start_time": "2022-01-27T17:14:02.317Z"
   },
   {
    "duration": 300,
    "start_time": "2022-01-27T17:14:02.398Z"
   },
   {
    "duration": -458,
    "start_time": "2022-01-27T17:14:03.159Z"
   },
   {
    "duration": -464,
    "start_time": "2022-01-27T17:14:03.166Z"
   },
   {
    "duration": 4,
    "start_time": "2022-01-27T17:14:40.563Z"
   },
   {
    "duration": 70,
    "start_time": "2022-01-27T17:14:40.569Z"
   },
   {
    "duration": 41,
    "start_time": "2022-01-27T17:14:40.642Z"
   },
   {
    "duration": 22,
    "start_time": "2022-01-27T17:14:40.685Z"
   },
   {
    "duration": 13,
    "start_time": "2022-01-27T17:14:40.709Z"
   },
   {
    "duration": 5,
    "start_time": "2022-01-27T17:14:40.724Z"
   },
   {
    "duration": 8,
    "start_time": "2022-01-27T17:14:40.771Z"
   },
   {
    "duration": 10,
    "start_time": "2022-01-27T17:14:40.782Z"
   },
   {
    "duration": 7,
    "start_time": "2022-01-27T17:14:40.794Z"
   },
   {
    "duration": 13,
    "start_time": "2022-01-27T17:14:40.803Z"
   },
   {
    "duration": 9,
    "start_time": "2022-01-27T17:14:40.819Z"
   },
   {
    "duration": 12,
    "start_time": "2022-01-27T17:14:40.871Z"
   },
   {
    "duration": 9,
    "start_time": "2022-01-27T17:14:40.886Z"
   },
   {
    "duration": 15,
    "start_time": "2022-01-27T17:14:40.898Z"
   },
   {
    "duration": 9,
    "start_time": "2022-01-27T17:14:40.915Z"
   },
   {
    "duration": 44,
    "start_time": "2022-01-27T17:14:40.927Z"
   },
   {
    "duration": 9,
    "start_time": "2022-01-27T17:14:40.974Z"
   },
   {
    "duration": 12,
    "start_time": "2022-01-27T17:14:40.986Z"
   },
   {
    "duration": 8,
    "start_time": "2022-01-27T17:14:41.003Z"
   },
   {
    "duration": 12,
    "start_time": "2022-01-27T17:14:41.014Z"
   },
   {
    "duration": 47,
    "start_time": "2022-01-27T17:14:41.028Z"
   },
   {
    "duration": 12,
    "start_time": "2022-01-27T17:14:41.078Z"
   },
   {
    "duration": 7,
    "start_time": "2022-01-27T17:14:41.092Z"
   },
   {
    "duration": 11,
    "start_time": "2022-01-27T17:14:41.102Z"
   },
   {
    "duration": 13,
    "start_time": "2022-01-27T17:14:41.115Z"
   },
   {
    "duration": 41,
    "start_time": "2022-01-27T17:14:41.131Z"
   },
   {
    "duration": 6,
    "start_time": "2022-01-27T17:14:41.174Z"
   },
   {
    "duration": 16,
    "start_time": "2022-01-27T17:14:41.183Z"
   },
   {
    "duration": 15,
    "start_time": "2022-01-27T17:14:41.202Z"
   },
   {
    "duration": 54,
    "start_time": "2022-01-27T17:14:41.220Z"
   },
   {
    "duration": 28,
    "start_time": "2022-01-27T17:14:41.277Z"
   },
   {
    "duration": 25,
    "start_time": "2022-01-27T17:14:41.307Z"
   },
   {
    "duration": 51,
    "start_time": "2022-01-27T17:14:41.334Z"
   },
   {
    "duration": 11,
    "start_time": "2022-01-27T17:14:41.388Z"
   },
   {
    "duration": 11,
    "start_time": "2022-01-27T17:14:41.401Z"
   },
   {
    "duration": 10,
    "start_time": "2022-01-27T17:14:41.415Z"
   },
   {
    "duration": 42,
    "start_time": "2022-01-27T17:14:41.428Z"
   },
   {
    "duration": 11,
    "start_time": "2022-01-27T17:14:41.472Z"
   },
   {
    "duration": 33,
    "start_time": "2022-01-27T17:14:41.485Z"
   },
   {
    "duration": 5798,
    "start_time": "2022-01-27T17:14:41.520Z"
   },
   {
    "duration": 15,
    "start_time": "2022-01-27T17:14:47.320Z"
   },
   {
    "duration": 41,
    "start_time": "2022-01-27T17:14:47.337Z"
   },
   {
    "duration": 15,
    "start_time": "2022-01-27T17:14:47.381Z"
   },
   {
    "duration": 19,
    "start_time": "2022-01-27T17:14:47.399Z"
   },
   {
    "duration": 4,
    "start_time": "2022-01-27T17:14:47.420Z"
   },
   {
    "duration": 52,
    "start_time": "2022-01-27T17:14:47.426Z"
   },
   {
    "duration": 5,
    "start_time": "2022-01-27T17:14:47.480Z"
   },
   {
    "duration": 13,
    "start_time": "2022-01-27T17:14:47.487Z"
   },
   {
    "duration": 37,
    "start_time": "2022-01-27T17:14:47.502Z"
   },
   {
    "duration": 301,
    "start_time": "2022-01-27T17:14:47.569Z"
   },
   {
    "duration": -325,
    "start_time": "2022-01-27T17:14:48.198Z"
   },
   {
    "duration": -330,
    "start_time": "2022-01-27T17:14:48.205Z"
   },
   {
    "duration": 33,
    "start_time": "2022-01-27T17:16:59.894Z"
   },
   {
    "duration": 27,
    "start_time": "2022-01-27T17:17:23.747Z"
   },
   {
    "duration": 14,
    "start_time": "2022-01-27T17:19:53.930Z"
   },
   {
    "duration": 11,
    "start_time": "2022-01-27T17:19:54.862Z"
   },
   {
    "duration": 8,
    "start_time": "2022-01-27T17:23:49.461Z"
   },
   {
    "duration": 12,
    "start_time": "2022-01-27T17:23:51.308Z"
   },
   {
    "duration": 31,
    "start_time": "2022-01-27T17:26:39.049Z"
   },
   {
    "duration": -100,
    "start_time": "2022-01-27T17:27:49.098Z"
   },
   {
    "duration": 5553,
    "start_time": "2022-01-27T17:28:02.226Z"
   },
   {
    "duration": 27,
    "start_time": "2022-01-27T17:28:19.436Z"
   },
   {
    "duration": -132,
    "start_time": "2022-01-27T17:28:28.477Z"
   },
   {
    "duration": -142,
    "start_time": "2022-01-27T17:28:28.488Z"
   },
   {
    "duration": 29,
    "start_time": "2022-01-27T17:28:32.602Z"
   },
   {
    "duration": 6881,
    "start_time": "2022-01-27T17:28:55.299Z"
   },
   {
    "duration": 3,
    "start_time": "2022-01-27T17:29:49.498Z"
   },
   {
    "duration": 345,
    "start_time": "2022-01-27T17:29:49.504Z"
   },
   {
    "duration": 20,
    "start_time": "2022-01-27T17:29:49.853Z"
   },
   {
    "duration": 19,
    "start_time": "2022-01-27T17:29:49.877Z"
   },
   {
    "duration": 15,
    "start_time": "2022-01-27T17:29:49.899Z"
   },
   {
    "duration": 4,
    "start_time": "2022-01-27T17:29:49.917Z"
   },
   {
    "duration": 7,
    "start_time": "2022-01-27T17:29:49.969Z"
   },
   {
    "duration": 11,
    "start_time": "2022-01-27T17:29:49.979Z"
   },
   {
    "duration": 7,
    "start_time": "2022-01-27T17:29:49.992Z"
   },
   {
    "duration": 18,
    "start_time": "2022-01-27T17:29:50.002Z"
   },
   {
    "duration": 47,
    "start_time": "2022-01-27T17:29:50.023Z"
   },
   {
    "duration": 17,
    "start_time": "2022-01-27T17:29:50.072Z"
   },
   {
    "duration": 11,
    "start_time": "2022-01-27T17:29:50.091Z"
   },
   {
    "duration": 12,
    "start_time": "2022-01-27T17:29:50.104Z"
   },
   {
    "duration": 8,
    "start_time": "2022-01-27T17:29:50.118Z"
   },
   {
    "duration": 45,
    "start_time": "2022-01-27T17:29:50.129Z"
   },
   {
    "duration": 10,
    "start_time": "2022-01-27T17:29:50.176Z"
   },
   {
    "duration": 17,
    "start_time": "2022-01-27T17:29:50.188Z"
   },
   {
    "duration": 8,
    "start_time": "2022-01-27T17:29:50.210Z"
   },
   {
    "duration": 12,
    "start_time": "2022-01-27T17:29:50.221Z"
   },
   {
    "duration": 36,
    "start_time": "2022-01-27T17:29:50.236Z"
   },
   {
    "duration": 13,
    "start_time": "2022-01-27T17:29:50.275Z"
   },
   {
    "duration": 7,
    "start_time": "2022-01-27T17:29:50.290Z"
   },
   {
    "duration": 14,
    "start_time": "2022-01-27T17:29:50.299Z"
   },
   {
    "duration": 15,
    "start_time": "2022-01-27T17:29:50.315Z"
   },
   {
    "duration": 40,
    "start_time": "2022-01-27T17:29:50.332Z"
   },
   {
    "duration": 5,
    "start_time": "2022-01-27T17:29:50.374Z"
   },
   {
    "duration": 17,
    "start_time": "2022-01-27T17:29:50.382Z"
   },
   {
    "duration": 17,
    "start_time": "2022-01-27T17:29:50.401Z"
   },
   {
    "duration": 53,
    "start_time": "2022-01-27T17:29:50.420Z"
   },
   {
    "duration": 26,
    "start_time": "2022-01-27T17:29:50.476Z"
   },
   {
    "duration": 27,
    "start_time": "2022-01-27T17:29:50.504Z"
   },
   {
    "duration": 48,
    "start_time": "2022-01-27T17:29:50.534Z"
   },
   {
    "duration": 10,
    "start_time": "2022-01-27T17:29:50.585Z"
   },
   {
    "duration": 13,
    "start_time": "2022-01-27T17:29:50.598Z"
   },
   {
    "duration": 12,
    "start_time": "2022-01-27T17:29:50.613Z"
   },
   {
    "duration": 44,
    "start_time": "2022-01-27T17:29:50.627Z"
   },
   {
    "duration": 11,
    "start_time": "2022-01-27T17:29:50.673Z"
   },
   {
    "duration": 38,
    "start_time": "2022-01-27T17:29:50.687Z"
   },
   {
    "duration": 4975,
    "start_time": "2022-01-27T17:29:50.728Z"
   },
   {
    "duration": 15,
    "start_time": "2022-01-27T17:29:55.706Z"
   },
   {
    "duration": 24,
    "start_time": "2022-01-27T17:29:55.724Z"
   },
   {
    "duration": 17,
    "start_time": "2022-01-27T17:29:55.770Z"
   },
   {
    "duration": 26,
    "start_time": "2022-01-27T17:29:55.789Z"
   },
   {
    "duration": 5,
    "start_time": "2022-01-27T17:29:55.818Z"
   },
   {
    "duration": 46,
    "start_time": "2022-01-27T17:29:55.825Z"
   },
   {
    "duration": 3,
    "start_time": "2022-01-27T17:29:55.874Z"
   },
   {
    "duration": 12,
    "start_time": "2022-01-27T17:29:55.879Z"
   },
   {
    "duration": 36,
    "start_time": "2022-01-27T17:29:55.894Z"
   },
   {
    "duration": 66,
    "start_time": "2022-01-27T17:29:55.932Z"
   },
   {
    "duration": 8,
    "start_time": "2022-01-27T18:17:53.049Z"
   },
   {
    "duration": 6540,
    "start_time": "2022-01-27T18:18:03.242Z"
   },
   {
    "duration": 261,
    "start_time": "2022-01-27T18:18:16.346Z"
   },
   {
    "duration": 218,
    "start_time": "2022-01-27T18:18:16.391Z"
   },
   {
    "duration": 207,
    "start_time": "2022-01-27T18:18:16.404Z"
   },
   {
    "duration": 197,
    "start_time": "2022-01-27T18:18:16.415Z"
   },
   {
    "duration": 186,
    "start_time": "2022-01-27T18:18:16.428Z"
   },
   {
    "duration": 176,
    "start_time": "2022-01-27T18:18:16.439Z"
   },
   {
    "duration": 167,
    "start_time": "2022-01-27T18:18:16.450Z"
   },
   {
    "duration": 157,
    "start_time": "2022-01-27T18:18:16.461Z"
   },
   {
    "duration": 106,
    "start_time": "2022-01-27T18:18:16.513Z"
   },
   {
    "duration": 55,
    "start_time": "2022-01-27T18:18:16.566Z"
   },
   {
    "duration": 36,
    "start_time": "2022-01-27T18:18:16.586Z"
   },
   {
    "duration": 34,
    "start_time": "2022-01-27T18:18:16.590Z"
   },
   {
    "duration": 31,
    "start_time": "2022-01-27T18:18:16.594Z"
   },
   {
    "duration": 28,
    "start_time": "2022-01-27T18:18:16.598Z"
   },
   {
    "duration": 23,
    "start_time": "2022-01-27T18:18:16.605Z"
   },
   {
    "duration": 20,
    "start_time": "2022-01-27T18:18:16.609Z"
   },
   {
    "duration": 17,
    "start_time": "2022-01-27T18:18:16.614Z"
   },
   {
    "duration": 10,
    "start_time": "2022-01-27T18:18:16.622Z"
   },
   {
    "duration": 6,
    "start_time": "2022-01-27T18:18:16.628Z"
   },
   {
    "duration": -1,
    "start_time": "2022-01-27T18:18:16.636Z"
   },
   {
    "duration": -6,
    "start_time": "2022-01-27T18:18:16.642Z"
   },
   {
    "duration": -8,
    "start_time": "2022-01-27T18:18:16.646Z"
   },
   {
    "duration": -13,
    "start_time": "2022-01-27T18:18:16.652Z"
   },
   {
    "duration": -16,
    "start_time": "2022-01-27T18:18:16.656Z"
   },
   {
    "duration": -19,
    "start_time": "2022-01-27T18:18:16.661Z"
   },
   {
    "duration": -21,
    "start_time": "2022-01-27T18:18:16.664Z"
   },
   {
    "duration": -1,
    "start_time": "2022-01-27T18:18:16.670Z"
   },
   {
    "duration": -3,
    "start_time": "2022-01-27T18:18:16.674Z"
   },
   {
    "duration": -6,
    "start_time": "2022-01-27T18:18:16.678Z"
   },
   {
    "duration": -22,
    "start_time": "2022-01-27T18:18:16.695Z"
   },
   {
    "duration": -27,
    "start_time": "2022-01-27T18:18:16.702Z"
   },
   {
    "duration": -31,
    "start_time": "2022-01-27T18:18:16.707Z"
   },
   {
    "duration": -33,
    "start_time": "2022-01-27T18:18:16.711Z"
   },
   {
    "duration": -36,
    "start_time": "2022-01-27T18:18:16.715Z"
   },
   {
    "duration": -40,
    "start_time": "2022-01-27T18:18:16.721Z"
   },
   {
    "duration": -43,
    "start_time": "2022-01-27T18:18:16.725Z"
   },
   {
    "duration": -82,
    "start_time": "2022-01-27T18:18:16.765Z"
   },
   {
    "duration": -86,
    "start_time": "2022-01-27T18:18:16.771Z"
   },
   {
    "duration": -89,
    "start_time": "2022-01-27T18:18:16.775Z"
   },
   {
    "duration": -92,
    "start_time": "2022-01-27T18:18:16.780Z"
   },
   {
    "duration": -97,
    "start_time": "2022-01-27T18:18:16.786Z"
   },
   {
    "duration": -99,
    "start_time": "2022-01-27T18:18:16.790Z"
   },
   {
    "duration": -120,
    "start_time": "2022-01-27T18:18:16.812Z"
   },
   {
    "duration": -125,
    "start_time": "2022-01-27T18:18:16.819Z"
   },
   {
    "duration": -128,
    "start_time": "2022-01-27T18:18:16.823Z"
   },
   {
    "duration": -130,
    "start_time": "2022-01-27T18:18:16.827Z"
   },
   {
    "duration": -133,
    "start_time": "2022-01-27T18:18:16.832Z"
   },
   {
    "duration": -137,
    "start_time": "2022-01-27T18:18:16.837Z"
   },
   {
    "duration": -140,
    "start_time": "2022-01-27T18:18:16.842Z"
   },
   {
    "duration": -142,
    "start_time": "2022-01-27T18:18:16.845Z"
   },
   {
    "duration": -147,
    "start_time": "2022-01-27T18:18:16.852Z"
   },
   {
    "duration": 5928,
    "start_time": "2022-01-27T18:18:23.022Z"
   },
   {
    "duration": 218,
    "start_time": "2022-01-27T18:18:28.735Z"
   },
   {
    "duration": 28,
    "start_time": "2022-01-27T18:18:32.528Z"
   },
   {
    "duration": 5840,
    "start_time": "2022-01-27T18:18:32.749Z"
   },
   {
    "duration": 313,
    "start_time": "2022-01-27T18:19:02.036Z"
   },
   {
    "duration": 5735,
    "start_time": "2022-01-27T18:19:07.467Z"
   },
   {
    "duration": 11,
    "start_time": "2022-01-27T18:46:52.627Z"
   },
   {
    "duration": 5856,
    "start_time": "2022-01-27T18:51:13.325Z"
   },
   {
    "duration": 8,
    "start_time": "2022-01-27T18:54:55.858Z"
   },
   {
    "duration": 7,
    "start_time": "2022-01-27T18:55:04.541Z"
   },
   {
    "duration": 7,
    "start_time": "2022-01-27T18:55:07.835Z"
   },
   {
    "duration": 10,
    "start_time": "2022-01-27T18:55:25.705Z"
   },
   {
    "duration": 10,
    "start_time": "2022-01-27T18:55:33.786Z"
   },
   {
    "duration": 104,
    "start_time": "2022-01-27T18:55:49.838Z"
   },
   {
    "duration": 15,
    "start_time": "2022-01-27T18:55:51.107Z"
   },
   {
    "duration": 36,
    "start_time": "2022-01-27T18:56:03.603Z"
   },
   {
    "duration": 19,
    "start_time": "2022-01-27T18:56:19.339Z"
   },
   {
    "duration": 9,
    "start_time": "2022-01-27T18:56:26.577Z"
   },
   {
    "duration": 9,
    "start_time": "2022-01-27T18:56:39.316Z"
   },
   {
    "duration": 337,
    "start_time": "2022-01-27T18:56:48.710Z"
   },
   {
    "duration": 313,
    "start_time": "2022-01-27T18:56:52.715Z"
   },
   {
    "duration": 11,
    "start_time": "2022-01-27T18:56:57.450Z"
   },
   {
    "duration": 465,
    "start_time": "2022-01-27T18:57:09.781Z"
   },
   {
    "duration": 18,
    "start_time": "2022-01-27T18:57:22.774Z"
   },
   {
    "duration": 20,
    "start_time": "2022-01-27T18:57:46.505Z"
   },
   {
    "duration": 4,
    "start_time": "2022-01-27T18:58:05.550Z"
   },
   {
    "duration": 16,
    "start_time": "2022-01-27T18:58:06.322Z"
   },
   {
    "duration": 37,
    "start_time": "2022-01-27T18:58:07.950Z"
   },
   {
    "duration": 34,
    "start_time": "2022-01-27T18:58:08.322Z"
   },
   {
    "duration": 9,
    "start_time": "2022-01-27T18:58:08.671Z"
   },
   {
    "duration": 18,
    "start_time": "2022-01-27T18:58:09.319Z"
   },
   {
    "duration": 15,
    "start_time": "2022-01-27T18:58:19.908Z"
   },
   {
    "duration": 29,
    "start_time": "2022-01-27T18:58:29.829Z"
   },
   {
    "duration": 20,
    "start_time": "2022-01-27T18:58:30.983Z"
   },
   {
    "duration": 299,
    "start_time": "2022-01-27T18:59:17.195Z"
   },
   {
    "duration": 11,
    "start_time": "2022-01-27T18:59:33.720Z"
   },
   {
    "duration": 4,
    "start_time": "2022-01-27T19:01:00.319Z"
   },
   {
    "duration": 4,
    "start_time": "2022-01-27T19:01:10.189Z"
   },
   {
    "duration": 74,
    "start_time": "2022-01-27T19:01:10.195Z"
   },
   {
    "duration": 20,
    "start_time": "2022-01-27T19:01:10.272Z"
   },
   {
    "duration": 15,
    "start_time": "2022-01-27T19:01:10.295Z"
   },
   {
    "duration": 57,
    "start_time": "2022-01-27T19:01:10.312Z"
   },
   {
    "duration": 6,
    "start_time": "2022-01-27T19:01:10.373Z"
   },
   {
    "duration": 13,
    "start_time": "2022-01-27T19:01:10.383Z"
   },
   {
    "duration": 15,
    "start_time": "2022-01-27T19:01:10.400Z"
   },
   {
    "duration": 10,
    "start_time": "2022-01-27T19:01:10.418Z"
   },
   {
    "duration": 23,
    "start_time": "2022-01-27T19:01:10.471Z"
   },
   {
    "duration": 15,
    "start_time": "2022-01-27T19:01:10.497Z"
   },
   {
    "duration": 20,
    "start_time": "2022-01-27T19:01:10.515Z"
   },
   {
    "duration": 35,
    "start_time": "2022-01-27T19:01:10.538Z"
   },
   {
    "duration": 18,
    "start_time": "2022-01-27T19:01:10.576Z"
   },
   {
    "duration": 12,
    "start_time": "2022-01-27T19:01:10.597Z"
   },
   {
    "duration": 25,
    "start_time": "2022-01-27T19:01:10.612Z"
   },
   {
    "duration": 37,
    "start_time": "2022-01-27T19:01:10.640Z"
   },
   {
    "duration": 18,
    "start_time": "2022-01-27T19:01:10.681Z"
   },
   {
    "duration": 10,
    "start_time": "2022-01-27T19:01:10.708Z"
   },
   {
    "duration": 12,
    "start_time": "2022-01-27T19:01:10.721Z"
   },
   {
    "duration": 42,
    "start_time": "2022-01-27T19:01:10.735Z"
   },
   {
    "duration": 12,
    "start_time": "2022-01-27T19:01:10.780Z"
   },
   {
    "duration": 10,
    "start_time": "2022-01-27T19:01:10.795Z"
   },
   {
    "duration": 12,
    "start_time": "2022-01-27T19:01:10.808Z"
   },
   {
    "duration": 16,
    "start_time": "2022-01-27T19:01:10.823Z"
   },
   {
    "duration": 6,
    "start_time": "2022-01-27T19:01:10.869Z"
   },
   {
    "duration": 17,
    "start_time": "2022-01-27T19:01:10.878Z"
   },
   {
    "duration": 21,
    "start_time": "2022-01-27T19:01:10.898Z"
   },
   {
    "duration": 15,
    "start_time": "2022-01-27T19:01:10.922Z"
   },
   {
    "duration": 42,
    "start_time": "2022-01-27T19:01:10.940Z"
   },
   {
    "duration": 28,
    "start_time": "2022-01-27T19:01:10.985Z"
   },
   {
    "duration": 73,
    "start_time": "2022-01-27T19:01:11.017Z"
   },
   {
    "duration": 34,
    "start_time": "2022-01-27T19:01:11.094Z"
   },
   {
    "duration": 10,
    "start_time": "2022-01-27T19:01:11.131Z"
   },
   {
    "duration": 21,
    "start_time": "2022-01-27T19:01:11.171Z"
   },
   {
    "duration": 21,
    "start_time": "2022-01-27T19:01:11.195Z"
   },
   {
    "duration": 12,
    "start_time": "2022-01-27T19:01:11.219Z"
   },
   {
    "duration": 40,
    "start_time": "2022-01-27T19:01:11.234Z"
   },
   {
    "duration": 35,
    "start_time": "2022-01-27T19:01:11.277Z"
   },
   {
    "duration": 5258,
    "start_time": "2022-01-27T19:01:11.314Z"
   },
   {
    "duration": 16,
    "start_time": "2022-01-27T19:01:16.576Z"
   },
   {
    "duration": 25,
    "start_time": "2022-01-27T19:01:16.595Z"
   },
   {
    "duration": 16,
    "start_time": "2022-01-27T19:01:16.622Z"
   },
   {
    "duration": 20,
    "start_time": "2022-01-27T19:01:16.670Z"
   },
   {
    "duration": 4,
    "start_time": "2022-01-27T19:01:16.692Z"
   },
   {
    "duration": 16,
    "start_time": "2022-01-27T19:01:16.699Z"
   },
   {
    "duration": 4,
    "start_time": "2022-01-27T19:01:16.718Z"
   },
   {
    "duration": 50,
    "start_time": "2022-01-27T19:01:16.724Z"
   },
   {
    "duration": 36,
    "start_time": "2022-01-27T19:01:16.776Z"
   },
   {
    "duration": 57,
    "start_time": "2022-01-27T19:01:16.814Z"
   },
   {
    "duration": 314,
    "start_time": "2022-01-27T19:01:36.791Z"
   },
   {
    "duration": 12,
    "start_time": "2022-01-27T19:01:42.718Z"
   },
   {
    "duration": 4,
    "start_time": "2022-01-27T19:05:10.871Z"
   },
   {
    "duration": 15,
    "start_time": "2022-01-27T19:05:11.526Z"
   },
   {
    "duration": 33,
    "start_time": "2022-01-27T19:05:12.783Z"
   },
   {
    "duration": 29,
    "start_time": "2022-01-27T19:05:13.416Z"
   },
   {
    "duration": 37,
    "start_time": "2022-01-27T19:05:23.976Z"
   },
   {
    "duration": 12,
    "start_time": "2022-01-27T19:05:24.493Z"
   },
   {
    "duration": 6253,
    "start_time": "2022-01-27T19:06:15.478Z"
   },
   {
    "duration": 5,
    "start_time": "2022-01-27T19:06:21.852Z"
   },
   {
    "duration": 87,
    "start_time": "2022-01-27T19:06:32.271Z"
   },
   {
    "duration": 7,
    "start_time": "2022-01-27T19:06:33.244Z"
   },
   {
    "duration": 7,
    "start_time": "2022-01-27T19:09:12.149Z"
   },
   {
    "duration": 7,
    "start_time": "2022-01-27T19:10:49.660Z"
   },
   {
    "duration": 6,
    "start_time": "2022-01-27T19:11:47.400Z"
   },
   {
    "duration": 6,
    "start_time": "2022-01-27T19:11:53.137Z"
   },
   {
    "duration": 6,
    "start_time": "2022-01-27T19:12:03.425Z"
   },
   {
    "duration": 99,
    "start_time": "2022-01-27T19:12:52.375Z"
   },
   {
    "duration": 7,
    "start_time": "2022-01-27T19:13:27.409Z"
   },
   {
    "duration": 104,
    "start_time": "2022-01-27T19:20:36.078Z"
   },
   {
    "duration": 5,
    "start_time": "2022-01-27T19:21:59.387Z"
   },
   {
    "duration": 94,
    "start_time": "2022-01-27T19:22:51.879Z"
   },
   {
    "duration": 294,
    "start_time": "2022-01-27T19:22:58.809Z"
   },
   {
    "duration": 292,
    "start_time": "2022-01-27T19:23:46.465Z"
   },
   {
    "duration": 302,
    "start_time": "2022-01-27T19:24:06.088Z"
   },
   {
    "duration": 4,
    "start_time": "2022-01-27T19:24:10.397Z"
   },
   {
    "duration": 322,
    "start_time": "2022-01-27T19:24:11.082Z"
   },
   {
    "duration": 6,
    "start_time": "2022-01-27T19:24:46.188Z"
   },
   {
    "duration": 7,
    "start_time": "2022-01-27T19:25:02.431Z"
   },
   {
    "duration": 5,
    "start_time": "2022-01-27T19:25:17.896Z"
   },
   {
    "duration": 5,
    "start_time": "2022-01-27T19:27:46.654Z"
   },
   {
    "duration": 6,
    "start_time": "2022-01-27T19:27:59.992Z"
   },
   {
    "duration": 6,
    "start_time": "2022-01-27T19:28:15.074Z"
   },
   {
    "duration": 8,
    "start_time": "2022-01-27T19:35:19.902Z"
   },
   {
    "duration": 23,
    "start_time": "2022-01-27T19:35:39.020Z"
   },
   {
    "duration": 30,
    "start_time": "2022-01-27T19:35:50.696Z"
   },
   {
    "duration": 149,
    "start_time": "2022-01-27T19:37:07.255Z"
   },
   {
    "duration": 6084,
    "start_time": "2022-01-27T19:37:35.122Z"
   },
   {
    "duration": 6,
    "start_time": "2022-01-27T19:37:47.815Z"
   },
   {
    "duration": 5,
    "start_time": "2022-01-27T19:37:54.674Z"
   },
   {
    "duration": 3,
    "start_time": "2022-01-27T19:37:54.678Z"
   },
   {
    "duration": -1,
    "start_time": "2022-01-27T19:37:54.683Z"
   },
   {
    "duration": -8,
    "start_time": "2022-01-27T19:37:54.692Z"
   },
   {
    "duration": -14,
    "start_time": "2022-01-27T19:37:54.700Z"
   },
   {
    "duration": -21,
    "start_time": "2022-01-27T19:37:54.709Z"
   },
   {
    "duration": -28,
    "start_time": "2022-01-27T19:37:54.718Z"
   },
   {
    "duration": -34,
    "start_time": "2022-01-27T19:37:54.726Z"
   },
   {
    "duration": -51,
    "start_time": "2022-01-27T19:37:54.746Z"
   },
   {
    "duration": -56,
    "start_time": "2022-01-27T19:37:54.753Z"
   },
   {
    "duration": -65,
    "start_time": "2022-01-27T19:37:54.764Z"
   },
   {
    "duration": -66,
    "start_time": "2022-01-27T19:37:54.767Z"
   },
   {
    "duration": -70,
    "start_time": "2022-01-27T19:37:54.772Z"
   },
   {
    "duration": -72,
    "start_time": "2022-01-27T19:37:54.776Z"
   },
   {
    "duration": -168,
    "start_time": "2022-01-27T19:37:54.874Z"
   },
   {
    "duration": -356,
    "start_time": "2022-01-27T19:37:55.064Z"
   },
   {
    "duration": -298,
    "start_time": "2022-01-27T19:37:55.067Z"
   },
   {
    "duration": -299,
    "start_time": "2022-01-27T19:37:55.071Z"
   },
   {
    "duration": -301,
    "start_time": "2022-01-27T19:37:55.075Z"
   },
   {
    "duration": -302,
    "start_time": "2022-01-27T19:37:55.078Z"
   },
   {
    "duration": -305,
    "start_time": "2022-01-27T19:37:55.082Z"
   },
   {
    "duration": -306,
    "start_time": "2022-01-27T19:37:55.085Z"
   },
   {
    "duration": -308,
    "start_time": "2022-01-27T19:37:55.089Z"
   },
   {
    "duration": -320,
    "start_time": "2022-01-27T19:37:55.104Z"
   },
   {
    "duration": -322,
    "start_time": "2022-01-27T19:37:55.108Z"
   },
   {
    "duration": -324,
    "start_time": "2022-01-27T19:37:55.112Z"
   },
   {
    "duration": -326,
    "start_time": "2022-01-27T19:37:55.116Z"
   },
   {
    "duration": -327,
    "start_time": "2022-01-27T19:37:55.119Z"
   },
   {
    "duration": -330,
    "start_time": "2022-01-27T19:37:55.124Z"
   },
   {
    "duration": -331,
    "start_time": "2022-01-27T19:37:55.127Z"
   },
   {
    "duration": -334,
    "start_time": "2022-01-27T19:37:55.131Z"
   },
   {
    "duration": -336,
    "start_time": "2022-01-27T19:37:55.135Z"
   },
   {
    "duration": -338,
    "start_time": "2022-01-27T19:37:55.139Z"
   },
   {
    "duration": -340,
    "start_time": "2022-01-27T19:37:55.143Z"
   },
   {
    "duration": -342,
    "start_time": "2022-01-27T19:37:55.147Z"
   },
   {
    "duration": -370,
    "start_time": "2022-01-27T19:37:55.177Z"
   },
   {
    "duration": -375,
    "start_time": "2022-01-27T19:37:55.184Z"
   },
   {
    "duration": -322,
    "start_time": "2022-01-27T19:37:55.192Z"
   },
   {
    "duration": -325,
    "start_time": "2022-01-27T19:37:55.196Z"
   },
   {
    "duration": -326,
    "start_time": "2022-01-27T19:37:55.200Z"
   },
   {
    "duration": -341,
    "start_time": "2022-01-27T19:37:55.217Z"
   },
   {
    "duration": -344,
    "start_time": "2022-01-27T19:37:55.222Z"
   },
   {
    "duration": -347,
    "start_time": "2022-01-27T19:37:55.227Z"
   },
   {
    "duration": -348,
    "start_time": "2022-01-27T19:37:55.231Z"
   },
   {
    "duration": -350,
    "start_time": "2022-01-27T19:37:55.235Z"
   },
   {
    "duration": -352,
    "start_time": "2022-01-27T19:37:55.239Z"
   },
   {
    "duration": -354,
    "start_time": "2022-01-27T19:37:55.243Z"
   },
   {
    "duration": -354,
    "start_time": "2022-01-27T19:37:55.246Z"
   },
   {
    "duration": -356,
    "start_time": "2022-01-27T19:37:55.250Z"
   },
   {
    "duration": -357,
    "start_time": "2022-01-27T19:37:55.253Z"
   },
   {
    "duration": -359,
    "start_time": "2022-01-27T19:37:55.257Z"
   },
   {
    "duration": -361,
    "start_time": "2022-01-27T19:37:55.261Z"
   },
   {
    "duration": 8100,
    "start_time": "2022-01-27T19:38:05.131Z"
   },
   {
    "duration": 28,
    "start_time": "2022-01-27T19:38:21.115Z"
   },
   {
    "duration": 5,
    "start_time": "2022-01-27T19:38:22.366Z"
   },
   {
    "duration": 6215,
    "start_time": "2022-01-27T19:38:23.963Z"
   },
   {
    "duration": 11,
    "start_time": "2022-01-27T19:38:46.447Z"
   },
   {
    "duration": 6137,
    "start_time": "2022-01-27T19:39:13.460Z"
   },
   {
    "duration": 28,
    "start_time": "2022-01-27T19:40:10.429Z"
   },
   {
    "duration": 12,
    "start_time": "2022-01-27T19:40:23.502Z"
   },
   {
    "duration": 14,
    "start_time": "2022-01-27T19:40:47.508Z"
   },
   {
    "duration": 12,
    "start_time": "2022-01-27T19:40:55.244Z"
   },
   {
    "duration": 29,
    "start_time": "2022-01-27T19:41:10.019Z"
   },
   {
    "duration": 10,
    "start_time": "2022-01-27T19:41:11.176Z"
   },
   {
    "duration": 5954,
    "start_time": "2022-01-27T19:41:31.907Z"
   },
   {
    "duration": 3,
    "start_time": "2022-01-27T19:42:03.819Z"
   },
   {
    "duration": 6641,
    "start_time": "2022-01-27T19:42:05.236Z"
   },
   {
    "duration": 5,
    "start_time": "2022-01-27T19:42:48.275Z"
   },
   {
    "duration": 15,
    "start_time": "2022-01-27T19:42:56.721Z"
   },
   {
    "duration": 4,
    "start_time": "2022-01-27T19:43:13.123Z"
   },
   {
    "duration": 64,
    "start_time": "2022-01-27T19:43:13.130Z"
   },
   {
    "duration": 20,
    "start_time": "2022-01-27T19:43:13.197Z"
   },
   {
    "duration": 49,
    "start_time": "2022-01-27T19:43:13.220Z"
   },
   {
    "duration": 14,
    "start_time": "2022-01-27T19:43:13.272Z"
   },
   {
    "duration": 5,
    "start_time": "2022-01-27T19:43:13.288Z"
   },
   {
    "duration": 9,
    "start_time": "2022-01-27T19:43:13.297Z"
   },
   {
    "duration": 63,
    "start_time": "2022-01-27T19:43:13.309Z"
   },
   {
    "duration": 8,
    "start_time": "2022-01-27T19:43:13.374Z"
   },
   {
    "duration": 16,
    "start_time": "2022-01-27T19:43:13.385Z"
   },
   {
    "duration": 9,
    "start_time": "2022-01-27T19:43:13.404Z"
   },
   {
    "duration": 18,
    "start_time": "2022-01-27T19:43:13.415Z"
   },
   {
    "duration": 10,
    "start_time": "2022-01-27T19:43:13.469Z"
   },
   {
    "duration": 16,
    "start_time": "2022-01-27T19:43:13.482Z"
   },
   {
    "duration": 9,
    "start_time": "2022-01-27T19:43:13.500Z"
   },
   {
    "duration": 13,
    "start_time": "2022-01-27T19:43:13.512Z"
   },
   {
    "duration": 42,
    "start_time": "2022-01-27T19:43:13.528Z"
   },
   {
    "duration": 12,
    "start_time": "2022-01-27T19:43:13.572Z"
   },
   {
    "duration": 7,
    "start_time": "2022-01-27T19:43:13.591Z"
   },
   {
    "duration": 21,
    "start_time": "2022-01-27T19:43:13.601Z"
   },
   {
    "duration": 44,
    "start_time": "2022-01-27T19:43:13.625Z"
   },
   {
    "duration": 14,
    "start_time": "2022-01-27T19:43:13.672Z"
   },
   {
    "duration": 8,
    "start_time": "2022-01-27T19:43:13.688Z"
   },
   {
    "duration": 13,
    "start_time": "2022-01-27T19:43:13.699Z"
   },
   {
    "duration": 14,
    "start_time": "2022-01-27T19:43:13.714Z"
   },
   {
    "duration": 5,
    "start_time": "2022-01-27T19:43:13.769Z"
   },
   {
    "duration": 6,
    "start_time": "2022-01-27T19:43:13.777Z"
   },
   {
    "duration": 19,
    "start_time": "2022-01-27T19:43:13.785Z"
   },
   {
    "duration": 17,
    "start_time": "2022-01-27T19:43:13.806Z"
   },
   {
    "duration": 54,
    "start_time": "2022-01-27T19:43:13.826Z"
   },
   {
    "duration": 26,
    "start_time": "2022-01-27T19:43:13.882Z"
   },
   {
    "duration": 58,
    "start_time": "2022-01-27T19:43:13.911Z"
   },
   {
    "duration": 27,
    "start_time": "2022-01-27T19:43:13.972Z"
   },
   {
    "duration": 11,
    "start_time": "2022-01-27T19:43:14.002Z"
   },
   {
    "duration": 17,
    "start_time": "2022-01-27T19:43:14.017Z"
   },
   {
    "duration": 18,
    "start_time": "2022-01-27T19:43:14.070Z"
   },
   {
    "duration": 11,
    "start_time": "2022-01-27T19:43:14.091Z"
   },
   {
    "duration": 10,
    "start_time": "2022-01-27T19:43:14.105Z"
   },
   {
    "duration": 79,
    "start_time": "2022-01-27T19:43:14.118Z"
   },
   {
    "duration": 5698,
    "start_time": "2022-01-27T19:43:14.199Z"
   },
   {
    "duration": 26,
    "start_time": "2022-01-27T19:43:19.901Z"
   },
   {
    "duration": 51,
    "start_time": "2022-01-27T19:43:19.930Z"
   },
   {
    "duration": 24,
    "start_time": "2022-01-27T19:43:19.984Z"
   },
   {
    "duration": 58,
    "start_time": "2022-01-27T19:43:20.011Z"
   },
   {
    "duration": 5,
    "start_time": "2022-01-27T19:43:20.073Z"
   },
   {
    "duration": 16,
    "start_time": "2022-01-27T19:43:20.082Z"
   },
   {
    "duration": 9,
    "start_time": "2022-01-27T19:43:20.101Z"
   },
   {
    "duration": 14,
    "start_time": "2022-01-27T19:43:20.112Z"
   },
   {
    "duration": 68,
    "start_time": "2022-01-27T19:43:20.129Z"
   },
   {
    "duration": 11,
    "start_time": "2022-01-27T19:43:20.200Z"
   },
   {
    "duration": 7117,
    "start_time": "2022-01-27T19:43:20.214Z"
   },
   {
    "duration": 81,
    "start_time": "2022-01-27T19:43:27.252Z"
   },
   {
    "duration": 5825,
    "start_time": "2022-01-27T19:44:54.640Z"
   },
   {
    "duration": 5809,
    "start_time": "2022-01-27T19:45:14.836Z"
   },
   {
    "duration": 7,
    "start_time": "2022-01-27T19:46:01.818Z"
   },
   {
    "duration": 7331,
    "start_time": "2022-01-27T19:46:14.011Z"
   },
   {
    "duration": 7528,
    "start_time": "2022-01-27T19:46:37.860Z"
   },
   {
    "duration": 6,
    "start_time": "2022-01-27T19:46:51.798Z"
   },
   {
    "duration": 7571,
    "start_time": "2022-01-27T19:46:56.662Z"
   },
   {
    "duration": 15,
    "start_time": "2022-01-27T19:47:31.340Z"
   },
   {
    "duration": 13,
    "start_time": "2022-01-27T19:47:37.098Z"
   },
   {
    "duration": 3,
    "start_time": "2022-01-27T19:47:58.928Z"
   },
   {
    "duration": 67,
    "start_time": "2022-01-27T19:47:58.933Z"
   },
   {
    "duration": 21,
    "start_time": "2022-01-27T19:47:59.003Z"
   },
   {
    "duration": 15,
    "start_time": "2022-01-27T19:47:59.027Z"
   },
   {
    "duration": 14,
    "start_time": "2022-01-27T19:47:59.070Z"
   },
   {
    "duration": 4,
    "start_time": "2022-01-27T19:47:59.087Z"
   },
   {
    "duration": 8,
    "start_time": "2022-01-27T19:47:59.095Z"
   },
   {
    "duration": 11,
    "start_time": "2022-01-27T19:47:59.106Z"
   },
   {
    "duration": 8,
    "start_time": "2022-01-27T19:47:59.169Z"
   },
   {
    "duration": 17,
    "start_time": "2022-01-27T19:47:59.179Z"
   },
   {
    "duration": 7,
    "start_time": "2022-01-27T19:47:59.198Z"
   },
   {
    "duration": 12,
    "start_time": "2022-01-27T19:47:59.207Z"
   },
   {
    "duration": 9,
    "start_time": "2022-01-27T19:47:59.221Z"
   },
   {
    "duration": 41,
    "start_time": "2022-01-27T19:47:59.233Z"
   },
   {
    "duration": 10,
    "start_time": "2022-01-27T19:47:59.277Z"
   },
   {
    "duration": 12,
    "start_time": "2022-01-27T19:47:59.289Z"
   },
   {
    "duration": 8,
    "start_time": "2022-01-27T19:47:59.303Z"
   },
   {
    "duration": 12,
    "start_time": "2022-01-27T19:47:59.314Z"
   },
   {
    "duration": 8,
    "start_time": "2022-01-27T19:47:59.368Z"
   },
   {
    "duration": 13,
    "start_time": "2022-01-27T19:47:59.379Z"
   },
   {
    "duration": 10,
    "start_time": "2022-01-27T19:47:59.394Z"
   },
   {
    "duration": 14,
    "start_time": "2022-01-27T19:47:59.406Z"
   },
   {
    "duration": 46,
    "start_time": "2022-01-27T19:47:59.423Z"
   },
   {
    "duration": 11,
    "start_time": "2022-01-27T19:47:59.473Z"
   },
   {
    "duration": 16,
    "start_time": "2022-01-27T19:47:59.487Z"
   },
   {
    "duration": 5,
    "start_time": "2022-01-27T19:47:59.506Z"
   },
   {
    "duration": 18,
    "start_time": "2022-01-27T19:47:59.513Z"
   },
   {
    "duration": 48,
    "start_time": "2022-01-27T19:47:59.534Z"
   },
   {
    "duration": 16,
    "start_time": "2022-01-27T19:47:59.584Z"
   },
   {
    "duration": 27,
    "start_time": "2022-01-27T19:47:59.602Z"
   },
   {
    "duration": 39,
    "start_time": "2022-01-27T19:47:59.631Z"
   },
   {
    "duration": 27,
    "start_time": "2022-01-27T19:47:59.672Z"
   },
   {
    "duration": 22,
    "start_time": "2022-01-27T19:47:59.702Z"
   },
   {
    "duration": 8,
    "start_time": "2022-01-27T19:47:59.726Z"
   },
   {
    "duration": 43,
    "start_time": "2022-01-27T19:47:59.736Z"
   },
   {
    "duration": 14,
    "start_time": "2022-01-27T19:47:59.782Z"
   },
   {
    "duration": 11,
    "start_time": "2022-01-27T19:47:59.798Z"
   },
   {
    "duration": 10,
    "start_time": "2022-01-27T19:47:59.811Z"
   },
   {
    "duration": 77,
    "start_time": "2022-01-27T19:47:59.824Z"
   },
   {
    "duration": 5230,
    "start_time": "2022-01-27T19:47:59.904Z"
   },
   {
    "duration": 13,
    "start_time": "2022-01-27T19:48:05.137Z"
   },
   {
    "duration": 41,
    "start_time": "2022-01-27T19:48:05.153Z"
   },
   {
    "duration": 16,
    "start_time": "2022-01-27T19:48:05.196Z"
   },
   {
    "duration": 19,
    "start_time": "2022-01-27T19:48:05.214Z"
   },
   {
    "duration": 4,
    "start_time": "2022-01-27T19:48:05.235Z"
   },
   {
    "duration": 39,
    "start_time": "2022-01-27T19:48:05.241Z"
   },
   {
    "duration": 9,
    "start_time": "2022-01-27T19:48:05.282Z"
   },
   {
    "duration": 11,
    "start_time": "2022-01-27T19:48:05.294Z"
   },
   {
    "duration": 65,
    "start_time": "2022-01-27T19:48:05.307Z"
   },
   {
    "duration": 10,
    "start_time": "2022-01-27T19:48:05.375Z"
   },
   {
    "duration": 4,
    "start_time": "2022-01-27T19:48:05.388Z"
   },
   {
    "duration": 5902,
    "start_time": "2022-01-27T19:48:05.394Z"
   },
   {
    "duration": 7724,
    "start_time": "2022-01-27T19:48:38.066Z"
   },
   {
    "duration": 7504,
    "start_time": "2022-01-27T19:50:14.343Z"
   },
   {
    "duration": 13,
    "start_time": "2022-01-27T19:51:04.795Z"
   },
   {
    "duration": 4,
    "start_time": "2022-01-27T19:51:12.065Z"
   },
   {
    "duration": 96,
    "start_time": "2022-01-27T19:51:12.073Z"
   },
   {
    "duration": 24,
    "start_time": "2022-01-27T19:51:12.174Z"
   },
   {
    "duration": 16,
    "start_time": "2022-01-27T19:51:12.201Z"
   },
   {
    "duration": 56,
    "start_time": "2022-01-27T19:51:12.219Z"
   },
   {
    "duration": 5,
    "start_time": "2022-01-27T19:51:12.278Z"
   },
   {
    "duration": 7,
    "start_time": "2022-01-27T19:51:12.287Z"
   },
   {
    "duration": 11,
    "start_time": "2022-01-27T19:51:12.297Z"
   },
   {
    "duration": 8,
    "start_time": "2022-01-27T19:51:12.311Z"
   },
   {
    "duration": 58,
    "start_time": "2022-01-27T19:51:12.321Z"
   },
   {
    "duration": 11,
    "start_time": "2022-01-27T19:51:12.382Z"
   },
   {
    "duration": 13,
    "start_time": "2022-01-27T19:51:12.396Z"
   },
   {
    "duration": 10,
    "start_time": "2022-01-27T19:51:12.412Z"
   },
   {
    "duration": 49,
    "start_time": "2022-01-27T19:51:12.424Z"
   },
   {
    "duration": 8,
    "start_time": "2022-01-27T19:51:12.475Z"
   },
   {
    "duration": 11,
    "start_time": "2022-01-27T19:51:12.486Z"
   },
   {
    "duration": 8,
    "start_time": "2022-01-27T19:51:12.499Z"
   },
   {
    "duration": 14,
    "start_time": "2022-01-27T19:51:12.509Z"
   },
   {
    "duration": 7,
    "start_time": "2022-01-27T19:51:12.528Z"
   },
   {
    "duration": 39,
    "start_time": "2022-01-27T19:51:12.538Z"
   },
   {
    "duration": 14,
    "start_time": "2022-01-27T19:51:12.580Z"
   },
   {
    "duration": 16,
    "start_time": "2022-01-27T19:51:12.596Z"
   },
   {
    "duration": 7,
    "start_time": "2022-01-27T19:51:12.614Z"
   },
   {
    "duration": 13,
    "start_time": "2022-01-27T19:51:12.622Z"
   },
   {
    "duration": 43,
    "start_time": "2022-01-27T19:51:12.637Z"
   },
   {
    "duration": 6,
    "start_time": "2022-01-27T19:51:12.683Z"
   },
   {
    "duration": 7,
    "start_time": "2022-01-27T19:51:12.692Z"
   },
   {
    "duration": 18,
    "start_time": "2022-01-27T19:51:12.701Z"
   },
   {
    "duration": 61,
    "start_time": "2022-01-27T19:51:12.721Z"
   },
   {
    "duration": 20,
    "start_time": "2022-01-27T19:51:12.784Z"
   },
   {
    "duration": 26,
    "start_time": "2022-01-27T19:51:12.806Z"
   },
   {
    "duration": 53,
    "start_time": "2022-01-27T19:51:12.834Z"
   },
   {
    "duration": 22,
    "start_time": "2022-01-27T19:51:12.890Z"
   },
   {
    "duration": 11,
    "start_time": "2022-01-27T19:51:12.914Z"
   },
   {
    "duration": 47,
    "start_time": "2022-01-27T19:51:12.927Z"
   },
   {
    "duration": 11,
    "start_time": "2022-01-27T19:51:12.976Z"
   },
   {
    "duration": 11,
    "start_time": "2022-01-27T19:51:12.990Z"
   },
   {
    "duration": 11,
    "start_time": "2022-01-27T19:51:13.004Z"
   },
   {
    "duration": 75,
    "start_time": "2022-01-27T19:51:13.018Z"
   },
   {
    "duration": 5726,
    "start_time": "2022-01-27T19:51:13.095Z"
   },
   {
    "duration": 16,
    "start_time": "2022-01-27T19:51:18.824Z"
   },
   {
    "duration": 41,
    "start_time": "2022-01-27T19:51:18.843Z"
   },
   {
    "duration": 18,
    "start_time": "2022-01-27T19:51:18.887Z"
   },
   {
    "duration": 20,
    "start_time": "2022-01-27T19:51:18.907Z"
   },
   {
    "duration": 42,
    "start_time": "2022-01-27T19:51:18.930Z"
   },
   {
    "duration": 16,
    "start_time": "2022-01-27T19:51:18.975Z"
   },
   {
    "duration": 6,
    "start_time": "2022-01-27T19:51:18.994Z"
   },
   {
    "duration": 13,
    "start_time": "2022-01-27T19:51:19.003Z"
   },
   {
    "duration": 79,
    "start_time": "2022-01-27T19:51:19.018Z"
   },
   {
    "duration": 10,
    "start_time": "2022-01-27T19:51:19.099Z"
   },
   {
    "duration": 3,
    "start_time": "2022-01-27T19:51:19.112Z"
   },
   {
    "duration": 6,
    "start_time": "2022-01-27T19:51:52.084Z"
   },
   {
    "duration": 4,
    "start_time": "2022-01-27T19:52:54.660Z"
   },
   {
    "duration": 4,
    "start_time": "2022-01-27T19:53:01.516Z"
   },
   {
    "duration": 7,
    "start_time": "2022-01-27T19:53:07.736Z"
   },
   {
    "duration": 9,
    "start_time": "2022-01-27T19:54:28.483Z"
   },
   {
    "duration": 7,
    "start_time": "2022-01-27T19:54:49.950Z"
   },
   {
    "duration": 6,
    "start_time": "2022-01-27T19:55:17.074Z"
   },
   {
    "duration": 6,
    "start_time": "2022-01-27T19:55:17.934Z"
   },
   {
    "duration": 6,
    "start_time": "2022-01-27T19:56:47.101Z"
   },
   {
    "duration": 6,
    "start_time": "2022-01-27T19:56:48.295Z"
   },
   {
    "duration": 6,
    "start_time": "2022-01-27T19:57:32.300Z"
   },
   {
    "duration": 7,
    "start_time": "2022-01-27T19:57:39.351Z"
   },
   {
    "duration": 7,
    "start_time": "2022-01-27T19:57:58.267Z"
   },
   {
    "duration": 6,
    "start_time": "2022-01-27T19:58:10.716Z"
   },
   {
    "duration": 6,
    "start_time": "2022-01-27T19:59:10.057Z"
   },
   {
    "duration": 33,
    "start_time": "2022-01-27T20:05:45.418Z"
   },
   {
    "duration": 26,
    "start_time": "2022-01-27T20:08:26.565Z"
   },
   {
    "duration": 24,
    "start_time": "2022-01-27T20:08:31.623Z"
   },
   {
    "duration": 29,
    "start_time": "2022-01-27T20:08:37.417Z"
   },
   {
    "duration": 28,
    "start_time": "2022-01-27T20:12:02.586Z"
   },
   {
    "duration": 20,
    "start_time": "2022-01-27T20:14:48.578Z"
   },
   {
    "duration": 17,
    "start_time": "2022-01-27T20:15:54.320Z"
   },
   {
    "duration": 4,
    "start_time": "2022-01-27T20:17:45.402Z"
   },
   {
    "duration": 71,
    "start_time": "2022-01-27T20:17:45.409Z"
   },
   {
    "duration": 20,
    "start_time": "2022-01-27T20:17:45.483Z"
   },
   {
    "duration": 23,
    "start_time": "2022-01-27T20:17:45.506Z"
   },
   {
    "duration": 40,
    "start_time": "2022-01-27T20:17:45.531Z"
   },
   {
    "duration": 6,
    "start_time": "2022-01-27T20:17:45.573Z"
   },
   {
    "duration": 7,
    "start_time": "2022-01-27T20:17:45.583Z"
   },
   {
    "duration": 10,
    "start_time": "2022-01-27T20:17:45.594Z"
   },
   {
    "duration": 7,
    "start_time": "2022-01-27T20:17:45.607Z"
   },
   {
    "duration": 12,
    "start_time": "2022-01-27T20:17:45.669Z"
   },
   {
    "duration": 8,
    "start_time": "2022-01-27T20:17:45.684Z"
   },
   {
    "duration": 11,
    "start_time": "2022-01-27T20:17:45.694Z"
   },
   {
    "duration": 7,
    "start_time": "2022-01-27T20:17:45.707Z"
   },
   {
    "duration": 13,
    "start_time": "2022-01-27T20:17:45.717Z"
   },
   {
    "duration": 43,
    "start_time": "2022-01-27T20:17:45.732Z"
   },
   {
    "duration": 11,
    "start_time": "2022-01-27T20:17:45.778Z"
   },
   {
    "duration": 8,
    "start_time": "2022-01-27T20:17:45.792Z"
   },
   {
    "duration": 15,
    "start_time": "2022-01-27T20:17:45.802Z"
   },
   {
    "duration": 7,
    "start_time": "2022-01-27T20:17:45.823Z"
   },
   {
    "duration": 12,
    "start_time": "2022-01-27T20:17:45.869Z"
   },
   {
    "duration": 11,
    "start_time": "2022-01-27T20:17:45.883Z"
   },
   {
    "duration": 12,
    "start_time": "2022-01-27T20:17:45.896Z"
   },
   {
    "duration": 7,
    "start_time": "2022-01-27T20:17:45.910Z"
   },
   {
    "duration": 13,
    "start_time": "2022-01-27T20:17:45.919Z"
   },
   {
    "duration": 46,
    "start_time": "2022-01-27T20:17:45.934Z"
   },
   {
    "duration": 5,
    "start_time": "2022-01-27T20:17:45.983Z"
   },
   {
    "duration": 8,
    "start_time": "2022-01-27T20:17:45.990Z"
   },
   {
    "duration": 18,
    "start_time": "2022-01-27T20:17:46.000Z"
   },
   {
    "duration": 16,
    "start_time": "2022-01-27T20:17:46.020Z"
   },
   {
    "duration": 13,
    "start_time": "2022-01-27T20:17:46.070Z"
   },
   {
    "duration": 26,
    "start_time": "2022-01-27T20:17:46.085Z"
   },
   {
    "duration": 27,
    "start_time": "2022-01-27T20:17:46.113Z"
   },
   {
    "duration": 24,
    "start_time": "2022-01-27T20:17:46.169Z"
   },
   {
    "duration": 8,
    "start_time": "2022-01-27T20:17:46.195Z"
   },
   {
    "duration": 13,
    "start_time": "2022-01-27T20:17:46.205Z"
   },
   {
    "duration": 10,
    "start_time": "2022-01-27T20:17:46.220Z"
   },
   {
    "duration": 9,
    "start_time": "2022-01-27T20:17:46.269Z"
   },
   {
    "duration": 12,
    "start_time": "2022-01-27T20:17:46.281Z"
   },
   {
    "duration": 37,
    "start_time": "2022-01-27T20:17:46.296Z"
   },
   {
    "duration": 4894,
    "start_time": "2022-01-27T20:17:46.336Z"
   },
   {
    "duration": 15,
    "start_time": "2022-01-27T20:17:51.233Z"
   },
   {
    "duration": 38,
    "start_time": "2022-01-27T20:17:51.250Z"
   },
   {
    "duration": 14,
    "start_time": "2022-01-27T20:17:51.291Z"
   },
   {
    "duration": 18,
    "start_time": "2022-01-27T20:17:51.308Z"
   },
   {
    "duration": 4,
    "start_time": "2022-01-27T20:17:51.329Z"
   },
   {
    "duration": 45,
    "start_time": "2022-01-27T20:17:51.335Z"
   },
   {
    "duration": 4,
    "start_time": "2022-01-27T20:17:51.382Z"
   },
   {
    "duration": 12,
    "start_time": "2022-01-27T20:17:51.389Z"
   },
   {
    "duration": 65,
    "start_time": "2022-01-27T20:17:51.404Z"
   },
   {
    "duration": 11,
    "start_time": "2022-01-27T20:17:51.472Z"
   },
   {
    "duration": 9,
    "start_time": "2022-01-27T20:17:51.485Z"
   },
   {
    "duration": 9,
    "start_time": "2022-01-27T20:17:51.496Z"
   },
   {
    "duration": 31,
    "start_time": "2022-01-27T20:17:51.507Z"
   },
   {
    "duration": 32,
    "start_time": "2022-01-27T20:17:51.569Z"
   },
   {
    "duration": 27,
    "start_time": "2022-01-27T20:17:51.607Z"
   },
   {
    "duration": 26,
    "start_time": "2022-01-27T20:24:03.799Z"
   },
   {
    "duration": 303,
    "start_time": "2022-01-27T20:25:11.362Z"
   },
   {
    "duration": 32,
    "start_time": "2022-01-27T20:25:18.018Z"
   },
   {
    "duration": 12,
    "start_time": "2022-01-27T20:27:42.708Z"
   },
   {
    "duration": 9,
    "start_time": "2022-01-27T20:32:26.345Z"
   },
   {
    "duration": 9,
    "start_time": "2022-01-27T20:36:10.908Z"
   },
   {
    "duration": 37,
    "start_time": "2022-01-27T20:51:02.623Z"
   },
   {
    "duration": 4,
    "start_time": "2022-01-27T20:58:42.915Z"
   },
   {
    "duration": 5,
    "start_time": "2022-01-27T21:00:39.328Z"
   },
   {
    "duration": 1617,
    "start_time": "2022-01-27T21:01:21.510Z"
   },
   {
    "duration": 4,
    "start_time": "2022-01-27T21:02:30.981Z"
   },
   {
    "duration": 35,
    "start_time": "2022-01-27T21:02:36.340Z"
   },
   {
    "duration": 17,
    "start_time": "2022-01-27T21:02:39.646Z"
   },
   {
    "duration": 5,
    "start_time": "2022-01-27T21:03:07.398Z"
   },
   {
    "duration": 33,
    "start_time": "2022-01-27T21:03:07.932Z"
   },
   {
    "duration": 16,
    "start_time": "2022-01-27T21:03:11.382Z"
   },
   {
    "duration": 14,
    "start_time": "2022-01-27T21:06:24.612Z"
   },
   {
    "duration": 51,
    "start_time": "2022-01-27T21:06:54.978Z"
   },
   {
    "duration": 4,
    "start_time": "2022-01-27T21:10:12.264Z"
   },
   {
    "duration": 72,
    "start_time": "2022-01-27T21:10:12.270Z"
   },
   {
    "duration": 42,
    "start_time": "2022-01-27T21:10:12.345Z"
   },
   {
    "duration": 15,
    "start_time": "2022-01-27T21:10:12.390Z"
   },
   {
    "duration": 13,
    "start_time": "2022-01-27T21:10:12.407Z"
   },
   {
    "duration": 50,
    "start_time": "2022-01-27T21:10:12.422Z"
   },
   {
    "duration": 6,
    "start_time": "2022-01-27T21:10:12.475Z"
   },
   {
    "duration": 10,
    "start_time": "2022-01-27T21:10:12.484Z"
   },
   {
    "duration": 7,
    "start_time": "2022-01-27T21:10:12.496Z"
   },
   {
    "duration": 11,
    "start_time": "2022-01-27T21:10:12.505Z"
   },
   {
    "duration": 52,
    "start_time": "2022-01-27T21:10:12.519Z"
   },
   {
    "duration": 11,
    "start_time": "2022-01-27T21:10:12.573Z"
   },
   {
    "duration": 16,
    "start_time": "2022-01-27T21:10:12.587Z"
   },
   {
    "duration": 10,
    "start_time": "2022-01-27T21:10:12.606Z"
   },
   {
    "duration": 8,
    "start_time": "2022-01-27T21:10:12.619Z"
   },
   {
    "duration": 46,
    "start_time": "2022-01-27T21:10:12.630Z"
   },
   {
    "duration": 13,
    "start_time": "2022-01-27T21:10:12.679Z"
   },
   {
    "duration": 11,
    "start_time": "2022-01-27T21:10:12.695Z"
   },
   {
    "duration": 7,
    "start_time": "2022-01-27T21:10:12.712Z"
   },
   {
    "duration": 47,
    "start_time": "2022-01-27T21:10:12.722Z"
   },
   {
    "duration": 10,
    "start_time": "2022-01-27T21:10:12.772Z"
   },
   {
    "duration": 17,
    "start_time": "2022-01-27T21:10:12.784Z"
   },
   {
    "duration": 7,
    "start_time": "2022-01-27T21:10:12.803Z"
   },
   {
    "duration": 11,
    "start_time": "2022-01-27T21:10:12.813Z"
   },
   {
    "duration": 46,
    "start_time": "2022-01-27T21:10:12.827Z"
   },
   {
    "duration": 6,
    "start_time": "2022-01-27T21:10:12.875Z"
   },
   {
    "duration": 5,
    "start_time": "2022-01-27T21:10:12.884Z"
   },
   {
    "duration": 16,
    "start_time": "2022-01-27T21:10:12.891Z"
   },
   {
    "duration": 16,
    "start_time": "2022-01-27T21:10:12.910Z"
   },
   {
    "duration": 48,
    "start_time": "2022-01-27T21:10:12.929Z"
   },
   {
    "duration": 30,
    "start_time": "2022-01-27T21:10:12.979Z"
   },
   {
    "duration": 29,
    "start_time": "2022-01-27T21:10:13.012Z"
   },
   {
    "duration": 49,
    "start_time": "2022-01-27T21:10:13.044Z"
   },
   {
    "duration": 10,
    "start_time": "2022-01-27T21:10:13.096Z"
   },
   {
    "duration": 18,
    "start_time": "2022-01-27T21:10:13.109Z"
   },
   {
    "duration": 48,
    "start_time": "2022-01-27T21:10:13.130Z"
   },
   {
    "duration": 11,
    "start_time": "2022-01-27T21:10:13.181Z"
   },
   {
    "duration": 10,
    "start_time": "2022-01-27T21:10:13.195Z"
   },
   {
    "duration": 74,
    "start_time": "2022-01-27T21:10:13.208Z"
   },
   {
    "duration": 4941,
    "start_time": "2022-01-27T21:10:13.284Z"
   },
   {
    "duration": 14,
    "start_time": "2022-01-27T21:10:18.228Z"
   },
   {
    "duration": 43,
    "start_time": "2022-01-27T21:10:18.244Z"
   },
   {
    "duration": 18,
    "start_time": "2022-01-27T21:10:18.290Z"
   },
   {
    "duration": 22,
    "start_time": "2022-01-27T21:10:18.311Z"
   },
   {
    "duration": 36,
    "start_time": "2022-01-27T21:10:18.335Z"
   },
   {
    "duration": 18,
    "start_time": "2022-01-27T21:10:18.374Z"
   },
   {
    "duration": 3,
    "start_time": "2022-01-27T21:10:18.394Z"
   },
   {
    "duration": 13,
    "start_time": "2022-01-27T21:10:18.399Z"
   },
   {
    "duration": 14,
    "start_time": "2022-01-27T21:10:18.414Z"
   },
   {
    "duration": 33,
    "start_time": "2022-01-27T21:10:18.437Z"
   },
   {
    "duration": 16,
    "start_time": "2022-01-27T21:10:18.473Z"
   },
   {
    "duration": 36,
    "start_time": "2022-01-27T21:10:18.492Z"
   },
   {
    "duration": 44,
    "start_time": "2022-01-27T21:10:18.530Z"
   },
   {
    "duration": 7,
    "start_time": "2022-01-27T21:10:18.576Z"
   },
   {
    "duration": 6,
    "start_time": "2022-01-27T21:10:18.591Z"
   },
   {
    "duration": 69,
    "start_time": "2022-01-27T21:10:18.600Z"
   },
   {
    "duration": 31,
    "start_time": "2022-01-27T21:10:18.672Z"
   },
   {
    "duration": 34,
    "start_time": "2022-01-27T21:10:46.202Z"
   },
   {
    "duration": 31,
    "start_time": "2022-01-27T21:11:02.310Z"
   },
   {
    "duration": 32,
    "start_time": "2022-01-27T21:11:50.329Z"
   },
   {
    "duration": 34,
    "start_time": "2022-01-27T21:16:18.913Z"
   },
   {
    "duration": 29,
    "start_time": "2022-01-27T21:16:22.753Z"
   },
   {
    "duration": 305,
    "start_time": "2022-01-28T09:34:38.559Z"
   },
   {
    "duration": 600,
    "start_time": "2022-01-28T09:34:43.694Z"
   },
   {
    "duration": 47,
    "start_time": "2022-01-28T09:34:44.295Z"
   },
   {
    "duration": 16,
    "start_time": "2022-01-28T09:34:44.344Z"
   },
   {
    "duration": 10,
    "start_time": "2022-01-28T09:34:44.362Z"
   },
   {
    "duration": 8,
    "start_time": "2022-01-28T09:34:44.374Z"
   },
   {
    "duration": 3,
    "start_time": "2022-01-28T09:34:44.384Z"
   },
   {
    "duration": 6,
    "start_time": "2022-01-28T09:34:44.388Z"
   },
   {
    "duration": 32,
    "start_time": "2022-01-28T09:34:44.396Z"
   },
   {
    "duration": 4,
    "start_time": "2022-01-28T09:34:44.430Z"
   },
   {
    "duration": 8,
    "start_time": "2022-01-28T09:34:44.436Z"
   },
   {
    "duration": 5,
    "start_time": "2022-01-28T09:34:44.446Z"
   },
   {
    "duration": 9,
    "start_time": "2022-01-28T09:34:44.452Z"
   },
   {
    "duration": 6,
    "start_time": "2022-01-28T09:34:44.462Z"
   },
   {
    "duration": 7,
    "start_time": "2022-01-28T09:34:44.470Z"
   },
   {
    "duration": 6,
    "start_time": "2022-01-28T09:34:44.478Z"
   },
   {
    "duration": 12,
    "start_time": "2022-01-28T09:34:44.485Z"
   },
   {
    "duration": 28,
    "start_time": "2022-01-28T09:34:44.499Z"
   },
   {
    "duration": 7,
    "start_time": "2022-01-28T09:34:44.529Z"
   },
   {
    "duration": 5,
    "start_time": "2022-01-28T09:34:44.538Z"
   },
   {
    "duration": 9,
    "start_time": "2022-01-28T09:34:44.544Z"
   },
   {
    "duration": 8,
    "start_time": "2022-01-28T09:34:44.554Z"
   },
   {
    "duration": 8,
    "start_time": "2022-01-28T09:34:44.563Z"
   },
   {
    "duration": 4,
    "start_time": "2022-01-28T09:34:44.574Z"
   },
   {
    "duration": 7,
    "start_time": "2022-01-28T09:34:44.580Z"
   },
   {
    "duration": 10,
    "start_time": "2022-01-28T09:34:44.588Z"
   },
   {
    "duration": 29,
    "start_time": "2022-01-28T09:34:44.599Z"
   },
   {
    "duration": 3,
    "start_time": "2022-01-28T09:34:44.629Z"
   },
   {
    "duration": 12,
    "start_time": "2022-01-28T09:34:44.633Z"
   },
   {
    "duration": 10,
    "start_time": "2022-01-28T09:34:44.647Z"
   },
   {
    "duration": 10,
    "start_time": "2022-01-28T09:34:44.658Z"
   },
   {
    "duration": 16,
    "start_time": "2022-01-28T09:34:44.670Z"
   },
   {
    "duration": 40,
    "start_time": "2022-01-28T09:34:44.687Z"
   },
   {
    "duration": 14,
    "start_time": "2022-01-28T09:34:44.729Z"
   },
   {
    "duration": 5,
    "start_time": "2022-01-28T09:34:44.744Z"
   },
   {
    "duration": 9,
    "start_time": "2022-01-28T09:34:44.750Z"
   },
   {
    "duration": 8,
    "start_time": "2022-01-28T09:34:44.760Z"
   },
   {
    "duration": 6,
    "start_time": "2022-01-28T09:34:44.770Z"
   },
   {
    "duration": 6,
    "start_time": "2022-01-28T09:34:44.777Z"
   },
   {
    "duration": 10,
    "start_time": "2022-01-28T09:34:44.784Z"
   },
   {
    "duration": 3610,
    "start_time": "2022-01-28T09:34:44.795Z"
   },
   {
    "duration": 22,
    "start_time": "2022-01-28T09:34:48.407Z"
   },
   {
    "duration": 16,
    "start_time": "2022-01-28T09:34:48.430Z"
   },
   {
    "duration": 9,
    "start_time": "2022-01-28T09:34:48.448Z"
   },
   {
    "duration": 12,
    "start_time": "2022-01-28T09:34:48.459Z"
   },
   {
    "duration": 2,
    "start_time": "2022-01-28T09:34:48.472Z"
   },
   {
    "duration": 9,
    "start_time": "2022-01-28T09:34:48.476Z"
   },
   {
    "duration": 8,
    "start_time": "2022-01-28T09:34:48.486Z"
   },
   {
    "duration": 32,
    "start_time": "2022-01-28T09:34:48.495Z"
   },
   {
    "duration": 8,
    "start_time": "2022-01-28T09:34:48.529Z"
   },
   {
    "duration": 4,
    "start_time": "2022-01-28T09:34:48.538Z"
   },
   {
    "duration": 14,
    "start_time": "2022-01-28T09:34:48.543Z"
   },
   {
    "duration": 21,
    "start_time": "2022-01-28T09:34:48.559Z"
   },
   {
    "duration": 6,
    "start_time": "2022-01-28T09:34:48.581Z"
   },
   {
    "duration": 10,
    "start_time": "2022-01-28T09:34:48.589Z"
   },
   {
    "duration": 27,
    "start_time": "2022-01-28T09:34:48.600Z"
   },
   {
    "duration": 18,
    "start_time": "2022-01-28T09:34:48.628Z"
   },
   {
    "duration": 14,
    "start_time": "2022-01-28T09:34:48.648Z"
   },
   {
    "duration": 15,
    "start_time": "2022-01-28T09:34:48.664Z"
   },
   {
    "duration": 16,
    "start_time": "2022-01-28T09:39:34.652Z"
   },
   {
    "duration": 20,
    "start_time": "2022-01-28T09:40:46.459Z"
   },
   {
    "duration": 349,
    "start_time": "2022-01-28T09:41:16.911Z"
   },
   {
    "duration": 8,
    "start_time": "2022-01-28T09:41:30.726Z"
   },
   {
    "duration": 5475,
    "start_time": "2022-01-28T09:43:05.766Z"
   },
   {
    "duration": 5243,
    "start_time": "2022-01-28T09:43:30.534Z"
   },
   {
    "duration": 5166,
    "start_time": "2022-01-28T09:44:30.603Z"
   },
   {
    "duration": 610,
    "start_time": "2022-01-28T09:45:41.429Z"
   },
   {
    "duration": 574,
    "start_time": "2022-01-28T09:45:41.466Z"
   },
   {
    "duration": 569,
    "start_time": "2022-01-28T09:45:41.472Z"
   },
   {
    "duration": 565,
    "start_time": "2022-01-28T09:45:41.477Z"
   },
   {
    "duration": 561,
    "start_time": "2022-01-28T09:45:41.482Z"
   },
   {
    "duration": 554,
    "start_time": "2022-01-28T09:45:41.490Z"
   },
   {
    "duration": 550,
    "start_time": "2022-01-28T09:45:41.495Z"
   },
   {
    "duration": 545,
    "start_time": "2022-01-28T09:45:41.501Z"
   },
   {
    "duration": 541,
    "start_time": "2022-01-28T09:45:41.506Z"
   },
   {
    "duration": 538,
    "start_time": "2022-01-28T09:45:41.510Z"
   },
   {
    "duration": 535,
    "start_time": "2022-01-28T09:45:41.514Z"
   },
   {
    "duration": 530,
    "start_time": "2022-01-28T09:45:41.520Z"
   },
   {
    "duration": 527,
    "start_time": "2022-01-28T09:45:41.524Z"
   },
   {
    "duration": 522,
    "start_time": "2022-01-28T09:45:41.530Z"
   },
   {
    "duration": 517,
    "start_time": "2022-01-28T09:45:41.535Z"
   },
   {
    "duration": 511,
    "start_time": "2022-01-28T09:45:41.542Z"
   },
   {
    "duration": 506,
    "start_time": "2022-01-28T09:45:41.548Z"
   },
   {
    "duration": 487,
    "start_time": "2022-01-28T09:45:41.569Z"
   },
   {
    "duration": 480,
    "start_time": "2022-01-28T09:45:41.577Z"
   },
   {
    "duration": 474,
    "start_time": "2022-01-28T09:45:41.584Z"
   },
   {
    "duration": 468,
    "start_time": "2022-01-28T09:45:41.591Z"
   },
   {
    "duration": 461,
    "start_time": "2022-01-28T09:45:41.598Z"
   },
   {
    "duration": 455,
    "start_time": "2022-01-28T09:45:41.606Z"
   },
   {
    "duration": 448,
    "start_time": "2022-01-28T09:45:41.613Z"
   },
   {
    "duration": 442,
    "start_time": "2022-01-28T09:45:41.620Z"
   },
   {
    "duration": 438,
    "start_time": "2022-01-28T09:45:41.625Z"
   },
   {
    "duration": 435,
    "start_time": "2022-01-28T09:45:41.629Z"
   },
   {
    "duration": 431,
    "start_time": "2022-01-28T09:45:41.634Z"
   },
   {
    "duration": 427,
    "start_time": "2022-01-28T09:45:41.639Z"
   },
   {
    "duration": 424,
    "start_time": "2022-01-28T09:45:41.643Z"
   },
   {
    "duration": 420,
    "start_time": "2022-01-28T09:45:41.648Z"
   },
   {
    "duration": 415,
    "start_time": "2022-01-28T09:45:41.653Z"
   },
   {
    "duration": 413,
    "start_time": "2022-01-28T09:45:41.657Z"
   },
   {
    "duration": 408,
    "start_time": "2022-01-28T09:45:41.662Z"
   },
   {
    "duration": 404,
    "start_time": "2022-01-28T09:45:41.667Z"
   },
   {
    "duration": 388,
    "start_time": "2022-01-28T09:45:41.684Z"
   },
   {
    "duration": 384,
    "start_time": "2022-01-28T09:45:41.689Z"
   },
   {
    "duration": 381,
    "start_time": "2022-01-28T09:45:41.693Z"
   },
   {
    "duration": 377,
    "start_time": "2022-01-28T09:45:41.698Z"
   },
   {
    "duration": 374,
    "start_time": "2022-01-28T09:45:41.702Z"
   },
   {
    "duration": 371,
    "start_time": "2022-01-28T09:45:41.706Z"
   },
   {
    "duration": 417,
    "start_time": "2022-01-28T09:45:41.710Z"
   },
   {
    "duration": 413,
    "start_time": "2022-01-28T09:45:41.715Z"
   },
   {
    "duration": 410,
    "start_time": "2022-01-28T09:45:41.719Z"
   },
   {
    "duration": 406,
    "start_time": "2022-01-28T09:45:41.724Z"
   },
   {
    "duration": 402,
    "start_time": "2022-01-28T09:45:41.729Z"
   },
   {
    "duration": 399,
    "start_time": "2022-01-28T09:45:41.733Z"
   },
   {
    "duration": 396,
    "start_time": "2022-01-28T09:45:41.737Z"
   },
   {
    "duration": 393,
    "start_time": "2022-01-28T09:45:41.741Z"
   },
   {
    "duration": 389,
    "start_time": "2022-01-28T09:45:41.746Z"
   },
   {
    "duration": 386,
    "start_time": "2022-01-28T09:45:41.750Z"
   },
   {
    "duration": 383,
    "start_time": "2022-01-28T09:45:41.754Z"
   },
   {
    "duration": 380,
    "start_time": "2022-01-28T09:45:41.758Z"
   },
   {
    "duration": 376,
    "start_time": "2022-01-28T09:45:41.763Z"
   },
   {
    "duration": 373,
    "start_time": "2022-01-28T09:45:41.767Z"
   },
   {
    "duration": 370,
    "start_time": "2022-01-28T09:45:41.771Z"
   },
   {
    "duration": 366,
    "start_time": "2022-01-28T09:45:41.775Z"
   },
   {
    "duration": 363,
    "start_time": "2022-01-28T09:45:41.779Z"
   },
   {
    "duration": 348,
    "start_time": "2022-01-28T09:45:41.795Z"
   },
   {
    "duration": 344,
    "start_time": "2022-01-28T09:45:41.799Z"
   },
   {
    "duration": 2,
    "start_time": "2022-01-28T09:45:57.959Z"
   },
   {
    "duration": 49,
    "start_time": "2022-01-28T09:45:57.963Z"
   },
   {
    "duration": 12,
    "start_time": "2022-01-28T09:45:58.014Z"
   },
   {
    "duration": 12,
    "start_time": "2022-01-28T09:45:58.027Z"
   },
   {
    "duration": 9,
    "start_time": "2022-01-28T09:45:58.040Z"
   },
   {
    "duration": 4,
    "start_time": "2022-01-28T09:45:58.050Z"
   },
   {
    "duration": 7,
    "start_time": "2022-01-28T09:45:58.056Z"
   },
   {
    "duration": 7,
    "start_time": "2022-01-28T09:45:58.065Z"
   },
   {
    "duration": 5,
    "start_time": "2022-01-28T09:45:58.073Z"
   },
   {
    "duration": 10,
    "start_time": "2022-01-28T09:45:58.079Z"
   },
   {
    "duration": 39,
    "start_time": "2022-01-28T09:45:58.091Z"
   },
   {
    "duration": 10,
    "start_time": "2022-01-28T09:45:58.132Z"
   },
   {
    "duration": 7,
    "start_time": "2022-01-28T09:45:58.143Z"
   },
   {
    "duration": 8,
    "start_time": "2022-01-28T09:45:58.152Z"
   },
   {
    "duration": 6,
    "start_time": "2022-01-28T09:45:58.162Z"
   },
   {
    "duration": 8,
    "start_time": "2022-01-28T09:45:58.170Z"
   },
   {
    "duration": 5,
    "start_time": "2022-01-28T09:45:58.180Z"
   },
   {
    "duration": 46,
    "start_time": "2022-01-28T09:45:58.186Z"
   },
   {
    "duration": 5,
    "start_time": "2022-01-28T09:45:58.235Z"
   },
   {
    "duration": 9,
    "start_time": "2022-01-28T09:45:58.242Z"
   },
   {
    "duration": 10,
    "start_time": "2022-01-28T09:45:58.253Z"
   },
   {
    "duration": 9,
    "start_time": "2022-01-28T09:45:58.265Z"
   },
   {
    "duration": 8,
    "start_time": "2022-01-28T09:45:58.276Z"
   },
   {
    "duration": 13,
    "start_time": "2022-01-28T09:45:58.285Z"
   },
   {
    "duration": 33,
    "start_time": "2022-01-28T09:45:58.300Z"
   },
   {
    "duration": 4,
    "start_time": "2022-01-28T09:45:58.334Z"
   },
   {
    "duration": 5,
    "start_time": "2022-01-28T09:45:58.340Z"
   },
   {
    "duration": 12,
    "start_time": "2022-01-28T09:45:58.347Z"
   },
   {
    "duration": 11,
    "start_time": "2022-01-28T09:45:58.361Z"
   },
   {
    "duration": 12,
    "start_time": "2022-01-28T09:45:58.373Z"
   },
   {
    "duration": 17,
    "start_time": "2022-01-28T09:45:58.386Z"
   },
   {
    "duration": 16,
    "start_time": "2022-01-28T09:45:58.427Z"
   },
   {
    "duration": 13,
    "start_time": "2022-01-28T09:45:58.444Z"
   },
   {
    "duration": 5,
    "start_time": "2022-01-28T09:45:58.458Z"
   },
   {
    "duration": 7,
    "start_time": "2022-01-28T09:45:58.465Z"
   },
   {
    "duration": 8,
    "start_time": "2022-01-28T09:45:58.473Z"
   },
   {
    "duration": 6,
    "start_time": "2022-01-28T09:45:58.482Z"
   },
   {
    "duration": 38,
    "start_time": "2022-01-28T09:45:58.490Z"
   },
   {
    "duration": 21,
    "start_time": "2022-01-28T09:45:58.530Z"
   },
   {
    "duration": 3475,
    "start_time": "2022-01-28T09:45:58.552Z"
   },
   {
    "duration": 10,
    "start_time": "2022-01-28T09:46:02.029Z"
   },
   {
    "duration": 26,
    "start_time": "2022-01-28T09:46:02.041Z"
   },
   {
    "duration": 9,
    "start_time": "2022-01-28T09:46:02.068Z"
   },
   {
    "duration": 13,
    "start_time": "2022-01-28T09:46:02.079Z"
   },
   {
    "duration": 3,
    "start_time": "2022-01-28T09:46:02.093Z"
   },
   {
    "duration": 13,
    "start_time": "2022-01-28T09:46:02.097Z"
   },
   {
    "duration": 17,
    "start_time": "2022-01-28T09:46:02.111Z"
   },
   {
    "duration": 13,
    "start_time": "2022-01-28T09:46:02.129Z"
   },
   {
    "duration": 12,
    "start_time": "2022-01-28T09:46:02.144Z"
   },
   {
    "duration": 7,
    "start_time": "2022-01-28T09:46:02.157Z"
   },
   {
    "duration": 14,
    "start_time": "2022-01-28T09:46:02.166Z"
   },
   {
    "duration": 24,
    "start_time": "2022-01-28T09:46:02.182Z"
   },
   {
    "duration": 6,
    "start_time": "2022-01-28T09:46:02.207Z"
   },
   {
    "duration": 16,
    "start_time": "2022-01-28T09:46:02.215Z"
   },
   {
    "duration": 7,
    "start_time": "2022-01-28T09:46:02.234Z"
   },
   {
    "duration": 23,
    "start_time": "2022-01-28T09:46:02.242Z"
   },
   {
    "duration": 7,
    "start_time": "2022-01-28T09:46:02.266Z"
   },
   {
    "duration": 5751,
    "start_time": "2022-01-28T09:46:02.275Z"
   },
   {
    "duration": 598,
    "start_time": "2022-01-28T09:46:07.430Z"
   },
   {
    "duration": 590,
    "start_time": "2022-01-28T09:46:07.439Z"
   },
   {
    "duration": 8047,
    "start_time": "2022-01-28T09:47:17.065Z"
   },
   {
    "duration": 5277,
    "start_time": "2022-01-28T09:47:29.059Z"
   },
   {
    "duration": 5320,
    "start_time": "2022-01-28T09:47:38.113Z"
   },
   {
    "duration": 5283,
    "start_time": "2022-01-28T09:50:08.691Z"
   },
   {
    "duration": 5409,
    "start_time": "2022-01-28T09:50:22.542Z"
   },
   {
    "duration": 278,
    "start_time": "2022-01-28T09:56:58.084Z"
   },
   {
    "duration": 375,
    "start_time": "2022-01-28T09:57:44.782Z"
   },
   {
    "duration": 305,
    "start_time": "2022-01-28T10:00:29.803Z"
   },
   {
    "duration": 415,
    "start_time": "2022-01-28T10:00:41.841Z"
   },
   {
    "duration": 267,
    "start_time": "2022-01-28T10:01:31.631Z"
   },
   {
    "duration": 265,
    "start_time": "2022-01-28T10:03:54.924Z"
   },
   {
    "duration": 8,
    "start_time": "2022-01-28T10:04:36.571Z"
   },
   {
    "duration": 8,
    "start_time": "2022-01-28T10:04:46.945Z"
   },
   {
    "duration": 9,
    "start_time": "2022-01-28T10:05:36.207Z"
   },
   {
    "duration": 7868,
    "start_time": "2022-01-28T10:06:02.433Z"
   },
   {
    "duration": 5,
    "start_time": "2022-01-28T10:06:33.403Z"
   },
   {
    "duration": 96,
    "start_time": "2022-01-28T10:07:16.742Z"
   },
   {
    "duration": 4,
    "start_time": "2022-01-28T10:07:28.127Z"
   },
   {
    "duration": 3,
    "start_time": "2022-01-28T10:09:23.741Z"
   },
   {
    "duration": 5,
    "start_time": "2022-01-28T10:09:41.204Z"
   },
   {
    "duration": 4,
    "start_time": "2022-01-28T10:12:38.463Z"
   },
   {
    "duration": 5,
    "start_time": "2022-01-28T10:13:32.521Z"
   },
   {
    "duration": 5,
    "start_time": "2022-01-28T10:13:57.566Z"
   },
   {
    "duration": 3,
    "start_time": "2022-01-28T10:14:46.575Z"
   },
   {
    "duration": 5,
    "start_time": "2022-01-28T10:15:43.934Z"
   },
   {
    "duration": 5,
    "start_time": "2022-01-28T10:16:20.924Z"
   },
   {
    "duration": 4,
    "start_time": "2022-01-28T10:17:43.051Z"
   },
   {
    "duration": 4,
    "start_time": "2022-01-28T10:18:24.397Z"
   },
   {
    "duration": 5,
    "start_time": "2022-01-28T10:19:02.286Z"
   },
   {
    "duration": 4,
    "start_time": "2022-01-28T10:27:34.329Z"
   },
   {
    "duration": 4,
    "start_time": "2022-01-28T10:30:23.416Z"
   },
   {
    "duration": 7,
    "start_time": "2022-01-28T10:31:03.515Z"
   },
   {
    "duration": 4,
    "start_time": "2022-01-28T10:31:05.963Z"
   },
   {
    "duration": 4,
    "start_time": "2022-01-28T10:31:09.954Z"
   },
   {
    "duration": 4,
    "start_time": "2022-01-28T10:31:10.699Z"
   },
   {
    "duration": 4,
    "start_time": "2022-01-28T10:31:11.406Z"
   },
   {
    "duration": 4,
    "start_time": "2022-01-28T10:31:12.040Z"
   },
   {
    "duration": 16,
    "start_time": "2022-01-28T10:32:11.067Z"
   },
   {
    "duration": 7,
    "start_time": "2022-01-28T10:39:12.793Z"
   },
   {
    "duration": 4,
    "start_time": "2022-01-28T10:39:58.984Z"
   },
   {
    "duration": 4,
    "start_time": "2022-01-28T10:45:22.661Z"
   },
   {
    "duration": 4,
    "start_time": "2022-01-28T10:48:20.806Z"
   },
   {
    "duration": 6,
    "start_time": "2022-01-28T10:50:31.284Z"
   },
   {
    "duration": 4,
    "start_time": "2022-01-28T10:51:42.585Z"
   },
   {
    "duration": 4,
    "start_time": "2022-01-28T10:55:00.500Z"
   },
   {
    "duration": 4,
    "start_time": "2022-01-28T10:56:17.363Z"
   },
   {
    "duration": 19,
    "start_time": "2022-01-28T10:59:08.851Z"
   },
   {
    "duration": 269,
    "start_time": "2022-01-28T11:00:34.736Z"
   },
   {
    "duration": 17,
    "start_time": "2022-01-28T11:02:15.069Z"
   },
   {
    "duration": 7,
    "start_time": "2022-01-28T11:02:22.939Z"
   },
   {
    "duration": 6351,
    "start_time": "2022-01-28T11:02:45.358Z"
   },
   {
    "duration": 4,
    "start_time": "2022-01-28T11:03:02.991Z"
   },
   {
    "duration": 4,
    "start_time": "2022-01-28T11:04:07.358Z"
   },
   {
    "duration": 3,
    "start_time": "2022-01-28T11:07:44.706Z"
   },
   {
    "duration": 54,
    "start_time": "2022-01-28T11:07:44.711Z"
   },
   {
    "duration": 10,
    "start_time": "2022-01-28T11:07:44.767Z"
   },
   {
    "duration": 12,
    "start_time": "2022-01-28T11:07:44.779Z"
   },
   {
    "duration": 7,
    "start_time": "2022-01-28T11:07:44.793Z"
   },
   {
    "duration": 25,
    "start_time": "2022-01-28T11:07:44.802Z"
   },
   {
    "duration": 5,
    "start_time": "2022-01-28T11:07:44.829Z"
   },
   {
    "duration": 6,
    "start_time": "2022-01-28T11:07:44.836Z"
   },
   {
    "duration": 4,
    "start_time": "2022-01-28T11:07:44.844Z"
   },
   {
    "duration": 8,
    "start_time": "2022-01-28T11:07:44.850Z"
   },
   {
    "duration": 6,
    "start_time": "2022-01-28T11:07:44.859Z"
   },
   {
    "duration": 8,
    "start_time": "2022-01-28T11:07:44.866Z"
   },
   {
    "duration": 5,
    "start_time": "2022-01-28T11:07:44.876Z"
   },
   {
    "duration": 8,
    "start_time": "2022-01-28T11:07:44.882Z"
   },
   {
    "duration": 41,
    "start_time": "2022-01-28T11:07:44.892Z"
   },
   {
    "duration": 9,
    "start_time": "2022-01-28T11:07:44.935Z"
   },
   {
    "duration": 6,
    "start_time": "2022-01-28T11:07:44.946Z"
   },
   {
    "duration": 9,
    "start_time": "2022-01-28T11:07:44.953Z"
   },
   {
    "duration": 4,
    "start_time": "2022-01-28T11:07:44.966Z"
   },
   {
    "duration": 12,
    "start_time": "2022-01-28T11:07:44.972Z"
   },
   {
    "duration": 44,
    "start_time": "2022-01-28T11:07:44.985Z"
   },
   {
    "duration": 8,
    "start_time": "2022-01-28T11:07:45.031Z"
   },
   {
    "duration": 5,
    "start_time": "2022-01-28T11:07:45.040Z"
   },
   {
    "duration": 10,
    "start_time": "2022-01-28T11:07:45.046Z"
   },
   {
    "duration": 11,
    "start_time": "2022-01-28T11:07:45.057Z"
   },
   {
    "duration": 3,
    "start_time": "2022-01-28T11:07:45.070Z"
   },
   {
    "duration": 4,
    "start_time": "2022-01-28T11:07:45.075Z"
   },
   {
    "duration": 18,
    "start_time": "2022-01-28T11:07:45.080Z"
   },
   {
    "duration": 36,
    "start_time": "2022-01-28T11:07:45.099Z"
   },
   {
    "duration": 16,
    "start_time": "2022-01-28T11:07:45.137Z"
   },
   {
    "duration": 16,
    "start_time": "2022-01-28T11:07:45.155Z"
   },
   {
    "duration": 16,
    "start_time": "2022-01-28T11:07:45.173Z"
   },
   {
    "duration": 13,
    "start_time": "2022-01-28T11:07:45.191Z"
   },
   {
    "duration": 23,
    "start_time": "2022-01-28T11:07:45.205Z"
   },
   {
    "duration": 7,
    "start_time": "2022-01-28T11:07:45.229Z"
   },
   {
    "duration": 8,
    "start_time": "2022-01-28T11:07:45.237Z"
   },
   {
    "duration": 6,
    "start_time": "2022-01-28T11:07:45.246Z"
   },
   {
    "duration": 6,
    "start_time": "2022-01-28T11:07:45.253Z"
   },
   {
    "duration": 20,
    "start_time": "2022-01-28T11:07:45.260Z"
   },
   {
    "duration": 3463,
    "start_time": "2022-01-28T11:07:45.282Z"
   },
   {
    "duration": 10,
    "start_time": "2022-01-28T11:07:48.747Z"
   },
   {
    "duration": 15,
    "start_time": "2022-01-28T11:07:48.759Z"
   },
   {
    "duration": 9,
    "start_time": "2022-01-28T11:07:48.776Z"
   },
   {
    "duration": 12,
    "start_time": "2022-01-28T11:07:48.786Z"
   },
   {
    "duration": 3,
    "start_time": "2022-01-28T11:07:48.799Z"
   },
   {
    "duration": 30,
    "start_time": "2022-01-28T11:07:48.803Z"
   },
   {
    "duration": 5,
    "start_time": "2022-01-28T11:07:48.834Z"
   },
   {
    "duration": 10,
    "start_time": "2022-01-28T11:07:48.840Z"
   },
   {
    "duration": 10,
    "start_time": "2022-01-28T11:07:48.851Z"
   },
   {
    "duration": 3,
    "start_time": "2022-01-28T11:07:48.862Z"
   },
   {
    "duration": 10,
    "start_time": "2022-01-28T11:07:48.866Z"
   },
   {
    "duration": 21,
    "start_time": "2022-01-28T11:07:48.877Z"
   },
   {
    "duration": 28,
    "start_time": "2022-01-28T11:07:48.900Z"
   },
   {
    "duration": 5,
    "start_time": "2022-01-28T11:07:48.929Z"
   },
   {
    "duration": 18,
    "start_time": "2022-01-28T11:07:48.938Z"
   },
   {
    "duration": 7,
    "start_time": "2022-01-28T11:07:48.957Z"
   },
   {
    "duration": 5,
    "start_time": "2022-01-28T11:07:48.965Z"
   },
   {
    "duration": 6,
    "start_time": "2022-01-28T11:07:48.971Z"
   },
   {
    "duration": 5,
    "start_time": "2022-01-28T11:07:48.978Z"
   },
   {
    "duration": 4,
    "start_time": "2022-01-28T11:07:48.984Z"
   },
   {
    "duration": 39,
    "start_time": "2022-01-28T11:07:48.989Z"
   },
   {
    "duration": 19,
    "start_time": "2022-01-28T11:07:49.029Z"
   },
   {
    "duration": 4,
    "start_time": "2022-01-28T11:07:49.049Z"
   },
   {
    "duration": 5,
    "start_time": "2022-01-28T11:07:49.055Z"
   },
   {
    "duration": 6,
    "start_time": "2022-01-28T11:07:49.061Z"
   },
   {
    "duration": 30,
    "start_time": "2022-01-28T11:07:49.068Z"
   },
   {
    "duration": 4,
    "start_time": "2022-01-28T11:07:49.099Z"
   },
   {
    "duration": 4,
    "start_time": "2022-01-28T11:13:05.115Z"
   },
   {
    "duration": 4,
    "start_time": "2022-01-28T11:16:34.917Z"
   },
   {
    "duration": 5,
    "start_time": "2022-01-28T11:17:49.185Z"
   },
   {
    "duration": 4,
    "start_time": "2022-01-28T11:18:43.350Z"
   },
   {
    "duration": 21,
    "start_time": "2022-01-28T11:43:49.047Z"
   },
   {
    "duration": 14,
    "start_time": "2022-01-28T11:44:01.171Z"
   },
   {
    "duration": 275,
    "start_time": "2022-01-28T11:44:10.592Z"
   },
   {
    "duration": 4,
    "start_time": "2022-01-28T11:44:29.895Z"
   },
   {
    "duration": 19,
    "start_time": "2022-01-28T11:45:02.376Z"
   },
   {
    "duration": 4,
    "start_time": "2022-01-28T11:46:19.361Z"
   },
   {
    "duration": 5,
    "start_time": "2022-01-28T11:47:03.338Z"
   },
   {
    "duration": 5,
    "start_time": "2022-01-28T11:48:05.072Z"
   },
   {
    "duration": 20,
    "start_time": "2022-01-28T12:11:05.462Z"
   },
   {
    "duration": 6,
    "start_time": "2022-01-28T12:12:56.239Z"
   },
   {
    "duration": 4,
    "start_time": "2022-01-28T12:17:32.437Z"
   },
   {
    "duration": 49,
    "start_time": "2022-01-28T12:17:32.443Z"
   },
   {
    "duration": 12,
    "start_time": "2022-01-28T12:17:32.495Z"
   },
   {
    "duration": 15,
    "start_time": "2022-01-28T12:17:32.508Z"
   },
   {
    "duration": 10,
    "start_time": "2022-01-28T12:17:32.524Z"
   },
   {
    "duration": 6,
    "start_time": "2022-01-28T12:17:32.535Z"
   },
   {
    "duration": 6,
    "start_time": "2022-01-28T12:17:32.543Z"
   },
   {
    "duration": 7,
    "start_time": "2022-01-28T12:17:32.552Z"
   },
   {
    "duration": 5,
    "start_time": "2022-01-28T12:17:32.561Z"
   },
   {
    "duration": 9,
    "start_time": "2022-01-28T12:17:32.567Z"
   },
   {
    "duration": 7,
    "start_time": "2022-01-28T12:17:32.577Z"
   },
   {
    "duration": 45,
    "start_time": "2022-01-28T12:17:32.585Z"
   },
   {
    "duration": 9,
    "start_time": "2022-01-28T12:17:32.632Z"
   },
   {
    "duration": 9,
    "start_time": "2022-01-28T12:17:32.642Z"
   },
   {
    "duration": 7,
    "start_time": "2022-01-28T12:17:32.653Z"
   },
   {
    "duration": 9,
    "start_time": "2022-01-28T12:17:32.662Z"
   },
   {
    "duration": 6,
    "start_time": "2022-01-28T12:17:32.673Z"
   },
   {
    "duration": 8,
    "start_time": "2022-01-28T12:17:32.681Z"
   },
   {
    "duration": 39,
    "start_time": "2022-01-28T12:17:32.691Z"
   },
   {
    "duration": 9,
    "start_time": "2022-01-28T12:17:32.732Z"
   },
   {
    "duration": 9,
    "start_time": "2022-01-28T12:17:32.743Z"
   },
   {
    "duration": 9,
    "start_time": "2022-01-28T12:17:32.753Z"
   },
   {
    "duration": 5,
    "start_time": "2022-01-28T12:17:32.766Z"
   },
   {
    "duration": 8,
    "start_time": "2022-01-28T12:17:32.773Z"
   },
   {
    "duration": 10,
    "start_time": "2022-01-28T12:17:32.782Z"
   },
   {
    "duration": 34,
    "start_time": "2022-01-28T12:17:32.794Z"
   },
   {
    "duration": 5,
    "start_time": "2022-01-28T12:17:32.830Z"
   },
   {
    "duration": 12,
    "start_time": "2022-01-28T12:17:32.837Z"
   },
   {
    "duration": 10,
    "start_time": "2022-01-28T12:17:32.850Z"
   },
   {
    "duration": 10,
    "start_time": "2022-01-28T12:17:32.862Z"
   },
   {
    "duration": 21,
    "start_time": "2022-01-28T12:17:32.873Z"
   },
   {
    "duration": 48,
    "start_time": "2022-01-28T12:17:32.896Z"
   },
   {
    "duration": 20,
    "start_time": "2022-01-28T12:17:32.946Z"
   },
   {
    "duration": 6,
    "start_time": "2022-01-28T12:17:32.968Z"
   },
   {
    "duration": 11,
    "start_time": "2022-01-28T12:17:32.976Z"
   },
   {
    "duration": 13,
    "start_time": "2022-01-28T12:17:32.989Z"
   },
   {
    "duration": 25,
    "start_time": "2022-01-28T12:17:33.004Z"
   },
   {
    "duration": 10,
    "start_time": "2022-01-28T12:17:33.031Z"
   },
   {
    "duration": 30,
    "start_time": "2022-01-28T12:17:33.043Z"
   },
   {
    "duration": 3669,
    "start_time": "2022-01-28T12:17:33.075Z"
   },
   {
    "duration": 11,
    "start_time": "2022-01-28T12:17:36.746Z"
   },
   {
    "duration": 23,
    "start_time": "2022-01-28T12:17:36.758Z"
   },
   {
    "duration": 9,
    "start_time": "2022-01-28T12:17:36.783Z"
   },
   {
    "duration": 12,
    "start_time": "2022-01-28T12:17:36.794Z"
   },
   {
    "duration": 3,
    "start_time": "2022-01-28T12:17:36.827Z"
   },
   {
    "duration": 10,
    "start_time": "2022-01-28T12:17:36.832Z"
   },
   {
    "duration": 5,
    "start_time": "2022-01-28T12:17:36.844Z"
   },
   {
    "duration": 8,
    "start_time": "2022-01-28T12:17:36.851Z"
   },
   {
    "duration": 8,
    "start_time": "2022-01-28T12:17:36.860Z"
   },
   {
    "duration": 3,
    "start_time": "2022-01-28T12:17:36.870Z"
   },
   {
    "duration": 11,
    "start_time": "2022-01-28T12:17:36.874Z"
   },
   {
    "duration": 49,
    "start_time": "2022-01-28T12:17:36.886Z"
   },
   {
    "duration": 4,
    "start_time": "2022-01-28T12:17:36.937Z"
   },
   {
    "duration": 6,
    "start_time": "2022-01-28T12:17:36.942Z"
   },
   {
    "duration": 21,
    "start_time": "2022-01-28T12:17:36.949Z"
   },
   {
    "duration": 7,
    "start_time": "2022-01-28T12:17:36.971Z"
   },
   {
    "duration": 5,
    "start_time": "2022-01-28T12:17:36.981Z"
   },
   {
    "duration": 5,
    "start_time": "2022-01-28T12:17:36.988Z"
   },
   {
    "duration": 35,
    "start_time": "2022-01-28T12:17:36.995Z"
   },
   {
    "duration": 22,
    "start_time": "2022-01-28T12:17:37.032Z"
   },
   {
    "duration": 5,
    "start_time": "2022-01-28T12:17:37.056Z"
   },
   {
    "duration": 31,
    "start_time": "2022-01-28T12:17:37.063Z"
   },
   {
    "duration": 7,
    "start_time": "2022-01-28T12:17:37.095Z"
   },
   {
    "duration": 18,
    "start_time": "2022-01-28T12:17:37.103Z"
   },
   {
    "duration": 9,
    "start_time": "2022-01-28T12:17:37.123Z"
   },
   {
    "duration": 39,
    "start_time": "2022-01-28T12:17:37.134Z"
   },
   {
    "duration": 15,
    "start_time": "2022-01-28T12:17:37.174Z"
   },
   {
    "duration": 12,
    "start_time": "2022-01-28T12:17:37.193Z"
   },
   {
    "duration": 11,
    "start_time": "2022-01-28T12:17:37.207Z"
   },
   {
    "duration": 21,
    "start_time": "2022-01-28T12:17:37.219Z"
   },
   {
    "duration": 611,
    "start_time": "2022-02-06T08:47:24.328Z"
   },
   {
    "duration": 46,
    "start_time": "2022-02-06T08:47:24.940Z"
   },
   {
    "duration": 16,
    "start_time": "2022-02-06T08:47:24.988Z"
   },
   {
    "duration": 12,
    "start_time": "2022-02-06T08:47:25.005Z"
   },
   {
    "duration": 13,
    "start_time": "2022-02-06T08:47:25.018Z"
   },
   {
    "duration": 3,
    "start_time": "2022-02-06T08:47:25.032Z"
   },
   {
    "duration": 9,
    "start_time": "2022-02-06T08:47:25.036Z"
   },
   {
    "duration": 6,
    "start_time": "2022-02-06T08:47:25.046Z"
   },
   {
    "duration": 4,
    "start_time": "2022-02-06T08:47:25.055Z"
   },
   {
    "duration": 8,
    "start_time": "2022-02-06T08:47:25.061Z"
   },
   {
    "duration": 5,
    "start_time": "2022-02-06T08:47:25.071Z"
   },
   {
    "duration": 10,
    "start_time": "2022-02-06T08:47:25.077Z"
   },
   {
    "duration": 6,
    "start_time": "2022-02-06T08:47:25.088Z"
   },
   {
    "duration": 35,
    "start_time": "2022-02-06T08:47:25.095Z"
   },
   {
    "duration": 5,
    "start_time": "2022-02-06T08:47:25.131Z"
   },
   {
    "duration": 8,
    "start_time": "2022-02-06T08:47:25.138Z"
   },
   {
    "duration": 5,
    "start_time": "2022-02-06T08:47:25.147Z"
   },
   {
    "duration": 8,
    "start_time": "2022-02-06T08:47:25.153Z"
   },
   {
    "duration": 4,
    "start_time": "2022-02-06T08:47:25.163Z"
   },
   {
    "duration": 8,
    "start_time": "2022-02-06T08:47:25.168Z"
   },
   {
    "duration": 9,
    "start_time": "2022-02-06T08:47:25.177Z"
   },
   {
    "duration": 8,
    "start_time": "2022-02-06T08:47:25.187Z"
   },
   {
    "duration": 5,
    "start_time": "2022-02-06T08:47:25.196Z"
   },
   {
    "duration": 28,
    "start_time": "2022-02-06T08:47:25.203Z"
   },
   {
    "duration": 10,
    "start_time": "2022-02-06T08:47:25.233Z"
   },
   {
    "duration": 4,
    "start_time": "2022-02-06T08:47:25.244Z"
   },
   {
    "duration": 2,
    "start_time": "2022-02-06T08:47:25.253Z"
   },
   {
    "duration": 11,
    "start_time": "2022-02-06T08:47:25.258Z"
   },
   {
    "duration": 10,
    "start_time": "2022-02-06T08:47:25.270Z"
   },
   {
    "duration": 10,
    "start_time": "2022-02-06T08:47:25.282Z"
   },
   {
    "duration": 48,
    "start_time": "2022-02-06T08:47:25.293Z"
   },
   {
    "duration": 16,
    "start_time": "2022-02-06T08:47:25.342Z"
   },
   {
    "duration": 14,
    "start_time": "2022-02-06T08:47:25.359Z"
   },
   {
    "duration": 6,
    "start_time": "2022-02-06T08:47:25.374Z"
   },
   {
    "duration": 8,
    "start_time": "2022-02-06T08:47:25.381Z"
   },
   {
    "duration": 38,
    "start_time": "2022-02-06T08:47:25.390Z"
   },
   {
    "duration": 7,
    "start_time": "2022-02-06T08:47:25.429Z"
   },
   {
    "duration": 6,
    "start_time": "2022-02-06T08:47:25.437Z"
   },
   {
    "duration": 11,
    "start_time": "2022-02-06T08:47:25.444Z"
   },
   {
    "duration": 3415,
    "start_time": "2022-02-06T08:47:25.456Z"
   },
   {
    "duration": 10,
    "start_time": "2022-02-06T08:47:28.873Z"
   },
   {
    "duration": 15,
    "start_time": "2022-02-06T08:47:28.884Z"
   },
   {
    "duration": 9,
    "start_time": "2022-02-06T08:47:28.901Z"
   },
   {
    "duration": 12,
    "start_time": "2022-02-06T08:47:28.927Z"
   },
   {
    "duration": 2,
    "start_time": "2022-02-06T08:47:28.941Z"
   },
   {
    "duration": 9,
    "start_time": "2022-02-06T08:47:28.944Z"
   },
   {
    "duration": 2,
    "start_time": "2022-02-06T08:47:28.954Z"
   },
   {
    "duration": 7,
    "start_time": "2022-02-06T08:47:28.958Z"
   },
   {
    "duration": 8,
    "start_time": "2022-02-06T08:47:28.966Z"
   },
   {
    "duration": 3,
    "start_time": "2022-02-06T08:47:28.975Z"
   },
   {
    "duration": 9,
    "start_time": "2022-02-06T08:47:28.979Z"
   },
   {
    "duration": 52,
    "start_time": "2022-02-06T08:47:28.990Z"
   },
   {
    "duration": 4,
    "start_time": "2022-02-06T08:47:29.044Z"
   },
   {
    "duration": 11,
    "start_time": "2022-02-06T08:47:29.050Z"
   },
   {
    "duration": 19,
    "start_time": "2022-02-06T08:47:29.063Z"
   },
   {
    "duration": 7,
    "start_time": "2022-02-06T08:47:29.083Z"
   },
   {
    "duration": 7,
    "start_time": "2022-02-06T08:47:29.091Z"
   },
   {
    "duration": 5,
    "start_time": "2022-02-06T08:47:29.100Z"
   },
   {
    "duration": 23,
    "start_time": "2022-02-06T08:47:29.106Z"
   },
   {
    "duration": 8,
    "start_time": "2022-02-06T08:47:29.130Z"
   },
   {
    "duration": 8,
    "start_time": "2022-02-06T08:47:29.139Z"
   },
   {
    "duration": 23,
    "start_time": "2022-02-06T08:47:29.149Z"
   },
   {
    "duration": 4,
    "start_time": "2022-02-06T08:47:29.173Z"
   },
   {
    "duration": 8,
    "start_time": "2022-02-06T08:47:29.178Z"
   },
   {
    "duration": 7,
    "start_time": "2022-02-06T08:47:29.188Z"
   },
   {
    "duration": 21,
    "start_time": "2022-02-06T08:47:29.196Z"
   },
   {
    "duration": 3,
    "start_time": "2022-02-06T08:47:29.227Z"
   },
   {
    "duration": 5,
    "start_time": "2022-02-06T08:47:29.232Z"
   },
   {
    "duration": 7,
    "start_time": "2022-02-06T08:47:29.238Z"
   },
   {
    "duration": 7,
    "start_time": "2022-02-06T08:47:29.246Z"
   },
   {
    "duration": 6,
    "start_time": "2022-02-06T08:50:28.131Z"
   },
   {
    "duration": 8,
    "start_time": "2022-02-06T08:50:39.546Z"
   },
   {
    "duration": 4,
    "start_time": "2022-02-06T08:51:20.620Z"
   },
   {
    "duration": 21,
    "start_time": "2022-02-06T08:51:51.510Z"
   },
   {
    "duration": 18,
    "start_time": "2022-02-06T08:53:15.176Z"
   },
   {
    "duration": 1744,
    "start_time": "2022-02-06T08:53:33.516Z"
   },
   {
    "duration": 1613,
    "start_time": "2022-02-06T08:53:46.908Z"
   },
   {
    "duration": 2,
    "start_time": "2022-02-06T08:54:03.227Z"
   },
   {
    "duration": 30,
    "start_time": "2022-02-06T08:54:09.518Z"
   },
   {
    "duration": 39,
    "start_time": "2022-02-06T08:55:45.179Z"
   },
   {
    "duration": 1619,
    "start_time": "2022-02-06T08:56:14.910Z"
   },
   {
    "duration": 16,
    "start_time": "2022-02-06T08:59:52.808Z"
   },
   {
    "duration": 7,
    "start_time": "2022-02-06T08:59:53.793Z"
   },
   {
    "duration": 3,
    "start_time": "2022-02-06T08:59:54.443Z"
   },
   {
    "duration": 6,
    "start_time": "2022-02-06T08:59:54.926Z"
   },
   {
    "duration": 7,
    "start_time": "2022-02-06T08:59:55.310Z"
   },
   {
    "duration": 6,
    "start_time": "2022-02-06T08:59:55.699Z"
   }
  ],
  "kernelspec": {
   "display_name": "Python 3 (ipykernel)",
   "language": "python",
   "name": "python3"
  },
  "language_info": {
   "codemirror_mode": {
    "name": "ipython",
    "version": 3
   },
   "file_extension": ".py",
   "mimetype": "text/x-python",
   "name": "python",
   "nbconvert_exporter": "python",
   "pygments_lexer": "ipython3",
   "version": "3.9.7"
  },
  "toc": {
   "base_numbering": 1,
   "nav_menu": {},
   "number_sections": true,
   "sideBar": true,
   "skip_h1_title": true,
   "title_cell": "Table of Contents",
   "title_sidebar": "Contents",
   "toc_cell": false,
   "toc_position": {
    "height": "calc(100% - 180px)",
    "left": "10px",
    "top": "150px",
    "width": "165px"
   },
   "toc_section_display": true,
   "toc_window_display": true
  }
 },
 "nbformat": 4,
 "nbformat_minor": 2
}
