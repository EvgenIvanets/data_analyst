{
 "cells": [
  {
   "cell_type": "markdown",
   "id": "476b95e2",
   "metadata": {},
   "source": [
    "# Анализ рынка общественного питания Москвы"
   ]
  },
  {
   "cell_type": "markdown",
   "id": "05c265cf",
   "metadata": {},
   "source": [
    "Мы планируем открыть небольшое кафе в Москве, особенность этого кафе в том, что гостей должны обслуживать роботы. Для запуска проекта необходимо привлечь инвесторов. Их интересует текущее положение дел на рынке — сможем ли мы снискать популярность на долгое время, когда все зеваки насмотрятся на роботов-официантов? Для того, чтобы заинтересовать инвесторов подготовим исследование рынка. В нашем распоряжении открытые данные о заведениях общественного питания в Москве."
   ]
  },
  {
   "cell_type": "markdown",
   "id": "8f150fe9",
   "metadata": {
    "toc": true
   },
   "source": [
    "<h1>Содержание<span class=\"tocSkip\"></span></h1>\n",
    "<div class=\"toc\"><ul class=\"toc-item\"><li><span><a href=\"#Загружаем-данные-и-готовим-их-к-анализу\" data-toc-modified-id=\"Загружаем-данные-и-готовим-их-к-анализу-1\"><span class=\"toc-item-num\">1&nbsp;&nbsp;</span>Загружаем данные и готовим их к анализу</a></span></li><li><span><a href=\"#Исследуем-соотношение-видов-объектов-общественного-питания-по-количеству.\" data-toc-modified-id=\"Исследуем-соотношение-видов-объектов-общественного-питания-по-количеству.-2\"><span class=\"toc-item-num\">2&nbsp;&nbsp;</span>Исследуем соотношение видов объектов общественного питания по количеству.</a></span></li><li><span><a href=\"#Исследуем-соотношение-сетевых-и-несетевых-заведений-по-количеству\" data-toc-modified-id=\"Исследуем-соотношение-сетевых-и-несетевых-заведений-по-количеству-3\"><span class=\"toc-item-num\">3&nbsp;&nbsp;</span>Исследуем соотношение сетевых и несетевых заведений по количеству</a></span></li><li><span><a href=\"#Посмотрим-для-какого-вида-объекта-общественного-питания-характерно-сетевое-распространение\" data-toc-modified-id=\"Посмотрим-для-какого-вида-объекта-общественного-питания-характерно-сетевое-распространение-4\"><span class=\"toc-item-num\">4&nbsp;&nbsp;</span>Посмотрим для какого вида объекта общественного питания характерно сетевое распространение</a></span></li><li><span><a href=\"#Проанализируем-характерное-поведение-сетевых-заведений,-относительно-колличества-посадочных-мест\" data-toc-modified-id=\"Проанализируем-характерное-поведение-сетевых-заведений,-относительно-колличества-посадочных-мест-5\"><span class=\"toc-item-num\">5&nbsp;&nbsp;</span>Проанализируем характерное поведение сетевых заведений, относительно колличества посадочных мест</a></span></li><li><span><a href=\"#Проанализируем-среднее-количество-посадочных-мест-для-каждого-вида-обьекта\" data-toc-modified-id=\"Проанализируем-среднее-количество-посадочных-мест-для-каждого-вида-обьекта-6\"><span class=\"toc-item-num\">6&nbsp;&nbsp;</span>Проанализируем среднее количество посадочных мест для каждого вида обьекта</a></span></li><li><span><a href=\"#Выделим-в-отдельный-столбец-информацию-об-улице-из-столбца-address\" data-toc-modified-id=\"Выделим-в-отдельный-столбец-информацию-об-улице-из-столбца-address-7\"><span class=\"toc-item-num\">7&nbsp;&nbsp;</span>Выделим в отдельный столбец информацию об улице из столбца <code>address</code></a></span></li><li><span><a href=\"#Найдем-топ-10-улиц-по-количеству-объектов-общественного-питания\" data-toc-modified-id=\"Найдем-топ-10-улиц-по-количеству-объектов-общественного-питания-8\"><span class=\"toc-item-num\">8&nbsp;&nbsp;</span>Найдем топ-10 улиц по количеству объектов общественного питания</a></span></li><li><span><a href=\"#Найдём-число-улиц-с-одним-объектом-общественного-питания\" data-toc-modified-id=\"Найдём-число-улиц-с-одним-объектом-общественного-питания-9\"><span class=\"toc-item-num\">9&nbsp;&nbsp;</span>Найдём число улиц с одним объектом общественного питания</a></span></li><li><span><a href=\"#Посмотрим-на-распределение-количества-посадочных-мест-для-улиц-с-большим-количеством-объектов-общественного-питания\" data-toc-modified-id=\"Посмотрим-на-распределение-количества-посадочных-мест-для-улиц-с-большим-количеством-объектов-общественного-питания-10\"><span class=\"toc-item-num\">10&nbsp;&nbsp;</span>Посмотрим на распределение количества посадочных мест для улиц с большим количеством объектов общественного питания</a></span></li><li><span><a href=\"#Общий-вывод-и-рекомендации\" data-toc-modified-id=\"Общий-вывод-и-рекомендации-11\"><span class=\"toc-item-num\">11&nbsp;&nbsp;</span>Общий вывод и рекомендации</a></span></li></ul></div>"
   ]
  },
  {
   "cell_type": "markdown",
   "id": "52baf58f",
   "metadata": {},
   "source": [
    "## Загружаем данные и готовим их к анализу"
   ]
  },
  {
   "cell_type": "code",
   "execution_count": 5,
   "id": "795d398e",
   "metadata": {},
   "outputs": [],
   "source": [
    "import plotly.io as pio\n",
    "pio.renderers.default='notebook'"
   ]
  },
  {
   "cell_type": "code",
   "execution_count": 6,
   "id": "baa2a699",
   "metadata": {},
   "outputs": [],
   "source": [
    "# импорт необходимых библиотек\n",
    "import pandas as pd\n",
    "import numpy as np\n",
    "import seaborn as sns\n",
    "import plotly.express as px\n",
    "from plotly import graph_objects as go\n",
    "import matplotlib.pyplot as plt"
   ]
  },
  {
   "cell_type": "code",
   "execution_count": 7,
   "id": "06579d67",
   "metadata": {},
   "outputs": [],
   "source": [
    "# функция для первичного знакомства с данными\n",
    "def analysis(df):\n",
    "  df.columns = [x.lower().replace(' ', '_') for x in df.columns]\n",
    "  print('describe')\n",
    "  display(df.describe())\n",
    "  print('info')\n",
    "  display(df.info())\n",
    "  display(df.head(10))"
   ]
  },
  {
   "cell_type": "markdown",
   "id": "b3b0396f",
   "metadata": {},
   "source": [
    "Прочитаем файл и сохраним в переменной:"
   ]
  },
  {
   "cell_type": "code",
   "execution_count": 8,
   "id": "d42f1280",
   "metadata": {},
   "outputs": [
    {
     "ename": "FileNotFoundError",
     "evalue": "[Errno 2] No such file or directory: '/datasets/rest_data.csv'",
     "output_type": "error",
     "traceback": [
      "\u001b[1;31m---------------------------------------------------------------------------\u001b[0m",
      "\u001b[1;31mFileNotFoundError\u001b[0m                         Traceback (most recent call last)",
      "\u001b[1;32m~\\AppData\\Local\\Temp/ipykernel_10396/1589522690.py\u001b[0m in \u001b[0;36m<module>\u001b[1;34m\u001b[0m\n\u001b[0;32m      1\u001b[0m \u001b[1;32mtry\u001b[0m\u001b[1;33m:\u001b[0m\u001b[1;33m\u001b[0m\u001b[1;33m\u001b[0m\u001b[0m\n\u001b[1;32m----> 2\u001b[1;33m     \u001b[0mdf\u001b[0m \u001b[1;33m=\u001b[0m \u001b[0mpd\u001b[0m\u001b[1;33m.\u001b[0m\u001b[0mread_csv\u001b[0m\u001b[1;33m(\u001b[0m\u001b[1;34m'rest_data.csv'\u001b[0m\u001b[1;33m)\u001b[0m\u001b[1;33m\u001b[0m\u001b[1;33m\u001b[0m\u001b[0m\n\u001b[0m\u001b[0;32m      3\u001b[0m \u001b[1;32mexcept\u001b[0m \u001b[0mFileNotFoundError\u001b[0m\u001b[1;33m:\u001b[0m\u001b[1;33m\u001b[0m\u001b[1;33m\u001b[0m\u001b[0m\n",
      "\u001b[1;32mC:\\ProgramData\\Anaconda3\\lib\\site-packages\\pandas\\util\\_decorators.py\u001b[0m in \u001b[0;36mwrapper\u001b[1;34m(*args, **kwargs)\u001b[0m\n\u001b[0;32m    310\u001b[0m                 )\n\u001b[1;32m--> 311\u001b[1;33m             \u001b[1;32mreturn\u001b[0m \u001b[0mfunc\u001b[0m\u001b[1;33m(\u001b[0m\u001b[1;33m*\u001b[0m\u001b[0margs\u001b[0m\u001b[1;33m,\u001b[0m \u001b[1;33m**\u001b[0m\u001b[0mkwargs\u001b[0m\u001b[1;33m)\u001b[0m\u001b[1;33m\u001b[0m\u001b[1;33m\u001b[0m\u001b[0m\n\u001b[0m\u001b[0;32m    312\u001b[0m \u001b[1;33m\u001b[0m\u001b[0m\n",
      "\u001b[1;32mC:\\ProgramData\\Anaconda3\\lib\\site-packages\\pandas\\io\\parsers\\readers.py\u001b[0m in \u001b[0;36mread_csv\u001b[1;34m(filepath_or_buffer, sep, delimiter, header, names, index_col, usecols, squeeze, prefix, mangle_dupe_cols, dtype, engine, converters, true_values, false_values, skipinitialspace, skiprows, skipfooter, nrows, na_values, keep_default_na, na_filter, verbose, skip_blank_lines, parse_dates, infer_datetime_format, keep_date_col, date_parser, dayfirst, cache_dates, iterator, chunksize, compression, thousands, decimal, lineterminator, quotechar, quoting, doublequote, escapechar, comment, encoding, encoding_errors, dialect, error_bad_lines, warn_bad_lines, on_bad_lines, delim_whitespace, low_memory, memory_map, float_precision, storage_options)\u001b[0m\n\u001b[0;32m    585\u001b[0m \u001b[1;33m\u001b[0m\u001b[0m\n\u001b[1;32m--> 586\u001b[1;33m     \u001b[1;32mreturn\u001b[0m \u001b[0m_read\u001b[0m\u001b[1;33m(\u001b[0m\u001b[0mfilepath_or_buffer\u001b[0m\u001b[1;33m,\u001b[0m \u001b[0mkwds\u001b[0m\u001b[1;33m)\u001b[0m\u001b[1;33m\u001b[0m\u001b[1;33m\u001b[0m\u001b[0m\n\u001b[0m\u001b[0;32m    587\u001b[0m \u001b[1;33m\u001b[0m\u001b[0m\n",
      "\u001b[1;32mC:\\ProgramData\\Anaconda3\\lib\\site-packages\\pandas\\io\\parsers\\readers.py\u001b[0m in \u001b[0;36m_read\u001b[1;34m(filepath_or_buffer, kwds)\u001b[0m\n\u001b[0;32m    481\u001b[0m     \u001b[1;31m# Create the parser.\u001b[0m\u001b[1;33m\u001b[0m\u001b[1;33m\u001b[0m\u001b[0m\n\u001b[1;32m--> 482\u001b[1;33m     \u001b[0mparser\u001b[0m \u001b[1;33m=\u001b[0m \u001b[0mTextFileReader\u001b[0m\u001b[1;33m(\u001b[0m\u001b[0mfilepath_or_buffer\u001b[0m\u001b[1;33m,\u001b[0m \u001b[1;33m**\u001b[0m\u001b[0mkwds\u001b[0m\u001b[1;33m)\u001b[0m\u001b[1;33m\u001b[0m\u001b[1;33m\u001b[0m\u001b[0m\n\u001b[0m\u001b[0;32m    483\u001b[0m \u001b[1;33m\u001b[0m\u001b[0m\n",
      "\u001b[1;32mC:\\ProgramData\\Anaconda3\\lib\\site-packages\\pandas\\io\\parsers\\readers.py\u001b[0m in \u001b[0;36m__init__\u001b[1;34m(self, f, engine, **kwds)\u001b[0m\n\u001b[0;32m    810\u001b[0m \u001b[1;33m\u001b[0m\u001b[0m\n\u001b[1;32m--> 811\u001b[1;33m         \u001b[0mself\u001b[0m\u001b[1;33m.\u001b[0m\u001b[0m_engine\u001b[0m \u001b[1;33m=\u001b[0m \u001b[0mself\u001b[0m\u001b[1;33m.\u001b[0m\u001b[0m_make_engine\u001b[0m\u001b[1;33m(\u001b[0m\u001b[0mself\u001b[0m\u001b[1;33m.\u001b[0m\u001b[0mengine\u001b[0m\u001b[1;33m)\u001b[0m\u001b[1;33m\u001b[0m\u001b[1;33m\u001b[0m\u001b[0m\n\u001b[0m\u001b[0;32m    812\u001b[0m \u001b[1;33m\u001b[0m\u001b[0m\n",
      "\u001b[1;32mC:\\ProgramData\\Anaconda3\\lib\\site-packages\\pandas\\io\\parsers\\readers.py\u001b[0m in \u001b[0;36m_make_engine\u001b[1;34m(self, engine)\u001b[0m\n\u001b[0;32m   1039\u001b[0m         \u001b[1;31m# error: Too many arguments for \"ParserBase\"\u001b[0m\u001b[1;33m\u001b[0m\u001b[1;33m\u001b[0m\u001b[0m\n\u001b[1;32m-> 1040\u001b[1;33m         \u001b[1;32mreturn\u001b[0m \u001b[0mmapping\u001b[0m\u001b[1;33m[\u001b[0m\u001b[0mengine\u001b[0m\u001b[1;33m]\u001b[0m\u001b[1;33m(\u001b[0m\u001b[0mself\u001b[0m\u001b[1;33m.\u001b[0m\u001b[0mf\u001b[0m\u001b[1;33m,\u001b[0m \u001b[1;33m**\u001b[0m\u001b[0mself\u001b[0m\u001b[1;33m.\u001b[0m\u001b[0moptions\u001b[0m\u001b[1;33m)\u001b[0m  \u001b[1;31m# type: ignore[call-arg]\u001b[0m\u001b[1;33m\u001b[0m\u001b[1;33m\u001b[0m\u001b[0m\n\u001b[0m\u001b[0;32m   1041\u001b[0m \u001b[1;33m\u001b[0m\u001b[0m\n",
      "\u001b[1;32mC:\\ProgramData\\Anaconda3\\lib\\site-packages\\pandas\\io\\parsers\\c_parser_wrapper.py\u001b[0m in \u001b[0;36m__init__\u001b[1;34m(self, src, **kwds)\u001b[0m\n\u001b[0;32m     50\u001b[0m         \u001b[1;31m# open handles\u001b[0m\u001b[1;33m\u001b[0m\u001b[1;33m\u001b[0m\u001b[0m\n\u001b[1;32m---> 51\u001b[1;33m         \u001b[0mself\u001b[0m\u001b[1;33m.\u001b[0m\u001b[0m_open_handles\u001b[0m\u001b[1;33m(\u001b[0m\u001b[0msrc\u001b[0m\u001b[1;33m,\u001b[0m \u001b[0mkwds\u001b[0m\u001b[1;33m)\u001b[0m\u001b[1;33m\u001b[0m\u001b[1;33m\u001b[0m\u001b[0m\n\u001b[0m\u001b[0;32m     52\u001b[0m         \u001b[1;32massert\u001b[0m \u001b[0mself\u001b[0m\u001b[1;33m.\u001b[0m\u001b[0mhandles\u001b[0m \u001b[1;32mis\u001b[0m \u001b[1;32mnot\u001b[0m \u001b[1;32mNone\u001b[0m\u001b[1;33m\u001b[0m\u001b[1;33m\u001b[0m\u001b[0m\n",
      "\u001b[1;32mC:\\ProgramData\\Anaconda3\\lib\\site-packages\\pandas\\io\\parsers\\base_parser.py\u001b[0m in \u001b[0;36m_open_handles\u001b[1;34m(self, src, kwds)\u001b[0m\n\u001b[0;32m    221\u001b[0m         \"\"\"\n\u001b[1;32m--> 222\u001b[1;33m         self.handles = get_handle(\n\u001b[0m\u001b[0;32m    223\u001b[0m             \u001b[0msrc\u001b[0m\u001b[1;33m,\u001b[0m\u001b[1;33m\u001b[0m\u001b[1;33m\u001b[0m\u001b[0m\n",
      "\u001b[1;32mC:\\ProgramData\\Anaconda3\\lib\\site-packages\\pandas\\io\\common.py\u001b[0m in \u001b[0;36mget_handle\u001b[1;34m(path_or_buf, mode, encoding, compression, memory_map, is_text, errors, storage_options)\u001b[0m\n\u001b[0;32m    701\u001b[0m             \u001b[1;31m# Encoding\u001b[0m\u001b[1;33m\u001b[0m\u001b[1;33m\u001b[0m\u001b[0m\n\u001b[1;32m--> 702\u001b[1;33m             handle = open(\n\u001b[0m\u001b[0;32m    703\u001b[0m                 \u001b[0mhandle\u001b[0m\u001b[1;33m,\u001b[0m\u001b[1;33m\u001b[0m\u001b[1;33m\u001b[0m\u001b[0m\n",
      "\u001b[1;31mFileNotFoundError\u001b[0m: [Errno 2] No such file or directory: 'rest_data.csv'",
      "\nDuring handling of the above exception, another exception occurred:\n",
      "\u001b[1;31mFileNotFoundError\u001b[0m                         Traceback (most recent call last)",
      "\u001b[1;32m~\\AppData\\Local\\Temp/ipykernel_10396/1589522690.py\u001b[0m in \u001b[0;36m<module>\u001b[1;34m\u001b[0m\n\u001b[0;32m      2\u001b[0m     \u001b[0mdf\u001b[0m \u001b[1;33m=\u001b[0m \u001b[0mpd\u001b[0m\u001b[1;33m.\u001b[0m\u001b[0mread_csv\u001b[0m\u001b[1;33m(\u001b[0m\u001b[1;34m'rest_data.csv'\u001b[0m\u001b[1;33m)\u001b[0m\u001b[1;33m\u001b[0m\u001b[1;33m\u001b[0m\u001b[0m\n\u001b[0;32m      3\u001b[0m \u001b[1;32mexcept\u001b[0m \u001b[0mFileNotFoundError\u001b[0m\u001b[1;33m:\u001b[0m\u001b[1;33m\u001b[0m\u001b[1;33m\u001b[0m\u001b[0m\n\u001b[1;32m----> 4\u001b[1;33m     \u001b[0mdf\u001b[0m \u001b[1;33m=\u001b[0m \u001b[0mpd\u001b[0m\u001b[1;33m.\u001b[0m\u001b[0mread_csv\u001b[0m\u001b[1;33m(\u001b[0m\u001b[1;34m'/datasets/rest_data.csv'\u001b[0m\u001b[1;33m)\u001b[0m\u001b[1;33m\u001b[0m\u001b[1;33m\u001b[0m\u001b[0m\n\u001b[0m",
      "\u001b[1;32mC:\\ProgramData\\Anaconda3\\lib\\site-packages\\pandas\\util\\_decorators.py\u001b[0m in \u001b[0;36mwrapper\u001b[1;34m(*args, **kwargs)\u001b[0m\n\u001b[0;32m    309\u001b[0m                     \u001b[0mstacklevel\u001b[0m\u001b[1;33m=\u001b[0m\u001b[0mstacklevel\u001b[0m\u001b[1;33m,\u001b[0m\u001b[1;33m\u001b[0m\u001b[1;33m\u001b[0m\u001b[0m\n\u001b[0;32m    310\u001b[0m                 )\n\u001b[1;32m--> 311\u001b[1;33m             \u001b[1;32mreturn\u001b[0m \u001b[0mfunc\u001b[0m\u001b[1;33m(\u001b[0m\u001b[1;33m*\u001b[0m\u001b[0margs\u001b[0m\u001b[1;33m,\u001b[0m \u001b[1;33m**\u001b[0m\u001b[0mkwargs\u001b[0m\u001b[1;33m)\u001b[0m\u001b[1;33m\u001b[0m\u001b[1;33m\u001b[0m\u001b[0m\n\u001b[0m\u001b[0;32m    312\u001b[0m \u001b[1;33m\u001b[0m\u001b[0m\n\u001b[0;32m    313\u001b[0m         \u001b[1;32mreturn\u001b[0m \u001b[0mwrapper\u001b[0m\u001b[1;33m\u001b[0m\u001b[1;33m\u001b[0m\u001b[0m\n",
      "\u001b[1;32mC:\\ProgramData\\Anaconda3\\lib\\site-packages\\pandas\\io\\parsers\\readers.py\u001b[0m in \u001b[0;36mread_csv\u001b[1;34m(filepath_or_buffer, sep, delimiter, header, names, index_col, usecols, squeeze, prefix, mangle_dupe_cols, dtype, engine, converters, true_values, false_values, skipinitialspace, skiprows, skipfooter, nrows, na_values, keep_default_na, na_filter, verbose, skip_blank_lines, parse_dates, infer_datetime_format, keep_date_col, date_parser, dayfirst, cache_dates, iterator, chunksize, compression, thousands, decimal, lineterminator, quotechar, quoting, doublequote, escapechar, comment, encoding, encoding_errors, dialect, error_bad_lines, warn_bad_lines, on_bad_lines, delim_whitespace, low_memory, memory_map, float_precision, storage_options)\u001b[0m\n\u001b[0;32m    584\u001b[0m     \u001b[0mkwds\u001b[0m\u001b[1;33m.\u001b[0m\u001b[0mupdate\u001b[0m\u001b[1;33m(\u001b[0m\u001b[0mkwds_defaults\u001b[0m\u001b[1;33m)\u001b[0m\u001b[1;33m\u001b[0m\u001b[1;33m\u001b[0m\u001b[0m\n\u001b[0;32m    585\u001b[0m \u001b[1;33m\u001b[0m\u001b[0m\n\u001b[1;32m--> 586\u001b[1;33m     \u001b[1;32mreturn\u001b[0m \u001b[0m_read\u001b[0m\u001b[1;33m(\u001b[0m\u001b[0mfilepath_or_buffer\u001b[0m\u001b[1;33m,\u001b[0m \u001b[0mkwds\u001b[0m\u001b[1;33m)\u001b[0m\u001b[1;33m\u001b[0m\u001b[1;33m\u001b[0m\u001b[0m\n\u001b[0m\u001b[0;32m    587\u001b[0m \u001b[1;33m\u001b[0m\u001b[0m\n\u001b[0;32m    588\u001b[0m \u001b[1;33m\u001b[0m\u001b[0m\n",
      "\u001b[1;32mC:\\ProgramData\\Anaconda3\\lib\\site-packages\\pandas\\io\\parsers\\readers.py\u001b[0m in \u001b[0;36m_read\u001b[1;34m(filepath_or_buffer, kwds)\u001b[0m\n\u001b[0;32m    480\u001b[0m \u001b[1;33m\u001b[0m\u001b[0m\n\u001b[0;32m    481\u001b[0m     \u001b[1;31m# Create the parser.\u001b[0m\u001b[1;33m\u001b[0m\u001b[1;33m\u001b[0m\u001b[0m\n\u001b[1;32m--> 482\u001b[1;33m     \u001b[0mparser\u001b[0m \u001b[1;33m=\u001b[0m \u001b[0mTextFileReader\u001b[0m\u001b[1;33m(\u001b[0m\u001b[0mfilepath_or_buffer\u001b[0m\u001b[1;33m,\u001b[0m \u001b[1;33m**\u001b[0m\u001b[0mkwds\u001b[0m\u001b[1;33m)\u001b[0m\u001b[1;33m\u001b[0m\u001b[1;33m\u001b[0m\u001b[0m\n\u001b[0m\u001b[0;32m    483\u001b[0m \u001b[1;33m\u001b[0m\u001b[0m\n\u001b[0;32m    484\u001b[0m     \u001b[1;32mif\u001b[0m \u001b[0mchunksize\u001b[0m \u001b[1;32mor\u001b[0m \u001b[0miterator\u001b[0m\u001b[1;33m:\u001b[0m\u001b[1;33m\u001b[0m\u001b[1;33m\u001b[0m\u001b[0m\n",
      "\u001b[1;32mC:\\ProgramData\\Anaconda3\\lib\\site-packages\\pandas\\io\\parsers\\readers.py\u001b[0m in \u001b[0;36m__init__\u001b[1;34m(self, f, engine, **kwds)\u001b[0m\n\u001b[0;32m    809\u001b[0m             \u001b[0mself\u001b[0m\u001b[1;33m.\u001b[0m\u001b[0moptions\u001b[0m\u001b[1;33m[\u001b[0m\u001b[1;34m\"has_index_names\"\u001b[0m\u001b[1;33m]\u001b[0m \u001b[1;33m=\u001b[0m \u001b[0mkwds\u001b[0m\u001b[1;33m[\u001b[0m\u001b[1;34m\"has_index_names\"\u001b[0m\u001b[1;33m]\u001b[0m\u001b[1;33m\u001b[0m\u001b[1;33m\u001b[0m\u001b[0m\n\u001b[0;32m    810\u001b[0m \u001b[1;33m\u001b[0m\u001b[0m\n\u001b[1;32m--> 811\u001b[1;33m         \u001b[0mself\u001b[0m\u001b[1;33m.\u001b[0m\u001b[0m_engine\u001b[0m \u001b[1;33m=\u001b[0m \u001b[0mself\u001b[0m\u001b[1;33m.\u001b[0m\u001b[0m_make_engine\u001b[0m\u001b[1;33m(\u001b[0m\u001b[0mself\u001b[0m\u001b[1;33m.\u001b[0m\u001b[0mengine\u001b[0m\u001b[1;33m)\u001b[0m\u001b[1;33m\u001b[0m\u001b[1;33m\u001b[0m\u001b[0m\n\u001b[0m\u001b[0;32m    812\u001b[0m \u001b[1;33m\u001b[0m\u001b[0m\n\u001b[0;32m    813\u001b[0m     \u001b[1;32mdef\u001b[0m \u001b[0mclose\u001b[0m\u001b[1;33m(\u001b[0m\u001b[0mself\u001b[0m\u001b[1;33m)\u001b[0m\u001b[1;33m:\u001b[0m\u001b[1;33m\u001b[0m\u001b[1;33m\u001b[0m\u001b[0m\n",
      "\u001b[1;32mC:\\ProgramData\\Anaconda3\\lib\\site-packages\\pandas\\io\\parsers\\readers.py\u001b[0m in \u001b[0;36m_make_engine\u001b[1;34m(self, engine)\u001b[0m\n\u001b[0;32m   1038\u001b[0m             )\n\u001b[0;32m   1039\u001b[0m         \u001b[1;31m# error: Too many arguments for \"ParserBase\"\u001b[0m\u001b[1;33m\u001b[0m\u001b[1;33m\u001b[0m\u001b[0m\n\u001b[1;32m-> 1040\u001b[1;33m         \u001b[1;32mreturn\u001b[0m \u001b[0mmapping\u001b[0m\u001b[1;33m[\u001b[0m\u001b[0mengine\u001b[0m\u001b[1;33m]\u001b[0m\u001b[1;33m(\u001b[0m\u001b[0mself\u001b[0m\u001b[1;33m.\u001b[0m\u001b[0mf\u001b[0m\u001b[1;33m,\u001b[0m \u001b[1;33m**\u001b[0m\u001b[0mself\u001b[0m\u001b[1;33m.\u001b[0m\u001b[0moptions\u001b[0m\u001b[1;33m)\u001b[0m  \u001b[1;31m# type: ignore[call-arg]\u001b[0m\u001b[1;33m\u001b[0m\u001b[1;33m\u001b[0m\u001b[0m\n\u001b[0m\u001b[0;32m   1041\u001b[0m \u001b[1;33m\u001b[0m\u001b[0m\n\u001b[0;32m   1042\u001b[0m     \u001b[1;32mdef\u001b[0m \u001b[0m_failover_to_python\u001b[0m\u001b[1;33m(\u001b[0m\u001b[0mself\u001b[0m\u001b[1;33m)\u001b[0m\u001b[1;33m:\u001b[0m\u001b[1;33m\u001b[0m\u001b[1;33m\u001b[0m\u001b[0m\n",
      "\u001b[1;32mC:\\ProgramData\\Anaconda3\\lib\\site-packages\\pandas\\io\\parsers\\c_parser_wrapper.py\u001b[0m in \u001b[0;36m__init__\u001b[1;34m(self, src, **kwds)\u001b[0m\n\u001b[0;32m     49\u001b[0m \u001b[1;33m\u001b[0m\u001b[0m\n\u001b[0;32m     50\u001b[0m         \u001b[1;31m# open handles\u001b[0m\u001b[1;33m\u001b[0m\u001b[1;33m\u001b[0m\u001b[0m\n\u001b[1;32m---> 51\u001b[1;33m         \u001b[0mself\u001b[0m\u001b[1;33m.\u001b[0m\u001b[0m_open_handles\u001b[0m\u001b[1;33m(\u001b[0m\u001b[0msrc\u001b[0m\u001b[1;33m,\u001b[0m \u001b[0mkwds\u001b[0m\u001b[1;33m)\u001b[0m\u001b[1;33m\u001b[0m\u001b[1;33m\u001b[0m\u001b[0m\n\u001b[0m\u001b[0;32m     52\u001b[0m         \u001b[1;32massert\u001b[0m \u001b[0mself\u001b[0m\u001b[1;33m.\u001b[0m\u001b[0mhandles\u001b[0m \u001b[1;32mis\u001b[0m \u001b[1;32mnot\u001b[0m \u001b[1;32mNone\u001b[0m\u001b[1;33m\u001b[0m\u001b[1;33m\u001b[0m\u001b[0m\n\u001b[0;32m     53\u001b[0m \u001b[1;33m\u001b[0m\u001b[0m\n",
      "\u001b[1;32mC:\\ProgramData\\Anaconda3\\lib\\site-packages\\pandas\\io\\parsers\\base_parser.py\u001b[0m in \u001b[0;36m_open_handles\u001b[1;34m(self, src, kwds)\u001b[0m\n\u001b[0;32m    220\u001b[0m         \u001b[0mLet\u001b[0m \u001b[0mthe\u001b[0m \u001b[0mreaders\u001b[0m \u001b[0mopen\u001b[0m \u001b[0mIOHandles\u001b[0m \u001b[0mafter\u001b[0m \u001b[0mthey\u001b[0m \u001b[0mare\u001b[0m \u001b[0mdone\u001b[0m \u001b[1;32mwith\u001b[0m \u001b[0mtheir\u001b[0m \u001b[0mpotential\u001b[0m \u001b[0mraises\u001b[0m\u001b[1;33m.\u001b[0m\u001b[1;33m\u001b[0m\u001b[1;33m\u001b[0m\u001b[0m\n\u001b[0;32m    221\u001b[0m         \"\"\"\n\u001b[1;32m--> 222\u001b[1;33m         self.handles = get_handle(\n\u001b[0m\u001b[0;32m    223\u001b[0m             \u001b[0msrc\u001b[0m\u001b[1;33m,\u001b[0m\u001b[1;33m\u001b[0m\u001b[1;33m\u001b[0m\u001b[0m\n\u001b[0;32m    224\u001b[0m             \u001b[1;34m\"r\"\u001b[0m\u001b[1;33m,\u001b[0m\u001b[1;33m\u001b[0m\u001b[1;33m\u001b[0m\u001b[0m\n",
      "\u001b[1;32mC:\\ProgramData\\Anaconda3\\lib\\site-packages\\pandas\\io\\common.py\u001b[0m in \u001b[0;36mget_handle\u001b[1;34m(path_or_buf, mode, encoding, compression, memory_map, is_text, errors, storage_options)\u001b[0m\n\u001b[0;32m    700\u001b[0m         \u001b[1;32mif\u001b[0m \u001b[0mioargs\u001b[0m\u001b[1;33m.\u001b[0m\u001b[0mencoding\u001b[0m \u001b[1;32mand\u001b[0m \u001b[1;34m\"b\"\u001b[0m \u001b[1;32mnot\u001b[0m \u001b[1;32min\u001b[0m \u001b[0mioargs\u001b[0m\u001b[1;33m.\u001b[0m\u001b[0mmode\u001b[0m\u001b[1;33m:\u001b[0m\u001b[1;33m\u001b[0m\u001b[1;33m\u001b[0m\u001b[0m\n\u001b[0;32m    701\u001b[0m             \u001b[1;31m# Encoding\u001b[0m\u001b[1;33m\u001b[0m\u001b[1;33m\u001b[0m\u001b[0m\n\u001b[1;32m--> 702\u001b[1;33m             handle = open(\n\u001b[0m\u001b[0;32m    703\u001b[0m                 \u001b[0mhandle\u001b[0m\u001b[1;33m,\u001b[0m\u001b[1;33m\u001b[0m\u001b[1;33m\u001b[0m\u001b[0m\n\u001b[0;32m    704\u001b[0m                 \u001b[0mioargs\u001b[0m\u001b[1;33m.\u001b[0m\u001b[0mmode\u001b[0m\u001b[1;33m,\u001b[0m\u001b[1;33m\u001b[0m\u001b[1;33m\u001b[0m\u001b[0m\n",
      "\u001b[1;31mFileNotFoundError\u001b[0m: [Errno 2] No such file or directory: '/datasets/rest_data.csv'"
     ]
    }
   ],
   "source": [
    "try:\n",
    "    df = pd.read_csv('rest_data.csv')\n",
    "except FileNotFoundError:\n",
    "    df = pd.read_csv('/datasets/rest_data.csv')"
   ]
  },
  {
   "cell_type": "code",
   "execution_count": null,
   "id": "2b76186f",
   "metadata": {},
   "outputs": [],
   "source": [
    "analysis(df)"
   ]
  },
  {
   "cell_type": "markdown",
   "id": "8f50d5fc",
   "metadata": {},
   "source": [
    "Описание данных:\n",
    "* `id` — идентификатор объекта;\n",
    "* `object_name` — название объекта общественного питания;\n",
    "* `chain` — сетевой ресторан;\n",
    "* `object_type` — тип объекта общественного питания;\n",
    "* `address` — адрес;\n",
    "* `number` — количество посадочных мест."
   ]
  },
  {
   "cell_type": "markdown",
   "id": "10cbf647",
   "metadata": {},
   "source": [
    "Проверим данные на дубликаты без учёта колонки `id`"
   ]
  },
  {
   "cell_type": "code",
   "execution_count": null,
   "id": "4a7d7a95",
   "metadata": {},
   "outputs": [],
   "source": [
    "df.duplicated(subset=['object_name','chain','object_type','address','number']).sum()"
   ]
  },
  {
   "cell_type": "markdown",
   "id": "fe004de3",
   "metadata": {},
   "source": [
    "Удалим дубликаты и перезапишем индексы"
   ]
  },
  {
   "cell_type": "code",
   "execution_count": null,
   "id": "5ef0825d",
   "metadata": {},
   "outputs": [],
   "source": [
    "df = df.drop_duplicates(subset=['object_name','chain','object_type','address','number']).reset_index(drop=True)"
   ]
  },
  {
   "cell_type": "markdown",
   "id": "ee9159cd",
   "metadata": {},
   "source": [
    "**Вывод:**\n",
    "\n",
    "Дубликаты удалили, пропуски в данных отсутствуют, названия колонок соответствуют общепринятому стилю, типы данных соответствуют ожиданиям."
   ]
  },
  {
   "cell_type": "markdown",
   "id": "f769817e",
   "metadata": {},
   "source": [
    "## Исследуем соотношение видов объектов общественного питания по количеству."
   ]
  },
  {
   "cell_type": "markdown",
   "id": "e6db11cf",
   "metadata": {},
   "source": [
    "Для анализа видов общественного питания по колличеству сгруппируем данные "
   ]
  },
  {
   "cell_type": "code",
   "execution_count": null,
   "id": "4dea4089",
   "metadata": {},
   "outputs": [],
   "source": [
    "object_type = df.groupby('object_type', as_index=False)['id'].count().sort_values('id', ascending=False)\n",
    "object_type['percent']  = (object_type['id']/object_type['id'].sum()*100).round(1).astype('str') + '%'\n",
    "#object_type['object_type'] = object_type['object_type'] + ' ' + object_type['percent']\n",
    "object_type"
   ]
  },
  {
   "cell_type": "markdown",
   "id": "ba8d106b",
   "metadata": {},
   "source": [
    "Визуализируем полученные данные"
   ]
  },
  {
   "cell_type": "code",
   "execution_count": null,
   "id": "98598d30",
   "metadata": {},
   "outputs": [],
   "source": [
    "fig = px.bar(object_type, x='id', y='object_type',color='object_type')\n",
    "fig.update_xaxes(tickangle=25)\n",
    "fig.update_layout(\n",
    "    title='Соотношение видов объектов общественного питания по количеству',\n",
    "    xaxis_title=\"Тип объекта\",\n",
    "    yaxis_title=\"Количество заведений\")\n",
    "fig.show()"
   ]
  },
  {
   "cell_type": "markdown",
   "id": "b1df0c04",
   "metadata": {},
   "source": [
    "Самую большую долю рынка занимает категория `кафе`, следом за ней идут категории `столовая` и `ресторан`, при этом `кафе` занимает ощутимую долю рынка 39.7 %. Самый непопулярный вид `магазин (отдел кулинарии)` занимает 1.8 % от всего рынка Москвы."
   ]
  },
  {
   "cell_type": "markdown",
   "id": "f9bc8add",
   "metadata": {},
   "source": [
    "## Исследуем соотношение сетевых и несетевых заведений по количеству"
   ]
  },
  {
   "cell_type": "code",
   "execution_count": null,
   "id": "2e0249a3",
   "metadata": {},
   "outputs": [],
   "source": [
    "# Построение интерактивной круговой диаграммы\n",
    "fig = go.Figure(data=[go.Pie(labels=['Сетевые', 'Несетевые'], \n",
    "                             values=df.groupby('chain').count().reset_index()['id'],\n",
    "                             textinfo='label+percent')])\n",
    "\n",
    "fig.update_layout(\n",
    "    title_text = 'Cоотношение сетевых и несетевых заведений')\n",
    "\n",
    "fig.show()"
   ]
  },
  {
   "cell_type": "markdown",
   "id": "b2a0bc82",
   "metadata": {},
   "source": [
    "Несетевые заведения занимают 80.6 % рынка Москвы, предположим, что в Москве много предпринимателей, которые открывают точки общественного питания в единичном экземпяре и в целом такое соотношение логично."
   ]
  },
  {
   "cell_type": "markdown",
   "id": "d759110f",
   "metadata": {},
   "source": [
    "## Посмотрим для какого вида объекта общественного питания характерно сетевое распространение"
   ]
  },
  {
   "cell_type": "markdown",
   "id": "d473392f",
   "metadata": {},
   "source": [
    "Посчитаем долю сетевых и несетевых заведений для каждого вида объекта общественного питания"
   ]
  },
  {
   "cell_type": "code",
   "execution_count": null,
   "id": "9947011e",
   "metadata": {},
   "outputs": [],
   "source": [
    "chain = df.groupby(['object_type', 'chain'])['id'].count().reset_index(level=1)\n",
    " \n",
    "chain['percent'] = chain['id'] / df.groupby(['object_type'])['id'].count()\n",
    "chain = chain.reset_index()\n",
    "chain"
   ]
  },
  {
   "cell_type": "markdown",
   "id": "1f8179df",
   "metadata": {},
   "source": [
    "Напишем функцию для изменения обозначения сетевых и несетевых заведений и применим её с помощью `apply()`"
   ]
  },
  {
   "cell_type": "code",
   "execution_count": null,
   "id": "c1fd3b5e",
   "metadata": {},
   "outputs": [],
   "source": [
    "def change(chain):\n",
    "    if chain == 'да':\n",
    "        return 'Сетевые'\n",
    "    if chain == 'нет':\n",
    "        return 'Несетевые'"
   ]
  },
  {
   "cell_type": "code",
   "execution_count": null,
   "id": "0b24d3fb",
   "metadata": {},
   "outputs": [],
   "source": [
    "chain['chain']=chain['chain'].apply(change)"
   ]
  },
  {
   "cell_type": "markdown",
   "id": "62f9996c",
   "metadata": {},
   "source": [
    "Построим интерактивную столбчатую диаграмму по видам заведений с обображением долей сетевых и несетевых заведений."
   ]
  },
  {
   "cell_type": "code",
   "execution_count": null,
   "id": "d0fb9474",
   "metadata": {},
   "outputs": [],
   "source": [
    "\n",
    "fig = px.bar(chain, x=\"object_type\", y='percent', color = 'chain')\n",
    "\n",
    "\n",
    "\n",
    "fig.update_layout(\n",
    "    title_text = 'Обьекты общественного питания с разделением на сетевые и несетевые',\n",
    "    xaxis_title = 'Вид объекта',\n",
    "    yaxis_title = 'Доля сетевых и несетевых')\n",
    "fig.update_xaxes(categoryorder='max ascending')\n",
    "fig.show()"
   ]
  },
  {
   "cell_type": "markdown",
   "id": "b2da54eb",
   "metadata": {},
   "source": [
    "Чаще всего встреаются сетевые заведения в `предприятиях быстрого обслуживания`, 41 % из этих заведений являются сетевыми. Так же относительно большая доля сетевых заведений в обьектах общественного питания `ресторан`, `магазин(отдел кулинарии)` и `кафе`. Обьекты `столовая` почти всегда являются несетевыми."
   ]
  },
  {
   "cell_type": "markdown",
   "id": "cec2e020",
   "metadata": {},
   "source": [
    "## Проанализируем характерное поведение сетевых заведений, относительно колличества посадочных мест"
   ]
  },
  {
   "cell_type": "markdown",
   "id": "959ecafa",
   "metadata": {},
   "source": [
    "Отфильтруем из данных только сетевые заведения"
   ]
  },
  {
   "cell_type": "code",
   "execution_count": null,
   "id": "3a37deeb",
   "metadata": {},
   "outputs": [],
   "source": [
    "network = df.query('chain == \"да\"')"
   ]
  },
  {
   "cell_type": "markdown",
   "id": "3894093f",
   "metadata": {},
   "source": [
    "Сгруппируем данные по названию сети и посчитаем колличество заведений входящих в эту сеть, а так же медианное число посадочнх мест для данной сети."
   ]
  },
  {
   "cell_type": "code",
   "execution_count": null,
   "id": "ef6c95ea",
   "metadata": {},
   "outputs": [],
   "source": [
    "network = network.groupby('object_name').agg({'id':'count', 'number':'median'}).reset_index().sort_values('id')\n",
    "network.head()"
   ]
  },
  {
   "cell_type": "markdown",
   "id": "1570d872",
   "metadata": {},
   "source": [
    "В некоторых сетях одно заведение, это происходит из-за разных вариаций названия сети, удалим их."
   ]
  },
  {
   "cell_type": "code",
   "execution_count": null,
   "id": "a3980bc4",
   "metadata": {},
   "outputs": [],
   "source": [
    "network = network.query('id > 1')"
   ]
  },
  {
   "cell_type": "markdown",
   "id": "7c5ad302",
   "metadata": {},
   "source": [
    "Построим `jointplot` по колличеству посадочных мест и колличеству заведений в сети"
   ]
  },
  {
   "cell_type": "code",
   "execution_count": null,
   "id": "c623675b",
   "metadata": {},
   "outputs": [],
   "source": [
    "sns.jointplot(x='number', y='id', data=network);"
   ]
  },
  {
   "cell_type": "markdown",
   "id": "4ad73b89",
   "metadata": {},
   "source": [
    "Построим распределение колличества заведений в сети и колличества посадочных мест в заведениях"
   ]
  },
  {
   "cell_type": "code",
   "execution_count": null,
   "id": "ccf24c77",
   "metadata": {},
   "outputs": [],
   "source": [
    "fig, axes = plt.subplots(1,2, figsize=(18,6))\n",
    "\n",
    "sns.boxplot(data=network, y='id', ax=axes[0])\n",
    "sns.boxplot(data=network, y='number', ax=axes[1])\n",
    "\n",
    "\n",
    "axes[0].set_title('Распределение колличества заведений в сети')\n",
    "axes[1].set_title('Распределение колличества посадочных мест в заведениях сети')\n",
    "axes[0].set_ylim(0,15)\n",
    "axes[1].set_ylim(0,200)\n",
    "\n",
    "plt.show()"
   ]
  },
  {
   "cell_type": "markdown",
   "id": "e3a9f527",
   "metadata": {},
   "source": [
    "На графике видно, что более 8 заведений в сети бывает редко, так же редко встречаются заведения с колличеством посадочных мест более 75. "
   ]
  },
  {
   "cell_type": "markdown",
   "id": "f43bf743",
   "metadata": {},
   "source": [
    "Будем считать, что более 8 заведений в сети - `много`, а менее 8 - `мало`. Так же будем счиать, что более 75 посадочных мест - `много`, а менее 75 посадочных мест - `мало`. Разобьем данные по этим критериям на 4 группы :\n",
    "* A - `большое` число посадочных мест и `небольшое` число заведений\n",
    "* B - `небольшое` число посадочных мест и `большое` число заведений\n",
    "* C - `небольшое` число посадочных мест и `небольшое` число заведений\n",
    "* D - `большое` число посадочных мест и `большое` число заведений"
   ]
  },
  {
   "cell_type": "markdown",
   "id": "6021912b",
   "metadata": {},
   "source": [
    "Посчитаем колличество сетей входящих в группу `A`"
   ]
  },
  {
   "cell_type": "code",
   "execution_count": null,
   "id": "019208f5",
   "metadata": {},
   "outputs": [],
   "source": [
    "network.query('number > 75 and id < 8')['object_name'].count()"
   ]
  },
  {
   "cell_type": "markdown",
   "id": "e47c72f1",
   "metadata": {},
   "source": [
    "Посчитаем колличество сетей входящих в группу `B`"
   ]
  },
  {
   "cell_type": "code",
   "execution_count": null,
   "id": "06649383",
   "metadata": {},
   "outputs": [],
   "source": [
    "network.query('number < 75 and id > 8')['object_name'].count()"
   ]
  },
  {
   "cell_type": "markdown",
   "id": "62be0c4e",
   "metadata": {},
   "source": [
    "Посчитаем колличество сетей входящих в группу `C`"
   ]
  },
  {
   "cell_type": "code",
   "execution_count": null,
   "id": "e73f1285",
   "metadata": {},
   "outputs": [],
   "source": [
    "network.query('number < 75 and id < 8')['object_name'].count()"
   ]
  },
  {
   "cell_type": "markdown",
   "id": "3ed81190",
   "metadata": {},
   "source": [
    "Посчитаем колличество сетей входящих в группу `D`"
   ]
  },
  {
   "cell_type": "code",
   "execution_count": null,
   "id": "93342144",
   "metadata": {},
   "outputs": [],
   "source": [
    "network.query('number > 75 and id > 8')['object_name'].count()"
   ]
  },
  {
   "cell_type": "markdown",
   "id": "16212e2d",
   "metadata": {},
   "source": [
    "После группировки больше всего заведений попало в группу `C` - это значит, что для сетей характерно иметь небольшое колличество заведений и небольшое колличество посадочных мест."
   ]
  },
  {
   "cell_type": "markdown",
   "id": "1fba81df",
   "metadata": {},
   "source": [
    "## Проанализируем среднее количество посадочных мест для каждого вида обьекта"
   ]
  },
  {
   "cell_type": "markdown",
   "id": "4a69c80b",
   "metadata": {},
   "source": [
    "Посчитаем среднее кол-во посадочных мест для каждого вида обьекта"
   ]
  },
  {
   "cell_type": "code",
   "execution_count": null,
   "id": "9868ad46",
   "metadata": {},
   "outputs": [],
   "source": [
    "mean_number = df.groupby('object_type').agg({'number':'mean'}).reset_index().sort_values('number', ascending=False)\n",
    "mean_number['number'] = mean_number['number'].round(0)\n",
    "mean_number"
   ]
  },
  {
   "cell_type": "markdown",
   "id": "00f5fceb",
   "metadata": {},
   "source": [
    "Построим диаграмму среднего кол-ва посадочных мест по видам обьектов"
   ]
  },
  {
   "cell_type": "code",
   "execution_count": null,
   "id": "e682837f",
   "metadata": {},
   "outputs": [],
   "source": [
    "fig = px.bar(mean_number, x='object_type', y='number',color='object_type')\n",
    "fig.update_xaxes(tickangle=25)\n",
    "fig.update_layout(\n",
    "    title='Среднее кол-во посадочных мест по видам объектов',\n",
    "    xaxis_title=\"Тип объекта\",\n",
    "    yaxis_title=\"Среднее кол-во посадочных мест\")\n",
    "fig.show()"
   ]
  },
  {
   "cell_type": "markdown",
   "id": "9200b89a",
   "metadata": {},
   "source": [
    "В среднем больше всего посадочных мест в `столовых`, следом за ними идут `рестораны`, `магазины с отделом кулинарии` ожидаемо находятся на последнем месте."
   ]
  },
  {
   "cell_type": "markdown",
   "id": "9cb5b3b6",
   "metadata": {},
   "source": [
    "## Выделим в отдельный столбец информацию об улице из столбца `address`"
   ]
  },
  {
   "cell_type": "markdown",
   "id": "1400ce4b",
   "metadata": {},
   "source": [
    "Напишем функцию для выделения названия улиц в отдельный столбец `street` и применим её ко всему датасету с помощью `apply()`"
   ]
  },
  {
   "cell_type": "code",
   "execution_count": null,
   "id": "8d4e703b",
   "metadata": {},
   "outputs": [],
   "source": [
    "def add_street(address):\n",
    "    street_name = ['улица', 'бульвар', 'шоссе',\n",
    "                   'переулок', 'проезд', 'проспект',\n",
    "                   'набережная', 'линия', 'тупик', \n",
    "                   'киллометр', 'площадь', 'аллея',\n",
    "                   'квартал', 'микрорайон', \n",
    "                   'территория', 'километр']\n",
    "    for street in address.split(', '):\n",
    "        for street_names in street_name:\n",
    "            if street_names in street:\n",
    "                return street\n",
    "\n",
    "df['street'] = df['address'].apply(add_street)"
   ]
  },
  {
   "cell_type": "markdown",
   "id": "8b4a011c",
   "metadata": {},
   "source": [
    "Проверим наличие пропусков в столбце `street`"
   ]
  },
  {
   "cell_type": "code",
   "execution_count": null,
   "id": "62535514",
   "metadata": {},
   "outputs": [],
   "source": [
    "df['street'].isna().sum()"
   ]
  },
  {
   "cell_type": "markdown",
   "id": "23ff6d26",
   "metadata": {},
   "source": [
    "В столбце с названиями улиц остались пропущенные значения, это строки в которых конкретная улица не указана, например в случае с городом Зеленоград, а так же различными посёлками и поселениями, как правило все эти адреса находятся за пределами МКАД. В рамках этого проекта нам нужно исследовать рынок города Москвы, поэтому оставим пропущенные значения."
   ]
  },
  {
   "cell_type": "markdown",
   "id": "4040c103",
   "metadata": {},
   "source": [
    "## Найдем топ-10 улиц по количеству объектов общественного питания"
   ]
  },
  {
   "cell_type": "markdown",
   "id": "cf920dcc",
   "metadata": {},
   "source": [
    "Найдем топ 10 улиц по колличеству заведений"
   ]
  },
  {
   "cell_type": "code",
   "execution_count": null,
   "id": "8701453e",
   "metadata": {
    "scrolled": true
   },
   "outputs": [],
   "source": [
    "top_street = df.groupby('street').count()['id'].reset_index().sort_values('id', ascending=False).head(10).rename(columns={'id':'amount'})\n",
    "top_street"
   ]
  },
  {
   "cell_type": "markdown",
   "id": "0823e5da",
   "metadata": {},
   "source": [
    "Построим график топ 10 улиц по колличеству объектов"
   ]
  },
  {
   "cell_type": "code",
   "execution_count": null,
   "id": "2d9a8294",
   "metadata": {},
   "outputs": [],
   "source": [
    "fig = px.bar(top_street, x='street', y='amount',color='street')\n",
    "fig.update_xaxes(tickangle=25)\n",
    "fig.update_layout(\n",
    "    title='Топ 10 улиц по колличеству объектов',\n",
    "    xaxis_title=\"Улица\",\n",
    "    yaxis_title=\"Кол-во обьектов\")\n",
    "fig.show()"
   ]
  },
  {
   "cell_type": "markdown",
   "id": "8d6142a8",
   "metadata": {},
   "source": [
    "`Проспект Мира` лидирует по колличеству заведений, на нем находятся 204 заведения, `Кировоградская улица` замыкает топ 10 с колличеством заведений 108.  Все улицы кроме Пресненской набережной являются довольно протяженными, это обьясняет тот факт, что на них находится большое колличество заведений. Пресненская набережная проходит вдоль делового центра Москва-Сити. На пресненской набережной находится большое колличество заведений т.к. деловой центр пропускает через себя большое колличество трафика."
   ]
  },
  {
   "cell_type": "markdown",
   "id": "51136a14",
   "metadata": {},
   "source": [
    "Для определений районов, в которых эти улицы расположены найдем в интернете файл, в котором для каждой улицы определён район и с помощью Google Sheets сохраним его в облаке. Далее скопируем ссылку на этот файл, импортируем в \"ноутбук\" и сохраним в переменной mos"
   ]
  },
  {
   "cell_type": "code",
   "execution_count": null,
   "id": "eb75cdb5",
   "metadata": {},
   "outputs": [],
   "source": [
    "from io import BytesIO\n",
    "import requests\n",
    "spreadsheet_id = '1743ZsFUSyU8CxZ2uYU5xGJkJpHpQrlhAM7S4W03VeVw'\n",
    "file_name = 'https://docs.google.com/spreadsheets/d/{}/export?format=csv'.format(spreadsheet_id)\n",
    "r = requests.get(file_name)\n",
    "mos = pd.read_csv(BytesIO(r.content))\n",
    "mos.head()"
   ]
  },
  {
   "cell_type": "markdown",
   "id": "645ab9aa",
   "metadata": {},
   "source": [
    "С помощью `merge()` соединим таблицы `mos` c `top_street`. В итоге получим таблицу, где для каждой улицы будут указаны районы в которых эта улица проходит."
   ]
  },
  {
   "cell_type": "code",
   "execution_count": null,
   "id": "5624dd84",
   "metadata": {},
   "outputs": [],
   "source": [
    "top_street = top_street.merge(mos, left_on='street', right_on='streetname', how='left')\n",
    "top_street = top_street[['street', 'area']]\n",
    "top_street"
   ]
  },
  {
   "cell_type": "markdown",
   "id": "b050bc7e",
   "metadata": {},
   "source": [
    "## Найдём число улиц с одним объектом общественного питания"
   ]
  },
  {
   "cell_type": "markdown",
   "id": "6ecdbbb9",
   "metadata": {},
   "source": [
    "Найдем улицы с одним обьектом и посчитаем их число"
   ]
  },
  {
   "cell_type": "code",
   "execution_count": null,
   "id": "df325af9",
   "metadata": {},
   "outputs": [],
   "source": [
    "one_object = df.groupby('street').count()['id'].reset_index().sort_values('id').rename(columns={'id':'amount'})\n",
    "one_object = one_object[one_object['amount']==1]\n",
    "one_object['street'].count()"
   ]
  },
  {
   "cell_type": "code",
   "execution_count": null,
   "id": "a3468fbd",
   "metadata": {},
   "outputs": [],
   "source": [
    "one_object.head()"
   ]
  },
  {
   "cell_type": "markdown",
   "id": "0ce68e33",
   "metadata": {},
   "source": [
    "У нас получилась таблица с названиями улиц на которых находится только один обьект общественного питания, всего таких улиц 567. \n"
   ]
  },
  {
   "cell_type": "markdown",
   "id": "d772b842",
   "metadata": {},
   "source": [
    "Присоединим таблицу `one_object` к `mos`"
   ]
  },
  {
   "cell_type": "code",
   "execution_count": null,
   "id": "6273720d",
   "metadata": {},
   "outputs": [],
   "source": [
    "one_object = one_object.merge(mos, left_on='street', right_on='streetname', how='left')\n",
    "one_object = one_object[['street', 'area']]\n",
    "one_object.head()"
   ]
  },
  {
   "cell_type": "code",
   "execution_count": null,
   "id": "18341f9b",
   "metadata": {},
   "outputs": [],
   "source": [
    "# посчитаем колличество пропусков в area\n",
    "one_object['area'].isna().sum()"
   ]
  },
  {
   "cell_type": "markdown",
   "id": "fba15580",
   "metadata": {},
   "source": [
    "В результате у нас получился датасет `one_object` с улицами в которых расположен один объект общественного питания и названием района в котором эта улица расположена, в названиях районов получилось 51 пропущенное значение, но это не критично т.к большинство ячеек заполнены"
   ]
  },
  {
   "cell_type": "markdown",
   "id": "9814fbb7",
   "metadata": {},
   "source": [
    "Посмотрим в каких районах больше всего таких улиц"
   ]
  },
  {
   "cell_type": "code",
   "execution_count": null,
   "id": "6e7aec10",
   "metadata": {},
   "outputs": [],
   "source": [
    "one_object.groupby('area').count().reset_index().sort_values('street', ascending=False).head(10)"
   ]
  },
  {
   "cell_type": "markdown",
   "id": "5e81fc8c",
   "metadata": {},
   "source": [
    "Районы, в которых больше всего улиц с одним объектом общественного питания как правило находятся в пределах третьего транспортного кольца т.е. находятся в центре Москвы."
   ]
  },
  {
   "cell_type": "markdown",
   "id": "48366cfa",
   "metadata": {},
   "source": [
    "## Посмотрим на распределение количества посадочных мест для улиц с большим количеством объектов общественного питания"
   ]
  },
  {
   "cell_type": "markdown",
   "id": "b8aef55f",
   "metadata": {},
   "source": [
    "Отфильтруем данные с улицами входящими в топ-10 по колличеству обьектов"
   ]
  },
  {
   "cell_type": "code",
   "execution_count": null,
   "id": "baa283e6",
   "metadata": {},
   "outputs": [],
   "source": [
    "top_street = list(top_street['street'])\n",
    "top_street = df.query('street in @top_street')"
   ]
  },
  {
   "cell_type": "markdown",
   "id": "1a55e464",
   "metadata": {},
   "source": [
    "Построим распределение количества посадочных мест для улиц входящих в топ-10 по колличеству объектов общественного питания"
   ]
  },
  {
   "cell_type": "code",
   "execution_count": null,
   "id": "ec7f89e7",
   "metadata": {},
   "outputs": [],
   "source": [
    "plt.figure(figsize=(15,9))\n",
    "plt.xlim(0,750)\n",
    "sns.boxplot(data=top_street, x='number', y='street')\n",
    "plt.title('Распределение количества посадочных мест для топ-10 улиц')\n",
    "plt.ylabel('')\n",
    "plt.xlabel('Колличествово посадочных мест')\n",
    "plt.show()"
   ]
  },
  {
   "cell_type": "markdown",
   "id": "068db6f9",
   "metadata": {},
   "source": [
    "На улицах `проспект Вернадского` `Кутузовский проспект` `Ленинградский проспект` `Ленинский проспект` `проспект Мира` медианное колличество посадочных мест в заведениях приерно 50, на `Кутузовском проспекте` самое большое колличество посадочных мест в заведениях. Самое небольшое колличество посадочных мест в заведениях на улице `Пресненская набережная`, при этом встречается небольшое колличесвто заведений с рекодрным колличеством посадочных мест для этой улицы."
   ]
  },
  {
   "cell_type": "markdown",
   "id": "35ec559e",
   "metadata": {},
   "source": [
    "## Общий вывод и рекомендации"
   ]
  },
  {
   "cell_type": "markdown",
   "id": "8da277a5",
   "metadata": {},
   "source": [
    "По результатам исследования выяснили, что 40% рынка занимает категория `кафе` и это самая большая доля среди всех категорий. Большинство заведений являются несетевыми, а сетевые встречаются чаще в категории `предприятие быстрого обслуживания`. \n",
    "\n",
    "Определили топ-10 улиц по колличеству заведений:\n",
    "* проспект Мира\n",
    "* Профсоюзная улица\n",
    "* Ленинградский проспект\n",
    "* Пресненская набережная\n",
    "* Варшавское шоссе\n",
    "* Ленинский проспект\n",
    "* проспект Вернадского\n",
    "* Кутузовский проспект\n",
    "* Каширское шоссе\n",
    "* Кировоградская улица\n",
    "\n",
    "В среднем по Москве 40 посадочных мест в заведениях категории кафе, в `ресторанах` и `столовых` в несколько раз больше, на улицах из топ-10 большинство заведений имеет до 100 посадочных мест.\n",
    "\n",
    "\n",
    "Для того, чтобы дать рекомендации по открытию заведения хотелось бы иметь больше информации. Опираясь на те данные, которые у нас есть, можно предположить, что целесообразно открывать кафе, т.к. эта категория преобладает на рынке, а значит является популярной. В рамках нашего проекта, где гостей обслуживают роботы, считаю целесобразным иметь не более 50 посадочных мест, т.к. люди будут приходить скорее за шоу, чем за долгими посиделками, к тому же это нам поможет сэкономить бюджет. Рекомендую открывать кафе на Пресненской набережной, через эту улицу проходит огромное колличество платёжеспособных и \"продвинутых\" людей, которым скорее всего будет интересно посетить такое необычное кафе. Такая сеть определённо могла бы иметь огромный усех, но есть вернуться к реальности и представить сколько может стоить такой проект, сразу приходят сомнения об окупаемости :)"
   ]
  }
 ],
 "metadata": {
  "ExecuteTimeLog": [
   {
    "duration": 1353,
    "start_time": "2022-05-19T09:54:21.101Z"
   },
   {
    "duration": 4,
    "start_time": "2022-05-19T09:54:22.457Z"
   },
   {
    "duration": 248,
    "start_time": "2022-05-19T09:54:22.463Z"
   },
   {
    "duration": 38,
    "start_time": "2022-05-19T09:54:22.713Z"
   },
   {
    "duration": 18,
    "start_time": "2022-05-19T09:54:22.753Z"
   },
   {
    "duration": 21,
    "start_time": "2022-05-19T09:54:22.773Z"
   },
   {
    "duration": 20,
    "start_time": "2022-05-19T09:54:22.812Z"
   },
   {
    "duration": 428,
    "start_time": "2022-05-19T09:54:22.834Z"
   },
   {
    "duration": 16,
    "start_time": "2022-05-19T09:54:23.263Z"
   },
   {
    "duration": 36,
    "start_time": "2022-05-19T09:54:23.281Z"
   },
   {
    "duration": 2,
    "start_time": "2022-05-19T09:54:23.320Z"
   },
   {
    "duration": 19,
    "start_time": "2022-05-19T09:54:23.324Z"
   },
   {
    "duration": 128,
    "start_time": "2022-05-19T09:54:23.345Z"
   },
   {
    "duration": 38,
    "start_time": "2022-05-19T09:54:23.475Z"
   },
   {
    "duration": 15,
    "start_time": "2022-05-19T09:54:23.515Z"
   },
   {
    "duration": 4,
    "start_time": "2022-05-19T09:54:23.532Z"
   },
   {
    "duration": 662,
    "start_time": "2022-05-19T09:54:23.538Z"
   },
   {
    "duration": 17,
    "start_time": "2022-05-19T09:54:24.202Z"
   },
   {
    "duration": 95,
    "start_time": "2022-05-19T09:54:24.221Z"
   },
   {
    "duration": 38,
    "start_time": "2022-05-19T09:54:24.318Z"
   },
   {
    "duration": 15,
    "start_time": "2022-05-19T09:54:24.358Z"
   },
   {
    "duration": 30,
    "start_time": "2022-05-19T09:54:24.375Z"
   },
   {
    "duration": 197,
    "start_time": "2022-05-19T09:54:24.412Z"
   },
   {
    "duration": 17,
    "start_time": "2022-05-19T09:54:24.611Z"
   },
   {
    "duration": 6,
    "start_time": "2022-05-19T09:54:24.630Z"
   },
   {
    "duration": 1840,
    "start_time": "2022-05-19T09:54:24.638Z"
   },
   {
    "duration": 13,
    "start_time": "2022-05-19T09:54:26.481Z"
   },
   {
    "duration": 6,
    "start_time": "2022-05-19T09:54:26.497Z"
   },
   {
    "duration": 14,
    "start_time": "2022-05-19T09:54:26.505Z"
   },
   {
    "duration": 299,
    "start_time": "2022-05-19T09:54:26.521Z"
   },
   {
    "duration": 228,
    "start_time": "2022-05-19T09:58:14.047Z"
   },
   {
    "duration": 79,
    "start_time": "2022-05-19T10:11:19.377Z"
   },
   {
    "duration": 75,
    "start_time": "2022-05-19T10:11:24.998Z"
   },
   {
    "duration": 70,
    "start_time": "2022-05-19T10:11:38.671Z"
   },
   {
    "duration": 12,
    "start_time": "2022-05-19T10:12:02.902Z"
   },
   {
    "duration": 68,
    "start_time": "2022-05-19T10:12:36.824Z"
   },
   {
    "duration": 16,
    "start_time": "2022-05-19T10:18:57.126Z"
   },
   {
    "duration": 13,
    "start_time": "2022-05-19T10:19:32.450Z"
   },
   {
    "duration": 42,
    "start_time": "2022-05-19T10:30:07.885Z"
   },
   {
    "duration": 14,
    "start_time": "2022-05-19T10:31:41.051Z"
   },
   {
    "duration": 27,
    "start_time": "2022-05-19T10:31:51.087Z"
   },
   {
    "duration": 146,
    "start_time": "2022-05-19T10:34:27.066Z"
   },
   {
    "duration": 55,
    "start_time": "2022-05-19T10:34:53.022Z"
   },
   {
    "duration": 32,
    "start_time": "2022-05-19T10:35:09.062Z"
   },
   {
    "duration": 77,
    "start_time": "2022-05-19T10:36:09.997Z"
   },
   {
    "duration": 861,
    "start_time": "2022-05-19T10:36:18.040Z"
   },
   {
    "duration": 489,
    "start_time": "2022-05-19T10:36:28.840Z"
   },
   {
    "duration": 75,
    "start_time": "2022-05-19T10:36:53.766Z"
   },
   {
    "duration": 80,
    "start_time": "2022-05-19T10:37:28.546Z"
   },
   {
    "duration": 67,
    "start_time": "2022-05-19T10:39:37.863Z"
   },
   {
    "duration": 43,
    "start_time": "2022-05-19T10:46:36.330Z"
   },
   {
    "duration": 1329,
    "start_time": "2022-05-19T11:01:07.180Z"
   },
   {
    "duration": 4,
    "start_time": "2022-05-19T11:01:08.511Z"
   },
   {
    "duration": 246,
    "start_time": "2022-05-19T11:01:08.516Z"
   },
   {
    "duration": 35,
    "start_time": "2022-05-19T11:01:08.764Z"
   },
   {
    "duration": 16,
    "start_time": "2022-05-19T11:01:08.801Z"
   },
   {
    "duration": 13,
    "start_time": "2022-05-19T11:01:08.819Z"
   },
   {
    "duration": 13,
    "start_time": "2022-05-19T11:01:08.833Z"
   },
   {
    "duration": 465,
    "start_time": "2022-05-19T11:01:08.848Z"
   },
   {
    "duration": 15,
    "start_time": "2022-05-19T11:01:09.314Z"
   },
   {
    "duration": 5,
    "start_time": "2022-05-19T11:01:09.331Z"
   },
   {
    "duration": 0,
    "start_time": "2022-05-19T11:01:09.337Z"
   },
   {
    "duration": 0,
    "start_time": "2022-05-19T11:01:09.338Z"
   },
   {
    "duration": 0,
    "start_time": "2022-05-19T11:01:09.340Z"
   },
   {
    "duration": 0,
    "start_time": "2022-05-19T11:01:09.341Z"
   },
   {
    "duration": 0,
    "start_time": "2022-05-19T11:01:09.342Z"
   },
   {
    "duration": 0,
    "start_time": "2022-05-19T11:01:09.343Z"
   },
   {
    "duration": 0,
    "start_time": "2022-05-19T11:01:09.344Z"
   },
   {
    "duration": 0,
    "start_time": "2022-05-19T11:01:09.345Z"
   },
   {
    "duration": 0,
    "start_time": "2022-05-19T11:01:09.345Z"
   },
   {
    "duration": 0,
    "start_time": "2022-05-19T11:01:09.374Z"
   },
   {
    "duration": 0,
    "start_time": "2022-05-19T11:01:09.375Z"
   },
   {
    "duration": 0,
    "start_time": "2022-05-19T11:01:09.377Z"
   },
   {
    "duration": 0,
    "start_time": "2022-05-19T11:01:09.378Z"
   },
   {
    "duration": 0,
    "start_time": "2022-05-19T11:01:09.379Z"
   },
   {
    "duration": 0,
    "start_time": "2022-05-19T11:01:09.380Z"
   },
   {
    "duration": 0,
    "start_time": "2022-05-19T11:01:09.381Z"
   },
   {
    "duration": 0,
    "start_time": "2022-05-19T11:01:09.382Z"
   },
   {
    "duration": 0,
    "start_time": "2022-05-19T11:01:09.383Z"
   },
   {
    "duration": 0,
    "start_time": "2022-05-19T11:01:09.384Z"
   },
   {
    "duration": 0,
    "start_time": "2022-05-19T11:01:09.385Z"
   },
   {
    "duration": 0,
    "start_time": "2022-05-19T11:01:09.386Z"
   },
   {
    "duration": 0,
    "start_time": "2022-05-19T11:01:09.387Z"
   },
   {
    "duration": 3,
    "start_time": "2022-05-19T11:03:35.056Z"
   },
   {
    "duration": 10,
    "start_time": "2022-05-19T11:03:35.061Z"
   },
   {
    "duration": 98,
    "start_time": "2022-05-19T11:03:35.073Z"
   },
   {
    "duration": 31,
    "start_time": "2022-05-19T11:03:35.173Z"
   },
   {
    "duration": 16,
    "start_time": "2022-05-19T11:03:35.205Z"
   },
   {
    "duration": 13,
    "start_time": "2022-05-19T11:03:35.222Z"
   },
   {
    "duration": 40,
    "start_time": "2022-05-19T11:03:35.236Z"
   },
   {
    "duration": 69,
    "start_time": "2022-05-19T11:03:35.277Z"
   },
   {
    "duration": 28,
    "start_time": "2022-05-19T11:03:35.348Z"
   },
   {
    "duration": 49,
    "start_time": "2022-05-19T11:03:35.378Z"
   },
   {
    "duration": 0,
    "start_time": "2022-05-19T11:03:35.429Z"
   },
   {
    "duration": 0,
    "start_time": "2022-05-19T11:03:35.430Z"
   },
   {
    "duration": 0,
    "start_time": "2022-05-19T11:03:35.431Z"
   },
   {
    "duration": 0,
    "start_time": "2022-05-19T11:03:35.432Z"
   },
   {
    "duration": 0,
    "start_time": "2022-05-19T11:03:35.433Z"
   },
   {
    "duration": 0,
    "start_time": "2022-05-19T11:03:35.435Z"
   },
   {
    "duration": 0,
    "start_time": "2022-05-19T11:03:35.436Z"
   },
   {
    "duration": 0,
    "start_time": "2022-05-19T11:03:35.437Z"
   },
   {
    "duration": 0,
    "start_time": "2022-05-19T11:03:35.438Z"
   },
   {
    "duration": 0,
    "start_time": "2022-05-19T11:03:35.439Z"
   },
   {
    "duration": 0,
    "start_time": "2022-05-19T11:03:35.440Z"
   },
   {
    "duration": 0,
    "start_time": "2022-05-19T11:03:35.441Z"
   },
   {
    "duration": 0,
    "start_time": "2022-05-19T11:03:35.442Z"
   },
   {
    "duration": 0,
    "start_time": "2022-05-19T11:03:35.443Z"
   },
   {
    "duration": 0,
    "start_time": "2022-05-19T11:03:35.444Z"
   },
   {
    "duration": 0,
    "start_time": "2022-05-19T11:03:35.445Z"
   },
   {
    "duration": 0,
    "start_time": "2022-05-19T11:03:35.446Z"
   },
   {
    "duration": 0,
    "start_time": "2022-05-19T11:03:35.447Z"
   },
   {
    "duration": 0,
    "start_time": "2022-05-19T11:03:35.448Z"
   },
   {
    "duration": 0,
    "start_time": "2022-05-19T11:03:35.450Z"
   },
   {
    "duration": 0,
    "start_time": "2022-05-19T11:03:35.451Z"
   },
   {
    "duration": 0,
    "start_time": "2022-05-19T11:03:35.451Z"
   },
   {
    "duration": 15,
    "start_time": "2022-05-19T11:04:16.309Z"
   },
   {
    "duration": 3,
    "start_time": "2022-05-19T11:04:19.444Z"
   },
   {
    "duration": 4,
    "start_time": "2022-05-19T11:04:19.457Z"
   },
   {
    "duration": 86,
    "start_time": "2022-05-19T11:04:19.462Z"
   },
   {
    "duration": 31,
    "start_time": "2022-05-19T11:04:19.549Z"
   },
   {
    "duration": 15,
    "start_time": "2022-05-19T11:04:19.582Z"
   },
   {
    "duration": 13,
    "start_time": "2022-05-19T11:04:19.598Z"
   },
   {
    "duration": 14,
    "start_time": "2022-05-19T11:04:19.612Z"
   },
   {
    "duration": 96,
    "start_time": "2022-05-19T11:04:19.627Z"
   },
   {
    "duration": 15,
    "start_time": "2022-05-19T11:04:19.724Z"
   },
   {
    "duration": 36,
    "start_time": "2022-05-19T11:04:19.741Z"
   },
   {
    "duration": 18,
    "start_time": "2022-05-19T11:04:19.779Z"
   },
   {
    "duration": 3,
    "start_time": "2022-05-19T11:04:19.798Z"
   },
   {
    "duration": 7,
    "start_time": "2022-05-19T11:04:19.802Z"
   },
   {
    "duration": 76,
    "start_time": "2022-05-19T11:04:19.810Z"
   },
   {
    "duration": 5,
    "start_time": "2022-05-19T11:04:19.888Z"
   },
   {
    "duration": 18,
    "start_time": "2022-05-19T11:04:19.895Z"
   },
   {
    "duration": 5,
    "start_time": "2022-05-19T11:04:19.915Z"
   },
   {
    "duration": 625,
    "start_time": "2022-05-19T11:04:19.921Z"
   },
   {
    "duration": 12,
    "start_time": "2022-05-19T11:04:20.548Z"
   },
   {
    "duration": 160,
    "start_time": "2022-05-19T11:04:20.561Z"
   },
   {
    "duration": 27,
    "start_time": "2022-05-19T11:04:20.722Z"
   },
   {
    "duration": 7,
    "start_time": "2022-05-19T11:04:20.750Z"
   },
   {
    "duration": 89,
    "start_time": "2022-05-19T11:04:20.758Z"
   },
   {
    "duration": 28,
    "start_time": "2022-05-19T11:04:20.849Z"
   },
   {
    "duration": 73,
    "start_time": "2022-05-19T11:04:20.878Z"
   },
   {
    "duration": 31,
    "start_time": "2022-05-19T11:04:20.953Z"
   },
   {
    "duration": 6,
    "start_time": "2022-05-19T11:04:20.985Z"
   },
   {
    "duration": 1056,
    "start_time": "2022-05-19T11:04:20.992Z"
   },
   {
    "duration": 15,
    "start_time": "2022-05-19T11:04:22.051Z"
   },
   {
    "duration": 6,
    "start_time": "2022-05-19T11:04:22.068Z"
   },
   {
    "duration": 18,
    "start_time": "2022-05-19T11:04:22.075Z"
   },
   {
    "duration": 285,
    "start_time": "2022-05-19T11:04:22.094Z"
   },
   {
    "duration": 68,
    "start_time": "2022-05-19T11:07:59.332Z"
   },
   {
    "duration": 1296,
    "start_time": "2022-05-20T10:56:55.296Z"
   },
   {
    "duration": 10,
    "start_time": "2022-05-20T10:56:56.594Z"
   },
   {
    "duration": 86,
    "start_time": "2022-05-20T10:56:56.605Z"
   },
   {
    "duration": 40,
    "start_time": "2022-05-20T10:56:56.693Z"
   },
   {
    "duration": 20,
    "start_time": "2022-05-20T10:56:56.735Z"
   },
   {
    "duration": 18,
    "start_time": "2022-05-20T10:56:56.757Z"
   },
   {
    "duration": 38,
    "start_time": "2022-05-20T10:56:56.777Z"
   },
   {
    "duration": 467,
    "start_time": "2022-05-20T10:56:56.816Z"
   },
   {
    "duration": 35,
    "start_time": "2022-05-20T10:56:57.285Z"
   },
   {
    "duration": 24,
    "start_time": "2022-05-20T10:56:57.323Z"
   },
   {
    "duration": 4,
    "start_time": "2022-05-20T10:56:57.401Z"
   },
   {
    "duration": 8,
    "start_time": "2022-05-20T10:56:57.406Z"
   },
   {
    "duration": 115,
    "start_time": "2022-05-20T10:56:57.416Z"
   },
   {
    "duration": 8,
    "start_time": "2022-05-20T10:56:57.533Z"
   },
   {
    "duration": 16,
    "start_time": "2022-05-20T10:56:57.542Z"
   },
   {
    "duration": 5,
    "start_time": "2022-05-20T10:56:57.559Z"
   },
   {
    "duration": 641,
    "start_time": "2022-05-20T10:56:57.566Z"
   },
   {
    "duration": 266,
    "start_time": "2022-05-20T10:56:58.209Z"
   },
   {
    "duration": 9,
    "start_time": "2022-05-20T10:56:58.477Z"
   },
   {
    "duration": 16,
    "start_time": "2022-05-20T10:56:58.488Z"
   },
   {
    "duration": 8,
    "start_time": "2022-05-20T10:56:58.506Z"
   },
   {
    "duration": 38,
    "start_time": "2022-05-20T10:56:58.516Z"
   },
   {
    "duration": 19,
    "start_time": "2022-05-20T10:56:58.556Z"
   },
   {
    "duration": 174,
    "start_time": "2022-05-20T10:56:58.577Z"
   },
   {
    "duration": 31,
    "start_time": "2022-05-20T10:56:58.753Z"
   },
   {
    "duration": 27,
    "start_time": "2022-05-20T10:56:58.786Z"
   },
   {
    "duration": 78,
    "start_time": "2022-05-20T10:56:58.815Z"
   },
   {
    "duration": 19,
    "start_time": "2022-05-20T10:56:58.903Z"
   },
   {
    "duration": 99,
    "start_time": "2022-05-20T10:56:58.924Z"
   },
   {
    "duration": 1267,
    "start_time": "2022-05-20T10:56:59.025Z"
   },
   {
    "duration": 14,
    "start_time": "2022-05-20T10:57:00.294Z"
   },
   {
    "duration": 37,
    "start_time": "2022-05-20T10:57:00.310Z"
   },
   {
    "duration": 9,
    "start_time": "2022-05-20T10:57:00.348Z"
   },
   {
    "duration": 23,
    "start_time": "2022-05-20T10:57:00.359Z"
   },
   {
    "duration": 10,
    "start_time": "2022-05-20T10:57:00.384Z"
   },
   {
    "duration": 11,
    "start_time": "2022-05-20T10:57:00.396Z"
   },
   {
    "duration": 0,
    "start_time": "2022-05-20T10:57:00.409Z"
   },
   {
    "duration": 0,
    "start_time": "2022-05-20T10:57:00.410Z"
   },
   {
    "duration": 0,
    "start_time": "2022-05-20T10:57:00.411Z"
   },
   {
    "duration": 192,
    "start_time": "2022-05-20T11:00:37.565Z"
   },
   {
    "duration": 16,
    "start_time": "2022-05-20T11:00:45.919Z"
   },
   {
    "duration": 18,
    "start_time": "2022-05-20T11:02:02.758Z"
   },
   {
    "duration": 20,
    "start_time": "2022-05-20T11:02:42.620Z"
   }
  ],
  "kernelspec": {
   "display_name": "Python 3 (ipykernel)",
   "language": "python",
   "name": "python3"
  },
  "language_info": {
   "codemirror_mode": {
    "name": "ipython",
    "version": 3
   },
   "file_extension": ".py",
   "mimetype": "text/x-python",
   "name": "python",
   "nbconvert_exporter": "python",
   "pygments_lexer": "ipython3",
   "version": "3.9.7"
  },
  "toc": {
   "base_numbering": 1,
   "nav_menu": {},
   "number_sections": true,
   "sideBar": true,
   "skip_h1_title": true,
   "title_cell": "Содержание",
   "title_sidebar": "Contents",
   "toc_cell": true,
   "toc_position": {},
   "toc_section_display": true,
   "toc_window_display": false
  }
 },
 "nbformat": 4,
 "nbformat_minor": 5
}
