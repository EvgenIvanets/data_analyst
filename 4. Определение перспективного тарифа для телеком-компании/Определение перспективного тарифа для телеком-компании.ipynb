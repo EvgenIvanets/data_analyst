{
 "cells": [
  {
   "cell_type": "markdown",
   "metadata": {},
   "source": [
    "# Определение перспективного тарифа для телеком-компании\n",
    "В компании «Мегалайн» — федерального оператора сотовой связи клиентам предлагают два тарифных плана: «Смарт» и «Ультра». Чтобы скорректировать рекламный бюджет, коммерческий департамент хочет понять, какой тариф приносит больше денег.\n",
    "Необходимо сделать предварительный анализ тарифов на небольшой выборке клиентов. В вашем распоряжении данные 500 пользователей «Мегалайна»: кто они, откуда, каким тарифом пользуются, сколько звонков и сообщений каждый отправил за 2018 год.\n",
    "Проанализируем поведение клиентов, сделаем вывод — какой тариф лучше оставить для дальнейшего развития компании."
   ]
  },
  {
   "cell_type": "markdown",
   "metadata": {
    "toc": true
   },
   "source": [
    "<h1>Содержание<span class=\"tocSkip\"></span></h1>\n",
    "<div class=\"toc\"><ul class=\"toc-item\"><li><span><a href=\"#Изучение-данных-из-файлов\" data-toc-modified-id=\"Изучение-данных-из-файлов-1\"><span class=\"toc-item-num\">1&nbsp;&nbsp;</span>Изучение данных из файлов</a></span></li><li><span><a href=\"#Подготовка-данных\" data-toc-modified-id=\"Подготовка-данных-2\"><span class=\"toc-item-num\">2&nbsp;&nbsp;</span>Подготовка данных</a></span><ul class=\"toc-item\"><li><span><a href=\"#Подготовка-таблицы-users\" data-toc-modified-id=\"Подготовка-таблицы-users-2.1\"><span class=\"toc-item-num\">2.1&nbsp;&nbsp;</span>Подготовка таблицы <code>users</code></a></span></li><li><span><a href=\"#Подготовка-таблицы-calls\" data-toc-modified-id=\"Подготовка-таблицы-calls-2.2\"><span class=\"toc-item-num\">2.2&nbsp;&nbsp;</span>Подготовка таблицы <code>calls</code></a></span></li><li><span><a href=\"#Подготовка-таблицы-messages\" data-toc-modified-id=\"Подготовка-таблицы-messages-2.3\"><span class=\"toc-item-num\">2.3&nbsp;&nbsp;</span>Подготовка таблицы <code>messages</code></a></span></li><li><span><a href=\"#Подготовка-таблицы-internet\" data-toc-modified-id=\"Подготовка-таблицы-internet-2.4\"><span class=\"toc-item-num\">2.4&nbsp;&nbsp;</span>Подготовка таблицы <code>internet</code></a></span></li><li><span><a href=\"#Обьединение-таблиц:\" data-toc-modified-id=\"Обьединение-таблиц:-2.5\"><span class=\"toc-item-num\">2.5&nbsp;&nbsp;</span>Обьединение таблиц:</a></span></li><li><span><a href=\"#Рассчет-помесечной-выручки-с-каждого-пользователя\" data-toc-modified-id=\"Рассчет-помесечной-выручки-с-каждого-пользователя-2.6\"><span class=\"toc-item-num\">2.6&nbsp;&nbsp;</span>Рассчет помесечной выручки с каждого пользователя</a></span></li></ul></li><li><span><a href=\"#Анализ-данных\" data-toc-modified-id=\"Анализ-данных-3\"><span class=\"toc-item-num\">3&nbsp;&nbsp;</span>Анализ данных</a></span><ul class=\"toc-item\"><li><span><a href=\"#Анализ-потраченных-минут-по-месяцам.\" data-toc-modified-id=\"Анализ-потраченных-минут-по-месяцам.-3.1\"><span class=\"toc-item-num\">3.1&nbsp;&nbsp;</span>Анализ потраченных минут по месяцам.</a></span></li><li><span><a href=\"#Анализ-отправленных-сообщений-по-месяцам\" data-toc-modified-id=\"Анализ-отправленных-сообщений-по-месяцам-3.2\"><span class=\"toc-item-num\">3.2&nbsp;&nbsp;</span>Анализ отправленных сообщений по месяцам</a></span></li><li><span><a href=\"#Анализ-потраченного-интернет-трафика-по-месяцам\" data-toc-modified-id=\"Анализ-потраченного-интернет-трафика-по-месяцам-3.3\"><span class=\"toc-item-num\">3.3&nbsp;&nbsp;</span>Анализ потраченного интернет-трафика по месяцам</a></span></li></ul></li><li><span><a href=\"#Проверка-гипотез\" data-toc-modified-id=\"Проверка-гипотез-4\"><span class=\"toc-item-num\">4&nbsp;&nbsp;</span>Проверка гипотез</a></span><ul class=\"toc-item\"><li><span><a href=\"#Гипотеза:-средняя-выручка-пользователей-тарифов-«Ультра»-и-«Смарт»-различаются\" data-toc-modified-id=\"Гипотеза:-средняя-выручка-пользователей-тарифов-«Ультра»-и-«Смарт»-различаются-4.1\"><span class=\"toc-item-num\">4.1&nbsp;&nbsp;</span>Гипотеза: средняя выручка пользователей тарифов «Ультра» и «Смарт» различаются</a></span></li><li><span><a href=\"#Гипотеза:-средняя-выручка-пользователей-из-Москвы-отличается-от-выручки-пользователей-из-других-регионов.\" data-toc-modified-id=\"Гипотеза:-средняя-выручка-пользователей-из-Москвы-отличается-от-выручки-пользователей-из-других-регионов.-4.2\"><span class=\"toc-item-num\">4.2&nbsp;&nbsp;</span>Гипотеза: средняя выручка пользователей из Москвы отличается от выручки пользователей из других регионов.</a></span></li></ul></li><li><span><a href=\"#Общий-вывод\" data-toc-modified-id=\"Общий-вывод-5\"><span class=\"toc-item-num\">5&nbsp;&nbsp;</span>Общий вывод</a></span></li></ul></div>"
   ]
  },
  {
   "cell_type": "markdown",
   "metadata": {},
   "source": [
    "## Изучение данных из файлов"
   ]
  },
  {
   "cell_type": "code",
   "execution_count": 69,
   "metadata": {},
   "outputs": [],
   "source": [
    "import pandas as pd # импорт библиотеки pandas\n",
    "import numpy as np # импорт библиотеки numpy\n",
    "import matplotlib.pyplot as plt # импорт библиотеки matplotlib\n",
    "from scipy import stats as st # импорт модуля scipy.stats из библиотеки scipy"
   ]
  },
  {
   "cell_type": "code",
   "execution_count": 70,
   "metadata": {},
   "outputs": [
    {
     "data": {
      "text/html": [
       "<div>\n",
       "<style scoped>\n",
       "    .dataframe tbody tr th:only-of-type {\n",
       "        vertical-align: middle;\n",
       "    }\n",
       "\n",
       "    .dataframe tbody tr th {\n",
       "        vertical-align: top;\n",
       "    }\n",
       "\n",
       "    .dataframe thead th {\n",
       "        text-align: right;\n",
       "    }\n",
       "</style>\n",
       "<table border=\"1\" class=\"dataframe\">\n",
       "  <thead>\n",
       "    <tr style=\"text-align: right;\">\n",
       "      <th></th>\n",
       "      <th>user_id</th>\n",
       "      <th>age</th>\n",
       "      <th>churn_date</th>\n",
       "      <th>city</th>\n",
       "      <th>first_name</th>\n",
       "      <th>last_name</th>\n",
       "      <th>reg_date</th>\n",
       "      <th>tariff</th>\n",
       "    </tr>\n",
       "  </thead>\n",
       "  <tbody>\n",
       "    <tr>\n",
       "      <th>0</th>\n",
       "      <td>1000</td>\n",
       "      <td>52</td>\n",
       "      <td>NaN</td>\n",
       "      <td>Краснодар</td>\n",
       "      <td>Рафаил</td>\n",
       "      <td>Верещагин</td>\n",
       "      <td>2018-05-25</td>\n",
       "      <td>ultra</td>\n",
       "    </tr>\n",
       "    <tr>\n",
       "      <th>1</th>\n",
       "      <td>1001</td>\n",
       "      <td>41</td>\n",
       "      <td>NaN</td>\n",
       "      <td>Москва</td>\n",
       "      <td>Иван</td>\n",
       "      <td>Ежов</td>\n",
       "      <td>2018-11-01</td>\n",
       "      <td>smart</td>\n",
       "    </tr>\n",
       "    <tr>\n",
       "      <th>2</th>\n",
       "      <td>1002</td>\n",
       "      <td>59</td>\n",
       "      <td>NaN</td>\n",
       "      <td>Стерлитамак</td>\n",
       "      <td>Евгений</td>\n",
       "      <td>Абрамович</td>\n",
       "      <td>2018-06-17</td>\n",
       "      <td>smart</td>\n",
       "    </tr>\n",
       "    <tr>\n",
       "      <th>3</th>\n",
       "      <td>1003</td>\n",
       "      <td>23</td>\n",
       "      <td>NaN</td>\n",
       "      <td>Москва</td>\n",
       "      <td>Белла</td>\n",
       "      <td>Белякова</td>\n",
       "      <td>2018-08-17</td>\n",
       "      <td>ultra</td>\n",
       "    </tr>\n",
       "    <tr>\n",
       "      <th>4</th>\n",
       "      <td>1004</td>\n",
       "      <td>68</td>\n",
       "      <td>NaN</td>\n",
       "      <td>Новокузнецк</td>\n",
       "      <td>Татьяна</td>\n",
       "      <td>Авдеенко</td>\n",
       "      <td>2018-05-14</td>\n",
       "      <td>ultra</td>\n",
       "    </tr>\n",
       "    <tr>\n",
       "      <th>5</th>\n",
       "      <td>1005</td>\n",
       "      <td>67</td>\n",
       "      <td>NaN</td>\n",
       "      <td>Набережные Челны</td>\n",
       "      <td>Афанасий</td>\n",
       "      <td>Горлов</td>\n",
       "      <td>2018-01-25</td>\n",
       "      <td>smart</td>\n",
       "    </tr>\n",
       "    <tr>\n",
       "      <th>6</th>\n",
       "      <td>1006</td>\n",
       "      <td>21</td>\n",
       "      <td>NaN</td>\n",
       "      <td>Ульяновск</td>\n",
       "      <td>Леонид</td>\n",
       "      <td>Ермолаев</td>\n",
       "      <td>2018-02-26</td>\n",
       "      <td>smart</td>\n",
       "    </tr>\n",
       "    <tr>\n",
       "      <th>7</th>\n",
       "      <td>1007</td>\n",
       "      <td>65</td>\n",
       "      <td>NaN</td>\n",
       "      <td>Москва</td>\n",
       "      <td>Юна</td>\n",
       "      <td>Березина</td>\n",
       "      <td>2018-04-19</td>\n",
       "      <td>smart</td>\n",
       "    </tr>\n",
       "    <tr>\n",
       "      <th>8</th>\n",
       "      <td>1008</td>\n",
       "      <td>63</td>\n",
       "      <td>NaN</td>\n",
       "      <td>Челябинск</td>\n",
       "      <td>Рустэм</td>\n",
       "      <td>Пономарёв</td>\n",
       "      <td>2018-12-19</td>\n",
       "      <td>smart</td>\n",
       "    </tr>\n",
       "    <tr>\n",
       "      <th>9</th>\n",
       "      <td>1009</td>\n",
       "      <td>24</td>\n",
       "      <td>NaN</td>\n",
       "      <td>Пермь</td>\n",
       "      <td>Василиса</td>\n",
       "      <td>Блинова</td>\n",
       "      <td>2018-03-22</td>\n",
       "      <td>smart</td>\n",
       "    </tr>\n",
       "  </tbody>\n",
       "</table>\n",
       "</div>"
      ],
      "text/plain": [
       "   user_id  age churn_date              city first_name  last_name  \\\n",
       "0     1000   52        NaN         Краснодар     Рафаил  Верещагин   \n",
       "1     1001   41        NaN            Москва       Иван       Ежов   \n",
       "2     1002   59        NaN       Стерлитамак    Евгений  Абрамович   \n",
       "3     1003   23        NaN            Москва      Белла   Белякова   \n",
       "4     1004   68        NaN       Новокузнецк    Татьяна   Авдеенко   \n",
       "5     1005   67        NaN  Набережные Челны   Афанасий     Горлов   \n",
       "6     1006   21        NaN         Ульяновск     Леонид   Ермолаев   \n",
       "7     1007   65        NaN            Москва        Юна   Березина   \n",
       "8     1008   63        NaN         Челябинск     Рустэм  Пономарёв   \n",
       "9     1009   24        NaN             Пермь   Василиса    Блинова   \n",
       "\n",
       "     reg_date tariff  \n",
       "0  2018-05-25  ultra  \n",
       "1  2018-11-01  smart  \n",
       "2  2018-06-17  smart  \n",
       "3  2018-08-17  ultra  \n",
       "4  2018-05-14  ultra  \n",
       "5  2018-01-25  smart  \n",
       "6  2018-02-26  smart  \n",
       "7  2018-04-19  smart  \n",
       "8  2018-12-19  smart  \n",
       "9  2018-03-22  smart  "
      ]
     },
     "execution_count": 70,
     "metadata": {},
     "output_type": "execute_result"
    }
   ],
   "source": [
    "users = pd.read_csv('users.csv')\n",
    "users.head(10) "
   ]
  },
  {
   "cell_type": "code",
   "execution_count": 71,
   "metadata": {},
   "outputs": [
    {
     "name": "stdout",
     "output_type": "stream",
     "text": [
      "<class 'pandas.core.frame.DataFrame'>\n",
      "RangeIndex: 500 entries, 0 to 499\n",
      "Data columns (total 8 columns):\n",
      " #   Column      Non-Null Count  Dtype \n",
      "---  ------      --------------  ----- \n",
      " 0   user_id     500 non-null    int64 \n",
      " 1   age         500 non-null    int64 \n",
      " 2   churn_date  38 non-null     object\n",
      " 3   city        500 non-null    object\n",
      " 4   first_name  500 non-null    object\n",
      " 5   last_name   500 non-null    object\n",
      " 6   reg_date    500 non-null    object\n",
      " 7   tariff      500 non-null    object\n",
      "dtypes: int64(2), object(6)\n",
      "memory usage: 31.4+ KB\n"
     ]
    }
   ],
   "source": [
    "users.info()"
   ]
  },
  {
   "cell_type": "markdown",
   "metadata": {},
   "source": [
    "Описание колонок таблицы `users` согласно документации к данным:\n",
    "* `user_id` — уникальный идентификатор пользователя\n",
    "* `first_name` — имя пользователя\n",
    "* `last_name` — фамилия пользователя\n",
    "* `age` — возраст пользователя (годы)\n",
    "* `reg_date` — дата подключения тарифа (день, месяц, год)\n",
    "* `churn_date` — дата прекращения пользования тарифом (если значение пропущено, то тариф ещё действовал на момент выгрузки данных)\n",
    "* `city` — город проживания пользователя\n",
    "* `tariff` — название тарифного плана"
   ]
  },
  {
   "cell_type": "code",
   "execution_count": 72,
   "metadata": {},
   "outputs": [
    {
     "data": {
      "text/html": [
       "<div>\n",
       "<style scoped>\n",
       "    .dataframe tbody tr th:only-of-type {\n",
       "        vertical-align: middle;\n",
       "    }\n",
       "\n",
       "    .dataframe tbody tr th {\n",
       "        vertical-align: top;\n",
       "    }\n",
       "\n",
       "    .dataframe thead th {\n",
       "        text-align: right;\n",
       "    }\n",
       "</style>\n",
       "<table border=\"1\" class=\"dataframe\">\n",
       "  <thead>\n",
       "    <tr style=\"text-align: right;\">\n",
       "      <th></th>\n",
       "      <th>id</th>\n",
       "      <th>call_date</th>\n",
       "      <th>duration</th>\n",
       "      <th>user_id</th>\n",
       "    </tr>\n",
       "  </thead>\n",
       "  <tbody>\n",
       "    <tr>\n",
       "      <th>0</th>\n",
       "      <td>1000_0</td>\n",
       "      <td>2018-07-25</td>\n",
       "      <td>0.00</td>\n",
       "      <td>1000</td>\n",
       "    </tr>\n",
       "    <tr>\n",
       "      <th>1</th>\n",
       "      <td>1000_1</td>\n",
       "      <td>2018-08-17</td>\n",
       "      <td>0.00</td>\n",
       "      <td>1000</td>\n",
       "    </tr>\n",
       "    <tr>\n",
       "      <th>2</th>\n",
       "      <td>1000_2</td>\n",
       "      <td>2018-06-11</td>\n",
       "      <td>2.85</td>\n",
       "      <td>1000</td>\n",
       "    </tr>\n",
       "    <tr>\n",
       "      <th>3</th>\n",
       "      <td>1000_3</td>\n",
       "      <td>2018-09-21</td>\n",
       "      <td>13.80</td>\n",
       "      <td>1000</td>\n",
       "    </tr>\n",
       "    <tr>\n",
       "      <th>4</th>\n",
       "      <td>1000_4</td>\n",
       "      <td>2018-12-15</td>\n",
       "      <td>5.18</td>\n",
       "      <td>1000</td>\n",
       "    </tr>\n",
       "    <tr>\n",
       "      <th>5</th>\n",
       "      <td>1000_5</td>\n",
       "      <td>2018-11-02</td>\n",
       "      <td>0.00</td>\n",
       "      <td>1000</td>\n",
       "    </tr>\n",
       "    <tr>\n",
       "      <th>6</th>\n",
       "      <td>1000_6</td>\n",
       "      <td>2018-10-18</td>\n",
       "      <td>0.00</td>\n",
       "      <td>1000</td>\n",
       "    </tr>\n",
       "    <tr>\n",
       "      <th>7</th>\n",
       "      <td>1000_7</td>\n",
       "      <td>2018-08-22</td>\n",
       "      <td>18.31</td>\n",
       "      <td>1000</td>\n",
       "    </tr>\n",
       "    <tr>\n",
       "      <th>8</th>\n",
       "      <td>1000_8</td>\n",
       "      <td>2018-09-15</td>\n",
       "      <td>18.44</td>\n",
       "      <td>1000</td>\n",
       "    </tr>\n",
       "    <tr>\n",
       "      <th>9</th>\n",
       "      <td>1000_9</td>\n",
       "      <td>2018-08-15</td>\n",
       "      <td>0.00</td>\n",
       "      <td>1000</td>\n",
       "    </tr>\n",
       "  </tbody>\n",
       "</table>\n",
       "</div>"
      ],
      "text/plain": [
       "       id   call_date  duration  user_id\n",
       "0  1000_0  2018-07-25      0.00     1000\n",
       "1  1000_1  2018-08-17      0.00     1000\n",
       "2  1000_2  2018-06-11      2.85     1000\n",
       "3  1000_3  2018-09-21     13.80     1000\n",
       "4  1000_4  2018-12-15      5.18     1000\n",
       "5  1000_5  2018-11-02      0.00     1000\n",
       "6  1000_6  2018-10-18      0.00     1000\n",
       "7  1000_7  2018-08-22     18.31     1000\n",
       "8  1000_8  2018-09-15     18.44     1000\n",
       "9  1000_9  2018-08-15      0.00     1000"
      ]
     },
     "execution_count": 72,
     "metadata": {},
     "output_type": "execute_result"
    }
   ],
   "source": [
    "calls = pd.read_csv('calls.csv')\n",
    "calls.head(10)"
   ]
  },
  {
   "cell_type": "code",
   "execution_count": 73,
   "metadata": {},
   "outputs": [
    {
     "name": "stdout",
     "output_type": "stream",
     "text": [
      "<class 'pandas.core.frame.DataFrame'>\n",
      "RangeIndex: 202607 entries, 0 to 202606\n",
      "Data columns (total 4 columns):\n",
      " #   Column     Non-Null Count   Dtype  \n",
      "---  ------     --------------   -----  \n",
      " 0   id         202607 non-null  object \n",
      " 1   call_date  202607 non-null  object \n",
      " 2   duration   202607 non-null  float64\n",
      " 3   user_id    202607 non-null  int64  \n",
      "dtypes: float64(1), int64(1), object(2)\n",
      "memory usage: 6.2+ MB\n"
     ]
    }
   ],
   "source": [
    "calls.info()"
   ]
  },
  {
   "cell_type": "markdown",
   "metadata": {},
   "source": [
    "Описание колонок таблицы `calls` согласно документации к данным:\n",
    "* `id` — уникальный номер звонка\n",
    "* `call_date` — дата звонка\n",
    "* `duration` — длительность звонка в минутах\n",
    "* `user_id` — идентификатор пользователя, сделавшего звонок"
   ]
  },
  {
   "cell_type": "code",
   "execution_count": 74,
   "metadata": {},
   "outputs": [
    {
     "data": {
      "text/html": [
       "<div>\n",
       "<style scoped>\n",
       "    .dataframe tbody tr th:only-of-type {\n",
       "        vertical-align: middle;\n",
       "    }\n",
       "\n",
       "    .dataframe tbody tr th {\n",
       "        vertical-align: top;\n",
       "    }\n",
       "\n",
       "    .dataframe thead th {\n",
       "        text-align: right;\n",
       "    }\n",
       "</style>\n",
       "<table border=\"1\" class=\"dataframe\">\n",
       "  <thead>\n",
       "    <tr style=\"text-align: right;\">\n",
       "      <th></th>\n",
       "      <th>id</th>\n",
       "      <th>message_date</th>\n",
       "      <th>user_id</th>\n",
       "    </tr>\n",
       "  </thead>\n",
       "  <tbody>\n",
       "    <tr>\n",
       "      <th>0</th>\n",
       "      <td>1000_0</td>\n",
       "      <td>2018-06-27</td>\n",
       "      <td>1000</td>\n",
       "    </tr>\n",
       "    <tr>\n",
       "      <th>1</th>\n",
       "      <td>1000_1</td>\n",
       "      <td>2018-10-08</td>\n",
       "      <td>1000</td>\n",
       "    </tr>\n",
       "    <tr>\n",
       "      <th>2</th>\n",
       "      <td>1000_2</td>\n",
       "      <td>2018-08-04</td>\n",
       "      <td>1000</td>\n",
       "    </tr>\n",
       "    <tr>\n",
       "      <th>3</th>\n",
       "      <td>1000_3</td>\n",
       "      <td>2018-06-16</td>\n",
       "      <td>1000</td>\n",
       "    </tr>\n",
       "    <tr>\n",
       "      <th>4</th>\n",
       "      <td>1000_4</td>\n",
       "      <td>2018-12-05</td>\n",
       "      <td>1000</td>\n",
       "    </tr>\n",
       "    <tr>\n",
       "      <th>5</th>\n",
       "      <td>1000_5</td>\n",
       "      <td>2018-06-20</td>\n",
       "      <td>1000</td>\n",
       "    </tr>\n",
       "    <tr>\n",
       "      <th>6</th>\n",
       "      <td>1000_6</td>\n",
       "      <td>2018-11-19</td>\n",
       "      <td>1000</td>\n",
       "    </tr>\n",
       "    <tr>\n",
       "      <th>7</th>\n",
       "      <td>1000_7</td>\n",
       "      <td>2018-10-29</td>\n",
       "      <td>1000</td>\n",
       "    </tr>\n",
       "    <tr>\n",
       "      <th>8</th>\n",
       "      <td>1000_8</td>\n",
       "      <td>2018-06-25</td>\n",
       "      <td>1000</td>\n",
       "    </tr>\n",
       "    <tr>\n",
       "      <th>9</th>\n",
       "      <td>1000_9</td>\n",
       "      <td>2018-12-18</td>\n",
       "      <td>1000</td>\n",
       "    </tr>\n",
       "  </tbody>\n",
       "</table>\n",
       "</div>"
      ],
      "text/plain": [
       "       id message_date  user_id\n",
       "0  1000_0   2018-06-27     1000\n",
       "1  1000_1   2018-10-08     1000\n",
       "2  1000_2   2018-08-04     1000\n",
       "3  1000_3   2018-06-16     1000\n",
       "4  1000_4   2018-12-05     1000\n",
       "5  1000_5   2018-06-20     1000\n",
       "6  1000_6   2018-11-19     1000\n",
       "7  1000_7   2018-10-29     1000\n",
       "8  1000_8   2018-06-25     1000\n",
       "9  1000_9   2018-12-18     1000"
      ]
     },
     "execution_count": 74,
     "metadata": {},
     "output_type": "execute_result"
    }
   ],
   "source": [
    "messages = pd.read_csv('messages.csv')\n",
    "messages.head(10)"
   ]
  },
  {
   "cell_type": "code",
   "execution_count": 75,
   "metadata": {},
   "outputs": [
    {
     "name": "stdout",
     "output_type": "stream",
     "text": [
      "<class 'pandas.core.frame.DataFrame'>\n",
      "RangeIndex: 123036 entries, 0 to 123035\n",
      "Data columns (total 3 columns):\n",
      " #   Column        Non-Null Count   Dtype \n",
      "---  ------        --------------   ----- \n",
      " 0   id            123036 non-null  object\n",
      " 1   message_date  123036 non-null  object\n",
      " 2   user_id       123036 non-null  int64 \n",
      "dtypes: int64(1), object(2)\n",
      "memory usage: 2.8+ MB\n"
     ]
    }
   ],
   "source": [
    "messages.info()"
   ]
  },
  {
   "cell_type": "markdown",
   "metadata": {},
   "source": [
    "Описание колонок таблицы `messages` согласно документации к данным:\n",
    "* `id` — уникальный номер сообщения\n",
    "* `message_date` — дата сообщения\n",
    "* `user_id` — идентификатор пользователя, отправившего сообщение"
   ]
  },
  {
   "cell_type": "code",
   "execution_count": 76,
   "metadata": {},
   "outputs": [
    {
     "data": {
      "text/html": [
       "<div>\n",
       "<style scoped>\n",
       "    .dataframe tbody tr th:only-of-type {\n",
       "        vertical-align: middle;\n",
       "    }\n",
       "\n",
       "    .dataframe tbody tr th {\n",
       "        vertical-align: top;\n",
       "    }\n",
       "\n",
       "    .dataframe thead th {\n",
       "        text-align: right;\n",
       "    }\n",
       "</style>\n",
       "<table border=\"1\" class=\"dataframe\">\n",
       "  <thead>\n",
       "    <tr style=\"text-align: right;\">\n",
       "      <th></th>\n",
       "      <th>id</th>\n",
       "      <th>mb_used</th>\n",
       "      <th>session_date</th>\n",
       "      <th>user_id</th>\n",
       "    </tr>\n",
       "  </thead>\n",
       "  <tbody>\n",
       "    <tr>\n",
       "      <th>0</th>\n",
       "      <td>1000_0</td>\n",
       "      <td>112.95</td>\n",
       "      <td>2018-11-25</td>\n",
       "      <td>1000</td>\n",
       "    </tr>\n",
       "    <tr>\n",
       "      <th>1</th>\n",
       "      <td>1000_1</td>\n",
       "      <td>1052.81</td>\n",
       "      <td>2018-09-07</td>\n",
       "      <td>1000</td>\n",
       "    </tr>\n",
       "    <tr>\n",
       "      <th>2</th>\n",
       "      <td>1000_2</td>\n",
       "      <td>1197.26</td>\n",
       "      <td>2018-06-25</td>\n",
       "      <td>1000</td>\n",
       "    </tr>\n",
       "    <tr>\n",
       "      <th>3</th>\n",
       "      <td>1000_3</td>\n",
       "      <td>550.27</td>\n",
       "      <td>2018-08-22</td>\n",
       "      <td>1000</td>\n",
       "    </tr>\n",
       "    <tr>\n",
       "      <th>4</th>\n",
       "      <td>1000_4</td>\n",
       "      <td>302.56</td>\n",
       "      <td>2018-09-24</td>\n",
       "      <td>1000</td>\n",
       "    </tr>\n",
       "    <tr>\n",
       "      <th>5</th>\n",
       "      <td>1000_5</td>\n",
       "      <td>399.97</td>\n",
       "      <td>2018-10-02</td>\n",
       "      <td>1000</td>\n",
       "    </tr>\n",
       "    <tr>\n",
       "      <th>6</th>\n",
       "      <td>1000_6</td>\n",
       "      <td>540.08</td>\n",
       "      <td>2018-09-07</td>\n",
       "      <td>1000</td>\n",
       "    </tr>\n",
       "    <tr>\n",
       "      <th>7</th>\n",
       "      <td>1000_7</td>\n",
       "      <td>415.70</td>\n",
       "      <td>2018-07-11</td>\n",
       "      <td>1000</td>\n",
       "    </tr>\n",
       "    <tr>\n",
       "      <th>8</th>\n",
       "      <td>1000_8</td>\n",
       "      <td>505.40</td>\n",
       "      <td>2018-10-08</td>\n",
       "      <td>1000</td>\n",
       "    </tr>\n",
       "    <tr>\n",
       "      <th>9</th>\n",
       "      <td>1000_9</td>\n",
       "      <td>345.54</td>\n",
       "      <td>2018-09-03</td>\n",
       "      <td>1000</td>\n",
       "    </tr>\n",
       "  </tbody>\n",
       "</table>\n",
       "</div>"
      ],
      "text/plain": [
       "       id  mb_used session_date  user_id\n",
       "0  1000_0   112.95   2018-11-25     1000\n",
       "1  1000_1  1052.81   2018-09-07     1000\n",
       "2  1000_2  1197.26   2018-06-25     1000\n",
       "3  1000_3   550.27   2018-08-22     1000\n",
       "4  1000_4   302.56   2018-09-24     1000\n",
       "5  1000_5   399.97   2018-10-02     1000\n",
       "6  1000_6   540.08   2018-09-07     1000\n",
       "7  1000_7   415.70   2018-07-11     1000\n",
       "8  1000_8   505.40   2018-10-08     1000\n",
       "9  1000_9   345.54   2018-09-03     1000"
      ]
     },
     "execution_count": 76,
     "metadata": {},
     "output_type": "execute_result"
    }
   ],
   "source": [
    "internet = pd.read_csv('internet.csv', index_col=0)\n",
    "internet.head(10)"
   ]
  },
  {
   "cell_type": "code",
   "execution_count": 77,
   "metadata": {},
   "outputs": [
    {
     "name": "stdout",
     "output_type": "stream",
     "text": [
      "<class 'pandas.core.frame.DataFrame'>\n",
      "Int64Index: 149396 entries, 0 to 149395\n",
      "Data columns (total 4 columns):\n",
      " #   Column        Non-Null Count   Dtype  \n",
      "---  ------        --------------   -----  \n",
      " 0   id            149396 non-null  object \n",
      " 1   mb_used       149396 non-null  float64\n",
      " 2   session_date  149396 non-null  object \n",
      " 3   user_id       149396 non-null  int64  \n",
      "dtypes: float64(1), int64(1), object(2)\n",
      "memory usage: 5.7+ MB\n"
     ]
    }
   ],
   "source": [
    "internet.info()"
   ]
  },
  {
   "cell_type": "markdown",
   "metadata": {},
   "source": [
    "Описание колонок таблицы `internet` согласно документации к данным:\n",
    "* `id` — уникальный номер сессии\n",
    "* `mb_used` — объём потраченного за сессию интернет-трафика (в мегабайтах)\n",
    "* `session_date` — дата интернет-сессии\n",
    "* `user_id` — идентификатор пользователя"
   ]
  },
  {
   "cell_type": "code",
   "execution_count": 78,
   "metadata": {},
   "outputs": [
    {
     "data": {
      "text/html": [
       "<div>\n",
       "<style scoped>\n",
       "    .dataframe tbody tr th:only-of-type {\n",
       "        vertical-align: middle;\n",
       "    }\n",
       "\n",
       "    .dataframe tbody tr th {\n",
       "        vertical-align: top;\n",
       "    }\n",
       "\n",
       "    .dataframe thead th {\n",
       "        text-align: right;\n",
       "    }\n",
       "</style>\n",
       "<table border=\"1\" class=\"dataframe\">\n",
       "  <thead>\n",
       "    <tr style=\"text-align: right;\">\n",
       "      <th></th>\n",
       "      <th>messages_included</th>\n",
       "      <th>mb_per_month_included</th>\n",
       "      <th>minutes_included</th>\n",
       "      <th>rub_monthly_fee</th>\n",
       "      <th>rub_per_gb</th>\n",
       "      <th>rub_per_message</th>\n",
       "      <th>rub_per_minute</th>\n",
       "      <th>tariff_name</th>\n",
       "    </tr>\n",
       "  </thead>\n",
       "  <tbody>\n",
       "    <tr>\n",
       "      <th>0</th>\n",
       "      <td>50</td>\n",
       "      <td>15360</td>\n",
       "      <td>500</td>\n",
       "      <td>550</td>\n",
       "      <td>200</td>\n",
       "      <td>3</td>\n",
       "      <td>3</td>\n",
       "      <td>smart</td>\n",
       "    </tr>\n",
       "    <tr>\n",
       "      <th>1</th>\n",
       "      <td>1000</td>\n",
       "      <td>30720</td>\n",
       "      <td>3000</td>\n",
       "      <td>1950</td>\n",
       "      <td>150</td>\n",
       "      <td>1</td>\n",
       "      <td>1</td>\n",
       "      <td>ultra</td>\n",
       "    </tr>\n",
       "  </tbody>\n",
       "</table>\n",
       "</div>"
      ],
      "text/plain": [
       "   messages_included  mb_per_month_included  minutes_included  \\\n",
       "0                 50                  15360               500   \n",
       "1               1000                  30720              3000   \n",
       "\n",
       "   rub_monthly_fee  rub_per_gb  rub_per_message  rub_per_minute tariff_name  \n",
       "0              550         200                3               3       smart  \n",
       "1             1950         150                1               1       ultra  "
      ]
     },
     "execution_count": 78,
     "metadata": {},
     "output_type": "execute_result"
    }
   ],
   "source": [
    "tariffs = pd.read_csv('tariffs.csv')\n",
    "tariffs"
   ]
  },
  {
   "cell_type": "markdown",
   "metadata": {},
   "source": [
    "Описание колонок таблицы `tariffs` согласно документации к данным:\n",
    "* `tariff_name` — название тарифа\n",
    "* `rub_monthly_fee` — ежемесячная абонентская плата в рублях\n",
    "* `minutes_included` — количество минут разговора в месяц, включённых в абонентскую плату\n",
    "* `messages_included` — количество сообщений в месяц, включённых в абонентскую плату\n",
    "* `mb_per_month_included` — объём интернет-трафика, включённого в абонентскую плату (в мегабайтах)\n",
    "* `rub_per_minute` — стоимость минуты разговора сверх тарифного пакета (например, если в тарифе 100 минут разговора в месяц, то со 101 минуты будет взиматься плата)\n",
    "* `rub_per_message` — стоимость отправки сообщения сверх тарифного пакета\n",
    "* `rub_per_gb` — стоимость дополнительного гигабайта интернет-трафика сверх тарифного пакета (1 гигабайт = 1024 мегабайта)"
   ]
  },
  {
   "cell_type": "markdown",
   "metadata": {},
   "source": [
    "**Вывод:**\n",
    "\n",
    "Получили данные в виде 5 таблиц в которых информация о пользователях, совершенных звонках, отправленных сообщениях, израсходованном интернет трафике и тарифах оператора. В дальнейшем изменим типы данных и подготовим таблицы для объединения в один датасет."
   ]
  },
  {
   "cell_type": "markdown",
   "metadata": {},
   "source": [
    "## Подготовка данных"
   ]
  },
  {
   "cell_type": "markdown",
   "metadata": {},
   "source": [
    "### Подготовка таблицы `users`"
   ]
  },
  {
   "cell_type": "markdown",
   "metadata": {},
   "source": [
    "Заменим тип данных в колонке `reg_date` таблицы `users` с типа `object` на тип `datetime64`:"
   ]
  },
  {
   "cell_type": "code",
   "execution_count": 79,
   "metadata": {},
   "outputs": [],
   "source": [
    "users['reg_date'] = pd.to_datetime(users['reg_date'], format = '%Y-%m-%d')"
   ]
  },
  {
   "cell_type": "markdown",
   "metadata": {},
   "source": [
    "### Подготовка таблицы `calls`"
   ]
  },
  {
   "cell_type": "markdown",
   "metadata": {},
   "source": [
    "Заменим тип данных в колонке `call_date` таблицы `calls` с типа `object` на тип `datetime64`:"
   ]
  },
  {
   "cell_type": "code",
   "execution_count": 80,
   "metadata": {},
   "outputs": [],
   "source": [
    "calls['call_date'] = pd.to_datetime(calls['call_date'], format = '%Y-%m-%d')"
   ]
  },
  {
   "cell_type": "markdown",
   "metadata": {},
   "source": [
    "Округлим длительность звонка `duration` до целых минут в большую сторону т.к. это предусмотренно оператором связи:"
   ]
  },
  {
   "cell_type": "code",
   "execution_count": 81,
   "metadata": {},
   "outputs": [],
   "source": [
    "calls['duration'] = np.ceil(calls['duration'])"
   ]
  },
  {
   "cell_type": "markdown",
   "metadata": {},
   "source": [
    "Заменим тип данных на `int64` в столбце `duration` "
   ]
  },
  {
   "cell_type": "code",
   "execution_count": 82,
   "metadata": {},
   "outputs": [],
   "source": [
    "calls = calls.astype({'duration':'int64'})"
   ]
  },
  {
   "cell_type": "markdown",
   "metadata": {},
   "source": [
    "Добавим в таблицу месяц в который совершен звонок:"
   ]
  },
  {
   "cell_type": "code",
   "execution_count": 83,
   "metadata": {},
   "outputs": [],
   "source": [
    "calls['month'] = pd.DatetimeIndex(calls['call_date']).month"
   ]
  },
  {
   "cell_type": "markdown",
   "metadata": {},
   "source": [
    "По условиям проекта нам нужно посчитать количество сделанных звонков и израсходованных минут разговора каждого пользователя по месяцам, для этого сгруппируем таблицу `calls` по `user_id` и `month_calls`:"
   ]
  },
  {
   "cell_type": "code",
   "execution_count": 84,
   "metadata": {},
   "outputs": [],
   "source": [
    "calls = calls.groupby(by = ['user_id','month'])['duration'].agg(['sum','count']).reset_index()"
   ]
  },
  {
   "cell_type": "markdown",
   "metadata": {},
   "source": [
    "Пеименуем столбцы получившейся таблицы:"
   ]
  },
  {
   "cell_type": "code",
   "execution_count": 85,
   "metadata": {},
   "outputs": [
    {
     "data": {
      "text/html": [
       "<div>\n",
       "<style scoped>\n",
       "    .dataframe tbody tr th:only-of-type {\n",
       "        vertical-align: middle;\n",
       "    }\n",
       "\n",
       "    .dataframe tbody tr th {\n",
       "        vertical-align: top;\n",
       "    }\n",
       "\n",
       "    .dataframe thead th {\n",
       "        text-align: right;\n",
       "    }\n",
       "</style>\n",
       "<table border=\"1\" class=\"dataframe\">\n",
       "  <thead>\n",
       "    <tr style=\"text-align: right;\">\n",
       "      <th></th>\n",
       "      <th>user_id</th>\n",
       "      <th>month</th>\n",
       "      <th>sum_duration</th>\n",
       "      <th>count_duration</th>\n",
       "    </tr>\n",
       "  </thead>\n",
       "  <tbody>\n",
       "    <tr>\n",
       "      <th>0</th>\n",
       "      <td>1000</td>\n",
       "      <td>5</td>\n",
       "      <td>159</td>\n",
       "      <td>22</td>\n",
       "    </tr>\n",
       "    <tr>\n",
       "      <th>1</th>\n",
       "      <td>1000</td>\n",
       "      <td>6</td>\n",
       "      <td>172</td>\n",
       "      <td>43</td>\n",
       "    </tr>\n",
       "    <tr>\n",
       "      <th>2</th>\n",
       "      <td>1000</td>\n",
       "      <td>7</td>\n",
       "      <td>340</td>\n",
       "      <td>47</td>\n",
       "    </tr>\n",
       "    <tr>\n",
       "      <th>3</th>\n",
       "      <td>1000</td>\n",
       "      <td>8</td>\n",
       "      <td>408</td>\n",
       "      <td>52</td>\n",
       "    </tr>\n",
       "    <tr>\n",
       "      <th>4</th>\n",
       "      <td>1000</td>\n",
       "      <td>9</td>\n",
       "      <td>466</td>\n",
       "      <td>58</td>\n",
       "    </tr>\n",
       "    <tr>\n",
       "      <th>...</th>\n",
       "      <td>...</td>\n",
       "      <td>...</td>\n",
       "      <td>...</td>\n",
       "      <td>...</td>\n",
       "    </tr>\n",
       "    <tr>\n",
       "      <th>3169</th>\n",
       "      <td>1498</td>\n",
       "      <td>10</td>\n",
       "      <td>247</td>\n",
       "      <td>41</td>\n",
       "    </tr>\n",
       "    <tr>\n",
       "      <th>3170</th>\n",
       "      <td>1499</td>\n",
       "      <td>9</td>\n",
       "      <td>70</td>\n",
       "      <td>9</td>\n",
       "    </tr>\n",
       "    <tr>\n",
       "      <th>3171</th>\n",
       "      <td>1499</td>\n",
       "      <td>10</td>\n",
       "      <td>449</td>\n",
       "      <td>68</td>\n",
       "    </tr>\n",
       "    <tr>\n",
       "      <th>3172</th>\n",
       "      <td>1499</td>\n",
       "      <td>11</td>\n",
       "      <td>612</td>\n",
       "      <td>74</td>\n",
       "    </tr>\n",
       "    <tr>\n",
       "      <th>3173</th>\n",
       "      <td>1499</td>\n",
       "      <td>12</td>\n",
       "      <td>492</td>\n",
       "      <td>69</td>\n",
       "    </tr>\n",
       "  </tbody>\n",
       "</table>\n",
       "<p>3174 rows × 4 columns</p>\n",
       "</div>"
      ],
      "text/plain": [
       "      user_id  month  sum_duration  count_duration\n",
       "0        1000      5           159              22\n",
       "1        1000      6           172              43\n",
       "2        1000      7           340              47\n",
       "3        1000      8           408              52\n",
       "4        1000      9           466              58\n",
       "...       ...    ...           ...             ...\n",
       "3169     1498     10           247              41\n",
       "3170     1499      9            70               9\n",
       "3171     1499     10           449              68\n",
       "3172     1499     11           612              74\n",
       "3173     1499     12           492              69\n",
       "\n",
       "[3174 rows x 4 columns]"
      ]
     },
     "execution_count": 85,
     "metadata": {},
     "output_type": "execute_result"
    }
   ],
   "source": [
    "calls.rename(columns = {'sum' : 'sum_duration', 'count' : 'count_duration'}, inplace = True)\n",
    "calls"
   ]
  },
  {
   "cell_type": "markdown",
   "metadata": {},
   "source": [
    "### Подготовка таблицы `messages`"
   ]
  },
  {
   "cell_type": "markdown",
   "metadata": {},
   "source": [
    "Заменим тип данных в колонке `message_date` таблицы `messages` с типа `object` на тип `datetime64`:"
   ]
  },
  {
   "cell_type": "code",
   "execution_count": 86,
   "metadata": {},
   "outputs": [],
   "source": [
    "messages['message_date'] = messages['message_date'].astype('datetime64')"
   ]
  },
  {
   "cell_type": "markdown",
   "metadata": {},
   "source": [
    "Добавим в таблицу месяц в который отправленно сообщение:"
   ]
  },
  {
   "cell_type": "code",
   "execution_count": 87,
   "metadata": {},
   "outputs": [],
   "source": [
    "messages['month'] = pd.DatetimeIndex(messages['message_date']).month"
   ]
  },
  {
   "cell_type": "markdown",
   "metadata": {},
   "source": [
    "По условиям проекта нам нужно посчитать количество отправленных сообщений каждого пользователя по месяцам, для этого сгруппируем таблицу `messages` по `user_id` и `month_message`:"
   ]
  },
  {
   "cell_type": "code",
   "execution_count": 88,
   "metadata": {},
   "outputs": [],
   "source": [
    "messages = messages.groupby(by = ['user_id', 'month'])['id'].count().reset_index()"
   ]
  },
  {
   "cell_type": "markdown",
   "metadata": {},
   "source": [
    "Переименуем столбцы получившейся таблицы:"
   ]
  },
  {
   "cell_type": "code",
   "execution_count": 89,
   "metadata": {},
   "outputs": [
    {
     "data": {
      "text/html": [
       "<div>\n",
       "<style scoped>\n",
       "    .dataframe tbody tr th:only-of-type {\n",
       "        vertical-align: middle;\n",
       "    }\n",
       "\n",
       "    .dataframe tbody tr th {\n",
       "        vertical-align: top;\n",
       "    }\n",
       "\n",
       "    .dataframe thead th {\n",
       "        text-align: right;\n",
       "    }\n",
       "</style>\n",
       "<table border=\"1\" class=\"dataframe\">\n",
       "  <thead>\n",
       "    <tr style=\"text-align: right;\">\n",
       "      <th></th>\n",
       "      <th>user_id</th>\n",
       "      <th>month</th>\n",
       "      <th>count_message</th>\n",
       "    </tr>\n",
       "  </thead>\n",
       "  <tbody>\n",
       "    <tr>\n",
       "      <th>0</th>\n",
       "      <td>1000</td>\n",
       "      <td>5</td>\n",
       "      <td>22</td>\n",
       "    </tr>\n",
       "    <tr>\n",
       "      <th>1</th>\n",
       "      <td>1000</td>\n",
       "      <td>6</td>\n",
       "      <td>60</td>\n",
       "    </tr>\n",
       "    <tr>\n",
       "      <th>2</th>\n",
       "      <td>1000</td>\n",
       "      <td>7</td>\n",
       "      <td>75</td>\n",
       "    </tr>\n",
       "    <tr>\n",
       "      <th>3</th>\n",
       "      <td>1000</td>\n",
       "      <td>8</td>\n",
       "      <td>81</td>\n",
       "    </tr>\n",
       "    <tr>\n",
       "      <th>4</th>\n",
       "      <td>1000</td>\n",
       "      <td>9</td>\n",
       "      <td>57</td>\n",
       "    </tr>\n",
       "    <tr>\n",
       "      <th>...</th>\n",
       "      <td>...</td>\n",
       "      <td>...</td>\n",
       "      <td>...</td>\n",
       "    </tr>\n",
       "    <tr>\n",
       "      <th>2712</th>\n",
       "      <td>1498</td>\n",
       "      <td>10</td>\n",
       "      <td>42</td>\n",
       "    </tr>\n",
       "    <tr>\n",
       "      <th>2713</th>\n",
       "      <td>1499</td>\n",
       "      <td>9</td>\n",
       "      <td>11</td>\n",
       "    </tr>\n",
       "    <tr>\n",
       "      <th>2714</th>\n",
       "      <td>1499</td>\n",
       "      <td>10</td>\n",
       "      <td>48</td>\n",
       "    </tr>\n",
       "    <tr>\n",
       "      <th>2715</th>\n",
       "      <td>1499</td>\n",
       "      <td>11</td>\n",
       "      <td>59</td>\n",
       "    </tr>\n",
       "    <tr>\n",
       "      <th>2716</th>\n",
       "      <td>1499</td>\n",
       "      <td>12</td>\n",
       "      <td>66</td>\n",
       "    </tr>\n",
       "  </tbody>\n",
       "</table>\n",
       "<p>2717 rows × 3 columns</p>\n",
       "</div>"
      ],
      "text/plain": [
       "      user_id  month  count_message\n",
       "0        1000      5             22\n",
       "1        1000      6             60\n",
       "2        1000      7             75\n",
       "3        1000      8             81\n",
       "4        1000      9             57\n",
       "...       ...    ...            ...\n",
       "2712     1498     10             42\n",
       "2713     1499      9             11\n",
       "2714     1499     10             48\n",
       "2715     1499     11             59\n",
       "2716     1499     12             66\n",
       "\n",
       "[2717 rows x 3 columns]"
      ]
     },
     "execution_count": 89,
     "metadata": {},
     "output_type": "execute_result"
    }
   ],
   "source": [
    "messages.rename(columns = {'id':'count_message'}, inplace = True)\n",
    "messages"
   ]
  },
  {
   "cell_type": "markdown",
   "metadata": {},
   "source": [
    "### Подготовка таблицы `internet`"
   ]
  },
  {
   "cell_type": "markdown",
   "metadata": {},
   "source": [
    "Заменим тип данных в колонке `session_date` таблицы `internet` с типа `object` на тип `datetime64`:"
   ]
  },
  {
   "cell_type": "code",
   "execution_count": 90,
   "metadata": {},
   "outputs": [],
   "source": [
    "internet['session_date'] = internet['session_date'].astype('datetime64')"
   ]
  },
  {
   "cell_type": "markdown",
   "metadata": {},
   "source": [
    "Добавим в таблицу месяц в который происходила сессия:"
   ]
  },
  {
   "cell_type": "code",
   "execution_count": 91,
   "metadata": {},
   "outputs": [],
   "source": [
    "internet['month'] = pd.DatetimeIndex(internet['session_date']).month"
   ]
  },
  {
   "cell_type": "markdown",
   "metadata": {},
   "source": [
    "По условиям проекта нам нужно посчитать объем израсходованного интернет-трафика каждого пользователя по месяцам, для этого сгруппируем таблицу `internet` по `user_id` и `month_session`:"
   ]
  },
  {
   "cell_type": "code",
   "execution_count": 92,
   "metadata": {},
   "outputs": [
    {
     "data": {
      "text/html": [
       "<div>\n",
       "<style scoped>\n",
       "    .dataframe tbody tr th:only-of-type {\n",
       "        vertical-align: middle;\n",
       "    }\n",
       "\n",
       "    .dataframe tbody tr th {\n",
       "        vertical-align: top;\n",
       "    }\n",
       "\n",
       "    .dataframe thead th {\n",
       "        text-align: right;\n",
       "    }\n",
       "</style>\n",
       "<table border=\"1\" class=\"dataframe\">\n",
       "  <thead>\n",
       "    <tr style=\"text-align: right;\">\n",
       "      <th></th>\n",
       "      <th>user_id</th>\n",
       "      <th>month</th>\n",
       "      <th>mb_used</th>\n",
       "    </tr>\n",
       "  </thead>\n",
       "  <tbody>\n",
       "    <tr>\n",
       "      <th>0</th>\n",
       "      <td>1000</td>\n",
       "      <td>5</td>\n",
       "      <td>2253.49</td>\n",
       "    </tr>\n",
       "    <tr>\n",
       "      <th>1</th>\n",
       "      <td>1000</td>\n",
       "      <td>6</td>\n",
       "      <td>23233.77</td>\n",
       "    </tr>\n",
       "    <tr>\n",
       "      <th>2</th>\n",
       "      <td>1000</td>\n",
       "      <td>7</td>\n",
       "      <td>14003.64</td>\n",
       "    </tr>\n",
       "    <tr>\n",
       "      <th>3</th>\n",
       "      <td>1000</td>\n",
       "      <td>8</td>\n",
       "      <td>14055.93</td>\n",
       "    </tr>\n",
       "    <tr>\n",
       "      <th>4</th>\n",
       "      <td>1000</td>\n",
       "      <td>9</td>\n",
       "      <td>14568.91</td>\n",
       "    </tr>\n",
       "    <tr>\n",
       "      <th>...</th>\n",
       "      <td>...</td>\n",
       "      <td>...</td>\n",
       "      <td>...</td>\n",
       "    </tr>\n",
       "    <tr>\n",
       "      <th>3198</th>\n",
       "      <td>1498</td>\n",
       "      <td>10</td>\n",
       "      <td>20579.36</td>\n",
       "    </tr>\n",
       "    <tr>\n",
       "      <th>3199</th>\n",
       "      <td>1499</td>\n",
       "      <td>9</td>\n",
       "      <td>1845.75</td>\n",
       "    </tr>\n",
       "    <tr>\n",
       "      <th>3200</th>\n",
       "      <td>1499</td>\n",
       "      <td>10</td>\n",
       "      <td>17788.51</td>\n",
       "    </tr>\n",
       "    <tr>\n",
       "      <th>3201</th>\n",
       "      <td>1499</td>\n",
       "      <td>11</td>\n",
       "      <td>17963.31</td>\n",
       "    </tr>\n",
       "    <tr>\n",
       "      <th>3202</th>\n",
       "      <td>1499</td>\n",
       "      <td>12</td>\n",
       "      <td>13055.58</td>\n",
       "    </tr>\n",
       "  </tbody>\n",
       "</table>\n",
       "<p>3203 rows × 3 columns</p>\n",
       "</div>"
      ],
      "text/plain": [
       "      user_id  month   mb_used\n",
       "0        1000      5   2253.49\n",
       "1        1000      6  23233.77\n",
       "2        1000      7  14003.64\n",
       "3        1000      8  14055.93\n",
       "4        1000      9  14568.91\n",
       "...       ...    ...       ...\n",
       "3198     1498     10  20579.36\n",
       "3199     1499      9   1845.75\n",
       "3200     1499     10  17788.51\n",
       "3201     1499     11  17963.31\n",
       "3202     1499     12  13055.58\n",
       "\n",
       "[3203 rows x 3 columns]"
      ]
     },
     "execution_count": 92,
     "metadata": {},
     "output_type": "execute_result"
    }
   ],
   "source": [
    "internet = internet.groupby(by = ['user_id', 'month'])['mb_used'].sum().reset_index()\n",
    "internet"
   ]
  },
  {
   "cell_type": "markdown",
   "metadata": {},
   "source": [
    "### Обьединение таблиц:"
   ]
  },
  {
   "cell_type": "markdown",
   "metadata": {},
   "source": [
    "Обьединим таблицы `calls`, `messages` и `internet` в один датафрейм по столбцам `user_id` и `user_id`. Результат сохраним в переменную `df`:"
   ]
  },
  {
   "cell_type": "code",
   "execution_count": 93,
   "metadata": {},
   "outputs": [],
   "source": [
    "df = calls.merge(messages, on = ['user_id', 'month'], how='outer')\n",
    "df = df.merge(internet, on = ['user_id', 'month'], how='outer')"
   ]
  },
  {
   "cell_type": "markdown",
   "metadata": {},
   "source": [
    "Обьединим даблицы `users` и `tariffs` в один датафрейм, результат сохраним в переменной `df1`:"
   ]
  },
  {
   "cell_type": "code",
   "execution_count": 94,
   "metadata": {},
   "outputs": [],
   "source": [
    "# переименуем колонку tariff_name в tariff для дальнейшего объединения\n",
    "tariffs.rename(columns = {'tariff_name':'tariff'}, inplace = True) "
   ]
  },
  {
   "cell_type": "code",
   "execution_count": 95,
   "metadata": {
    "scrolled": true
   },
   "outputs": [],
   "source": [
    "df1 = users.merge(tariffs, on = 'tariff', how='outer')"
   ]
  },
  {
   "cell_type": "markdown",
   "metadata": {},
   "source": [
    "Обьедимим таблицы `df1` и `df` по столбцу `user_id` и сохраним в `df`, в результате у нас получится один датафрейм в котором есть все необходимые данные для дальнейших рассчетов и анализа."
   ]
  },
  {
   "cell_type": "code",
   "execution_count": 96,
   "metadata": {
    "scrolled": true
   },
   "outputs": [],
   "source": [
    "df = df1.merge(df, on = 'user_id', how='outer')"
   ]
  },
  {
   "cell_type": "markdown",
   "metadata": {},
   "source": [
    "Заменим типы данных некоторых столбцов таблицы `df` c `float64` на `Int64`:"
   ]
  },
  {
   "cell_type": "code",
   "execution_count": 97,
   "metadata": {},
   "outputs": [],
   "source": [
    "df = df.astype({'month':'Int64',\n",
    "                'sum_duration':'Int64',\n",
    "                'count_duration':'Int64',\n",
    "                'count_message':'Int64'}\n",
    ")"
   ]
  },
  {
   "cell_type": "code",
   "execution_count": 98,
   "metadata": {
    "scrolled": true
   },
   "outputs": [
    {
     "data": {
      "text/html": [
       "<div>\n",
       "<style scoped>\n",
       "    .dataframe tbody tr th:only-of-type {\n",
       "        vertical-align: middle;\n",
       "    }\n",
       "\n",
       "    .dataframe tbody tr th {\n",
       "        vertical-align: top;\n",
       "    }\n",
       "\n",
       "    .dataframe thead th {\n",
       "        text-align: right;\n",
       "    }\n",
       "</style>\n",
       "<table border=\"1\" class=\"dataframe\">\n",
       "  <thead>\n",
       "    <tr style=\"text-align: right;\">\n",
       "      <th></th>\n",
       "      <th>user_id</th>\n",
       "      <th>age</th>\n",
       "      <th>churn_date</th>\n",
       "      <th>city</th>\n",
       "      <th>first_name</th>\n",
       "      <th>last_name</th>\n",
       "      <th>reg_date</th>\n",
       "      <th>tariff</th>\n",
       "      <th>messages_included</th>\n",
       "      <th>mb_per_month_included</th>\n",
       "      <th>minutes_included</th>\n",
       "      <th>rub_monthly_fee</th>\n",
       "      <th>rub_per_gb</th>\n",
       "      <th>rub_per_message</th>\n",
       "      <th>rub_per_minute</th>\n",
       "      <th>month</th>\n",
       "      <th>sum_duration</th>\n",
       "      <th>count_duration</th>\n",
       "      <th>count_message</th>\n",
       "      <th>mb_used</th>\n",
       "    </tr>\n",
       "  </thead>\n",
       "  <tbody>\n",
       "    <tr>\n",
       "      <th>0</th>\n",
       "      <td>1000</td>\n",
       "      <td>52</td>\n",
       "      <td>NaN</td>\n",
       "      <td>Краснодар</td>\n",
       "      <td>Рафаил</td>\n",
       "      <td>Верещагин</td>\n",
       "      <td>2018-05-25</td>\n",
       "      <td>ultra</td>\n",
       "      <td>1000</td>\n",
       "      <td>30720</td>\n",
       "      <td>3000</td>\n",
       "      <td>1950</td>\n",
       "      <td>150</td>\n",
       "      <td>1</td>\n",
       "      <td>1</td>\n",
       "      <td>5</td>\n",
       "      <td>159</td>\n",
       "      <td>22</td>\n",
       "      <td>22</td>\n",
       "      <td>2253.49</td>\n",
       "    </tr>\n",
       "    <tr>\n",
       "      <th>1</th>\n",
       "      <td>1000</td>\n",
       "      <td>52</td>\n",
       "      <td>NaN</td>\n",
       "      <td>Краснодар</td>\n",
       "      <td>Рафаил</td>\n",
       "      <td>Верещагин</td>\n",
       "      <td>2018-05-25</td>\n",
       "      <td>ultra</td>\n",
       "      <td>1000</td>\n",
       "      <td>30720</td>\n",
       "      <td>3000</td>\n",
       "      <td>1950</td>\n",
       "      <td>150</td>\n",
       "      <td>1</td>\n",
       "      <td>1</td>\n",
       "      <td>6</td>\n",
       "      <td>172</td>\n",
       "      <td>43</td>\n",
       "      <td>60</td>\n",
       "      <td>23233.77</td>\n",
       "    </tr>\n",
       "    <tr>\n",
       "      <th>2</th>\n",
       "      <td>1000</td>\n",
       "      <td>52</td>\n",
       "      <td>NaN</td>\n",
       "      <td>Краснодар</td>\n",
       "      <td>Рафаил</td>\n",
       "      <td>Верещагин</td>\n",
       "      <td>2018-05-25</td>\n",
       "      <td>ultra</td>\n",
       "      <td>1000</td>\n",
       "      <td>30720</td>\n",
       "      <td>3000</td>\n",
       "      <td>1950</td>\n",
       "      <td>150</td>\n",
       "      <td>1</td>\n",
       "      <td>1</td>\n",
       "      <td>7</td>\n",
       "      <td>340</td>\n",
       "      <td>47</td>\n",
       "      <td>75</td>\n",
       "      <td>14003.64</td>\n",
       "    </tr>\n",
       "    <tr>\n",
       "      <th>3</th>\n",
       "      <td>1000</td>\n",
       "      <td>52</td>\n",
       "      <td>NaN</td>\n",
       "      <td>Краснодар</td>\n",
       "      <td>Рафаил</td>\n",
       "      <td>Верещагин</td>\n",
       "      <td>2018-05-25</td>\n",
       "      <td>ultra</td>\n",
       "      <td>1000</td>\n",
       "      <td>30720</td>\n",
       "      <td>3000</td>\n",
       "      <td>1950</td>\n",
       "      <td>150</td>\n",
       "      <td>1</td>\n",
       "      <td>1</td>\n",
       "      <td>8</td>\n",
       "      <td>408</td>\n",
       "      <td>52</td>\n",
       "      <td>81</td>\n",
       "      <td>14055.93</td>\n",
       "    </tr>\n",
       "    <tr>\n",
       "      <th>4</th>\n",
       "      <td>1000</td>\n",
       "      <td>52</td>\n",
       "      <td>NaN</td>\n",
       "      <td>Краснодар</td>\n",
       "      <td>Рафаил</td>\n",
       "      <td>Верещагин</td>\n",
       "      <td>2018-05-25</td>\n",
       "      <td>ultra</td>\n",
       "      <td>1000</td>\n",
       "      <td>30720</td>\n",
       "      <td>3000</td>\n",
       "      <td>1950</td>\n",
       "      <td>150</td>\n",
       "      <td>1</td>\n",
       "      <td>1</td>\n",
       "      <td>9</td>\n",
       "      <td>466</td>\n",
       "      <td>58</td>\n",
       "      <td>57</td>\n",
       "      <td>14568.91</td>\n",
       "    </tr>\n",
       "    <tr>\n",
       "      <th>5</th>\n",
       "      <td>1000</td>\n",
       "      <td>52</td>\n",
       "      <td>NaN</td>\n",
       "      <td>Краснодар</td>\n",
       "      <td>Рафаил</td>\n",
       "      <td>Верещагин</td>\n",
       "      <td>2018-05-25</td>\n",
       "      <td>ultra</td>\n",
       "      <td>1000</td>\n",
       "      <td>30720</td>\n",
       "      <td>3000</td>\n",
       "      <td>1950</td>\n",
       "      <td>150</td>\n",
       "      <td>1</td>\n",
       "      <td>1</td>\n",
       "      <td>10</td>\n",
       "      <td>350</td>\n",
       "      <td>57</td>\n",
       "      <td>73</td>\n",
       "      <td>14702.49</td>\n",
       "    </tr>\n",
       "    <tr>\n",
       "      <th>6</th>\n",
       "      <td>1000</td>\n",
       "      <td>52</td>\n",
       "      <td>NaN</td>\n",
       "      <td>Краснодар</td>\n",
       "      <td>Рафаил</td>\n",
       "      <td>Верещагин</td>\n",
       "      <td>2018-05-25</td>\n",
       "      <td>ultra</td>\n",
       "      <td>1000</td>\n",
       "      <td>30720</td>\n",
       "      <td>3000</td>\n",
       "      <td>1950</td>\n",
       "      <td>150</td>\n",
       "      <td>1</td>\n",
       "      <td>1</td>\n",
       "      <td>11</td>\n",
       "      <td>338</td>\n",
       "      <td>43</td>\n",
       "      <td>58</td>\n",
       "      <td>14756.47</td>\n",
       "    </tr>\n",
       "    <tr>\n",
       "      <th>7</th>\n",
       "      <td>1000</td>\n",
       "      <td>52</td>\n",
       "      <td>NaN</td>\n",
       "      <td>Краснодар</td>\n",
       "      <td>Рафаил</td>\n",
       "      <td>Верещагин</td>\n",
       "      <td>2018-05-25</td>\n",
       "      <td>ultra</td>\n",
       "      <td>1000</td>\n",
       "      <td>30720</td>\n",
       "      <td>3000</td>\n",
       "      <td>1950</td>\n",
       "      <td>150</td>\n",
       "      <td>1</td>\n",
       "      <td>1</td>\n",
       "      <td>12</td>\n",
       "      <td>333</td>\n",
       "      <td>46</td>\n",
       "      <td>70</td>\n",
       "      <td>9817.61</td>\n",
       "    </tr>\n",
       "    <tr>\n",
       "      <th>8</th>\n",
       "      <td>1003</td>\n",
       "      <td>23</td>\n",
       "      <td>NaN</td>\n",
       "      <td>Москва</td>\n",
       "      <td>Белла</td>\n",
       "      <td>Белякова</td>\n",
       "      <td>2018-08-17</td>\n",
       "      <td>ultra</td>\n",
       "      <td>1000</td>\n",
       "      <td>30720</td>\n",
       "      <td>3000</td>\n",
       "      <td>1950</td>\n",
       "      <td>150</td>\n",
       "      <td>1</td>\n",
       "      <td>1</td>\n",
       "      <td>8</td>\n",
       "      <td>380</td>\n",
       "      <td>55</td>\n",
       "      <td>37</td>\n",
       "      <td>8565.21</td>\n",
       "    </tr>\n",
       "    <tr>\n",
       "      <th>9</th>\n",
       "      <td>1003</td>\n",
       "      <td>23</td>\n",
       "      <td>NaN</td>\n",
       "      <td>Москва</td>\n",
       "      <td>Белла</td>\n",
       "      <td>Белякова</td>\n",
       "      <td>2018-08-17</td>\n",
       "      <td>ultra</td>\n",
       "      <td>1000</td>\n",
       "      <td>30720</td>\n",
       "      <td>3000</td>\n",
       "      <td>1950</td>\n",
       "      <td>150</td>\n",
       "      <td>1</td>\n",
       "      <td>1</td>\n",
       "      <td>9</td>\n",
       "      <td>961</td>\n",
       "      <td>134</td>\n",
       "      <td>91</td>\n",
       "      <td>12468.87</td>\n",
       "    </tr>\n",
       "  </tbody>\n",
       "</table>\n",
       "</div>"
      ],
      "text/plain": [
       "   user_id  age churn_date       city first_name  last_name   reg_date tariff  \\\n",
       "0     1000   52        NaN  Краснодар     Рафаил  Верещагин 2018-05-25  ultra   \n",
       "1     1000   52        NaN  Краснодар     Рафаил  Верещагин 2018-05-25  ultra   \n",
       "2     1000   52        NaN  Краснодар     Рафаил  Верещагин 2018-05-25  ultra   \n",
       "3     1000   52        NaN  Краснодар     Рафаил  Верещагин 2018-05-25  ultra   \n",
       "4     1000   52        NaN  Краснодар     Рафаил  Верещагин 2018-05-25  ultra   \n",
       "5     1000   52        NaN  Краснодар     Рафаил  Верещагин 2018-05-25  ultra   \n",
       "6     1000   52        NaN  Краснодар     Рафаил  Верещагин 2018-05-25  ultra   \n",
       "7     1000   52        NaN  Краснодар     Рафаил  Верещагин 2018-05-25  ultra   \n",
       "8     1003   23        NaN     Москва      Белла   Белякова 2018-08-17  ultra   \n",
       "9     1003   23        NaN     Москва      Белла   Белякова 2018-08-17  ultra   \n",
       "\n",
       "   messages_included  mb_per_month_included  minutes_included  \\\n",
       "0               1000                  30720              3000   \n",
       "1               1000                  30720              3000   \n",
       "2               1000                  30720              3000   \n",
       "3               1000                  30720              3000   \n",
       "4               1000                  30720              3000   \n",
       "5               1000                  30720              3000   \n",
       "6               1000                  30720              3000   \n",
       "7               1000                  30720              3000   \n",
       "8               1000                  30720              3000   \n",
       "9               1000                  30720              3000   \n",
       "\n",
       "   rub_monthly_fee  rub_per_gb  rub_per_message  rub_per_minute  month  \\\n",
       "0             1950         150                1               1      5   \n",
       "1             1950         150                1               1      6   \n",
       "2             1950         150                1               1      7   \n",
       "3             1950         150                1               1      8   \n",
       "4             1950         150                1               1      9   \n",
       "5             1950         150                1               1     10   \n",
       "6             1950         150                1               1     11   \n",
       "7             1950         150                1               1     12   \n",
       "8             1950         150                1               1      8   \n",
       "9             1950         150                1               1      9   \n",
       "\n",
       "   sum_duration  count_duration  count_message   mb_used  \n",
       "0           159              22             22   2253.49  \n",
       "1           172              43             60  23233.77  \n",
       "2           340              47             75  14003.64  \n",
       "3           408              52             81  14055.93  \n",
       "4           466              58             57  14568.91  \n",
       "5           350              57             73  14702.49  \n",
       "6           338              43             58  14756.47  \n",
       "7           333              46             70   9817.61  \n",
       "8           380              55             37   8565.21  \n",
       "9           961             134             91  12468.87  "
      ]
     },
     "execution_count": 98,
     "metadata": {},
     "output_type": "execute_result"
    }
   ],
   "source": [
    "df.head(10) # выведем на экран итоговую таблицу"
   ]
  },
  {
   "cell_type": "markdown",
   "metadata": {},
   "source": [
    "Описание колонок таблицы `df`:\n",
    "* `user_id` — уникальный идентификатор пользователя\n",
    "* `age` — возраст пользователя (годы)\n",
    "* `churn_date` — дата прекращения пользования тарифом (если значение пропущено, то тариф ещё действовал на момент выгрузки данных)\n",
    "* `city` — город проживания пользователя\n",
    "* `first_name` — имя пользователя\n",
    "* `last_name` — фамилия пользователя\n",
    "* `reg_date` — дата подключения тарифа (день, месяц, год)\n",
    "* `tariff` — название тарифного плана\n",
    "* `messages_included` — количество сообщений в месяц, включённых в абонентскую плату\n",
    "* `mb_per_month_included` — объём интернет-трафика, включённого в абонентскую плату (в мегабайтах)\n",
    "* `minutes_included` — количество минут разговора в месяц, включённых в абонентскую плату\n",
    "* `rub_monthly_fee` — ежемесячная абонентская плата в рублях\n",
    "* `rub_per_gb` — стоимость дополнительного гигабайта интернет-трафика сверх тарифного пакета (1 гигабайт = 1024 мегабайта)\n",
    "* `rub_per_message` — стоимость отправки сообщения сверх тарифного пакета\n",
    "* `rub_per_minute` — стоимость минуты разговора сверх тарифного пакета (например, если в тарифе 100 минут разговора в месяц, то со 101 минуты будет взиматься плата)\n",
    "* `month` — месяц\n",
    "* `sum_duration` — длительность звонков в минутах за месяц\n",
    "* `count_duration` — колличество звонков за месяц\n",
    "* `count_message` — колличество сообщений за месяц\n",
    "* `mb_used` — объём потраченного за месяц интернет-трафика (в мегабайтах)"
   ]
  },
  {
   "cell_type": "markdown",
   "metadata": {},
   "source": [
    "###  Рассчет помесечной выручки с каждого пользователя"
   ]
  },
  {
   "cell_type": "markdown",
   "metadata": {},
   "source": [
    "Переведём израсходованный трафик из мегабайты в гигабайты, округлим до целых значений в большую сторону(по условиям оператора) и сохраним результат в новой колонке `gb_used`:"
   ]
  },
  {
   "cell_type": "code",
   "execution_count": 99,
   "metadata": {},
   "outputs": [],
   "source": [
    "df['gb_used'] = df['mb_used']/1024\n",
    "df['gb_used'] = np.ceil(df['gb_used'])"
   ]
  },
  {
   "cell_type": "markdown",
   "metadata": {},
   "source": [
    "Переведём объём интернет-трафика, включённого в абонентскую плату из мегабайт в гигабайты и сохраним результат в новой колонке `gb_per_month_included`:"
   ]
  },
  {
   "cell_type": "code",
   "execution_count": 100,
   "metadata": {},
   "outputs": [],
   "source": [
    "df['gb_per_month_included'] = df['mb_per_month_included']/1024"
   ]
  },
  {
   "cell_type": "markdown",
   "metadata": {},
   "source": [
    "Замена типов данных:"
   ]
  },
  {
   "cell_type": "code",
   "execution_count": 101,
   "metadata": {},
   "outputs": [],
   "source": [
    "df = df.astype({'gb_per_month_included':'int64', 'gb_used':'Int64'})"
   ]
  },
  {
   "cell_type": "code",
   "execution_count": 102,
   "metadata": {},
   "outputs": [],
   "source": [
    "pd.set_option('display.max_columns', None) # команда для отображения всех колонок в таблицах"
   ]
  },
  {
   "cell_type": "markdown",
   "metadata": {},
   "source": [
    "Напишем функцию для рассчета помесечной выручки с каждого пользователя\n",
    "\n",
    "Для корректной работы функции заполним пропущенные значения:"
   ]
  },
  {
   "cell_type": "code",
   "execution_count": 103,
   "metadata": {},
   "outputs": [],
   "source": [
    "df['sum_duration'] = df['sum_duration'].fillna(0)\n",
    "df['count_message'] = df['count_message'].fillna(0)\n",
    "df['gb_used'] = df['gb_used'].fillna(0)"
   ]
  },
  {
   "cell_type": "code",
   "execution_count": 104,
   "metadata": {},
   "outputs": [],
   "source": [
    "def income(row):\n",
    "    calls = 0\n",
    "    messages = 0\n",
    "    internet = 0\n",
    "    if (row['sum_duration'] - row['minutes_included']) <= 0:\n",
    "        calls = 0\n",
    "    elif (row['sum_duration'] - row['minutes_included']) > 0:\n",
    "        calls = row['sum_duration'] - row['minutes_included']\n",
    "    \n",
    "    if (row['count_message'] - row['messages_included']) <= 0:\n",
    "        messages = 0\n",
    "    elif (row['count_message'] - row['messages_included']) > 0:\n",
    "        messages = row['count_message'] - row['messages_included']\n",
    "        \n",
    "    if (row['gb_used'] - row['gb_per_month_included']) <= 0:\n",
    "        internet = 0\n",
    "    elif (row['gb_used'] - row['gb_per_month_included']) > 0:\n",
    "        internet = row['gb_used'] - row['gb_per_month_included']\n",
    "        \n",
    "    result = ((row['rub_per_minute'] * calls) \n",
    "    + (row['rub_per_message'] * messages) \n",
    "    + (row['rub_per_gb'] * internet)\n",
    "    + (row['rub_monthly_fee']))\n",
    "    \n",
    "    return result\n",
    "        "
   ]
  },
  {
   "cell_type": "markdown",
   "metadata": {},
   "source": [
    "Применим функцию для всех строк датасета:"
   ]
  },
  {
   "cell_type": "code",
   "execution_count": 105,
   "metadata": {},
   "outputs": [],
   "source": [
    "df['income'] = df.apply(income, axis =1)"
   ]
  },
  {
   "cell_type": "markdown",
   "metadata": {},
   "source": [
    "**Вывод:**\n",
    "\n",
    "Сгруппировали таблицы с трафиком по пользователям и месяцам в которые этот трафик расходовался и обьединили эти данные в один датасет, а так же произвели рассчет помесечной выручки с каждого пользователя."
   ]
  },
  {
   "cell_type": "markdown",
   "metadata": {},
   "source": [
    "## Анализ данных"
   ]
  },
  {
   "cell_type": "markdown",
   "metadata": {},
   "source": [
    "### Анализ потраченных минут по месяцам."
   ]
  },
  {
   "cell_type": "markdown",
   "metadata": {},
   "source": [
    "С помощью фильтра создадим две таблицы `df_ultra` и `df_smart` с разными тарифами:"
   ]
  },
  {
   "cell_type": "code",
   "execution_count": 106,
   "metadata": {},
   "outputs": [],
   "source": [
    "df_ultra = df.query('tariff == \"ultra\"')\n",
    "df_smart = df.query('tariff == \"smart\"')"
   ]
  },
  {
   "cell_type": "markdown",
   "metadata": {},
   "source": [
    "**Тариф `ultra`**"
   ]
  },
  {
   "cell_type": "markdown",
   "metadata": {},
   "source": [
    "Подсчёт среднего, дисперсии, стандартного отклонения для потраченных минут по месяцам:"
   ]
  },
  {
   "cell_type": "code",
   "execution_count": 107,
   "metadata": {},
   "outputs": [
    {
     "data": {
      "text/html": [
       "<div>\n",
       "<style scoped>\n",
       "    .dataframe tbody tr th:only-of-type {\n",
       "        vertical-align: middle;\n",
       "    }\n",
       "\n",
       "    .dataframe tbody tr th {\n",
       "        vertical-align: top;\n",
       "    }\n",
       "\n",
       "    .dataframe thead th {\n",
       "        text-align: right;\n",
       "    }\n",
       "</style>\n",
       "<table border=\"1\" class=\"dataframe\">\n",
       "  <thead>\n",
       "    <tr style=\"text-align: right;\">\n",
       "      <th></th>\n",
       "      <th>month</th>\n",
       "      <th>mean</th>\n",
       "      <th>var</th>\n",
       "      <th>std</th>\n",
       "    </tr>\n",
       "  </thead>\n",
       "  <tbody>\n",
       "    <tr>\n",
       "      <th>0</th>\n",
       "      <td>1</td>\n",
       "      <td>428.111111</td>\n",
       "      <td>72769.361111</td>\n",
       "      <td>269.757968</td>\n",
       "    </tr>\n",
       "    <tr>\n",
       "      <th>1</th>\n",
       "      <td>2</td>\n",
       "      <td>297.125</td>\n",
       "      <td>87919.679348</td>\n",
       "      <td>296.512528</td>\n",
       "    </tr>\n",
       "    <tr>\n",
       "      <th>2</th>\n",
       "      <td>3</td>\n",
       "      <td>489.648649</td>\n",
       "      <td>111384.900901</td>\n",
       "      <td>333.743765</td>\n",
       "    </tr>\n",
       "    <tr>\n",
       "      <th>3</th>\n",
       "      <td>4</td>\n",
       "      <td>458.018182</td>\n",
       "      <td>71653.870034</td>\n",
       "      <td>267.682405</td>\n",
       "    </tr>\n",
       "    <tr>\n",
       "      <th>4</th>\n",
       "      <td>5</td>\n",
       "      <td>510.328358</td>\n",
       "      <td>83870.193578</td>\n",
       "      <td>289.603511</td>\n",
       "    </tr>\n",
       "    <tr>\n",
       "      <th>5</th>\n",
       "      <td>6</td>\n",
       "      <td>479.702381</td>\n",
       "      <td>91535.9465</td>\n",
       "      <td>302.549081</td>\n",
       "    </tr>\n",
       "    <tr>\n",
       "      <th>6</th>\n",
       "      <td>7</td>\n",
       "      <td>545.791209</td>\n",
       "      <td>94322.278144</td>\n",
       "      <td>307.119322</td>\n",
       "    </tr>\n",
       "    <tr>\n",
       "      <th>7</th>\n",
       "      <td>8</td>\n",
       "      <td>510.775701</td>\n",
       "      <td>97956.496385</td>\n",
       "      <td>312.980026</td>\n",
       "    </tr>\n",
       "    <tr>\n",
       "      <th>8</th>\n",
       "      <td>9</td>\n",
       "      <td>539.443478</td>\n",
       "      <td>105716.775286</td>\n",
       "      <td>325.141162</td>\n",
       "    </tr>\n",
       "    <tr>\n",
       "      <th>9</th>\n",
       "      <td>10</td>\n",
       "      <td>558.081301</td>\n",
       "      <td>106464.5835</td>\n",
       "      <td>326.289110</td>\n",
       "    </tr>\n",
       "    <tr>\n",
       "      <th>10</th>\n",
       "      <td>11</td>\n",
       "      <td>541.380597</td>\n",
       "      <td>96570.057064</td>\n",
       "      <td>310.757232</td>\n",
       "    </tr>\n",
       "    <tr>\n",
       "      <th>11</th>\n",
       "      <td>12</td>\n",
       "      <td>592.805755</td>\n",
       "      <td>117276.331561</td>\n",
       "      <td>342.456321</td>\n",
       "    </tr>\n",
       "  </tbody>\n",
       "</table>\n",
       "</div>"
      ],
      "text/plain": [
       "    month        mean            var         std\n",
       "0       1  428.111111   72769.361111  269.757968\n",
       "1       2     297.125   87919.679348  296.512528\n",
       "2       3  489.648649  111384.900901  333.743765\n",
       "3       4  458.018182   71653.870034  267.682405\n",
       "4       5  510.328358   83870.193578  289.603511\n",
       "5       6  479.702381     91535.9465  302.549081\n",
       "6       7  545.791209   94322.278144  307.119322\n",
       "7       8  510.775701   97956.496385  312.980026\n",
       "8       9  539.443478  105716.775286  325.141162\n",
       "9      10  558.081301    106464.5835  326.289110\n",
       "10     11  541.380597   96570.057064  310.757232\n",
       "11     12  592.805755  117276.331561  342.456321"
      ]
     },
     "execution_count": 107,
     "metadata": {},
     "output_type": "execute_result"
    }
   ],
   "source": [
    "df_ultra.groupby('month')['sum_duration'].agg(['mean','var','std']).reset_index() "
   ]
  },
  {
   "cell_type": "markdown",
   "metadata": {},
   "source": [
    "Подсчёт общих метрик:"
   ]
  },
  {
   "cell_type": "code",
   "execution_count": 108,
   "metadata": {},
   "outputs": [
    {
     "data": {
      "text/html": [
       "<div>\n",
       "<style scoped>\n",
       "    .dataframe tbody tr th:only-of-type {\n",
       "        vertical-align: middle;\n",
       "    }\n",
       "\n",
       "    .dataframe tbody tr th {\n",
       "        vertical-align: top;\n",
       "    }\n",
       "\n",
       "    .dataframe thead th {\n",
       "        text-align: right;\n",
       "    }\n",
       "</style>\n",
       "<table border=\"1\" class=\"dataframe\">\n",
       "  <thead>\n",
       "    <tr style=\"text-align: right;\">\n",
       "      <th></th>\n",
       "      <th>index</th>\n",
       "      <th>sum_duration</th>\n",
       "    </tr>\n",
       "  </thead>\n",
       "  <tbody>\n",
       "    <tr>\n",
       "      <th>0</th>\n",
       "      <td>mean</td>\n",
       "      <td>526.089249</td>\n",
       "    </tr>\n",
       "    <tr>\n",
       "      <th>1</th>\n",
       "      <td>var</td>\n",
       "      <td>101052.493549</td>\n",
       "    </tr>\n",
       "    <tr>\n",
       "      <th>2</th>\n",
       "      <td>std</td>\n",
       "      <td>317.887549</td>\n",
       "    </tr>\n",
       "  </tbody>\n",
       "</table>\n",
       "</div>"
      ],
      "text/plain": [
       "  index   sum_duration\n",
       "0  mean     526.089249\n",
       "1   var  101052.493549\n",
       "2   std     317.887549"
      ]
     },
     "execution_count": 108,
     "metadata": {},
     "output_type": "execute_result"
    }
   ],
   "source": [
    "df_ultra['sum_duration'].agg(['mean','var','std']).reset_index() "
   ]
  },
  {
   "cell_type": "markdown",
   "metadata": {},
   "source": [
    "**Тариф `smart`**"
   ]
  },
  {
   "cell_type": "markdown",
   "metadata": {},
   "source": [
    "Подсчёт среднего, дисперсии, стандартного отклонения для потраченных минут по месяцам:"
   ]
  },
  {
   "cell_type": "code",
   "execution_count": 109,
   "metadata": {},
   "outputs": [
    {
     "data": {
      "text/html": [
       "<div>\n",
       "<style scoped>\n",
       "    .dataframe tbody tr th:only-of-type {\n",
       "        vertical-align: middle;\n",
       "    }\n",
       "\n",
       "    .dataframe tbody tr th {\n",
       "        vertical-align: top;\n",
       "    }\n",
       "\n",
       "    .dataframe thead th {\n",
       "        text-align: right;\n",
       "    }\n",
       "</style>\n",
       "<table border=\"1\" class=\"dataframe\">\n",
       "  <thead>\n",
       "    <tr style=\"text-align: right;\">\n",
       "      <th></th>\n",
       "      <th>month</th>\n",
       "      <th>mean</th>\n",
       "      <th>var</th>\n",
       "      <th>std</th>\n",
       "    </tr>\n",
       "  </thead>\n",
       "  <tbody>\n",
       "    <tr>\n",
       "      <th>0</th>\n",
       "      <td>1</td>\n",
       "      <td>203.852941</td>\n",
       "      <td>23787.341355</td>\n",
       "      <td>154.231454</td>\n",
       "    </tr>\n",
       "    <tr>\n",
       "      <th>1</th>\n",
       "      <td>2</td>\n",
       "      <td>298.689655</td>\n",
       "      <td>36412.287961</td>\n",
       "      <td>190.820041</td>\n",
       "    </tr>\n",
       "    <tr>\n",
       "      <th>2</th>\n",
       "      <td>3</td>\n",
       "      <td>390.051948</td>\n",
       "      <td>36823.155161</td>\n",
       "      <td>191.893604</td>\n",
       "    </tr>\n",
       "    <tr>\n",
       "      <th>3</th>\n",
       "      <td>4</td>\n",
       "      <td>367.133929</td>\n",
       "      <td>34778.207127</td>\n",
       "      <td>186.489161</td>\n",
       "    </tr>\n",
       "    <tr>\n",
       "      <th>4</th>\n",
       "      <td>5</td>\n",
       "      <td>387.361702</td>\n",
       "      <td>34820.061094</td>\n",
       "      <td>186.601343</td>\n",
       "    </tr>\n",
       "    <tr>\n",
       "      <th>5</th>\n",
       "      <td>6</td>\n",
       "      <td>395.640244</td>\n",
       "      <td>30742.918861</td>\n",
       "      <td>175.336587</td>\n",
       "    </tr>\n",
       "    <tr>\n",
       "      <th>6</th>\n",
       "      <td>7</td>\n",
       "      <td>408.353234</td>\n",
       "      <td>32250.269602</td>\n",
       "      <td>179.583601</td>\n",
       "    </tr>\n",
       "    <tr>\n",
       "      <th>7</th>\n",
       "      <td>8</td>\n",
       "      <td>421.468085</td>\n",
       "      <td>34793.583379</td>\n",
       "      <td>186.530382</td>\n",
       "    </tr>\n",
       "    <tr>\n",
       "      <th>8</th>\n",
       "      <td>9</td>\n",
       "      <td>428.611538</td>\n",
       "      <td>33535.342723</td>\n",
       "      <td>183.126576</td>\n",
       "    </tr>\n",
       "    <tr>\n",
       "      <th>9</th>\n",
       "      <td>10</td>\n",
       "      <td>426.136054</td>\n",
       "      <td>35392.336375</td>\n",
       "      <td>188.128510</td>\n",
       "    </tr>\n",
       "    <tr>\n",
       "      <th>10</th>\n",
       "      <td>11</td>\n",
       "      <td>435.265823</td>\n",
       "      <td>31605.23705</td>\n",
       "      <td>177.778618</td>\n",
       "    </tr>\n",
       "    <tr>\n",
       "      <th>11</th>\n",
       "      <td>12</td>\n",
       "      <td>478.560831</td>\n",
       "      <td>39698.622033</td>\n",
       "      <td>199.245131</td>\n",
       "    </tr>\n",
       "  </tbody>\n",
       "</table>\n",
       "</div>"
      ],
      "text/plain": [
       "    month        mean           var         std\n",
       "0       1  203.852941  23787.341355  154.231454\n",
       "1       2  298.689655  36412.287961  190.820041\n",
       "2       3  390.051948  36823.155161  191.893604\n",
       "3       4  367.133929  34778.207127  186.489161\n",
       "4       5  387.361702  34820.061094  186.601343\n",
       "5       6  395.640244  30742.918861  175.336587\n",
       "6       7  408.353234  32250.269602  179.583601\n",
       "7       8  421.468085  34793.583379  186.530382\n",
       "8       9  428.611538  33535.342723  183.126576\n",
       "9      10  426.136054  35392.336375  188.128510\n",
       "10     11  435.265823   31605.23705  177.778618\n",
       "11     12  478.560831  39698.622033  199.245131"
      ]
     },
     "execution_count": 109,
     "metadata": {},
     "output_type": "execute_result"
    }
   ],
   "source": [
    "df_smart.groupby('month')['sum_duration'].agg(['mean','var','std']).reset_index() "
   ]
  },
  {
   "cell_type": "markdown",
   "metadata": {},
   "source": [
    "Подсчёт общих метрик:"
   ]
  },
  {
   "cell_type": "code",
   "execution_count": 110,
   "metadata": {},
   "outputs": [
    {
     "data": {
      "text/html": [
       "<div>\n",
       "<style scoped>\n",
       "    .dataframe tbody tr th:only-of-type {\n",
       "        vertical-align: middle;\n",
       "    }\n",
       "\n",
       "    .dataframe tbody tr th {\n",
       "        vertical-align: top;\n",
       "    }\n",
       "\n",
       "    .dataframe thead th {\n",
       "        text-align: right;\n",
       "    }\n",
       "</style>\n",
       "<table border=\"1\" class=\"dataframe\">\n",
       "  <thead>\n",
       "    <tr style=\"text-align: right;\">\n",
       "      <th></th>\n",
       "      <th>index</th>\n",
       "      <th>sum_duration</th>\n",
       "    </tr>\n",
       "  </thead>\n",
       "  <tbody>\n",
       "    <tr>\n",
       "      <th>0</th>\n",
       "      <td>mean</td>\n",
       "      <td>417.747534</td>\n",
       "    </tr>\n",
       "    <tr>\n",
       "      <th>1</th>\n",
       "      <td>var</td>\n",
       "      <td>36281.393836</td>\n",
       "    </tr>\n",
       "    <tr>\n",
       "      <th>2</th>\n",
       "      <td>std</td>\n",
       "      <td>190.476754</td>\n",
       "    </tr>\n",
       "  </tbody>\n",
       "</table>\n",
       "</div>"
      ],
      "text/plain": [
       "  index  sum_duration\n",
       "0  mean    417.747534\n",
       "1   var  36281.393836\n",
       "2   std    190.476754"
      ]
     },
     "execution_count": 110,
     "metadata": {},
     "output_type": "execute_result"
    }
   ],
   "source": [
    "df_smart['sum_duration'].agg(['mean','var','std']).reset_index() "
   ]
  },
  {
   "cell_type": "markdown",
   "metadata": {},
   "source": [
    "Посмотрим на общее распределение потраченных минут в разные месяца для двух разных тарифов с помощью гистограмм:"
   ]
  },
  {
   "cell_type": "code",
   "execution_count": 111,
   "metadata": {
    "scrolled": true
   },
   "outputs": [
    {
     "data": {
      "image/png": "[encoded data removed]",
      "text/plain": [
       "<Figure size 1080x288 with 2 Axes>"
      ]
     },
     "metadata": {
      "needs_background": "light"
     },
     "output_type": "display_data"
    }
   ],
   "source": [
    "fig, axes = plt.subplots(1,2, figsize=(15,4))\n",
    "\n",
    "df_ultra['sum_duration'].hist(ax=axes[0], bins=30)\n",
    "df_smart['sum_duration'].hist(ax=axes[1], bins=30)\n",
    "\n",
    "\n",
    "axes[0].set_title('Общее распределение потраченных минут в месяц на тарифе ultra')\n",
    "axes[1].set_title('Общее распределение потраченных минут в месяц на тарифе smart')\n",
    "\n",
    "\n",
    "plt.show()"
   ]
  },
  {
   "cell_type": "markdown",
   "metadata": {},
   "source": [
    "На тарифе `ultra`достаточно много пользователей тратят 250-850 минут, так же видно что большое колличество пользователей тратят до 20 минут, более 800 минут расходуется редко. На тарифе `smart` большинство пользователей тратят 250-600 минут, менее 100 минут в месяц пользователи тратят достаточно редко, еще реже встречаются случае с расходом более 800 минут."
   ]
  },
  {
   "cell_type": "markdown",
   "metadata": {},
   "source": [
    "### Анализ отправленных сообщений по месяцам"
   ]
  },
  {
   "cell_type": "markdown",
   "metadata": {},
   "source": [
    "**Тариф `ultra`**"
   ]
  },
  {
   "cell_type": "markdown",
   "metadata": {},
   "source": [
    "Подсчёт среднего, дисперсии, стандартного отклонения для отправленных сообщений по месяцам:"
   ]
  },
  {
   "cell_type": "code",
   "execution_count": 113,
   "metadata": {},
   "outputs": [
    {
     "data": {
      "text/html": [
       "<div>\n",
       "<style scoped>\n",
       "    .dataframe tbody tr th:only-of-type {\n",
       "        vertical-align: middle;\n",
       "    }\n",
       "\n",
       "    .dataframe tbody tr th {\n",
       "        vertical-align: top;\n",
       "    }\n",
       "\n",
       "    .dataframe thead th {\n",
       "        text-align: right;\n",
       "    }\n",
       "</style>\n",
       "<table border=\"1\" class=\"dataframe\">\n",
       "  <thead>\n",
       "    <tr style=\"text-align: right;\">\n",
       "      <th></th>\n",
       "      <th>month</th>\n",
       "      <th>mean</th>\n",
       "      <th>var</th>\n",
       "      <th>std</th>\n",
       "    </tr>\n",
       "  </thead>\n",
       "  <tbody>\n",
       "    <tr>\n",
       "      <th>0</th>\n",
       "      <td>1</td>\n",
       "      <td>33.777778</td>\n",
       "      <td>940.694444</td>\n",
       "      <td>30.670742</td>\n",
       "    </tr>\n",
       "    <tr>\n",
       "      <th>1</th>\n",
       "      <td>2</td>\n",
       "      <td>21.958333</td>\n",
       "      <td>716.824275</td>\n",
       "      <td>26.773574</td>\n",
       "    </tr>\n",
       "    <tr>\n",
       "      <th>2</th>\n",
       "      <td>3</td>\n",
       "      <td>32.297297</td>\n",
       "      <td>1732.381381</td>\n",
       "      <td>41.621886</td>\n",
       "    </tr>\n",
       "    <tr>\n",
       "      <th>3</th>\n",
       "      <td>4</td>\n",
       "      <td>31.563636</td>\n",
       "      <td>1407.287542</td>\n",
       "      <td>37.513831</td>\n",
       "    </tr>\n",
       "    <tr>\n",
       "      <th>4</th>\n",
       "      <td>5</td>\n",
       "      <td>37.850746</td>\n",
       "      <td>1624.644052</td>\n",
       "      <td>40.306874</td>\n",
       "    </tr>\n",
       "    <tr>\n",
       "      <th>5</th>\n",
       "      <td>6</td>\n",
       "      <td>41.72619</td>\n",
       "      <td>1986.297619</td>\n",
       "      <td>44.567899</td>\n",
       "    </tr>\n",
       "    <tr>\n",
       "      <th>6</th>\n",
       "      <td>7</td>\n",
       "      <td>49.846154</td>\n",
       "      <td>2372.042735</td>\n",
       "      <td>48.703621</td>\n",
       "    </tr>\n",
       "    <tr>\n",
       "      <th>7</th>\n",
       "      <td>8</td>\n",
       "      <td>48.439252</td>\n",
       "      <td>2171.739199</td>\n",
       "      <td>46.601923</td>\n",
       "    </tr>\n",
       "    <tr>\n",
       "      <th>8</th>\n",
       "      <td>9</td>\n",
       "      <td>52.286957</td>\n",
       "      <td>2152.85553</td>\n",
       "      <td>46.398874</td>\n",
       "    </tr>\n",
       "    <tr>\n",
       "      <th>9</th>\n",
       "      <td>10</td>\n",
       "      <td>58.430894</td>\n",
       "      <td>2697.181661</td>\n",
       "      <td>51.934398</td>\n",
       "    </tr>\n",
       "    <tr>\n",
       "      <th>10</th>\n",
       "      <td>11</td>\n",
       "      <td>55.791045</td>\n",
       "      <td>2476.948491</td>\n",
       "      <td>49.768951</td>\n",
       "    </tr>\n",
       "    <tr>\n",
       "      <th>11</th>\n",
       "      <td>12</td>\n",
       "      <td>60.611511</td>\n",
       "      <td>2681.978417</td>\n",
       "      <td>51.787821</td>\n",
       "    </tr>\n",
       "  </tbody>\n",
       "</table>\n",
       "</div>"
      ],
      "text/plain": [
       "    month       mean          var        std\n",
       "0       1  33.777778   940.694444  30.670742\n",
       "1       2  21.958333   716.824275  26.773574\n",
       "2       3  32.297297  1732.381381  41.621886\n",
       "3       4  31.563636  1407.287542  37.513831\n",
       "4       5  37.850746  1624.644052  40.306874\n",
       "5       6   41.72619  1986.297619  44.567899\n",
       "6       7  49.846154  2372.042735  48.703621\n",
       "7       8  48.439252  2171.739199  46.601923\n",
       "8       9  52.286957   2152.85553  46.398874\n",
       "9      10  58.430894  2697.181661  51.934398\n",
       "10     11  55.791045  2476.948491  49.768951\n",
       "11     12  60.611511  2681.978417  51.787821"
      ]
     },
     "execution_count": 113,
     "metadata": {},
     "output_type": "execute_result"
    }
   ],
   "source": [
    "df_ultra.groupby('month')['count_message'].agg(['mean','var','std']).reset_index()"
   ]
  },
  {
   "cell_type": "markdown",
   "metadata": {},
   "source": [
    "Подсчёт общих метрик:"
   ]
  },
  {
   "cell_type": "code",
   "execution_count": 114,
   "metadata": {},
   "outputs": [
    {
     "data": {
      "text/html": [
       "<div>\n",
       "<style scoped>\n",
       "    .dataframe tbody tr th:only-of-type {\n",
       "        vertical-align: middle;\n",
       "    }\n",
       "\n",
       "    .dataframe tbody tr th {\n",
       "        vertical-align: top;\n",
       "    }\n",
       "\n",
       "    .dataframe thead th {\n",
       "        text-align: right;\n",
       "    }\n",
       "</style>\n",
       "<table border=\"1\" class=\"dataframe\">\n",
       "  <thead>\n",
       "    <tr style=\"text-align: right;\">\n",
       "      <th></th>\n",
       "      <th>index</th>\n",
       "      <th>count_message</th>\n",
       "    </tr>\n",
       "  </thead>\n",
       "  <tbody>\n",
       "    <tr>\n",
       "      <th>0</th>\n",
       "      <td>mean</td>\n",
       "      <td>49.313387</td>\n",
       "    </tr>\n",
       "    <tr>\n",
       "      <th>1</th>\n",
       "      <td>var</td>\n",
       "      <td>2285.417425</td>\n",
       "    </tr>\n",
       "    <tr>\n",
       "      <th>2</th>\n",
       "      <td>std</td>\n",
       "      <td>47.806040</td>\n",
       "    </tr>\n",
       "  </tbody>\n",
       "</table>\n",
       "</div>"
      ],
      "text/plain": [
       "  index  count_message\n",
       "0  mean      49.313387\n",
       "1   var    2285.417425\n",
       "2   std      47.806040"
      ]
     },
     "execution_count": 114,
     "metadata": {},
     "output_type": "execute_result"
    }
   ],
   "source": [
    "df_ultra['count_message'].agg(['mean','var','std']).reset_index()"
   ]
  },
  {
   "cell_type": "markdown",
   "metadata": {},
   "source": [
    "**Тариф `smart`**"
   ]
  },
  {
   "cell_type": "markdown",
   "metadata": {},
   "source": [
    "Подсчёт среднего, дисперсии, стандартного отклонения для отправленных сообщений по месяцам:"
   ]
  },
  {
   "cell_type": "code",
   "execution_count": 115,
   "metadata": {},
   "outputs": [
    {
     "data": {
      "text/html": [
       "<div>\n",
       "<style scoped>\n",
       "    .dataframe tbody tr th:only-of-type {\n",
       "        vertical-align: middle;\n",
       "    }\n",
       "\n",
       "    .dataframe tbody tr th {\n",
       "        vertical-align: top;\n",
       "    }\n",
       "\n",
       "    .dataframe thead th {\n",
       "        text-align: right;\n",
       "    }\n",
       "</style>\n",
       "<table border=\"1\" class=\"dataframe\">\n",
       "  <thead>\n",
       "    <tr style=\"text-align: right;\">\n",
       "      <th></th>\n",
       "      <th>month</th>\n",
       "      <th>mean</th>\n",
       "      <th>var</th>\n",
       "      <th>std</th>\n",
       "    </tr>\n",
       "  </thead>\n",
       "  <tbody>\n",
       "    <tr>\n",
       "      <th>0</th>\n",
       "      <td>1</td>\n",
       "      <td>18.235294</td>\n",
       "      <td>262.367201</td>\n",
       "      <td>16.197753</td>\n",
       "    </tr>\n",
       "    <tr>\n",
       "      <th>1</th>\n",
       "      <td>2</td>\n",
       "      <td>24.086207</td>\n",
       "      <td>473.097701</td>\n",
       "      <td>21.750809</td>\n",
       "    </tr>\n",
       "    <tr>\n",
       "      <th>2</th>\n",
       "      <td>3</td>\n",
       "      <td>31.857143</td>\n",
       "      <td>718.492481</td>\n",
       "      <td>26.804710</td>\n",
       "    </tr>\n",
       "    <tr>\n",
       "      <th>3</th>\n",
       "      <td>4</td>\n",
       "      <td>30.741071</td>\n",
       "      <td>602.139559</td>\n",
       "      <td>24.538532</td>\n",
       "    </tr>\n",
       "    <tr>\n",
       "      <th>4</th>\n",
       "      <td>5</td>\n",
       "      <td>33.77305</td>\n",
       "      <td>730.990983</td>\n",
       "      <td>27.036845</td>\n",
       "    </tr>\n",
       "    <tr>\n",
       "      <th>5</th>\n",
       "      <td>6</td>\n",
       "      <td>33.402439</td>\n",
       "      <td>806.806374</td>\n",
       "      <td>28.404337</td>\n",
       "    </tr>\n",
       "    <tr>\n",
       "      <th>6</th>\n",
       "      <td>7</td>\n",
       "      <td>33.751244</td>\n",
       "      <td>799.887811</td>\n",
       "      <td>28.282288</td>\n",
       "    </tr>\n",
       "    <tr>\n",
       "      <th>7</th>\n",
       "      <td>8</td>\n",
       "      <td>33.638298</td>\n",
       "      <td>838.257501</td>\n",
       "      <td>28.952677</td>\n",
       "    </tr>\n",
       "    <tr>\n",
       "      <th>8</th>\n",
       "      <td>9</td>\n",
       "      <td>33.638462</td>\n",
       "      <td>790.61782</td>\n",
       "      <td>28.117927</td>\n",
       "    </tr>\n",
       "    <tr>\n",
       "      <th>9</th>\n",
       "      <td>10</td>\n",
       "      <td>33.765306</td>\n",
       "      <td>816.111966</td>\n",
       "      <td>28.567673</td>\n",
       "    </tr>\n",
       "    <tr>\n",
       "      <th>10</th>\n",
       "      <td>11</td>\n",
       "      <td>34.075949</td>\n",
       "      <td>805.937071</td>\n",
       "      <td>28.389031</td>\n",
       "    </tr>\n",
       "    <tr>\n",
       "      <th>11</th>\n",
       "      <td>12</td>\n",
       "      <td>35.994065</td>\n",
       "      <td>934.952346</td>\n",
       "      <td>30.576990</td>\n",
       "    </tr>\n",
       "  </tbody>\n",
       "</table>\n",
       "</div>"
      ],
      "text/plain": [
       "    month       mean         var        std\n",
       "0       1  18.235294  262.367201  16.197753\n",
       "1       2  24.086207  473.097701  21.750809\n",
       "2       3  31.857143  718.492481  26.804710\n",
       "3       4  30.741071  602.139559  24.538532\n",
       "4       5   33.77305  730.990983  27.036845\n",
       "5       6  33.402439  806.806374  28.404337\n",
       "6       7  33.751244  799.887811  28.282288\n",
       "7       8  33.638298  838.257501  28.952677\n",
       "8       9  33.638462   790.61782  28.117927\n",
       "9      10  33.765306  816.111966  28.567673\n",
       "10     11  34.075949  805.937071  28.389031\n",
       "11     12  35.994065  934.952346  30.576990"
      ]
     },
     "execution_count": 115,
     "metadata": {},
     "output_type": "execute_result"
    }
   ],
   "source": [
    "df_smart.groupby('month')['count_message'].agg(['mean','var','std']).reset_index()"
   ]
  },
  {
   "cell_type": "markdown",
   "metadata": {},
   "source": [
    "Подсчёт общих метрик:"
   ]
  },
  {
   "cell_type": "code",
   "execution_count": 116,
   "metadata": {},
   "outputs": [
    {
     "data": {
      "text/html": [
       "<div>\n",
       "<style scoped>\n",
       "    .dataframe tbody tr th:only-of-type {\n",
       "        vertical-align: middle;\n",
       "    }\n",
       "\n",
       "    .dataframe tbody tr th {\n",
       "        vertical-align: top;\n",
       "    }\n",
       "\n",
       "    .dataframe thead th {\n",
       "        text-align: right;\n",
       "    }\n",
       "</style>\n",
       "<table border=\"1\" class=\"dataframe\">\n",
       "  <thead>\n",
       "    <tr style=\"text-align: right;\">\n",
       "      <th></th>\n",
       "      <th>index</th>\n",
       "      <th>count_message</th>\n",
       "    </tr>\n",
       "  </thead>\n",
       "  <tbody>\n",
       "    <tr>\n",
       "      <th>0</th>\n",
       "      <td>mean</td>\n",
       "      <td>33.369058</td>\n",
       "    </tr>\n",
       "    <tr>\n",
       "      <th>1</th>\n",
       "      <td>var</td>\n",
       "      <td>796.955256</td>\n",
       "    </tr>\n",
       "    <tr>\n",
       "      <th>2</th>\n",
       "      <td>std</td>\n",
       "      <td>28.230396</td>\n",
       "    </tr>\n",
       "  </tbody>\n",
       "</table>\n",
       "</div>"
      ],
      "text/plain": [
       "  index  count_message\n",
       "0  mean      33.369058\n",
       "1   var     796.955256\n",
       "2   std      28.230396"
      ]
     },
     "execution_count": 116,
     "metadata": {},
     "output_type": "execute_result"
    }
   ],
   "source": [
    "df_smart['count_message'].agg(['mean','var','std']).reset_index()"
   ]
  },
  {
   "cell_type": "markdown",
   "metadata": {},
   "source": [
    "Посмотрим на общее распределение потраченных сообщений в разные месяца для двух разных тарифов с помощью гистограмм:"
   ]
  },
  {
   "cell_type": "code",
   "execution_count": 117,
   "metadata": {
    "scrolled": true
   },
   "outputs": [
    {
     "data": {
      "image/png": "[encoded data removed]",
      "text/plain": [
       "<Figure size 1224x360 with 2 Axes>"
      ]
     },
     "metadata": {
      "needs_background": "light"
     },
     "output_type": "display_data"
    }
   ],
   "source": [
    "fig, axes = plt.subplots(1,2, figsize=(17,5))\n",
    "\n",
    "df_ultra['count_message'].hist(ax=axes[0], bins=30)\n",
    "df_smart['count_message'].hist(ax=axes[1], bins=30)\n",
    "\n",
    "axes[0].set_title('Общее распределение отправленных сообщений в месяц на тарифе ultra')\n",
    "axes[1].set_title('Общее распределение отправленных сообщений в месяц на тарифе smart')\n",
    "\n",
    "plt.show()"
   ]
  },
  {
   "cell_type": "markdown",
   "metadata": {},
   "source": [
    "На тарифе `ultra` достаточно много пользователей отправляют до 10 сообщений в месяц, более 150 сообщений в месяц отправляют достаточно редко. На тарифе `smart` достаточно многопользователей отправляют до 5 сообщений в месяц, более 100 сообщений очень редко."
   ]
  },
  {
   "cell_type": "markdown",
   "metadata": {},
   "source": [
    "### Анализ потраченного интернет-трафика по месяцам"
   ]
  },
  {
   "cell_type": "markdown",
   "metadata": {},
   "source": [
    "**Тариф `ultra`**"
   ]
  },
  {
   "cell_type": "markdown",
   "metadata": {},
   "source": [
    "Подсчёт среднего, дисперсии, стандартного отклонения для потраченного интернет-трафика:"
   ]
  },
  {
   "cell_type": "code",
   "execution_count": 119,
   "metadata": {},
   "outputs": [
    {
     "data": {
      "text/html": [
       "<div>\n",
       "<style scoped>\n",
       "    .dataframe tbody tr th:only-of-type {\n",
       "        vertical-align: middle;\n",
       "    }\n",
       "\n",
       "    .dataframe tbody tr th {\n",
       "        vertical-align: top;\n",
       "    }\n",
       "\n",
       "    .dataframe thead th {\n",
       "        text-align: right;\n",
       "    }\n",
       "</style>\n",
       "<table border=\"1\" class=\"dataframe\">\n",
       "  <thead>\n",
       "    <tr style=\"text-align: right;\">\n",
       "      <th></th>\n",
       "      <th>month</th>\n",
       "      <th>mean</th>\n",
       "      <th>var</th>\n",
       "      <th>std</th>\n",
       "    </tr>\n",
       "  </thead>\n",
       "  <tbody>\n",
       "    <tr>\n",
       "      <th>0</th>\n",
       "      <td>1</td>\n",
       "      <td>13.222222</td>\n",
       "      <td>44.444444</td>\n",
       "      <td>6.666667</td>\n",
       "    </tr>\n",
       "    <tr>\n",
       "      <th>1</th>\n",
       "      <td>2</td>\n",
       "      <td>12.0</td>\n",
       "      <td>109.130435</td>\n",
       "      <td>10.446551</td>\n",
       "    </tr>\n",
       "    <tr>\n",
       "      <th>2</th>\n",
       "      <td>3</td>\n",
       "      <td>17.648649</td>\n",
       "      <td>114.345345</td>\n",
       "      <td>10.693238</td>\n",
       "    </tr>\n",
       "    <tr>\n",
       "      <th>3</th>\n",
       "      <td>4</td>\n",
       "      <td>16.963636</td>\n",
       "      <td>89.443098</td>\n",
       "      <td>9.457436</td>\n",
       "    </tr>\n",
       "    <tr>\n",
       "      <th>4</th>\n",
       "      <td>5</td>\n",
       "      <td>19.373134</td>\n",
       "      <td>95.631389</td>\n",
       "      <td>9.779130</td>\n",
       "    </tr>\n",
       "    <tr>\n",
       "      <th>5</th>\n",
       "      <td>6</td>\n",
       "      <td>18.940476</td>\n",
       "      <td>82.394005</td>\n",
       "      <td>9.077114</td>\n",
       "    </tr>\n",
       "    <tr>\n",
       "      <th>6</th>\n",
       "      <td>7</td>\n",
       "      <td>20.505495</td>\n",
       "      <td>96.430525</td>\n",
       "      <td>9.819905</td>\n",
       "    </tr>\n",
       "    <tr>\n",
       "      <th>7</th>\n",
       "      <td>8</td>\n",
       "      <td>19.598131</td>\n",
       "      <td>105.148298</td>\n",
       "      <td>10.254184</td>\n",
       "    </tr>\n",
       "    <tr>\n",
       "      <th>8</th>\n",
       "      <td>9</td>\n",
       "      <td>19.243478</td>\n",
       "      <td>86.255988</td>\n",
       "      <td>9.287410</td>\n",
       "    </tr>\n",
       "    <tr>\n",
       "      <th>9</th>\n",
       "      <td>10</td>\n",
       "      <td>20.065041</td>\n",
       "      <td>91.25803</td>\n",
       "      <td>9.552907</td>\n",
       "    </tr>\n",
       "    <tr>\n",
       "      <th>10</th>\n",
       "      <td>11</td>\n",
       "      <td>19.80597</td>\n",
       "      <td>93.796656</td>\n",
       "      <td>9.684867</td>\n",
       "    </tr>\n",
       "    <tr>\n",
       "      <th>11</th>\n",
       "      <td>12</td>\n",
       "      <td>21.741007</td>\n",
       "      <td>103.236784</td>\n",
       "      <td>10.160550</td>\n",
       "    </tr>\n",
       "  </tbody>\n",
       "</table>\n",
       "</div>"
      ],
      "text/plain": [
       "    month       mean         var        std\n",
       "0       1  13.222222   44.444444   6.666667\n",
       "1       2       12.0  109.130435  10.446551\n",
       "2       3  17.648649  114.345345  10.693238\n",
       "3       4  16.963636   89.443098   9.457436\n",
       "4       5  19.373134   95.631389   9.779130\n",
       "5       6  18.940476   82.394005   9.077114\n",
       "6       7  20.505495   96.430525   9.819905\n",
       "7       8  19.598131  105.148298  10.254184\n",
       "8       9  19.243478   86.255988   9.287410\n",
       "9      10  20.065041    91.25803   9.552907\n",
       "10     11   19.80597   93.796656   9.684867\n",
       "11     12  21.741007  103.236784  10.160550"
      ]
     },
     "execution_count": 119,
     "metadata": {},
     "output_type": "execute_result"
    }
   ],
   "source": [
    "df_ultra.groupby('month')['gb_used'].agg(['mean','var','std']).reset_index()"
   ]
  },
  {
   "cell_type": "markdown",
   "metadata": {},
   "source": [
    "Подсчёт общих метрик:"
   ]
  },
  {
   "cell_type": "code",
   "execution_count": 120,
   "metadata": {},
   "outputs": [
    {
     "data": {
      "text/html": [
       "<div>\n",
       "<style scoped>\n",
       "    .dataframe tbody tr th:only-of-type {\n",
       "        vertical-align: middle;\n",
       "    }\n",
       "\n",
       "    .dataframe tbody tr th {\n",
       "        vertical-align: top;\n",
       "    }\n",
       "\n",
       "    .dataframe thead th {\n",
       "        text-align: right;\n",
       "    }\n",
       "</style>\n",
       "<table border=\"1\" class=\"dataframe\">\n",
       "  <thead>\n",
       "    <tr style=\"text-align: right;\">\n",
       "      <th></th>\n",
       "      <th>index</th>\n",
       "      <th>gb_used</th>\n",
       "    </tr>\n",
       "  </thead>\n",
       "  <tbody>\n",
       "    <tr>\n",
       "      <th>0</th>\n",
       "      <td>mean</td>\n",
       "      <td>19.474645</td>\n",
       "    </tr>\n",
       "    <tr>\n",
       "      <th>1</th>\n",
       "      <td>var</td>\n",
       "      <td>97.378544</td>\n",
       "    </tr>\n",
       "    <tr>\n",
       "      <th>2</th>\n",
       "      <td>std</td>\n",
       "      <td>9.868057</td>\n",
       "    </tr>\n",
       "  </tbody>\n",
       "</table>\n",
       "</div>"
      ],
      "text/plain": [
       "  index    gb_used\n",
       "0  mean  19.474645\n",
       "1   var  97.378544\n",
       "2   std   9.868057"
      ]
     },
     "execution_count": 120,
     "metadata": {},
     "output_type": "execute_result"
    }
   ],
   "source": [
    "df_ultra['gb_used'].agg(['mean','var','std']).reset_index()"
   ]
  },
  {
   "cell_type": "markdown",
   "metadata": {},
   "source": [
    "**Тариф `smart`**"
   ]
  },
  {
   "cell_type": "markdown",
   "metadata": {},
   "source": [
    "Подсчёт среднего, дисперсии, стандартного отклонения для потраченного интернет-трафика:"
   ]
  },
  {
   "cell_type": "code",
   "execution_count": 121,
   "metadata": {},
   "outputs": [
    {
     "data": {
      "text/html": [
       "<div>\n",
       "<style scoped>\n",
       "    .dataframe tbody tr th:only-of-type {\n",
       "        vertical-align: middle;\n",
       "    }\n",
       "\n",
       "    .dataframe tbody tr th {\n",
       "        vertical-align: top;\n",
       "    }\n",
       "\n",
       "    .dataframe thead th {\n",
       "        text-align: right;\n",
       "    }\n",
       "</style>\n",
       "<table border=\"1\" class=\"dataframe\">\n",
       "  <thead>\n",
       "    <tr style=\"text-align: right;\">\n",
       "      <th></th>\n",
       "      <th>month</th>\n",
       "      <th>mean</th>\n",
       "      <th>var</th>\n",
       "      <th>std</th>\n",
       "    </tr>\n",
       "  </thead>\n",
       "  <tbody>\n",
       "    <tr>\n",
       "      <th>0</th>\n",
       "      <td>1</td>\n",
       "      <td>8.735294</td>\n",
       "      <td>39.412656</td>\n",
       "      <td>6.277950</td>\n",
       "    </tr>\n",
       "    <tr>\n",
       "      <th>1</th>\n",
       "      <td>2</td>\n",
       "      <td>11.844828</td>\n",
       "      <td>37.150938</td>\n",
       "      <td>6.095157</td>\n",
       "    </tr>\n",
       "    <tr>\n",
       "      <th>2</th>\n",
       "      <td>3</td>\n",
       "      <td>15.233766</td>\n",
       "      <td>32.549897</td>\n",
       "      <td>5.705252</td>\n",
       "    </tr>\n",
       "    <tr>\n",
       "      <th>3</th>\n",
       "      <td>4</td>\n",
       "      <td>13.625</td>\n",
       "      <td>31.29955</td>\n",
       "      <td>5.594600</td>\n",
       "    </tr>\n",
       "    <tr>\n",
       "      <th>4</th>\n",
       "      <td>5</td>\n",
       "      <td>15.907801</td>\n",
       "      <td>34.37001</td>\n",
       "      <td>5.862594</td>\n",
       "    </tr>\n",
       "    <tr>\n",
       "      <th>5</th>\n",
       "      <td>6</td>\n",
       "      <td>15.95122</td>\n",
       "      <td>31.911716</td>\n",
       "      <td>5.649046</td>\n",
       "    </tr>\n",
       "    <tr>\n",
       "      <th>6</th>\n",
       "      <td>7</td>\n",
       "      <td>15.875622</td>\n",
       "      <td>33.419453</td>\n",
       "      <td>5.780956</td>\n",
       "    </tr>\n",
       "    <tr>\n",
       "      <th>7</th>\n",
       "      <td>8</td>\n",
       "      <td>16.73617</td>\n",
       "      <td>30.041207</td>\n",
       "      <td>5.480986</td>\n",
       "    </tr>\n",
       "    <tr>\n",
       "      <th>8</th>\n",
       "      <td>9</td>\n",
       "      <td>16.392308</td>\n",
       "      <td>25.88411</td>\n",
       "      <td>5.087643</td>\n",
       "    </tr>\n",
       "    <tr>\n",
       "      <th>9</th>\n",
       "      <td>10</td>\n",
       "      <td>16.880952</td>\n",
       "      <td>32.897042</td>\n",
       "      <td>5.735594</td>\n",
       "    </tr>\n",
       "    <tr>\n",
       "      <th>10</th>\n",
       "      <td>11</td>\n",
       "      <td>17.0</td>\n",
       "      <td>27.180952</td>\n",
       "      <td>5.213535</td>\n",
       "    </tr>\n",
       "    <tr>\n",
       "      <th>11</th>\n",
       "      <td>12</td>\n",
       "      <td>18.20178</td>\n",
       "      <td>29.786544</td>\n",
       "      <td>5.457705</td>\n",
       "    </tr>\n",
       "  </tbody>\n",
       "</table>\n",
       "</div>"
      ],
      "text/plain": [
       "    month       mean        var       std\n",
       "0       1   8.735294  39.412656  6.277950\n",
       "1       2  11.844828  37.150938  6.095157\n",
       "2       3  15.233766  32.549897  5.705252\n",
       "3       4     13.625   31.29955  5.594600\n",
       "4       5  15.907801   34.37001  5.862594\n",
       "5       6   15.95122  31.911716  5.649046\n",
       "6       7  15.875622  33.419453  5.780956\n",
       "7       8   16.73617  30.041207  5.480986\n",
       "8       9  16.392308   25.88411  5.087643\n",
       "9      10  16.880952  32.897042  5.735594\n",
       "10     11       17.0  27.180952  5.213535\n",
       "11     12   18.20178  29.786544  5.457705"
      ]
     },
     "execution_count": 121,
     "metadata": {},
     "output_type": "execute_result"
    }
   ],
   "source": [
    "df_smart.groupby('month')['gb_used'].agg(['mean','var','std']).reset_index()"
   ]
  },
  {
   "cell_type": "markdown",
   "metadata": {},
   "source": [
    "Посчёт общих метрик:"
   ]
  },
  {
   "cell_type": "code",
   "execution_count": 122,
   "metadata": {},
   "outputs": [
    {
     "data": {
      "text/html": [
       "<div>\n",
       "<style scoped>\n",
       "    .dataframe tbody tr th:only-of-type {\n",
       "        vertical-align: middle;\n",
       "    }\n",
       "\n",
       "    .dataframe tbody tr th {\n",
       "        vertical-align: top;\n",
       "    }\n",
       "\n",
       "    .dataframe thead th {\n",
       "        text-align: right;\n",
       "    }\n",
       "</style>\n",
       "<table border=\"1\" class=\"dataframe\">\n",
       "  <thead>\n",
       "    <tr style=\"text-align: right;\">\n",
       "      <th></th>\n",
       "      <th>index</th>\n",
       "      <th>gb_used</th>\n",
       "    </tr>\n",
       "  </thead>\n",
       "  <tbody>\n",
       "    <tr>\n",
       "      <th>0</th>\n",
       "      <td>mean</td>\n",
       "      <td>16.321525</td>\n",
       "    </tr>\n",
       "    <tr>\n",
       "      <th>1</th>\n",
       "      <td>var</td>\n",
       "      <td>33.133453</td>\n",
       "    </tr>\n",
       "    <tr>\n",
       "      <th>2</th>\n",
       "      <td>std</td>\n",
       "      <td>5.756167</td>\n",
       "    </tr>\n",
       "  </tbody>\n",
       "</table>\n",
       "</div>"
      ],
      "text/plain": [
       "  index    gb_used\n",
       "0  mean  16.321525\n",
       "1   var  33.133453\n",
       "2   std   5.756167"
      ]
     },
     "execution_count": 122,
     "metadata": {},
     "output_type": "execute_result"
    }
   ],
   "source": [
    "df_smart['gb_used'].agg(['mean','var','std']).reset_index()"
   ]
  },
  {
   "cell_type": "markdown",
   "metadata": {},
   "source": [
    "Посмотри на общее распределенение потраченного интернет трафика в месяц для двух разных тарифов:"
   ]
  },
  {
   "cell_type": "code",
   "execution_count": 123,
   "metadata": {},
   "outputs": [
    {
     "data": {
      "image/png": "[encoded data removed]",
      "text/plain": [
       "<Figure size 1296x432 with 2 Axes>"
      ]
     },
     "metadata": {
      "needs_background": "light"
     },
     "output_type": "display_data"
    }
   ],
   "source": [
    "fig, axes = plt.subplots(1,2, figsize=(18,6))\n",
    "\n",
    "df_ultra['gb_used'].hist(ax=axes[0], bins=25)\n",
    "df_smart['gb_used'].hist(ax=axes[1], bins=25)\n",
    "\n",
    "\n",
    "axes[0].set_title('Общее распределение потраченного интернет-трафика в месяц на тарифе ultra')\n",
    "axes[1].set_title('Общее распределение потраченного интернет-трафика в месяц на тарифе smart')\n",
    "\n",
    "\n",
    "plt.show()"
   ]
  },
  {
   "cell_type": "markdown",
   "metadata": {},
   "source": [
    "На тарифе `ultra` большинство пользователей тратит 8-30 Гб интернет-трафика, на тарифе `smart` 11-25 Гб интерент-трафика."
   ]
  },
  {
   "cell_type": "markdown",
   "metadata": {},
   "source": [
    "**Вывод:**\n",
    "\n",
    "На основе проведенного анализа можно сделать вывод, что для покрытия потребностей большинства пользователей тарифа `ultra` необходимо 850 минут, 150 сообщений и 30 Гб интернет-трафика в месяц. Для покрытия потребностей большинства пользователей тарифа `smart` необходимо 600 минут, 100 сообщения и 25 Гб интернет-трафика в месяц."
   ]
  },
  {
   "cell_type": "markdown",
   "metadata": {},
   "source": [
    "## Проверка гипотез"
   ]
  },
  {
   "cell_type": "markdown",
   "metadata": {},
   "source": [
    "### Гипотеза: средняя выручка пользователей тарифов «Ультра» и «Смарт» различаются"
   ]
  },
  {
   "cell_type": "markdown",
   "metadata": {},
   "source": [
    "Сформулируем нулевую и альтернативную гипотезу:\n",
    "* H₀ - средняя выручка пользователей тарифов «Ультра» и «Смарт» равна\n",
    "* H₁ - редняя выручка пользователей тарифов «Ультра» и «Смарт» различаются"
   ]
  },
  {
   "cell_type": "markdown",
   "metadata": {},
   "source": [
    "С помощью фильтра сохраним в переменные `df_ultra` и `df_smart` данные с выручкой по каждому тарифу:"
   ]
  },
  {
   "cell_type": "code",
   "execution_count": 125,
   "metadata": {},
   "outputs": [],
   "source": [
    "df_ultra = df_ultra['income']\n",
    "df_smart = df_smart['income']"
   ]
  },
  {
   "cell_type": "markdown",
   "metadata": {},
   "source": [
    "Для проверки гипотезы проведем t-тест с помощью метода `scipy.stats.ttest_ind()`:"
   ]
  },
  {
   "cell_type": "markdown",
   "metadata": {},
   "source": [
    "Проверяем нулевую гипотезу"
   ]
  },
  {
   "cell_type": "code",
   "execution_count": 126,
   "metadata": {},
   "outputs": [
    {
     "name": "stdout",
     "output_type": "stream",
     "text": [
      "p-значение: 8.081909555489933e-161\n",
      "Отвергаем нулевую гипотезу\n"
     ]
    }
   ],
   "source": [
    "alpha = .05 # зададим критический уровень статистической значимости\n",
    "\n",
    "results = st.ttest_ind(df_ultra, df_smart)\n",
    "\n",
    "print('p-значение:', results.pvalue)\n",
    "\n",
    "if results.pvalue < alpha:\n",
    "    print(\"Отвергаем нулевую гипотезу\")\n",
    "else:\n",
    "    print(\"Не получилось отвергнуть нулевую гипотезу\") "
   ]
  },
  {
   "cell_type": "markdown",
   "metadata": {},
   "source": [
    "На основе теста можем предположить, что альтернативная гипотеза верна."
   ]
  },
  {
   "cell_type": "markdown",
   "metadata": {},
   "source": [
    "### Гипотеза: средняя выручка пользователей из Москвы отличается от выручки пользователей из других регионов."
   ]
  },
  {
   "cell_type": "markdown",
   "metadata": {},
   "source": [
    "Сформулируем нулевую и альтернативную гипотезу:\n",
    "* H₀ - средняя выручка пользователей из Москвы равна выручке пользователей из других регионов\n",
    "* H₁ - средняя выручка пользователей из Москвы отличается от выручки пользователей из других регионов"
   ]
  },
  {
   "cell_type": "markdown",
   "metadata": {},
   "source": [
    "Сохраним в переменные moscow_city и other_city выручку опетатора по Москве и по другим городам соответственно:"
   ]
  },
  {
   "cell_type": "code",
   "execution_count": 127,
   "metadata": {
    "scrolled": true
   },
   "outputs": [],
   "source": [
    "moscow_city = df.query('city == \"Москва\"')['income']\n",
    "other_city = df.query('city != \"Москва\"')['income']"
   ]
  },
  {
   "cell_type": "markdown",
   "metadata": {},
   "source": [
    "Для проверки гипотезы проведем t-тест с помощью метода `scipy.stats.ttest_ind()`:"
   ]
  },
  {
   "cell_type": "markdown",
   "metadata": {},
   "source": [
    "Проверяем нулевую гипотезу"
   ]
  },
  {
   "cell_type": "code",
   "execution_count": 128,
   "metadata": {},
   "outputs": [
    {
     "name": "stdout",
     "output_type": "stream",
     "text": [
      "p-значение: 0.5400751614511182\n",
      "Не получилось отвергнуть нулевую гипотезу\n"
     ]
    }
   ],
   "source": [
    "alpha = .05 # зададим критический уровень статистической значимости\n",
    "\n",
    "results = st.ttest_ind(moscow_city, other_city)\n",
    "\n",
    "print('p-значение:', results.pvalue)\n",
    "\n",
    "if results.pvalue < alpha:\n",
    "    print(\"Отвергаем нулевую гипотезу\")\n",
    "else:\n",
    "    print(\"Не получилось отвергнуть нулевую гипотезу\") "
   ]
  },
  {
   "cell_type": "markdown",
   "metadata": {},
   "source": [
    "**Вывод:**\n",
    "\n",
    "Можем предположить, что **гипотеза о различии средней выручки пользователей тарифов «Ультра» и «Смарт»**\n",
    "`верна`, а гипотеза **средняя выручка пользователей из Москвы отличается от выручки пользователей из других регионов** `не верна`."
   ]
  },
  {
   "cell_type": "markdown",
   "metadata": {},
   "source": [
    "## Общий вывод"
   ]
  },
  {
   "cell_type": "markdown",
   "metadata": {},
   "source": [
    "Провели анализ данных на основе которого можно сделать вывод, что для покрытия потребностей большинства пользователей тарифа `ultra` необходимо 850 минут, 150 сообщений и 30 Гб интернет-трафика в месяц. Для покрытия потребностей большинства пользователей тарифа `smart` необходимо 600 минут, 100 сообщения и 25 Гб интернет-трафика в месяц. Проверили две гипотезы о средней выручке с помощью t-теста:\n",
    "* средняя выручка пользователей тарифов «Ультра» и «Смарт» различаются\n",
    "* средняя выручка пользователей из Москвы отличается от выручки пользователей из других регионов\n",
    "\n",
    "\n",
    "Гипотезу о различии средней выручки на разных тарифах `не отвергаем`, а гипотезу об отличии средней выручки пользователей из Москвы и пользователей из других регионов, `отвергаем`. \n",
    "\n",
    "Я считаю, что для компании целесообразнее продвигать тариф `smart`, продвигать низкостоящие тарифы проще и скорее всего на такой тариф получится привлечь больше клиентов(суммарная выручка `smart` больше, чем `ultra`, поскольку там больше клиентов). При этом множество пользоваталей привышают установленные лимиты трафика и оплачивают услуги сверх тарифного пакета. Самая дорогая услуга сверх тарифного пакета - интернет-трафик и при всём этом пользователи компании «Мегалайн», в большинстве случае тратят гораздо больше трафика, чем установленно лимитом."
   ]
  }
 ],
 "metadata": {
  "ExecuteTimeLog": [
   {
    "duration": 53,
    "start_time": "2022-03-19T13:39:26.246Z"
   },
   {
    "duration": 481,
    "start_time": "2022-03-19T13:39:30.587Z"
   },
   {
    "duration": 53,
    "start_time": "2022-03-19T13:39:31.099Z"
   },
   {
    "duration": 23,
    "start_time": "2022-03-19T13:39:34.898Z"
   },
   {
    "duration": 21,
    "start_time": "2022-03-19T13:40:03.856Z"
   },
   {
    "duration": 21,
    "start_time": "2022-03-19T13:40:16.937Z"
   },
   {
    "duration": 16,
    "start_time": "2022-03-19T13:40:34.445Z"
   },
   {
    "duration": 20,
    "start_time": "2022-03-19T13:40:42.222Z"
   },
   {
    "duration": 26,
    "start_time": "2022-03-19T13:40:58.121Z"
   },
   {
    "duration": 192,
    "start_time": "2022-03-19T13:41:55.541Z"
   },
   {
    "duration": 3,
    "start_time": "2022-03-19T13:42:44.395Z"
   },
   {
    "duration": 4,
    "start_time": "2022-03-19T13:42:51.149Z"
   },
   {
    "duration": 112,
    "start_time": "2022-03-19T13:43:07.974Z"
   },
   {
    "duration": 165,
    "start_time": "2022-03-19T13:44:12.721Z"
   },
   {
    "duration": 23,
    "start_time": "2022-03-19T13:44:45.707Z"
   },
   {
    "duration": 191,
    "start_time": "2022-03-19T13:45:19.883Z"
   },
   {
    "duration": 114,
    "start_time": "2022-03-19T13:45:28.371Z"
   },
   {
    "duration": 181,
    "start_time": "2022-03-19T13:45:35.586Z"
   },
   {
    "duration": 21,
    "start_time": "2022-03-19T13:45:42.942Z"
   },
   {
    "duration": 20,
    "start_time": "2022-03-19T13:45:47.119Z"
   },
   {
    "duration": 4,
    "start_time": "2022-03-19T13:46:25.983Z"
   },
   {
    "duration": 63,
    "start_time": "2022-03-19T13:46:25.989Z"
   },
   {
    "duration": 182,
    "start_time": "2022-03-19T13:46:26.054Z"
   },
   {
    "duration": 107,
    "start_time": "2022-03-19T13:46:26.238Z"
   },
   {
    "duration": 158,
    "start_time": "2022-03-19T13:46:26.347Z"
   },
   {
    "duration": 23,
    "start_time": "2022-03-19T13:46:26.508Z"
   },
   {
    "duration": 24,
    "start_time": "2022-03-19T13:49:09.222Z"
   },
   {
    "duration": 3,
    "start_time": "2022-03-19T14:02:56.074Z"
   },
   {
    "duration": 65,
    "start_time": "2022-03-19T14:02:56.079Z"
   },
   {
    "duration": 189,
    "start_time": "2022-03-19T14:02:56.146Z"
   },
   {
    "duration": 110,
    "start_time": "2022-03-19T14:02:56.337Z"
   },
   {
    "duration": 180,
    "start_time": "2022-03-19T14:02:56.450Z"
   },
   {
    "duration": 17,
    "start_time": "2022-03-19T14:02:56.632Z"
   },
   {
    "duration": 53,
    "start_time": "2022-03-19T14:21:10.280Z"
   },
   {
    "duration": 55,
    "start_time": "2022-03-19T14:23:20.726Z"
   },
   {
    "duration": 61,
    "start_time": "2022-03-19T14:24:13.019Z"
   },
   {
    "duration": 62,
    "start_time": "2022-03-19T14:24:52.432Z"
   },
   {
    "duration": 155,
    "start_time": "2022-03-19T14:42:55.051Z"
   },
   {
    "duration": 153,
    "start_time": "2022-03-19T14:50:19.977Z"
   },
   {
    "duration": 141,
    "start_time": "2022-03-19T14:50:46.020Z"
   },
   {
    "duration": 3,
    "start_time": "2022-03-19T14:50:48.610Z"
   },
   {
    "duration": 38,
    "start_time": "2022-03-19T14:50:48.615Z"
   },
   {
    "duration": 168,
    "start_time": "2022-03-19T14:50:48.655Z"
   },
   {
    "duration": 100,
    "start_time": "2022-03-19T14:50:48.825Z"
   },
   {
    "duration": 135,
    "start_time": "2022-03-19T14:50:48.927Z"
   },
   {
    "duration": 16,
    "start_time": "2022-03-19T14:50:49.064Z"
   },
   {
    "duration": 153,
    "start_time": "2022-03-19T14:51:02.901Z"
   },
   {
    "duration": 150,
    "start_time": "2022-03-19T14:51:11.994Z"
   },
   {
    "duration": 148,
    "start_time": "2022-03-19T14:51:37.633Z"
   },
   {
    "duration": 4,
    "start_time": "2022-03-19T14:51:43.017Z"
   },
   {
    "duration": 56,
    "start_time": "2022-03-19T14:51:43.023Z"
   },
   {
    "duration": 232,
    "start_time": "2022-03-19T14:51:43.081Z"
   },
   {
    "duration": 134,
    "start_time": "2022-03-19T14:51:43.316Z"
   },
   {
    "duration": 189,
    "start_time": "2022-03-19T14:51:43.452Z"
   },
   {
    "duration": 19,
    "start_time": "2022-03-19T14:51:43.643Z"
   },
   {
    "duration": 200,
    "start_time": "2022-03-19T14:51:52.087Z"
   },
   {
    "duration": 141,
    "start_time": "2022-03-19T14:51:57.661Z"
   },
   {
    "duration": 154,
    "start_time": "2022-03-19T14:52:06.564Z"
   },
   {
    "duration": 20,
    "start_time": "2022-03-19T15:22:32.681Z"
   },
   {
    "duration": 11,
    "start_time": "2022-03-19T15:22:37.245Z"
   },
   {
    "duration": 12,
    "start_time": "2022-03-19T15:23:12.749Z"
   },
   {
    "duration": 67,
    "start_time": "2022-03-19T15:23:18.666Z"
   },
   {
    "duration": 68,
    "start_time": "2022-03-19T15:24:13.359Z"
   },
   {
    "duration": 11,
    "start_time": "2022-03-19T15:24:51.205Z"
   },
   {
    "duration": 19,
    "start_time": "2022-03-19T15:25:00.628Z"
   },
   {
    "duration": 16,
    "start_time": "2022-03-19T15:25:26.501Z"
   },
   {
    "duration": 14,
    "start_time": "2022-03-19T15:25:28.785Z"
   },
   {
    "duration": 7,
    "start_time": "2022-03-19T15:25:58.032Z"
   },
   {
    "duration": 77,
    "start_time": "2022-03-19T15:29:16.152Z"
   },
   {
    "duration": 5,
    "start_time": "2022-03-19T15:30:11.662Z"
   },
   {
    "duration": 5,
    "start_time": "2022-03-19T15:31:58.424Z"
   },
   {
    "duration": 10,
    "start_time": "2022-03-19T15:32:29.140Z"
   },
   {
    "duration": 8,
    "start_time": "2022-03-19T15:32:45.115Z"
   },
   {
    "duration": 61,
    "start_time": "2022-03-19T15:34:16.931Z"
   },
   {
    "duration": 57,
    "start_time": "2022-03-19T15:34:31.946Z"
   },
   {
    "duration": 54,
    "start_time": "2022-03-19T15:34:41.213Z"
   },
   {
    "duration": 28,
    "start_time": "2022-03-19T15:35:00.530Z"
   },
   {
    "duration": 64,
    "start_time": "2022-03-19T15:35:07.852Z"
   },
   {
    "duration": 64,
    "start_time": "2022-03-19T15:35:20.408Z"
   },
   {
    "duration": 110,
    "start_time": "2022-03-19T15:35:31.160Z"
   },
   {
    "duration": 54,
    "start_time": "2022-03-19T15:35:36.826Z"
   },
   {
    "duration": 76,
    "start_time": "2022-03-19T15:35:40.182Z"
   },
   {
    "duration": 46,
    "start_time": "2022-03-19T18:09:35.614Z"
   },
   {
    "duration": 434,
    "start_time": "2022-03-19T18:09:39.130Z"
   },
   {
    "duration": 43,
    "start_time": "2022-03-19T18:09:39.566Z"
   },
   {
    "duration": 11,
    "start_time": "2022-03-19T18:09:39.611Z"
   },
   {
    "duration": 167,
    "start_time": "2022-03-19T18:09:39.625Z"
   },
   {
    "duration": 95,
    "start_time": "2022-03-19T18:09:39.794Z"
   },
   {
    "duration": 163,
    "start_time": "2022-03-19T18:09:39.890Z"
   },
   {
    "duration": 18,
    "start_time": "2022-03-19T18:09:40.055Z"
   },
   {
    "duration": 80,
    "start_time": "2022-03-19T18:09:40.075Z"
   },
   {
    "duration": 25,
    "start_time": "2022-03-19T18:10:46.134Z"
   },
   {
    "duration": 20,
    "start_time": "2022-03-19T18:11:07.009Z"
   },
   {
    "duration": 140,
    "start_time": "2022-03-19T18:12:23.866Z"
   },
   {
    "duration": 24,
    "start_time": "2022-03-19T18:12:31.788Z"
   },
   {
    "duration": 3,
    "start_time": "2022-03-19T18:12:34.260Z"
   },
   {
    "duration": 35,
    "start_time": "2022-03-19T18:12:34.265Z"
   },
   {
    "duration": 9,
    "start_time": "2022-03-19T18:12:34.302Z"
   },
   {
    "duration": 147,
    "start_time": "2022-03-19T18:12:34.314Z"
   },
   {
    "duration": 27,
    "start_time": "2022-03-19T18:12:34.463Z"
   },
   {
    "duration": 103,
    "start_time": "2022-03-19T18:12:34.492Z"
   },
   {
    "duration": 18,
    "start_time": "2022-03-19T18:12:34.596Z"
   },
   {
    "duration": 144,
    "start_time": "2022-03-19T18:12:34.616Z"
   },
   {
    "duration": 24,
    "start_time": "2022-03-19T18:12:34.762Z"
   },
   {
    "duration": 16,
    "start_time": "2022-03-19T18:12:34.789Z"
   },
   {
    "duration": 70,
    "start_time": "2022-03-19T18:12:34.807Z"
   },
   {
    "duration": 142,
    "start_time": "2022-03-19T18:24:23.401Z"
   },
   {
    "duration": 6,
    "start_time": "2022-03-19T18:35:26.829Z"
   },
   {
    "duration": 29,
    "start_time": "2022-03-19T18:37:11.899Z"
   },
   {
    "duration": 2,
    "start_time": "2022-03-19T18:37:18.492Z"
   },
   {
    "duration": 55,
    "start_time": "2022-03-19T18:37:18.496Z"
   },
   {
    "duration": 11,
    "start_time": "2022-03-19T18:37:18.553Z"
   },
   {
    "duration": 167,
    "start_time": "2022-03-19T18:37:18.566Z"
   },
   {
    "duration": 28,
    "start_time": "2022-03-19T18:37:18.738Z"
   },
   {
    "duration": 115,
    "start_time": "2022-03-19T18:37:18.768Z"
   },
   {
    "duration": 20,
    "start_time": "2022-03-19T18:37:18.885Z"
   },
   {
    "duration": 154,
    "start_time": "2022-03-19T18:37:18.907Z"
   },
   {
    "duration": 22,
    "start_time": "2022-03-19T18:37:19.063Z"
   },
   {
    "duration": 15,
    "start_time": "2022-03-19T18:37:19.086Z"
   },
   {
    "duration": 9,
    "start_time": "2022-03-19T18:37:19.102Z"
   },
   {
    "duration": 0,
    "start_time": "2022-03-19T18:37:19.113Z"
   },
   {
    "duration": 10,
    "start_time": "2022-03-19T18:38:03.019Z"
   },
   {
    "duration": 5,
    "start_time": "2022-03-19T18:39:02.613Z"
   },
   {
    "duration": 11,
    "start_time": "2022-03-19T18:39:16.261Z"
   },
   {
    "duration": 4,
    "start_time": "2022-03-19T18:39:28.206Z"
   },
   {
    "duration": 12,
    "start_time": "2022-03-19T18:39:29.505Z"
   },
   {
    "duration": 5,
    "start_time": "2022-03-19T18:39:38.064Z"
   },
   {
    "duration": 16,
    "start_time": "2022-03-19T18:39:51.512Z"
   },
   {
    "duration": 11,
    "start_time": "2022-03-19T18:40:15.497Z"
   },
   {
    "duration": 12,
    "start_time": "2022-03-19T18:44:03.786Z"
   },
   {
    "duration": 32,
    "start_time": "2022-03-19T18:44:40.321Z"
   },
   {
    "duration": 14,
    "start_time": "2022-03-19T18:44:45.105Z"
   },
   {
    "duration": 20,
    "start_time": "2022-03-19T18:44:51.280Z"
   },
   {
    "duration": 12,
    "start_time": "2022-03-19T18:53:14.455Z"
   },
   {
    "duration": 3,
    "start_time": "2022-03-19T18:59:04.607Z"
   },
   {
    "duration": 7,
    "start_time": "2022-03-19T19:00:10.405Z"
   },
   {
    "duration": 5,
    "start_time": "2022-03-19T19:02:48.522Z"
   },
   {
    "duration": 13,
    "start_time": "2022-03-19T19:02:55.720Z"
   },
   {
    "duration": 4,
    "start_time": "2022-03-19T19:03:52.712Z"
   },
   {
    "duration": 13,
    "start_time": "2022-03-19T19:04:13.722Z"
   },
   {
    "duration": 5,
    "start_time": "2022-03-19T19:04:20.563Z"
   },
   {
    "duration": 20,
    "start_time": "2022-03-19T19:06:31.679Z"
   },
   {
    "duration": 13,
    "start_time": "2022-03-19T19:14:28.696Z"
   },
   {
    "duration": 20,
    "start_time": "2022-03-19T19:14:32.729Z"
   },
   {
    "duration": 13,
    "start_time": "2022-03-19T19:14:38.285Z"
   },
   {
    "duration": 16,
    "start_time": "2022-03-19T19:14:48.616Z"
   },
   {
    "duration": 16,
    "start_time": "2022-03-19T19:14:56.842Z"
   },
   {
    "duration": 6,
    "start_time": "2022-03-19T19:15:15.530Z"
   },
   {
    "duration": 5,
    "start_time": "2022-03-19T19:15:21.258Z"
   },
   {
    "duration": 14,
    "start_time": "2022-03-19T19:15:52.890Z"
   },
   {
    "duration": 3,
    "start_time": "2022-03-19T19:16:01.723Z"
   },
   {
    "duration": 56,
    "start_time": "2022-03-19T19:16:01.728Z"
   },
   {
    "duration": 10,
    "start_time": "2022-03-19T19:16:01.786Z"
   },
   {
    "duration": 197,
    "start_time": "2022-03-19T19:16:01.799Z"
   },
   {
    "duration": 29,
    "start_time": "2022-03-19T19:16:01.998Z"
   },
   {
    "duration": 106,
    "start_time": "2022-03-19T19:16:02.039Z"
   },
   {
    "duration": 21,
    "start_time": "2022-03-19T19:16:02.147Z"
   },
   {
    "duration": 162,
    "start_time": "2022-03-19T19:16:02.170Z"
   },
   {
    "duration": 25,
    "start_time": "2022-03-19T19:16:02.334Z"
   },
   {
    "duration": 20,
    "start_time": "2022-03-19T19:16:02.361Z"
   },
   {
    "duration": 6,
    "start_time": "2022-03-19T19:16:02.383Z"
   },
   {
    "duration": 53,
    "start_time": "2022-03-19T19:16:02.391Z"
   },
   {
    "duration": 4,
    "start_time": "2022-03-19T19:16:02.446Z"
   },
   {
    "duration": 32,
    "start_time": "2022-03-19T19:16:02.452Z"
   },
   {
    "duration": 14,
    "start_time": "2022-03-19T19:16:02.486Z"
   },
   {
    "duration": 5,
    "start_time": "2022-03-19T19:16:26.051Z"
   },
   {
    "duration": 14,
    "start_time": "2022-03-19T19:18:30.385Z"
   },
   {
    "duration": 7,
    "start_time": "2022-03-19T19:19:03.546Z"
   },
   {
    "duration": 4,
    "start_time": "2022-03-19T19:19:09.108Z"
   },
   {
    "duration": 4,
    "start_time": "2022-03-19T19:19:57.873Z"
   },
   {
    "duration": 6,
    "start_time": "2022-03-19T19:19:59.894Z"
   },
   {
    "duration": 38,
    "start_time": "2022-03-19T19:22:25.401Z"
   },
   {
    "duration": 25,
    "start_time": "2022-03-19T19:28:44.409Z"
   },
   {
    "duration": 18,
    "start_time": "2022-03-19T19:29:25.804Z"
   },
   {
    "duration": 18,
    "start_time": "2022-03-19T19:29:31.017Z"
   },
   {
    "duration": 19,
    "start_time": "2022-03-19T19:29:38.975Z"
   },
   {
    "duration": 3,
    "start_time": "2022-03-19T19:29:48.479Z"
   },
   {
    "duration": 46,
    "start_time": "2022-03-19T19:29:48.483Z"
   },
   {
    "duration": 10,
    "start_time": "2022-03-19T19:29:48.530Z"
   },
   {
    "duration": 153,
    "start_time": "2022-03-19T19:29:48.542Z"
   },
   {
    "duration": 24,
    "start_time": "2022-03-19T19:29:48.697Z"
   },
   {
    "duration": 93,
    "start_time": "2022-03-19T19:29:48.723Z"
   },
   {
    "duration": 23,
    "start_time": "2022-03-19T19:29:48.817Z"
   },
   {
    "duration": 143,
    "start_time": "2022-03-19T19:29:48.842Z"
   },
   {
    "duration": 20,
    "start_time": "2022-03-19T19:29:48.987Z"
   },
   {
    "duration": 14,
    "start_time": "2022-03-19T19:29:49.009Z"
   },
   {
    "duration": 13,
    "start_time": "2022-03-19T19:29:49.025Z"
   },
   {
    "duration": 32,
    "start_time": "2022-03-19T19:29:49.039Z"
   },
   {
    "duration": 4,
    "start_time": "2022-03-19T19:29:49.073Z"
   },
   {
    "duration": 17,
    "start_time": "2022-03-19T19:29:49.078Z"
   },
   {
    "duration": 41,
    "start_time": "2022-03-19T19:29:49.096Z"
   },
   {
    "duration": 38,
    "start_time": "2022-03-19T19:29:49.139Z"
   },
   {
    "duration": 11,
    "start_time": "2022-03-19T19:29:49.178Z"
   },
   {
    "duration": 34,
    "start_time": "2022-03-19T19:51:23.010Z"
   },
   {
    "duration": 18,
    "start_time": "2022-03-19T19:52:11.927Z"
   },
   {
    "duration": 21,
    "start_time": "2022-03-19T19:52:40.266Z"
   },
   {
    "duration": 23,
    "start_time": "2022-03-19T19:54:25.583Z"
   },
   {
    "duration": 8,
    "start_time": "2022-03-19T19:55:41.287Z"
   },
   {
    "duration": 22,
    "start_time": "2022-03-19T19:55:48.943Z"
   },
   {
    "duration": 20,
    "start_time": "2022-03-19T19:55:57.111Z"
   },
   {
    "duration": 23,
    "start_time": "2022-03-19T19:56:00.512Z"
   },
   {
    "duration": 20,
    "start_time": "2022-03-19T19:56:19.933Z"
   },
   {
    "duration": 18,
    "start_time": "2022-03-19T19:57:52.626Z"
   },
   {
    "duration": 10,
    "start_time": "2022-03-19T19:57:55.868Z"
   },
   {
    "duration": 4,
    "start_time": "2022-03-19T20:00:16.955Z"
   },
   {
    "duration": 11,
    "start_time": "2022-03-19T20:00:20.093Z"
   },
   {
    "duration": 1544,
    "start_time": "2022-03-19T20:02:01.054Z"
   },
   {
    "duration": 11,
    "start_time": "2022-03-19T20:02:15.028Z"
   },
   {
    "duration": 727,
    "start_time": "2022-03-19T20:02:40.660Z"
   },
   {
    "duration": 758,
    "start_time": "2022-03-19T20:02:58.533Z"
   },
   {
    "duration": 11,
    "start_time": "2022-03-19T20:03:25.385Z"
   },
   {
    "duration": 10,
    "start_time": "2022-03-19T20:04:49.569Z"
   },
   {
    "duration": 9,
    "start_time": "2022-03-19T20:04:55.914Z"
   },
   {
    "duration": 3,
    "start_time": "2022-03-19T20:05:06.206Z"
   },
   {
    "duration": 11,
    "start_time": "2022-03-19T20:05:12.276Z"
   },
   {
    "duration": 17,
    "start_time": "2022-03-19T20:05:35.074Z"
   },
   {
    "duration": 12,
    "start_time": "2022-03-19T20:06:41.098Z"
   },
   {
    "duration": 6,
    "start_time": "2022-03-19T20:07:50.773Z"
   },
   {
    "duration": 10,
    "start_time": "2022-03-19T20:08:04.898Z"
   },
   {
    "duration": 10,
    "start_time": "2022-03-19T20:09:18.585Z"
   },
   {
    "duration": 10,
    "start_time": "2022-03-19T20:09:22.280Z"
   },
   {
    "duration": 10,
    "start_time": "2022-03-19T20:09:26.906Z"
   },
   {
    "duration": 22,
    "start_time": "2022-03-19T20:10:14.709Z"
   },
   {
    "duration": 3,
    "start_time": "2022-03-19T20:16:01.069Z"
   },
   {
    "duration": 42,
    "start_time": "2022-03-19T20:16:01.074Z"
   },
   {
    "duration": 12,
    "start_time": "2022-03-19T20:16:01.118Z"
   },
   {
    "duration": 187,
    "start_time": "2022-03-19T20:16:01.131Z"
   },
   {
    "duration": 29,
    "start_time": "2022-03-19T20:16:01.320Z"
   },
   {
    "duration": 113,
    "start_time": "2022-03-19T20:16:01.351Z"
   },
   {
    "duration": 21,
    "start_time": "2022-03-19T20:16:01.465Z"
   },
   {
    "duration": 165,
    "start_time": "2022-03-19T20:16:01.488Z"
   },
   {
    "duration": 24,
    "start_time": "2022-03-19T20:16:01.655Z"
   },
   {
    "duration": 31,
    "start_time": "2022-03-19T20:16:01.680Z"
   },
   {
    "duration": 18,
    "start_time": "2022-03-19T20:16:01.714Z"
   },
   {
    "duration": 46,
    "start_time": "2022-03-19T20:16:01.734Z"
   },
   {
    "duration": 4,
    "start_time": "2022-03-19T20:16:01.782Z"
   },
   {
    "duration": 27,
    "start_time": "2022-03-19T20:16:01.788Z"
   },
   {
    "duration": 34,
    "start_time": "2022-03-19T20:16:01.817Z"
   },
   {
    "duration": 27,
    "start_time": "2022-03-19T20:16:01.853Z"
   },
   {
    "duration": 11,
    "start_time": "2022-03-19T20:16:01.882Z"
   },
   {
    "duration": 21,
    "start_time": "2022-03-19T20:16:01.895Z"
   },
   {
    "duration": 44,
    "start_time": "2022-03-20T08:25:18.882Z"
   },
   {
    "duration": 403,
    "start_time": "2022-03-20T08:25:21.847Z"
   },
   {
    "duration": 44,
    "start_time": "2022-03-20T08:25:22.252Z"
   },
   {
    "duration": 10,
    "start_time": "2022-03-20T08:25:22.298Z"
   },
   {
    "duration": 154,
    "start_time": "2022-03-20T08:25:22.311Z"
   },
   {
    "duration": 29,
    "start_time": "2022-03-20T08:25:22.467Z"
   },
   {
    "duration": 88,
    "start_time": "2022-03-20T08:25:22.497Z"
   },
   {
    "duration": 18,
    "start_time": "2022-03-20T08:25:22.587Z"
   },
   {
    "duration": 142,
    "start_time": "2022-03-20T08:25:22.606Z"
   },
   {
    "duration": 32,
    "start_time": "2022-03-20T08:25:22.749Z"
   },
   {
    "duration": 21,
    "start_time": "2022-03-20T08:25:22.783Z"
   },
   {
    "duration": 4,
    "start_time": "2022-03-20T08:25:22.805Z"
   },
   {
    "duration": 39,
    "start_time": "2022-03-20T08:25:22.811Z"
   },
   {
    "duration": 4,
    "start_time": "2022-03-20T08:25:22.852Z"
   },
   {
    "duration": 23,
    "start_time": "2022-03-20T08:25:22.858Z"
   },
   {
    "duration": 21,
    "start_time": "2022-03-20T08:25:22.882Z"
   },
   {
    "duration": 22,
    "start_time": "2022-03-20T08:25:22.904Z"
   },
   {
    "duration": 9,
    "start_time": "2022-03-20T08:25:22.927Z"
   },
   {
    "duration": 10,
    "start_time": "2022-03-20T08:25:22.937Z"
   },
   {
    "duration": 18,
    "start_time": "2022-03-20T08:25:28.960Z"
   },
   {
    "duration": 21,
    "start_time": "2022-03-20T08:27:08.451Z"
   },
   {
    "duration": 15,
    "start_time": "2022-03-20T08:28:01.778Z"
   },
   {
    "duration": 4,
    "start_time": "2022-03-20T08:30:26.872Z"
   },
   {
    "duration": 43,
    "start_time": "2022-03-20T08:30:26.878Z"
   },
   {
    "duration": 9,
    "start_time": "2022-03-20T08:30:26.923Z"
   },
   {
    "duration": 160,
    "start_time": "2022-03-20T08:30:26.934Z"
   },
   {
    "duration": 23,
    "start_time": "2022-03-20T08:30:27.096Z"
   },
   {
    "duration": 92,
    "start_time": "2022-03-20T08:30:27.121Z"
   },
   {
    "duration": 19,
    "start_time": "2022-03-20T08:30:27.216Z"
   },
   {
    "duration": 136,
    "start_time": "2022-03-20T08:30:27.236Z"
   },
   {
    "duration": 25,
    "start_time": "2022-03-20T08:30:27.374Z"
   },
   {
    "duration": 20,
    "start_time": "2022-03-20T08:30:27.401Z"
   },
   {
    "duration": 4,
    "start_time": "2022-03-20T08:30:27.422Z"
   },
   {
    "duration": 29,
    "start_time": "2022-03-20T08:30:27.427Z"
   },
   {
    "duration": 3,
    "start_time": "2022-03-20T08:30:27.458Z"
   },
   {
    "duration": 25,
    "start_time": "2022-03-20T08:30:27.463Z"
   },
   {
    "duration": 21,
    "start_time": "2022-03-20T08:30:27.491Z"
   },
   {
    "duration": 31,
    "start_time": "2022-03-20T08:30:27.514Z"
   },
   {
    "duration": 0,
    "start_time": "2022-03-20T08:30:27.546Z"
   },
   {
    "duration": 0,
    "start_time": "2022-03-20T08:30:27.547Z"
   },
   {
    "duration": 0,
    "start_time": "2022-03-20T08:30:27.549Z"
   },
   {
    "duration": 0,
    "start_time": "2022-03-20T08:30:27.550Z"
   },
   {
    "duration": 0,
    "start_time": "2022-03-20T08:30:27.552Z"
   },
   {
    "duration": 3,
    "start_time": "2022-03-20T08:30:44.608Z"
   },
   {
    "duration": 42,
    "start_time": "2022-03-20T08:30:44.612Z"
   },
   {
    "duration": 10,
    "start_time": "2022-03-20T08:30:44.655Z"
   },
   {
    "duration": 150,
    "start_time": "2022-03-20T08:30:44.667Z"
   },
   {
    "duration": 25,
    "start_time": "2022-03-20T08:30:44.819Z"
   },
   {
    "duration": 96,
    "start_time": "2022-03-20T08:30:44.845Z"
   },
   {
    "duration": 21,
    "start_time": "2022-03-20T08:30:44.942Z"
   },
   {
    "duration": 133,
    "start_time": "2022-03-20T08:30:44.965Z"
   },
   {
    "duration": 22,
    "start_time": "2022-03-20T08:30:45.100Z"
   },
   {
    "duration": 19,
    "start_time": "2022-03-20T08:30:45.124Z"
   },
   {
    "duration": 3,
    "start_time": "2022-03-20T08:30:45.145Z"
   },
   {
    "duration": 42,
    "start_time": "2022-03-20T08:30:45.150Z"
   },
   {
    "duration": 5,
    "start_time": "2022-03-20T08:30:45.193Z"
   },
   {
    "duration": 15,
    "start_time": "2022-03-20T08:30:45.199Z"
   },
   {
    "duration": 21,
    "start_time": "2022-03-20T08:30:45.215Z"
   },
   {
    "duration": 22,
    "start_time": "2022-03-20T08:30:45.237Z"
   },
   {
    "duration": 11,
    "start_time": "2022-03-20T08:30:45.281Z"
   },
   {
    "duration": 34,
    "start_time": "2022-03-20T08:30:45.293Z"
   },
   {
    "duration": 2819,
    "start_time": "2022-03-20T08:30:45.329Z"
   },
   {
    "duration": 0,
    "start_time": "2022-03-20T08:30:48.150Z"
   },
   {
    "duration": 0,
    "start_time": "2022-03-20T08:30:48.151Z"
   },
   {
    "duration": 3,
    "start_time": "2022-03-20T08:31:44.137Z"
   },
   {
    "duration": 40,
    "start_time": "2022-03-20T08:31:44.141Z"
   },
   {
    "duration": 10,
    "start_time": "2022-03-20T08:31:44.182Z"
   },
   {
    "duration": 184,
    "start_time": "2022-03-20T08:31:44.194Z"
   },
   {
    "duration": 37,
    "start_time": "2022-03-20T08:31:44.380Z"
   },
   {
    "duration": 88,
    "start_time": "2022-03-20T08:31:44.419Z"
   },
   {
    "duration": 18,
    "start_time": "2022-03-20T08:31:44.508Z"
   },
   {
    "duration": 134,
    "start_time": "2022-03-20T08:31:44.527Z"
   },
   {
    "duration": 24,
    "start_time": "2022-03-20T08:31:44.664Z"
   },
   {
    "duration": 20,
    "start_time": "2022-03-20T08:31:44.689Z"
   },
   {
    "duration": 3,
    "start_time": "2022-03-20T08:31:44.711Z"
   },
   {
    "duration": 31,
    "start_time": "2022-03-20T08:31:44.716Z"
   },
   {
    "duration": 4,
    "start_time": "2022-03-20T08:31:44.748Z"
   },
   {
    "duration": 28,
    "start_time": "2022-03-20T08:31:44.753Z"
   },
   {
    "duration": 22,
    "start_time": "2022-03-20T08:31:44.782Z"
   },
   {
    "duration": 21,
    "start_time": "2022-03-20T08:31:44.805Z"
   },
   {
    "duration": 10,
    "start_time": "2022-03-20T08:31:44.827Z"
   },
   {
    "duration": 22,
    "start_time": "2022-03-20T08:31:44.839Z"
   },
   {
    "duration": 3,
    "start_time": "2022-03-20T08:31:44.880Z"
   },
   {
    "duration": 14,
    "start_time": "2022-03-20T08:31:44.884Z"
   },
   {
    "duration": 17,
    "start_time": "2022-03-20T08:31:44.900Z"
   },
   {
    "duration": 11,
    "start_time": "2022-03-20T08:32:08.374Z"
   },
   {
    "duration": 15,
    "start_time": "2022-03-20T08:33:02.265Z"
   },
   {
    "duration": 11,
    "start_time": "2022-03-20T08:33:02.777Z"
   },
   {
    "duration": 4,
    "start_time": "2022-03-20T08:36:43.805Z"
   },
   {
    "duration": 27,
    "start_time": "2022-03-20T08:37:26.838Z"
   },
   {
    "duration": 16,
    "start_time": "2022-03-20T08:38:18.965Z"
   },
   {
    "duration": 20,
    "start_time": "2022-03-20T08:38:31.416Z"
   },
   {
    "duration": 16,
    "start_time": "2022-03-20T08:39:50.354Z"
   },
   {
    "duration": 12,
    "start_time": "2022-03-20T08:39:56.543Z"
   },
   {
    "duration": 2,
    "start_time": "2022-03-20T08:41:09.251Z"
   },
   {
    "duration": 50,
    "start_time": "2022-03-20T08:41:09.255Z"
   },
   {
    "duration": 9,
    "start_time": "2022-03-20T08:41:09.306Z"
   },
   {
    "duration": 159,
    "start_time": "2022-03-20T08:41:09.317Z"
   },
   {
    "duration": 24,
    "start_time": "2022-03-20T08:41:09.481Z"
   },
   {
    "duration": 93,
    "start_time": "2022-03-20T08:41:09.507Z"
   },
   {
    "duration": 19,
    "start_time": "2022-03-20T08:41:09.602Z"
   },
   {
    "duration": 142,
    "start_time": "2022-03-20T08:41:09.623Z"
   },
   {
    "duration": 25,
    "start_time": "2022-03-20T08:41:09.769Z"
   },
   {
    "duration": 21,
    "start_time": "2022-03-20T08:41:09.796Z"
   },
   {
    "duration": 4,
    "start_time": "2022-03-20T08:41:09.818Z"
   },
   {
    "duration": 32,
    "start_time": "2022-03-20T08:41:09.823Z"
   },
   {
    "duration": 4,
    "start_time": "2022-03-20T08:41:09.856Z"
   },
   {
    "duration": 32,
    "start_time": "2022-03-20T08:41:09.861Z"
   },
   {
    "duration": 24,
    "start_time": "2022-03-20T08:41:09.894Z"
   },
   {
    "duration": 23,
    "start_time": "2022-03-20T08:41:09.919Z"
   },
   {
    "duration": 10,
    "start_time": "2022-03-20T08:41:09.943Z"
   },
   {
    "duration": 48,
    "start_time": "2022-03-20T08:41:09.954Z"
   },
   {
    "duration": 15,
    "start_time": "2022-03-20T08:41:10.004Z"
   },
   {
    "duration": 22,
    "start_time": "2022-03-20T08:41:10.021Z"
   },
   {
    "duration": 2,
    "start_time": "2022-03-20T08:41:10.045Z"
   },
   {
    "duration": 33,
    "start_time": "2022-03-20T08:41:10.049Z"
   },
   {
    "duration": 21,
    "start_time": "2022-03-20T08:41:31.109Z"
   },
   {
    "duration": 13,
    "start_time": "2022-03-20T08:41:50.928Z"
   },
   {
    "duration": 10,
    "start_time": "2022-03-20T08:42:06.542Z"
   },
   {
    "duration": 12,
    "start_time": "2022-03-20T08:43:06.754Z"
   },
   {
    "duration": 13,
    "start_time": "2022-03-20T08:43:14.331Z"
   },
   {
    "duration": 13,
    "start_time": "2022-03-20T08:43:17.377Z"
   },
   {
    "duration": 2,
    "start_time": "2022-03-20T08:43:19.612Z"
   },
   {
    "duration": 37,
    "start_time": "2022-03-20T08:43:19.619Z"
   },
   {
    "duration": 11,
    "start_time": "2022-03-20T08:43:19.658Z"
   },
   {
    "duration": 152,
    "start_time": "2022-03-20T08:43:19.671Z"
   },
   {
    "duration": 24,
    "start_time": "2022-03-20T08:43:19.826Z"
   },
   {
    "duration": 91,
    "start_time": "2022-03-20T08:43:19.851Z"
   },
   {
    "duration": 19,
    "start_time": "2022-03-20T08:43:19.944Z"
   },
   {
    "duration": 134,
    "start_time": "2022-03-20T08:43:19.964Z"
   },
   {
    "duration": 21,
    "start_time": "2022-03-20T08:43:20.100Z"
   },
   {
    "duration": 22,
    "start_time": "2022-03-20T08:43:20.122Z"
   },
   {
    "duration": 3,
    "start_time": "2022-03-20T08:43:20.147Z"
   },
   {
    "duration": 46,
    "start_time": "2022-03-20T08:43:20.152Z"
   },
   {
    "duration": 4,
    "start_time": "2022-03-20T08:43:20.199Z"
   },
   {
    "duration": 14,
    "start_time": "2022-03-20T08:43:20.204Z"
   },
   {
    "duration": 21,
    "start_time": "2022-03-20T08:43:20.219Z"
   },
   {
    "duration": 20,
    "start_time": "2022-03-20T08:43:20.241Z"
   },
   {
    "duration": 27,
    "start_time": "2022-03-20T08:43:20.263Z"
   },
   {
    "duration": 24,
    "start_time": "2022-03-20T08:43:20.292Z"
   },
   {
    "duration": 13,
    "start_time": "2022-03-20T08:43:20.318Z"
   },
   {
    "duration": 21,
    "start_time": "2022-03-20T08:43:20.333Z"
   },
   {
    "duration": 2,
    "start_time": "2022-03-20T08:43:20.356Z"
   },
   {
    "duration": 31,
    "start_time": "2022-03-20T08:43:20.359Z"
   },
   {
    "duration": 11,
    "start_time": "2022-03-20T08:43:29.348Z"
   },
   {
    "duration": 20,
    "start_time": "2022-03-20T08:43:52.188Z"
   },
   {
    "duration": 2,
    "start_time": "2022-03-20T08:43:54.480Z"
   },
   {
    "duration": 53,
    "start_time": "2022-03-20T08:43:54.484Z"
   },
   {
    "duration": 9,
    "start_time": "2022-03-20T08:43:54.538Z"
   },
   {
    "duration": 148,
    "start_time": "2022-03-20T08:43:54.548Z"
   },
   {
    "duration": 24,
    "start_time": "2022-03-20T08:43:54.699Z"
   },
   {
    "duration": 90,
    "start_time": "2022-03-20T08:43:54.725Z"
   },
   {
    "duration": 18,
    "start_time": "2022-03-20T08:43:54.817Z"
   },
   {
    "duration": 141,
    "start_time": "2022-03-20T08:43:54.837Z"
   },
   {
    "duration": 23,
    "start_time": "2022-03-20T08:43:54.980Z"
   },
   {
    "duration": 25,
    "start_time": "2022-03-20T08:43:55.005Z"
   },
   {
    "duration": 4,
    "start_time": "2022-03-20T08:43:55.032Z"
   },
   {
    "duration": 32,
    "start_time": "2022-03-20T08:43:55.038Z"
   },
   {
    "duration": 5,
    "start_time": "2022-03-20T08:43:55.081Z"
   },
   {
    "duration": 15,
    "start_time": "2022-03-20T08:43:55.089Z"
   },
   {
    "duration": 22,
    "start_time": "2022-03-20T08:43:55.106Z"
   },
   {
    "duration": 21,
    "start_time": "2022-03-20T08:43:55.130Z"
   },
   {
    "duration": 31,
    "start_time": "2022-03-20T08:43:55.153Z"
   },
   {
    "duration": 27,
    "start_time": "2022-03-20T08:43:55.185Z"
   },
   {
    "duration": 13,
    "start_time": "2022-03-20T08:43:55.214Z"
   },
   {
    "duration": 21,
    "start_time": "2022-03-20T08:43:55.228Z"
   },
   {
    "duration": 2,
    "start_time": "2022-03-20T08:43:55.251Z"
   },
   {
    "duration": 32,
    "start_time": "2022-03-20T08:43:55.255Z"
   },
   {
    "duration": 12,
    "start_time": "2022-03-20T08:44:19.480Z"
   },
   {
    "duration": 10,
    "start_time": "2022-03-20T08:44:52.471Z"
   },
   {
    "duration": 10,
    "start_time": "2022-03-20T08:44:56.280Z"
   },
   {
    "duration": 10,
    "start_time": "2022-03-20T08:44:58.404Z"
   },
   {
    "duration": 9,
    "start_time": "2022-03-20T08:45:11.113Z"
   },
   {
    "duration": 2,
    "start_time": "2022-03-20T08:45:22.325Z"
   },
   {
    "duration": 41,
    "start_time": "2022-03-20T08:45:22.329Z"
   },
   {
    "duration": 11,
    "start_time": "2022-03-20T08:45:22.372Z"
   },
   {
    "duration": 160,
    "start_time": "2022-03-20T08:45:22.385Z"
   },
   {
    "duration": 25,
    "start_time": "2022-03-20T08:45:22.547Z"
   },
   {
    "duration": 88,
    "start_time": "2022-03-20T08:45:22.581Z"
   },
   {
    "duration": 19,
    "start_time": "2022-03-20T08:45:22.670Z"
   },
   {
    "duration": 132,
    "start_time": "2022-03-20T08:45:22.691Z"
   },
   {
    "duration": 20,
    "start_time": "2022-03-20T08:45:22.826Z"
   },
   {
    "duration": 20,
    "start_time": "2022-03-20T08:45:22.848Z"
   },
   {
    "duration": 3,
    "start_time": "2022-03-20T08:45:22.870Z"
   },
   {
    "duration": 30,
    "start_time": "2022-03-20T08:45:22.880Z"
   },
   {
    "duration": 4,
    "start_time": "2022-03-20T08:45:22.912Z"
   },
   {
    "duration": 14,
    "start_time": "2022-03-20T08:45:22.918Z"
   },
   {
    "duration": 47,
    "start_time": "2022-03-20T08:45:22.934Z"
   },
   {
    "duration": 29,
    "start_time": "2022-03-20T08:45:22.983Z"
   },
   {
    "duration": 10,
    "start_time": "2022-03-20T08:45:23.014Z"
   },
   {
    "duration": 22,
    "start_time": "2022-03-20T08:45:23.025Z"
   },
   {
    "duration": 34,
    "start_time": "2022-03-20T08:45:23.048Z"
   },
   {
    "duration": 20,
    "start_time": "2022-03-20T08:45:23.084Z"
   },
   {
    "duration": 8,
    "start_time": "2022-03-20T08:45:23.106Z"
   },
   {
    "duration": 8,
    "start_time": "2022-03-20T08:45:23.116Z"
   },
   {
    "duration": 9,
    "start_time": "2022-03-20T08:45:50.502Z"
   },
   {
    "duration": 3,
    "start_time": "2022-03-20T08:46:24.428Z"
   },
   {
    "duration": 8,
    "start_time": "2022-03-20T08:46:30.847Z"
   },
   {
    "duration": 9,
    "start_time": "2022-03-20T08:46:36.409Z"
   },
   {
    "duration": 2,
    "start_time": "2022-03-20T08:46:48.399Z"
   },
   {
    "duration": 39,
    "start_time": "2022-03-20T08:46:48.403Z"
   },
   {
    "duration": 10,
    "start_time": "2022-03-20T08:46:48.444Z"
   },
   {
    "duration": 152,
    "start_time": "2022-03-20T08:46:48.455Z"
   },
   {
    "duration": 24,
    "start_time": "2022-03-20T08:46:48.608Z"
   },
   {
    "duration": 88,
    "start_time": "2022-03-20T08:46:48.634Z"
   },
   {
    "duration": 18,
    "start_time": "2022-03-20T08:46:48.724Z"
   },
   {
    "duration": 139,
    "start_time": "2022-03-20T08:46:48.744Z"
   },
   {
    "duration": 20,
    "start_time": "2022-03-20T08:46:48.885Z"
   },
   {
    "duration": 21,
    "start_time": "2022-03-20T08:46:48.907Z"
   },
   {
    "duration": 3,
    "start_time": "2022-03-20T08:46:48.930Z"
   },
   {
    "duration": 33,
    "start_time": "2022-03-20T08:46:48.935Z"
   },
   {
    "duration": 13,
    "start_time": "2022-03-20T08:46:48.970Z"
   },
   {
    "duration": 33,
    "start_time": "2022-03-20T08:46:48.985Z"
   },
   {
    "duration": 36,
    "start_time": "2022-03-20T08:46:49.019Z"
   },
   {
    "duration": 20,
    "start_time": "2022-03-20T08:46:49.057Z"
   },
   {
    "duration": 9,
    "start_time": "2022-03-20T08:46:49.079Z"
   },
   {
    "duration": 31,
    "start_time": "2022-03-20T08:46:49.090Z"
   },
   {
    "duration": 31,
    "start_time": "2022-03-20T08:46:49.123Z"
   },
   {
    "duration": 35,
    "start_time": "2022-03-20T08:46:49.155Z"
   },
   {
    "duration": 6,
    "start_time": "2022-03-20T08:46:49.192Z"
   },
   {
    "duration": 18,
    "start_time": "2022-03-20T08:46:49.200Z"
   },
   {
    "duration": 8,
    "start_time": "2022-03-20T09:26:06.670Z"
   },
   {
    "duration": 12,
    "start_time": "2022-03-20T09:28:11.899Z"
   },
   {
    "duration": 20,
    "start_time": "2022-03-20T09:28:20.669Z"
   },
   {
    "duration": 25,
    "start_time": "2022-03-20T09:36:16.183Z"
   },
   {
    "duration": 20,
    "start_time": "2022-03-20T09:36:20.812Z"
   },
   {
    "duration": 25,
    "start_time": "2022-03-20T09:36:33.003Z"
   },
   {
    "duration": 16,
    "start_time": "2022-03-20T09:36:35.322Z"
   },
   {
    "duration": 12,
    "start_time": "2022-03-20T09:36:40.492Z"
   },
   {
    "duration": 9,
    "start_time": "2022-03-20T09:39:01.614Z"
   },
   {
    "duration": 9,
    "start_time": "2022-03-20T09:41:08.382Z"
   },
   {
    "duration": 14,
    "start_time": "2022-03-20T09:41:20.364Z"
   },
   {
    "duration": 2,
    "start_time": "2022-03-20T09:41:38.243Z"
   },
   {
    "duration": 49,
    "start_time": "2022-03-20T09:41:38.247Z"
   },
   {
    "duration": 9,
    "start_time": "2022-03-20T09:41:38.297Z"
   },
   {
    "duration": 145,
    "start_time": "2022-03-20T09:41:38.308Z"
   },
   {
    "duration": 28,
    "start_time": "2022-03-20T09:41:38.454Z"
   },
   {
    "duration": 91,
    "start_time": "2022-03-20T09:41:38.483Z"
   },
   {
    "duration": 18,
    "start_time": "2022-03-20T09:41:38.575Z"
   },
   {
    "duration": 169,
    "start_time": "2022-03-20T09:41:38.595Z"
   },
   {
    "duration": 21,
    "start_time": "2022-03-20T09:41:38.766Z"
   },
   {
    "duration": 21,
    "start_time": "2022-03-20T09:41:38.789Z"
   },
   {
    "duration": 4,
    "start_time": "2022-03-20T09:41:38.811Z"
   },
   {
    "duration": 31,
    "start_time": "2022-03-20T09:41:38.816Z"
   },
   {
    "duration": 3,
    "start_time": "2022-03-20T09:41:38.849Z"
   },
   {
    "duration": 13,
    "start_time": "2022-03-20T09:41:38.854Z"
   },
   {
    "duration": 21,
    "start_time": "2022-03-20T09:41:38.880Z"
   },
   {
    "duration": 21,
    "start_time": "2022-03-20T09:41:38.903Z"
   },
   {
    "duration": 9,
    "start_time": "2022-03-20T09:41:38.926Z"
   },
   {
    "duration": 24,
    "start_time": "2022-03-20T09:41:38.936Z"
   },
   {
    "duration": 30,
    "start_time": "2022-03-20T09:41:38.961Z"
   },
   {
    "duration": 15,
    "start_time": "2022-03-20T09:41:38.992Z"
   },
   {
    "duration": 9,
    "start_time": "2022-03-20T09:41:39.008Z"
   },
   {
    "duration": 27,
    "start_time": "2022-03-20T09:41:39.018Z"
   },
   {
    "duration": 2808,
    "start_time": "2022-03-20T09:41:39.046Z"
   },
   {
    "duration": 0,
    "start_time": "2022-03-20T09:41:41.856Z"
   },
   {
    "duration": 11,
    "start_time": "2022-03-20T09:41:51.563Z"
   },
   {
    "duration": 17,
    "start_time": "2022-03-20T09:42:06.452Z"
   },
   {
    "duration": 13,
    "start_time": "2022-03-20T09:42:07.335Z"
   },
   {
    "duration": 18,
    "start_time": "2022-03-20T09:48:24.852Z"
   },
   {
    "duration": 22,
    "start_time": "2022-03-20T09:48:34.521Z"
   },
   {
    "duration": 23,
    "start_time": "2022-03-20T09:56:30.316Z"
   },
   {
    "duration": 16,
    "start_time": "2022-03-20T09:56:44.074Z"
   },
   {
    "duration": 102,
    "start_time": "2022-03-20T12:31:45.675Z"
   },
   {
    "duration": 542,
    "start_time": "2022-03-20T12:31:48.774Z"
   },
   {
    "duration": 49,
    "start_time": "2022-03-20T12:31:49.319Z"
   },
   {
    "duration": 17,
    "start_time": "2022-03-20T12:31:49.370Z"
   },
   {
    "duration": 221,
    "start_time": "2022-03-20T12:31:49.391Z"
   },
   {
    "duration": 34,
    "start_time": "2022-03-20T12:31:49.615Z"
   },
   {
    "duration": 141,
    "start_time": "2022-03-20T12:31:49.651Z"
   },
   {
    "duration": 26,
    "start_time": "2022-03-20T12:31:49.795Z"
   },
   {
    "duration": 214,
    "start_time": "2022-03-20T12:31:49.823Z"
   },
   {
    "duration": 46,
    "start_time": "2022-03-20T12:31:50.039Z"
   },
   {
    "duration": 19,
    "start_time": "2022-03-20T12:31:50.090Z"
   },
   {
    "duration": 5,
    "start_time": "2022-03-20T12:31:50.112Z"
   },
   {
    "duration": 70,
    "start_time": "2022-03-20T12:31:50.119Z"
   },
   {
    "duration": 7,
    "start_time": "2022-03-20T12:31:50.191Z"
   },
   {
    "duration": 21,
    "start_time": "2022-03-20T12:31:50.200Z"
   },
   {
    "duration": 60,
    "start_time": "2022-03-20T12:31:50.223Z"
   },
   {
    "duration": 33,
    "start_time": "2022-03-20T12:31:50.286Z"
   },
   {
    "duration": 16,
    "start_time": "2022-03-20T12:31:50.321Z"
   },
   {
    "duration": 57,
    "start_time": "2022-03-20T12:31:50.339Z"
   },
   {
    "duration": 22,
    "start_time": "2022-03-20T12:31:50.399Z"
   },
   {
    "duration": 22,
    "start_time": "2022-03-20T12:31:50.424Z"
   },
   {
    "duration": 45,
    "start_time": "2022-03-20T12:31:50.448Z"
   },
   {
    "duration": 59,
    "start_time": "2022-03-20T12:31:50.496Z"
   },
   {
    "duration": 47,
    "start_time": "2022-03-20T12:31:50.558Z"
   },
   {
    "duration": 48,
    "start_time": "2022-03-20T12:31:50.608Z"
   },
   {
    "duration": 43,
    "start_time": "2022-03-20T12:31:50.659Z"
   },
   {
    "duration": 5,
    "start_time": "2022-03-20T12:34:28.503Z"
   },
   {
    "duration": 58,
    "start_time": "2022-03-20T12:34:28.511Z"
   },
   {
    "duration": 16,
    "start_time": "2022-03-20T12:34:28.571Z"
   },
   {
    "duration": 232,
    "start_time": "2022-03-20T12:34:28.590Z"
   },
   {
    "duration": 71,
    "start_time": "2022-03-20T12:34:28.825Z"
   },
   {
    "duration": 154,
    "start_time": "2022-03-20T12:34:28.899Z"
   },
   {
    "duration": 34,
    "start_time": "2022-03-20T12:34:29.055Z"
   },
   {
    "duration": 204,
    "start_time": "2022-03-20T12:34:29.092Z"
   },
   {
    "duration": 35,
    "start_time": "2022-03-20T12:34:29.300Z"
   },
   {
    "duration": 52,
    "start_time": "2022-03-20T12:34:29.338Z"
   },
   {
    "duration": 6,
    "start_time": "2022-03-20T12:34:29.392Z"
   },
   {
    "duration": 49,
    "start_time": "2022-03-20T12:34:29.400Z"
   },
   {
    "duration": 7,
    "start_time": "2022-03-20T12:34:29.452Z"
   },
   {
    "duration": 18,
    "start_time": "2022-03-20T12:34:29.483Z"
   },
   {
    "duration": 31,
    "start_time": "2022-03-20T12:34:29.503Z"
   },
   {
    "duration": 65,
    "start_time": "2022-03-20T12:34:29.537Z"
   },
   {
    "duration": 16,
    "start_time": "2022-03-20T12:34:29.605Z"
   },
   {
    "duration": 35,
    "start_time": "2022-03-20T12:34:29.623Z"
   },
   {
    "duration": 22,
    "start_time": "2022-03-20T12:34:29.685Z"
   },
   {
    "duration": 21,
    "start_time": "2022-03-20T12:34:29.709Z"
   },
   {
    "duration": 16,
    "start_time": "2022-03-20T12:34:29.732Z"
   },
   {
    "duration": 69,
    "start_time": "2022-03-20T12:34:29.750Z"
   },
   {
    "duration": 24,
    "start_time": "2022-03-20T12:34:29.822Z"
   },
   {
    "duration": 49,
    "start_time": "2022-03-20T12:34:29.850Z"
   },
   {
    "duration": 22,
    "start_time": "2022-03-20T12:36:57.209Z"
   },
   {
    "duration": 26,
    "start_time": "2022-03-20T12:37:51.717Z"
   },
   {
    "duration": 39,
    "start_time": "2022-03-20T12:38:30.957Z"
   },
   {
    "duration": 13,
    "start_time": "2022-03-20T12:44:13.583Z"
   },
   {
    "duration": 998,
    "start_time": "2022-03-20T12:44:22.846Z"
   },
   {
    "duration": 1022,
    "start_time": "2022-03-20T12:48:39.995Z"
   },
   {
    "duration": 1037,
    "start_time": "2022-03-20T12:49:00.903Z"
   },
   {
    "duration": 3,
    "start_time": "2022-03-20T12:49:14.652Z"
   },
   {
    "duration": 177,
    "start_time": "2022-03-20T12:49:14.658Z"
   },
   {
    "duration": 17,
    "start_time": "2022-03-20T12:49:14.838Z"
   },
   {
    "duration": 40223,
    "start_time": "2022-03-20T12:49:14.857Z"
   },
   {
    "duration": 37,
    "start_time": "2022-03-20T12:49:55.082Z"
   },
   {
    "duration": 4,
    "start_time": "2022-03-20T12:51:03.180Z"
   },
   {
    "duration": 18,
    "start_time": "2022-03-20T12:51:03.186Z"
   },
   {
    "duration": 157,
    "start_time": "2022-03-20T12:51:03.208Z"
   },
   {
    "duration": 30,
    "start_time": "2022-03-20T12:51:03.367Z"
   },
   {
    "duration": 37338,
    "start_time": "2022-03-20T12:51:03.401Z"
   },
   {
    "duration": 4,
    "start_time": "2022-03-20T12:52:32.467Z"
   },
   {
    "duration": 30,
    "start_time": "2022-03-20T12:52:32.475Z"
   },
   {
    "duration": 46,
    "start_time": "2022-03-20T12:52:32.509Z"
   },
   {
    "duration": 18,
    "start_time": "2022-03-20T12:52:32.558Z"
   },
   {
    "duration": 241,
    "start_time": "2022-03-20T12:52:32.579Z"
   },
   {
    "duration": 38,
    "start_time": "2022-03-20T12:52:32.822Z"
   },
   {
    "duration": 200,
    "start_time": "2022-03-20T12:52:32.862Z"
   },
   {
    "duration": 37,
    "start_time": "2022-03-20T12:52:33.066Z"
   },
   {
    "duration": 419,
    "start_time": "2022-03-20T12:52:33.107Z"
   },
   {
    "duration": 30,
    "start_time": "2022-03-20T12:52:33.529Z"
   },
   {
    "duration": 41,
    "start_time": "2022-03-20T12:52:33.565Z"
   },
   {
    "duration": 9,
    "start_time": "2022-03-20T12:52:33.609Z"
   },
   {
    "duration": 77,
    "start_time": "2022-03-20T12:52:33.622Z"
   },
   {
    "duration": 6,
    "start_time": "2022-03-20T12:52:33.701Z"
   },
   {
    "duration": 57,
    "start_time": "2022-03-20T12:52:33.710Z"
   },
   {
    "duration": 108,
    "start_time": "2022-03-20T12:52:33.770Z"
   },
   {
    "duration": 44,
    "start_time": "2022-03-20T12:52:33.882Z"
   },
   {
    "duration": 31,
    "start_time": "2022-03-20T12:52:33.929Z"
   },
   {
    "duration": 73,
    "start_time": "2022-03-20T12:52:33.963Z"
   },
   {
    "duration": 29,
    "start_time": "2022-03-20T12:52:34.038Z"
   },
   {
    "duration": 31,
    "start_time": "2022-03-20T12:52:34.069Z"
   },
   {
    "duration": 18,
    "start_time": "2022-03-20T12:52:34.102Z"
   },
   {
    "duration": 60,
    "start_time": "2022-03-20T12:52:34.123Z"
   },
   {
    "duration": 26,
    "start_time": "2022-03-20T12:52:34.185Z"
   },
   {
    "duration": 35,
    "start_time": "2022-03-20T12:52:34.213Z"
   },
   {
    "duration": 25,
    "start_time": "2022-03-20T12:55:09.144Z"
   },
   {
    "duration": 11,
    "start_time": "2022-03-20T12:55:17.922Z"
   },
   {
    "duration": 26,
    "start_time": "2022-03-20T12:55:22.466Z"
   },
   {
    "duration": 29,
    "start_time": "2022-03-20T12:56:44.560Z"
   },
   {
    "duration": 47,
    "start_time": "2022-03-20T12:57:03.914Z"
   },
   {
    "duration": 4,
    "start_time": "2022-03-20T12:57:45.558Z"
   },
   {
    "duration": 37,
    "start_time": "2022-03-20T12:57:45.564Z"
   },
   {
    "duration": 16,
    "start_time": "2022-03-20T12:57:45.604Z"
   },
   {
    "duration": 235,
    "start_time": "2022-03-20T12:57:45.624Z"
   },
   {
    "duration": 40,
    "start_time": "2022-03-20T12:57:45.862Z"
   },
   {
    "duration": 135,
    "start_time": "2022-03-20T12:57:45.905Z"
   },
   {
    "duration": 41,
    "start_time": "2022-03-20T12:57:46.043Z"
   },
   {
    "duration": 221,
    "start_time": "2022-03-20T12:57:46.086Z"
   },
   {
    "duration": 46,
    "start_time": "2022-03-20T12:57:46.312Z"
   },
   {
    "duration": 32,
    "start_time": "2022-03-20T12:57:46.360Z"
   },
   {
    "duration": 6,
    "start_time": "2022-03-20T12:57:46.394Z"
   },
   {
    "duration": 50,
    "start_time": "2022-03-20T12:57:46.402Z"
   },
   {
    "duration": 30,
    "start_time": "2022-03-20T12:57:46.454Z"
   },
   {
    "duration": 17,
    "start_time": "2022-03-20T12:57:46.486Z"
   },
   {
    "duration": 32,
    "start_time": "2022-03-20T12:57:46.505Z"
   },
   {
    "duration": 59,
    "start_time": "2022-03-20T12:57:46.539Z"
   },
   {
    "duration": 16,
    "start_time": "2022-03-20T12:57:46.600Z"
   },
   {
    "duration": 34,
    "start_time": "2022-03-20T12:57:46.619Z"
   },
   {
    "duration": 44,
    "start_time": "2022-03-20T12:57:46.656Z"
   },
   {
    "duration": 30,
    "start_time": "2022-03-20T12:57:46.703Z"
   },
   {
    "duration": 16,
    "start_time": "2022-03-20T12:57:46.736Z"
   },
   {
    "duration": 63,
    "start_time": "2022-03-20T12:57:46.755Z"
   },
   {
    "duration": 25,
    "start_time": "2022-03-20T12:57:46.821Z"
   },
   {
    "duration": 50,
    "start_time": "2022-03-20T12:57:46.849Z"
   },
   {
    "duration": 35,
    "start_time": "2022-03-20T12:57:46.901Z"
   },
   {
    "duration": 41,
    "start_time": "2022-03-20T13:03:46.532Z"
   },
   {
    "duration": 5,
    "start_time": "2022-03-20T13:04:05.351Z"
   },
   {
    "duration": 16,
    "start_time": "2022-03-20T13:04:13.038Z"
   },
   {
    "duration": 4,
    "start_time": "2022-03-20T13:04:30.716Z"
   },
   {
    "duration": 43,
    "start_time": "2022-03-20T13:04:30.723Z"
   },
   {
    "duration": 15,
    "start_time": "2022-03-20T13:04:30.769Z"
   },
   {
    "duration": 192,
    "start_time": "2022-03-20T13:04:30.786Z"
   },
   {
    "duration": 33,
    "start_time": "2022-03-20T13:04:30.981Z"
   },
   {
    "duration": 126,
    "start_time": "2022-03-20T13:04:31.016Z"
   },
   {
    "duration": 71,
    "start_time": "2022-03-20T13:04:31.144Z"
   },
   {
    "duration": 197,
    "start_time": "2022-03-20T13:04:31.218Z"
   },
   {
    "duration": 28,
    "start_time": "2022-03-20T13:04:31.418Z"
   },
   {
    "duration": 39,
    "start_time": "2022-03-20T13:04:31.449Z"
   },
   {
    "duration": 15,
    "start_time": "2022-03-20T13:04:31.492Z"
   },
   {
    "duration": 41,
    "start_time": "2022-03-20T13:04:31.509Z"
   },
   {
    "duration": 0,
    "start_time": "2022-03-20T13:04:31.552Z"
   },
   {
    "duration": 0,
    "start_time": "2022-03-20T13:04:31.554Z"
   },
   {
    "duration": 0,
    "start_time": "2022-03-20T13:04:31.555Z"
   },
   {
    "duration": 0,
    "start_time": "2022-03-20T13:04:31.557Z"
   },
   {
    "duration": 0,
    "start_time": "2022-03-20T13:04:31.559Z"
   },
   {
    "duration": 0,
    "start_time": "2022-03-20T13:04:31.560Z"
   },
   {
    "duration": 0,
    "start_time": "2022-03-20T13:04:31.561Z"
   },
   {
    "duration": 0,
    "start_time": "2022-03-20T13:04:31.563Z"
   },
   {
    "duration": 0,
    "start_time": "2022-03-20T13:04:31.565Z"
   },
   {
    "duration": 0,
    "start_time": "2022-03-20T13:04:31.584Z"
   },
   {
    "duration": 0,
    "start_time": "2022-03-20T13:04:31.585Z"
   },
   {
    "duration": 0,
    "start_time": "2022-03-20T13:04:31.587Z"
   },
   {
    "duration": 0,
    "start_time": "2022-03-20T13:04:31.589Z"
   },
   {
    "duration": 0,
    "start_time": "2022-03-20T13:04:31.590Z"
   },
   {
    "duration": 0,
    "start_time": "2022-03-20T13:04:31.592Z"
   },
   {
    "duration": 4,
    "start_time": "2022-03-20T13:05:05.925Z"
   },
   {
    "duration": 42,
    "start_time": "2022-03-20T13:05:05.931Z"
   },
   {
    "duration": 16,
    "start_time": "2022-03-20T13:05:05.975Z"
   },
   {
    "duration": 310,
    "start_time": "2022-03-20T13:05:05.994Z"
   },
   {
    "duration": 33,
    "start_time": "2022-03-20T13:05:06.307Z"
   },
   {
    "duration": 189,
    "start_time": "2022-03-20T13:05:06.342Z"
   },
   {
    "duration": 25,
    "start_time": "2022-03-20T13:05:06.533Z"
   },
   {
    "duration": 199,
    "start_time": "2022-03-20T13:05:06.561Z"
   },
   {
    "duration": 36,
    "start_time": "2022-03-20T13:05:06.762Z"
   },
   {
    "duration": 21,
    "start_time": "2022-03-20T13:05:06.800Z"
   },
   {
    "duration": 12,
    "start_time": "2022-03-20T13:05:06.825Z"
   },
   {
    "duration": 47,
    "start_time": "2022-03-20T13:05:06.839Z"
   },
   {
    "duration": 0,
    "start_time": "2022-03-20T13:05:06.888Z"
   },
   {
    "duration": 0,
    "start_time": "2022-03-20T13:05:06.889Z"
   },
   {
    "duration": 0,
    "start_time": "2022-03-20T13:05:06.891Z"
   },
   {
    "duration": 0,
    "start_time": "2022-03-20T13:05:06.892Z"
   },
   {
    "duration": 0,
    "start_time": "2022-03-20T13:05:06.894Z"
   },
   {
    "duration": 0,
    "start_time": "2022-03-20T13:05:06.895Z"
   },
   {
    "duration": 0,
    "start_time": "2022-03-20T13:05:06.896Z"
   },
   {
    "duration": 0,
    "start_time": "2022-03-20T13:05:06.898Z"
   },
   {
    "duration": 0,
    "start_time": "2022-03-20T13:05:06.899Z"
   },
   {
    "duration": 0,
    "start_time": "2022-03-20T13:05:06.901Z"
   },
   {
    "duration": 0,
    "start_time": "2022-03-20T13:05:06.902Z"
   },
   {
    "duration": 0,
    "start_time": "2022-03-20T13:05:06.903Z"
   },
   {
    "duration": 0,
    "start_time": "2022-03-20T13:05:06.905Z"
   },
   {
    "duration": 0,
    "start_time": "2022-03-20T13:05:06.907Z"
   },
   {
    "duration": 0,
    "start_time": "2022-03-20T13:05:06.908Z"
   },
   {
    "duration": 4,
    "start_time": "2022-03-20T13:05:34.276Z"
   },
   {
    "duration": 46,
    "start_time": "2022-03-20T13:05:34.286Z"
   },
   {
    "duration": 17,
    "start_time": "2022-03-20T13:05:34.334Z"
   },
   {
    "duration": 230,
    "start_time": "2022-03-20T13:05:34.353Z"
   },
   {
    "duration": 34,
    "start_time": "2022-03-20T13:05:34.586Z"
   },
   {
    "duration": 133,
    "start_time": "2022-03-20T13:05:34.623Z"
   },
   {
    "duration": 36,
    "start_time": "2022-03-20T13:05:34.758Z"
   },
   {
    "duration": 201,
    "start_time": "2022-03-20T13:05:34.796Z"
   },
   {
    "duration": 28,
    "start_time": "2022-03-20T13:05:34.999Z"
   },
   {
    "duration": 19,
    "start_time": "2022-03-20T13:05:35.030Z"
   },
   {
    "duration": 37,
    "start_time": "2022-03-20T13:05:35.053Z"
   },
   {
    "duration": 14,
    "start_time": "2022-03-20T13:05:35.092Z"
   },
   {
    "duration": 11,
    "start_time": "2022-03-20T13:05:35.109Z"
   },
   {
    "duration": 49,
    "start_time": "2022-03-20T13:05:35.122Z"
   },
   {
    "duration": 14,
    "start_time": "2022-03-20T13:05:35.173Z"
   },
   {
    "duration": 35,
    "start_time": "2022-03-20T13:05:35.189Z"
   },
   {
    "duration": 33,
    "start_time": "2022-03-20T13:05:35.225Z"
   },
   {
    "duration": 46,
    "start_time": "2022-03-20T13:05:35.260Z"
   },
   {
    "duration": 16,
    "start_time": "2022-03-20T13:05:35.308Z"
   },
   {
    "duration": 57,
    "start_time": "2022-03-20T13:05:35.327Z"
   },
   {
    "duration": 23,
    "start_time": "2022-03-20T13:05:35.387Z"
   },
   {
    "duration": 24,
    "start_time": "2022-03-20T13:05:35.412Z"
   },
   {
    "duration": 15,
    "start_time": "2022-03-20T13:05:35.438Z"
   },
   {
    "duration": 65,
    "start_time": "2022-03-20T13:05:35.455Z"
   },
   {
    "duration": 24,
    "start_time": "2022-03-20T13:05:35.523Z"
   },
   {
    "duration": 58,
    "start_time": "2022-03-20T13:05:35.550Z"
   },
   {
    "duration": 36,
    "start_time": "2022-03-20T13:05:35.611Z"
   },
   {
    "duration": 36,
    "start_time": "2022-03-20T13:06:21.451Z"
   },
   {
    "duration": 48,
    "start_time": "2022-03-20T13:08:52.876Z"
   },
   {
    "duration": 45,
    "start_time": "2022-03-20T13:09:04.523Z"
   },
   {
    "duration": 36,
    "start_time": "2022-03-20T13:09:45.623Z"
   },
   {
    "duration": 24,
    "start_time": "2022-03-20T13:10:05.792Z"
   },
   {
    "duration": 34,
    "start_time": "2022-03-20T13:10:24.067Z"
   },
   {
    "duration": 36,
    "start_time": "2022-03-20T13:11:21.527Z"
   },
   {
    "duration": 4,
    "start_time": "2022-03-20T13:19:53.193Z"
   },
   {
    "duration": 40,
    "start_time": "2022-03-20T13:19:53.200Z"
   },
   {
    "duration": 15,
    "start_time": "2022-03-20T13:19:53.244Z"
   },
   {
    "duration": 221,
    "start_time": "2022-03-20T13:19:53.262Z"
   },
   {
    "duration": 34,
    "start_time": "2022-03-20T13:19:53.486Z"
   },
   {
    "duration": 137,
    "start_time": "2022-03-20T13:19:53.522Z"
   },
   {
    "duration": 37,
    "start_time": "2022-03-20T13:19:53.662Z"
   },
   {
    "duration": 200,
    "start_time": "2022-03-20T13:19:53.704Z"
   },
   {
    "duration": 30,
    "start_time": "2022-03-20T13:19:53.907Z"
   },
   {
    "duration": 19,
    "start_time": "2022-03-20T13:19:53.939Z"
   },
   {
    "duration": 7,
    "start_time": "2022-03-20T13:19:53.985Z"
   },
   {
    "duration": 50,
    "start_time": "2022-03-20T13:19:53.995Z"
   },
   {
    "duration": 4,
    "start_time": "2022-03-20T13:19:54.048Z"
   },
   {
    "duration": 39,
    "start_time": "2022-03-20T13:19:54.054Z"
   },
   {
    "duration": 32,
    "start_time": "2022-03-20T13:19:54.095Z"
   },
   {
    "duration": 55,
    "start_time": "2022-03-20T13:19:54.129Z"
   },
   {
    "duration": 16,
    "start_time": "2022-03-20T13:19:54.186Z"
   },
   {
    "duration": 34,
    "start_time": "2022-03-20T13:19:54.204Z"
   },
   {
    "duration": 45,
    "start_time": "2022-03-20T13:19:54.241Z"
   },
   {
    "duration": 19,
    "start_time": "2022-03-20T13:19:54.290Z"
   },
   {
    "duration": 14,
    "start_time": "2022-03-20T13:19:54.311Z"
   },
   {
    "duration": 66,
    "start_time": "2022-03-20T13:19:54.327Z"
   },
   {
    "duration": 24,
    "start_time": "2022-03-20T13:19:54.395Z"
   },
   {
    "duration": 29,
    "start_time": "2022-03-20T13:19:54.422Z"
   },
   {
    "duration": 58,
    "start_time": "2022-03-20T13:19:54.453Z"
   },
   {
    "duration": 4,
    "start_time": "2022-03-20T13:19:54.514Z"
   },
   {
    "duration": 46,
    "start_time": "2022-03-20T13:19:54.520Z"
   },
   {
    "duration": 45,
    "start_time": "2022-03-20T13:24:30.989Z"
   },
   {
    "duration": 9,
    "start_time": "2022-03-20T13:25:12.863Z"
   },
   {
    "duration": 7,
    "start_time": "2022-03-20T13:26:00.843Z"
   },
   {
    "duration": 44,
    "start_time": "2022-03-20T13:26:54.081Z"
   },
   {
    "duration": 20,
    "start_time": "2022-03-20T13:27:52.642Z"
   },
   {
    "duration": 9,
    "start_time": "2022-03-20T13:27:57.132Z"
   },
   {
    "duration": 18,
    "start_time": "2022-03-20T13:29:59.975Z"
   },
   {
    "duration": 3,
    "start_time": "2022-03-20T13:30:12.796Z"
   },
   {
    "duration": 46,
    "start_time": "2022-03-20T13:30:12.802Z"
   },
   {
    "duration": 16,
    "start_time": "2022-03-20T13:30:12.850Z"
   },
   {
    "duration": 220,
    "start_time": "2022-03-20T13:30:12.869Z"
   },
   {
    "duration": 34,
    "start_time": "2022-03-20T13:30:13.092Z"
   },
   {
    "duration": 134,
    "start_time": "2022-03-20T13:30:13.128Z"
   },
   {
    "duration": 36,
    "start_time": "2022-03-20T13:30:13.265Z"
   },
   {
    "duration": 237,
    "start_time": "2022-03-20T13:30:13.303Z"
   },
   {
    "duration": 40,
    "start_time": "2022-03-20T13:30:13.545Z"
   },
   {
    "duration": 21,
    "start_time": "2022-03-20T13:30:13.588Z"
   },
   {
    "duration": 5,
    "start_time": "2022-03-20T13:30:13.612Z"
   },
   {
    "duration": 74,
    "start_time": "2022-03-20T13:30:13.620Z"
   },
   {
    "duration": 6,
    "start_time": "2022-03-20T13:30:13.696Z"
   },
   {
    "duration": 20,
    "start_time": "2022-03-20T13:30:13.704Z"
   },
   {
    "duration": 64,
    "start_time": "2022-03-20T13:30:13.726Z"
   },
   {
    "duration": 30,
    "start_time": "2022-03-20T13:30:13.792Z"
   },
   {
    "duration": 18,
    "start_time": "2022-03-20T13:30:13.825Z"
   },
   {
    "duration": 64,
    "start_time": "2022-03-20T13:30:13.846Z"
   },
   {
    "duration": 23,
    "start_time": "2022-03-20T13:30:13.912Z"
   },
   {
    "duration": 22,
    "start_time": "2022-03-20T13:30:13.937Z"
   },
   {
    "duration": 16,
    "start_time": "2022-03-20T13:30:13.985Z"
   },
   {
    "duration": 41,
    "start_time": "2022-03-20T13:30:14.004Z"
   },
   {
    "duration": 49,
    "start_time": "2022-03-20T13:30:14.048Z"
   },
   {
    "duration": 29,
    "start_time": "2022-03-20T13:30:14.101Z"
   },
   {
    "duration": 19,
    "start_time": "2022-03-20T13:30:14.133Z"
   },
   {
    "duration": 30,
    "start_time": "2022-03-20T13:30:14.154Z"
   },
   {
    "duration": 13,
    "start_time": "2022-03-20T13:30:14.186Z"
   },
   {
    "duration": 51,
    "start_time": "2022-03-20T13:30:14.201Z"
   },
   {
    "duration": 41,
    "start_time": "2022-03-20T13:30:14.254Z"
   },
   {
    "duration": 22,
    "start_time": "2022-03-20T13:36:26.882Z"
   },
   {
    "duration": 19,
    "start_time": "2022-03-20T13:36:58.806Z"
   },
   {
    "duration": 3,
    "start_time": "2022-03-20T13:37:17.372Z"
   },
   {
    "duration": 45,
    "start_time": "2022-03-20T13:37:17.378Z"
   },
   {
    "duration": 18,
    "start_time": "2022-03-20T13:37:17.425Z"
   },
   {
    "duration": 216,
    "start_time": "2022-03-20T13:37:17.446Z"
   },
   {
    "duration": 36,
    "start_time": "2022-03-20T13:37:17.665Z"
   },
   {
    "duration": 127,
    "start_time": "2022-03-20T13:37:17.703Z"
   },
   {
    "duration": 25,
    "start_time": "2022-03-20T13:37:17.832Z"
   },
   {
    "duration": 212,
    "start_time": "2022-03-20T13:37:17.859Z"
   },
   {
    "duration": 32,
    "start_time": "2022-03-20T13:37:18.074Z"
   },
   {
    "duration": 20,
    "start_time": "2022-03-20T13:37:18.108Z"
   },
   {
    "duration": 6,
    "start_time": "2022-03-20T13:37:18.130Z"
   },
   {
    "duration": 69,
    "start_time": "2022-03-20T13:37:18.138Z"
   },
   {
    "duration": 5,
    "start_time": "2022-03-20T13:37:18.210Z"
   },
   {
    "duration": 22,
    "start_time": "2022-03-20T13:37:18.217Z"
   },
   {
    "duration": 56,
    "start_time": "2022-03-20T13:37:18.241Z"
   },
   {
    "duration": 28,
    "start_time": "2022-03-20T13:37:18.300Z"
   },
   {
    "duration": 16,
    "start_time": "2022-03-20T13:37:18.330Z"
   },
   {
    "duration": 70,
    "start_time": "2022-03-20T13:37:18.348Z"
   },
   {
    "duration": 23,
    "start_time": "2022-03-20T13:37:18.421Z"
   },
   {
    "duration": 40,
    "start_time": "2022-03-20T13:37:18.446Z"
   },
   {
    "duration": 17,
    "start_time": "2022-03-20T13:37:18.488Z"
   },
   {
    "duration": 40,
    "start_time": "2022-03-20T13:37:18.507Z"
   },
   {
    "duration": 57,
    "start_time": "2022-03-20T13:37:18.550Z"
   },
   {
    "duration": 31,
    "start_time": "2022-03-20T13:37:18.612Z"
   },
   {
    "duration": 48,
    "start_time": "2022-03-20T13:37:18.645Z"
   },
   {
    "duration": 5,
    "start_time": "2022-03-20T13:37:18.696Z"
   },
   {
    "duration": 12,
    "start_time": "2022-03-20T13:37:18.704Z"
   },
   {
    "duration": 67,
    "start_time": "2022-03-20T13:37:18.718Z"
   },
   {
    "duration": 24,
    "start_time": "2022-03-20T13:37:18.788Z"
   },
   {
    "duration": 0,
    "start_time": "2022-03-20T13:37:18.815Z"
   },
   {
    "duration": 21,
    "start_time": "2022-03-20T13:39:19.287Z"
   },
   {
    "duration": 18,
    "start_time": "2022-03-20T13:39:37.025Z"
   },
   {
    "duration": 6,
    "start_time": "2022-03-20T13:40:20.326Z"
   },
   {
    "duration": 12,
    "start_time": "2022-03-20T13:41:46.684Z"
   },
   {
    "duration": 18,
    "start_time": "2022-03-20T13:41:52.479Z"
   },
   {
    "duration": 8,
    "start_time": "2022-03-20T13:42:15.026Z"
   },
   {
    "duration": 9,
    "start_time": "2022-03-20T13:43:49.982Z"
   },
   {
    "duration": 19,
    "start_time": "2022-03-20T13:43:52.687Z"
   },
   {
    "duration": 18,
    "start_time": "2022-03-20T13:45:00.541Z"
   },
   {
    "duration": 16,
    "start_time": "2022-03-20T13:45:54.513Z"
   },
   {
    "duration": 18,
    "start_time": "2022-03-20T13:46:00.658Z"
   },
   {
    "duration": 89,
    "start_time": "2022-03-20T13:51:13.367Z"
   },
   {
    "duration": 4,
    "start_time": "2022-03-20T13:54:35.859Z"
   },
   {
    "duration": 55,
    "start_time": "2022-03-20T13:54:35.867Z"
   },
   {
    "duration": 17,
    "start_time": "2022-03-20T13:54:35.925Z"
   },
   {
    "duration": 213,
    "start_time": "2022-03-20T13:54:35.944Z"
   },
   {
    "duration": 65,
    "start_time": "2022-03-20T13:54:36.162Z"
   },
   {
    "duration": 122,
    "start_time": "2022-03-20T13:54:36.230Z"
   },
   {
    "duration": 39,
    "start_time": "2022-03-20T13:54:36.354Z"
   },
   {
    "duration": 197,
    "start_time": "2022-03-20T13:54:36.396Z"
   },
   {
    "duration": 30,
    "start_time": "2022-03-20T13:54:36.596Z"
   },
   {
    "duration": 20,
    "start_time": "2022-03-20T13:54:36.629Z"
   },
   {
    "duration": 31,
    "start_time": "2022-03-20T13:54:36.655Z"
   },
   {
    "duration": 49,
    "start_time": "2022-03-20T13:54:36.688Z"
   },
   {
    "duration": 5,
    "start_time": "2022-03-20T13:54:36.739Z"
   },
   {
    "duration": 48,
    "start_time": "2022-03-20T13:54:36.746Z"
   },
   {
    "duration": 32,
    "start_time": "2022-03-20T13:54:36.796Z"
   },
   {
    "duration": 54,
    "start_time": "2022-03-20T13:54:36.830Z"
   },
   {
    "duration": 16,
    "start_time": "2022-03-20T13:54:36.886Z"
   },
   {
    "duration": 33,
    "start_time": "2022-03-20T13:54:36.904Z"
   },
   {
    "duration": 53,
    "start_time": "2022-03-20T13:54:36.939Z"
   },
   {
    "duration": 20,
    "start_time": "2022-03-20T13:54:36.994Z"
   },
   {
    "duration": 15,
    "start_time": "2022-03-20T13:54:37.016Z"
   },
   {
    "duration": 71,
    "start_time": "2022-03-20T13:54:37.034Z"
   },
   {
    "duration": 24,
    "start_time": "2022-03-20T13:54:37.107Z"
   },
   {
    "duration": 52,
    "start_time": "2022-03-20T13:54:37.133Z"
   },
   {
    "duration": 29,
    "start_time": "2022-03-20T13:54:37.188Z"
   },
   {
    "duration": 6,
    "start_time": "2022-03-20T13:54:37.220Z"
   },
   {
    "duration": 16,
    "start_time": "2022-03-20T13:54:37.228Z"
   },
   {
    "duration": 73,
    "start_time": "2022-03-20T13:54:37.247Z"
   },
   {
    "duration": 14,
    "start_time": "2022-03-20T13:54:37.325Z"
   },
   {
    "duration": 5,
    "start_time": "2022-03-20T14:01:11.625Z"
   },
   {
    "duration": 50,
    "start_time": "2022-03-20T14:01:11.633Z"
   },
   {
    "duration": 15,
    "start_time": "2022-03-20T14:01:11.686Z"
   },
   {
    "duration": 226,
    "start_time": "2022-03-20T14:01:11.705Z"
   },
   {
    "duration": 36,
    "start_time": "2022-03-20T14:01:11.933Z"
   },
   {
    "duration": 136,
    "start_time": "2022-03-20T14:01:11.985Z"
   },
   {
    "duration": 25,
    "start_time": "2022-03-20T14:01:12.124Z"
   },
   {
    "duration": 208,
    "start_time": "2022-03-20T14:01:12.151Z"
   },
   {
    "duration": 37,
    "start_time": "2022-03-20T14:01:12.363Z"
   },
   {
    "duration": 21,
    "start_time": "2022-03-20T14:01:12.402Z"
   },
   {
    "duration": 6,
    "start_time": "2022-03-20T14:01:12.425Z"
   },
   {
    "duration": 79,
    "start_time": "2022-03-20T14:01:12.433Z"
   },
   {
    "duration": 5,
    "start_time": "2022-03-20T14:01:12.515Z"
   },
   {
    "duration": 21,
    "start_time": "2022-03-20T14:01:12.522Z"
   },
   {
    "duration": 63,
    "start_time": "2022-03-20T14:01:12.546Z"
   },
   {
    "duration": 40,
    "start_time": "2022-03-20T14:01:12.612Z"
   },
   {
    "duration": 39,
    "start_time": "2022-03-20T14:01:12.655Z"
   },
   {
    "duration": 48,
    "start_time": "2022-03-20T14:01:12.697Z"
   },
   {
    "duration": 47,
    "start_time": "2022-03-20T14:01:12.748Z"
   },
   {
    "duration": 20,
    "start_time": "2022-03-20T14:01:12.797Z"
   },
   {
    "duration": 15,
    "start_time": "2022-03-20T14:01:12.820Z"
   },
   {
    "duration": 73,
    "start_time": "2022-03-20T14:01:12.838Z"
   },
   {
    "duration": 26,
    "start_time": "2022-03-20T14:01:12.913Z"
   },
   {
    "duration": 53,
    "start_time": "2022-03-20T14:01:12.945Z"
   },
   {
    "duration": 19,
    "start_time": "2022-03-20T14:01:13.001Z"
   },
   {
    "duration": 5,
    "start_time": "2022-03-20T14:01:13.022Z"
   },
   {
    "duration": 24,
    "start_time": "2022-03-20T14:01:13.029Z"
   },
   {
    "duration": 34,
    "start_time": "2022-03-20T14:01:13.056Z"
   },
   {
    "duration": 17,
    "start_time": "2022-03-20T14:01:13.093Z"
   },
   {
    "duration": 4,
    "start_time": "2022-03-20T14:02:10.722Z"
   },
   {
    "duration": 49,
    "start_time": "2022-03-20T14:02:10.730Z"
   },
   {
    "duration": 27,
    "start_time": "2022-03-20T14:02:10.783Z"
   },
   {
    "duration": 340,
    "start_time": "2022-03-20T14:02:10.815Z"
   },
   {
    "duration": 44,
    "start_time": "2022-03-20T14:02:11.158Z"
   },
   {
    "duration": 132,
    "start_time": "2022-03-20T14:02:11.204Z"
   },
   {
    "duration": 27,
    "start_time": "2022-03-20T14:02:11.338Z"
   },
   {
    "duration": 215,
    "start_time": "2022-03-20T14:02:11.368Z"
   },
   {
    "duration": 31,
    "start_time": "2022-03-20T14:02:11.587Z"
   },
   {
    "duration": 21,
    "start_time": "2022-03-20T14:02:11.621Z"
   },
   {
    "duration": 7,
    "start_time": "2022-03-20T14:02:11.645Z"
   },
   {
    "duration": 47,
    "start_time": "2022-03-20T14:02:11.683Z"
   },
   {
    "duration": 5,
    "start_time": "2022-03-20T14:02:11.733Z"
   },
   {
    "duration": 44,
    "start_time": "2022-03-20T14:02:11.740Z"
   },
   {
    "duration": 34,
    "start_time": "2022-03-20T14:02:11.787Z"
   },
   {
    "duration": 34,
    "start_time": "2022-03-20T14:02:11.824Z"
   },
   {
    "duration": 36,
    "start_time": "2022-03-20T14:02:11.860Z"
   },
   {
    "duration": 35,
    "start_time": "2022-03-20T14:02:11.899Z"
   },
   {
    "duration": 49,
    "start_time": "2022-03-20T14:02:11.936Z"
   },
   {
    "duration": 22,
    "start_time": "2022-03-20T14:02:11.988Z"
   },
   {
    "duration": 18,
    "start_time": "2022-03-20T14:02:12.012Z"
   },
   {
    "duration": 67,
    "start_time": "2022-03-20T14:02:12.033Z"
   },
   {
    "duration": 25,
    "start_time": "2022-03-20T14:02:12.102Z"
   },
   {
    "duration": 53,
    "start_time": "2022-03-20T14:02:12.131Z"
   },
   {
    "duration": 29,
    "start_time": "2022-03-20T14:02:12.187Z"
   },
   {
    "duration": 5,
    "start_time": "2022-03-20T14:02:12.219Z"
   },
   {
    "duration": 14,
    "start_time": "2022-03-20T14:02:12.227Z"
   },
   {
    "duration": 43,
    "start_time": "2022-03-20T14:02:12.244Z"
   },
   {
    "duration": 26,
    "start_time": "2022-03-20T14:02:12.290Z"
   },
   {
    "duration": 39,
    "start_time": "2022-03-20T14:02:12.319Z"
   },
   {
    "duration": 11,
    "start_time": "2022-03-20T14:30:49.687Z"
   },
   {
    "duration": 47,
    "start_time": "2022-03-20T14:30:55.541Z"
   },
   {
    "duration": 5,
    "start_time": "2022-03-20T14:33:21.271Z"
   },
   {
    "duration": 9,
    "start_time": "2022-03-20T14:33:22.485Z"
   },
   {
    "duration": 3,
    "start_time": "2022-03-20T14:33:34.209Z"
   },
   {
    "duration": 64,
    "start_time": "2022-03-20T14:33:34.215Z"
   },
   {
    "duration": 16,
    "start_time": "2022-03-20T14:33:34.282Z"
   },
   {
    "duration": 216,
    "start_time": "2022-03-20T14:33:34.303Z"
   },
   {
    "duration": 36,
    "start_time": "2022-03-20T14:33:34.521Z"
   },
   {
    "duration": 139,
    "start_time": "2022-03-20T14:33:34.559Z"
   },
   {
    "duration": 27,
    "start_time": "2022-03-20T14:33:34.700Z"
   },
   {
    "duration": 200,
    "start_time": "2022-03-20T14:33:34.730Z"
   },
   {
    "duration": 29,
    "start_time": "2022-03-20T14:33:34.933Z"
   },
   {
    "duration": 28,
    "start_time": "2022-03-20T14:33:34.965Z"
   },
   {
    "duration": 10,
    "start_time": "2022-03-20T14:33:34.996Z"
   },
   {
    "duration": 70,
    "start_time": "2022-03-20T14:33:35.009Z"
   },
   {
    "duration": 6,
    "start_time": "2022-03-20T14:33:35.081Z"
   },
   {
    "duration": 30,
    "start_time": "2022-03-20T14:33:35.090Z"
   },
   {
    "duration": 54,
    "start_time": "2022-03-20T14:33:35.123Z"
   },
   {
    "duration": 28,
    "start_time": "2022-03-20T14:33:35.180Z"
   },
   {
    "duration": 16,
    "start_time": "2022-03-20T14:33:35.211Z"
   },
   {
    "duration": 36,
    "start_time": "2022-03-20T14:33:35.229Z"
   },
   {
    "duration": 21,
    "start_time": "2022-03-20T14:33:35.285Z"
   },
   {
    "duration": 20,
    "start_time": "2022-03-20T14:33:35.309Z"
   },
   {
    "duration": 16,
    "start_time": "2022-03-20T14:33:35.331Z"
   },
   {
    "duration": 79,
    "start_time": "2022-03-20T14:33:35.349Z"
   },
   {
    "duration": 25,
    "start_time": "2022-03-20T14:33:35.430Z"
   },
   {
    "duration": 45,
    "start_time": "2022-03-20T14:33:35.459Z"
   },
   {
    "duration": 19,
    "start_time": "2022-03-20T14:33:35.506Z"
   },
   {
    "duration": 4,
    "start_time": "2022-03-20T14:33:35.528Z"
   },
   {
    "duration": 12,
    "start_time": "2022-03-20T14:33:35.534Z"
   },
   {
    "duration": 41,
    "start_time": "2022-03-20T14:33:35.549Z"
   },
   {
    "duration": 12,
    "start_time": "2022-03-20T14:33:35.592Z"
   },
   {
    "duration": 36,
    "start_time": "2022-03-20T14:33:35.607Z"
   },
   {
    "duration": 38,
    "start_time": "2022-03-20T14:33:35.646Z"
   },
   {
    "duration": 50,
    "start_time": "2022-03-20T14:33:35.686Z"
   },
   {
    "duration": 4,
    "start_time": "2022-03-20T14:38:26.758Z"
   },
   {
    "duration": 50,
    "start_time": "2022-03-20T14:38:26.764Z"
   },
   {
    "duration": 20,
    "start_time": "2022-03-20T14:38:26.817Z"
   },
   {
    "duration": 237,
    "start_time": "2022-03-20T14:38:26.842Z"
   },
   {
    "duration": 36,
    "start_time": "2022-03-20T14:38:27.082Z"
   },
   {
    "duration": 139,
    "start_time": "2022-03-20T14:38:27.121Z"
   },
   {
    "duration": 36,
    "start_time": "2022-03-20T14:38:27.262Z"
   },
   {
    "duration": 238,
    "start_time": "2022-03-20T14:38:27.301Z"
   },
   {
    "duration": 41,
    "start_time": "2022-03-20T14:38:27.543Z"
   },
   {
    "duration": 27,
    "start_time": "2022-03-20T14:38:27.586Z"
   },
   {
    "duration": 24,
    "start_time": "2022-03-20T14:38:27.615Z"
   },
   {
    "duration": 64,
    "start_time": "2022-03-20T14:38:27.641Z"
   },
   {
    "duration": 6,
    "start_time": "2022-03-20T14:38:27.707Z"
   },
   {
    "duration": 39,
    "start_time": "2022-03-20T14:38:27.716Z"
   },
   {
    "duration": 32,
    "start_time": "2022-03-20T14:38:27.757Z"
   },
   {
    "duration": 29,
    "start_time": "2022-03-20T14:38:27.792Z"
   },
   {
    "duration": 16,
    "start_time": "2022-03-20T14:38:27.823Z"
   },
   {
    "duration": 58,
    "start_time": "2022-03-20T14:38:27.841Z"
   },
   {
    "duration": 21,
    "start_time": "2022-03-20T14:38:27.902Z"
   },
   {
    "duration": 20,
    "start_time": "2022-03-20T14:38:27.925Z"
   },
   {
    "duration": 42,
    "start_time": "2022-03-20T14:38:27.948Z"
   },
   {
    "duration": 40,
    "start_time": "2022-03-20T14:38:27.992Z"
   },
   {
    "duration": 49,
    "start_time": "2022-03-20T14:38:28.035Z"
   },
   {
    "duration": 28,
    "start_time": "2022-03-20T14:38:28.089Z"
   },
   {
    "duration": 18,
    "start_time": "2022-03-20T14:38:28.119Z"
   },
   {
    "duration": 4,
    "start_time": "2022-03-20T14:38:28.139Z"
   },
   {
    "duration": 44,
    "start_time": "2022-03-20T14:38:28.146Z"
   },
   {
    "duration": 14,
    "start_time": "2022-03-20T14:38:28.193Z"
   },
   {
    "duration": 27,
    "start_time": "2022-03-20T14:38:28.211Z"
   },
   {
    "duration": 73,
    "start_time": "2022-03-20T14:38:28.241Z"
   },
   {
    "duration": 2652,
    "start_time": "2022-03-20T14:38:28.317Z"
   },
   {
    "duration": 0,
    "start_time": "2022-03-20T14:38:30.972Z"
   },
   {
    "duration": 4,
    "start_time": "2022-03-20T14:39:23.979Z"
   },
   {
    "duration": 48,
    "start_time": "2022-03-20T14:39:23.986Z"
   },
   {
    "duration": 18,
    "start_time": "2022-03-20T14:39:24.037Z"
   },
   {
    "duration": 252,
    "start_time": "2022-03-20T14:39:24.060Z"
   },
   {
    "duration": 37,
    "start_time": "2022-03-20T14:39:24.314Z"
   },
   {
    "duration": 143,
    "start_time": "2022-03-20T14:39:24.354Z"
   },
   {
    "duration": 27,
    "start_time": "2022-03-20T14:39:24.499Z"
   },
   {
    "duration": 210,
    "start_time": "2022-03-20T14:39:24.529Z"
   },
   {
    "duration": 45,
    "start_time": "2022-03-20T14:39:24.743Z"
   },
   {
    "duration": 22,
    "start_time": "2022-03-20T14:39:24.791Z"
   },
   {
    "duration": 6,
    "start_time": "2022-03-20T14:39:24.815Z"
   },
   {
    "duration": 73,
    "start_time": "2022-03-20T14:39:24.823Z"
   },
   {
    "duration": 6,
    "start_time": "2022-03-20T14:39:24.899Z"
   },
   {
    "duration": 23,
    "start_time": "2022-03-20T14:39:24.908Z"
   },
   {
    "duration": 59,
    "start_time": "2022-03-20T14:39:24.933Z"
   },
   {
    "duration": 30,
    "start_time": "2022-03-20T14:39:24.995Z"
   },
   {
    "duration": 17,
    "start_time": "2022-03-20T14:39:25.028Z"
   },
   {
    "duration": 65,
    "start_time": "2022-03-20T14:39:25.048Z"
   },
   {
    "duration": 22,
    "start_time": "2022-03-20T14:39:25.115Z"
   },
   {
    "duration": 51,
    "start_time": "2022-03-20T14:39:25.139Z"
   },
   {
    "duration": 44,
    "start_time": "2022-03-20T14:39:25.192Z"
   },
   {
    "duration": 42,
    "start_time": "2022-03-20T14:39:25.239Z"
   },
   {
    "duration": 32,
    "start_time": "2022-03-20T14:39:25.284Z"
   },
   {
    "duration": 66,
    "start_time": "2022-03-20T14:39:25.323Z"
   },
   {
    "duration": 27,
    "start_time": "2022-03-20T14:39:25.392Z"
   },
   {
    "duration": 6,
    "start_time": "2022-03-20T14:39:25.422Z"
   },
   {
    "duration": 26,
    "start_time": "2022-03-20T14:39:25.431Z"
   },
   {
    "duration": 29,
    "start_time": "2022-03-20T14:39:25.460Z"
   },
   {
    "duration": 15,
    "start_time": "2022-03-20T14:39:25.491Z"
   },
   {
    "duration": 42,
    "start_time": "2022-03-20T14:39:25.508Z"
   },
   {
    "duration": 34,
    "start_time": "2022-03-20T14:39:25.552Z"
   },
   {
    "duration": 62,
    "start_time": "2022-03-20T14:39:25.588Z"
   },
   {
    "duration": 5,
    "start_time": "2022-03-20T14:39:43.083Z"
   },
   {
    "duration": 48,
    "start_time": "2022-03-20T14:39:44.181Z"
   },
   {
    "duration": 5,
    "start_time": "2022-03-20T14:41:30.461Z"
   },
   {
    "duration": 45,
    "start_time": "2022-03-20T14:41:31.083Z"
   },
   {
    "duration": 4,
    "start_time": "2022-03-20T14:42:15.271Z"
   },
   {
    "duration": 56,
    "start_time": "2022-03-20T14:42:15.277Z"
   },
   {
    "duration": 16,
    "start_time": "2022-03-20T14:42:15.335Z"
   },
   {
    "duration": 236,
    "start_time": "2022-03-20T14:42:15.353Z"
   },
   {
    "duration": 55,
    "start_time": "2022-03-20T14:42:15.593Z"
   },
   {
    "duration": 208,
    "start_time": "2022-03-20T14:42:15.651Z"
   },
   {
    "duration": 35,
    "start_time": "2022-03-20T14:42:15.861Z"
   },
   {
    "duration": 222,
    "start_time": "2022-03-20T14:42:15.898Z"
   },
   {
    "duration": 30,
    "start_time": "2022-03-20T14:42:16.123Z"
   },
   {
    "duration": 37,
    "start_time": "2022-03-20T14:42:16.155Z"
   },
   {
    "duration": 5,
    "start_time": "2022-03-20T14:42:16.196Z"
   },
   {
    "duration": 50,
    "start_time": "2022-03-20T14:42:16.203Z"
   },
   {
    "duration": 5,
    "start_time": "2022-03-20T14:42:16.255Z"
   },
   {
    "duration": 20,
    "start_time": "2022-03-20T14:42:16.284Z"
   },
   {
    "duration": 41,
    "start_time": "2022-03-20T14:42:16.306Z"
   },
   {
    "duration": 56,
    "start_time": "2022-03-20T14:42:16.350Z"
   },
   {
    "duration": 18,
    "start_time": "2022-03-20T14:42:16.408Z"
   },
   {
    "duration": 60,
    "start_time": "2022-03-20T14:42:16.429Z"
   },
   {
    "duration": 20,
    "start_time": "2022-03-20T14:42:16.491Z"
   },
   {
    "duration": 19,
    "start_time": "2022-03-20T14:42:16.513Z"
   },
   {
    "duration": 16,
    "start_time": "2022-03-20T14:42:16.534Z"
   },
   {
    "duration": 67,
    "start_time": "2022-03-20T14:42:16.552Z"
   },
   {
    "duration": 24,
    "start_time": "2022-03-20T14:42:16.622Z"
   },
   {
    "duration": 66,
    "start_time": "2022-03-20T14:42:16.649Z"
   },
   {
    "duration": 27,
    "start_time": "2022-03-20T14:42:16.718Z"
   },
   {
    "duration": 5,
    "start_time": "2022-03-20T14:42:16.748Z"
   },
   {
    "duration": 9,
    "start_time": "2022-03-20T14:42:16.784Z"
   },
   {
    "duration": 17,
    "start_time": "2022-03-20T14:42:16.795Z"
   },
   {
    "duration": 12,
    "start_time": "2022-03-20T14:42:16.816Z"
   },
   {
    "duration": 72,
    "start_time": "2022-03-20T14:42:16.830Z"
   },
   {
    "duration": 7,
    "start_time": "2022-03-20T14:42:16.904Z"
   },
   {
    "duration": 6,
    "start_time": "2022-03-20T14:42:16.913Z"
   },
   {
    "duration": 70,
    "start_time": "2022-03-20T14:42:16.921Z"
   },
   {
    "duration": 492,
    "start_time": "2022-03-20T19:42:36.706Z"
   },
   {
    "duration": 45,
    "start_time": "2022-03-20T19:42:37.201Z"
   },
   {
    "duration": 17,
    "start_time": "2022-03-20T19:42:37.248Z"
   },
   {
    "duration": 251,
    "start_time": "2022-03-20T19:42:37.269Z"
   },
   {
    "duration": 34,
    "start_time": "2022-03-20T19:42:37.522Z"
   },
   {
    "duration": 132,
    "start_time": "2022-03-20T19:42:37.558Z"
   },
   {
    "duration": 28,
    "start_time": "2022-03-20T19:42:37.693Z"
   },
   {
    "duration": 223,
    "start_time": "2022-03-20T19:42:37.723Z"
   },
   {
    "duration": 39,
    "start_time": "2022-03-20T19:42:37.948Z"
   },
   {
    "duration": 21,
    "start_time": "2022-03-20T19:42:37.992Z"
   },
   {
    "duration": 9,
    "start_time": "2022-03-20T19:42:38.015Z"
   },
   {
    "duration": 75,
    "start_time": "2022-03-20T19:42:38.026Z"
   },
   {
    "duration": 6,
    "start_time": "2022-03-20T19:42:38.104Z"
   },
   {
    "duration": 45,
    "start_time": "2022-03-20T19:42:38.112Z"
   },
   {
    "duration": 34,
    "start_time": "2022-03-20T19:42:38.159Z"
   },
   {
    "duration": 33,
    "start_time": "2022-03-20T19:42:38.196Z"
   },
   {
    "duration": 16,
    "start_time": "2022-03-20T19:42:38.231Z"
   },
   {
    "duration": 61,
    "start_time": "2022-03-20T19:42:38.249Z"
   },
   {
    "duration": 20,
    "start_time": "2022-03-20T19:42:38.312Z"
   },
   {
    "duration": 22,
    "start_time": "2022-03-20T19:42:38.335Z"
   },
   {
    "duration": 35,
    "start_time": "2022-03-20T19:42:38.360Z"
   },
   {
    "duration": 51,
    "start_time": "2022-03-20T19:42:38.397Z"
   },
   {
    "duration": 37,
    "start_time": "2022-03-20T19:42:38.450Z"
   },
   {
    "duration": 36,
    "start_time": "2022-03-20T19:42:38.489Z"
   },
   {
    "duration": 19,
    "start_time": "2022-03-20T19:42:38.527Z"
   },
   {
    "duration": 5,
    "start_time": "2022-03-20T19:42:38.548Z"
   },
   {
    "duration": 38,
    "start_time": "2022-03-20T19:42:38.555Z"
   },
   {
    "duration": 18,
    "start_time": "2022-03-20T19:42:38.599Z"
   },
   {
    "duration": 14,
    "start_time": "2022-03-20T19:42:38.619Z"
   },
   {
    "duration": 79,
    "start_time": "2022-03-20T19:42:38.636Z"
   },
   {
    "duration": 10,
    "start_time": "2022-03-20T19:42:38.718Z"
   },
   {
    "duration": 5,
    "start_time": "2022-03-20T19:42:38.730Z"
   },
   {
    "duration": 70,
    "start_time": "2022-03-20T19:42:38.737Z"
   },
   {
    "duration": 6,
    "start_time": "2022-03-20T19:46:34.370Z"
   },
   {
    "duration": 43,
    "start_time": "2022-03-20T19:46:36.338Z"
   },
   {
    "duration": 5,
    "start_time": "2022-03-20T19:58:22.197Z"
   },
   {
    "duration": 42,
    "start_time": "2022-03-20T19:58:23.706Z"
   },
   {
    "duration": 31,
    "start_time": "2022-03-20T19:59:16.424Z"
   },
   {
    "duration": 102,
    "start_time": "2022-03-20T20:01:00.707Z"
   },
   {
    "duration": 15,
    "start_time": "2022-03-20T20:01:28.506Z"
   },
   {
    "duration": 10,
    "start_time": "2022-03-20T20:01:58.938Z"
   },
   {
    "duration": 19,
    "start_time": "2022-03-20T20:02:02.982Z"
   },
   {
    "duration": 9,
    "start_time": "2022-03-20T20:02:10.344Z"
   },
   {
    "duration": 39,
    "start_time": "2022-03-20T20:02:12.607Z"
   },
   {
    "duration": 18,
    "start_time": "2022-03-20T20:02:17.463Z"
   },
   {
    "duration": 22,
    "start_time": "2022-03-20T20:03:13.215Z"
   },
   {
    "duration": 10,
    "start_time": "2022-03-20T20:03:17.637Z"
   },
   {
    "duration": 21,
    "start_time": "2022-03-20T20:03:21.446Z"
   },
   {
    "duration": 42,
    "start_time": "2022-03-20T20:03:37.538Z"
   },
   {
    "duration": 51,
    "start_time": "2022-03-20T20:05:52.196Z"
   },
   {
    "duration": 4,
    "start_time": "2022-03-20T21:01:26.222Z"
   },
   {
    "duration": 62,
    "start_time": "2022-03-20T21:01:26.234Z"
   },
   {
    "duration": 17,
    "start_time": "2022-03-20T21:01:26.298Z"
   },
   {
    "duration": 239,
    "start_time": "2022-03-20T21:01:26.317Z"
   },
   {
    "duration": 38,
    "start_time": "2022-03-20T21:01:26.558Z"
   },
   {
    "duration": 134,
    "start_time": "2022-03-20T21:01:26.599Z"
   },
   {
    "duration": 25,
    "start_time": "2022-03-20T21:01:26.735Z"
   },
   {
    "duration": 201,
    "start_time": "2022-03-20T21:01:26.763Z"
   },
   {
    "duration": 33,
    "start_time": "2022-03-20T21:01:26.966Z"
   },
   {
    "duration": 24,
    "start_time": "2022-03-20T21:01:27.002Z"
   },
   {
    "duration": 7,
    "start_time": "2022-03-20T21:01:27.028Z"
   },
   {
    "duration": 67,
    "start_time": "2022-03-20T21:01:27.037Z"
   },
   {
    "duration": 5,
    "start_time": "2022-03-20T21:01:27.106Z"
   },
   {
    "duration": 36,
    "start_time": "2022-03-20T21:01:27.113Z"
   },
   {
    "duration": 43,
    "start_time": "2022-03-20T21:01:27.153Z"
   },
   {
    "duration": 35,
    "start_time": "2022-03-20T21:01:27.198Z"
   },
   {
    "duration": 16,
    "start_time": "2022-03-20T21:01:27.235Z"
   },
   {
    "duration": 59,
    "start_time": "2022-03-20T21:01:27.253Z"
   },
   {
    "duration": 21,
    "start_time": "2022-03-20T21:01:27.314Z"
   },
   {
    "duration": 25,
    "start_time": "2022-03-20T21:01:27.338Z"
   },
   {
    "duration": 34,
    "start_time": "2022-03-20T21:01:27.366Z"
   },
   {
    "duration": 46,
    "start_time": "2022-03-20T21:01:27.402Z"
   },
   {
    "duration": 40,
    "start_time": "2022-03-20T21:01:27.450Z"
   },
   {
    "duration": 29,
    "start_time": "2022-03-20T21:01:27.492Z"
   },
   {
    "duration": 18,
    "start_time": "2022-03-20T21:01:27.524Z"
   },
   {
    "duration": 9,
    "start_time": "2022-03-20T21:01:27.545Z"
   },
   {
    "duration": 35,
    "start_time": "2022-03-20T21:01:27.556Z"
   },
   {
    "duration": 28,
    "start_time": "2022-03-20T21:01:27.594Z"
   },
   {
    "duration": 25,
    "start_time": "2022-03-20T21:01:27.624Z"
   },
   {
    "duration": 40,
    "start_time": "2022-03-20T21:01:27.652Z"
   },
   {
    "duration": 6,
    "start_time": "2022-03-20T21:01:27.694Z"
   },
   {
    "duration": 16,
    "start_time": "2022-03-20T21:01:27.702Z"
   },
   {
    "duration": 25,
    "start_time": "2022-03-20T21:01:27.720Z"
   },
   {
    "duration": 4,
    "start_time": "2022-03-20T21:01:27.747Z"
   },
   {
    "duration": 58,
    "start_time": "2022-03-20T21:01:27.753Z"
   },
   {
    "duration": 132,
    "start_time": "2022-03-20T21:01:27.813Z"
   },
   {
    "duration": 4,
    "start_time": "2022-03-20T21:36:49.810Z"
   },
   {
    "duration": 53,
    "start_time": "2022-03-20T21:36:49.816Z"
   },
   {
    "duration": 18,
    "start_time": "2022-03-20T21:36:49.871Z"
   },
   {
    "duration": 243,
    "start_time": "2022-03-20T21:36:49.893Z"
   },
   {
    "duration": 51,
    "start_time": "2022-03-20T21:36:50.138Z"
   },
   {
    "duration": 127,
    "start_time": "2022-03-20T21:36:50.191Z"
   },
   {
    "duration": 26,
    "start_time": "2022-03-20T21:36:50.322Z"
   },
   {
    "duration": 218,
    "start_time": "2022-03-20T21:36:50.350Z"
   },
   {
    "duration": 35,
    "start_time": "2022-03-20T21:36:50.572Z"
   },
   {
    "duration": 20,
    "start_time": "2022-03-20T21:36:50.610Z"
   },
   {
    "duration": 7,
    "start_time": "2022-03-20T21:36:50.633Z"
   },
   {
    "duration": 83,
    "start_time": "2022-03-20T21:36:50.643Z"
   },
   {
    "duration": 7,
    "start_time": "2022-03-20T21:36:50.728Z"
   },
   {
    "duration": 22,
    "start_time": "2022-03-20T21:36:50.738Z"
   },
   {
    "duration": 33,
    "start_time": "2022-03-20T21:36:50.783Z"
   },
   {
    "duration": 36,
    "start_time": "2022-03-20T21:36:50.818Z"
   },
   {
    "duration": 38,
    "start_time": "2022-03-20T21:36:50.856Z"
   },
   {
    "duration": 37,
    "start_time": "2022-03-20T21:36:50.897Z"
   },
   {
    "duration": 48,
    "start_time": "2022-03-20T21:36:50.936Z"
   },
   {
    "duration": 23,
    "start_time": "2022-03-20T21:36:50.986Z"
   },
   {
    "duration": 16,
    "start_time": "2022-03-20T21:36:51.012Z"
   },
   {
    "duration": 66,
    "start_time": "2022-03-20T21:36:51.030Z"
   },
   {
    "duration": 24,
    "start_time": "2022-03-20T21:36:51.101Z"
   },
   {
    "duration": 57,
    "start_time": "2022-03-20T21:36:51.127Z"
   },
   {
    "duration": 20,
    "start_time": "2022-03-20T21:36:51.186Z"
   },
   {
    "duration": 4,
    "start_time": "2022-03-20T21:36:51.208Z"
   },
   {
    "duration": 12,
    "start_time": "2022-03-20T21:36:51.214Z"
   },
   {
    "duration": 15,
    "start_time": "2022-03-20T21:36:51.228Z"
   },
   {
    "duration": 78,
    "start_time": "2022-03-20T21:36:51.245Z"
   },
   {
    "duration": 39,
    "start_time": "2022-03-20T21:36:51.326Z"
   },
   {
    "duration": 7,
    "start_time": "2022-03-20T21:36:51.383Z"
   },
   {
    "duration": 10,
    "start_time": "2022-03-20T21:36:51.393Z"
   },
   {
    "duration": 20,
    "start_time": "2022-03-20T21:36:51.406Z"
   },
   {
    "duration": 8,
    "start_time": "2022-03-20T21:36:51.428Z"
   },
   {
    "duration": 64,
    "start_time": "2022-03-20T21:36:51.438Z"
   },
   {
    "duration": 136,
    "start_time": "2022-03-20T21:36:51.505Z"
   },
   {
    "duration": 42,
    "start_time": "2022-03-20T21:38:01.321Z"
   },
   {
    "duration": 539,
    "start_time": "2022-03-21T06:54:13.996Z"
   },
   {
    "duration": 813,
    "start_time": "2022-03-21T06:54:14.538Z"
   },
   {
    "duration": 17,
    "start_time": "2022-03-21T06:54:15.353Z"
   },
   {
    "duration": 231,
    "start_time": "2022-03-21T06:54:15.373Z"
   },
   {
    "duration": 41,
    "start_time": "2022-03-21T06:54:15.606Z"
   },
   {
    "duration": 131,
    "start_time": "2022-03-21T06:54:15.649Z"
   },
   {
    "duration": 27,
    "start_time": "2022-03-21T06:54:15.782Z"
   },
   {
    "duration": 219,
    "start_time": "2022-03-21T06:54:15.811Z"
   },
   {
    "duration": 40,
    "start_time": "2022-03-21T06:54:16.032Z"
   },
   {
    "duration": 25,
    "start_time": "2022-03-21T06:54:16.076Z"
   },
   {
    "duration": 6,
    "start_time": "2022-03-21T06:54:16.103Z"
   },
   {
    "duration": 72,
    "start_time": "2022-03-21T06:54:16.111Z"
   },
   {
    "duration": 6,
    "start_time": "2022-03-21T06:54:16.185Z"
   },
   {
    "duration": 22,
    "start_time": "2022-03-21T06:54:16.193Z"
   },
   {
    "duration": 51,
    "start_time": "2022-03-21T06:54:16.217Z"
   },
   {
    "duration": 35,
    "start_time": "2022-03-21T06:54:16.271Z"
   },
   {
    "duration": 42,
    "start_time": "2022-03-21T06:54:16.308Z"
   },
   {
    "duration": 39,
    "start_time": "2022-03-21T06:54:16.352Z"
   },
   {
    "duration": 22,
    "start_time": "2022-03-21T06:54:16.393Z"
   },
   {
    "duration": 43,
    "start_time": "2022-03-21T06:54:16.417Z"
   },
   {
    "duration": 15,
    "start_time": "2022-03-21T06:54:16.462Z"
   },
   {
    "duration": 64,
    "start_time": "2022-03-21T06:54:16.479Z"
   },
   {
    "duration": 24,
    "start_time": "2022-03-21T06:54:16.545Z"
   },
   {
    "duration": 33,
    "start_time": "2022-03-21T06:54:16.572Z"
   },
   {
    "duration": 46,
    "start_time": "2022-03-21T06:54:16.608Z"
   },
   {
    "duration": 5,
    "start_time": "2022-03-21T06:54:16.656Z"
   },
   {
    "duration": 18,
    "start_time": "2022-03-21T06:54:16.663Z"
   },
   {
    "duration": 24,
    "start_time": "2022-03-21T06:54:16.688Z"
   },
   {
    "duration": 25,
    "start_time": "2022-03-21T06:54:16.714Z"
   },
   {
    "duration": 43,
    "start_time": "2022-03-21T06:54:16.742Z"
   },
   {
    "duration": 10,
    "start_time": "2022-03-21T06:54:16.788Z"
   },
   {
    "duration": 9,
    "start_time": "2022-03-21T06:54:16.800Z"
   },
   {
    "duration": 20,
    "start_time": "2022-03-21T06:54:16.811Z"
   },
   {
    "duration": 4,
    "start_time": "2022-03-21T06:54:16.842Z"
   },
   {
    "duration": 46,
    "start_time": "2022-03-21T06:54:16.848Z"
   },
   {
    "duration": 162,
    "start_time": "2022-03-21T06:54:16.897Z"
   },
   {
    "duration": 6,
    "start_time": "2022-03-21T07:00:02.896Z"
   },
   {
    "duration": 6,
    "start_time": "2022-03-21T07:03:26.539Z"
   },
   {
    "duration": 57,
    "start_time": "2022-03-21T07:06:44.680Z"
   },
   {
    "duration": 49,
    "start_time": "2022-03-21T07:07:30.243Z"
   },
   {
    "duration": 8,
    "start_time": "2022-03-21T07:09:21.401Z"
   },
   {
    "duration": 8,
    "start_time": "2022-03-21T07:14:47.244Z"
   },
   {
    "duration": 8,
    "start_time": "2022-03-21T07:16:51.917Z"
   },
   {
    "duration": 8,
    "start_time": "2022-03-21T07:21:32.755Z"
   },
   {
    "duration": 102,
    "start_time": "2022-03-21T07:22:11.876Z"
   },
   {
    "duration": 4,
    "start_time": "2022-03-21T07:22:18.397Z"
   },
   {
    "duration": 66,
    "start_time": "2022-03-21T07:22:18.404Z"
   },
   {
    "duration": 16,
    "start_time": "2022-03-21T07:22:18.472Z"
   },
   {
    "duration": 217,
    "start_time": "2022-03-21T07:22:18.491Z"
   },
   {
    "duration": 52,
    "start_time": "2022-03-21T07:22:18.710Z"
   },
   {
    "duration": 126,
    "start_time": "2022-03-21T07:22:18.764Z"
   },
   {
    "duration": 25,
    "start_time": "2022-03-21T07:22:18.893Z"
   },
   {
    "duration": 196,
    "start_time": "2022-03-21T07:22:18.920Z"
   },
   {
    "duration": 37,
    "start_time": "2022-03-21T07:22:19.119Z"
   },
   {
    "duration": 24,
    "start_time": "2022-03-21T07:22:19.159Z"
   },
   {
    "duration": 5,
    "start_time": "2022-03-21T07:22:19.186Z"
   },
   {
    "duration": 62,
    "start_time": "2022-03-21T07:22:19.194Z"
   },
   {
    "duration": 5,
    "start_time": "2022-03-21T07:22:19.258Z"
   },
   {
    "duration": 18,
    "start_time": "2022-03-21T07:22:19.266Z"
   },
   {
    "duration": 57,
    "start_time": "2022-03-21T07:22:19.286Z"
   },
   {
    "duration": 36,
    "start_time": "2022-03-21T07:22:19.345Z"
   },
   {
    "duration": 15,
    "start_time": "2022-03-21T07:22:19.383Z"
   },
   {
    "duration": 62,
    "start_time": "2022-03-21T07:22:19.400Z"
   },
   {
    "duration": 23,
    "start_time": "2022-03-21T07:22:19.464Z"
   },
   {
    "duration": 22,
    "start_time": "2022-03-21T07:22:19.490Z"
   },
   {
    "duration": 42,
    "start_time": "2022-03-21T07:22:19.515Z"
   },
   {
    "duration": 43,
    "start_time": "2022-03-21T07:22:19.560Z"
   },
   {
    "duration": 55,
    "start_time": "2022-03-21T07:22:19.605Z"
   },
   {
    "duration": 30,
    "start_time": "2022-03-21T07:22:19.667Z"
   },
   {
    "duration": 45,
    "start_time": "2022-03-21T07:22:19.700Z"
   },
   {
    "duration": 6,
    "start_time": "2022-03-21T07:22:19.747Z"
   },
   {
    "duration": 11,
    "start_time": "2022-03-21T07:22:19.756Z"
   },
   {
    "duration": 12,
    "start_time": "2022-03-21T07:22:19.769Z"
   },
   {
    "duration": 14,
    "start_time": "2022-03-21T07:22:19.783Z"
   },
   {
    "duration": 73,
    "start_time": "2022-03-21T07:22:19.800Z"
   },
   {
    "duration": 7,
    "start_time": "2022-03-21T07:22:19.875Z"
   },
   {
    "duration": 10,
    "start_time": "2022-03-21T07:22:19.883Z"
   },
   {
    "duration": 14,
    "start_time": "2022-03-21T07:22:19.895Z"
   },
   {
    "duration": 3,
    "start_time": "2022-03-21T07:22:19.911Z"
   },
   {
    "duration": 68,
    "start_time": "2022-03-21T07:22:19.916Z"
   },
   {
    "duration": 7,
    "start_time": "2022-03-21T07:22:19.986Z"
   },
   {
    "duration": 13,
    "start_time": "2022-03-21T07:22:19.996Z"
   },
   {
    "duration": 871,
    "start_time": "2022-03-21T07:22:33.421Z"
   },
   {
    "duration": 7,
    "start_time": "2022-03-21T07:25:46.312Z"
   },
   {
    "duration": 6,
    "start_time": "2022-03-21T07:25:52.535Z"
   },
   {
    "duration": 7,
    "start_time": "2022-03-21T07:26:49.503Z"
   },
   {
    "duration": 6,
    "start_time": "2022-03-21T07:26:55.025Z"
   },
   {
    "duration": 7,
    "start_time": "2022-03-21T07:27:07.778Z"
   },
   {
    "duration": 6,
    "start_time": "2022-03-21T07:27:14.323Z"
   },
   {
    "duration": 6,
    "start_time": "2022-03-21T07:27:39.804Z"
   },
   {
    "duration": 6,
    "start_time": "2022-03-21T07:27:45.609Z"
   },
   {
    "duration": 7,
    "start_time": "2022-03-21T07:27:50.732Z"
   },
   {
    "duration": 7,
    "start_time": "2022-03-21T07:28:16.028Z"
   },
   {
    "duration": 5,
    "start_time": "2022-03-21T07:29:22.121Z"
   },
   {
    "duration": 42,
    "start_time": "2022-03-21T07:29:28.724Z"
   },
   {
    "duration": 6,
    "start_time": "2022-03-21T07:29:37.483Z"
   },
   {
    "duration": 5,
    "start_time": "2022-03-21T07:31:40.069Z"
   },
   {
    "duration": 6,
    "start_time": "2022-03-21T07:31:40.416Z"
   },
   {
    "duration": 5,
    "start_time": "2022-03-21T07:31:40.899Z"
   },
   {
    "duration": 6,
    "start_time": "2022-03-21T07:31:44.267Z"
   },
   {
    "duration": 6,
    "start_time": "2022-03-21T07:31:44.969Z"
   },
   {
    "duration": 7,
    "start_time": "2022-03-21T07:31:45.837Z"
   },
   {
    "duration": 45,
    "start_time": "2022-03-21T07:32:47.940Z"
   },
   {
    "duration": 180,
    "start_time": "2022-03-21T07:33:01.621Z"
   },
   {
    "duration": 4,
    "start_time": "2022-03-21T07:33:09.895Z"
   },
   {
    "duration": 59,
    "start_time": "2022-03-21T07:33:09.902Z"
   },
   {
    "duration": 15,
    "start_time": "2022-03-21T07:33:09.964Z"
   },
   {
    "duration": 242,
    "start_time": "2022-03-21T07:33:09.981Z"
   },
   {
    "duration": 44,
    "start_time": "2022-03-21T07:33:10.226Z"
   },
   {
    "duration": 136,
    "start_time": "2022-03-21T07:33:10.273Z"
   },
   {
    "duration": 37,
    "start_time": "2022-03-21T07:33:10.411Z"
   },
   {
    "duration": 189,
    "start_time": "2022-03-21T07:33:10.451Z"
   },
   {
    "duration": 29,
    "start_time": "2022-03-21T07:33:10.644Z"
   },
   {
    "duration": 25,
    "start_time": "2022-03-21T07:33:10.675Z"
   },
   {
    "duration": 6,
    "start_time": "2022-03-21T07:33:10.704Z"
   },
   {
    "duration": 75,
    "start_time": "2022-03-21T07:33:10.712Z"
   },
   {
    "duration": 5,
    "start_time": "2022-03-21T07:33:10.789Z"
   },
   {
    "duration": 22,
    "start_time": "2022-03-21T07:33:10.797Z"
   },
   {
    "duration": 48,
    "start_time": "2022-03-21T07:33:10.822Z"
   },
   {
    "duration": 34,
    "start_time": "2022-03-21T07:33:10.873Z"
   },
   {
    "duration": 38,
    "start_time": "2022-03-21T07:33:10.910Z"
   },
   {
    "duration": 33,
    "start_time": "2022-03-21T07:33:10.951Z"
   },
   {
    "duration": 22,
    "start_time": "2022-03-21T07:33:10.987Z"
   },
   {
    "duration": 49,
    "start_time": "2022-03-21T07:33:11.011Z"
   },
   {
    "duration": 16,
    "start_time": "2022-03-21T07:33:11.062Z"
   },
   {
    "duration": 63,
    "start_time": "2022-03-21T07:33:11.080Z"
   },
   {
    "duration": 25,
    "start_time": "2022-03-21T07:33:11.145Z"
   },
   {
    "duration": 33,
    "start_time": "2022-03-21T07:33:11.172Z"
   },
   {
    "duration": 44,
    "start_time": "2022-03-21T07:33:11.207Z"
   },
   {
    "duration": 5,
    "start_time": "2022-03-21T07:33:11.253Z"
   },
   {
    "duration": 12,
    "start_time": "2022-03-21T07:33:11.260Z"
   },
   {
    "duration": 10,
    "start_time": "2022-03-21T07:33:11.274Z"
   },
   {
    "duration": 12,
    "start_time": "2022-03-21T07:33:11.289Z"
   },
   {
    "duration": 69,
    "start_time": "2022-03-21T07:33:11.303Z"
   },
   {
    "duration": 6,
    "start_time": "2022-03-21T07:33:11.375Z"
   },
   {
    "duration": 9,
    "start_time": "2022-03-21T07:33:11.385Z"
   },
   {
    "duration": 15,
    "start_time": "2022-03-21T07:33:11.396Z"
   },
   {
    "duration": 4,
    "start_time": "2022-03-21T07:33:11.413Z"
   },
   {
    "duration": 33,
    "start_time": "2022-03-21T07:33:11.419Z"
   },
   {
    "duration": 10,
    "start_time": "2022-03-21T07:33:11.453Z"
   },
   {
    "duration": 266,
    "start_time": "2022-03-21T07:33:11.465Z"
   },
   {
    "duration": 10,
    "start_time": "2022-03-21T07:33:22.859Z"
   },
   {
    "duration": 40,
    "start_time": "2022-03-21T07:33:26.240Z"
   },
   {
    "duration": 6,
    "start_time": "2022-03-21T07:35:24.261Z"
   },
   {
    "duration": 4,
    "start_time": "2022-03-21T07:36:23.585Z"
   },
   {
    "duration": 75,
    "start_time": "2022-03-21T07:36:23.591Z"
   },
   {
    "duration": 18,
    "start_time": "2022-03-21T07:36:23.670Z"
   },
   {
    "duration": 246,
    "start_time": "2022-03-21T07:36:23.691Z"
   },
   {
    "duration": 45,
    "start_time": "2022-03-21T07:36:23.939Z"
   },
   {
    "duration": 211,
    "start_time": "2022-03-21T07:36:23.986Z"
   },
   {
    "duration": 30,
    "start_time": "2022-03-21T07:36:24.200Z"
   },
   {
    "duration": 192,
    "start_time": "2022-03-21T07:36:24.243Z"
   },
   {
    "duration": 34,
    "start_time": "2022-03-21T07:36:24.437Z"
   },
   {
    "duration": 25,
    "start_time": "2022-03-21T07:36:24.473Z"
   },
   {
    "duration": 6,
    "start_time": "2022-03-21T07:36:24.502Z"
   },
   {
    "duration": 70,
    "start_time": "2022-03-21T07:36:24.511Z"
   },
   {
    "duration": 5,
    "start_time": "2022-03-21T07:36:24.583Z"
   },
   {
    "duration": 21,
    "start_time": "2022-03-21T07:36:24.590Z"
   },
   {
    "duration": 50,
    "start_time": "2022-03-21T07:36:24.613Z"
   },
   {
    "duration": 35,
    "start_time": "2022-03-21T07:36:24.666Z"
   },
   {
    "duration": 39,
    "start_time": "2022-03-21T07:36:24.703Z"
   },
   {
    "duration": 30,
    "start_time": "2022-03-21T07:36:24.745Z"
   },
   {
    "duration": 20,
    "start_time": "2022-03-21T07:36:24.778Z"
   },
   {
    "duration": 43,
    "start_time": "2022-03-21T07:36:24.800Z"
   },
   {
    "duration": 18,
    "start_time": "2022-03-21T07:36:24.845Z"
   },
   {
    "duration": 37,
    "start_time": "2022-03-21T07:36:24.865Z"
   },
   {
    "duration": 48,
    "start_time": "2022-03-21T07:36:24.905Z"
   },
   {
    "duration": 31,
    "start_time": "2022-03-21T07:36:24.956Z"
   },
   {
    "duration": 18,
    "start_time": "2022-03-21T07:36:24.989Z"
   },
   {
    "duration": 4,
    "start_time": "2022-03-21T07:36:25.009Z"
   },
   {
    "duration": 9,
    "start_time": "2022-03-21T07:36:25.042Z"
   },
   {
    "duration": 14,
    "start_time": "2022-03-21T07:36:25.053Z"
   },
   {
    "duration": 11,
    "start_time": "2022-03-21T07:36:25.072Z"
   },
   {
    "duration": 65,
    "start_time": "2022-03-21T07:36:25.085Z"
   },
   {
    "duration": 5,
    "start_time": "2022-03-21T07:36:25.153Z"
   },
   {
    "duration": 6,
    "start_time": "2022-03-21T07:36:25.161Z"
   },
   {
    "duration": 16,
    "start_time": "2022-03-21T07:36:25.169Z"
   },
   {
    "duration": 4,
    "start_time": "2022-03-21T07:36:25.187Z"
   },
   {
    "duration": 8,
    "start_time": "2022-03-21T07:36:25.193Z"
   },
   {
    "duration": 7,
    "start_time": "2022-03-21T07:36:25.203Z"
   },
   {
    "duration": 275,
    "start_time": "2022-03-21T07:36:25.212Z"
   },
   {
    "duration": 53,
    "start_time": "2022-03-21T07:36:25.489Z"
   },
   {
    "duration": 4,
    "start_time": "2022-03-21T07:40:29.135Z"
   },
   {
    "duration": 57,
    "start_time": "2022-03-21T07:40:29.141Z"
   },
   {
    "duration": 15,
    "start_time": "2022-03-21T07:40:29.201Z"
   },
   {
    "duration": 212,
    "start_time": "2022-03-21T07:40:29.219Z"
   },
   {
    "duration": 34,
    "start_time": "2022-03-21T07:40:29.442Z"
   },
   {
    "duration": 132,
    "start_time": "2022-03-21T07:40:29.477Z"
   },
   {
    "duration": 39,
    "start_time": "2022-03-21T07:40:29.612Z"
   },
   {
    "duration": 190,
    "start_time": "2022-03-21T07:40:29.653Z"
   },
   {
    "duration": 30,
    "start_time": "2022-03-21T07:40:29.845Z"
   },
   {
    "duration": 27,
    "start_time": "2022-03-21T07:40:29.877Z"
   },
   {
    "duration": 5,
    "start_time": "2022-03-21T07:40:29.908Z"
   },
   {
    "duration": 69,
    "start_time": "2022-03-21T07:40:29.915Z"
   },
   {
    "duration": 5,
    "start_time": "2022-03-21T07:40:29.986Z"
   },
   {
    "duration": 21,
    "start_time": "2022-03-21T07:40:29.993Z"
   },
   {
    "duration": 58,
    "start_time": "2022-03-21T07:40:30.017Z"
   },
   {
    "duration": 34,
    "start_time": "2022-03-21T07:40:30.077Z"
   },
   {
    "duration": 36,
    "start_time": "2022-03-21T07:40:30.113Z"
   },
   {
    "duration": 50,
    "start_time": "2022-03-21T07:40:30.151Z"
   },
   {
    "duration": 21,
    "start_time": "2022-03-21T07:40:30.204Z"
   },
   {
    "duration": 30,
    "start_time": "2022-03-21T07:40:30.228Z"
   },
   {
    "duration": 15,
    "start_time": "2022-03-21T07:40:30.261Z"
   },
   {
    "duration": 65,
    "start_time": "2022-03-21T07:40:30.278Z"
   },
   {
    "duration": 26,
    "start_time": "2022-03-21T07:40:30.345Z"
   },
   {
    "duration": 34,
    "start_time": "2022-03-21T07:40:30.374Z"
   },
   {
    "duration": 49,
    "start_time": "2022-03-21T07:40:30.411Z"
   },
   {
    "duration": 14,
    "start_time": "2022-03-21T07:40:30.462Z"
   },
   {
    "duration": 28,
    "start_time": "2022-03-21T07:40:30.479Z"
   },
   {
    "duration": 22,
    "start_time": "2022-03-21T07:40:30.509Z"
   },
   {
    "duration": 12,
    "start_time": "2022-03-21T07:40:30.537Z"
   },
   {
    "duration": 70,
    "start_time": "2022-03-21T07:40:30.552Z"
   },
   {
    "duration": 6,
    "start_time": "2022-03-21T07:40:30.624Z"
   },
   {
    "duration": 14,
    "start_time": "2022-03-21T07:40:30.632Z"
   },
   {
    "duration": 21,
    "start_time": "2022-03-21T07:40:30.649Z"
   },
   {
    "duration": 4,
    "start_time": "2022-03-21T07:40:30.672Z"
   },
   {
    "duration": 12,
    "start_time": "2022-03-21T07:40:30.678Z"
   },
   {
    "duration": 10,
    "start_time": "2022-03-21T07:40:30.692Z"
   },
   {
    "duration": 244,
    "start_time": "2022-03-21T07:40:30.705Z"
   },
   {
    "duration": 43,
    "start_time": "2022-03-21T07:40:30.951Z"
   },
   {
    "duration": 3,
    "start_time": "2022-03-21T07:41:09.286Z"
   },
   {
    "duration": 54,
    "start_time": "2022-03-21T07:41:09.291Z"
   },
   {
    "duration": 16,
    "start_time": "2022-03-21T07:41:09.347Z"
   },
   {
    "duration": 247,
    "start_time": "2022-03-21T07:41:09.366Z"
   },
   {
    "duration": 42,
    "start_time": "2022-03-21T07:41:09.616Z"
   },
   {
    "duration": 139,
    "start_time": "2022-03-21T07:41:09.660Z"
   },
   {
    "duration": 27,
    "start_time": "2022-03-21T07:41:09.801Z"
   },
   {
    "duration": 201,
    "start_time": "2022-03-21T07:41:09.831Z"
   },
   {
    "duration": 34,
    "start_time": "2022-03-21T07:41:10.034Z"
   },
   {
    "duration": 25,
    "start_time": "2022-03-21T07:41:10.070Z"
   },
   {
    "duration": 5,
    "start_time": "2022-03-21T07:41:10.099Z"
   },
   {
    "duration": 69,
    "start_time": "2022-03-21T07:41:10.106Z"
   },
   {
    "duration": 4,
    "start_time": "2022-03-21T07:41:10.178Z"
   },
   {
    "duration": 20,
    "start_time": "2022-03-21T07:41:10.184Z"
   },
   {
    "duration": 56,
    "start_time": "2022-03-21T07:41:10.206Z"
   },
   {
    "duration": 34,
    "start_time": "2022-03-21T07:41:10.264Z"
   },
   {
    "duration": 17,
    "start_time": "2022-03-21T07:41:10.300Z"
   },
   {
    "duration": 51,
    "start_time": "2022-03-21T07:41:10.320Z"
   },
   {
    "duration": 21,
    "start_time": "2022-03-21T07:41:10.373Z"
   },
   {
    "duration": 47,
    "start_time": "2022-03-21T07:41:10.396Z"
   },
   {
    "duration": 15,
    "start_time": "2022-03-21T07:41:10.445Z"
   },
   {
    "duration": 39,
    "start_time": "2022-03-21T07:41:10.462Z"
   },
   {
    "duration": 48,
    "start_time": "2022-03-21T07:41:10.504Z"
   },
   {
    "duration": 32,
    "start_time": "2022-03-21T07:41:10.554Z"
   },
   {
    "duration": 17,
    "start_time": "2022-03-21T07:41:10.589Z"
   },
   {
    "duration": 4,
    "start_time": "2022-03-21T07:41:10.609Z"
   },
   {
    "duration": 37,
    "start_time": "2022-03-21T07:41:10.615Z"
   },
   {
    "duration": 12,
    "start_time": "2022-03-21T07:41:10.655Z"
   },
   {
    "duration": 11,
    "start_time": "2022-03-21T07:41:10.673Z"
   },
   {
    "duration": 72,
    "start_time": "2022-03-21T07:41:10.686Z"
   },
   {
    "duration": 7,
    "start_time": "2022-03-21T07:41:10.761Z"
   },
   {
    "duration": 8,
    "start_time": "2022-03-21T07:41:10.770Z"
   },
   {
    "duration": 13,
    "start_time": "2022-03-21T07:41:10.780Z"
   },
   {
    "duration": 3,
    "start_time": "2022-03-21T07:41:10.795Z"
   },
   {
    "duration": 45,
    "start_time": "2022-03-21T07:41:10.800Z"
   },
   {
    "duration": 8,
    "start_time": "2022-03-21T07:41:10.847Z"
   },
   {
    "duration": 248,
    "start_time": "2022-03-21T07:41:10.857Z"
   },
   {
    "duration": 55,
    "start_time": "2022-03-21T07:41:11.107Z"
   },
   {
    "duration": 3,
    "start_time": "2022-03-21T07:41:51.586Z"
   },
   {
    "duration": 59,
    "start_time": "2022-03-21T07:41:51.607Z"
   },
   {
    "duration": 15,
    "start_time": "2022-03-21T07:41:51.669Z"
   },
   {
    "duration": 231,
    "start_time": "2022-03-21T07:41:51.686Z"
   },
   {
    "duration": 37,
    "start_time": "2022-03-21T07:41:51.919Z"
   },
   {
    "duration": 124,
    "start_time": "2022-03-21T07:41:51.960Z"
   },
   {
    "duration": 25,
    "start_time": "2022-03-21T07:41:52.086Z"
   },
   {
    "duration": 189,
    "start_time": "2022-03-21T07:41:52.113Z"
   },
   {
    "duration": 28,
    "start_time": "2022-03-21T07:41:52.304Z"
   },
   {
    "duration": 27,
    "start_time": "2022-03-21T07:41:52.334Z"
   },
   {
    "duration": 5,
    "start_time": "2022-03-21T07:41:52.364Z"
   },
   {
    "duration": 48,
    "start_time": "2022-03-21T07:41:52.371Z"
   },
   {
    "duration": 6,
    "start_time": "2022-03-21T07:41:52.421Z"
   },
   {
    "duration": 19,
    "start_time": "2022-03-21T07:41:52.429Z"
   },
   {
    "duration": 31,
    "start_time": "2022-03-21T07:41:52.453Z"
   },
   {
    "duration": 33,
    "start_time": "2022-03-21T07:41:52.486Z"
   },
   {
    "duration": 24,
    "start_time": "2022-03-21T07:41:52.521Z"
   },
   {
    "duration": 38,
    "start_time": "2022-03-21T07:41:52.547Z"
   },
   {
    "duration": 20,
    "start_time": "2022-03-21T07:41:52.588Z"
   },
   {
    "duration": 21,
    "start_time": "2022-03-21T07:41:52.611Z"
   },
   {
    "duration": 15,
    "start_time": "2022-03-21T07:41:52.643Z"
   },
   {
    "duration": 92,
    "start_time": "2022-03-21T07:41:52.660Z"
   },
   {
    "duration": 24,
    "start_time": "2022-03-21T07:41:52.754Z"
   },
   {
    "duration": 64,
    "start_time": "2022-03-21T07:41:52.781Z"
   },
   {
    "duration": 18,
    "start_time": "2022-03-21T07:41:52.944Z"
   },
   {
    "duration": 4,
    "start_time": "2022-03-21T07:41:52.965Z"
   },
   {
    "duration": 14,
    "start_time": "2022-03-21T07:41:52.971Z"
   },
   {
    "duration": 60,
    "start_time": "2022-03-21T07:41:52.988Z"
   },
   {
    "duration": 11,
    "start_time": "2022-03-21T07:41:53.050Z"
   },
   {
    "duration": 86,
    "start_time": "2022-03-21T07:41:53.063Z"
   },
   {
    "duration": 5,
    "start_time": "2022-03-21T07:41:53.152Z"
   },
   {
    "duration": 7,
    "start_time": "2022-03-21T07:41:53.159Z"
   },
   {
    "duration": 10,
    "start_time": "2022-03-21T07:41:53.169Z"
   },
   {
    "duration": 3,
    "start_time": "2022-03-21T07:41:53.183Z"
   },
   {
    "duration": 8,
    "start_time": "2022-03-21T07:41:53.242Z"
   },
   {
    "duration": 9,
    "start_time": "2022-03-21T07:41:53.252Z"
   },
   {
    "duration": 285,
    "start_time": "2022-03-21T07:41:53.263Z"
   },
   {
    "duration": 41,
    "start_time": "2022-03-21T07:41:53.550Z"
   },
   {
    "duration": 60,
    "start_time": "2022-03-21T07:42:05.827Z"
   },
   {
    "duration": 59,
    "start_time": "2022-03-21T07:42:17.648Z"
   },
   {
    "duration": 7,
    "start_time": "2022-03-21T07:43:47.688Z"
   },
   {
    "duration": 225,
    "start_time": "2022-03-21T07:43:48.319Z"
   },
   {
    "duration": 60,
    "start_time": "2022-03-21T07:43:49.138Z"
   },
   {
    "duration": 4,
    "start_time": "2022-03-21T07:43:59.208Z"
   },
   {
    "duration": 55,
    "start_time": "2022-03-21T07:43:59.216Z"
   },
   {
    "duration": 20,
    "start_time": "2022-03-21T07:43:59.273Z"
   },
   {
    "duration": 245,
    "start_time": "2022-03-21T07:43:59.297Z"
   },
   {
    "duration": 35,
    "start_time": "2022-03-21T07:43:59.545Z"
   },
   {
    "duration": 210,
    "start_time": "2022-03-21T07:43:59.583Z"
   },
   {
    "duration": 54,
    "start_time": "2022-03-21T07:43:59.796Z"
   },
   {
    "duration": 318,
    "start_time": "2022-03-21T07:43:59.853Z"
   },
   {
    "duration": 47,
    "start_time": "2022-03-21T07:44:00.177Z"
   },
   {
    "duration": 29,
    "start_time": "2022-03-21T07:44:00.227Z"
   },
   {
    "duration": 6,
    "start_time": "2022-03-21T07:44:00.258Z"
   },
   {
    "duration": 69,
    "start_time": "2022-03-21T07:44:00.266Z"
   },
   {
    "duration": 5,
    "start_time": "2022-03-21T07:44:00.343Z"
   },
   {
    "duration": 32,
    "start_time": "2022-03-21T07:44:00.350Z"
   },
   {
    "duration": 40,
    "start_time": "2022-03-21T07:44:00.385Z"
   },
   {
    "duration": 46,
    "start_time": "2022-03-21T07:44:00.445Z"
   },
   {
    "duration": 24,
    "start_time": "2022-03-21T07:44:00.494Z"
   },
   {
    "duration": 56,
    "start_time": "2022-03-21T07:44:00.521Z"
   },
   {
    "duration": 22,
    "start_time": "2022-03-21T07:44:00.579Z"
   },
   {
    "duration": 49,
    "start_time": "2022-03-21T07:44:00.603Z"
   },
   {
    "duration": 16,
    "start_time": "2022-03-21T07:44:00.654Z"
   },
   {
    "duration": 51,
    "start_time": "2022-03-21T07:44:00.672Z"
   },
   {
    "duration": 25,
    "start_time": "2022-03-21T07:44:00.744Z"
   },
   {
    "duration": 31,
    "start_time": "2022-03-21T07:44:00.774Z"
   },
   {
    "duration": 49,
    "start_time": "2022-03-21T07:44:00.807Z"
   },
   {
    "duration": 5,
    "start_time": "2022-03-21T07:44:00.858Z"
   },
   {
    "duration": 18,
    "start_time": "2022-03-21T07:44:00.865Z"
   },
   {
    "duration": 18,
    "start_time": "2022-03-21T07:44:00.885Z"
   },
   {
    "duration": 44,
    "start_time": "2022-03-21T07:44:00.905Z"
   },
   {
    "duration": 39,
    "start_time": "2022-03-21T07:44:00.952Z"
   },
   {
    "duration": 19,
    "start_time": "2022-03-21T07:44:00.994Z"
   },
   {
    "duration": 29,
    "start_time": "2022-03-21T07:44:01.015Z"
   },
   {
    "duration": 14,
    "start_time": "2022-03-21T07:44:01.046Z"
   },
   {
    "duration": 22,
    "start_time": "2022-03-21T07:44:01.063Z"
   },
   {
    "duration": 17,
    "start_time": "2022-03-21T07:44:01.088Z"
   },
   {
    "duration": 23,
    "start_time": "2022-03-21T07:44:01.107Z"
   },
   {
    "duration": 262,
    "start_time": "2022-03-21T07:44:01.132Z"
   },
   {
    "duration": 66,
    "start_time": "2022-03-21T07:44:01.397Z"
   },
   {
    "duration": 42,
    "start_time": "2022-03-21T07:44:19.567Z"
   },
   {
    "duration": 46,
    "start_time": "2022-03-21T07:55:40.088Z"
   },
   {
    "duration": 60,
    "start_time": "2022-03-21T07:55:54.508Z"
   },
   {
    "duration": 20,
    "start_time": "2022-03-21T08:05:48.469Z"
   },
   {
    "duration": 44,
    "start_time": "2022-03-21T08:06:13.093Z"
   },
   {
    "duration": 45,
    "start_time": "2022-03-21T08:09:49.088Z"
   },
   {
    "duration": 42,
    "start_time": "2022-03-21T08:10:24.850Z"
   },
   {
    "duration": 9,
    "start_time": "2022-03-21T08:11:11.251Z"
   },
   {
    "duration": 41,
    "start_time": "2022-03-21T08:11:15.102Z"
   },
   {
    "duration": 41,
    "start_time": "2022-03-21T08:11:42.334Z"
   },
   {
    "duration": 47,
    "start_time": "2022-03-21T08:12:13.771Z"
   },
   {
    "duration": 9,
    "start_time": "2022-03-21T08:23:06.573Z"
   },
   {
    "duration": 3251,
    "start_time": "2022-03-21T08:24:12.593Z"
   },
   {
    "duration": 8,
    "start_time": "2022-03-21T08:24:30.521Z"
   },
   {
    "duration": 5,
    "start_time": "2022-03-21T08:24:45.139Z"
   },
   {
    "duration": 10,
    "start_time": "2022-03-21T08:25:15.831Z"
   },
   {
    "duration": 9,
    "start_time": "2022-03-21T08:25:21.021Z"
   },
   {
    "duration": 5,
    "start_time": "2022-03-21T08:25:22.861Z"
   },
   {
    "duration": 74,
    "start_time": "2022-03-23T08:47:53.640Z"
   },
   {
    "duration": 496,
    "start_time": "2022-03-23T08:47:56.928Z"
   },
   {
    "duration": 42,
    "start_time": "2022-03-23T08:47:57.427Z"
   },
   {
    "duration": 17,
    "start_time": "2022-03-23T08:47:57.473Z"
   },
   {
    "duration": 219,
    "start_time": "2022-03-23T08:47:57.493Z"
   },
   {
    "duration": 36,
    "start_time": "2022-03-23T08:47:57.714Z"
   },
   {
    "duration": 142,
    "start_time": "2022-03-23T08:47:57.753Z"
   },
   {
    "duration": 26,
    "start_time": "2022-03-23T08:47:57.898Z"
   },
   {
    "duration": 202,
    "start_time": "2022-03-23T08:47:57.926Z"
   },
   {
    "duration": 45,
    "start_time": "2022-03-23T08:47:58.130Z"
   },
   {
    "duration": 19,
    "start_time": "2022-03-23T08:47:58.179Z"
   },
   {
    "duration": 5,
    "start_time": "2022-03-23T08:47:58.201Z"
   },
   {
    "duration": 69,
    "start_time": "2022-03-23T08:47:58.208Z"
   },
   {
    "duration": 6,
    "start_time": "2022-03-23T08:47:58.279Z"
   },
   {
    "duration": 20,
    "start_time": "2022-03-23T08:47:58.288Z"
   },
   {
    "duration": 33,
    "start_time": "2022-03-23T08:47:58.311Z"
   },
   {
    "duration": 55,
    "start_time": "2022-03-23T08:47:58.346Z"
   },
   {
    "duration": 15,
    "start_time": "2022-03-23T08:47:58.403Z"
   },
   {
    "duration": 61,
    "start_time": "2022-03-23T08:47:58.420Z"
   },
   {
    "duration": 21,
    "start_time": "2022-03-23T08:47:58.483Z"
   },
   {
    "duration": 22,
    "start_time": "2022-03-23T08:47:58.506Z"
   },
   {
    "duration": 15,
    "start_time": "2022-03-23T08:47:58.531Z"
   },
   {
    "duration": 39,
    "start_time": "2022-03-23T08:47:58.574Z"
   },
   {
    "duration": 24,
    "start_time": "2022-03-23T08:47:58.615Z"
   },
   {
    "duration": 54,
    "start_time": "2022-03-23T08:47:58.642Z"
   },
   {
    "duration": 18,
    "start_time": "2022-03-23T08:47:58.698Z"
   },
   {
    "duration": 5,
    "start_time": "2022-03-23T08:47:58.718Z"
   },
   {
    "duration": 13,
    "start_time": "2022-03-23T08:47:58.725Z"
   },
   {
    "duration": 40,
    "start_time": "2022-03-23T08:47:58.743Z"
   },
   {
    "duration": 12,
    "start_time": "2022-03-23T08:47:58.785Z"
   },
   {
    "duration": 38,
    "start_time": "2022-03-23T08:47:58.800Z"
   },
   {
    "duration": 41,
    "start_time": "2022-03-23T08:47:58.840Z"
   },
   {
    "duration": 5,
    "start_time": "2022-03-23T08:47:58.883Z"
   },
   {
    "duration": 21,
    "start_time": "2022-03-23T08:47:58.890Z"
   },
   {
    "duration": 8,
    "start_time": "2022-03-23T08:47:58.913Z"
   },
   {
    "duration": 21,
    "start_time": "2022-03-23T08:47:58.924Z"
   },
   {
    "duration": 21,
    "start_time": "2022-03-23T08:47:58.948Z"
   },
   {
    "duration": 237,
    "start_time": "2022-03-23T08:47:58.971Z"
   },
   {
    "duration": 42,
    "start_time": "2022-03-23T08:47:59.210Z"
   },
   {
    "duration": 12,
    "start_time": "2022-03-23T08:47:59.274Z"
   },
   {
    "duration": 21,
    "start_time": "2022-03-23T08:47:59.288Z"
   },
   {
    "duration": 51,
    "start_time": "2022-03-23T08:47:59.311Z"
   },
   {
    "duration": 0,
    "start_time": "2022-03-23T08:47:59.364Z"
   },
   {
    "duration": 0,
    "start_time": "2022-03-23T08:47:59.374Z"
   },
   {
    "duration": 11,
    "start_time": "2022-03-23T08:48:07.036Z"
   },
   {
    "duration": 7,
    "start_time": "2022-03-23T08:48:08.869Z"
   },
   {
    "duration": 8,
    "start_time": "2022-03-23T08:48:11.504Z"
   },
   {
    "duration": 34,
    "start_time": "2022-03-23T08:48:20.044Z"
   },
   {
    "duration": 9,
    "start_time": "2022-03-23T08:48:42.081Z"
   },
   {
    "duration": 9,
    "start_time": "2022-03-23T08:49:43.042Z"
   },
   {
    "duration": 9,
    "start_time": "2022-03-23T08:49:44.963Z"
   },
   {
    "duration": 6,
    "start_time": "2022-03-23T08:50:21.656Z"
   },
   {
    "duration": 7,
    "start_time": "2022-03-23T08:50:26.860Z"
   },
   {
    "duration": 10,
    "start_time": "2022-03-23T08:50:40.946Z"
   },
   {
    "duration": 6,
    "start_time": "2022-03-23T08:50:41.654Z"
   },
   {
    "duration": 7,
    "start_time": "2022-03-23T08:50:42.023Z"
   },
   {
    "duration": 10,
    "start_time": "2022-03-23T08:50:43.080Z"
   },
   {
    "duration": 10,
    "start_time": "2022-03-23T08:50:43.497Z"
   },
   {
    "duration": 9,
    "start_time": "2022-03-23T08:57:52.377Z"
   },
   {
    "duration": 9,
    "start_time": "2022-03-23T08:58:04.414Z"
   },
   {
    "duration": 8,
    "start_time": "2022-03-23T08:58:09.651Z"
   },
   {
    "duration": 9,
    "start_time": "2022-03-23T08:58:17.565Z"
   },
   {
    "duration": 7,
    "start_time": "2022-03-23T09:08:29.687Z"
   },
   {
    "duration": 1148,
    "start_time": "2022-03-23T09:11:28.827Z"
   },
   {
    "duration": 512,
    "start_time": "2022-03-23T09:12:16.106Z"
   },
   {
    "duration": 469,
    "start_time": "2022-03-23T09:12:22.588Z"
   },
   {
    "duration": 10712,
    "start_time": "2022-03-23T09:14:23.872Z"
   },
   {
    "duration": 250,
    "start_time": "2022-03-23T09:15:20.139Z"
   },
   {
    "duration": 231,
    "start_time": "2022-03-23T09:15:30.995Z"
   },
   {
    "duration": 251,
    "start_time": "2022-03-23T09:15:36.244Z"
   },
   {
    "duration": 58,
    "start_time": "2022-03-23T09:42:58.721Z"
   },
   {
    "duration": 4,
    "start_time": "2022-03-23T09:43:03.267Z"
   },
   {
    "duration": 62,
    "start_time": "2022-03-23T09:43:03.273Z"
   },
   {
    "duration": 16,
    "start_time": "2022-03-23T09:43:03.337Z"
   },
   {
    "duration": 220,
    "start_time": "2022-03-23T09:43:03.355Z"
   },
   {
    "duration": 33,
    "start_time": "2022-03-23T09:43:03.578Z"
   },
   {
    "duration": 136,
    "start_time": "2022-03-23T09:43:03.613Z"
   },
   {
    "duration": 34,
    "start_time": "2022-03-23T09:43:03.751Z"
   },
   {
    "duration": 188,
    "start_time": "2022-03-23T09:43:03.787Z"
   },
   {
    "duration": 29,
    "start_time": "2022-03-23T09:43:03.977Z"
   },
   {
    "duration": 19,
    "start_time": "2022-03-23T09:43:04.009Z"
   },
   {
    "duration": 5,
    "start_time": "2022-03-23T09:43:04.032Z"
   },
   {
    "duration": 76,
    "start_time": "2022-03-23T09:43:04.039Z"
   },
   {
    "duration": 5,
    "start_time": "2022-03-23T09:43:04.117Z"
   },
   {
    "duration": 22,
    "start_time": "2022-03-23T09:43:04.124Z"
   },
   {
    "duration": 52,
    "start_time": "2022-03-23T09:43:04.148Z"
   },
   {
    "duration": 30,
    "start_time": "2022-03-23T09:43:04.202Z"
   },
   {
    "duration": 16,
    "start_time": "2022-03-23T09:43:04.235Z"
   },
   {
    "duration": 32,
    "start_time": "2022-03-23T09:43:04.273Z"
   },
   {
    "duration": 22,
    "start_time": "2022-03-23T09:43:04.307Z"
   },
   {
    "duration": 49,
    "start_time": "2022-03-23T09:43:04.330Z"
   },
   {
    "duration": 14,
    "start_time": "2022-03-23T09:43:04.381Z"
   },
   {
    "duration": 45,
    "start_time": "2022-03-23T09:43:04.397Z"
   },
   {
    "duration": 44,
    "start_time": "2022-03-23T09:43:04.444Z"
   },
   {
    "duration": 29,
    "start_time": "2022-03-23T09:43:04.490Z"
   },
   {
    "duration": 18,
    "start_time": "2022-03-23T09:43:04.521Z"
   },
   {
    "duration": 5,
    "start_time": "2022-03-23T09:43:04.541Z"
   },
   {
    "duration": 10,
    "start_time": "2022-03-23T09:43:04.574Z"
   },
   {
    "duration": 12,
    "start_time": "2022-03-23T09:43:04.586Z"
   },
   {
    "duration": 13,
    "start_time": "2022-03-23T09:43:04.605Z"
   },
   {
    "duration": 67,
    "start_time": "2022-03-23T09:43:04.620Z"
   },
   {
    "duration": 6,
    "start_time": "2022-03-23T09:43:04.689Z"
   },
   {
    "duration": 12,
    "start_time": "2022-03-23T09:43:04.698Z"
   },
   {
    "duration": 13,
    "start_time": "2022-03-23T09:43:04.712Z"
   },
   {
    "duration": 4,
    "start_time": "2022-03-23T09:43:04.728Z"
   },
   {
    "duration": 20,
    "start_time": "2022-03-23T09:43:04.734Z"
   },
   {
    "duration": 27,
    "start_time": "2022-03-23T09:43:04.756Z"
   },
   {
    "duration": 286,
    "start_time": "2022-03-23T09:43:04.785Z"
   },
   {
    "duration": 41,
    "start_time": "2022-03-23T09:43:05.073Z"
   },
   {
    "duration": 59,
    "start_time": "2022-03-23T09:43:05.116Z"
   },
   {
    "duration": 11,
    "start_time": "2022-03-23T09:43:16.077Z"
   },
   {
    "duration": 12,
    "start_time": "2022-03-23T09:43:35.567Z"
   },
   {
    "duration": 10,
    "start_time": "2022-03-23T09:43:37.928Z"
   },
   {
    "duration": 41,
    "start_time": "2022-03-23T09:43:57.530Z"
   },
   {
    "duration": 6,
    "start_time": "2022-03-23T09:44:27.447Z"
   },
   {
    "duration": 6,
    "start_time": "2022-03-23T09:44:38.240Z"
   },
   {
    "duration": 43,
    "start_time": "2022-03-23T09:44:43.078Z"
   },
   {
    "duration": 43,
    "start_time": "2022-03-23T09:44:47.425Z"
   },
   {
    "duration": 42,
    "start_time": "2022-03-23T09:48:31.642Z"
   },
   {
    "duration": 9,
    "start_time": "2022-03-23T09:49:17.858Z"
   },
   {
    "duration": 13,
    "start_time": "2022-03-23T09:49:25.722Z"
   },
   {
    "duration": 15,
    "start_time": "2022-03-23T09:50:13.779Z"
   },
   {
    "duration": 6,
    "start_time": "2022-03-23T09:50:33.263Z"
   },
   {
    "duration": 14,
    "start_time": "2022-03-23T09:51:36.510Z"
   },
   {
    "duration": 15,
    "start_time": "2022-03-23T10:13:14.133Z"
   },
   {
    "duration": 14,
    "start_time": "2022-03-23T10:13:30.383Z"
   },
   {
    "duration": 252,
    "start_time": "2022-03-23T10:16:01.539Z"
   },
   {
    "duration": 10,
    "start_time": "2022-03-23T10:24:31.762Z"
   },
   {
    "duration": 226,
    "start_time": "2022-03-23T10:24:49.339Z"
   },
   {
    "duration": 236,
    "start_time": "2022-03-23T10:25:02.552Z"
   },
   {
    "duration": 9,
    "start_time": "2022-03-23T10:25:18.251Z"
   },
   {
    "duration": 14,
    "start_time": "2022-03-23T10:25:59.075Z"
   },
   {
    "duration": 12,
    "start_time": "2022-03-23T10:26:01.827Z"
   },
   {
    "duration": 11,
    "start_time": "2022-03-23T10:26:13.492Z"
   },
   {
    "duration": 10,
    "start_time": "2022-03-23T10:26:16.971Z"
   },
   {
    "duration": 223,
    "start_time": "2022-03-23T10:26:22.380Z"
   },
   {
    "duration": 11,
    "start_time": "2022-03-23T10:26:51.145Z"
   },
   {
    "duration": 214,
    "start_time": "2022-03-23T10:26:56.030Z"
   },
   {
    "duration": 233,
    "start_time": "2022-03-23T10:27:12.698Z"
   },
   {
    "duration": 214,
    "start_time": "2022-03-23T10:28:03.922Z"
   },
   {
    "duration": 64,
    "start_time": "2022-03-23T10:31:30.369Z"
   },
   {
    "duration": 41,
    "start_time": "2022-03-23T10:32:45.291Z"
   },
   {
    "duration": 9,
    "start_time": "2022-03-23T10:34:14.884Z"
   },
   {
    "duration": 235,
    "start_time": "2022-03-23T10:34:22.374Z"
   },
   {
    "duration": 238,
    "start_time": "2022-03-23T10:36:53.492Z"
   },
   {
    "duration": 294,
    "start_time": "2022-03-23T10:37:11.079Z"
   },
   {
    "duration": 237,
    "start_time": "2022-03-23T10:38:15.542Z"
   },
   {
    "duration": 236,
    "start_time": "2022-03-23T10:38:21.170Z"
   },
   {
    "duration": 226,
    "start_time": "2022-03-23T10:38:48.382Z"
   },
   {
    "duration": 10,
    "start_time": "2022-03-23T10:39:37.059Z"
   },
   {
    "duration": 242,
    "start_time": "2022-03-23T10:40:29.062Z"
   },
   {
    "duration": 236,
    "start_time": "2022-03-23T10:40:33.123Z"
   },
   {
    "duration": 210,
    "start_time": "2022-03-23T10:40:59.235Z"
   },
   {
    "duration": 395,
    "start_time": "2022-03-23T10:41:22.642Z"
   },
   {
    "duration": 230,
    "start_time": "2022-03-23T10:41:35.212Z"
   },
   {
    "duration": 224,
    "start_time": "2022-03-23T10:41:47.979Z"
   },
   {
    "duration": 209,
    "start_time": "2022-03-23T10:41:48.922Z"
   },
   {
    "duration": 229,
    "start_time": "2022-03-23T10:42:17.353Z"
   },
   {
    "duration": 14,
    "start_time": "2022-03-23T10:42:48.507Z"
   },
   {
    "duration": 517,
    "start_time": "2022-03-23T11:02:22.681Z"
   },
   {
    "duration": 442,
    "start_time": "2022-03-23T11:02:39.276Z"
   },
   {
    "duration": 453,
    "start_time": "2022-03-23T11:02:48.682Z"
   },
   {
    "duration": 7,
    "start_time": "2022-03-23T11:03:02.083Z"
   },
   {
    "duration": 215,
    "start_time": "2022-03-23T11:03:12.906Z"
   },
   {
    "duration": 228,
    "start_time": "2022-03-23T11:03:20.860Z"
   },
   {
    "duration": 224,
    "start_time": "2022-03-23T11:03:51.149Z"
   },
   {
    "duration": 215,
    "start_time": "2022-03-23T11:03:55.250Z"
   },
   {
    "duration": 232,
    "start_time": "2022-03-23T11:04:01.094Z"
   },
   {
    "duration": 802,
    "start_time": "2022-03-23T11:04:05.994Z"
   },
   {
    "duration": 232,
    "start_time": "2022-03-23T11:04:14.595Z"
   },
   {
    "duration": 221,
    "start_time": "2022-03-23T11:04:21.298Z"
   },
   {
    "duration": 10,
    "start_time": "2022-03-23T11:04:30.139Z"
   },
   {
    "duration": 21,
    "start_time": "2022-03-23T11:04:45.152Z"
   },
   {
    "duration": 22,
    "start_time": "2022-03-23T11:04:48.400Z"
   },
   {
    "duration": 14,
    "start_time": "2022-03-23T11:05:01.560Z"
   },
   {
    "duration": 223,
    "start_time": "2022-03-23T11:09:22.494Z"
   },
   {
    "duration": 374,
    "start_time": "2022-03-23T11:09:41.281Z"
   },
   {
    "duration": 272,
    "start_time": "2022-03-23T11:09:47.544Z"
   },
   {
    "duration": 5,
    "start_time": "2022-03-23T11:10:39.761Z"
   },
   {
    "duration": 316,
    "start_time": "2022-03-23T11:11:21.495Z"
   },
   {
    "duration": 4,
    "start_time": "2022-03-23T11:15:05.743Z"
   },
   {
    "duration": 273,
    "start_time": "2022-03-23T11:15:11.636Z"
   },
   {
    "duration": 4,
    "start_time": "2022-03-23T11:15:21.768Z"
   },
   {
    "duration": 44,
    "start_time": "2022-03-23T11:15:21.775Z"
   },
   {
    "duration": 17,
    "start_time": "2022-03-23T11:15:21.821Z"
   },
   {
    "duration": 237,
    "start_time": "2022-03-23T11:15:21.841Z"
   },
   {
    "duration": 32,
    "start_time": "2022-03-23T11:15:22.081Z"
   },
   {
    "duration": 131,
    "start_time": "2022-03-23T11:15:22.115Z"
   },
   {
    "duration": 32,
    "start_time": "2022-03-23T11:15:22.248Z"
   },
   {
    "duration": 182,
    "start_time": "2022-03-23T11:15:22.282Z"
   },
   {
    "duration": 32,
    "start_time": "2022-03-23T11:15:22.466Z"
   },
   {
    "duration": 22,
    "start_time": "2022-03-23T11:15:22.500Z"
   },
   {
    "duration": 7,
    "start_time": "2022-03-23T11:15:22.524Z"
   },
   {
    "duration": 73,
    "start_time": "2022-03-23T11:15:22.533Z"
   },
   {
    "duration": 5,
    "start_time": "2022-03-23T11:15:22.609Z"
   },
   {
    "duration": 18,
    "start_time": "2022-03-23T11:15:22.618Z"
   },
   {
    "duration": 56,
    "start_time": "2022-03-23T11:15:22.638Z"
   },
   {
    "duration": 32,
    "start_time": "2022-03-23T11:15:22.697Z"
   },
   {
    "duration": 17,
    "start_time": "2022-03-23T11:15:22.731Z"
   },
   {
    "duration": 37,
    "start_time": "2022-03-23T11:15:22.774Z"
   },
   {
    "duration": 20,
    "start_time": "2022-03-23T11:15:22.814Z"
   },
   {
    "duration": 44,
    "start_time": "2022-03-23T11:15:22.836Z"
   },
   {
    "duration": 14,
    "start_time": "2022-03-23T11:15:22.882Z"
   },
   {
    "duration": 40,
    "start_time": "2022-03-23T11:15:22.898Z"
   },
   {
    "duration": 49,
    "start_time": "2022-03-23T11:15:22.941Z"
   },
   {
    "duration": 28,
    "start_time": "2022-03-23T11:15:22.992Z"
   },
   {
    "duration": 18,
    "start_time": "2022-03-23T11:15:23.023Z"
   },
   {
    "duration": 31,
    "start_time": "2022-03-23T11:15:23.043Z"
   },
   {
    "duration": 31,
    "start_time": "2022-03-23T11:15:23.076Z"
   },
   {
    "duration": 31,
    "start_time": "2022-03-23T11:15:23.110Z"
   },
   {
    "duration": 13,
    "start_time": "2022-03-23T11:15:23.144Z"
   },
   {
    "duration": 43,
    "start_time": "2022-03-23T11:15:23.159Z"
   },
   {
    "duration": 6,
    "start_time": "2022-03-23T11:15:23.204Z"
   },
   {
    "duration": 17,
    "start_time": "2022-03-23T11:15:23.212Z"
   },
   {
    "duration": 31,
    "start_time": "2022-03-23T11:15:23.231Z"
   },
   {
    "duration": 9,
    "start_time": "2022-03-23T11:15:23.264Z"
   },
   {
    "duration": 17,
    "start_time": "2022-03-23T11:15:23.275Z"
   },
   {
    "duration": 27,
    "start_time": "2022-03-23T11:15:23.294Z"
   },
   {
    "duration": 238,
    "start_time": "2022-03-23T11:15:23.323Z"
   },
   {
    "duration": 44,
    "start_time": "2022-03-23T11:15:23.563Z"
   },
   {
    "duration": 15,
    "start_time": "2022-03-23T11:15:23.609Z"
   },
   {
    "duration": 443,
    "start_time": "2022-03-23T11:16:40.414Z"
   },
   {
    "duration": 522,
    "start_time": "2022-03-23T11:16:56.826Z"
   },
   {
    "duration": 497,
    "start_time": "2022-03-23T11:17:06.555Z"
   },
   {
    "duration": 527,
    "start_time": "2022-03-23T11:17:28.429Z"
   },
   {
    "duration": 17,
    "start_time": "2022-03-23T11:17:43.629Z"
   },
   {
    "duration": 195,
    "start_time": "2022-03-23T11:17:57.130Z"
   },
   {
    "duration": 747,
    "start_time": "2022-03-23T11:18:32.169Z"
   },
   {
    "duration": 218,
    "start_time": "2022-03-23T11:18:46.615Z"
   },
   {
    "duration": 454,
    "start_time": "2022-03-23T11:18:58.994Z"
   },
   {
    "duration": 360,
    "start_time": "2022-03-23T11:21:55.750Z"
   },
   {
    "duration": 501,
    "start_time": "2022-03-23T11:22:07.437Z"
   },
   {
    "duration": 27,
    "start_time": "2022-03-23T11:22:17.419Z"
   },
   {
    "duration": 118,
    "start_time": "2022-03-23T11:22:25.689Z"
   },
   {
    "duration": 439,
    "start_time": "2022-03-23T11:22:28.579Z"
   },
   {
    "duration": 437,
    "start_time": "2022-03-23T11:25:11.814Z"
   },
   {
    "duration": 439,
    "start_time": "2022-03-23T11:25:47.645Z"
   },
   {
    "duration": 443,
    "start_time": "2022-03-23T11:26:01.248Z"
   },
   {
    "duration": 422,
    "start_time": "2022-03-23T11:26:39.299Z"
   },
   {
    "duration": 439,
    "start_time": "2022-03-23T11:26:44.036Z"
   },
   {
    "duration": 685,
    "start_time": "2022-03-23T11:27:21.607Z"
   },
   {
    "duration": 25,
    "start_time": "2022-03-23T11:27:35.980Z"
   },
   {
    "duration": 458,
    "start_time": "2022-03-23T11:27:42.747Z"
   },
   {
    "duration": 439,
    "start_time": "2022-03-23T11:27:49.563Z"
   },
   {
    "duration": 530,
    "start_time": "2022-03-23T11:28:28.543Z"
   },
   {
    "duration": 873,
    "start_time": "2022-03-23T11:29:03.096Z"
   },
   {
    "duration": 423,
    "start_time": "2022-03-23T11:29:52.835Z"
   },
   {
    "duration": 420,
    "start_time": "2022-03-23T11:29:59.906Z"
   },
   {
    "duration": 213,
    "start_time": "2022-03-23T11:30:13.938Z"
   },
   {
    "duration": 419,
    "start_time": "2022-03-23T11:33:28.648Z"
   },
   {
    "duration": 413,
    "start_time": "2022-03-23T11:33:58.441Z"
   },
   {
    "duration": 374,
    "start_time": "2022-03-23T11:34:20.058Z"
   },
   {
    "duration": 395,
    "start_time": "2022-03-23T11:34:23.639Z"
   },
   {
    "duration": 435,
    "start_time": "2022-03-23T11:34:43.489Z"
   },
   {
    "duration": 417,
    "start_time": "2022-03-23T11:36:38.634Z"
   },
   {
    "duration": 415,
    "start_time": "2022-03-23T11:38:38.005Z"
   },
   {
    "duration": 434,
    "start_time": "2022-03-23T11:39:38.672Z"
   },
   {
    "duration": 450,
    "start_time": "2022-03-23T11:40:50.179Z"
   },
   {
    "duration": 415,
    "start_time": "2022-03-23T11:41:00.758Z"
   },
   {
    "duration": 448,
    "start_time": "2022-03-23T11:41:47.806Z"
   },
   {
    "duration": 728,
    "start_time": "2022-03-23T11:44:02.767Z"
   },
   {
    "duration": 441,
    "start_time": "2022-03-23T11:44:39.309Z"
   },
   {
    "duration": 445,
    "start_time": "2022-03-23T11:44:52.090Z"
   },
   {
    "duration": 10,
    "start_time": "2022-03-23T11:45:34.966Z"
   },
   {
    "duration": 437,
    "start_time": "2022-03-23T11:55:40.264Z"
   },
   {
    "duration": 437,
    "start_time": "2022-03-23T11:55:57.554Z"
   },
   {
    "duration": 428,
    "start_time": "2022-03-23T11:56:17.026Z"
   },
   {
    "duration": 420,
    "start_time": "2022-03-23T11:56:28.585Z"
   },
   {
    "duration": 299,
    "start_time": "2022-03-23T11:56:37.541Z"
   },
   {
    "duration": 426,
    "start_time": "2022-03-23T11:57:49.957Z"
   },
   {
    "duration": 309,
    "start_time": "2022-03-23T11:57:57.158Z"
   },
   {
    "duration": 446,
    "start_time": "2022-03-23T11:58:04.746Z"
   },
   {
    "duration": 3,
    "start_time": "2022-03-23T12:00:44.326Z"
   },
   {
    "duration": 41,
    "start_time": "2022-03-23T12:00:44.332Z"
   },
   {
    "duration": 17,
    "start_time": "2022-03-23T12:00:44.376Z"
   },
   {
    "duration": 250,
    "start_time": "2022-03-23T12:00:44.395Z"
   },
   {
    "duration": 42,
    "start_time": "2022-03-23T12:00:44.650Z"
   },
   {
    "duration": 135,
    "start_time": "2022-03-23T12:00:44.695Z"
   },
   {
    "duration": 42,
    "start_time": "2022-03-23T12:00:44.833Z"
   },
   {
    "duration": 190,
    "start_time": "2022-03-23T12:00:44.878Z"
   },
   {
    "duration": 30,
    "start_time": "2022-03-23T12:00:45.074Z"
   },
   {
    "duration": 18,
    "start_time": "2022-03-23T12:00:45.106Z"
   },
   {
    "duration": 6,
    "start_time": "2022-03-23T12:00:45.126Z"
   },
   {
    "duration": 73,
    "start_time": "2022-03-23T12:00:45.133Z"
   },
   {
    "duration": 6,
    "start_time": "2022-03-23T12:00:45.210Z"
   },
   {
    "duration": 20,
    "start_time": "2022-03-23T12:00:45.218Z"
   },
   {
    "duration": 55,
    "start_time": "2022-03-23T12:00:45.240Z"
   },
   {
    "duration": 30,
    "start_time": "2022-03-23T12:00:45.297Z"
   },
   {
    "duration": 15,
    "start_time": "2022-03-23T12:00:45.330Z"
   },
   {
    "duration": 78,
    "start_time": "2022-03-23T12:00:45.347Z"
   },
   {
    "duration": 21,
    "start_time": "2022-03-23T12:00:45.427Z"
   },
   {
    "duration": 19,
    "start_time": "2022-03-23T12:00:45.450Z"
   },
   {
    "duration": 14,
    "start_time": "2022-03-23T12:00:45.471Z"
   },
   {
    "duration": 49,
    "start_time": "2022-03-23T12:00:45.487Z"
   },
   {
    "duration": 40,
    "start_time": "2022-03-23T12:00:45.538Z"
   },
   {
    "duration": 27,
    "start_time": "2022-03-23T12:00:45.581Z"
   },
   {
    "duration": 19,
    "start_time": "2022-03-23T12:00:45.610Z"
   },
   {
    "duration": 5,
    "start_time": "2022-03-23T12:00:45.631Z"
   },
   {
    "duration": 39,
    "start_time": "2022-03-23T12:00:45.638Z"
   },
   {
    "duration": 12,
    "start_time": "2022-03-23T12:00:45.680Z"
   },
   {
    "duration": 11,
    "start_time": "2022-03-23T12:00:45.694Z"
   },
   {
    "duration": 35,
    "start_time": "2022-03-23T12:00:45.707Z"
   },
   {
    "duration": 33,
    "start_time": "2022-03-23T12:00:45.744Z"
   },
   {
    "duration": 7,
    "start_time": "2022-03-23T12:00:45.779Z"
   },
   {
    "duration": 11,
    "start_time": "2022-03-23T12:00:45.789Z"
   },
   {
    "duration": 4,
    "start_time": "2022-03-23T12:00:45.802Z"
   },
   {
    "duration": 7,
    "start_time": "2022-03-23T12:00:45.809Z"
   },
   {
    "duration": 8,
    "start_time": "2022-03-23T12:00:45.818Z"
   },
   {
    "duration": 269,
    "start_time": "2022-03-23T12:00:45.831Z"
   },
   {
    "duration": 42,
    "start_time": "2022-03-23T12:00:46.102Z"
   },
   {
    "duration": 38,
    "start_time": "2022-03-23T12:00:46.146Z"
   },
   {
    "duration": 462,
    "start_time": "2022-03-23T12:00:46.186Z"
   },
   {
    "duration": 439,
    "start_time": "2022-03-23T12:01:53.139Z"
   },
   {
    "duration": 495,
    "start_time": "2022-03-23T12:01:59.347Z"
   },
   {
    "duration": 447,
    "start_time": "2022-03-23T12:02:31.703Z"
   },
   {
    "duration": 10,
    "start_time": "2022-03-23T12:05:53.537Z"
   },
   {
    "duration": 720,
    "start_time": "2022-03-23T12:11:49.789Z"
   },
   {
    "duration": 472,
    "start_time": "2022-03-23T12:18:28.720Z"
   },
   {
    "duration": 487,
    "start_time": "2022-03-23T12:19:32.826Z"
   },
   {
    "duration": 635,
    "start_time": "2022-03-23T12:19:36.975Z"
   },
   {
    "duration": 615,
    "start_time": "2022-03-23T12:19:44.480Z"
   },
   {
    "duration": 511,
    "start_time": "2022-03-23T12:19:46.605Z"
   },
   {
    "duration": 471,
    "start_time": "2022-03-23T12:19:54.755Z"
   },
   {
    "duration": 493,
    "start_time": "2022-03-23T12:22:17.389Z"
   },
   {
    "duration": 495,
    "start_time": "2022-03-23T12:22:27.781Z"
   },
   {
    "duration": 604,
    "start_time": "2022-03-23T12:22:36.956Z"
   },
   {
    "duration": 504,
    "start_time": "2022-03-23T12:22:44.551Z"
   },
   {
    "duration": 244,
    "start_time": "2022-03-23T12:25:53.369Z"
   },
   {
    "duration": 10,
    "start_time": "2022-03-23T12:29:14.995Z"
   },
   {
    "duration": 11,
    "start_time": "2022-03-23T12:32:20.970Z"
   },
   {
    "duration": 16,
    "start_time": "2022-03-23T12:33:30.968Z"
   },
   {
    "duration": 19,
    "start_time": "2022-03-23T12:33:42.871Z"
   },
   {
    "duration": 20,
    "start_time": "2022-03-23T12:33:52.032Z"
   },
   {
    "duration": 3,
    "start_time": "2022-03-23T12:38:15.874Z"
   },
   {
    "duration": 11,
    "start_time": "2022-03-23T12:40:11.284Z"
   },
   {
    "duration": 120,
    "start_time": "2022-03-23T12:46:16.271Z"
   },
   {
    "duration": 435,
    "start_time": "2022-03-23T12:47:12.121Z"
   },
   {
    "duration": 23,
    "start_time": "2022-03-23T13:18:02.505Z"
   },
   {
    "duration": 20,
    "start_time": "2022-03-23T13:18:29.734Z"
   },
   {
    "duration": 10,
    "start_time": "2022-03-23T13:23:14.258Z"
   },
   {
    "duration": 203,
    "start_time": "2022-03-23T13:23:23.889Z"
   },
   {
    "duration": 19,
    "start_time": "2022-03-23T13:24:46.623Z"
   },
   {
    "duration": 10,
    "start_time": "2022-03-23T13:25:03.940Z"
   },
   {
    "duration": 231,
    "start_time": "2022-03-23T13:25:12.988Z"
   },
   {
    "duration": 239,
    "start_time": "2022-03-23T13:26:03.772Z"
   },
   {
    "duration": 519,
    "start_time": "2022-03-23T13:26:11.837Z"
   },
   {
    "duration": 228,
    "start_time": "2022-03-23T13:26:23.407Z"
   },
   {
    "duration": 238,
    "start_time": "2022-03-23T13:26:34.642Z"
   },
   {
    "duration": 218,
    "start_time": "2022-03-23T13:36:31.183Z"
   },
   {
    "duration": 457,
    "start_time": "2022-03-23T13:36:52.792Z"
   },
   {
    "duration": 559,
    "start_time": "2022-03-23T13:37:06.671Z"
   },
   {
    "duration": 439,
    "start_time": "2022-03-23T13:37:18.145Z"
   },
   {
    "duration": 450,
    "start_time": "2022-03-23T13:37:28.149Z"
   },
   {
    "duration": 493,
    "start_time": "2022-03-23T13:38:13.856Z"
   },
   {
    "duration": 227,
    "start_time": "2022-03-23T13:40:16.002Z"
   },
   {
    "duration": 903,
    "start_time": "2022-03-24T18:18:40.928Z"
   },
   {
    "duration": 62,
    "start_time": "2022-03-24T18:18:41.834Z"
   },
   {
    "duration": 13,
    "start_time": "2022-03-24T18:18:41.897Z"
   },
   {
    "duration": 186,
    "start_time": "2022-03-24T18:18:41.912Z"
   },
   {
    "duration": 32,
    "start_time": "2022-03-24T18:18:42.099Z"
   },
   {
    "duration": 105,
    "start_time": "2022-03-24T18:18:42.133Z"
   },
   {
    "duration": 20,
    "start_time": "2022-03-24T18:18:42.240Z"
   },
   {
    "duration": 169,
    "start_time": "2022-03-24T18:18:42.262Z"
   },
   {
    "duration": 23,
    "start_time": "2022-03-24T18:18:42.433Z"
   },
   {
    "duration": 21,
    "start_time": "2022-03-24T18:18:42.459Z"
   },
   {
    "duration": 4,
    "start_time": "2022-03-24T18:18:42.482Z"
   },
   {
    "duration": 54,
    "start_time": "2022-03-24T18:18:42.488Z"
   },
   {
    "duration": 5,
    "start_time": "2022-03-24T18:18:42.544Z"
   },
   {
    "duration": 20,
    "start_time": "2022-03-24T18:18:42.551Z"
   },
   {
    "duration": 23,
    "start_time": "2022-03-24T18:18:42.573Z"
   },
   {
    "duration": 45,
    "start_time": "2022-03-24T18:18:42.598Z"
   },
   {
    "duration": 11,
    "start_time": "2022-03-24T18:18:42.645Z"
   },
   {
    "duration": 29,
    "start_time": "2022-03-24T18:18:42.658Z"
   },
   {
    "duration": 15,
    "start_time": "2022-03-24T18:18:42.689Z"
   },
   {
    "duration": 41,
    "start_time": "2022-03-24T18:18:42.706Z"
   },
   {
    "duration": 10,
    "start_time": "2022-03-24T18:18:42.749Z"
   },
   {
    "duration": 34,
    "start_time": "2022-03-24T18:18:42.761Z"
   },
   {
    "duration": 43,
    "start_time": "2022-03-24T18:18:42.797Z"
   },
   {
    "duration": 24,
    "start_time": "2022-03-24T18:18:42.842Z"
   },
   {
    "duration": 13,
    "start_time": "2022-03-24T18:18:42.868Z"
   },
   {
    "duration": 3,
    "start_time": "2022-03-24T18:18:42.883Z"
   },
   {
    "duration": 14,
    "start_time": "2022-03-24T18:18:42.887Z"
   },
   {
    "duration": 30,
    "start_time": "2022-03-24T18:18:42.905Z"
   },
   {
    "duration": 10,
    "start_time": "2022-03-24T18:18:42.937Z"
   },
   {
    "duration": 24,
    "start_time": "2022-03-24T18:18:42.949Z"
   },
   {
    "duration": 6,
    "start_time": "2022-03-24T18:18:42.975Z"
   },
   {
    "duration": 6,
    "start_time": "2022-03-24T18:18:42.983Z"
   },
   {
    "duration": 10,
    "start_time": "2022-03-24T18:18:42.991Z"
   },
   {
    "duration": 3,
    "start_time": "2022-03-24T18:18:43.031Z"
   },
   {
    "duration": 8,
    "start_time": "2022-03-24T18:18:43.036Z"
   },
   {
    "duration": 7,
    "start_time": "2022-03-24T18:18:43.046Z"
   },
   {
    "duration": 168,
    "start_time": "2022-03-24T18:18:43.055Z"
   },
   {
    "duration": 13,
    "start_time": "2022-03-24T18:18:43.225Z"
   },
   {
    "duration": 14,
    "start_time": "2022-03-24T18:18:43.240Z"
   },
   {
    "duration": 348,
    "start_time": "2022-03-24T18:18:43.256Z"
   },
   {
    "duration": 354,
    "start_time": "2022-03-24T18:18:43.606Z"
   },
   {
    "duration": 375,
    "start_time": "2022-03-24T18:18:43.961Z"
   },
   {
    "duration": 179,
    "start_time": "2022-03-24T18:18:44.338Z"
   },
   {
    "duration": 163,
    "start_time": "2022-03-24T18:21:16.339Z"
   },
   {
    "duration": 13,
    "start_time": "2022-03-24T18:21:57.637Z"
   },
   {
    "duration": 15,
    "start_time": "2022-03-24T18:25:33.909Z"
   },
   {
    "duration": 15,
    "start_time": "2022-03-24T18:27:00.225Z"
   },
   {
    "duration": 14,
    "start_time": "2022-03-24T18:30:28.833Z"
   },
   {
    "duration": 13,
    "start_time": "2022-03-24T18:31:11.141Z"
   },
   {
    "duration": 3,
    "start_time": "2022-03-24T18:32:21.185Z"
   },
   {
    "duration": 78,
    "start_time": "2022-03-24T18:32:21.190Z"
   },
   {
    "duration": 12,
    "start_time": "2022-03-24T18:32:21.270Z"
   },
   {
    "duration": 187,
    "start_time": "2022-03-24T18:32:21.284Z"
   },
   {
    "duration": 28,
    "start_time": "2022-03-24T18:32:21.473Z"
   },
   {
    "duration": 122,
    "start_time": "2022-03-24T18:32:21.503Z"
   },
   {
    "duration": 23,
    "start_time": "2022-03-24T18:32:21.626Z"
   },
   {
    "duration": 162,
    "start_time": "2022-03-24T18:32:21.651Z"
   },
   {
    "duration": 25,
    "start_time": "2022-03-24T18:32:21.815Z"
   },
   {
    "duration": 21,
    "start_time": "2022-03-24T18:32:21.844Z"
   },
   {
    "duration": 4,
    "start_time": "2022-03-24T18:32:21.867Z"
   },
   {
    "duration": 40,
    "start_time": "2022-03-24T18:32:21.873Z"
   },
   {
    "duration": 18,
    "start_time": "2022-03-24T18:32:21.915Z"
   },
   {
    "duration": 21,
    "start_time": "2022-03-24T18:32:21.935Z"
   },
   {
    "duration": 25,
    "start_time": "2022-03-24T18:32:21.959Z"
   },
   {
    "duration": 47,
    "start_time": "2022-03-24T18:32:21.986Z"
   },
   {
    "duration": 13,
    "start_time": "2022-03-24T18:32:22.036Z"
   },
   {
    "duration": 31,
    "start_time": "2022-03-24T18:32:22.051Z"
   },
   {
    "duration": 18,
    "start_time": "2022-03-24T18:32:22.084Z"
   },
   {
    "duration": 42,
    "start_time": "2022-03-24T18:32:22.104Z"
   },
   {
    "duration": 12,
    "start_time": "2022-03-24T18:32:22.148Z"
   },
   {
    "duration": 33,
    "start_time": "2022-03-24T18:32:22.162Z"
   },
   {
    "duration": 40,
    "start_time": "2022-03-24T18:32:22.197Z"
   },
   {
    "duration": 25,
    "start_time": "2022-03-24T18:32:22.239Z"
   },
   {
    "duration": 14,
    "start_time": "2022-03-24T18:32:22.265Z"
   },
   {
    "duration": 3,
    "start_time": "2022-03-24T18:32:22.281Z"
   },
   {
    "duration": 15,
    "start_time": "2022-03-24T18:32:22.286Z"
   },
   {
    "duration": 31,
    "start_time": "2022-03-24T18:32:22.305Z"
   },
   {
    "duration": 10,
    "start_time": "2022-03-24T18:32:22.337Z"
   },
   {
    "duration": 28,
    "start_time": "2022-03-24T18:32:22.349Z"
   },
   {
    "duration": 5,
    "start_time": "2022-03-24T18:32:22.379Z"
   },
   {
    "duration": 7,
    "start_time": "2022-03-24T18:32:22.386Z"
   },
   {
    "duration": 14,
    "start_time": "2022-03-24T18:32:22.395Z"
   },
   {
    "duration": 3,
    "start_time": "2022-03-24T18:32:22.432Z"
   },
   {
    "duration": 12,
    "start_time": "2022-03-24T18:32:22.437Z"
   },
   {
    "duration": 7,
    "start_time": "2022-03-24T18:32:22.451Z"
   },
   {
    "duration": 159,
    "start_time": "2022-03-24T18:32:22.460Z"
   },
   {
    "duration": 13,
    "start_time": "2022-03-24T18:32:22.621Z"
   },
   {
    "duration": 15,
    "start_time": "2022-03-24T18:32:22.635Z"
   },
   {
    "duration": 14,
    "start_time": "2022-03-24T18:32:22.652Z"
   },
   {
    "duration": 347,
    "start_time": "2022-03-24T18:32:22.668Z"
   },
   {
    "duration": 19,
    "start_time": "2022-03-24T18:32:23.017Z"
   },
   {
    "duration": 13,
    "start_time": "2022-03-24T18:32:23.038Z"
   },
   {
    "duration": 371,
    "start_time": "2022-03-24T18:32:23.053Z"
   },
   {
    "duration": 17,
    "start_time": "2022-03-24T18:32:23.426Z"
   },
   {
    "duration": 15,
    "start_time": "2022-03-24T18:32:23.444Z"
   },
   {
    "duration": 325,
    "start_time": "2022-03-24T18:32:23.460Z"
   },
   {
    "duration": 3,
    "start_time": "2022-03-24T18:32:33.675Z"
   },
   {
    "duration": 64,
    "start_time": "2022-03-24T18:32:33.680Z"
   },
   {
    "duration": 13,
    "start_time": "2022-03-24T18:32:33.746Z"
   },
   {
    "duration": 196,
    "start_time": "2022-03-24T18:32:33.760Z"
   },
   {
    "duration": 27,
    "start_time": "2022-03-24T18:32:33.959Z"
   },
   {
    "duration": 108,
    "start_time": "2022-03-24T18:32:33.988Z"
   },
   {
    "duration": 20,
    "start_time": "2022-03-24T18:32:34.098Z"
   },
   {
    "duration": 153,
    "start_time": "2022-03-24T18:32:34.131Z"
   },
   {
    "duration": 24,
    "start_time": "2022-03-24T18:32:34.286Z"
   },
   {
    "duration": 21,
    "start_time": "2022-03-24T18:32:34.312Z"
   },
   {
    "duration": 5,
    "start_time": "2022-03-24T18:32:34.335Z"
   },
   {
    "duration": 40,
    "start_time": "2022-03-24T18:32:34.341Z"
   },
   {
    "duration": 4,
    "start_time": "2022-03-24T18:32:34.384Z"
   },
   {
    "duration": 20,
    "start_time": "2022-03-24T18:32:34.390Z"
   },
   {
    "duration": 26,
    "start_time": "2022-03-24T18:32:34.431Z"
   },
   {
    "duration": 23,
    "start_time": "2022-03-24T18:32:34.459Z"
   },
   {
    "duration": 12,
    "start_time": "2022-03-24T18:32:34.484Z"
   },
   {
    "duration": 47,
    "start_time": "2022-03-24T18:32:34.498Z"
   },
   {
    "duration": 16,
    "start_time": "2022-03-24T18:32:34.546Z"
   },
   {
    "duration": 16,
    "start_time": "2022-03-24T18:32:34.564Z"
   },
   {
    "duration": 10,
    "start_time": "2022-03-24T18:32:34.582Z"
   },
   {
    "duration": 53,
    "start_time": "2022-03-24T18:32:34.594Z"
   },
   {
    "duration": 18,
    "start_time": "2022-03-24T18:32:34.649Z"
   },
   {
    "duration": 21,
    "start_time": "2022-03-24T18:32:34.669Z"
   },
   {
    "duration": 42,
    "start_time": "2022-03-24T18:32:34.692Z"
   },
   {
    "duration": 4,
    "start_time": "2022-03-24T18:32:34.736Z"
   },
   {
    "duration": 9,
    "start_time": "2022-03-24T18:32:34.742Z"
   },
   {
    "duration": 12,
    "start_time": "2022-03-24T18:32:34.753Z"
   },
   {
    "duration": 8,
    "start_time": "2022-03-24T18:32:34.767Z"
   },
   {
    "duration": 24,
    "start_time": "2022-03-24T18:32:34.777Z"
   },
   {
    "duration": 32,
    "start_time": "2022-03-24T18:32:34.802Z"
   },
   {
    "duration": 7,
    "start_time": "2022-03-24T18:32:34.836Z"
   },
   {
    "duration": 11,
    "start_time": "2022-03-24T18:32:34.845Z"
   },
   {
    "duration": 2,
    "start_time": "2022-03-24T18:32:34.858Z"
   },
   {
    "duration": 8,
    "start_time": "2022-03-24T18:32:34.862Z"
   },
   {
    "duration": 17,
    "start_time": "2022-03-24T18:32:34.872Z"
   },
   {
    "duration": 154,
    "start_time": "2022-03-24T18:32:34.894Z"
   },
   {
    "duration": 14,
    "start_time": "2022-03-24T18:32:35.051Z"
   },
   {
    "duration": 16,
    "start_time": "2022-03-24T18:32:35.067Z"
   },
   {
    "duration": 48,
    "start_time": "2022-03-24T18:32:35.085Z"
   },
   {
    "duration": 324,
    "start_time": "2022-03-24T18:32:35.135Z"
   },
   {
    "duration": 16,
    "start_time": "2022-03-24T18:32:35.461Z"
   },
   {
    "duration": 19,
    "start_time": "2022-03-24T18:32:35.479Z"
   },
   {
    "duration": 433,
    "start_time": "2022-03-24T18:32:35.500Z"
   },
   {
    "duration": 17,
    "start_time": "2022-03-24T18:32:35.935Z"
   },
   {
    "duration": 15,
    "start_time": "2022-03-24T18:32:35.954Z"
   },
   {
    "duration": 340,
    "start_time": "2022-03-24T18:32:35.971Z"
   },
   {
    "duration": 1375,
    "start_time": "2022-03-25T19:34:10.048Z"
   },
   {
    "duration": 3,
    "start_time": "2022-03-25T19:34:12.368Z"
   },
   {
    "duration": 65,
    "start_time": "2022-03-25T19:34:12.374Z"
   },
   {
    "duration": 12,
    "start_time": "2022-03-25T19:34:12.441Z"
   },
   {
    "duration": 199,
    "start_time": "2022-03-25T19:34:12.455Z"
   },
   {
    "duration": 45,
    "start_time": "2022-03-25T19:34:12.658Z"
   },
   {
    "duration": 113,
    "start_time": "2022-03-25T19:34:12.705Z"
   },
   {
    "duration": 33,
    "start_time": "2022-03-25T19:34:12.820Z"
   },
   {
    "duration": 159,
    "start_time": "2022-03-25T19:34:12.855Z"
   },
   {
    "duration": 33,
    "start_time": "2022-03-25T19:34:13.016Z"
   },
   {
    "duration": 23,
    "start_time": "2022-03-25T19:34:13.051Z"
   },
   {
    "duration": 7,
    "start_time": "2022-03-25T19:34:13.078Z"
   },
   {
    "duration": 69,
    "start_time": "2022-03-25T19:34:13.087Z"
   },
   {
    "duration": 6,
    "start_time": "2022-03-25T19:34:13.158Z"
   },
   {
    "duration": 22,
    "start_time": "2022-03-25T19:34:13.166Z"
   },
   {
    "duration": 42,
    "start_time": "2022-03-25T19:34:13.190Z"
   },
   {
    "duration": 24,
    "start_time": "2022-03-25T19:34:13.234Z"
   },
   {
    "duration": 12,
    "start_time": "2022-03-25T19:34:13.260Z"
   },
   {
    "duration": 27,
    "start_time": "2022-03-25T19:34:13.274Z"
   },
   {
    "duration": 40,
    "start_time": "2022-03-25T19:34:13.303Z"
   },
   {
    "duration": 20,
    "start_time": "2022-03-25T19:34:13.345Z"
   },
   {
    "duration": 13,
    "start_time": "2022-03-25T19:34:13.366Z"
   },
   {
    "duration": 79,
    "start_time": "2022-03-25T19:34:13.382Z"
   },
   {
    "duration": 22,
    "start_time": "2022-03-25T19:34:13.463Z"
   },
   {
    "duration": 23,
    "start_time": "2022-03-25T19:34:13.487Z"
   },
   {
    "duration": 31,
    "start_time": "2022-03-25T19:34:13.512Z"
   },
   {
    "duration": 3,
    "start_time": "2022-03-25T19:34:13.545Z"
   },
   {
    "duration": 12,
    "start_time": "2022-03-25T19:34:13.550Z"
   },
   {
    "duration": 9,
    "start_time": "2022-03-25T19:34:13.564Z"
   },
   {
    "duration": 9,
    "start_time": "2022-03-25T19:34:13.577Z"
   },
   {
    "duration": 67,
    "start_time": "2022-03-25T19:34:13.587Z"
   },
   {
    "duration": 7,
    "start_time": "2022-03-25T19:34:13.656Z"
   },
   {
    "duration": 8,
    "start_time": "2022-03-25T19:34:13.665Z"
   },
   {
    "duration": 13,
    "start_time": "2022-03-25T19:34:13.675Z"
   },
   {
    "duration": 5,
    "start_time": "2022-03-25T19:34:13.690Z"
   },
   {
    "duration": 9,
    "start_time": "2022-03-25T19:34:13.696Z"
   },
   {
    "duration": 27,
    "start_time": "2022-03-25T19:34:13.706Z"
   },
   {
    "duration": 165,
    "start_time": "2022-03-25T19:34:13.735Z"
   },
   {
    "duration": 12,
    "start_time": "2022-03-25T19:34:13.902Z"
   },
   {
    "duration": 23,
    "start_time": "2022-03-25T19:34:13.916Z"
   },
   {
    "duration": 17,
    "start_time": "2022-03-25T19:34:13.941Z"
   },
   {
    "duration": 373,
    "start_time": "2022-03-25T19:34:13.960Z"
   },
   {
    "duration": 14,
    "start_time": "2022-03-25T19:34:14.335Z"
   },
   {
    "duration": 15,
    "start_time": "2022-03-25T19:34:14.351Z"
   },
   {
    "duration": 370,
    "start_time": "2022-03-25T19:34:14.368Z"
   },
   {
    "duration": 17,
    "start_time": "2022-03-25T19:34:14.740Z"
   },
   {
    "duration": 19,
    "start_time": "2022-03-25T19:34:14.759Z"
   },
   {
    "duration": 369,
    "start_time": "2022-03-25T19:34:14.779Z"
   },
   {
    "duration": 5,
    "start_time": "2022-03-25T19:36:34.109Z"
   },
   {
    "duration": 7,
    "start_time": "2022-03-25T19:36:43.024Z"
   },
   {
    "duration": 6,
    "start_time": "2022-03-25T19:37:07.424Z"
   },
   {
    "duration": 4,
    "start_time": "2022-03-25T19:37:50.056Z"
   },
   {
    "duration": 4,
    "start_time": "2022-03-25T19:37:59.403Z"
   },
   {
    "duration": 3712,
    "start_time": "2022-03-25T19:38:55.532Z"
   },
   {
    "duration": 1695,
    "start_time": "2022-03-25T19:39:02.666Z"
   },
   {
    "duration": 3,
    "start_time": "2022-03-25T19:39:21.668Z"
   },
   {
    "duration": 38,
    "start_time": "2022-03-25T19:39:21.674Z"
   },
   {
    "duration": 11,
    "start_time": "2022-03-25T19:39:21.715Z"
   },
   {
    "duration": 179,
    "start_time": "2022-03-25T19:39:21.727Z"
   },
   {
    "duration": 38,
    "start_time": "2022-03-25T19:39:21.908Z"
   },
   {
    "duration": 102,
    "start_time": "2022-03-25T19:39:21.948Z"
   },
   {
    "duration": 22,
    "start_time": "2022-03-25T19:39:22.051Z"
   },
   {
    "duration": 1713,
    "start_time": "2022-03-25T19:39:22.075Z"
   },
   {
    "duration": 22,
    "start_time": "2022-03-25T19:39:23.790Z"
   },
   {
    "duration": 21,
    "start_time": "2022-03-25T19:39:23.814Z"
   },
   {
    "duration": 4,
    "start_time": "2022-03-25T19:39:23.838Z"
   },
   {
    "duration": 38,
    "start_time": "2022-03-25T19:39:23.844Z"
   },
   {
    "duration": 5,
    "start_time": "2022-03-25T19:39:23.883Z"
   },
   {
    "duration": 15,
    "start_time": "2022-03-25T19:39:23.890Z"
   },
   {
    "duration": 43,
    "start_time": "2022-03-25T19:39:23.907Z"
   },
   {
    "duration": 23,
    "start_time": "2022-03-25T19:39:23.952Z"
   },
   {
    "duration": 12,
    "start_time": "2022-03-25T19:39:23.977Z"
   },
   {
    "duration": 50,
    "start_time": "2022-03-25T19:39:23.990Z"
   },
   {
    "duration": 15,
    "start_time": "2022-03-25T19:39:24.043Z"
   },
   {
    "duration": 17,
    "start_time": "2022-03-25T19:39:24.060Z"
   },
   {
    "duration": 12,
    "start_time": "2022-03-25T19:39:24.079Z"
   },
   {
    "duration": 56,
    "start_time": "2022-03-25T19:39:24.092Z"
   },
   {
    "duration": 19,
    "start_time": "2022-03-25T19:39:24.150Z"
   },
   {
    "duration": 23,
    "start_time": "2022-03-25T19:39:24.170Z"
   },
   {
    "duration": 13,
    "start_time": "2022-03-25T19:39:24.194Z"
   },
   {
    "duration": 23,
    "start_time": "2022-03-25T19:39:24.209Z"
   },
   {
    "duration": 11,
    "start_time": "2022-03-25T19:39:24.234Z"
   },
   {
    "duration": 10,
    "start_time": "2022-03-25T19:39:24.247Z"
   },
   {
    "duration": 8,
    "start_time": "2022-03-25T19:39:24.261Z"
   },
   {
    "duration": 25,
    "start_time": "2022-03-25T19:39:24.271Z"
   },
   {
    "duration": 5,
    "start_time": "2022-03-25T19:39:24.297Z"
   },
   {
    "duration": 4,
    "start_time": "2022-03-25T19:39:24.332Z"
   },
   {
    "duration": 13,
    "start_time": "2022-03-25T19:39:24.337Z"
   },
   {
    "duration": 6,
    "start_time": "2022-03-25T19:39:24.352Z"
   },
   {
    "duration": 8,
    "start_time": "2022-03-25T19:39:24.359Z"
   },
   {
    "duration": 5,
    "start_time": "2022-03-25T19:39:24.369Z"
   },
   {
    "duration": 163,
    "start_time": "2022-03-25T19:39:24.376Z"
   },
   {
    "duration": 13,
    "start_time": "2022-03-25T19:39:24.541Z"
   },
   {
    "duration": 13,
    "start_time": "2022-03-25T19:39:24.556Z"
   },
   {
    "duration": 13,
    "start_time": "2022-03-25T19:39:24.571Z"
   },
   {
    "duration": 348,
    "start_time": "2022-03-25T19:39:24.586Z"
   },
   {
    "duration": 15,
    "start_time": "2022-03-25T19:39:24.935Z"
   },
   {
    "duration": 44,
    "start_time": "2022-03-25T19:39:24.952Z"
   },
   {
    "duration": 449,
    "start_time": "2022-03-25T19:39:24.998Z"
   },
   {
    "duration": 14,
    "start_time": "2022-03-25T19:39:25.448Z"
   },
   {
    "duration": 14,
    "start_time": "2022-03-25T19:39:25.464Z"
   },
   {
    "duration": 319,
    "start_time": "2022-03-25T19:39:25.480Z"
   },
   {
    "duration": 3,
    "start_time": "2022-03-25T19:39:25.800Z"
   },
   {
    "duration": 8,
    "start_time": "2022-03-25T19:39:25.805Z"
   },
   {
    "duration": 8,
    "start_time": "2022-03-25T19:39:25.814Z"
   },
   {
    "duration": 8,
    "start_time": "2022-03-25T19:39:25.824Z"
   },
   {
    "duration": 5,
    "start_time": "2022-03-25T19:39:44.643Z"
   },
   {
    "duration": 4,
    "start_time": "2022-03-25T19:39:48.614Z"
   },
   {
    "duration": 5,
    "start_time": "2022-03-25T19:39:54.304Z"
   },
   {
    "duration": 9,
    "start_time": "2022-03-25T19:40:12.072Z"
   },
   {
    "duration": 3,
    "start_time": "2022-03-25T19:40:15.270Z"
   },
   {
    "duration": 4,
    "start_time": "2022-03-25T19:40:15.524Z"
   },
   {
    "duration": 6,
    "start_time": "2022-03-25T19:40:21.675Z"
   },
   {
    "duration": 4,
    "start_time": "2022-03-25T20:12:14.839Z"
   },
   {
    "duration": 4,
    "start_time": "2022-03-25T20:12:19.178Z"
   },
   {
    "duration": 4,
    "start_time": "2022-03-25T20:12:24.949Z"
   },
   {
    "duration": 5,
    "start_time": "2022-03-25T20:15:51.175Z"
   },
   {
    "duration": 4,
    "start_time": "2022-03-25T20:16:01.531Z"
   },
   {
    "duration": 335,
    "start_time": "2022-03-28T08:54:01.446Z"
   },
   {
    "duration": 46,
    "start_time": "2022-03-28T08:54:41.186Z"
   },
   {
    "duration": 1305,
    "start_time": "2022-03-28T08:54:45.699Z"
   },
   {
    "duration": 53,
    "start_time": "2022-03-28T08:54:47.006Z"
   },
   {
    "duration": 12,
    "start_time": "2022-03-28T08:54:47.061Z"
   },
   {
    "duration": 174,
    "start_time": "2022-03-28T08:54:47.074Z"
   },
   {
    "duration": 27,
    "start_time": "2022-03-28T08:54:47.250Z"
   },
   {
    "duration": 99,
    "start_time": "2022-03-28T08:54:47.278Z"
   },
   {
    "duration": 20,
    "start_time": "2022-03-28T08:54:47.378Z"
   },
   {
    "duration": 155,
    "start_time": "2022-03-28T08:54:47.400Z"
   },
   {
    "duration": 23,
    "start_time": "2022-03-28T08:54:47.556Z"
   },
   {
    "duration": 20,
    "start_time": "2022-03-28T08:54:47.581Z"
   },
   {
    "duration": 4,
    "start_time": "2022-03-28T08:54:47.602Z"
   },
   {
    "duration": 51,
    "start_time": "2022-03-28T08:54:47.608Z"
   },
   {
    "duration": 5,
    "start_time": "2022-03-28T08:54:47.661Z"
   },
   {
    "duration": 18,
    "start_time": "2022-03-28T08:54:47.669Z"
   },
   {
    "duration": 43,
    "start_time": "2022-03-28T08:54:47.689Z"
   },
   {
    "duration": 23,
    "start_time": "2022-03-28T08:54:47.733Z"
   },
   {
    "duration": 11,
    "start_time": "2022-03-28T08:54:47.758Z"
   },
   {
    "duration": 28,
    "start_time": "2022-03-28T08:54:47.771Z"
   },
   {
    "duration": 36,
    "start_time": "2022-03-28T08:54:47.801Z"
   },
   {
    "duration": 18,
    "start_time": "2022-03-28T08:54:47.839Z"
   },
   {
    "duration": 10,
    "start_time": "2022-03-28T08:54:47.859Z"
   },
   {
    "duration": 36,
    "start_time": "2022-03-28T08:54:47.871Z"
   },
   {
    "duration": 31,
    "start_time": "2022-03-28T08:54:47.908Z"
   },
   {
    "duration": 24,
    "start_time": "2022-03-28T08:54:47.941Z"
   },
   {
    "duration": 12,
    "start_time": "2022-03-28T08:54:47.967Z"
   },
   {
    "duration": 3,
    "start_time": "2022-03-28T08:54:47.981Z"
   },
   {
    "duration": 12,
    "start_time": "2022-03-28T08:54:47.985Z"
   },
   {
    "duration": 33,
    "start_time": "2022-03-28T08:54:47.998Z"
   },
   {
    "duration": 8,
    "start_time": "2022-03-28T08:54:48.033Z"
   },
   {
    "duration": 29,
    "start_time": "2022-03-28T08:54:48.043Z"
   },
   {
    "duration": 7,
    "start_time": "2022-03-28T08:54:48.074Z"
   },
   {
    "duration": 16,
    "start_time": "2022-03-28T08:54:48.082Z"
   },
   {
    "duration": 22,
    "start_time": "2022-03-28T08:54:48.099Z"
   },
   {
    "duration": 15,
    "start_time": "2022-03-28T08:54:48.123Z"
   },
   {
    "duration": 20,
    "start_time": "2022-03-28T08:54:48.140Z"
   },
   {
    "duration": 22,
    "start_time": "2022-03-28T08:54:48.162Z"
   },
   {
    "duration": 162,
    "start_time": "2022-03-28T08:54:48.186Z"
   },
   {
    "duration": 11,
    "start_time": "2022-03-28T08:54:48.350Z"
   },
   {
    "duration": 22,
    "start_time": "2022-03-28T08:54:48.363Z"
   },
   {
    "duration": 19,
    "start_time": "2022-03-28T08:54:48.387Z"
   },
   {
    "duration": 327,
    "start_time": "2022-03-28T08:54:48.411Z"
   },
   {
    "duration": 15,
    "start_time": "2022-03-28T08:54:48.740Z"
   },
   {
    "duration": 13,
    "start_time": "2022-03-28T08:54:48.757Z"
   },
   {
    "duration": 352,
    "start_time": "2022-03-28T08:54:48.772Z"
   },
   {
    "duration": 17,
    "start_time": "2022-03-28T08:54:49.125Z"
   },
   {
    "duration": 25,
    "start_time": "2022-03-28T08:54:49.143Z"
   },
   {
    "duration": 298,
    "start_time": "2022-03-28T08:54:49.169Z"
   },
   {
    "duration": 4,
    "start_time": "2022-03-28T08:54:49.468Z"
   },
   {
    "duration": 26,
    "start_time": "2022-03-28T08:54:49.474Z"
   },
   {
    "duration": 12,
    "start_time": "2022-03-28T08:54:49.501Z"
   },
   {
    "duration": 10,
    "start_time": "2022-03-28T08:54:49.515Z"
   },
   {
    "duration": 21,
    "start_time": "2022-03-28T08:54:49.527Z"
   },
   {
    "duration": 73,
    "start_time": "2022-03-28T09:08:30.692Z"
   },
   {
    "duration": 1755,
    "start_time": "2022-03-28T09:08:34.695Z"
   },
   {
    "duration": 51,
    "start_time": "2022-03-28T09:08:36.453Z"
   },
   {
    "duration": 22,
    "start_time": "2022-03-28T09:08:36.506Z"
   },
   {
    "duration": 335,
    "start_time": "2022-03-28T09:08:36.532Z"
   },
   {
    "duration": 58,
    "start_time": "2022-03-28T09:08:36.869Z"
   },
   {
    "duration": 198,
    "start_time": "2022-03-28T09:08:36.930Z"
   },
   {
    "duration": 54,
    "start_time": "2022-03-28T09:08:37.130Z"
   },
   {
    "duration": 301,
    "start_time": "2022-03-28T09:08:37.187Z"
   },
   {
    "duration": 45,
    "start_time": "2022-03-28T09:08:37.491Z"
   },
   {
    "duration": 43,
    "start_time": "2022-03-28T09:08:37.542Z"
   },
   {
    "duration": 6,
    "start_time": "2022-03-28T09:08:37.588Z"
   },
   {
    "duration": 62,
    "start_time": "2022-03-28T09:08:37.596Z"
   },
   {
    "duration": 6,
    "start_time": "2022-03-28T09:08:37.661Z"
   },
   {
    "duration": 23,
    "start_time": "2022-03-28T09:08:37.685Z"
   },
   {
    "duration": 35,
    "start_time": "2022-03-28T09:08:37.710Z"
   },
   {
    "duration": 61,
    "start_time": "2022-03-28T09:08:37.747Z"
   },
   {
    "duration": 15,
    "start_time": "2022-03-28T09:08:37.810Z"
   },
   {
    "duration": 57,
    "start_time": "2022-03-28T09:08:37.827Z"
   },
   {
    "duration": 21,
    "start_time": "2022-03-28T09:08:37.886Z"
   },
   {
    "duration": 22,
    "start_time": "2022-03-28T09:08:37.910Z"
   },
   {
    "duration": 15,
    "start_time": "2022-03-28T09:08:37.934Z"
   },
   {
    "duration": 69,
    "start_time": "2022-03-28T09:08:37.951Z"
   },
   {
    "duration": 24,
    "start_time": "2022-03-28T09:08:38.022Z"
   },
   {
    "duration": 56,
    "start_time": "2022-03-28T09:08:38.048Z"
   },
   {
    "duration": 18,
    "start_time": "2022-03-28T09:08:38.106Z"
   },
   {
    "duration": 11,
    "start_time": "2022-03-28T09:08:38.126Z"
   },
   {
    "duration": 20,
    "start_time": "2022-03-28T09:08:38.139Z"
   },
   {
    "duration": 27,
    "start_time": "2022-03-28T09:08:38.164Z"
   },
   {
    "duration": 16,
    "start_time": "2022-03-28T09:08:38.193Z"
   },
   {
    "duration": 38,
    "start_time": "2022-03-28T09:08:38.212Z"
   },
   {
    "duration": 32,
    "start_time": "2022-03-28T09:08:38.252Z"
   },
   {
    "duration": 6,
    "start_time": "2022-03-28T09:08:38.286Z"
   },
   {
    "duration": 23,
    "start_time": "2022-03-28T09:08:38.295Z"
   },
   {
    "duration": 11,
    "start_time": "2022-03-28T09:08:38.321Z"
   },
   {
    "duration": 13,
    "start_time": "2022-03-28T09:08:38.335Z"
   },
   {
    "duration": 14,
    "start_time": "2022-03-28T09:08:38.350Z"
   },
   {
    "duration": 255,
    "start_time": "2022-03-28T09:08:38.366Z"
   },
   {
    "duration": 17,
    "start_time": "2022-03-28T09:08:38.623Z"
   },
   {
    "duration": 41,
    "start_time": "2022-03-28T09:08:38.643Z"
   },
   {
    "duration": 22,
    "start_time": "2022-03-28T09:08:38.687Z"
   },
   {
    "duration": 514,
    "start_time": "2022-03-28T09:08:38.712Z"
   },
   {
    "duration": 20,
    "start_time": "2022-03-28T09:08:39.228Z"
   },
   {
    "duration": 41,
    "start_time": "2022-03-28T09:08:39.250Z"
   },
   {
    "duration": 522,
    "start_time": "2022-03-28T09:08:39.293Z"
   },
   {
    "duration": 20,
    "start_time": "2022-03-28T09:08:39.817Z"
   },
   {
    "duration": 45,
    "start_time": "2022-03-28T09:08:39.840Z"
   },
   {
    "duration": 469,
    "start_time": "2022-03-28T09:08:39.887Z"
   },
   {
    "duration": 5,
    "start_time": "2022-03-28T09:08:40.358Z"
   },
   {
    "duration": 24,
    "start_time": "2022-03-28T09:08:40.365Z"
   },
   {
    "duration": 44,
    "start_time": "2022-03-28T09:08:40.392Z"
   },
   {
    "duration": 45,
    "start_time": "2022-03-28T09:09:36.495Z"
   },
   {
    "duration": 97,
    "start_time": "2022-03-28T09:09:49.240Z"
   },
   {
    "duration": 45,
    "start_time": "2022-03-28T09:09:56.773Z"
   },
   {
    "duration": 92,
    "start_time": "2022-03-28T09:10:06.422Z"
   },
   {
    "duration": 51,
    "start_time": "2022-03-28T09:10:10.580Z"
   },
   {
    "duration": 14,
    "start_time": "2022-03-28T09:10:40.386Z"
   },
   {
    "duration": 45,
    "start_time": "2022-03-28T09:10:57.824Z"
   },
   {
    "duration": 10,
    "start_time": "2022-03-28T09:15:50.313Z"
   },
   {
    "duration": 13,
    "start_time": "2022-03-28T09:17:06.473Z"
   },
   {
    "duration": 7,
    "start_time": "2022-03-28T09:17:14.687Z"
   },
   {
    "duration": 15,
    "start_time": "2022-03-28T09:18:33.108Z"
   },
   {
    "duration": 135,
    "start_time": "2022-03-28T09:18:34.483Z"
   },
   {
    "duration": 8,
    "start_time": "2022-03-28T09:18:40.025Z"
   },
   {
    "duration": 6,
    "start_time": "2022-03-28T09:19:34.094Z"
   },
   {
    "duration": 5,
    "start_time": "2022-03-28T09:19:44.375Z"
   },
   {
    "duration": 40,
    "start_time": "2022-04-07T20:45:45.775Z"
   },
   {
    "duration": 998,
    "start_time": "2022-04-07T20:45:50.833Z"
   },
   {
    "duration": 26,
    "start_time": "2022-04-07T20:45:51.835Z"
   },
   {
    "duration": 9,
    "start_time": "2022-04-07T20:45:51.862Z"
   },
   {
    "duration": 133,
    "start_time": "2022-04-07T20:45:51.873Z"
   },
   {
    "duration": 35,
    "start_time": "2022-04-07T20:45:52.008Z"
   },
   {
    "duration": 123,
    "start_time": "2022-04-07T20:45:52.045Z"
   },
   {
    "duration": 66,
    "start_time": "2022-04-07T20:45:52.170Z"
   },
   {
    "duration": 219,
    "start_time": "2022-04-07T20:45:52.237Z"
   },
   {
    "duration": 70,
    "start_time": "2022-04-07T20:45:52.459Z"
   },
   {
    "duration": 14,
    "start_time": "2022-04-07T20:45:52.531Z"
   },
   {
    "duration": 5,
    "start_time": "2022-04-07T20:45:52.546Z"
   },
   {
    "duration": 85,
    "start_time": "2022-04-07T20:45:52.552Z"
   },
   {
    "duration": 4,
    "start_time": "2022-04-07T20:45:52.638Z"
   },
   {
    "duration": 16,
    "start_time": "2022-04-07T20:45:52.643Z"
   },
   {
    "duration": 69,
    "start_time": "2022-04-07T20:45:52.660Z"
   },
   {
    "duration": 18,
    "start_time": "2022-04-07T20:45:52.731Z"
   },
   {
    "duration": 9,
    "start_time": "2022-04-07T20:45:52.750Z"
   },
   {
    "duration": 76,
    "start_time": "2022-04-07T20:45:52.761Z"
   },
   {
    "duration": 13,
    "start_time": "2022-04-07T20:45:52.839Z"
   },
   {
    "duration": 13,
    "start_time": "2022-04-07T20:45:52.853Z"
   },
   {
    "duration": 63,
    "start_time": "2022-04-07T20:45:52.867Z"
   },
   {
    "duration": 22,
    "start_time": "2022-04-07T20:45:52.931Z"
   },
   {
    "duration": 15,
    "start_time": "2022-04-07T20:45:52.954Z"
   },
   {
    "duration": 71,
    "start_time": "2022-04-07T20:45:52.970Z"
   },
   {
    "duration": 10,
    "start_time": "2022-04-07T20:45:53.042Z"
   },
   {
    "duration": 2,
    "start_time": "2022-04-07T20:45:53.053Z"
   },
   {
    "duration": 5,
    "start_time": "2022-04-07T20:45:53.058Z"
   },
   {
    "duration": 8,
    "start_time": "2022-04-07T20:45:53.064Z"
   },
   {
    "duration": 61,
    "start_time": "2022-04-07T20:45:53.073Z"
   },
   {
    "duration": 19,
    "start_time": "2022-04-07T20:45:53.135Z"
   },
   {
    "duration": 6,
    "start_time": "2022-04-07T20:45:53.155Z"
   },
   {
    "duration": 3,
    "start_time": "2022-04-07T20:45:53.162Z"
   },
   {
    "duration": 8,
    "start_time": "2022-04-07T20:45:53.166Z"
   },
   {
    "duration": 2,
    "start_time": "2022-04-07T20:45:53.175Z"
   },
   {
    "duration": 5,
    "start_time": "2022-04-07T20:45:53.230Z"
   },
   {
    "duration": 6,
    "start_time": "2022-04-07T20:45:53.237Z"
   },
   {
    "duration": 286,
    "start_time": "2022-04-07T20:45:53.244Z"
   },
   {
    "duration": 35,
    "start_time": "2022-04-07T20:45:53.532Z"
   },
   {
    "duration": 68,
    "start_time": "2022-04-07T20:45:53.569Z"
   },
   {
    "duration": 16,
    "start_time": "2022-04-07T20:45:53.639Z"
   },
   {
    "duration": 15,
    "start_time": "2022-04-07T20:45:53.656Z"
   },
   {
    "duration": 261,
    "start_time": "2022-04-07T20:45:53.729Z"
   },
   {
    "duration": 13,
    "start_time": "2022-04-07T20:45:53.992Z"
   },
   {
    "duration": 28,
    "start_time": "2022-04-07T20:45:54.006Z"
   },
   {
    "duration": 245,
    "start_time": "2022-04-07T20:45:54.036Z"
   },
   {
    "duration": 12,
    "start_time": "2022-04-07T20:45:54.283Z"
   },
   {
    "duration": 11,
    "start_time": "2022-04-07T20:45:54.297Z"
   },
   {
    "duration": 225,
    "start_time": "2022-04-07T20:45:54.330Z"
   },
   {
    "duration": 3,
    "start_time": "2022-04-07T20:45:54.557Z"
   },
   {
    "duration": 6,
    "start_time": "2022-04-07T20:45:54.561Z"
   },
   {
    "duration": 10,
    "start_time": "2022-04-07T20:45:54.569Z"
   },
   {
    "duration": 4,
    "start_time": "2022-04-07T20:45:54.580Z"
   },
   {
    "duration": 966,
    "start_time": "2022-04-07T21:03:15.370Z"
   },
   {
    "duration": 26,
    "start_time": "2022-04-07T21:03:16.338Z"
   },
   {
    "duration": 10,
    "start_time": "2022-04-07T21:03:16.365Z"
   },
   {
    "duration": 131,
    "start_time": "2022-04-07T21:03:16.377Z"
   },
   {
    "duration": 24,
    "start_time": "2022-04-07T21:03:16.509Z"
   },
   {
    "duration": 79,
    "start_time": "2022-04-07T21:03:16.535Z"
   },
   {
    "duration": 23,
    "start_time": "2022-04-07T21:03:16.615Z"
   },
   {
    "duration": 126,
    "start_time": "2022-04-07T21:03:16.640Z"
   },
   {
    "duration": 17,
    "start_time": "2022-04-07T21:03:16.767Z"
   },
   {
    "duration": 13,
    "start_time": "2022-04-07T21:03:16.787Z"
   },
   {
    "duration": 4,
    "start_time": "2022-04-07T21:03:16.801Z"
   },
   {
    "duration": 47,
    "start_time": "2022-04-07T21:03:16.806Z"
   },
   {
    "duration": 4,
    "start_time": "2022-04-07T21:03:16.854Z"
   },
   {
    "duration": 17,
    "start_time": "2022-04-07T21:03:16.859Z"
   },
   {
    "duration": 19,
    "start_time": "2022-04-07T21:03:16.878Z"
   },
   {
    "duration": 37,
    "start_time": "2022-04-07T21:03:16.898Z"
   },
   {
    "duration": 9,
    "start_time": "2022-04-07T21:03:16.936Z"
   },
   {
    "duration": 22,
    "start_time": "2022-04-07T21:03:16.946Z"
   },
   {
    "duration": 13,
    "start_time": "2022-04-07T21:03:16.970Z"
   },
   {
    "duration": 14,
    "start_time": "2022-04-07T21:03:16.984Z"
   },
   {
    "duration": 33,
    "start_time": "2022-04-07T21:03:16.999Z"
   },
   {
    "duration": 23,
    "start_time": "2022-04-07T21:03:17.034Z"
   },
   {
    "duration": 16,
    "start_time": "2022-04-07T21:03:17.058Z"
   },
   {
    "duration": 18,
    "start_time": "2022-04-07T21:03:17.075Z"
   },
   {
    "duration": 10,
    "start_time": "2022-04-07T21:03:17.095Z"
   },
   {
    "duration": 24,
    "start_time": "2022-04-07T21:03:17.106Z"
   },
   {
    "duration": 9,
    "start_time": "2022-04-07T21:03:17.131Z"
   },
   {
    "duration": 6,
    "start_time": "2022-04-07T21:03:17.143Z"
   },
   {
    "duration": 7,
    "start_time": "2022-04-07T21:03:17.150Z"
   },
   {
    "duration": 19,
    "start_time": "2022-04-07T21:03:17.158Z"
   },
   {
    "duration": 6,
    "start_time": "2022-04-07T21:03:17.179Z"
   },
   {
    "duration": 3,
    "start_time": "2022-04-07T21:03:17.186Z"
   },
   {
    "duration": 9,
    "start_time": "2022-04-07T21:03:17.190Z"
   },
   {
    "duration": 3,
    "start_time": "2022-04-07T21:03:17.201Z"
   },
   {
    "duration": 5,
    "start_time": "2022-04-07T21:03:17.230Z"
   },
   {
    "duration": 6,
    "start_time": "2022-04-07T21:03:17.236Z"
   },
   {
    "duration": 135,
    "start_time": "2022-04-07T21:03:17.243Z"
   },
   {
    "duration": 10,
    "start_time": "2022-04-07T21:03:17.379Z"
   },
   {
    "duration": 10,
    "start_time": "2022-04-07T21:03:17.391Z"
   },
   {
    "duration": 27,
    "start_time": "2022-04-07T21:03:17.402Z"
   },
   {
    "duration": 241,
    "start_time": "2022-04-07T21:03:17.431Z"
   },
   {
    "duration": 12,
    "start_time": "2022-04-07T21:03:17.674Z"
   },
   {
    "duration": 17,
    "start_time": "2022-04-07T21:03:17.687Z"
   },
   {
    "duration": 257,
    "start_time": "2022-04-07T21:03:17.705Z"
   },
   {
    "duration": 12,
    "start_time": "2022-04-07T21:03:17.964Z"
   },
   {
    "duration": 13,
    "start_time": "2022-04-07T21:03:17.977Z"
   },
   {
    "duration": 243,
    "start_time": "2022-04-07T21:03:17.992Z"
   },
   {
    "duration": 3,
    "start_time": "2022-04-07T21:03:18.237Z"
   },
   {
    "duration": 6,
    "start_time": "2022-04-07T21:03:18.242Z"
   },
   {
    "duration": 9,
    "start_time": "2022-04-07T21:03:18.250Z"
   },
   {
    "duration": 5,
    "start_time": "2022-04-07T21:03:18.261Z"
   },
   {
    "duration": 1012,
    "start_time": "2022-04-07T21:03:41.731Z"
   },
   {
    "duration": 28,
    "start_time": "2022-04-07T21:03:42.744Z"
   },
   {
    "duration": 10,
    "start_time": "2022-04-07T21:03:42.773Z"
   },
   {
    "duration": 145,
    "start_time": "2022-04-07T21:03:42.785Z"
   },
   {
    "duration": 19,
    "start_time": "2022-04-07T21:03:42.932Z"
   },
   {
    "duration": 86,
    "start_time": "2022-04-07T21:03:42.952Z"
   },
   {
    "duration": 15,
    "start_time": "2022-04-07T21:03:43.040Z"
   },
   {
    "duration": 121,
    "start_time": "2022-04-07T21:03:43.056Z"
   },
   {
    "duration": 16,
    "start_time": "2022-04-07T21:03:43.179Z"
   },
   {
    "duration": 13,
    "start_time": "2022-04-07T21:03:43.197Z"
   },
   {
    "duration": 4,
    "start_time": "2022-04-07T21:03:43.211Z"
   },
   {
    "duration": 41,
    "start_time": "2022-04-07T21:03:43.216Z"
   },
   {
    "duration": 5,
    "start_time": "2022-04-07T21:03:43.258Z"
   },
   {
    "duration": 17,
    "start_time": "2022-04-07T21:03:43.264Z"
   },
   {
    "duration": 20,
    "start_time": "2022-04-07T21:03:43.282Z"
   },
   {
    "duration": 43,
    "start_time": "2022-04-07T21:03:43.304Z"
   },
   {
    "duration": 10,
    "start_time": "2022-04-07T21:03:43.349Z"
   },
   {
    "duration": 20,
    "start_time": "2022-04-07T21:03:43.361Z"
   },
   {
    "duration": 14,
    "start_time": "2022-04-07T21:03:43.382Z"
   },
   {
    "duration": 40,
    "start_time": "2022-04-07T21:03:43.397Z"
   },
   {
    "duration": 10,
    "start_time": "2022-04-07T21:03:43.438Z"
   },
   {
    "duration": 25,
    "start_time": "2022-04-07T21:03:43.450Z"
   },
   {
    "duration": 16,
    "start_time": "2022-04-07T21:03:43.477Z"
   },
   {
    "duration": 44,
    "start_time": "2022-04-07T21:03:43.495Z"
   },
   {
    "duration": 11,
    "start_time": "2022-04-07T21:03:43.541Z"
   },
   {
    "duration": 2,
    "start_time": "2022-04-07T21:03:43.554Z"
   },
   {
    "duration": 6,
    "start_time": "2022-04-07T21:03:43.558Z"
   },
   {
    "duration": 6,
    "start_time": "2022-04-07T21:03:43.568Z"
   },
   {
    "duration": 8,
    "start_time": "2022-04-07T21:03:43.576Z"
   },
   {
    "duration": 49,
    "start_time": "2022-04-07T21:03:43.585Z"
   },
   {
    "duration": 6,
    "start_time": "2022-04-07T21:03:43.635Z"
   },
   {
    "duration": 3,
    "start_time": "2022-04-07T21:03:43.643Z"
   },
   {
    "duration": 8,
    "start_time": "2022-04-07T21:03:43.647Z"
   },
   {
    "duration": 2,
    "start_time": "2022-04-07T21:03:43.656Z"
   },
   {
    "duration": 5,
    "start_time": "2022-04-07T21:03:43.659Z"
   },
   {
    "duration": 5,
    "start_time": "2022-04-07T21:03:43.666Z"
   },
   {
    "duration": 142,
    "start_time": "2022-04-07T21:03:43.672Z"
   },
   {
    "duration": 16,
    "start_time": "2022-04-07T21:03:43.815Z"
   },
   {
    "duration": 12,
    "start_time": "2022-04-07T21:03:43.833Z"
   },
   {
    "duration": 11,
    "start_time": "2022-04-07T21:03:43.846Z"
   },
   {
    "duration": 257,
    "start_time": "2022-04-07T21:03:43.858Z"
   },
   {
    "duration": 21,
    "start_time": "2022-04-07T21:03:44.116Z"
   },
   {
    "duration": 11,
    "start_time": "2022-04-07T21:03:44.139Z"
   },
   {
    "duration": 365,
    "start_time": "2022-04-07T21:03:44.152Z"
   },
   {
    "duration": 17,
    "start_time": "2022-04-07T21:03:44.518Z"
   },
   {
    "duration": 12,
    "start_time": "2022-04-07T21:03:44.537Z"
   },
   {
    "duration": 232,
    "start_time": "2022-04-07T21:03:44.550Z"
   },
   {
    "duration": 2,
    "start_time": "2022-04-07T21:03:44.784Z"
   },
   {
    "duration": 7,
    "start_time": "2022-04-07T21:03:44.787Z"
   },
   {
    "duration": 9,
    "start_time": "2022-04-07T21:03:44.795Z"
   },
   {
    "duration": 4,
    "start_time": "2022-04-07T21:03:44.805Z"
   },
   {
    "duration": 43,
    "start_time": "2022-04-08T07:28:32.771Z"
   },
   {
    "duration": 1203,
    "start_time": "2022-04-08T07:28:35.513Z"
   },
   {
    "duration": 40,
    "start_time": "2022-04-08T07:28:36.718Z"
   },
   {
    "duration": 10,
    "start_time": "2022-04-08T07:28:36.759Z"
   },
   {
    "duration": 149,
    "start_time": "2022-04-08T07:28:36.771Z"
   },
   {
    "duration": 24,
    "start_time": "2022-04-08T07:28:36.923Z"
   },
   {
    "duration": 88,
    "start_time": "2022-04-08T07:28:36.948Z"
   },
   {
    "duration": 17,
    "start_time": "2022-04-08T07:28:37.038Z"
   },
   {
    "duration": 132,
    "start_time": "2022-04-08T07:28:37.056Z"
   },
   {
    "duration": 18,
    "start_time": "2022-04-08T07:28:37.190Z"
   },
   {
    "duration": 20,
    "start_time": "2022-04-08T07:28:37.210Z"
   },
   {
    "duration": 4,
    "start_time": "2022-04-08T07:28:37.231Z"
   },
   {
    "duration": 45,
    "start_time": "2022-04-08T07:28:37.236Z"
   },
   {
    "duration": 4,
    "start_time": "2022-04-08T07:28:37.282Z"
   },
   {
    "duration": 15,
    "start_time": "2022-04-08T07:28:37.290Z"
   },
   {
    "duration": 20,
    "start_time": "2022-04-08T07:28:37.306Z"
   },
   {
    "duration": 19,
    "start_time": "2022-04-08T07:28:37.328Z"
   },
   {
    "duration": 35,
    "start_time": "2022-04-08T07:28:37.349Z"
   },
   {
    "duration": 24,
    "start_time": "2022-04-08T07:28:37.385Z"
   },
   {
    "duration": 14,
    "start_time": "2022-04-08T07:28:37.410Z"
   },
   {
    "duration": 16,
    "start_time": "2022-04-08T07:28:37.425Z"
   },
   {
    "duration": 9,
    "start_time": "2022-04-08T07:28:37.442Z"
   },
   {
    "duration": 44,
    "start_time": "2022-04-08T07:28:37.452Z"
   },
   {
    "duration": 15,
    "start_time": "2022-04-08T07:28:37.498Z"
   },
   {
    "duration": 18,
    "start_time": "2022-04-08T07:28:37.514Z"
   },
   {
    "duration": 9,
    "start_time": "2022-04-08T07:28:37.534Z"
   },
   {
    "duration": 2,
    "start_time": "2022-04-08T07:28:37.545Z"
   },
   {
    "duration": 8,
    "start_time": "2022-04-08T07:28:37.549Z"
   },
   {
    "duration": 27,
    "start_time": "2022-04-08T07:28:37.558Z"
   },
   {
    "duration": 7,
    "start_time": "2022-04-08T07:28:37.587Z"
   },
   {
    "duration": 21,
    "start_time": "2022-04-08T07:28:37.595Z"
   },
   {
    "duration": 6,
    "start_time": "2022-04-08T07:28:37.617Z"
   },
   {
    "duration": 3,
    "start_time": "2022-04-08T07:28:37.624Z"
   },
   {
    "duration": 8,
    "start_time": "2022-04-08T07:28:37.628Z"
   },
   {
    "duration": 2,
    "start_time": "2022-04-08T07:28:37.637Z"
   },
   {
    "duration": 5,
    "start_time": "2022-04-08T07:28:37.640Z"
   },
   {
    "duration": 4,
    "start_time": "2022-04-08T07:28:37.647Z"
   },
   {
    "duration": 140,
    "start_time": "2022-04-08T07:28:37.681Z"
   },
   {
    "duration": 10,
    "start_time": "2022-04-08T07:28:37.822Z"
   },
   {
    "duration": 11,
    "start_time": "2022-04-08T07:28:37.833Z"
   },
   {
    "duration": 12,
    "start_time": "2022-04-08T07:28:37.846Z"
   },
   {
    "duration": 279,
    "start_time": "2022-04-08T07:28:37.884Z"
   },
   {
    "duration": 17,
    "start_time": "2022-04-08T07:28:38.164Z"
   },
   {
    "duration": 11,
    "start_time": "2022-04-08T07:28:38.183Z"
   },
   {
    "duration": 268,
    "start_time": "2022-04-08T07:28:38.196Z"
   },
   {
    "duration": 17,
    "start_time": "2022-04-08T07:28:38.465Z"
   },
   {
    "duration": 12,
    "start_time": "2022-04-08T07:28:38.484Z"
   },
   {
    "duration": 243,
    "start_time": "2022-04-08T07:28:38.497Z"
   },
   {
    "duration": 3,
    "start_time": "2022-04-08T07:28:38.742Z"
   },
   {
    "duration": 5,
    "start_time": "2022-04-08T07:28:38.747Z"
   },
   {
    "duration": 27,
    "start_time": "2022-04-08T07:28:38.754Z"
   },
   {
    "duration": 5,
    "start_time": "2022-04-08T07:28:38.782Z"
   },
   {
    "duration": 48,
    "start_time": "2022-04-08T07:29:06.072Z"
   },
   {
    "duration": 38,
    "start_time": "2022-04-08T07:29:11.226Z"
   },
   {
    "duration": 34,
    "start_time": "2022-04-08T07:29:34.982Z"
   },
   {
    "duration": 35,
    "start_time": "2022-04-08T07:29:38.824Z"
   },
   {
    "duration": 2,
    "start_time": "2022-04-08T07:31:14.072Z"
   },
   {
    "duration": 41,
    "start_time": "2022-04-08T07:31:14.076Z"
   },
   {
    "duration": 10,
    "start_time": "2022-04-08T07:31:14.119Z"
   },
   {
    "duration": 165,
    "start_time": "2022-04-08T07:31:14.130Z"
   },
   {
    "duration": 24,
    "start_time": "2022-04-08T07:31:14.297Z"
   },
   {
    "duration": 95,
    "start_time": "2022-04-08T07:31:14.323Z"
   },
   {
    "duration": 18,
    "start_time": "2022-04-08T07:31:14.419Z"
   },
   {
    "duration": 11,
    "start_time": "2022-04-08T07:31:14.438Z"
   },
   {
    "duration": 147,
    "start_time": "2022-04-08T07:31:14.451Z"
   },
   {
    "duration": 19,
    "start_time": "2022-04-08T07:31:14.599Z"
   },
   {
    "duration": 20,
    "start_time": "2022-04-08T07:31:14.621Z"
   },
   {
    "duration": 3,
    "start_time": "2022-04-08T07:31:14.643Z"
   },
   {
    "duration": 41,
    "start_time": "2022-04-08T07:31:14.648Z"
   },
   {
    "duration": 4,
    "start_time": "2022-04-08T07:31:14.691Z"
   },
   {
    "duration": 16,
    "start_time": "2022-04-08T07:31:14.697Z"
   },
   {
    "duration": 24,
    "start_time": "2022-04-08T07:31:14.715Z"
   },
   {
    "duration": 43,
    "start_time": "2022-04-08T07:31:14.741Z"
   },
   {
    "duration": 11,
    "start_time": "2022-04-08T07:31:14.786Z"
   },
   {
    "duration": 25,
    "start_time": "2022-04-08T07:31:14.798Z"
   },
   {
    "duration": 14,
    "start_time": "2022-04-08T07:31:14.825Z"
   },
   {
    "duration": 15,
    "start_time": "2022-04-08T07:31:14.840Z"
   },
   {
    "duration": 31,
    "start_time": "2022-04-08T07:31:14.856Z"
   },
   {
    "duration": 29,
    "start_time": "2022-04-08T07:31:14.889Z"
   },
   {
    "duration": 17,
    "start_time": "2022-04-08T07:31:14.919Z"
   },
   {
    "duration": 19,
    "start_time": "2022-04-08T07:31:14.938Z"
   },
   {
    "duration": 31,
    "start_time": "2022-04-08T07:31:14.959Z"
   },
   {
    "duration": 3,
    "start_time": "2022-04-08T07:31:14.991Z"
   },
   {
    "duration": 11,
    "start_time": "2022-04-08T07:31:14.995Z"
   },
   {
    "duration": 28,
    "start_time": "2022-04-08T07:31:15.009Z"
   },
   {
    "duration": 10,
    "start_time": "2022-04-08T07:31:15.039Z"
   },
   {
    "duration": 24,
    "start_time": "2022-04-08T07:31:15.050Z"
   },
   {
    "duration": 5,
    "start_time": "2022-04-08T07:31:15.080Z"
   },
   {
    "duration": 6,
    "start_time": "2022-04-08T07:31:15.086Z"
   },
   {
    "duration": 9,
    "start_time": "2022-04-08T07:31:15.094Z"
   },
   {
    "duration": 3,
    "start_time": "2022-04-08T07:31:15.104Z"
   },
   {
    "duration": 8,
    "start_time": "2022-04-08T07:31:15.108Z"
   },
   {
    "duration": 6,
    "start_time": "2022-04-08T07:31:15.117Z"
   },
   {
    "duration": 160,
    "start_time": "2022-04-08T07:31:15.124Z"
   },
   {
    "duration": 10,
    "start_time": "2022-04-08T07:31:15.285Z"
   },
   {
    "duration": 11,
    "start_time": "2022-04-08T07:31:15.297Z"
   },
   {
    "duration": 14,
    "start_time": "2022-04-08T07:31:15.309Z"
   },
   {
    "duration": 259,
    "start_time": "2022-04-08T07:31:15.324Z"
   },
   {
    "duration": 13,
    "start_time": "2022-04-08T07:31:15.584Z"
   },
   {
    "duration": 23,
    "start_time": "2022-04-08T07:31:15.598Z"
   },
   {
    "duration": 330,
    "start_time": "2022-04-08T07:31:15.622Z"
   },
   {
    "duration": 12,
    "start_time": "2022-04-08T07:31:15.954Z"
   },
   {
    "duration": 21,
    "start_time": "2022-04-08T07:31:15.967Z"
   },
   {
    "duration": 244,
    "start_time": "2022-04-08T07:31:15.990Z"
   },
   {
    "duration": 3,
    "start_time": "2022-04-08T07:31:16.236Z"
   },
   {
    "duration": 6,
    "start_time": "2022-04-08T07:31:16.240Z"
   },
   {
    "duration": 9,
    "start_time": "2022-04-08T07:31:16.248Z"
   },
   {
    "duration": 4,
    "start_time": "2022-04-08T07:31:16.259Z"
   },
   {
    "duration": 3,
    "start_time": "2022-04-08T07:31:42.672Z"
   },
   {
    "duration": 38,
    "start_time": "2022-04-08T07:31:42.677Z"
   },
   {
    "duration": 10,
    "start_time": "2022-04-08T07:31:42.717Z"
   },
   {
    "duration": 168,
    "start_time": "2022-04-08T07:31:42.729Z"
   },
   {
    "duration": 24,
    "start_time": "2022-04-08T07:31:42.899Z"
   },
   {
    "duration": 96,
    "start_time": "2022-04-08T07:31:42.925Z"
   },
   {
    "duration": 17,
    "start_time": "2022-04-08T07:31:43.023Z"
   },
   {
    "duration": 10,
    "start_time": "2022-04-08T07:31:43.041Z"
   },
   {
    "duration": 130,
    "start_time": "2022-04-08T07:31:43.052Z"
   },
   {
    "duration": 19,
    "start_time": "2022-04-08T07:31:43.184Z"
   },
   {
    "duration": 21,
    "start_time": "2022-04-08T07:31:43.206Z"
   },
   {
    "duration": 3,
    "start_time": "2022-04-08T07:31:43.229Z"
   },
   {
    "duration": 41,
    "start_time": "2022-04-08T07:31:43.233Z"
   },
   {
    "duration": 4,
    "start_time": "2022-04-08T07:31:43.280Z"
   },
   {
    "duration": 14,
    "start_time": "2022-04-08T07:31:43.285Z"
   },
   {
    "duration": 19,
    "start_time": "2022-04-08T07:31:43.301Z"
   },
   {
    "duration": 19,
    "start_time": "2022-04-08T07:31:43.322Z"
   },
   {
    "duration": 9,
    "start_time": "2022-04-08T07:31:43.342Z"
   },
   {
    "duration": 44,
    "start_time": "2022-04-08T07:31:43.353Z"
   },
   {
    "duration": 13,
    "start_time": "2022-04-08T07:31:43.398Z"
   },
   {
    "duration": 13,
    "start_time": "2022-04-08T07:31:43.413Z"
   },
   {
    "duration": 8,
    "start_time": "2022-04-08T07:31:43.428Z"
   },
   {
    "duration": 47,
    "start_time": "2022-04-08T07:31:43.438Z"
   },
   {
    "duration": 16,
    "start_time": "2022-04-08T07:31:43.486Z"
   },
   {
    "duration": 18,
    "start_time": "2022-04-08T07:31:43.503Z"
   },
   {
    "duration": 11,
    "start_time": "2022-04-08T07:31:43.522Z"
   },
   {
    "duration": 3,
    "start_time": "2022-04-08T07:31:43.535Z"
   },
   {
    "duration": 7,
    "start_time": "2022-04-08T07:31:43.539Z"
   },
   {
    "duration": 35,
    "start_time": "2022-04-08T07:31:43.549Z"
   },
   {
    "duration": 8,
    "start_time": "2022-04-08T07:31:43.585Z"
   },
   {
    "duration": 22,
    "start_time": "2022-04-08T07:31:43.594Z"
   },
   {
    "duration": 4,
    "start_time": "2022-04-08T07:31:43.617Z"
   },
   {
    "duration": 8,
    "start_time": "2022-04-08T07:31:43.622Z"
   },
   {
    "duration": 9,
    "start_time": "2022-04-08T07:31:43.632Z"
   },
   {
    "duration": 4,
    "start_time": "2022-04-08T07:31:43.642Z"
   },
   {
    "duration": 6,
    "start_time": "2022-04-08T07:31:43.647Z"
   },
   {
    "duration": 8,
    "start_time": "2022-04-08T07:31:43.654Z"
   },
   {
    "duration": 144,
    "start_time": "2022-04-08T07:31:43.681Z"
   },
   {
    "duration": 10,
    "start_time": "2022-04-08T07:31:43.827Z"
   },
   {
    "duration": 13,
    "start_time": "2022-04-08T07:31:43.839Z"
   },
   {
    "duration": 33,
    "start_time": "2022-04-08T07:31:43.853Z"
   },
   {
    "duration": 258,
    "start_time": "2022-04-08T07:31:43.887Z"
   },
   {
    "duration": 11,
    "start_time": "2022-04-08T07:31:44.147Z"
   },
   {
    "duration": 21,
    "start_time": "2022-04-08T07:31:44.160Z"
   },
   {
    "duration": 264,
    "start_time": "2022-04-08T07:31:44.183Z"
   },
   {
    "duration": 13,
    "start_time": "2022-04-08T07:31:44.448Z"
   },
   {
    "duration": 25,
    "start_time": "2022-04-08T07:31:44.462Z"
   },
   {
    "duration": 250,
    "start_time": "2022-04-08T07:31:44.488Z"
   },
   {
    "duration": 3,
    "start_time": "2022-04-08T07:31:44.740Z"
   },
   {
    "duration": 8,
    "start_time": "2022-04-08T07:31:44.744Z"
   },
   {
    "duration": 10,
    "start_time": "2022-04-08T07:31:44.753Z"
   },
   {
    "duration": 18,
    "start_time": "2022-04-08T07:31:44.765Z"
   },
   {
    "duration": 131,
    "start_time": "2022-04-08T07:33:41.260Z"
   },
   {
    "duration": 3,
    "start_time": "2022-04-08T07:33:48.993Z"
   },
   {
    "duration": 38,
    "start_time": "2022-04-08T07:33:49.000Z"
   },
   {
    "duration": 8,
    "start_time": "2022-04-08T07:33:49.040Z"
   },
   {
    "duration": 152,
    "start_time": "2022-04-08T07:33:49.050Z"
   },
   {
    "duration": 22,
    "start_time": "2022-04-08T07:33:49.203Z"
   },
   {
    "duration": 99,
    "start_time": "2022-04-08T07:33:49.227Z"
   },
   {
    "duration": 17,
    "start_time": "2022-04-08T07:33:49.327Z"
   },
   {
    "duration": 10,
    "start_time": "2022-04-08T07:33:49.346Z"
   },
   {
    "duration": 130,
    "start_time": "2022-04-08T07:33:49.357Z"
   },
   {
    "duration": 131,
    "start_time": "2022-04-08T07:33:49.488Z"
   },
   {
    "duration": 21,
    "start_time": "2022-04-08T07:33:49.620Z"
   },
   {
    "duration": 20,
    "start_time": "2022-04-08T07:33:49.642Z"
   },
   {
    "duration": 3,
    "start_time": "2022-04-08T07:33:49.664Z"
   },
   {
    "duration": 30,
    "start_time": "2022-04-08T07:33:49.681Z"
   },
   {
    "duration": 4,
    "start_time": "2022-04-08T07:33:49.714Z"
   },
   {
    "duration": 16,
    "start_time": "2022-04-08T07:33:49.719Z"
   },
   {
    "duration": 21,
    "start_time": "2022-04-08T07:33:49.737Z"
   },
   {
    "duration": 39,
    "start_time": "2022-04-08T07:33:49.759Z"
   },
   {
    "duration": 9,
    "start_time": "2022-04-08T07:33:49.799Z"
   },
   {
    "duration": 23,
    "start_time": "2022-04-08T07:33:49.809Z"
   },
   {
    "duration": 13,
    "start_time": "2022-04-08T07:33:49.833Z"
   },
   {
    "duration": 33,
    "start_time": "2022-04-08T07:33:49.848Z"
   },
   {
    "duration": 10,
    "start_time": "2022-04-08T07:33:49.883Z"
   },
   {
    "duration": 25,
    "start_time": "2022-04-08T07:33:49.895Z"
   },
   {
    "duration": 17,
    "start_time": "2022-04-08T07:33:49.921Z"
   },
   {
    "duration": 18,
    "start_time": "2022-04-08T07:33:49.939Z"
   },
   {
    "duration": 34,
    "start_time": "2022-04-08T07:33:49.958Z"
   },
   {
    "duration": 3,
    "start_time": "2022-04-08T07:33:49.993Z"
   },
   {
    "duration": 7,
    "start_time": "2022-04-08T07:33:49.997Z"
   },
   {
    "duration": 8,
    "start_time": "2022-04-08T07:33:50.006Z"
   },
   {
    "duration": 7,
    "start_time": "2022-04-08T07:33:50.015Z"
   },
   {
    "duration": 22,
    "start_time": "2022-04-08T07:33:50.023Z"
   },
   {
    "duration": 4,
    "start_time": "2022-04-08T07:33:50.046Z"
   },
   {
    "duration": 33,
    "start_time": "2022-04-08T07:33:50.051Z"
   },
   {
    "duration": 12,
    "start_time": "2022-04-08T07:33:50.085Z"
   },
   {
    "duration": 8,
    "start_time": "2022-04-08T07:33:50.098Z"
   },
   {
    "duration": 12,
    "start_time": "2022-04-08T07:33:50.107Z"
   },
   {
    "duration": 6,
    "start_time": "2022-04-08T07:33:50.120Z"
   },
   {
    "duration": 145,
    "start_time": "2022-04-08T07:33:50.127Z"
   },
   {
    "duration": 9,
    "start_time": "2022-04-08T07:33:50.274Z"
   },
   {
    "duration": 10,
    "start_time": "2022-04-08T07:33:50.285Z"
   },
   {
    "duration": 10,
    "start_time": "2022-04-08T07:33:50.298Z"
   },
   {
    "duration": 255,
    "start_time": "2022-04-08T07:33:50.310Z"
   },
   {
    "duration": 16,
    "start_time": "2022-04-08T07:33:50.566Z"
   },
   {
    "duration": 12,
    "start_time": "2022-04-08T07:33:50.583Z"
   },
   {
    "duration": 336,
    "start_time": "2022-04-08T07:33:50.596Z"
   },
   {
    "duration": 13,
    "start_time": "2022-04-08T07:33:50.934Z"
   },
   {
    "duration": 32,
    "start_time": "2022-04-08T07:33:50.949Z"
   },
   {
    "duration": 234,
    "start_time": "2022-04-08T07:33:50.983Z"
   },
   {
    "duration": 3,
    "start_time": "2022-04-08T07:33:51.219Z"
   },
   {
    "duration": 10,
    "start_time": "2022-04-08T07:33:51.224Z"
   },
   {
    "duration": 12,
    "start_time": "2022-04-08T07:33:51.235Z"
   },
   {
    "duration": 5,
    "start_time": "2022-04-08T07:33:51.248Z"
   },
   {
    "duration": 4,
    "start_time": "2022-04-08T07:57:01.954Z"
   },
   {
    "duration": 4,
    "start_time": "2022-04-08T07:57:05.247Z"
   },
   {
    "duration": 4,
    "start_time": "2022-04-08T07:57:09.428Z"
   },
   {
    "duration": 4,
    "start_time": "2022-04-08T07:57:15.462Z"
   },
   {
    "duration": 2169,
    "start_time": "2022-04-08T08:04:55.976Z"
   },
   {
    "duration": 3,
    "start_time": "2022-04-08T08:05:12.880Z"
   },
   {
    "duration": 50,
    "start_time": "2022-04-08T08:05:12.884Z"
   },
   {
    "duration": 10,
    "start_time": "2022-04-08T08:05:12.935Z"
   },
   {
    "duration": 156,
    "start_time": "2022-04-08T08:05:12.947Z"
   },
   {
    "duration": 25,
    "start_time": "2022-04-08T08:05:13.106Z"
   },
   {
    "duration": 102,
    "start_time": "2022-04-08T08:05:13.132Z"
   },
   {
    "duration": 19,
    "start_time": "2022-04-08T08:05:13.235Z"
   },
   {
    "duration": 130,
    "start_time": "2022-04-08T08:05:13.256Z"
   },
   {
    "duration": 21,
    "start_time": "2022-04-08T08:05:13.387Z"
   },
   {
    "duration": 22,
    "start_time": "2022-04-08T08:05:13.409Z"
   },
   {
    "duration": 4,
    "start_time": "2022-04-08T08:05:13.435Z"
   },
   {
    "duration": 44,
    "start_time": "2022-04-08T08:05:13.440Z"
   },
   {
    "duration": 4,
    "start_time": "2022-04-08T08:05:13.486Z"
   },
   {
    "duration": 14,
    "start_time": "2022-04-08T08:05:13.492Z"
   },
   {
    "duration": 22,
    "start_time": "2022-04-08T08:05:13.508Z"
   },
   {
    "duration": 22,
    "start_time": "2022-04-08T08:05:13.531Z"
   },
   {
    "duration": 36,
    "start_time": "2022-04-08T08:05:13.554Z"
   },
   {
    "duration": 24,
    "start_time": "2022-04-08T08:05:13.591Z"
   },
   {
    "duration": 14,
    "start_time": "2022-04-08T08:05:13.617Z"
   },
   {
    "duration": 13,
    "start_time": "2022-04-08T08:05:13.632Z"
   },
   {
    "duration": 9,
    "start_time": "2022-04-08T08:05:13.647Z"
   },
   {
    "duration": 25,
    "start_time": "2022-04-08T08:05:13.681Z"
   },
   {
    "duration": 16,
    "start_time": "2022-04-08T08:05:13.707Z"
   },
   {
    "duration": 18,
    "start_time": "2022-04-08T08:05:13.725Z"
   },
   {
    "duration": 10,
    "start_time": "2022-04-08T08:05:13.745Z"
   },
   {
    "duration": 3,
    "start_time": "2022-04-08T08:05:13.782Z"
   },
   {
    "duration": 8,
    "start_time": "2022-04-08T08:05:13.786Z"
   },
   {
    "duration": 7,
    "start_time": "2022-04-08T08:05:13.795Z"
   },
   {
    "duration": 7,
    "start_time": "2022-04-08T08:05:13.805Z"
   },
   {
    "duration": 21,
    "start_time": "2022-04-08T08:05:13.814Z"
   },
   {
    "duration": 3,
    "start_time": "2022-04-08T08:05:13.837Z"
   },
   {
    "duration": 7,
    "start_time": "2022-04-08T08:05:13.841Z"
   },
   {
    "duration": 33,
    "start_time": "2022-04-08T08:05:13.849Z"
   },
   {
    "duration": 2,
    "start_time": "2022-04-08T08:05:13.884Z"
   },
   {
    "duration": 8,
    "start_time": "2022-04-08T08:05:13.887Z"
   },
   {
    "duration": 8,
    "start_time": "2022-04-08T08:05:13.896Z"
   },
   {
    "duration": 154,
    "start_time": "2022-04-08T08:05:13.905Z"
   },
   {
    "duration": 2298,
    "start_time": "2022-04-08T08:05:14.061Z"
   },
   {
    "duration": 0,
    "start_time": "2022-04-08T08:05:16.362Z"
   },
   {
    "duration": 0,
    "start_time": "2022-04-08T08:05:16.363Z"
   },
   {
    "duration": 0,
    "start_time": "2022-04-08T08:05:16.365Z"
   },
   {
    "duration": 0,
    "start_time": "2022-04-08T08:05:16.366Z"
   },
   {
    "duration": 0,
    "start_time": "2022-04-08T08:05:16.367Z"
   },
   {
    "duration": 0,
    "start_time": "2022-04-08T08:05:16.381Z"
   },
   {
    "duration": 0,
    "start_time": "2022-04-08T08:05:16.382Z"
   },
   {
    "duration": 0,
    "start_time": "2022-04-08T08:05:16.384Z"
   },
   {
    "duration": 0,
    "start_time": "2022-04-08T08:05:16.385Z"
   },
   {
    "duration": 0,
    "start_time": "2022-04-08T08:05:16.386Z"
   },
   {
    "duration": 0,
    "start_time": "2022-04-08T08:05:16.388Z"
   },
   {
    "duration": 0,
    "start_time": "2022-04-08T08:05:16.389Z"
   },
   {
    "duration": 0,
    "start_time": "2022-04-08T08:05:16.390Z"
   },
   {
    "duration": 0,
    "start_time": "2022-04-08T08:05:16.391Z"
   },
   {
    "duration": 5,
    "start_time": "2022-04-08T08:05:39.801Z"
   },
   {
    "duration": 2,
    "start_time": "2022-04-08T08:06:52.499Z"
   },
   {
    "duration": 35,
    "start_time": "2022-04-08T08:06:52.506Z"
   },
   {
    "duration": 9,
    "start_time": "2022-04-08T08:06:52.543Z"
   },
   {
    "duration": 145,
    "start_time": "2022-04-08T08:06:52.553Z"
   },
   {
    "duration": 23,
    "start_time": "2022-04-08T08:06:52.700Z"
   },
   {
    "duration": 95,
    "start_time": "2022-04-08T08:06:52.725Z"
   },
   {
    "duration": 18,
    "start_time": "2022-04-08T08:06:52.822Z"
   },
   {
    "duration": 142,
    "start_time": "2022-04-08T08:06:52.841Z"
   },
   {
    "duration": 20,
    "start_time": "2022-04-08T08:06:52.985Z"
   },
   {
    "duration": 20,
    "start_time": "2022-04-08T08:06:53.007Z"
   },
   {
    "duration": 4,
    "start_time": "2022-04-08T08:06:53.029Z"
   },
   {
    "duration": 32,
    "start_time": "2022-04-08T08:06:53.034Z"
   },
   {
    "duration": 14,
    "start_time": "2022-04-08T08:06:53.068Z"
   },
   {
    "duration": 15,
    "start_time": "2022-04-08T08:06:53.084Z"
   },
   {
    "duration": 21,
    "start_time": "2022-04-08T08:06:53.102Z"
   },
   {
    "duration": 21,
    "start_time": "2022-04-08T08:06:53.125Z"
   },
   {
    "duration": 36,
    "start_time": "2022-04-08T08:06:53.148Z"
   },
   {
    "duration": 21,
    "start_time": "2022-04-08T08:06:53.186Z"
   },
   {
    "duration": 14,
    "start_time": "2022-04-08T08:06:53.209Z"
   },
   {
    "duration": 15,
    "start_time": "2022-04-08T08:06:53.225Z"
   },
   {
    "duration": 9,
    "start_time": "2022-04-08T08:06:53.241Z"
   },
   {
    "duration": 53,
    "start_time": "2022-04-08T08:06:53.252Z"
   },
   {
    "duration": 17,
    "start_time": "2022-04-08T08:06:53.307Z"
   },
   {
    "duration": 19,
    "start_time": "2022-04-08T08:06:53.325Z"
   },
   {
    "duration": 37,
    "start_time": "2022-04-08T08:06:53.346Z"
   },
   {
    "duration": 4,
    "start_time": "2022-04-08T08:06:53.384Z"
   },
   {
    "duration": 8,
    "start_time": "2022-04-08T08:06:53.389Z"
   },
   {
    "duration": 10,
    "start_time": "2022-04-08T08:06:53.398Z"
   },
   {
    "duration": 8,
    "start_time": "2022-04-08T08:06:53.409Z"
   },
   {
    "duration": 21,
    "start_time": "2022-04-08T08:06:53.419Z"
   },
   {
    "duration": 4,
    "start_time": "2022-04-08T08:06:53.442Z"
   },
   {
    "duration": 4,
    "start_time": "2022-04-08T08:06:53.448Z"
   },
   {
    "duration": 32,
    "start_time": "2022-04-08T08:06:53.454Z"
   },
   {
    "duration": 3,
    "start_time": "2022-04-08T08:06:53.487Z"
   },
   {
    "duration": 7,
    "start_time": "2022-04-08T08:06:53.492Z"
   },
   {
    "duration": 5,
    "start_time": "2022-04-08T08:06:53.501Z"
   },
   {
    "duration": 149,
    "start_time": "2022-04-08T08:06:53.507Z"
   },
   {
    "duration": 5,
    "start_time": "2022-04-08T08:06:53.657Z"
   },
   {
    "duration": 2126,
    "start_time": "2022-04-08T08:06:53.664Z"
   },
   {
    "duration": 0,
    "start_time": "2022-04-08T08:06:55.792Z"
   },
   {
    "duration": 0,
    "start_time": "2022-04-08T08:06:55.793Z"
   },
   {
    "duration": 0,
    "start_time": "2022-04-08T08:06:55.794Z"
   },
   {
    "duration": 0,
    "start_time": "2022-04-08T08:06:55.795Z"
   },
   {
    "duration": 0,
    "start_time": "2022-04-08T08:06:55.795Z"
   },
   {
    "duration": 0,
    "start_time": "2022-04-08T08:06:55.797Z"
   },
   {
    "duration": 0,
    "start_time": "2022-04-08T08:06:55.797Z"
   },
   {
    "duration": 0,
    "start_time": "2022-04-08T08:06:55.798Z"
   },
   {
    "duration": 0,
    "start_time": "2022-04-08T08:06:55.799Z"
   },
   {
    "duration": 0,
    "start_time": "2022-04-08T08:06:55.800Z"
   },
   {
    "duration": 0,
    "start_time": "2022-04-08T08:06:55.801Z"
   },
   {
    "duration": 0,
    "start_time": "2022-04-08T08:06:55.802Z"
   },
   {
    "duration": 0,
    "start_time": "2022-04-08T08:06:55.803Z"
   },
   {
    "duration": 0,
    "start_time": "2022-04-08T08:06:55.804Z"
   },
   {
    "duration": 2,
    "start_time": "2022-04-08T08:07:59.927Z"
   },
   {
    "duration": 38,
    "start_time": "2022-04-08T08:07:59.931Z"
   },
   {
    "duration": 10,
    "start_time": "2022-04-08T08:07:59.971Z"
   },
   {
    "duration": 158,
    "start_time": "2022-04-08T08:07:59.982Z"
   },
   {
    "duration": 40,
    "start_time": "2022-04-08T08:08:00.142Z"
   },
   {
    "duration": 95,
    "start_time": "2022-04-08T08:08:00.183Z"
   },
   {
    "duration": 18,
    "start_time": "2022-04-08T08:08:00.281Z"
   },
   {
    "duration": 130,
    "start_time": "2022-04-08T08:08:00.300Z"
   },
   {
    "duration": 19,
    "start_time": "2022-04-08T08:08:00.431Z"
   },
   {
    "duration": 30,
    "start_time": "2022-04-08T08:08:00.451Z"
   },
   {
    "duration": 4,
    "start_time": "2022-04-08T08:08:00.483Z"
   },
   {
    "duration": 36,
    "start_time": "2022-04-08T08:08:00.488Z"
   },
   {
    "duration": 5,
    "start_time": "2022-04-08T08:08:00.525Z"
   },
   {
    "duration": 21,
    "start_time": "2022-04-08T08:08:00.531Z"
   },
   {
    "duration": 30,
    "start_time": "2022-04-08T08:08:00.553Z"
   },
   {
    "duration": 19,
    "start_time": "2022-04-08T08:08:00.585Z"
   },
   {
    "duration": 9,
    "start_time": "2022-04-08T08:08:00.606Z"
   },
   {
    "duration": 23,
    "start_time": "2022-04-08T08:08:00.617Z"
   },
   {
    "duration": 13,
    "start_time": "2022-04-08T08:08:00.641Z"
   },
   {
    "duration": 34,
    "start_time": "2022-04-08T08:08:00.656Z"
   },
   {
    "duration": 10,
    "start_time": "2022-04-08T08:08:00.691Z"
   },
   {
    "duration": 24,
    "start_time": "2022-04-08T08:08:00.702Z"
   },
   {
    "duration": 16,
    "start_time": "2022-04-08T08:08:00.728Z"
   },
   {
    "duration": 45,
    "start_time": "2022-04-08T08:08:00.745Z"
   },
   {
    "duration": 12,
    "start_time": "2022-04-08T08:08:00.791Z"
   },
   {
    "duration": 14,
    "start_time": "2022-04-08T08:08:00.804Z"
   },
   {
    "duration": 9,
    "start_time": "2022-04-08T08:08:00.819Z"
   },
   {
    "duration": 19,
    "start_time": "2022-04-08T08:08:00.829Z"
   },
   {
    "duration": 9,
    "start_time": "2022-04-08T08:08:00.852Z"
   },
   {
    "duration": 30,
    "start_time": "2022-04-08T08:08:00.862Z"
   },
   {
    "duration": 4,
    "start_time": "2022-04-08T08:08:00.893Z"
   },
   {
    "duration": 8,
    "start_time": "2022-04-08T08:08:00.899Z"
   },
   {
    "duration": 10,
    "start_time": "2022-04-08T08:08:00.908Z"
   },
   {
    "duration": 2,
    "start_time": "2022-04-08T08:08:00.920Z"
   },
   {
    "duration": 12,
    "start_time": "2022-04-08T08:08:00.923Z"
   },
   {
    "duration": 5,
    "start_time": "2022-04-08T08:08:00.936Z"
   },
   {
    "duration": 158,
    "start_time": "2022-04-08T08:08:00.942Z"
   },
   {
    "duration": 5,
    "start_time": "2022-04-08T08:08:01.102Z"
   },
   {
    "duration": 2293,
    "start_time": "2022-04-08T08:08:01.108Z"
   },
   {
    "duration": 0,
    "start_time": "2022-04-08T08:08:03.403Z"
   },
   {
    "duration": 0,
    "start_time": "2022-04-08T08:08:03.403Z"
   },
   {
    "duration": 0,
    "start_time": "2022-04-08T08:08:03.405Z"
   },
   {
    "duration": 0,
    "start_time": "2022-04-08T08:08:03.406Z"
   },
   {
    "duration": 0,
    "start_time": "2022-04-08T08:08:03.407Z"
   },
   {
    "duration": 0,
    "start_time": "2022-04-08T08:08:03.408Z"
   },
   {
    "duration": 0,
    "start_time": "2022-04-08T08:08:03.409Z"
   },
   {
    "duration": 0,
    "start_time": "2022-04-08T08:08:03.409Z"
   },
   {
    "duration": 0,
    "start_time": "2022-04-08T08:08:03.411Z"
   },
   {
    "duration": 0,
    "start_time": "2022-04-08T08:08:03.411Z"
   },
   {
    "duration": 0,
    "start_time": "2022-04-08T08:08:03.413Z"
   },
   {
    "duration": 0,
    "start_time": "2022-04-08T08:08:03.414Z"
   },
   {
    "duration": 0,
    "start_time": "2022-04-08T08:08:03.414Z"
   },
   {
    "duration": 0,
    "start_time": "2022-04-08T08:08:03.415Z"
   },
   {
    "duration": 6,
    "start_time": "2022-04-08T08:08:22.743Z"
   },
   {
    "duration": 12,
    "start_time": "2022-04-08T08:09:05.520Z"
   },
   {
    "duration": 3,
    "start_time": "2022-04-08T08:09:12.148Z"
   },
   {
    "duration": 39,
    "start_time": "2022-04-08T08:09:12.156Z"
   },
   {
    "duration": 11,
    "start_time": "2022-04-08T08:09:12.196Z"
   },
   {
    "duration": 174,
    "start_time": "2022-04-08T08:09:12.209Z"
   },
   {
    "duration": 25,
    "start_time": "2022-04-08T08:09:12.386Z"
   },
   {
    "duration": 96,
    "start_time": "2022-04-08T08:09:12.413Z"
   },
   {
    "duration": 92,
    "start_time": "2022-04-08T08:09:12.511Z"
   },
   {
    "duration": 131,
    "start_time": "2022-04-08T08:09:12.604Z"
   },
   {
    "duration": 20,
    "start_time": "2022-04-08T08:09:12.736Z"
   },
   {
    "duration": 20,
    "start_time": "2022-04-08T08:09:12.757Z"
   },
   {
    "duration": 4,
    "start_time": "2022-04-08T08:09:12.780Z"
   },
   {
    "duration": 33,
    "start_time": "2022-04-08T08:09:12.785Z"
   },
   {
    "duration": 4,
    "start_time": "2022-04-08T08:09:12.819Z"
   },
   {
    "duration": 14,
    "start_time": "2022-04-08T08:09:12.825Z"
   },
   {
    "duration": 43,
    "start_time": "2022-04-08T08:09:12.841Z"
   },
   {
    "duration": 22,
    "start_time": "2022-04-08T08:09:12.885Z"
   },
   {
    "duration": 10,
    "start_time": "2022-04-08T08:09:12.908Z"
   },
   {
    "duration": 29,
    "start_time": "2022-04-08T08:09:12.920Z"
   },
   {
    "duration": 31,
    "start_time": "2022-04-08T08:09:12.951Z"
   },
   {
    "duration": 15,
    "start_time": "2022-04-08T08:09:12.984Z"
   },
   {
    "duration": 10,
    "start_time": "2022-04-08T08:09:13.000Z"
   },
   {
    "duration": 33,
    "start_time": "2022-04-08T08:09:13.011Z"
   },
   {
    "duration": 18,
    "start_time": "2022-04-08T08:09:13.045Z"
   },
   {
    "duration": 20,
    "start_time": "2022-04-08T08:09:13.081Z"
   },
   {
    "duration": 12,
    "start_time": "2022-04-08T08:09:13.102Z"
   },
   {
    "duration": 3,
    "start_time": "2022-04-08T08:09:13.116Z"
   },
   {
    "duration": 8,
    "start_time": "2022-04-08T08:09:13.120Z"
   },
   {
    "duration": 7,
    "start_time": "2022-04-08T08:09:13.129Z"
   },
   {
    "duration": 7,
    "start_time": "2022-04-08T08:09:13.139Z"
   },
   {
    "duration": 45,
    "start_time": "2022-04-08T08:09:13.148Z"
   },
   {
    "duration": 4,
    "start_time": "2022-04-08T08:09:13.194Z"
   },
   {
    "duration": 6,
    "start_time": "2022-04-08T08:09:13.199Z"
   },
   {
    "duration": 9,
    "start_time": "2022-04-08T08:09:13.206Z"
   },
   {
    "duration": 2,
    "start_time": "2022-04-08T08:09:13.217Z"
   },
   {
    "duration": 6,
    "start_time": "2022-04-08T08:09:13.221Z"
   },
   {
    "duration": 5,
    "start_time": "2022-04-08T08:09:13.228Z"
   },
   {
    "duration": 166,
    "start_time": "2022-04-08T08:09:13.234Z"
   },
   {
    "duration": 2093,
    "start_time": "2022-04-08T08:09:13.401Z"
   },
   {
    "duration": 0,
    "start_time": "2022-04-08T08:09:15.495Z"
   },
   {
    "duration": 0,
    "start_time": "2022-04-08T08:09:15.496Z"
   },
   {
    "duration": 0,
    "start_time": "2022-04-08T08:09:15.497Z"
   },
   {
    "duration": 0,
    "start_time": "2022-04-08T08:09:15.498Z"
   },
   {
    "duration": 0,
    "start_time": "2022-04-08T08:09:15.499Z"
   },
   {
    "duration": 0,
    "start_time": "2022-04-08T08:09:15.500Z"
   },
   {
    "duration": 0,
    "start_time": "2022-04-08T08:09:15.501Z"
   },
   {
    "duration": 0,
    "start_time": "2022-04-08T08:09:15.502Z"
   },
   {
    "duration": 0,
    "start_time": "2022-04-08T08:09:15.503Z"
   },
   {
    "duration": 0,
    "start_time": "2022-04-08T08:09:15.504Z"
   },
   {
    "duration": 0,
    "start_time": "2022-04-08T08:09:15.505Z"
   },
   {
    "duration": 0,
    "start_time": "2022-04-08T08:09:15.506Z"
   },
   {
    "duration": 0,
    "start_time": "2022-04-08T08:09:15.507Z"
   },
   {
    "duration": 0,
    "start_time": "2022-04-08T08:09:15.508Z"
   },
   {
    "duration": 24,
    "start_time": "2022-04-08T08:09:51.616Z"
   },
   {
    "duration": 5,
    "start_time": "2022-04-08T08:10:03.070Z"
   },
   {
    "duration": 3,
    "start_time": "2022-04-08T08:10:34.614Z"
   },
   {
    "duration": 45,
    "start_time": "2022-04-08T08:10:34.619Z"
   },
   {
    "duration": 10,
    "start_time": "2022-04-08T08:10:34.665Z"
   },
   {
    "duration": 146,
    "start_time": "2022-04-08T08:10:34.676Z"
   },
   {
    "duration": 24,
    "start_time": "2022-04-08T08:10:34.824Z"
   },
   {
    "duration": 98,
    "start_time": "2022-04-08T08:10:34.849Z"
   },
   {
    "duration": 17,
    "start_time": "2022-04-08T08:10:34.948Z"
   },
   {
    "duration": 143,
    "start_time": "2022-04-08T08:10:34.966Z"
   },
   {
    "duration": 19,
    "start_time": "2022-04-08T08:10:35.110Z"
   },
   {
    "duration": 19,
    "start_time": "2022-04-08T08:10:35.131Z"
   },
   {
    "duration": 3,
    "start_time": "2022-04-08T08:10:35.153Z"
   },
   {
    "duration": 37,
    "start_time": "2022-04-08T08:10:35.157Z"
   },
   {
    "duration": 4,
    "start_time": "2022-04-08T08:10:35.195Z"
   },
   {
    "duration": 16,
    "start_time": "2022-04-08T08:10:35.200Z"
   },
   {
    "duration": 22,
    "start_time": "2022-04-08T08:10:35.217Z"
   },
   {
    "duration": 41,
    "start_time": "2022-04-08T08:10:35.240Z"
   },
   {
    "duration": 10,
    "start_time": "2022-04-08T08:10:35.282Z"
   },
   {
    "duration": 28,
    "start_time": "2022-04-08T08:10:35.293Z"
   },
   {
    "duration": 14,
    "start_time": "2022-04-08T08:10:35.322Z"
   },
   {
    "duration": 14,
    "start_time": "2022-04-08T08:10:35.337Z"
   },
   {
    "duration": 9,
    "start_time": "2022-04-08T08:10:35.353Z"
   },
   {
    "duration": 24,
    "start_time": "2022-04-08T08:10:35.381Z"
   },
   {
    "duration": 16,
    "start_time": "2022-04-08T08:10:35.406Z"
   },
   {
    "duration": 18,
    "start_time": "2022-04-08T08:10:35.423Z"
   },
   {
    "duration": 11,
    "start_time": "2022-04-08T08:10:35.442Z"
   },
   {
    "duration": 27,
    "start_time": "2022-04-08T08:10:35.454Z"
   },
   {
    "duration": 9,
    "start_time": "2022-04-08T08:10:35.482Z"
   },
   {
    "duration": 9,
    "start_time": "2022-04-08T08:10:35.492Z"
   },
   {
    "duration": 8,
    "start_time": "2022-04-08T08:10:35.505Z"
   },
   {
    "duration": 22,
    "start_time": "2022-04-08T08:10:35.514Z"
   },
   {
    "duration": 4,
    "start_time": "2022-04-08T08:10:35.538Z"
   },
   {
    "duration": 5,
    "start_time": "2022-04-08T08:10:35.543Z"
   },
   {
    "duration": 35,
    "start_time": "2022-04-08T08:10:35.550Z"
   },
   {
    "duration": 3,
    "start_time": "2022-04-08T08:10:35.586Z"
   },
   {
    "duration": 7,
    "start_time": "2022-04-08T08:10:35.590Z"
   },
   {
    "duration": 5,
    "start_time": "2022-04-08T08:10:35.598Z"
   },
   {
    "duration": 157,
    "start_time": "2022-04-08T08:10:35.604Z"
   },
   {
    "duration": 2069,
    "start_time": "2022-04-08T08:10:35.763Z"
   },
   {
    "duration": 0,
    "start_time": "2022-04-08T08:10:37.834Z"
   },
   {
    "duration": 0,
    "start_time": "2022-04-08T08:10:37.835Z"
   },
   {
    "duration": 0,
    "start_time": "2022-04-08T08:10:37.836Z"
   },
   {
    "duration": 0,
    "start_time": "2022-04-08T08:10:37.838Z"
   },
   {
    "duration": 0,
    "start_time": "2022-04-08T08:10:37.838Z"
   },
   {
    "duration": 0,
    "start_time": "2022-04-08T08:10:37.840Z"
   },
   {
    "duration": 0,
    "start_time": "2022-04-08T08:10:37.841Z"
   },
   {
    "duration": 0,
    "start_time": "2022-04-08T08:10:37.842Z"
   },
   {
    "duration": 0,
    "start_time": "2022-04-08T08:10:37.843Z"
   },
   {
    "duration": 0,
    "start_time": "2022-04-08T08:10:37.844Z"
   },
   {
    "duration": 0,
    "start_time": "2022-04-08T08:10:37.845Z"
   },
   {
    "duration": 0,
    "start_time": "2022-04-08T08:10:37.846Z"
   },
   {
    "duration": 0,
    "start_time": "2022-04-08T08:10:37.847Z"
   },
   {
    "duration": 0,
    "start_time": "2022-04-08T08:10:37.849Z"
   },
   {
    "duration": 0,
    "start_time": "2022-04-08T08:10:37.850Z"
   },
   {
    "duration": 3,
    "start_time": "2022-04-08T08:11:02.933Z"
   },
   {
    "duration": 44,
    "start_time": "2022-04-08T08:11:02.938Z"
   },
   {
    "duration": 10,
    "start_time": "2022-04-08T08:11:02.984Z"
   },
   {
    "duration": 158,
    "start_time": "2022-04-08T08:11:02.996Z"
   },
   {
    "duration": 38,
    "start_time": "2022-04-08T08:11:03.156Z"
   },
   {
    "duration": 98,
    "start_time": "2022-04-08T08:11:03.196Z"
   },
   {
    "duration": 18,
    "start_time": "2022-04-08T08:11:03.296Z"
   },
   {
    "duration": 138,
    "start_time": "2022-04-08T08:11:03.316Z"
   },
   {
    "duration": 30,
    "start_time": "2022-04-08T08:11:03.455Z"
   },
   {
    "duration": 20,
    "start_time": "2022-04-08T08:11:03.486Z"
   },
   {
    "duration": 3,
    "start_time": "2022-04-08T08:11:03.509Z"
   },
   {
    "duration": 36,
    "start_time": "2022-04-08T08:11:03.514Z"
   },
   {
    "duration": 3,
    "start_time": "2022-04-08T08:11:03.552Z"
   },
   {
    "duration": 24,
    "start_time": "2022-04-08T08:11:03.557Z"
   },
   {
    "duration": 21,
    "start_time": "2022-04-08T08:11:03.583Z"
   },
   {
    "duration": 21,
    "start_time": "2022-04-08T08:11:03.606Z"
   },
   {
    "duration": 10,
    "start_time": "2022-04-08T08:11:03.629Z"
   },
   {
    "duration": 41,
    "start_time": "2022-04-08T08:11:03.640Z"
   },
   {
    "duration": 14,
    "start_time": "2022-04-08T08:11:03.682Z"
   },
   {
    "duration": 13,
    "start_time": "2022-04-08T08:11:03.698Z"
   },
   {
    "duration": 9,
    "start_time": "2022-04-08T08:11:03.712Z"
   },
   {
    "duration": 30,
    "start_time": "2022-04-08T08:11:03.723Z"
   },
   {
    "duration": 37,
    "start_time": "2022-04-08T08:11:03.754Z"
   },
   {
    "duration": 18,
    "start_time": "2022-04-08T08:11:03.792Z"
   },
   {
    "duration": 10,
    "start_time": "2022-04-08T08:11:03.812Z"
   },
   {
    "duration": 3,
    "start_time": "2022-04-08T08:11:03.824Z"
   },
   {
    "duration": 14,
    "start_time": "2022-04-08T08:11:03.829Z"
   },
   {
    "duration": 7,
    "start_time": "2022-04-08T08:11:03.844Z"
   },
   {
    "duration": 30,
    "start_time": "2022-04-08T08:11:03.855Z"
   },
   {
    "duration": 23,
    "start_time": "2022-04-08T08:11:03.887Z"
   },
   {
    "duration": 5,
    "start_time": "2022-04-08T08:11:03.912Z"
   },
   {
    "duration": 16,
    "start_time": "2022-04-08T08:11:03.918Z"
   },
   {
    "duration": 13,
    "start_time": "2022-04-08T08:11:03.936Z"
   },
   {
    "duration": 3,
    "start_time": "2022-04-08T08:11:03.951Z"
   },
   {
    "duration": 25,
    "start_time": "2022-04-08T08:11:03.956Z"
   },
   {
    "duration": 6,
    "start_time": "2022-04-08T08:11:03.983Z"
   },
   {
    "duration": 160,
    "start_time": "2022-04-08T08:11:03.991Z"
   },
   {
    "duration": 6,
    "start_time": "2022-04-08T08:11:04.152Z"
   },
   {
    "duration": 22,
    "start_time": "2022-04-08T08:11:04.159Z"
   },
   {
    "duration": 12,
    "start_time": "2022-04-08T08:11:04.182Z"
   },
   {
    "duration": 11,
    "start_time": "2022-04-08T08:11:04.195Z"
   },
   {
    "duration": 256,
    "start_time": "2022-04-08T08:11:04.208Z"
   },
   {
    "duration": 17,
    "start_time": "2022-04-08T08:11:04.466Z"
   },
   {
    "duration": 14,
    "start_time": "2022-04-08T08:11:04.485Z"
   },
   {
    "duration": 281,
    "start_time": "2022-04-08T08:11:04.500Z"
   },
   {
    "duration": 12,
    "start_time": "2022-04-08T08:11:04.782Z"
   },
   {
    "duration": 11,
    "start_time": "2022-04-08T08:11:04.795Z"
   },
   {
    "duration": 242,
    "start_time": "2022-04-08T08:11:04.808Z"
   },
   {
    "duration": 2,
    "start_time": "2022-04-08T08:11:05.052Z"
   },
   {
    "duration": 6,
    "start_time": "2022-04-08T08:11:05.056Z"
   },
   {
    "duration": 21,
    "start_time": "2022-04-08T08:11:05.063Z"
   },
   {
    "duration": 4,
    "start_time": "2022-04-08T08:11:05.086Z"
   },
   {
    "duration": 4,
    "start_time": "2022-04-08T08:11:44.334Z"
   },
   {
    "duration": 52,
    "start_time": "2022-04-08T08:11:44.342Z"
   },
   {
    "duration": 9,
    "start_time": "2022-04-08T08:11:44.396Z"
   },
   {
    "duration": 187,
    "start_time": "2022-04-08T08:11:44.407Z"
   },
   {
    "duration": 28,
    "start_time": "2022-04-08T08:11:44.596Z"
   },
   {
    "duration": 96,
    "start_time": "2022-04-08T08:11:44.625Z"
   },
   {
    "duration": 23,
    "start_time": "2022-04-08T08:11:44.723Z"
   },
   {
    "duration": 140,
    "start_time": "2022-04-08T08:11:44.747Z"
   },
   {
    "duration": 21,
    "start_time": "2022-04-08T08:11:44.888Z"
   },
   {
    "duration": 20,
    "start_time": "2022-04-08T08:11:44.910Z"
   },
   {
    "duration": 4,
    "start_time": "2022-04-08T08:11:44.933Z"
   },
   {
    "duration": 47,
    "start_time": "2022-04-08T08:11:44.938Z"
   },
   {
    "duration": 4,
    "start_time": "2022-04-08T08:11:44.986Z"
   },
   {
    "duration": 20,
    "start_time": "2022-04-08T08:11:44.991Z"
   },
   {
    "duration": 48,
    "start_time": "2022-04-08T08:11:45.012Z"
   },
   {
    "duration": 25,
    "start_time": "2022-04-08T08:11:45.062Z"
   },
   {
    "duration": 10,
    "start_time": "2022-04-08T08:11:45.089Z"
   },
   {
    "duration": 24,
    "start_time": "2022-04-08T08:11:45.101Z"
   },
   {
    "duration": 14,
    "start_time": "2022-04-08T08:11:45.126Z"
   },
   {
    "duration": 15,
    "start_time": "2022-04-08T08:11:45.142Z"
   },
   {
    "duration": 30,
    "start_time": "2022-04-08T08:11:45.158Z"
   },
   {
    "duration": 30,
    "start_time": "2022-04-08T08:11:45.190Z"
   },
   {
    "duration": 16,
    "start_time": "2022-04-08T08:11:45.222Z"
   },
   {
    "duration": 43,
    "start_time": "2022-04-08T08:11:45.239Z"
   },
   {
    "duration": 12,
    "start_time": "2022-04-08T08:11:45.283Z"
   },
   {
    "duration": 3,
    "start_time": "2022-04-08T08:11:45.296Z"
   },
   {
    "duration": 14,
    "start_time": "2022-04-08T08:11:45.300Z"
   },
   {
    "duration": 20,
    "start_time": "2022-04-08T08:11:45.316Z"
   },
   {
    "duration": 10,
    "start_time": "2022-04-08T08:11:45.339Z"
   },
   {
    "duration": 28,
    "start_time": "2022-04-08T08:11:45.351Z"
   },
   {
    "duration": 6,
    "start_time": "2022-04-08T08:11:45.383Z"
   },
   {
    "duration": 21,
    "start_time": "2022-04-08T08:11:45.390Z"
   },
   {
    "duration": 22,
    "start_time": "2022-04-08T08:11:45.412Z"
   },
   {
    "duration": 5,
    "start_time": "2022-04-08T08:11:45.435Z"
   },
   {
    "duration": 16,
    "start_time": "2022-04-08T08:11:45.441Z"
   },
   {
    "duration": 16,
    "start_time": "2022-04-08T08:11:45.458Z"
   },
   {
    "duration": 157,
    "start_time": "2022-04-08T08:11:45.476Z"
   },
   {
    "duration": 5,
    "start_time": "2022-04-08T08:11:45.635Z"
   },
   {
    "duration": 15,
    "start_time": "2022-04-08T08:11:45.642Z"
   },
   {
    "duration": 27,
    "start_time": "2022-04-08T08:11:45.659Z"
   },
   {
    "duration": 22,
    "start_time": "2022-04-08T08:11:45.687Z"
   },
   {
    "duration": 336,
    "start_time": "2022-04-08T08:11:45.711Z"
   },
   {
    "duration": 13,
    "start_time": "2022-04-08T08:11:46.049Z"
   },
   {
    "duration": 28,
    "start_time": "2022-04-08T08:11:46.064Z"
   },
   {
    "duration": 297,
    "start_time": "2022-04-08T08:11:46.094Z"
   },
   {
    "duration": 13,
    "start_time": "2022-04-08T08:11:46.393Z"
   },
   {
    "duration": 16,
    "start_time": "2022-04-08T08:11:46.407Z"
   },
   {
    "duration": 259,
    "start_time": "2022-04-08T08:11:46.424Z"
   },
   {
    "duration": 3,
    "start_time": "2022-04-08T08:11:46.685Z"
   },
   {
    "duration": 213,
    "start_time": "2022-04-08T08:11:46.690Z"
   },
   {
    "duration": 0,
    "start_time": "2022-04-08T08:11:46.905Z"
   },
   {
    "duration": 0,
    "start_time": "2022-04-08T08:11:46.906Z"
   },
   {
    "duration": 25,
    "start_time": "2022-04-08T08:12:04.475Z"
   },
   {
    "duration": 25,
    "start_time": "2022-04-08T08:17:21.155Z"
   },
   {
    "duration": 5,
    "start_time": "2022-04-08T08:17:42.009Z"
   },
   {
    "duration": 12,
    "start_time": "2022-04-08T08:18:43.784Z"
   },
   {
    "duration": 18,
    "start_time": "2022-04-08T08:18:57.511Z"
   },
   {
    "duration": 84,
    "start_time": "2022-04-08T08:19:08.305Z"
   },
   {
    "duration": 22,
    "start_time": "2022-04-08T08:19:24.507Z"
   },
   {
    "duration": 11,
    "start_time": "2022-04-08T08:19:45.020Z"
   },
   {
    "duration": 1442,
    "start_time": "2022-04-08T08:20:04.496Z"
   },
   {
    "duration": 186,
    "start_time": "2022-04-08T08:20:29.465Z"
   },
   {
    "duration": 27,
    "start_time": "2022-04-08T08:25:33.174Z"
   },
   {
    "duration": 114,
    "start_time": "2022-04-08T08:26:48.686Z"
   },
   {
    "duration": 17,
    "start_time": "2022-04-08T08:27:40.780Z"
   },
   {
    "duration": 17,
    "start_time": "2022-04-08T08:27:46.754Z"
   },
   {
    "duration": 4,
    "start_time": "2022-04-08T08:29:45.337Z"
   },
   {
    "duration": 238,
    "start_time": "2022-04-08T08:31:23.699Z"
   },
   {
    "duration": 242,
    "start_time": "2022-04-08T08:33:01.791Z"
   },
   {
    "duration": 228,
    "start_time": "2022-04-08T08:38:07.021Z"
   },
   {
    "duration": 154,
    "start_time": "2022-04-08T08:39:43.117Z"
   },
   {
    "duration": 10,
    "start_time": "2022-04-08T08:41:43.542Z"
   },
   {
    "duration": 156,
    "start_time": "2022-04-08T08:42:26.087Z"
   },
   {
    "duration": 2,
    "start_time": "2022-04-08T08:45:33.129Z"
   },
   {
    "duration": 10,
    "start_time": "2022-04-08T08:53:56.165Z"
   },
   {
    "duration": 176,
    "start_time": "2022-04-08T08:56:23.795Z"
   },
   {
    "duration": 168,
    "start_time": "2022-04-08T08:57:15.295Z"
   },
   {
    "duration": 9,
    "start_time": "2022-04-08T08:57:30.074Z"
   },
   {
    "duration": 330,
    "start_time": "2022-04-08T09:02:15.708Z"
   },
   {
    "duration": 228,
    "start_time": "2022-04-08T09:02:32.957Z"
   },
   {
    "duration": 3,
    "start_time": "2022-04-08T09:05:18.856Z"
   },
   {
    "duration": 162,
    "start_time": "2022-04-08T09:08:57.415Z"
   },
   {
    "duration": 9,
    "start_time": "2022-04-08T09:10:24.766Z"
   },
   {
    "duration": 164,
    "start_time": "2022-04-08T09:10:36.428Z"
   },
   {
    "duration": 169,
    "start_time": "2022-04-08T09:10:56.268Z"
   },
   {
    "duration": 10,
    "start_time": "2022-04-08T09:11:13.357Z"
   },
   {
    "duration": 9,
    "start_time": "2022-04-08T09:13:39.931Z"
   },
   {
    "duration": 10,
    "start_time": "2022-04-08T09:14:07.966Z"
   },
   {
    "duration": 233,
    "start_time": "2022-04-08T09:17:04.718Z"
   },
   {
    "duration": 182,
    "start_time": "2022-04-08T09:17:38.482Z"
   },
   {
    "duration": 232,
    "start_time": "2022-04-08T09:19:29.562Z"
   },
   {
    "duration": 2,
    "start_time": "2022-04-08T09:24:50.023Z"
   },
   {
    "duration": 309,
    "start_time": "2022-04-08T09:48:31.233Z"
   },
   {
    "duration": 235,
    "start_time": "2022-04-08T09:48:42.000Z"
   },
   {
    "duration": 414,
    "start_time": "2022-04-08T09:49:15.804Z"
   },
   {
    "duration": 295,
    "start_time": "2022-04-08T09:49:22.137Z"
   },
   {
    "duration": 227,
    "start_time": "2022-04-08T09:49:34.195Z"
   },
   {
    "duration": 254,
    "start_time": "2022-04-08T09:49:40.163Z"
   },
   {
    "duration": 253,
    "start_time": "2022-04-08T09:49:51.411Z"
   },
   {
    "duration": 246,
    "start_time": "2022-04-08T09:50:10.336Z"
   },
   {
    "duration": 372,
    "start_time": "2022-04-08T09:50:17.306Z"
   },
   {
    "duration": 278,
    "start_time": "2022-04-08T09:50:32.124Z"
   },
   {
    "duration": 420,
    "start_time": "2022-04-08T09:54:52.901Z"
   },
   {
    "duration": 481,
    "start_time": "2022-04-08T09:55:02.846Z"
   },
   {
    "duration": 267,
    "start_time": "2022-04-08T09:55:19.157Z"
   },
   {
    "duration": 249,
    "start_time": "2022-04-08T09:55:26.089Z"
   },
   {
    "duration": 397,
    "start_time": "2022-04-08T09:55:32.677Z"
   },
   {
    "duration": 237,
    "start_time": "2022-04-08T09:55:37.053Z"
   },
   {
    "duration": 253,
    "start_time": "2022-04-08T09:55:41.953Z"
   },
   {
    "duration": 262,
    "start_time": "2022-04-08T09:55:50.650Z"
   },
   {
    "duration": 293,
    "start_time": "2022-04-08T10:03:40.842Z"
   },
   {
    "duration": 266,
    "start_time": "2022-04-08T10:04:07.455Z"
   },
   {
    "duration": 603,
    "start_time": "2022-04-08T10:04:26.110Z"
   },
   {
    "duration": 454,
    "start_time": "2022-04-08T10:04:36.882Z"
   },
   {
    "duration": 3,
    "start_time": "2022-04-08T10:13:10.544Z"
   },
   {
    "duration": 600,
    "start_time": "2022-04-08T10:13:10.553Z"
   },
   {
    "duration": 10,
    "start_time": "2022-04-08T10:13:11.156Z"
   },
   {
    "duration": 147,
    "start_time": "2022-04-08T10:13:11.168Z"
   },
   {
    "duration": 27,
    "start_time": "2022-04-08T10:13:11.317Z"
   },
   {
    "duration": 95,
    "start_time": "2022-04-08T10:13:11.347Z"
   },
   {
    "duration": 18,
    "start_time": "2022-04-08T10:13:11.443Z"
   },
   {
    "duration": 143,
    "start_time": "2022-04-08T10:13:11.462Z"
   },
   {
    "duration": 20,
    "start_time": "2022-04-08T10:13:11.606Z"
   },
   {
    "duration": 29,
    "start_time": "2022-04-08T10:13:11.627Z"
   },
   {
    "duration": 4,
    "start_time": "2022-04-08T10:13:11.657Z"
   },
   {
    "duration": 60,
    "start_time": "2022-04-08T10:13:11.663Z"
   },
   {
    "duration": 5,
    "start_time": "2022-04-08T10:13:11.725Z"
   },
   {
    "duration": 15,
    "start_time": "2022-04-08T10:13:11.731Z"
   },
   {
    "duration": 45,
    "start_time": "2022-04-08T10:13:11.750Z"
   },
   {
    "duration": 30,
    "start_time": "2022-04-08T10:13:11.797Z"
   },
   {
    "duration": 15,
    "start_time": "2022-04-08T10:13:11.829Z"
   },
   {
    "duration": 50,
    "start_time": "2022-04-08T10:13:11.846Z"
   },
   {
    "duration": 19,
    "start_time": "2022-04-08T10:13:11.898Z"
   },
   {
    "duration": 25,
    "start_time": "2022-04-08T10:13:11.919Z"
   },
   {
    "duration": 37,
    "start_time": "2022-04-08T10:13:11.946Z"
   },
   {
    "duration": 30,
    "start_time": "2022-04-08T10:13:11.985Z"
   },
   {
    "duration": 17,
    "start_time": "2022-04-08T10:13:12.016Z"
   },
   {
    "duration": 19,
    "start_time": "2022-04-08T10:13:12.034Z"
   },
   {
    "duration": 11,
    "start_time": "2022-04-08T10:13:12.081Z"
   },
   {
    "duration": 4,
    "start_time": "2022-04-08T10:13:12.093Z"
   },
   {
    "duration": 7,
    "start_time": "2022-04-08T10:13:12.099Z"
   },
   {
    "duration": 9,
    "start_time": "2022-04-08T10:13:12.108Z"
   },
   {
    "duration": 10,
    "start_time": "2022-04-08T10:13:12.119Z"
   },
   {
    "duration": 16,
    "start_time": "2022-04-08T10:13:12.130Z"
   },
   {
    "duration": 35,
    "start_time": "2022-04-08T10:13:12.148Z"
   },
   {
    "duration": 7,
    "start_time": "2022-04-08T10:13:12.185Z"
   },
   {
    "duration": 11,
    "start_time": "2022-04-08T10:13:12.194Z"
   },
   {
    "duration": 3,
    "start_time": "2022-04-08T10:13:12.207Z"
   },
   {
    "duration": 6,
    "start_time": "2022-04-08T10:13:12.211Z"
   },
   {
    "duration": 5,
    "start_time": "2022-04-08T10:13:12.218Z"
   },
   {
    "duration": 173,
    "start_time": "2022-04-08T10:13:12.225Z"
   },
   {
    "duration": 10,
    "start_time": "2022-04-08T10:13:12.399Z"
   },
   {
    "duration": 12,
    "start_time": "2022-04-08T10:13:12.411Z"
   },
   {
    "duration": 9,
    "start_time": "2022-04-08T10:13:12.424Z"
   },
   {
    "duration": 49,
    "start_time": "2022-04-08T10:13:12.435Z"
   },
   {
    "duration": 12,
    "start_time": "2022-04-08T10:13:12.489Z"
   },
   {
    "duration": 490,
    "start_time": "2022-04-08T10:13:12.503Z"
   },
   {
    "duration": 4,
    "start_time": "2022-04-08T10:13:12.995Z"
   },
   {
    "duration": 24,
    "start_time": "2022-04-08T10:13:13.001Z"
   },
   {
    "duration": 11,
    "start_time": "2022-04-08T10:13:13.027Z"
   },
   {
    "duration": 41,
    "start_time": "2022-04-08T10:13:13.040Z"
   },
   {
    "duration": 10,
    "start_time": "2022-04-08T10:13:13.083Z"
   },
   {
    "duration": 396,
    "start_time": "2022-04-08T10:13:13.095Z"
   },
   {
    "duration": 2,
    "start_time": "2022-04-08T10:13:13.493Z"
   },
   {
    "duration": 19,
    "start_time": "2022-04-08T10:13:13.496Z"
   },
   {
    "duration": 11,
    "start_time": "2022-04-08T10:13:13.517Z"
   },
   {
    "duration": 16,
    "start_time": "2022-04-08T10:13:13.530Z"
   },
   {
    "duration": 8,
    "start_time": "2022-04-08T10:13:13.547Z"
   },
   {
    "duration": 278,
    "start_time": "2022-04-08T10:13:13.556Z"
   },
   {
    "duration": 3,
    "start_time": "2022-04-08T10:13:13.835Z"
   },
   {
    "duration": 8,
    "start_time": "2022-04-08T10:13:13.839Z"
   },
   {
    "duration": 7,
    "start_time": "2022-04-08T10:13:13.848Z"
   },
   {
    "duration": 11,
    "start_time": "2022-04-08T10:13:13.856Z"
   },
   {
    "duration": 5,
    "start_time": "2022-04-08T10:13:13.868Z"
   },
   {
    "duration": 4,
    "start_time": "2022-04-08T10:15:07.310Z"
   },
   {
    "duration": 12,
    "start_time": "2022-04-08T10:15:18.960Z"
   },
   {
    "duration": 4,
    "start_time": "2022-04-08T10:15:22.663Z"
   },
   {
    "duration": 9,
    "start_time": "2022-04-08T10:25:43.602Z"
   },
   {
    "duration": 28,
    "start_time": "2022-04-08T10:25:46.566Z"
   },
   {
    "duration": 2026,
    "start_time": "2022-04-08T10:26:11.350Z"
   },
   {
    "duration": 27,
    "start_time": "2022-04-08T10:26:24.601Z"
   },
   {
    "duration": 26,
    "start_time": "2022-04-08T10:27:14.263Z"
   },
   {
    "duration": 8,
    "start_time": "2022-04-08T10:27:36.533Z"
   },
   {
    "duration": 6,
    "start_time": "2022-04-08T10:27:45.450Z"
   },
   {
    "duration": 226,
    "start_time": "2022-04-08T10:36:53.625Z"
   },
   {
    "duration": 17,
    "start_time": "2022-04-08T10:43:04.210Z"
   },
   {
    "duration": 225,
    "start_time": "2022-04-08T10:43:15.650Z"
   },
   {
    "duration": 364,
    "start_time": "2022-04-08T10:43:30.741Z"
   },
   {
    "duration": 203,
    "start_time": "2022-04-08T10:43:59.140Z"
   },
   {
    "duration": 141,
    "start_time": "2022-04-08T10:44:54.969Z"
   },
   {
    "duration": 157,
    "start_time": "2022-04-08T10:45:31.424Z"
   },
   {
    "duration": 3,
    "start_time": "2022-04-08T11:01:08.406Z"
   },
   {
    "duration": 73,
    "start_time": "2022-04-08T11:01:08.416Z"
   },
   {
    "duration": 9,
    "start_time": "2022-04-08T11:01:08.491Z"
   },
   {
    "duration": 157,
    "start_time": "2022-04-08T11:01:08.502Z"
   },
   {
    "duration": 39,
    "start_time": "2022-04-08T11:01:08.661Z"
   },
   {
    "duration": 127,
    "start_time": "2022-04-08T11:01:08.702Z"
   },
   {
    "duration": 29,
    "start_time": "2022-04-08T11:01:08.830Z"
   },
   {
    "duration": 145,
    "start_time": "2022-04-08T11:01:08.861Z"
   },
   {
    "duration": 20,
    "start_time": "2022-04-08T11:01:09.007Z"
   },
   {
    "duration": 21,
    "start_time": "2022-04-08T11:01:09.029Z"
   },
   {
    "duration": 4,
    "start_time": "2022-04-08T11:01:09.052Z"
   },
   {
    "duration": 46,
    "start_time": "2022-04-08T11:01:09.057Z"
   },
   {
    "duration": 5,
    "start_time": "2022-04-08T11:01:09.104Z"
   },
   {
    "duration": 16,
    "start_time": "2022-04-08T11:01:09.110Z"
   },
   {
    "duration": 20,
    "start_time": "2022-04-08T11:01:09.130Z"
   },
   {
    "duration": 44,
    "start_time": "2022-04-08T11:01:09.151Z"
   },
   {
    "duration": 10,
    "start_time": "2022-04-08T11:01:09.197Z"
   },
   {
    "duration": 26,
    "start_time": "2022-04-08T11:01:09.209Z"
   },
   {
    "duration": 14,
    "start_time": "2022-04-08T11:01:09.236Z"
   },
   {
    "duration": 38,
    "start_time": "2022-04-08T11:01:09.251Z"
   },
   {
    "duration": 10,
    "start_time": "2022-04-08T11:01:09.291Z"
   },
   {
    "duration": 30,
    "start_time": "2022-04-08T11:01:09.303Z"
   },
   {
    "duration": 16,
    "start_time": "2022-04-08T11:01:09.335Z"
   },
   {
    "duration": 50,
    "start_time": "2022-04-08T11:01:09.352Z"
   },
   {
    "duration": 12,
    "start_time": "2022-04-08T11:01:09.404Z"
   },
   {
    "duration": 5,
    "start_time": "2022-04-08T11:01:09.418Z"
   },
   {
    "duration": 9,
    "start_time": "2022-04-08T11:01:09.424Z"
   },
   {
    "duration": 9,
    "start_time": "2022-04-08T11:01:09.434Z"
   },
   {
    "duration": 38,
    "start_time": "2022-04-08T11:01:09.445Z"
   },
   {
    "duration": 22,
    "start_time": "2022-04-08T11:01:09.485Z"
   },
   {
    "duration": 9,
    "start_time": "2022-04-08T11:01:09.508Z"
   },
   {
    "duration": 7,
    "start_time": "2022-04-08T11:01:09.519Z"
   },
   {
    "duration": 13,
    "start_time": "2022-04-08T11:01:09.528Z"
   },
   {
    "duration": 3,
    "start_time": "2022-04-08T11:01:09.544Z"
   },
   {
    "duration": 6,
    "start_time": "2022-04-08T11:01:09.581Z"
   },
   {
    "duration": 10,
    "start_time": "2022-04-08T11:01:09.588Z"
   },
   {
    "duration": 201,
    "start_time": "2022-04-08T11:01:09.600Z"
   },
   {
    "duration": 10,
    "start_time": "2022-04-08T11:01:09.803Z"
   },
   {
    "duration": 12,
    "start_time": "2022-04-08T11:01:09.814Z"
   },
   {
    "duration": 9,
    "start_time": "2022-04-08T11:01:09.828Z"
   },
   {
    "duration": 17,
    "start_time": "2022-04-08T11:01:09.838Z"
   },
   {
    "duration": 9,
    "start_time": "2022-04-08T11:01:09.858Z"
   },
   {
    "duration": 464,
    "start_time": "2022-04-08T11:01:09.881Z"
   },
   {
    "duration": 4,
    "start_time": "2022-04-08T11:01:10.346Z"
   },
   {
    "duration": 21,
    "start_time": "2022-04-08T11:01:10.351Z"
   },
   {
    "duration": 13,
    "start_time": "2022-04-08T11:01:10.373Z"
   },
   {
    "duration": 18,
    "start_time": "2022-04-08T11:01:10.388Z"
   },
   {
    "duration": 9,
    "start_time": "2022-04-08T11:01:10.407Z"
   },
   {
    "duration": 286,
    "start_time": "2022-04-08T11:01:10.418Z"
   },
   {
    "duration": 2,
    "start_time": "2022-04-08T11:01:10.706Z"
   },
   {
    "duration": 23,
    "start_time": "2022-04-08T11:01:10.710Z"
   },
   {
    "duration": 11,
    "start_time": "2022-04-08T11:01:10.735Z"
   },
   {
    "duration": 18,
    "start_time": "2022-04-08T11:01:10.748Z"
   },
   {
    "duration": 17,
    "start_time": "2022-04-08T11:01:10.768Z"
   },
   {
    "duration": 449,
    "start_time": "2022-04-08T11:01:10.787Z"
   },
   {
    "duration": 3,
    "start_time": "2022-04-08T11:01:11.238Z"
   },
   {
    "duration": 9,
    "start_time": "2022-04-08T11:01:11.242Z"
   },
   {
    "duration": 9,
    "start_time": "2022-04-08T11:01:11.252Z"
   },
   {
    "duration": 12,
    "start_time": "2022-04-08T11:01:11.262Z"
   },
   {
    "duration": 7,
    "start_time": "2022-04-08T11:01:11.275Z"
   },
   {
    "duration": 1666,
    "start_time": "2022-04-09T11:10:54.633Z"
   },
   {
    "duration": 37,
    "start_time": "2022-04-09T11:10:56.302Z"
   },
   {
    "duration": 31,
    "start_time": "2022-04-09T11:10:56.340Z"
   },
   {
    "duration": 210,
    "start_time": "2022-04-09T11:10:56.376Z"
   },
   {
    "duration": 33,
    "start_time": "2022-04-09T11:10:56.588Z"
   },
   {
    "duration": 140,
    "start_time": "2022-04-09T11:10:56.623Z"
   },
   {
    "duration": 26,
    "start_time": "2022-04-09T11:10:56.765Z"
   },
   {
    "duration": 397,
    "start_time": "2022-04-09T11:10:56.793Z"
   },
   {
    "duration": 45,
    "start_time": "2022-04-09T11:10:57.193Z"
   },
   {
    "duration": 41,
    "start_time": "2022-04-09T11:10:57.244Z"
   },
   {
    "duration": 10,
    "start_time": "2022-04-09T11:10:57.288Z"
   },
   {
    "duration": 97,
    "start_time": "2022-04-09T11:10:57.300Z"
   },
   {
    "duration": 7,
    "start_time": "2022-04-09T11:10:57.400Z"
   },
   {
    "duration": 26,
    "start_time": "2022-04-09T11:10:57.410Z"
   },
   {
    "duration": 60,
    "start_time": "2022-04-09T11:10:57.439Z"
   },
   {
    "duration": 41,
    "start_time": "2022-04-09T11:10:57.502Z"
   },
   {
    "duration": 37,
    "start_time": "2022-04-09T11:10:57.546Z"
   },
   {
    "duration": 51,
    "start_time": "2022-04-09T11:10:57.587Z"
   },
   {
    "duration": 44,
    "start_time": "2022-04-09T11:10:57.640Z"
   },
   {
    "duration": 23,
    "start_time": "2022-04-09T11:10:57.686Z"
   },
   {
    "duration": 16,
    "start_time": "2022-04-09T11:10:57.711Z"
   },
   {
    "duration": 74,
    "start_time": "2022-04-09T11:10:57.729Z"
   },
   {
    "duration": 24,
    "start_time": "2022-04-09T11:10:57.805Z"
   },
   {
    "duration": 54,
    "start_time": "2022-04-09T11:10:57.831Z"
   },
   {
    "duration": 19,
    "start_time": "2022-04-09T11:10:57.887Z"
   },
   {
    "duration": 4,
    "start_time": "2022-04-09T11:10:57.908Z"
   },
   {
    "duration": 10,
    "start_time": "2022-04-09T11:10:57.914Z"
   },
   {
    "duration": 39,
    "start_time": "2022-04-09T11:10:57.930Z"
   },
   {
    "duration": 13,
    "start_time": "2022-04-09T11:10:57.971Z"
   },
   {
    "duration": 28,
    "start_time": "2022-04-09T11:10:57.986Z"
   },
   {
    "duration": 13,
    "start_time": "2022-04-09T11:10:58.016Z"
   },
   {
    "duration": 37,
    "start_time": "2022-04-09T11:10:58.031Z"
   },
   {
    "duration": 12,
    "start_time": "2022-04-09T11:10:58.070Z"
   },
   {
    "duration": 3,
    "start_time": "2022-04-09T11:10:58.085Z"
   },
   {
    "duration": 7,
    "start_time": "2022-04-09T11:10:58.091Z"
   },
   {
    "duration": 7,
    "start_time": "2022-04-09T11:10:58.101Z"
   },
   {
    "duration": 264,
    "start_time": "2022-04-09T11:10:58.110Z"
   },
   {
    "duration": 20,
    "start_time": "2022-04-09T11:10:58.376Z"
   },
   {
    "duration": 19,
    "start_time": "2022-04-09T11:10:58.398Z"
   },
   {
    "duration": 49,
    "start_time": "2022-04-09T11:10:58.420Z"
   },
   {
    "duration": 21,
    "start_time": "2022-04-09T11:10:58.472Z"
   },
   {
    "duration": 13,
    "start_time": "2022-04-09T11:10:58.496Z"
   },
   {
    "duration": 546,
    "start_time": "2022-04-09T11:10:58.512Z"
   },
   {
    "duration": 8,
    "start_time": "2022-04-09T11:10:59.060Z"
   },
   {
    "duration": 22,
    "start_time": "2022-04-09T11:10:59.070Z"
   },
   {
    "duration": 17,
    "start_time": "2022-04-09T11:10:59.094Z"
   },
   {
    "duration": 25,
    "start_time": "2022-04-09T11:10:59.114Z"
   },
   {
    "duration": 18,
    "start_time": "2022-04-09T11:10:59.169Z"
   },
   {
    "duration": 792,
    "start_time": "2022-04-09T11:10:59.191Z"
   },
   {
    "duration": 4,
    "start_time": "2022-04-09T11:10:59.986Z"
   },
   {
    "duration": 27,
    "start_time": "2022-04-09T11:10:59.992Z"
   },
   {
    "duration": 13,
    "start_time": "2022-04-09T11:11:00.022Z"
   },
   {
    "duration": 48,
    "start_time": "2022-04-09T11:11:00.037Z"
   },
   {
    "duration": 14,
    "start_time": "2022-04-09T11:11:00.087Z"
   },
   {
    "duration": 564,
    "start_time": "2022-04-09T11:11:00.103Z"
   },
   {
    "duration": 4,
    "start_time": "2022-04-09T11:11:00.669Z"
   },
   {
    "duration": 27,
    "start_time": "2022-04-09T11:11:00.675Z"
   },
   {
    "duration": 18,
    "start_time": "2022-04-09T11:11:00.704Z"
   },
   {
    "duration": 48,
    "start_time": "2022-04-09T11:11:00.724Z"
   },
   {
    "duration": 11,
    "start_time": "2022-04-09T11:11:00.774Z"
   }
  ],
  "kernelspec": {
   "display_name": "Python 3 (ipykernel)",
   "language": "python",
   "name": "python3"
  },
  "language_info": {
   "codemirror_mode": {
    "name": "ipython",
    "version": 3
   },
   "file_extension": ".py",
   "mimetype": "text/x-python",
   "name": "python",
   "nbconvert_exporter": "python",
   "pygments_lexer": "ipython3",
   "version": "3.9.7"
  },
  "toc": {
   "base_numbering": 1,
   "nav_menu": {},
   "number_sections": true,
   "sideBar": true,
   "skip_h1_title": true,
   "title_cell": "Содержание",
   "title_sidebar": "Contents",
   "toc_cell": true,
   "toc_position": {
    "height": "calc(100% - 180px)",
    "left": "10px",
    "top": "150px",
    "width": "255.594px"
   },
   "toc_section_display": true,
   "toc_window_display": false
  }
 },
 "nbformat": 4,
 "nbformat_minor": 2
}
