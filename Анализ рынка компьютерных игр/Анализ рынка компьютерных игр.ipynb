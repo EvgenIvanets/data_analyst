{
 "cells": [
  {
   "cell_type": "markdown",
   "id": "b6137dfe",
   "metadata": {},
   "source": [
    "<h1>Анализ рынка компьютерных игр<span class=\"tocSkip\"></span></h1>\n",
    "\n",
    "\n",
    "Анализ рынка для интернет-магазина, который продаёт по всему миру компьютерные игры. Из открытых источников доступны исторические данные о продажах игр, оценки пользователей и экспертов, жанры и платформы(например, Xboxили PlayStation). Нужно выявить определяющие успешность игры закономерности. Это позволит сделать ставку на потенциально популярный\n",
    "продукт и спланировать рекламные кампании. В нашем распоряжении данные до 2016 года. Представим, что сейчас декабрь 2016 г., и мы планируем кампанию на 2017-й. "
   ]
  },
  {
   "cell_type": "markdown",
   "id": "dd8ca072",
   "metadata": {
    "toc": true
   },
   "source": [
    "<h1>Содержание<span class=\"tocSkip\"></span></h1>\n",
    "<div class=\"toc\"><ul class=\"toc-item\"><li><span><a href=\"#Изучение-данных-из-файла\" data-toc-modified-id=\"Изучение-данных-из-файла-1\"><span class=\"toc-item-num\">1&nbsp;&nbsp;</span>Изучение данных из файла</a></span></li><li><span><a href=\"#Подготовка-данных\" data-toc-modified-id=\"Подготовка-данных-2\"><span class=\"toc-item-num\">2&nbsp;&nbsp;</span>Подготовка данных</a></span><ul class=\"toc-item\"><li><span><a href=\"#Замена-названий-столбцов\" data-toc-modified-id=\"Замена-названий-столбцов-2.1\"><span class=\"toc-item-num\">2.1&nbsp;&nbsp;</span>Замена названий столбцов</a></span></li><li><span><a href=\"#Обработка-пропусков\" data-toc-modified-id=\"Обработка-пропусков-2.2\"><span class=\"toc-item-num\">2.2&nbsp;&nbsp;</span>Обработка пропусков</a></span></li><li><span><a href=\"#Подсчёт-суммарных-продаж-по-регионам\" data-toc-modified-id=\"Подсчёт-суммарных-продаж-по-регионам-2.3\"><span class=\"toc-item-num\">2.3&nbsp;&nbsp;</span>Подсчёт суммарных продаж по регионам</a></span></li><li><span><a href=\"#Преобразование-типов-данных\" data-toc-modified-id=\"Преобразование-типов-данных-2.4\"><span class=\"toc-item-num\">2.4&nbsp;&nbsp;</span>Преобразование типов данных</a></span></li></ul></li><li><span><a href=\"#Исследовательский-анализ-данных\" data-toc-modified-id=\"Исследовательский-анализ-данных-3\"><span class=\"toc-item-num\">3&nbsp;&nbsp;</span>Исследовательский анализ данных</a></span><ul class=\"toc-item\"><li><span><a href=\"#Анализ-колличества-выпускаемых-игр-по-годам\" data-toc-modified-id=\"Анализ-колличества-выпускаемых-игр-по-годам-3.1\"><span class=\"toc-item-num\">3.1&nbsp;&nbsp;</span>Анализ колличества выпускаемых игр по годам</a></span></li><li><span><a href=\"#Анализ-изменения-продаж-по-платформам\" data-toc-modified-id=\"Анализ-изменения-продаж-по-платформам-3.2\"><span class=\"toc-item-num\">3.2&nbsp;&nbsp;</span>Анализ изменения продаж по платформам</a></span></li><li><span><a href=\"#Определение-актуального-периода\" data-toc-modified-id=\"Определение-актуального-периода-3.3\"><span class=\"toc-item-num\">3.3&nbsp;&nbsp;</span>Определение актуального периода</a></span></li><li><span><a href=\"#Ящик-с-усами-глобальных-продаж-по-платформам\" data-toc-modified-id=\"Ящик-с-усами-глобальных-продаж-по-платформам-3.4\"><span class=\"toc-item-num\">3.4&nbsp;&nbsp;</span>Ящик с усами глобальных продаж по платформам</a></span></li><li><span><a href=\"#Анализ-влияния-отзывов-пользователей-и-критиков-на-продажи-внутри-одной-популярной-платформы-и-внутри-других-платформ\" data-toc-modified-id=\"Анализ-влияния-отзывов-пользователей-и-критиков-на-продажи-внутри-одной-популярной-платформы-и-внутри-других-платформ-3.5\"><span class=\"toc-item-num\">3.5&nbsp;&nbsp;</span>Анализ влияния отзывов пользователей и критиков на продажи внутри одной популярной платформы и внутри других платформ</a></span><ul class=\"toc-item\"><li><span><a href=\"#Анализ-влияния-отзывов-критиков-на-продажи-игр-внутри-платформы-PS4-и-внутри-других-платформ\" data-toc-modified-id=\"Анализ-влияния-отзывов-критиков-на-продажи-игр-внутри-платформы-PS4-и-внутри-других-платформ-3.5.1\"><span class=\"toc-item-num\">3.5.1&nbsp;&nbsp;</span>Анализ влияния отзывов критиков на продажи игр внутри платформы PS4 и внутри других платформ</a></span></li><li><span><a href=\"#Анализ-влияния-отзывов-пользователей-на-продажи-игр-внутри-платформы-PS4-и-внутри-других-платформ\" data-toc-modified-id=\"Анализ-влияния-отзывов-пользователей-на-продажи-игр-внутри-платформы-PS4-и-внутри-других-платформ-3.5.2\"><span class=\"toc-item-num\">3.5.2&nbsp;&nbsp;</span>Анализ влияния отзывов пользователей на продажи игр внутри платформы PS4 и внутри других платформ</a></span></li></ul></li><li><span><a href=\"#Анализ-распределения-по-жанрам\" data-toc-modified-id=\"Анализ-распределения-по-жанрам-3.6\"><span class=\"toc-item-num\">3.6&nbsp;&nbsp;</span>Анализ распределения по жанрам</a></span></li></ul></li><li><span><a href=\"#Портрет-пользователей-по-регионам\" data-toc-modified-id=\"Портрет-пользователей-по-регионам-4\"><span class=\"toc-item-num\">4&nbsp;&nbsp;</span>Портрет пользователей по регионам</a></span><ul class=\"toc-item\"><li><span><a href=\"#Самые-популярные-платформы-по-регионам\" data-toc-modified-id=\"Самые-популярные-платформы-по-регионам-4.1\"><span class=\"toc-item-num\">4.1&nbsp;&nbsp;</span>Самые популярные платформы по регионам</a></span></li><li><span><a href=\"#Самые-популярные-жанры-по-регионам\" data-toc-modified-id=\"Самые-популярные-жанры-по-регионам-4.2\"><span class=\"toc-item-num\">4.2&nbsp;&nbsp;</span>Самые популярные жанры по регионам</a></span></li><li><span><a href=\"#Влияние-на-продажи-рейтинга-ESRB-по-разным-регионам\" data-toc-modified-id=\"Влияние-на-продажи-рейтинга-ESRB-по-разным-регионам-4.3\"><span class=\"toc-item-num\">4.3&nbsp;&nbsp;</span>Влияние на продажи рейтинга ESRB по разным регионам</a></span></li></ul></li><li><span><a href=\"#Проверка-гипотез\" data-toc-modified-id=\"Проверка-гипотез-5\"><span class=\"toc-item-num\">5&nbsp;&nbsp;</span>Проверка гипотез</a></span><ul class=\"toc-item\"><li><span><a href=\"#Средние-пользовательские-рейтинги-платформ-Xbox-One-и-PC-одинаковые\" data-toc-modified-id=\"Средние-пользовательские-рейтинги-платформ-Xbox-One-и-PC-одинаковые-5.1\"><span class=\"toc-item-num\">5.1&nbsp;&nbsp;</span>Средние пользовательские рейтинги платформ Xbox One и PC одинаковые</a></span></li><li><span><a href=\"#Средние-пользовательские-рейтинги-жанров-Action-и-Sports-разные\" data-toc-modified-id=\"Средние-пользовательские-рейтинги-жанров-Action-и-Sports-разные-5.2\"><span class=\"toc-item-num\">5.2&nbsp;&nbsp;</span>Средние пользовательские рейтинги жанров Action и Sports разные</a></span></li></ul></li><li><span><a href=\"#Общий-вывод\" data-toc-modified-id=\"Общий-вывод-6\"><span class=\"toc-item-num\">6&nbsp;&nbsp;</span>Общий вывод</a></span></li></ul></div>"
   ]
  },
  {
   "cell_type": "markdown",
   "id": "fc3008df",
   "metadata": {},
   "source": [
    "# Изучение данных из файла"
   ]
  },
  {
   "cell_type": "code",
   "execution_count": 1,
   "id": "e6efe645",
   "metadata": {},
   "outputs": [],
   "source": [
    "# импорт библиотек\n",
    "import pandas as pd \n",
    "import numpy as np \n",
    "import matplotlib.pyplot as plt \n",
    "from scipy import stats as st "
   ]
  },
  {
   "cell_type": "code",
   "execution_count": 2,
   "id": "4edef547",
   "metadata": {},
   "outputs": [],
   "source": [
    "df = pd.read_csv('games.csv') # чтение файла и сохранение в переменной df"
   ]
  },
  {
   "cell_type": "code",
   "execution_count": 3,
   "id": "c6813d42",
   "metadata": {},
   "outputs": [
    {
     "data": {
      "text/html": [
       "<div>\n",
       "<style scoped>\n",
       "    .dataframe tbody tr th:only-of-type {\n",
       "        vertical-align: middle;\n",
       "    }\n",
       "\n",
       "    .dataframe tbody tr th {\n",
       "        vertical-align: top;\n",
       "    }\n",
       "\n",
       "    .dataframe thead th {\n",
       "        text-align: right;\n",
       "    }\n",
       "</style>\n",
       "<table border=\"1\" class=\"dataframe\">\n",
       "  <thead>\n",
       "    <tr style=\"text-align: right;\">\n",
       "      <th></th>\n",
       "      <th>Name</th>\n",
       "      <th>Platform</th>\n",
       "      <th>Year_of_Release</th>\n",
       "      <th>Genre</th>\n",
       "      <th>NA_sales</th>\n",
       "      <th>EU_sales</th>\n",
       "      <th>JP_sales</th>\n",
       "      <th>Other_sales</th>\n",
       "      <th>Critic_Score</th>\n",
       "      <th>User_Score</th>\n",
       "      <th>Rating</th>\n",
       "    </tr>\n",
       "  </thead>\n",
       "  <tbody>\n",
       "    <tr>\n",
       "      <th>0</th>\n",
       "      <td>Wii Sports</td>\n",
       "      <td>Wii</td>\n",
       "      <td>2006.0</td>\n",
       "      <td>Sports</td>\n",
       "      <td>41.36</td>\n",
       "      <td>28.96</td>\n",
       "      <td>3.77</td>\n",
       "      <td>8.45</td>\n",
       "      <td>76.0</td>\n",
       "      <td>8</td>\n",
       "      <td>E</td>\n",
       "    </tr>\n",
       "    <tr>\n",
       "      <th>1</th>\n",
       "      <td>Super Mario Bros.</td>\n",
       "      <td>NES</td>\n",
       "      <td>1985.0</td>\n",
       "      <td>Platform</td>\n",
       "      <td>29.08</td>\n",
       "      <td>3.58</td>\n",
       "      <td>6.81</td>\n",
       "      <td>0.77</td>\n",
       "      <td>NaN</td>\n",
       "      <td>NaN</td>\n",
       "      <td>NaN</td>\n",
       "    </tr>\n",
       "    <tr>\n",
       "      <th>2</th>\n",
       "      <td>Mario Kart Wii</td>\n",
       "      <td>Wii</td>\n",
       "      <td>2008.0</td>\n",
       "      <td>Racing</td>\n",
       "      <td>15.68</td>\n",
       "      <td>12.76</td>\n",
       "      <td>3.79</td>\n",
       "      <td>3.29</td>\n",
       "      <td>82.0</td>\n",
       "      <td>8.3</td>\n",
       "      <td>E</td>\n",
       "    </tr>\n",
       "    <tr>\n",
       "      <th>3</th>\n",
       "      <td>Wii Sports Resort</td>\n",
       "      <td>Wii</td>\n",
       "      <td>2009.0</td>\n",
       "      <td>Sports</td>\n",
       "      <td>15.61</td>\n",
       "      <td>10.93</td>\n",
       "      <td>3.28</td>\n",
       "      <td>2.95</td>\n",
       "      <td>80.0</td>\n",
       "      <td>8</td>\n",
       "      <td>E</td>\n",
       "    </tr>\n",
       "    <tr>\n",
       "      <th>4</th>\n",
       "      <td>Pokemon Red/Pokemon Blue</td>\n",
       "      <td>GB</td>\n",
       "      <td>1996.0</td>\n",
       "      <td>Role-Playing</td>\n",
       "      <td>11.27</td>\n",
       "      <td>8.89</td>\n",
       "      <td>10.22</td>\n",
       "      <td>1.00</td>\n",
       "      <td>NaN</td>\n",
       "      <td>NaN</td>\n",
       "      <td>NaN</td>\n",
       "    </tr>\n",
       "    <tr>\n",
       "      <th>5</th>\n",
       "      <td>Tetris</td>\n",
       "      <td>GB</td>\n",
       "      <td>1989.0</td>\n",
       "      <td>Puzzle</td>\n",
       "      <td>23.20</td>\n",
       "      <td>2.26</td>\n",
       "      <td>4.22</td>\n",
       "      <td>0.58</td>\n",
       "      <td>NaN</td>\n",
       "      <td>NaN</td>\n",
       "      <td>NaN</td>\n",
       "    </tr>\n",
       "    <tr>\n",
       "      <th>6</th>\n",
       "      <td>New Super Mario Bros.</td>\n",
       "      <td>DS</td>\n",
       "      <td>2006.0</td>\n",
       "      <td>Platform</td>\n",
       "      <td>11.28</td>\n",
       "      <td>9.14</td>\n",
       "      <td>6.50</td>\n",
       "      <td>2.88</td>\n",
       "      <td>89.0</td>\n",
       "      <td>8.5</td>\n",
       "      <td>E</td>\n",
       "    </tr>\n",
       "    <tr>\n",
       "      <th>7</th>\n",
       "      <td>Wii Play</td>\n",
       "      <td>Wii</td>\n",
       "      <td>2006.0</td>\n",
       "      <td>Misc</td>\n",
       "      <td>13.96</td>\n",
       "      <td>9.18</td>\n",
       "      <td>2.93</td>\n",
       "      <td>2.84</td>\n",
       "      <td>58.0</td>\n",
       "      <td>6.6</td>\n",
       "      <td>E</td>\n",
       "    </tr>\n",
       "    <tr>\n",
       "      <th>8</th>\n",
       "      <td>New Super Mario Bros. Wii</td>\n",
       "      <td>Wii</td>\n",
       "      <td>2009.0</td>\n",
       "      <td>Platform</td>\n",
       "      <td>14.44</td>\n",
       "      <td>6.94</td>\n",
       "      <td>4.70</td>\n",
       "      <td>2.24</td>\n",
       "      <td>87.0</td>\n",
       "      <td>8.4</td>\n",
       "      <td>E</td>\n",
       "    </tr>\n",
       "    <tr>\n",
       "      <th>9</th>\n",
       "      <td>Duck Hunt</td>\n",
       "      <td>NES</td>\n",
       "      <td>1984.0</td>\n",
       "      <td>Shooter</td>\n",
       "      <td>26.93</td>\n",
       "      <td>0.63</td>\n",
       "      <td>0.28</td>\n",
       "      <td>0.47</td>\n",
       "      <td>NaN</td>\n",
       "      <td>NaN</td>\n",
       "      <td>NaN</td>\n",
       "    </tr>\n",
       "  </tbody>\n",
       "</table>\n",
       "</div>"
      ],
      "text/plain": [
       "                        Name Platform  Year_of_Release         Genre  \\\n",
       "0                 Wii Sports      Wii           2006.0        Sports   \n",
       "1          Super Mario Bros.      NES           1985.0      Platform   \n",
       "2             Mario Kart Wii      Wii           2008.0        Racing   \n",
       "3          Wii Sports Resort      Wii           2009.0        Sports   \n",
       "4   Pokemon Red/Pokemon Blue       GB           1996.0  Role-Playing   \n",
       "5                     Tetris       GB           1989.0        Puzzle   \n",
       "6      New Super Mario Bros.       DS           2006.0      Platform   \n",
       "7                   Wii Play      Wii           2006.0          Misc   \n",
       "8  New Super Mario Bros. Wii      Wii           2009.0      Platform   \n",
       "9                  Duck Hunt      NES           1984.0       Shooter   \n",
       "\n",
       "   NA_sales  EU_sales  JP_sales  Other_sales  Critic_Score User_Score Rating  \n",
       "0     41.36     28.96      3.77         8.45          76.0          8      E  \n",
       "1     29.08      3.58      6.81         0.77           NaN        NaN    NaN  \n",
       "2     15.68     12.76      3.79         3.29          82.0        8.3      E  \n",
       "3     15.61     10.93      3.28         2.95          80.0          8      E  \n",
       "4     11.27      8.89     10.22         1.00           NaN        NaN    NaN  \n",
       "5     23.20      2.26      4.22         0.58           NaN        NaN    NaN  \n",
       "6     11.28      9.14      6.50         2.88          89.0        8.5      E  \n",
       "7     13.96      9.18      2.93         2.84          58.0        6.6      E  \n",
       "8     14.44      6.94      4.70         2.24          87.0        8.4      E  \n",
       "9     26.93      0.63      0.28         0.47           NaN        NaN    NaN  "
      ]
     },
     "execution_count": 3,
     "metadata": {},
     "output_type": "execute_result"
    }
   ],
   "source": [
    "df.head(10) # выведем первые 10 строк"
   ]
  },
  {
   "cell_type": "code",
   "execution_count": 4,
   "id": "7d67adf5",
   "metadata": {},
   "outputs": [
    {
     "name": "stdout",
     "output_type": "stream",
     "text": [
      "<class 'pandas.core.frame.DataFrame'>\n",
      "RangeIndex: 16715 entries, 0 to 16714\n",
      "Data columns (total 11 columns):\n",
      " #   Column           Non-Null Count  Dtype  \n",
      "---  ------           --------------  -----  \n",
      " 0   Name             16713 non-null  object \n",
      " 1   Platform         16715 non-null  object \n",
      " 2   Year_of_Release  16446 non-null  float64\n",
      " 3   Genre            16713 non-null  object \n",
      " 4   NA_sales         16715 non-null  float64\n",
      " 5   EU_sales         16715 non-null  float64\n",
      " 6   JP_sales         16715 non-null  float64\n",
      " 7   Other_sales      16715 non-null  float64\n",
      " 8   Critic_Score     8137 non-null   float64\n",
      " 9   User_Score       10014 non-null  object \n",
      " 10  Rating           9949 non-null   object \n",
      "dtypes: float64(6), object(5)\n",
      "memory usage: 1.4+ MB\n"
     ]
    }
   ],
   "source": [
    "df.info() # получим общую информацию о данных"
   ]
  },
  {
   "cell_type": "markdown",
   "id": "addcc1dd",
   "metadata": {},
   "source": [
    "Согласно документации к данным:\n",
    "* `Name` — название игры\n",
    "* `Platform` — платформа\n",
    "* `Year_of_Release` — год выпуска\n",
    "* `Genre` — жанр игры\n",
    "* `NA_sales` — продажи в Северной Америке (миллионы проданных копий)\n",
    "* `EU_sales` — продажи в Европе (миллионы проданных копий)\n",
    "* `JP_sales` — продажи в Японии (миллионы проданных копий)\n",
    "* `Other_sales` — продажи в других странах (миллионы проданных копий)\n",
    "* `Critic_Score` — оценка критиков (максимум 100)\n",
    "* `User_Score` — оценка пользователей (максимум 10)\n",
    "* `Rating` — рейтинг от организации ESRB (англ. Entertainment Software Rating Board). Эта ассоциация определяет рейтинг компьютерных игр и присваивает им подходящую возрастную категорию."
   ]
  },
  {
   "cell_type": "markdown",
   "id": "5debc328",
   "metadata": {},
   "source": [
    "**Вывод:**\n",
    "\n",
    "В названиях столбцов имеются наршуния общепринятого стиля, в данных имеются пропуски и нужно рассмотреть варианты по их устранению, в некоторых столбцах целесобразно изменить типы данных. В колонках `name` и `genre` всего два пропущенных значения, скорее всего это связанно с ошибкой при заполнении данных. В колонках `critic_Score`(8578 пропусков), `user_Score`(6701 пропуск) и `rating`(6766 пропусков) присутствуют пропуски скорее всего из-за того, что эти игры вовсе не были оценены критиками, пользователями или рейтингом от организации ESRB. Пропуски в `Year_of_Release`(269 пропусков) скорее всего случайны и появились в результате заполнения данных, при этом у некотрых таких же играх только выпущенных на других платформах информация с годом выпуска имеется."
   ]
  },
  {
   "cell_type": "markdown",
   "id": "00d4d92c",
   "metadata": {},
   "source": [
    "# Подготовка данных"
   ]
  },
  {
   "cell_type": "markdown",
   "id": "c29a5bd7",
   "metadata": {},
   "source": [
    "## Замена названий столбцов"
   ]
  },
  {
   "cell_type": "markdown",
   "id": "039d7464",
   "metadata": {},
   "source": [
    "Приведем названия столбцов к нижнем регистру:"
   ]
  },
  {
   "cell_type": "code",
   "execution_count": 5,
   "id": "d57ff693",
   "metadata": {},
   "outputs": [],
   "source": [
    "df.columns = df.columns.str.lower()"
   ]
  },
  {
   "cell_type": "markdown",
   "id": "31995fe9",
   "metadata": {},
   "source": [
    "## Обработка пропусков"
   ]
  },
  {
   "cell_type": "markdown",
   "id": "41025498",
   "metadata": {},
   "source": [
    "**Проверим датасет на явные дубликаты:**"
   ]
  },
  {
   "cell_type": "code",
   "execution_count": 6,
   "id": "ce639a31",
   "metadata": {},
   "outputs": [
    {
     "data": {
      "text/plain": [
       "0"
      ]
     },
     "execution_count": 6,
     "metadata": {},
     "output_type": "execute_result"
    }
   ],
   "source": [
    "df.duplicated().sum()"
   ]
  },
  {
   "cell_type": "markdown",
   "id": "3c0b8a71",
   "metadata": {},
   "source": [
    "**Заполнение пропусков `name`**"
   ]
  },
  {
   "cell_type": "markdown",
   "id": "5c5c19c6",
   "metadata": {},
   "source": [
    "Заменим пропущенные значения в `name` на `unknown`:"
   ]
  },
  {
   "cell_type": "code",
   "execution_count": 7,
   "id": "0f12d502",
   "metadata": {},
   "outputs": [],
   "source": [
    "df['name'] = df['name'].fillna('unknown')"
   ]
  },
  {
   "cell_type": "markdown",
   "id": "5c0d2488",
   "metadata": {},
   "source": [
    "**Заполнение пропусков `year_of_release`**"
   ]
  },
  {
   "cell_type": "markdown",
   "id": "81975776",
   "metadata": {},
   "source": [
    "Заполним часть пропущенных значений столбца `year_of_release` с помощью методов `groupby()` и `transform()`, сгруппируем игры по названию, возьмем самый частотный год этой группы и заполним пропущенные значения  строк с таким же названием игры."
   ]
  },
  {
   "cell_type": "markdown",
   "id": "2b98a85c",
   "metadata": {},
   "source": [
    "Напишем функцию для нахождения часто встречающегося значения:"
   ]
  },
  {
   "cell_type": "code",
   "execution_count": 8,
   "id": "18b63a71",
   "metadata": {},
   "outputs": [],
   "source": [
    "def my_mode(s): \n",
    "    mode = s.mode()\n",
    "    if len(mode) > 0:\n",
    "        return mode[0]"
   ]
  },
  {
   "cell_type": "code",
   "execution_count": 9,
   "id": "a1f656cb",
   "metadata": {},
   "outputs": [],
   "source": [
    "df_transformed = df.groupby('name')['year_of_release'].transform(my_mode)"
   ]
  },
  {
   "cell_type": "code",
   "execution_count": 10,
   "id": "f687d6bc",
   "metadata": {},
   "outputs": [],
   "source": [
    "df['year_of_release'] = df['year_of_release'].fillna(df_transformed)"
   ]
  },
  {
   "cell_type": "markdown",
   "id": "d1bc3f5d",
   "metadata": {},
   "source": [
    "**Заполнение пропусков `genre`**"
   ]
  },
  {
   "cell_type": "markdown",
   "id": "61a08050",
   "metadata": {},
   "source": [
    "Заменим пропущенные значения в `genre` на `unknown`:"
   ]
  },
  {
   "cell_type": "code",
   "execution_count": 11,
   "id": "c6f4f446",
   "metadata": {},
   "outputs": [],
   "source": [
    "df['genre'] = df['genre'].fillna('unknown')"
   ]
  },
  {
   "cell_type": "markdown",
   "id": "dc9249ec",
   "metadata": {},
   "source": [
    "**Заполнение пропусков `critic_score`**"
   ]
  },
  {
   "cell_type": "markdown",
   "id": "15bec714",
   "metadata": {},
   "source": [
    "Заполним часть пропущенных значений столбца `critic_score` с помощью методов `groupby()` и `transform()`"
   ]
  },
  {
   "cell_type": "code",
   "execution_count": 12,
   "id": "6e8e7085",
   "metadata": {},
   "outputs": [],
   "source": [
    "df_transformed = df.groupby('name')['critic_score'].transform('median')\n",
    "df['critic_score'] = df['critic_score'].fillna(df_transformed)"
   ]
  },
  {
   "cell_type": "code",
   "execution_count": 13,
   "id": "bbab42a3",
   "metadata": {},
   "outputs": [
    {
     "data": {
      "text/plain": [
       "7617"
      ]
     },
     "execution_count": 13,
     "metadata": {},
     "output_type": "execute_result"
    }
   ],
   "source": [
    "df['critic_score'].isna().sum()"
   ]
  },
  {
   "cell_type": "markdown",
   "id": "9dc11a6c",
   "metadata": {},
   "source": [
    "**Заполнение пропусков `user_score`**"
   ]
  },
  {
   "cell_type": "markdown",
   "id": "283cb63c",
   "metadata": {},
   "source": [
    "В столбце `user_score` обнаружена обревеатура `tbd`(подлежит уточнению), скорее всего данные этих ячеек не были выгружены. Для того, чтобы проводить рассчеты и перевести даные в нужный тип заменим это значение на NaN:"
   ]
  },
  {
   "cell_type": "code",
   "execution_count": 14,
   "id": "041cb192",
   "metadata": {},
   "outputs": [],
   "source": [
    "df.loc[df['user_score']== 'tbd', 'user_score'] = np.nan"
   ]
  },
  {
   "cell_type": "code",
   "execution_count": 15,
   "id": "a00723b2",
   "metadata": {},
   "outputs": [],
   "source": [
    "df = df.astype({'user_score':'float64'}) # перевод типа данных из object в float64"
   ]
  },
  {
   "cell_type": "markdown",
   "id": "9a02edaf",
   "metadata": {},
   "source": [
    "Заполним часть пропущенных значений столбца `user_score` с помощью методов `groupby()` и `transform()`"
   ]
  },
  {
   "cell_type": "code",
   "execution_count": 16,
   "id": "8eeb0722",
   "metadata": {},
   "outputs": [],
   "source": [
    "df_transformed = df.groupby('name')['user_score'].transform('median')\n",
    "df['user_score'] = df['user_score'].fillna(df_transformed)"
   ]
  },
  {
   "cell_type": "markdown",
   "id": "9a2ac4b8",
   "metadata": {},
   "source": [
    "**Заполнение пропусков `rating`**"
   ]
  },
  {
   "cell_type": "markdown",
   "id": "dc7b302e",
   "metadata": {},
   "source": [
    "Заполним пропущенные значения столбца `rating` на `unknown` т.к. придумать логичную замену не представляется возможным."
   ]
  },
  {
   "cell_type": "code",
   "execution_count": 17,
   "id": "d87c03ab",
   "metadata": {},
   "outputs": [],
   "source": [
    "df['rating'] = df['rating'].fillna('unknown')"
   ]
  },
  {
   "cell_type": "markdown",
   "id": "61ca2ba8",
   "metadata": {},
   "source": [
    "## Подсчёт суммарных продаж по регионам"
   ]
  },
  {
   "cell_type": "markdown",
   "id": "eb25c43c",
   "metadata": {},
   "source": [
    "Сложим продажи по всем регионам и сохраним в новом столбце `sum_sales`"
   ]
  },
  {
   "cell_type": "code",
   "execution_count": 18,
   "id": "849cd804",
   "metadata": {},
   "outputs": [],
   "source": [
    "df['sum_sales'] = df[['na_sales','eu_sales','jp_sales', 'other_sales']].sum(axis = 1)"
   ]
  },
  {
   "cell_type": "markdown",
   "id": "d7744a2c",
   "metadata": {},
   "source": [
    "## Преобразование типов данных"
   ]
  },
  {
   "cell_type": "markdown",
   "id": "fc5e460d",
   "metadata": {},
   "source": [
    "В столбце  `year_of_release\t` целые числа, поэтому изменим тип данных на `Int64`"
   ]
  },
  {
   "cell_type": "code",
   "execution_count": 19,
   "id": "e4988ef7",
   "metadata": {},
   "outputs": [],
   "source": [
    "df = df.astype({'year_of_release':'Int64'})"
   ]
  },
  {
   "cell_type": "markdown",
   "id": "5ce5a197",
   "metadata": {},
   "source": [
    "**Вывод:**\n",
    "\n",
    "Заполнили пропуски во всех столбцах для которых получилось подобрать логичную замену, в столбцах `year_of_release`, `critic_score` и `user_score` получилось заполнить лишь часть пропущенных значений, остальные пропуски оставляем без изменений. Произвели рассчет суммарных продаж по всем регионам и превели данные к нужным типам."
   ]
  },
  {
   "cell_type": "markdown",
   "id": "f873afe2",
   "metadata": {},
   "source": [
    "# Исследовательский анализ данных"
   ]
  },
  {
   "cell_type": "markdown",
   "id": "7f49e012",
   "metadata": {},
   "source": [
    "## Анализ колличества выпускаемых игр по годам"
   ]
  },
  {
   "cell_type": "markdown",
   "id": "91989ecc",
   "metadata": {},
   "source": [
    "Построим столбчатую диаграмму выпуска игр по годам:"
   ]
  },
  {
   "cell_type": "code",
   "execution_count": 20,
   "id": "c5996a7f",
   "metadata": {},
   "outputs": [
    {
     "data": {
      "image/png": "[encoded data removed]",
      "text/plain": [
       "<Figure size 720x432 with 1 Axes>"
      ]
     },
     "metadata": {
      "needs_background": "light"
     },
     "output_type": "display_data"
    }
   ],
   "source": [
    "df.groupby('year_of_release')['name'].count().plot(kind='bar', figsize=(10,6), title='Выпуск игр по годам', \n",
    "                                                                               xlabel = 'Год', \n",
    "                                                                               ylabel = 'Количество выпущенных игр');"
   ]
  },
  {
   "cell_type": "markdown",
   "id": "42e8f368",
   "metadata": {},
   "source": [
    "Данными до 1995 года можно принебречь т.к. до этого года игр выпускалось очень мало и на общую картину исследования это не повлияет."
   ]
  },
  {
   "cell_type": "markdown",
   "id": "fbc4548b",
   "metadata": {},
   "source": [
    "## Анализ изменения продаж по платформам"
   ]
  },
  {
   "cell_type": "markdown",
   "id": "f2140f7c",
   "metadata": {},
   "source": [
    "Найдем топ 10 платформ по продажам:"
   ]
  },
  {
   "cell_type": "code",
   "execution_count": 21,
   "id": "8ee6ce22",
   "metadata": {},
   "outputs": [
    {
     "data": {
      "text/plain": [
       "platform\n",
       "PS2     1255.77\n",
       "X360     971.42\n",
       "PS3      939.65\n",
       "Wii      907.51\n",
       "DS       806.12\n",
       "PS       730.86\n",
       "GBA      317.85\n",
       "PS4      314.14\n",
       "PSP      294.05\n",
       "PC       259.52\n",
       "Name: sum_sales, dtype: float64"
      ]
     },
     "execution_count": 21,
     "metadata": {},
     "output_type": "execute_result"
    }
   ],
   "source": [
    "top_platform = df.groupby('platform')['sum_sales'].sum().sort_values(ascending=False).head(10)\n",
    "top_platform"
   ]
  },
  {
   "cell_type": "markdown",
   "id": "e36c5f5c",
   "metadata": {},
   "source": [
    "Отфильтруем из `df` строки с платформами из топ 10 и сохранм в переменной `top_platform`:"
   ]
  },
  {
   "cell_type": "code",
   "execution_count": 22,
   "id": "cfd482e0",
   "metadata": {},
   "outputs": [
    {
     "data": {
      "text/html": [
       "<div>\n",
       "<style scoped>\n",
       "    .dataframe tbody tr th:only-of-type {\n",
       "        vertical-align: middle;\n",
       "    }\n",
       "\n",
       "    .dataframe tbody tr th {\n",
       "        vertical-align: top;\n",
       "    }\n",
       "\n",
       "    .dataframe thead th {\n",
       "        text-align: right;\n",
       "    }\n",
       "</style>\n",
       "<table border=\"1\" class=\"dataframe\">\n",
       "  <thead>\n",
       "    <tr style=\"text-align: right;\">\n",
       "      <th></th>\n",
       "      <th>name</th>\n",
       "      <th>platform</th>\n",
       "      <th>year_of_release</th>\n",
       "      <th>genre</th>\n",
       "      <th>na_sales</th>\n",
       "      <th>eu_sales</th>\n",
       "      <th>jp_sales</th>\n",
       "      <th>other_sales</th>\n",
       "      <th>critic_score</th>\n",
       "      <th>user_score</th>\n",
       "      <th>rating</th>\n",
       "      <th>sum_sales</th>\n",
       "    </tr>\n",
       "  </thead>\n",
       "  <tbody>\n",
       "    <tr>\n",
       "      <th>0</th>\n",
       "      <td>Wii Sports</td>\n",
       "      <td>Wii</td>\n",
       "      <td>2006</td>\n",
       "      <td>Sports</td>\n",
       "      <td>41.36</td>\n",
       "      <td>28.96</td>\n",
       "      <td>3.77</td>\n",
       "      <td>8.45</td>\n",
       "      <td>76.0</td>\n",
       "      <td>8.0</td>\n",
       "      <td>E</td>\n",
       "      <td>82.54</td>\n",
       "    </tr>\n",
       "    <tr>\n",
       "      <th>2</th>\n",
       "      <td>Mario Kart Wii</td>\n",
       "      <td>Wii</td>\n",
       "      <td>2008</td>\n",
       "      <td>Racing</td>\n",
       "      <td>15.68</td>\n",
       "      <td>12.76</td>\n",
       "      <td>3.79</td>\n",
       "      <td>3.29</td>\n",
       "      <td>82.0</td>\n",
       "      <td>8.3</td>\n",
       "      <td>E</td>\n",
       "      <td>35.52</td>\n",
       "    </tr>\n",
       "    <tr>\n",
       "      <th>3</th>\n",
       "      <td>Wii Sports Resort</td>\n",
       "      <td>Wii</td>\n",
       "      <td>2009</td>\n",
       "      <td>Sports</td>\n",
       "      <td>15.61</td>\n",
       "      <td>10.93</td>\n",
       "      <td>3.28</td>\n",
       "      <td>2.95</td>\n",
       "      <td>80.0</td>\n",
       "      <td>8.0</td>\n",
       "      <td>E</td>\n",
       "      <td>32.77</td>\n",
       "    </tr>\n",
       "    <tr>\n",
       "      <th>6</th>\n",
       "      <td>New Super Mario Bros.</td>\n",
       "      <td>DS</td>\n",
       "      <td>2006</td>\n",
       "      <td>Platform</td>\n",
       "      <td>11.28</td>\n",
       "      <td>9.14</td>\n",
       "      <td>6.50</td>\n",
       "      <td>2.88</td>\n",
       "      <td>89.0</td>\n",
       "      <td>8.5</td>\n",
       "      <td>E</td>\n",
       "      <td>29.80</td>\n",
       "    </tr>\n",
       "    <tr>\n",
       "      <th>7</th>\n",
       "      <td>Wii Play</td>\n",
       "      <td>Wii</td>\n",
       "      <td>2006</td>\n",
       "      <td>Misc</td>\n",
       "      <td>13.96</td>\n",
       "      <td>9.18</td>\n",
       "      <td>2.93</td>\n",
       "      <td>2.84</td>\n",
       "      <td>58.0</td>\n",
       "      <td>6.6</td>\n",
       "      <td>E</td>\n",
       "      <td>28.91</td>\n",
       "    </tr>\n",
       "    <tr>\n",
       "      <th>...</th>\n",
       "      <td>...</td>\n",
       "      <td>...</td>\n",
       "      <td>...</td>\n",
       "      <td>...</td>\n",
       "      <td>...</td>\n",
       "      <td>...</td>\n",
       "      <td>...</td>\n",
       "      <td>...</td>\n",
       "      <td>...</td>\n",
       "      <td>...</td>\n",
       "      <td>...</td>\n",
       "      <td>...</td>\n",
       "    </tr>\n",
       "    <tr>\n",
       "      <th>16708</th>\n",
       "      <td>Woody Woodpecker in Crazy Castle 5</td>\n",
       "      <td>GBA</td>\n",
       "      <td>2002</td>\n",
       "      <td>Platform</td>\n",
       "      <td>0.01</td>\n",
       "      <td>0.00</td>\n",
       "      <td>0.00</td>\n",
       "      <td>0.00</td>\n",
       "      <td>NaN</td>\n",
       "      <td>NaN</td>\n",
       "      <td>unknown</td>\n",
       "      <td>0.01</td>\n",
       "    </tr>\n",
       "    <tr>\n",
       "      <th>16709</th>\n",
       "      <td>SCORE International Baja 1000: The Official Game</td>\n",
       "      <td>PS2</td>\n",
       "      <td>2008</td>\n",
       "      <td>Racing</td>\n",
       "      <td>0.00</td>\n",
       "      <td>0.00</td>\n",
       "      <td>0.00</td>\n",
       "      <td>0.00</td>\n",
       "      <td>NaN</td>\n",
       "      <td>NaN</td>\n",
       "      <td>unknown</td>\n",
       "      <td>0.00</td>\n",
       "    </tr>\n",
       "    <tr>\n",
       "      <th>16710</th>\n",
       "      <td>Samurai Warriors: Sanada Maru</td>\n",
       "      <td>PS3</td>\n",
       "      <td>2016</td>\n",
       "      <td>Action</td>\n",
       "      <td>0.00</td>\n",
       "      <td>0.00</td>\n",
       "      <td>0.01</td>\n",
       "      <td>0.00</td>\n",
       "      <td>NaN</td>\n",
       "      <td>NaN</td>\n",
       "      <td>unknown</td>\n",
       "      <td>0.01</td>\n",
       "    </tr>\n",
       "    <tr>\n",
       "      <th>16711</th>\n",
       "      <td>LMA Manager 2007</td>\n",
       "      <td>X360</td>\n",
       "      <td>2006</td>\n",
       "      <td>Sports</td>\n",
       "      <td>0.00</td>\n",
       "      <td>0.01</td>\n",
       "      <td>0.00</td>\n",
       "      <td>0.00</td>\n",
       "      <td>NaN</td>\n",
       "      <td>NaN</td>\n",
       "      <td>unknown</td>\n",
       "      <td>0.01</td>\n",
       "    </tr>\n",
       "    <tr>\n",
       "      <th>16713</th>\n",
       "      <td>Spirits &amp; Spells</td>\n",
       "      <td>GBA</td>\n",
       "      <td>2003</td>\n",
       "      <td>Platform</td>\n",
       "      <td>0.01</td>\n",
       "      <td>0.00</td>\n",
       "      <td>0.00</td>\n",
       "      <td>0.00</td>\n",
       "      <td>NaN</td>\n",
       "      <td>NaN</td>\n",
       "      <td>unknown</td>\n",
       "      <td>0.01</td>\n",
       "    </tr>\n",
       "  </tbody>\n",
       "</table>\n",
       "<p>12819 rows × 12 columns</p>\n",
       "</div>"
      ],
      "text/plain": [
       "                                                   name platform  \\\n",
       "0                                            Wii Sports      Wii   \n",
       "2                                        Mario Kart Wii      Wii   \n",
       "3                                     Wii Sports Resort      Wii   \n",
       "6                                 New Super Mario Bros.       DS   \n",
       "7                                              Wii Play      Wii   \n",
       "...                                                 ...      ...   \n",
       "16708                Woody Woodpecker in Crazy Castle 5      GBA   \n",
       "16709  SCORE International Baja 1000: The Official Game      PS2   \n",
       "16710                     Samurai Warriors: Sanada Maru      PS3   \n",
       "16711                                  LMA Manager 2007     X360   \n",
       "16713                                  Spirits & Spells      GBA   \n",
       "\n",
       "       year_of_release     genre  na_sales  eu_sales  jp_sales  other_sales  \\\n",
       "0                 2006    Sports     41.36     28.96      3.77         8.45   \n",
       "2                 2008    Racing     15.68     12.76      3.79         3.29   \n",
       "3                 2009    Sports     15.61     10.93      3.28         2.95   \n",
       "6                 2006  Platform     11.28      9.14      6.50         2.88   \n",
       "7                 2006      Misc     13.96      9.18      2.93         2.84   \n",
       "...                ...       ...       ...       ...       ...          ...   \n",
       "16708             2002  Platform      0.01      0.00      0.00         0.00   \n",
       "16709             2008    Racing      0.00      0.00      0.00         0.00   \n",
       "16710             2016    Action      0.00      0.00      0.01         0.00   \n",
       "16711             2006    Sports      0.00      0.01      0.00         0.00   \n",
       "16713             2003  Platform      0.01      0.00      0.00         0.00   \n",
       "\n",
       "       critic_score  user_score   rating  sum_sales  \n",
       "0              76.0         8.0        E      82.54  \n",
       "2              82.0         8.3        E      35.52  \n",
       "3              80.0         8.0        E      32.77  \n",
       "6              89.0         8.5        E      29.80  \n",
       "7              58.0         6.6        E      28.91  \n",
       "...             ...         ...      ...        ...  \n",
       "16708           NaN         NaN  unknown       0.01  \n",
       "16709           NaN         NaN  unknown       0.00  \n",
       "16710           NaN         NaN  unknown       0.01  \n",
       "16711           NaN         NaN  unknown       0.01  \n",
       "16713           NaN         NaN  unknown       0.01  \n",
       "\n",
       "[12819 rows x 12 columns]"
      ]
     },
     "execution_count": 22,
     "metadata": {},
     "output_type": "execute_result"
    }
   ],
   "source": [
    "top_platform = df[df['platform'].isin(top_platform.index)]\n",
    "top_platform"
   ]
  },
  {
   "cell_type": "markdown",
   "id": "b4c55af8",
   "metadata": {},
   "source": [
    "С помощью сводной таблицы построим распределение продаж по годам для топ 10 платформ:"
   ]
  },
  {
   "cell_type": "code",
   "execution_count": 23,
   "id": "473683e6",
   "metadata": {},
   "outputs": [
    {
     "data": {
      "image/png": "[encoded data removed]",
      "text/plain": [
       "<Figure size 648x504 with 1 Axes>"
      ]
     },
     "metadata": {
      "needs_background": "light"
     },
     "output_type": "display_data"
    }
   ],
   "source": [
    "top_platform.pivot_table(index = 'year_of_release', columns ='platform', \n",
    "                         values = 'sum_sales', aggfunc='sum').plot(figsize=(9,7), grid=True);"
   ]
  },
  {
   "cell_type": "markdown",
   "id": "df8475c2",
   "metadata": {},
   "source": [
    "На графике продаж игр для разных платформ по годам видно как новые модели сменяют старые во времени. Видно что игровые платформы в среднем пользуются популярностью по 8-10 лет, в момент перехода со старых платформ на новые продажи по старым платформам падают, а по новым растут."
   ]
  },
  {
   "cell_type": "markdown",
   "id": "8b472f2e",
   "metadata": {},
   "source": [
    "## Определение актуального периода"
   ]
  },
  {
   "cell_type": "markdown",
   "id": "da42c7cb",
   "metadata": {},
   "source": [
    "На основе предыдущих исследований определим актуальный период, считаю целесобразным взять период начиная с 2012 г т.к. с этого года значительно сократились выпуски и начали снижаться продажи игр. Считаю что данные с этого периода помогут построить более правдивый прогназ на 2017г"
   ]
  },
  {
   "cell_type": "markdown",
   "id": "d5a14cd3",
   "metadata": {},
   "source": [
    "Отфильтруем нужные строки и запишем в переменную `df1`"
   ]
  },
  {
   "cell_type": "code",
   "execution_count": 24,
   "id": "d500d069",
   "metadata": {},
   "outputs": [
    {
     "data": {
      "text/html": [
       "<div>\n",
       "<style scoped>\n",
       "    .dataframe tbody tr th:only-of-type {\n",
       "        vertical-align: middle;\n",
       "    }\n",
       "\n",
       "    .dataframe tbody tr th {\n",
       "        vertical-align: top;\n",
       "    }\n",
       "\n",
       "    .dataframe thead th {\n",
       "        text-align: right;\n",
       "    }\n",
       "</style>\n",
       "<table border=\"1\" class=\"dataframe\">\n",
       "  <thead>\n",
       "    <tr style=\"text-align: right;\">\n",
       "      <th></th>\n",
       "      <th>name</th>\n",
       "      <th>platform</th>\n",
       "      <th>year_of_release</th>\n",
       "      <th>genre</th>\n",
       "      <th>na_sales</th>\n",
       "      <th>eu_sales</th>\n",
       "      <th>jp_sales</th>\n",
       "      <th>other_sales</th>\n",
       "      <th>critic_score</th>\n",
       "      <th>user_score</th>\n",
       "      <th>rating</th>\n",
       "      <th>sum_sales</th>\n",
       "    </tr>\n",
       "  </thead>\n",
       "  <tbody>\n",
       "    <tr>\n",
       "      <th>0</th>\n",
       "      <td>Grand Theft Auto V</td>\n",
       "      <td>PS3</td>\n",
       "      <td>2013</td>\n",
       "      <td>Action</td>\n",
       "      <td>7.02</td>\n",
       "      <td>9.09</td>\n",
       "      <td>0.98</td>\n",
       "      <td>3.96</td>\n",
       "      <td>97.0</td>\n",
       "      <td>8.2</td>\n",
       "      <td>M</td>\n",
       "      <td>21.05</td>\n",
       "    </tr>\n",
       "    <tr>\n",
       "      <th>1</th>\n",
       "      <td>Grand Theft Auto V</td>\n",
       "      <td>X360</td>\n",
       "      <td>2013</td>\n",
       "      <td>Action</td>\n",
       "      <td>9.66</td>\n",
       "      <td>5.14</td>\n",
       "      <td>0.06</td>\n",
       "      <td>1.41</td>\n",
       "      <td>97.0</td>\n",
       "      <td>8.1</td>\n",
       "      <td>M</td>\n",
       "      <td>16.27</td>\n",
       "    </tr>\n",
       "    <tr>\n",
       "      <th>2</th>\n",
       "      <td>Call of Duty: Black Ops 3</td>\n",
       "      <td>PS4</td>\n",
       "      <td>2015</td>\n",
       "      <td>Shooter</td>\n",
       "      <td>6.03</td>\n",
       "      <td>5.86</td>\n",
       "      <td>0.36</td>\n",
       "      <td>2.38</td>\n",
       "      <td>NaN</td>\n",
       "      <td>NaN</td>\n",
       "      <td>unknown</td>\n",
       "      <td>14.63</td>\n",
       "    </tr>\n",
       "    <tr>\n",
       "      <th>3</th>\n",
       "      <td>Pokemon X/Pokemon Y</td>\n",
       "      <td>3DS</td>\n",
       "      <td>2013</td>\n",
       "      <td>Role-Playing</td>\n",
       "      <td>5.28</td>\n",
       "      <td>4.19</td>\n",
       "      <td>4.35</td>\n",
       "      <td>0.78</td>\n",
       "      <td>NaN</td>\n",
       "      <td>NaN</td>\n",
       "      <td>unknown</td>\n",
       "      <td>14.60</td>\n",
       "    </tr>\n",
       "    <tr>\n",
       "      <th>4</th>\n",
       "      <td>Call of Duty: Black Ops II</td>\n",
       "      <td>PS3</td>\n",
       "      <td>2012</td>\n",
       "      <td>Shooter</td>\n",
       "      <td>4.99</td>\n",
       "      <td>5.73</td>\n",
       "      <td>0.65</td>\n",
       "      <td>2.42</td>\n",
       "      <td>83.0</td>\n",
       "      <td>5.3</td>\n",
       "      <td>M</td>\n",
       "      <td>13.79</td>\n",
       "    </tr>\n",
       "    <tr>\n",
       "      <th>...</th>\n",
       "      <td>...</td>\n",
       "      <td>...</td>\n",
       "      <td>...</td>\n",
       "      <td>...</td>\n",
       "      <td>...</td>\n",
       "      <td>...</td>\n",
       "      <td>...</td>\n",
       "      <td>...</td>\n",
       "      <td>...</td>\n",
       "      <td>...</td>\n",
       "      <td>...</td>\n",
       "      <td>...</td>\n",
       "    </tr>\n",
       "    <tr>\n",
       "      <th>2894</th>\n",
       "      <td>Strawberry Nauts</td>\n",
       "      <td>PSV</td>\n",
       "      <td>2016</td>\n",
       "      <td>Adventure</td>\n",
       "      <td>0.00</td>\n",
       "      <td>0.00</td>\n",
       "      <td>0.01</td>\n",
       "      <td>0.00</td>\n",
       "      <td>NaN</td>\n",
       "      <td>NaN</td>\n",
       "      <td>unknown</td>\n",
       "      <td>0.01</td>\n",
       "    </tr>\n",
       "    <tr>\n",
       "      <th>2895</th>\n",
       "      <td>Aiyoku no Eustia</td>\n",
       "      <td>PSV</td>\n",
       "      <td>2014</td>\n",
       "      <td>Misc</td>\n",
       "      <td>0.00</td>\n",
       "      <td>0.00</td>\n",
       "      <td>0.01</td>\n",
       "      <td>0.00</td>\n",
       "      <td>NaN</td>\n",
       "      <td>NaN</td>\n",
       "      <td>unknown</td>\n",
       "      <td>0.01</td>\n",
       "    </tr>\n",
       "    <tr>\n",
       "      <th>2896</th>\n",
       "      <td>Samurai Warriors: Sanada Maru</td>\n",
       "      <td>PS3</td>\n",
       "      <td>2016</td>\n",
       "      <td>Action</td>\n",
       "      <td>0.00</td>\n",
       "      <td>0.00</td>\n",
       "      <td>0.01</td>\n",
       "      <td>0.00</td>\n",
       "      <td>NaN</td>\n",
       "      <td>NaN</td>\n",
       "      <td>unknown</td>\n",
       "      <td>0.01</td>\n",
       "    </tr>\n",
       "    <tr>\n",
       "      <th>2897</th>\n",
       "      <td>Haitaka no Psychedelica</td>\n",
       "      <td>PSV</td>\n",
       "      <td>2016</td>\n",
       "      <td>Adventure</td>\n",
       "      <td>0.00</td>\n",
       "      <td>0.00</td>\n",
       "      <td>0.01</td>\n",
       "      <td>0.00</td>\n",
       "      <td>NaN</td>\n",
       "      <td>NaN</td>\n",
       "      <td>unknown</td>\n",
       "      <td>0.01</td>\n",
       "    </tr>\n",
       "    <tr>\n",
       "      <th>2898</th>\n",
       "      <td>Winning Post 8 2016</td>\n",
       "      <td>PSV</td>\n",
       "      <td>2016</td>\n",
       "      <td>Simulation</td>\n",
       "      <td>0.00</td>\n",
       "      <td>0.00</td>\n",
       "      <td>0.01</td>\n",
       "      <td>0.00</td>\n",
       "      <td>NaN</td>\n",
       "      <td>NaN</td>\n",
       "      <td>unknown</td>\n",
       "      <td>0.01</td>\n",
       "    </tr>\n",
       "  </tbody>\n",
       "</table>\n",
       "<p>2899 rows × 12 columns</p>\n",
       "</div>"
      ],
      "text/plain": [
       "                               name platform  year_of_release         genre  \\\n",
       "0                Grand Theft Auto V      PS3             2013        Action   \n",
       "1                Grand Theft Auto V     X360             2013        Action   \n",
       "2         Call of Duty: Black Ops 3      PS4             2015       Shooter   \n",
       "3               Pokemon X/Pokemon Y      3DS             2013  Role-Playing   \n",
       "4        Call of Duty: Black Ops II      PS3             2012       Shooter   \n",
       "...                             ...      ...              ...           ...   \n",
       "2894               Strawberry Nauts      PSV             2016     Adventure   \n",
       "2895               Aiyoku no Eustia      PSV             2014          Misc   \n",
       "2896  Samurai Warriors: Sanada Maru      PS3             2016        Action   \n",
       "2897        Haitaka no Psychedelica      PSV             2016     Adventure   \n",
       "2898            Winning Post 8 2016      PSV             2016    Simulation   \n",
       "\n",
       "      na_sales  eu_sales  jp_sales  other_sales  critic_score  user_score  \\\n",
       "0         7.02      9.09      0.98         3.96          97.0         8.2   \n",
       "1         9.66      5.14      0.06         1.41          97.0         8.1   \n",
       "2         6.03      5.86      0.36         2.38           NaN         NaN   \n",
       "3         5.28      4.19      4.35         0.78           NaN         NaN   \n",
       "4         4.99      5.73      0.65         2.42          83.0         5.3   \n",
       "...        ...       ...       ...          ...           ...         ...   \n",
       "2894      0.00      0.00      0.01         0.00           NaN         NaN   \n",
       "2895      0.00      0.00      0.01         0.00           NaN         NaN   \n",
       "2896      0.00      0.00      0.01         0.00           NaN         NaN   \n",
       "2897      0.00      0.00      0.01         0.00           NaN         NaN   \n",
       "2898      0.00      0.00      0.01         0.00           NaN         NaN   \n",
       "\n",
       "       rating  sum_sales  \n",
       "0           M      21.05  \n",
       "1           M      16.27  \n",
       "2     unknown      14.63  \n",
       "3     unknown      14.60  \n",
       "4           M      13.79  \n",
       "...       ...        ...  \n",
       "2894  unknown       0.01  \n",
       "2895  unknown       0.01  \n",
       "2896  unknown       0.01  \n",
       "2897  unknown       0.01  \n",
       "2898  unknown       0.01  \n",
       "\n",
       "[2899 rows x 12 columns]"
      ]
     },
     "execution_count": 24,
     "metadata": {},
     "output_type": "execute_result"
    }
   ],
   "source": [
    "df1= df[df['year_of_release'] >= 2012]\n",
    "df1.reset_index(drop=True)"
   ]
  },
  {
   "cell_type": "code",
   "execution_count": 25,
   "id": "c32c6e47",
   "metadata": {},
   "outputs": [
    {
     "data": {
      "text/html": [
       "<div>\n",
       "<style scoped>\n",
       "    .dataframe tbody tr th:only-of-type {\n",
       "        vertical-align: middle;\n",
       "    }\n",
       "\n",
       "    .dataframe tbody tr th {\n",
       "        vertical-align: top;\n",
       "    }\n",
       "\n",
       "    .dataframe thead th {\n",
       "        text-align: right;\n",
       "    }\n",
       "</style>\n",
       "<table border=\"1\" class=\"dataframe\">\n",
       "  <thead>\n",
       "    <tr style=\"text-align: right;\">\n",
       "      <th>platform</th>\n",
       "      <th>3DS</th>\n",
       "      <th>DS</th>\n",
       "      <th>PC</th>\n",
       "      <th>PS3</th>\n",
       "      <th>PS4</th>\n",
       "      <th>PSP</th>\n",
       "      <th>PSV</th>\n",
       "      <th>Wii</th>\n",
       "      <th>WiiU</th>\n",
       "      <th>X360</th>\n",
       "      <th>XOne</th>\n",
       "    </tr>\n",
       "    <tr>\n",
       "      <th>year_of_release</th>\n",
       "      <th></th>\n",
       "      <th></th>\n",
       "      <th></th>\n",
       "      <th></th>\n",
       "      <th></th>\n",
       "      <th></th>\n",
       "      <th></th>\n",
       "      <th></th>\n",
       "      <th></th>\n",
       "      <th></th>\n",
       "      <th></th>\n",
       "    </tr>\n",
       "  </thead>\n",
       "  <tbody>\n",
       "    <tr>\n",
       "      <th>2012</th>\n",
       "      <td>51.76</td>\n",
       "      <td>11.67</td>\n",
       "      <td>23.45</td>\n",
       "      <td>108.28</td>\n",
       "      <td>NaN</td>\n",
       "      <td>7.95</td>\n",
       "      <td>16.19</td>\n",
       "      <td>22.94</td>\n",
       "      <td>17.56</td>\n",
       "      <td>100.72</td>\n",
       "      <td>NaN</td>\n",
       "    </tr>\n",
       "    <tr>\n",
       "      <th>2013</th>\n",
       "      <td>56.57</td>\n",
       "      <td>1.54</td>\n",
       "      <td>13.01</td>\n",
       "      <td>113.25</td>\n",
       "      <td>25.99</td>\n",
       "      <td>3.38</td>\n",
       "      <td>10.59</td>\n",
       "      <td>8.59</td>\n",
       "      <td>21.65</td>\n",
       "      <td>88.58</td>\n",
       "      <td>18.96</td>\n",
       "    </tr>\n",
       "    <tr>\n",
       "      <th>2014</th>\n",
       "      <td>43.76</td>\n",
       "      <td>NaN</td>\n",
       "      <td>13.28</td>\n",
       "      <td>47.76</td>\n",
       "      <td>100.00</td>\n",
       "      <td>0.24</td>\n",
       "      <td>11.90</td>\n",
       "      <td>3.75</td>\n",
       "      <td>22.03</td>\n",
       "      <td>34.74</td>\n",
       "      <td>54.07</td>\n",
       "    </tr>\n",
       "    <tr>\n",
       "      <th>2015</th>\n",
       "      <td>27.78</td>\n",
       "      <td>NaN</td>\n",
       "      <td>8.52</td>\n",
       "      <td>16.82</td>\n",
       "      <td>118.90</td>\n",
       "      <td>0.12</td>\n",
       "      <td>6.25</td>\n",
       "      <td>1.14</td>\n",
       "      <td>16.35</td>\n",
       "      <td>11.96</td>\n",
       "      <td>60.14</td>\n",
       "    </tr>\n",
       "    <tr>\n",
       "      <th>2016</th>\n",
       "      <td>15.14</td>\n",
       "      <td>NaN</td>\n",
       "      <td>5.25</td>\n",
       "      <td>3.60</td>\n",
       "      <td>69.25</td>\n",
       "      <td>NaN</td>\n",
       "      <td>4.25</td>\n",
       "      <td>0.18</td>\n",
       "      <td>4.60</td>\n",
       "      <td>1.52</td>\n",
       "      <td>26.15</td>\n",
       "    </tr>\n",
       "  </tbody>\n",
       "</table>\n",
       "</div>"
      ],
      "text/plain": [
       "platform           3DS     DS     PC     PS3     PS4   PSP    PSV    Wii  \\\n",
       "year_of_release                                                            \n",
       "2012             51.76  11.67  23.45  108.28     NaN  7.95  16.19  22.94   \n",
       "2013             56.57   1.54  13.01  113.25   25.99  3.38  10.59   8.59   \n",
       "2014             43.76    NaN  13.28   47.76  100.00  0.24  11.90   3.75   \n",
       "2015             27.78    NaN   8.52   16.82  118.90  0.12   6.25   1.14   \n",
       "2016             15.14    NaN   5.25    3.60   69.25   NaN   4.25   0.18   \n",
       "\n",
       "platform          WiiU    X360   XOne  \n",
       "year_of_release                        \n",
       "2012             17.56  100.72    NaN  \n",
       "2013             21.65   88.58  18.96  \n",
       "2014             22.03   34.74  54.07  \n",
       "2015             16.35   11.96  60.14  \n",
       "2016              4.60    1.52  26.15  "
      ]
     },
     "execution_count": 25,
     "metadata": {},
     "output_type": "execute_result"
    }
   ],
   "source": [
    "df1.pivot_table(index = 'year_of_release', columns = 'platform', \n",
    "                values = 'sum_sales', aggfunc = 'sum')"
   ]
  },
  {
   "cell_type": "code",
   "execution_count": 26,
   "id": "0d183c1a",
   "metadata": {},
   "outputs": [
    {
     "data": {
      "image/png": "[encoded data removed]",
      "text/plain": [
       "<Figure size 648x504 with 1 Axes>"
      ]
     },
     "metadata": {
      "needs_background": "light"
     },
     "output_type": "display_data"
    }
   ],
   "source": [
    "df1.pivot_table(index = 'year_of_release', columns = 'platform', \n",
    "                values = 'sum_sales', aggfunc = 'sum').plot(grid = True, figsize = (9,7), title='Суммарные продажи за 2012-2016');"
   ]
  },
  {
   "cell_type": "markdown",
   "id": "23f36642",
   "metadata": {},
   "source": [
    "Потенциально прибыльные платформы PS4 и XOne, эти две платформы с 2014 по 2015 были самыми популярными на рынке, после 2015 продажи начали падать, но по сравнению с остальными платформами не значительно.Остальные платформы к 2016г значительно утратили популярность. Так же есть платформы, которые имеют небольшие продажи, но без сильных перепадов. Например, PC. Соответственно, при планировании 2017 их не стоит отбрасывать: они обеспечивают небольшую долю, но стабильно. "
   ]
  },
  {
   "cell_type": "markdown",
   "id": "23a47803",
   "metadata": {},
   "source": [
    "## Ящик с усами глобальных продаж по платформам"
   ]
  },
  {
   "cell_type": "markdown",
   "id": "510d8814",
   "metadata": {},
   "source": [
    "Построим диаграмму размаха глобальных продаж игр по разным платформам:"
   ]
  },
  {
   "cell_type": "code",
   "execution_count": 27,
   "id": "d34bc645",
   "metadata": {},
   "outputs": [
    {
     "data": {
      "image/png": "[encoded data removed]",
      "text/plain": [
       "<Figure size 1080x504 with 1 Axes>"
      ]
     },
     "metadata": {
      "needs_background": "light"
     },
     "output_type": "display_data"
    }
   ],
   "source": [
    "df1.boxplot(column='sum_sales', by = 'platform', figsize=(15,7));\n"
   ]
  },
  {
   "cell_type": "code",
   "execution_count": 28,
   "id": "06ff055b",
   "metadata": {},
   "outputs": [
    {
     "data": {
      "text/plain": [
       "(0.0, 2.0)"
      ]
     },
     "execution_count": 28,
     "metadata": {},
     "output_type": "execute_result"
    },
    {
     "data": {
      "image/png": "[encoded data removed]",
      "text/plain": [
       "<Figure size 1080x504 with 1 Axes>"
      ]
     },
     "metadata": {
      "needs_background": "light"
     },
     "output_type": "display_data"
    }
   ],
   "source": [
    "df1.boxplot(column='sum_sales', by = 'platform', figsize=(15,7))\n",
    "plt.ylim(0,2)"
   ]
  },
  {
   "cell_type": "markdown",
   "id": "64c4d1ea",
   "metadata": {},
   "source": [
    "Получим числовое описание данных:"
   ]
  },
  {
   "cell_type": "code",
   "execution_count": 29,
   "id": "5a70226f",
   "metadata": {},
   "outputs": [
    {
     "data": {
      "text/html": [
       "<div>\n",
       "<style scoped>\n",
       "    .dataframe tbody tr th:only-of-type {\n",
       "        vertical-align: middle;\n",
       "    }\n",
       "\n",
       "    .dataframe tbody tr th {\n",
       "        vertical-align: top;\n",
       "    }\n",
       "\n",
       "    .dataframe thead th {\n",
       "        text-align: right;\n",
       "    }\n",
       "</style>\n",
       "<table border=\"1\" class=\"dataframe\">\n",
       "  <thead>\n",
       "    <tr style=\"text-align: right;\">\n",
       "      <th></th>\n",
       "      <th>count</th>\n",
       "      <th>mean</th>\n",
       "      <th>std</th>\n",
       "      <th>min</th>\n",
       "      <th>25%</th>\n",
       "      <th>50%</th>\n",
       "      <th>75%</th>\n",
       "      <th>max</th>\n",
       "    </tr>\n",
       "    <tr>\n",
       "      <th>platform</th>\n",
       "      <th></th>\n",
       "      <th></th>\n",
       "      <th></th>\n",
       "      <th></th>\n",
       "      <th></th>\n",
       "      <th></th>\n",
       "      <th></th>\n",
       "      <th></th>\n",
       "    </tr>\n",
       "  </thead>\n",
       "  <tbody>\n",
       "    <tr>\n",
       "      <th>3DS</th>\n",
       "      <td>397.0</td>\n",
       "      <td>0.491209</td>\n",
       "      <td>1.385416</td>\n",
       "      <td>0.01</td>\n",
       "      <td>0.040</td>\n",
       "      <td>0.11</td>\n",
       "      <td>0.320</td>\n",
       "      <td>14.60</td>\n",
       "    </tr>\n",
       "    <tr>\n",
       "      <th>DS</th>\n",
       "      <td>32.0</td>\n",
       "      <td>0.412812</td>\n",
       "      <td>1.416559</td>\n",
       "      <td>0.01</td>\n",
       "      <td>0.020</td>\n",
       "      <td>0.05</td>\n",
       "      <td>0.195</td>\n",
       "      <td>8.06</td>\n",
       "    </tr>\n",
       "    <tr>\n",
       "      <th>PC</th>\n",
       "      <td>255.0</td>\n",
       "      <td>0.249059</td>\n",
       "      <td>0.490149</td>\n",
       "      <td>0.01</td>\n",
       "      <td>0.030</td>\n",
       "      <td>0.08</td>\n",
       "      <td>0.240</td>\n",
       "      <td>5.14</td>\n",
       "    </tr>\n",
       "    <tr>\n",
       "      <th>PS3</th>\n",
       "      <td>494.0</td>\n",
       "      <td>0.586457</td>\n",
       "      <td>1.461448</td>\n",
       "      <td>0.01</td>\n",
       "      <td>0.050</td>\n",
       "      <td>0.20</td>\n",
       "      <td>0.610</td>\n",
       "      <td>21.05</td>\n",
       "    </tr>\n",
       "    <tr>\n",
       "      <th>PS4</th>\n",
       "      <td>392.0</td>\n",
       "      <td>0.801378</td>\n",
       "      <td>1.609456</td>\n",
       "      <td>0.01</td>\n",
       "      <td>0.060</td>\n",
       "      <td>0.20</td>\n",
       "      <td>0.730</td>\n",
       "      <td>14.63</td>\n",
       "    </tr>\n",
       "    <tr>\n",
       "      <th>PSP</th>\n",
       "      <td>175.0</td>\n",
       "      <td>0.066800</td>\n",
       "      <td>0.073594</td>\n",
       "      <td>0.01</td>\n",
       "      <td>0.020</td>\n",
       "      <td>0.04</td>\n",
       "      <td>0.090</td>\n",
       "      <td>0.36</td>\n",
       "    </tr>\n",
       "    <tr>\n",
       "      <th>PSV</th>\n",
       "      <td>411.0</td>\n",
       "      <td>0.119659</td>\n",
       "      <td>0.203011</td>\n",
       "      <td>0.01</td>\n",
       "      <td>0.020</td>\n",
       "      <td>0.05</td>\n",
       "      <td>0.120</td>\n",
       "      <td>1.96</td>\n",
       "    </tr>\n",
       "    <tr>\n",
       "      <th>Wii</th>\n",
       "      <td>55.0</td>\n",
       "      <td>0.665455</td>\n",
       "      <td>1.157206</td>\n",
       "      <td>0.01</td>\n",
       "      <td>0.065</td>\n",
       "      <td>0.18</td>\n",
       "      <td>0.790</td>\n",
       "      <td>6.76</td>\n",
       "    </tr>\n",
       "    <tr>\n",
       "      <th>WiiU</th>\n",
       "      <td>147.0</td>\n",
       "      <td>0.559116</td>\n",
       "      <td>1.058836</td>\n",
       "      <td>0.01</td>\n",
       "      <td>0.080</td>\n",
       "      <td>0.22</td>\n",
       "      <td>0.525</td>\n",
       "      <td>7.09</td>\n",
       "    </tr>\n",
       "    <tr>\n",
       "      <th>X360</th>\n",
       "      <td>294.0</td>\n",
       "      <td>0.807891</td>\n",
       "      <td>1.706880</td>\n",
       "      <td>0.01</td>\n",
       "      <td>0.100</td>\n",
       "      <td>0.31</td>\n",
       "      <td>0.870</td>\n",
       "      <td>16.27</td>\n",
       "    </tr>\n",
       "    <tr>\n",
       "      <th>XOne</th>\n",
       "      <td>247.0</td>\n",
       "      <td>0.645020</td>\n",
       "      <td>1.036139</td>\n",
       "      <td>0.01</td>\n",
       "      <td>0.060</td>\n",
       "      <td>0.22</td>\n",
       "      <td>0.685</td>\n",
       "      <td>7.39</td>\n",
       "    </tr>\n",
       "  </tbody>\n",
       "</table>\n",
       "</div>"
      ],
      "text/plain": [
       "          count      mean       std   min    25%   50%    75%    max\n",
       "platform                                                            \n",
       "3DS       397.0  0.491209  1.385416  0.01  0.040  0.11  0.320  14.60\n",
       "DS         32.0  0.412812  1.416559  0.01  0.020  0.05  0.195   8.06\n",
       "PC        255.0  0.249059  0.490149  0.01  0.030  0.08  0.240   5.14\n",
       "PS3       494.0  0.586457  1.461448  0.01  0.050  0.20  0.610  21.05\n",
       "PS4       392.0  0.801378  1.609456  0.01  0.060  0.20  0.730  14.63\n",
       "PSP       175.0  0.066800  0.073594  0.01  0.020  0.04  0.090   0.36\n",
       "PSV       411.0  0.119659  0.203011  0.01  0.020  0.05  0.120   1.96\n",
       "Wii        55.0  0.665455  1.157206  0.01  0.065  0.18  0.790   6.76\n",
       "WiiU      147.0  0.559116  1.058836  0.01  0.080  0.22  0.525   7.09\n",
       "X360      294.0  0.807891  1.706880  0.01  0.100  0.31  0.870  16.27\n",
       "XOne      247.0  0.645020  1.036139  0.01  0.060  0.22  0.685   7.39"
      ]
     },
     "execution_count": 29,
     "metadata": {},
     "output_type": "execute_result"
    }
   ],
   "source": [
    "df1.groupby('platform')['sum_sales'].describe()"
   ]
  },
  {
   "cell_type": "markdown",
   "id": "e52271a4",
   "metadata": {},
   "source": [
    "На 'ящике с усами' видно большие разбросы данных по некоторым платформам, это это может означать рекордные продажи по некторым популярным играм в исследуемый период времени. По платформам ` 3DS` `PS3` `PS4` `X360` `XOne` наблюдаются выбросы т.е. рекордные продажи по некоторым играм, это может говорить о том, что эти платформы были популярны и на них выходило много игр пользующихся успехом. По платформам `DS` `PSP` `PSV` меньше выбросов, это может значить, что игры для этих платформ не продавались в рекордных количествах в исследуемый период времени. Так же можем выделить несколько платформ с высокими глобальными продажами : `PS3` `PS4` `Wii` `WiiU` `X360` `XOne`, игры на платформу `X360` являются наиболее продаваемыми."
   ]
  },
  {
   "cell_type": "markdown",
   "id": "c1bb9d85",
   "metadata": {},
   "source": [
    "## Анализ влияния отзывов пользователей и критиков на продажи внутри одной популярной платформы и внутри других платформ"
   ]
  },
  {
   "cell_type": "markdown",
   "id": "fdba0ab8",
   "metadata": {},
   "source": [
    "Найдем самую популярную платформу с 2012г по 2016г:"
   ]
  },
  {
   "cell_type": "code",
   "execution_count": 30,
   "id": "1e40346e",
   "metadata": {},
   "outputs": [
    {
     "data": {
      "text/plain": [
       "platform\n",
       "PS4     314.14\n",
       "PS3     289.71\n",
       "X360    237.52\n",
       "3DS     195.01\n",
       "XOne    159.32\n",
       "WiiU     82.19\n",
       "PC       63.51\n",
       "PSV      49.18\n",
       "Wii      36.60\n",
       "DS       13.21\n",
       "PSP      11.69\n",
       "Name: sum_sales, dtype: float64"
      ]
     },
     "execution_count": 30,
     "metadata": {},
     "output_type": "execute_result"
    }
   ],
   "source": [
    "df1.groupby('platform')['sum_sales'].sum().sort_values(ascending=False)"
   ]
  },
  {
   "cell_type": "markdown",
   "id": "421a7833",
   "metadata": {},
   "source": [
    "Самые большие продажи игр на платформу `PS4`, отфильтруем из df1 строки с этой платформой:"
   ]
  },
  {
   "cell_type": "code",
   "execution_count": 31,
   "id": "a3c6bec0",
   "metadata": {},
   "outputs": [],
   "source": [
    "ps_4 = df1.query('platform == \"PS4\"')"
   ]
  },
  {
   "cell_type": "markdown",
   "id": "b22a5ea0",
   "metadata": {},
   "source": [
    "Сохраним в отдельный датасет игры выпущеные на всех платформах `кроме PS4`:"
   ]
  },
  {
   "cell_type": "code",
   "execution_count": 32,
   "id": "c05f8e69",
   "metadata": {},
   "outputs": [],
   "source": [
    "other_pl = df1.query('platform != \"PS4\"')"
   ]
  },
  {
   "cell_type": "markdown",
   "id": "8d9c82d0",
   "metadata": {},
   "source": [
    "### Анализ влияния отзывов критиков на продажи игр внутри платформы PS4 и внутри других платформ"
   ]
  },
  {
   "cell_type": "markdown",
   "id": "b1298647",
   "metadata": {},
   "source": [
    "Построим диаграмму рассеяния по `critic_score` и `sum_sales` для анализа влияния отзывов критиков на продажи:"
   ]
  },
  {
   "cell_type": "code",
   "execution_count": 33,
   "id": "054edb57",
   "metadata": {},
   "outputs": [
    {
     "data": {
      "image/png": "[encoded data removed]",
      "text/plain": [
       "<Figure size 1080x288 with 2 Axes>"
      ]
     },
     "metadata": {
      "needs_background": "light"
     },
     "output_type": "display_data"
    }
   ],
   "source": [
    "fig, axes = plt.subplots(1,2, figsize=(15,4))\n",
    "\n",
    "ps_4.plot(ax=axes[0], kind='scatter',x='critic_score', y = 'sum_sales', grid=True);\n",
    "other_pl.plot(ax=axes[1], kind='scatter',x='critic_score', y = 'sum_sales', grid=True);\n",
    "\n",
    "axes[0].set_title('Влияние отзывов критиков на продажи игр для платформы PS4')\n",
    "axes[1].set_title('Влияние отзывов критиков на продажи игр для других платформ')\n",
    "\n",
    "plt.show()"
   ]
  },
  {
   "cell_type": "markdown",
   "id": "17bf3ffd",
   "metadata": {},
   "source": [
    "Посмотрим на корреляцию отзывов критиков и продаж внутри платформы PS4:"
   ]
  },
  {
   "cell_type": "code",
   "execution_count": 34,
   "id": "f95e7047",
   "metadata": {},
   "outputs": [
    {
     "data": {
      "text/plain": [
       "0.39088993631173546"
      ]
     },
     "execution_count": 34,
     "metadata": {},
     "output_type": "execute_result"
    }
   ],
   "source": [
    "ps_4['critic_score'].corr(ps_4['sum_sales'])"
   ]
  },
  {
   "cell_type": "markdown",
   "id": "179264b2",
   "metadata": {},
   "source": [
    "Посмотрим на корреляцию отзывов критиков и продаж внутри других платформ:"
   ]
  },
  {
   "cell_type": "code",
   "execution_count": 35,
   "id": "73fec8c5",
   "metadata": {},
   "outputs": [
    {
     "data": {
      "text/plain": [
       "0.269069502603141"
      ]
     },
     "execution_count": 35,
     "metadata": {},
     "output_type": "execute_result"
    }
   ],
   "source": [
    "other_pl['critic_score'].corr(other_pl['sum_sales'])"
   ]
  },
  {
   "cell_type": "markdown",
   "id": "16dba8f4",
   "metadata": {},
   "source": [
    "На основе диаграммы рассеяния и корреляция можно сказать, что взаимосвязь между отзывами критиков и продажами внутри платформы `PS4`имеется, её можно интерпретировать как - среднюю. Взаимосвязь между отзывами критиков и продажами внутри других платформ так же имеется, но она слабее и её можно охарактеризовать как - слабую."
   ]
  },
  {
   "cell_type": "markdown",
   "id": "927b86c8",
   "metadata": {},
   "source": [
    "### Анализ влияния отзывов пользователей на продажи игр внутри платформы PS4 и внутри других платформ"
   ]
  },
  {
   "cell_type": "markdown",
   "id": "6b6487af",
   "metadata": {},
   "source": [
    "Построим диаграмму рассеяния по `user_score` и `sum_sales` для анализа влияния отзывов пользователей на продажи:"
   ]
  },
  {
   "cell_type": "code",
   "execution_count": 36,
   "id": "cbaacdf0",
   "metadata": {},
   "outputs": [
    {
     "data": {
      "image/png": "[encoded data removed]",
      "text/plain": [
       "<Figure size 1080x288 with 2 Axes>"
      ]
     },
     "metadata": {
      "needs_background": "light"
     },
     "output_type": "display_data"
    }
   ],
   "source": [
    "fig, axes = plt.subplots(1,2, figsize=(15,4))\n",
    "\n",
    "ps_4.plot(ax=axes[0], kind='scatter',x='user_score', y = 'sum_sales', grid=True);\n",
    "other_pl.plot(ax=axes[1], kind='scatter',x='user_score', y = 'sum_sales', grid=True);\n",
    "\n",
    "axes[0].set_title('Влияние отзывов пользователей на продажи игр для платформы PS4')\n",
    "axes[1].set_title('Влияние отзывов пользователей на продажи игр для других платформ')\n",
    "\n",
    "plt.show()"
   ]
  },
  {
   "cell_type": "markdown",
   "id": "7c290169",
   "metadata": {},
   "source": [
    "Посмотрим на корреляцию отзывов пользователей и продаж внутри платформы PS4:"
   ]
  },
  {
   "cell_type": "code",
   "execution_count": 37,
   "id": "dd7987d8",
   "metadata": {},
   "outputs": [
    {
     "data": {
      "text/plain": [
       "-0.02086201340247838"
      ]
     },
     "execution_count": 37,
     "metadata": {},
     "output_type": "execute_result"
    }
   ],
   "source": [
    "ps_4['user_score'].corr(ps_4['sum_sales'])"
   ]
  },
  {
   "cell_type": "markdown",
   "id": "9816fb8d",
   "metadata": {},
   "source": [
    "Посмотрим на корреляцию отзывов пользователей и продаж внутри пдругих платформ:"
   ]
  },
  {
   "cell_type": "code",
   "execution_count": 38,
   "id": "6edff78a",
   "metadata": {},
   "outputs": [
    {
     "data": {
      "text/plain": [
       "0.016944981497683757"
      ]
     },
     "execution_count": 38,
     "metadata": {},
     "output_type": "execute_result"
    }
   ],
   "source": [
    "other_pl['user_score'].corr(other_pl['sum_sales'])"
   ]
  },
  {
   "cell_type": "markdown",
   "id": "96ef4ff1",
   "metadata": {},
   "source": [
    "На основе диаграммы рассеяния и корреляции можно сказать, что взаимосвязь между отзывами пользователей и продажами игр внутри платформы PS4 отсутствует, внутри других платформ зависимость так же отсутствует."
   ]
  },
  {
   "cell_type": "markdown",
   "id": "ef832b2a",
   "metadata": {},
   "source": [
    " ## Анализ распределения по жанрам"
   ]
  },
  {
   "cell_type": "markdown",
   "id": "a03e3edd",
   "metadata": {},
   "source": [
    "Построим столбчатую диаграмму медианных продаж по жанрам:"
   ]
  },
  {
   "cell_type": "code",
   "execution_count": 40,
   "id": "8f886c71",
   "metadata": {},
   "outputs": [
    {
     "data": {
      "image/png": "[encoded data removed]",
      "text/plain": [
       "<Figure size 936x432 with 1 Axes>"
      ]
     },
     "metadata": {
      "needs_background": "light"
     },
     "output_type": "display_data"
    }
   ],
   "source": [
    "df1.groupby('genre')['sum_sales'].median().plot(kind='bar', title = 'Медианные значения продаж по жанрам', figsize=(13,6));"
   ]
  },
  {
   "cell_type": "markdown",
   "id": "1162bc15",
   "metadata": {},
   "source": [
    " Самым продаваемым и популярным жанром является `Shooter`, к высокоприбыльными можно отнести `Platform` `sports`. "
   ]
  },
  {
   "cell_type": "markdown",
   "id": "ca12dd10",
   "metadata": {},
   "source": [
    "**Вывод:**\n",
    "\n",
    "При анализе выпущенных по всем имеющимся годам определили, что с 2001 по 2011 год наблюдался пик выпуска игр, самой популярной платформой до 2016г была PS2. На графике продаж игр для разных платформ наблюдается явный явный переход со старых платформ на новые, за актуальный пириод было решено взять данные с 2012г т.к. в предыдущие годы были резкие всплески выпуска игр и это могло привести к ложным результатам при прогнозе на 2017г. С 2012г по 2016г самой популярной платформой была PS4,  ящик с усами показал, что по некоторым играм были рекордные продажи, на ящике с усами видно как по некоторым играм были рекордные продажи. Так же было доказанно, что отзывы критиков влияют на продажи внутри одной из платформ, а отзывы пользователей никак не связаны с продажами. Самым продаваемым жанром является `Shooter`, меньше всего продавались жанры `Adveture` и `Puzzle`."
   ]
  },
  {
   "cell_type": "markdown",
   "id": "99caaa5c",
   "metadata": {},
   "source": [
    "# Портрет пользователей по регионам"
   ]
  },
  {
   "cell_type": "markdown",
   "id": "e0d15b43",
   "metadata": {},
   "source": [
    "## Самые популярные платформы по регионам"
   ]
  },
  {
   "cell_type": "markdown",
   "id": "77d8640f",
   "metadata": {},
   "source": [
    "Построим столбчатую диаграмму ТОП 5 популярных платформ для каждого региона:"
   ]
  },
  {
   "cell_type": "code",
   "execution_count": 41,
   "id": "2318c939",
   "metadata": {},
   "outputs": [
    {
     "data": {
      "image/png": "[encoded data removed]",
      "text/plain": [
       "<Figure size 1080x432 with 3 Axes>"
      ]
     },
     "metadata": {
      "needs_background": "light"
     },
     "output_type": "display_data"
    }
   ],
   "source": [
    "fig, axes = plt.subplots(1,3, figsize=(15,6))\n",
    "\n",
    "df1.groupby('platform')['na_sales'].sum().sort_values(ascending=False).head().plot(kind='bar', ax=axes[0])\n",
    "df1.groupby('platform')['eu_sales'].sum().sort_values(ascending=False).head().plot(kind='bar', ax=axes[1])\n",
    "df1.groupby('platform')['jp_sales'].sum().sort_values(ascending=False).head().plot(kind='bar', ax=axes[2])\n",
    "\n",
    "axes[0].set_title('Продажи по платформам в NA')\n",
    "axes[1].set_title('Продажи по платформам в EU')\n",
    "axes[2].set_title('Продажи по платформам в JP')\n",
    "\n",
    "plt.show()"
   ]
  },
  {
   "cell_type": "markdown",
   "id": "e6ca5d2c",
   "metadata": {},
   "source": [
    "Самой популярной платформой в NA является X360, в EU платформа PS4, а в JP платформа 3DS. В NA и EU топ 5 замыкает платформа 3DS, а в JP платформа WiiU."
   ]
  },
  {
   "cell_type": "code",
   "execution_count": 42,
   "id": "a2add7e4",
   "metadata": {},
   "outputs": [
    {
     "data": {
      "image/png": "[encoded data removed]",
      "text/plain": [
       "<Figure size 1080x432 with 3 Axes>"
      ]
     },
     "metadata": {
      "needs_background": "light"
     },
     "output_type": "display_data"
    }
   ],
   "source": [
    "fig, axes = plt.subplots(1,3, figsize=(15,6))\n",
    "\n",
    "df1.groupby('platform')['na_sales'].sum().sort_values(ascending=False).head().plot(kind='bar', ax=axes[0])\n",
    "df1.groupby('platform')['eu_sales'].sum().sort_values(ascending=False).head().plot(kind='bar', ax=axes[1])\n",
    "df1.groupby('platform')['jp_sales'].sum().sort_values(ascending=False).head().plot(kind='bar', ax=axes[2])\n",
    "\n",
    "axes[0].set_title('Продажи по платформам в NA')\n",
    "axes[1].set_title('Продажи по платформам в EU')\n",
    "axes[2].set_title('Продажи по платформам в JP')\n",
    "\n",
    "plt.show()"
   ]
  },
  {
   "cell_type": "markdown",
   "id": "4b37775e",
   "metadata": {},
   "source": [
    "## Самые популярные жанры по регионам"
   ]
  },
  {
   "cell_type": "markdown",
   "id": "778200f9",
   "metadata": {},
   "source": [
    "Построим столбчатую диаграмму ТОП 5 популярных жанров для каждого региона:"
   ]
  },
  {
   "cell_type": "code",
   "execution_count": 43,
   "id": "622b6705",
   "metadata": {},
   "outputs": [
    {
     "data": {
      "image/png": "[encoded data removed]",
      "text/plain": [
       "<Figure size 1080x432 with 3 Axes>"
      ]
     },
     "metadata": {
      "needs_background": "light"
     },
     "output_type": "display_data"
    }
   ],
   "source": [
    "fig, axes = plt.subplots(1,3, figsize=(15,6))\n",
    "\n",
    "df1.groupby('genre')['na_sales'].median().sort_values(ascending=False).head().plot(kind='bar', ax=axes[0])\n",
    "df1.groupby('genre')['eu_sales'].median().sort_values(ascending=False).head().head().plot(kind='bar', ax=axes[1])\n",
    "df1.groupby('genre')['jp_sales'].median().sort_values(ascending=False).head().head().plot(kind='bar', ax=axes[2])\n",
    "\n",
    "axes[0].set_title('Продажи по жанрам в NA')\n",
    "axes[1].set_title('Продажи по жанрам в EU')\n",
    "axes[2].set_title('Продажи по жанрам в JP')\n",
    "\n",
    "plt.show()"
   ]
  },
  {
   "cell_type": "markdown",
   "id": "be905350",
   "metadata": {},
   "source": [
    "В NA и EU жанр Shooter на первом месте по популярности, в JP  на первом месте Role-Playing. В NA топ 5 замыкает жанр Racing, в EU жанр SImulation, а в JP жанр Adventure."
   ]
  },
  {
   "cell_type": "markdown",
   "id": "a670077e",
   "metadata": {},
   "source": [
    "## Влияние на продажи рейтинга ESRB по разным регионам"
   ]
  },
  {
   "cell_type": "markdown",
   "id": "ef425e96",
   "metadata": {},
   "source": [
    "С помощью сводной таблицы построим круговые диаграммы с распределением продаж по рейтингам:"
   ]
  },
  {
   "cell_type": "code",
   "execution_count": 44,
   "id": "3b14d467",
   "metadata": {
    "scrolled": false
   },
   "outputs": [
    {
     "data": {
      "image/png": "[encoded data removed]",
      "text/plain": [
       "<Figure size 1296x1296 with 3 Axes>"
      ]
     },
     "metadata": {},
     "output_type": "display_data"
    }
   ],
   "source": [
    "rt = df1.pivot_table(index = 'rating', values = ['na_sales', 'eu_sales', 'jp_sales'], aggfunc = 'sum').reset_index()\n",
    "rt.index = rt['rating']\n",
    "\n",
    "fig, axes = plt.subplots(1,3, figsize=(18,18))\n",
    "\n",
    "rt.plot(x = 'rating', y = 'na_sales', kind='pie', autopct='%1.1f%%', ax=axes[0])\n",
    "rt.plot(x = 'rating', y = 'eu_sales', kind='pie', autopct='%1.1f%%', ax=axes[1])\n",
    "rt.plot(x = 'rating', y = 'jp_sales', kind='pie', autopct='%1.1f%%', ax=axes[2])\n",
    "\n",
    "axes[0].set_title('Продажи по рейтингам в NA')\n",
    "axes[1].set_title('Продажи по рейтингам в EU')\n",
    "axes[2].set_title('Продажи по рейтингам в JP')\n",
    "\n",
    "plt.show()"
   ]
  },
  {
   "cell_type": "markdown",
   "id": "afcc28a1",
   "metadata": {},
   "source": [
    "Продажи в рейтингам в NA и EU распределены практически аналогично, всех больше пользуются спросом игры с рейтингом M, слудующим по популярности идет рейтинг E, наимении популярным является рейтинг T, при этом стоит обратить внимание, что около 17-18% продаж в этих регионах приходятся на игры с неопределенным рейтингом `unknown`. В регионе JP более 50% продаж приходится на игры с неопределенным рейтингом, рейтинги E и T занимают практически одинаковую долю рынка и имеют преимущество перед другими, рейтинг E10+ является наименее продаваемым. На основе этих данных можно сделать вывод, что рейтинг влияет на проодажи в отдельных регионах."
   ]
  },
  {
   "cell_type": "markdown",
   "id": "dcaddb31",
   "metadata": {},
   "source": [
    "**Вывод:**\n",
    "\n",
    "В целом пользователи разных регионов ведут себя по разному и предподчитают разные платформы и жанры игр. В NA и EU рейтинг оказывает одинаковое влияние на продажи, по региону JP сложно делать выводы т.к половина данных о рейтинге отсутсвует."
   ]
  },
  {
   "cell_type": "markdown",
   "id": "60509f12",
   "metadata": {},
   "source": [
    "# Проверка гипотез"
   ]
  },
  {
   "cell_type": "markdown",
   "id": "f75331e8",
   "metadata": {},
   "source": [
    "## Средние пользовательские рейтинги платформ Xbox One и PC одинаковые"
   ]
  },
  {
   "cell_type": "markdown",
   "id": "9876a455",
   "metadata": {},
   "source": [
    "Сформулируем нулевую и альтернативную гипотезу:\n",
    "* H₀ - Средние пользовательские рейтинги платформ Xbox One и PC одинаковые\n",
    "* H₁ - Средние пользовательские рейтинги платформ Xbox One и PC отличаются"
   ]
  },
  {
   "cell_type": "markdown",
   "id": "554050e3",
   "metadata": {},
   "source": [
    "Отфильтруем в отдельные датасеты строки с платформами XOne и PC:"
   ]
  },
  {
   "cell_type": "code",
   "execution_count": 45,
   "id": "53359886",
   "metadata": {},
   "outputs": [],
   "source": [
    "xone = df1.query('platform == \"XOne\"').dropna()['user_score']"
   ]
  },
  {
   "cell_type": "code",
   "execution_count": 46,
   "id": "1aa718c3",
   "metadata": {},
   "outputs": [],
   "source": [
    "pc = df1.query('platform == \"PC\"').dropna()['user_score']"
   ]
  },
  {
   "cell_type": "markdown",
   "id": "e0e5f5e2",
   "metadata": {},
   "source": [
    "Для проверки гипотезы проведем t-тест с помощью метода `scipy.stats.ttest_ind()`\n",
    "\n",
    "\n",
    "Проверяем нулевую гипотезу:"
   ]
  },
  {
   "cell_type": "code",
   "execution_count": 52,
   "id": "39ae2272",
   "metadata": {},
   "outputs": [
    {
     "name": "stdout",
     "output_type": "stream",
     "text": [
      "p-значение: 0.28432109783863596\n",
      "Не получилось отвергнуть нулевую гипотезу\n"
     ]
    }
   ],
   "source": [
    "alpha = .05 # зададим критический уровень статистической значимости\n",
    "\n",
    "results = st.ttest_ind(xone, pc)\n",
    "\n",
    "print('p-значение:', results.pvalue)\n",
    "\n",
    "if results.pvalue < alpha:\n",
    "    print(\"Отвергаем нулевую гипотезу\")\n",
    "else:\n",
    "    print(\"Не получилось отвергнуть нулевую гипотезу\") "
   ]
  },
  {
   "cell_type": "markdown",
   "id": "80f3dde0",
   "metadata": {},
   "source": [
    "На основе теста можно предположить, что нулевая гипотеза верна."
   ]
  },
  {
   "cell_type": "markdown",
   "id": "8d58255b",
   "metadata": {},
   "source": [
    "## Средние пользовательские рейтинги жанров Action и Sports разные"
   ]
  },
  {
   "cell_type": "markdown",
   "id": "37b3c950",
   "metadata": {},
   "source": [
    "Сформулируем нулевую и альтернативную гипотезу:\n",
    "* H₀ - Средние пользовательские рейтинги жанров Action и Sports одинаковые\n",
    "* H₁ - Средние пользовательские рейтинги жанров Action и Sports разные"
   ]
  },
  {
   "cell_type": "markdown",
   "id": "37fd4671",
   "metadata": {},
   "source": [
    "Отфильтруем в отдельные датасеты строки с жанрами Action  и Sports:"
   ]
  },
  {
   "cell_type": "code",
   "execution_count": 48,
   "id": "2c314ac0",
   "metadata": {},
   "outputs": [],
   "source": [
    "action = df1.query('genre == \"Action\"').dropna()['user_score']"
   ]
  },
  {
   "cell_type": "code",
   "execution_count": 49,
   "id": "56035395",
   "metadata": {},
   "outputs": [],
   "source": [
    "sports = df1.query('genre == \"Sports\"').dropna()['user_score']"
   ]
  },
  {
   "cell_type": "markdown",
   "id": "add8cbab",
   "metadata": {},
   "source": [
    "Для проверки гипотезы проведем t-тест с помощью метода `scipy.stats.ttest_ind()`\n",
    "\n",
    "\n",
    "Проверяем нулевую гипотезу:"
   ]
  },
  {
   "cell_type": "code",
   "execution_count": 51,
   "id": "bad15d95",
   "metadata": {},
   "outputs": [
    {
     "name": "stdout",
     "output_type": "stream",
     "text": [
      "p-значение: 5.190437388319119e-33\n",
      "Отвергаем нулевую гипотезу\n"
     ]
    }
   ],
   "source": [
    "alpha = .05 # зададим критический уровень статистической значимости\n",
    "\n",
    "results = st.ttest_ind(action, sports)\n",
    "\n",
    "print('p-значение:', results.pvalue)\n",
    "\n",
    "if results.pvalue < alpha:\n",
    "    print(\"Отвергаем нулевую гипотезу\")\n",
    "else:\n",
    "    print(\"Не получилось отвергнуть нулевую гипотезу\") "
   ]
  },
  {
   "cell_type": "markdown",
   "id": "846f7cb2",
   "metadata": {},
   "source": [
    "На основе теста можно предположить, что нулевая гипотеза не верна"
   ]
  },
  {
   "cell_type": "markdown",
   "id": "71660787",
   "metadata": {},
   "source": [
    "**Вывод:**\n",
    "\n",
    "На основе проведенных t-тестов можем предположить, что обе рассматриваемые гипотезы `верны`."
   ]
  },
  {
   "cell_type": "markdown",
   "id": "476d1dbf",
   "metadata": {},
   "source": [
    "# Общий вывод"
   ]
  },
  {
   "cell_type": "markdown",
   "id": "3ff939ad",
   "metadata": {},
   "source": [
    "Проведя исследовательский анализ данных установили, что пик выпуска игр за весь период приходился на 2002-2011г, поэтому для построения прогноза на 2017г был взят период 2012-2016г(для избежания ложных ожиданий), всех больше продавали игры в этот приод на платформы `3DS` `XOne` `X360` `PS3` `PS4`, отдельные игры за этот период ставили рекорды по продажам. Было доказанно, что отзывы критиков взаимосвязанны с продажами игр, а отзывы клиентов никак не влияют на продажи. Самыми продаваемыми были жанры `platform` `shooter` `sports` . Было доказанно, что пользователи разных регионов ведут себя по разному и предподчитают разные платформы и жанры игр. В NA и EU рейтинг оказывает одинаковое влияние на продажи, по региону JP сложно делать выводы т.к половина данных о рейтинге отсутсвует. Гипотезу о равности средних пользовательских рейтингов платформ `Xbox One` `PC` `не получилось отвергнуть`. Различия в средних пользовательских рейтингах жанров `action` и `sports` `статистически значимы`."
   ]
  }
 ],
 "metadata": {
  "ExecuteTimeLog": [
   {
    "duration": 1020,
    "start_time": "2022-04-19T12:30:27.127Z"
   },
   {
    "duration": 145,
    "start_time": "2022-04-19T12:30:28.149Z"
   },
   {
    "duration": 0,
    "start_time": "2022-04-19T12:30:28.297Z"
   },
   {
    "duration": 0,
    "start_time": "2022-04-19T12:30:28.298Z"
   },
   {
    "duration": 0,
    "start_time": "2022-04-19T12:30:28.299Z"
   },
   {
    "duration": 0,
    "start_time": "2022-04-19T12:30:28.300Z"
   },
   {
    "duration": 0,
    "start_time": "2022-04-19T12:30:28.301Z"
   },
   {
    "duration": 0,
    "start_time": "2022-04-19T12:30:28.302Z"
   },
   {
    "duration": 0,
    "start_time": "2022-04-19T12:30:28.303Z"
   },
   {
    "duration": 0,
    "start_time": "2022-04-19T12:30:28.304Z"
   },
   {
    "duration": 0,
    "start_time": "2022-04-19T12:30:28.305Z"
   },
   {
    "duration": 0,
    "start_time": "2022-04-19T12:30:28.306Z"
   },
   {
    "duration": 0,
    "start_time": "2022-04-19T12:30:28.307Z"
   },
   {
    "duration": 0,
    "start_time": "2022-04-19T12:30:28.323Z"
   },
   {
    "duration": 0,
    "start_time": "2022-04-19T12:30:28.324Z"
   },
   {
    "duration": 0,
    "start_time": "2022-04-19T12:30:28.325Z"
   },
   {
    "duration": 0,
    "start_time": "2022-04-19T12:30:28.326Z"
   },
   {
    "duration": 0,
    "start_time": "2022-04-19T12:30:28.327Z"
   },
   {
    "duration": 0,
    "start_time": "2022-04-19T12:30:28.327Z"
   },
   {
    "duration": 0,
    "start_time": "2022-04-19T12:30:28.328Z"
   },
   {
    "duration": 0,
    "start_time": "2022-04-19T12:30:28.329Z"
   },
   {
    "duration": 0,
    "start_time": "2022-04-19T12:30:28.330Z"
   },
   {
    "duration": 0,
    "start_time": "2022-04-19T12:30:28.331Z"
   },
   {
    "duration": 0,
    "start_time": "2022-04-19T12:30:28.332Z"
   },
   {
    "duration": 0,
    "start_time": "2022-04-19T12:30:28.333Z"
   },
   {
    "duration": 0,
    "start_time": "2022-04-19T12:30:28.333Z"
   },
   {
    "duration": 0,
    "start_time": "2022-04-19T12:30:28.334Z"
   },
   {
    "duration": 0,
    "start_time": "2022-04-19T12:30:28.335Z"
   },
   {
    "duration": 0,
    "start_time": "2022-04-19T12:30:28.336Z"
   },
   {
    "duration": 0,
    "start_time": "2022-04-19T12:30:28.337Z"
   },
   {
    "duration": 0,
    "start_time": "2022-04-19T12:30:28.338Z"
   },
   {
    "duration": 0,
    "start_time": "2022-04-19T12:30:28.339Z"
   },
   {
    "duration": 0,
    "start_time": "2022-04-19T12:30:28.340Z"
   },
   {
    "duration": 0,
    "start_time": "2022-04-19T12:30:28.341Z"
   },
   {
    "duration": 0,
    "start_time": "2022-04-19T12:30:28.341Z"
   },
   {
    "duration": 0,
    "start_time": "2022-04-19T12:30:28.342Z"
   },
   {
    "duration": 0,
    "start_time": "2022-04-19T12:30:28.343Z"
   },
   {
    "duration": 0,
    "start_time": "2022-04-19T12:30:28.344Z"
   },
   {
    "duration": 0,
    "start_time": "2022-04-19T12:30:28.345Z"
   },
   {
    "duration": 0,
    "start_time": "2022-04-19T12:30:28.346Z"
   },
   {
    "duration": 0,
    "start_time": "2022-04-19T12:30:28.347Z"
   },
   {
    "duration": 0,
    "start_time": "2022-04-19T12:30:28.348Z"
   },
   {
    "duration": 0,
    "start_time": "2022-04-19T12:30:28.349Z"
   },
   {
    "duration": 0,
    "start_time": "2022-04-19T12:30:28.350Z"
   },
   {
    "duration": 0,
    "start_time": "2022-04-19T12:30:28.350Z"
   },
   {
    "duration": 0,
    "start_time": "2022-04-19T12:30:28.351Z"
   },
   {
    "duration": 67,
    "start_time": "2022-04-19T12:32:28.671Z"
   },
   {
    "duration": 43,
    "start_time": "2022-04-19T12:32:42.710Z"
   },
   {
    "duration": 1072,
    "start_time": "2022-04-19T12:32:48.782Z"
   },
   {
    "duration": 30,
    "start_time": "2022-04-19T12:32:49.856Z"
   },
   {
    "duration": 17,
    "start_time": "2022-04-19T12:32:49.888Z"
   },
   {
    "duration": 36,
    "start_time": "2022-04-19T12:32:49.907Z"
   },
   {
    "duration": 3,
    "start_time": "2022-04-19T12:32:49.946Z"
   },
   {
    "duration": 9,
    "start_time": "2022-04-19T12:32:49.951Z"
   },
   {
    "duration": 3,
    "start_time": "2022-04-19T12:32:49.962Z"
   },
   {
    "duration": 3848,
    "start_time": "2022-04-19T12:32:49.967Z"
   },
   {
    "duration": 4,
    "start_time": "2022-04-19T12:32:53.817Z"
   },
   {
    "duration": 11,
    "start_time": "2022-04-19T12:32:53.825Z"
   },
   {
    "duration": 23,
    "start_time": "2022-04-19T12:32:53.838Z"
   },
   {
    "duration": 4,
    "start_time": "2022-04-19T12:32:53.863Z"
   },
   {
    "duration": 6,
    "start_time": "2022-04-19T12:32:53.869Z"
   },
   {
    "duration": 10,
    "start_time": "2022-04-19T12:32:53.877Z"
   },
   {
    "duration": 42,
    "start_time": "2022-04-19T12:32:53.888Z"
   },
   {
    "duration": 6,
    "start_time": "2022-04-19T12:32:53.932Z"
   },
   {
    "duration": 8,
    "start_time": "2022-04-19T12:32:53.939Z"
   },
   {
    "duration": 7,
    "start_time": "2022-04-19T12:32:53.948Z"
   },
   {
    "duration": 295,
    "start_time": "2022-04-19T12:32:53.957Z"
   },
   {
    "duration": 8,
    "start_time": "2022-04-19T12:32:54.254Z"
   },
   {
    "duration": 22,
    "start_time": "2022-04-19T12:32:54.264Z"
   },
   {
    "duration": 255,
    "start_time": "2022-04-19T12:32:54.288Z"
   },
   {
    "duration": 22,
    "start_time": "2022-04-19T12:32:54.545Z"
   },
   {
    "duration": 22,
    "start_time": "2022-04-19T12:32:54.569Z"
   },
   {
    "duration": 292,
    "start_time": "2022-04-19T12:32:54.593Z"
   },
   {
    "duration": 371,
    "start_time": "2022-04-19T12:32:54.887Z"
   },
   {
    "duration": 49,
    "start_time": "2022-04-19T12:32:55.260Z"
   },
   {
    "duration": 7,
    "start_time": "2022-04-19T12:32:55.323Z"
   },
   {
    "duration": 14,
    "start_time": "2022-04-19T12:32:55.332Z"
   },
   {
    "duration": 11,
    "start_time": "2022-04-19T12:32:55.347Z"
   },
   {
    "duration": 257,
    "start_time": "2022-04-19T12:32:55.359Z"
   },
   {
    "duration": 12,
    "start_time": "2022-04-19T12:32:55.618Z"
   },
   {
    "duration": 6,
    "start_time": "2022-04-19T12:32:55.632Z"
   },
   {
    "duration": 246,
    "start_time": "2022-04-19T12:32:55.640Z"
   },
   {
    "duration": 4,
    "start_time": "2022-04-19T12:32:55.888Z"
   },
   {
    "duration": 6,
    "start_time": "2022-04-19T12:32:55.894Z"
   },
   {
    "duration": 392,
    "start_time": "2022-04-19T12:32:55.901Z"
   },
   {
    "duration": 270,
    "start_time": "2022-04-19T12:32:56.294Z"
   },
   {
    "duration": 472,
    "start_time": "2022-04-19T12:32:56.565Z"
   },
   {
    "duration": 457,
    "start_time": "2022-04-19T12:32:57.038Z"
   },
   {
    "duration": 6,
    "start_time": "2022-04-19T12:32:57.496Z"
   },
   {
    "duration": 20,
    "start_time": "2022-04-19T12:32:57.504Z"
   },
   {
    "duration": 19,
    "start_time": "2022-04-19T12:32:57.526Z"
   },
   {
    "duration": 12,
    "start_time": "2022-04-19T12:32:57.547Z"
   },
   {
    "duration": 7,
    "start_time": "2022-04-19T12:32:57.560Z"
   },
   {
    "duration": 7,
    "start_time": "2022-04-19T12:32:57.568Z"
   },
   {
    "duration": 220,
    "start_time": "2022-04-19T13:26:37.148Z"
   },
   {
    "duration": 241,
    "start_time": "2022-04-19T13:26:46.160Z"
   },
   {
    "duration": 229,
    "start_time": "2022-04-19T13:27:03.196Z"
   },
   {
    "duration": 91,
    "start_time": "2022-04-19T13:47:25.001Z"
   },
   {
    "duration": 333,
    "start_time": "2022-04-19T13:47:32.348Z"
   },
   {
    "duration": 203,
    "start_time": "2022-04-19T13:47:45.001Z"
   },
   {
    "duration": 477,
    "start_time": "2022-04-19T13:48:06.676Z"
   },
   {
    "duration": 6,
    "start_time": "2022-04-19T13:51:27.945Z"
   },
   {
    "duration": 6,
    "start_time": "2022-04-19T13:51:55.549Z"
   },
   {
    "duration": 5,
    "start_time": "2022-04-19T13:52:00.029Z"
   },
   {
    "duration": 7,
    "start_time": "2022-04-19T13:52:04.521Z"
   },
   {
    "duration": 6,
    "start_time": "2022-04-19T13:52:07.344Z"
   },
   {
    "duration": 9,
    "start_time": "2022-04-19T13:58:18.491Z"
   },
   {
    "duration": 11,
    "start_time": "2022-04-19T13:58:32.268Z"
   },
   {
    "duration": 10,
    "start_time": "2022-04-19T13:58:37.857Z"
   },
   {
    "duration": 78,
    "start_time": "2022-04-20T07:57:22.146Z"
   },
   {
    "duration": 1347,
    "start_time": "2022-04-20T07:57:24.924Z"
   },
   {
    "duration": 41,
    "start_time": "2022-04-20T07:57:26.273Z"
   },
   {
    "duration": 24,
    "start_time": "2022-04-20T07:57:26.315Z"
   },
   {
    "duration": 15,
    "start_time": "2022-04-20T07:57:26.341Z"
   },
   {
    "duration": 3,
    "start_time": "2022-04-20T07:57:26.358Z"
   },
   {
    "duration": 4,
    "start_time": "2022-04-20T07:57:26.363Z"
   },
   {
    "duration": 3,
    "start_time": "2022-04-20T07:57:26.369Z"
   },
   {
    "duration": 2504,
    "start_time": "2022-04-20T07:57:26.373Z"
   },
   {
    "duration": 4,
    "start_time": "2022-04-20T07:57:28.879Z"
   },
   {
    "duration": 5,
    "start_time": "2022-04-20T07:57:28.886Z"
   },
   {
    "duration": 38,
    "start_time": "2022-04-20T07:57:28.893Z"
   },
   {
    "duration": 5,
    "start_time": "2022-04-20T07:57:28.933Z"
   },
   {
    "duration": 5,
    "start_time": "2022-04-20T07:57:28.940Z"
   },
   {
    "duration": 12,
    "start_time": "2022-04-20T07:57:28.947Z"
   },
   {
    "duration": 16,
    "start_time": "2022-04-20T07:57:28.961Z"
   },
   {
    "duration": 4,
    "start_time": "2022-04-20T07:57:28.979Z"
   },
   {
    "duration": 40,
    "start_time": "2022-04-20T07:57:28.985Z"
   },
   {
    "duration": 9,
    "start_time": "2022-04-20T07:57:29.026Z"
   },
   {
    "duration": 303,
    "start_time": "2022-04-20T07:57:29.037Z"
   },
   {
    "duration": 9,
    "start_time": "2022-04-20T07:57:29.342Z"
   },
   {
    "duration": 24,
    "start_time": "2022-04-20T07:57:29.352Z"
   },
   {
    "duration": 290,
    "start_time": "2022-04-20T07:57:29.377Z"
   },
   {
    "duration": 23,
    "start_time": "2022-04-20T07:57:29.669Z"
   },
   {
    "duration": 27,
    "start_time": "2022-04-20T07:57:29.694Z"
   },
   {
    "duration": 284,
    "start_time": "2022-04-20T07:57:29.722Z"
   },
   {
    "duration": 380,
    "start_time": "2022-04-20T07:57:30.008Z"
   },
   {
    "duration": 281,
    "start_time": "2022-04-20T07:57:30.390Z"
   },
   {
    "duration": 257,
    "start_time": "2022-04-20T07:57:30.674Z"
   },
   {
    "duration": 33,
    "start_time": "2022-04-20T07:57:30.933Z"
   },
   {
    "duration": 7,
    "start_time": "2022-04-20T07:57:30.968Z"
   },
   {
    "duration": 15,
    "start_time": "2022-04-20T07:57:30.977Z"
   },
   {
    "duration": 13,
    "start_time": "2022-04-20T07:57:30.993Z"
   },
   {
    "duration": 260,
    "start_time": "2022-04-20T07:57:31.007Z"
   },
   {
    "duration": 5,
    "start_time": "2022-04-20T07:57:31.269Z"
   },
   {
    "duration": 19,
    "start_time": "2022-04-20T07:57:31.276Z"
   },
   {
    "duration": 253,
    "start_time": "2022-04-20T07:57:31.297Z"
   },
   {
    "duration": 5,
    "start_time": "2022-04-20T07:57:31.552Z"
   },
   {
    "duration": 6,
    "start_time": "2022-04-20T07:57:31.559Z"
   },
   {
    "duration": 488,
    "start_time": "2022-04-20T07:57:31.567Z"
   },
   {
    "duration": 489,
    "start_time": "2022-04-20T07:57:32.056Z"
   },
   {
    "duration": 589,
    "start_time": "2022-04-20T07:57:32.547Z"
   },
   {
    "duration": 767,
    "start_time": "2022-04-20T07:57:33.138Z"
   },
   {
    "duration": 7,
    "start_time": "2022-04-20T07:57:33.907Z"
   },
   {
    "duration": 7,
    "start_time": "2022-04-20T07:57:33.922Z"
   },
   {
    "duration": 4,
    "start_time": "2022-04-20T07:57:33.930Z"
   },
   {
    "duration": 9,
    "start_time": "2022-04-20T07:57:33.936Z"
   },
   {
    "duration": 7,
    "start_time": "2022-04-20T07:57:33.947Z"
   },
   {
    "duration": 6,
    "start_time": "2022-04-20T07:57:33.956Z"
   },
   {
    "duration": 21,
    "start_time": "2022-04-20T08:12:07.437Z"
   },
   {
    "duration": 65,
    "start_time": "2022-04-20T08:12:21.693Z"
   },
   {
    "duration": 3244,
    "start_time": "2022-04-20T08:13:02.724Z"
   },
   {
    "duration": 11,
    "start_time": "2022-04-20T08:13:50.953Z"
   },
   {
    "duration": 1371,
    "start_time": "2022-04-20T08:14:17.472Z"
   },
   {
    "duration": 9,
    "start_time": "2022-04-20T08:14:25.164Z"
   },
   {
    "duration": 3,
    "start_time": "2022-04-20T08:14:27.412Z"
   },
   {
    "duration": 51,
    "start_time": "2022-04-20T08:14:27.417Z"
   },
   {
    "duration": 14,
    "start_time": "2022-04-20T08:14:27.470Z"
   },
   {
    "duration": 11,
    "start_time": "2022-04-20T08:14:27.485Z"
   },
   {
    "duration": 0,
    "start_time": "2022-04-20T08:14:27.498Z"
   },
   {
    "duration": 0,
    "start_time": "2022-04-20T08:14:27.499Z"
   },
   {
    "duration": 0,
    "start_time": "2022-04-20T08:14:27.500Z"
   },
   {
    "duration": 1,
    "start_time": "2022-04-20T08:14:27.500Z"
   },
   {
    "duration": 0,
    "start_time": "2022-04-20T08:14:27.501Z"
   },
   {
    "duration": 0,
    "start_time": "2022-04-20T08:14:27.503Z"
   },
   {
    "duration": 0,
    "start_time": "2022-04-20T08:14:27.504Z"
   },
   {
    "duration": 0,
    "start_time": "2022-04-20T08:14:27.505Z"
   },
   {
    "duration": 0,
    "start_time": "2022-04-20T08:14:27.506Z"
   },
   {
    "duration": 0,
    "start_time": "2022-04-20T08:14:27.507Z"
   },
   {
    "duration": 0,
    "start_time": "2022-04-20T08:14:27.508Z"
   },
   {
    "duration": 0,
    "start_time": "2022-04-20T08:14:27.509Z"
   },
   {
    "duration": 0,
    "start_time": "2022-04-20T08:14:27.510Z"
   },
   {
    "duration": 4586,
    "start_time": "2022-04-20T08:14:27.523Z"
   },
   {
    "duration": 0,
    "start_time": "2022-04-20T08:14:32.112Z"
   },
   {
    "duration": 0,
    "start_time": "2022-04-20T08:14:32.113Z"
   },
   {
    "duration": 0,
    "start_time": "2022-04-20T08:14:32.114Z"
   },
   {
    "duration": 0,
    "start_time": "2022-04-20T08:14:32.115Z"
   },
   {
    "duration": 0,
    "start_time": "2022-04-20T08:14:32.116Z"
   },
   {
    "duration": 0,
    "start_time": "2022-04-20T08:14:32.117Z"
   },
   {
    "duration": 0,
    "start_time": "2022-04-20T08:14:32.118Z"
   },
   {
    "duration": 0,
    "start_time": "2022-04-20T08:14:32.119Z"
   },
   {
    "duration": 0,
    "start_time": "2022-04-20T08:14:32.120Z"
   },
   {
    "duration": 0,
    "start_time": "2022-04-20T08:14:32.121Z"
   },
   {
    "duration": 0,
    "start_time": "2022-04-20T08:14:32.122Z"
   },
   {
    "duration": 0,
    "start_time": "2022-04-20T08:14:32.123Z"
   },
   {
    "duration": 0,
    "start_time": "2022-04-20T08:14:32.124Z"
   },
   {
    "duration": 0,
    "start_time": "2022-04-20T08:14:32.125Z"
   },
   {
    "duration": 0,
    "start_time": "2022-04-20T08:14:32.126Z"
   },
   {
    "duration": 0,
    "start_time": "2022-04-20T08:14:32.127Z"
   },
   {
    "duration": 0,
    "start_time": "2022-04-20T08:14:32.128Z"
   },
   {
    "duration": 0,
    "start_time": "2022-04-20T08:14:32.129Z"
   },
   {
    "duration": 0,
    "start_time": "2022-04-20T08:14:32.130Z"
   },
   {
    "duration": 0,
    "start_time": "2022-04-20T08:14:32.131Z"
   },
   {
    "duration": 0,
    "start_time": "2022-04-20T08:14:32.132Z"
   },
   {
    "duration": 0,
    "start_time": "2022-04-20T08:14:32.133Z"
   },
   {
    "duration": 0,
    "start_time": "2022-04-20T08:14:32.134Z"
   },
   {
    "duration": 0,
    "start_time": "2022-04-20T08:14:32.135Z"
   },
   {
    "duration": 0,
    "start_time": "2022-04-20T08:14:32.136Z"
   },
   {
    "duration": 0,
    "start_time": "2022-04-20T08:14:32.136Z"
   },
   {
    "duration": 0,
    "start_time": "2022-04-20T08:14:32.137Z"
   },
   {
    "duration": 0,
    "start_time": "2022-04-20T08:14:32.138Z"
   },
   {
    "duration": 0,
    "start_time": "2022-04-20T08:14:32.139Z"
   },
   {
    "duration": 0,
    "start_time": "2022-04-20T08:14:32.140Z"
   },
   {
    "duration": 0,
    "start_time": "2022-04-20T08:14:32.141Z"
   },
   {
    "duration": 3,
    "start_time": "2022-04-20T08:24:29.093Z"
   },
   {
    "duration": 1662,
    "start_time": "2022-04-20T08:24:29.098Z"
   },
   {
    "duration": 14,
    "start_time": "2022-04-20T08:24:30.762Z"
   },
   {
    "duration": 16,
    "start_time": "2022-04-20T08:24:30.778Z"
   },
   {
    "duration": 18,
    "start_time": "2022-04-20T08:24:30.796Z"
   },
   {
    "duration": 41,
    "start_time": "2022-04-20T08:24:30.817Z"
   },
   {
    "duration": 19,
    "start_time": "2022-04-20T08:24:30.860Z"
   },
   {
    "duration": 2579,
    "start_time": "2022-04-20T08:24:30.881Z"
   },
   {
    "duration": 4,
    "start_time": "2022-04-20T08:24:33.462Z"
   },
   {
    "duration": 6,
    "start_time": "2022-04-20T08:24:33.467Z"
   },
   {
    "duration": 15,
    "start_time": "2022-04-20T08:24:33.475Z"
   },
   {
    "duration": 4,
    "start_time": "2022-04-20T08:24:33.491Z"
   },
   {
    "duration": 25,
    "start_time": "2022-04-20T08:24:33.497Z"
   },
   {
    "duration": 7,
    "start_time": "2022-04-20T08:24:33.524Z"
   },
   {
    "duration": 14,
    "start_time": "2022-04-20T08:24:33.533Z"
   },
   {
    "duration": 3,
    "start_time": "2022-04-20T08:24:33.549Z"
   },
   {
    "duration": 8,
    "start_time": "2022-04-20T08:24:33.554Z"
   },
   {
    "duration": 13,
    "start_time": "2022-04-20T08:24:33.563Z"
   },
   {
    "duration": 258,
    "start_time": "2022-04-20T08:24:33.577Z"
   },
   {
    "duration": 8,
    "start_time": "2022-04-20T08:24:33.836Z"
   },
   {
    "duration": 21,
    "start_time": "2022-04-20T08:24:33.846Z"
   },
   {
    "duration": 237,
    "start_time": "2022-04-20T08:24:33.869Z"
   },
   {
    "duration": 29,
    "start_time": "2022-04-20T08:24:34.108Z"
   },
   {
    "duration": 22,
    "start_time": "2022-04-20T08:24:34.138Z"
   },
   {
    "duration": 328,
    "start_time": "2022-04-20T08:24:34.162Z"
   },
   {
    "duration": 233,
    "start_time": "2022-04-20T08:24:34.491Z"
   },
   {
    "duration": 247,
    "start_time": "2022-04-20T08:24:34.726Z"
   },
   {
    "duration": 252,
    "start_time": "2022-04-20T08:24:34.975Z"
   },
   {
    "duration": 34,
    "start_time": "2022-04-20T08:24:35.230Z"
   },
   {
    "duration": 7,
    "start_time": "2022-04-20T08:24:35.265Z"
   },
   {
    "duration": 6,
    "start_time": "2022-04-20T08:24:35.273Z"
   },
   {
    "duration": 7,
    "start_time": "2022-04-20T08:24:35.280Z"
   },
   {
    "duration": 275,
    "start_time": "2022-04-20T08:24:35.288Z"
   },
   {
    "duration": 5,
    "start_time": "2022-04-20T08:24:35.564Z"
   },
   {
    "duration": 6,
    "start_time": "2022-04-20T08:24:35.571Z"
   },
   {
    "duration": 257,
    "start_time": "2022-04-20T08:24:35.578Z"
   },
   {
    "duration": 5,
    "start_time": "2022-04-20T08:24:35.837Z"
   },
   {
    "duration": 16,
    "start_time": "2022-04-20T08:24:35.844Z"
   },
   {
    "duration": 400,
    "start_time": "2022-04-20T08:24:35.862Z"
   },
   {
    "duration": 350,
    "start_time": "2022-04-20T08:24:36.264Z"
   },
   {
    "duration": 275,
    "start_time": "2022-04-20T08:24:36.616Z"
   },
   {
    "duration": 451,
    "start_time": "2022-04-20T08:24:36.893Z"
   },
   {
    "duration": 7,
    "start_time": "2022-04-20T08:24:37.346Z"
   },
   {
    "duration": 26,
    "start_time": "2022-04-20T08:24:37.355Z"
   },
   {
    "duration": 32,
    "start_time": "2022-04-20T08:24:37.383Z"
   },
   {
    "duration": 13,
    "start_time": "2022-04-20T08:24:37.417Z"
   },
   {
    "duration": 11,
    "start_time": "2022-04-20T08:24:37.431Z"
   },
   {
    "duration": 12,
    "start_time": "2022-04-20T08:24:37.443Z"
   },
   {
    "duration": 1922,
    "start_time": "2022-04-21T12:28:50.553Z"
   },
   {
    "duration": 55,
    "start_time": "2022-04-21T12:28:52.479Z"
   },
   {
    "duration": 44,
    "start_time": "2022-04-21T12:28:52.537Z"
   },
   {
    "duration": 20,
    "start_time": "2022-04-21T12:28:52.585Z"
   },
   {
    "duration": 4,
    "start_time": "2022-04-21T12:28:52.608Z"
   },
   {
    "duration": 50,
    "start_time": "2022-04-21T12:28:52.615Z"
   },
   {
    "duration": 8,
    "start_time": "2022-04-21T12:28:52.668Z"
   },
   {
    "duration": 7,
    "start_time": "2022-04-21T12:28:52.679Z"
   },
   {
    "duration": 5663,
    "start_time": "2022-04-21T12:28:52.688Z"
   },
   {
    "duration": 14,
    "start_time": "2022-04-21T12:28:58.358Z"
   },
   {
    "duration": 19,
    "start_time": "2022-04-21T12:28:58.375Z"
   },
   {
    "duration": 46,
    "start_time": "2022-04-21T12:28:58.396Z"
   },
   {
    "duration": 6,
    "start_time": "2022-04-21T12:28:58.444Z"
   },
   {
    "duration": 39,
    "start_time": "2022-04-21T12:28:58.453Z"
   },
   {
    "duration": 22,
    "start_time": "2022-04-21T12:28:58.495Z"
   },
   {
    "duration": 52,
    "start_time": "2022-04-21T12:28:58.520Z"
   },
   {
    "duration": 6,
    "start_time": "2022-04-21T12:28:58.575Z"
   },
   {
    "duration": 27,
    "start_time": "2022-04-21T12:28:58.583Z"
   },
   {
    "duration": 15,
    "start_time": "2022-04-21T12:28:58.612Z"
   },
   {
    "duration": 598,
    "start_time": "2022-04-21T12:28:58.629Z"
   },
   {
    "duration": 21,
    "start_time": "2022-04-21T12:28:59.230Z"
   },
   {
    "duration": 69,
    "start_time": "2022-04-21T12:28:59.254Z"
   },
   {
    "duration": 627,
    "start_time": "2022-04-21T12:28:59.326Z"
   },
   {
    "duration": 42,
    "start_time": "2022-04-21T12:28:59.957Z"
   },
   {
    "duration": 74,
    "start_time": "2022-04-21T12:29:00.001Z"
   },
   {
    "duration": 753,
    "start_time": "2022-04-21T12:29:00.077Z"
   },
   {
    "duration": 505,
    "start_time": "2022-04-21T12:29:00.832Z"
   },
   {
    "duration": 486,
    "start_time": "2022-04-21T12:29:01.354Z"
   },
   {
    "duration": 463,
    "start_time": "2022-04-21T12:29:01.842Z"
   },
   {
    "duration": 71,
    "start_time": "2022-04-21T12:29:02.307Z"
   },
   {
    "duration": 10,
    "start_time": "2022-04-21T12:29:02.380Z"
   },
   {
    "duration": 17,
    "start_time": "2022-04-21T12:29:02.392Z"
   },
   {
    "duration": 15,
    "start_time": "2022-04-21T12:29:02.411Z"
   },
   {
    "duration": 474,
    "start_time": "2022-04-21T12:29:02.428Z"
   },
   {
    "duration": 8,
    "start_time": "2022-04-21T12:29:02.906Z"
   },
   {
    "duration": 6,
    "start_time": "2022-04-21T12:29:02.918Z"
   },
   {
    "duration": 469,
    "start_time": "2022-04-21T12:29:02.953Z"
   },
   {
    "duration": 6,
    "start_time": "2022-04-21T12:29:03.425Z"
   },
   {
    "duration": 23,
    "start_time": "2022-04-21T12:29:03.433Z"
   },
   {
    "duration": 816,
    "start_time": "2022-04-21T12:29:03.458Z"
   },
   {
    "duration": 520,
    "start_time": "2022-04-21T12:29:04.276Z"
   },
   {
    "duration": 570,
    "start_time": "2022-04-21T12:29:04.798Z"
   },
   {
    "duration": 918,
    "start_time": "2022-04-21T12:29:05.371Z"
   },
   {
    "duration": 10,
    "start_time": "2022-04-21T12:29:06.292Z"
   },
   {
    "duration": 17,
    "start_time": "2022-04-21T12:29:06.304Z"
   },
   {
    "duration": 29,
    "start_time": "2022-04-21T12:29:06.324Z"
   },
   {
    "duration": 13,
    "start_time": "2022-04-21T12:29:06.357Z"
   },
   {
    "duration": 21,
    "start_time": "2022-04-21T12:29:06.373Z"
   },
   {
    "duration": 9,
    "start_time": "2022-04-21T12:29:06.396Z"
   },
   {
    "duration": 35,
    "start_time": "2022-04-21T12:40:30.742Z"
   },
   {
    "duration": 152,
    "start_time": "2022-04-21T12:40:50.673Z"
   },
   {
    "duration": 4,
    "start_time": "2022-04-21T12:41:02.537Z"
   },
   {
    "duration": 62,
    "start_time": "2022-04-21T12:41:02.543Z"
   },
   {
    "duration": 25,
    "start_time": "2022-04-21T12:41:02.607Z"
   },
   {
    "duration": 31,
    "start_time": "2022-04-21T12:41:02.634Z"
   },
   {
    "duration": 10,
    "start_time": "2022-04-21T12:41:02.668Z"
   },
   {
    "duration": 0,
    "start_time": "2022-04-21T12:41:02.681Z"
   },
   {
    "duration": 0,
    "start_time": "2022-04-21T12:41:02.683Z"
   },
   {
    "duration": 0,
    "start_time": "2022-04-21T12:41:02.684Z"
   },
   {
    "duration": 0,
    "start_time": "2022-04-21T12:41:02.685Z"
   },
   {
    "duration": 0,
    "start_time": "2022-04-21T12:41:02.687Z"
   },
   {
    "duration": 1,
    "start_time": "2022-04-21T12:41:02.688Z"
   },
   {
    "duration": 0,
    "start_time": "2022-04-21T12:41:02.690Z"
   },
   {
    "duration": 0,
    "start_time": "2022-04-21T12:41:02.692Z"
   },
   {
    "duration": 0,
    "start_time": "2022-04-21T12:41:02.693Z"
   },
   {
    "duration": 0,
    "start_time": "2022-04-21T12:41:02.694Z"
   },
   {
    "duration": 0,
    "start_time": "2022-04-21T12:41:02.696Z"
   },
   {
    "duration": 0,
    "start_time": "2022-04-21T12:41:02.698Z"
   },
   {
    "duration": 0,
    "start_time": "2022-04-21T12:41:02.700Z"
   },
   {
    "duration": 0,
    "start_time": "2022-04-21T12:41:02.701Z"
   },
   {
    "duration": 0,
    "start_time": "2022-04-21T12:41:02.702Z"
   },
   {
    "duration": 0,
    "start_time": "2022-04-21T12:41:02.752Z"
   },
   {
    "duration": 0,
    "start_time": "2022-04-21T12:41:02.754Z"
   },
   {
    "duration": 0,
    "start_time": "2022-04-21T12:41:02.755Z"
   },
   {
    "duration": 0,
    "start_time": "2022-04-21T12:41:02.756Z"
   },
   {
    "duration": 2055,
    "start_time": "2022-04-21T12:41:02.760Z"
   },
   {
    "duration": 0,
    "start_time": "2022-04-21T12:41:04.820Z"
   },
   {
    "duration": 0,
    "start_time": "2022-04-21T12:41:04.822Z"
   },
   {
    "duration": 0,
    "start_time": "2022-04-21T12:41:04.824Z"
   },
   {
    "duration": 0,
    "start_time": "2022-04-21T12:41:04.826Z"
   },
   {
    "duration": 0,
    "start_time": "2022-04-21T12:41:04.829Z"
   },
   {
    "duration": 0,
    "start_time": "2022-04-21T12:41:04.830Z"
   },
   {
    "duration": 0,
    "start_time": "2022-04-21T12:41:04.832Z"
   },
   {
    "duration": 0,
    "start_time": "2022-04-21T12:41:04.833Z"
   },
   {
    "duration": 0,
    "start_time": "2022-04-21T12:41:04.835Z"
   },
   {
    "duration": 0,
    "start_time": "2022-04-21T12:41:04.836Z"
   },
   {
    "duration": 0,
    "start_time": "2022-04-21T12:41:04.838Z"
   },
   {
    "duration": 0,
    "start_time": "2022-04-21T12:41:04.840Z"
   },
   {
    "duration": 0,
    "start_time": "2022-04-21T12:41:04.842Z"
   },
   {
    "duration": 0,
    "start_time": "2022-04-21T12:41:04.843Z"
   },
   {
    "duration": 0,
    "start_time": "2022-04-21T12:41:04.845Z"
   },
   {
    "duration": 0,
    "start_time": "2022-04-21T12:41:04.847Z"
   },
   {
    "duration": 0,
    "start_time": "2022-04-21T12:41:04.848Z"
   },
   {
    "duration": 0,
    "start_time": "2022-04-21T12:41:04.849Z"
   },
   {
    "duration": 0,
    "start_time": "2022-04-21T12:41:04.851Z"
   },
   {
    "duration": 0,
    "start_time": "2022-04-21T12:41:04.852Z"
   },
   {
    "duration": 0,
    "start_time": "2022-04-21T12:41:04.853Z"
   },
   {
    "duration": 0,
    "start_time": "2022-04-21T12:41:04.854Z"
   },
   {
    "duration": 0,
    "start_time": "2022-04-21T12:41:04.855Z"
   },
   {
    "duration": 0,
    "start_time": "2022-04-21T12:41:04.856Z"
   },
   {
    "duration": 1,
    "start_time": "2022-04-21T12:41:04.857Z"
   },
   {
    "duration": 2134,
    "start_time": "2022-04-21T12:41:28.250Z"
   },
   {
    "duration": 1823,
    "start_time": "2022-04-21T12:41:49.933Z"
   },
   {
    "duration": 1869,
    "start_time": "2022-04-21T12:41:53.531Z"
   },
   {
    "duration": 29,
    "start_time": "2022-04-21T12:42:09.944Z"
   },
   {
    "duration": 34,
    "start_time": "2022-04-21T12:42:32.095Z"
   },
   {
    "duration": 1992,
    "start_time": "2022-04-21T12:43:00.773Z"
   },
   {
    "duration": 4,
    "start_time": "2022-04-21T12:43:11.397Z"
   },
   {
    "duration": 60,
    "start_time": "2022-04-21T12:43:11.404Z"
   },
   {
    "duration": 27,
    "start_time": "2022-04-21T12:43:11.468Z"
   },
   {
    "duration": 58,
    "start_time": "2022-04-21T12:43:11.498Z"
   },
   {
    "duration": 1985,
    "start_time": "2022-04-21T12:43:11.561Z"
   },
   {
    "duration": 0,
    "start_time": "2022-04-21T12:43:13.552Z"
   },
   {
    "duration": 0,
    "start_time": "2022-04-21T12:43:13.553Z"
   },
   {
    "duration": 0,
    "start_time": "2022-04-21T12:43:13.555Z"
   },
   {
    "duration": 0,
    "start_time": "2022-04-21T12:43:13.558Z"
   },
   {
    "duration": 0,
    "start_time": "2022-04-21T12:43:13.560Z"
   },
   {
    "duration": 0,
    "start_time": "2022-04-21T12:43:13.562Z"
   },
   {
    "duration": 0,
    "start_time": "2022-04-21T12:43:13.564Z"
   },
   {
    "duration": 0,
    "start_time": "2022-04-21T12:43:13.566Z"
   },
   {
    "duration": 0,
    "start_time": "2022-04-21T12:43:13.568Z"
   },
   {
    "duration": 0,
    "start_time": "2022-04-21T12:43:13.570Z"
   },
   {
    "duration": 0,
    "start_time": "2022-04-21T12:43:13.572Z"
   },
   {
    "duration": 0,
    "start_time": "2022-04-21T12:43:13.574Z"
   },
   {
    "duration": 0,
    "start_time": "2022-04-21T12:43:13.576Z"
   },
   {
    "duration": 0,
    "start_time": "2022-04-21T12:43:13.578Z"
   },
   {
    "duration": 0,
    "start_time": "2022-04-21T12:43:13.581Z"
   },
   {
    "duration": 0,
    "start_time": "2022-04-21T12:43:13.583Z"
   },
   {
    "duration": 0,
    "start_time": "2022-04-21T12:43:13.585Z"
   },
   {
    "duration": 0,
    "start_time": "2022-04-21T12:43:13.587Z"
   },
   {
    "duration": 0,
    "start_time": "2022-04-21T12:43:13.589Z"
   },
   {
    "duration": 0,
    "start_time": "2022-04-21T12:43:13.591Z"
   },
   {
    "duration": 0,
    "start_time": "2022-04-21T12:43:13.593Z"
   },
   {
    "duration": 0,
    "start_time": "2022-04-21T12:43:13.652Z"
   },
   {
    "duration": 0,
    "start_time": "2022-04-21T12:43:13.654Z"
   },
   {
    "duration": 0,
    "start_time": "2022-04-21T12:43:13.657Z"
   },
   {
    "duration": 0,
    "start_time": "2022-04-21T12:43:13.659Z"
   },
   {
    "duration": 0,
    "start_time": "2022-04-21T12:43:13.661Z"
   },
   {
    "duration": 0,
    "start_time": "2022-04-21T12:43:13.663Z"
   },
   {
    "duration": 0,
    "start_time": "2022-04-21T12:43:13.665Z"
   },
   {
    "duration": 0,
    "start_time": "2022-04-21T12:43:13.667Z"
   },
   {
    "duration": 0,
    "start_time": "2022-04-21T12:43:13.669Z"
   },
   {
    "duration": 0,
    "start_time": "2022-04-21T12:43:13.671Z"
   },
   {
    "duration": 0,
    "start_time": "2022-04-21T12:43:13.673Z"
   },
   {
    "duration": 0,
    "start_time": "2022-04-21T12:43:13.674Z"
   },
   {
    "duration": 0,
    "start_time": "2022-04-21T12:43:13.676Z"
   },
   {
    "duration": 0,
    "start_time": "2022-04-21T12:43:13.677Z"
   },
   {
    "duration": 0,
    "start_time": "2022-04-21T12:43:13.678Z"
   },
   {
    "duration": 0,
    "start_time": "2022-04-21T12:43:13.680Z"
   },
   {
    "duration": 0,
    "start_time": "2022-04-21T12:43:13.681Z"
   },
   {
    "duration": 0,
    "start_time": "2022-04-21T12:43:13.682Z"
   },
   {
    "duration": 0,
    "start_time": "2022-04-21T12:43:13.683Z"
   },
   {
    "duration": 0,
    "start_time": "2022-04-21T12:43:13.685Z"
   },
   {
    "duration": 0,
    "start_time": "2022-04-21T12:43:13.686Z"
   },
   {
    "duration": 0,
    "start_time": "2022-04-21T12:43:13.688Z"
   },
   {
    "duration": 0,
    "start_time": "2022-04-21T12:43:13.752Z"
   },
   {
    "duration": 0,
    "start_time": "2022-04-21T12:43:13.753Z"
   },
   {
    "duration": 0,
    "start_time": "2022-04-21T12:43:13.755Z"
   },
   {
    "duration": 1925,
    "start_time": "2022-04-21T12:43:36.182Z"
   },
   {
    "duration": 1933,
    "start_time": "2022-04-21T12:43:52.870Z"
   },
   {
    "duration": 20,
    "start_time": "2022-04-21T12:44:06.066Z"
   },
   {
    "duration": 2048,
    "start_time": "2022-04-21T12:44:11.078Z"
   },
   {
    "duration": 9,
    "start_time": "2022-04-21T12:44:20.771Z"
   },
   {
    "duration": 32,
    "start_time": "2022-04-21T12:44:28.197Z"
   },
   {
    "duration": 4,
    "start_time": "2022-04-21T12:44:50.432Z"
   },
   {
    "duration": 54,
    "start_time": "2022-04-21T12:44:50.439Z"
   },
   {
    "duration": 24,
    "start_time": "2022-04-21T12:44:50.495Z"
   },
   {
    "duration": 35,
    "start_time": "2022-04-21T12:44:50.521Z"
   },
   {
    "duration": 14,
    "start_time": "2022-04-21T12:44:50.559Z"
   },
   {
    "duration": 2070,
    "start_time": "2022-04-21T12:44:50.576Z"
   },
   {
    "duration": 0,
    "start_time": "2022-04-21T12:44:52.651Z"
   },
   {
    "duration": 0,
    "start_time": "2022-04-21T12:44:52.653Z"
   },
   {
    "duration": 0,
    "start_time": "2022-04-21T12:44:52.654Z"
   },
   {
    "duration": 0,
    "start_time": "2022-04-21T12:44:52.656Z"
   },
   {
    "duration": 0,
    "start_time": "2022-04-21T12:44:52.657Z"
   },
   {
    "duration": 0,
    "start_time": "2022-04-21T12:44:52.658Z"
   },
   {
    "duration": 0,
    "start_time": "2022-04-21T12:44:52.660Z"
   },
   {
    "duration": 0,
    "start_time": "2022-04-21T12:44:52.662Z"
   },
   {
    "duration": 0,
    "start_time": "2022-04-21T12:44:52.663Z"
   },
   {
    "duration": 0,
    "start_time": "2022-04-21T12:44:52.664Z"
   },
   {
    "duration": 0,
    "start_time": "2022-04-21T12:44:52.666Z"
   },
   {
    "duration": 0,
    "start_time": "2022-04-21T12:44:52.667Z"
   },
   {
    "duration": 0,
    "start_time": "2022-04-21T12:44:52.668Z"
   },
   {
    "duration": 0,
    "start_time": "2022-04-21T12:44:52.670Z"
   },
   {
    "duration": 0,
    "start_time": "2022-04-21T12:44:52.671Z"
   },
   {
    "duration": 0,
    "start_time": "2022-04-21T12:44:52.673Z"
   },
   {
    "duration": 0,
    "start_time": "2022-04-21T12:44:52.675Z"
   },
   {
    "duration": 0,
    "start_time": "2022-04-21T12:44:52.676Z"
   },
   {
    "duration": 0,
    "start_time": "2022-04-21T12:44:52.678Z"
   },
   {
    "duration": 0,
    "start_time": "2022-04-21T12:44:52.679Z"
   },
   {
    "duration": 0,
    "start_time": "2022-04-21T12:44:52.681Z"
   },
   {
    "duration": 0,
    "start_time": "2022-04-21T12:44:52.682Z"
   },
   {
    "duration": 0,
    "start_time": "2022-04-21T12:44:52.684Z"
   },
   {
    "duration": 0,
    "start_time": "2022-04-21T12:44:52.685Z"
   },
   {
    "duration": 0,
    "start_time": "2022-04-21T12:44:52.687Z"
   },
   {
    "duration": 0,
    "start_time": "2022-04-21T12:44:52.689Z"
   },
   {
    "duration": 0,
    "start_time": "2022-04-21T12:44:52.691Z"
   },
   {
    "duration": 0,
    "start_time": "2022-04-21T12:44:52.693Z"
   },
   {
    "duration": 0,
    "start_time": "2022-04-21T12:44:52.694Z"
   },
   {
    "duration": 0,
    "start_time": "2022-04-21T12:44:52.753Z"
   },
   {
    "duration": 0,
    "start_time": "2022-04-21T12:44:52.755Z"
   },
   {
    "duration": 0,
    "start_time": "2022-04-21T12:44:52.757Z"
   },
   {
    "duration": 0,
    "start_time": "2022-04-21T12:44:52.759Z"
   },
   {
    "duration": 0,
    "start_time": "2022-04-21T12:44:52.761Z"
   },
   {
    "duration": 0,
    "start_time": "2022-04-21T12:44:52.763Z"
   },
   {
    "duration": 1,
    "start_time": "2022-04-21T12:44:52.765Z"
   },
   {
    "duration": 0,
    "start_time": "2022-04-21T12:44:52.768Z"
   },
   {
    "duration": 0,
    "start_time": "2022-04-21T12:44:52.770Z"
   },
   {
    "duration": 0,
    "start_time": "2022-04-21T12:44:52.772Z"
   },
   {
    "duration": 0,
    "start_time": "2022-04-21T12:44:52.775Z"
   },
   {
    "duration": 0,
    "start_time": "2022-04-21T12:44:52.777Z"
   },
   {
    "duration": 0,
    "start_time": "2022-04-21T12:44:52.779Z"
   },
   {
    "duration": 0,
    "start_time": "2022-04-21T12:44:52.781Z"
   },
   {
    "duration": 0,
    "start_time": "2022-04-21T12:44:52.784Z"
   },
   {
    "duration": 0,
    "start_time": "2022-04-21T12:44:52.786Z"
   },
   {
    "duration": 5,
    "start_time": "2022-04-21T12:45:02.407Z"
   },
   {
    "duration": 55,
    "start_time": "2022-04-21T12:45:02.420Z"
   },
   {
    "duration": 28,
    "start_time": "2022-04-21T12:45:02.479Z"
   },
   {
    "duration": 51,
    "start_time": "2022-04-21T12:45:02.509Z"
   },
   {
    "duration": 12,
    "start_time": "2022-04-21T12:45:02.562Z"
   },
   {
    "duration": 4,
    "start_time": "2022-04-21T12:45:02.577Z"
   },
   {
    "duration": 28,
    "start_time": "2022-04-21T12:45:02.583Z"
   },
   {
    "duration": 43,
    "start_time": "2022-04-21T12:45:02.613Z"
   },
   {
    "duration": 5,
    "start_time": "2022-04-21T12:45:02.658Z"
   },
   {
    "duration": 5016,
    "start_time": "2022-04-21T12:45:02.665Z"
   },
   {
    "duration": 4,
    "start_time": "2022-04-21T12:45:07.684Z"
   },
   {
    "duration": 31,
    "start_time": "2022-04-21T12:45:07.690Z"
   },
   {
    "duration": 58,
    "start_time": "2022-04-21T12:45:07.723Z"
   },
   {
    "duration": 27,
    "start_time": "2022-04-21T12:45:07.784Z"
   },
   {
    "duration": 37,
    "start_time": "2022-04-21T12:45:07.815Z"
   },
   {
    "duration": 19,
    "start_time": "2022-04-21T12:45:07.854Z"
   },
   {
    "duration": 30,
    "start_time": "2022-04-21T12:45:07.876Z"
   },
   {
    "duration": 10,
    "start_time": "2022-04-21T12:45:07.908Z"
   },
   {
    "duration": 26,
    "start_time": "2022-04-21T12:45:07.920Z"
   },
   {
    "duration": 20,
    "start_time": "2022-04-21T12:45:07.948Z"
   },
   {
    "duration": 488,
    "start_time": "2022-04-21T12:45:07.970Z"
   },
   {
    "duration": 10,
    "start_time": "2022-04-21T12:45:08.460Z"
   },
   {
    "duration": 38,
    "start_time": "2022-04-21T12:45:08.472Z"
   },
   {
    "duration": 476,
    "start_time": "2022-04-21T12:45:08.512Z"
   },
   {
    "duration": 34,
    "start_time": "2022-04-21T12:45:08.991Z"
   },
   {
    "duration": 55,
    "start_time": "2022-04-21T12:45:09.027Z"
   },
   {
    "duration": 468,
    "start_time": "2022-04-21T12:45:09.084Z"
   },
   {
    "duration": 434,
    "start_time": "2022-04-21T12:45:09.554Z"
   },
   {
    "duration": 469,
    "start_time": "2022-04-21T12:45:09.990Z"
   },
   {
    "duration": 449,
    "start_time": "2022-04-21T12:45:10.462Z"
   },
   {
    "duration": 65,
    "start_time": "2022-04-21T12:45:10.913Z"
   },
   {
    "duration": 10,
    "start_time": "2022-04-21T12:45:10.980Z"
   },
   {
    "duration": 13,
    "start_time": "2022-04-21T12:45:10.993Z"
   },
   {
    "duration": 19,
    "start_time": "2022-04-21T12:45:11.010Z"
   },
   {
    "duration": 711,
    "start_time": "2022-04-21T12:45:11.032Z"
   },
   {
    "duration": 9,
    "start_time": "2022-04-21T12:45:11.751Z"
   },
   {
    "duration": 11,
    "start_time": "2022-04-21T12:45:11.762Z"
   },
   {
    "duration": 472,
    "start_time": "2022-04-21T12:45:11.775Z"
   },
   {
    "duration": 7,
    "start_time": "2022-04-21T12:45:12.249Z"
   },
   {
    "duration": 10,
    "start_time": "2022-04-21T12:45:12.258Z"
   },
   {
    "duration": 785,
    "start_time": "2022-04-21T12:45:12.271Z"
   },
   {
    "duration": 512,
    "start_time": "2022-04-21T12:45:13.061Z"
   },
   {
    "duration": 548,
    "start_time": "2022-04-21T12:45:13.575Z"
   },
   {
    "duration": 842,
    "start_time": "2022-04-21T12:45:14.125Z"
   },
   {
    "duration": 15,
    "start_time": "2022-04-21T12:45:14.971Z"
   },
   {
    "duration": 39,
    "start_time": "2022-04-21T12:45:14.989Z"
   },
   {
    "duration": 35,
    "start_time": "2022-04-21T12:45:15.031Z"
   },
   {
    "duration": 40,
    "start_time": "2022-04-21T12:45:15.069Z"
   },
   {
    "duration": 34,
    "start_time": "2022-04-21T12:45:15.112Z"
   },
   {
    "duration": 32,
    "start_time": "2022-04-21T12:45:15.149Z"
   },
   {
    "duration": 2168,
    "start_time": "2022-04-21T12:45:28.106Z"
   },
   {
    "duration": 13,
    "start_time": "2022-04-21T12:45:36.428Z"
   },
   {
    "duration": 15,
    "start_time": "2022-04-21T12:46:08.767Z"
   },
   {
    "duration": 8,
    "start_time": "2022-04-21T12:46:23.593Z"
   },
   {
    "duration": 17,
    "start_time": "2022-04-21T13:05:36.646Z"
   },
   {
    "duration": 3,
    "start_time": "2022-04-21T13:05:48.090Z"
   },
   {
    "duration": 47,
    "start_time": "2022-04-21T13:05:48.096Z"
   },
   {
    "duration": 32,
    "start_time": "2022-04-21T13:05:48.146Z"
   },
   {
    "duration": 21,
    "start_time": "2022-04-21T13:05:48.181Z"
   },
   {
    "duration": 2089,
    "start_time": "2022-04-21T13:05:48.204Z"
   },
   {
    "duration": 0,
    "start_time": "2022-04-21T13:05:50.298Z"
   },
   {
    "duration": 0,
    "start_time": "2022-04-21T13:05:50.300Z"
   },
   {
    "duration": 0,
    "start_time": "2022-04-21T13:05:50.301Z"
   },
   {
    "duration": 0,
    "start_time": "2022-04-21T13:05:50.303Z"
   },
   {
    "duration": 1,
    "start_time": "2022-04-21T13:05:50.303Z"
   },
   {
    "duration": 0,
    "start_time": "2022-04-21T13:05:50.305Z"
   },
   {
    "duration": 0,
    "start_time": "2022-04-21T13:05:50.306Z"
   },
   {
    "duration": 0,
    "start_time": "2022-04-21T13:05:50.308Z"
   },
   {
    "duration": 0,
    "start_time": "2022-04-21T13:05:50.309Z"
   },
   {
    "duration": 1,
    "start_time": "2022-04-21T13:05:50.310Z"
   },
   {
    "duration": 0,
    "start_time": "2022-04-21T13:05:50.312Z"
   },
   {
    "duration": 0,
    "start_time": "2022-04-21T13:05:50.314Z"
   },
   {
    "duration": 0,
    "start_time": "2022-04-21T13:05:50.316Z"
   },
   {
    "duration": 0,
    "start_time": "2022-04-21T13:05:50.317Z"
   },
   {
    "duration": 0,
    "start_time": "2022-04-21T13:05:50.319Z"
   },
   {
    "duration": 0,
    "start_time": "2022-04-21T13:05:50.320Z"
   },
   {
    "duration": 0,
    "start_time": "2022-04-21T13:05:50.322Z"
   },
   {
    "duration": 0,
    "start_time": "2022-04-21T13:05:50.324Z"
   },
   {
    "duration": 0,
    "start_time": "2022-04-21T13:05:50.325Z"
   },
   {
    "duration": 0,
    "start_time": "2022-04-21T13:05:50.327Z"
   },
   {
    "duration": 0,
    "start_time": "2022-04-21T13:05:50.328Z"
   },
   {
    "duration": 0,
    "start_time": "2022-04-21T13:05:50.329Z"
   },
   {
    "duration": 0,
    "start_time": "2022-04-21T13:05:50.331Z"
   },
   {
    "duration": 0,
    "start_time": "2022-04-21T13:05:50.332Z"
   },
   {
    "duration": 0,
    "start_time": "2022-04-21T13:05:50.333Z"
   },
   {
    "duration": 0,
    "start_time": "2022-04-21T13:05:50.335Z"
   },
   {
    "duration": 0,
    "start_time": "2022-04-21T13:05:50.356Z"
   },
   {
    "duration": 0,
    "start_time": "2022-04-21T13:05:50.362Z"
   },
   {
    "duration": 0,
    "start_time": "2022-04-21T13:05:50.364Z"
   },
   {
    "duration": 0,
    "start_time": "2022-04-21T13:05:50.366Z"
   },
   {
    "duration": 1,
    "start_time": "2022-04-21T13:05:50.369Z"
   },
   {
    "duration": 0,
    "start_time": "2022-04-21T13:05:50.372Z"
   },
   {
    "duration": 0,
    "start_time": "2022-04-21T13:05:50.373Z"
   },
   {
    "duration": 0,
    "start_time": "2022-04-21T13:05:50.374Z"
   },
   {
    "duration": 0,
    "start_time": "2022-04-21T13:05:50.376Z"
   },
   {
    "duration": 0,
    "start_time": "2022-04-21T13:05:50.377Z"
   },
   {
    "duration": 0,
    "start_time": "2022-04-21T13:05:50.379Z"
   },
   {
    "duration": 0,
    "start_time": "2022-04-21T13:05:50.380Z"
   },
   {
    "duration": 0,
    "start_time": "2022-04-21T13:05:50.381Z"
   },
   {
    "duration": 0,
    "start_time": "2022-04-21T13:05:50.383Z"
   },
   {
    "duration": 0,
    "start_time": "2022-04-21T13:05:50.384Z"
   },
   {
    "duration": 0,
    "start_time": "2022-04-21T13:05:50.386Z"
   },
   {
    "duration": 0,
    "start_time": "2022-04-21T13:05:50.388Z"
   },
   {
    "duration": 0,
    "start_time": "2022-04-21T13:05:50.389Z"
   },
   {
    "duration": 0,
    "start_time": "2022-04-21T13:05:50.390Z"
   },
   {
    "duration": 5,
    "start_time": "2022-04-21T13:06:07.040Z"
   },
   {
    "duration": 55,
    "start_time": "2022-04-21T13:06:07.047Z"
   },
   {
    "duration": 24,
    "start_time": "2022-04-21T13:06:07.104Z"
   },
   {
    "duration": 35,
    "start_time": "2022-04-21T13:06:07.132Z"
   },
   {
    "duration": 18,
    "start_time": "2022-04-21T13:06:07.170Z"
   },
   {
    "duration": 4,
    "start_time": "2022-04-21T13:06:07.190Z"
   },
   {
    "duration": 63,
    "start_time": "2022-04-21T13:06:07.196Z"
   },
   {
    "duration": 8,
    "start_time": "2022-04-21T13:06:07.264Z"
   },
   {
    "duration": 11,
    "start_time": "2022-04-21T13:06:07.276Z"
   },
   {
    "duration": 5064,
    "start_time": "2022-04-21T13:06:07.289Z"
   },
   {
    "duration": 5,
    "start_time": "2022-04-21T13:06:12.358Z"
   },
   {
    "duration": 13,
    "start_time": "2022-04-21T13:06:12.368Z"
   },
   {
    "duration": 26,
    "start_time": "2022-04-21T13:06:12.383Z"
   },
   {
    "duration": 6,
    "start_time": "2022-04-21T13:06:12.411Z"
   },
   {
    "duration": 8,
    "start_time": "2022-04-21T13:06:12.419Z"
   },
   {
    "duration": 13,
    "start_time": "2022-04-21T13:06:12.453Z"
   },
   {
    "duration": 24,
    "start_time": "2022-04-21T13:06:12.469Z"
   },
   {
    "duration": 6,
    "start_time": "2022-04-21T13:06:12.496Z"
   },
   {
    "duration": 10,
    "start_time": "2022-04-21T13:06:12.505Z"
   },
   {
    "duration": 46,
    "start_time": "2022-04-21T13:06:12.518Z"
   },
   {
    "duration": 487,
    "start_time": "2022-04-21T13:06:12.570Z"
   },
   {
    "duration": 13,
    "start_time": "2022-04-21T13:06:13.059Z"
   },
   {
    "duration": 35,
    "start_time": "2022-04-21T13:06:13.075Z"
   },
   {
    "duration": 421,
    "start_time": "2022-04-21T13:06:13.115Z"
   },
   {
    "duration": 48,
    "start_time": "2022-04-21T13:06:13.539Z"
   },
   {
    "duration": 36,
    "start_time": "2022-04-21T13:06:13.590Z"
   },
   {
    "duration": 466,
    "start_time": "2022-04-21T13:06:13.654Z"
   },
   {
    "duration": 530,
    "start_time": "2022-04-21T13:06:14.122Z"
   },
   {
    "duration": 478,
    "start_time": "2022-04-21T13:06:14.654Z"
   },
   {
    "duration": 464,
    "start_time": "2022-04-21T13:06:15.134Z"
   },
   {
    "duration": 75,
    "start_time": "2022-04-21T13:06:15.600Z"
   },
   {
    "duration": 11,
    "start_time": "2022-04-21T13:06:15.678Z"
   },
   {
    "duration": 10,
    "start_time": "2022-04-21T13:06:15.691Z"
   },
   {
    "duration": 13,
    "start_time": "2022-04-21T13:06:15.703Z"
   },
   {
    "duration": 488,
    "start_time": "2022-04-21T13:06:15.718Z"
   },
   {
    "duration": 7,
    "start_time": "2022-04-21T13:06:16.208Z"
   },
   {
    "duration": 12,
    "start_time": "2022-04-21T13:06:16.217Z"
   },
   {
    "duration": 464,
    "start_time": "2022-04-21T13:06:16.252Z"
   },
   {
    "duration": 6,
    "start_time": "2022-04-21T13:06:16.718Z"
   },
   {
    "duration": 28,
    "start_time": "2022-04-21T13:06:16.726Z"
   },
   {
    "duration": 675,
    "start_time": "2022-04-21T13:06:16.757Z"
   },
   {
    "duration": 750,
    "start_time": "2022-04-21T13:06:17.435Z"
   },
   {
    "duration": 635,
    "start_time": "2022-04-21T13:06:18.188Z"
   },
   {
    "duration": 830,
    "start_time": "2022-04-21T13:06:18.825Z"
   },
   {
    "duration": 15,
    "start_time": "2022-04-21T13:06:19.658Z"
   },
   {
    "duration": 12,
    "start_time": "2022-04-21T13:06:19.676Z"
   },
   {
    "duration": 11,
    "start_time": "2022-04-21T13:06:19.690Z"
   },
   {
    "duration": 16,
    "start_time": "2022-04-21T13:06:19.703Z"
   },
   {
    "duration": 40,
    "start_time": "2022-04-21T13:06:19.721Z"
   },
   {
    "duration": 17,
    "start_time": "2022-04-21T13:06:19.766Z"
   },
   {
    "duration": 5,
    "start_time": "2022-04-21T13:06:23.338Z"
   },
   {
    "duration": 61,
    "start_time": "2022-04-21T13:06:23.348Z"
   },
   {
    "duration": 23,
    "start_time": "2022-04-21T13:06:23.411Z"
   },
   {
    "duration": 53,
    "start_time": "2022-04-21T13:06:23.436Z"
   },
   {
    "duration": 15,
    "start_time": "2022-04-21T13:06:23.492Z"
   },
   {
    "duration": 10,
    "start_time": "2022-04-21T13:06:23.509Z"
   },
   {
    "duration": 49,
    "start_time": "2022-04-21T13:06:23.521Z"
   },
   {
    "duration": 6,
    "start_time": "2022-04-21T13:06:23.573Z"
   },
   {
    "duration": 7,
    "start_time": "2022-04-21T13:06:23.582Z"
   },
   {
    "duration": 5022,
    "start_time": "2022-04-21T13:06:23.592Z"
   },
   {
    "duration": 5,
    "start_time": "2022-04-21T13:06:28.618Z"
   },
   {
    "duration": 17,
    "start_time": "2022-04-21T13:06:28.626Z"
   },
   {
    "duration": 33,
    "start_time": "2022-04-21T13:06:28.652Z"
   },
   {
    "duration": 6,
    "start_time": "2022-04-21T13:06:28.687Z"
   },
   {
    "duration": 17,
    "start_time": "2022-04-21T13:06:28.695Z"
   },
   {
    "duration": 16,
    "start_time": "2022-04-21T13:06:28.714Z"
   },
   {
    "duration": 44,
    "start_time": "2022-04-21T13:06:28.732Z"
   },
   {
    "duration": 6,
    "start_time": "2022-04-21T13:06:28.778Z"
   },
   {
    "duration": 12,
    "start_time": "2022-04-21T13:06:28.786Z"
   },
   {
    "duration": 13,
    "start_time": "2022-04-21T13:06:28.801Z"
   },
   {
    "duration": 1369,
    "start_time": "2022-04-21T13:06:28.816Z"
   },
   {
    "duration": 69,
    "start_time": "2022-04-21T13:06:30.187Z"
   },
   {
    "duration": 96,
    "start_time": "2022-04-21T13:06:30.258Z"
   },
   {
    "duration": 1210,
    "start_time": "2022-04-21T13:06:30.358Z"
   },
   {
    "duration": 105,
    "start_time": "2022-04-21T13:06:31.571Z"
   },
   {
    "duration": 99,
    "start_time": "2022-04-21T13:06:31.678Z"
   },
   {
    "duration": 789,
    "start_time": "2022-04-21T13:06:31.780Z"
   },
   {
    "duration": 443,
    "start_time": "2022-04-21T13:06:32.572Z"
   },
   {
    "duration": 488,
    "start_time": "2022-04-21T13:06:33.024Z"
   },
   {
    "duration": 846,
    "start_time": "2022-04-21T13:06:33.515Z"
   },
   {
    "duration": 60,
    "start_time": "2022-04-21T13:06:34.364Z"
   },
   {
    "duration": 9,
    "start_time": "2022-04-21T13:06:34.426Z"
   },
   {
    "duration": 21,
    "start_time": "2022-04-21T13:06:34.437Z"
   },
   {
    "duration": 21,
    "start_time": "2022-04-21T13:06:34.460Z"
   },
   {
    "duration": 477,
    "start_time": "2022-04-21T13:06:34.483Z"
   },
   {
    "duration": 11,
    "start_time": "2022-04-21T13:06:34.962Z"
   },
   {
    "duration": 36,
    "start_time": "2022-04-21T13:06:34.975Z"
   },
   {
    "duration": 752,
    "start_time": "2022-04-21T13:06:35.013Z"
   },
   {
    "duration": 9,
    "start_time": "2022-04-21T13:06:35.769Z"
   },
   {
    "duration": 20,
    "start_time": "2022-04-21T13:06:35.781Z"
   },
   {
    "duration": 760,
    "start_time": "2022-04-21T13:06:35.803Z"
   },
   {
    "duration": 503,
    "start_time": "2022-04-21T13:06:36.566Z"
   },
   {
    "duration": 507,
    "start_time": "2022-04-21T13:06:37.072Z"
   },
   {
    "duration": 956,
    "start_time": "2022-04-21T13:06:37.582Z"
   },
   {
    "duration": 22,
    "start_time": "2022-04-21T13:06:38.540Z"
   },
   {
    "duration": 37,
    "start_time": "2022-04-21T13:06:38.564Z"
   },
   {
    "duration": 28,
    "start_time": "2022-04-21T13:06:38.604Z"
   },
   {
    "duration": 43,
    "start_time": "2022-04-21T13:06:38.635Z"
   },
   {
    "duration": 30,
    "start_time": "2022-04-21T13:06:38.681Z"
   },
   {
    "duration": 35,
    "start_time": "2022-04-21T13:06:38.713Z"
   },
   {
    "duration": 29,
    "start_time": "2022-04-21T13:15:19.942Z"
   },
   {
    "duration": 808,
    "start_time": "2022-04-21T13:22:25.272Z"
   },
   {
    "duration": 479,
    "start_time": "2022-04-21T13:22:44.363Z"
   },
   {
    "duration": 585,
    "start_time": "2022-04-21T13:23:15.630Z"
   },
   {
    "duration": 495,
    "start_time": "2022-04-21T13:24:14.648Z"
   },
   {
    "duration": 34,
    "start_time": "2022-04-21T13:32:17.523Z"
   },
   {
    "duration": 14,
    "start_time": "2022-04-21T14:09:59.160Z"
   },
   {
    "duration": 446,
    "start_time": "2022-04-21T14:10:54.996Z"
   },
   {
    "duration": 47,
    "start_time": "2022-04-22T11:12:47.946Z"
   },
   {
    "duration": 1293,
    "start_time": "2022-04-22T11:12:51.417Z"
   },
   {
    "duration": 37,
    "start_time": "2022-04-22T11:12:52.713Z"
   },
   {
    "duration": 19,
    "start_time": "2022-04-22T11:12:52.752Z"
   },
   {
    "duration": 13,
    "start_time": "2022-04-22T11:12:52.773Z"
   },
   {
    "duration": 3,
    "start_time": "2022-04-22T11:12:52.789Z"
   },
   {
    "duration": 18,
    "start_time": "2022-04-22T11:12:52.793Z"
   },
   {
    "duration": 4,
    "start_time": "2022-04-22T11:12:52.813Z"
   },
   {
    "duration": 7,
    "start_time": "2022-04-22T11:12:52.819Z"
   },
   {
    "duration": 2470,
    "start_time": "2022-04-22T11:12:52.827Z"
   },
   {
    "duration": 3,
    "start_time": "2022-04-22T11:12:55.299Z"
   },
   {
    "duration": 9,
    "start_time": "2022-04-22T11:12:55.304Z"
   },
   {
    "duration": 23,
    "start_time": "2022-04-22T11:12:55.315Z"
   },
   {
    "duration": 46,
    "start_time": "2022-04-22T11:12:55.340Z"
   },
   {
    "duration": 6,
    "start_time": "2022-04-22T11:12:55.390Z"
   },
   {
    "duration": 13,
    "start_time": "2022-04-22T11:12:55.398Z"
   },
   {
    "duration": 17,
    "start_time": "2022-04-22T11:12:55.412Z"
   },
   {
    "duration": 4,
    "start_time": "2022-04-22T11:12:55.431Z"
   },
   {
    "duration": 11,
    "start_time": "2022-04-22T11:12:55.436Z"
   },
   {
    "duration": 8,
    "start_time": "2022-04-22T11:12:55.448Z"
   },
   {
    "duration": 287,
    "start_time": "2022-04-22T11:12:55.458Z"
   },
   {
    "duration": 12,
    "start_time": "2022-04-22T11:12:55.747Z"
   },
   {
    "duration": 25,
    "start_time": "2022-04-22T11:12:55.761Z"
   },
   {
    "duration": 243,
    "start_time": "2022-04-22T11:12:55.788Z"
   },
   {
    "duration": 24,
    "start_time": "2022-04-22T11:12:56.033Z"
   },
   {
    "duration": 23,
    "start_time": "2022-04-22T11:12:56.058Z"
   },
   {
    "duration": 290,
    "start_time": "2022-04-22T11:12:56.082Z"
   },
   {
    "duration": 241,
    "start_time": "2022-04-22T11:12:56.373Z"
   },
   {
    "duration": 255,
    "start_time": "2022-04-22T11:12:56.616Z"
   },
   {
    "duration": 39,
    "start_time": "2022-04-22T11:12:56.873Z"
   },
   {
    "duration": 6,
    "start_time": "2022-04-22T11:12:56.914Z"
   },
   {
    "duration": 7,
    "start_time": "2022-04-22T11:12:56.922Z"
   },
   {
    "duration": 30,
    "start_time": "2022-04-22T11:12:56.930Z"
   },
   {
    "duration": 243,
    "start_time": "2022-04-22T11:12:56.962Z"
   },
   {
    "duration": 6,
    "start_time": "2022-04-22T11:12:57.207Z"
   },
   {
    "duration": 9,
    "start_time": "2022-04-22T11:12:57.215Z"
   },
   {
    "duration": 271,
    "start_time": "2022-04-22T11:12:57.226Z"
   },
   {
    "duration": 6,
    "start_time": "2022-04-22T11:12:57.499Z"
   },
   {
    "duration": 9,
    "start_time": "2022-04-22T11:12:57.506Z"
   },
   {
    "duration": 464,
    "start_time": "2022-04-22T11:12:57.517Z"
   },
   {
    "duration": 145,
    "start_time": "2022-04-22T11:12:57.983Z"
   },
   {
    "duration": 262,
    "start_time": "2022-04-22T11:12:58.131Z"
   },
   {
    "duration": 277,
    "start_time": "2022-04-22T11:12:58.395Z"
   },
   {
    "duration": 451,
    "start_time": "2022-04-22T11:12:58.674Z"
   },
   {
    "duration": 8,
    "start_time": "2022-04-22T11:12:59.126Z"
   },
   {
    "duration": 21,
    "start_time": "2022-04-22T11:12:59.135Z"
   },
   {
    "duration": 5,
    "start_time": "2022-04-22T11:12:59.157Z"
   },
   {
    "duration": 12,
    "start_time": "2022-04-22T11:12:59.164Z"
   },
   {
    "duration": 9,
    "start_time": "2022-04-22T11:12:59.178Z"
   },
   {
    "duration": 7,
    "start_time": "2022-04-22T11:12:59.188Z"
   },
   {
    "duration": 144,
    "start_time": "2022-04-22T11:13:44.438Z"
   },
   {
    "duration": 165,
    "start_time": "2022-04-22T11:14:07.435Z"
   },
   {
    "duration": 155,
    "start_time": "2022-04-22T11:14:30.014Z"
   },
   {
    "duration": 145,
    "start_time": "2022-04-22T11:14:38.463Z"
   },
   {
    "duration": 263,
    "start_time": "2022-04-22T11:14:43.831Z"
   },
   {
    "duration": 183,
    "start_time": "2022-04-22T11:14:49.154Z"
   },
   {
    "duration": 145,
    "start_time": "2022-04-22T11:14:55.033Z"
   },
   {
    "duration": 163,
    "start_time": "2022-04-22T11:14:59.948Z"
   },
   {
    "duration": 3,
    "start_time": "2022-04-22T11:15:36.491Z"
   },
   {
    "duration": 160,
    "start_time": "2022-04-22T11:21:21.263Z"
   },
   {
    "duration": 239,
    "start_time": "2022-04-22T11:26:10.628Z"
   },
   {
    "duration": 259,
    "start_time": "2022-04-22T11:26:25.089Z"
   },
   {
    "duration": 230,
    "start_time": "2022-04-22T11:26:43.956Z"
   },
   {
    "duration": 264,
    "start_time": "2022-04-22T11:32:46.625Z"
   },
   {
    "duration": 373,
    "start_time": "2022-04-22T11:33:29.435Z"
   },
   {
    "duration": 267,
    "start_time": "2022-04-22T11:34:13.606Z"
   },
   {
    "duration": 122,
    "start_time": "2022-04-22T11:34:22.477Z"
   },
   {
    "duration": 125,
    "start_time": "2022-04-22T11:34:25.549Z"
   },
   {
    "duration": 262,
    "start_time": "2022-04-22T11:34:29.386Z"
   },
   {
    "duration": 275,
    "start_time": "2022-04-22T11:34:42.979Z"
   },
   {
    "duration": 11,
    "start_time": "2022-04-22T11:34:56.355Z"
   },
   {
    "duration": 9,
    "start_time": "2022-04-22T11:36:39.810Z"
   },
   {
    "duration": 10,
    "start_time": "2022-04-22T11:36:58.376Z"
   },
   {
    "duration": 10,
    "start_time": "2022-04-22T11:37:09.441Z"
   },
   {
    "duration": 352,
    "start_time": "2022-04-22T11:37:57.780Z"
   },
   {
    "duration": 8,
    "start_time": "2022-04-22T11:38:55.629Z"
   },
   {
    "duration": 7,
    "start_time": "2022-04-22T11:39:22.821Z"
   },
   {
    "duration": 7,
    "start_time": "2022-04-22T11:39:29.140Z"
   },
   {
    "duration": 7,
    "start_time": "2022-04-22T11:39:38.415Z"
   },
   {
    "duration": 361,
    "start_time": "2022-04-22T11:40:31.110Z"
   },
   {
    "duration": 8,
    "start_time": "2022-04-22T11:43:51.716Z"
   },
   {
    "duration": 381,
    "start_time": "2022-04-22T11:44:13.132Z"
   },
   {
    "duration": 275,
    "start_time": "2022-04-22T11:44:30.984Z"
   },
   {
    "duration": 258,
    "start_time": "2022-04-22T11:44:37.247Z"
   },
   {
    "duration": 266,
    "start_time": "2022-04-22T11:44:48.413Z"
   },
   {
    "duration": 462,
    "start_time": "2022-04-22T11:46:15.480Z"
   },
   {
    "duration": 504,
    "start_time": "2022-04-22T11:46:34.368Z"
   },
   {
    "duration": 361,
    "start_time": "2022-04-22T11:46:42.315Z"
   },
   {
    "duration": 366,
    "start_time": "2022-04-22T11:46:52.007Z"
   },
   {
    "duration": 361,
    "start_time": "2022-04-22T11:46:57.971Z"
   },
   {
    "duration": 312,
    "start_time": "2022-04-22T11:48:24.402Z"
   },
   {
    "duration": 452,
    "start_time": "2022-04-22T11:48:30.868Z"
   },
   {
    "duration": 337,
    "start_time": "2022-04-22T11:48:34.978Z"
   },
   {
    "duration": 328,
    "start_time": "2022-04-22T11:48:46.368Z"
   },
   {
    "duration": 318,
    "start_time": "2022-04-22T11:48:52.822Z"
   },
   {
    "duration": 342,
    "start_time": "2022-04-22T11:48:59.172Z"
   },
   {
    "duration": 339,
    "start_time": "2022-04-22T11:50:03.739Z"
   },
   {
    "duration": 378,
    "start_time": "2022-04-22T11:50:12.845Z"
   },
   {
    "duration": 403,
    "start_time": "2022-04-22T12:14:04.733Z"
   },
   {
    "duration": 550,
    "start_time": "2022-04-22T12:14:15.012Z"
   },
   {
    "duration": 89,
    "start_time": "2022-04-24T10:36:40.117Z"
   },
   {
    "duration": 1263,
    "start_time": "2022-04-24T11:38:40.222Z"
   },
   {
    "duration": 38,
    "start_time": "2022-04-24T11:38:41.488Z"
   },
   {
    "duration": 24,
    "start_time": "2022-04-24T11:38:41.527Z"
   },
   {
    "duration": 18,
    "start_time": "2022-04-24T11:38:41.554Z"
   },
   {
    "duration": 3,
    "start_time": "2022-04-24T11:38:41.573Z"
   },
   {
    "duration": 17,
    "start_time": "2022-04-24T11:38:41.578Z"
   },
   {
    "duration": 4,
    "start_time": "2022-04-24T11:38:41.596Z"
   },
   {
    "duration": 5,
    "start_time": "2022-04-24T11:38:41.602Z"
   },
   {
    "duration": 2665,
    "start_time": "2022-04-24T11:38:41.609Z"
   },
   {
    "duration": 3,
    "start_time": "2022-04-24T11:38:44.277Z"
   },
   {
    "duration": 7,
    "start_time": "2022-04-24T11:38:44.281Z"
   },
   {
    "duration": 18,
    "start_time": "2022-04-24T11:38:44.289Z"
   },
   {
    "duration": 4,
    "start_time": "2022-04-24T11:38:44.309Z"
   },
   {
    "duration": 7,
    "start_time": "2022-04-24T11:38:44.315Z"
   },
   {
    "duration": 30,
    "start_time": "2022-04-24T11:38:44.325Z"
   },
   {
    "duration": 20,
    "start_time": "2022-04-24T11:38:44.357Z"
   },
   {
    "duration": 5,
    "start_time": "2022-04-24T11:38:44.379Z"
   },
   {
    "duration": 8,
    "start_time": "2022-04-24T11:38:44.385Z"
   },
   {
    "duration": 7,
    "start_time": "2022-04-24T11:38:44.395Z"
   },
   {
    "duration": 314,
    "start_time": "2022-04-24T11:38:44.404Z"
   },
   {
    "duration": 8,
    "start_time": "2022-04-24T11:38:44.719Z"
   },
   {
    "duration": 44,
    "start_time": "2022-04-24T11:38:44.729Z"
   },
   {
    "duration": 242,
    "start_time": "2022-04-24T11:38:44.774Z"
   },
   {
    "duration": 24,
    "start_time": "2022-04-24T11:38:45.018Z"
   },
   {
    "duration": 27,
    "start_time": "2022-04-24T11:38:45.044Z"
   },
   {
    "duration": 257,
    "start_time": "2022-04-24T11:38:45.072Z"
   },
   {
    "duration": 240,
    "start_time": "2022-04-24T11:38:45.331Z"
   },
   {
    "duration": 266,
    "start_time": "2022-04-24T11:38:45.574Z"
   },
   {
    "duration": 42,
    "start_time": "2022-04-24T11:38:45.841Z"
   },
   {
    "duration": 7,
    "start_time": "2022-04-24T11:38:45.885Z"
   },
   {
    "duration": 5,
    "start_time": "2022-04-24T11:38:45.894Z"
   },
   {
    "duration": 6,
    "start_time": "2022-04-24T11:38:45.901Z"
   },
   {
    "duration": 265,
    "start_time": "2022-04-24T11:38:45.908Z"
   },
   {
    "duration": 5,
    "start_time": "2022-04-24T11:38:46.174Z"
   },
   {
    "duration": 14,
    "start_time": "2022-04-24T11:38:46.181Z"
   },
   {
    "duration": 245,
    "start_time": "2022-04-24T11:38:46.197Z"
   },
   {
    "duration": 6,
    "start_time": "2022-04-24T11:38:46.452Z"
   },
   {
    "duration": 11,
    "start_time": "2022-04-24T11:38:46.459Z"
   },
   {
    "duration": 3,
    "start_time": "2022-04-24T11:38:46.472Z"
   },
   {
    "duration": 166,
    "start_time": "2022-04-24T11:38:46.476Z"
   },
   {
    "duration": 369,
    "start_time": "2022-04-24T11:38:46.644Z"
   },
   {
    "duration": 325,
    "start_time": "2022-04-24T11:38:47.015Z"
   },
   {
    "duration": 471,
    "start_time": "2022-04-24T11:38:47.342Z"
   },
   {
    "duration": 8,
    "start_time": "2022-04-24T11:38:47.815Z"
   },
   {
    "duration": 26,
    "start_time": "2022-04-24T11:38:47.825Z"
   },
   {
    "duration": 5,
    "start_time": "2022-04-24T11:38:47.853Z"
   },
   {
    "duration": 13,
    "start_time": "2022-04-24T11:38:47.859Z"
   },
   {
    "duration": 7,
    "start_time": "2022-04-24T11:38:47.873Z"
   },
   {
    "duration": 8,
    "start_time": "2022-04-24T11:38:47.882Z"
   },
   {
    "duration": 532,
    "start_time": "2022-04-24T11:43:13.562Z"
   },
   {
    "duration": 310,
    "start_time": "2022-04-24T11:43:22.024Z"
   },
   {
    "duration": 308,
    "start_time": "2022-04-24T11:44:46.233Z"
   },
   {
    "duration": 413,
    "start_time": "2022-04-24T11:44:52.941Z"
   },
   {
    "duration": 312,
    "start_time": "2022-04-24T11:45:02.326Z"
   },
   {
    "duration": 356,
    "start_time": "2022-04-24T11:45:13.972Z"
   },
   {
    "duration": 56,
    "start_time": "2022-04-25T08:00:16.129Z"
   },
   {
    "duration": 1323,
    "start_time": "2022-04-25T08:00:19.265Z"
   },
   {
    "duration": 42,
    "start_time": "2022-04-25T08:00:20.590Z"
   },
   {
    "duration": 20,
    "start_time": "2022-04-25T08:00:20.633Z"
   },
   {
    "duration": 14,
    "start_time": "2022-04-25T08:00:20.655Z"
   },
   {
    "duration": 5,
    "start_time": "2022-04-25T08:00:20.672Z"
   },
   {
    "duration": 17,
    "start_time": "2022-04-25T08:00:20.692Z"
   },
   {
    "duration": 4,
    "start_time": "2022-04-25T08:00:20.711Z"
   },
   {
    "duration": 5,
    "start_time": "2022-04-25T08:00:20.717Z"
   },
   {
    "duration": 2602,
    "start_time": "2022-04-25T08:00:20.724Z"
   },
   {
    "duration": 3,
    "start_time": "2022-04-25T08:00:23.328Z"
   },
   {
    "duration": 8,
    "start_time": "2022-04-25T08:00:23.333Z"
   },
   {
    "duration": 25,
    "start_time": "2022-04-25T08:00:23.342Z"
   },
   {
    "duration": 5,
    "start_time": "2022-04-25T08:00:23.369Z"
   },
   {
    "duration": 5,
    "start_time": "2022-04-25T08:00:23.392Z"
   },
   {
    "duration": 9,
    "start_time": "2022-04-25T08:00:23.399Z"
   },
   {
    "duration": 18,
    "start_time": "2022-04-25T08:00:23.410Z"
   },
   {
    "duration": 5,
    "start_time": "2022-04-25T08:00:23.430Z"
   },
   {
    "duration": 11,
    "start_time": "2022-04-25T08:00:23.437Z"
   },
   {
    "duration": 8,
    "start_time": "2022-04-25T08:00:23.450Z"
   },
   {
    "duration": 335,
    "start_time": "2022-04-25T08:00:23.460Z"
   },
   {
    "duration": 8,
    "start_time": "2022-04-25T08:00:23.796Z"
   },
   {
    "duration": 24,
    "start_time": "2022-04-25T08:00:23.806Z"
   },
   {
    "duration": 249,
    "start_time": "2022-04-25T08:00:23.832Z"
   },
   {
    "duration": 23,
    "start_time": "2022-04-25T08:00:24.083Z"
   },
   {
    "duration": 24,
    "start_time": "2022-04-25T08:00:24.108Z"
   },
   {
    "duration": 286,
    "start_time": "2022-04-25T08:00:24.133Z"
   },
   {
    "duration": 251,
    "start_time": "2022-04-25T08:00:24.421Z"
   },
   {
    "duration": 308,
    "start_time": "2022-04-25T08:00:24.693Z"
   },
   {
    "duration": 36,
    "start_time": "2022-04-25T08:00:25.004Z"
   },
   {
    "duration": 7,
    "start_time": "2022-04-25T08:00:25.042Z"
   },
   {
    "duration": 7,
    "start_time": "2022-04-25T08:00:25.051Z"
   },
   {
    "duration": 13,
    "start_time": "2022-04-25T08:00:25.060Z"
   },
   {
    "duration": 267,
    "start_time": "2022-04-25T08:00:25.093Z"
   },
   {
    "duration": 5,
    "start_time": "2022-04-25T08:00:25.362Z"
   },
   {
    "duration": 6,
    "start_time": "2022-04-25T08:00:25.369Z"
   },
   {
    "duration": 271,
    "start_time": "2022-04-25T08:00:25.377Z"
   },
   {
    "duration": 5,
    "start_time": "2022-04-25T08:00:25.650Z"
   },
   {
    "duration": 6,
    "start_time": "2022-04-25T08:00:25.657Z"
   },
   {
    "duration": 3,
    "start_time": "2022-04-25T08:00:25.664Z"
   },
   {
    "duration": 174,
    "start_time": "2022-04-25T08:00:25.668Z"
   },
   {
    "duration": 500,
    "start_time": "2022-04-25T08:00:25.892Z"
   },
   {
    "duration": 310,
    "start_time": "2022-04-25T08:00:26.394Z"
   },
   {
    "duration": 353,
    "start_time": "2022-04-25T08:00:26.706Z"
   },
   {
    "duration": 509,
    "start_time": "2022-04-25T08:00:27.061Z"
   },
   {
    "duration": 8,
    "start_time": "2022-04-25T08:00:27.572Z"
   },
   {
    "duration": 23,
    "start_time": "2022-04-25T08:00:27.582Z"
   },
   {
    "duration": 10,
    "start_time": "2022-04-25T08:00:27.606Z"
   },
   {
    "duration": 19,
    "start_time": "2022-04-25T08:00:27.617Z"
   },
   {
    "duration": 22,
    "start_time": "2022-04-25T08:00:27.638Z"
   },
   {
    "duration": 22,
    "start_time": "2022-04-25T08:00:27.662Z"
   }
  ],
  "kernelspec": {
   "display_name": "Python 3 (ipykernel)",
   "language": "python",
   "name": "python3"
  },
  "language_info": {
   "codemirror_mode": {
    "name": "ipython",
    "version": 3
   },
   "file_extension": ".py",
   "mimetype": "text/x-python",
   "name": "python",
   "nbconvert_exporter": "python",
   "pygments_lexer": "ipython3",
   "version": "3.9.7"
  },
  "toc": {
   "base_numbering": 1,
   "nav_menu": {},
   "number_sections": true,
   "sideBar": true,
   "skip_h1_title": false,
   "title_cell": "Содержание",
   "title_sidebar": "Contents",
   "toc_cell": true,
   "toc_position": {
    "height": "calc(100% - 180px)",
    "left": "10px",
    "top": "150px",
    "width": "273.188px"
   },
   "toc_section_display": true,
   "toc_window_display": false
  }
 },
 "nbformat": 4,
 "nbformat_minor": 5
}
