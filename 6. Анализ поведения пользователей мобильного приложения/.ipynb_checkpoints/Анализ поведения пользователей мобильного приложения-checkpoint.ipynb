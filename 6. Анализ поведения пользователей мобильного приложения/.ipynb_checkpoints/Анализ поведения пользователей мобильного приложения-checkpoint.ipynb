{
 "cells": [
  {
   "cell_type": "markdown",
   "id": "dc49d433",
   "metadata": {},
   "source": [
    "# Анализ поведения пользователей мобильного приложения"
   ]
  },
  {
   "cell_type": "markdown",
   "id": "5b27048e",
   "metadata": {},
   "source": [
    "Мы исследуем клиентов стартапа, который продаёт продукты питания. Нужно разобраться, как ведут себя пользователи мобильного приложения. Изучить воронку продаж. Узнайть, как пользователи доходят до покупки. \n",
    "Сколько пользователей доходит до покупки, а сколько — «застревает» на \n",
    "предыдущих шагах и на каких именно. \n",
    "\n",
    "Далее нам нужно исследовать результаты A/A/B-эксперимента. Дизайнеры предлагают поменять шрифты во всём приложении, а менеджеры опасаются, что пользователям будет непривычно. Договорились принять решение по результатам A/A/B-теста. Пользователей разбили на 3 группы: 2 контрольные со старыми шрифтами и одну экспериментальную — с новыми. Выясним, какой шрифт лучше.\n",
    "\n",
    "В нашем распоряжении данные, в которых каждая запись — это действие пользователя, или событие"
   ]
  },
  {
   "cell_type": "markdown",
   "id": "1389a093",
   "metadata": {
    "toc": true
   },
   "source": [
    "<h1>Содержание<span class=\"tocSkip\"></span></h1>\n",
    "<div class=\"toc\"><ul class=\"toc-item\"><li><span><a href=\"#Загружаем-данные-и-готовим-их-к-анализу\" data-toc-modified-id=\"Загружаем-данные-и-готовим-их-к-анализу-1\"><span class=\"toc-item-num\">1&nbsp;&nbsp;</span>Загружаем данные и готовим их к анализу</a></span><ul class=\"toc-item\"><li><span><a href=\"#Загрузка-данных\" data-toc-modified-id=\"Загрузка-данных-1.1\"><span class=\"toc-item-num\">1.1&nbsp;&nbsp;</span>Загрузка данных</a></span></li><li><span><a href=\"#Подготовка-данных\" data-toc-modified-id=\"Подготовка-данных-1.2\"><span class=\"toc-item-num\">1.2&nbsp;&nbsp;</span>Подготовка данных</a></span></li></ul></li><li><span><a href=\"#Изучение-и-проверка-данных\" data-toc-modified-id=\"Изучение-и-проверка-данных-2\"><span class=\"toc-item-num\">2&nbsp;&nbsp;</span>Изучение и проверка данных</a></span><ul class=\"toc-item\"><li><span><a href=\"#Проверим-сколько-всего-событий-в-логе\" data-toc-modified-id=\"Проверим-сколько-всего-событий-в-логе-2.1\"><span class=\"toc-item-num\">2.1&nbsp;&nbsp;</span>Проверим сколько всего событий в логе</a></span></li><li><span><a href=\"#Проверим-сколько-всего-пользователей-в-логе\" data-toc-modified-id=\"Проверим-сколько-всего-пользователей-в-логе-2.2\"><span class=\"toc-item-num\">2.2&nbsp;&nbsp;</span>Проверим сколько всего пользователей в логе</a></span></li><li><span><a href=\"#Подсчёт-среднего-колличества-событий-на-пользователя\" data-toc-modified-id=\"Подсчёт-среднего-колличества-событий-на-пользователя-2.3\"><span class=\"toc-item-num\">2.3&nbsp;&nbsp;</span>Подсчёт среднего колличества событий на пользователя</a></span></li><li><span><a href=\"#Определение-временного-периода-за-который-мы-располагаем-достаточным-объемом-данных\" data-toc-modified-id=\"Определение-временного-периода-за-который-мы-располагаем-достаточным-объемом-данных-2.4\"><span class=\"toc-item-num\">2.4&nbsp;&nbsp;</span>Определение временного периода за который мы располагаем достаточным объемом данных</a></span></li><li><span><a href=\"#Подсчет-колличества-потерянных-событий-и-пользователей\" data-toc-modified-id=\"Подсчет-колличества-потерянных-событий-и-пользователей-2.5\"><span class=\"toc-item-num\">2.5&nbsp;&nbsp;</span>Подсчет колличества потерянных событий и пользователей</a></span></li><li><span><a href=\"#Проверка-пользователей-по-группам-эксперимента\" data-toc-modified-id=\"Проверка-пользователей-по-группам-эксперимента-2.6\"><span class=\"toc-item-num\">2.6&nbsp;&nbsp;</span>Проверка пользователей по группам эксперимента</a></span></li></ul></li><li><span><a href=\"#Изучение-воронки-событий\" data-toc-modified-id=\"Изучение-воронки-событий-3\"><span class=\"toc-item-num\">3&nbsp;&nbsp;</span>Изучение воронки событий</a></span><ul class=\"toc-item\"><li><span><a href=\"#Посмотрим-какие-события-есть-в-логах-и-как-часто-они-встречаются\" data-toc-modified-id=\"Посмотрим-какие-события-есть-в-логах-и-как-часто-они-встречаются-3.1\"><span class=\"toc-item-num\">3.1&nbsp;&nbsp;</span>Посмотрим какие события есть в логах и как часто они встречаются</a></span></li><li><span><a href=\"#Посчитаем,-сколько-пользователей-совершали-каждое-из-событий--и-долю-пользователей,-которые-хоть-раз-совершали-событие.\" data-toc-modified-id=\"Посчитаем,-сколько-пользователей-совершали-каждое-из-событий--и-долю-пользователей,-которые-хоть-раз-совершали-событие.-3.2\"><span class=\"toc-item-num\">3.2&nbsp;&nbsp;</span>Посчитаем, сколько пользователей совершали каждое из событий  и долю пользователей, которые хоть раз совершали событие.</a></span></li><li><span><a href=\"#Определим,-в-каком-порядке-происходят-события\" data-toc-modified-id=\"Определим,-в-каком-порядке-происходят-события-3.3\"><span class=\"toc-item-num\">3.3&nbsp;&nbsp;</span>Определим, в каком порядке происходят события</a></span></li><li><span><a href=\"#Посчитаем-долю-пользователей-переходящих-на-следующий-шаг-воронки(от-числа-пользователей-на-предыдущем)\" data-toc-modified-id=\"Посчитаем-долю-пользователей-переходящих-на-следующий-шаг-воронки(от-числа-пользователей-на-предыдущем)-3.4\"><span class=\"toc-item-num\">3.4&nbsp;&nbsp;</span>Посчитаем долю пользователей переходящих на следующий шаг воронки(от числа пользователей на предыдущем)</a></span></li></ul></li><li><span><a href=\"#Изучим-результаты-эксперимента\" data-toc-modified-id=\"Изучим-результаты-эксперимента-4\"><span class=\"toc-item-num\">4&nbsp;&nbsp;</span>Изучим результаты эксперимента</a></span><ul class=\"toc-item\"><li><span><a href=\"#Посмотрим,-сколько-пользователей-в-каждой-экспериментальной-группе\" data-toc-modified-id=\"Посмотрим,-сколько-пользователей-в-каждой-экспериментальной-группе-4.1\"><span class=\"toc-item-num\">4.1&nbsp;&nbsp;</span>Посмотрим, сколько пользователей в каждой экспериментальной группе</a></span></li><li><span><a href=\"#Проведём-A/A--эксперимент,-проверим-находят-ли-статистические-критерии-разницу-между-выборками-A1-и-A2\" data-toc-modified-id=\"Проведём-A/A--эксперимент,-проверим-находят-ли-статистические-критерии-разницу-между-выборками-A1-и-A2-4.2\"><span class=\"toc-item-num\">4.2&nbsp;&nbsp;</span>Проведём A/A- эксперимент, проверим находят ли статистические критерии разницу между выборками A1 и A2</a></span></li><li><span><a href=\"#Проверим-находят-ли-статистические-критерии-разницу-между-выборками-A1-и-B\" data-toc-modified-id=\"Проверим-находят-ли-статистические-критерии-разницу-между-выборками-A1-и-B-4.3\"><span class=\"toc-item-num\">4.3&nbsp;&nbsp;</span>Проверим находят ли статистические критерии разницу между выборками A1 и B</a></span></li><li><span><a href=\"#Проверим-находят-ли-статистические-критерии-разницу-между-выборками-A2-и-B\" data-toc-modified-id=\"Проверим-находят-ли-статистические-критерии-разницу-между-выборками-A2-и-B-4.4\"><span class=\"toc-item-num\">4.4&nbsp;&nbsp;</span>Проверим находят ли статистические критерии разницу между выборками A2 и B</a></span></li><li><span><a href=\"#Проверим-находят-ли-статистические-критерии-разницу-между-выборками-A1_A2-и-B\" data-toc-modified-id=\"Проверим-находят-ли-статистические-критерии-разницу-между-выборками-A1_A2-и-B-4.5\"><span class=\"toc-item-num\">4.5&nbsp;&nbsp;</span>Проверим находят ли статистические критерии разницу между выборками A1_A2 и B</a></span></li></ul></li><li><span><a href=\"#Вывод\" data-toc-modified-id=\"Вывод-5\"><span class=\"toc-item-num\">5&nbsp;&nbsp;</span>Вывод</a></span></li></ul></div>"
   ]
  },
  {
   "cell_type": "markdown",
   "id": "b63fddde",
   "metadata": {},
   "source": [
    "## Загружаем данные и готовим их к анализу"
   ]
  },
  {
   "cell_type": "markdown",
   "id": "96354193",
   "metadata": {},
   "source": [
    "### Загрузка данных"
   ]
  },
  {
   "cell_type": "code",
   "execution_count": 104,
   "id": "3c70dba5",
   "metadata": {},
   "outputs": [],
   "source": [
    "# импорт необходимых библиотек\n",
    "import pandas as pd\n",
    "from IPython.display import HTML, display\n",
    "import numpy as np\n",
    "import matplotlib.pyplot as plt\n",
    "import datetime as dt\n",
    "from plotly import graph_objects as go\n",
    "import plotly.express as px\n",
    "from scipy import stats as st\n",
    "import math as mth"
   ]
  },
  {
   "cell_type": "code",
   "execution_count": 105,
   "id": "fd06a39a",
   "metadata": {},
   "outputs": [],
   "source": [
    "# функция для первичного знакомства с данными\n",
    "def analysis(df):\n",
    "  df.columns = [x.lower().replace(' ', '_') for x in df.columns]\n",
    "  print('Колличество дубликатов:', df.duplicated().sum())\n",
    "  print('describe')\n",
    "  display(df.describe())\n",
    "  print('info')\n",
    "  display(df.info())\n",
    "  display(df.head(10))"
   ]
  },
  {
   "cell_type": "markdown",
   "id": "6d90fede",
   "metadata": {},
   "source": [
    "Прочитаем файл и сохраним в переменной `df`"
   ]
  },
  {
   "cell_type": "code",
   "execution_count": 106,
   "id": "3fef4136",
   "metadata": {},
   "outputs": [],
   "source": [
    "try:\n",
    "    df = pd.read_csv('logs_exp.csv', sep='\\t')\n",
    "except FileNotFoundError:\n",
    "    df = pd.read_csv('/datasets/logs_exp.csv', sep='\\t')"
   ]
  },
  {
   "cell_type": "markdown",
   "id": "f5b069f6",
   "metadata": {},
   "source": [
    "Получим информацию о данных"
   ]
  },
  {
   "cell_type": "code",
   "execution_count": 107,
   "id": "ccc4b20e",
   "metadata": {},
   "outputs": [
    {
     "name": "stdout",
     "output_type": "stream",
     "text": [
      "Колличество дубликатов: 413\n",
      "describe\n"
     ]
    },
    {
     "data": {
      "text/html": [
       "<div>\n",
       "<style scoped>\n",
       "    .dataframe tbody tr th:only-of-type {\n",
       "        vertical-align: middle;\n",
       "    }\n",
       "\n",
       "    .dataframe tbody tr th {\n",
       "        vertical-align: top;\n",
       "    }\n",
       "\n",
       "    .dataframe thead th {\n",
       "        text-align: right;\n",
       "    }\n",
       "</style>\n",
       "<table border=\"1\" class=\"dataframe\">\n",
       "  <thead>\n",
       "    <tr style=\"text-align: right;\">\n",
       "      <th></th>\n",
       "      <th>deviceidhash</th>\n",
       "      <th>eventtimestamp</th>\n",
       "      <th>expid</th>\n",
       "    </tr>\n",
       "  </thead>\n",
       "  <tbody>\n",
       "    <tr>\n",
       "      <th>count</th>\n",
       "      <td>2.441260e+05</td>\n",
       "      <td>2.441260e+05</td>\n",
       "      <td>244126.000000</td>\n",
       "    </tr>\n",
       "    <tr>\n",
       "      <th>mean</th>\n",
       "      <td>4.627568e+18</td>\n",
       "      <td>1.564914e+09</td>\n",
       "      <td>247.022296</td>\n",
       "    </tr>\n",
       "    <tr>\n",
       "      <th>std</th>\n",
       "      <td>2.642425e+18</td>\n",
       "      <td>1.771343e+05</td>\n",
       "      <td>0.824434</td>\n",
       "    </tr>\n",
       "    <tr>\n",
       "      <th>min</th>\n",
       "      <td>6.888747e+15</td>\n",
       "      <td>1.564030e+09</td>\n",
       "      <td>246.000000</td>\n",
       "    </tr>\n",
       "    <tr>\n",
       "      <th>25%</th>\n",
       "      <td>2.372212e+18</td>\n",
       "      <td>1.564757e+09</td>\n",
       "      <td>246.000000</td>\n",
       "    </tr>\n",
       "    <tr>\n",
       "      <th>50%</th>\n",
       "      <td>4.623192e+18</td>\n",
       "      <td>1.564919e+09</td>\n",
       "      <td>247.000000</td>\n",
       "    </tr>\n",
       "    <tr>\n",
       "      <th>75%</th>\n",
       "      <td>6.932517e+18</td>\n",
       "      <td>1.565075e+09</td>\n",
       "      <td>248.000000</td>\n",
       "    </tr>\n",
       "    <tr>\n",
       "      <th>max</th>\n",
       "      <td>9.222603e+18</td>\n",
       "      <td>1.565213e+09</td>\n",
       "      <td>248.000000</td>\n",
       "    </tr>\n",
       "  </tbody>\n",
       "</table>\n",
       "</div>"
      ],
      "text/plain": [
       "       deviceidhash  eventtimestamp          expid\n",
       "count  2.441260e+05    2.441260e+05  244126.000000\n",
       "mean   4.627568e+18    1.564914e+09     247.022296\n",
       "std    2.642425e+18    1.771343e+05       0.824434\n",
       "min    6.888747e+15    1.564030e+09     246.000000\n",
       "25%    2.372212e+18    1.564757e+09     246.000000\n",
       "50%    4.623192e+18    1.564919e+09     247.000000\n",
       "75%    6.932517e+18    1.565075e+09     248.000000\n",
       "max    9.222603e+18    1.565213e+09     248.000000"
      ]
     },
     "metadata": {},
     "output_type": "display_data"
    },
    {
     "name": "stdout",
     "output_type": "stream",
     "text": [
      "info\n",
      "<class 'pandas.core.frame.DataFrame'>\n",
      "RangeIndex: 244126 entries, 0 to 244125\n",
      "Data columns (total 4 columns):\n",
      " #   Column          Non-Null Count   Dtype \n",
      "---  ------          --------------   ----- \n",
      " 0   eventname       244126 non-null  object\n",
      " 1   deviceidhash    244126 non-null  int64 \n",
      " 2   eventtimestamp  244126 non-null  int64 \n",
      " 3   expid           244126 non-null  int64 \n",
      "dtypes: int64(3), object(1)\n",
      "memory usage: 7.5+ MB\n"
     ]
    },
    {
     "data": {
      "text/plain": [
       "None"
      ]
     },
     "metadata": {},
     "output_type": "display_data"
    },
    {
     "data": {
      "text/html": [
       "<div>\n",
       "<style scoped>\n",
       "    .dataframe tbody tr th:only-of-type {\n",
       "        vertical-align: middle;\n",
       "    }\n",
       "\n",
       "    .dataframe tbody tr th {\n",
       "        vertical-align: top;\n",
       "    }\n",
       "\n",
       "    .dataframe thead th {\n",
       "        text-align: right;\n",
       "    }\n",
       "</style>\n",
       "<table border=\"1\" class=\"dataframe\">\n",
       "  <thead>\n",
       "    <tr style=\"text-align: right;\">\n",
       "      <th></th>\n",
       "      <th>eventname</th>\n",
       "      <th>deviceidhash</th>\n",
       "      <th>eventtimestamp</th>\n",
       "      <th>expid</th>\n",
       "    </tr>\n",
       "  </thead>\n",
       "  <tbody>\n",
       "    <tr>\n",
       "      <th>0</th>\n",
       "      <td>MainScreenAppear</td>\n",
       "      <td>4575588528974610257</td>\n",
       "      <td>1564029816</td>\n",
       "      <td>246</td>\n",
       "    </tr>\n",
       "    <tr>\n",
       "      <th>1</th>\n",
       "      <td>MainScreenAppear</td>\n",
       "      <td>7416695313311560658</td>\n",
       "      <td>1564053102</td>\n",
       "      <td>246</td>\n",
       "    </tr>\n",
       "    <tr>\n",
       "      <th>2</th>\n",
       "      <td>PaymentScreenSuccessful</td>\n",
       "      <td>3518123091307005509</td>\n",
       "      <td>1564054127</td>\n",
       "      <td>248</td>\n",
       "    </tr>\n",
       "    <tr>\n",
       "      <th>3</th>\n",
       "      <td>CartScreenAppear</td>\n",
       "      <td>3518123091307005509</td>\n",
       "      <td>1564054127</td>\n",
       "      <td>248</td>\n",
       "    </tr>\n",
       "    <tr>\n",
       "      <th>4</th>\n",
       "      <td>PaymentScreenSuccessful</td>\n",
       "      <td>6217807653094995999</td>\n",
       "      <td>1564055322</td>\n",
       "      <td>248</td>\n",
       "    </tr>\n",
       "    <tr>\n",
       "      <th>5</th>\n",
       "      <td>CartScreenAppear</td>\n",
       "      <td>6217807653094995999</td>\n",
       "      <td>1564055323</td>\n",
       "      <td>248</td>\n",
       "    </tr>\n",
       "    <tr>\n",
       "      <th>6</th>\n",
       "      <td>OffersScreenAppear</td>\n",
       "      <td>8351860793733343758</td>\n",
       "      <td>1564066242</td>\n",
       "      <td>246</td>\n",
       "    </tr>\n",
       "    <tr>\n",
       "      <th>7</th>\n",
       "      <td>MainScreenAppear</td>\n",
       "      <td>5682100281902512875</td>\n",
       "      <td>1564085677</td>\n",
       "      <td>246</td>\n",
       "    </tr>\n",
       "    <tr>\n",
       "      <th>8</th>\n",
       "      <td>MainScreenAppear</td>\n",
       "      <td>1850981295691852772</td>\n",
       "      <td>1564086702</td>\n",
       "      <td>247</td>\n",
       "    </tr>\n",
       "    <tr>\n",
       "      <th>9</th>\n",
       "      <td>MainScreenAppear</td>\n",
       "      <td>5407636962369102641</td>\n",
       "      <td>1564112112</td>\n",
       "      <td>246</td>\n",
       "    </tr>\n",
       "  </tbody>\n",
       "</table>\n",
       "</div>"
      ],
      "text/plain": [
       "                 eventname         deviceidhash  eventtimestamp  expid\n",
       "0         MainScreenAppear  4575588528974610257      1564029816    246\n",
       "1         MainScreenAppear  7416695313311560658      1564053102    246\n",
       "2  PaymentScreenSuccessful  3518123091307005509      1564054127    248\n",
       "3         CartScreenAppear  3518123091307005509      1564054127    248\n",
       "4  PaymentScreenSuccessful  6217807653094995999      1564055322    248\n",
       "5         CartScreenAppear  6217807653094995999      1564055323    248\n",
       "6       OffersScreenAppear  8351860793733343758      1564066242    246\n",
       "7         MainScreenAppear  5682100281902512875      1564085677    246\n",
       "8         MainScreenAppear  1850981295691852772      1564086702    247\n",
       "9         MainScreenAppear  5407636962369102641      1564112112    246"
      ]
     },
     "metadata": {},
     "output_type": "display_data"
    }
   ],
   "source": [
    "analysis(df)"
   ]
  },
  {
   "cell_type": "markdown",
   "id": "45c59ed9",
   "metadata": {},
   "source": [
    "Описание данных:\n",
    "\n",
    "* `EventName` — название события;\n",
    "* `DeviceIDHash` — уникальный идентификатор пользователя;\n",
    "* `EventTimestamp` — время события;\n",
    "* `ExpId` — номер эксперимента: 246 и 247 — контрольные группы, а 248 — экспериментальная"
   ]
  },
  {
   "cell_type": "markdown",
   "id": "7153e292",
   "metadata": {},
   "source": [
    "**В данных присутствуют дубликаты, время события хранится в формате `unix time`, пропуски отсутствуют.**"
   ]
  },
  {
   "cell_type": "markdown",
   "id": "f3cda745",
   "metadata": {},
   "source": [
    "### Подготовка данных"
   ]
  },
  {
   "cell_type": "markdown",
   "id": "d14f8f33",
   "metadata": {},
   "source": [
    "Заменим название столбцов для удобства"
   ]
  },
  {
   "cell_type": "code",
   "execution_count": 108,
   "id": "73f070a7",
   "metadata": {},
   "outputs": [],
   "source": [
    "df.columns = ['event', 'user_id', 'unix_time', 'group']"
   ]
  },
  {
   "cell_type": "markdown",
   "id": "120d272e",
   "metadata": {},
   "source": [
    "Удалим явные дубликаты"
   ]
  },
  {
   "cell_type": "code",
   "execution_count": 109,
   "id": "b1bec2b0",
   "metadata": {},
   "outputs": [],
   "source": [
    "df = df.drop_duplicates().reset_index(drop=True)"
   ]
  },
  {
   "cell_type": "markdown",
   "id": "a34b7dbd",
   "metadata": {},
   "source": [
    "Переведём время и дату в привычный формат и сохраним в новом столбце"
   ]
  },
  {
   "cell_type": "code",
   "execution_count": 110,
   "id": "a7bde19e",
   "metadata": {},
   "outputs": [],
   "source": [
    "df['datetime'] = pd.to_datetime(df['unix_time'], unit='s')"
   ]
  },
  {
   "cell_type": "markdown",
   "id": "7598467e",
   "metadata": {},
   "source": [
    "Добавим отдельный столбец с датой"
   ]
  },
  {
   "cell_type": "code",
   "execution_count": 111,
   "id": "bb705b9f",
   "metadata": {},
   "outputs": [],
   "source": [
    "df['date'] = df['datetime'].dt.date\n",
    "df['date'] = df['date'].astype('datetime64')"
   ]
  },
  {
   "cell_type": "markdown",
   "id": "6b438838",
   "metadata": {},
   "source": [
    "**Вывод:**\n",
    "\n",
    "Изменили названия колонок на удобные, удалили явные дубликаты, добавили новый столбец с датой и временем в привычном формате, а так же добавили столбец с датой."
   ]
  },
  {
   "cell_type": "markdown",
   "id": "9ea98fad",
   "metadata": {},
   "source": [
    "## Изучение и проверка данных"
   ]
  },
  {
   "cell_type": "markdown",
   "id": "bc42a186",
   "metadata": {},
   "source": [
    "### Проверим сколько всего событий в логе"
   ]
  },
  {
   "cell_type": "code",
   "execution_count": 112,
   "id": "ac84f151",
   "metadata": {},
   "outputs": [
    {
     "data": {
      "text/plain": [
       "243713"
      ]
     },
     "execution_count": 112,
     "metadata": {},
     "output_type": "execute_result"
    }
   ],
   "source": [
    "old_event = df['event'].count()\n",
    "old_event"
   ]
  },
  {
   "cell_type": "markdown",
   "id": "78c8bebe",
   "metadata": {},
   "source": [
    "Вего событий в логах 243713"
   ]
  },
  {
   "cell_type": "markdown",
   "id": "888af71f",
   "metadata": {},
   "source": [
    "### Проверим сколько всего пользователей в логе"
   ]
  },
  {
   "cell_type": "code",
   "execution_count": 113,
   "id": "07ca391a",
   "metadata": {},
   "outputs": [
    {
     "data": {
      "text/plain": [
       "7551"
      ]
     },
     "execution_count": 113,
     "metadata": {},
     "output_type": "execute_result"
    }
   ],
   "source": [
    "old_uid = df['user_id'].nunique()\n",
    "old_uid"
   ]
  },
  {
   "cell_type": "markdown",
   "id": "16617e05",
   "metadata": {},
   "source": [
    "В логе 7551 уникальных пользователей"
   ]
  },
  {
   "cell_type": "markdown",
   "id": "919121d7",
   "metadata": {},
   "source": [
    "### Подсчёт среднего колличества событий на пользователя"
   ]
  },
  {
   "cell_type": "code",
   "execution_count": 114,
   "id": "118fcecb",
   "metadata": {},
   "outputs": [
    {
     "data": {
      "text/plain": [
       "32.27559263673685"
      ]
     },
     "execution_count": 114,
     "metadata": {},
     "output_type": "execute_result"
    }
   ],
   "source": [
    "df['event'].count()/df['user_id'].nunique()"
   ]
  },
  {
   "cell_type": "markdown",
   "id": "4e020a3a",
   "metadata": {},
   "source": [
    "На уникального пользователя в среднем приходится 32 события"
   ]
  },
  {
   "cell_type": "markdown",
   "id": "79967cba",
   "metadata": {},
   "source": [
    "### Определение временного периода за который мы располагаем достаточным объемом данных"
   ]
  },
  {
   "cell_type": "markdown",
   "id": "b99dcf03",
   "metadata": {},
   "source": [
    "Определим минимальную и максимальную дату событий"
   ]
  },
  {
   "cell_type": "code",
   "execution_count": 115,
   "id": "9b1dc482",
   "metadata": {},
   "outputs": [
    {
     "data": {
      "text/plain": [
       "(Timestamp('2019-07-25 00:00:00'), Timestamp('2019-08-07 00:00:00'))"
      ]
     },
     "execution_count": 115,
     "metadata": {},
     "output_type": "execute_result"
    }
   ],
   "source": [
    "df['date'].min(), df['date'].max()"
   ]
  },
  {
   "cell_type": "markdown",
   "id": "68cf3524",
   "metadata": {},
   "source": [
    "В данных хранятся события происходившие с 2019-07-25 по 2019-08-07"
   ]
  },
  {
   "cell_type": "markdown",
   "id": "6e01d7ab",
   "metadata": {},
   "source": [
    "Построим гистограмму по дате и времени"
   ]
  },
  {
   "cell_type": "code",
   "execution_count": 116,
   "id": "cf4100fc",
   "metadata": {},
   "outputs": [
    {
     "data": {
      "image/png": "[encoded data removed]",
      "text/plain": [
       "<Figure size 1440x432 with 1 Axes>"
      ]
     },
     "metadata": {
      "needs_background": "light"
     },
     "output_type": "display_data"
    }
   ],
   "source": [
    "df['datetime'].hist(figsize=(20,6), bins=30)\n",
    "plt.xticks(df['date'].unique())\n",
    "plt.title('Распределение событий по дате и времени')\n",
    "plt.ylabel('Частота')\n",
    "plt.xlabel('Дата')\n",
    "plt.show();"
   ]
  },
  {
   "cell_type": "markdown",
   "id": "fc88a952",
   "metadata": {},
   "source": [
    "Мы располагаем данными с 2019-07-25 по 2019-08-07, но из-за технических особенностей в начале периода сохранялось очень мало событий. Сбор достаточного колличества данных начался с 2019-08-01, поэтому для избежания \"перекоса\" в данных удалим все события записанные ранее."
   ]
  },
  {
   "cell_type": "markdown",
   "id": "d48d10a6",
   "metadata": {},
   "source": [
    "Удаляем события записанные ранее `2019-08-01`"
   ]
  },
  {
   "cell_type": "code",
   "execution_count": 117,
   "id": "ee1b0f3e",
   "metadata": {},
   "outputs": [],
   "source": [
    "df = df[df['date'] >= '2019-08-01']\n",
    "df = df.reset_index(drop=True)"
   ]
  },
  {
   "cell_type": "markdown",
   "id": "c71b0873",
   "metadata": {},
   "source": [
    "### Подсчет колличества потерянных событий и пользователей"
   ]
  },
  {
   "cell_type": "code",
   "execution_count": 118,
   "id": "80e86404",
   "metadata": {},
   "outputs": [],
   "source": [
    "new_event = df['event'].count()\n",
    "new_uid = df['user_id'].nunique()"
   ]
  },
  {
   "cell_type": "code",
   "execution_count": 119,
   "id": "2b7518c4",
   "metadata": {},
   "outputs": [
    {
     "name": "stdout",
     "output_type": "stream",
     "text": [
      "Было пользователей: 7551| стало пользователей: 7534 |Удалили пользователей: 17| потерянно данных 0.23%\n",
      "Было событий: 243713| стало событий: 240887 |Удалили событий: 2826| потерянно данных 1.16%\n"
     ]
    }
   ],
   "source": [
    "print(f'Было пользователей: {old_uid}| стало пользователей: {new_uid} |Удалили пользователей: {old_uid-new_uid}| потерянно данных {(1 - (new_uid/old_uid)):.2%}')\n",
    "print(f'Было событий: {old_event}| стало событий: {new_event} |Удалили событий: {old_event-new_event}| потерянно данных {(1 - (new_event/old_event)):.2%}')"
   ]
  },
  {
   "cell_type": "markdown",
   "id": "50d1d3a7",
   "metadata": {},
   "source": [
    "### Проверка пользователей по группам эксперимента"
   ]
  },
  {
   "cell_type": "code",
   "execution_count": 120,
   "id": "a982b14c",
   "metadata": {},
   "outputs": [
    {
     "data": {
      "text/html": [
       "<div>\n",
       "<style scoped>\n",
       "    .dataframe tbody tr th:only-of-type {\n",
       "        vertical-align: middle;\n",
       "    }\n",
       "\n",
       "    .dataframe tbody tr th {\n",
       "        vertical-align: top;\n",
       "    }\n",
       "\n",
       "    .dataframe thead th {\n",
       "        text-align: right;\n",
       "    }\n",
       "</style>\n",
       "<table border=\"1\" class=\"dataframe\">\n",
       "  <thead>\n",
       "    <tr style=\"text-align: right;\">\n",
       "      <th></th>\n",
       "      <th>group</th>\n",
       "      <th>user_id</th>\n",
       "    </tr>\n",
       "  </thead>\n",
       "  <tbody>\n",
       "    <tr>\n",
       "      <th>0</th>\n",
       "      <td>246</td>\n",
       "      <td>2484</td>\n",
       "    </tr>\n",
       "    <tr>\n",
       "      <th>1</th>\n",
       "      <td>247</td>\n",
       "      <td>2513</td>\n",
       "    </tr>\n",
       "    <tr>\n",
       "      <th>2</th>\n",
       "      <td>248</td>\n",
       "      <td>2537</td>\n",
       "    </tr>\n",
       "  </tbody>\n",
       "</table>\n",
       "</div>"
      ],
      "text/plain": [
       "   group  user_id\n",
       "0    246     2484\n",
       "1    247     2513\n",
       "2    248     2537"
      ]
     },
     "execution_count": 120,
     "metadata": {},
     "output_type": "execute_result"
    }
   ],
   "source": [
    "df.groupby('group').agg({'user_id':'nunique'}).reset_index()"
   ]
  },
  {
   "cell_type": "markdown",
   "id": "f91849cb",
   "metadata": {},
   "source": [
    "У нас есть пользователи во всех группах, различия между группами незначительные ~ 1%"
   ]
  },
  {
   "cell_type": "markdown",
   "id": "a2916f22",
   "metadata": {},
   "source": [
    "## Изучение воронки событий"
   ]
  },
  {
   "cell_type": "markdown",
   "id": "ea387af9",
   "metadata": {},
   "source": [
    "### Посмотрим какие события есть в логах и как часто они встречаются"
   ]
  },
  {
   "cell_type": "code",
   "execution_count": 121,
   "id": "0352dbb8",
   "metadata": {},
   "outputs": [
    {
     "data": {
      "text/plain": [
       "MainScreenAppear           117328\n",
       "OffersScreenAppear          46333\n",
       "CartScreenAppear            42303\n",
       "PaymentScreenSuccessful     33918\n",
       "Tutorial                     1005\n",
       "Name: event, dtype: int64"
      ]
     },
     "execution_count": 121,
     "metadata": {},
     "output_type": "execute_result"
    }
   ],
   "source": [
    "df['event'].value_counts()"
   ]
  },
  {
   "cell_type": "markdown",
   "id": "501eb04d",
   "metadata": {},
   "source": [
    "Вего событий в логе 243713, в колонке `event` 5 уникальных событий:\n",
    "* MainScreenAppear - появление главного экрана (встречается 117328 раз)\n",
    "* OffersScreenAppear - появление экрана предложений (встречается 46333 раз)\n",
    "* CartScreenAppear - появление экрана корзины (встречается 42303 раз)\n",
    "* PaymentScreenSuccessful - появление экрана успешной оплаты (встречается 33918 раз)\n",
    "* Tutorial - руководство (встречается 1005 раз)"
   ]
  },
  {
   "cell_type": "markdown",
   "id": "417ac36e",
   "metadata": {},
   "source": [
    "### Посчитаем, сколько пользователей совершали каждое из событий  и долю пользователей, которые хоть раз совершали событие."
   ]
  },
  {
   "cell_type": "code",
   "execution_count": 122,
   "id": "63d487bb",
   "metadata": {},
   "outputs": [
    {
     "data": {
      "text/html": [
       "<div>\n",
       "<style scoped>\n",
       "    .dataframe tbody tr th:only-of-type {\n",
       "        vertical-align: middle;\n",
       "    }\n",
       "\n",
       "    .dataframe tbody tr th {\n",
       "        vertical-align: top;\n",
       "    }\n",
       "\n",
       "    .dataframe thead th {\n",
       "        text-align: right;\n",
       "    }\n",
       "</style>\n",
       "<table border=\"1\" class=\"dataframe\">\n",
       "  <thead>\n",
       "    <tr style=\"text-align: right;\">\n",
       "      <th></th>\n",
       "      <th>event</th>\n",
       "      <th>unique</th>\n",
       "      <th>totall</th>\n",
       "      <th>share</th>\n",
       "    </tr>\n",
       "  </thead>\n",
       "  <tbody>\n",
       "    <tr>\n",
       "      <th>0</th>\n",
       "      <td>MainScreenAppear</td>\n",
       "      <td>7419</td>\n",
       "      <td>117328</td>\n",
       "      <td>98.5</td>\n",
       "    </tr>\n",
       "    <tr>\n",
       "      <th>1</th>\n",
       "      <td>OffersScreenAppear</td>\n",
       "      <td>4593</td>\n",
       "      <td>46333</td>\n",
       "      <td>61.0</td>\n",
       "    </tr>\n",
       "    <tr>\n",
       "      <th>2</th>\n",
       "      <td>CartScreenAppear</td>\n",
       "      <td>3734</td>\n",
       "      <td>42303</td>\n",
       "      <td>49.6</td>\n",
       "    </tr>\n",
       "    <tr>\n",
       "      <th>3</th>\n",
       "      <td>PaymentScreenSuccessful</td>\n",
       "      <td>3539</td>\n",
       "      <td>33918</td>\n",
       "      <td>47.0</td>\n",
       "    </tr>\n",
       "    <tr>\n",
       "      <th>4</th>\n",
       "      <td>Tutorial</td>\n",
       "      <td>840</td>\n",
       "      <td>1005</td>\n",
       "      <td>11.1</td>\n",
       "    </tr>\n",
       "  </tbody>\n",
       "</table>\n",
       "</div>"
      ],
      "text/plain": [
       "                     event  unique  totall  share\n",
       "0         MainScreenAppear    7419  117328   98.5\n",
       "1       OffersScreenAppear    4593   46333   61.0\n",
       "2         CartScreenAppear    3734   42303   49.6\n",
       "3  PaymentScreenSuccessful    3539   33918   47.0\n",
       "4                 Tutorial     840    1005   11.1"
      ]
     },
     "execution_count": 122,
     "metadata": {},
     "output_type": "execute_result"
    }
   ],
   "source": [
    "funnel = (df.groupby('event').agg({'user_id':'nunique', 'group':'count'})\n",
    "          .reset_index().sort_values('user_id', ascending=False)\n",
    "          .rename(columns={'user_id':'unique','group':'totall'})).reset_index(drop=True)\n",
    "\n",
    "\n",
    "funnel['share'] = ((funnel['unique']/new_uid)*100).round(1)\n",
    "funnel"
   ]
  },
  {
   "cell_type": "markdown",
   "id": "6c302c95",
   "metadata": {},
   "source": [
    "* `event` - Название события\n",
    "* `unique` - колличество уникальных пользователей совершивших событие\n",
    "* `totall` - всего событий\n",
    "* `share` - доля пользователей, которые совершали действие хотябы один раз"
   ]
  },
  {
   "cell_type": "markdown",
   "id": "32df92b5",
   "metadata": {},
   "source": [
    "### Определим, в каком порядке происходят события"
   ]
  },
  {
   "cell_type": "markdown",
   "id": "77ef502c",
   "metadata": {},
   "source": [
    "Построим воронку событий с помощью библиотеки `plotly`"
   ]
  },
  {
   "cell_type": "code",
   "execution_count": 123,
   "id": "9c7d8956",
   "metadata": {},
   "outputs": [
    {
     "data": {
      "application/vnd.plotly.v1+json": {
       "config": {
        "plotlyServerURL": "https://plot.ly"
       },
       "data": [
        {
         "type": "funnel",
         "x": [
          7419,
          4593,
          3734,
          3539,
          840
         ],
         "y": [
          "MainScreenAppear",
          "OffersScreenAppear",
          "CartScreenAppear",
          "PaymentScreenSuccessful",
          "Tutorial"
         ]
        }
       ],
       "layout": {
        "template": {
         "data": {
          "bar": [
           {
            "error_x": {
             "color": "#2a3f5f"
            },
            "error_y": {
             "color": "#2a3f5f"
            },
            "marker": {
             "line": {
              "color": "#E5ECF6",
              "width": 0.5
             },
             "pattern": {
              "fillmode": "overlay",
              "size": 10,
              "solidity": 0.2
             }
            },
            "type": "bar"
           }
          ],
          "barpolar": [
           {
            "marker": {
             "line": {
              "color": "#E5ECF6",
              "width": 0.5
             },
             "pattern": {
              "fillmode": "overlay",
              "size": 10,
              "solidity": 0.2
             }
            },
            "type": "barpolar"
           }
          ],
          "carpet": [
           {
            "aaxis": {
             "endlinecolor": "#2a3f5f",
             "gridcolor": "white",
             "linecolor": "white",
             "minorgridcolor": "white",
             "startlinecolor": "#2a3f5f"
            },
            "baxis": {
             "endlinecolor": "#2a3f5f",
             "gridcolor": "white",
             "linecolor": "white",
             "minorgridcolor": "white",
             "startlinecolor": "#2a3f5f"
            },
            "type": "carpet"
           }
          ],
          "choropleth": [
           {
            "colorbar": {
             "outlinewidth": 0,
             "ticks": ""
            },
            "type": "choropleth"
           }
          ],
          "contour": [
           {
            "colorbar": {
             "outlinewidth": 0,
             "ticks": ""
            },
            "colorscale": [
             [
              0,
              "#0d0887"
             ],
             [
              0.1111111111111111,
              "#46039f"
             ],
             [
              0.2222222222222222,
              "#7201a8"
             ],
             [
              0.3333333333333333,
              "#9c179e"
             ],
             [
              0.4444444444444444,
              "#bd3786"
             ],
             [
              0.5555555555555556,
              "#d8576b"
             ],
             [
              0.6666666666666666,
              "#ed7953"
             ],
             [
              0.7777777777777778,
              "#fb9f3a"
             ],
             [
              0.8888888888888888,
              "#fdca26"
             ],
             [
              1,
              "#f0f921"
             ]
            ],
            "type": "contour"
           }
          ],
          "contourcarpet": [
           {
            "colorbar": {
             "outlinewidth": 0,
             "ticks": ""
            },
            "type": "contourcarpet"
           }
          ],
          "heatmap": [
           {
            "colorbar": {
             "outlinewidth": 0,
             "ticks": ""
            },
            "colorscale": [
             [
              0,
              "#0d0887"
             ],
             [
              0.1111111111111111,
              "#46039f"
             ],
             [
              0.2222222222222222,
              "#7201a8"
             ],
             [
              0.3333333333333333,
              "#9c179e"
             ],
             [
              0.4444444444444444,
              "#bd3786"
             ],
             [
              0.5555555555555556,
              "#d8576b"
             ],
             [
              0.6666666666666666,
              "#ed7953"
             ],
             [
              0.7777777777777778,
              "#fb9f3a"
             ],
             [
              0.8888888888888888,
              "#fdca26"
             ],
             [
              1,
              "#f0f921"
             ]
            ],
            "type": "heatmap"
           }
          ],
          "heatmapgl": [
           {
            "colorbar": {
             "outlinewidth": 0,
             "ticks": ""
            },
            "colorscale": [
             [
              0,
              "#0d0887"
             ],
             [
              0.1111111111111111,
              "#46039f"
             ],
             [
              0.2222222222222222,
              "#7201a8"
             ],
             [
              0.3333333333333333,
              "#9c179e"
             ],
             [
              0.4444444444444444,
              "#bd3786"
             ],
             [
              0.5555555555555556,
              "#d8576b"
             ],
             [
              0.6666666666666666,
              "#ed7953"
             ],
             [
              0.7777777777777778,
              "#fb9f3a"
             ],
             [
              0.8888888888888888,
              "#fdca26"
             ],
             [
              1,
              "#f0f921"
             ]
            ],
            "type": "heatmapgl"
           }
          ],
          "histogram": [
           {
            "marker": {
             "pattern": {
              "fillmode": "overlay",
              "size": 10,
              "solidity": 0.2
             }
            },
            "type": "histogram"
           }
          ],
          "histogram2d": [
           {
            "colorbar": {
             "outlinewidth": 0,
             "ticks": ""
            },
            "colorscale": [
             [
              0,
              "#0d0887"
             ],
             [
              0.1111111111111111,
              "#46039f"
             ],
             [
              0.2222222222222222,
              "#7201a8"
             ],
             [
              0.3333333333333333,
              "#9c179e"
             ],
             [
              0.4444444444444444,
              "#bd3786"
             ],
             [
              0.5555555555555556,
              "#d8576b"
             ],
             [
              0.6666666666666666,
              "#ed7953"
             ],
             [
              0.7777777777777778,
              "#fb9f3a"
             ],
             [
              0.8888888888888888,
              "#fdca26"
             ],
             [
              1,
              "#f0f921"
             ]
            ],
            "type": "histogram2d"
           }
          ],
          "histogram2dcontour": [
           {
            "colorbar": {
             "outlinewidth": 0,
             "ticks": ""
            },
            "colorscale": [
             [
              0,
              "#0d0887"
             ],
             [
              0.1111111111111111,
              "#46039f"
             ],
             [
              0.2222222222222222,
              "#7201a8"
             ],
             [
              0.3333333333333333,
              "#9c179e"
             ],
             [
              0.4444444444444444,
              "#bd3786"
             ],
             [
              0.5555555555555556,
              "#d8576b"
             ],
             [
              0.6666666666666666,
              "#ed7953"
             ],
             [
              0.7777777777777778,
              "#fb9f3a"
             ],
             [
              0.8888888888888888,
              "#fdca26"
             ],
             [
              1,
              "#f0f921"
             ]
            ],
            "type": "histogram2dcontour"
           }
          ],
          "mesh3d": [
           {
            "colorbar": {
             "outlinewidth": 0,
             "ticks": ""
            },
            "type": "mesh3d"
           }
          ],
          "parcoords": [
           {
            "line": {
             "colorbar": {
              "outlinewidth": 0,
              "ticks": ""
             }
            },
            "type": "parcoords"
           }
          ],
          "pie": [
           {
            "automargin": true,
            "type": "pie"
           }
          ],
          "scatter": [
           {
            "fillpattern": {
             "fillmode": "overlay",
             "size": 10,
             "solidity": 0.2
            },
            "type": "scatter"
           }
          ],
          "scatter3d": [
           {
            "line": {
             "colorbar": {
              "outlinewidth": 0,
              "ticks": ""
             }
            },
            "marker": {
             "colorbar": {
              "outlinewidth": 0,
              "ticks": ""
             }
            },
            "type": "scatter3d"
           }
          ],
          "scattercarpet": [
           {
            "marker": {
             "colorbar": {
              "outlinewidth": 0,
              "ticks": ""
             }
            },
            "type": "scattercarpet"
           }
          ],
          "scattergeo": [
           {
            "marker": {
             "colorbar": {
              "outlinewidth": 0,
              "ticks": ""
             }
            },
            "type": "scattergeo"
           }
          ],
          "scattergl": [
           {
            "marker": {
             "colorbar": {
              "outlinewidth": 0,
              "ticks": ""
             }
            },
            "type": "scattergl"
           }
          ],
          "scattermapbox": [
           {
            "marker": {
             "colorbar": {
              "outlinewidth": 0,
              "ticks": ""
             }
            },
            "type": "scattermapbox"
           }
          ],
          "scatterpolar": [
           {
            "marker": {
             "colorbar": {
              "outlinewidth": 0,
              "ticks": ""
             }
            },
            "type": "scatterpolar"
           }
          ],
          "scatterpolargl": [
           {
            "marker": {
             "colorbar": {
              "outlinewidth": 0,
              "ticks": ""
             }
            },
            "type": "scatterpolargl"
           }
          ],
          "scatterternary": [
           {
            "marker": {
             "colorbar": {
              "outlinewidth": 0,
              "ticks": ""
             }
            },
            "type": "scatterternary"
           }
          ],
          "surface": [
           {
            "colorbar": {
             "outlinewidth": 0,
             "ticks": ""
            },
            "colorscale": [
             [
              0,
              "#0d0887"
             ],
             [
              0.1111111111111111,
              "#46039f"
             ],
             [
              0.2222222222222222,
              "#7201a8"
             ],
             [
              0.3333333333333333,
              "#9c179e"
             ],
             [
              0.4444444444444444,
              "#bd3786"
             ],
             [
              0.5555555555555556,
              "#d8576b"
             ],
             [
              0.6666666666666666,
              "#ed7953"
             ],
             [
              0.7777777777777778,
              "#fb9f3a"
             ],
             [
              0.8888888888888888,
              "#fdca26"
             ],
             [
              1,
              "#f0f921"
             ]
            ],
            "type": "surface"
           }
          ],
          "table": [
           {
            "cells": {
             "fill": {
              "color": "#EBF0F8"
             },
             "line": {
              "color": "white"
             }
            },
            "header": {
             "fill": {
              "color": "#C8D4E3"
             },
             "line": {
              "color": "white"
             }
            },
            "type": "table"
           }
          ]
         },
         "layout": {
          "annotationdefaults": {
           "arrowcolor": "#2a3f5f",
           "arrowhead": 0,
           "arrowwidth": 1
          },
          "autotypenumbers": "strict",
          "coloraxis": {
           "colorbar": {
            "outlinewidth": 0,
            "ticks": ""
           }
          },
          "colorscale": {
           "diverging": [
            [
             0,
             "#8e0152"
            ],
            [
             0.1,
             "#c51b7d"
            ],
            [
             0.2,
             "#de77ae"
            ],
            [
             0.3,
             "#f1b6da"
            ],
            [
             0.4,
             "#fde0ef"
            ],
            [
             0.5,
             "#f7f7f7"
            ],
            [
             0.6,
             "#e6f5d0"
            ],
            [
             0.7,
             "#b8e186"
            ],
            [
             0.8,
             "#7fbc41"
            ],
            [
             0.9,
             "#4d9221"
            ],
            [
             1,
             "#276419"
            ]
           ],
           "sequential": [
            [
             0,
             "#0d0887"
            ],
            [
             0.1111111111111111,
             "#46039f"
            ],
            [
             0.2222222222222222,
             "#7201a8"
            ],
            [
             0.3333333333333333,
             "#9c179e"
            ],
            [
             0.4444444444444444,
             "#bd3786"
            ],
            [
             0.5555555555555556,
             "#d8576b"
            ],
            [
             0.6666666666666666,
             "#ed7953"
            ],
            [
             0.7777777777777778,
             "#fb9f3a"
            ],
            [
             0.8888888888888888,
             "#fdca26"
            ],
            [
             1,
             "#f0f921"
            ]
           ],
           "sequentialminus": [
            [
             0,
             "#0d0887"
            ],
            [
             0.1111111111111111,
             "#46039f"
            ],
            [
             0.2222222222222222,
             "#7201a8"
            ],
            [
             0.3333333333333333,
             "#9c179e"
            ],
            [
             0.4444444444444444,
             "#bd3786"
            ],
            [
             0.5555555555555556,
             "#d8576b"
            ],
            [
             0.6666666666666666,
             "#ed7953"
            ],
            [
             0.7777777777777778,
             "#fb9f3a"
            ],
            [
             0.8888888888888888,
             "#fdca26"
            ],
            [
             1,
             "#f0f921"
            ]
           ]
          },
          "colorway": [
           "#636efa",
           "#EF553B",
           "#00cc96",
           "#ab63fa",
           "#FFA15A",
           "#19d3f3",
           "#FF6692",
           "#B6E880",
           "#FF97FF",
           "#FECB52"
          ],
          "font": {
           "color": "#2a3f5f"
          },
          "geo": {
           "bgcolor": "white",
           "lakecolor": "white",
           "landcolor": "#E5ECF6",
           "showlakes": true,
           "showland": true,
           "subunitcolor": "white"
          },
          "hoverlabel": {
           "align": "left"
          },
          "hovermode": "closest",
          "mapbox": {
           "style": "light"
          },
          "paper_bgcolor": "white",
          "plot_bgcolor": "#E5ECF6",
          "polar": {
           "angularaxis": {
            "gridcolor": "white",
            "linecolor": "white",
            "ticks": ""
           },
           "bgcolor": "#E5ECF6",
           "radialaxis": {
            "gridcolor": "white",
            "linecolor": "white",
            "ticks": ""
           }
          },
          "scene": {
           "xaxis": {
            "backgroundcolor": "#E5ECF6",
            "gridcolor": "white",
            "gridwidth": 2,
            "linecolor": "white",
            "showbackground": true,
            "ticks": "",
            "zerolinecolor": "white"
           },
           "yaxis": {
            "backgroundcolor": "#E5ECF6",
            "gridcolor": "white",
            "gridwidth": 2,
            "linecolor": "white",
            "showbackground": true,
            "ticks": "",
            "zerolinecolor": "white"
           },
           "zaxis": {
            "backgroundcolor": "#E5ECF6",
            "gridcolor": "white",
            "gridwidth": 2,
            "linecolor": "white",
            "showbackground": true,
            "ticks": "",
            "zerolinecolor": "white"
           }
          },
          "shapedefaults": {
           "line": {
            "color": "#2a3f5f"
           }
          },
          "ternary": {
           "aaxis": {
            "gridcolor": "white",
            "linecolor": "white",
            "ticks": ""
           },
           "baxis": {
            "gridcolor": "white",
            "linecolor": "white",
            "ticks": ""
           },
           "bgcolor": "#E5ECF6",
           "caxis": {
            "gridcolor": "white",
            "linecolor": "white",
            "ticks": ""
           }
          },
          "title": {
           "x": 0.05
          },
          "xaxis": {
           "automargin": true,
           "gridcolor": "white",
           "linecolor": "white",
           "ticks": "",
           "title": {
            "standoff": 15
           },
           "zerolinecolor": "white",
           "zerolinewidth": 2
          },
          "yaxis": {
           "automargin": true,
           "gridcolor": "white",
           "linecolor": "white",
           "ticks": "",
           "title": {
            "standoff": 15
           },
           "zerolinecolor": "white",
           "zerolinewidth": 2
          }
         }
        }
       }
      },
      "text/html": [
       "<div>                            <div id=\"eeae3f68-e64e-4d27-8bc5-213be30e9a2f\" class=\"plotly-graph-div\" style=\"height:525px; width:100%;\"></div>            <script type=\"text/javascript\">                require([\"plotly\"], function(Plotly) {                    window.PLOTLYENV=window.PLOTLYENV || {};                                    if (document.getElementById(\"eeae3f68-e64e-4d27-8bc5-213be30e9a2f\")) {                    Plotly.newPlot(                        \"eeae3f68-e64e-4d27-8bc5-213be30e9a2f\",                        [{\"x\":[7419,4593,3734,3539,840],\"y\":[\"MainScreenAppear\",\"OffersScreenAppear\",\"CartScreenAppear\",\"PaymentScreenSuccessful\",\"Tutorial\"],\"type\":\"funnel\"}],                        {\"template\":{\"data\":{\"histogram2dcontour\":[{\"type\":\"histogram2dcontour\",\"colorbar\":{\"outlinewidth\":0,\"ticks\":\"\"},\"colorscale\":[[0.0,\"#0d0887\"],[0.1111111111111111,\"#46039f\"],[0.2222222222222222,\"#7201a8\"],[0.3333333333333333,\"#9c179e\"],[0.4444444444444444,\"#bd3786\"],[0.5555555555555556,\"#d8576b\"],[0.6666666666666666,\"#ed7953\"],[0.7777777777777778,\"#fb9f3a\"],[0.8888888888888888,\"#fdca26\"],[1.0,\"#f0f921\"]]}],\"choropleth\":[{\"type\":\"choropleth\",\"colorbar\":{\"outlinewidth\":0,\"ticks\":\"\"}}],\"histogram2d\":[{\"type\":\"histogram2d\",\"colorbar\":{\"outlinewidth\":0,\"ticks\":\"\"},\"colorscale\":[[0.0,\"#0d0887\"],[0.1111111111111111,\"#46039f\"],[0.2222222222222222,\"#7201a8\"],[0.3333333333333333,\"#9c179e\"],[0.4444444444444444,\"#bd3786\"],[0.5555555555555556,\"#d8576b\"],[0.6666666666666666,\"#ed7953\"],[0.7777777777777778,\"#fb9f3a\"],[0.8888888888888888,\"#fdca26\"],[1.0,\"#f0f921\"]]}],\"heatmap\":[{\"type\":\"heatmap\",\"colorbar\":{\"outlinewidth\":0,\"ticks\":\"\"},\"colorscale\":[[0.0,\"#0d0887\"],[0.1111111111111111,\"#46039f\"],[0.2222222222222222,\"#7201a8\"],[0.3333333333333333,\"#9c179e\"],[0.4444444444444444,\"#bd3786\"],[0.5555555555555556,\"#d8576b\"],[0.6666666666666666,\"#ed7953\"],[0.7777777777777778,\"#fb9f3a\"],[0.8888888888888888,\"#fdca26\"],[1.0,\"#f0f921\"]]}],\"heatmapgl\":[{\"type\":\"heatmapgl\",\"colorbar\":{\"outlinewidth\":0,\"ticks\":\"\"},\"colorscale\":[[0.0,\"#0d0887\"],[0.1111111111111111,\"#46039f\"],[0.2222222222222222,\"#7201a8\"],[0.3333333333333333,\"#9c179e\"],[0.4444444444444444,\"#bd3786\"],[0.5555555555555556,\"#d8576b\"],[0.6666666666666666,\"#ed7953\"],[0.7777777777777778,\"#fb9f3a\"],[0.8888888888888888,\"#fdca26\"],[1.0,\"#f0f921\"]]}],\"contourcarpet\":[{\"type\":\"contourcarpet\",\"colorbar\":{\"outlinewidth\":0,\"ticks\":\"\"}}],\"contour\":[{\"type\":\"contour\",\"colorbar\":{\"outlinewidth\":0,\"ticks\":\"\"},\"colorscale\":[[0.0,\"#0d0887\"],[0.1111111111111111,\"#46039f\"],[0.2222222222222222,\"#7201a8\"],[0.3333333333333333,\"#9c179e\"],[0.4444444444444444,\"#bd3786\"],[0.5555555555555556,\"#d8576b\"],[0.6666666666666666,\"#ed7953\"],[0.7777777777777778,\"#fb9f3a\"],[0.8888888888888888,\"#fdca26\"],[1.0,\"#f0f921\"]]}],\"surface\":[{\"type\":\"surface\",\"colorbar\":{\"outlinewidth\":0,\"ticks\":\"\"},\"colorscale\":[[0.0,\"#0d0887\"],[0.1111111111111111,\"#46039f\"],[0.2222222222222222,\"#7201a8\"],[0.3333333333333333,\"#9c179e\"],[0.4444444444444444,\"#bd3786\"],[0.5555555555555556,\"#d8576b\"],[0.6666666666666666,\"#ed7953\"],[0.7777777777777778,\"#fb9f3a\"],[0.8888888888888888,\"#fdca26\"],[1.0,\"#f0f921\"]]}],\"mesh3d\":[{\"type\":\"mesh3d\",\"colorbar\":{\"outlinewidth\":0,\"ticks\":\"\"}}],\"scatter\":[{\"fillpattern\":{\"fillmode\":\"overlay\",\"size\":10,\"solidity\":0.2},\"type\":\"scatter\"}],\"parcoords\":[{\"type\":\"parcoords\",\"line\":{\"colorbar\":{\"outlinewidth\":0,\"ticks\":\"\"}}}],\"scatterpolargl\":[{\"type\":\"scatterpolargl\",\"marker\":{\"colorbar\":{\"outlinewidth\":0,\"ticks\":\"\"}}}],\"bar\":[{\"error_x\":{\"color\":\"#2a3f5f\"},\"error_y\":{\"color\":\"#2a3f5f\"},\"marker\":{\"line\":{\"color\":\"#E5ECF6\",\"width\":0.5},\"pattern\":{\"fillmode\":\"overlay\",\"size\":10,\"solidity\":0.2}},\"type\":\"bar\"}],\"scattergeo\":[{\"type\":\"scattergeo\",\"marker\":{\"colorbar\":{\"outlinewidth\":0,\"ticks\":\"\"}}}],\"scatterpolar\":[{\"type\":\"scatterpolar\",\"marker\":{\"colorbar\":{\"outlinewidth\":0,\"ticks\":\"\"}}}],\"histogram\":[{\"marker\":{\"pattern\":{\"fillmode\":\"overlay\",\"size\":10,\"solidity\":0.2}},\"type\":\"histogram\"}],\"scattergl\":[{\"type\":\"scattergl\",\"marker\":{\"colorbar\":{\"outlinewidth\":0,\"ticks\":\"\"}}}],\"scatter3d\":[{\"type\":\"scatter3d\",\"line\":{\"colorbar\":{\"outlinewidth\":0,\"ticks\":\"\"}},\"marker\":{\"colorbar\":{\"outlinewidth\":0,\"ticks\":\"\"}}}],\"scattermapbox\":[{\"type\":\"scattermapbox\",\"marker\":{\"colorbar\":{\"outlinewidth\":0,\"ticks\":\"\"}}}],\"scatterternary\":[{\"type\":\"scatterternary\",\"marker\":{\"colorbar\":{\"outlinewidth\":0,\"ticks\":\"\"}}}],\"scattercarpet\":[{\"type\":\"scattercarpet\",\"marker\":{\"colorbar\":{\"outlinewidth\":0,\"ticks\":\"\"}}}],\"carpet\":[{\"aaxis\":{\"endlinecolor\":\"#2a3f5f\",\"gridcolor\":\"white\",\"linecolor\":\"white\",\"minorgridcolor\":\"white\",\"startlinecolor\":\"#2a3f5f\"},\"baxis\":{\"endlinecolor\":\"#2a3f5f\",\"gridcolor\":\"white\",\"linecolor\":\"white\",\"minorgridcolor\":\"white\",\"startlinecolor\":\"#2a3f5f\"},\"type\":\"carpet\"}],\"table\":[{\"cells\":{\"fill\":{\"color\":\"#EBF0F8\"},\"line\":{\"color\":\"white\"}},\"header\":{\"fill\":{\"color\":\"#C8D4E3\"},\"line\":{\"color\":\"white\"}},\"type\":\"table\"}],\"barpolar\":[{\"marker\":{\"line\":{\"color\":\"#E5ECF6\",\"width\":0.5},\"pattern\":{\"fillmode\":\"overlay\",\"size\":10,\"solidity\":0.2}},\"type\":\"barpolar\"}],\"pie\":[{\"automargin\":true,\"type\":\"pie\"}]},\"layout\":{\"autotypenumbers\":\"strict\",\"colorway\":[\"#636efa\",\"#EF553B\",\"#00cc96\",\"#ab63fa\",\"#FFA15A\",\"#19d3f3\",\"#FF6692\",\"#B6E880\",\"#FF97FF\",\"#FECB52\"],\"font\":{\"color\":\"#2a3f5f\"},\"hovermode\":\"closest\",\"hoverlabel\":{\"align\":\"left\"},\"paper_bgcolor\":\"white\",\"plot_bgcolor\":\"#E5ECF6\",\"polar\":{\"bgcolor\":\"#E5ECF6\",\"angularaxis\":{\"gridcolor\":\"white\",\"linecolor\":\"white\",\"ticks\":\"\"},\"radialaxis\":{\"gridcolor\":\"white\",\"linecolor\":\"white\",\"ticks\":\"\"}},\"ternary\":{\"bgcolor\":\"#E5ECF6\",\"aaxis\":{\"gridcolor\":\"white\",\"linecolor\":\"white\",\"ticks\":\"\"},\"baxis\":{\"gridcolor\":\"white\",\"linecolor\":\"white\",\"ticks\":\"\"},\"caxis\":{\"gridcolor\":\"white\",\"linecolor\":\"white\",\"ticks\":\"\"}},\"coloraxis\":{\"colorbar\":{\"outlinewidth\":0,\"ticks\":\"\"}},\"colorscale\":{\"sequential\":[[0.0,\"#0d0887\"],[0.1111111111111111,\"#46039f\"],[0.2222222222222222,\"#7201a8\"],[0.3333333333333333,\"#9c179e\"],[0.4444444444444444,\"#bd3786\"],[0.5555555555555556,\"#d8576b\"],[0.6666666666666666,\"#ed7953\"],[0.7777777777777778,\"#fb9f3a\"],[0.8888888888888888,\"#fdca26\"],[1.0,\"#f0f921\"]],\"sequentialminus\":[[0.0,\"#0d0887\"],[0.1111111111111111,\"#46039f\"],[0.2222222222222222,\"#7201a8\"],[0.3333333333333333,\"#9c179e\"],[0.4444444444444444,\"#bd3786\"],[0.5555555555555556,\"#d8576b\"],[0.6666666666666666,\"#ed7953\"],[0.7777777777777778,\"#fb9f3a\"],[0.8888888888888888,\"#fdca26\"],[1.0,\"#f0f921\"]],\"diverging\":[[0,\"#8e0152\"],[0.1,\"#c51b7d\"],[0.2,\"#de77ae\"],[0.3,\"#f1b6da\"],[0.4,\"#fde0ef\"],[0.5,\"#f7f7f7\"],[0.6,\"#e6f5d0\"],[0.7,\"#b8e186\"],[0.8,\"#7fbc41\"],[0.9,\"#4d9221\"],[1,\"#276419\"]]},\"xaxis\":{\"gridcolor\":\"white\",\"linecolor\":\"white\",\"ticks\":\"\",\"title\":{\"standoff\":15},\"zerolinecolor\":\"white\",\"automargin\":true,\"zerolinewidth\":2},\"yaxis\":{\"gridcolor\":\"white\",\"linecolor\":\"white\",\"ticks\":\"\",\"title\":{\"standoff\":15},\"zerolinecolor\":\"white\",\"automargin\":true,\"zerolinewidth\":2},\"scene\":{\"xaxis\":{\"backgroundcolor\":\"#E5ECF6\",\"gridcolor\":\"white\",\"linecolor\":\"white\",\"showbackground\":true,\"ticks\":\"\",\"zerolinecolor\":\"white\",\"gridwidth\":2},\"yaxis\":{\"backgroundcolor\":\"#E5ECF6\",\"gridcolor\":\"white\",\"linecolor\":\"white\",\"showbackground\":true,\"ticks\":\"\",\"zerolinecolor\":\"white\",\"gridwidth\":2},\"zaxis\":{\"backgroundcolor\":\"#E5ECF6\",\"gridcolor\":\"white\",\"linecolor\":\"white\",\"showbackground\":true,\"ticks\":\"\",\"zerolinecolor\":\"white\",\"gridwidth\":2}},\"shapedefaults\":{\"line\":{\"color\":\"#2a3f5f\"}},\"annotationdefaults\":{\"arrowcolor\":\"#2a3f5f\",\"arrowhead\":0,\"arrowwidth\":1},\"geo\":{\"bgcolor\":\"white\",\"landcolor\":\"#E5ECF6\",\"subunitcolor\":\"white\",\"showland\":true,\"showlakes\":true,\"lakecolor\":\"white\"},\"title\":{\"x\":0.05},\"mapbox\":{\"style\":\"light\"}}}},                        {\"responsive\": true}                    ).then(function(){\n",
       "                            \n",
       "var gd = document.getElementById('eeae3f68-e64e-4d27-8bc5-213be30e9a2f');\n",
       "var x = new MutationObserver(function (mutations, observer) {{\n",
       "        var display = window.getComputedStyle(gd).display;\n",
       "        if (!display || display === 'none') {{\n",
       "            console.log([gd, 'removed!']);\n",
       "            Plotly.purge(gd);\n",
       "            observer.disconnect();\n",
       "        }}\n",
       "}});\n",
       "\n",
       "// Listen for the removal of the full notebook cells\n",
       "var notebookContainer = gd.closest('#notebook-container');\n",
       "if (notebookContainer) {{\n",
       "    x.observe(notebookContainer, {childList: true});\n",
       "}}\n",
       "\n",
       "// Listen for the clearing of the current output cell\n",
       "var outputEl = gd.closest('.output');\n",
       "if (outputEl) {{\n",
       "    x.observe(outputEl, {childList: true});\n",
       "}}\n",
       "\n",
       "                        })                };                });            </script>        </div>"
      ]
     },
     "metadata": {},
     "output_type": "display_data"
    }
   ],
   "source": [
    "fig = go.Figure()\n",
    "fig = go.Figure(go.Funnel(y = funnel['event'], x = funnel['unique']))\n",
    "#fig.update_layout(title_text = 'Воронка событий по колличеству пользователей')\n",
    "fig.show()"
   ]
  },
  {
   "cell_type": "markdown",
   "id": "55caa09e",
   "metadata": {},
   "source": [
    "События идут в логичной последовательности:\n",
    "* появляется главный экран\n",
    "* появляется экран предложений\n",
    "* появляется экран корзины \n",
    "* появляется экран успешной оплаты \n",
    "\n",
    "Последний шаг в логах \"руководства пользователя\" не имеет ценности в рамках событийной аналитики и не является шагом воронки т.к. пользователь может открыть руководство на любом шаге. При дальнейшем анализе не будем учитывать событие `Tutorial`."
   ]
  },
  {
   "cell_type": "markdown",
   "id": "1c2bacfb",
   "metadata": {},
   "source": [
    "### Посчитаем долю пользователей переходящих на следующий шаг воронки(от числа пользователей на предыдущем)"
   ]
  },
  {
   "cell_type": "markdown",
   "id": "a6d57673",
   "metadata": {},
   "source": [
    "Посчитаем процент пользователей переходящих на следующий шаг вороноки от числа пользователей на предыдущем шаге и сохраним в колонке `of_previos`"
   ]
  },
  {
   "cell_type": "code",
   "execution_count": 124,
   "id": "8903a7e7",
   "metadata": {},
   "outputs": [
    {
     "data": {
      "text/html": [
       "<div>\n",
       "<style scoped>\n",
       "    .dataframe tbody tr th:only-of-type {\n",
       "        vertical-align: middle;\n",
       "    }\n",
       "\n",
       "    .dataframe tbody tr th {\n",
       "        vertical-align: top;\n",
       "    }\n",
       "\n",
       "    .dataframe thead th {\n",
       "        text-align: right;\n",
       "    }\n",
       "</style>\n",
       "<table border=\"1\" class=\"dataframe\">\n",
       "  <thead>\n",
       "    <tr style=\"text-align: right;\">\n",
       "      <th></th>\n",
       "      <th>event</th>\n",
       "      <th>unique</th>\n",
       "      <th>totall</th>\n",
       "      <th>share</th>\n",
       "      <th>of_previos</th>\n",
       "    </tr>\n",
       "  </thead>\n",
       "  <tbody>\n",
       "    <tr>\n",
       "      <th>0</th>\n",
       "      <td>MainScreenAppear</td>\n",
       "      <td>7419</td>\n",
       "      <td>117328</td>\n",
       "      <td>98.5</td>\n",
       "      <td>100.0</td>\n",
       "    </tr>\n",
       "    <tr>\n",
       "      <th>1</th>\n",
       "      <td>OffersScreenAppear</td>\n",
       "      <td>4593</td>\n",
       "      <td>46333</td>\n",
       "      <td>61.0</td>\n",
       "      <td>61.9</td>\n",
       "    </tr>\n",
       "    <tr>\n",
       "      <th>2</th>\n",
       "      <td>CartScreenAppear</td>\n",
       "      <td>3734</td>\n",
       "      <td>42303</td>\n",
       "      <td>49.6</td>\n",
       "      <td>81.3</td>\n",
       "    </tr>\n",
       "    <tr>\n",
       "      <th>3</th>\n",
       "      <td>PaymentScreenSuccessful</td>\n",
       "      <td>3539</td>\n",
       "      <td>33918</td>\n",
       "      <td>47.0</td>\n",
       "      <td>94.8</td>\n",
       "    </tr>\n",
       "  </tbody>\n",
       "</table>\n",
       "</div>"
      ],
      "text/plain": [
       "                     event  unique  totall  share  of_previos\n",
       "0         MainScreenAppear    7419  117328   98.5       100.0\n",
       "1       OffersScreenAppear    4593   46333   61.0        61.9\n",
       "2         CartScreenAppear    3734   42303   49.6        81.3\n",
       "3  PaymentScreenSuccessful    3539   33918   47.0        94.8"
      ]
     },
     "execution_count": 124,
     "metadata": {},
     "output_type": "execute_result"
    }
   ],
   "source": [
    "i = funnel['unique'].shift(1)\n",
    "funnel['of_previos'] = (funnel['unique']/i*100).round(1)\n",
    "funnel = funnel.fillna(100)\n",
    "funnel = funnel.query('event != \"Tutorial\"')\n",
    "funnel"
   ]
  },
  {
   "cell_type": "markdown",
   "id": "3568f0a4",
   "metadata": {},
   "source": [
    "Визуализируем полученные данные"
   ]
  },
  {
   "cell_type": "code",
   "execution_count": 125,
   "id": "983a6b3a",
   "metadata": {},
   "outputs": [
    {
     "data": {
      "application/vnd.plotly.v1+json": {
       "config": {
        "plotlyServerURL": "https://plot.ly"
       },
       "data": [
        {
         "textinfo": "value+percent initial",
         "type": "funnel",
         "x": [
          7419,
          4593,
          3734,
          3539
         ],
         "y": [
          "MainScreenAppear",
          "OffersScreenAppear",
          "CartScreenAppear",
          "PaymentScreenSuccessful"
         ]
        }
       ],
       "layout": {
        "template": {
         "data": {
          "bar": [
           {
            "error_x": {
             "color": "#2a3f5f"
            },
            "error_y": {
             "color": "#2a3f5f"
            },
            "marker": {
             "line": {
              "color": "#E5ECF6",
              "width": 0.5
             },
             "pattern": {
              "fillmode": "overlay",
              "size": 10,
              "solidity": 0.2
             }
            },
            "type": "bar"
           }
          ],
          "barpolar": [
           {
            "marker": {
             "line": {
              "color": "#E5ECF6",
              "width": 0.5
             },
             "pattern": {
              "fillmode": "overlay",
              "size": 10,
              "solidity": 0.2
             }
            },
            "type": "barpolar"
           }
          ],
          "carpet": [
           {
            "aaxis": {
             "endlinecolor": "#2a3f5f",
             "gridcolor": "white",
             "linecolor": "white",
             "minorgridcolor": "white",
             "startlinecolor": "#2a3f5f"
            },
            "baxis": {
             "endlinecolor": "#2a3f5f",
             "gridcolor": "white",
             "linecolor": "white",
             "minorgridcolor": "white",
             "startlinecolor": "#2a3f5f"
            },
            "type": "carpet"
           }
          ],
          "choropleth": [
           {
            "colorbar": {
             "outlinewidth": 0,
             "ticks": ""
            },
            "type": "choropleth"
           }
          ],
          "contour": [
           {
            "colorbar": {
             "outlinewidth": 0,
             "ticks": ""
            },
            "colorscale": [
             [
              0,
              "#0d0887"
             ],
             [
              0.1111111111111111,
              "#46039f"
             ],
             [
              0.2222222222222222,
              "#7201a8"
             ],
             [
              0.3333333333333333,
              "#9c179e"
             ],
             [
              0.4444444444444444,
              "#bd3786"
             ],
             [
              0.5555555555555556,
              "#d8576b"
             ],
             [
              0.6666666666666666,
              "#ed7953"
             ],
             [
              0.7777777777777778,
              "#fb9f3a"
             ],
             [
              0.8888888888888888,
              "#fdca26"
             ],
             [
              1,
              "#f0f921"
             ]
            ],
            "type": "contour"
           }
          ],
          "contourcarpet": [
           {
            "colorbar": {
             "outlinewidth": 0,
             "ticks": ""
            },
            "type": "contourcarpet"
           }
          ],
          "heatmap": [
           {
            "colorbar": {
             "outlinewidth": 0,
             "ticks": ""
            },
            "colorscale": [
             [
              0,
              "#0d0887"
             ],
             [
              0.1111111111111111,
              "#46039f"
             ],
             [
              0.2222222222222222,
              "#7201a8"
             ],
             [
              0.3333333333333333,
              "#9c179e"
             ],
             [
              0.4444444444444444,
              "#bd3786"
             ],
             [
              0.5555555555555556,
              "#d8576b"
             ],
             [
              0.6666666666666666,
              "#ed7953"
             ],
             [
              0.7777777777777778,
              "#fb9f3a"
             ],
             [
              0.8888888888888888,
              "#fdca26"
             ],
             [
              1,
              "#f0f921"
             ]
            ],
            "type": "heatmap"
           }
          ],
          "heatmapgl": [
           {
            "colorbar": {
             "outlinewidth": 0,
             "ticks": ""
            },
            "colorscale": [
             [
              0,
              "#0d0887"
             ],
             [
              0.1111111111111111,
              "#46039f"
             ],
             [
              0.2222222222222222,
              "#7201a8"
             ],
             [
              0.3333333333333333,
              "#9c179e"
             ],
             [
              0.4444444444444444,
              "#bd3786"
             ],
             [
              0.5555555555555556,
              "#d8576b"
             ],
             [
              0.6666666666666666,
              "#ed7953"
             ],
             [
              0.7777777777777778,
              "#fb9f3a"
             ],
             [
              0.8888888888888888,
              "#fdca26"
             ],
             [
              1,
              "#f0f921"
             ]
            ],
            "type": "heatmapgl"
           }
          ],
          "histogram": [
           {
            "marker": {
             "pattern": {
              "fillmode": "overlay",
              "size": 10,
              "solidity": 0.2
             }
            },
            "type": "histogram"
           }
          ],
          "histogram2d": [
           {
            "colorbar": {
             "outlinewidth": 0,
             "ticks": ""
            },
            "colorscale": [
             [
              0,
              "#0d0887"
             ],
             [
              0.1111111111111111,
              "#46039f"
             ],
             [
              0.2222222222222222,
              "#7201a8"
             ],
             [
              0.3333333333333333,
              "#9c179e"
             ],
             [
              0.4444444444444444,
              "#bd3786"
             ],
             [
              0.5555555555555556,
              "#d8576b"
             ],
             [
              0.6666666666666666,
              "#ed7953"
             ],
             [
              0.7777777777777778,
              "#fb9f3a"
             ],
             [
              0.8888888888888888,
              "#fdca26"
             ],
             [
              1,
              "#f0f921"
             ]
            ],
            "type": "histogram2d"
           }
          ],
          "histogram2dcontour": [
           {
            "colorbar": {
             "outlinewidth": 0,
             "ticks": ""
            },
            "colorscale": [
             [
              0,
              "#0d0887"
             ],
             [
              0.1111111111111111,
              "#46039f"
             ],
             [
              0.2222222222222222,
              "#7201a8"
             ],
             [
              0.3333333333333333,
              "#9c179e"
             ],
             [
              0.4444444444444444,
              "#bd3786"
             ],
             [
              0.5555555555555556,
              "#d8576b"
             ],
             [
              0.6666666666666666,
              "#ed7953"
             ],
             [
              0.7777777777777778,
              "#fb9f3a"
             ],
             [
              0.8888888888888888,
              "#fdca26"
             ],
             [
              1,
              "#f0f921"
             ]
            ],
            "type": "histogram2dcontour"
           }
          ],
          "mesh3d": [
           {
            "colorbar": {
             "outlinewidth": 0,
             "ticks": ""
            },
            "type": "mesh3d"
           }
          ],
          "parcoords": [
           {
            "line": {
             "colorbar": {
              "outlinewidth": 0,
              "ticks": ""
             }
            },
            "type": "parcoords"
           }
          ],
          "pie": [
           {
            "automargin": true,
            "type": "pie"
           }
          ],
          "scatter": [
           {
            "fillpattern": {
             "fillmode": "overlay",
             "size": 10,
             "solidity": 0.2
            },
            "type": "scatter"
           }
          ],
          "scatter3d": [
           {
            "line": {
             "colorbar": {
              "outlinewidth": 0,
              "ticks": ""
             }
            },
            "marker": {
             "colorbar": {
              "outlinewidth": 0,
              "ticks": ""
             }
            },
            "type": "scatter3d"
           }
          ],
          "scattercarpet": [
           {
            "marker": {
             "colorbar": {
              "outlinewidth": 0,
              "ticks": ""
             }
            },
            "type": "scattercarpet"
           }
          ],
          "scattergeo": [
           {
            "marker": {
             "colorbar": {
              "outlinewidth": 0,
              "ticks": ""
             }
            },
            "type": "scattergeo"
           }
          ],
          "scattergl": [
           {
            "marker": {
             "colorbar": {
              "outlinewidth": 0,
              "ticks": ""
             }
            },
            "type": "scattergl"
           }
          ],
          "scattermapbox": [
           {
            "marker": {
             "colorbar": {
              "outlinewidth": 0,
              "ticks": ""
             }
            },
            "type": "scattermapbox"
           }
          ],
          "scatterpolar": [
           {
            "marker": {
             "colorbar": {
              "outlinewidth": 0,
              "ticks": ""
             }
            },
            "type": "scatterpolar"
           }
          ],
          "scatterpolargl": [
           {
            "marker": {
             "colorbar": {
              "outlinewidth": 0,
              "ticks": ""
             }
            },
            "type": "scatterpolargl"
           }
          ],
          "scatterternary": [
           {
            "marker": {
             "colorbar": {
              "outlinewidth": 0,
              "ticks": ""
             }
            },
            "type": "scatterternary"
           }
          ],
          "surface": [
           {
            "colorbar": {
             "outlinewidth": 0,
             "ticks": ""
            },
            "colorscale": [
             [
              0,
              "#0d0887"
             ],
             [
              0.1111111111111111,
              "#46039f"
             ],
             [
              0.2222222222222222,
              "#7201a8"
             ],
             [
              0.3333333333333333,
              "#9c179e"
             ],
             [
              0.4444444444444444,
              "#bd3786"
             ],
             [
              0.5555555555555556,
              "#d8576b"
             ],
             [
              0.6666666666666666,
              "#ed7953"
             ],
             [
              0.7777777777777778,
              "#fb9f3a"
             ],
             [
              0.8888888888888888,
              "#fdca26"
             ],
             [
              1,
              "#f0f921"
             ]
            ],
            "type": "surface"
           }
          ],
          "table": [
           {
            "cells": {
             "fill": {
              "color": "#EBF0F8"
             },
             "line": {
              "color": "white"
             }
            },
            "header": {
             "fill": {
              "color": "#C8D4E3"
             },
             "line": {
              "color": "white"
             }
            },
            "type": "table"
           }
          ]
         },
         "layout": {
          "annotationdefaults": {
           "arrowcolor": "#2a3f5f",
           "arrowhead": 0,
           "arrowwidth": 1
          },
          "autotypenumbers": "strict",
          "coloraxis": {
           "colorbar": {
            "outlinewidth": 0,
            "ticks": ""
           }
          },
          "colorscale": {
           "diverging": [
            [
             0,
             "#8e0152"
            ],
            [
             0.1,
             "#c51b7d"
            ],
            [
             0.2,
             "#de77ae"
            ],
            [
             0.3,
             "#f1b6da"
            ],
            [
             0.4,
             "#fde0ef"
            ],
            [
             0.5,
             "#f7f7f7"
            ],
            [
             0.6,
             "#e6f5d0"
            ],
            [
             0.7,
             "#b8e186"
            ],
            [
             0.8,
             "#7fbc41"
            ],
            [
             0.9,
             "#4d9221"
            ],
            [
             1,
             "#276419"
            ]
           ],
           "sequential": [
            [
             0,
             "#0d0887"
            ],
            [
             0.1111111111111111,
             "#46039f"
            ],
            [
             0.2222222222222222,
             "#7201a8"
            ],
            [
             0.3333333333333333,
             "#9c179e"
            ],
            [
             0.4444444444444444,
             "#bd3786"
            ],
            [
             0.5555555555555556,
             "#d8576b"
            ],
            [
             0.6666666666666666,
             "#ed7953"
            ],
            [
             0.7777777777777778,
             "#fb9f3a"
            ],
            [
             0.8888888888888888,
             "#fdca26"
            ],
            [
             1,
             "#f0f921"
            ]
           ],
           "sequentialminus": [
            [
             0,
             "#0d0887"
            ],
            [
             0.1111111111111111,
             "#46039f"
            ],
            [
             0.2222222222222222,
             "#7201a8"
            ],
            [
             0.3333333333333333,
             "#9c179e"
            ],
            [
             0.4444444444444444,
             "#bd3786"
            ],
            [
             0.5555555555555556,
             "#d8576b"
            ],
            [
             0.6666666666666666,
             "#ed7953"
            ],
            [
             0.7777777777777778,
             "#fb9f3a"
            ],
            [
             0.8888888888888888,
             "#fdca26"
            ],
            [
             1,
             "#f0f921"
            ]
           ]
          },
          "colorway": [
           "#636efa",
           "#EF553B",
           "#00cc96",
           "#ab63fa",
           "#FFA15A",
           "#19d3f3",
           "#FF6692",
           "#B6E880",
           "#FF97FF",
           "#FECB52"
          ],
          "font": {
           "color": "#2a3f5f"
          },
          "geo": {
           "bgcolor": "white",
           "lakecolor": "white",
           "landcolor": "#E5ECF6",
           "showlakes": true,
           "showland": true,
           "subunitcolor": "white"
          },
          "hoverlabel": {
           "align": "left"
          },
          "hovermode": "closest",
          "mapbox": {
           "style": "light"
          },
          "paper_bgcolor": "white",
          "plot_bgcolor": "#E5ECF6",
          "polar": {
           "angularaxis": {
            "gridcolor": "white",
            "linecolor": "white",
            "ticks": ""
           },
           "bgcolor": "#E5ECF6",
           "radialaxis": {
            "gridcolor": "white",
            "linecolor": "white",
            "ticks": ""
           }
          },
          "scene": {
           "xaxis": {
            "backgroundcolor": "#E5ECF6",
            "gridcolor": "white",
            "gridwidth": 2,
            "linecolor": "white",
            "showbackground": true,
            "ticks": "",
            "zerolinecolor": "white"
           },
           "yaxis": {
            "backgroundcolor": "#E5ECF6",
            "gridcolor": "white",
            "gridwidth": 2,
            "linecolor": "white",
            "showbackground": true,
            "ticks": "",
            "zerolinecolor": "white"
           },
           "zaxis": {
            "backgroundcolor": "#E5ECF6",
            "gridcolor": "white",
            "gridwidth": 2,
            "linecolor": "white",
            "showbackground": true,
            "ticks": "",
            "zerolinecolor": "white"
           }
          },
          "shapedefaults": {
           "line": {
            "color": "#2a3f5f"
           }
          },
          "ternary": {
           "aaxis": {
            "gridcolor": "white",
            "linecolor": "white",
            "ticks": ""
           },
           "baxis": {
            "gridcolor": "white",
            "linecolor": "white",
            "ticks": ""
           },
           "bgcolor": "#E5ECF6",
           "caxis": {
            "gridcolor": "white",
            "linecolor": "white",
            "ticks": ""
           }
          },
          "title": {
           "x": 0.05
          },
          "xaxis": {
           "automargin": true,
           "gridcolor": "white",
           "linecolor": "white",
           "ticks": "",
           "title": {
            "standoff": 15
           },
           "zerolinecolor": "white",
           "zerolinewidth": 2
          },
          "yaxis": {
           "automargin": true,
           "gridcolor": "white",
           "linecolor": "white",
           "ticks": "",
           "title": {
            "standoff": 15
           },
           "zerolinecolor": "white",
           "zerolinewidth": 2
          }
         }
        },
        "title": {
         "text": "Воронка событий по процентам от предыдущего шага"
        }
       }
      },
      "text/html": [
       "<div>                            <div id=\"b6e4b923-ce13-4069-8805-d84c01bfdcfd\" class=\"plotly-graph-div\" style=\"height:525px; width:100%;\"></div>            <script type=\"text/javascript\">                require([\"plotly\"], function(Plotly) {                    window.PLOTLYENV=window.PLOTLYENV || {};                                    if (document.getElementById(\"b6e4b923-ce13-4069-8805-d84c01bfdcfd\")) {                    Plotly.newPlot(                        \"b6e4b923-ce13-4069-8805-d84c01bfdcfd\",                        [{\"textinfo\":\"value+percent initial\",\"x\":[7419,4593,3734,3539],\"y\":[\"MainScreenAppear\",\"OffersScreenAppear\",\"CartScreenAppear\",\"PaymentScreenSuccessful\"],\"type\":\"funnel\"}],                        {\"template\":{\"data\":{\"histogram2dcontour\":[{\"type\":\"histogram2dcontour\",\"colorbar\":{\"outlinewidth\":0,\"ticks\":\"\"},\"colorscale\":[[0.0,\"#0d0887\"],[0.1111111111111111,\"#46039f\"],[0.2222222222222222,\"#7201a8\"],[0.3333333333333333,\"#9c179e\"],[0.4444444444444444,\"#bd3786\"],[0.5555555555555556,\"#d8576b\"],[0.6666666666666666,\"#ed7953\"],[0.7777777777777778,\"#fb9f3a\"],[0.8888888888888888,\"#fdca26\"],[1.0,\"#f0f921\"]]}],\"choropleth\":[{\"type\":\"choropleth\",\"colorbar\":{\"outlinewidth\":0,\"ticks\":\"\"}}],\"histogram2d\":[{\"type\":\"histogram2d\",\"colorbar\":{\"outlinewidth\":0,\"ticks\":\"\"},\"colorscale\":[[0.0,\"#0d0887\"],[0.1111111111111111,\"#46039f\"],[0.2222222222222222,\"#7201a8\"],[0.3333333333333333,\"#9c179e\"],[0.4444444444444444,\"#bd3786\"],[0.5555555555555556,\"#d8576b\"],[0.6666666666666666,\"#ed7953\"],[0.7777777777777778,\"#fb9f3a\"],[0.8888888888888888,\"#fdca26\"],[1.0,\"#f0f921\"]]}],\"heatmap\":[{\"type\":\"heatmap\",\"colorbar\":{\"outlinewidth\":0,\"ticks\":\"\"},\"colorscale\":[[0.0,\"#0d0887\"],[0.1111111111111111,\"#46039f\"],[0.2222222222222222,\"#7201a8\"],[0.3333333333333333,\"#9c179e\"],[0.4444444444444444,\"#bd3786\"],[0.5555555555555556,\"#d8576b\"],[0.6666666666666666,\"#ed7953\"],[0.7777777777777778,\"#fb9f3a\"],[0.8888888888888888,\"#fdca26\"],[1.0,\"#f0f921\"]]}],\"heatmapgl\":[{\"type\":\"heatmapgl\",\"colorbar\":{\"outlinewidth\":0,\"ticks\":\"\"},\"colorscale\":[[0.0,\"#0d0887\"],[0.1111111111111111,\"#46039f\"],[0.2222222222222222,\"#7201a8\"],[0.3333333333333333,\"#9c179e\"],[0.4444444444444444,\"#bd3786\"],[0.5555555555555556,\"#d8576b\"],[0.6666666666666666,\"#ed7953\"],[0.7777777777777778,\"#fb9f3a\"],[0.8888888888888888,\"#fdca26\"],[1.0,\"#f0f921\"]]}],\"contourcarpet\":[{\"type\":\"contourcarpet\",\"colorbar\":{\"outlinewidth\":0,\"ticks\":\"\"}}],\"contour\":[{\"type\":\"contour\",\"colorbar\":{\"outlinewidth\":0,\"ticks\":\"\"},\"colorscale\":[[0.0,\"#0d0887\"],[0.1111111111111111,\"#46039f\"],[0.2222222222222222,\"#7201a8\"],[0.3333333333333333,\"#9c179e\"],[0.4444444444444444,\"#bd3786\"],[0.5555555555555556,\"#d8576b\"],[0.6666666666666666,\"#ed7953\"],[0.7777777777777778,\"#fb9f3a\"],[0.8888888888888888,\"#fdca26\"],[1.0,\"#f0f921\"]]}],\"surface\":[{\"type\":\"surface\",\"colorbar\":{\"outlinewidth\":0,\"ticks\":\"\"},\"colorscale\":[[0.0,\"#0d0887\"],[0.1111111111111111,\"#46039f\"],[0.2222222222222222,\"#7201a8\"],[0.3333333333333333,\"#9c179e\"],[0.4444444444444444,\"#bd3786\"],[0.5555555555555556,\"#d8576b\"],[0.6666666666666666,\"#ed7953\"],[0.7777777777777778,\"#fb9f3a\"],[0.8888888888888888,\"#fdca26\"],[1.0,\"#f0f921\"]]}],\"mesh3d\":[{\"type\":\"mesh3d\",\"colorbar\":{\"outlinewidth\":0,\"ticks\":\"\"}}],\"scatter\":[{\"fillpattern\":{\"fillmode\":\"overlay\",\"size\":10,\"solidity\":0.2},\"type\":\"scatter\"}],\"parcoords\":[{\"type\":\"parcoords\",\"line\":{\"colorbar\":{\"outlinewidth\":0,\"ticks\":\"\"}}}],\"scatterpolargl\":[{\"type\":\"scatterpolargl\",\"marker\":{\"colorbar\":{\"outlinewidth\":0,\"ticks\":\"\"}}}],\"bar\":[{\"error_x\":{\"color\":\"#2a3f5f\"},\"error_y\":{\"color\":\"#2a3f5f\"},\"marker\":{\"line\":{\"color\":\"#E5ECF6\",\"width\":0.5},\"pattern\":{\"fillmode\":\"overlay\",\"size\":10,\"solidity\":0.2}},\"type\":\"bar\"}],\"scattergeo\":[{\"type\":\"scattergeo\",\"marker\":{\"colorbar\":{\"outlinewidth\":0,\"ticks\":\"\"}}}],\"scatterpolar\":[{\"type\":\"scatterpolar\",\"marker\":{\"colorbar\":{\"outlinewidth\":0,\"ticks\":\"\"}}}],\"histogram\":[{\"marker\":{\"pattern\":{\"fillmode\":\"overlay\",\"size\":10,\"solidity\":0.2}},\"type\":\"histogram\"}],\"scattergl\":[{\"type\":\"scattergl\",\"marker\":{\"colorbar\":{\"outlinewidth\":0,\"ticks\":\"\"}}}],\"scatter3d\":[{\"type\":\"scatter3d\",\"line\":{\"colorbar\":{\"outlinewidth\":0,\"ticks\":\"\"}},\"marker\":{\"colorbar\":{\"outlinewidth\":0,\"ticks\":\"\"}}}],\"scattermapbox\":[{\"type\":\"scattermapbox\",\"marker\":{\"colorbar\":{\"outlinewidth\":0,\"ticks\":\"\"}}}],\"scatterternary\":[{\"type\":\"scatterternary\",\"marker\":{\"colorbar\":{\"outlinewidth\":0,\"ticks\":\"\"}}}],\"scattercarpet\":[{\"type\":\"scattercarpet\",\"marker\":{\"colorbar\":{\"outlinewidth\":0,\"ticks\":\"\"}}}],\"carpet\":[{\"aaxis\":{\"endlinecolor\":\"#2a3f5f\",\"gridcolor\":\"white\",\"linecolor\":\"white\",\"minorgridcolor\":\"white\",\"startlinecolor\":\"#2a3f5f\"},\"baxis\":{\"endlinecolor\":\"#2a3f5f\",\"gridcolor\":\"white\",\"linecolor\":\"white\",\"minorgridcolor\":\"white\",\"startlinecolor\":\"#2a3f5f\"},\"type\":\"carpet\"}],\"table\":[{\"cells\":{\"fill\":{\"color\":\"#EBF0F8\"},\"line\":{\"color\":\"white\"}},\"header\":{\"fill\":{\"color\":\"#C8D4E3\"},\"line\":{\"color\":\"white\"}},\"type\":\"table\"}],\"barpolar\":[{\"marker\":{\"line\":{\"color\":\"#E5ECF6\",\"width\":0.5},\"pattern\":{\"fillmode\":\"overlay\",\"size\":10,\"solidity\":0.2}},\"type\":\"barpolar\"}],\"pie\":[{\"automargin\":true,\"type\":\"pie\"}]},\"layout\":{\"autotypenumbers\":\"strict\",\"colorway\":[\"#636efa\",\"#EF553B\",\"#00cc96\",\"#ab63fa\",\"#FFA15A\",\"#19d3f3\",\"#FF6692\",\"#B6E880\",\"#FF97FF\",\"#FECB52\"],\"font\":{\"color\":\"#2a3f5f\"},\"hovermode\":\"closest\",\"hoverlabel\":{\"align\":\"left\"},\"paper_bgcolor\":\"white\",\"plot_bgcolor\":\"#E5ECF6\",\"polar\":{\"bgcolor\":\"#E5ECF6\",\"angularaxis\":{\"gridcolor\":\"white\",\"linecolor\":\"white\",\"ticks\":\"\"},\"radialaxis\":{\"gridcolor\":\"white\",\"linecolor\":\"white\",\"ticks\":\"\"}},\"ternary\":{\"bgcolor\":\"#E5ECF6\",\"aaxis\":{\"gridcolor\":\"white\",\"linecolor\":\"white\",\"ticks\":\"\"},\"baxis\":{\"gridcolor\":\"white\",\"linecolor\":\"white\",\"ticks\":\"\"},\"caxis\":{\"gridcolor\":\"white\",\"linecolor\":\"white\",\"ticks\":\"\"}},\"coloraxis\":{\"colorbar\":{\"outlinewidth\":0,\"ticks\":\"\"}},\"colorscale\":{\"sequential\":[[0.0,\"#0d0887\"],[0.1111111111111111,\"#46039f\"],[0.2222222222222222,\"#7201a8\"],[0.3333333333333333,\"#9c179e\"],[0.4444444444444444,\"#bd3786\"],[0.5555555555555556,\"#d8576b\"],[0.6666666666666666,\"#ed7953\"],[0.7777777777777778,\"#fb9f3a\"],[0.8888888888888888,\"#fdca26\"],[1.0,\"#f0f921\"]],\"sequentialminus\":[[0.0,\"#0d0887\"],[0.1111111111111111,\"#46039f\"],[0.2222222222222222,\"#7201a8\"],[0.3333333333333333,\"#9c179e\"],[0.4444444444444444,\"#bd3786\"],[0.5555555555555556,\"#d8576b\"],[0.6666666666666666,\"#ed7953\"],[0.7777777777777778,\"#fb9f3a\"],[0.8888888888888888,\"#fdca26\"],[1.0,\"#f0f921\"]],\"diverging\":[[0,\"#8e0152\"],[0.1,\"#c51b7d\"],[0.2,\"#de77ae\"],[0.3,\"#f1b6da\"],[0.4,\"#fde0ef\"],[0.5,\"#f7f7f7\"],[0.6,\"#e6f5d0\"],[0.7,\"#b8e186\"],[0.8,\"#7fbc41\"],[0.9,\"#4d9221\"],[1,\"#276419\"]]},\"xaxis\":{\"gridcolor\":\"white\",\"linecolor\":\"white\",\"ticks\":\"\",\"title\":{\"standoff\":15},\"zerolinecolor\":\"white\",\"automargin\":true,\"zerolinewidth\":2},\"yaxis\":{\"gridcolor\":\"white\",\"linecolor\":\"white\",\"ticks\":\"\",\"title\":{\"standoff\":15},\"zerolinecolor\":\"white\",\"automargin\":true,\"zerolinewidth\":2},\"scene\":{\"xaxis\":{\"backgroundcolor\":\"#E5ECF6\",\"gridcolor\":\"white\",\"linecolor\":\"white\",\"showbackground\":true,\"ticks\":\"\",\"zerolinecolor\":\"white\",\"gridwidth\":2},\"yaxis\":{\"backgroundcolor\":\"#E5ECF6\",\"gridcolor\":\"white\",\"linecolor\":\"white\",\"showbackground\":true,\"ticks\":\"\",\"zerolinecolor\":\"white\",\"gridwidth\":2},\"zaxis\":{\"backgroundcolor\":\"#E5ECF6\",\"gridcolor\":\"white\",\"linecolor\":\"white\",\"showbackground\":true,\"ticks\":\"\",\"zerolinecolor\":\"white\",\"gridwidth\":2}},\"shapedefaults\":{\"line\":{\"color\":\"#2a3f5f\"}},\"annotationdefaults\":{\"arrowcolor\":\"#2a3f5f\",\"arrowhead\":0,\"arrowwidth\":1},\"geo\":{\"bgcolor\":\"white\",\"landcolor\":\"#E5ECF6\",\"subunitcolor\":\"white\",\"showland\":true,\"showlakes\":true,\"lakecolor\":\"white\"},\"title\":{\"x\":0.05},\"mapbox\":{\"style\":\"light\"}}},\"title\":{\"text\":\"\\u0412\\u043e\\u0440\\u043e\\u043d\\u043a\\u0430 \\u0441\\u043e\\u0431\\u044b\\u0442\\u0438\\u0439 \\u043f\\u043e \\u043f\\u0440\\u043e\\u0446\\u0435\\u043d\\u0442\\u0430\\u043c \\u043e\\u0442 \\u043f\\u0440\\u0435\\u0434\\u044b\\u0434\\u0443\\u0449\\u0435\\u0433\\u043e \\u0448\\u0430\\u0433\\u0430\"}},                        {\"responsive\": true}                    ).then(function(){\n",
       "                            \n",
       "var gd = document.getElementById('b6e4b923-ce13-4069-8805-d84c01bfdcfd');\n",
       "var x = new MutationObserver(function (mutations, observer) {{\n",
       "        var display = window.getComputedStyle(gd).display;\n",
       "        if (!display || display === 'none') {{\n",
       "            console.log([gd, 'removed!']);\n",
       "            Plotly.purge(gd);\n",
       "            observer.disconnect();\n",
       "        }}\n",
       "}});\n",
       "\n",
       "// Listen for the removal of the full notebook cells\n",
       "var notebookContainer = gd.closest('#notebook-container');\n",
       "if (notebookContainer) {{\n",
       "    x.observe(notebookContainer, {childList: true});\n",
       "}}\n",
       "\n",
       "// Listen for the clearing of the current output cell\n",
       "var outputEl = gd.closest('.output');\n",
       "if (outputEl) {{\n",
       "    x.observe(outputEl, {childList: true});\n",
       "}}\n",
       "\n",
       "                        })                };                });            </script>        </div>"
      ]
     },
     "metadata": {},
     "output_type": "display_data"
    }
   ],
   "source": [
    "fig = go.Figure(go.Funnel(y = funnel['event'], x = funnel['unique'], textinfo = \"value+percent initial\"))\n",
    "\n",
    "\n",
    "fig.update_layout(\n",
    "    title_text = 'Воронка событий по процентам от предыдущего шага')\n",
    "fig.show()"
   ]
  },
  {
   "cell_type": "markdown",
   "id": "5d991d04",
   "metadata": {},
   "source": [
    "Больше всего пользователей теряется на втором шаге - экран предложений"
   ]
  },
  {
   "cell_type": "markdown",
   "id": "c7701549",
   "metadata": {},
   "source": [
    "Посчитаем долю пользователей доходящих от первого события до оплаты"
   ]
  },
  {
   "cell_type": "code",
   "execution_count": 126,
   "id": "3307df37",
   "metadata": {},
   "outputs": [
    {
     "data": {
      "text/html": [
       "<div>\n",
       "<style scoped>\n",
       "    .dataframe tbody tr th:only-of-type {\n",
       "        vertical-align: middle;\n",
       "    }\n",
       "\n",
       "    .dataframe tbody tr th {\n",
       "        vertical-align: top;\n",
       "    }\n",
       "\n",
       "    .dataframe thead th {\n",
       "        text-align: right;\n",
       "    }\n",
       "</style>\n",
       "<table border=\"1\" class=\"dataframe\">\n",
       "  <thead>\n",
       "    <tr style=\"text-align: right;\">\n",
       "      <th></th>\n",
       "      <th>event</th>\n",
       "      <th>unique</th>\n",
       "      <th>totall</th>\n",
       "      <th>share</th>\n",
       "      <th>of_previos</th>\n",
       "      <th>of_initial</th>\n",
       "    </tr>\n",
       "  </thead>\n",
       "  <tbody>\n",
       "    <tr>\n",
       "      <th>0</th>\n",
       "      <td>MainScreenAppear</td>\n",
       "      <td>7419</td>\n",
       "      <td>117328</td>\n",
       "      <td>98.5</td>\n",
       "      <td>100.0</td>\n",
       "      <td>100.0</td>\n",
       "    </tr>\n",
       "    <tr>\n",
       "      <th>1</th>\n",
       "      <td>OffersScreenAppear</td>\n",
       "      <td>4593</td>\n",
       "      <td>46333</td>\n",
       "      <td>61.0</td>\n",
       "      <td>61.9</td>\n",
       "      <td>61.9</td>\n",
       "    </tr>\n",
       "    <tr>\n",
       "      <th>2</th>\n",
       "      <td>CartScreenAppear</td>\n",
       "      <td>3734</td>\n",
       "      <td>42303</td>\n",
       "      <td>49.6</td>\n",
       "      <td>81.3</td>\n",
       "      <td>50.3</td>\n",
       "    </tr>\n",
       "    <tr>\n",
       "      <th>3</th>\n",
       "      <td>PaymentScreenSuccessful</td>\n",
       "      <td>3539</td>\n",
       "      <td>33918</td>\n",
       "      <td>47.0</td>\n",
       "      <td>94.8</td>\n",
       "      <td>47.7</td>\n",
       "    </tr>\n",
       "  </tbody>\n",
       "</table>\n",
       "</div>"
      ],
      "text/plain": [
       "                     event  unique  totall  share  of_previos  of_initial\n",
       "0         MainScreenAppear    7419  117328   98.5       100.0       100.0\n",
       "1       OffersScreenAppear    4593   46333   61.0        61.9        61.9\n",
       "2         CartScreenAppear    3734   42303   49.6        81.3        50.3\n",
       "3  PaymentScreenSuccessful    3539   33918   47.0        94.8        47.7"
      ]
     },
     "execution_count": 126,
     "metadata": {},
     "output_type": "execute_result"
    }
   ],
   "source": [
    "funnel['of_initial'] = (funnel['unique']/funnel.loc[0, 'unique']*100).round(1)\n",
    "funnel"
   ]
  },
  {
   "cell_type": "markdown",
   "id": "2705aa47",
   "metadata": {},
   "source": [
    "* `event` - Название события\n",
    "* `unique` - колличество уникальных пользователей совершивших событие\n",
    "* `totall` - всего событий\n",
    "* `share` - доля пользователей, которые совершали действие хотябы один раз\n",
    "* `of_previos` - процент от числа пользователей на предыдущем шаге\n",
    "* `of_initial` - процент от числа пользователей на первом шаге"
   ]
  },
  {
   "cell_type": "markdown",
   "id": "0162dbb0",
   "metadata": {},
   "source": [
    "Доля пользователей доходящих от первого события до оплаты составила 47.7%"
   ]
  },
  {
   "cell_type": "markdown",
   "id": "714356e4",
   "metadata": {},
   "source": [
    "**Вывод:**\n",
    "\n",
    "* Посчитали, сколько пользователей совершали каждое из событий. Посчитали долю пользователей, которые хоть раз совершали событие\n",
    "* Определили порядок, по которому происходят события, отбросили шаг \"руководство пользователя\" т.к. он не имеет ценности в рамках событийной аналитики и не является шагом воронки.\n",
    "* Больше всего пользователей теряется на втором шаге - экран предложений, возможно этот экран показывается не всем пользователям используя алгоритмы, так же возможно наличие технических ошибок. Доля пользователей доходящих от первого события до оплаты по этой воронке составляет 47.7%, это очень высокая конверсия, такие цифры завставляют сомневаться в их истинности. Скорее всего нужно прослеживать путь именно тех пользователей, которые прошли через все этапы т.к. есть вероятность того, что пользователь может пропускать шаги воронки и оказаться сразу на следующем шаге без посещени предыдущего."
   ]
  },
  {
   "cell_type": "markdown",
   "id": "994a5b5a",
   "metadata": {},
   "source": [
    "## Изучим результаты эксперимента"
   ]
  },
  {
   "cell_type": "markdown",
   "id": "d5a97496",
   "metadata": {},
   "source": [
    "Для удобства переименуем названия групп с 246, 247 и 248 на A1, A2 и B соответственно"
   ]
  },
  {
   "cell_type": "code",
   "execution_count": 127,
   "id": "a0243b03",
   "metadata": {},
   "outputs": [],
   "source": [
    "df = df.replace({'group':{246:'A1', 247:'A2', 248:'B'}})"
   ]
  },
  {
   "cell_type": "markdown",
   "id": "6eeab917",
   "metadata": {},
   "source": [
    "### Посмотрим, сколько пользователей в каждой экспериментальной группе"
   ]
  },
  {
   "cell_type": "code",
   "execution_count": 128,
   "id": "eec7c844",
   "metadata": {},
   "outputs": [
    {
     "data": {
      "text/html": [
       "<div>\n",
       "<style scoped>\n",
       "    .dataframe tbody tr th:only-of-type {\n",
       "        vertical-align: middle;\n",
       "    }\n",
       "\n",
       "    .dataframe tbody tr th {\n",
       "        vertical-align: top;\n",
       "    }\n",
       "\n",
       "    .dataframe thead th {\n",
       "        text-align: right;\n",
       "    }\n",
       "</style>\n",
       "<table border=\"1\" class=\"dataframe\">\n",
       "  <thead>\n",
       "    <tr style=\"text-align: right;\">\n",
       "      <th></th>\n",
       "      <th>user_id</th>\n",
       "    </tr>\n",
       "    <tr>\n",
       "      <th>group</th>\n",
       "      <th></th>\n",
       "    </tr>\n",
       "  </thead>\n",
       "  <tbody>\n",
       "    <tr>\n",
       "      <th>A1</th>\n",
       "      <td>2484.0</td>\n",
       "    </tr>\n",
       "    <tr>\n",
       "      <th>A2</th>\n",
       "      <td>2513.0</td>\n",
       "    </tr>\n",
       "    <tr>\n",
       "      <th>B</th>\n",
       "      <td>2537.0</td>\n",
       "    </tr>\n",
       "    <tr>\n",
       "      <th>A1_A2</th>\n",
       "      <td>4997.0</td>\n",
       "    </tr>\n",
       "  </tbody>\n",
       "</table>\n",
       "</div>"
      ],
      "text/plain": [
       "       user_id\n",
       "group         \n",
       "A1      2484.0\n",
       "A2      2513.0\n",
       "B       2537.0\n",
       "A1_A2   4997.0"
      ]
     },
     "execution_count": 128,
     "metadata": {},
     "output_type": "execute_result"
    }
   ],
   "source": [
    "group = df.groupby('group').agg({'user_id':'nunique'})\n",
    "group.loc['A1_A2', 'user_id'] = group.loc['A1', 'user_id']+group.loc['A2', 'user_id']\n",
    "group"
   ]
  },
  {
   "cell_type": "markdown",
   "id": "4b6f2691",
   "metadata": {},
   "source": [
    "Пользователи разбиты на группы достаточно равномерно"
   ]
  },
  {
   "cell_type": "markdown",
   "id": "e26da749",
   "metadata": {},
   "source": [
    "Проверм пересечение пользователей в группах"
   ]
  },
  {
   "cell_type": "code",
   "execution_count": 129,
   "id": "fb3bd314",
   "metadata": {},
   "outputs": [
    {
     "data": {
      "text/plain": [
       "(array([], dtype=int64), array([], dtype=int64), array([], dtype=int64))"
      ]
     },
     "execution_count": 129,
     "metadata": {},
     "output_type": "execute_result"
    }
   ],
   "source": [
    "# сделаем срез данных по группам теста\n",
    "A_1 = df.query('group==\"A1\"')\n",
    "A_2 = df.query('group==\"A_2\"')\n",
    "B = df.query('group==\"B\"')\n",
    "\n",
    "# получаем пользователей, попавших в обе группы \n",
    "(\n",
    "np.intersect1d(A_1['user_id'], A_2['user_id']), \n",
    "np.intersect1d(A_1['user_id'], B['user_id']),\n",
    "np.intersect1d(A_2['user_id'], B['user_id'])\n",
    ")\n"
   ]
  },
  {
   "cell_type": "markdown",
   "id": "480d9c8d",
   "metadata": {},
   "source": [
    "* Пересечения в группах отсутсвуют"
   ]
  },
  {
   "cell_type": "markdown",
   "id": "9ed58a86",
   "metadata": {},
   "source": [
    "### Проведём A/A- эксперимент, проверим находят ли статистические критерии разницу между выборками A1 и A2"
   ]
  },
  {
   "cell_type": "markdown",
   "id": "324dd724",
   "metadata": {},
   "source": [
    "Создади сводную таблицу с разделенияем по событиям и группам теста"
   ]
  },
  {
   "cell_type": "code",
   "execution_count": 130,
   "id": "18340331",
   "metadata": {},
   "outputs": [
    {
     "data": {
      "text/html": [
       "<div>\n",
       "<style scoped>\n",
       "    .dataframe tbody tr th:only-of-type {\n",
       "        vertical-align: middle;\n",
       "    }\n",
       "\n",
       "    .dataframe tbody tr th {\n",
       "        vertical-align: top;\n",
       "    }\n",
       "\n",
       "    .dataframe thead th {\n",
       "        text-align: right;\n",
       "    }\n",
       "</style>\n",
       "<table border=\"1\" class=\"dataframe\">\n",
       "  <thead>\n",
       "    <tr style=\"text-align: right;\">\n",
       "      <th>group</th>\n",
       "      <th>A1</th>\n",
       "      <th>A2</th>\n",
       "      <th>B</th>\n",
       "      <th>A1_A2</th>\n",
       "      <th>share_A1</th>\n",
       "      <th>share_A2</th>\n",
       "      <th>share_B</th>\n",
       "    </tr>\n",
       "    <tr>\n",
       "      <th>event</th>\n",
       "      <th></th>\n",
       "      <th></th>\n",
       "      <th></th>\n",
       "      <th></th>\n",
       "      <th></th>\n",
       "      <th></th>\n",
       "      <th></th>\n",
       "    </tr>\n",
       "  </thead>\n",
       "  <tbody>\n",
       "    <tr>\n",
       "      <th>MainScreenAppear</th>\n",
       "      <td>2450</td>\n",
       "      <td>2476</td>\n",
       "      <td>2493</td>\n",
       "      <td>4926</td>\n",
       "      <td>98.6</td>\n",
       "      <td>98.5</td>\n",
       "      <td>98.3</td>\n",
       "    </tr>\n",
       "    <tr>\n",
       "      <th>OffersScreenAppear</th>\n",
       "      <td>1542</td>\n",
       "      <td>1520</td>\n",
       "      <td>1531</td>\n",
       "      <td>3062</td>\n",
       "      <td>62.1</td>\n",
       "      <td>60.5</td>\n",
       "      <td>60.3</td>\n",
       "    </tr>\n",
       "    <tr>\n",
       "      <th>CartScreenAppear</th>\n",
       "      <td>1266</td>\n",
       "      <td>1238</td>\n",
       "      <td>1230</td>\n",
       "      <td>2504</td>\n",
       "      <td>51.0</td>\n",
       "      <td>49.3</td>\n",
       "      <td>48.5</td>\n",
       "    </tr>\n",
       "    <tr>\n",
       "      <th>PaymentScreenSuccessful</th>\n",
       "      <td>1200</td>\n",
       "      <td>1158</td>\n",
       "      <td>1181</td>\n",
       "      <td>2358</td>\n",
       "      <td>48.3</td>\n",
       "      <td>46.1</td>\n",
       "      <td>46.6</td>\n",
       "    </tr>\n",
       "  </tbody>\n",
       "</table>\n",
       "</div>"
      ],
      "text/plain": [
       "group                      A1    A2     B  A1_A2  share_A1  share_A2  share_B\n",
       "event                                                                        \n",
       "MainScreenAppear         2450  2476  2493   4926      98.6      98.5     98.3\n",
       "OffersScreenAppear       1542  1520  1531   3062      62.1      60.5     60.3\n",
       "CartScreenAppear         1266  1238  1230   2504      51.0      49.3     48.5\n",
       "PaymentScreenSuccessful  1200  1158  1181   2358      48.3      46.1     46.6"
      ]
     },
     "execution_count": 130,
     "metadata": {},
     "output_type": "execute_result"
    }
   ],
   "source": [
    "test = df.query('event != \"Tutorial\"').pivot_table(index='event', \n",
    "                                            columns='group', \n",
    "                                            values='user_id', \n",
    "                                            aggfunc='nunique').sort_values('A1', ascending=False)\n",
    "\n",
    "# добавим колонку с суммой пользователей в группе A1 и A2\n",
    "test['A1_A2'] = test['A1'] + test['A2']\n",
    "\n",
    "# посчитаем долю пользователей совершивших каждое событие\n",
    "test['share_A1'] = (test['A1']/group.loc['A1', 'user_id']*100).round(1)\n",
    "test['share_A2'] = (test['A2']/group.loc['A2', 'user_id']*100).round(1)\n",
    "test['share_B'] = (test['B']/group.loc['B', 'user_id']*100).round(1)\n",
    "\n",
    "test"
   ]
  },
  {
   "cell_type": "markdown",
   "id": "4667cbe3",
   "metadata": {},
   "source": [
    "Посчитали число пользователей, совершивших каждое событие в каждой из контрольных групп, посчитали долю пользователей, совершивших эти события. "
   ]
  },
  {
   "cell_type": "code",
   "execution_count": 131,
   "id": "959b84fe",
   "metadata": {},
   "outputs": [
    {
     "data": {
      "text/plain": [
       "MainScreenAppear           117328\n",
       "OffersScreenAppear          46333\n",
       "CartScreenAppear            42303\n",
       "PaymentScreenSuccessful     33918\n",
       "Tutorial                     1005\n",
       "Name: event, dtype: int64"
      ]
     },
     "execution_count": 131,
     "metadata": {},
     "output_type": "execute_result"
    }
   ],
   "source": [
    "df['event'].value_counts()"
   ]
  },
  {
   "cell_type": "markdown",
   "id": "3389a69b",
   "metadata": {},
   "source": [
    "Самое популярное событие - MainScreenAppear(появление главного экрана)"
   ]
  },
  {
   "cell_type": "markdown",
   "id": "ac53e616",
   "metadata": {},
   "source": [
    "Напишем функцию для проведения z-теста"
   ]
  },
  {
   "cell_type": "code",
   "execution_count": 132,
   "id": "575f47c9",
   "metadata": {},
   "outputs": [],
   "source": [
    "def z_test (gr1, gr2, event, alpha):\n",
    " \n",
    "    p1_ev = test.loc[event, gr1]\n",
    "    p2_ev = test.loc[event, gr2]\n",
    "    p1_us = group.loc[gr1, 'user_id']\n",
    "    p2_us = group.loc[gr2, 'user_id']\n",
    " \n",
    "    # пропорция успехов в первой группе:\n",
    "    p1 = p1_ev/p1_us\n",
    " \n",
    "    # пропорция успехов во второй группе:\n",
    "    p2 = p2_ev/p2_us\n",
    " \n",
    "    # пропорция успехов в комбинированном датасете:\n",
    "    p_combined = (p1_ev + p2_ev) / (p1_us + p2_us)\n",
    " \n",
    "    # разница пропорций в датасетах\n",
    "    difference = p1 - p2 \n",
    " \n",
    "    z_value = difference / mth.sqrt(p_combined * (1 - p_combined) * (1/p1_us + 1/p2_us))\n",
    " \n",
    "    # задаем стандартное нормальное распределение (среднее 0, ст.отклонение 1)\n",
    "    distr = st.norm(0, 1)\n",
    " \n",
    "    p_value = (1 - distr.cdf(abs(z_value))) * 2\n",
    " \n",
    "    print('событие {} p-значение: {:.3f}'.format(event, p_value))\n",
    " \n",
    "    if p_value < alpha:\n",
    "        print('Отвергаем нулевую гипотезу: между долями есть значимая разница')\n",
    "    else:\n",
    "        print('Не получилось отвергнуть нулевую гипотезу, нет оснований считать доли разными')"
   ]
  },
  {
   "cell_type": "markdown",
   "id": "2ea93a58",
   "metadata": {},
   "source": [
    "Мы проводим множественный тест и поэтому необходимо производить корректировку уровня статистической значимости. Для начала проведем тесты с уровнем статистической значимости 5%, по результатам теста примем решение и в случае необходимости скорректируем его."
   ]
  },
  {
   "cell_type": "markdown",
   "id": "b84b9589",
   "metadata": {},
   "source": [
    "Проверим находит ли статистический критерий разницу между выборками A1 и A2 с помощью z-теста, уровень статистической значимости принимаем за `5%`.\n",
    "\n",
    "Сформулируем нулевую и альтернативную гипотезу:\n",
    "* H₀ - Нет оснований считать доли разными\n",
    "* H₁ - Между долями есть значимая разница"
   ]
  },
  {
   "cell_type": "markdown",
   "id": "02ed0898",
   "metadata": {},
   "source": [
    "Применим функцию с помщью цикла и сравним каждый шаг воронки"
   ]
  },
  {
   "cell_type": "code",
   "execution_count": 133,
   "id": "baed2501",
   "metadata": {},
   "outputs": [
    {
     "name": "stdout",
     "output_type": "stream",
     "text": [
      "событие MainScreenAppear p-значение: 0.757\n",
      "Не получилось отвергнуть нулевую гипотезу, нет оснований считать доли разными\n",
      "\n",
      "событие OffersScreenAppear p-значение: 0.248\n",
      "Не получилось отвергнуть нулевую гипотезу, нет оснований считать доли разными\n",
      "\n",
      "событие CartScreenAppear p-значение: 0.229\n",
      "Не получилось отвергнуть нулевую гипотезу, нет оснований считать доли разными\n",
      "\n",
      "событие PaymentScreenSuccessful p-значение: 0.115\n",
      "Не получилось отвергнуть нулевую гипотезу, нет оснований считать доли разными\n",
      "\n"
     ]
    }
   ],
   "source": [
    "for event in test.index:\n",
    "    z_test('A1', 'A2', event, alpha=0.05)\n",
    "    print()"
   ]
  },
  {
   "cell_type": "markdown",
   "id": "45cff56a",
   "metadata": {},
   "source": [
    "Для всех событий p-value оказался значительно выше `5%`. Нет оснований считать, что контрольные группы различаются."
   ]
  },
  {
   "cell_type": "markdown",
   "id": "cb68d64f",
   "metadata": {},
   "source": [
    "### Проверим находят ли статистические критерии разницу между выборками A1 и B"
   ]
  },
  {
   "cell_type": "markdown",
   "id": "cfbbfd17",
   "metadata": {},
   "source": [
    "Проверим находит ли статистический критерий разницу между выборками A1 и B с помощью z-теста, уровень статистической значимости принимаем за `5%`.\n",
    "\n",
    "Сформулируем нулевую и альтернативную гипотезу:\n",
    "* H₀ - Нет оснований считать доли разными\n",
    "* H₁ - Между долями есть значимая разница"
   ]
  },
  {
   "cell_type": "code",
   "execution_count": 134,
   "id": "f6c87fb5",
   "metadata": {},
   "outputs": [
    {
     "name": "stdout",
     "output_type": "stream",
     "text": [
      "событие MainScreenAppear p-значение: 0.295\n",
      "Не получилось отвергнуть нулевую гипотезу, нет оснований считать доли разными\n",
      "\n",
      "событие OffersScreenAppear p-значение: 0.208\n",
      "Не получилось отвергнуть нулевую гипотезу, нет оснований считать доли разными\n",
      "\n",
      "событие CartScreenAppear p-значение: 0.078\n",
      "Не получилось отвергнуть нулевую гипотезу, нет оснований считать доли разными\n",
      "\n",
      "событие PaymentScreenSuccessful p-значение: 0.212\n",
      "Не получилось отвергнуть нулевую гипотезу, нет оснований считать доли разными\n",
      "\n"
     ]
    }
   ],
   "source": [
    "for event in test.index:\n",
    "    z_test('A1', 'B', event, alpha=0.05)\n",
    "    print()"
   ]
  },
  {
   "cell_type": "markdown",
   "id": "1cd031c8",
   "metadata": {},
   "source": [
    "Сравнив контрольную группу A1 c эксперементальной группой B можно сделать вывод, что статистически важных различий между группами нет."
   ]
  },
  {
   "cell_type": "markdown",
   "id": "eaabcc7b",
   "metadata": {},
   "source": [
    "### Проверим находят ли статистические критерии разницу между выборками A2 и B"
   ]
  },
  {
   "cell_type": "markdown",
   "id": "6e7d35fc",
   "metadata": {},
   "source": [
    "Проверим находит ли статистический критерий разницу между выборками A2 и B с помощью z-теста, уровень статистической значимости принимаем за `5%`.\n",
    "\n",
    "Сформулируем нулевую и альтернативную гипотезу:\n",
    "* H₀ - Нет оснований считать доли разными\n",
    "* H₁ - Между долями есть значимая разница"
   ]
  },
  {
   "cell_type": "code",
   "execution_count": 135,
   "id": "2703e9da",
   "metadata": {},
   "outputs": [
    {
     "name": "stdout",
     "output_type": "stream",
     "text": [
      "событие MainScreenAppear p-значение: 0.459\n",
      "Не получилось отвергнуть нулевую гипотезу, нет оснований считать доли разными\n",
      "\n",
      "событие OffersScreenAppear p-значение: 0.920\n",
      "Не получилось отвергнуть нулевую гипотезу, нет оснований считать доли разными\n",
      "\n",
      "событие CartScreenAppear p-значение: 0.579\n",
      "Не получилось отвергнуть нулевую гипотезу, нет оснований считать доли разными\n",
      "\n",
      "событие PaymentScreenSuccessful p-значение: 0.737\n",
      "Не получилось отвергнуть нулевую гипотезу, нет оснований считать доли разными\n",
      "\n"
     ]
    }
   ],
   "source": [
    "for event in test.index:\n",
    "    z_test('A2', 'B', event, alpha=0.05)\n",
    "    print()"
   ]
  },
  {
   "cell_type": "markdown",
   "id": "1e5c1803",
   "metadata": {},
   "source": [
    "Между группами A2 и B так же нет статистически важных различий, при этом p-value в десятки раз превышает принятый нами уровень статистической значимости"
   ]
  },
  {
   "cell_type": "markdown",
   "id": "d81cfe74",
   "metadata": {},
   "source": [
    "### Проверим находят ли статистические критерии разницу между выборками A1_A2 и B"
   ]
  },
  {
   "cell_type": "markdown",
   "id": "cf349605",
   "metadata": {},
   "source": [
    "Проверим находит ли статистический критерий разницу между выборками A1_A2 и B с помощью z-теста, уровень статистической значимости принимаем за `5%`.\n",
    "\n",
    "Сформулируем нулевую и альтернативную гипотезу:\n",
    "* H₀ - Нет оснований считать доли разными\n",
    "* H₁ - Между долями есть значимая разница"
   ]
  },
  {
   "cell_type": "code",
   "execution_count": 136,
   "id": "0b2425d9",
   "metadata": {},
   "outputs": [
    {
     "name": "stdout",
     "output_type": "stream",
     "text": [
      "событие MainScreenAppear p-значение: 0.294\n",
      "Не получилось отвергнуть нулевую гипотезу, нет оснований считать доли разными\n",
      "\n",
      "событие OffersScreenAppear p-значение: 0.434\n",
      "Не получилось отвергнуть нулевую гипотезу, нет оснований считать доли разными\n",
      "\n",
      "событие CartScreenAppear p-значение: 0.182\n",
      "Не получилось отвергнуть нулевую гипотезу, нет оснований считать доли разными\n",
      "\n",
      "событие PaymentScreenSuccessful p-значение: 0.600\n",
      "Не получилось отвергнуть нулевую гипотезу, нет оснований считать доли разными\n",
      "\n"
     ]
    }
   ],
   "source": [
    "for event in test.index:\n",
    "    z_test('A1_A2', 'B', event, alpha=0.05)\n",
    "    print()"
   ]
  },
  {
   "cell_type": "markdown",
   "id": "24961b74",
   "metadata": {},
   "source": [
    "Между обьединенной контрольной группой A1_A2 и экспериментальной группой B, статистически значимых различий нет."
   ]
  },
  {
   "cell_type": "markdown",
   "id": "cd127838",
   "metadata": {},
   "source": [
    "При множественном тесте возрастает вероятность получить ложный результат, но конкретно в нашем случае P-value во всех тестах событий был более 0.05, поэтому корректировку делать не обязательно т.к. результаты в любом случае не изменятся."
   ]
  },
  {
   "cell_type": "markdown",
   "id": "bce95165",
   "metadata": {},
   "source": [
    "**Вывод:**\n",
    "\n",
    "По результатам статистических тестов видно, что группы с большой вероятностью не отличаются друг от друга. Скорее всего изменение шрифта никак не повлияет на пользовательскую активность и не принесёт пользы для бизнеса, поэтому нет никакого смысла тратить ресурсы компании на это изменение."
   ]
  },
  {
   "cell_type": "markdown",
   "id": "3d6b042c",
   "metadata": {},
   "source": [
    "## Вывод"
   ]
  },
  {
   "cell_type": "markdown",
   "id": "942b541d",
   "metadata": {},
   "source": [
    "В ходе работы мы взяли временной период за который располагаем достаточным объемом данных, для этого периода определили последовательность воронки событий. Так же отбросили событие, которое не представляет ценности в рамках событийной аналитики и не является шагом воронки. \n",
    "\n",
    "События в нашем приложении происходят в следующем порядке:\n",
    "* появляется главный экран\n",
    "* появляется экран предложений\n",
    "* появляется экран корзины \n",
    "* появляется экран успешной оплаты \n",
    "\n",
    "Проанализировали результаты A/B эксперимента, который был запущен для принятия решения о смене шрифта в приложени. В результате сравнения групп эксперимента с помощью z-теста, было установленно, что группы не имеют статистически значимых различий. Отсутствие различий в группах говорит о том, что изменение шрифта никак не повлияло на пользователей и скорее всего не принесёт пользу бизнесу, поэтому рекомендуем отказаться от этой идеи."
   ]
  }
 ],
 "metadata": {
  "ExecuteTimeLog": [
   {
    "duration": 1116,
    "start_time": "2022-05-23T07:50:38.955Z"
   },
   {
    "duration": 5,
    "start_time": "2022-05-23T07:50:40.073Z"
   },
   {
    "duration": 876,
    "start_time": "2022-05-23T07:50:40.080Z"
   },
   {
    "duration": 136,
    "start_time": "2022-05-23T07:50:40.958Z"
   },
   {
    "duration": 34,
    "start_time": "2022-05-23T07:50:41.096Z"
   },
   {
    "duration": 106,
    "start_time": "2022-05-23T07:50:41.132Z"
   },
   {
    "duration": 9,
    "start_time": "2022-05-23T07:50:41.247Z"
   },
   {
    "duration": 149,
    "start_time": "2022-05-23T07:50:41.265Z"
   },
   {
    "duration": 24,
    "start_time": "2022-05-23T07:50:41.417Z"
   },
   {
    "duration": 13,
    "start_time": "2022-05-23T07:50:41.445Z"
   },
   {
    "duration": 29,
    "start_time": "2022-05-23T07:50:41.460Z"
   },
   {
    "duration": 15,
    "start_time": "2022-05-23T07:50:41.491Z"
   },
   {
    "duration": 435,
    "start_time": "2022-05-23T07:50:41.515Z"
   },
   {
    "duration": 18,
    "start_time": "2022-05-23T07:50:41.951Z"
   },
   {
    "duration": 43,
    "start_time": "2022-05-23T07:50:41.971Z"
   },
   {
    "duration": 7,
    "start_time": "2022-05-23T07:50:42.018Z"
   },
   {
    "duration": 54,
    "start_time": "2022-05-23T07:50:42.026Z"
   },
   {
    "duration": 29,
    "start_time": "2022-05-23T07:50:42.082Z"
   },
   {
    "duration": 162,
    "start_time": "2022-05-23T07:50:42.118Z"
   },
   {
    "duration": 122,
    "start_time": "2022-05-23T07:50:42.282Z"
   },
   {
    "duration": 26,
    "start_time": "2022-05-23T07:50:42.406Z"
   },
   {
    "duration": 16,
    "start_time": "2022-05-23T07:50:42.434Z"
   },
   {
    "duration": 12,
    "start_time": "2022-05-23T07:50:42.452Z"
   },
   {
    "duration": 30,
    "start_time": "2022-05-23T07:50:42.505Z"
   },
   {
    "duration": 122,
    "start_time": "2022-05-23T07:50:42.538Z"
   },
   {
    "duration": 136,
    "start_time": "2022-05-23T07:50:42.704Z"
   },
   {
    "duration": 24,
    "start_time": "2022-05-23T07:50:42.842Z"
   },
   {
    "duration": 9,
    "start_time": "2022-05-23T07:50:42.869Z"
   },
   {
    "duration": 38,
    "start_time": "2022-05-23T07:50:42.879Z"
   },
   {
    "duration": 23,
    "start_time": "2022-05-23T07:50:42.918Z"
   },
   {
    "duration": 12,
    "start_time": "2022-05-23T07:50:42.943Z"
   },
   {
    "duration": 10,
    "start_time": "2022-05-23T07:50:42.957Z"
   },
   {
    "duration": 1178,
    "start_time": "2022-05-23T08:01:55.965Z"
   },
   {
    "duration": 4,
    "start_time": "2022-05-23T08:01:57.145Z"
   },
   {
    "duration": 221,
    "start_time": "2022-05-23T08:01:57.150Z"
   },
   {
    "duration": 141,
    "start_time": "2022-05-23T08:01:57.373Z"
   },
   {
    "duration": 4,
    "start_time": "2022-05-23T08:01:57.517Z"
   },
   {
    "duration": 101,
    "start_time": "2022-05-23T08:01:57.522Z"
   },
   {
    "duration": 8,
    "start_time": "2022-05-23T08:01:57.625Z"
   },
   {
    "duration": 153,
    "start_time": "2022-05-23T08:01:57.634Z"
   },
   {
    "duration": 13,
    "start_time": "2022-05-23T08:01:57.789Z"
   },
   {
    "duration": 24,
    "start_time": "2022-05-23T08:01:57.805Z"
   },
   {
    "duration": 20,
    "start_time": "2022-05-23T08:01:57.831Z"
   },
   {
    "duration": 7,
    "start_time": "2022-05-23T08:01:57.853Z"
   },
   {
    "duration": 441,
    "start_time": "2022-05-23T08:01:57.861Z"
   },
   {
    "duration": 26,
    "start_time": "2022-05-23T08:01:58.307Z"
   },
   {
    "duration": 18,
    "start_time": "2022-05-23T08:01:58.336Z"
   },
   {
    "duration": 6,
    "start_time": "2022-05-23T08:01:58.355Z"
   },
   {
    "duration": 76,
    "start_time": "2022-05-23T08:01:58.364Z"
   },
   {
    "duration": 38,
    "start_time": "2022-05-23T08:01:58.443Z"
   },
   {
    "duration": 163,
    "start_time": "2022-05-23T08:01:58.483Z"
   },
   {
    "duration": 134,
    "start_time": "2022-05-23T08:01:58.649Z"
   },
   {
    "duration": 25,
    "start_time": "2022-05-23T08:01:58.802Z"
   },
   {
    "duration": 9,
    "start_time": "2022-05-23T08:01:58.829Z"
   },
   {
    "duration": 65,
    "start_time": "2022-05-23T08:01:58.839Z"
   },
   {
    "duration": 36,
    "start_time": "2022-05-23T08:01:58.906Z"
   },
   {
    "duration": 101,
    "start_time": "2022-05-23T08:01:58.944Z"
   },
   {
    "duration": 134,
    "start_time": "2022-05-23T08:01:59.047Z"
   },
   {
    "duration": 45,
    "start_time": "2022-05-23T08:01:59.183Z"
   },
   {
    "duration": 6,
    "start_time": "2022-05-23T08:01:59.230Z"
   },
   {
    "duration": 16,
    "start_time": "2022-05-23T08:01:59.238Z"
   },
   {
    "duration": 9,
    "start_time": "2022-05-23T08:01:59.256Z"
   },
   {
    "duration": 10,
    "start_time": "2022-05-23T08:01:59.266Z"
   },
   {
    "duration": 11,
    "start_time": "2022-05-23T08:01:59.304Z"
   },
   {
    "duration": 1213,
    "start_time": "2022-05-24T08:22:08.213Z"
   },
   {
    "duration": 5,
    "start_time": "2022-05-24T08:22:09.428Z"
   },
   {
    "duration": 758,
    "start_time": "2022-05-24T08:22:09.435Z"
   },
   {
    "duration": 139,
    "start_time": "2022-05-24T08:22:10.195Z"
   },
   {
    "duration": 4,
    "start_time": "2022-05-24T08:22:10.336Z"
   },
   {
    "duration": 103,
    "start_time": "2022-05-24T08:22:10.342Z"
   },
   {
    "duration": 8,
    "start_time": "2022-05-24T08:22:10.447Z"
   },
   {
    "duration": 135,
    "start_time": "2022-05-24T08:22:10.456Z"
   },
   {
    "duration": 27,
    "start_time": "2022-05-24T08:22:10.596Z"
   },
   {
    "duration": 27,
    "start_time": "2022-05-24T08:22:10.626Z"
   },
   {
    "duration": 19,
    "start_time": "2022-05-24T08:22:10.657Z"
   },
   {
    "duration": 8,
    "start_time": "2022-05-24T08:22:10.678Z"
   },
   {
    "duration": 451,
    "start_time": "2022-05-24T08:22:10.688Z"
   },
   {
    "duration": 20,
    "start_time": "2022-05-24T08:22:11.141Z"
   },
   {
    "duration": 16,
    "start_time": "2022-05-24T08:22:11.163Z"
   },
   {
    "duration": 15,
    "start_time": "2022-05-24T08:22:11.181Z"
   },
   {
    "duration": 69,
    "start_time": "2022-05-24T08:22:11.198Z"
   },
   {
    "duration": 23,
    "start_time": "2022-05-24T08:22:11.269Z"
   },
   {
    "duration": 196,
    "start_time": "2022-05-24T08:22:11.295Z"
   },
   {
    "duration": 183,
    "start_time": "2022-05-24T08:22:11.493Z"
   },
   {
    "duration": 23,
    "start_time": "2022-05-24T08:22:11.677Z"
   },
   {
    "duration": 20,
    "start_time": "2022-05-24T08:22:11.702Z"
   },
   {
    "duration": 51,
    "start_time": "2022-05-24T08:22:11.724Z"
   },
   {
    "duration": 67,
    "start_time": "2022-05-24T08:22:11.777Z"
   },
   {
    "duration": 112,
    "start_time": "2022-05-24T08:22:11.847Z"
   },
   {
    "duration": 76,
    "start_time": "2022-05-24T08:22:11.962Z"
   },
   {
    "duration": 141,
    "start_time": "2022-05-24T08:22:12.041Z"
   },
   {
    "duration": 29,
    "start_time": "2022-05-24T08:22:12.185Z"
   },
   {
    "duration": 8,
    "start_time": "2022-05-24T08:22:12.216Z"
   },
   {
    "duration": 23,
    "start_time": "2022-05-24T08:22:12.226Z"
   },
   {
    "duration": 12,
    "start_time": "2022-05-24T08:22:12.251Z"
   },
   {
    "duration": 18,
    "start_time": "2022-05-24T08:22:12.265Z"
   },
   {
    "duration": 33,
    "start_time": "2022-05-24T08:22:12.285Z"
   },
   {
    "duration": 1276,
    "start_time": "2022-05-24T08:23:26.501Z"
   },
   {
    "duration": 4,
    "start_time": "2022-05-24T08:23:27.780Z"
   },
   {
    "duration": 195,
    "start_time": "2022-05-24T08:23:27.786Z"
   },
   {
    "duration": 165,
    "start_time": "2022-05-24T08:23:27.983Z"
   },
   {
    "duration": 4,
    "start_time": "2022-05-24T08:23:28.150Z"
   },
   {
    "duration": 113,
    "start_time": "2022-05-24T08:23:28.156Z"
   },
   {
    "duration": 7,
    "start_time": "2022-05-24T08:23:28.271Z"
   },
   {
    "duration": 163,
    "start_time": "2022-05-24T08:23:28.280Z"
   },
   {
    "duration": 22,
    "start_time": "2022-05-24T08:23:28.445Z"
   },
   {
    "duration": 16,
    "start_time": "2022-05-24T08:23:28.471Z"
   },
   {
    "duration": 55,
    "start_time": "2022-05-24T08:23:28.490Z"
   },
   {
    "duration": 16,
    "start_time": "2022-05-24T08:23:28.549Z"
   },
   {
    "duration": 457,
    "start_time": "2022-05-24T08:23:28.568Z"
   },
   {
    "duration": 21,
    "start_time": "2022-05-24T08:23:29.027Z"
   },
   {
    "duration": 16,
    "start_time": "2022-05-24T08:23:29.049Z"
   },
   {
    "duration": 3,
    "start_time": "2022-05-24T08:23:29.067Z"
   },
   {
    "duration": 72,
    "start_time": "2022-05-24T08:23:29.072Z"
   },
   {
    "duration": 22,
    "start_time": "2022-05-24T08:23:29.146Z"
   },
   {
    "duration": 183,
    "start_time": "2022-05-24T08:23:29.170Z"
   },
   {
    "duration": 177,
    "start_time": "2022-05-24T08:23:29.355Z"
   },
   {
    "duration": 20,
    "start_time": "2022-05-24T08:23:29.534Z"
   },
   {
    "duration": 15,
    "start_time": "2022-05-24T08:23:29.557Z"
   },
   {
    "duration": 58,
    "start_time": "2022-05-24T08:23:29.574Z"
   },
   {
    "duration": 35,
    "start_time": "2022-05-24T08:23:29.634Z"
   },
   {
    "duration": 112,
    "start_time": "2022-05-24T08:23:29.671Z"
   },
   {
    "duration": 86,
    "start_time": "2022-05-24T08:23:29.785Z"
   },
   {
    "duration": 151,
    "start_time": "2022-05-24T08:23:29.873Z"
   },
   {
    "duration": 37,
    "start_time": "2022-05-24T08:23:30.032Z"
   },
   {
    "duration": 9,
    "start_time": "2022-05-24T08:23:30.072Z"
   },
   {
    "duration": 33,
    "start_time": "2022-05-24T08:23:30.083Z"
   },
   {
    "duration": 23,
    "start_time": "2022-05-24T08:23:30.120Z"
   },
   {
    "duration": 25,
    "start_time": "2022-05-24T08:23:30.145Z"
   },
   {
    "duration": 18,
    "start_time": "2022-05-24T08:23:30.172Z"
   }
  ],
  "kernelspec": {
   "display_name": "Python 3 (ipykernel)",
   "language": "python",
   "name": "python3"
  },
  "language_info": {
   "codemirror_mode": {
    "name": "ipython",
    "version": 3
   },
   "file_extension": ".py",
   "mimetype": "text/x-python",
   "name": "python",
   "nbconvert_exporter": "python",
   "pygments_lexer": "ipython3",
   "version": "3.9.7"
  },
  "toc": {
   "base_numbering": 1,
   "nav_menu": {},
   "number_sections": true,
   "sideBar": true,
   "skip_h1_title": true,
   "title_cell": "Содержание",
   "title_sidebar": "Contents",
   "toc_cell": true,
   "toc_position": {
    "height": "calc(100% - 180px)",
    "left": "10px",
    "top": "150px",
    "width": "273.188px"
   },
   "toc_section_display": true,
   "toc_window_display": false
  }
 },
 "nbformat": 4,
 "nbformat_minor": 5
}
