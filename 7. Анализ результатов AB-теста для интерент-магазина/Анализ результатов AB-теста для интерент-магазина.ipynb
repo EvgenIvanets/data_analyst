{
 "cells": [
  {
   "cell_type": "markdown",
   "metadata": {},
   "source": [
    "# Приоритезация гипотез и запуск A/B теста для интернет-магазина"
   ]
  },
  {
   "cell_type": "markdown",
   "metadata": {},
   "source": [
    "**Совместно с отделом маркетинга мы подготовили список гипотез для увеличения выручки интерент-магазина, необходимо приоритизировать данные гипотезы, запустить A/B-тест и проанализировать результаты.**"
   ]
  },
  {
   "cell_type": "markdown",
   "metadata": {
    "toc": true
   },
   "source": [
    "<h1>Содержание<span class=\"tocSkip\"></span></h1>\n",
    "<div class=\"toc\"><ul class=\"toc-item\"><li><span><a href=\"#Загружаем-данные-и-готовим-их-к-анализу\" data-toc-modified-id=\"Загружаем-данные-и-готовим-их-к-анализу-1\"><span class=\"toc-item-num\">1&nbsp;&nbsp;</span>Загружаем данные и готовим их к анализу</a></span></li><li><span><a href=\"#Приоритизация-гипотез-с-помощью-фреймворка\" data-toc-modified-id=\"Приоритизация-гипотез-с-помощью-фреймворка-2\"><span class=\"toc-item-num\">2&nbsp;&nbsp;</span>Приоритизация гипотез с помощью фреймворка</a></span><ul class=\"toc-item\"><li><span><a href=\"#Фреймворк-ICE\" data-toc-modified-id=\"Фреймворк-ICE-2.1\"><span class=\"toc-item-num\">2.1&nbsp;&nbsp;</span>Фреймворк <code>ICE</code></a></span></li><li><span><a href=\"#Фреймворк-RICE\" data-toc-modified-id=\"Фреймворк-RICE-2.2\"><span class=\"toc-item-num\">2.2&nbsp;&nbsp;</span>Фреймворк <code>RICE</code></a></span></li></ul></li><li><span><a href=\"#Анализ-A/B-теста\" data-toc-modified-id=\"Анализ-A/B-теста-3\"><span class=\"toc-item-num\">3&nbsp;&nbsp;</span>Анализ A/B-теста</a></span><ul class=\"toc-item\"><li><span><a href=\"#Проверка-корректности-групп-A/B-теста\" data-toc-modified-id=\"Проверка-корректности-групп-A/B-теста-3.1\"><span class=\"toc-item-num\">3.1&nbsp;&nbsp;</span>Проверка корректности групп A/B-теста</a></span></li><li><span><a href=\"#Построим-график-кумулятивной-выручки-по-группам\" data-toc-modified-id=\"Построим-график-кумулятивной-выручки-по-группам-3.2\"><span class=\"toc-item-num\">3.2&nbsp;&nbsp;</span>Построим график кумулятивной выручки по группам</a></span></li><li><span><a href=\"#Построим-график-кумулятивного-среднего-чека-по-группам\" data-toc-modified-id=\"Построим-график-кумулятивного-среднего-чека-по-группам-3.3\"><span class=\"toc-item-num\">3.3&nbsp;&nbsp;</span>Построим график кумулятивного среднего чека по группам</a></span></li><li><span><a href=\"#Построим-график-относительного-изменения-кумулятивного-среднего-чека-группы-B-к-группе-A\" data-toc-modified-id=\"Построим-график-относительного-изменения-кумулятивного-среднего-чека-группы-B-к-группе-A-3.4\"><span class=\"toc-item-num\">3.4&nbsp;&nbsp;</span>Построим график относительного изменения кумулятивного среднего чека группы B к группе A</a></span></li><li><span><a href=\"#Построим-график-кумулятивной-конверсии-по-группам\" data-toc-modified-id=\"Построим-график-кумулятивной-конверсии-по-группам-3.5\"><span class=\"toc-item-num\">3.5&nbsp;&nbsp;</span>Построим график кумулятивной конверсии по группам</a></span></li><li><span><a href=\"#Построим-график-относительного-изменения-кумулятивной-конверсии-группы-B-к-группе-A\" data-toc-modified-id=\"Построим-график-относительного-изменения-кумулятивной-конверсии-группы-B-к-группе-A-3.6\"><span class=\"toc-item-num\">3.6&nbsp;&nbsp;</span>Построим график относительного изменения кумулятивной конверсии группы B к группе A</a></span></li><li><span><a href=\"#Построим-точечный-график-количества-заказов-по-пользователям\" data-toc-modified-id=\"Построим-точечный-график-количества-заказов-по-пользователям-3.7\"><span class=\"toc-item-num\">3.7&nbsp;&nbsp;</span>Построим точечный график количества заказов по пользователям</a></span></li><li><span><a href=\"#Посчитаем-95-й-и-99-й-перцентили-количества-заказов-на-пользователя\" data-toc-modified-id=\"Посчитаем-95-й-и-99-й-перцентили-количества-заказов-на-пользователя-3.8\"><span class=\"toc-item-num\">3.8&nbsp;&nbsp;</span>Посчитаем 95-й и 99-й перцентили количества заказов на пользователя</a></span></li><li><span><a href=\"#Построим-точечный-график-стоимостей-заказов\" data-toc-modified-id=\"Построим-точечный-график-стоимостей-заказов-3.9\"><span class=\"toc-item-num\">3.9&nbsp;&nbsp;</span>Построим точечный график стоимостей заказов</a></span></li><li><span><a href=\"#Посчитаем-95-й-и-99-й-перцентили-стоимости-заказов\" data-toc-modified-id=\"Посчитаем-95-й-и-99-й-перцентили-стоимости-заказов-3.10\"><span class=\"toc-item-num\">3.10&nbsp;&nbsp;</span>Посчитаем 95-й и 99-й перцентили стоимости заказов</a></span></li><li><span><a href=\"#Посчитаем-статистическую-значимость-различий-в-конверсии-между-группами-по-«сырым»-данным.\" data-toc-modified-id=\"Посчитаем-статистическую-значимость-различий-в-конверсии-между-группами-по-«сырым»-данным.-3.11\"><span class=\"toc-item-num\">3.11&nbsp;&nbsp;</span>Посчитаем статистическую значимость различий в конверсии между группами по «сырым» данным.</a></span></li><li><span><a href=\"#Посчитаем-статистическую-значимость-различий-в-среднем-чеке-заказа-между-группами-по-«сырым»-данным\" data-toc-modified-id=\"Посчитаем-статистическую-значимость-различий-в-среднем-чеке-заказа-между-группами-по-«сырым»-данным-3.12\"><span class=\"toc-item-num\">3.12&nbsp;&nbsp;</span>Посчитаем статистическую значимость различий в среднем чеке заказа между группами по «сырым» данным</a></span></li><li><span><a href=\"#Посчитайтаем-статистическую-значимость-различий-в-конверсии-между-группами-по-«очищенным»-данным\" data-toc-modified-id=\"Посчитайтаем-статистическую-значимость-различий-в-конверсии-между-группами-по-«очищенным»-данным-3.13\"><span class=\"toc-item-num\">3.13&nbsp;&nbsp;</span>Посчитайтаем статистическую значимость различий в конверсии между группами по «очищенным» данным</a></span></li><li><span><a href=\"#Посчитаем-статистическую-значимость-различий-в-среднем-чеке-заказа-между-группами-по-«очищенным»-данным\" data-toc-modified-id=\"Посчитаем-статистическую-значимость-различий-в-среднем-чеке-заказа-между-группами-по-«очищенным»-данным-3.14\"><span class=\"toc-item-num\">3.14&nbsp;&nbsp;</span>Посчитаем статистическую значимость различий в среднем чеке заказа между группами по «очищенным» данным</a></span></li><li><span><a href=\"#Принятие-решения-по-результатам-A/B-теста\" data-toc-modified-id=\"Принятие-решения-по-результатам-A/B-теста-3.15\"><span class=\"toc-item-num\">3.15&nbsp;&nbsp;</span>Принятие решения по результатам A/B-теста</a></span></li></ul></li></ul></div>"
   ]
  },
  {
   "cell_type": "markdown",
   "metadata": {},
   "source": [
    "## Загружаем данные и готовим их к анализу"
   ]
  },
  {
   "cell_type": "code",
   "execution_count": 1,
   "metadata": {},
   "outputs": [],
   "source": [
    "# импорт необходимых библиотек\n",
    "import pandas as pd\n",
    "import numpy as np\n",
    "from scipy import stats as st\n",
    "import matplotlib.pyplot as plt\n",
    "import datetime as dt"
   ]
  },
  {
   "cell_type": "code",
   "execution_count": 2,
   "metadata": {},
   "outputs": [],
   "source": [
    "# функция для первичного знакомства с данными\n",
    "def analysis(df):\n",
    "  df.columns = [x.lower().replace(' ', '_') for x in df.columns]\n",
    "  print('Колличество дубликатов:', df.duplicated().sum())\n",
    "  print('describe')\n",
    "  display(df.describe())\n",
    "  print('info')\n",
    "  display(df.info())\n",
    "  display(df.head(10))"
   ]
  },
  {
   "cell_type": "markdown",
   "metadata": {},
   "source": [
    "Прочитаем файлы и сохраним их в переменных:"
   ]
  },
  {
   "cell_type": "code",
   "execution_count": 3,
   "metadata": {},
   "outputs": [],
   "source": [
    "try:\n",
    "    hypothesis = pd.read_csv('/datasets/hypothesis.csv')\n",
    "    orders = pd.read_csv('/datasets/orders.csv')\n",
    "    visitors = pd.read_csv('/datasets/visitors.csv')\n",
    "except:\n",
    "    hypothesis = pd.read_csv('hypothesis.csv')\n",
    "    orders = pd.read_csv('orders.csv')\n",
    "    visitors = pd.read_csv('visitors.csv')\n",
    "    "
   ]
  },
  {
   "cell_type": "markdown",
   "metadata": {},
   "source": [
    "Получим информацию о данных:"
   ]
  },
  {
   "cell_type": "code",
   "execution_count": 4,
   "metadata": {},
   "outputs": [
    {
     "name": "stdout",
     "output_type": "stream",
     "text": [
      "Колличество дубликатов: 0\n",
      "describe\n"
     ]
    },
    {
     "data": {
      "text/html": [
       "<div>\n",
       "<style scoped>\n",
       "    .dataframe tbody tr th:only-of-type {\n",
       "        vertical-align: middle;\n",
       "    }\n",
       "\n",
       "    .dataframe tbody tr th {\n",
       "        vertical-align: top;\n",
       "    }\n",
       "\n",
       "    .dataframe thead th {\n",
       "        text-align: right;\n",
       "    }\n",
       "</style>\n",
       "<table border=\"1\" class=\"dataframe\">\n",
       "  <thead>\n",
       "    <tr style=\"text-align: right;\">\n",
       "      <th></th>\n",
       "      <th>reach</th>\n",
       "      <th>impact</th>\n",
       "      <th>confidence</th>\n",
       "      <th>efforts</th>\n",
       "    </tr>\n",
       "  </thead>\n",
       "  <tbody>\n",
       "    <tr>\n",
       "      <th>count</th>\n",
       "      <td>9.000000</td>\n",
       "      <td>9.000000</td>\n",
       "      <td>9.000000</td>\n",
       "      <td>9.000000</td>\n",
       "    </tr>\n",
       "    <tr>\n",
       "      <th>mean</th>\n",
       "      <td>4.777778</td>\n",
       "      <td>4.777778</td>\n",
       "      <td>5.555556</td>\n",
       "      <td>4.888889</td>\n",
       "    </tr>\n",
       "    <tr>\n",
       "      <th>std</th>\n",
       "      <td>3.153481</td>\n",
       "      <td>3.192874</td>\n",
       "      <td>3.045944</td>\n",
       "      <td>2.803767</td>\n",
       "    </tr>\n",
       "    <tr>\n",
       "      <th>min</th>\n",
       "      <td>1.000000</td>\n",
       "      <td>1.000000</td>\n",
       "      <td>1.000000</td>\n",
       "      <td>1.000000</td>\n",
       "    </tr>\n",
       "    <tr>\n",
       "      <th>25%</th>\n",
       "      <td>3.000000</td>\n",
       "      <td>3.000000</td>\n",
       "      <td>3.000000</td>\n",
       "      <td>3.000000</td>\n",
       "    </tr>\n",
       "    <tr>\n",
       "      <th>50%</th>\n",
       "      <td>3.000000</td>\n",
       "      <td>3.000000</td>\n",
       "      <td>7.000000</td>\n",
       "      <td>5.000000</td>\n",
       "    </tr>\n",
       "    <tr>\n",
       "      <th>75%</th>\n",
       "      <td>8.000000</td>\n",
       "      <td>7.000000</td>\n",
       "      <td>8.000000</td>\n",
       "      <td>6.000000</td>\n",
       "    </tr>\n",
       "    <tr>\n",
       "      <th>max</th>\n",
       "      <td>10.000000</td>\n",
       "      <td>10.000000</td>\n",
       "      <td>9.000000</td>\n",
       "      <td>10.000000</td>\n",
       "    </tr>\n",
       "  </tbody>\n",
       "</table>\n",
       "</div>"
      ],
      "text/plain": [
       "           reach     impact  confidence    efforts\n",
       "count   9.000000   9.000000    9.000000   9.000000\n",
       "mean    4.777778   4.777778    5.555556   4.888889\n",
       "std     3.153481   3.192874    3.045944   2.803767\n",
       "min     1.000000   1.000000    1.000000   1.000000\n",
       "25%     3.000000   3.000000    3.000000   3.000000\n",
       "50%     3.000000   3.000000    7.000000   5.000000\n",
       "75%     8.000000   7.000000    8.000000   6.000000\n",
       "max    10.000000  10.000000    9.000000  10.000000"
      ]
     },
     "metadata": {},
     "output_type": "display_data"
    },
    {
     "name": "stdout",
     "output_type": "stream",
     "text": [
      "info\n",
      "<class 'pandas.core.frame.DataFrame'>\n",
      "RangeIndex: 9 entries, 0 to 8\n",
      "Data columns (total 5 columns):\n",
      " #   Column      Non-Null Count  Dtype \n",
      "---  ------      --------------  ----- \n",
      " 0   hypothesis  9 non-null      object\n",
      " 1   reach       9 non-null      int64 \n",
      " 2   impact      9 non-null      int64 \n",
      " 3   confidence  9 non-null      int64 \n",
      " 4   efforts     9 non-null      int64 \n",
      "dtypes: int64(4), object(1)\n",
      "memory usage: 488.0+ bytes\n"
     ]
    },
    {
     "data": {
      "text/plain": [
       "None"
      ]
     },
     "metadata": {},
     "output_type": "display_data"
    },
    {
     "data": {
      "text/html": [
       "<div>\n",
       "<style scoped>\n",
       "    .dataframe tbody tr th:only-of-type {\n",
       "        vertical-align: middle;\n",
       "    }\n",
       "\n",
       "    .dataframe tbody tr th {\n",
       "        vertical-align: top;\n",
       "    }\n",
       "\n",
       "    .dataframe thead th {\n",
       "        text-align: right;\n",
       "    }\n",
       "</style>\n",
       "<table border=\"1\" class=\"dataframe\">\n",
       "  <thead>\n",
       "    <tr style=\"text-align: right;\">\n",
       "      <th></th>\n",
       "      <th>hypothesis</th>\n",
       "      <th>reach</th>\n",
       "      <th>impact</th>\n",
       "      <th>confidence</th>\n",
       "      <th>efforts</th>\n",
       "    </tr>\n",
       "  </thead>\n",
       "  <tbody>\n",
       "    <tr>\n",
       "      <th>0</th>\n",
       "      <td>Добавить два новых канала привлечения трафика,...</td>\n",
       "      <td>3</td>\n",
       "      <td>10</td>\n",
       "      <td>8</td>\n",
       "      <td>6</td>\n",
       "    </tr>\n",
       "    <tr>\n",
       "      <th>1</th>\n",
       "      <td>Запустить собственную службу доставки, что сок...</td>\n",
       "      <td>2</td>\n",
       "      <td>5</td>\n",
       "      <td>4</td>\n",
       "      <td>10</td>\n",
       "    </tr>\n",
       "    <tr>\n",
       "      <th>2</th>\n",
       "      <td>Добавить блоки рекомендаций товаров на сайт ин...</td>\n",
       "      <td>8</td>\n",
       "      <td>3</td>\n",
       "      <td>7</td>\n",
       "      <td>3</td>\n",
       "    </tr>\n",
       "    <tr>\n",
       "      <th>3</th>\n",
       "      <td>Изменить структура категорий, что увеличит кон...</td>\n",
       "      <td>8</td>\n",
       "      <td>3</td>\n",
       "      <td>3</td>\n",
       "      <td>8</td>\n",
       "    </tr>\n",
       "    <tr>\n",
       "      <th>4</th>\n",
       "      <td>Изменить цвет фона главной страницы, чтобы уве...</td>\n",
       "      <td>3</td>\n",
       "      <td>1</td>\n",
       "      <td>1</td>\n",
       "      <td>1</td>\n",
       "    </tr>\n",
       "    <tr>\n",
       "      <th>5</th>\n",
       "      <td>Добавить страницу отзывов клиентов о магазине,...</td>\n",
       "      <td>3</td>\n",
       "      <td>2</td>\n",
       "      <td>2</td>\n",
       "      <td>3</td>\n",
       "    </tr>\n",
       "    <tr>\n",
       "      <th>6</th>\n",
       "      <td>Показать на главной странице баннеры с актуаль...</td>\n",
       "      <td>5</td>\n",
       "      <td>3</td>\n",
       "      <td>8</td>\n",
       "      <td>3</td>\n",
       "    </tr>\n",
       "    <tr>\n",
       "      <th>7</th>\n",
       "      <td>Добавить форму подписки на все основные страни...</td>\n",
       "      <td>10</td>\n",
       "      <td>7</td>\n",
       "      <td>8</td>\n",
       "      <td>5</td>\n",
       "    </tr>\n",
       "    <tr>\n",
       "      <th>8</th>\n",
       "      <td>Запустить акцию, дающую скидку на товар в день...</td>\n",
       "      <td>1</td>\n",
       "      <td>9</td>\n",
       "      <td>9</td>\n",
       "      <td>5</td>\n",
       "    </tr>\n",
       "  </tbody>\n",
       "</table>\n",
       "</div>"
      ],
      "text/plain": [
       "                                          hypothesis  reach  impact  \\\n",
       "0  Добавить два новых канала привлечения трафика,...      3      10   \n",
       "1  Запустить собственную службу доставки, что сок...      2       5   \n",
       "2  Добавить блоки рекомендаций товаров на сайт ин...      8       3   \n",
       "3  Изменить структура категорий, что увеличит кон...      8       3   \n",
       "4  Изменить цвет фона главной страницы, чтобы уве...      3       1   \n",
       "5  Добавить страницу отзывов клиентов о магазине,...      3       2   \n",
       "6  Показать на главной странице баннеры с актуаль...      5       3   \n",
       "7  Добавить форму подписки на все основные страни...     10       7   \n",
       "8  Запустить акцию, дающую скидку на товар в день...      1       9   \n",
       "\n",
       "   confidence  efforts  \n",
       "0           8        6  \n",
       "1           4       10  \n",
       "2           7        3  \n",
       "3           3        8  \n",
       "4           1        1  \n",
       "5           2        3  \n",
       "6           8        3  \n",
       "7           8        5  \n",
       "8           9        5  "
      ]
     },
     "metadata": {},
     "output_type": "display_data"
    }
   ],
   "source": [
    "analysis(hypothesis)"
   ]
  },
  {
   "cell_type": "markdown",
   "metadata": {},
   "source": [
    "* `Hypothesis` — краткое описание гипотезы;\n",
    "* `Reach` — охват пользователей по 10-балльной шкале;\n",
    "* `Impact` — влияние на пользователей по 10-балльной шкале;\n",
    "* `Confidence` — уверенность в гипотезе по 10-балльной шкале;\n",
    "* `Efforts` — затраты ресурсов на проверку гипотезы по 10-балльной шкале. Чем больше значение Efforts, тем дороже проверка гипотезы."
   ]
  },
  {
   "cell_type": "code",
   "execution_count": 5,
   "metadata": {},
   "outputs": [
    {
     "name": "stdout",
     "output_type": "stream",
     "text": [
      "Колличество дубликатов: 0\n",
      "describe\n"
     ]
    },
    {
     "data": {
      "text/html": [
       "<div>\n",
       "<style scoped>\n",
       "    .dataframe tbody tr th:only-of-type {\n",
       "        vertical-align: middle;\n",
       "    }\n",
       "\n",
       "    .dataframe tbody tr th {\n",
       "        vertical-align: top;\n",
       "    }\n",
       "\n",
       "    .dataframe thead th {\n",
       "        text-align: right;\n",
       "    }\n",
       "</style>\n",
       "<table border=\"1\" class=\"dataframe\">\n",
       "  <thead>\n",
       "    <tr style=\"text-align: right;\">\n",
       "      <th></th>\n",
       "      <th>transactionid</th>\n",
       "      <th>visitorid</th>\n",
       "      <th>revenue</th>\n",
       "    </tr>\n",
       "  </thead>\n",
       "  <tbody>\n",
       "    <tr>\n",
       "      <th>count</th>\n",
       "      <td>1.197000e+03</td>\n",
       "      <td>1.197000e+03</td>\n",
       "      <td>1.197000e+03</td>\n",
       "    </tr>\n",
       "    <tr>\n",
       "      <th>mean</th>\n",
       "      <td>2.155621e+09</td>\n",
       "      <td>2.165960e+09</td>\n",
       "      <td>8.348006e+03</td>\n",
       "    </tr>\n",
       "    <tr>\n",
       "      <th>std</th>\n",
       "      <td>1.229085e+09</td>\n",
       "      <td>1.236014e+09</td>\n",
       "      <td>3.919113e+04</td>\n",
       "    </tr>\n",
       "    <tr>\n",
       "      <th>min</th>\n",
       "      <td>1.062393e+06</td>\n",
       "      <td>5.114589e+06</td>\n",
       "      <td>5.000000e+01</td>\n",
       "    </tr>\n",
       "    <tr>\n",
       "      <th>25%</th>\n",
       "      <td>1.166776e+09</td>\n",
       "      <td>1.111826e+09</td>\n",
       "      <td>1.220000e+03</td>\n",
       "    </tr>\n",
       "    <tr>\n",
       "      <th>50%</th>\n",
       "      <td>2.145194e+09</td>\n",
       "      <td>2.217985e+09</td>\n",
       "      <td>2.978000e+03</td>\n",
       "    </tr>\n",
       "    <tr>\n",
       "      <th>75%</th>\n",
       "      <td>3.237740e+09</td>\n",
       "      <td>3.177606e+09</td>\n",
       "      <td>8.290000e+03</td>\n",
       "    </tr>\n",
       "    <tr>\n",
       "      <th>max</th>\n",
       "      <td>4.293856e+09</td>\n",
       "      <td>4.283872e+09</td>\n",
       "      <td>1.294500e+06</td>\n",
       "    </tr>\n",
       "  </tbody>\n",
       "</table>\n",
       "</div>"
      ],
      "text/plain": [
       "       transactionid     visitorid       revenue\n",
       "count   1.197000e+03  1.197000e+03  1.197000e+03\n",
       "mean    2.155621e+09  2.165960e+09  8.348006e+03\n",
       "std     1.229085e+09  1.236014e+09  3.919113e+04\n",
       "min     1.062393e+06  5.114589e+06  5.000000e+01\n",
       "25%     1.166776e+09  1.111826e+09  1.220000e+03\n",
       "50%     2.145194e+09  2.217985e+09  2.978000e+03\n",
       "75%     3.237740e+09  3.177606e+09  8.290000e+03\n",
       "max     4.293856e+09  4.283872e+09  1.294500e+06"
      ]
     },
     "metadata": {},
     "output_type": "display_data"
    },
    {
     "name": "stdout",
     "output_type": "stream",
     "text": [
      "info\n",
      "<class 'pandas.core.frame.DataFrame'>\n",
      "RangeIndex: 1197 entries, 0 to 1196\n",
      "Data columns (total 5 columns):\n",
      " #   Column         Non-Null Count  Dtype \n",
      "---  ------         --------------  ----- \n",
      " 0   transactionid  1197 non-null   int64 \n",
      " 1   visitorid      1197 non-null   int64 \n",
      " 2   date           1197 non-null   object\n",
      " 3   revenue        1197 non-null   int64 \n",
      " 4   group          1197 non-null   object\n",
      "dtypes: int64(3), object(2)\n",
      "memory usage: 46.9+ KB\n"
     ]
    },
    {
     "data": {
      "text/plain": [
       "None"
      ]
     },
     "metadata": {},
     "output_type": "display_data"
    },
    {
     "data": {
      "text/html": [
       "<div>\n",
       "<style scoped>\n",
       "    .dataframe tbody tr th:only-of-type {\n",
       "        vertical-align: middle;\n",
       "    }\n",
       "\n",
       "    .dataframe tbody tr th {\n",
       "        vertical-align: top;\n",
       "    }\n",
       "\n",
       "    .dataframe thead th {\n",
       "        text-align: right;\n",
       "    }\n",
       "</style>\n",
       "<table border=\"1\" class=\"dataframe\">\n",
       "  <thead>\n",
       "    <tr style=\"text-align: right;\">\n",
       "      <th></th>\n",
       "      <th>transactionid</th>\n",
       "      <th>visitorid</th>\n",
       "      <th>date</th>\n",
       "      <th>revenue</th>\n",
       "      <th>group</th>\n",
       "    </tr>\n",
       "  </thead>\n",
       "  <tbody>\n",
       "    <tr>\n",
       "      <th>0</th>\n",
       "      <td>3667963787</td>\n",
       "      <td>3312258926</td>\n",
       "      <td>2019-08-15</td>\n",
       "      <td>1650</td>\n",
       "      <td>B</td>\n",
       "    </tr>\n",
       "    <tr>\n",
       "      <th>1</th>\n",
       "      <td>2804400009</td>\n",
       "      <td>3642806036</td>\n",
       "      <td>2019-08-15</td>\n",
       "      <td>730</td>\n",
       "      <td>B</td>\n",
       "    </tr>\n",
       "    <tr>\n",
       "      <th>2</th>\n",
       "      <td>2961555356</td>\n",
       "      <td>4069496402</td>\n",
       "      <td>2019-08-15</td>\n",
       "      <td>400</td>\n",
       "      <td>A</td>\n",
       "    </tr>\n",
       "    <tr>\n",
       "      <th>3</th>\n",
       "      <td>3797467345</td>\n",
       "      <td>1196621759</td>\n",
       "      <td>2019-08-15</td>\n",
       "      <td>9759</td>\n",
       "      <td>B</td>\n",
       "    </tr>\n",
       "    <tr>\n",
       "      <th>4</th>\n",
       "      <td>2282983706</td>\n",
       "      <td>2322279887</td>\n",
       "      <td>2019-08-15</td>\n",
       "      <td>2308</td>\n",
       "      <td>B</td>\n",
       "    </tr>\n",
       "    <tr>\n",
       "      <th>5</th>\n",
       "      <td>182168103</td>\n",
       "      <td>935554773</td>\n",
       "      <td>2019-08-15</td>\n",
       "      <td>2210</td>\n",
       "      <td>B</td>\n",
       "    </tr>\n",
       "    <tr>\n",
       "      <th>6</th>\n",
       "      <td>398296753</td>\n",
       "      <td>2900797465</td>\n",
       "      <td>2019-08-15</td>\n",
       "      <td>1860</td>\n",
       "      <td>B</td>\n",
       "    </tr>\n",
       "    <tr>\n",
       "      <th>7</th>\n",
       "      <td>2626614568</td>\n",
       "      <td>78758296</td>\n",
       "      <td>2019-08-15</td>\n",
       "      <td>1044</td>\n",
       "      <td>A</td>\n",
       "    </tr>\n",
       "    <tr>\n",
       "      <th>8</th>\n",
       "      <td>1576988021</td>\n",
       "      <td>295230930</td>\n",
       "      <td>2019-08-15</td>\n",
       "      <td>13710</td>\n",
       "      <td>A</td>\n",
       "    </tr>\n",
       "    <tr>\n",
       "      <th>9</th>\n",
       "      <td>1506739906</td>\n",
       "      <td>1882260405</td>\n",
       "      <td>2019-08-15</td>\n",
       "      <td>1855</td>\n",
       "      <td>B</td>\n",
       "    </tr>\n",
       "  </tbody>\n",
       "</table>\n",
       "</div>"
      ],
      "text/plain": [
       "   transactionid   visitorid        date  revenue group\n",
       "0     3667963787  3312258926  2019-08-15     1650     B\n",
       "1     2804400009  3642806036  2019-08-15      730     B\n",
       "2     2961555356  4069496402  2019-08-15      400     A\n",
       "3     3797467345  1196621759  2019-08-15     9759     B\n",
       "4     2282983706  2322279887  2019-08-15     2308     B\n",
       "5      182168103   935554773  2019-08-15     2210     B\n",
       "6      398296753  2900797465  2019-08-15     1860     B\n",
       "7     2626614568    78758296  2019-08-15     1044     A\n",
       "8     1576988021   295230930  2019-08-15    13710     A\n",
       "9     1506739906  1882260405  2019-08-15     1855     B"
      ]
     },
     "metadata": {},
     "output_type": "display_data"
    }
   ],
   "source": [
    "analysis(orders)"
   ]
  },
  {
   "cell_type": "markdown",
   "metadata": {},
   "source": [
    "* `transactionId` — идентификатор заказа;\n",
    "* `visitorId` — идентификатор пользователя, совершившего заказ;\n",
    "* `date` — дата, когда был совершён заказ;\n",
    "* `revenue` — выручка заказа;\n",
    "* `group` — группа A/B-теста, в которую попал заказ."
   ]
  },
  {
   "cell_type": "code",
   "execution_count": 6,
   "metadata": {},
   "outputs": [],
   "source": [
    "# изменим название колонок\n",
    "orders = orders.rename(columns={'transactionid':'transaction_id', 'visitorid':'visitor_id'})"
   ]
  },
  {
   "cell_type": "code",
   "execution_count": 7,
   "metadata": {},
   "outputs": [
    {
     "name": "stdout",
     "output_type": "stream",
     "text": [
      "Колличество дубликатов: 0\n",
      "describe\n"
     ]
    },
    {
     "data": {
      "text/html": [
       "<div>\n",
       "<style scoped>\n",
       "    .dataframe tbody tr th:only-of-type {\n",
       "        vertical-align: middle;\n",
       "    }\n",
       "\n",
       "    .dataframe tbody tr th {\n",
       "        vertical-align: top;\n",
       "    }\n",
       "\n",
       "    .dataframe thead th {\n",
       "        text-align: right;\n",
       "    }\n",
       "</style>\n",
       "<table border=\"1\" class=\"dataframe\">\n",
       "  <thead>\n",
       "    <tr style=\"text-align: right;\">\n",
       "      <th></th>\n",
       "      <th>visitors</th>\n",
       "    </tr>\n",
       "  </thead>\n",
       "  <tbody>\n",
       "    <tr>\n",
       "      <th>count</th>\n",
       "      <td>62.000000</td>\n",
       "    </tr>\n",
       "    <tr>\n",
       "      <th>mean</th>\n",
       "      <td>607.290323</td>\n",
       "    </tr>\n",
       "    <tr>\n",
       "      <th>std</th>\n",
       "      <td>114.400560</td>\n",
       "    </tr>\n",
       "    <tr>\n",
       "      <th>min</th>\n",
       "      <td>361.000000</td>\n",
       "    </tr>\n",
       "    <tr>\n",
       "      <th>25%</th>\n",
       "      <td>534.000000</td>\n",
       "    </tr>\n",
       "    <tr>\n",
       "      <th>50%</th>\n",
       "      <td>624.500000</td>\n",
       "    </tr>\n",
       "    <tr>\n",
       "      <th>75%</th>\n",
       "      <td>710.500000</td>\n",
       "    </tr>\n",
       "    <tr>\n",
       "      <th>max</th>\n",
       "      <td>770.000000</td>\n",
       "    </tr>\n",
       "  </tbody>\n",
       "</table>\n",
       "</div>"
      ],
      "text/plain": [
       "         visitors\n",
       "count   62.000000\n",
       "mean   607.290323\n",
       "std    114.400560\n",
       "min    361.000000\n",
       "25%    534.000000\n",
       "50%    624.500000\n",
       "75%    710.500000\n",
       "max    770.000000"
      ]
     },
     "metadata": {},
     "output_type": "display_data"
    },
    {
     "name": "stdout",
     "output_type": "stream",
     "text": [
      "info\n",
      "<class 'pandas.core.frame.DataFrame'>\n",
      "RangeIndex: 62 entries, 0 to 61\n",
      "Data columns (total 3 columns):\n",
      " #   Column    Non-Null Count  Dtype \n",
      "---  ------    --------------  ----- \n",
      " 0   date      62 non-null     object\n",
      " 1   group     62 non-null     object\n",
      " 2   visitors  62 non-null     int64 \n",
      "dtypes: int64(1), object(2)\n",
      "memory usage: 1.6+ KB\n"
     ]
    },
    {
     "data": {
      "text/plain": [
       "None"
      ]
     },
     "metadata": {},
     "output_type": "display_data"
    },
    {
     "data": {
      "text/html": [
       "<div>\n",
       "<style scoped>\n",
       "    .dataframe tbody tr th:only-of-type {\n",
       "        vertical-align: middle;\n",
       "    }\n",
       "\n",
       "    .dataframe tbody tr th {\n",
       "        vertical-align: top;\n",
       "    }\n",
       "\n",
       "    .dataframe thead th {\n",
       "        text-align: right;\n",
       "    }\n",
       "</style>\n",
       "<table border=\"1\" class=\"dataframe\">\n",
       "  <thead>\n",
       "    <tr style=\"text-align: right;\">\n",
       "      <th></th>\n",
       "      <th>date</th>\n",
       "      <th>group</th>\n",
       "      <th>visitors</th>\n",
       "    </tr>\n",
       "  </thead>\n",
       "  <tbody>\n",
       "    <tr>\n",
       "      <th>0</th>\n",
       "      <td>2019-08-01</td>\n",
       "      <td>A</td>\n",
       "      <td>719</td>\n",
       "    </tr>\n",
       "    <tr>\n",
       "      <th>1</th>\n",
       "      <td>2019-08-02</td>\n",
       "      <td>A</td>\n",
       "      <td>619</td>\n",
       "    </tr>\n",
       "    <tr>\n",
       "      <th>2</th>\n",
       "      <td>2019-08-03</td>\n",
       "      <td>A</td>\n",
       "      <td>507</td>\n",
       "    </tr>\n",
       "    <tr>\n",
       "      <th>3</th>\n",
       "      <td>2019-08-04</td>\n",
       "      <td>A</td>\n",
       "      <td>717</td>\n",
       "    </tr>\n",
       "    <tr>\n",
       "      <th>4</th>\n",
       "      <td>2019-08-05</td>\n",
       "      <td>A</td>\n",
       "      <td>756</td>\n",
       "    </tr>\n",
       "    <tr>\n",
       "      <th>5</th>\n",
       "      <td>2019-08-06</td>\n",
       "      <td>A</td>\n",
       "      <td>667</td>\n",
       "    </tr>\n",
       "    <tr>\n",
       "      <th>6</th>\n",
       "      <td>2019-08-07</td>\n",
       "      <td>A</td>\n",
       "      <td>644</td>\n",
       "    </tr>\n",
       "    <tr>\n",
       "      <th>7</th>\n",
       "      <td>2019-08-08</td>\n",
       "      <td>A</td>\n",
       "      <td>610</td>\n",
       "    </tr>\n",
       "    <tr>\n",
       "      <th>8</th>\n",
       "      <td>2019-08-09</td>\n",
       "      <td>A</td>\n",
       "      <td>617</td>\n",
       "    </tr>\n",
       "    <tr>\n",
       "      <th>9</th>\n",
       "      <td>2019-08-10</td>\n",
       "      <td>A</td>\n",
       "      <td>406</td>\n",
       "    </tr>\n",
       "  </tbody>\n",
       "</table>\n",
       "</div>"
      ],
      "text/plain": [
       "         date group  visitors\n",
       "0  2019-08-01     A       719\n",
       "1  2019-08-02     A       619\n",
       "2  2019-08-03     A       507\n",
       "3  2019-08-04     A       717\n",
       "4  2019-08-05     A       756\n",
       "5  2019-08-06     A       667\n",
       "6  2019-08-07     A       644\n",
       "7  2019-08-08     A       610\n",
       "8  2019-08-09     A       617\n",
       "9  2019-08-10     A       406"
      ]
     },
     "metadata": {},
     "output_type": "display_data"
    }
   ],
   "source": [
    "analysis(visitors)"
   ]
  },
  {
   "cell_type": "markdown",
   "metadata": {},
   "source": [
    "* `date` — дата;\n",
    "* `group` — группа A/B-теста;\n",
    "* `visitors` — количество пользователей в указанную дату в указанной группе A/B-теста."
   ]
  },
  {
   "cell_type": "markdown",
   "metadata": {},
   "source": [
    "Приведем колонки с датами к необходимому типу данных:"
   ]
  },
  {
   "cell_type": "code",
   "execution_count": 8,
   "metadata": {},
   "outputs": [],
   "source": [
    "orders['date'] = orders['date'].map(lambda x: dt.datetime.strptime(x, '%Y-%m-%d'))\n",
    "visitors['date'] = visitors['date'].map(lambda x: dt.datetime.strptime(x, '%Y-%m-%d'))"
   ]
  },
  {
   "cell_type": "markdown",
   "metadata": {},
   "source": [
    "**Вывод:**\n",
    "\n",
    "Пропуски и дубликаты в таблицах в таблицах отсутствуют. Изменили названия колонок и привели данные к нужным типам."
   ]
  },
  {
   "cell_type": "markdown",
   "metadata": {},
   "source": [
    "## Приоритизация гипотез с помощью фреймворка"
   ]
  },
  {
   "cell_type": "markdown",
   "metadata": {},
   "source": [
    "### Фреймворк `ICE`"
   ]
  },
  {
   "cell_type": "markdown",
   "metadata": {},
   "source": [
    "Приоритизируем гипотезы с помощью фреймворка `ICE`"
   ]
  },
  {
   "cell_type": "code",
   "execution_count": 9,
   "metadata": {},
   "outputs": [
    {
     "data": {
      "text/html": [
       "<div>\n",
       "<style scoped>\n",
       "    .dataframe tbody tr th:only-of-type {\n",
       "        vertical-align: middle;\n",
       "    }\n",
       "\n",
       "    .dataframe tbody tr th {\n",
       "        vertical-align: top;\n",
       "    }\n",
       "\n",
       "    .dataframe thead th {\n",
       "        text-align: right;\n",
       "    }\n",
       "</style>\n",
       "<table border=\"1\" class=\"dataframe\">\n",
       "  <thead>\n",
       "    <tr style=\"text-align: right;\">\n",
       "      <th></th>\n",
       "      <th>hypothesis</th>\n",
       "      <th>ICE</th>\n",
       "    </tr>\n",
       "  </thead>\n",
       "  <tbody>\n",
       "    <tr>\n",
       "      <th>8</th>\n",
       "      <td>Запустить акцию, дающую скидку на товар в день...</td>\n",
       "      <td>16.20</td>\n",
       "    </tr>\n",
       "    <tr>\n",
       "      <th>0</th>\n",
       "      <td>Добавить два новых канала привлечения трафика,...</td>\n",
       "      <td>13.33</td>\n",
       "    </tr>\n",
       "    <tr>\n",
       "      <th>7</th>\n",
       "      <td>Добавить форму подписки на все основные страни...</td>\n",
       "      <td>11.20</td>\n",
       "    </tr>\n",
       "    <tr>\n",
       "      <th>6</th>\n",
       "      <td>Показать на главной странице баннеры с актуаль...</td>\n",
       "      <td>8.00</td>\n",
       "    </tr>\n",
       "    <tr>\n",
       "      <th>2</th>\n",
       "      <td>Добавить блоки рекомендаций товаров на сайт ин...</td>\n",
       "      <td>7.00</td>\n",
       "    </tr>\n",
       "    <tr>\n",
       "      <th>1</th>\n",
       "      <td>Запустить собственную службу доставки, что сок...</td>\n",
       "      <td>2.00</td>\n",
       "    </tr>\n",
       "    <tr>\n",
       "      <th>5</th>\n",
       "      <td>Добавить страницу отзывов клиентов о магазине,...</td>\n",
       "      <td>1.33</td>\n",
       "    </tr>\n",
       "    <tr>\n",
       "      <th>3</th>\n",
       "      <td>Изменить структура категорий, что увеличит кон...</td>\n",
       "      <td>1.12</td>\n",
       "    </tr>\n",
       "    <tr>\n",
       "      <th>4</th>\n",
       "      <td>Изменить цвет фона главной страницы, чтобы уве...</td>\n",
       "      <td>1.00</td>\n",
       "    </tr>\n",
       "  </tbody>\n",
       "</table>\n",
       "</div>"
      ],
      "text/plain": [
       "                                          hypothesis    ICE\n",
       "8  Запустить акцию, дающую скидку на товар в день...  16.20\n",
       "0  Добавить два новых канала привлечения трафика,...  13.33\n",
       "7  Добавить форму подписки на все основные страни...  11.20\n",
       "6  Показать на главной странице баннеры с актуаль...   8.00\n",
       "2  Добавить блоки рекомендаций товаров на сайт ин...   7.00\n",
       "1  Запустить собственную службу доставки, что сок...   2.00\n",
       "5  Добавить страницу отзывов клиентов о магазине,...   1.33\n",
       "3  Изменить структура категорий, что увеличит кон...   1.12\n",
       "4  Изменить цвет фона главной страницы, чтобы уве...   1.00"
      ]
     },
     "execution_count": 9,
     "metadata": {},
     "output_type": "execute_result"
    }
   ],
   "source": [
    "hypothesis['ICE'] = ((hypothesis['impact'] *  hypothesis['confidence'])/hypothesis['efforts']).round(2)\n",
    "hypothesis[['hypothesis', 'ICE']].sort_values('ICE', ascending=False)"
   ]
  },
  {
   "cell_type": "markdown",
   "metadata": {},
   "source": [
    "### Фреймворк `RICE`"
   ]
  },
  {
   "cell_type": "markdown",
   "metadata": {},
   "source": [
    "Приоритизируем гипотезы с помощью фреймворка `RICE`"
   ]
  },
  {
   "cell_type": "code",
   "execution_count": 10,
   "metadata": {},
   "outputs": [
    {
     "data": {
      "text/html": [
       "<div>\n",
       "<style scoped>\n",
       "    .dataframe tbody tr th:only-of-type {\n",
       "        vertical-align: middle;\n",
       "    }\n",
       "\n",
       "    .dataframe tbody tr th {\n",
       "        vertical-align: top;\n",
       "    }\n",
       "\n",
       "    .dataframe thead th {\n",
       "        text-align: right;\n",
       "    }\n",
       "</style>\n",
       "<table border=\"1\" class=\"dataframe\">\n",
       "  <thead>\n",
       "    <tr style=\"text-align: right;\">\n",
       "      <th></th>\n",
       "      <th>hypothesis</th>\n",
       "      <th>RICE</th>\n",
       "    </tr>\n",
       "  </thead>\n",
       "  <tbody>\n",
       "    <tr>\n",
       "      <th>7</th>\n",
       "      <td>Добавить форму подписки на все основные страни...</td>\n",
       "      <td>112.0</td>\n",
       "    </tr>\n",
       "    <tr>\n",
       "      <th>2</th>\n",
       "      <td>Добавить блоки рекомендаций товаров на сайт ин...</td>\n",
       "      <td>56.0</td>\n",
       "    </tr>\n",
       "    <tr>\n",
       "      <th>0</th>\n",
       "      <td>Добавить два новых канала привлечения трафика,...</td>\n",
       "      <td>40.0</td>\n",
       "    </tr>\n",
       "    <tr>\n",
       "      <th>6</th>\n",
       "      <td>Показать на главной странице баннеры с актуаль...</td>\n",
       "      <td>40.0</td>\n",
       "    </tr>\n",
       "    <tr>\n",
       "      <th>8</th>\n",
       "      <td>Запустить акцию, дающую скидку на товар в день...</td>\n",
       "      <td>16.2</td>\n",
       "    </tr>\n",
       "    <tr>\n",
       "      <th>3</th>\n",
       "      <td>Изменить структура категорий, что увеличит кон...</td>\n",
       "      <td>9.0</td>\n",
       "    </tr>\n",
       "    <tr>\n",
       "      <th>1</th>\n",
       "      <td>Запустить собственную службу доставки, что сок...</td>\n",
       "      <td>4.0</td>\n",
       "    </tr>\n",
       "    <tr>\n",
       "      <th>5</th>\n",
       "      <td>Добавить страницу отзывов клиентов о магазине,...</td>\n",
       "      <td>4.0</td>\n",
       "    </tr>\n",
       "    <tr>\n",
       "      <th>4</th>\n",
       "      <td>Изменить цвет фона главной страницы, чтобы уве...</td>\n",
       "      <td>3.0</td>\n",
       "    </tr>\n",
       "  </tbody>\n",
       "</table>\n",
       "</div>"
      ],
      "text/plain": [
       "                                          hypothesis   RICE\n",
       "7  Добавить форму подписки на все основные страни...  112.0\n",
       "2  Добавить блоки рекомендаций товаров на сайт ин...   56.0\n",
       "0  Добавить два новых канала привлечения трафика,...   40.0\n",
       "6  Показать на главной странице баннеры с актуаль...   40.0\n",
       "8  Запустить акцию, дающую скидку на товар в день...   16.2\n",
       "3  Изменить структура категорий, что увеличит кон...    9.0\n",
       "1  Запустить собственную службу доставки, что сок...    4.0\n",
       "5  Добавить страницу отзывов клиентов о магазине,...    4.0\n",
       "4  Изменить цвет фона главной страницы, чтобы уве...    3.0"
      ]
     },
     "execution_count": 10,
     "metadata": {},
     "output_type": "execute_result"
    }
   ],
   "source": [
    "hypothesis['RICE'] = ((hypothesis['reach']*hypothesis['impact']*hypothesis['confidence'])/hypothesis['efforts']).round(2)\n",
    "hypothesis[['hypothesis', 'RICE']].sort_values('RICE', ascending=False)"
   ]
  },
  {
   "cell_type": "markdown",
   "metadata": {},
   "source": [
    "**Вывод:** \n",
    "\n",
    "При приоритизации гипотез методом `ICE` лидируют гипотезы с индексом 8, 0 и 7, при использовании метода `RICE` гипотезы 7, 2 и 0. Такое распределение происходит из-за того, что в метода `RICE` используется параметр `reach` - охват пользователей которых затронет изменение. Соответственно для интернет-магазина выгоднее охватить больше пользователей, которых затронет изменение и в случае успеха эксперимента улучшить показатели компании для большего числа пользователей. Поэтому целесообразно тестировать гипотезы 7, 2 и 0."
   ]
  },
  {
   "cell_type": "markdown",
   "metadata": {},
   "source": [
    "## Анализ A/B-теста"
   ]
  },
  {
   "cell_type": "markdown",
   "metadata": {},
   "source": [
    "### Проверка корректности групп A/B-теста"
   ]
  },
  {
   "cell_type": "markdown",
   "metadata": {},
   "source": [
    "Проверим данные на соответствие дат по группам"
   ]
  },
  {
   "cell_type": "code",
   "execution_count": 11,
   "metadata": {},
   "outputs": [
    {
     "data": {
      "text/plain": [
       "(Timestamp('2019-08-01 00:00:00'),\n",
       " Timestamp('2019-08-31 00:00:00'),\n",
       " Timestamp('2019-08-01 00:00:00'),\n",
       " Timestamp('2019-08-31 00:00:00'))"
      ]
     },
     "execution_count": 11,
     "metadata": {},
     "output_type": "execute_result"
    }
   ],
   "source": [
    "(\n",
    "orders.query('group == \"A\"')['date'].min(), \n",
    "orders.query('group == \"A\"')['date'].max(), \n",
    "orders.query('group == \"B\"')['date'].min(), \n",
    "orders.query('group == \"B\"')['date'].max()\n",
    ")"
   ]
  },
  {
   "cell_type": "code",
   "execution_count": 12,
   "metadata": {},
   "outputs": [
    {
     "data": {
      "text/plain": [
       "(Timestamp('2019-08-01 00:00:00'),\n",
       " Timestamp('2019-08-31 00:00:00'),\n",
       " Timestamp('2019-08-01 00:00:00'),\n",
       " Timestamp('2019-08-31 00:00:00'))"
      ]
     },
     "execution_count": 12,
     "metadata": {},
     "output_type": "execute_result"
    }
   ],
   "source": [
    "(\n",
    "    visitors.query('group == \"A\"')['date'].min(), \n",
    "    visitors.query('group == \"A\"')['date'].max(),\n",
    "    visitors.query('group == \"B\"')['date'].min(), \n",
    "    visitors.query('group == \"B\"')['date'].max()\n",
    ")"
   ]
  },
  {
   "cell_type": "markdown",
   "metadata": {},
   "source": [
    "Интервал дат в группах A и B сходится"
   ]
  },
  {
   "cell_type": "markdown",
   "metadata": {},
   "source": [
    "Проверим пересечение пользователей в разных группах"
   ]
  },
  {
   "cell_type": "code",
   "execution_count": 13,
   "metadata": {
    "scrolled": true
   },
   "outputs": [
    {
     "data": {
      "text/plain": [
       "58"
      ]
     },
     "execution_count": 13,
     "metadata": {},
     "output_type": "execute_result"
    }
   ],
   "source": [
    "# сделаем срез данных по группам теста\n",
    "group_a = orders.query('group == \"A\"') \n",
    "group_b = orders.query('group == \"B\"') \n",
    "  \n",
    "# получаем пользователей, попавших в обе группы \n",
    "group_intersections = list(np.intersect1d(group_a['visitor_id'], group_b['visitor_id']))\n",
    "len(group_intersections)\n"
   ]
  },
  {
   "cell_type": "markdown",
   "metadata": {},
   "source": [
    "В данных имеются пользователи, которые попали в обе группы. Такие пересечения могут негативно повлиять на результаты A/B-теста, поэтому удалим этих пользователей."
   ]
  },
  {
   "cell_type": "code",
   "execution_count": 14,
   "metadata": {},
   "outputs": [],
   "source": [
    "orders = orders.query('visitor_id not in @group_intersections')"
   ]
  },
  {
   "cell_type": "markdown",
   "metadata": {},
   "source": [
    "Посмотрим на колличество уникальных пользователей в каждой группе"
   ]
  },
  {
   "cell_type": "code",
   "execution_count": 15,
   "metadata": {},
   "outputs": [
    {
     "data": {
      "text/plain": [
       "(445, 528)"
      ]
     },
     "execution_count": 15,
     "metadata": {},
     "output_type": "execute_result"
    }
   ],
   "source": [
    "orders.query('group == \"A\"')['visitor_id'].nunique(),orders.query('group == \"B\"')['visitor_id'].nunique()"
   ]
  },
  {
   "cell_type": "markdown",
   "metadata": {},
   "source": [
    "Колличество пользователей значительно отличается по группам, но т.к. A/B-тест уже запущен будем рабатать с имеющимися данными."
   ]
  },
  {
   "cell_type": "markdown",
   "metadata": {},
   "source": [
    "### Построим график кумулятивной выручки по группам"
   ]
  },
  {
   "cell_type": "markdown",
   "metadata": {},
   "source": [
    "Получим таблицу с куммулятивными данными по датам и группам"
   ]
  },
  {
   "cell_type": "code",
   "execution_count": 16,
   "metadata": {},
   "outputs": [
    {
     "data": {
      "text/html": [
       "<div>\n",
       "<style scoped>\n",
       "    .dataframe tbody tr th:only-of-type {\n",
       "        vertical-align: middle;\n",
       "    }\n",
       "\n",
       "    .dataframe tbody tr th {\n",
       "        vertical-align: top;\n",
       "    }\n",
       "\n",
       "    .dataframe thead th {\n",
       "        text-align: right;\n",
       "    }\n",
       "</style>\n",
       "<table border=\"1\" class=\"dataframe\">\n",
       "  <thead>\n",
       "    <tr style=\"text-align: right;\">\n",
       "      <th></th>\n",
       "      <th>date</th>\n",
       "      <th>group</th>\n",
       "      <th>orders</th>\n",
       "      <th>buyers</th>\n",
       "      <th>revenue</th>\n",
       "      <th>visitors</th>\n",
       "    </tr>\n",
       "  </thead>\n",
       "  <tbody>\n",
       "    <tr>\n",
       "      <th>0</th>\n",
       "      <td>2019-08-01</td>\n",
       "      <td>A</td>\n",
       "      <td>23</td>\n",
       "      <td>19</td>\n",
       "      <td>142779</td>\n",
       "      <td>719</td>\n",
       "    </tr>\n",
       "    <tr>\n",
       "      <th>1</th>\n",
       "      <td>2019-08-01</td>\n",
       "      <td>B</td>\n",
       "      <td>17</td>\n",
       "      <td>17</td>\n",
       "      <td>59758</td>\n",
       "      <td>713</td>\n",
       "    </tr>\n",
       "    <tr>\n",
       "      <th>2</th>\n",
       "      <td>2019-08-02</td>\n",
       "      <td>A</td>\n",
       "      <td>42</td>\n",
       "      <td>36</td>\n",
       "      <td>234381</td>\n",
       "      <td>1338</td>\n",
       "    </tr>\n",
       "    <tr>\n",
       "      <th>3</th>\n",
       "      <td>2019-08-02</td>\n",
       "      <td>B</td>\n",
       "      <td>40</td>\n",
       "      <td>39</td>\n",
       "      <td>221801</td>\n",
       "      <td>1294</td>\n",
       "    </tr>\n",
       "    <tr>\n",
       "      <th>4</th>\n",
       "      <td>2019-08-03</td>\n",
       "      <td>A</td>\n",
       "      <td>66</td>\n",
       "      <td>60</td>\n",
       "      <td>346854</td>\n",
       "      <td>1845</td>\n",
       "    </tr>\n",
       "    <tr>\n",
       "      <th>5</th>\n",
       "      <td>2019-08-03</td>\n",
       "      <td>B</td>\n",
       "      <td>54</td>\n",
       "      <td>53</td>\n",
       "      <td>288850</td>\n",
       "      <td>1803</td>\n",
       "    </tr>\n",
       "  </tbody>\n",
       "</table>\n",
       "</div>"
      ],
      "text/plain": [
       "        date group  orders  buyers  revenue  visitors\n",
       "0 2019-08-01     A      23      19   142779       719\n",
       "1 2019-08-01     B      17      17    59758       713\n",
       "2 2019-08-02     A      42      36   234381      1338\n",
       "3 2019-08-02     B      40      39   221801      1294\n",
       "4 2019-08-03     A      66      60   346854      1845\n",
       "5 2019-08-03     B      54      53   288850      1803"
      ]
     },
     "execution_count": 16,
     "metadata": {},
     "output_type": "execute_result"
    }
   ],
   "source": [
    "# создаем массив уникальных пар значений дат и групп тест\n",
    "datesGroups = orders[['date', 'group']].drop_duplicates()\n",
    "\n",
    "# получаем агрегированные кумулятивные по дням данные о заказах \n",
    "ordersAggregated = datesGroups.apply(lambda x: orders[np.logical_and(orders['date'] <= x['date'], orders['group'] == x['group'])].agg({'date' : 'max', 'group' : 'max', 'transaction_id' : 'nunique', 'visitor_id' : 'nunique', 'revenue' : 'sum'}), axis=1).sort_values(by=['date','group'])\n",
    "\n",
    "# получаем агрегированные кумулятивные по дням данные о посетителях интернет-магазина \n",
    "visitorsAggregated = datesGroups.apply(lambda x: visitors[np.logical_and(visitors['date'] <= x['date'], visitors['group'] == x['group'])].agg({'date' : 'max', 'group' : 'max', 'visitors' : 'sum'}), axis=1).sort_values(by=['date','group'])\n",
    "\n",
    "# объединяем кумулятивные данные в одной таблице и присваиваем ее столбцам понятные названия\n",
    "cumulativeData = ordersAggregated.merge(visitorsAggregated, left_on=['date', 'group'], right_on=['date', 'group'])\n",
    "cumulativeData.columns = ['date', 'group', 'orders', 'buyers', 'revenue', 'visitors']\n",
    "\n",
    "cumulativeData.head(6)"
   ]
  },
  {
   "cell_type": "markdown",
   "metadata": {},
   "source": [
    "Построим график куммулятивной выручки по группам"
   ]
  },
  {
   "cell_type": "code",
   "execution_count": 17,
   "metadata": {},
   "outputs": [
    {
     "data": {
      "image/png": "[encoded data removed]",
      "text/plain": [
       "<Figure size 720x432 with 1 Axes>"
      ]
     },
     "metadata": {
      "needs_background": "light"
     },
     "output_type": "display_data"
    }
   ],
   "source": [
    "# датафрейм с кумулятивным количеством заказов и кумулятивной выручкой по дням в группе А\n",
    "cumulativeRevenueA = cumulativeData[cumulativeData['group']=='A'][['date','revenue', 'orders']]\n",
    "\n",
    "# датафрейм с кумулятивным количеством заказов и кумулятивной выручкой по дням в группе B\n",
    "cumulativeRevenueB = cumulativeData[cumulativeData['group']=='B'][['date','revenue', 'orders']]\n",
    "\n",
    "# зададим размер графика\n",
    "plt.figure(figsize=(10,6))\n",
    "\n",
    "# Строим график выручки группы А\n",
    "plt.plot(cumulativeRevenueA['date'], cumulativeRevenueA['revenue'], label='A')\n",
    "\n",
    "# Строим график выручки группы B\n",
    "plt.plot(cumulativeRevenueB['date'], cumulativeRevenueB['revenue'], label='B')\n",
    "plt.title('Куммулятивная выручка по группам')\n",
    "plt.xlabel('Выручка')\n",
    "plt.ylabel('Дата')\n",
    "plt.legend();"
   ]
  },
  {
   "cell_type": "markdown",
   "metadata": {},
   "source": [
    "Группа `B` на протяжении всего эксперимента лидирует, так же примерно в середине эксперимента происходит резкий прирост выручки в группе `B`"
   ]
  },
  {
   "cell_type": "markdown",
   "metadata": {},
   "source": [
    "### Построим график кумулятивного среднего чека по группам"
   ]
  },
  {
   "cell_type": "code",
   "execution_count": 18,
   "metadata": {},
   "outputs": [
    {
     "data": {
      "image/png": "[encoded data removed]",
      "text/plain": [
       "<Figure size 720x432 with 1 Axes>"
      ]
     },
     "metadata": {
      "needs_background": "light"
     },
     "output_type": "display_data"
    }
   ],
   "source": [
    "# зададим размер графика\n",
    "plt.figure(figsize=(10,6))\n",
    "\n",
    "# Строим график среднего чека группы А\n",
    "plt.plot(cumulativeRevenueA['date'], cumulativeRevenueA['revenue']/cumulativeRevenueA['orders'], label='A')\n",
    "\n",
    "# Строим график среднего чека группы B\n",
    "plt.plot(cumulativeRevenueB['date'], cumulativeRevenueB['revenue']/cumulativeRevenueB['orders'], label='B')\n",
    "plt.title('Куммулятивный средний чек по группам')\n",
    "plt.xlabel('Средний чек')\n",
    "plt.ylabel('Дата')\n",
    "plt.legend();"
   ]
  },
  {
   "cell_type": "markdown",
   "metadata": {},
   "source": [
    "Куммулятивный средний чек группы `B` на рассматриваемом промежутке почти всегда был выше чем в группе `A`, так же как и в случае с выручкой, средний чек сильно вырос в середине эксперимента, возможно в этот момент была совершена покупка с аномально высоким чеком."
   ]
  },
  {
   "cell_type": "markdown",
   "metadata": {},
   "source": [
    "### Построим график относительного изменения кумулятивного среднего чека группы B к группе A"
   ]
  },
  {
   "cell_type": "code",
   "execution_count": 19,
   "metadata": {
    "scrolled": true
   },
   "outputs": [
    {
     "data": {
      "image/png": "[encoded data removed]",
      "text/plain": [
       "<Figure size 792x360 with 1 Axes>"
      ]
     },
     "metadata": {
      "needs_background": "light"
     },
     "output_type": "display_data"
    }
   ],
   "source": [
    "# собираем данные в одном датафрейме\n",
    "mergedCumulativeRevenue = cumulativeRevenueA.merge(cumulativeRevenueB, left_on='date', right_on='date', how='left', suffixes=['A', 'B'])\n",
    "\n",
    "# зададим размер графика\n",
    "plt.figure(figsize=(11,5))\n",
    "\n",
    "# cтроим отношение средних чеков\n",
    "plt.plot(mergedCumulativeRevenue['date'], (mergedCumulativeRevenue['revenueB']/mergedCumulativeRevenue['ordersB'])/(mergedCumulativeRevenue['revenueA']/mergedCumulativeRevenue['ordersA'])-1)\n",
    "plt.title('Относительное изменение кумулятивного среднего чека группы B к группе A')\n",
    "plt.xlabel('Дата')\n",
    "\n",
    "# добавляем ось X\n",
    "plt.axhline(y=0, color='black', linestyle='--'); "
   ]
  },
  {
   "cell_type": "markdown",
   "metadata": {},
   "source": [
    "На графике относительного различия видно, что в группе `B` почти все время средний чек выше, но значения очень волатильны, скорее всего в данных присутствуют выбросы."
   ]
  },
  {
   "cell_type": "markdown",
   "metadata": {},
   "source": [
    "### Построим график кумулятивной конверсии по группам"
   ]
  },
  {
   "cell_type": "code",
   "execution_count": 20,
   "metadata": {},
   "outputs": [
    {
     "data": {
      "image/png": "[encoded data removed]",
      "text/plain": [
       "<Figure size 792x360 with 1 Axes>"
      ]
     },
     "metadata": {
      "needs_background": "light"
     },
     "output_type": "display_data"
    }
   ],
   "source": [
    "# считаем кумулятивную конверсию\n",
    "cumulativeData['conversion'] = cumulativeData['orders']/cumulativeData['visitors']\n",
    "\n",
    "# отделяем данные по группе A\n",
    "cumulativeDataA = cumulativeData[cumulativeData['group']=='A']\n",
    "\n",
    "# отделяем данные по группе B\n",
    "cumulativeDataB = cumulativeData[cumulativeData['group']=='B']\n",
    "# зададим размер графика\n",
    "plt.figure(figsize=(11,5))\n",
    "# строим графики\n",
    "plt.plot(cumulativeDataA['date'], cumulativeDataA['conversion'], label='A')\n",
    "plt.plot(cumulativeDataB['date'], cumulativeDataB['conversion'], label='B')\n",
    "plt.title('Кумулятивная конверсия по группам')\n",
    "plt.xlabel('Дата')\n",
    "plt.ylabel('Конверсия')\n",
    "plt.legend()\n",
    "\n",
    "# задаем масштаб осей\n",
    "plt.axis([dt.datetime(2019,8,1), dt.datetime(2019,9,1), 0, 0.07]);"
   ]
  },
  {
   "cell_type": "markdown",
   "metadata": {},
   "source": [
    "А начале эксперимента группа `A` опережала группу `B`, но начиная с шестого дня эксперимента группа `B` лидирует по конверсии. Это могло происходить из-за недостатка данных в начале эксперимента."
   ]
  },
  {
   "cell_type": "markdown",
   "metadata": {},
   "source": [
    "### Построим график относительного изменения кумулятивной конверсии группы B к группе A"
   ]
  },
  {
   "cell_type": "code",
   "execution_count": 21,
   "metadata": {},
   "outputs": [
    {
     "data": {
      "image/png": "[encoded data removed]",
      "text/plain": [
       "<Figure size 792x432 with 1 Axes>"
      ]
     },
     "metadata": {
      "needs_background": "light"
     },
     "output_type": "display_data"
    }
   ],
   "source": [
    "# собираем данные в одном датафрейме\n",
    "mergedCumulativeConversions = cumulativeDataA[['date','conversion']].merge(cumulativeDataB[['date','conversion']], left_on='date', right_on='date', how='left', suffixes=['A', 'B'])\n",
    "\n",
    "# зададим размер графика\n",
    "\n",
    "plt.figure(figsize=(11,6))\n",
    "# cтроим отношение конверсий\n",
    "plt.plot(mergedCumulativeConversions['date'], mergedCumulativeConversions['conversionB']/mergedCumulativeConversions['conversionA']-1)\n",
    "plt.title('Относительный прирост конверсии группы B относительно группы A')\n",
    "plt.xlabel('Дата')\n",
    "plt.axhline(y=0, color='black', linestyle='--');\n",
    "plt.axhline(y=0.1, color='grey', linestyle='--') \n",
    "plt.axis([dt.datetime(2019,8,1), dt.datetime(2019,9,1), -0.8, 0.8]);"
   ]
  },
  {
   "cell_type": "markdown",
   "metadata": {},
   "source": [
    "Прирост конверсии в группе `B` показывает себя значительно лучше, на девятый день эксперимента конверсия группы `B` перешагнула планку в 10% и до конца рассматриваемого периода находилась выше её. "
   ]
  },
  {
   "cell_type": "markdown",
   "metadata": {},
   "source": [
    "### Построим точечный график количества заказов по пользователям"
   ]
  },
  {
   "cell_type": "markdown",
   "metadata": {},
   "source": [
    "Посчитаем колличество заказов по пользователям"
   ]
  },
  {
   "cell_type": "code",
   "execution_count": 22,
   "metadata": {},
   "outputs": [
    {
     "data": {
      "text/html": [
       "<div>\n",
       "<style scoped>\n",
       "    .dataframe tbody tr th:only-of-type {\n",
       "        vertical-align: middle;\n",
       "    }\n",
       "\n",
       "    .dataframe tbody tr th {\n",
       "        vertical-align: top;\n",
       "    }\n",
       "\n",
       "    .dataframe thead th {\n",
       "        text-align: right;\n",
       "    }\n",
       "</style>\n",
       "<table border=\"1\" class=\"dataframe\">\n",
       "  <thead>\n",
       "    <tr style=\"text-align: right;\">\n",
       "      <th></th>\n",
       "      <th>userId</th>\n",
       "      <th>orders</th>\n",
       "    </tr>\n",
       "  </thead>\n",
       "  <tbody>\n",
       "    <tr>\n",
       "      <th>908</th>\n",
       "      <td>3967698036</td>\n",
       "      <td>3</td>\n",
       "    </tr>\n",
       "    <tr>\n",
       "      <th>55</th>\n",
       "      <td>249864742</td>\n",
       "      <td>3</td>\n",
       "    </tr>\n",
       "    <tr>\n",
       "      <th>478</th>\n",
       "      <td>2108163459</td>\n",
       "      <td>3</td>\n",
       "    </tr>\n",
       "    <tr>\n",
       "      <th>687</th>\n",
       "      <td>2988190573</td>\n",
       "      <td>3</td>\n",
       "    </tr>\n",
       "    <tr>\n",
       "      <th>890</th>\n",
       "      <td>3908431265</td>\n",
       "      <td>3</td>\n",
       "    </tr>\n",
       "    <tr>\n",
       "      <th>...</th>\n",
       "      <td>...</td>\n",
       "      <td>...</td>\n",
       "    </tr>\n",
       "    <tr>\n",
       "      <th>331</th>\n",
       "      <td>1438226485</td>\n",
       "      <td>1</td>\n",
       "    </tr>\n",
       "    <tr>\n",
       "      <th>332</th>\n",
       "      <td>1452540367</td>\n",
       "      <td>1</td>\n",
       "    </tr>\n",
       "    <tr>\n",
       "      <th>333</th>\n",
       "      <td>1455323168</td>\n",
       "      <td>1</td>\n",
       "    </tr>\n",
       "    <tr>\n",
       "      <th>334</th>\n",
       "      <td>1455861274</td>\n",
       "      <td>1</td>\n",
       "    </tr>\n",
       "    <tr>\n",
       "      <th>972</th>\n",
       "      <td>4283872382</td>\n",
       "      <td>1</td>\n",
       "    </tr>\n",
       "  </tbody>\n",
       "</table>\n",
       "<p>973 rows × 2 columns</p>\n",
       "</div>"
      ],
      "text/plain": [
       "         userId  orders\n",
       "908  3967698036       3\n",
       "55    249864742       3\n",
       "478  2108163459       3\n",
       "687  2988190573       3\n",
       "890  3908431265       3\n",
       "..          ...     ...\n",
       "331  1438226485       1\n",
       "332  1452540367       1\n",
       "333  1455323168       1\n",
       "334  1455861274       1\n",
       "972  4283872382       1\n",
       "\n",
       "[973 rows x 2 columns]"
      ]
     },
     "execution_count": 22,
     "metadata": {},
     "output_type": "execute_result"
    }
   ],
   "source": [
    "ordersByUsers = orders.groupby('visitor_id', as_index=False).agg({'transaction_id':'nunique'})\n",
    "ordersByUsers.columns = ['userId', 'orders']\n",
    "ordersByUsers.sort_values('orders', ascending=False)"
   ]
  },
  {
   "cell_type": "markdown",
   "metadata": {},
   "source": [
    "Построим точечный график колличества заказов по пользователям"
   ]
  },
  {
   "cell_type": "code",
   "execution_count": 23,
   "metadata": {},
   "outputs": [
    {
     "data": {
      "image/png": "[encoded data removed]",
      "text/plain": [
       "<Figure size 432x288 with 1 Axes>"
      ]
     },
     "metadata": {
      "needs_background": "light"
     },
     "output_type": "display_data"
    }
   ],
   "source": [
    "x_values = pd.Series(range(0,len(ordersByUsers)))\n",
    "plt.scatter(x_values, ordersByUsers['orders'])\n",
    "plt.title('Колличество заказов по пользователям');"
   ]
  },
  {
   "cell_type": "markdown",
   "metadata": {},
   "source": [
    "Подавлюящие большинство пользователей не совершают больше двух заказов. В наших данных ранее присутствовали пользователи которые совершали вплоть до 11 покупок, но при первичном анализе данных эти пользователи были удалены т.к. попали в обе группы теста."
   ]
  },
  {
   "cell_type": "markdown",
   "metadata": {},
   "source": [
    "### Посчитаем 95-й и 99-й перцентили количества заказов на пользователя"
   ]
  },
  {
   "cell_type": "markdown",
   "metadata": {},
   "source": [
    "С помощью `np.percentile()` получим 95-й и 99-й перцентил колличества заказов на пользователя"
   ]
  },
  {
   "cell_type": "code",
   "execution_count": 24,
   "metadata": {},
   "outputs": [
    {
     "data": {
      "text/plain": [
       "array([1., 2.])"
      ]
     },
     "execution_count": 24,
     "metadata": {},
     "output_type": "execute_result"
    }
   ],
   "source": [
    "np.percentile(ordersByUsers['orders'], [95, 99])"
   ]
  },
  {
   "cell_type": "markdown",
   "metadata": {},
   "source": [
    "Не более 1% пользователей совершали более двух покупок, поэтому будем считать этих пользователей аномальными."
   ]
  },
  {
   "cell_type": "markdown",
   "metadata": {},
   "source": [
    "### Построим точечный график стоимостей заказов"
   ]
  },
  {
   "cell_type": "code",
   "execution_count": 25,
   "metadata": {},
   "outputs": [
    {
     "data": {
      "image/png": "[encoded data removed]",
      "text/plain": [
       "<Figure size 432x288 with 1 Axes>"
      ]
     },
     "metadata": {
      "needs_background": "light"
     },
     "output_type": "display_data"
    }
   ],
   "source": [
    "x_values = pd.Series(range(0,len(orders)))\n",
    "plt.scatter(x_values, orders['revenue'])\n",
    "plt.title('Стоимость заказов')\n",
    "plt.ylim(0, 100000);"
   ]
  },
  {
   "cell_type": "markdown",
   "metadata": {},
   "source": [
    "Судя по грфику небольшое колличество пользователей оформляли заказ дороже 30000, посмотрим на перцентили и определимся с границей аномальности."
   ]
  },
  {
   "cell_type": "markdown",
   "metadata": {},
   "source": [
    "### Посчитаем 95-й и 99-й перцентили стоимости заказов"
   ]
  },
  {
   "cell_type": "markdown",
   "metadata": {},
   "source": [
    "С помощью `np.percentile()` получим 95-й и 99-й перцентил стоимости заказов"
   ]
  },
  {
   "cell_type": "code",
   "execution_count": 26,
   "metadata": {},
   "outputs": [
    {
     "data": {
      "text/plain": [
       "array([26785., 53904.])"
      ]
     },
     "execution_count": 26,
     "metadata": {},
     "output_type": "execute_result"
    }
   ],
   "source": [
    "np.percentile(orders['revenue'], [95, 99])"
   ]
  },
  {
   "cell_type": "markdown",
   "metadata": {},
   "source": [
    "Не более 5% заказов превышают сумму 26700, прмем эту сумму за границу анамальности для того, чтобы дорогие заказы не влияли на результаты теста."
   ]
  },
  {
   "cell_type": "markdown",
   "metadata": {},
   "source": [
    "### Посчитаем статистическую значимость различий в конверсии между группами по «сырым» данным."
   ]
  },
  {
   "cell_type": "markdown",
   "metadata": {},
   "source": [
    "На предыдущих шагах мы оценили результаты A/B-теста визуально и выяснили, что в данных, скорее всего, есть выбросы, обнаружили выбросы и нашли границу для их определения. Теперь посчитаем статистическую значимость различий в конверсии и среднем чеке между группами по «сырым» данным и по очищенным."
   ]
  },
  {
   "cell_type": "markdown",
   "metadata": {},
   "source": [
    "Посчитаем статистическую значимость различий в конверсии между группами по «сырым» данным с помощью критерия `Манна-Уитни`, уровень статистической значимости принимаем за `5%`.\n",
    "\n",
    "Сформулируем нулевую и альтернативную гипотезу:\n",
    "* H₀ - Различий в конверсии между группами нет\n",
    "* H₁ - Различия в конверсии между группами есть"
   ]
  },
  {
   "cell_type": "code",
   "execution_count": 27,
   "metadata": {},
   "outputs": [
    {
     "name": "stdout",
     "output_type": "stream",
     "text": [
      "p-значение: 0.011\n",
      "Отвергаем нулевую гипотезу\n",
      "Относительный прирост: 0.160\n"
     ]
    }
   ],
   "source": [
    "# считаем колличество заказов для каждого ункального пользователя группы A\n",
    "ordersByUsersA = (\n",
    "    orders[orders['group'] == 'A']\n",
    "    .groupby('visitor_id', as_index=False)\n",
    "    .agg({'transaction_id': pd.Series.nunique})\n",
    ")\n",
    "ordersByUsersA.columns = ['visitor_id', 'orders']\n",
    "\n",
    "# считаем колличество заказов для каждого ункального пользователя группы B\n",
    "ordersByUsersB = (\n",
    "    orders[orders['group'] == 'B']\n",
    "    .groupby('visitor_id', as_index=False)\n",
    "    .agg({'transaction_id': pd.Series.nunique})\n",
    ")\n",
    "ordersByUsersB.columns = ['visitor_id', 'orders']\n",
    "\n",
    "# сохраняем число заказов для каждого пользователя из группы A, если заказов нет сохраняется ноль\n",
    "sampleA = pd.concat(\n",
    "    [\n",
    "        ordersByUsersA['orders'],\n",
    "        pd.Series(\n",
    "            0,\n",
    "            index=np.arange(\n",
    "                visitors[visitors['group']=='A']['visitors'].sum() - len(ordersByUsersA['orders'])\n",
    "            ),\n",
    "            name='orders',\n",
    "        ),\n",
    "    ],\n",
    "    axis=0,\n",
    ")\n",
    "\n",
    "# сохраняем число заказов для каждого пользователя из группы B, если заказов нет сохраняется ноль\n",
    "sampleB = pd.concat(\n",
    "    [\n",
    "        ordersByUsersB['orders'],\n",
    "        pd.Series(\n",
    "            0,\n",
    "            index=np.arange(\n",
    "                visitors[visitors['group']=='B']['visitors'].sum() - len(ordersByUsersB['orders'])\n",
    "            ),\n",
    "            name='orders',\n",
    "        ),\n",
    "    ],\n",
    "    axis=0,\n",
    ")\n",
    "\n",
    "# задаём критический уровень стат значимости\n",
    "alpha = .05 \n",
    "\n",
    "# Посчитаем статистическую значимость различия в конверсии между группами с помощью критерия Манна-Уитни\n",
    "results = st.mannwhitneyu(sampleA, sampleB)[1]\n",
    "\n",
    "print('p-значение:', \"{0:.3f}\".format(results))\n",
    "\n",
    "if results < alpha:\n",
    "    print(\"Отвергаем нулевую гипотезу\")\n",
    "else:\n",
    "    print(\"Не получилось отвергнуть нулевую гипотезу\") \n",
    "    \n",
    "print('Относительный прирост:', \"{0:.3f}\".format(sampleB.mean() / sampleA.mean() - 1))"
   ]
  },
  {
   "cell_type": "markdown",
   "metadata": {},
   "source": [
    "P-value меньше уровня статистической значимости, отвергаем нулевую гипотезу. Разница между конверсиями групп статистически значима, относительный прирост конверсии в 16% это подтверждает."
   ]
  },
  {
   "cell_type": "markdown",
   "metadata": {},
   "source": [
    "### Посчитаем статистическую значимость различий в среднем чеке заказа между группами по «сырым» данным"
   ]
  },
  {
   "cell_type": "markdown",
   "metadata": {},
   "source": [
    "Посчитаем статистическую значимость различий в среднем чеке между группами по «сырым» данным с помощью критерия `Манна-Уитни`, уровень статистической значимости принимаем за `5%`.\n",
    "\n",
    "Сформулируем нулевую и альтернативную гипотезу:\n",
    "* H₀ - Различий в среднем чеке между группами нет\n",
    "* H₁ - Различия в среднем чеке между группами есть"
   ]
  },
  {
   "cell_type": "markdown",
   "metadata": {},
   "source": [
    "Передадим критерию Манна-Уитни данные о суммах заказа по группам"
   ]
  },
  {
   "cell_type": "code",
   "execution_count": 28,
   "metadata": {},
   "outputs": [
    {
     "name": "stdout",
     "output_type": "stream",
     "text": [
      "p-значение: 0.829\n",
      "Не получилось отвергнуть нулевую гипотезу\n",
      "Относительный прирост: 0.287\n"
     ]
    }
   ],
   "source": [
    "# задаём критический уровень стат значимости\n",
    "alpha = .05 \n",
    "\n",
    "# Посчитаем статистическую значимость различия в среднем чеке между группами с помощью критерия Манна-Уитни\n",
    "results = st.mannwhitneyu(orders[orders['group']=='A']['revenue'], orders[orders['group']=='B']['revenue'])[1]\n",
    "\n",
    "print('p-значение:', '{0:.3f}'.format(results))\n",
    "\n",
    "if results < alpha:\n",
    "    print(\"Отвергаем нулевую гипотезу\")\n",
    "else:\n",
    "    print(\"Не получилось отвергнуть нулевую гипотезу\") \n",
    "\n",
    "print('Относительный прирост:', '{0:.3f}'.format(orders[orders['group']=='B']['revenue'].mean()/orders[orders['group']=='A']['revenue'].mean()-1))"
   ]
  },
  {
   "cell_type": "markdown",
   "metadata": {},
   "source": [
    "Не смотря на относительно различие в 28%, не получилось отвергнуть нулевую гипотезу. Искажать результат могут выбросы, поэтому в дальнейшем удалим их."
   ]
  },
  {
   "cell_type": "markdown",
   "metadata": {},
   "source": [
    "### Посчитайтаем статистическую значимость различий в конверсии между группами по «очищенным» данным"
   ]
  },
  {
   "cell_type": "markdown",
   "metadata": {},
   "source": [
    "Найдём аномальных пользователей совершивших более 2-х покупок и пользователей с суммой чека более 26700"
   ]
  },
  {
   "cell_type": "code",
   "execution_count": 29,
   "metadata": {},
   "outputs": [
    {
     "data": {
      "text/plain": [
       "58"
      ]
     },
     "execution_count": 29,
     "metadata": {},
     "output_type": "execute_result"
    }
   ],
   "source": [
    "usersWithManyOrders = pd.concat(\n",
    "    [\n",
    "        ordersByUsersA[ordersByUsersA['orders'] > 2]['visitor_id'],\n",
    "        ordersByUsersB[ordersByUsersB['orders'] > 2]['visitor_id'],\n",
    "    ],\n",
    "    axis=0,\n",
    ")\n",
    "usersWithExpensiveOrders = orders[orders['revenue'] > 26700]['visitor_id']\n",
    "abnormalUsers = (\n",
    "    pd.concat([usersWithManyOrders, usersWithExpensiveOrders], axis=0)\n",
    "    .drop_duplicates()\n",
    ")\n",
    "len(abnormalUsers)"
   ]
  },
  {
   "cell_type": "markdown",
   "metadata": {},
   "source": [
    "В таблице есть 58 аномальных пользователей совершивших более двух покупок или совершавших покупку более чем на 26700, удалим их:"
   ]
  },
  {
   "cell_type": "code",
   "execution_count": 30,
   "metadata": {},
   "outputs": [],
   "source": [
    "orders=orders.query('visitor_id not in @abnormalUsers')"
   ]
  },
  {
   "cell_type": "markdown",
   "metadata": {},
   "source": [
    "Посчитаем статистическую значимость различий в конверсии между группами по «очищенным» данным с помощью критерия `Манна-Уитни`, уровень статистической значимости принимаем за `5%`.\n",
    "\n",
    "Сформулируем нулевую и альтернативную гипотезу:\n",
    "* H₀ - Различий в конверсии между группами нет\n",
    "* H₁ - Различия в конверсии между группами есть"
   ]
  },
  {
   "cell_type": "code",
   "execution_count": 31,
   "metadata": {},
   "outputs": [
    {
     "name": "stdout",
     "output_type": "stream",
     "text": [
      "p-значение: 0.012\n",
      "Отвергаем нулевую гипотезу\n",
      "Относительный прирост: 0.182\n"
     ]
    }
   ],
   "source": [
    "# считаем колличество заказов для каждого ункального пользователя группы A\n",
    "ordersByUsersA = (\n",
    "    orders[orders['group'] == 'A']\n",
    "    .groupby('visitor_id', as_index=False)\n",
    "    .agg({'transaction_id': pd.Series.nunique})\n",
    ")\n",
    "ordersByUsersA.columns = ['visitor_id', 'orders']\n",
    "\n",
    "# считаем колличество заказов для каждого ункального пользователя группы B\n",
    "ordersByUsersB = (\n",
    "    orders[orders['group'] == 'B']\n",
    "    .groupby('visitor_id', as_index=False)\n",
    "    .agg({'transaction_id': pd.Series.nunique})\n",
    ")\n",
    "ordersByUsersB.columns = ['visitor_id', 'orders']\n",
    "\n",
    "# сохраняем число заказов для каждого пользователя из группы A, если заказов нет сохраняется ноль\n",
    "sampleA = pd.concat(\n",
    "    [\n",
    "        ordersByUsersA['orders'],\n",
    "        pd.Series(\n",
    "            0,\n",
    "            index=np.arange(\n",
    "                visitors[visitors['group']=='A']['visitors'].sum() - len(ordersByUsersA['orders'])\n",
    "            ),\n",
    "            name='orders',\n",
    "        ),\n",
    "    ],\n",
    "    axis=0,\n",
    ")\n",
    "\n",
    "# сохраняем число заказов для каждого пользователя из группы B, если заказов нет сохраняется ноль\n",
    "sampleB = pd.concat(\n",
    "    [\n",
    "        ordersByUsersB['orders'],\n",
    "        pd.Series(\n",
    "            0,\n",
    "            index=np.arange(\n",
    "                visitors[visitors['group']=='B']['visitors'].sum() - len(ordersByUsersB['orders'])\n",
    "            ),\n",
    "            name='orders',\n",
    "        ),\n",
    "    ],\n",
    "    axis=0,\n",
    ")\n",
    "\n",
    "# задаём критический уровень стат значимости\n",
    "alpha = .05 \n",
    "\n",
    "# Посчитаем статистическую значимость различия в конверсии между группами с помощью критерия Манна-Уитни\n",
    "results = st.mannwhitneyu(sampleA, sampleB)[1]\n",
    "\n",
    "print('p-значение:', \"{0:.3f}\".format(results))\n",
    "\n",
    "if results < alpha:\n",
    "    print(\"Отвергаем нулевую гипотезу\")\n",
    "else:\n",
    "    print(\"Не получилось отвергнуть нулевую гипотезу\") \n",
    "    \n",
    "print('Относительный прирост:', \"{0:.3f}\".format(sampleB.mean() / sampleA.mean() - 1))"
   ]
  },
  {
   "cell_type": "markdown",
   "metadata": {},
   "source": [
    "По \"очищенным\" данным  данным разница между конверсиями групп так же статистически значима, относительный прирост составил 18%."
   ]
  },
  {
   "cell_type": "markdown",
   "metadata": {},
   "source": [
    "### Посчитаем статистическую значимость различий в среднем чеке заказа между группами по «очищенным» данным"
   ]
  },
  {
   "cell_type": "markdown",
   "metadata": {},
   "source": [
    "Посчитаем статистическую значимость различий в среднем чеке между группами по «очищенным» данным с помощью критерия `Манна-Уитни`, уровень статистической значимости принимаем за `5%`.\n",
    "\n",
    "Сформулируем нулевую и альтернативную гипотезу:\n",
    "* H₀ - Различий в среднем чеке между группами нет\n",
    "* H₁ - Различия в среднем чеке между группами есть"
   ]
  },
  {
   "cell_type": "code",
   "execution_count": 32,
   "metadata": {},
   "outputs": [
    {
     "name": "stdout",
     "output_type": "stream",
     "text": [
      "p-значение: 0.646\n",
      "Не получилось отвергнуть нулевую гипотезу\n",
      "Относительный прирост: -0.048\n"
     ]
    }
   ],
   "source": [
    "# задаём критический уровень стат значимости\n",
    "alpha = .05 \n",
    "\n",
    "# Посчитаем статистическую значимость различия в среднем чеке между группами с помощью критерия Манна-Уитни\n",
    "results = st.mannwhitneyu(orders[orders['group']=='A']['revenue'], orders[orders['group']=='B']['revenue'])[1]\n",
    "\n",
    "print('p-значение:', '{0:.3f}'.format(results))\n",
    "\n",
    "if results < alpha:\n",
    "    print(\"Отвергаем нулевую гипотезу\")\n",
    "else:\n",
    "    print(\"Не получилось отвергнуть нулевую гипотезу\") \n",
    "\n",
    "print('Относительный прирост:', '{0:.3f}'.format(orders[orders['group']=='B']['revenue'].mean()/orders[orders['group']=='A']['revenue'].mean()-1))"
   ]
  },
  {
   "cell_type": "markdown",
   "metadata": {},
   "source": [
    "Не получилось отвергнуть нулевую гипотезу, это значит, что по \"очищенным\" данным разницы между средними чеками нет, при этом относительный проигрыш группы `B` составил 4.8%."
   ]
  },
  {
   "cell_type": "markdown",
   "metadata": {},
   "source": [
    "### Принятие решения по результатам A/B-теста"
   ]
  },
  {
   "cell_type": "markdown",
   "metadata": {},
   "source": [
    "* При анализе куммулятивных данных было установленно, что группа `B` лидировала по конверсии на протяжениивсего эксперимента, средний чек так же был выше большую часть времени и график относительного изменения это подтверждает. Куммулятивная конверсия группы `B` в начале эксперимента уступала группе `A`, но начиная с шестого для группа `B` начала лидировать. Скорее всего в начале эксперимента имела место ошибка подглядывания, но при накоплении достаточного колличества данных картина стала более честной, относительный прирост конверсии это подтверждает.\n",
    "* При сравнении конверсии групп с помощью критерия Манна-Уитни было выясненно, что по \"сырым\" и \"очищенным\" данным имеется статистически значимая разница, так же был посчитан относительный прирост и он был в пользу группы `B`.\n",
    "* Сравнив средние чеки с помощью критерия Манна-Уитни по \"сырым\" и \"очищенным\" данным мы установили, что статистически значимой разницы нет, не смотря на относительные различия. После удаление выбросов относительный прирост изменился, что указывает на влияние выбросов.\n",
    "* Несмотря на проигрыш относительного прироста среднего чека группы `B` по \"очищенным данным\" мы можем утверждать, что `тест прошел успешно и мы можем его остановить`. Пользователи из группы `B` являются более \"качественными\" для бизнеса."
   ]
  }
 ],
 "metadata": {
  "ExecuteTimeLog": [
   {
    "duration": 425,
    "start_time": "2022-05-11T14:59:59.121Z"
   },
   {
    "duration": 12,
    "start_time": "2022-05-11T15:01:11.373Z"
   },
   {
    "duration": 851,
    "start_time": "2022-05-11T15:01:29.517Z"
   },
   {
    "duration": 86,
    "start_time": "2022-05-11T15:05:35.062Z"
   },
   {
    "duration": 34,
    "start_time": "2022-05-11T15:06:55.386Z"
   },
   {
    "duration": 4,
    "start_time": "2022-05-11T15:10:00.479Z"
   },
   {
    "duration": 27,
    "start_time": "2022-05-11T15:10:13.008Z"
   },
   {
    "duration": 9,
    "start_time": "2022-05-11T15:11:55.310Z"
   },
   {
    "duration": 9,
    "start_time": "2022-05-11T15:14:46.022Z"
   },
   {
    "duration": 19,
    "start_time": "2022-05-11T15:14:55.474Z"
   },
   {
    "duration": 8,
    "start_time": "2022-05-11T15:16:02.783Z"
   },
   {
    "duration": 7,
    "start_time": "2022-05-11T15:16:09.572Z"
   },
   {
    "duration": 4,
    "start_time": "2022-05-11T15:17:08.009Z"
   },
   {
    "duration": 83,
    "start_time": "2022-05-11T15:17:09.136Z"
   },
   {
    "duration": 12,
    "start_time": "2022-05-11T15:17:13.011Z"
   },
   {
    "duration": 11,
    "start_time": "2022-05-11T15:17:42.126Z"
   },
   {
    "duration": 4,
    "start_time": "2022-05-11T15:17:45.745Z"
   },
   {
    "duration": 10,
    "start_time": "2022-05-11T15:17:46.510Z"
   },
   {
    "duration": 10,
    "start_time": "2022-05-11T15:17:46.739Z"
   },
   {
    "duration": 3,
    "start_time": "2022-05-11T15:18:01.798Z"
   },
   {
    "duration": 11,
    "start_time": "2022-05-11T15:18:02.503Z"
   },
   {
    "duration": 12,
    "start_time": "2022-05-11T15:18:02.834Z"
   },
   {
    "duration": 4,
    "start_time": "2022-05-11T15:18:09.088Z"
   },
   {
    "duration": 10,
    "start_time": "2022-05-11T15:18:09.380Z"
   },
   {
    "duration": 12,
    "start_time": "2022-05-11T15:18:09.684Z"
   },
   {
    "duration": 3,
    "start_time": "2022-05-11T15:18:54.183Z"
   },
   {
    "duration": 9,
    "start_time": "2022-05-11T15:18:54.670Z"
   },
   {
    "duration": 9,
    "start_time": "2022-05-11T15:18:54.961Z"
   },
   {
    "duration": 4,
    "start_time": "2022-05-11T15:18:59.097Z"
   },
   {
    "duration": 10,
    "start_time": "2022-05-11T15:18:59.454Z"
   },
   {
    "duration": 11,
    "start_time": "2022-05-11T15:18:59.790Z"
   },
   {
    "duration": 3,
    "start_time": "2022-05-11T15:19:07.835Z"
   },
   {
    "duration": 10,
    "start_time": "2022-05-11T15:19:08.123Z"
   },
   {
    "duration": 10,
    "start_time": "2022-05-11T15:19:08.378Z"
   },
   {
    "duration": 3,
    "start_time": "2022-05-11T15:19:26.982Z"
   },
   {
    "duration": 9,
    "start_time": "2022-05-11T15:19:27.340Z"
   },
   {
    "duration": 12,
    "start_time": "2022-05-11T15:19:27.874Z"
   },
   {
    "duration": 4,
    "start_time": "2022-05-11T15:19:33.594Z"
   },
   {
    "duration": 9,
    "start_time": "2022-05-11T15:19:33.915Z"
   },
   {
    "duration": 9,
    "start_time": "2022-05-11T15:19:34.282Z"
   },
   {
    "duration": 4,
    "start_time": "2022-05-11T15:19:52.566Z"
   },
   {
    "duration": 9,
    "start_time": "2022-05-11T15:19:52.931Z"
   },
   {
    "duration": 9,
    "start_time": "2022-05-11T15:19:53.249Z"
   },
   {
    "duration": 4,
    "start_time": "2022-05-11T15:20:05.667Z"
   },
   {
    "duration": 10,
    "start_time": "2022-05-11T15:20:05.958Z"
   },
   {
    "duration": 18,
    "start_time": "2022-05-11T15:20:06.246Z"
   },
   {
    "duration": 15,
    "start_time": "2022-05-11T15:20:08.701Z"
   },
   {
    "duration": 5,
    "start_time": "2022-05-11T15:20:13.224Z"
   },
   {
    "duration": 11,
    "start_time": "2022-05-11T15:20:13.504Z"
   },
   {
    "duration": 11,
    "start_time": "2022-05-11T15:20:13.775Z"
   },
   {
    "duration": 3,
    "start_time": "2022-05-11T15:20:52.627Z"
   },
   {
    "duration": 9,
    "start_time": "2022-05-11T15:20:53.438Z"
   },
   {
    "duration": 20,
    "start_time": "2022-05-11T15:20:53.722Z"
   },
   {
    "duration": 4,
    "start_time": "2022-05-11T15:21:13.781Z"
   },
   {
    "duration": 9,
    "start_time": "2022-05-11T15:21:14.224Z"
   },
   {
    "duration": 18,
    "start_time": "2022-05-11T15:21:14.561Z"
   },
   {
    "duration": 4,
    "start_time": "2022-05-11T15:22:11.671Z"
   },
   {
    "duration": 12,
    "start_time": "2022-05-11T15:22:12.146Z"
   },
   {
    "duration": 12,
    "start_time": "2022-05-11T15:22:15.363Z"
   },
   {
    "duration": 3,
    "start_time": "2022-05-11T15:22:30.395Z"
   },
   {
    "duration": 12,
    "start_time": "2022-05-11T15:22:30.998Z"
   },
   {
    "duration": 4,
    "start_time": "2022-05-11T15:22:52.815Z"
   },
   {
    "duration": 18,
    "start_time": "2022-05-11T15:22:53.746Z"
   },
   {
    "duration": 14,
    "start_time": "2022-05-11T15:23:17.705Z"
   },
   {
    "duration": 10,
    "start_time": "2022-05-11T15:23:28.933Z"
   },
   {
    "duration": 25,
    "start_time": "2022-05-11T15:23:46.498Z"
   },
   {
    "duration": 22,
    "start_time": "2022-05-11T15:24:24.276Z"
   },
   {
    "duration": 6,
    "start_time": "2022-05-11T15:25:55.121Z"
   },
   {
    "duration": 4,
    "start_time": "2022-05-11T15:26:21.899Z"
   },
   {
    "duration": 20,
    "start_time": "2022-05-11T15:26:23.947Z"
   },
   {
    "duration": 3,
    "start_time": "2022-05-11T15:26:49.646Z"
   },
   {
    "duration": 27,
    "start_time": "2022-05-11T15:26:50.076Z"
   },
   {
    "duration": 19,
    "start_time": "2022-05-11T15:26:50.888Z"
   },
   {
    "duration": 5,
    "start_time": "2022-05-11T15:27:12.179Z"
   },
   {
    "duration": 39,
    "start_time": "2022-05-11T15:27:12.495Z"
   },
   {
    "duration": 26,
    "start_time": "2022-05-11T15:27:12.946Z"
   },
   {
    "duration": 19,
    "start_time": "2022-05-11T15:27:13.323Z"
   },
   {
    "duration": 16,
    "start_time": "2022-05-11T15:27:13.852Z"
   },
   {
    "duration": 8,
    "start_time": "2022-05-11T15:27:14.668Z"
   },
   {
    "duration": 80,
    "start_time": "2022-05-11T15:28:52.703Z"
   },
   {
    "duration": 18,
    "start_time": "2022-05-11T15:29:18.639Z"
   },
   {
    "duration": 35,
    "start_time": "2022-05-11T15:32:46.414Z"
   },
   {
    "duration": 28,
    "start_time": "2022-05-11T15:36:28.665Z"
   },
   {
    "duration": 6,
    "start_time": "2022-05-11T15:36:32.236Z"
   },
   {
    "duration": 29,
    "start_time": "2022-05-11T15:36:35.931Z"
   },
   {
    "duration": 4,
    "start_time": "2022-05-11T15:36:58.588Z"
   },
   {
    "duration": 20,
    "start_time": "2022-05-11T15:37:02.336Z"
   },
   {
    "duration": 84,
    "start_time": "2022-05-11T15:38:05.792Z"
   },
   {
    "duration": 328,
    "start_time": "2022-05-11T15:41:16.046Z"
   },
   {
    "duration": 343,
    "start_time": "2022-05-11T15:42:32.576Z"
   },
   {
    "duration": 459,
    "start_time": "2022-05-11T15:42:36.201Z"
   },
   {
    "duration": 4,
    "start_time": "2022-05-11T15:42:38.835Z"
   },
   {
    "duration": 8,
    "start_time": "2022-05-11T15:42:38.841Z"
   },
   {
    "duration": 46,
    "start_time": "2022-05-11T15:42:38.851Z"
   },
   {
    "duration": 25,
    "start_time": "2022-05-11T15:42:38.900Z"
   },
   {
    "duration": 29,
    "start_time": "2022-05-11T15:42:38.928Z"
   },
   {
    "duration": 4,
    "start_time": "2022-05-11T15:42:38.959Z"
   },
   {
    "duration": 48,
    "start_time": "2022-05-11T15:42:38.965Z"
   },
   {
    "duration": 320,
    "start_time": "2022-05-11T15:42:39.015Z"
   },
   {
    "duration": 0,
    "start_time": "2022-05-11T15:42:39.337Z"
   },
   {
    "duration": 81,
    "start_time": "2022-05-11T15:46:44.328Z"
   },
   {
    "duration": 381,
    "start_time": "2022-05-11T15:51:40.337Z"
   },
   {
    "duration": 6,
    "start_time": "2022-05-11T15:52:32.541Z"
   },
   {
    "duration": 345,
    "start_time": "2022-05-11T15:52:54.556Z"
   },
   {
    "duration": 384,
    "start_time": "2022-05-11T15:53:04.403Z"
   },
   {
    "duration": 4,
    "start_time": "2022-05-11T15:53:16.585Z"
   },
   {
    "duration": 31,
    "start_time": "2022-05-11T15:53:16.591Z"
   },
   {
    "duration": 46,
    "start_time": "2022-05-11T15:53:16.624Z"
   },
   {
    "duration": 21,
    "start_time": "2022-05-11T15:53:16.672Z"
   },
   {
    "duration": 52,
    "start_time": "2022-05-11T15:53:16.696Z"
   },
   {
    "duration": 4,
    "start_time": "2022-05-11T15:53:16.751Z"
   },
   {
    "duration": 23,
    "start_time": "2022-05-11T15:53:16.757Z"
   },
   {
    "duration": 7,
    "start_time": "2022-05-11T15:53:16.782Z"
   },
   {
    "duration": 23,
    "start_time": "2022-05-11T15:53:45.012Z"
   },
   {
    "duration": 4,
    "start_time": "2022-05-11T15:54:34.970Z"
   },
   {
    "duration": 12,
    "start_time": "2022-05-11T15:54:34.975Z"
   },
   {
    "duration": 58,
    "start_time": "2022-05-11T15:54:34.990Z"
   },
   {
    "duration": 17,
    "start_time": "2022-05-11T15:54:35.049Z"
   },
   {
    "duration": 30,
    "start_time": "2022-05-11T15:54:35.068Z"
   },
   {
    "duration": 13,
    "start_time": "2022-05-11T15:54:35.100Z"
   },
   {
    "duration": 30,
    "start_time": "2022-05-11T15:54:35.115Z"
   },
   {
    "duration": 14,
    "start_time": "2022-05-11T15:54:35.146Z"
   },
   {
    "duration": 20,
    "start_time": "2022-05-11T15:54:39.779Z"
   },
   {
    "duration": 23,
    "start_time": "2022-05-11T15:54:44.075Z"
   },
   {
    "duration": 2220,
    "start_time": "2022-05-12T08:49:13.095Z"
   },
   {
    "duration": 7,
    "start_time": "2022-05-12T08:49:15.318Z"
   },
   {
    "duration": 165,
    "start_time": "2022-05-12T08:49:15.328Z"
   },
   {
    "duration": 35,
    "start_time": "2022-05-12T08:49:15.497Z"
   },
   {
    "duration": 29,
    "start_time": "2022-05-12T08:49:15.535Z"
   },
   {
    "duration": 5,
    "start_time": "2022-05-12T08:49:15.594Z"
   },
   {
    "duration": 32,
    "start_time": "2022-05-12T08:49:15.601Z"
   },
   {
    "duration": 67,
    "start_time": "2022-05-12T08:49:15.636Z"
   },
   {
    "duration": 30,
    "start_time": "2022-05-12T08:49:22.248Z"
   },
   {
    "duration": 35,
    "start_time": "2022-05-12T08:49:27.357Z"
   },
   {
    "duration": 190,
    "start_time": "2022-05-12T08:58:32.500Z"
   },
   {
    "duration": 13,
    "start_time": "2022-05-12T08:59:27.423Z"
   },
   {
    "duration": 24,
    "start_time": "2022-05-12T09:00:14.150Z"
   },
   {
    "duration": 147,
    "start_time": "2022-05-12T09:06:19.146Z"
   },
   {
    "duration": 16,
    "start_time": "2022-05-12T09:06:37.335Z"
   },
   {
    "duration": 19,
    "start_time": "2022-05-12T09:06:37.482Z"
   },
   {
    "duration": 80,
    "start_time": "2022-05-12T09:06:54.207Z"
   },
   {
    "duration": 14,
    "start_time": "2022-05-12T09:07:47.591Z"
   },
   {
    "duration": 20,
    "start_time": "2022-05-12T09:08:40.270Z"
   },
   {
    "duration": 12,
    "start_time": "2022-05-12T09:10:05.058Z"
   },
   {
    "duration": 16,
    "start_time": "2022-05-12T09:10:32.582Z"
   },
   {
    "duration": 14,
    "start_time": "2022-05-12T09:10:34.399Z"
   },
   {
    "duration": 12,
    "start_time": "2022-05-12T09:10:35.110Z"
   },
   {
    "duration": 19,
    "start_time": "2022-05-12T09:10:36.378Z"
   },
   {
    "duration": 19,
    "start_time": "2022-05-12T09:11:17.589Z"
   },
   {
    "duration": 19,
    "start_time": "2022-05-12T09:11:36.336Z"
   },
   {
    "duration": 21,
    "start_time": "2022-05-12T09:12:05.085Z"
   },
   {
    "duration": 6,
    "start_time": "2022-05-12T09:12:19.875Z"
   },
   {
    "duration": 15,
    "start_time": "2022-05-12T09:12:19.886Z"
   },
   {
    "duration": 114,
    "start_time": "2022-05-12T09:12:19.905Z"
   },
   {
    "duration": 48,
    "start_time": "2022-05-12T09:12:20.023Z"
   },
   {
    "duration": 28,
    "start_time": "2022-05-12T09:12:20.074Z"
   },
   {
    "duration": 6,
    "start_time": "2022-05-12T09:12:20.105Z"
   },
   {
    "duration": 31,
    "start_time": "2022-05-12T09:12:20.114Z"
   },
   {
    "duration": 68,
    "start_time": "2022-05-12T09:12:20.148Z"
   },
   {
    "duration": 25,
    "start_time": "2022-05-12T09:12:20.221Z"
   },
   {
    "duration": 0,
    "start_time": "2022-05-12T09:12:20.250Z"
   },
   {
    "duration": 0,
    "start_time": "2022-05-12T09:12:20.253Z"
   },
   {
    "duration": 18,
    "start_time": "2022-05-12T09:12:34.484Z"
   },
   {
    "duration": 6,
    "start_time": "2022-05-12T09:12:47.659Z"
   },
   {
    "duration": 10,
    "start_time": "2022-05-12T09:12:47.669Z"
   },
   {
    "duration": 74,
    "start_time": "2022-05-12T09:12:47.682Z"
   },
   {
    "duration": 25,
    "start_time": "2022-05-12T09:12:47.759Z"
   },
   {
    "duration": 44,
    "start_time": "2022-05-12T09:12:47.787Z"
   },
   {
    "duration": 5,
    "start_time": "2022-05-12T09:12:47.833Z"
   },
   {
    "duration": 52,
    "start_time": "2022-05-12T09:12:47.841Z"
   },
   {
    "duration": 24,
    "start_time": "2022-05-12T09:12:47.897Z"
   },
   {
    "duration": 18,
    "start_time": "2022-05-12T09:12:47.924Z"
   },
   {
    "duration": 49,
    "start_time": "2022-05-12T09:12:47.945Z"
   },
   {
    "duration": 14,
    "start_time": "2022-05-12T09:12:47.997Z"
   },
   {
    "duration": 11,
    "start_time": "2022-05-12T09:12:57.313Z"
   },
   {
    "duration": 15,
    "start_time": "2022-05-12T09:13:05.666Z"
   },
   {
    "duration": 12,
    "start_time": "2022-05-12T09:13:19.152Z"
   },
   {
    "duration": 16,
    "start_time": "2022-05-12T09:13:38.418Z"
   },
   {
    "duration": 16,
    "start_time": "2022-05-12T09:13:49.670Z"
   },
   {
    "duration": 17,
    "start_time": "2022-05-12T09:13:52.365Z"
   },
   {
    "duration": 5,
    "start_time": "2022-05-12T09:13:55.259Z"
   },
   {
    "duration": 8,
    "start_time": "2022-05-12T09:13:55.266Z"
   },
   {
    "duration": 74,
    "start_time": "2022-05-12T09:13:55.276Z"
   },
   {
    "duration": 26,
    "start_time": "2022-05-12T09:13:55.353Z"
   },
   {
    "duration": 36,
    "start_time": "2022-05-12T09:13:55.381Z"
   },
   {
    "duration": 6,
    "start_time": "2022-05-12T09:13:55.420Z"
   },
   {
    "duration": 33,
    "start_time": "2022-05-12T09:13:55.429Z"
   },
   {
    "duration": 55,
    "start_time": "2022-05-12T09:13:55.465Z"
   },
   {
    "duration": 23,
    "start_time": "2022-05-12T09:13:55.522Z"
   },
   {
    "duration": 46,
    "start_time": "2022-05-12T09:13:55.549Z"
   },
   {
    "duration": 17,
    "start_time": "2022-05-12T09:13:55.597Z"
   },
   {
    "duration": 15,
    "start_time": "2022-05-12T09:14:05.941Z"
   },
   {
    "duration": 18,
    "start_time": "2022-05-12T09:14:10.220Z"
   },
   {
    "duration": 16,
    "start_time": "2022-05-12T09:14:16.188Z"
   },
   {
    "duration": 16,
    "start_time": "2022-05-12T09:16:05.011Z"
   },
   {
    "duration": 26,
    "start_time": "2022-05-12T09:17:53.799Z"
   },
   {
    "duration": 198,
    "start_time": "2022-05-12T09:19:37.176Z"
   },
   {
    "duration": 16,
    "start_time": "2022-05-12T09:21:05.937Z"
   },
   {
    "duration": 14,
    "start_time": "2022-05-12T10:02:28.165Z"
   },
   {
    "duration": 14,
    "start_time": "2022-05-12T10:37:13.286Z"
   },
   {
    "duration": 20,
    "start_time": "2022-05-12T10:43:52.196Z"
   },
   {
    "duration": 15,
    "start_time": "2022-05-12T10:44:06.746Z"
   },
   {
    "duration": 42,
    "start_time": "2022-05-12T10:50:53.138Z"
   },
   {
    "duration": 455,
    "start_time": "2022-05-12T10:51:25.352Z"
   },
   {
    "duration": 429,
    "start_time": "2022-05-12T10:55:51.770Z"
   },
   {
    "duration": 40,
    "start_time": "2022-05-12T11:07:38.322Z"
   },
   {
    "duration": 38,
    "start_time": "2022-05-12T11:08:16.175Z"
   },
   {
    "duration": 25,
    "start_time": "2022-05-12T11:08:53.185Z"
   },
   {
    "duration": 619,
    "start_time": "2022-05-12T11:09:51.405Z"
   },
   {
    "duration": 438,
    "start_time": "2022-05-12T11:10:00.846Z"
   },
   {
    "duration": 176,
    "start_time": "2022-05-12T11:49:23.985Z"
   },
   {
    "duration": 559,
    "start_time": "2022-05-12T11:49:30.714Z"
   },
   {
    "duration": 482,
    "start_time": "2022-05-12T11:50:16.793Z"
   },
   {
    "duration": 461,
    "start_time": "2022-05-12T11:50:21.669Z"
   },
   {
    "duration": 434,
    "start_time": "2022-05-12T11:50:40.023Z"
   },
   {
    "duration": 226,
    "start_time": "2022-05-12T11:51:37.852Z"
   },
   {
    "duration": 11,
    "start_time": "2022-05-12T11:52:23.696Z"
   },
   {
    "duration": 325,
    "start_time": "2022-05-12T11:52:29.671Z"
   },
   {
    "duration": 329,
    "start_time": "2022-05-12T11:53:07.452Z"
   },
   {
    "duration": 230,
    "start_time": "2022-05-12T11:54:14.907Z"
   },
   {
    "duration": 8,
    "start_time": "2022-05-12T11:54:24.183Z"
   },
   {
    "duration": 17,
    "start_time": "2022-05-12T11:54:46.672Z"
   },
   {
    "duration": 446,
    "start_time": "2022-05-12T11:55:00.329Z"
   },
   {
    "duration": 19,
    "start_time": "2022-05-12T11:55:52.362Z"
   },
   {
    "duration": 450,
    "start_time": "2022-05-12T11:57:11.193Z"
   },
   {
    "duration": 350,
    "start_time": "2022-05-12T11:58:20.128Z"
   },
   {
    "duration": 658,
    "start_time": "2022-05-12T11:58:42.798Z"
   },
   {
    "duration": 16,
    "start_time": "2022-05-12T11:58:47.042Z"
   },
   {
    "duration": 5,
    "start_time": "2022-05-12T11:59:28.937Z"
   },
   {
    "duration": 4,
    "start_time": "2022-05-12T11:59:36.702Z"
   },
   {
    "duration": 10,
    "start_time": "2022-05-12T11:59:36.709Z"
   },
   {
    "duration": 114,
    "start_time": "2022-05-12T11:59:36.721Z"
   },
   {
    "duration": 25,
    "start_time": "2022-05-12T11:59:36.838Z"
   },
   {
    "duration": 25,
    "start_time": "2022-05-12T11:59:36.865Z"
   },
   {
    "duration": 5,
    "start_time": "2022-05-12T11:59:36.893Z"
   },
   {
    "duration": 35,
    "start_time": "2022-05-12T11:59:36.901Z"
   },
   {
    "duration": 20,
    "start_time": "2022-05-12T11:59:36.938Z"
   },
   {
    "duration": 45,
    "start_time": "2022-05-12T11:59:36.961Z"
   },
   {
    "duration": 17,
    "start_time": "2022-05-12T11:59:37.008Z"
   },
   {
    "duration": 454,
    "start_time": "2022-05-12T11:59:37.027Z"
   },
   {
    "duration": 11,
    "start_time": "2022-05-12T11:59:37.483Z"
   },
   {
    "duration": 17,
    "start_time": "2022-05-12T11:59:37.496Z"
   },
   {
    "duration": 320,
    "start_time": "2022-05-12T11:59:37.516Z"
   },
   {
    "duration": 273,
    "start_time": "2022-05-12T12:00:37.185Z"
   },
   {
    "duration": 420,
    "start_time": "2022-05-12T12:01:11.631Z"
   },
   {
    "duration": 464,
    "start_time": "2022-05-12T12:01:23.944Z"
   },
   {
    "duration": 439,
    "start_time": "2022-05-12T12:01:30.787Z"
   },
   {
    "duration": 439,
    "start_time": "2022-05-12T12:01:37.361Z"
   },
   {
    "duration": 639,
    "start_time": "2022-05-12T12:02:02.785Z"
   },
   {
    "duration": 7,
    "start_time": "2022-05-12T12:03:42.747Z"
   },
   {
    "duration": 724,
    "start_time": "2022-05-12T12:03:56.519Z"
   },
   {
    "duration": 557,
    "start_time": "2022-05-12T12:04:45.279Z"
   },
   {
    "duration": 582,
    "start_time": "2022-05-12T12:04:49.506Z"
   },
   {
    "duration": 498,
    "start_time": "2022-05-12T12:04:53.827Z"
   },
   {
    "duration": 282,
    "start_time": "2022-05-12T12:07:24.339Z"
   },
   {
    "duration": 365,
    "start_time": "2022-05-12T12:07:41.521Z"
   },
   {
    "duration": 695,
    "start_time": "2022-05-12T12:08:50.143Z"
   },
   {
    "duration": 462,
    "start_time": "2022-05-12T12:09:41.823Z"
   },
   {
    "duration": 278,
    "start_time": "2022-05-12T13:06:04.466Z"
   },
   {
    "duration": 416,
    "start_time": "2022-05-12T13:07:37.095Z"
   },
   {
    "duration": 326,
    "start_time": "2022-05-12T13:22:50.454Z"
   },
   {
    "duration": 325,
    "start_time": "2022-05-12T13:23:10.112Z"
   },
   {
    "duration": 292,
    "start_time": "2022-05-12T13:24:23.982Z"
   },
   {
    "duration": 367,
    "start_time": "2022-05-12T13:24:33.665Z"
   },
   {
    "duration": 281,
    "start_time": "2022-05-12T13:29:14.180Z"
   },
   {
    "duration": 446,
    "start_time": "2022-05-12T13:32:34.375Z"
   },
   {
    "duration": 481,
    "start_time": "2022-05-12T13:33:00.768Z"
   },
   {
    "duration": 501,
    "start_time": "2022-05-12T13:34:20.435Z"
   },
   {
    "duration": 495,
    "start_time": "2022-05-12T13:34:29.506Z"
   },
   {
    "duration": 585,
    "start_time": "2022-05-12T13:34:41.455Z"
   },
   {
    "duration": 424,
    "start_time": "2022-05-12T13:34:55.117Z"
   },
   {
    "duration": 422,
    "start_time": "2022-05-12T13:35:10.494Z"
   },
   {
    "duration": 430,
    "start_time": "2022-05-12T13:35:43.616Z"
   },
   {
    "duration": 455,
    "start_time": "2022-05-12T13:36:03.113Z"
   },
   {
    "duration": 377,
    "start_time": "2022-05-12T13:36:12.514Z"
   },
   {
    "duration": 390,
    "start_time": "2022-05-12T13:36:43.422Z"
   },
   {
    "duration": 443,
    "start_time": "2022-05-12T13:36:51.067Z"
   },
   {
    "duration": 417,
    "start_time": "2022-05-12T13:36:57.982Z"
   },
   {
    "duration": 457,
    "start_time": "2022-05-12T13:37:05.858Z"
   },
   {
    "duration": 405,
    "start_time": "2022-05-12T13:37:11.810Z"
   },
   {
    "duration": 444,
    "start_time": "2022-05-12T13:38:02.469Z"
   },
   {
    "duration": 423,
    "start_time": "2022-05-12T13:39:42.921Z"
   },
   {
    "duration": 5,
    "start_time": "2022-05-12T13:40:44.875Z"
   },
   {
    "duration": 19,
    "start_time": "2022-05-12T13:41:02.197Z"
   },
   {
    "duration": 10,
    "start_time": "2022-05-12T13:41:37.952Z"
   },
   {
    "duration": 11,
    "start_time": "2022-05-12T13:46:33.032Z"
   },
   {
    "duration": 462,
    "start_time": "2022-05-12T13:47:38.671Z"
   },
   {
    "duration": 563,
    "start_time": "2022-05-12T13:47:49.562Z"
   },
   {
    "duration": 395,
    "start_time": "2022-05-12T13:47:59.914Z"
   },
   {
    "duration": 437,
    "start_time": "2022-05-12T13:48:06.460Z"
   },
   {
    "duration": 451,
    "start_time": "2022-05-12T13:48:23.471Z"
   },
   {
    "duration": 429,
    "start_time": "2022-05-12T13:48:30.744Z"
   },
   {
    "duration": 481,
    "start_time": "2022-05-12T13:48:54.742Z"
   },
   {
    "duration": 445,
    "start_time": "2022-05-12T13:49:00.037Z"
   },
   {
    "duration": 21,
    "start_time": "2022-05-12T13:49:22.709Z"
   },
   {
    "duration": 10,
    "start_time": "2022-05-12T13:49:40.925Z"
   },
   {
    "duration": 8,
    "start_time": "2022-05-12T13:50:19.625Z"
   },
   {
    "duration": 11,
    "start_time": "2022-05-12T13:50:29.352Z"
   },
   {
    "duration": 8,
    "start_time": "2022-05-12T13:50:41.658Z"
   },
   {
    "duration": 208,
    "start_time": "2022-05-12T13:51:02.745Z"
   },
   {
    "duration": 440,
    "start_time": "2022-05-12T13:51:20.470Z"
   },
   {
    "duration": 292,
    "start_time": "2022-05-12T14:15:37.904Z"
   },
   {
    "duration": 359,
    "start_time": "2022-05-12T14:15:53.361Z"
   },
   {
    "duration": 445,
    "start_time": "2022-05-12T14:16:35.396Z"
   },
   {
    "duration": 335,
    "start_time": "2022-05-12T14:18:10.766Z"
   },
   {
    "duration": 368,
    "start_time": "2022-05-12T14:18:40.722Z"
   },
   {
    "duration": 320,
    "start_time": "2022-05-12T14:19:00.264Z"
   },
   {
    "duration": 305,
    "start_time": "2022-05-12T14:19:04.815Z"
   },
   {
    "duration": 321,
    "start_time": "2022-05-12T14:19:11.343Z"
   },
   {
    "duration": 297,
    "start_time": "2022-05-12T14:19:22.120Z"
   },
   {
    "duration": 531,
    "start_time": "2022-05-12T14:19:30.538Z"
   },
   {
    "duration": 298,
    "start_time": "2022-05-12T14:19:35.311Z"
   },
   {
    "duration": 318,
    "start_time": "2022-05-12T14:19:39.289Z"
   },
   {
    "duration": 418,
    "start_time": "2022-05-12T14:19:43.795Z"
   },
   {
    "duration": 14,
    "start_time": "2022-05-12T14:35:09.207Z"
   },
   {
    "duration": 380,
    "start_time": "2022-05-12T14:38:17.293Z"
   },
   {
    "duration": 516,
    "start_time": "2022-05-12T14:39:52.488Z"
   },
   {
    "duration": 464,
    "start_time": "2022-05-12T14:40:00.490Z"
   },
   {
    "duration": 654,
    "start_time": "2022-05-12T14:40:14.648Z"
   },
   {
    "duration": 460,
    "start_time": "2022-05-12T14:40:23.146Z"
   },
   {
    "duration": 289,
    "start_time": "2022-05-12T14:41:28.006Z"
   },
   {
    "duration": 286,
    "start_time": "2022-05-12T14:41:34.661Z"
   },
   {
    "duration": 273,
    "start_time": "2022-05-12T14:41:54.658Z"
   },
   {
    "duration": 587,
    "start_time": "2022-05-12T14:43:50.160Z"
   },
   {
    "duration": 437,
    "start_time": "2022-05-12T14:43:59.457Z"
   },
   {
    "duration": 520,
    "start_time": "2022-05-12T14:44:06.327Z"
   },
   {
    "duration": 449,
    "start_time": "2022-05-12T14:44:16.855Z"
   },
   {
    "duration": 581,
    "start_time": "2022-05-12T14:44:21.328Z"
   },
   {
    "duration": 428,
    "start_time": "2022-05-12T14:45:05.761Z"
   },
   {
    "duration": 342,
    "start_time": "2022-05-12T14:45:15.931Z"
   },
   {
    "duration": 5,
    "start_time": "2022-05-12T14:46:55.742Z"
   },
   {
    "duration": 10,
    "start_time": "2022-05-12T14:46:55.750Z"
   },
   {
    "duration": 113,
    "start_time": "2022-05-12T14:46:55.762Z"
   },
   {
    "duration": 29,
    "start_time": "2022-05-12T14:46:55.879Z"
   },
   {
    "duration": 29,
    "start_time": "2022-05-12T14:46:55.911Z"
   },
   {
    "duration": 5,
    "start_time": "2022-05-12T14:46:55.942Z"
   },
   {
    "duration": 62,
    "start_time": "2022-05-12T14:46:55.950Z"
   },
   {
    "duration": 20,
    "start_time": "2022-05-12T14:46:56.015Z"
   },
   {
    "duration": 22,
    "start_time": "2022-05-12T14:46:56.039Z"
   },
   {
    "duration": 20,
    "start_time": "2022-05-12T14:46:56.093Z"
   },
   {
    "duration": 497,
    "start_time": "2022-05-12T14:46:56.117Z"
   },
   {
    "duration": 360,
    "start_time": "2022-05-12T14:46:56.617Z"
   },
   {
    "duration": 487,
    "start_time": "2022-05-12T14:46:56.980Z"
   },
   {
    "duration": 557,
    "start_time": "2022-05-12T14:46:57.470Z"
   },
   {
    "duration": 431,
    "start_time": "2022-05-12T14:46:58.031Z"
   },
   {
    "duration": 567,
    "start_time": "2022-05-12T14:46:58.465Z"
   },
   {
    "duration": 1205,
    "start_time": "2022-05-12T19:13:15.114Z"
   },
   {
    "duration": 3,
    "start_time": "2022-05-12T19:13:16.322Z"
   },
   {
    "duration": 152,
    "start_time": "2022-05-12T19:13:16.327Z"
   },
   {
    "duration": 20,
    "start_time": "2022-05-12T19:13:16.481Z"
   },
   {
    "duration": 16,
    "start_time": "2022-05-12T19:13:16.503Z"
   },
   {
    "duration": 3,
    "start_time": "2022-05-12T19:13:16.521Z"
   },
   {
    "duration": 17,
    "start_time": "2022-05-12T19:13:16.526Z"
   },
   {
    "duration": 12,
    "start_time": "2022-05-12T19:13:16.544Z"
   },
   {
    "duration": 19,
    "start_time": "2022-05-12T19:13:16.557Z"
   },
   {
    "duration": 30,
    "start_time": "2022-05-12T19:13:16.578Z"
   },
   {
    "duration": 270,
    "start_time": "2022-05-12T19:13:16.609Z"
   },
   {
    "duration": 253,
    "start_time": "2022-05-12T19:13:16.881Z"
   },
   {
    "duration": 193,
    "start_time": "2022-05-12T19:13:17.136Z"
   },
   {
    "duration": 360,
    "start_time": "2022-05-12T19:13:17.331Z"
   },
   {
    "duration": 182,
    "start_time": "2022-05-12T19:13:17.693Z"
   },
   {
    "duration": 302,
    "start_time": "2022-05-12T19:13:17.876Z"
   },
   {
    "duration": 13,
    "start_time": "2022-05-12T19:15:26.200Z"
   },
   {
    "duration": 14,
    "start_time": "2022-05-12T19:16:13.265Z"
   },
   {
    "duration": 3,
    "start_time": "2022-05-12T19:17:07.647Z"
   },
   {
    "duration": 6,
    "start_time": "2022-05-12T19:17:07.652Z"
   },
   {
    "duration": 82,
    "start_time": "2022-05-12T19:17:07.661Z"
   },
   {
    "duration": 25,
    "start_time": "2022-05-12T19:17:07.745Z"
   },
   {
    "duration": 17,
    "start_time": "2022-05-12T19:17:07.772Z"
   },
   {
    "duration": 4,
    "start_time": "2022-05-12T19:17:07.790Z"
   },
   {
    "duration": 20,
    "start_time": "2022-05-12T19:17:07.795Z"
   },
   {
    "duration": 12,
    "start_time": "2022-05-12T19:17:07.816Z"
   },
   {
    "duration": 26,
    "start_time": "2022-05-12T19:17:07.830Z"
   },
   {
    "duration": 12,
    "start_time": "2022-05-12T19:17:07.858Z"
   },
   {
    "duration": 18,
    "start_time": "2022-05-12T19:17:07.871Z"
   },
   {
    "duration": 19,
    "start_time": "2022-05-12T19:17:07.891Z"
   },
   {
    "duration": 482,
    "start_time": "2022-05-12T19:17:07.912Z"
   },
   {
    "duration": 195,
    "start_time": "2022-05-12T19:17:08.400Z"
   },
   {
    "duration": 228,
    "start_time": "2022-05-12T19:17:08.600Z"
   },
   {
    "duration": 342,
    "start_time": "2022-05-12T19:17:08.832Z"
   },
   {
    "duration": 217,
    "start_time": "2022-05-12T19:17:09.176Z"
   },
   {
    "duration": 412,
    "start_time": "2022-05-12T19:17:09.395Z"
   },
   {
    "duration": 142,
    "start_time": "2022-05-12T19:22:17.281Z"
   },
   {
    "duration": 9,
    "start_time": "2022-05-12T19:22:26.065Z"
   },
   {
    "duration": 5,
    "start_time": "2022-05-12T19:22:27.694Z"
   },
   {
    "duration": 2682,
    "start_time": "2022-05-12T19:24:01.062Z"
   },
   {
    "duration": 7,
    "start_time": "2022-05-12T19:24:31.128Z"
   },
   {
    "duration": 2606,
    "start_time": "2022-05-12T19:26:31.849Z"
   },
   {
    "duration": 10,
    "start_time": "2022-05-12T19:26:51.077Z"
   },
   {
    "duration": 13,
    "start_time": "2022-05-12T19:27:18.598Z"
   },
   {
    "duration": 11,
    "start_time": "2022-05-12T19:27:34.219Z"
   },
   {
    "duration": 11,
    "start_time": "2022-05-12T19:37:49.264Z"
   },
   {
    "duration": 18,
    "start_time": "2022-05-12T19:37:55.524Z"
   },
   {
    "duration": 6,
    "start_time": "2022-05-12T19:38:42.849Z"
   },
   {
    "duration": 14,
    "start_time": "2022-05-12T19:38:45.977Z"
   },
   {
    "duration": 7,
    "start_time": "2022-05-12T19:41:01.520Z"
   },
   {
    "duration": 12,
    "start_time": "2022-05-12T19:41:13.100Z"
   },
   {
    "duration": 8,
    "start_time": "2022-05-12T19:41:17.872Z"
   },
   {
    "duration": 9,
    "start_time": "2022-05-12T19:41:48.178Z"
   },
   {
    "duration": 9,
    "start_time": "2022-05-12T19:42:00.314Z"
   },
   {
    "duration": 6,
    "start_time": "2022-05-12T19:44:08.949Z"
   },
   {
    "duration": 11,
    "start_time": "2022-05-12T19:44:09.166Z"
   },
   {
    "duration": 3,
    "start_time": "2022-05-12T19:44:33.023Z"
   },
   {
    "duration": 6,
    "start_time": "2022-05-12T19:44:33.028Z"
   },
   {
    "duration": 70,
    "start_time": "2022-05-12T19:44:33.036Z"
   },
   {
    "duration": 16,
    "start_time": "2022-05-12T19:44:33.108Z"
   },
   {
    "duration": 19,
    "start_time": "2022-05-12T19:44:33.126Z"
   },
   {
    "duration": 3,
    "start_time": "2022-05-12T19:44:33.146Z"
   },
   {
    "duration": 17,
    "start_time": "2022-05-12T19:44:33.150Z"
   },
   {
    "duration": 38,
    "start_time": "2022-05-12T19:44:33.168Z"
   },
   {
    "duration": 18,
    "start_time": "2022-05-12T19:44:33.208Z"
   },
   {
    "duration": 13,
    "start_time": "2022-05-12T19:44:33.227Z"
   },
   {
    "duration": 161,
    "start_time": "2022-05-12T19:44:33.241Z"
   },
   {
    "duration": 0,
    "start_time": "2022-05-12T19:44:33.403Z"
   },
   {
    "duration": 0,
    "start_time": "2022-05-12T19:44:33.405Z"
   },
   {
    "duration": 0,
    "start_time": "2022-05-12T19:44:33.406Z"
   },
   {
    "duration": 0,
    "start_time": "2022-05-12T19:44:33.407Z"
   },
   {
    "duration": 0,
    "start_time": "2022-05-12T19:44:33.409Z"
   },
   {
    "duration": 0,
    "start_time": "2022-05-12T19:44:33.411Z"
   },
   {
    "duration": 0,
    "start_time": "2022-05-12T19:44:33.411Z"
   },
   {
    "duration": 0,
    "start_time": "2022-05-12T19:44:33.413Z"
   },
   {
    "duration": 0,
    "start_time": "2022-05-12T19:44:33.414Z"
   },
   {
    "duration": 0,
    "start_time": "2022-05-12T19:44:33.415Z"
   },
   {
    "duration": 0,
    "start_time": "2022-05-12T19:44:33.416Z"
   },
   {
    "duration": 3,
    "start_time": "2022-05-12T19:44:47.840Z"
   },
   {
    "duration": 6,
    "start_time": "2022-05-12T19:44:47.845Z"
   },
   {
    "duration": 73,
    "start_time": "2022-05-12T19:44:47.852Z"
   },
   {
    "duration": 20,
    "start_time": "2022-05-12T19:44:47.926Z"
   },
   {
    "duration": 16,
    "start_time": "2022-05-12T19:44:47.949Z"
   },
   {
    "duration": 11,
    "start_time": "2022-05-12T19:44:47.968Z"
   },
   {
    "duration": 29,
    "start_time": "2022-05-12T19:44:47.981Z"
   },
   {
    "duration": 21,
    "start_time": "2022-05-12T19:44:48.012Z"
   },
   {
    "duration": 15,
    "start_time": "2022-05-12T19:44:48.036Z"
   },
   {
    "duration": 17,
    "start_time": "2022-05-12T19:44:48.054Z"
   },
   {
    "duration": 47,
    "start_time": "2022-05-12T19:44:48.073Z"
   },
   {
    "duration": 9,
    "start_time": "2022-05-12T19:44:48.122Z"
   },
   {
    "duration": 5,
    "start_time": "2022-05-12T19:44:48.134Z"
   },
   {
    "duration": 11,
    "start_time": "2022-05-12T19:44:48.140Z"
   },
   {
    "duration": 13,
    "start_time": "2022-05-12T19:44:48.152Z"
   },
   {
    "duration": 40,
    "start_time": "2022-05-12T19:44:48.166Z"
   },
   {
    "duration": 323,
    "start_time": "2022-05-12T19:44:48.208Z"
   },
   {
    "duration": 182,
    "start_time": "2022-05-12T19:44:48.533Z"
   },
   {
    "duration": 256,
    "start_time": "2022-05-12T19:44:48.717Z"
   },
   {
    "duration": 345,
    "start_time": "2022-05-12T19:44:48.975Z"
   },
   {
    "duration": 179,
    "start_time": "2022-05-12T19:44:49.322Z"
   },
   {
    "duration": 266,
    "start_time": "2022-05-12T19:44:49.502Z"
   },
   {
    "duration": 3,
    "start_time": "2022-05-12T19:47:59.145Z"
   },
   {
    "duration": 6,
    "start_time": "2022-05-12T19:47:59.150Z"
   },
   {
    "duration": 157,
    "start_time": "2022-05-12T19:47:59.158Z"
   },
   {
    "duration": 19,
    "start_time": "2022-05-12T19:47:59.317Z"
   },
   {
    "duration": 17,
    "start_time": "2022-05-12T19:47:59.338Z"
   },
   {
    "duration": 4,
    "start_time": "2022-05-12T19:47:59.357Z"
   },
   {
    "duration": 21,
    "start_time": "2022-05-12T19:47:59.363Z"
   },
   {
    "duration": 24,
    "start_time": "2022-05-12T19:47:59.401Z"
   },
   {
    "duration": 16,
    "start_time": "2022-05-12T19:47:59.427Z"
   },
   {
    "duration": 22,
    "start_time": "2022-05-12T19:47:59.445Z"
   },
   {
    "duration": 13,
    "start_time": "2022-05-12T19:47:59.469Z"
   },
   {
    "duration": 31,
    "start_time": "2022-05-12T19:47:59.483Z"
   },
   {
    "duration": 25,
    "start_time": "2022-05-12T19:47:59.516Z"
   },
   {
    "duration": 10,
    "start_time": "2022-05-12T19:47:59.543Z"
   },
   {
    "duration": 14,
    "start_time": "2022-05-12T19:47:59.555Z"
   },
   {
    "duration": 14,
    "start_time": "2022-05-12T19:47:59.570Z"
   },
   {
    "duration": 362,
    "start_time": "2022-05-12T19:47:59.585Z"
   },
   {
    "duration": 259,
    "start_time": "2022-05-12T19:47:59.951Z"
   },
   {
    "duration": 267,
    "start_time": "2022-05-12T19:48:00.212Z"
   },
   {
    "duration": 311,
    "start_time": "2022-05-12T19:48:00.481Z"
   },
   {
    "duration": 190,
    "start_time": "2022-05-12T19:48:00.799Z"
   },
   {
    "duration": 423,
    "start_time": "2022-05-12T19:48:00.999Z"
   },
   {
    "duration": 3,
    "start_time": "2022-05-12T19:49:26.053Z"
   },
   {
    "duration": 7,
    "start_time": "2022-05-12T19:49:26.059Z"
   },
   {
    "duration": 122,
    "start_time": "2022-05-12T19:49:26.068Z"
   },
   {
    "duration": 24,
    "start_time": "2022-05-12T19:49:26.193Z"
   },
   {
    "duration": 19,
    "start_time": "2022-05-12T19:49:26.219Z"
   },
   {
    "duration": 3,
    "start_time": "2022-05-12T19:49:26.240Z"
   },
   {
    "duration": 17,
    "start_time": "2022-05-12T19:49:26.245Z"
   },
   {
    "duration": 35,
    "start_time": "2022-05-12T19:49:26.264Z"
   },
   {
    "duration": 15,
    "start_time": "2022-05-12T19:49:26.303Z"
   },
   {
    "duration": 14,
    "start_time": "2022-05-12T19:49:26.320Z"
   },
   {
    "duration": 17,
    "start_time": "2022-05-12T19:49:26.336Z"
   },
   {
    "duration": 12,
    "start_time": "2022-05-12T19:49:26.354Z"
   },
   {
    "duration": 6,
    "start_time": "2022-05-12T19:49:26.368Z"
   },
   {
    "duration": 14,
    "start_time": "2022-05-12T19:49:26.401Z"
   },
   {
    "duration": 22,
    "start_time": "2022-05-12T19:49:26.417Z"
   },
   {
    "duration": 11,
    "start_time": "2022-05-12T19:49:26.441Z"
   },
   {
    "duration": 302,
    "start_time": "2022-05-12T19:49:26.454Z"
   },
   {
    "duration": 199,
    "start_time": "2022-05-12T19:49:26.758Z"
   },
   {
    "duration": 201,
    "start_time": "2022-05-12T19:49:26.959Z"
   },
   {
    "duration": 325,
    "start_time": "2022-05-12T19:49:27.162Z"
   },
   {
    "duration": 183,
    "start_time": "2022-05-12T19:49:27.489Z"
   },
   {
    "duration": 286,
    "start_time": "2022-05-12T19:49:27.674Z"
   },
   {
    "duration": 12,
    "start_time": "2022-05-12T19:50:18.970Z"
   },
   {
    "duration": 6,
    "start_time": "2022-05-12T19:52:45.629Z"
   },
   {
    "duration": 4,
    "start_time": "2022-05-12T19:53:11.484Z"
   },
   {
    "duration": 3,
    "start_time": "2022-05-12T19:53:14.846Z"
   },
   {
    "duration": 8,
    "start_time": "2022-05-12T19:53:14.852Z"
   },
   {
    "duration": 79,
    "start_time": "2022-05-12T19:53:14.862Z"
   },
   {
    "duration": 16,
    "start_time": "2022-05-12T19:53:14.943Z"
   },
   {
    "duration": 17,
    "start_time": "2022-05-12T19:53:14.961Z"
   },
   {
    "duration": 3,
    "start_time": "2022-05-12T19:53:14.980Z"
   },
   {
    "duration": 20,
    "start_time": "2022-05-12T19:53:14.985Z"
   },
   {
    "duration": 14,
    "start_time": "2022-05-12T19:53:15.007Z"
   },
   {
    "duration": 21,
    "start_time": "2022-05-12T19:53:15.024Z"
   },
   {
    "duration": 15,
    "start_time": "2022-05-12T19:53:15.047Z"
   },
   {
    "duration": 17,
    "start_time": "2022-05-12T19:53:15.064Z"
   },
   {
    "duration": 18,
    "start_time": "2022-05-12T19:53:15.083Z"
   },
   {
    "duration": 9,
    "start_time": "2022-05-12T19:53:15.102Z"
   },
   {
    "duration": 7,
    "start_time": "2022-05-12T19:53:15.113Z"
   },
   {
    "duration": 10,
    "start_time": "2022-05-12T19:53:15.121Z"
   },
   {
    "duration": 14,
    "start_time": "2022-05-12T19:53:15.132Z"
   },
   {
    "duration": 11,
    "start_time": "2022-05-12T19:53:15.148Z"
   },
   {
    "duration": 292,
    "start_time": "2022-05-12T19:53:15.160Z"
   },
   {
    "duration": 195,
    "start_time": "2022-05-12T19:53:15.454Z"
   },
   {
    "duration": 252,
    "start_time": "2022-05-12T19:53:15.651Z"
   },
   {
    "duration": 273,
    "start_time": "2022-05-12T19:53:15.906Z"
   },
   {
    "duration": 179,
    "start_time": "2022-05-12T19:53:16.181Z"
   },
   {
    "duration": 274,
    "start_time": "2022-05-12T19:53:16.361Z"
   },
   {
    "duration": 5,
    "start_time": "2022-05-12T19:53:37.986Z"
   },
   {
    "duration": 5,
    "start_time": "2022-05-12T19:53:41.909Z"
   },
   {
    "duration": 9,
    "start_time": "2022-05-12T19:55:12.397Z"
   },
   {
    "duration": 12,
    "start_time": "2022-05-12T19:56:33.233Z"
   },
   {
    "duration": 217,
    "start_time": "2022-05-12T19:57:33.786Z"
   },
   {
    "duration": 206,
    "start_time": "2022-05-12T19:57:46.777Z"
   },
   {
    "duration": 3,
    "start_time": "2022-05-12T19:59:30.205Z"
   },
   {
    "duration": 12,
    "start_time": "2022-05-12T19:59:30.210Z"
   },
   {
    "duration": 74,
    "start_time": "2022-05-12T19:59:30.224Z"
   },
   {
    "duration": 15,
    "start_time": "2022-05-12T19:59:30.301Z"
   },
   {
    "duration": 17,
    "start_time": "2022-05-12T19:59:30.318Z"
   },
   {
    "duration": 8,
    "start_time": "2022-05-12T19:59:30.337Z"
   },
   {
    "duration": 23,
    "start_time": "2022-05-12T19:59:30.346Z"
   },
   {
    "duration": 37,
    "start_time": "2022-05-12T19:59:30.371Z"
   },
   {
    "duration": 117,
    "start_time": "2022-05-12T19:59:30.411Z"
   },
   {
    "duration": 18,
    "start_time": "2022-05-12T19:59:30.530Z"
   },
   {
    "duration": 20,
    "start_time": "2022-05-12T19:59:30.550Z"
   },
   {
    "duration": 24,
    "start_time": "2022-05-12T19:59:30.572Z"
   },
   {
    "duration": 23,
    "start_time": "2022-05-12T19:59:30.600Z"
   },
   {
    "duration": 21,
    "start_time": "2022-05-12T19:59:30.625Z"
   },
   {
    "duration": 389,
    "start_time": "2022-05-12T19:59:30.648Z"
   },
   {
    "duration": 261,
    "start_time": "2022-05-12T19:59:31.039Z"
   },
   {
    "duration": 176,
    "start_time": "2022-05-12T19:59:31.302Z"
   },
   {
    "duration": 286,
    "start_time": "2022-05-12T19:59:31.480Z"
   },
   {
    "duration": 181,
    "start_time": "2022-05-12T19:59:31.768Z"
   },
   {
    "duration": 271,
    "start_time": "2022-05-12T19:59:31.951Z"
   },
   {
    "duration": 4,
    "start_time": "2022-05-12T20:00:13.189Z"
   },
   {
    "duration": 4,
    "start_time": "2022-05-12T20:00:40.119Z"
   },
   {
    "duration": 3,
    "start_time": "2022-05-12T20:00:49.723Z"
   },
   {
    "duration": 18,
    "start_time": "2022-05-12T20:01:10.089Z"
   },
   {
    "duration": 198,
    "start_time": "2022-05-12T20:01:53.134Z"
   },
   {
    "duration": 202,
    "start_time": "2022-05-12T20:02:06.324Z"
   },
   {
    "duration": 4,
    "start_time": "2022-05-12T20:02:15.367Z"
   },
   {
    "duration": 25,
    "start_time": "2022-05-12T20:02:18.492Z"
   },
   {
    "duration": 4,
    "start_time": "2022-05-12T20:02:56.582Z"
   },
   {
    "duration": 26,
    "start_time": "2022-05-12T20:02:59.168Z"
   },
   {
    "duration": 3,
    "start_time": "2022-05-12T20:03:35.473Z"
   },
   {
    "duration": 3,
    "start_time": "2022-05-12T20:03:35.614Z"
   },
   {
    "duration": 74,
    "start_time": "2022-05-12T20:03:35.619Z"
   },
   {
    "duration": 33,
    "start_time": "2022-05-12T20:03:35.695Z"
   },
   {
    "duration": 31,
    "start_time": "2022-05-12T20:03:35.731Z"
   },
   {
    "duration": 3,
    "start_time": "2022-05-12T20:03:35.764Z"
   },
   {
    "duration": 62,
    "start_time": "2022-05-12T20:03:35.769Z"
   },
   {
    "duration": 12,
    "start_time": "2022-05-12T20:03:35.833Z"
   },
   {
    "duration": 23,
    "start_time": "2022-05-12T20:03:35.846Z"
   },
   {
    "duration": 30,
    "start_time": "2022-05-12T20:03:35.871Z"
   },
   {
    "duration": 15,
    "start_time": "2022-05-12T20:03:35.904Z"
   },
   {
    "duration": 13,
    "start_time": "2022-05-12T20:03:35.921Z"
   },
   {
    "duration": 10,
    "start_time": "2022-05-12T20:03:35.936Z"
   },
   {
    "duration": 8,
    "start_time": "2022-05-12T20:03:35.947Z"
   },
   {
    "duration": 293,
    "start_time": "2022-05-12T20:03:35.956Z"
   },
   {
    "duration": 257,
    "start_time": "2022-05-12T20:03:36.250Z"
   },
   {
    "duration": 174,
    "start_time": "2022-05-12T20:03:36.509Z"
   },
   {
    "duration": 279,
    "start_time": "2022-05-12T20:03:36.685Z"
   },
   {
    "duration": 169,
    "start_time": "2022-05-12T20:03:36.966Z"
   },
   {
    "duration": 253,
    "start_time": "2022-05-12T20:03:37.137Z"
   },
   {
    "duration": 9,
    "start_time": "2022-05-12T20:03:37.391Z"
   },
   {
    "duration": 25,
    "start_time": "2022-05-12T20:03:37.402Z"
   },
   {
    "duration": 9,
    "start_time": "2022-05-12T20:04:27.994Z"
   },
   {
    "duration": 4,
    "start_time": "2022-05-12T20:05:13.068Z"
   },
   {
    "duration": 28,
    "start_time": "2022-05-12T20:05:14.327Z"
   },
   {
    "duration": 5,
    "start_time": "2022-05-12T20:06:08.165Z"
   },
   {
    "duration": 19,
    "start_time": "2022-05-12T20:06:08.348Z"
   },
   {
    "duration": 4,
    "start_time": "2022-05-12T20:06:33.854Z"
   },
   {
    "duration": 26,
    "start_time": "2022-05-12T20:06:34.024Z"
   },
   {
    "duration": 4,
    "start_time": "2022-05-12T20:06:55.706Z"
   },
   {
    "duration": 20,
    "start_time": "2022-05-12T20:06:55.975Z"
   },
   {
    "duration": 4,
    "start_time": "2022-05-12T20:07:01.796Z"
   },
   {
    "duration": 27,
    "start_time": "2022-05-12T20:07:02.102Z"
   },
   {
    "duration": 3,
    "start_time": "2022-05-12T20:07:50.733Z"
   },
   {
    "duration": 3,
    "start_time": "2022-05-12T20:07:50.745Z"
   },
   {
    "duration": 90,
    "start_time": "2022-05-12T20:07:50.750Z"
   },
   {
    "duration": 29,
    "start_time": "2022-05-12T20:07:50.841Z"
   },
   {
    "duration": 28,
    "start_time": "2022-05-12T20:07:50.872Z"
   },
   {
    "duration": 5,
    "start_time": "2022-05-12T20:07:50.902Z"
   },
   {
    "duration": 50,
    "start_time": "2022-05-12T20:07:50.909Z"
   },
   {
    "duration": 17,
    "start_time": "2022-05-12T20:07:50.961Z"
   },
   {
    "duration": 14,
    "start_time": "2022-05-12T20:07:50.979Z"
   },
   {
    "duration": 16,
    "start_time": "2022-05-12T20:07:50.994Z"
   },
   {
    "duration": 34,
    "start_time": "2022-05-12T20:07:51.013Z"
   },
   {
    "duration": 11,
    "start_time": "2022-05-12T20:07:51.048Z"
   },
   {
    "duration": 13,
    "start_time": "2022-05-12T20:07:51.060Z"
   },
   {
    "duration": 10,
    "start_time": "2022-05-12T20:07:51.076Z"
   },
   {
    "duration": 278,
    "start_time": "2022-05-12T20:07:51.088Z"
   },
   {
    "duration": 187,
    "start_time": "2022-05-12T20:07:51.368Z"
   },
   {
    "duration": 291,
    "start_time": "2022-05-12T20:07:51.556Z"
   },
   {
    "duration": 340,
    "start_time": "2022-05-12T20:07:51.849Z"
   },
   {
    "duration": 269,
    "start_time": "2022-05-12T20:07:52.191Z"
   },
   {
    "duration": 352,
    "start_time": "2022-05-12T20:07:52.462Z"
   },
   {
    "duration": 6,
    "start_time": "2022-05-12T20:07:52.817Z"
   },
   {
    "duration": 32,
    "start_time": "2022-05-12T20:07:52.825Z"
   },
   {
    "duration": 268,
    "start_time": "2022-05-12T20:23:50.896Z"
   },
   {
    "duration": 250,
    "start_time": "2022-05-12T20:24:05.333Z"
   },
   {
    "duration": 295,
    "start_time": "2022-05-12T20:24:37.914Z"
   },
   {
    "duration": 332,
    "start_time": "2022-05-12T20:25:11.677Z"
   },
   {
    "duration": 12,
    "start_time": "2022-05-12T20:31:21.713Z"
   },
   {
    "duration": 3,
    "start_time": "2022-05-12T20:35:27.541Z"
   },
   {
    "duration": 11,
    "start_time": "2022-05-12T20:36:38.979Z"
   },
   {
    "duration": 12,
    "start_time": "2022-05-12T20:37:07.065Z"
   },
   {
    "duration": 12,
    "start_time": "2022-05-12T20:37:15.043Z"
   },
   {
    "duration": 11,
    "start_time": "2022-05-12T20:37:20.796Z"
   },
   {
    "duration": 12,
    "start_time": "2022-05-12T20:38:00.563Z"
   },
   {
    "duration": 14,
    "start_time": "2022-05-12T20:38:14.541Z"
   },
   {
    "duration": 11,
    "start_time": "2022-05-12T20:39:08.323Z"
   },
   {
    "duration": 6,
    "start_time": "2022-05-12T20:39:54.771Z"
   },
   {
    "duration": 114,
    "start_time": "2022-05-12T20:40:30.469Z"
   },
   {
    "duration": 3,
    "start_time": "2022-05-12T20:42:38.939Z"
   },
   {
    "duration": 5,
    "start_time": "2022-05-12T20:42:38.944Z"
   },
   {
    "duration": 162,
    "start_time": "2022-05-12T20:42:38.951Z"
   },
   {
    "duration": 29,
    "start_time": "2022-05-12T20:42:39.114Z"
   },
   {
    "duration": 27,
    "start_time": "2022-05-12T20:42:39.145Z"
   },
   {
    "duration": 3,
    "start_time": "2022-05-12T20:42:39.173Z"
   },
   {
    "duration": 45,
    "start_time": "2022-05-12T20:42:39.177Z"
   },
   {
    "duration": 11,
    "start_time": "2022-05-12T20:42:39.224Z"
   },
   {
    "duration": 10,
    "start_time": "2022-05-12T20:42:39.237Z"
   },
   {
    "duration": 10,
    "start_time": "2022-05-12T20:42:39.249Z"
   },
   {
    "duration": 17,
    "start_time": "2022-05-12T20:42:39.260Z"
   },
   {
    "duration": 32,
    "start_time": "2022-05-12T20:42:39.278Z"
   },
   {
    "duration": 2579,
    "start_time": "2022-05-12T20:42:39.312Z"
   },
   {
    "duration": 0,
    "start_time": "2022-05-12T20:42:41.893Z"
   },
   {
    "duration": 0,
    "start_time": "2022-05-12T20:42:41.894Z"
   },
   {
    "duration": 0,
    "start_time": "2022-05-12T20:42:41.895Z"
   },
   {
    "duration": 0,
    "start_time": "2022-05-12T20:42:41.896Z"
   },
   {
    "duration": 0,
    "start_time": "2022-05-12T20:42:41.897Z"
   },
   {
    "duration": 1,
    "start_time": "2022-05-12T20:42:41.898Z"
   },
   {
    "duration": 0,
    "start_time": "2022-05-12T20:42:41.899Z"
   },
   {
    "duration": 0,
    "start_time": "2022-05-12T20:42:41.901Z"
   },
   {
    "duration": 0,
    "start_time": "2022-05-12T20:42:41.901Z"
   },
   {
    "duration": 0,
    "start_time": "2022-05-12T20:42:41.902Z"
   },
   {
    "duration": 3,
    "start_time": "2022-05-12T20:43:38.764Z"
   },
   {
    "duration": 6,
    "start_time": "2022-05-12T20:43:38.769Z"
   },
   {
    "duration": 403,
    "start_time": "2022-05-12T20:43:38.776Z"
   },
   {
    "duration": 32,
    "start_time": "2022-05-12T20:43:39.181Z"
   },
   {
    "duration": 39,
    "start_time": "2022-05-12T20:43:39.215Z"
   },
   {
    "duration": 5,
    "start_time": "2022-05-12T20:43:39.256Z"
   },
   {
    "duration": 50,
    "start_time": "2022-05-12T20:43:39.262Z"
   },
   {
    "duration": 12,
    "start_time": "2022-05-12T20:43:39.314Z"
   },
   {
    "duration": 13,
    "start_time": "2022-05-12T20:43:39.328Z"
   },
   {
    "duration": 11,
    "start_time": "2022-05-12T20:43:39.343Z"
   },
   {
    "duration": 13,
    "start_time": "2022-05-12T20:43:39.356Z"
   },
   {
    "duration": 40,
    "start_time": "2022-05-12T20:43:39.371Z"
   },
   {
    "duration": 19,
    "start_time": "2022-05-12T20:43:39.412Z"
   },
   {
    "duration": 7,
    "start_time": "2022-05-12T20:43:39.433Z"
   },
   {
    "duration": 411,
    "start_time": "2022-05-12T20:43:39.441Z"
   },
   {
    "duration": 188,
    "start_time": "2022-05-12T20:43:39.855Z"
   },
   {
    "duration": 177,
    "start_time": "2022-05-12T20:43:40.045Z"
   },
   {
    "duration": 364,
    "start_time": "2022-05-12T20:43:40.224Z"
   },
   {
    "duration": 176,
    "start_time": "2022-05-12T20:43:40.590Z"
   },
   {
    "duration": 324,
    "start_time": "2022-05-12T20:43:40.768Z"
   },
   {
    "duration": 21,
    "start_time": "2022-05-12T20:43:41.093Z"
   },
   {
    "duration": 185,
    "start_time": "2022-05-12T20:43:41.116Z"
   },
   {
    "duration": 17,
    "start_time": "2022-05-12T20:43:41.303Z"
   },
   {
    "duration": 4,
    "start_time": "2022-05-12T20:44:21.018Z"
   },
   {
    "duration": 9,
    "start_time": "2022-05-12T20:44:21.024Z"
   },
   {
    "duration": 96,
    "start_time": "2022-05-12T20:44:21.035Z"
   },
   {
    "duration": 33,
    "start_time": "2022-05-12T20:44:21.133Z"
   },
   {
    "duration": 43,
    "start_time": "2022-05-12T20:44:21.168Z"
   },
   {
    "duration": 3,
    "start_time": "2022-05-12T20:44:21.213Z"
   },
   {
    "duration": 28,
    "start_time": "2022-05-12T20:44:21.217Z"
   },
   {
    "duration": 10,
    "start_time": "2022-05-12T20:44:21.247Z"
   },
   {
    "duration": 13,
    "start_time": "2022-05-12T20:44:21.259Z"
   },
   {
    "duration": 11,
    "start_time": "2022-05-12T20:44:21.274Z"
   },
   {
    "duration": 24,
    "start_time": "2022-05-12T20:44:21.287Z"
   },
   {
    "duration": 12,
    "start_time": "2022-05-12T20:44:21.313Z"
   },
   {
    "duration": 8,
    "start_time": "2022-05-12T20:44:21.327Z"
   },
   {
    "duration": 3,
    "start_time": "2022-05-12T20:44:21.338Z"
   },
   {
    "duration": 287,
    "start_time": "2022-05-12T20:44:21.343Z"
   },
   {
    "duration": 190,
    "start_time": "2022-05-12T20:44:21.631Z"
   },
   {
    "duration": 187,
    "start_time": "2022-05-12T20:44:21.823Z"
   },
   {
    "duration": 271,
    "start_time": "2022-05-12T20:44:22.012Z"
   },
   {
    "duration": 245,
    "start_time": "2022-05-12T20:44:22.285Z"
   },
   {
    "duration": 260,
    "start_time": "2022-05-12T20:44:22.532Z"
   },
   {
    "duration": 17,
    "start_time": "2022-05-12T20:44:22.793Z"
   },
   {
    "duration": 124,
    "start_time": "2022-05-12T20:44:22.814Z"
   },
   {
    "duration": 12,
    "start_time": "2022-05-12T20:44:22.939Z"
   },
   {
    "duration": 3,
    "start_time": "2022-05-12T20:47:15.664Z"
   },
   {
    "duration": 5,
    "start_time": "2022-05-12T20:47:15.669Z"
   },
   {
    "duration": 74,
    "start_time": "2022-05-12T20:47:15.676Z"
   },
   {
    "duration": 30,
    "start_time": "2022-05-12T20:47:15.752Z"
   },
   {
    "duration": 38,
    "start_time": "2022-05-12T20:47:15.784Z"
   },
   {
    "duration": 3,
    "start_time": "2022-05-12T20:47:15.824Z"
   },
   {
    "duration": 28,
    "start_time": "2022-05-12T20:47:15.829Z"
   },
   {
    "duration": 11,
    "start_time": "2022-05-12T20:47:15.859Z"
   },
   {
    "duration": 36,
    "start_time": "2022-05-12T20:47:15.872Z"
   },
   {
    "duration": 30,
    "start_time": "2022-05-12T20:47:15.910Z"
   },
   {
    "duration": 14,
    "start_time": "2022-05-12T20:47:15.942Z"
   },
   {
    "duration": 11,
    "start_time": "2022-05-12T20:47:15.958Z"
   },
   {
    "duration": 9,
    "start_time": "2022-05-12T20:47:15.971Z"
   },
   {
    "duration": 19,
    "start_time": "2022-05-12T20:47:15.982Z"
   },
   {
    "duration": 296,
    "start_time": "2022-05-12T20:47:16.002Z"
   },
   {
    "duration": 186,
    "start_time": "2022-05-12T20:47:16.303Z"
   },
   {
    "duration": 280,
    "start_time": "2022-05-12T20:47:16.490Z"
   },
   {
    "duration": 320,
    "start_time": "2022-05-12T20:47:16.772Z"
   },
   {
    "duration": 187,
    "start_time": "2022-05-12T20:47:17.094Z"
   },
   {
    "duration": 325,
    "start_time": "2022-05-12T20:47:17.283Z"
   },
   {
    "duration": 16,
    "start_time": "2022-05-12T20:47:17.610Z"
   },
   {
    "duration": 129,
    "start_time": "2022-05-12T20:47:17.628Z"
   },
   {
    "duration": 11,
    "start_time": "2022-05-12T20:47:17.758Z"
   },
   {
    "duration": 1193,
    "start_time": "2022-05-13T07:36:34.080Z"
   },
   {
    "duration": 4,
    "start_time": "2022-05-13T07:36:35.275Z"
   },
   {
    "duration": 117,
    "start_time": "2022-05-13T07:36:35.280Z"
   },
   {
    "duration": 34,
    "start_time": "2022-05-13T07:36:35.399Z"
   },
   {
    "duration": 27,
    "start_time": "2022-05-13T07:36:35.434Z"
   },
   {
    "duration": 3,
    "start_time": "2022-05-13T07:36:35.463Z"
   },
   {
    "duration": 52,
    "start_time": "2022-05-13T07:36:35.467Z"
   },
   {
    "duration": 12,
    "start_time": "2022-05-13T07:36:35.521Z"
   },
   {
    "duration": 14,
    "start_time": "2022-05-13T07:36:35.534Z"
   },
   {
    "duration": 14,
    "start_time": "2022-05-13T07:36:35.550Z"
   },
   {
    "duration": 10,
    "start_time": "2022-05-13T07:36:35.565Z"
   },
   {
    "duration": 30,
    "start_time": "2022-05-13T07:36:35.576Z"
   },
   {
    "duration": 11,
    "start_time": "2022-05-13T07:36:35.607Z"
   },
   {
    "duration": 9,
    "start_time": "2022-05-13T07:36:35.619Z"
   },
   {
    "duration": 19,
    "start_time": "2022-05-13T07:36:35.630Z"
   },
   {
    "duration": 6,
    "start_time": "2022-05-13T07:36:35.650Z"
   },
   {
    "duration": 264,
    "start_time": "2022-05-13T07:36:35.657Z"
   },
   {
    "duration": 242,
    "start_time": "2022-05-13T07:36:35.923Z"
   },
   {
    "duration": 179,
    "start_time": "2022-05-13T07:36:36.166Z"
   },
   {
    "duration": 304,
    "start_time": "2022-05-13T07:36:36.346Z"
   },
   {
    "duration": 182,
    "start_time": "2022-05-13T07:36:36.652Z"
   },
   {
    "duration": 281,
    "start_time": "2022-05-13T07:36:36.835Z"
   },
   {
    "duration": 11,
    "start_time": "2022-05-13T07:36:37.117Z"
   },
   {
    "duration": 123,
    "start_time": "2022-05-13T07:36:37.130Z"
   },
   {
    "duration": 12,
    "start_time": "2022-05-13T07:36:37.254Z"
   },
   {
    "duration": 9,
    "start_time": "2022-05-13T07:37:24.058Z"
   },
   {
    "duration": 161,
    "start_time": "2022-05-13T07:38:24.665Z"
   },
   {
    "duration": 3,
    "start_time": "2022-05-13T07:40:28.817Z"
   },
   {
    "duration": 5,
    "start_time": "2022-05-13T07:40:28.823Z"
   },
   {
    "duration": 66,
    "start_time": "2022-05-13T07:40:28.829Z"
   },
   {
    "duration": 35,
    "start_time": "2022-05-13T07:40:28.896Z"
   },
   {
    "duration": 31,
    "start_time": "2022-05-13T07:40:28.933Z"
   },
   {
    "duration": 35,
    "start_time": "2022-05-13T07:40:28.966Z"
   },
   {
    "duration": 26,
    "start_time": "2022-05-13T07:40:29.003Z"
   },
   {
    "duration": 12,
    "start_time": "2022-05-13T07:40:29.031Z"
   },
   {
    "duration": 12,
    "start_time": "2022-05-13T07:40:29.044Z"
   },
   {
    "duration": 42,
    "start_time": "2022-05-13T07:40:29.058Z"
   },
   {
    "duration": 13,
    "start_time": "2022-05-13T07:40:29.103Z"
   },
   {
    "duration": 11,
    "start_time": "2022-05-13T07:40:29.118Z"
   },
   {
    "duration": 12,
    "start_time": "2022-05-13T07:40:29.131Z"
   },
   {
    "duration": 5,
    "start_time": "2022-05-13T07:40:29.145Z"
   },
   {
    "duration": 10,
    "start_time": "2022-05-13T07:40:29.152Z"
   },
   {
    "duration": 1326,
    "start_time": "2022-05-13T07:40:29.163Z"
   },
   {
    "duration": 0,
    "start_time": "2022-05-13T07:40:30.491Z"
   },
   {
    "duration": 0,
    "start_time": "2022-05-13T07:40:30.492Z"
   },
   {
    "duration": 0,
    "start_time": "2022-05-13T07:40:30.493Z"
   },
   {
    "duration": 0,
    "start_time": "2022-05-13T07:40:30.495Z"
   },
   {
    "duration": 0,
    "start_time": "2022-05-13T07:40:30.496Z"
   },
   {
    "duration": 0,
    "start_time": "2022-05-13T07:40:30.497Z"
   },
   {
    "duration": 0,
    "start_time": "2022-05-13T07:40:30.498Z"
   },
   {
    "duration": 0,
    "start_time": "2022-05-13T07:40:30.499Z"
   },
   {
    "duration": 0,
    "start_time": "2022-05-13T07:40:30.500Z"
   },
   {
    "duration": 3,
    "start_time": "2022-05-13T07:40:57.047Z"
   },
   {
    "duration": 6,
    "start_time": "2022-05-13T07:40:57.051Z"
   },
   {
    "duration": 65,
    "start_time": "2022-05-13T07:40:57.059Z"
   },
   {
    "duration": 30,
    "start_time": "2022-05-13T07:40:57.126Z"
   },
   {
    "duration": 28,
    "start_time": "2022-05-13T07:40:57.157Z"
   },
   {
    "duration": 3,
    "start_time": "2022-05-13T07:40:57.186Z"
   },
   {
    "duration": 39,
    "start_time": "2022-05-13T07:40:57.190Z"
   },
   {
    "duration": 13,
    "start_time": "2022-05-13T07:40:57.230Z"
   },
   {
    "duration": 11,
    "start_time": "2022-05-13T07:40:57.245Z"
   },
   {
    "duration": 11,
    "start_time": "2022-05-13T07:40:57.258Z"
   },
   {
    "duration": 39,
    "start_time": "2022-05-13T07:40:57.271Z"
   },
   {
    "duration": 11,
    "start_time": "2022-05-13T07:40:57.312Z"
   },
   {
    "duration": 10,
    "start_time": "2022-05-13T07:40:57.324Z"
   },
   {
    "duration": 5,
    "start_time": "2022-05-13T07:40:57.335Z"
   },
   {
    "duration": 9,
    "start_time": "2022-05-13T07:40:57.341Z"
   },
   {
    "duration": 280,
    "start_time": "2022-05-13T07:40:57.351Z"
   },
   {
    "duration": 176,
    "start_time": "2022-05-13T07:40:57.633Z"
   },
   {
    "duration": 178,
    "start_time": "2022-05-13T07:40:57.810Z"
   },
   {
    "duration": 328,
    "start_time": "2022-05-13T07:40:57.989Z"
   },
   {
    "duration": 172,
    "start_time": "2022-05-13T07:40:58.319Z"
   },
   {
    "duration": 276,
    "start_time": "2022-05-13T07:40:58.493Z"
   },
   {
    "duration": 11,
    "start_time": "2022-05-13T07:40:58.770Z"
   },
   {
    "duration": 119,
    "start_time": "2022-05-13T07:40:58.783Z"
   },
   {
    "duration": 11,
    "start_time": "2022-05-13T07:40:58.904Z"
   },
   {
    "duration": 202,
    "start_time": "2022-05-13T07:42:17.121Z"
   },
   {
    "duration": 111,
    "start_time": "2022-05-13T07:46:39.762Z"
   },
   {
    "duration": 3,
    "start_time": "2022-05-13T07:46:59.751Z"
   },
   {
    "duration": 6,
    "start_time": "2022-05-13T07:46:59.756Z"
   },
   {
    "duration": 63,
    "start_time": "2022-05-13T07:46:59.763Z"
   },
   {
    "duration": 30,
    "start_time": "2022-05-13T07:46:59.828Z"
   },
   {
    "duration": 28,
    "start_time": "2022-05-13T07:46:59.860Z"
   },
   {
    "duration": 13,
    "start_time": "2022-05-13T07:46:59.889Z"
   },
   {
    "duration": 27,
    "start_time": "2022-05-13T07:46:59.903Z"
   },
   {
    "duration": 12,
    "start_time": "2022-05-13T07:46:59.931Z"
   },
   {
    "duration": 12,
    "start_time": "2022-05-13T07:46:59.945Z"
   },
   {
    "duration": 13,
    "start_time": "2022-05-13T07:46:59.959Z"
   },
   {
    "duration": 35,
    "start_time": "2022-05-13T07:46:59.974Z"
   },
   {
    "duration": 23,
    "start_time": "2022-05-13T07:47:00.010Z"
   },
   {
    "duration": 10,
    "start_time": "2022-05-13T07:47:00.035Z"
   },
   {
    "duration": 4,
    "start_time": "2022-05-13T07:47:00.047Z"
   },
   {
    "duration": 9,
    "start_time": "2022-05-13T07:47:00.053Z"
   },
   {
    "duration": 275,
    "start_time": "2022-05-13T07:47:00.064Z"
   },
   {
    "duration": 184,
    "start_time": "2022-05-13T07:47:00.340Z"
   },
   {
    "duration": 179,
    "start_time": "2022-05-13T07:47:00.526Z"
   },
   {
    "duration": 266,
    "start_time": "2022-05-13T07:47:00.707Z"
   },
   {
    "duration": 177,
    "start_time": "2022-05-13T07:47:00.975Z"
   },
   {
    "duration": 272,
    "start_time": "2022-05-13T07:47:01.153Z"
   },
   {
    "duration": 11,
    "start_time": "2022-05-13T07:47:01.426Z"
   },
   {
    "duration": 167,
    "start_time": "2022-05-13T07:47:01.439Z"
   },
   {
    "duration": 0,
    "start_time": "2022-05-13T07:47:01.608Z"
   },
   {
    "duration": 0,
    "start_time": "2022-05-13T07:47:01.609Z"
   },
   {
    "duration": 3,
    "start_time": "2022-05-13T07:47:06.832Z"
   },
   {
    "duration": 20,
    "start_time": "2022-05-13T07:47:06.837Z"
   },
   {
    "duration": 86,
    "start_time": "2022-05-13T07:47:06.859Z"
   },
   {
    "duration": 30,
    "start_time": "2022-05-13T07:47:06.947Z"
   },
   {
    "duration": 44,
    "start_time": "2022-05-13T07:47:06.978Z"
   },
   {
    "duration": 3,
    "start_time": "2022-05-13T07:47:07.023Z"
   },
   {
    "duration": 41,
    "start_time": "2022-05-13T07:47:07.028Z"
   },
   {
    "duration": 35,
    "start_time": "2022-05-13T07:47:07.070Z"
   },
   {
    "duration": 31,
    "start_time": "2022-05-13T07:47:07.107Z"
   },
   {
    "duration": 26,
    "start_time": "2022-05-13T07:47:07.140Z"
   },
   {
    "duration": 37,
    "start_time": "2022-05-13T07:47:07.168Z"
   },
   {
    "duration": 15,
    "start_time": "2022-05-13T07:47:07.207Z"
   },
   {
    "duration": 24,
    "start_time": "2022-05-13T07:47:07.224Z"
   },
   {
    "duration": 13,
    "start_time": "2022-05-13T07:47:07.249Z"
   },
   {
    "duration": 25,
    "start_time": "2022-05-13T07:47:07.263Z"
   },
   {
    "duration": 278,
    "start_time": "2022-05-13T07:47:07.289Z"
   },
   {
    "duration": 174,
    "start_time": "2022-05-13T07:47:07.569Z"
   },
   {
    "duration": 240,
    "start_time": "2022-05-13T07:47:07.745Z"
   },
   {
    "duration": 274,
    "start_time": "2022-05-13T07:47:07.986Z"
   },
   {
    "duration": 177,
    "start_time": "2022-05-13T07:47:08.262Z"
   },
   {
    "duration": 254,
    "start_time": "2022-05-13T07:47:08.440Z"
   },
   {
    "duration": 12,
    "start_time": "2022-05-13T07:47:08.699Z"
   },
   {
    "duration": 123,
    "start_time": "2022-05-13T07:47:08.712Z"
   },
   {
    "duration": 12,
    "start_time": "2022-05-13T07:47:08.838Z"
   },
   {
    "duration": 5,
    "start_time": "2022-05-13T07:49:22.412Z"
   },
   {
    "duration": 5,
    "start_time": "2022-05-13T07:51:00.778Z"
   },
   {
    "duration": 101,
    "start_time": "2022-05-13T08:04:26.915Z"
   },
   {
    "duration": 108,
    "start_time": "2022-05-13T08:04:59.287Z"
   },
   {
    "duration": 106,
    "start_time": "2022-05-13T08:05:08.780Z"
   },
   {
    "duration": 107,
    "start_time": "2022-05-13T08:06:54.842Z"
   },
   {
    "duration": 100,
    "start_time": "2022-05-13T08:07:10.249Z"
   },
   {
    "duration": 105,
    "start_time": "2022-05-13T08:09:07.683Z"
   },
   {
    "duration": 100,
    "start_time": "2022-05-13T08:09:15.948Z"
   },
   {
    "duration": 176,
    "start_time": "2022-05-13T08:09:23.798Z"
   },
   {
    "duration": 100,
    "start_time": "2022-05-13T08:09:31.025Z"
   },
   {
    "duration": 5,
    "start_time": "2022-05-13T08:13:46.674Z"
   },
   {
    "duration": 158,
    "start_time": "2022-05-13T08:15:18.759Z"
   },
   {
    "duration": 98,
    "start_time": "2022-05-13T08:15:29.609Z"
   },
   {
    "duration": 6,
    "start_time": "2022-05-13T08:47:15.209Z"
   },
   {
    "duration": 4,
    "start_time": "2022-05-13T08:48:03.008Z"
   },
   {
    "duration": 5,
    "start_time": "2022-05-13T08:48:08.163Z"
   },
   {
    "duration": 95,
    "start_time": "2022-05-13T09:13:52.389Z"
   },
   {
    "duration": 48,
    "start_time": "2022-05-13T09:15:47.934Z"
   },
   {
    "duration": 23,
    "start_time": "2022-05-13T09:17:53.950Z"
   },
   {
    "duration": 98,
    "start_time": "2022-05-13T09:26:57.057Z"
   },
   {
    "duration": 190,
    "start_time": "2022-05-13T09:28:18.529Z"
   },
   {
    "duration": 153,
    "start_time": "2022-05-13T09:29:04.695Z"
   },
   {
    "duration": 245,
    "start_time": "2022-05-13T09:29:24.400Z"
   },
   {
    "duration": 319,
    "start_time": "2022-05-13T09:32:45.327Z"
   },
   {
    "duration": 370,
    "start_time": "2022-05-13T09:33:26.397Z"
   },
   {
    "duration": 162,
    "start_time": "2022-05-13T09:34:19.701Z"
   },
   {
    "duration": 151,
    "start_time": "2022-05-13T09:34:27.170Z"
   },
   {
    "duration": 274,
    "start_time": "2022-05-13T09:34:46.040Z"
   },
   {
    "duration": 150,
    "start_time": "2022-05-13T09:39:04.170Z"
   },
   {
    "duration": 169,
    "start_time": "2022-05-13T09:40:13.155Z"
   },
   {
    "duration": 153,
    "start_time": "2022-05-13T09:45:27.370Z"
   },
   {
    "duration": 142,
    "start_time": "2022-05-13T09:45:35.568Z"
   },
   {
    "duration": 176,
    "start_time": "2022-05-13T09:45:50.434Z"
   },
   {
    "duration": 156,
    "start_time": "2022-05-13T09:45:54.467Z"
   },
   {
    "duration": 173,
    "start_time": "2022-05-13T09:45:58.470Z"
   },
   {
    "duration": 164,
    "start_time": "2022-05-13T09:46:15.682Z"
   },
   {
    "duration": 162,
    "start_time": "2022-05-13T09:46:39.819Z"
   },
   {
    "duration": 201,
    "start_time": "2022-05-13T09:47:07.170Z"
   },
   {
    "duration": 11,
    "start_time": "2022-05-13T09:48:16.025Z"
   },
   {
    "duration": 4,
    "start_time": "2022-05-13T10:03:30.827Z"
   },
   {
    "duration": 24,
    "start_time": "2022-05-13T10:03:30.833Z"
   },
   {
    "duration": 140,
    "start_time": "2022-05-13T10:03:30.859Z"
   },
   {
    "duration": 45,
    "start_time": "2022-05-13T10:03:31.002Z"
   },
   {
    "duration": 29,
    "start_time": "2022-05-13T10:03:31.048Z"
   },
   {
    "duration": 29,
    "start_time": "2022-05-13T10:03:31.079Z"
   },
   {
    "duration": 59,
    "start_time": "2022-05-13T10:03:31.110Z"
   },
   {
    "duration": 12,
    "start_time": "2022-05-13T10:03:31.171Z"
   },
   {
    "duration": 59,
    "start_time": "2022-05-13T10:03:31.185Z"
   },
   {
    "duration": 23,
    "start_time": "2022-05-13T10:03:31.246Z"
   },
   {
    "duration": 16,
    "start_time": "2022-05-13T10:03:31.271Z"
   },
   {
    "duration": 19,
    "start_time": "2022-05-13T10:03:31.288Z"
   },
   {
    "duration": 35,
    "start_time": "2022-05-13T10:03:31.309Z"
   },
   {
    "duration": 23,
    "start_time": "2022-05-13T10:03:31.346Z"
   },
   {
    "duration": 39,
    "start_time": "2022-05-13T10:03:31.371Z"
   },
   {
    "duration": 316,
    "start_time": "2022-05-13T10:03:31.415Z"
   },
   {
    "duration": 211,
    "start_time": "2022-05-13T10:03:31.732Z"
   },
   {
    "duration": 214,
    "start_time": "2022-05-13T10:03:31.944Z"
   },
   {
    "duration": 292,
    "start_time": "2022-05-13T10:03:32.159Z"
   },
   {
    "duration": 206,
    "start_time": "2022-05-13T10:03:32.452Z"
   },
   {
    "duration": 304,
    "start_time": "2022-05-13T10:03:32.660Z"
   },
   {
    "duration": 11,
    "start_time": "2022-05-13T10:03:32.966Z"
   },
   {
    "duration": 127,
    "start_time": "2022-05-13T10:03:32.979Z"
   },
   {
    "duration": 8,
    "start_time": "2022-05-13T10:03:33.108Z"
   },
   {
    "duration": 142,
    "start_time": "2022-05-13T10:03:33.118Z"
   },
   {
    "duration": 4,
    "start_time": "2022-05-13T10:03:33.262Z"
   },
   {
    "duration": 319,
    "start_time": "2022-05-13T10:03:33.268Z"
   },
   {
    "duration": 199,
    "start_time": "2022-05-13T10:03:33.590Z"
   },
   {
    "duration": 22,
    "start_time": "2022-05-13T10:03:33.791Z"
   },
   {
    "duration": 48,
    "start_time": "2022-05-13T10:03:33.815Z"
   },
   {
    "duration": 84,
    "start_time": "2022-05-13T10:03:33.865Z"
   },
   {
    "duration": 2,
    "start_time": "2022-05-13T10:14:04.014Z"
   },
   {
    "duration": 4,
    "start_time": "2022-05-13T10:14:04.114Z"
   },
   {
    "duration": 257,
    "start_time": "2022-05-13T10:14:04.121Z"
   },
   {
    "duration": 33,
    "start_time": "2022-05-13T10:14:04.380Z"
   },
   {
    "duration": 39,
    "start_time": "2022-05-13T10:14:04.415Z"
   },
   {
    "duration": 17,
    "start_time": "2022-05-13T10:14:04.455Z"
   },
   {
    "duration": 38,
    "start_time": "2022-05-13T10:14:04.474Z"
   },
   {
    "duration": 34,
    "start_time": "2022-05-13T10:14:04.514Z"
   },
   {
    "duration": 29,
    "start_time": "2022-05-13T10:14:04.549Z"
   },
   {
    "duration": 56,
    "start_time": "2022-05-13T10:14:04.580Z"
   },
   {
    "duration": 55,
    "start_time": "2022-05-13T10:14:04.638Z"
   },
   {
    "duration": 49,
    "start_time": "2022-05-13T10:14:04.695Z"
   },
   {
    "duration": 27,
    "start_time": "2022-05-13T10:14:04.745Z"
   },
   {
    "duration": 44,
    "start_time": "2022-05-13T10:14:04.774Z"
   },
   {
    "duration": 38,
    "start_time": "2022-05-13T10:14:04.821Z"
   },
   {
    "duration": 329,
    "start_time": "2022-05-13T10:14:04.861Z"
   },
   {
    "duration": 177,
    "start_time": "2022-05-13T10:14:05.192Z"
   },
   {
    "duration": 190,
    "start_time": "2022-05-13T10:14:05.371Z"
   },
   {
    "duration": 273,
    "start_time": "2022-05-13T10:14:05.563Z"
   },
   {
    "duration": 178,
    "start_time": "2022-05-13T10:14:05.838Z"
   },
   {
    "duration": 268,
    "start_time": "2022-05-13T10:14:06.018Z"
   },
   {
    "duration": 23,
    "start_time": "2022-05-13T10:14:06.288Z"
   },
   {
    "duration": 116,
    "start_time": "2022-05-13T10:14:06.313Z"
   },
   {
    "duration": 5,
    "start_time": "2022-05-13T10:14:06.430Z"
   },
   {
    "duration": 118,
    "start_time": "2022-05-13T10:14:06.436Z"
   },
   {
    "duration": 5,
    "start_time": "2022-05-13T10:14:06.556Z"
   },
   {
    "duration": 229,
    "start_time": "2022-05-13T10:14:06.562Z"
   },
   {
    "duration": 158,
    "start_time": "2022-05-13T10:14:06.793Z"
   },
   {
    "duration": 9,
    "start_time": "2022-05-13T10:14:06.952Z"
   },
   {
    "duration": 31,
    "start_time": "2022-05-13T10:14:06.963Z"
   },
   {
    "duration": 137,
    "start_time": "2022-05-13T10:18:01.644Z"
   },
   {
    "duration": 193,
    "start_time": "2022-05-13T10:20:44.140Z"
   },
   {
    "duration": 154,
    "start_time": "2022-05-13T10:22:30.043Z"
   },
   {
    "duration": 167,
    "start_time": "2022-05-13T10:23:01.604Z"
   },
   {
    "duration": 181,
    "start_time": "2022-05-13T10:23:08.393Z"
   },
   {
    "duration": 233,
    "start_time": "2022-05-13T10:23:48.584Z"
   },
   {
    "duration": 5,
    "start_time": "2022-05-13T10:25:55.579Z"
   },
   {
    "duration": 4,
    "start_time": "2022-05-13T10:26:03.640Z"
   },
   {
    "duration": 9,
    "start_time": "2022-05-13T10:26:47.125Z"
   },
   {
    "duration": 171,
    "start_time": "2022-05-13T10:32:40.412Z"
   },
   {
    "duration": 158,
    "start_time": "2022-05-13T10:33:43.200Z"
   },
   {
    "duration": 13,
    "start_time": "2022-05-13T10:34:40.336Z"
   },
   {
    "duration": 17,
    "start_time": "2022-05-13T10:36:07.444Z"
   },
   {
    "duration": 11,
    "start_time": "2022-05-13T10:36:14.099Z"
   },
   {
    "duration": 13,
    "start_time": "2022-05-13T10:37:31.227Z"
   },
   {
    "duration": 3,
    "start_time": "2022-05-13T10:37:38.569Z"
   },
   {
    "duration": 11,
    "start_time": "2022-05-13T10:37:43.864Z"
   },
   {
    "duration": 157,
    "start_time": "2022-05-13T10:37:54.872Z"
   },
   {
    "duration": 13,
    "start_time": "2022-05-13T10:38:28.265Z"
   },
   {
    "duration": 10,
    "start_time": "2022-05-13T10:38:47.737Z"
   },
   {
    "duration": 10,
    "start_time": "2022-05-13T10:39:05.871Z"
   },
   {
    "duration": 2913,
    "start_time": "2022-05-13T10:57:24.385Z"
   },
   {
    "duration": 2694,
    "start_time": "2022-05-13T10:58:16.550Z"
   },
   {
    "duration": 9,
    "start_time": "2022-05-13T10:58:34.399Z"
   },
   {
    "duration": 2896,
    "start_time": "2022-05-13T10:59:15.612Z"
   },
   {
    "duration": 0,
    "start_time": "2022-05-13T10:59:18.510Z"
   },
   {
    "duration": 7,
    "start_time": "2022-05-13T10:59:24.568Z"
   },
   {
    "duration": 2826,
    "start_time": "2022-05-13T10:59:37.755Z"
   },
   {
    "duration": 8,
    "start_time": "2022-05-13T11:00:09.173Z"
   },
   {
    "duration": 2935,
    "start_time": "2022-05-13T11:00:25.691Z"
   },
   {
    "duration": 144,
    "start_time": "2022-05-13T11:01:18.938Z"
   },
   {
    "duration": 12,
    "start_time": "2022-05-13T11:01:25.795Z"
   },
   {
    "duration": 7,
    "start_time": "2022-05-13T11:01:34.095Z"
   },
   {
    "duration": 8,
    "start_time": "2022-05-13T11:01:39.519Z"
   },
   {
    "duration": 299,
    "start_time": "2022-05-13T11:02:05.855Z"
   },
   {
    "duration": 14,
    "start_time": "2022-05-13T11:02:08.972Z"
   },
   {
    "duration": 11,
    "start_time": "2022-05-13T11:02:18.663Z"
   },
   {
    "duration": 11,
    "start_time": "2022-05-13T11:02:18.840Z"
   },
   {
    "duration": 4,
    "start_time": "2022-05-13T11:02:42.795Z"
   },
   {
    "duration": 7,
    "start_time": "2022-05-13T11:02:52.169Z"
   },
   {
    "duration": 6,
    "start_time": "2022-05-13T11:02:54.561Z"
   },
   {
    "duration": 7,
    "start_time": "2022-05-13T11:03:09.265Z"
   },
   {
    "duration": 4,
    "start_time": "2022-05-13T11:03:09.536Z"
   },
   {
    "duration": 9,
    "start_time": "2022-05-13T11:03:31.678Z"
   },
   {
    "duration": 8,
    "start_time": "2022-05-13T11:33:14.815Z"
   },
   {
    "duration": 6,
    "start_time": "2022-05-13T11:33:25.024Z"
   },
   {
    "duration": 4,
    "start_time": "2022-05-13T11:33:38.127Z"
   },
   {
    "duration": 8,
    "start_time": "2022-05-13T11:33:44.382Z"
   },
   {
    "duration": 3497,
    "start_time": "2022-05-13T11:38:29.478Z"
   },
   {
    "duration": 20,
    "start_time": "2022-05-13T11:39:01.688Z"
   },
   {
    "duration": 10,
    "start_time": "2022-05-13T11:40:42.283Z"
   },
   {
    "duration": 9,
    "start_time": "2022-05-13T11:40:54.525Z"
   },
   {
    "duration": 12,
    "start_time": "2022-05-13T11:41:25.613Z"
   },
   {
    "duration": 3,
    "start_time": "2022-05-13T11:42:22.440Z"
   },
   {
    "duration": 9,
    "start_time": "2022-05-13T11:42:22.444Z"
   },
   {
    "duration": 179,
    "start_time": "2022-05-13T11:42:22.454Z"
   },
   {
    "duration": 29,
    "start_time": "2022-05-13T11:42:22.635Z"
   },
   {
    "duration": 29,
    "start_time": "2022-05-13T11:42:22.665Z"
   },
   {
    "duration": 7,
    "start_time": "2022-05-13T11:42:22.696Z"
   },
   {
    "duration": 33,
    "start_time": "2022-05-13T11:42:22.705Z"
   },
   {
    "duration": 12,
    "start_time": "2022-05-13T11:42:22.740Z"
   },
   {
    "duration": 11,
    "start_time": "2022-05-13T11:42:22.755Z"
   },
   {
    "duration": 11,
    "start_time": "2022-05-13T11:42:22.767Z"
   },
   {
    "duration": 36,
    "start_time": "2022-05-13T11:42:22.780Z"
   },
   {
    "duration": 17,
    "start_time": "2022-05-13T11:42:22.817Z"
   },
   {
    "duration": 16,
    "start_time": "2022-05-13T11:42:22.836Z"
   },
   {
    "duration": 21,
    "start_time": "2022-05-13T11:42:22.854Z"
   },
   {
    "duration": 21,
    "start_time": "2022-05-13T11:42:22.877Z"
   },
   {
    "duration": 268,
    "start_time": "2022-05-13T11:42:22.904Z"
   },
   {
    "duration": 197,
    "start_time": "2022-05-13T11:42:23.174Z"
   },
   {
    "duration": 185,
    "start_time": "2022-05-13T11:42:23.373Z"
   },
   {
    "duration": 297,
    "start_time": "2022-05-13T11:42:23.560Z"
   },
   {
    "duration": 247,
    "start_time": "2022-05-13T11:42:23.859Z"
   },
   {
    "duration": 295,
    "start_time": "2022-05-13T11:42:24.108Z"
   },
   {
    "duration": 13,
    "start_time": "2022-05-13T11:42:24.405Z"
   },
   {
    "duration": 125,
    "start_time": "2022-05-13T11:42:24.419Z"
   },
   {
    "duration": 4,
    "start_time": "2022-05-13T11:42:24.547Z"
   },
   {
    "duration": 121,
    "start_time": "2022-05-13T11:42:24.552Z"
   },
   {
    "duration": 5,
    "start_time": "2022-05-13T11:42:24.675Z"
   },
   {
    "duration": 226,
    "start_time": "2022-05-13T11:42:24.681Z"
   },
   {
    "duration": 159,
    "start_time": "2022-05-13T11:42:24.909Z"
   },
   {
    "duration": 10,
    "start_time": "2022-05-13T11:42:25.070Z"
   },
   {
    "duration": 31,
    "start_time": "2022-05-13T11:42:25.082Z"
   },
   {
    "duration": 12,
    "start_time": "2022-05-13T11:42:25.114Z"
   },
   {
    "duration": 2908,
    "start_time": "2022-05-13T11:47:03.571Z"
   },
   {
    "duration": 8,
    "start_time": "2022-05-13T11:47:33.180Z"
   },
   {
    "duration": 9,
    "start_time": "2022-05-13T11:47:45.044Z"
   },
   {
    "duration": 10,
    "start_time": "2022-05-13T11:48:21.630Z"
   },
   {
    "duration": 2620,
    "start_time": "2022-05-13T11:48:40.647Z"
   },
   {
    "duration": 26,
    "start_time": "2022-05-13T11:48:57.229Z"
   },
   {
    "duration": 1621,
    "start_time": "2022-05-14T04:42:27.420Z"
   },
   {
    "duration": 8,
    "start_time": "2022-05-14T04:42:29.044Z"
   },
   {
    "duration": 132,
    "start_time": "2022-05-14T04:42:29.059Z"
   },
   {
    "duration": 58,
    "start_time": "2022-05-14T04:42:29.194Z"
   },
   {
    "duration": 50,
    "start_time": "2022-05-14T04:42:29.261Z"
   },
   {
    "duration": 5,
    "start_time": "2022-05-14T04:42:29.313Z"
   },
   {
    "duration": 66,
    "start_time": "2022-05-14T04:42:29.320Z"
   },
   {
    "duration": 20,
    "start_time": "2022-05-14T04:42:29.389Z"
   },
   {
    "duration": 48,
    "start_time": "2022-05-14T04:42:29.411Z"
   },
   {
    "duration": 17,
    "start_time": "2022-05-14T04:42:29.465Z"
   },
   {
    "duration": 20,
    "start_time": "2022-05-14T04:42:29.485Z"
   },
   {
    "duration": 51,
    "start_time": "2022-05-14T04:42:29.507Z"
   },
   {
    "duration": 21,
    "start_time": "2022-05-14T04:42:29.561Z"
   },
   {
    "duration": 8,
    "start_time": "2022-05-14T04:42:29.584Z"
   },
   {
    "duration": 13,
    "start_time": "2022-05-14T04:42:29.594Z"
   },
   {
    "duration": 486,
    "start_time": "2022-05-14T04:42:29.610Z"
   },
   {
    "duration": 468,
    "start_time": "2022-05-14T04:42:30.099Z"
   },
   {
    "duration": 334,
    "start_time": "2022-05-14T04:42:30.570Z"
   },
   {
    "duration": 471,
    "start_time": "2022-05-14T04:42:30.906Z"
   },
   {
    "duration": 329,
    "start_time": "2022-05-14T04:42:31.379Z"
   },
   {
    "duration": 451,
    "start_time": "2022-05-14T04:42:31.710Z"
   },
   {
    "duration": 21,
    "start_time": "2022-05-14T04:42:32.165Z"
   },
   {
    "duration": 229,
    "start_time": "2022-05-14T04:42:32.188Z"
   },
   {
    "duration": 8,
    "start_time": "2022-05-14T04:42:32.420Z"
   },
   {
    "duration": 202,
    "start_time": "2022-05-14T04:42:32.430Z"
   },
   {
    "duration": 18,
    "start_time": "2022-05-14T04:42:32.635Z"
   },
   {
    "duration": 380,
    "start_time": "2022-05-14T04:42:32.655Z"
   },
   {
    "duration": 274,
    "start_time": "2022-05-14T04:42:33.039Z"
   },
   {
    "duration": 15,
    "start_time": "2022-05-14T04:42:33.315Z"
   },
   {
    "duration": 33,
    "start_time": "2022-05-14T04:42:33.332Z"
   },
   {
    "duration": 17,
    "start_time": "2022-05-14T04:42:33.367Z"
   },
   {
    "duration": 285,
    "start_time": "2022-05-14T04:42:33.387Z"
   },
   {
    "duration": 16,
    "start_time": "2022-05-14T04:42:33.674Z"
   },
   {
    "duration": 1628,
    "start_time": "2022-05-15T04:11:35.117Z"
   },
   {
    "duration": 7,
    "start_time": "2022-05-15T04:11:36.748Z"
   },
   {
    "duration": 134,
    "start_time": "2022-05-15T04:11:36.763Z"
   },
   {
    "duration": 59,
    "start_time": "2022-05-15T04:11:36.900Z"
   },
   {
    "duration": 48,
    "start_time": "2022-05-15T04:11:36.962Z"
   },
   {
    "duration": 4,
    "start_time": "2022-05-15T04:11:37.012Z"
   },
   {
    "duration": 74,
    "start_time": "2022-05-15T04:11:37.018Z"
   },
   {
    "duration": 20,
    "start_time": "2022-05-15T04:11:37.095Z"
   },
   {
    "duration": 21,
    "start_time": "2022-05-15T04:11:37.152Z"
   },
   {
    "duration": 16,
    "start_time": "2022-05-15T04:11:37.175Z"
   },
   {
    "duration": 25,
    "start_time": "2022-05-15T04:11:37.194Z"
   },
   {
    "duration": 52,
    "start_time": "2022-05-15T04:11:37.222Z"
   },
   {
    "duration": 13,
    "start_time": "2022-05-15T04:11:37.277Z"
   },
   {
    "duration": 7,
    "start_time": "2022-05-15T04:11:37.293Z"
   },
   {
    "duration": 13,
    "start_time": "2022-05-15T04:11:37.302Z"
   },
   {
    "duration": 523,
    "start_time": "2022-05-15T04:11:37.317Z"
   },
   {
    "duration": 466,
    "start_time": "2022-05-15T04:11:37.843Z"
   },
   {
    "duration": 354,
    "start_time": "2022-05-15T04:11:38.311Z"
   },
   {
    "duration": 414,
    "start_time": "2022-05-15T04:11:38.669Z"
   },
   {
    "duration": 339,
    "start_time": "2022-05-15T04:11:39.086Z"
   },
   {
    "duration": 445,
    "start_time": "2022-05-15T04:11:39.428Z"
   },
   {
    "duration": 17,
    "start_time": "2022-05-15T04:11:39.876Z"
   },
   {
    "duration": 237,
    "start_time": "2022-05-15T04:11:39.896Z"
   },
   {
    "duration": 20,
    "start_time": "2022-05-15T04:11:40.136Z"
   },
   {
    "duration": 204,
    "start_time": "2022-05-15T04:11:40.159Z"
   },
   {
    "duration": 7,
    "start_time": "2022-05-15T04:11:40.367Z"
   },
   {
    "duration": 307,
    "start_time": "2022-05-15T04:11:40.380Z"
   },
   {
    "duration": 15,
    "start_time": "2022-05-15T04:11:40.689Z"
   },
   {
    "duration": 12,
    "start_time": "2022-05-15T04:11:40.706Z"
   },
   {
    "duration": 34,
    "start_time": "2022-05-15T04:11:40.721Z"
   },
   {
    "duration": 282,
    "start_time": "2022-05-15T04:11:40.759Z"
   },
   {
    "duration": 23,
    "start_time": "2022-05-15T04:11:41.044Z"
   }
  ],
  "kernelspec": {
   "display_name": "Python 3 (ipykernel)",
   "language": "python",
   "name": "python3"
  },
  "language_info": {
   "codemirror_mode": {
    "name": "ipython",
    "version": 3
   },
   "file_extension": ".py",
   "mimetype": "text/x-python",
   "name": "python",
   "nbconvert_exporter": "python",
   "pygments_lexer": "ipython3",
   "version": "3.9.7"
  },
  "toc": {
   "base_numbering": 1,
   "nav_menu": {},
   "number_sections": true,
   "sideBar": true,
   "skip_h1_title": true,
   "title_cell": "Содержание",
   "title_sidebar": "Contents",
   "toc_cell": true,
   "toc_position": {},
   "toc_section_display": true,
   "toc_window_display": false
  }
 },
 "nbformat": 4,
 "nbformat_minor": 2
}
