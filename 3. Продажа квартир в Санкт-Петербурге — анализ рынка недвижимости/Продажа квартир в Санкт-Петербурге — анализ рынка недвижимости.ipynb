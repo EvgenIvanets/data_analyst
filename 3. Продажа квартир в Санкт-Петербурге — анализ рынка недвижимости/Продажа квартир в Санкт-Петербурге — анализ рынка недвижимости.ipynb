{
 "cells": [
  {
   "cell_type": "markdown",
   "metadata": {},
   "source": [
    "# Исследование объявлений о продаже квартир\n",
    "\n",
    "В нашем распоряжении данные сервиса Яндекc Недвижимость — архив объявлений о продаже квартир в Санкт-Петербурге и соседних населённых пунктах за несколько лет. Нужно научиться определять рыночную стоимость объектов недвижимости. Наша задача — установить параметры. Это позволит построить автоматизированную систему: она отследит аномалии и мошенническую деятельность. \n",
    "\n",
    "По каждой квартире на продажу доступны два вида данных. Первые вписаны пользователем, вторые получены автоматически на основе картографических данных. Например, расстояние до центра, аэропорта, ближайшего парка и водоёма. "
   ]
  },
  {
   "cell_type": "markdown",
   "metadata": {
    "toc": true
   },
   "source": [
    "<h1>Содержание<span class=\"tocSkip\"></span></h1>\n",
    "<div class=\"toc\"><ul class=\"toc-item\"><li><span><a href=\"#Изучение-данных-из-файла\" data-toc-modified-id=\"Изучение-данных-из-файла-1\"><span class=\"toc-item-num\">1&nbsp;&nbsp;</span>Изучение данных из файла</a></span></li><li><span><a href=\"#Предобработка-данных\" data-toc-modified-id=\"Предобработка-данных-2\"><span class=\"toc-item-num\">2&nbsp;&nbsp;</span>Предобработка данных</a></span><ul class=\"toc-item\"><li><span><a href=\"#Стиль-заголовков\" data-toc-modified-id=\"Стиль-заголовков-2.1\"><span class=\"toc-item-num\">2.1&nbsp;&nbsp;</span>Стиль заголовков</a></span></li><li><span><a href=\"#Обработка-пропусков\" data-toc-modified-id=\"Обработка-пропусков-2.2\"><span class=\"toc-item-num\">2.2&nbsp;&nbsp;</span>Обработка пропусков</a></span></li><li><span><a href=\"#Замена-типа-данных\" data-toc-modified-id=\"Замена-типа-данных-2.3\"><span class=\"toc-item-num\">2.3&nbsp;&nbsp;</span>Замена типа данных</a></span></li></ul></li><li><span><a href=\"#Расчёты-и-добавление-результатов-в-таблицу\" data-toc-modified-id=\"Расчёты-и-добавление-результатов-в-таблицу-3\"><span class=\"toc-item-num\">3&nbsp;&nbsp;</span>Расчёты и добавление результатов в таблицу</a></span></li><li><span><a href=\"#Исследовательский-анализ-данных\" data-toc-modified-id=\"Исследовательский-анализ-данных-4\"><span class=\"toc-item-num\">4&nbsp;&nbsp;</span>Исследовательский анализ данных</a></span><ul class=\"toc-item\"><li><span><a href=\"#Изучение-основных-параметров\" data-toc-modified-id=\"Изучение-основных-параметров-4.1\"><span class=\"toc-item-num\">4.1&nbsp;&nbsp;</span>Изучение основных параметров</a></span></li><li><span><a href=\"#Изучение-времени-продажи-квартир\" data-toc-modified-id=\"Изучение-времени-продажи-квартир-4.2\"><span class=\"toc-item-num\">4.2&nbsp;&nbsp;</span>Изучение времени продажи квартир</a></span></li><li><span><a href=\"#Удаление-редких-и-выбивающихся-значений\" data-toc-modified-id=\"Удаление-редких-и-выбивающихся-значений-4.3\"><span class=\"toc-item-num\">4.3&nbsp;&nbsp;</span>Удаление редких и выбивающихся значений</a></span></li><li><span><a href=\"#Изучение-взаимосвязей-в-данных\" data-toc-modified-id=\"Изучение-взаимосвязей-в-данных-4.4\"><span class=\"toc-item-num\">4.4&nbsp;&nbsp;</span>Изучение взаимосвязей в данных</a></span></li><li><span><a href=\"#Анализ-10-населенных-пунктов-с-наибольшим-числом-объявлений.\" data-toc-modified-id=\"Анализ-10-населенных-пунктов-с-наибольшим-числом-объявлений.-4.5\"><span class=\"toc-item-num\">4.5&nbsp;&nbsp;</span>Анализ 10 населенных пунктов с наибольшим числом объявлений.</a></span></li><li><span><a href=\"#Выясняем-какая-область-входит-в-центр-Санкт-Петербурга\" data-toc-modified-id=\"Выясняем-какая-область-входит-в-центр-Санкт-Петербурга-4.6\"><span class=\"toc-item-num\">4.6&nbsp;&nbsp;</span>Выясняем какая область входит в центр Санкт-Петербурга</a></span></li><li><span><a href=\"#Изучение-основных-параметров-для-квартир-расположенных-в-центре\" data-toc-modified-id=\"Изучение-основных-параметров-для-квартир-расположенных-в-центре-4.7\"><span class=\"toc-item-num\">4.7&nbsp;&nbsp;</span>Изучение основных параметров для квартир расположенных в центре</a></span></li><li><span><a href=\"#Изучение-взаимосвязей-в-данных-для-квартир-расположенных-в-центре.\" data-toc-modified-id=\"Изучение-взаимосвязей-в-данных-для-квартир-расположенных-в-центре.-4.8\"><span class=\"toc-item-num\">4.8&nbsp;&nbsp;</span>Изучение взаимосвязей в данных для квартир расположенных в центре.</a></span></li></ul></li><li><span><a href=\"#Общий-вывод\" data-toc-modified-id=\"Общий-вывод-5\"><span class=\"toc-item-num\">5&nbsp;&nbsp;</span>Общий вывод</a></span></li></ul></div>"
   ]
  },
  {
   "cell_type": "markdown",
   "metadata": {},
   "source": [
    "## Изучение данных из файла"
   ]
  },
  {
   "cell_type": "code",
   "execution_count": 1,
   "metadata": {},
   "outputs": [],
   "source": [
    "import pandas as pd # импорт библиотекb Pandas"
   ]
  },
  {
   "cell_type": "code",
   "execution_count": 2,
   "metadata": {},
   "outputs": [],
   "source": [
    "df = pd.read_csv('real_estate_data.csv', sep='\\t') # чтение файла и сохранение в переменной df"
   ]
  },
  {
   "cell_type": "code",
   "execution_count": 3,
   "metadata": {
    "scrolled": false
   },
   "outputs": [
    {
     "data": {
      "text/html": [
       "<div>\n",
       "<style scoped>\n",
       "    .dataframe tbody tr th:only-of-type {\n",
       "        vertical-align: middle;\n",
       "    }\n",
       "\n",
       "    .dataframe tbody tr th {\n",
       "        vertical-align: top;\n",
       "    }\n",
       "\n",
       "    .dataframe thead th {\n",
       "        text-align: right;\n",
       "    }\n",
       "</style>\n",
       "<table border=\"1\" class=\"dataframe\">\n",
       "  <thead>\n",
       "    <tr style=\"text-align: right;\">\n",
       "      <th></th>\n",
       "      <th>total_images</th>\n",
       "      <th>last_price</th>\n",
       "      <th>total_area</th>\n",
       "      <th>first_day_exposition</th>\n",
       "      <th>rooms</th>\n",
       "      <th>ceiling_height</th>\n",
       "      <th>floors_total</th>\n",
       "      <th>living_area</th>\n",
       "      <th>floor</th>\n",
       "      <th>is_apartment</th>\n",
       "      <th>studio</th>\n",
       "      <th>open_plan</th>\n",
       "      <th>kitchen_area</th>\n",
       "      <th>balcony</th>\n",
       "      <th>locality_name</th>\n",
       "      <th>airports_nearest</th>\n",
       "      <th>cityCenters_nearest</th>\n",
       "      <th>parks_around3000</th>\n",
       "      <th>parks_nearest</th>\n",
       "      <th>ponds_around3000</th>\n",
       "      <th>ponds_nearest</th>\n",
       "      <th>days_exposition</th>\n",
       "    </tr>\n",
       "  </thead>\n",
       "  <tbody>\n",
       "    <tr>\n",
       "      <th>0</th>\n",
       "      <td>20</td>\n",
       "      <td>13000000.0</td>\n",
       "      <td>108.00</td>\n",
       "      <td>2019-03-07T00:00:00</td>\n",
       "      <td>3</td>\n",
       "      <td>2.70</td>\n",
       "      <td>16.0</td>\n",
       "      <td>51.00</td>\n",
       "      <td>8</td>\n",
       "      <td>NaN</td>\n",
       "      <td>False</td>\n",
       "      <td>False</td>\n",
       "      <td>25.00</td>\n",
       "      <td>NaN</td>\n",
       "      <td>Санкт-Петербург</td>\n",
       "      <td>18863.0</td>\n",
       "      <td>16028.0</td>\n",
       "      <td>1.0</td>\n",
       "      <td>482.0</td>\n",
       "      <td>2.0</td>\n",
       "      <td>755.0</td>\n",
       "      <td>NaN</td>\n",
       "    </tr>\n",
       "    <tr>\n",
       "      <th>1</th>\n",
       "      <td>7</td>\n",
       "      <td>3350000.0</td>\n",
       "      <td>40.40</td>\n",
       "      <td>2018-12-04T00:00:00</td>\n",
       "      <td>1</td>\n",
       "      <td>NaN</td>\n",
       "      <td>11.0</td>\n",
       "      <td>18.60</td>\n",
       "      <td>1</td>\n",
       "      <td>NaN</td>\n",
       "      <td>False</td>\n",
       "      <td>False</td>\n",
       "      <td>11.00</td>\n",
       "      <td>2.0</td>\n",
       "      <td>посёлок Шушары</td>\n",
       "      <td>12817.0</td>\n",
       "      <td>18603.0</td>\n",
       "      <td>0.0</td>\n",
       "      <td>NaN</td>\n",
       "      <td>0.0</td>\n",
       "      <td>NaN</td>\n",
       "      <td>81.0</td>\n",
       "    </tr>\n",
       "    <tr>\n",
       "      <th>2</th>\n",
       "      <td>10</td>\n",
       "      <td>5196000.0</td>\n",
       "      <td>56.00</td>\n",
       "      <td>2015-08-20T00:00:00</td>\n",
       "      <td>2</td>\n",
       "      <td>NaN</td>\n",
       "      <td>5.0</td>\n",
       "      <td>34.30</td>\n",
       "      <td>4</td>\n",
       "      <td>NaN</td>\n",
       "      <td>False</td>\n",
       "      <td>False</td>\n",
       "      <td>8.30</td>\n",
       "      <td>0.0</td>\n",
       "      <td>Санкт-Петербург</td>\n",
       "      <td>21741.0</td>\n",
       "      <td>13933.0</td>\n",
       "      <td>1.0</td>\n",
       "      <td>90.0</td>\n",
       "      <td>2.0</td>\n",
       "      <td>574.0</td>\n",
       "      <td>558.0</td>\n",
       "    </tr>\n",
       "    <tr>\n",
       "      <th>3</th>\n",
       "      <td>0</td>\n",
       "      <td>64900000.0</td>\n",
       "      <td>159.00</td>\n",
       "      <td>2015-07-24T00:00:00</td>\n",
       "      <td>3</td>\n",
       "      <td>NaN</td>\n",
       "      <td>14.0</td>\n",
       "      <td>NaN</td>\n",
       "      <td>9</td>\n",
       "      <td>NaN</td>\n",
       "      <td>False</td>\n",
       "      <td>False</td>\n",
       "      <td>NaN</td>\n",
       "      <td>0.0</td>\n",
       "      <td>Санкт-Петербург</td>\n",
       "      <td>28098.0</td>\n",
       "      <td>6800.0</td>\n",
       "      <td>2.0</td>\n",
       "      <td>84.0</td>\n",
       "      <td>3.0</td>\n",
       "      <td>234.0</td>\n",
       "      <td>424.0</td>\n",
       "    </tr>\n",
       "    <tr>\n",
       "      <th>4</th>\n",
       "      <td>2</td>\n",
       "      <td>10000000.0</td>\n",
       "      <td>100.00</td>\n",
       "      <td>2018-06-19T00:00:00</td>\n",
       "      <td>2</td>\n",
       "      <td>3.03</td>\n",
       "      <td>14.0</td>\n",
       "      <td>32.00</td>\n",
       "      <td>13</td>\n",
       "      <td>NaN</td>\n",
       "      <td>False</td>\n",
       "      <td>False</td>\n",
       "      <td>41.00</td>\n",
       "      <td>NaN</td>\n",
       "      <td>Санкт-Петербург</td>\n",
       "      <td>31856.0</td>\n",
       "      <td>8098.0</td>\n",
       "      <td>2.0</td>\n",
       "      <td>112.0</td>\n",
       "      <td>1.0</td>\n",
       "      <td>48.0</td>\n",
       "      <td>121.0</td>\n",
       "    </tr>\n",
       "    <tr>\n",
       "      <th>5</th>\n",
       "      <td>10</td>\n",
       "      <td>2890000.0</td>\n",
       "      <td>30.40</td>\n",
       "      <td>2018-09-10T00:00:00</td>\n",
       "      <td>1</td>\n",
       "      <td>NaN</td>\n",
       "      <td>12.0</td>\n",
       "      <td>14.40</td>\n",
       "      <td>5</td>\n",
       "      <td>NaN</td>\n",
       "      <td>False</td>\n",
       "      <td>False</td>\n",
       "      <td>9.10</td>\n",
       "      <td>NaN</td>\n",
       "      <td>городской посёлок Янино-1</td>\n",
       "      <td>NaN</td>\n",
       "      <td>NaN</td>\n",
       "      <td>NaN</td>\n",
       "      <td>NaN</td>\n",
       "      <td>NaN</td>\n",
       "      <td>NaN</td>\n",
       "      <td>55.0</td>\n",
       "    </tr>\n",
       "    <tr>\n",
       "      <th>6</th>\n",
       "      <td>6</td>\n",
       "      <td>3700000.0</td>\n",
       "      <td>37.30</td>\n",
       "      <td>2017-11-02T00:00:00</td>\n",
       "      <td>1</td>\n",
       "      <td>NaN</td>\n",
       "      <td>26.0</td>\n",
       "      <td>10.60</td>\n",
       "      <td>6</td>\n",
       "      <td>NaN</td>\n",
       "      <td>False</td>\n",
       "      <td>False</td>\n",
       "      <td>14.40</td>\n",
       "      <td>1.0</td>\n",
       "      <td>посёлок Парголово</td>\n",
       "      <td>52996.0</td>\n",
       "      <td>19143.0</td>\n",
       "      <td>0.0</td>\n",
       "      <td>NaN</td>\n",
       "      <td>0.0</td>\n",
       "      <td>NaN</td>\n",
       "      <td>155.0</td>\n",
       "    </tr>\n",
       "    <tr>\n",
       "      <th>7</th>\n",
       "      <td>5</td>\n",
       "      <td>7915000.0</td>\n",
       "      <td>71.60</td>\n",
       "      <td>2019-04-18T00:00:00</td>\n",
       "      <td>2</td>\n",
       "      <td>NaN</td>\n",
       "      <td>24.0</td>\n",
       "      <td>NaN</td>\n",
       "      <td>22</td>\n",
       "      <td>NaN</td>\n",
       "      <td>False</td>\n",
       "      <td>False</td>\n",
       "      <td>18.90</td>\n",
       "      <td>2.0</td>\n",
       "      <td>Санкт-Петербург</td>\n",
       "      <td>23982.0</td>\n",
       "      <td>11634.0</td>\n",
       "      <td>0.0</td>\n",
       "      <td>NaN</td>\n",
       "      <td>0.0</td>\n",
       "      <td>NaN</td>\n",
       "      <td>NaN</td>\n",
       "    </tr>\n",
       "    <tr>\n",
       "      <th>8</th>\n",
       "      <td>20</td>\n",
       "      <td>2900000.0</td>\n",
       "      <td>33.16</td>\n",
       "      <td>2018-05-23T00:00:00</td>\n",
       "      <td>1</td>\n",
       "      <td>NaN</td>\n",
       "      <td>27.0</td>\n",
       "      <td>15.43</td>\n",
       "      <td>26</td>\n",
       "      <td>NaN</td>\n",
       "      <td>False</td>\n",
       "      <td>False</td>\n",
       "      <td>8.81</td>\n",
       "      <td>NaN</td>\n",
       "      <td>посёлок Мурино</td>\n",
       "      <td>NaN</td>\n",
       "      <td>NaN</td>\n",
       "      <td>NaN</td>\n",
       "      <td>NaN</td>\n",
       "      <td>NaN</td>\n",
       "      <td>NaN</td>\n",
       "      <td>189.0</td>\n",
       "    </tr>\n",
       "    <tr>\n",
       "      <th>9</th>\n",
       "      <td>18</td>\n",
       "      <td>5400000.0</td>\n",
       "      <td>61.00</td>\n",
       "      <td>2017-02-26T00:00:00</td>\n",
       "      <td>3</td>\n",
       "      <td>2.50</td>\n",
       "      <td>9.0</td>\n",
       "      <td>43.60</td>\n",
       "      <td>7</td>\n",
       "      <td>NaN</td>\n",
       "      <td>False</td>\n",
       "      <td>False</td>\n",
       "      <td>6.50</td>\n",
       "      <td>2.0</td>\n",
       "      <td>Санкт-Петербург</td>\n",
       "      <td>50898.0</td>\n",
       "      <td>15008.0</td>\n",
       "      <td>0.0</td>\n",
       "      <td>NaN</td>\n",
       "      <td>0.0</td>\n",
       "      <td>NaN</td>\n",
       "      <td>289.0</td>\n",
       "    </tr>\n",
       "  </tbody>\n",
       "</table>\n",
       "</div>"
      ],
      "text/plain": [
       "   total_images  last_price  total_area first_day_exposition  rooms  \\\n",
       "0            20  13000000.0      108.00  2019-03-07T00:00:00      3   \n",
       "1             7   3350000.0       40.40  2018-12-04T00:00:00      1   \n",
       "2            10   5196000.0       56.00  2015-08-20T00:00:00      2   \n",
       "3             0  64900000.0      159.00  2015-07-24T00:00:00      3   \n",
       "4             2  10000000.0      100.00  2018-06-19T00:00:00      2   \n",
       "5            10   2890000.0       30.40  2018-09-10T00:00:00      1   \n",
       "6             6   3700000.0       37.30  2017-11-02T00:00:00      1   \n",
       "7             5   7915000.0       71.60  2019-04-18T00:00:00      2   \n",
       "8            20   2900000.0       33.16  2018-05-23T00:00:00      1   \n",
       "9            18   5400000.0       61.00  2017-02-26T00:00:00      3   \n",
       "\n",
       "   ceiling_height  floors_total  living_area  floor is_apartment  studio  \\\n",
       "0            2.70          16.0        51.00      8          NaN   False   \n",
       "1             NaN          11.0        18.60      1          NaN   False   \n",
       "2             NaN           5.0        34.30      4          NaN   False   \n",
       "3             NaN          14.0          NaN      9          NaN   False   \n",
       "4            3.03          14.0        32.00     13          NaN   False   \n",
       "5             NaN          12.0        14.40      5          NaN   False   \n",
       "6             NaN          26.0        10.60      6          NaN   False   \n",
       "7             NaN          24.0          NaN     22          NaN   False   \n",
       "8             NaN          27.0        15.43     26          NaN   False   \n",
       "9            2.50           9.0        43.60      7          NaN   False   \n",
       "\n",
       "   open_plan  kitchen_area  balcony              locality_name  \\\n",
       "0      False         25.00      NaN            Санкт-Петербург   \n",
       "1      False         11.00      2.0             посёлок Шушары   \n",
       "2      False          8.30      0.0            Санкт-Петербург   \n",
       "3      False           NaN      0.0            Санкт-Петербург   \n",
       "4      False         41.00      NaN            Санкт-Петербург   \n",
       "5      False          9.10      NaN  городской посёлок Янино-1   \n",
       "6      False         14.40      1.0          посёлок Парголово   \n",
       "7      False         18.90      2.0            Санкт-Петербург   \n",
       "8      False          8.81      NaN             посёлок Мурино   \n",
       "9      False          6.50      2.0            Санкт-Петербург   \n",
       "\n",
       "   airports_nearest  cityCenters_nearest  parks_around3000  parks_nearest  \\\n",
       "0           18863.0              16028.0               1.0          482.0   \n",
       "1           12817.0              18603.0               0.0            NaN   \n",
       "2           21741.0              13933.0               1.0           90.0   \n",
       "3           28098.0               6800.0               2.0           84.0   \n",
       "4           31856.0               8098.0               2.0          112.0   \n",
       "5               NaN                  NaN               NaN            NaN   \n",
       "6           52996.0              19143.0               0.0            NaN   \n",
       "7           23982.0              11634.0               0.0            NaN   \n",
       "8               NaN                  NaN               NaN            NaN   \n",
       "9           50898.0              15008.0               0.0            NaN   \n",
       "\n",
       "   ponds_around3000  ponds_nearest  days_exposition  \n",
       "0               2.0          755.0              NaN  \n",
       "1               0.0            NaN             81.0  \n",
       "2               2.0          574.0            558.0  \n",
       "3               3.0          234.0            424.0  \n",
       "4               1.0           48.0            121.0  \n",
       "5               NaN            NaN             55.0  \n",
       "6               0.0            NaN            155.0  \n",
       "7               0.0            NaN              NaN  \n",
       "8               NaN            NaN            189.0  \n",
       "9               0.0            NaN            289.0  "
      ]
     },
     "execution_count": 3,
     "metadata": {},
     "output_type": "execute_result"
    }
   ],
   "source": [
    "pd.set_option('display.max_columns', None)\n",
    "df.head(10)  # выведем на экран первые 10 строк таблицы"
   ]
  },
  {
   "cell_type": "code",
   "execution_count": 4,
   "metadata": {},
   "outputs": [
    {
     "name": "stdout",
     "output_type": "stream",
     "text": [
      "<class 'pandas.core.frame.DataFrame'>\n",
      "RangeIndex: 23699 entries, 0 to 23698\n",
      "Data columns (total 22 columns):\n",
      " #   Column                Non-Null Count  Dtype  \n",
      "---  ------                --------------  -----  \n",
      " 0   total_images          23699 non-null  int64  \n",
      " 1   last_price            23699 non-null  float64\n",
      " 2   total_area            23699 non-null  float64\n",
      " 3   first_day_exposition  23699 non-null  object \n",
      " 4   rooms                 23699 non-null  int64  \n",
      " 5   ceiling_height        14504 non-null  float64\n",
      " 6   floors_total          23613 non-null  float64\n",
      " 7   living_area           21796 non-null  float64\n",
      " 8   floor                 23699 non-null  int64  \n",
      " 9   is_apartment          2775 non-null   object \n",
      " 10  studio                23699 non-null  bool   \n",
      " 11  open_plan             23699 non-null  bool   \n",
      " 12  kitchen_area          21421 non-null  float64\n",
      " 13  balcony               12180 non-null  float64\n",
      " 14  locality_name         23650 non-null  object \n",
      " 15  airports_nearest      18157 non-null  float64\n",
      " 16  cityCenters_nearest   18180 non-null  float64\n",
      " 17  parks_around3000      18181 non-null  float64\n",
      " 18  parks_nearest         8079 non-null   float64\n",
      " 19  ponds_around3000      18181 non-null  float64\n",
      " 20  ponds_nearest         9110 non-null   float64\n",
      " 21  days_exposition       20518 non-null  float64\n",
      "dtypes: bool(2), float64(14), int64(3), object(3)\n",
      "memory usage: 3.7+ MB\n"
     ]
    }
   ],
   "source": [
    "df.info() # получаем общую информацию о данных"
   ]
  },
  {
   "cell_type": "markdown",
   "metadata": {},
   "source": [
    "Итак, в таблице 22 столбца. Типы данных - `int64`, `float64`, `object`, `bool`.\n",
    "\n",
    "Cогласно документации к данным:\n",
    "* `total_images` — число фотографий квартиры в объявлении\n",
    "* `last_price` — цена на момент снятия с публикации\n",
    "* `total_area` — площадь квартиры в квадратных метрах (м²)\n",
    "* `first_day_exposition` — дата публикации\n",
    "* `rooms` — число комнат\n",
    "* `ceiling_height` — высота потолков (м)\n",
    "* `floors_total` — всего этажей в доме\n",
    "* `living_area` — жилая площадь в квадратных метрах (м²)\n",
    "* `floor` — этаж\n",
    "* `is_apartment` — апартаменты (булев тип)\n",
    "* `studio` — квартира-студия (булев тип)\n",
    "* `open_plan` — свободная планировка (булев тип)\n",
    "* `kitchen_area` — площадь кухни в квадратных метрах (м²)\n",
    "* `balcony` — число балконов\n",
    "* `locality_name` — название населённого пункта\n",
    "* `airports_nearest` — расстояние до ближайшего аэропорта в метрах (м)\n",
    "* `cityCenters_nearest` — расстояние до центра города (м)\n",
    "* `parks_around3000` — число парков в радиусе 3 км\n",
    "* `parks_nearest` — расстояние до ближайшего парка (м)\n",
    "* `ponds_around3000` — число водоёмов в радиусе 3 км\n",
    "* `ponds_nearest` — расстояние до ближайшего водоёма (м)\n",
    "* `days_exposition` — сколько дней было размещено объявление (от публикации до снятия)"
   ]
  },
  {
   "cell_type": "markdown",
   "metadata": {},
   "source": [
    "**Вывод:**"
   ]
  },
  {
   "cell_type": "markdown",
   "metadata": {},
   "source": [
    "В названиях некоторых столбцов имеются нарушения общепринятого стиля, в данных встречаются пропуски и их нужно устранить. В столбце `first_day_exposition` тип данных `object` его необходимо преобразовать в `datetime64`, а так же в некоторых столбцах данные имеют тип `float64` необходимо заменить его на `int64`."
   ]
  },
  {
   "cell_type": "markdown",
   "metadata": {},
   "source": [
    "## Предобработка данных"
   ]
  },
  {
   "cell_type": "markdown",
   "metadata": {},
   "source": [
    "### Стиль заголовков"
   ]
  },
  {
   "cell_type": "markdown",
   "metadata": {},
   "source": [
    "В названиях столбцов выявлены несколько нарушений общепринятого стиля, исправим названия:"
   ]
  },
  {
   "cell_type": "code",
   "execution_count": 5,
   "metadata": {},
   "outputs": [],
   "source": [
    "df.rename(\n",
    "    columns={'cityCenters_nearest' : 'city_centers_nearest', \n",
    "             'parks_around3000' : 'parks_around_3000', \n",
    "             'ponds_around3000' : 'ponds_around_3000'}, \n",
    "              inplace = True\n",
    ")"
   ]
  },
  {
   "cell_type": "markdown",
   "metadata": {},
   "source": [
    "### Обработка пропусков"
   ]
  },
  {
   "cell_type": "markdown",
   "metadata": {},
   "source": [
    "Для заполнение пропусков в `ceiling_height` можно использовать среднее значение, но при просмотре таблицы были обнаружены не правдоподобные значения. В соответствии с нормативами  высота потолка должны быть от 2.4м до 4м, в нашем датасете присуствует около 100 значений выпадающих из данного диапазона. Для того чтобы эти выбросы не влияли на среднее арифметическое заменим их на правдоподобные. Средняя высота потолков в России 2.7м, заменим значения выпадающие из диапазона на это число.\n"
   ]
  },
  {
   "cell_type": "markdown",
   "metadata": {},
   "source": [
    "Для замены значений выпадающих из выбранного нами диапазона напишем функцию:"
   ]
  },
  {
   "cell_type": "code",
   "execution_count": 6,
   "metadata": {},
   "outputs": [],
   "source": [
    "def ceiling(row):\n",
    "    if row > 4:\n",
    "        return 2.7\n",
    "    elif row < 2.4:\n",
    "        return 2.7\n",
    "    else:\n",
    "        return row"
   ]
  },
  {
   "cell_type": "markdown",
   "metadata": {},
   "source": [
    "Применим функцию ко всем строкам датафрейма с помощью `apply()`:"
   ]
  },
  {
   "cell_type": "code",
   "execution_count": 7,
   "metadata": {},
   "outputs": [],
   "source": [
    "df['ceiling_height'] = df['ceiling_height'].apply(ceiling)"
   ]
  },
  {
   "cell_type": "markdown",
   "metadata": {},
   "source": [
    "Округлим значения `ceiling_height` до 2х знаков после запятой:"
   ]
  },
  {
   "cell_type": "code",
   "execution_count": 8,
   "metadata": {},
   "outputs": [],
   "source": [
    "df['ceiling_height'] = df['ceiling_height'].round(2)"
   ]
  },
  {
   "cell_type": "markdown",
   "metadata": {},
   "source": [
    "Заменим пропущенные значения в столбце `floors_total`. В столбце `floor` у нас есть информация об этаже каждой квартиры. В связи с тем, что далее в работе мы будем категоризировать данные по этажности(первый, последний, другой) заполним пропущенные значения как `floor`+1. Считаю что в таком случае категории по этажности будут более правильными."
   ]
  },
  {
   "cell_type": "code",
   "execution_count": 9,
   "metadata": {},
   "outputs": [],
   "source": [
    "df['floors_total'] = df['floors_total'].fillna(df['floor']+1) "
   ]
  },
  {
   "cell_type": "markdown",
   "metadata": {},
   "source": [
    "Заполним пропуски в `living_area`. Для заполнения пропущенных значений в `living_area` мы можем взять медианную долю жилой площади из строк в котрых присутсвует  `living_area` и умножить её на известную нам площадь квартиры `total_area`(т.к в данном столбце пропуски отсутсвуют). При этом в некоторых квартирах комнат гораздо больше чем в других, поэтому посчитаем медианную долю для разных групп с одинаковым колличеством комнат."
   ]
  },
  {
   "cell_type": "markdown",
   "metadata": {},
   "source": [
    "Напишем цикл который посчитает медианную долю жилой прощади для квартир с разным колличеством комнат и  сохранит в соответствующем списке. Создадим два списка в первом списке будут хранится медианные доли жилой площади для квартир с колличеством комнат от 0 до 7. Во втором списке будут хранится медианные доли жилой площади для квартир с колличеством комнат более 7."
   ]
  },
  {
   "cell_type": "code",
   "execution_count": 10,
   "metadata": {
    "scrolled": false
   },
   "outputs": [
    {
     "data": {
      "text/plain": [
       "[0.69, 0.48, 0.59, 0.63, 0.66, 0.65, 0.68, 0.68]"
      ]
     },
     "metadata": {},
     "output_type": "display_data"
    },
    {
     "data": {
      "text/plain": [
       "[0.66]"
      ]
     },
     "metadata": {},
     "output_type": "display_data"
    }
   ],
   "source": [
    "share_0_7 = [] # медианные доли жилой площади для квартир с колличеством комнат от 0 до 7\n",
    "share_over_8 = [] # медианные доли жилой площади для квартир с колличеством комнат более 7\n",
    "for rooms in range(8):\n",
    "    data = df[df['rooms'] == rooms]\n",
    "    result = (data['living_area'] / data['total_area']).median()\n",
    "    share_0_7.append(result)\n",
    "    \n",
    "rooms_over_8 = df[df['rooms'] > 7]\n",
    "share_over_8.append((rooms_over_8['living_area']/rooms_over_8['total_area']).median())\n",
    "\n",
    "share_0_7 = [round(v,2) for v in share_0_7]\n",
    "share_over_8 = [round(v,2) for v in share_over_8]\n",
    "\n",
    "display(share_0_7, share_over_8)"
   ]
  },
  {
   "cell_type": "markdown",
   "metadata": {},
   "source": [
    "Напишем цикл, который заполнит пропущенные значения в `living_area`. Цикл будет заполнять пропущенные значения по группам т.е. для квартир с определенным колличеством комнат будет использоваться медианная доля жилой площади квартир с таким же колличеством комнат и умножаться на известную площадь всей квартиры."
   ]
  },
  {
   "cell_type": "markdown",
   "metadata": {},
   "source": [
    "Заполняем пропущенные значения `living_area` для строк с колличеством комнат 0 до 7 :"
   ]
  },
  {
   "cell_type": "code",
   "execution_count": 11,
   "metadata": {},
   "outputs": [],
   "source": [
    "for i in range(8):\n",
    "    df.loc[df['rooms'] == i, 'living_area'] = df.loc[df['rooms'] == i]['living_area'].fillna(share_0_7[i] * df.loc[df['rooms'] == i]['total_area'])\n",
    "    "
   ]
  },
  {
   "cell_type": "markdown",
   "metadata": {},
   "source": [
    "Заполняем пропущенные значения `living_area` для строк с колличеством комнат более 7:"
   ]
  },
  {
   "cell_type": "code",
   "execution_count": 12,
   "metadata": {},
   "outputs": [],
   "source": [
    "df.loc[df['rooms'] > 7, 'living_area'] = df.loc[df['rooms'] > 7]['living_area'].fillna(share_over_8 * df.loc[df['rooms'] > 7]['total_area'])"
   ]
  },
  {
   "cell_type": "markdown",
   "metadata": {},
   "source": [
    "Заполним пропуски в `kitchen_area`. Предположим, что площадь кухни на прямую зависит от общей площади квартиры, поэтому для заполнения пропусков нам достаточно рассчитать медианную долю кухни от общей площади(по имеющимся данным) и умножить эту долю на площадь квартиры"
   ]
  },
  {
   "cell_type": "markdown",
   "metadata": {},
   "source": [
    "Определим медианную долю площади кухни от общей площади квартиры:"
   ]
  },
  {
   "cell_type": "code",
   "execution_count": 13,
   "metadata": {},
   "outputs": [],
   "source": [
    "snare_kitchen = (df['kitchen_area']/df['total_area']).median()\n"
   ]
  },
  {
   "cell_type": "markdown",
   "metadata": {},
   "source": [
    "Заполним пропущенные значения столбца `kitchen_area` произведением медианной доли кухни и общей площади квартиры:"
   ]
  },
  {
   "cell_type": "code",
   "execution_count": 14,
   "metadata": {},
   "outputs": [],
   "source": [
    "df['kitchen_area'] = df['kitchen_area'].fillna(snare_kitchen*df['total_area'])"
   ]
  },
  {
   "cell_type": "markdown",
   "metadata": {},
   "source": [
    "Для заполнения пропусков в `balcony` будем использовать 0,  т.к. пропуски в данных скорее всего означают отсутствие балкона"
   ]
  },
  {
   "cell_type": "markdown",
   "metadata": {},
   "source": [
    "Заполним пропуски в столбце `balcony`:"
   ]
  },
  {
   "cell_type": "code",
   "execution_count": 15,
   "metadata": {},
   "outputs": [],
   "source": [
    "df['balcony'] = df['balcony'].fillna(0)"
   ]
  },
  {
   "cell_type": "markdown",
   "metadata": {},
   "source": [
    "Заполним пропуски в `locality_name` на `unknown`:"
   ]
  },
  {
   "cell_type": "code",
   "execution_count": 16,
   "metadata": {},
   "outputs": [],
   "source": [
    "df['locality_name'] = df['locality_name'].fillna('unknown')"
   ]
  },
  {
   "cell_type": "markdown",
   "metadata": {},
   "source": [
    "Проверим отсутствие пропусков в заполненных столбцах:"
   ]
  },
  {
   "cell_type": "code",
   "execution_count": 17,
   "metadata": {},
   "outputs": [
    {
     "name": "stdout",
     "output_type": "stream",
     "text": [
      "<class 'pandas.core.frame.DataFrame'>\n",
      "RangeIndex: 23699 entries, 0 to 23698\n",
      "Data columns (total 22 columns):\n",
      " #   Column                Non-Null Count  Dtype  \n",
      "---  ------                --------------  -----  \n",
      " 0   total_images          23699 non-null  int64  \n",
      " 1   last_price            23699 non-null  float64\n",
      " 2   total_area            23699 non-null  float64\n",
      " 3   first_day_exposition  23699 non-null  object \n",
      " 4   rooms                 23699 non-null  int64  \n",
      " 5   ceiling_height        14504 non-null  float64\n",
      " 6   floors_total          23699 non-null  float64\n",
      " 7   living_area           23699 non-null  float64\n",
      " 8   floor                 23699 non-null  int64  \n",
      " 9   is_apartment          2775 non-null   object \n",
      " 10  studio                23699 non-null  bool   \n",
      " 11  open_plan             23699 non-null  bool   \n",
      " 12  kitchen_area          23699 non-null  float64\n",
      " 13  balcony               23699 non-null  float64\n",
      " 14  locality_name         23699 non-null  object \n",
      " 15  airports_nearest      18157 non-null  float64\n",
      " 16  city_centers_nearest  18180 non-null  float64\n",
      " 17  parks_around_3000     18181 non-null  float64\n",
      " 18  parks_nearest         8079 non-null   float64\n",
      " 19  ponds_around_3000     18181 non-null  float64\n",
      " 20  ponds_nearest         9110 non-null   float64\n",
      " 21  days_exposition       20518 non-null  float64\n",
      "dtypes: bool(2), float64(14), int64(3), object(3)\n",
      "memory usage: 3.7+ MB\n"
     ]
    }
   ],
   "source": [
    "df.info()"
   ]
  },
  {
   "cell_type": "markdown",
   "metadata": {},
   "source": [
    "### Замена типа данных"
   ]
  },
  {
   "cell_type": "markdown",
   "metadata": {},
   "source": [
    "Заменим тип данных `float64` на `int64` в некоторых столбцах:"
   ]
  },
  {
   "cell_type": "code",
   "execution_count": 18,
   "metadata": {},
   "outputs": [],
   "source": [
    "df = df.astype(\n",
    "    {'last_price' : 'int64', \n",
    "     'total_area' : 'int64', \n",
    "     'floors_total' : 'int64',\n",
    "     'living_area' : 'int64',\n",
    "     'kitchen_area' : 'int64',\n",
    "     'balcony' : 'int64'}\n",
    ")"
   ]
  },
  {
   "cell_type": "markdown",
   "metadata": {},
   "source": [
    "В столбце `ceiling_height` менять тип данных не будем т.к. при преобразовании в `int64` теряется дробная чась, в данном случае это не целесобразное округление. В остальных столбцах пребразовать тип данных в `int64` не получается т.к. в них имеются пропуски."
   ]
  },
  {
   "cell_type": "markdown",
   "metadata": {},
   "source": [
    "Изменим тип данных столбца `first_day_exposition` на `datetime`:"
   ]
  },
  {
   "cell_type": "code",
   "execution_count": 19,
   "metadata": {},
   "outputs": [],
   "source": [
    "df['first_day_exposition'] = pd.to_datetime(df['first_day_exposition'], format='%Y.%m.%dT%H:%M:%S')"
   ]
  },
  {
   "cell_type": "markdown",
   "metadata": {},
   "source": [
    "**Вывод:**\n",
    "\n",
    "В данных были обнаружены пропущенные значения, но не для всех пропусков можно придумать логичную замену, поэтому мы заполнили пропуски только в некоторых колонках. В колонках `ceiling_height`, `floors_total`, `living_area`, `kitchen_area` и `balcony` мы придумали замену исходя из  логики и жизненного опыта. В колонке `locality_name` пропуски заменили на 'unknown'. Пропуски в данных связанны скорее всего с человеческим фактором. Заменили тип данных с `float64` на `int64` в тех столбцах, в которых не критично потерять дробную часть т.к `int64` меньше весит, с ним не возникает проблем при сравнении значений и в целом удобнее работать. Так же заменили тип данных на `datetime64[ns]` в столбце `first_day_exposition`. При этом в столбцах с пропусками изменить тип данных на `int64` не получается, поэтому они оставлены без изменений."
   ]
  },
  {
   "cell_type": "markdown",
   "metadata": {},
   "source": [
    "## Расчёты и добавление результатов в таблицу"
   ]
  },
  {
   "cell_type": "markdown",
   "metadata": {},
   "source": [
    "Добавим в таблицу столбец с ценой за квадратный метр:"
   ]
  },
  {
   "cell_type": "code",
   "execution_count": 20,
   "metadata": {},
   "outputs": [],
   "source": [
    "df['price_meter'] = df['last_price']/df['total_area'] # добавляем новый столбец с ценой за м2\n",
    "df['price_meter'] = df['price_meter'].astype('int64') # меняем тип данных на int64"
   ]
  },
  {
   "cell_type": "markdown",
   "metadata": {},
   "source": [
    "Добавим в таблицу день недели, месяц и год публикации обьявления:"
   ]
  },
  {
   "cell_type": "code",
   "execution_count": 21,
   "metadata": {},
   "outputs": [],
   "source": [
    "df['weekday_exposition'] = pd.DatetimeIndex(df['first_day_exposition']).weekday # добавления дня недели в таблицу"
   ]
  },
  {
   "cell_type": "code",
   "execution_count": 22,
   "metadata": {},
   "outputs": [],
   "source": [
    "df['month_exposition'] = pd.DatetimeIndex(df['first_day_exposition']).month # добавление месяца в таблицу"
   ]
  },
  {
   "cell_type": "code",
   "execution_count": 23,
   "metadata": {},
   "outputs": [],
   "source": [
    "df['year_exposition'] = pd.DatetimeIndex(df['first_day_exposition']).year # добавление года в таблицу"
   ]
  },
  {
   "cell_type": "markdown",
   "metadata": {},
   "source": [
    "Добавим в таблицу столбец с категориями по этажам — первый, последний, другой.\n",
    "\n",
    "Напишем для этого функцию:"
   ]
  },
  {
   "cell_type": "code",
   "execution_count": 24,
   "metadata": {},
   "outputs": [],
   "source": [
    "def floor(row):\n",
    "    if row['floors_total'] == row['floor']:\n",
    "        return 'последний'\n",
    "    elif row['floor'] == 1:\n",
    "        return 'первый'\n",
    "    else:\n",
    "        return 'другой'"
   ]
  },
  {
   "cell_type": "markdown",
   "metadata": {},
   "source": [
    "Создадим новый столбец `floor_category`, для этого применим функцию `floor()` ко всем строкам с помощью `apply()`:"
   ]
  },
  {
   "cell_type": "code",
   "execution_count": 25,
   "metadata": {},
   "outputs": [],
   "source": [
    "df['floor_category'] = df.apply(floor, axis=1)"
   ]
  },
  {
   "cell_type": "markdown",
   "metadata": {},
   "source": [
    "Создадим новый столбец `ratio_living_area` с соотношением жилой и общей площади:"
   ]
  },
  {
   "cell_type": "code",
   "execution_count": 26,
   "metadata": {},
   "outputs": [],
   "source": [
    "df['ratio_living_area'] = df['living_area']/df['total_area']"
   ]
  },
  {
   "cell_type": "markdown",
   "metadata": {},
   "source": [
    "Округлим значения в столбце `ratio_living_area` до двух знаков после запятой:"
   ]
  },
  {
   "cell_type": "code",
   "execution_count": 27,
   "metadata": {},
   "outputs": [],
   "source": [
    "df['ratio_living_area'] = df['ratio_living_area'].round(2)"
   ]
  },
  {
   "cell_type": "markdown",
   "metadata": {},
   "source": [
    "Создадим новый столбец `ratio_kitchen_area` с соотношением площади кухни и общей площади:"
   ]
  },
  {
   "cell_type": "code",
   "execution_count": 28,
   "metadata": {},
   "outputs": [],
   "source": [
    "df['ratio_kitchen_area'] = df['kitchen_area']/df['total_area']"
   ]
  },
  {
   "cell_type": "markdown",
   "metadata": {},
   "source": [
    "Округлим значения в столбце `ratio_kitchen_area` до двух знаков после запятой:"
   ]
  },
  {
   "cell_type": "code",
   "execution_count": 29,
   "metadata": {},
   "outputs": [],
   "source": [
    "df['ratio_kitchen_area'] = df['ratio_kitchen_area'].round(2)"
   ]
  },
  {
   "cell_type": "markdown",
   "metadata": {},
   "source": [
    "**Вывод:**\n",
    "\n",
    "Добавили в таблицу несколько новых колонок, которые в дальнейшем помогут упростить работу с данными."
   ]
  },
  {
   "cell_type": "markdown",
   "metadata": {},
   "source": [
    "## Исследовательский анализ данных"
   ]
  },
  {
   "cell_type": "markdown",
   "metadata": {},
   "source": [
    "### Изучение основных параметров\n"
   ]
  },
  {
   "cell_type": "markdown",
   "metadata": {},
   "source": [
    "Изучим следующие параметры:\n",
    "* площадь\n",
    "* цена \n",
    "* число комнат\n",
    "* высота потолков\n",
    "\n",
    "Построим гистограммы для каждого параметра."
   ]
  },
  {
   "cell_type": "markdown",
   "metadata": {},
   "source": [
    "**Построим гистограмму общей площади по столбцу `total_area`:**"
   ]
  },
  {
   "cell_type": "code",
   "execution_count": 30,
   "metadata": {},
   "outputs": [
    {
     "data": {
      "image/png": "[encoded data removed]",
      "text/plain": [
       "<Figure size 576x432 with 1 Axes>"
      ]
     },
     "metadata": {
      "needs_background": "light"
     },
     "output_type": "display_data"
    }
   ],
   "source": [
    "df['total_area'].hist(bins=100, figsize=(8,6)); "
   ]
  },
  {
   "cell_type": "markdown",
   "metadata": {},
   "source": [
    "На гистограмме площади квартир видно, что большинство квартир имеют площадь до 200м2. \n",
    "\n",
    "Для наглядности разделим данные на два диапазона по площади:"
   ]
  },
  {
   "cell_type": "code",
   "execution_count": 31,
   "metadata": {
    "scrolled": false
   },
   "outputs": [
    {
     "data": {
      "image/png": "[encoded data removed]",
      "text/plain": [
       "<Figure size 576x432 with 1 Axes>"
      ]
     },
     "metadata": {
      "needs_background": "light"
     },
     "output_type": "display_data"
    }
   ],
   "source": [
    "df['total_area'].hist(bins=100, figsize=(8,6), range=(0,200)); # от 0 до 200 м2"
   ]
  },
  {
   "cell_type": "markdown",
   "metadata": {},
   "source": [
    "Данная гистограмма показывает площади квартир от 0 до 200м2, на ней видно пик приблизительно на 40м2, так же можно сделать вывод, что большинство квартир имеют площадь от 30 до 75м2."
   ]
  },
  {
   "cell_type": "code",
   "execution_count": 32,
   "metadata": {},
   "outputs": [
    {
     "data": {
      "image/png": "[encoded data removed]",
      "text/plain": [
       "<Figure size 576x432 with 1 Axes>"
      ]
     },
     "metadata": {
      "needs_background": "light"
     },
     "output_type": "display_data"
    }
   ],
   "source": [
    "df['total_area'].hist(bins=100, figsize=(8,6), range=(200,900)); # от 200 до 900 м2"
   ]
  },
  {
   "cell_type": "markdown",
   "metadata": {},
   "source": [
    "Данная гистограмма показывает площади квартир от 200 до 900м2, на ней видно что квартиры с площадью более 200м2 встречаются достаточно редко. Подсчеты показывают, что такие квартиры составляют не более 1% от общего объема данных."
   ]
  },
  {
   "cell_type": "markdown",
   "metadata": {},
   "source": [
    "**Построим гистограмму цены квартир по столбцу `last_price`:**"
   ]
  },
  {
   "cell_type": "code",
   "execution_count": 33,
   "metadata": {},
   "outputs": [
    {
     "data": {
      "image/png": "[encoded data removed]",
      "text/plain": [
       "<Figure size 432x288 with 1 Axes>"
      ]
     },
     "metadata": {
      "needs_background": "light"
     },
     "output_type": "display_data"
    }
   ],
   "source": [
    "df['last_price'].hist(bins=100);"
   ]
  },
  {
   "cell_type": "markdown",
   "metadata": {},
   "source": [
    "Для наглядности разделим данные на два диапазона.\n",
    "\n",
    "Построим гистограмму с диапазоном цены от 0 до 50 000 000:"
   ]
  },
  {
   "cell_type": "code",
   "execution_count": 34,
   "metadata": {},
   "outputs": [
    {
     "data": {
      "image/png": "[encoded data removed]",
      "text/plain": [
       "<Figure size 432x288 with 1 Axes>"
      ]
     },
     "metadata": {
      "needs_background": "light"
     },
     "output_type": "display_data"
    }
   ],
   "source": [
    "df['last_price'].hist(bins=100, range=(0, 0.5e8));"
   ]
  },
  {
   "cell_type": "markdown",
   "metadata": {},
   "source": [
    "На данном графике видим максимальный пик квартир по цене приблизительно 5 000 000, так же можно сделать вывод, что большинство квартир стоят до 10 000 000."
   ]
  },
  {
   "cell_type": "markdown",
   "metadata": {},
   "source": [
    "Построим гистограмму с ценой квартиры более 50 000 000:"
   ]
  },
  {
   "cell_type": "code",
   "execution_count": 35,
   "metadata": {},
   "outputs": [
    {
     "data": {
      "image/png": "[encoded data removed]",
      "text/plain": [
       "<Figure size 432x288 with 1 Axes>"
      ]
     },
     "metadata": {
      "needs_background": "light"
     },
     "output_type": "display_data"
    }
   ],
   "source": [
    "df['last_price'].hist(bins=100, range=(0.5e8, 7.63e8));"
   ]
  },
  {
   "cell_type": "markdown",
   "metadata": {},
   "source": [
    "На этой гистограмме видим небольшое колличество квартир(относительно всех данных), большая часть из них стоит от 50 000 000 до 100 000 000. В данных есть выбросы с ценами квартир более 100 000 000, подсчеты показывают, что квартиры с ценой более 50 000 000 занимают 0.5% от общего объемма данных."
   ]
  },
  {
   "cell_type": "markdown",
   "metadata": {},
   "source": [
    "**Построим гистограмму колличества комнат в квартире по столбцу `rooms`:**"
   ]
  },
  {
   "cell_type": "code",
   "execution_count": 36,
   "metadata": {},
   "outputs": [
    {
     "data": {
      "image/png": "[encoded data removed]",
      "text/plain": [
       "<Figure size 432x288 with 1 Axes>"
      ]
     },
     "metadata": {
      "needs_background": "light"
     },
     "output_type": "display_data"
    }
   ],
   "source": [
    "df['rooms'].hist(bins=20);"
   ]
  },
  {
   "cell_type": "markdown",
   "metadata": {},
   "source": [
    "Построим гистограмму на которой будут изображены квартиры с колличеством комнат от 0 до 7:"
   ]
  },
  {
   "cell_type": "code",
   "execution_count": 37,
   "metadata": {},
   "outputs": [
    {
     "data": {
      "image/png": "[encoded data removed]",
      "text/plain": [
       "<Figure size 432x288 with 1 Axes>"
      ]
     },
     "metadata": {
      "needs_background": "light"
     },
     "output_type": "display_data"
    }
   ],
   "source": [
    "df['rooms'].hist(bins=7, range=(0,7));"
   ]
  },
  {
   "cell_type": "markdown",
   "metadata": {},
   "source": [
    "На данной гистограмме видим, что большинство квартир однокомнатные, двухкомнатные и трехкомнатные."
   ]
  },
  {
   "cell_type": "markdown",
   "metadata": {},
   "source": [
    "Построим гистограмму на которой будут изображены квартиры с колличеством комнат от 7 до 19:"
   ]
  },
  {
   "cell_type": "code",
   "execution_count": 38,
   "metadata": {},
   "outputs": [
    {
     "data": {
      "image/png": "[encoded data removed]",
      "text/plain": [
       "<Figure size 432x288 with 1 Axes>"
      ]
     },
     "metadata": {
      "needs_background": "light"
     },
     "output_type": "display_data"
    }
   ],
   "source": [
    "df['rooms'].hist(bins=13, range=(7,19));"
   ]
  },
  {
   "cell_type": "markdown",
   "metadata": {},
   "source": [
    "По этой гистограмме можно сделать вывод, что доля квартир с колличеством комнат более 6 очень мало."
   ]
  },
  {
   "cell_type": "markdown",
   "metadata": {},
   "source": [
    "**Построим гистограмму высоты пололка в квартире по столбцу `ceiling_height`:**"
   ]
  },
  {
   "cell_type": "code",
   "execution_count": 39,
   "metadata": {},
   "outputs": [
    {
     "data": {
      "image/png": "[encoded data removed]",
      "text/plain": [
       "<Figure size 432x288 with 1 Axes>"
      ]
     },
     "metadata": {
      "needs_background": "light"
     },
     "output_type": "display_data"
    }
   ],
   "source": [
    "df['ceiling_height'].hist(bins=20);"
   ]
  },
  {
   "cell_type": "markdown",
   "metadata": {},
   "source": [
    "Ранее при предобработке данных мы исключили квартиры с высотой потолков менее 2.4м и более 4м, поэтому данные на гистограмме ограничиваются этими значениями. \n",
    "\n",
    "На этой гистограмме видно, что большинство квартир имеют высоту потолков приблизительно 2.7м"
   ]
  },
  {
   "cell_type": "markdown",
   "metadata": {},
   "source": [
    "**Вывод:**\n",
    "\n",
    "Изучили основные параметры квартир с помощью гистограмм и сделали выводы по каждой гистограмме. "
   ]
  },
  {
   "cell_type": "markdown",
   "metadata": {},
   "source": [
    "### Изучение времени продажи квартир"
   ]
  },
  {
   "cell_type": "markdown",
   "metadata": {},
   "source": [
    "Построим гистограмму по времени продажи квартир `days_exposition`:"
   ]
  },
  {
   "cell_type": "code",
   "execution_count": 40,
   "metadata": {},
   "outputs": [
    {
     "data": {
      "image/png": "[encoded data removed]",
      "text/plain": [
       "<Figure size 576x432 with 1 Axes>"
      ]
     },
     "metadata": {
      "needs_background": "light"
     },
     "output_type": "display_data"
    }
   ],
   "source": [
    "df['days_exposition'].hist(bins=50, figsize=(8,6));"
   ]
  },
  {
   "cell_type": "markdown",
   "metadata": {},
   "source": [
    "Но гистограмме видно что большая часть квартир продается в течении 200 дней, самые быстрые продажи осуществляются в течении 50 дней."
   ]
  },
  {
   "cell_type": "code",
   "execution_count": 41,
   "metadata": {},
   "outputs": [
    {
     "data": {
      "text/plain": [
       "count    20518.000000\n",
       "mean       180.888634\n",
       "std        219.727988\n",
       "min          1.000000\n",
       "25%         45.000000\n",
       "50%         95.000000\n",
       "75%        232.000000\n",
       "max       1580.000000\n",
       "Name: days_exposition, dtype: float64"
      ]
     },
     "execution_count": 41,
     "metadata": {},
     "output_type": "execute_result"
    }
   ],
   "source": [
    "df['days_exposition'].describe() # Получим числовое описание cтолбца 'days_exposition' с помощью describe()"
   ]
  },
  {
   "cell_type": "markdown",
   "metadata": {},
   "source": [
    "**Вывод:**\n",
    "С помощью метода describe() мы получили числовое описание данных столбца `days_exposition`. По этим данным видно, что половина квартир продается в течении 95 дней, при этом среднее значение 180 дней. Среднее значение сдвигается так сильно из за того что в данных присутствуют квартиры которые продаются более 1000 дней. Учитывая гистограмму и числовое описание можно сделать вывод, что продажи в течении 45 дней очень быстрые, а продажи которые осуществляются более 230 дней необычно долгие."
   ]
  },
  {
   "cell_type": "markdown",
   "metadata": {},
   "source": [
    "### Удаление редких и выбивающихся значений\n"
   ]
  },
  {
   "cell_type": "markdown",
   "metadata": {},
   "source": [
    "**Удаление редких значений общей площади `total_area` из датасета**"
   ]
  },
  {
   "cell_type": "markdown",
   "metadata": {},
   "source": [
    "На диаграмме построенной по столбцу `total_area` видно, что квартиры с площадью 400м2 и более встречаются очень редко. \n",
    "\n",
    "Посчитаем колличество квартир с площадью более 400м2:"
   ]
  },
  {
   "cell_type": "code",
   "execution_count": 42,
   "metadata": {},
   "outputs": [
    {
     "data": {
      "text/plain": [
       "26"
      ]
     },
     "execution_count": 42,
     "metadata": {},
     "output_type": "execute_result"
    }
   ],
   "source": [
    "df.query('total_area >= 400')['total_area'].count()"
   ]
  },
  {
   "cell_type": "markdown",
   "metadata": {},
   "source": [
    "В датасете из 23699 строк присутствуют 26 строк с квартирами у которых плащадь 400м2 и более. Эти значения выбиваются из общей картины поэтому удалим их:"
   ]
  },
  {
   "cell_type": "code",
   "execution_count": 43,
   "metadata": {},
   "outputs": [],
   "source": [
    "df = df.query('total_area < 350') # удаление строк с площадью квартир 400м2 и более"
   ]
  },
  {
   "cell_type": "markdown",
   "metadata": {},
   "source": [
    "**Удаление редких значений цены `last_price` из датасета**"
   ]
  },
  {
   "cell_type": "markdown",
   "metadata": {},
   "source": [
    "Вызовем метод describe() для `last_price`:"
   ]
  },
  {
   "cell_type": "code",
   "execution_count": 44,
   "metadata": {},
   "outputs": [
    {
     "data": {
      "text/plain": [
       "count    2.365800e+04\n",
       "mean     6.356443e+06\n",
       "std      8.095566e+06\n",
       "min      1.219000e+04\n",
       "25%      3.400000e+06\n",
       "50%      4.630000e+06\n",
       "75%      6.750000e+06\n",
       "max      3.300000e+08\n",
       "Name: last_price, dtype: float64"
      ]
     },
     "execution_count": 44,
     "metadata": {},
     "output_type": "execute_result"
    }
   ],
   "source": [
    "df['last_price'].describe()"
   ]
  },
  {
   "cell_type": "markdown",
   "metadata": {},
   "source": [
    "Минимальная цена квартиры в датасете 12190, для квартиры это очень мало. Выведем строки с ценой менее 100 000:"
   ]
  },
  {
   "cell_type": "code",
   "execution_count": 45,
   "metadata": {},
   "outputs": [
    {
     "data": {
      "text/html": [
       "<div>\n",
       "<style scoped>\n",
       "    .dataframe tbody tr th:only-of-type {\n",
       "        vertical-align: middle;\n",
       "    }\n",
       "\n",
       "    .dataframe tbody tr th {\n",
       "        vertical-align: top;\n",
       "    }\n",
       "\n",
       "    .dataframe thead th {\n",
       "        text-align: right;\n",
       "    }\n",
       "</style>\n",
       "<table border=\"1\" class=\"dataframe\">\n",
       "  <thead>\n",
       "    <tr style=\"text-align: right;\">\n",
       "      <th></th>\n",
       "      <th>total_images</th>\n",
       "      <th>last_price</th>\n",
       "      <th>total_area</th>\n",
       "      <th>first_day_exposition</th>\n",
       "      <th>rooms</th>\n",
       "      <th>ceiling_height</th>\n",
       "      <th>floors_total</th>\n",
       "      <th>living_area</th>\n",
       "      <th>floor</th>\n",
       "      <th>is_apartment</th>\n",
       "      <th>studio</th>\n",
       "      <th>open_plan</th>\n",
       "      <th>kitchen_area</th>\n",
       "      <th>balcony</th>\n",
       "      <th>locality_name</th>\n",
       "      <th>airports_nearest</th>\n",
       "      <th>city_centers_nearest</th>\n",
       "      <th>parks_around_3000</th>\n",
       "      <th>parks_nearest</th>\n",
       "      <th>ponds_around_3000</th>\n",
       "      <th>ponds_nearest</th>\n",
       "      <th>days_exposition</th>\n",
       "      <th>price_meter</th>\n",
       "      <th>weekday_exposition</th>\n",
       "      <th>month_exposition</th>\n",
       "      <th>year_exposition</th>\n",
       "      <th>floor_category</th>\n",
       "      <th>ratio_living_area</th>\n",
       "      <th>ratio_kitchen_area</th>\n",
       "    </tr>\n",
       "  </thead>\n",
       "  <tbody>\n",
       "    <tr>\n",
       "      <th>8793</th>\n",
       "      <td>7</td>\n",
       "      <td>12190</td>\n",
       "      <td>109</td>\n",
       "      <td>2019-03-20</td>\n",
       "      <td>2</td>\n",
       "      <td>2.75</td>\n",
       "      <td>25</td>\n",
       "      <td>32</td>\n",
       "      <td>25</td>\n",
       "      <td>NaN</td>\n",
       "      <td>False</td>\n",
       "      <td>False</td>\n",
       "      <td>40</td>\n",
       "      <td>0</td>\n",
       "      <td>Санкт-Петербург</td>\n",
       "      <td>36421.0</td>\n",
       "      <td>9176.0</td>\n",
       "      <td>1.0</td>\n",
       "      <td>805.0</td>\n",
       "      <td>0.0</td>\n",
       "      <td>NaN</td>\n",
       "      <td>8.0</td>\n",
       "      <td>111</td>\n",
       "      <td>2</td>\n",
       "      <td>3</td>\n",
       "      <td>2019</td>\n",
       "      <td>последний</td>\n",
       "      <td>0.29</td>\n",
       "      <td>0.37</td>\n",
       "    </tr>\n",
       "  </tbody>\n",
       "</table>\n",
       "</div>"
      ],
      "text/plain": [
       "      total_images  last_price  total_area first_day_exposition  rooms  \\\n",
       "8793             7       12190         109           2019-03-20      2   \n",
       "\n",
       "      ceiling_height  floors_total  living_area  floor is_apartment  studio  \\\n",
       "8793            2.75            25           32     25          NaN   False   \n",
       "\n",
       "      open_plan  kitchen_area  balcony    locality_name  airports_nearest  \\\n",
       "8793      False            40        0  Санкт-Петербург           36421.0   \n",
       "\n",
       "      city_centers_nearest  parks_around_3000  parks_nearest  \\\n",
       "8793                9176.0                1.0          805.0   \n",
       "\n",
       "      ponds_around_3000  ponds_nearest  days_exposition  price_meter  \\\n",
       "8793                0.0            NaN              8.0          111   \n",
       "\n",
       "      weekday_exposition  month_exposition  year_exposition floor_category  \\\n",
       "8793                   2                 3             2019      последний   \n",
       "\n",
       "      ratio_living_area  ratio_kitchen_area  \n",
       "8793               0.29                0.37  "
      ]
     },
     "execution_count": 45,
     "metadata": {},
     "output_type": "execute_result"
    }
   ],
   "source": [
    "df.query('last_price < 100000')"
   ]
  },
  {
   "cell_type": "markdown",
   "metadata": {},
   "source": [
    "Удалим из таблицы строки с ценой квартиры менее 100 000 и более 150 000 000:"
   ]
  },
  {
   "cell_type": "code",
   "execution_count": 46,
   "metadata": {},
   "outputs": [],
   "source": [
    "df = df.query('last_price > 100000') # удаление строк с ценой квартиры менее 100 000"
   ]
  },
  {
   "cell_type": "code",
   "execution_count": 47,
   "metadata": {},
   "outputs": [],
   "source": [
    "df = df.query('last_price < 150000000')"
   ]
  },
  {
   "cell_type": "markdown",
   "metadata": {},
   "source": [
    "После удаления некоторых строк порядок индексов нарушается, применим метод `reset_index(drop=True)` и перезапишем индексы:"
   ]
  },
  {
   "cell_type": "code",
   "execution_count": 48,
   "metadata": {},
   "outputs": [],
   "source": [
    "df = df.reset_index(drop=True) # перезапишем индексы датафрейма"
   ]
  },
  {
   "cell_type": "markdown",
   "metadata": {},
   "source": [
    "**Вывод:**\n",
    "\n",
    "Удалили редкие и выбивающиеся значения датасета по столбцам `total_area` и `last_price`. В столбце `total_area` максимальная площать составляла 900м2 это значение явно выбивается из общей картины и мы могли удалить только его, но было принято решение убрать картиры с площадью более 400м2 т.к. эти значения явно превышают нормальную площадь и могут исказить результаты дальнейшего исследования. Так же мы убрали из таблицы строку с неправдопадобно низкой стоимостью квартиры. При предобработке данных были исправлены аномальные значения высоты потолков `ceiling_height` поэтому на данном этапе этот столбец не рассматривался."
   ]
  },
  {
   "cell_type": "markdown",
   "metadata": {},
   "source": [
    "### Изучение взаимосвязей в данных"
   ]
  },
  {
   "cell_type": "markdown",
   "metadata": {},
   "source": [
    "**Изучение взаимосвязи цены квартиры `last_price` и общей площади `total_area`:**"
   ]
  },
  {
   "cell_type": "markdown",
   "metadata": {},
   "source": [
    "Изучим взаимосвязь с помощью диаграммы рассеяния:"
   ]
  },
  {
   "cell_type": "code",
   "execution_count": 49,
   "metadata": {},
   "outputs": [
    {
     "data": {
      "image/png": "[encoded data removed]",
      "text/plain": [
       "<Figure size 432x288 with 1 Axes>"
      ]
     },
     "metadata": {
      "needs_background": "light"
     },
     "output_type": "display_data"
    }
   ],
   "source": [
    "df.plot(x = 'total_area', y = 'last_price', kind='scatter', grid=True); # построим диаграмму рассеяния"
   ]
  },
  {
   "cell_type": "markdown",
   "metadata": {},
   "source": [
    "С помощью метода `corr()` посмотрим на корреляцию `last_price` и `total_area`:"
   ]
  },
  {
   "cell_type": "code",
   "execution_count": 50,
   "metadata": {},
   "outputs": [
    {
     "data": {
      "text/plain": [
       "0.73"
      ]
     },
     "execution_count": 50,
     "metadata": {},
     "output_type": "execute_result"
    }
   ],
   "source": [
    "df['last_price'].corr(df['total_area']).round(2)"
   ]
  },
  {
   "cell_type": "markdown",
   "metadata": {},
   "source": [
    "На основе диаграммы рассеяния и коэффициента корреляции можно сделать вывод, что взаимосвязь между ценой и площадью квартиры имеется. С увеличеним площади квартиры растет и цена, видно что при площади 150м2 и более цены начинают резко возрастать. Коэффициент корреляции 0.69 можно интерпретировать как среднюю зависимость."
   ]
  },
  {
   "cell_type": "markdown",
   "metadata": {},
   "source": [
    "**Изучение взаимосвязи цены квартиры `last_price` и числа комнат `rooms`:**"
   ]
  },
  {
   "cell_type": "markdown",
   "metadata": {},
   "source": [
    "Изучим зависимость с помощью столбчатой диаграммы:"
   ]
  },
  {
   "cell_type": "code",
   "execution_count": 51,
   "metadata": {},
   "outputs": [
    {
     "data": {
      "image/png": "[encoded data removed]",
      "text/plain": [
       "<Figure size 432x288 with 1 Axes>"
      ]
     },
     "metadata": {
      "needs_background": "light"
     },
     "output_type": "display_data"
    }
   ],
   "source": [
    "# столбчатая диаграмма по медианным значениям цены\n",
    "df.pivot_table(index='rooms', values='last_price', aggfunc='median').plot.bar();"
   ]
  },
  {
   "cell_type": "markdown",
   "metadata": {},
   "source": [
    "С помощью метода `corr()` посмотрим на корреляцию `last_price` и `rooms`:"
   ]
  },
  {
   "cell_type": "code",
   "execution_count": 52,
   "metadata": {},
   "outputs": [
    {
     "data": {
      "text/plain": [
       "0.43815698229390004"
      ]
     },
     "execution_count": 52,
     "metadata": {},
     "output_type": "execute_result"
    }
   ],
   "source": [
    "df['rooms'].corr(df['last_price'])"
   ]
  },
  {
   "cell_type": "markdown",
   "metadata": {},
   "source": [
    "На основе этой столбчатой диграммы можно сделать вывод, что цена и количестьво комнат в целом взаимосвязаны, при увеличении количества комнат растет и цена, однако в диапазоне 7-10 комнат медианные значения цены примерно одинаковые. Такж же при интерпретеции коэффициента кореляции зависимость можно охарактеризовать как слабую."
   ]
  },
  {
   "cell_type": "markdown",
   "metadata": {},
   "source": [
    "**Изучение взаимосвязи цены квартиры `last_price` и удаленности от центра `city_centers_nearest`**"
   ]
  },
  {
   "cell_type": "markdown",
   "metadata": {},
   "source": [
    "Изучим взаимосвязь с помощью диаграммы рассеяния:"
   ]
  },
  {
   "cell_type": "code",
   "execution_count": 53,
   "metadata": {},
   "outputs": [
    {
     "data": {
      "image/png": "[encoded data removed]",
      "text/plain": [
       "<Figure size 432x288 with 1 Axes>"
      ]
     },
     "metadata": {
      "needs_background": "light"
     },
     "output_type": "display_data"
    }
   ],
   "source": [
    "df.plot(x = 'city_centers_nearest', y = 'last_price', kind='scatter', grid=True, alpha=0.4);"
   ]
  },
  {
   "cell_type": "markdown",
   "metadata": {},
   "source": [
    "На графике видно, что в радиусе 10км от центра цены выше, чем за его пределами. При увеличении расстояния до центра цены на квартиры снижаются т.е. зависимость между ценой квартиры и удаленностью от центра присутствует."
   ]
  },
  {
   "cell_type": "markdown",
   "metadata": {
    "scrolled": true
   },
   "source": [
    "**Изучение взаимосвязи цены квартиры `last_price` от того, на каком этаже расположена квартира `floor_category`:**"
   ]
  },
  {
   "cell_type": "code",
   "execution_count": 54,
   "metadata": {},
   "outputs": [
    {
     "data": {
      "image/png": "[encoded data removed]",
      "text/plain": [
       "<Figure size 432x288 with 1 Axes>"
      ]
     },
     "metadata": {
      "needs_background": "light"
     },
     "output_type": "display_data"
    }
   ],
   "source": [
    "df.pivot_table(index='floor_category', values='last_price', aggfunc='median').plot.bar();"
   ]
  },
  {
   "cell_type": "markdown",
   "metadata": {},
   "source": [
    "На основе этой столбчатой диаграмы можно сделать вывод, что квартиры на первом этаже обычно стоят дешевле чем на другом или последнем этаже, всех дороже обычно стоят квартиры из категории \"другой\"."
   ]
  },
  {
   "cell_type": "markdown",
   "metadata": {},
   "source": [
    "**Изучение зависимости цены квартиры `last_price` от дня недели в который размещено объявление `weekday_exposition`**."
   ]
  },
  {
   "cell_type": "code",
   "execution_count": 55,
   "metadata": {},
   "outputs": [
    {
     "data": {
      "image/png": "[encoded data removed]",
      "text/plain": [
       "<Figure size 576x432 with 1 Axes>"
      ]
     },
     "metadata": {
      "needs_background": "light"
     },
     "output_type": "display_data"
    }
   ],
   "source": [
    "df.pivot_table(index='weekday_exposition', values='last_price', aggfunc='median').plot.bar(figsize=(8,6));"
   ]
  },
  {
   "cell_type": "markdown",
   "metadata": {},
   "source": [
    "На столбчатой диаграмме видно, что цены квартир не зависят от того, в какой день недели было размещено обьявление."
   ]
  },
  {
   "cell_type": "markdown",
   "metadata": {},
   "source": [
    "**Изучение зависимости цены квартиры `last_price` от месяца в который размещено объявление `month_exposition`**."
   ]
  },
  {
   "cell_type": "code",
   "execution_count": 56,
   "metadata": {},
   "outputs": [
    {
     "data": {
      "image/png": "[encoded data removed]",
      "text/plain": [
       "<Figure size 576x432 with 1 Axes>"
      ]
     },
     "metadata": {
      "needs_background": "light"
     },
     "output_type": "display_data"
    }
   ],
   "source": [
    "df.pivot_table(index='month_exposition', values='last_price', aggfunc='median').plot.bar(figsize=(8,6));"
   ]
  },
  {
   "cell_type": "markdown",
   "metadata": {},
   "source": [
    "На столбчатой диаграмме видно, что цена квартиры не зависит от того, в какой месяц было размещено обьявление."
   ]
  },
  {
   "cell_type": "markdown",
   "metadata": {},
   "source": [
    "**Изучение зависимости цены квартиры `last_price` от года в который размещено объявление `year_exposition`**."
   ]
  },
  {
   "cell_type": "code",
   "execution_count": 57,
   "metadata": {},
   "outputs": [
    {
     "data": {
      "image/png": "[encoded data removed]",
      "text/plain": [
       "<Figure size 576x432 with 1 Axes>"
      ]
     },
     "metadata": {
      "needs_background": "light"
     },
     "output_type": "display_data"
    }
   ],
   "source": [
    "df.pivot_table(index='year_exposition', values='last_price', aggfunc='median').plot.bar(figsize=(8,6));"
   ]
  },
  {
   "cell_type": "markdown",
   "metadata": {},
   "source": [
    "На диаграмме видно, что квартиры размещенные в 2014г стоили дороже всего, цены квартир размещенных в остальные годы особо не отличаются."
   ]
  },
  {
   "cell_type": "markdown",
   "metadata": {},
   "source": [
    "**Вывод:**\n",
    "\n",
    "При изучении взаимосвязи цены квартиры и других характеристик было выяснено, что цена квартиры зависит от общей площади, колличества комнат и удалённости от центра, так же цена квартиры зависит от этажа. Цены квартир не зависят от дня недели и месяца публикации объявление, при этом видно что в обьявлениях опубликованных в 2014г цены на квартиры выше чем в остальные годы."
   ]
  },
  {
   "cell_type": "markdown",
   "metadata": {},
   "source": [
    "### Анализ 10 населенных пунктов с наибольшим числом объявлений."
   ]
  },
  {
   "cell_type": "markdown",
   "metadata": {},
   "source": [
    "Получим список из 10 населенных пунктов с наибольшим чилом обьявлений:"
   ]
  },
  {
   "cell_type": "code",
   "execution_count": 58,
   "metadata": {},
   "outputs": [
    {
     "data": {
      "text/plain": [
       "Index(['Санкт-Петербург', 'посёлок Мурино', 'посёлок Шушары', 'Всеволожск',\n",
       "       'Пушкин', 'Колпино', 'посёлок Парголово', 'Гатчина', 'деревня Кудрово',\n",
       "       'Выборг'],\n",
       "      dtype='object')"
      ]
     },
     "execution_count": 58,
     "metadata": {},
     "output_type": "execute_result"
    }
   ],
   "source": [
    "df['locality_name'].value_counts().head(10).index"
   ]
  },
  {
   "cell_type": "markdown",
   "metadata": {},
   "source": [
    "Выведем на экран все уникальные значения столбца `locality_name` для поиска неявных дубликатов:"
   ]
  },
  {
   "cell_type": "code",
   "execution_count": 59,
   "metadata": {},
   "outputs": [
    {
     "data": {
      "text/plain": [
       "array(['Санкт-Петербург', 'посёлок Шушары', 'городской посёлок Янино-1',\n",
       "       'посёлок Парголово', 'посёлок Мурино', 'Ломоносов', 'Сертолово',\n",
       "       'Петергоф', 'Пушкин', 'деревня Кудрово', 'Коммунар', 'Колпино',\n",
       "       'поселок городского типа Красный Бор', 'Гатчина', 'поселок Мурино',\n",
       "       'деревня Фёдоровское', 'Выборг', 'Кронштадт', 'Кировск',\n",
       "       'деревня Новое Девяткино', 'посёлок Металлострой',\n",
       "       'посёлок городского типа Лебяжье',\n",
       "       'посёлок городского типа Сиверский', 'поселок Молодцово',\n",
       "       'поселок городского типа Кузьмоловский',\n",
       "       'садовое товарищество Новая Ропша', 'Павловск',\n",
       "       'деревня Пикколово', 'Всеволожск', 'Волхов', 'Кингисепп',\n",
       "       'Приозерск', 'Сестрорецк', 'деревня Куттузи', 'посёлок Аннино',\n",
       "       'поселок городского типа Ефимовский', 'посёлок Плодовое',\n",
       "       'деревня Заклинье', 'поселок Торковичи', 'поселок Первомайское',\n",
       "       'Красное Село', 'посёлок Понтонный', 'Сясьстрой', 'деревня Старая',\n",
       "       'деревня Лесколово', 'посёлок Новый Свет', 'Сланцы',\n",
       "       'село Путилово', 'Ивангород', 'Мурино', 'Шлиссельбург',\n",
       "       'Никольское', 'Зеленогорск', 'Сосновый Бор', 'поселок Новый Свет',\n",
       "       'деревня Оржицы', 'деревня Кальтино', 'Кудрово',\n",
       "       'поселок Романовка', 'посёлок Бугры', 'поселок Бугры',\n",
       "       'поселок городского типа Рощино', 'Кириши', 'Луга', 'Волосово',\n",
       "       'Отрадное', 'село Павлово', 'поселок Оредеж', 'село Копорье',\n",
       "       'посёлок городского типа Красный Бор', 'посёлок Молодёжное',\n",
       "       'Тихвин', 'посёлок Победа', 'деревня Нурма',\n",
       "       'поселок городского типа Синявино', 'Тосно',\n",
       "       'посёлок городского типа Кузьмоловский', 'посёлок Стрельна',\n",
       "       'Бокситогорск', 'посёлок Александровская', 'деревня Лопухинка',\n",
       "       'Пикалёво', 'поселок Терволово',\n",
       "       'поселок городского типа Советский', 'Подпорожье',\n",
       "       'посёлок Петровское', 'посёлок городского типа Токсово',\n",
       "       'поселок Сельцо', 'посёлок городского типа Вырица',\n",
       "       'деревня Кипень', 'деревня Келози', 'деревня Вартемяги',\n",
       "       'посёлок Тельмана', 'поселок Севастьяново',\n",
       "       'городской поселок Большая Ижора', 'unknown',\n",
       "       'городской посёлок Павлово', 'деревня Агалатово',\n",
       "       'посёлок Новогорелово', 'городской посёлок Лесогорский',\n",
       "       'деревня Лаголово', 'поселок Цвелодубово',\n",
       "       'поселок городского типа Рахья', 'поселок городского типа Вырица',\n",
       "       'деревня Белогорка', 'поселок Заводской',\n",
       "       'городской посёлок Новоселье', 'деревня Большие Колпаны',\n",
       "       'деревня Горбунки', 'деревня Батово', 'деревня Заневка',\n",
       "       'деревня Иссад', 'Приморск', 'городской посёлок Фёдоровское',\n",
       "       'деревня Мистолово', 'Новая Ладога', 'поселок Зимитицы',\n",
       "       'поселок Барышево', 'деревня Разметелево',\n",
       "       'поселок городского типа имени Свердлова', 'деревня Пеники',\n",
       "       'поселок Рябово', 'деревня Пудомяги', 'поселок станции Корнево',\n",
       "       'деревня Низино', 'деревня Бегуницы', 'посёлок Поляны',\n",
       "       'городской посёлок Мга', 'поселок Елизаветино',\n",
       "       'посёлок городского типа Кузнечное', 'деревня Колтуши',\n",
       "       'поселок Запорожское', 'посёлок городского типа Рощино',\n",
       "       'деревня Гостилицы', 'деревня Малое Карлино',\n",
       "       'посёлок Мичуринское', 'посёлок городского типа имени Морозова',\n",
       "       'посёлок Песочный', 'посёлок Сосново', 'деревня Аро',\n",
       "       'поселок Ильичёво', 'посёлок городского типа Тайцы',\n",
       "       'деревня Малое Верево', 'деревня Извара', 'поселок станции Вещево',\n",
       "       'село Паша', 'деревня Калитино',\n",
       "       'посёлок городского типа Ульяновка', 'деревня Чудской Бор',\n",
       "       'поселок городского типа Дубровка', 'деревня Мины',\n",
       "       'поселок Войсковицы', 'посёлок городского типа имени Свердлова',\n",
       "       'деревня Коркино', 'посёлок Ропша',\n",
       "       'поселок городского типа Приладожский', 'посёлок Щеглово',\n",
       "       'посёлок Гаврилово', 'Лодейное Поле', 'деревня Рабитицы',\n",
       "       'поселок городского типа Никольский', 'деревня Кузьмолово',\n",
       "       'деревня Малые Колпаны', 'поселок Тельмана',\n",
       "       'посёлок Петро-Славянка', 'городской посёлок Назия',\n",
       "       'посёлок Репино', 'посёлок Ильичёво', 'поселок Углово',\n",
       "       'поселок Старая Малукса', 'садовое товарищество Рахья',\n",
       "       'поселок Аннино', 'поселок Победа', 'деревня Меньково',\n",
       "       'деревня Старые Бегуницы', 'посёлок Сапёрный', 'поселок Семрино',\n",
       "       'поселок Гаврилово', 'поселок Глажево', 'поселок Кобринское',\n",
       "       'деревня Гарболово', 'деревня Юкки',\n",
       "       'поселок станции Приветнинское', 'деревня Мануйлово',\n",
       "       'деревня Пчева', 'поселок Поляны', 'поселок Цвылёво',\n",
       "       'поселок Мельниково', 'посёлок Пудость', 'посёлок Усть-Луга',\n",
       "       'Светогорск', 'Любань', 'поселок Селезнёво',\n",
       "       'поселок городского типа Рябово', 'Каменногорск', 'деревня Кривко',\n",
       "       'поселок Глебычево', 'деревня Парицы', 'поселок Жилпосёлок',\n",
       "       'посёлок городского типа Мга', 'городской поселок Янино-1',\n",
       "       'посёлок Войскорово', 'село Никольское', 'посёлок Терволово',\n",
       "       'поселок Стеклянный', 'посёлок городского типа Важины',\n",
       "       'посёлок Мыза-Ивановка', 'село Русско-Высоцкое',\n",
       "       'поселок городского типа Лебяжье',\n",
       "       'поселок городского типа Форносово', 'село Старая Ладога',\n",
       "       'поселок Житково', 'городской посёлок Виллози', 'деревня Лампово',\n",
       "       'деревня Шпаньково', 'деревня Лаврики', 'посёлок Сумино',\n",
       "       'посёлок Возрождение', 'деревня Старосиверская',\n",
       "       'посёлок Кикерино', 'поселок Возрождение',\n",
       "       'деревня Старое Хинколово', 'посёлок Пригородный',\n",
       "       'посёлок Торфяное', 'городской посёлок Будогощь',\n",
       "       'поселок Суходолье', 'поселок Красная Долина', 'деревня Хапо-Ое',\n",
       "       'поселок городского типа Дружная Горка', 'поселок Лисий Нос',\n",
       "       'деревня Яльгелево', 'посёлок Стеклянный', 'село Рождествено',\n",
       "       'деревня Старополье', 'посёлок Левашово', 'деревня Сяськелево',\n",
       "       'деревня Камышовка',\n",
       "       'садоводческое некоммерческое товарищество Лесная Поляна',\n",
       "       'деревня Хязельки', 'поселок Жилгородок',\n",
       "       'посёлок городского типа Павлово', 'деревня Ялгино',\n",
       "       'поселок Новый Учхоз', 'городской посёлок Рощино',\n",
       "       'поселок Гончарово', 'поселок Почап', 'посёлок Сапёрное',\n",
       "       'посёлок Платформа 69-й километр', 'поселок Каложицы',\n",
       "       'деревня Фалилеево', 'деревня Пельгора',\n",
       "       'поселок городского типа Лесогорский', 'деревня Торошковичи',\n",
       "       'посёлок Белоостров', 'посёлок Алексеевка', 'поселок Серебрянский',\n",
       "       'поселок Лукаши', 'поселок Петровское', 'деревня Щеглово',\n",
       "       'поселок Мичуринское', 'деревня Тарасово', 'поселок Кингисеппский',\n",
       "       'посёлок при железнодорожной станции Вещево', 'поселок Ушаки',\n",
       "       'деревня Котлы', 'деревня Сижно', 'деревня Торосово',\n",
       "       'посёлок Форт Красная Горка', 'поселок городского типа Токсово',\n",
       "       'деревня Новолисино', 'посёлок станции Громово', 'деревня Глинка',\n",
       "       'посёлок Мельниково', 'поселок городского типа Назия',\n",
       "       'деревня Старая Пустошь', 'поселок Коммунары', 'поселок Починок',\n",
       "       'посёлок городского типа Вознесенье', 'деревня Разбегаево',\n",
       "       'посёлок городского типа Рябово', 'поселок Гладкое',\n",
       "       'посёлок при железнодорожной станции Приветнинское',\n",
       "       'поселок Тёсово-4', 'посёлок Жилгородок', 'деревня Бор',\n",
       "       'посёлок Коробицыно', 'деревня Большая Вруда', 'деревня Курковицы',\n",
       "       'посёлок Лисий Нос', 'городской посёлок Советский',\n",
       "       'посёлок Кобралово', 'деревня Суоранда', 'поселок Кобралово',\n",
       "       'поселок городского типа Кондратьево',\n",
       "       'коттеджный поселок Счастье', 'поселок Любань', 'деревня Реброво',\n",
       "       'деревня Зимитицы', 'деревня Тойворово', 'поселок Семиозерье',\n",
       "       'поселок Лесное', 'поселок Совхозный', 'поселок Усть-Луга',\n",
       "       'посёлок Ленинское', 'посёлок Суйда',\n",
       "       'посёлок городского типа Форносово', 'деревня Нижние Осельки',\n",
       "       'посёлок станции Свирь', 'поселок Перово', 'Высоцк',\n",
       "       'поселок Гарболово', 'село Шум', 'поселок Котельский',\n",
       "       'поселок станции Лужайка', 'деревня Большая Пустомержа',\n",
       "       'поселок Красносельское', 'деревня Вахнова Кара', 'деревня Пижма',\n",
       "       'коттеджный поселок Кивеннапа Север', 'поселок Коробицыно',\n",
       "       'поселок Ромашки', 'посёлок Перово', 'деревня Каськово',\n",
       "       'деревня Куровицы', 'посёлок Плоское', 'поселок Сумино',\n",
       "       'поселок городского типа Большая Ижора', 'поселок Кирпичное',\n",
       "       'деревня Ям-Тесово', 'деревня Раздолье', 'деревня Терпилицы',\n",
       "       'посёлок Шугозеро', 'деревня Ваганово', 'поселок Пушное',\n",
       "       'садовое товарищество Садко', 'посёлок Усть-Ижора',\n",
       "       'деревня Выскатка', 'городской посёлок Свирьстрой',\n",
       "       'поселок Громово', 'деревня Кисельня', 'посёлок Старая Малукса',\n",
       "       'деревня Трубников Бор', 'поселок Калитино',\n",
       "       'посёлок Высокоключевой', 'садовое товарищество Приладожский',\n",
       "       'посёлок Пансионат Зелёный Бор', 'деревня Ненимяки',\n",
       "       'поселок Пансионат Зелёный Бор', 'деревня Снегирёвка',\n",
       "       'деревня Рапполово', 'деревня Пустынка', 'поселок Рабитицы',\n",
       "       'деревня Большой Сабск', 'деревня Русско', 'деревня Лупполово',\n",
       "       'деревня Большое Рейзино', 'деревня Малая Романовка',\n",
       "       'поселок Дружноселье', 'поселок Пчевжа', 'поселок Володарское',\n",
       "       'деревня Нижняя', 'коттеджный посёлок Лесное', 'деревня Тихковицы',\n",
       "       'деревня Борисова Грива', 'посёлок Дзержинского'], dtype=object)"
      ]
     },
     "execution_count": 59,
     "metadata": {},
     "output_type": "execute_result"
    }
   ],
   "source": [
    "df['locality_name'].unique()"
   ]
  },
  {
   "cell_type": "markdown",
   "metadata": {},
   "source": [
    "Проанализировав список уникальных значений мы видим неявные дубликаты нужных нам населенных пунктов. \n",
    "\n",
    "Для того чтобы учесть все строки с необходимыми нам населенными пунктами напишем функцию для получения категорий населенных пунктов и добавим эти данные в новый столбец:"
   ]
  },
  {
   "cell_type": "code",
   "execution_count": 60,
   "metadata": {},
   "outputs": [],
   "source": [
    "def locality_top(row):\n",
    "    if 'Санкт-Петербург' in row:\n",
    "        return 'Санкт-Петербург'\n",
    "    if 'Мурино' in row:\n",
    "        return 'Мурино'\n",
    "    if 'Шушары' in row:\n",
    "        return 'Шушары'\n",
    "    if 'Всеволожск' in row:\n",
    "        return 'Всеволожск'\n",
    "    if 'Пушкин' in row:\n",
    "        return 'Пушкин'\n",
    "    if 'Колпино' in row:\n",
    "        return 'Колпино'\n",
    "    if 'Парголово' in row:\n",
    "        return 'Парголово'\n",
    "    if 'Гатчина' in row:\n",
    "        return 'Гатчина'\n",
    "    if 'Кудрово' in row:\n",
    "        return 'Кудрово'\n",
    "    if 'Выборг' in row:\n",
    "        return 'Выборг'"
   ]
  },
  {
   "cell_type": "markdown",
   "metadata": {},
   "source": [
    "Добавление нового столбца с категориями населенных пунктов из топ 10 с помощью `apply()`:"
   ]
  },
  {
   "cell_type": "code",
   "execution_count": 61,
   "metadata": {},
   "outputs": [],
   "source": [
    "df['locality_category'] = df['locality_name'].apply(locality_top)"
   ]
  },
  {
   "cell_type": "markdown",
   "metadata": {},
   "source": [
    "Получаем срез данных из df с 10 населенными пунктами по которым наибольшее число объявлений и сохраняем его в новой переменной `locality_top_10`:"
   ]
  },
  {
   "cell_type": "code",
   "execution_count": 62,
   "metadata": {},
   "outputs": [],
   "source": [
    "# создание списка необходимого для фильтрации\n",
    "locality_top_10 = ['Санкт-Петербург', 'Мурино', 'Шушары',\n",
    "                   'Всеволожск', 'Пушкин', 'Колпино', 'Парголово', 'Гатчина', 'Кудрово', 'Выборг']\n",
    "# получание среза данных с топ 10 населенных пунктов и сохранение его в новой переменной\n",
    "#locality_top_10 = df.query('locality_category.isin(@locality_top_10)')\n",
    "locality_top_10 = df[df['locality_category'].isin(locality_top_10)]"
   ]
  },
  {
   "cell_type": "markdown",
   "metadata": {},
   "source": [
    "Посчитаем среднюю цену квадрадного метра для 10 самых популярных населенных пунктов c помощью сводной таблицы:"
   ]
  },
  {
   "cell_type": "code",
   "execution_count": 63,
   "metadata": {
    "scrolled": false
   },
   "outputs": [
    {
     "data": {
      "text/html": [
       "<div>\n",
       "<style scoped>\n",
       "    .dataframe tbody tr th:only-of-type {\n",
       "        vertical-align: middle;\n",
       "    }\n",
       "\n",
       "    .dataframe tbody tr th {\n",
       "        vertical-align: top;\n",
       "    }\n",
       "\n",
       "    .dataframe thead th {\n",
       "        text-align: right;\n",
       "    }\n",
       "</style>\n",
       "<table border=\"1\" class=\"dataframe\">\n",
       "  <thead>\n",
       "    <tr style=\"text-align: right;\">\n",
       "      <th></th>\n",
       "      <th>price_meter</th>\n",
       "    </tr>\n",
       "    <tr>\n",
       "      <th>locality_category</th>\n",
       "      <th></th>\n",
       "    </tr>\n",
       "  </thead>\n",
       "  <tbody>\n",
       "    <tr>\n",
       "      <th>Санкт-Петербург</th>\n",
       "      <td>114544.142875</td>\n",
       "    </tr>\n",
       "    <tr>\n",
       "      <th>Пушкин</th>\n",
       "      <td>103618.626703</td>\n",
       "    </tr>\n",
       "    <tr>\n",
       "      <th>Кудрово</th>\n",
       "      <td>95878.889831</td>\n",
       "    </tr>\n",
       "    <tr>\n",
       "      <th>Парголово</th>\n",
       "      <td>90675.235474</td>\n",
       "    </tr>\n",
       "    <tr>\n",
       "      <th>Мурино</th>\n",
       "      <td>86729.120339</td>\n",
       "    </tr>\n",
       "    <tr>\n",
       "      <th>Шушары</th>\n",
       "      <td>79068.186364</td>\n",
       "    </tr>\n",
       "    <tr>\n",
       "      <th>Колпино</th>\n",
       "      <td>75735.150888</td>\n",
       "    </tr>\n",
       "    <tr>\n",
       "      <th>Гатчина</th>\n",
       "      <td>69045.068404</td>\n",
       "    </tr>\n",
       "    <tr>\n",
       "      <th>Всеволожск</th>\n",
       "      <td>68984.801508</td>\n",
       "    </tr>\n",
       "    <tr>\n",
       "      <th>Выборг</th>\n",
       "      <td>58295.691983</td>\n",
       "    </tr>\n",
       "  </tbody>\n",
       "</table>\n",
       "</div>"
      ],
      "text/plain": [
       "                     price_meter\n",
       "locality_category               \n",
       "Санкт-Петербург    114544.142875\n",
       "Пушкин             103618.626703\n",
       "Кудрово             95878.889831\n",
       "Парголово           90675.235474\n",
       "Мурино              86729.120339\n",
       "Шушары              79068.186364\n",
       "Колпино             75735.150888\n",
       "Гатчина             69045.068404\n",
       "Всеволожск          68984.801508\n",
       "Выборг              58295.691983"
      ]
     },
     "execution_count": 63,
     "metadata": {},
     "output_type": "execute_result"
    }
   ],
   "source": [
    "locality_top_10.pivot_table(index='locality_category', values='price_meter').sort_values(by='price_meter', ascending=False)"
   ]
  },
  {
   "cell_type": "markdown",
   "metadata": {},
   "source": [
    "На основе рассчетов можно сделать вывод, что в Санкт-Петербурге самая высокая стоимость жилья, а в Выборге самая низкая."
   ]
  },
  {
   "cell_type": "markdown",
   "metadata": {},
   "source": [
    "**Вывод:**\n",
    "\n",
    "Выделили 10 населённых пунктов с наибольшим числом объявлений. Посчитали среднюю цену квадратного метра в этих населённых пунктах. Выделили населённые пункты с самой высокой и низкой стоимостью жилья."
   ]
  },
  {
   "cell_type": "markdown",
   "metadata": {},
   "source": [
    "### Выясняем какая область входит в центр Санкт-Петербурга"
   ]
  },
  {
   "cell_type": "markdown",
   "metadata": {},
   "source": [
    "Выделим квартиры из Санкт-Петербурга и сохраним в переменной `spb`:"
   ]
  },
  {
   "cell_type": "code",
   "execution_count": 64,
   "metadata": {},
   "outputs": [],
   "source": [
    "spb = df.query('locality_category == \"Санкт-Петербург\"')"
   ]
  },
  {
   "cell_type": "markdown",
   "metadata": {},
   "source": [
    "Добавляем новый столбец в `spb` с расстоянием до центра в км:"
   ]
  },
  {
   "cell_type": "code",
   "execution_count": 65,
   "metadata": {
    "scrolled": true
   },
   "outputs": [
    {
     "name": "stderr",
     "output_type": "stream",
     "text": [
      "C:\\Users\\evgen\\AppData\\Local\\Temp/ipykernel_12456/2586879591.py:1: SettingWithCopyWarning: \n",
      "A value is trying to be set on a copy of a slice from a DataFrame.\n",
      "Try using .loc[row_indexer,col_indexer] = value instead\n",
      "\n",
      "See the caveats in the documentation: https://pandas.pydata.org/pandas-docs/stable/user_guide/indexing.html#returning-a-view-versus-a-copy\n",
      "  spb['distance_center'] = (df['city_centers_nearest']/1000).round(0)\n"
     ]
    }
   ],
   "source": [
    "spb['distance_center'] = (df['city_centers_nearest']/1000).round(0)"
   ]
  },
  {
   "cell_type": "markdown",
   "metadata": {},
   "source": [
    "Построим график по средней цене каждого километра удаления от центра:"
   ]
  },
  {
   "cell_type": "code",
   "execution_count": 66,
   "metadata": {},
   "outputs": [
    {
     "data": {
      "image/png": "[encoded data removed]",
      "text/plain": [
       "<Figure size 432x288 with 1 Axes>"
      ]
     },
     "metadata": {
      "needs_background": "light"
     },
     "output_type": "display_data"
    }
   ],
   "source": [
    "spb.pivot_table(index='distance_center', values='last_price').plot(grid=True);\n"
   ]
  },
  {
   "cell_type": "markdown",
   "metadata": {},
   "source": [
    "На основе данного графика можно сделать вывод, что границы центра города ограничиваются радиусом 7км. На графике видно, что после седьмого линия средней цены снижается без особых выбрасов(без учета выброса на 22км)."
   ]
  },
  {
   "cell_type": "markdown",
   "metadata": {},
   "source": [
    "**Вывод:**\n",
    "\n",
    "Выделили квартиры в Санкт-петербурге, выяснили что квартиры расположенные на растоянии 7км от центра входят в область центра города."
   ]
  },
  {
   "cell_type": "markdown",
   "metadata": {},
   "source": [
    "### Изучение основных параметров для квартир расположенных в центре"
   ]
  },
  {
   "cell_type": "markdown",
   "metadata": {},
   "source": [
    "Выделим сегмент квартир находящихся в центре, создадим фильтр для `spb`с условием удаленности от центра менее 7 км и сохраним в `spb_center`:"
   ]
  },
  {
   "cell_type": "code",
   "execution_count": 67,
   "metadata": {},
   "outputs": [],
   "source": [
    "spb_center = spb.query('distance_center <= 7')"
   ]
  },
  {
   "cell_type": "markdown",
   "metadata": {},
   "source": [
    "Изучение следующих параметров для квартир находящихся в центре: \n",
    "* площадь\n",
    "* цена \n",
    "* число комнат\n",
    "* высота потолков\n",
    "\n",
    "Построим гистограммы для каждого параметра."
   ]
  },
  {
   "cell_type": "markdown",
   "metadata": {},
   "source": [
    "**Построим гистограмму общей площади по столбцу `total_area`:**"
   ]
  },
  {
   "cell_type": "code",
   "execution_count": 68,
   "metadata": {},
   "outputs": [
    {
     "data": {
      "text/plain": [
       "<AxesSubplot:>"
      ]
     },
     "execution_count": 68,
     "metadata": {},
     "output_type": "execute_result"
    },
    {
     "data": {
      "image/png": "[encoded data removed]",
      "text/plain": [
       "<Figure size 432x288 with 1 Axes>"
      ]
     },
     "metadata": {
      "needs_background": "light"
     },
     "output_type": "display_data"
    }
   ],
   "source": [
    "spb_center['total_area'].hist(bins=100)"
   ]
  },
  {
   "cell_type": "markdown",
   "metadata": {},
   "source": [
    "По данной гистограмме можно сделать вывод, что большинство квартир в центре города имеют площадь от 50 м2 до 100м2, квартиры с площадью более 200 м2 встречаются очень редко."
   ]
  },
  {
   "cell_type": "markdown",
   "metadata": {},
   "source": [
    "**Построим гистограмму цены квартир по столбцу `last_price`:**"
   ]
  },
  {
   "cell_type": "code",
   "execution_count": 69,
   "metadata": {},
   "outputs": [
    {
     "data": {
      "text/plain": [
       "<AxesSubplot:>"
      ]
     },
     "execution_count": 69,
     "metadata": {},
     "output_type": "execute_result"
    },
    {
     "data": {
      "image/png": "[encoded data removed]",
      "text/plain": [
       "<Figure size 432x288 with 1 Axes>"
      ]
     },
     "metadata": {
      "needs_background": "light"
     },
     "output_type": "display_data"
    }
   ],
   "source": [
    "spb_center['last_price'].hist(bins=100)"
   ]
  },
  {
   "cell_type": "markdown",
   "metadata": {},
   "source": [
    "Для наглядности разделим данные на два диапазона.\n",
    "\n",
    "Построим гистограмму с диапазоном цены от 0 до 50 000 000:"
   ]
  },
  {
   "cell_type": "code",
   "execution_count": 70,
   "metadata": {},
   "outputs": [
    {
     "data": {
      "text/plain": [
       "<AxesSubplot:>"
      ]
     },
     "execution_count": 70,
     "metadata": {},
     "output_type": "execute_result"
    },
    {
     "data": {
      "image/png": "[encoded data removed]",
      "text/plain": [
       "<Figure size 432x288 with 1 Axes>"
      ]
     },
     "metadata": {
      "needs_background": "light"
     },
     "output_type": "display_data"
    }
   ],
   "source": [
    "spb_center['last_price'].hist(bins=100, range=(0,0.5e8))"
   ]
  },
  {
   "cell_type": "markdown",
   "metadata": {},
   "source": [
    "На данной гистограмме видно, что большинство квартир стоят от 5 000 000 до 10 000 000. Пик цены приходится приблизительно на 6 000 000."
   ]
  },
  {
   "cell_type": "markdown",
   "metadata": {},
   "source": [
    "Построим гистограмму с диапазоном цены от 50 000 000 до 330 000 000:"
   ]
  },
  {
   "cell_type": "code",
   "execution_count": 71,
   "metadata": {},
   "outputs": [
    {
     "data": {
      "text/plain": [
       "<AxesSubplot:>"
      ]
     },
     "execution_count": 71,
     "metadata": {},
     "output_type": "execute_result"
    },
    {
     "data": {
      "image/png": "[encoded data removed]",
      "text/plain": [
       "<Figure size 432x288 with 1 Axes>"
      ]
     },
     "metadata": {
      "needs_background": "light"
     },
     "output_type": "display_data"
    }
   ],
   "source": [
    "spb_center['last_price'].hist(bins=100, range=(0.5e8,3.3e8))"
   ]
  },
  {
   "cell_type": "markdown",
   "metadata": {},
   "source": [
    "На данной гистограмме видно, что большинство квартир в этом диапазоне стоят до 100 000 000."
   ]
  },
  {
   "cell_type": "markdown",
   "metadata": {},
   "source": [
    "**Построим гистограмму коллчества комнат в квартире по столбцу `rooms`:** "
   ]
  },
  {
   "cell_type": "code",
   "execution_count": 72,
   "metadata": {},
   "outputs": [
    {
     "data": {
      "image/png": "[encoded data removed]",
      "text/plain": [
       "<Figure size 432x288 with 1 Axes>"
      ]
     },
     "metadata": {
      "needs_background": "light"
     },
     "output_type": "display_data"
    }
   ],
   "source": [
    "spb_center['rooms'].hist(bins=20);"
   ]
  },
  {
   "cell_type": "markdown",
   "metadata": {},
   "source": [
    "Построим гистограмму на которой будут изображены квартиры с колличеством комнат от 0 до 7:"
   ]
  },
  {
   "cell_type": "code",
   "execution_count": 73,
   "metadata": {},
   "outputs": [
    {
     "data": {
      "image/png": "[encoded data removed]",
      "text/plain": [
       "<Figure size 432x288 with 1 Axes>"
      ]
     },
     "metadata": {
      "needs_background": "light"
     },
     "output_type": "display_data"
    }
   ],
   "source": [
    "spb_center['rooms'].hist(bins=7, range=(0,7));"
   ]
  },
  {
   "cell_type": "markdown",
   "metadata": {},
   "source": [
    "Построим гистограмму на которой будут изображены квартиры с колличеством комнат от 7 до 19:"
   ]
  },
  {
   "cell_type": "code",
   "execution_count": 74,
   "metadata": {},
   "outputs": [
    {
     "data": {
      "image/png": "[encoded data removed]",
      "text/plain": [
       "<Figure size 432x288 with 1 Axes>"
      ]
     },
     "metadata": {
      "needs_background": "light"
     },
     "output_type": "display_data"
    }
   ],
   "source": [
    "spb_center['rooms'].hist(bins=13, range=(7,19));"
   ]
  },
  {
   "cell_type": "markdown",
   "metadata": {},
   "source": [
    "На основе этих гистограмм можно сделать вывод, что квартиры в центре чаще всего двухкомнатные и трехкомнатные, следующими по популярности являются онокомнатные и четырехкомнатные, квартиры с иным количеством комнат встречаются редкл."
   ]
  },
  {
   "cell_type": "markdown",
   "metadata": {},
   "source": [
    "**Построим гистограмму высоты потолка в квартире по столбцу `ceiling_height`:**"
   ]
  },
  {
   "cell_type": "code",
   "execution_count": 75,
   "metadata": {},
   "outputs": [
    {
     "data": {
      "image/png": "[encoded data removed]",
      "text/plain": [
       "<Figure size 432x288 with 1 Axes>"
      ]
     },
     "metadata": {
      "needs_background": "light"
     },
     "output_type": "display_data"
    }
   ],
   "source": [
    "spb_center['ceiling_height'].hist(bins=20);"
   ]
  },
  {
   "cell_type": "markdown",
   "metadata": {},
   "source": [
    "На этой гистограмме видно, что большинство квартир имеют высоту потолков приблизительно 2.7м"
   ]
  },
  {
   "cell_type": "markdown",
   "metadata": {},
   "source": [
    "**Вывод:**\n",
    "\n",
    "Изучили основные параметры квартир расположенных в центре с помощью гистограмм и сделали выводы по каждой гистограмме.\n",
    "\n",
    "Произвели равнение основных параметров общей базы данных и базы данных с квартирами из центра Санкт-Петербурга:\n",
    "* В общей базе данных квартиры чаще всего имеют площадь от 30м2 до 75м2, в центре от 50м2 до 100м2\n",
    "* Данные на гистограммах цены по общей базе и базе из центра практически не отличаются\n",
    "* В общей базе данных большинство квартир однокомнатные, двухкомнатные и трехкомнатные, в центре большинство двухкомнатных и трехкомнатных, а однокомнатных гораздо меньше\n",
    "* Высота потолков в общей базе и в базе из центра практически одинаковая."
   ]
  },
  {
   "cell_type": "code",
   "execution_count": 76,
   "metadata": {},
   "outputs": [
    {
     "data": {
      "image/png": "[encoded data removed]",
      "text/plain": [
       "<Figure size 1080x288 with 2 Axes>"
      ]
     },
     "metadata": {
      "needs_background": "light"
     },
     "output_type": "display_data"
    }
   ],
   "source": [
    "# код ревьюера\n",
    "\n",
    "import matplotlib.pyplot as plt\n",
    "\n",
    "fig, axes = plt.subplots(1,2,figsize=(15,4))\n",
    "\n",
    "spb_center['ceiling_height'].hist(bins=30, ax=axes[0], range=(2,5), density=True)\n",
    "df['ceiling_height'].hist(bins=30, ax=axes[1], range=(2,5), density=True)\n",
    "\n",
    "axes[0].set_title('Распределение высоты потолков в центре')\n",
    "axes[1].set_title('Распределение высоты потолков по всему городу')\n",
    "\n",
    "plt.show()"
   ]
  },
  {
   "cell_type": "markdown",
   "metadata": {},
   "source": [
    "### Изучение взаимосвязей в данных для квартир расположенных в центре."
   ]
  },
  {
   "cell_type": "markdown",
   "metadata": {},
   "source": [
    "**Изучение взаимосвязи цены квартиры `last_price` и общей площади `total_area`:**"
   ]
  },
  {
   "cell_type": "markdown",
   "metadata": {},
   "source": [
    "Изучим взаимосвязь с помощью диаграммы рассеяния:"
   ]
  },
  {
   "cell_type": "code",
   "execution_count": 77,
   "metadata": {},
   "outputs": [
    {
     "data": {
      "image/png": "[encoded data removed]",
      "text/plain": [
       "<Figure size 432x288 with 1 Axes>"
      ]
     },
     "metadata": {
      "needs_background": "light"
     },
     "output_type": "display_data"
    }
   ],
   "source": [
    "spb_center.plot(x = 'total_area', y = 'last_price', kind='scatter', grid=True); # построим диаграмму рассеяния"
   ]
  },
  {
   "cell_type": "markdown",
   "metadata": {},
   "source": [
    "С помощью метода `corr()` посмотрим на корреляцию `last_price` и `total_area`:"
   ]
  },
  {
   "cell_type": "code",
   "execution_count": 78,
   "metadata": {},
   "outputs": [
    {
     "data": {
      "text/plain": [
       "0.68"
      ]
     },
     "execution_count": 78,
     "metadata": {},
     "output_type": "execute_result"
    }
   ],
   "source": [
    "spb_center['last_price'].corr(spb_center['total_area']).round(2)"
   ]
  },
  {
   "cell_type": "markdown",
   "metadata": {},
   "source": [
    "На основе диаграммы рассеяния и коэффициента корреляции можно сделать вывод, что взаимосвязь между ценой и площадью квартиры имеется. С увеличеним площади квартиры растет и цена, видно что при площади 150м2 и более цены начинают резко возрастать. Коэффициент корреляции 0.64 можно интерпретировать как среднюю зависимость."
   ]
  },
  {
   "cell_type": "markdown",
   "metadata": {},
   "source": [
    "**Изучение взаимосвязи цены квартиры `last_price` и числа комнат `rooms`:**"
   ]
  },
  {
   "cell_type": "markdown",
   "metadata": {},
   "source": [
    "Изучим зависимость с помощью столбчатой диаграммы:"
   ]
  },
  {
   "cell_type": "code",
   "execution_count": 79,
   "metadata": {},
   "outputs": [
    {
     "data": {
      "image/png": "[encoded data removed]",
      "text/plain": [
       "<Figure size 432x288 with 1 Axes>"
      ]
     },
     "metadata": {
      "needs_background": "light"
     },
     "output_type": "display_data"
    }
   ],
   "source": [
    "# столбчатая диаграмма по медианным значениям цены\n",
    "spb_center.pivot_table(index='rooms', values='last_price', aggfunc='median').plot.bar();"
   ]
  },
  {
   "cell_type": "markdown",
   "metadata": {},
   "source": [
    "С помощью метода `corr()` посмотрим на корреляцию `last_price` и `rooms`:"
   ]
  },
  {
   "cell_type": "code",
   "execution_count": 80,
   "metadata": {},
   "outputs": [
    {
     "data": {
      "text/plain": [
       "0.3664966573383602"
      ]
     },
     "execution_count": 80,
     "metadata": {},
     "output_type": "execute_result"
    }
   ],
   "source": [
    "spb_center['rooms'].corr(spb_center['last_price'])"
   ]
  },
  {
   "cell_type": "markdown",
   "metadata": {},
   "source": [
    "На основе этой столбчатой диграммы можно сделать вывод, что цена и количестьво комнат в целом взаимосвязаны,\n",
    "прямая взаимосвязь наблюдается до квартир с семью комнатами, однако по каким то причинам медианная цена восьмикомнатных квартир меньше семикомнатных, а одинадцетикомнатных меньше десятикомнатных."
   ]
  },
  {
   "cell_type": "markdown",
   "metadata": {},
   "source": [
    "**Изучение взаимосвязи цены квартиры `last_price` и удаленности от центра `city_centers_nearest`**"
   ]
  },
  {
   "cell_type": "markdown",
   "metadata": {},
   "source": [
    "Изучим взаимосвязь с помощью диаграммы рассеяния:"
   ]
  },
  {
   "cell_type": "code",
   "execution_count": 81,
   "metadata": {},
   "outputs": [
    {
     "data": {
      "image/png": "[encoded data removed]",
      "text/plain": [
       "<Figure size 432x288 with 1 Axes>"
      ]
     },
     "metadata": {
      "needs_background": "light"
     },
     "output_type": "display_data"
    }
   ],
   "source": [
    "spb_center.plot(x = 'city_centers_nearest', y = 'last_price', kind='scatter', grid=True);"
   ]
  },
  {
   "cell_type": "markdown",
   "metadata": {},
   "source": [
    "На этом графике видно, что цены квартир расположенных в центре города не зависят от удаленности от центра."
   ]
  },
  {
   "cell_type": "markdown",
   "metadata": {},
   "source": [
    "**Изучение взаимосвязи цены квартиры `last_price` от того, на каком этаже расположена квартира `floor_category`:**"
   ]
  },
  {
   "cell_type": "code",
   "execution_count": 82,
   "metadata": {},
   "outputs": [
    {
     "data": {
      "image/png": "[encoded data removed]",
      "text/plain": [
       "<Figure size 432x288 with 1 Axes>"
      ]
     },
     "metadata": {
      "needs_background": "light"
     },
     "output_type": "display_data"
    }
   ],
   "source": [
    "spb_center.pivot_table(index='floor_category', values='last_price', aggfunc='median').plot.bar();"
   ]
  },
  {
   "cell_type": "markdown",
   "metadata": {},
   "source": [
    "На основе этой столбчатой диаграмы можно сделать вывод, что квартиры на первом этаже обычно стоят дешевле чем на другом или последнем этаже. Немного дороже стоят квартиры из категории \"другой\", чем из категории \"последний\"."
   ]
  },
  {
   "cell_type": "markdown",
   "metadata": {},
   "source": [
    "**Изучение зависимости цены квартиры `last_price` от дня недели в который размещено объявление `weekday_exposition`**."
   ]
  },
  {
   "cell_type": "code",
   "execution_count": 83,
   "metadata": {},
   "outputs": [
    {
     "data": {
      "image/png": "[encoded data removed]",
      "text/plain": [
       "<Figure size 576x432 with 1 Axes>"
      ]
     },
     "metadata": {
      "needs_background": "light"
     },
     "output_type": "display_data"
    }
   ],
   "source": [
    "spb_center.pivot_table(index='weekday_exposition', values='last_price', aggfunc='median').plot.bar(figsize=(8,6));"
   ]
  },
  {
   "cell_type": "markdown",
   "metadata": {},
   "source": [
    "На столбчатой диаграмме видно, что цены квартир особо не зависят от того, в какой день недели было размещено обьявление."
   ]
  },
  {
   "cell_type": "markdown",
   "metadata": {},
   "source": [
    "**Изучение зависимости цены квартиры `last_price` от месяца в который размещено объявление `month_exposition`**."
   ]
  },
  {
   "cell_type": "code",
   "execution_count": 84,
   "metadata": {},
   "outputs": [
    {
     "data": {
      "image/png": "[encoded data removed]",
      "text/plain": [
       "<Figure size 576x432 with 1 Axes>"
      ]
     },
     "metadata": {
      "needs_background": "light"
     },
     "output_type": "display_data"
    }
   ],
   "source": [
    "spb_center.pivot_table(index='month_exposition', values='last_price', aggfunc='median').plot.bar(figsize=(8,6));"
   ]
  },
  {
   "cell_type": "markdown",
   "metadata": {},
   "source": [
    "На столбчатой диаграмме видно, что цены квартир особо не зависят от того, в какой месяц было размещено обьявление."
   ]
  },
  {
   "cell_type": "markdown",
   "metadata": {},
   "source": [
    "**Изучение зависимости цены квартиры `last_price` от года в который размещено объявление `year_exposition`**."
   ]
  },
  {
   "cell_type": "code",
   "execution_count": 85,
   "metadata": {},
   "outputs": [
    {
     "data": {
      "image/png": "[encoded data removed]",
      "text/plain": [
       "<Figure size 576x432 with 1 Axes>"
      ]
     },
     "metadata": {
      "needs_background": "light"
     },
     "output_type": "display_data"
    }
   ],
   "source": [
    "spb_center.pivot_table(index='year_exposition', values='last_price', aggfunc='median').plot.bar(figsize=(8,6));"
   ]
  },
  {
   "cell_type": "markdown",
   "metadata": {},
   "source": [
    "На диаграмме видно, что квартиры размещенные в 2014г стоили дороже всего, цены квартир размещенных в остальные годы особо не отличаются."
   ]
  },
  {
   "cell_type": "markdown",
   "metadata": {},
   "source": [
    "**Вывод:**\n",
    "\n",
    "Проанализировав квартиры расположенные в центре можно сделать вывод, что цена зависит от общей площади, числа комнат и этажа, при этом зависимость цены и удаленности от центра отсутствует. Так же отсутствует зависимость от дня недели в который размещено обьявление и месяца, но квартиры размещенные в 2014г стоили дороже всего. При сравнении взаимосвязей общей базы данных и данных с квартирами из центра Санкт-Петербурга видно, что в целом взаимосвязи идентичны, за исключением зависимости цены и удаленности от центра."
   ]
  },
  {
   "cell_type": "markdown",
   "metadata": {},
   "source": [
    "## Общий вывод"
   ]
  },
  {
   "cell_type": "markdown",
   "metadata": {},
   "source": [
    "В проекте мы определили и обработали пропущенные значения датасета, изменили типы данных на оптимальные, добавили в таблицу необходимые рассчеты, изучили основные параметры квартир опубликованных в обьявленях, изучили время продажи квартир, удалили редкие и выбивающиеся значния, а так же изучили взаимосвязи в данных. Далее мы выделили 10 населенных пунктов с наибольшим числом объявлений, выделили из них населенные пункты с самой высокой и низкой стоимостью жилья. Выяснили какая область входит в центр Санкт-Петербурга, так же изучили основные параметры и взаимосвязи квартир расположенных в центре. Произвели сравнение основных параметров и взаимосвязей общего объема данных с данными квартир расположенных в центре."
   ]
  }
 ],
 "metadata": {
  "ExecuteTimeLog": [
   {
    "duration": 563,
    "start_time": "2022-02-17T14:15:34.729Z"
   },
   {
    "duration": 54,
    "start_time": "2022-02-17T14:15:35.294Z"
   },
   {
    "duration": 12,
    "start_time": "2022-02-17T14:15:53.874Z"
   },
   {
    "duration": 54,
    "start_time": "2022-02-17T14:17:26.869Z"
   },
   {
    "duration": 6,
    "start_time": "2022-02-17T14:17:27.331Z"
   },
   {
    "duration": 63,
    "start_time": "2022-02-17T14:17:43.960Z"
   },
   {
    "duration": 34,
    "start_time": "2022-02-17T14:17:44.207Z"
   },
   {
    "duration": 12,
    "start_time": "2022-02-17T14:20:56.735Z"
   },
   {
    "duration": 23,
    "start_time": "2022-02-17T14:40:25.601Z"
   },
   {
    "duration": 5,
    "start_time": "2022-02-17T14:42:35.753Z"
   },
   {
    "duration": 5,
    "start_time": "2022-02-17T14:42:44.783Z"
   },
   {
    "duration": 369,
    "start_time": "2022-02-17T14:44:13.040Z"
   },
   {
    "duration": 288,
    "start_time": "2022-02-17T14:44:25.892Z"
   },
   {
    "duration": 274,
    "start_time": "2022-02-17T14:44:52.275Z"
   },
   {
    "duration": 98,
    "start_time": "2022-02-17T14:45:04.340Z"
   },
   {
    "duration": 98,
    "start_time": "2022-02-17T14:46:30.340Z"
   },
   {
    "duration": 266,
    "start_time": "2022-02-17T14:46:36.136Z"
   },
   {
    "duration": 34,
    "start_time": "2022-02-17T14:46:42.439Z"
   },
   {
    "duration": 44,
    "start_time": "2022-02-17T14:47:08.388Z"
   },
   {
    "duration": 10,
    "start_time": "2022-02-17T14:47:19.631Z"
   },
   {
    "duration": 41,
    "start_time": "2022-02-17T14:47:41.020Z"
   },
   {
    "duration": 53,
    "start_time": "2022-02-17T14:48:00.386Z"
   },
   {
    "duration": 4,
    "start_time": "2022-02-17T14:56:05.617Z"
   },
   {
    "duration": 5,
    "start_time": "2022-02-17T14:56:21.062Z"
   },
   {
    "duration": 283,
    "start_time": "2022-02-17T14:56:38.774Z"
   },
   {
    "duration": 258,
    "start_time": "2022-02-17T14:56:59.717Z"
   },
   {
    "duration": 382,
    "start_time": "2022-02-17T14:57:12.582Z"
   },
   {
    "duration": 117,
    "start_time": "2022-02-17T14:57:18.255Z"
   },
   {
    "duration": 532,
    "start_time": "2022-02-17T14:57:35.792Z"
   },
   {
    "duration": 116,
    "start_time": "2022-02-17T14:59:06.857Z"
   },
   {
    "duration": 192,
    "start_time": "2022-02-17T15:01:39.860Z"
   },
   {
    "duration": 399,
    "start_time": "2022-02-17T15:04:33.056Z"
   },
   {
    "duration": 487,
    "start_time": "2022-02-17T15:04:48.129Z"
   },
   {
    "duration": 127,
    "start_time": "2022-02-17T15:04:52.497Z"
   },
   {
    "duration": 171,
    "start_time": "2022-02-17T15:04:56.548Z"
   },
   {
    "duration": 254,
    "start_time": "2022-02-17T15:05:03.450Z"
   },
   {
    "duration": 565,
    "start_time": "2022-02-17T15:05:22.836Z"
   },
   {
    "duration": 65,
    "start_time": "2022-02-17T15:42:01.285Z"
   },
   {
    "duration": 61,
    "start_time": "2022-02-17T15:42:41.159Z"
   },
   {
    "duration": 5,
    "start_time": "2022-02-17T15:43:03.616Z"
   },
   {
    "duration": 6,
    "start_time": "2022-02-17T15:43:46.759Z"
   },
   {
    "duration": 4,
    "start_time": "2022-02-17T15:44:07.196Z"
   },
   {
    "duration": 40,
    "start_time": "2022-02-17T15:44:11.986Z"
   },
   {
    "duration": 94,
    "start_time": "2022-02-17T16:13:14.424Z"
   },
   {
    "duration": 5,
    "start_time": "2022-02-17T16:13:35.735Z"
   },
   {
    "duration": 268,
    "start_time": "2022-02-17T16:14:48.218Z"
   },
   {
    "duration": 4,
    "start_time": "2022-02-17T16:15:22.418Z"
   },
   {
    "duration": 5,
    "start_time": "2022-02-17T16:15:40.782Z"
   },
   {
    "duration": 257,
    "start_time": "2022-02-17T16:16:09.033Z"
   },
   {
    "duration": 280,
    "start_time": "2022-02-17T16:16:15.606Z"
   },
   {
    "duration": 292,
    "start_time": "2022-02-17T16:16:28.869Z"
   },
   {
    "duration": 247,
    "start_time": "2022-02-17T16:16:32.370Z"
   },
   {
    "duration": 277,
    "start_time": "2022-02-17T16:16:36.493Z"
   },
   {
    "duration": 262,
    "start_time": "2022-02-17T16:16:51.921Z"
   },
   {
    "duration": 269,
    "start_time": "2022-02-17T16:16:59.063Z"
   },
   {
    "duration": 260,
    "start_time": "2022-02-17T16:17:02.547Z"
   },
   {
    "duration": 257,
    "start_time": "2022-02-17T16:17:28.067Z"
   },
   {
    "duration": 484,
    "start_time": "2022-02-17T16:17:38.040Z"
   },
   {
    "duration": 3,
    "start_time": "2022-02-17T16:17:44.421Z"
   },
   {
    "duration": 65,
    "start_time": "2022-02-17T16:17:44.426Z"
   },
   {
    "duration": 23,
    "start_time": "2022-02-17T16:17:44.492Z"
   },
   {
    "duration": 15,
    "start_time": "2022-02-17T16:17:44.517Z"
   },
   {
    "duration": 5,
    "start_time": "2022-02-17T16:17:44.534Z"
   },
   {
    "duration": 5,
    "start_time": "2022-02-17T16:17:44.541Z"
   },
   {
    "duration": 6,
    "start_time": "2022-02-17T16:18:18.825Z"
   },
   {
    "duration": 1051,
    "start_time": "2022-02-17T16:18:52.932Z"
   },
   {
    "duration": 56,
    "start_time": "2022-02-17T16:22:37.119Z"
   },
   {
    "duration": 9,
    "start_time": "2022-02-17T16:22:48.449Z"
   },
   {
    "duration": 9,
    "start_time": "2022-02-17T16:22:51.095Z"
   },
   {
    "duration": 33,
    "start_time": "2022-02-17T16:22:53.979Z"
   },
   {
    "duration": 11,
    "start_time": "2022-02-17T16:23:00.323Z"
   },
   {
    "duration": 2,
    "start_time": "2022-02-17T16:23:36.650Z"
   },
   {
    "duration": 68,
    "start_time": "2022-02-17T16:23:36.654Z"
   },
   {
    "duration": 23,
    "start_time": "2022-02-17T16:23:36.724Z"
   },
   {
    "duration": 12,
    "start_time": "2022-02-17T16:23:36.748Z"
   },
   {
    "duration": 5,
    "start_time": "2022-02-17T16:23:36.761Z"
   },
   {
    "duration": 8,
    "start_time": "2022-02-17T16:23:36.767Z"
   },
   {
    "duration": 9,
    "start_time": "2022-02-17T16:23:36.776Z"
   },
   {
    "duration": 260,
    "start_time": "2022-02-17T16:26:04.065Z"
   },
   {
    "duration": 324,
    "start_time": "2022-02-17T16:26:17.039Z"
   },
   {
    "duration": 272,
    "start_time": "2022-02-17T16:27:34.425Z"
   },
   {
    "duration": 3,
    "start_time": "2022-02-17T16:27:45.701Z"
   },
   {
    "duration": 64,
    "start_time": "2022-02-17T16:27:45.706Z"
   },
   {
    "duration": 20,
    "start_time": "2022-02-17T16:27:45.773Z"
   },
   {
    "duration": 9,
    "start_time": "2022-02-17T16:27:45.795Z"
   },
   {
    "duration": 4,
    "start_time": "2022-02-17T16:27:45.805Z"
   },
   {
    "duration": 285,
    "start_time": "2022-02-17T16:27:45.810Z"
   },
   {
    "duration": 366,
    "start_time": "2022-02-17T16:27:45.730Z"
   },
   {
    "duration": 10,
    "start_time": "2022-02-17T16:28:04.971Z"
   },
   {
    "duration": 10,
    "start_time": "2022-02-17T16:28:08.131Z"
   },
   {
    "duration": 2,
    "start_time": "2022-02-17T16:29:04.866Z"
   },
   {
    "duration": 2,
    "start_time": "2022-02-17T16:29:05.502Z"
   },
   {
    "duration": 2,
    "start_time": "2022-02-17T16:29:12.689Z"
   },
   {
    "duration": 63,
    "start_time": "2022-02-17T16:29:12.693Z"
   },
   {
    "duration": 22,
    "start_time": "2022-02-17T16:29:12.758Z"
   },
   {
    "duration": 10,
    "start_time": "2022-02-17T16:29:12.781Z"
   },
   {
    "duration": 3,
    "start_time": "2022-02-17T16:29:12.793Z"
   },
   {
    "duration": 3,
    "start_time": "2022-02-17T16:29:12.797Z"
   },
   {
    "duration": 31,
    "start_time": "2022-02-17T16:29:12.801Z"
   },
   {
    "duration": 11,
    "start_time": "2022-02-17T16:29:22.831Z"
   },
   {
    "duration": 10,
    "start_time": "2022-02-17T16:29:26.605Z"
   },
   {
    "duration": 280,
    "start_time": "2022-02-17T16:29:49.609Z"
   },
   {
    "duration": 8,
    "start_time": "2022-02-17T16:29:54.832Z"
   },
   {
    "duration": 2,
    "start_time": "2022-02-17T16:30:00.810Z"
   },
   {
    "duration": 72,
    "start_time": "2022-02-17T16:30:00.816Z"
   },
   {
    "duration": 24,
    "start_time": "2022-02-17T16:30:00.889Z"
   },
   {
    "duration": 19,
    "start_time": "2022-02-17T16:30:00.915Z"
   },
   {
    "duration": 4,
    "start_time": "2022-02-17T16:30:00.936Z"
   },
   {
    "duration": 19,
    "start_time": "2022-02-17T16:30:00.941Z"
   },
   {
    "duration": 27,
    "start_time": "2022-02-17T16:30:00.962Z"
   },
   {
    "duration": 6,
    "start_time": "2022-02-17T16:38:03.114Z"
   },
   {
    "duration": 5,
    "start_time": "2022-02-17T16:38:10.708Z"
   },
   {
    "duration": 21,
    "start_time": "2022-02-17T16:39:11.192Z"
   },
   {
    "duration": 35,
    "start_time": "2022-02-17T16:39:34.065Z"
   },
   {
    "duration": 33,
    "start_time": "2022-02-17T16:39:46.840Z"
   },
   {
    "duration": 40,
    "start_time": "2022-02-17T16:39:55.017Z"
   },
   {
    "duration": 33,
    "start_time": "2022-02-17T16:39:57.993Z"
   },
   {
    "duration": 32,
    "start_time": "2022-02-17T16:40:17.099Z"
   },
   {
    "duration": 379,
    "start_time": "2022-02-17T16:40:40.548Z"
   },
   {
    "duration": 3,
    "start_time": "2022-02-17T16:40:47.225Z"
   },
   {
    "duration": 64,
    "start_time": "2022-02-17T16:40:47.229Z"
   },
   {
    "duration": 22,
    "start_time": "2022-02-17T16:40:47.295Z"
   },
   {
    "duration": 10,
    "start_time": "2022-02-17T16:40:47.318Z"
   },
   {
    "duration": 3,
    "start_time": "2022-02-17T16:40:47.331Z"
   },
   {
    "duration": 30,
    "start_time": "2022-02-17T16:40:47.336Z"
   },
   {
    "duration": 2,
    "start_time": "2022-02-17T16:40:47.368Z"
   },
   {
    "duration": 4,
    "start_time": "2022-02-17T16:40:47.372Z"
   },
   {
    "duration": 49,
    "start_time": "2022-02-17T16:40:54.082Z"
   },
   {
    "duration": 5,
    "start_time": "2022-02-17T16:43:51.164Z"
   },
   {
    "duration": 23,
    "start_time": "2022-02-17T16:43:58.572Z"
   },
   {
    "duration": 1936,
    "start_time": "2022-02-17T16:44:05.486Z"
   },
   {
    "duration": 31,
    "start_time": "2022-02-17T16:44:11.633Z"
   },
   {
    "duration": 27,
    "start_time": "2022-02-17T16:44:21.572Z"
   },
   {
    "duration": 30,
    "start_time": "2022-02-17T16:44:30.640Z"
   },
   {
    "duration": 31,
    "start_time": "2022-02-17T17:03:16.134Z"
   },
   {
    "duration": 259,
    "start_time": "2022-02-17T17:08:14.160Z"
   },
   {
    "duration": 8,
    "start_time": "2022-02-17T17:08:17.589Z"
   },
   {
    "duration": 9,
    "start_time": "2022-02-17T17:08:28.499Z"
   },
   {
    "duration": 5,
    "start_time": "2022-02-17T17:08:39.747Z"
   },
   {
    "duration": 34,
    "start_time": "2022-02-17T17:08:43.591Z"
   },
   {
    "duration": 28,
    "start_time": "2022-02-17T17:09:15.970Z"
   },
   {
    "duration": 33,
    "start_time": "2022-02-17T17:09:31.275Z"
   },
   {
    "duration": 56,
    "start_time": "2022-02-17T17:21:54.127Z"
   },
   {
    "duration": 38,
    "start_time": "2022-02-17T17:23:20.985Z"
   },
   {
    "duration": 4,
    "start_time": "2022-02-17T17:23:41.593Z"
   },
   {
    "duration": 58,
    "start_time": "2022-02-17T17:24:26.415Z"
   },
   {
    "duration": 50,
    "start_time": "2022-02-17T17:24:32.532Z"
   },
   {
    "duration": 4,
    "start_time": "2022-02-17T17:26:01.918Z"
   },
   {
    "duration": 35,
    "start_time": "2022-02-17T17:30:22.628Z"
   },
   {
    "duration": 100,
    "start_time": "2022-02-17T17:30:26.391Z"
   },
   {
    "duration": 32,
    "start_time": "2022-02-17T17:30:32.679Z"
   },
   {
    "duration": 41,
    "start_time": "2022-02-17T17:30:57.844Z"
   },
   {
    "duration": 5,
    "start_time": "2022-02-17T17:31:17.878Z"
   },
   {
    "duration": 6,
    "start_time": "2022-02-17T17:32:18.846Z"
   },
   {
    "duration": 5,
    "start_time": "2022-02-17T17:32:38.178Z"
   },
   {
    "duration": 249,
    "start_time": "2022-02-17T17:33:24.432Z"
   },
   {
    "duration": 273,
    "start_time": "2022-02-17T17:33:31.606Z"
   },
   {
    "duration": 272,
    "start_time": "2022-02-17T17:33:52.601Z"
   },
   {
    "duration": 251,
    "start_time": "2022-02-17T17:34:02.855Z"
   },
   {
    "duration": 258,
    "start_time": "2022-02-17T17:34:39.895Z"
   },
   {
    "duration": 641,
    "start_time": "2022-02-17T17:35:39.247Z"
   },
   {
    "duration": 1315,
    "start_time": "2022-02-17T18:10:02.989Z"
   },
   {
    "duration": 266,
    "start_time": "2022-02-17T18:10:44.607Z"
   },
   {
    "duration": 257,
    "start_time": "2022-02-17T18:12:01.370Z"
   },
   {
    "duration": 267,
    "start_time": "2022-02-17T18:12:19.865Z"
   },
   {
    "duration": 6,
    "start_time": "2022-02-17T18:12:24.635Z"
   },
   {
    "duration": 246,
    "start_time": "2022-02-17T18:12:46.686Z"
   },
   {
    "duration": 248,
    "start_time": "2022-02-17T18:13:06.553Z"
   },
   {
    "duration": 2411,
    "start_time": "2022-02-17T18:14:16.915Z"
   },
   {
    "duration": 85,
    "start_time": "2022-02-17T18:14:27.169Z"
   },
   {
    "duration": 61,
    "start_time": "2022-02-17T18:14:38.651Z"
   },
   {
    "duration": 305,
    "start_time": "2022-02-17T18:20:27.319Z"
   },
   {
    "duration": 7,
    "start_time": "2022-02-17T18:21:07.107Z"
   },
   {
    "duration": 38,
    "start_time": "2022-02-17T18:21:36.569Z"
   },
   {
    "duration": 37,
    "start_time": "2022-02-17T18:22:21.491Z"
   },
   {
    "duration": 2951,
    "start_time": "2022-02-17T18:25:19.109Z"
   },
   {
    "duration": 9,
    "start_time": "2022-02-17T18:31:32.514Z"
   },
   {
    "duration": 36,
    "start_time": "2022-02-17T18:31:40.632Z"
   },
   {
    "duration": 37,
    "start_time": "2022-02-17T18:32:05.188Z"
   },
   {
    "duration": 6,
    "start_time": "2022-02-17T18:32:16.830Z"
   },
   {
    "duration": 86,
    "start_time": "2022-02-17T18:32:55.477Z"
   },
   {
    "duration": 37,
    "start_time": "2022-02-17T18:33:01.610Z"
   },
   {
    "duration": 37,
    "start_time": "2022-02-17T18:33:21.254Z"
   },
   {
    "duration": 31,
    "start_time": "2022-02-17T18:33:33.028Z"
   },
   {
    "duration": 1341,
    "start_time": "2022-02-17T18:40:28.993Z"
   },
   {
    "duration": 30,
    "start_time": "2022-02-17T18:40:45.895Z"
   },
   {
    "duration": 36,
    "start_time": "2022-02-17T18:41:00.455Z"
   },
   {
    "duration": 6,
    "start_time": "2022-02-17T18:57:38.271Z"
   },
   {
    "duration": 259,
    "start_time": "2022-02-17T18:57:54.566Z"
   },
   {
    "duration": 7,
    "start_time": "2022-02-17T19:00:45.820Z"
   },
   {
    "duration": 8,
    "start_time": "2022-02-17T19:01:34.726Z"
   },
   {
    "duration": 37,
    "start_time": "2022-02-17T19:01:55.834Z"
   },
   {
    "duration": 5,
    "start_time": "2022-02-17T19:02:16.887Z"
   },
   {
    "duration": 36,
    "start_time": "2022-02-17T19:02:24.676Z"
   },
   {
    "duration": 3,
    "start_time": "2022-02-17T19:02:35.522Z"
   },
   {
    "duration": 35,
    "start_time": "2022-02-17T19:02:37.358Z"
   },
   {
    "duration": 3,
    "start_time": "2022-02-17T19:02:42.478Z"
   },
   {
    "duration": 69,
    "start_time": "2022-02-17T19:02:42.482Z"
   },
   {
    "duration": 23,
    "start_time": "2022-02-17T19:02:42.553Z"
   },
   {
    "duration": 10,
    "start_time": "2022-02-17T19:02:42.578Z"
   },
   {
    "duration": 4,
    "start_time": "2022-02-17T19:02:42.589Z"
   },
   {
    "duration": 3,
    "start_time": "2022-02-17T19:02:42.595Z"
   },
   {
    "duration": 31,
    "start_time": "2022-02-17T19:02:42.600Z"
   },
   {
    "duration": 2,
    "start_time": "2022-02-17T19:02:42.633Z"
   },
   {
    "duration": 36,
    "start_time": "2022-02-17T19:02:42.637Z"
   },
   {
    "duration": 31,
    "start_time": "2022-02-17T19:02:42.675Z"
   },
   {
    "duration": 57,
    "start_time": "2022-02-17T19:02:42.708Z"
   },
   {
    "duration": 2,
    "start_time": "2022-02-17T19:02:42.766Z"
   },
   {
    "duration": 18,
    "start_time": "2022-02-17T19:02:42.770Z"
   },
   {
    "duration": 5,
    "start_time": "2022-02-17T19:03:16.006Z"
   },
   {
    "duration": 36,
    "start_time": "2022-02-17T19:03:27.479Z"
   },
   {
    "duration": 6,
    "start_time": "2022-02-17T19:03:55.221Z"
   },
   {
    "duration": 37,
    "start_time": "2022-02-17T19:03:55.449Z"
   },
   {
    "duration": 45,
    "start_time": "2022-02-17T19:04:11.605Z"
   },
   {
    "duration": 2,
    "start_time": "2022-02-17T19:05:24.914Z"
   },
   {
    "duration": 63,
    "start_time": "2022-02-17T19:05:24.918Z"
   },
   {
    "duration": 23,
    "start_time": "2022-02-17T19:05:24.982Z"
   },
   {
    "duration": 25,
    "start_time": "2022-02-17T19:05:25.007Z"
   },
   {
    "duration": 4,
    "start_time": "2022-02-17T19:05:25.033Z"
   },
   {
    "duration": 7,
    "start_time": "2022-02-17T19:05:25.039Z"
   },
   {
    "duration": 5,
    "start_time": "2022-02-17T19:05:25.048Z"
   },
   {
    "duration": 4,
    "start_time": "2022-02-17T19:05:25.054Z"
   },
   {
    "duration": 45,
    "start_time": "2022-02-17T19:05:25.060Z"
   },
   {
    "duration": 56,
    "start_time": "2022-02-17T19:05:25.106Z"
   },
   {
    "duration": 37,
    "start_time": "2022-02-17T19:05:25.164Z"
   },
   {
    "duration": 3,
    "start_time": "2022-02-17T19:05:25.203Z"
   },
   {
    "duration": 25,
    "start_time": "2022-02-17T19:05:25.208Z"
   },
   {
    "duration": 2,
    "start_time": "2022-02-17T19:07:18.115Z"
   },
   {
    "duration": 6,
    "start_time": "2022-02-17T19:07:42.187Z"
   },
   {
    "duration": 43,
    "start_time": "2022-02-17T19:09:03.427Z"
   },
   {
    "duration": 38,
    "start_time": "2022-02-17T19:09:16.378Z"
   },
   {
    "duration": 6,
    "start_time": "2022-02-17T19:09:58.360Z"
   },
   {
    "duration": 8,
    "start_time": "2022-02-17T19:11:08.502Z"
   },
   {
    "duration": 6,
    "start_time": "2022-02-17T19:12:51.194Z"
   },
   {
    "duration": 5,
    "start_time": "2022-02-17T19:13:04.039Z"
   },
   {
    "duration": 4,
    "start_time": "2022-02-17T19:13:12.657Z"
   },
   {
    "duration": 5,
    "start_time": "2022-02-17T19:13:28.616Z"
   },
   {
    "duration": 37,
    "start_time": "2022-02-17T19:17:49.666Z"
   },
   {
    "duration": 37,
    "start_time": "2022-02-17T19:19:35.270Z"
   },
   {
    "duration": 14,
    "start_time": "2022-02-17T19:19:52.176Z"
   },
   {
    "duration": 18,
    "start_time": "2022-02-17T19:19:56.758Z"
   },
   {
    "duration": 3,
    "start_time": "2022-02-17T19:20:06.094Z"
   },
   {
    "duration": 73,
    "start_time": "2022-02-17T19:20:06.098Z"
   },
   {
    "duration": 22,
    "start_time": "2022-02-17T19:20:06.173Z"
   },
   {
    "duration": 10,
    "start_time": "2022-02-17T19:20:06.197Z"
   },
   {
    "duration": 4,
    "start_time": "2022-02-17T19:20:06.208Z"
   },
   {
    "duration": 19,
    "start_time": "2022-02-17T19:20:06.213Z"
   },
   {
    "duration": 4,
    "start_time": "2022-02-17T19:20:06.235Z"
   },
   {
    "duration": 34,
    "start_time": "2022-02-17T19:20:06.240Z"
   },
   {
    "duration": 2,
    "start_time": "2022-02-17T19:20:06.276Z"
   },
   {
    "duration": 5,
    "start_time": "2022-02-17T19:20:06.280Z"
   },
   {
    "duration": 5,
    "start_time": "2022-02-17T19:22:25.884Z"
   },
   {
    "duration": 2804,
    "start_time": "2022-02-17T19:22:40.476Z"
   },
   {
    "duration": 13,
    "start_time": "2022-02-17T19:23:23.893Z"
   },
   {
    "duration": 15,
    "start_time": "2022-02-17T19:23:31.842Z"
   },
   {
    "duration": 48,
    "start_time": "2022-02-17T19:23:41.444Z"
   },
   {
    "duration": 34,
    "start_time": "2022-02-17T19:23:44.483Z"
   },
   {
    "duration": 5,
    "start_time": "2022-02-17T19:24:24.482Z"
   },
   {
    "duration": 5,
    "start_time": "2022-02-17T19:25:00.525Z"
   },
   {
    "duration": 36,
    "start_time": "2022-02-17T19:25:01.182Z"
   },
   {
    "duration": 6,
    "start_time": "2022-02-17T19:26:00.955Z"
   },
   {
    "duration": 2,
    "start_time": "2022-02-17T19:26:23.064Z"
   },
   {
    "duration": 65,
    "start_time": "2022-02-17T19:26:23.068Z"
   },
   {
    "duration": 21,
    "start_time": "2022-02-17T19:26:23.135Z"
   },
   {
    "duration": 9,
    "start_time": "2022-02-17T19:26:23.158Z"
   },
   {
    "duration": 4,
    "start_time": "2022-02-17T19:26:23.169Z"
   },
   {
    "duration": 5,
    "start_time": "2022-02-17T19:26:23.174Z"
   },
   {
    "duration": 4,
    "start_time": "2022-02-17T19:26:23.180Z"
   },
   {
    "duration": 68,
    "start_time": "2022-02-17T19:26:23.185Z"
   },
   {
    "duration": 2,
    "start_time": "2022-02-17T19:26:23.406Z"
   },
   {
    "duration": 36,
    "start_time": "2022-02-17T19:26:23.410Z"
   },
   {
    "duration": 4,
    "start_time": "2022-02-17T19:26:23.448Z"
   },
   {
    "duration": 4,
    "start_time": "2022-02-17T19:26:23.725Z"
   },
   {
    "duration": 3,
    "start_time": "2022-02-17T19:26:23.731Z"
   },
   {
    "duration": 6,
    "start_time": "2022-02-17T19:26:23.736Z"
   },
   {
    "duration": 2913,
    "start_time": "2022-02-17T19:26:59.727Z"
   },
   {
    "duration": 267,
    "start_time": "2022-02-17T19:29:12.390Z"
   },
   {
    "duration": 16,
    "start_time": "2022-02-17T19:29:20.963Z"
   },
   {
    "duration": 22,
    "start_time": "2022-02-17T19:29:47.711Z"
   },
   {
    "duration": 36,
    "start_time": "2022-02-17T19:29:51.301Z"
   },
   {
    "duration": 4,
    "start_time": "2022-02-17T19:30:01.542Z"
   },
   {
    "duration": 4,
    "start_time": "2022-02-17T19:30:12.301Z"
   },
   {
    "duration": 6,
    "start_time": "2022-02-17T19:31:10.461Z"
   },
   {
    "duration": 42,
    "start_time": "2022-02-17T19:31:11.419Z"
   },
   {
    "duration": 6,
    "start_time": "2022-02-17T19:31:14.192Z"
   },
   {
    "duration": 37,
    "start_time": "2022-02-17T19:31:14.557Z"
   },
   {
    "duration": 2,
    "start_time": "2022-02-17T19:31:18.522Z"
   },
   {
    "duration": 76,
    "start_time": "2022-02-17T19:31:18.526Z"
   },
   {
    "duration": 24,
    "start_time": "2022-02-17T19:31:18.603Z"
   },
   {
    "duration": 10,
    "start_time": "2022-02-17T19:31:18.629Z"
   },
   {
    "duration": 4,
    "start_time": "2022-02-17T19:31:18.640Z"
   },
   {
    "duration": 4,
    "start_time": "2022-02-17T19:31:18.646Z"
   },
   {
    "duration": 5,
    "start_time": "2022-02-17T19:31:18.652Z"
   },
   {
    "duration": 33,
    "start_time": "2022-02-17T19:31:18.660Z"
   },
   {
    "duration": 5,
    "start_time": "2022-02-17T19:31:18.695Z"
   },
   {
    "duration": 68,
    "start_time": "2022-02-17T19:31:18.702Z"
   },
   {
    "duration": 5,
    "start_time": "2022-02-17T19:31:18.772Z"
   },
   {
    "duration": 5,
    "start_time": "2022-02-17T19:31:18.779Z"
   },
   {
    "duration": 2,
    "start_time": "2022-02-17T19:31:18.786Z"
   },
   {
    "duration": 7,
    "start_time": "2022-02-17T19:31:18.790Z"
   },
   {
    "duration": 3,
    "start_time": "2022-02-17T19:31:45.813Z"
   },
   {
    "duration": 67,
    "start_time": "2022-02-17T19:31:45.818Z"
   },
   {
    "duration": 24,
    "start_time": "2022-02-17T19:31:45.887Z"
   },
   {
    "duration": 22,
    "start_time": "2022-02-17T19:31:45.913Z"
   },
   {
    "duration": 4,
    "start_time": "2022-02-17T19:31:45.937Z"
   },
   {
    "duration": 6,
    "start_time": "2022-02-17T19:31:45.943Z"
   },
   {
    "duration": 5,
    "start_time": "2022-02-17T19:31:45.950Z"
   },
   {
    "duration": 31,
    "start_time": "2022-02-17T19:31:45.958Z"
   },
   {
    "duration": 5,
    "start_time": "2022-02-17T19:31:45.991Z"
   },
   {
    "duration": 37,
    "start_time": "2022-02-17T19:31:45.998Z"
   },
   {
    "duration": 28,
    "start_time": "2022-02-17T19:31:46.036Z"
   },
   {
    "duration": 16,
    "start_time": "2022-02-17T19:31:46.066Z"
   },
   {
    "duration": 3,
    "start_time": "2022-02-17T19:33:11.077Z"
   },
   {
    "duration": 91,
    "start_time": "2022-02-17T19:33:11.081Z"
   },
   {
    "duration": 35,
    "start_time": "2022-02-17T19:33:11.174Z"
   },
   {
    "duration": 24,
    "start_time": "2022-02-17T19:33:11.212Z"
   },
   {
    "duration": 4,
    "start_time": "2022-02-17T19:33:11.237Z"
   },
   {
    "duration": 5,
    "start_time": "2022-02-17T19:33:11.243Z"
   },
   {
    "duration": 5,
    "start_time": "2022-02-17T19:33:11.250Z"
   },
   {
    "duration": 44,
    "start_time": "2022-02-17T19:33:11.256Z"
   },
   {
    "duration": 33,
    "start_time": "2022-02-17T19:33:11.302Z"
   },
   {
    "duration": 4,
    "start_time": "2022-02-17T19:33:11.337Z"
   },
   {
    "duration": 7,
    "start_time": "2022-02-17T19:33:11.342Z"
   },
   {
    "duration": 4,
    "start_time": "2022-02-17T19:33:11.350Z"
   },
   {
    "duration": 58,
    "start_time": "2022-02-17T19:33:24.440Z"
   },
   {
    "duration": 14,
    "start_time": "2022-02-17T19:33:33.554Z"
   },
   {
    "duration": 2,
    "start_time": "2022-02-17T19:38:58.979Z"
   },
   {
    "duration": 12,
    "start_time": "2022-02-17T19:39:38.255Z"
   },
   {
    "duration": 6,
    "start_time": "2022-02-17T19:39:40.671Z"
   },
   {
    "duration": 59,
    "start_time": "2022-02-17T19:39:56.334Z"
   },
   {
    "duration": 90,
    "start_time": "2022-02-17T19:40:57.702Z"
   },
   {
    "duration": 3,
    "start_time": "2022-02-17T19:41:14.916Z"
   },
   {
    "duration": 12,
    "start_time": "2022-02-17T19:41:18.035Z"
   },
   {
    "duration": 6,
    "start_time": "2022-02-17T19:41:18.587Z"
   },
   {
    "duration": 9,
    "start_time": "2022-02-17T19:41:20.930Z"
   },
   {
    "duration": 3,
    "start_time": "2022-02-17T19:41:23.856Z"
   },
   {
    "duration": 66,
    "start_time": "2022-02-17T19:41:23.860Z"
   },
   {
    "duration": 22,
    "start_time": "2022-02-17T19:41:23.929Z"
   },
   {
    "duration": 10,
    "start_time": "2022-02-17T19:41:23.953Z"
   },
   {
    "duration": 4,
    "start_time": "2022-02-17T19:41:23.965Z"
   },
   {
    "duration": 5,
    "start_time": "2022-02-17T19:41:23.970Z"
   },
   {
    "duration": 5,
    "start_time": "2022-02-17T19:41:23.977Z"
   },
   {
    "duration": 68,
    "start_time": "2022-02-17T19:41:23.984Z"
   },
   {
    "duration": 3,
    "start_time": "2022-02-17T19:41:24.054Z"
   },
   {
    "duration": 9,
    "start_time": "2022-02-17T19:41:24.059Z"
   },
   {
    "duration": 7,
    "start_time": "2022-02-17T19:41:24.069Z"
   },
   {
    "duration": 55,
    "start_time": "2022-02-17T19:41:24.078Z"
   },
   {
    "duration": 2,
    "start_time": "2022-02-17T19:41:24.135Z"
   },
   {
    "duration": 4,
    "start_time": "2022-02-17T19:41:24.139Z"
   },
   {
    "duration": 45,
    "start_time": "2022-02-17T19:42:33.202Z"
   },
   {
    "duration": 5,
    "start_time": "2022-02-17T19:43:05.952Z"
   },
   {
    "duration": 32,
    "start_time": "2022-02-17T19:43:29.497Z"
   },
   {
    "duration": 85,
    "start_time": "2022-02-17T19:45:13.987Z"
   },
   {
    "duration": 4,
    "start_time": "2022-02-17T19:45:33.102Z"
   },
   {
    "duration": 10,
    "start_time": "2022-02-17T19:45:34.090Z"
   },
   {
    "duration": 5,
    "start_time": "2022-02-17T19:45:34.382Z"
   },
   {
    "duration": 7,
    "start_time": "2022-02-17T19:45:43.233Z"
   },
   {
    "duration": 36,
    "start_time": "2022-02-17T19:46:07.635Z"
   },
   {
    "duration": 31,
    "start_time": "2022-02-17T19:46:10.214Z"
   },
   {
    "duration": 14,
    "start_time": "2022-02-17T19:46:21.216Z"
   },
   {
    "duration": 13,
    "start_time": "2022-02-17T19:47:03.685Z"
   },
   {
    "duration": 2,
    "start_time": "2022-02-17T19:48:16.654Z"
   },
   {
    "duration": 9,
    "start_time": "2022-02-17T19:48:17.100Z"
   },
   {
    "duration": 6,
    "start_time": "2022-02-17T19:48:17.608Z"
   },
   {
    "duration": 10,
    "start_time": "2022-02-17T19:48:19.094Z"
   },
   {
    "duration": 5,
    "start_time": "2022-02-17T19:48:30.826Z"
   },
   {
    "duration": 5,
    "start_time": "2022-02-17T19:48:46.116Z"
   },
   {
    "duration": 5,
    "start_time": "2022-02-17T19:48:57.513Z"
   },
   {
    "duration": 5,
    "start_time": "2022-02-17T19:49:10.574Z"
   },
   {
    "duration": 4,
    "start_time": "2022-02-17T19:49:21.128Z"
   },
   {
    "duration": 4,
    "start_time": "2022-02-17T19:49:39.730Z"
   },
   {
    "duration": 68,
    "start_time": "2022-02-17T19:49:39.736Z"
   },
   {
    "duration": 22,
    "start_time": "2022-02-17T19:49:39.806Z"
   },
   {
    "duration": 9,
    "start_time": "2022-02-17T19:49:39.830Z"
   },
   {
    "duration": 4,
    "start_time": "2022-02-17T19:49:39.841Z"
   },
   {
    "duration": 5,
    "start_time": "2022-02-17T19:49:39.846Z"
   },
   {
    "duration": 4,
    "start_time": "2022-02-17T19:49:39.852Z"
   },
   {
    "duration": 26,
    "start_time": "2022-02-17T19:49:39.858Z"
   },
   {
    "duration": 3,
    "start_time": "2022-02-17T19:49:39.886Z"
   },
   {
    "duration": 40,
    "start_time": "2022-02-17T19:49:39.891Z"
   },
   {
    "duration": 4,
    "start_time": "2022-02-17T19:49:39.933Z"
   },
   {
    "duration": 12,
    "start_time": "2022-02-17T19:49:39.939Z"
   },
   {
    "duration": 3,
    "start_time": "2022-02-17T19:49:39.953Z"
   },
   {
    "duration": 10,
    "start_time": "2022-02-17T19:49:39.957Z"
   },
   {
    "duration": 7,
    "start_time": "2022-02-17T19:49:39.968Z"
   },
   {
    "duration": 7,
    "start_time": "2022-02-17T19:49:39.977Z"
   },
   {
    "duration": 3,
    "start_time": "2022-02-17T19:50:53.756Z"
   },
   {
    "duration": 9,
    "start_time": "2022-02-17T19:50:54.866Z"
   },
   {
    "duration": 4,
    "start_time": "2022-02-17T19:50:56.613Z"
   },
   {
    "duration": 11,
    "start_time": "2022-02-17T19:50:59.172Z"
   },
   {
    "duration": 5,
    "start_time": "2022-02-17T19:51:02.136Z"
   },
   {
    "duration": 5,
    "start_time": "2022-02-17T19:51:03.882Z"
   },
   {
    "duration": 2,
    "start_time": "2022-02-17T19:51:06.451Z"
   },
   {
    "duration": 66,
    "start_time": "2022-02-17T19:51:06.455Z"
   },
   {
    "duration": 22,
    "start_time": "2022-02-17T19:51:06.523Z"
   },
   {
    "duration": 9,
    "start_time": "2022-02-17T19:51:06.547Z"
   },
   {
    "duration": 4,
    "start_time": "2022-02-17T19:51:06.558Z"
   },
   {
    "duration": 4,
    "start_time": "2022-02-17T19:51:06.563Z"
   },
   {
    "duration": 4,
    "start_time": "2022-02-17T19:51:06.570Z"
   },
   {
    "duration": 57,
    "start_time": "2022-02-17T19:51:06.575Z"
   },
   {
    "duration": 3,
    "start_time": "2022-02-17T19:51:06.633Z"
   },
   {
    "duration": 10,
    "start_time": "2022-02-17T19:51:06.637Z"
   },
   {
    "duration": 5,
    "start_time": "2022-02-17T19:51:06.649Z"
   },
   {
    "duration": 10,
    "start_time": "2022-02-17T19:51:06.655Z"
   },
   {
    "duration": 4,
    "start_time": "2022-02-17T19:51:06.666Z"
   },
   {
    "duration": 9,
    "start_time": "2022-02-17T19:51:06.671Z"
   },
   {
    "duration": 5,
    "start_time": "2022-02-17T19:51:06.681Z"
   },
   {
    "duration": 7,
    "start_time": "2022-02-17T19:51:06.687Z"
   },
   {
    "duration": 4,
    "start_time": "2022-02-17T19:51:23.299Z"
   },
   {
    "duration": 15,
    "start_time": "2022-02-17T19:51:46.998Z"
   },
   {
    "duration": 3,
    "start_time": "2022-02-17T19:52:41.316Z"
   },
   {
    "duration": 80,
    "start_time": "2022-02-17T19:52:41.321Z"
   },
   {
    "duration": 31,
    "start_time": "2022-02-17T19:52:41.403Z"
   },
   {
    "duration": 13,
    "start_time": "2022-02-17T19:52:41.437Z"
   },
   {
    "duration": 5,
    "start_time": "2022-02-17T19:52:41.452Z"
   },
   {
    "duration": 3,
    "start_time": "2022-02-17T19:52:41.565Z"
   },
   {
    "duration": 3,
    "start_time": "2022-02-17T19:52:41.570Z"
   },
   {
    "duration": 54,
    "start_time": "2022-02-17T19:53:16.455Z"
   },
   {
    "duration": 8,
    "start_time": "2022-02-17T19:53:38.261Z"
   },
   {
    "duration": 6,
    "start_time": "2022-02-17T19:53:55.749Z"
   },
   {
    "duration": 3,
    "start_time": "2022-02-17T19:54:05.528Z"
   },
   {
    "duration": 10,
    "start_time": "2022-02-17T19:54:05.992Z"
   },
   {
    "duration": 3,
    "start_time": "2022-02-17T19:54:22.566Z"
   },
   {
    "duration": 9,
    "start_time": "2022-02-17T19:54:22.972Z"
   },
   {
    "duration": 3,
    "start_time": "2022-02-17T19:55:24.299Z"
   },
   {
    "duration": 10,
    "start_time": "2022-02-17T19:55:24.734Z"
   },
   {
    "duration": 5,
    "start_time": "2022-02-17T19:55:31.691Z"
   },
   {
    "duration": 20,
    "start_time": "2022-02-17T19:56:00.047Z"
   },
   {
    "duration": 15,
    "start_time": "2022-02-17T19:56:06.248Z"
   },
   {
    "duration": 42,
    "start_time": "2022-02-17T19:56:10.134Z"
   },
   {
    "duration": 14,
    "start_time": "2022-02-17T19:56:22.279Z"
   },
   {
    "duration": 3,
    "start_time": "2022-02-17T19:56:54.496Z"
   },
   {
    "duration": 72,
    "start_time": "2022-02-17T19:56:54.503Z"
   },
   {
    "duration": 22,
    "start_time": "2022-02-17T19:56:54.577Z"
   },
   {
    "duration": 11,
    "start_time": "2022-02-17T19:56:54.601Z"
   },
   {
    "duration": 19,
    "start_time": "2022-02-17T19:56:54.613Z"
   },
   {
    "duration": 6,
    "start_time": "2022-02-17T19:56:54.633Z"
   },
   {
    "duration": 3,
    "start_time": "2022-02-17T19:56:54.725Z"
   },
   {
    "duration": 4,
    "start_time": "2022-02-17T19:56:54.730Z"
   },
   {
    "duration": 32,
    "start_time": "2022-02-17T19:57:36.874Z"
   },
   {
    "duration": 28,
    "start_time": "2022-02-17T19:58:49.090Z"
   },
   {
    "duration": 248,
    "start_time": "2022-02-17T19:59:22.878Z"
   },
   {
    "duration": 31,
    "start_time": "2022-02-17T19:59:29.805Z"
   },
   {
    "duration": 46,
    "start_time": "2022-02-17T19:59:43.826Z"
   },
   {
    "duration": 31,
    "start_time": "2022-02-17T20:01:47.765Z"
   },
   {
    "duration": 28,
    "start_time": "2022-02-17T20:01:48.530Z"
   },
   {
    "duration": 56,
    "start_time": "2022-02-17T20:06:47.292Z"
   },
   {
    "duration": 4,
    "start_time": "2022-02-17T20:06:57.956Z"
   },
   {
    "duration": 8,
    "start_time": "2022-02-17T20:06:59.597Z"
   },
   {
    "duration": 34,
    "start_time": "2022-02-17T20:07:02.620Z"
   },
   {
    "duration": 3,
    "start_time": "2022-02-17T20:08:29.918Z"
   },
   {
    "duration": 9,
    "start_time": "2022-02-17T20:08:32.479Z"
   },
   {
    "duration": 6,
    "start_time": "2022-02-17T20:09:23.928Z"
   },
   {
    "duration": 5,
    "start_time": "2022-02-17T20:09:32.846Z"
   },
   {
    "duration": 5,
    "start_time": "2022-02-17T20:09:39.704Z"
   },
   {
    "duration": 5,
    "start_time": "2022-02-17T20:09:49.331Z"
   },
   {
    "duration": 3,
    "start_time": "2022-02-17T20:09:52.228Z"
   },
   {
    "duration": 65,
    "start_time": "2022-02-17T20:09:52.232Z"
   },
   {
    "duration": 22,
    "start_time": "2022-02-17T20:09:52.299Z"
   },
   {
    "duration": 14,
    "start_time": "2022-02-17T20:09:52.331Z"
   },
   {
    "duration": 6,
    "start_time": "2022-02-17T20:09:52.347Z"
   },
   {
    "duration": 8,
    "start_time": "2022-02-17T20:09:52.355Z"
   },
   {
    "duration": 5,
    "start_time": "2022-02-17T20:09:52.365Z"
   },
   {
    "duration": 3,
    "start_time": "2022-02-17T20:09:52.373Z"
   },
   {
    "duration": 15,
    "start_time": "2022-02-17T20:09:52.378Z"
   },
   {
    "duration": 39,
    "start_time": "2022-02-17T20:09:52.395Z"
   },
   {
    "duration": 6,
    "start_time": "2022-02-17T20:09:52.436Z"
   },
   {
    "duration": 2,
    "start_time": "2022-02-17T20:09:52.444Z"
   },
   {
    "duration": 8,
    "start_time": "2022-02-17T20:09:52.448Z"
   },
   {
    "duration": 5,
    "start_time": "2022-02-17T20:11:55.639Z"
   },
   {
    "duration": 314,
    "start_time": "2022-02-17T20:13:01.590Z"
   },
   {
    "duration": 252,
    "start_time": "2022-02-17T20:13:15.954Z"
   },
   {
    "duration": 4,
    "start_time": "2022-02-17T20:13:31.036Z"
   },
   {
    "duration": 4,
    "start_time": "2022-02-17T20:13:33.934Z"
   },
   {
    "duration": 10,
    "start_time": "2022-02-17T20:13:44.418Z"
   },
   {
    "duration": 6,
    "start_time": "2022-02-17T20:16:27.649Z"
   },
   {
    "duration": 5,
    "start_time": "2022-02-17T20:21:50.624Z"
   },
   {
    "duration": 283,
    "start_time": "2022-02-17T20:25:57.530Z"
   },
   {
    "duration": 253,
    "start_time": "2022-02-17T20:26:06.102Z"
   },
   {
    "duration": 29,
    "start_time": "2022-02-17T20:26:49.792Z"
   },
   {
    "duration": 4,
    "start_time": "2022-02-17T20:27:30.411Z"
   },
   {
    "duration": 30,
    "start_time": "2022-02-17T20:27:45.454Z"
   },
   {
    "duration": 6,
    "start_time": "2022-02-17T20:28:08.589Z"
   },
   {
    "duration": 33,
    "start_time": "2022-02-17T20:28:26.068Z"
   },
   {
    "duration": 272,
    "start_time": "2022-02-17T20:38:15.044Z"
   },
   {
    "duration": 10,
    "start_time": "2022-02-17T20:38:19.153Z"
   },
   {
    "duration": 4,
    "start_time": "2022-02-17T20:39:29.021Z"
   },
   {
    "duration": 10,
    "start_time": "2022-02-17T20:39:36.950Z"
   },
   {
    "duration": 37,
    "start_time": "2022-02-17T20:44:02.565Z"
   },
   {
    "duration": 9,
    "start_time": "2022-02-17T20:44:43.067Z"
   },
   {
    "duration": 5,
    "start_time": "2022-02-17T20:45:14.273Z"
   },
   {
    "duration": 5,
    "start_time": "2022-02-17T20:45:27.989Z"
   },
   {
    "duration": 30,
    "start_time": "2022-02-17T20:46:06.075Z"
   },
   {
    "duration": 91,
    "start_time": "2022-02-17T20:46:31.037Z"
   },
   {
    "duration": 169,
    "start_time": "2022-02-17T20:46:43.205Z"
   },
   {
    "duration": 271,
    "start_time": "2022-02-17T20:46:54.180Z"
   },
   {
    "duration": 82,
    "start_time": "2022-02-17T20:46:58.444Z"
   },
   {
    "duration": 197,
    "start_time": "2022-02-17T20:47:04.221Z"
   },
   {
    "duration": 187,
    "start_time": "2022-02-17T20:47:07.939Z"
   },
   {
    "duration": 9,
    "start_time": "2022-02-17T20:49:39.693Z"
   },
   {
    "duration": 14,
    "start_time": "2022-02-17T20:49:41.493Z"
   },
   {
    "duration": 80,
    "start_time": "2022-02-17T20:50:24.400Z"
   },
   {
    "duration": 11,
    "start_time": "2022-02-17T20:50:33.383Z"
   },
   {
    "duration": 10,
    "start_time": "2022-02-17T20:50:42.177Z"
   },
   {
    "duration": 10,
    "start_time": "2022-02-17T20:50:42.542Z"
   },
   {
    "duration": 34,
    "start_time": "2022-02-17T20:50:52.048Z"
   },
   {
    "duration": 9,
    "start_time": "2022-02-17T20:51:21.950Z"
   },
   {
    "duration": 11,
    "start_time": "2022-02-17T20:51:23.007Z"
   },
   {
    "duration": 3,
    "start_time": "2022-02-17T20:51:29.987Z"
   },
   {
    "duration": 84,
    "start_time": "2022-02-17T20:51:29.992Z"
   },
   {
    "duration": 24,
    "start_time": "2022-02-17T20:51:30.078Z"
   },
   {
    "duration": 33,
    "start_time": "2022-02-17T20:51:30.104Z"
   },
   {
    "duration": 14,
    "start_time": "2022-02-17T20:51:30.139Z"
   },
   {
    "duration": 8,
    "start_time": "2022-02-17T20:51:30.155Z"
   },
   {
    "duration": 31,
    "start_time": "2022-02-17T20:51:30.166Z"
   },
   {
    "duration": 18,
    "start_time": "2022-02-17T20:51:30.199Z"
   },
   {
    "duration": 7,
    "start_time": "2022-02-17T20:51:30.220Z"
   },
   {
    "duration": 208,
    "start_time": "2022-02-17T20:51:30.229Z"
   },
   {
    "duration": 10,
    "start_time": "2022-02-17T20:51:30.439Z"
   },
   {
    "duration": 9,
    "start_time": "2022-02-17T20:51:30.450Z"
   },
   {
    "duration": 35,
    "start_time": "2022-02-17T20:51:30.461Z"
   },
   {
    "duration": 2,
    "start_time": "2022-02-17T20:52:13.183Z"
   },
   {
    "duration": 68,
    "start_time": "2022-02-17T20:52:13.187Z"
   },
   {
    "duration": 22,
    "start_time": "2022-02-17T20:52:13.257Z"
   },
   {
    "duration": 11,
    "start_time": "2022-02-17T20:52:13.281Z"
   },
   {
    "duration": 4,
    "start_time": "2022-02-17T20:52:13.293Z"
   },
   {
    "duration": 5,
    "start_time": "2022-02-17T20:52:13.299Z"
   },
   {
    "duration": 9,
    "start_time": "2022-02-17T20:52:13.332Z"
   },
   {
    "duration": 6,
    "start_time": "2022-02-17T20:52:13.343Z"
   },
   {
    "duration": 7,
    "start_time": "2022-02-17T20:52:13.351Z"
   },
   {
    "duration": 223,
    "start_time": "2022-02-17T20:52:13.359Z"
   },
   {
    "duration": 3,
    "start_time": "2022-02-17T20:52:13.584Z"
   },
   {
    "duration": 5,
    "start_time": "2022-02-17T20:52:13.589Z"
   },
   {
    "duration": 5,
    "start_time": "2022-02-18T08:34:09.793Z"
   },
   {
    "duration": 318,
    "start_time": "2022-02-18T08:34:11.259Z"
   },
   {
    "duration": 843,
    "start_time": "2022-02-18T08:34:16.731Z"
   },
   {
    "duration": 91,
    "start_time": "2022-02-18T08:34:17.577Z"
   },
   {
    "duration": 54,
    "start_time": "2022-02-18T08:34:17.672Z"
   },
   {
    "duration": 33,
    "start_time": "2022-02-18T08:34:17.730Z"
   },
   {
    "duration": 8,
    "start_time": "2022-02-18T08:34:17.766Z"
   },
   {
    "duration": 14,
    "start_time": "2022-02-18T08:34:17.776Z"
   },
   {
    "duration": 19,
    "start_time": "2022-02-18T08:34:17.792Z"
   },
   {
    "duration": 35,
    "start_time": "2022-02-18T08:34:17.814Z"
   },
   {
    "duration": 17,
    "start_time": "2022-02-18T08:34:17.853Z"
   },
   {
    "duration": 504,
    "start_time": "2022-02-18T08:34:17.873Z"
   },
   {
    "duration": 4,
    "start_time": "2022-02-18T08:34:18.380Z"
   },
   {
    "duration": 15,
    "start_time": "2022-02-18T08:34:18.386Z"
   },
   {
    "duration": 7,
    "start_time": "2022-02-18T08:37:42.142Z"
   },
   {
    "duration": 17,
    "start_time": "2022-02-18T08:37:54.597Z"
   },
   {
    "duration": 7,
    "start_time": "2022-02-18T08:39:51.767Z"
   },
   {
    "duration": 9,
    "start_time": "2022-02-18T08:40:00.403Z"
   },
   {
    "duration": 290,
    "start_time": "2022-02-18T08:45:12.913Z"
   },
   {
    "duration": 237,
    "start_time": "2022-02-18T08:45:16.419Z"
   },
   {
    "duration": 9,
    "start_time": "2022-02-18T08:45:23.809Z"
   },
   {
    "duration": 259,
    "start_time": "2022-02-18T08:46:10.118Z"
   },
   {
    "duration": 399,
    "start_time": "2022-02-18T08:46:15.116Z"
   },
   {
    "duration": 298,
    "start_time": "2022-02-18T08:47:49.882Z"
   },
   {
    "duration": 12,
    "start_time": "2022-02-18T08:47:54.209Z"
   },
   {
    "duration": 8,
    "start_time": "2022-02-18T08:50:00.902Z"
   },
   {
    "duration": 7,
    "start_time": "2022-02-18T08:50:31.292Z"
   },
   {
    "duration": 71,
    "start_time": "2022-02-18T08:50:53.711Z"
   },
   {
    "duration": 8,
    "start_time": "2022-02-18T08:51:03.512Z"
   },
   {
    "duration": 8,
    "start_time": "2022-02-18T08:51:28.161Z"
   },
   {
    "duration": 5,
    "start_time": "2022-02-18T08:52:48.138Z"
   },
   {
    "duration": 240,
    "start_time": "2022-02-18T08:52:51.378Z"
   },
   {
    "duration": 69,
    "start_time": "2022-02-18T08:52:55.002Z"
   },
   {
    "duration": 59,
    "start_time": "2022-02-18T08:55:27.011Z"
   },
   {
    "duration": 10,
    "start_time": "2022-02-18T08:56:22.511Z"
   },
   {
    "duration": 10,
    "start_time": "2022-02-18T08:56:29.879Z"
   },
   {
    "duration": 11,
    "start_time": "2022-02-18T08:57:46.865Z"
   },
   {
    "duration": 57,
    "start_time": "2022-02-18T08:58:09.377Z"
   },
   {
    "duration": 57,
    "start_time": "2022-02-18T08:58:28.817Z"
   },
   {
    "duration": 25,
    "start_time": "2022-02-18T08:59:08.822Z"
   },
   {
    "duration": 24,
    "start_time": "2022-02-18T09:00:40.436Z"
   },
   {
    "duration": 8,
    "start_time": "2022-02-18T09:00:54.646Z"
   },
   {
    "duration": 8,
    "start_time": "2022-02-18T09:07:56.021Z"
   },
   {
    "duration": 7,
    "start_time": "2022-02-18T09:08:11.734Z"
   },
   {
    "duration": 7,
    "start_time": "2022-02-18T09:08:22.848Z"
   },
   {
    "duration": 9,
    "start_time": "2022-02-18T09:08:34.213Z"
   },
   {
    "duration": 8,
    "start_time": "2022-02-18T09:08:50.726Z"
   },
   {
    "duration": 9,
    "start_time": "2022-02-18T09:09:01.529Z"
   },
   {
    "duration": 289,
    "start_time": "2022-02-18T09:10:12.997Z"
   },
   {
    "duration": 247,
    "start_time": "2022-02-18T09:10:20.203Z"
   },
   {
    "duration": 55,
    "start_time": "2022-02-18T09:10:25.751Z"
   },
   {
    "duration": 7,
    "start_time": "2022-02-18T09:21:19.162Z"
   },
   {
    "duration": 10,
    "start_time": "2022-02-18T09:22:59.087Z"
   },
   {
    "duration": 60,
    "start_time": "2022-02-18T09:23:22.430Z"
   },
   {
    "duration": 8,
    "start_time": "2022-02-18T09:30:00.029Z"
   },
   {
    "duration": 35,
    "start_time": "2022-02-18T09:31:02.829Z"
   },
   {
    "duration": 37,
    "start_time": "2022-02-18T09:31:16.270Z"
   },
   {
    "duration": 78,
    "start_time": "2022-02-18T09:31:36.170Z"
   },
   {
    "duration": 54,
    "start_time": "2022-02-18T09:36:12.383Z"
   },
   {
    "duration": 10,
    "start_time": "2022-02-18T09:36:33.135Z"
   },
   {
    "duration": 6248,
    "start_time": "2022-02-18T09:36:47.338Z"
   },
   {
    "duration": 10,
    "start_time": "2022-02-18T09:37:07.323Z"
   },
   {
    "duration": 3060,
    "start_time": "2022-02-18T09:37:14.649Z"
   },
   {
    "duration": 9,
    "start_time": "2022-02-18T09:37:23.164Z"
   },
   {
    "duration": 8,
    "start_time": "2022-02-18T09:37:59.651Z"
   },
   {
    "duration": 55,
    "start_time": "2022-02-18T09:43:25.777Z"
   },
   {
    "duration": 11,
    "start_time": "2022-02-18T09:46:31.410Z"
   },
   {
    "duration": 83,
    "start_time": "2022-02-18T09:46:43.158Z"
   },
   {
    "duration": 10,
    "start_time": "2022-02-18T09:46:48.010Z"
   },
   {
    "duration": 9,
    "start_time": "2022-02-18T09:46:57.581Z"
   },
   {
    "duration": 10,
    "start_time": "2022-02-18T09:47:08.478Z"
   },
   {
    "duration": 11,
    "start_time": "2022-02-18T09:48:28.555Z"
   },
   {
    "duration": 58,
    "start_time": "2022-02-18T09:48:47.430Z"
   },
   {
    "duration": 10,
    "start_time": "2022-02-18T09:49:22.349Z"
   },
   {
    "duration": 10,
    "start_time": "2022-02-18T09:50:12.204Z"
   },
   {
    "duration": 6,
    "start_time": "2022-02-18T09:51:29.648Z"
   },
   {
    "duration": 17,
    "start_time": "2022-02-18T09:55:23.289Z"
   },
   {
    "duration": 23,
    "start_time": "2022-02-18T09:57:27.600Z"
   },
   {
    "duration": 26,
    "start_time": "2022-02-18T09:57:36.953Z"
   },
   {
    "duration": 23,
    "start_time": "2022-02-18T09:58:46.112Z"
   },
   {
    "duration": 31,
    "start_time": "2022-02-18T10:01:14.993Z"
   },
   {
    "duration": 28,
    "start_time": "2022-02-18T10:02:45.001Z"
   },
   {
    "duration": 26,
    "start_time": "2022-02-18T10:02:58.362Z"
   },
   {
    "duration": 315,
    "start_time": "2022-02-18T10:03:41.913Z"
   },
   {
    "duration": 27,
    "start_time": "2022-02-18T10:03:52.716Z"
   },
   {
    "duration": 114,
    "start_time": "2022-02-18T10:08:16.955Z"
   },
   {
    "duration": 88,
    "start_time": "2022-02-18T10:08:28.003Z"
   },
   {
    "duration": 87,
    "start_time": "2022-02-18T10:11:13.226Z"
   },
   {
    "duration": 27,
    "start_time": "2022-02-18T10:12:08.846Z"
   },
   {
    "duration": 44,
    "start_time": "2022-02-18T10:12:29.355Z"
   },
   {
    "duration": 45,
    "start_time": "2022-02-18T10:12:36.460Z"
   },
   {
    "duration": 90,
    "start_time": "2022-02-18T10:13:25.144Z"
   },
   {
    "duration": 45,
    "start_time": "2022-02-18T10:13:33.207Z"
   },
   {
    "duration": 48,
    "start_time": "2022-02-18T10:13:50.384Z"
   },
   {
    "duration": 46,
    "start_time": "2022-02-18T10:14:10.585Z"
   },
   {
    "duration": 49,
    "start_time": "2022-02-18T10:15:03.369Z"
   },
   {
    "duration": 53,
    "start_time": "2022-02-18T10:15:39.905Z"
   },
   {
    "duration": 44,
    "start_time": "2022-02-18T10:17:31.316Z"
   },
   {
    "duration": 28,
    "start_time": "2022-02-18T10:19:41.170Z"
   },
   {
    "duration": 268,
    "start_time": "2022-02-18T10:20:09.546Z"
   },
   {
    "duration": 283,
    "start_time": "2022-02-18T10:20:30.789Z"
   },
   {
    "duration": 29,
    "start_time": "2022-02-18T10:20:40.792Z"
   },
   {
    "duration": 7,
    "start_time": "2022-02-18T10:23:03.014Z"
   },
   {
    "duration": 61,
    "start_time": "2022-02-18T10:23:14.665Z"
   },
   {
    "duration": 107,
    "start_time": "2022-02-18T10:25:00.999Z"
   },
   {
    "duration": 10,
    "start_time": "2022-02-18T10:25:09.884Z"
   },
   {
    "duration": 11,
    "start_time": "2022-02-18T10:25:20.954Z"
   },
   {
    "duration": 256,
    "start_time": "2022-02-18T10:27:37.448Z"
   },
   {
    "duration": 31,
    "start_time": "2022-02-18T10:27:44.414Z"
   },
   {
    "duration": 8,
    "start_time": "2022-02-18T10:27:44.956Z"
   },
   {
    "duration": 29,
    "start_time": "2022-02-18T10:27:51.565Z"
   },
   {
    "duration": 31,
    "start_time": "2022-02-18T10:27:56.189Z"
   },
   {
    "duration": 8,
    "start_time": "2022-02-18T10:27:56.649Z"
   },
   {
    "duration": 30,
    "start_time": "2022-02-18T10:27:57.693Z"
   },
   {
    "duration": 8,
    "start_time": "2022-02-18T10:27:58.796Z"
   },
   {
    "duration": 29,
    "start_time": "2022-02-18T10:28:16.388Z"
   },
   {
    "duration": 5,
    "start_time": "2022-02-18T10:28:23.368Z"
   },
   {
    "duration": 6,
    "start_time": "2022-02-18T10:29:13.479Z"
   },
   {
    "duration": 32,
    "start_time": "2022-02-18T10:29:18.884Z"
   },
   {
    "duration": 6,
    "start_time": "2022-02-18T10:29:19.240Z"
   },
   {
    "duration": 5,
    "start_time": "2022-02-18T10:29:31.529Z"
   },
   {
    "duration": 30,
    "start_time": "2022-02-18T10:29:46.146Z"
   },
   {
    "duration": 6,
    "start_time": "2022-02-18T10:29:46.570Z"
   },
   {
    "duration": 7,
    "start_time": "2022-02-18T10:29:52.103Z"
   },
   {
    "duration": 5,
    "start_time": "2022-02-18T10:30:00.636Z"
   },
   {
    "duration": 30,
    "start_time": "2022-02-18T10:33:24.408Z"
   },
   {
    "duration": 260,
    "start_time": "2022-02-18T10:33:57.549Z"
   },
   {
    "duration": 33,
    "start_time": "2022-02-18T10:34:04.941Z"
   },
   {
    "duration": 8187,
    "start_time": "2022-02-18T10:39:49.773Z"
   },
   {
    "duration": 6962,
    "start_time": "2022-02-18T10:48:10.786Z"
   },
   {
    "duration": 2081,
    "start_time": "2022-02-18T10:48:23.593Z"
   },
   {
    "duration": 6684,
    "start_time": "2022-02-18T10:48:50.302Z"
   },
   {
    "duration": 7391,
    "start_time": "2022-02-18T10:49:34.241Z"
   },
   {
    "duration": 6156,
    "start_time": "2022-02-18T10:49:54.010Z"
   },
   {
    "duration": 74,
    "start_time": "2022-02-18T10:53:25.291Z"
   },
   {
    "duration": 76,
    "start_time": "2022-02-18T10:55:11.942Z"
   },
   {
    "duration": 9,
    "start_time": "2022-02-18T10:55:42.754Z"
   },
   {
    "duration": 60,
    "start_time": "2022-02-18T10:56:09.050Z"
   },
   {
    "duration": 1881,
    "start_time": "2022-02-18T10:56:22.103Z"
   },
   {
    "duration": 90,
    "start_time": "2022-02-18T10:57:12.724Z"
   },
   {
    "duration": 14,
    "start_time": "2022-02-18T10:57:31.855Z"
   },
   {
    "duration": 2112,
    "start_time": "2022-02-18T10:57:49.745Z"
   },
   {
    "duration": 8,
    "start_time": "2022-02-18T10:57:54.573Z"
   },
   {
    "duration": 423,
    "start_time": "2022-02-18T10:59:55.311Z"
   },
   {
    "duration": 61,
    "start_time": "2022-02-18T11:00:05.645Z"
   },
   {
    "duration": 9,
    "start_time": "2022-02-18T11:14:25.179Z"
   },
   {
    "duration": 59,
    "start_time": "2022-02-18T11:14:42.798Z"
   },
   {
    "duration": 13,
    "start_time": "2022-02-18T11:15:43.186Z"
   },
   {
    "duration": 372,
    "start_time": "2022-02-18T11:17:36.974Z"
   },
   {
    "duration": 253,
    "start_time": "2022-02-18T11:18:25.743Z"
   },
   {
    "duration": 255,
    "start_time": "2022-02-18T11:19:50.254Z"
   },
   {
    "duration": 11,
    "start_time": "2022-02-18T11:20:24.391Z"
   },
   {
    "duration": 9,
    "start_time": "2022-02-18T11:21:00.764Z"
   },
   {
    "duration": 54,
    "start_time": "2022-02-18T11:21:22.958Z"
   },
   {
    "duration": 10,
    "start_time": "2022-02-18T11:23:31.740Z"
   },
   {
    "duration": 19,
    "start_time": "2022-02-18T11:24:03.350Z"
   },
   {
    "duration": 11,
    "start_time": "2022-02-18T11:25:11.072Z"
   },
   {
    "duration": 12,
    "start_time": "2022-02-18T11:26:06.560Z"
   },
   {
    "duration": 13,
    "start_time": "2022-02-18T11:26:46.722Z"
   },
   {
    "duration": 13,
    "start_time": "2022-02-18T11:26:47.092Z"
   },
   {
    "duration": 69,
    "start_time": "2022-02-18T11:26:48.961Z"
   },
   {
    "duration": 66,
    "start_time": "2022-02-18T11:26:54.205Z"
   },
   {
    "duration": 13,
    "start_time": "2022-02-18T11:27:08.977Z"
   },
   {
    "duration": 10,
    "start_time": "2022-02-18T11:27:09.382Z"
   },
   {
    "duration": 61,
    "start_time": "2022-02-18T11:27:09.929Z"
   },
   {
    "duration": 4,
    "start_time": "2022-02-18T11:27:12.693Z"
   },
   {
    "duration": 104,
    "start_time": "2022-02-18T11:27:12.699Z"
   },
   {
    "duration": 55,
    "start_time": "2022-02-18T11:27:12.807Z"
   },
   {
    "duration": 16,
    "start_time": "2022-02-18T11:27:12.866Z"
   },
   {
    "duration": 5,
    "start_time": "2022-02-18T11:27:12.885Z"
   },
   {
    "duration": 14,
    "start_time": "2022-02-18T11:27:12.892Z"
   },
   {
    "duration": 43,
    "start_time": "2022-02-18T11:27:12.909Z"
   },
   {
    "duration": 7,
    "start_time": "2022-02-18T11:27:12.955Z"
   },
   {
    "duration": 11,
    "start_time": "2022-02-18T11:27:12.966Z"
   },
   {
    "duration": 8,
    "start_time": "2022-02-18T11:27:12.979Z"
   },
   {
    "duration": 69,
    "start_time": "2022-02-18T11:27:12.990Z"
   },
   {
    "duration": 14,
    "start_time": "2022-02-18T11:27:13.063Z"
   },
   {
    "duration": 12,
    "start_time": "2022-02-18T11:27:13.079Z"
   },
   {
    "duration": 98,
    "start_time": "2022-02-18T11:27:13.094Z"
   },
   {
    "duration": 385,
    "start_time": "2022-02-18T11:27:13.195Z"
   },
   {
    "duration": 2119,
    "start_time": "2022-02-18T11:27:11.464Z"
   },
   {
    "duration": 2096,
    "start_time": "2022-02-18T11:27:11.489Z"
   },
   {
    "duration": 2059,
    "start_time": "2022-02-18T11:27:11.528Z"
   },
   {
    "duration": 3,
    "start_time": "2022-02-18T11:28:25.381Z"
   },
   {
    "duration": 96,
    "start_time": "2022-02-18T11:28:25.387Z"
   },
   {
    "duration": 41,
    "start_time": "2022-02-18T11:28:25.486Z"
   },
   {
    "duration": 20,
    "start_time": "2022-02-18T11:28:25.549Z"
   },
   {
    "duration": 7,
    "start_time": "2022-02-18T11:28:25.572Z"
   },
   {
    "duration": 11,
    "start_time": "2022-02-18T11:28:25.582Z"
   },
   {
    "duration": 20,
    "start_time": "2022-02-18T11:28:25.597Z"
   },
   {
    "duration": 31,
    "start_time": "2022-02-18T11:28:25.619Z"
   },
   {
    "duration": 5,
    "start_time": "2022-02-18T11:28:25.653Z"
   },
   {
    "duration": 8,
    "start_time": "2022-02-18T11:28:25.661Z"
   },
   {
    "duration": 35,
    "start_time": "2022-02-18T11:28:25.672Z"
   },
   {
    "duration": 40,
    "start_time": "2022-02-18T11:28:25.709Z"
   },
   {
    "duration": 22,
    "start_time": "2022-02-18T11:28:25.751Z"
   },
   {
    "duration": 75,
    "start_time": "2022-02-18T11:28:25.775Z"
   },
   {
    "duration": 461,
    "start_time": "2022-02-18T11:28:25.852Z"
   },
   {
    "duration": 2104,
    "start_time": "2022-02-18T11:28:24.212Z"
   },
   {
    "duration": 2055,
    "start_time": "2022-02-18T11:28:24.263Z"
   },
   {
    "duration": 2010,
    "start_time": "2022-02-18T11:28:24.310Z"
   },
   {
    "duration": 11,
    "start_time": "2022-02-18T11:28:43.292Z"
   },
   {
    "duration": 3,
    "start_time": "2022-02-18T11:29:29.775Z"
   },
   {
    "duration": 18,
    "start_time": "2022-02-18T11:29:41.946Z"
   },
   {
    "duration": 60,
    "start_time": "2022-02-18T11:30:11.463Z"
   },
   {
    "duration": 5,
    "start_time": "2022-02-18T11:31:40.440Z"
   },
   {
    "duration": 12,
    "start_time": "2022-02-18T11:32:35.748Z"
   },
   {
    "duration": 14,
    "start_time": "2022-02-18T11:33:49.676Z"
   },
   {
    "duration": 9,
    "start_time": "2022-02-18T11:33:50.108Z"
   },
   {
    "duration": 12,
    "start_time": "2022-02-18T11:33:52.816Z"
   },
   {
    "duration": 55,
    "start_time": "2022-02-18T11:33:58.773Z"
   },
   {
    "duration": 66,
    "start_time": "2022-02-18T11:35:53.142Z"
   },
   {
    "duration": 73,
    "start_time": "2022-02-18T11:38:41.833Z"
   },
   {
    "duration": 21,
    "start_time": "2022-02-18T11:38:52.146Z"
   },
   {
    "duration": 43,
    "start_time": "2022-02-18T11:39:38.554Z"
   },
   {
    "duration": 3,
    "start_time": "2022-02-18T11:40:55.971Z"
   },
   {
    "duration": 91,
    "start_time": "2022-02-18T11:40:55.977Z"
   },
   {
    "duration": 41,
    "start_time": "2022-02-18T11:40:56.072Z"
   },
   {
    "duration": 41,
    "start_time": "2022-02-18T11:40:56.116Z"
   },
   {
    "duration": 7,
    "start_time": "2022-02-18T11:40:56.159Z"
   },
   {
    "duration": 7,
    "start_time": "2022-02-18T11:40:56.170Z"
   },
   {
    "duration": 15,
    "start_time": "2022-02-18T11:40:56.182Z"
   },
   {
    "duration": 5,
    "start_time": "2022-02-18T11:40:56.200Z"
   },
   {
    "duration": 49,
    "start_time": "2022-02-18T11:40:56.207Z"
   },
   {
    "duration": 19,
    "start_time": "2022-02-18T11:40:56.259Z"
   },
   {
    "duration": 34,
    "start_time": "2022-02-18T11:40:56.281Z"
   },
   {
    "duration": 40,
    "start_time": "2022-02-18T11:40:56.318Z"
   },
   {
    "duration": 16,
    "start_time": "2022-02-18T11:40:56.361Z"
   },
   {
    "duration": 72,
    "start_time": "2022-02-18T11:40:56.380Z"
   },
   {
    "duration": 63,
    "start_time": "2022-02-18T11:40:56.457Z"
   },
   {
    "duration": 3,
    "start_time": "2022-02-18T11:40:56.523Z"
   },
   {
    "duration": 61,
    "start_time": "2022-02-18T11:40:56.549Z"
   },
   {
    "duration": 3,
    "start_time": "2022-02-18T11:40:56.612Z"
   },
   {
    "duration": 33,
    "start_time": "2022-02-18T11:40:56.618Z"
   },
   {
    "duration": 8,
    "start_time": "2022-02-18T11:41:38.663Z"
   },
   {
    "duration": 7,
    "start_time": "2022-02-18T11:41:43.085Z"
   },
   {
    "duration": 76,
    "start_time": "2022-02-18T11:42:42.114Z"
   },
   {
    "duration": 73,
    "start_time": "2022-02-18T11:42:53.118Z"
   },
   {
    "duration": 69,
    "start_time": "2022-02-18T11:43:25.697Z"
   },
   {
    "duration": 84,
    "start_time": "2022-02-18T11:44:30.687Z"
   },
   {
    "duration": 4,
    "start_time": "2022-02-18T11:44:56.613Z"
   },
   {
    "duration": 94,
    "start_time": "2022-02-18T11:44:56.620Z"
   },
   {
    "duration": 85,
    "start_time": "2022-02-18T11:44:56.718Z"
   },
   {
    "duration": 16,
    "start_time": "2022-02-18T11:44:56.806Z"
   },
   {
    "duration": 25,
    "start_time": "2022-02-18T11:44:56.824Z"
   },
   {
    "duration": 6,
    "start_time": "2022-02-18T11:44:56.853Z"
   },
   {
    "duration": 24,
    "start_time": "2022-02-18T11:44:56.861Z"
   },
   {
    "duration": 6,
    "start_time": "2022-02-18T11:44:56.889Z"
   },
   {
    "duration": 5,
    "start_time": "2022-02-18T11:44:56.898Z"
   },
   {
    "duration": 46,
    "start_time": "2022-02-18T11:44:56.906Z"
   },
   {
    "duration": 39,
    "start_time": "2022-02-18T11:44:56.955Z"
   },
   {
    "duration": 4,
    "start_time": "2022-02-18T11:44:56.997Z"
   },
   {
    "duration": 102,
    "start_time": "2022-02-18T11:44:57.004Z"
   },
   {
    "duration": 57,
    "start_time": "2022-02-18T11:44:57.108Z"
   },
   {
    "duration": 65,
    "start_time": "2022-02-18T11:44:57.168Z"
   },
   {
    "duration": 5,
    "start_time": "2022-02-18T11:44:57.248Z"
   },
   {
    "duration": 53,
    "start_time": "2022-02-18T11:44:57.256Z"
   },
   {
    "duration": 7,
    "start_time": "2022-02-18T11:44:57.313Z"
   },
   {
    "duration": 28,
    "start_time": "2022-02-18T11:44:57.323Z"
   },
   {
    "duration": 24,
    "start_time": "2022-02-18T11:44:57.355Z"
   },
   {
    "duration": 75,
    "start_time": "2022-02-18T11:45:08.923Z"
   },
   {
    "duration": 8,
    "start_time": "2022-02-18T11:48:23.123Z"
   },
   {
    "duration": 8,
    "start_time": "2022-02-18T11:48:27.413Z"
   },
   {
    "duration": 4,
    "start_time": "2022-02-18T11:49:05.641Z"
   },
   {
    "duration": 131,
    "start_time": "2022-02-18T11:49:05.647Z"
   },
   {
    "duration": 79,
    "start_time": "2022-02-18T11:49:05.780Z"
   },
   {
    "duration": 8,
    "start_time": "2022-02-18T11:49:05.862Z"
   },
   {
    "duration": 22,
    "start_time": "2022-02-18T11:49:05.873Z"
   },
   {
    "duration": 9,
    "start_time": "2022-02-18T11:49:05.898Z"
   },
   {
    "duration": 44,
    "start_time": "2022-02-18T11:49:05.911Z"
   },
   {
    "duration": 20,
    "start_time": "2022-02-18T11:49:05.959Z"
   },
   {
    "duration": 6,
    "start_time": "2022-02-18T11:49:05.981Z"
   },
   {
    "duration": 20,
    "start_time": "2022-02-18T11:49:05.989Z"
   },
   {
    "duration": 7,
    "start_time": "2022-02-18T11:49:06.012Z"
   },
   {
    "duration": 60,
    "start_time": "2022-02-18T11:49:06.021Z"
   },
   {
    "duration": 4,
    "start_time": "2022-02-18T11:49:06.083Z"
   },
   {
    "duration": 100,
    "start_time": "2022-02-18T11:49:06.090Z"
   },
   {
    "duration": 33,
    "start_time": "2022-02-18T11:49:06.192Z"
   },
   {
    "duration": 76,
    "start_time": "2022-02-18T11:49:06.228Z"
   },
   {
    "duration": 3,
    "start_time": "2022-02-18T11:49:06.306Z"
   },
   {
    "duration": 62,
    "start_time": "2022-02-18T11:49:06.312Z"
   },
   {
    "duration": 7,
    "start_time": "2022-02-18T11:49:06.378Z"
   },
   {
    "duration": 8,
    "start_time": "2022-02-18T11:49:06.387Z"
   },
   {
    "duration": 8,
    "start_time": "2022-02-18T11:49:06.397Z"
   },
   {
    "duration": 9,
    "start_time": "2022-02-18T11:52:29.012Z"
   },
   {
    "duration": 13,
    "start_time": "2022-02-18T11:53:16.176Z"
   },
   {
    "duration": 24,
    "start_time": "2022-02-18T11:53:17.620Z"
   },
   {
    "duration": 9,
    "start_time": "2022-02-18T11:53:18.760Z"
   },
   {
    "duration": 16,
    "start_time": "2022-02-18T11:53:39.690Z"
   },
   {
    "duration": 59,
    "start_time": "2022-02-18T11:53:47.578Z"
   },
   {
    "duration": 30,
    "start_time": "2022-02-18T11:53:57.638Z"
   },
   {
    "duration": 7,
    "start_time": "2022-02-18T11:54:02.726Z"
   },
   {
    "duration": 85,
    "start_time": "2022-02-18T12:14:16.718Z"
   },
   {
    "duration": 85,
    "start_time": "2022-02-18T12:17:50.694Z"
   },
   {
    "duration": 3,
    "start_time": "2022-02-18T12:18:37.078Z"
   },
   {
    "duration": 93,
    "start_time": "2022-02-18T12:18:37.084Z"
   },
   {
    "duration": 74,
    "start_time": "2022-02-18T12:18:37.181Z"
   },
   {
    "duration": 16,
    "start_time": "2022-02-18T12:18:37.258Z"
   },
   {
    "duration": 8,
    "start_time": "2022-02-18T12:18:37.277Z"
   },
   {
    "duration": 5,
    "start_time": "2022-02-18T12:18:37.287Z"
   },
   {
    "duration": 55,
    "start_time": "2022-02-18T12:18:37.294Z"
   },
   {
    "duration": 7,
    "start_time": "2022-02-18T12:18:37.351Z"
   },
   {
    "duration": 6,
    "start_time": "2022-02-18T12:18:37.363Z"
   },
   {
    "duration": 7,
    "start_time": "2022-02-18T12:18:37.373Z"
   },
   {
    "duration": 66,
    "start_time": "2022-02-18T12:18:37.382Z"
   },
   {
    "duration": 63,
    "start_time": "2022-02-18T12:18:37.451Z"
   },
   {
    "duration": 31,
    "start_time": "2022-02-18T12:18:37.517Z"
   },
   {
    "duration": 3,
    "start_time": "2022-02-18T12:18:37.551Z"
   },
   {
    "duration": 7,
    "start_time": "2022-02-18T12:18:37.556Z"
   },
   {
    "duration": 15,
    "start_time": "2022-02-18T12:18:48.840Z"
   },
   {
    "duration": 15,
    "start_time": "2022-02-18T12:20:33.851Z"
   },
   {
    "duration": 58,
    "start_time": "2022-02-18T12:21:14.917Z"
   },
   {
    "duration": 8,
    "start_time": "2022-02-18T12:27:55.440Z"
   },
   {
    "duration": 7,
    "start_time": "2022-02-18T12:28:06.992Z"
   },
   {
    "duration": 8,
    "start_time": "2022-02-18T12:28:21.567Z"
   },
   {
    "duration": 8,
    "start_time": "2022-02-18T12:28:23.179Z"
   },
   {
    "duration": 249,
    "start_time": "2022-02-18T12:30:31.354Z"
   },
   {
    "duration": 7,
    "start_time": "2022-02-18T12:30:37.489Z"
   },
   {
    "duration": 9,
    "start_time": "2022-02-18T12:30:37.716Z"
   },
   {
    "duration": 69,
    "start_time": "2022-02-18T12:31:38.212Z"
   },
   {
    "duration": 6,
    "start_time": "2022-02-18T12:32:12.029Z"
   },
   {
    "duration": 26,
    "start_time": "2022-02-18T12:32:24.715Z"
   },
   {
    "duration": 8,
    "start_time": "2022-02-18T12:32:39.556Z"
   },
   {
    "duration": 92,
    "start_time": "2022-02-18T12:32:39.567Z"
   },
   {
    "duration": 63,
    "start_time": "2022-02-18T12:32:39.664Z"
   },
   {
    "duration": 34,
    "start_time": "2022-02-18T12:32:39.730Z"
   },
   {
    "duration": 13,
    "start_time": "2022-02-18T12:32:39.767Z"
   },
   {
    "duration": 8,
    "start_time": "2022-02-18T12:32:39.783Z"
   },
   {
    "duration": 19,
    "start_time": "2022-02-18T12:32:39.794Z"
   },
   {
    "duration": 34,
    "start_time": "2022-02-18T12:32:39.817Z"
   },
   {
    "duration": 18,
    "start_time": "2022-02-18T12:32:39.855Z"
   },
   {
    "duration": 6,
    "start_time": "2022-02-18T12:32:39.875Z"
   },
   {
    "duration": 40,
    "start_time": "2022-02-18T12:32:39.883Z"
   },
   {
    "duration": 91,
    "start_time": "2022-02-18T12:32:39.925Z"
   },
   {
    "duration": 32,
    "start_time": "2022-02-18T12:32:40.018Z"
   },
   {
    "duration": 21,
    "start_time": "2022-02-18T12:32:40.053Z"
   },
   {
    "duration": 60,
    "start_time": "2022-02-18T12:32:40.077Z"
   },
   {
    "duration": 5,
    "start_time": "2022-02-18T12:32:40.148Z"
   },
   {
    "duration": 33,
    "start_time": "2022-02-18T12:32:40.156Z"
   },
   {
    "duration": 3,
    "start_time": "2022-02-18T12:32:40.191Z"
   },
   {
    "duration": 12,
    "start_time": "2022-02-18T12:32:40.196Z"
   },
   {
    "duration": 81,
    "start_time": "2022-02-18T12:32:53.295Z"
   },
   {
    "duration": 8,
    "start_time": "2022-02-18T12:33:05.580Z"
   },
   {
    "duration": 76,
    "start_time": "2022-02-18T12:33:07.983Z"
   },
   {
    "duration": 9,
    "start_time": "2022-02-18T12:33:24.811Z"
   },
   {
    "duration": 6,
    "start_time": "2022-02-18T12:38:29.255Z"
   },
   {
    "duration": 8,
    "start_time": "2022-02-18T12:40:34.146Z"
   },
   {
    "duration": 17,
    "start_time": "2022-02-18T12:40:41.291Z"
   },
   {
    "duration": 79,
    "start_time": "2022-02-18T12:42:02.238Z"
   },
   {
    "duration": 6,
    "start_time": "2022-02-18T12:45:18.936Z"
   },
   {
    "duration": 17,
    "start_time": "2022-02-18T12:45:20.422Z"
   },
   {
    "duration": 65,
    "start_time": "2022-02-18T12:46:15.279Z"
   },
   {
    "duration": 7299,
    "start_time": "2022-02-18T12:47:26.585Z"
   },
   {
    "duration": 25,
    "start_time": "2022-02-18T12:47:56.357Z"
   },
   {
    "duration": 24,
    "start_time": "2022-02-18T12:48:03.013Z"
   },
   {
    "duration": 68,
    "start_time": "2022-02-18T12:48:08.203Z"
   },
   {
    "duration": 80,
    "start_time": "2022-02-18T12:49:09.336Z"
   },
   {
    "duration": 60,
    "start_time": "2022-02-18T13:01:10.190Z"
   },
   {
    "duration": 14,
    "start_time": "2022-02-18T13:07:58.781Z"
   },
   {
    "duration": 83,
    "start_time": "2022-02-18T13:40:05.425Z"
   },
   {
    "duration": 7,
    "start_time": "2022-02-18T13:51:12.960Z"
   },
   {
    "duration": 16,
    "start_time": "2022-02-18T13:51:18.836Z"
   },
   {
    "duration": 479,
    "start_time": "2022-02-18T13:52:07.532Z"
   },
   {
    "duration": 7,
    "start_time": "2022-02-18T13:52:21.568Z"
   },
   {
    "duration": 338,
    "start_time": "2022-02-18T13:52:22.008Z"
   },
   {
    "duration": 3,
    "start_time": "2022-02-18T13:52:41.067Z"
   },
   {
    "duration": 93,
    "start_time": "2022-02-18T13:52:41.073Z"
   },
   {
    "duration": 61,
    "start_time": "2022-02-18T13:52:41.169Z"
   },
   {
    "duration": 29,
    "start_time": "2022-02-18T13:52:41.232Z"
   },
   {
    "duration": 7,
    "start_time": "2022-02-18T13:52:41.264Z"
   },
   {
    "duration": 7,
    "start_time": "2022-02-18T13:52:41.273Z"
   },
   {
    "duration": 20,
    "start_time": "2022-02-18T13:52:41.283Z"
   },
   {
    "duration": 7,
    "start_time": "2022-02-18T13:52:41.306Z"
   },
   {
    "duration": 34,
    "start_time": "2022-02-18T13:52:41.316Z"
   },
   {
    "duration": 13,
    "start_time": "2022-02-18T13:52:41.353Z"
   },
   {
    "duration": 33,
    "start_time": "2022-02-18T13:52:41.369Z"
   },
   {
    "duration": 91,
    "start_time": "2022-02-18T13:52:41.404Z"
   },
   {
    "duration": 13,
    "start_time": "2022-02-18T13:52:41.498Z"
   },
   {
    "duration": 14,
    "start_time": "2022-02-18T13:52:41.514Z"
   },
   {
    "duration": 21,
    "start_time": "2022-02-18T13:52:41.530Z"
   },
   {
    "duration": 12,
    "start_time": "2022-02-18T13:52:41.554Z"
   },
   {
    "duration": 242,
    "start_time": "2022-02-18T13:52:41.569Z"
   },
   {
    "duration": 235,
    "start_time": "2022-02-18T13:52:41.579Z"
   },
   {
    "duration": 230,
    "start_time": "2022-02-18T13:52:41.585Z"
   },
   {
    "duration": 228,
    "start_time": "2022-02-18T13:52:41.589Z"
   },
   {
    "duration": 220,
    "start_time": "2022-02-18T13:52:41.598Z"
   },
   {
    "duration": 219,
    "start_time": "2022-02-18T13:52:41.601Z"
   },
   {
    "duration": 308,
    "start_time": "2022-02-18T13:52:48.522Z"
   },
   {
    "duration": 277,
    "start_time": "2022-02-18T13:53:13.255Z"
   },
   {
    "duration": 28,
    "start_time": "2022-02-18T13:53:20.444Z"
   },
   {
    "duration": 25,
    "start_time": "2022-02-18T13:53:42.899Z"
   },
   {
    "duration": 14,
    "start_time": "2022-02-18T13:53:58.250Z"
   },
   {
    "duration": 3,
    "start_time": "2022-02-18T13:54:14.662Z"
   },
   {
    "duration": 103,
    "start_time": "2022-02-18T13:54:14.668Z"
   },
   {
    "duration": 80,
    "start_time": "2022-02-18T13:54:14.774Z"
   },
   {
    "duration": 16,
    "start_time": "2022-02-18T13:54:14.857Z"
   },
   {
    "duration": 6,
    "start_time": "2022-02-18T13:54:14.875Z"
   },
   {
    "duration": 17,
    "start_time": "2022-02-18T13:54:14.884Z"
   },
   {
    "duration": 32,
    "start_time": "2022-02-18T13:54:14.903Z"
   },
   {
    "duration": 13,
    "start_time": "2022-02-18T13:54:14.938Z"
   },
   {
    "duration": 13,
    "start_time": "2022-02-18T13:54:14.954Z"
   },
   {
    "duration": 17,
    "start_time": "2022-02-18T13:54:14.969Z"
   },
   {
    "duration": 88,
    "start_time": "2022-02-18T13:54:14.988Z"
   },
   {
    "duration": 73,
    "start_time": "2022-02-18T13:54:15.079Z"
   },
   {
    "duration": 13,
    "start_time": "2022-02-18T13:54:15.154Z"
   },
   {
    "duration": 18,
    "start_time": "2022-02-18T13:54:15.169Z"
   },
   {
    "duration": 15,
    "start_time": "2022-02-18T13:54:15.190Z"
   },
   {
    "duration": 9,
    "start_time": "2022-02-18T13:54:15.207Z"
   },
   {
    "duration": 16,
    "start_time": "2022-02-18T13:54:15.219Z"
   },
   {
    "duration": 20,
    "start_time": "2022-02-18T13:54:15.237Z"
   },
   {
    "duration": 3,
    "start_time": "2022-02-18T13:54:15.259Z"
   },
   {
    "duration": 10,
    "start_time": "2022-02-18T13:54:15.264Z"
   },
   {
    "duration": 3,
    "start_time": "2022-02-18T13:54:49.646Z"
   },
   {
    "duration": 7,
    "start_time": "2022-02-18T13:54:54.341Z"
   },
   {
    "duration": 21,
    "start_time": "2022-02-18T13:55:07.102Z"
   },
   {
    "duration": 72,
    "start_time": "2022-02-18T13:55:25.784Z"
   },
   {
    "duration": 276,
    "start_time": "2022-02-18T13:55:52.427Z"
   },
   {
    "duration": 76,
    "start_time": "2022-02-18T13:57:23.302Z"
   },
   {
    "duration": 62,
    "start_time": "2022-02-18T14:05:12.104Z"
   },
   {
    "duration": 6792,
    "start_time": "2022-02-18T14:05:50.762Z"
   },
   {
    "duration": 61,
    "start_time": "2022-02-18T14:05:59.052Z"
   },
   {
    "duration": 81,
    "start_time": "2022-02-18T14:10:13.962Z"
   },
   {
    "duration": 60,
    "start_time": "2022-02-18T14:10:23.729Z"
   },
   {
    "duration": 7,
    "start_time": "2022-02-18T14:10:38.613Z"
   },
   {
    "duration": 248,
    "start_time": "2022-02-18T14:11:26.164Z"
   },
   {
    "duration": 7,
    "start_time": "2022-02-18T14:11:30.398Z"
   },
   {
    "duration": 314,
    "start_time": "2022-02-18T14:11:30.633Z"
   },
   {
    "duration": 409,
    "start_time": "2022-02-18T14:12:19.554Z"
   },
   {
    "duration": 8,
    "start_time": "2022-02-18T14:12:24.285Z"
   },
   {
    "duration": 59,
    "start_time": "2022-02-18T14:13:28.784Z"
   },
   {
    "duration": 338,
    "start_time": "2022-02-18T14:15:06.103Z"
   },
   {
    "duration": 298,
    "start_time": "2022-02-18T14:15:20.793Z"
   },
   {
    "duration": 27,
    "start_time": "2022-02-18T14:15:36.672Z"
   },
   {
    "duration": 23,
    "start_time": "2022-02-18T14:16:01.958Z"
   },
   {
    "duration": 94,
    "start_time": "2022-02-18T14:16:45.165Z"
   },
   {
    "duration": 93,
    "start_time": "2022-02-18T14:17:43.188Z"
   },
   {
    "duration": 30,
    "start_time": "2022-02-18T14:19:05.849Z"
   },
   {
    "duration": 27,
    "start_time": "2022-02-18T14:19:43.093Z"
   },
   {
    "duration": 39,
    "start_time": "2022-02-18T14:20:03.392Z"
   },
   {
    "duration": 18,
    "start_time": "2022-02-18T14:26:05.075Z"
   },
   {
    "duration": 17,
    "start_time": "2022-02-18T14:26:10.604Z"
   },
   {
    "duration": 16,
    "start_time": "2022-02-18T14:26:51.170Z"
   },
   {
    "duration": 17,
    "start_time": "2022-02-18T14:26:54.537Z"
   },
   {
    "duration": 17,
    "start_time": "2022-02-18T14:27:17.211Z"
   },
   {
    "duration": 17,
    "start_time": "2022-02-18T14:27:22.240Z"
   },
   {
    "duration": 418,
    "start_time": "2022-02-18T14:28:15.798Z"
   },
   {
    "duration": 284,
    "start_time": "2022-02-18T14:28:27.884Z"
   },
   {
    "duration": 285,
    "start_time": "2022-02-18T14:29:04.854Z"
   },
   {
    "duration": 19,
    "start_time": "2022-02-18T14:29:47.198Z"
   },
   {
    "duration": 272,
    "start_time": "2022-02-18T14:36:51.620Z"
   },
   {
    "duration": 37,
    "start_time": "2022-02-18T14:44:19.892Z"
   },
   {
    "duration": 30,
    "start_time": "2022-02-18T14:44:30.871Z"
   },
   {
    "duration": 36,
    "start_time": "2022-02-18T14:44:35.288Z"
   },
   {
    "duration": 33,
    "start_time": "2022-02-18T14:44:41.688Z"
   },
   {
    "duration": 60,
    "start_time": "2022-02-18T14:50:56.529Z"
   },
   {
    "duration": 12,
    "start_time": "2022-02-18T14:54:31.586Z"
   },
   {
    "duration": 15,
    "start_time": "2022-02-18T14:54:43.902Z"
   },
   {
    "duration": 57,
    "start_time": "2022-02-18T14:54:58.814Z"
   },
   {
    "duration": 57,
    "start_time": "2022-02-18T14:59:26.189Z"
   },
   {
    "duration": 5,
    "start_time": "2022-02-18T15:00:57.596Z"
   },
   {
    "duration": 70,
    "start_time": "2022-02-18T15:00:59.314Z"
   },
   {
    "duration": 16,
    "start_time": "2022-02-18T15:01:37.091Z"
   },
   {
    "duration": 57,
    "start_time": "2022-02-18T15:01:49.792Z"
   },
   {
    "duration": 75,
    "start_time": "2022-02-18T15:01:54.711Z"
   },
   {
    "duration": 7,
    "start_time": "2022-02-18T15:02:18.708Z"
   },
   {
    "duration": 69,
    "start_time": "2022-02-18T15:02:20.833Z"
   },
   {
    "duration": 61,
    "start_time": "2022-02-18T15:03:36.632Z"
   },
   {
    "duration": 62,
    "start_time": "2022-02-18T15:05:04.413Z"
   },
   {
    "duration": 16,
    "start_time": "2022-02-18T15:05:23.149Z"
   },
   {
    "duration": 7,
    "start_time": "2022-02-18T15:05:33.260Z"
   },
   {
    "duration": 9,
    "start_time": "2022-02-18T15:12:25.323Z"
   },
   {
    "duration": 53,
    "start_time": "2022-02-18T15:12:34.196Z"
   },
   {
    "duration": 8,
    "start_time": "2022-02-18T15:13:34.481Z"
   },
   {
    "duration": 57,
    "start_time": "2022-02-18T15:13:36.345Z"
   },
   {
    "duration": 10,
    "start_time": "2022-02-18T15:15:49.384Z"
   },
   {
    "duration": 53,
    "start_time": "2022-02-18T15:15:50.060Z"
   },
   {
    "duration": 4,
    "start_time": "2022-02-18T15:16:00.102Z"
   },
   {
    "duration": 114,
    "start_time": "2022-02-18T15:16:00.108Z"
   },
   {
    "duration": 82,
    "start_time": "2022-02-18T15:16:00.225Z"
   },
   {
    "duration": 45,
    "start_time": "2022-02-18T15:16:00.311Z"
   },
   {
    "duration": 9,
    "start_time": "2022-02-18T15:16:00.361Z"
   },
   {
    "duration": 31,
    "start_time": "2022-02-18T15:16:00.372Z"
   },
   {
    "duration": 63,
    "start_time": "2022-02-18T15:16:00.407Z"
   },
   {
    "duration": 15,
    "start_time": "2022-02-18T15:16:00.474Z"
   },
   {
    "duration": 38,
    "start_time": "2022-02-18T15:16:00.492Z"
   },
   {
    "duration": 17,
    "start_time": "2022-02-18T15:16:00.533Z"
   },
   {
    "duration": 42,
    "start_time": "2022-02-18T15:16:00.553Z"
   },
   {
    "duration": 99,
    "start_time": "2022-02-18T15:16:00.598Z"
   },
   {
    "duration": 13,
    "start_time": "2022-02-18T15:16:00.700Z"
   },
   {
    "duration": 38,
    "start_time": "2022-02-18T15:16:00.716Z"
   },
   {
    "duration": 33,
    "start_time": "2022-02-18T15:16:00.758Z"
   },
   {
    "duration": 21,
    "start_time": "2022-02-18T15:16:00.794Z"
   },
   {
    "duration": 26,
    "start_time": "2022-02-18T15:16:00.818Z"
   },
   {
    "duration": 42,
    "start_time": "2022-02-18T15:16:00.847Z"
   },
   {
    "duration": 18,
    "start_time": "2022-02-18T15:16:00.894Z"
   },
   {
    "duration": 23,
    "start_time": "2022-02-18T15:16:00.917Z"
   },
   {
    "duration": 10,
    "start_time": "2022-02-18T15:16:00.944Z"
   },
   {
    "duration": 19,
    "start_time": "2022-02-18T15:16:00.958Z"
   },
   {
    "duration": 92,
    "start_time": "2022-02-18T15:16:00.980Z"
   },
   {
    "duration": 183,
    "start_time": "2022-02-18T18:58:52.997Z"
   },
   {
    "duration": 137,
    "start_time": "2022-02-18T18:58:53.563Z"
   },
   {
    "duration": 527,
    "start_time": "2022-02-18T18:58:59.618Z"
   },
   {
    "duration": 74,
    "start_time": "2022-02-18T18:59:00.147Z"
   },
   {
    "duration": 59,
    "start_time": "2022-02-18T18:59:00.223Z"
   },
   {
    "duration": 11,
    "start_time": "2022-02-18T18:59:00.284Z"
   },
   {
    "duration": 5,
    "start_time": "2022-02-18T18:59:00.297Z"
   },
   {
    "duration": 5,
    "start_time": "2022-02-18T18:59:00.303Z"
   },
   {
    "duration": 12,
    "start_time": "2022-02-18T18:59:00.309Z"
   },
   {
    "duration": 8,
    "start_time": "2022-02-18T18:59:00.324Z"
   },
   {
    "duration": 7,
    "start_time": "2022-02-18T18:59:00.334Z"
   },
   {
    "duration": 5,
    "start_time": "2022-02-18T18:59:00.359Z"
   },
   {
    "duration": 26,
    "start_time": "2022-02-18T18:59:00.366Z"
   },
   {
    "duration": 65,
    "start_time": "2022-02-18T18:59:00.394Z"
   },
   {
    "duration": 9,
    "start_time": "2022-02-18T18:59:00.461Z"
   },
   {
    "duration": 13,
    "start_time": "2022-02-18T18:59:00.472Z"
   },
   {
    "duration": 9,
    "start_time": "2022-02-18T18:59:00.487Z"
   },
   {
    "duration": 6,
    "start_time": "2022-02-18T18:59:00.498Z"
   },
   {
    "duration": 9,
    "start_time": "2022-02-18T18:59:00.506Z"
   },
   {
    "duration": 21,
    "start_time": "2022-02-18T18:59:00.516Z"
   },
   {
    "duration": 11,
    "start_time": "2022-02-18T18:59:00.539Z"
   },
   {
    "duration": 9,
    "start_time": "2022-02-18T18:59:00.559Z"
   },
   {
    "duration": 7,
    "start_time": "2022-02-18T18:59:00.570Z"
   },
   {
    "duration": 9,
    "start_time": "2022-02-18T18:59:00.579Z"
   },
   {
    "duration": 35,
    "start_time": "2022-02-18T18:59:00.591Z"
   },
   {
    "duration": 6,
    "start_time": "2022-02-18T19:00:18.686Z"
   },
   {
    "duration": 42,
    "start_time": "2022-02-18T19:00:19.241Z"
   },
   {
    "duration": 31,
    "start_time": "2022-02-18T19:00:23.698Z"
   },
   {
    "duration": 3,
    "start_time": "2022-02-18T19:00:30.783Z"
   },
   {
    "duration": 75,
    "start_time": "2022-02-18T19:00:30.788Z"
   },
   {
    "duration": 40,
    "start_time": "2022-02-18T19:00:30.865Z"
   },
   {
    "duration": 10,
    "start_time": "2022-02-18T19:00:30.907Z"
   },
   {
    "duration": 9,
    "start_time": "2022-02-18T19:00:30.919Z"
   },
   {
    "duration": 12,
    "start_time": "2022-02-18T19:00:30.930Z"
   },
   {
    "duration": 22,
    "start_time": "2022-02-18T19:00:30.943Z"
   },
   {
    "duration": 8,
    "start_time": "2022-02-18T19:00:30.967Z"
   },
   {
    "duration": 8,
    "start_time": "2022-02-18T19:00:30.978Z"
   },
   {
    "duration": 21,
    "start_time": "2022-02-18T19:00:30.987Z"
   },
   {
    "duration": 40,
    "start_time": "2022-02-18T19:00:31.009Z"
   },
   {
    "duration": 42,
    "start_time": "2022-02-18T19:00:31.050Z"
   },
   {
    "duration": 9,
    "start_time": "2022-02-18T19:00:31.094Z"
   },
   {
    "duration": 12,
    "start_time": "2022-02-18T19:00:31.105Z"
   },
   {
    "duration": 13,
    "start_time": "2022-02-18T19:00:31.119Z"
   },
   {
    "duration": 13,
    "start_time": "2022-02-18T19:00:31.133Z"
   },
   {
    "duration": 22,
    "start_time": "2022-02-18T19:00:31.148Z"
   },
   {
    "duration": 25,
    "start_time": "2022-02-18T19:00:31.172Z"
   },
   {
    "duration": 11,
    "start_time": "2022-02-18T19:00:31.200Z"
   },
   {
    "duration": 10,
    "start_time": "2022-02-18T19:00:31.213Z"
   },
   {
    "duration": 24,
    "start_time": "2022-02-18T19:00:31.225Z"
   },
   {
    "duration": 18,
    "start_time": "2022-02-18T19:00:31.251Z"
   },
   {
    "duration": 39,
    "start_time": "2022-02-18T19:00:31.272Z"
   },
   {
    "duration": 7,
    "start_time": "2022-02-18T19:01:49.087Z"
   },
   {
    "duration": 33,
    "start_time": "2022-02-18T19:01:52.947Z"
   },
   {
    "duration": 6,
    "start_time": "2022-02-18T19:03:58.941Z"
   },
   {
    "duration": 34,
    "start_time": "2022-02-18T19:04:00.482Z"
   },
   {
    "duration": 31,
    "start_time": "2022-02-18T19:10:48.757Z"
   },
   {
    "duration": 3,
    "start_time": "2022-02-18T19:26:41.046Z"
   },
   {
    "duration": 3,
    "start_time": "2022-02-18T19:27:42.584Z"
   },
   {
    "duration": 2160,
    "start_time": "2022-02-18T19:27:45.620Z"
   },
   {
    "duration": 49,
    "start_time": "2022-02-18T19:28:12.204Z"
   },
   {
    "duration": 2058,
    "start_time": "2022-02-18T19:28:12.559Z"
   },
   {
    "duration": 3,
    "start_time": "2022-02-18T19:29:09.604Z"
   },
   {
    "duration": 2073,
    "start_time": "2022-02-18T19:29:13.165Z"
   },
   {
    "duration": 3,
    "start_time": "2022-02-18T19:31:27.828Z"
   },
   {
    "duration": 2209,
    "start_time": "2022-02-18T19:31:28.970Z"
   },
   {
    "duration": 3422,
    "start_time": "2022-02-18T19:32:06.092Z"
   },
   {
    "duration": 32,
    "start_time": "2022-02-18T19:32:42.929Z"
   },
   {
    "duration": 50,
    "start_time": "2022-02-18T19:34:38.173Z"
   },
   {
    "duration": 5,
    "start_time": "2022-02-18T19:34:41.350Z"
   },
   {
    "duration": 3,
    "start_time": "2022-02-18T19:37:22.466Z"
   },
   {
    "duration": 649,
    "start_time": "2022-02-18T19:39:21.595Z"
   },
   {
    "duration": 47,
    "start_time": "2022-02-18T19:39:47.133Z"
   },
   {
    "duration": 49,
    "start_time": "2022-02-18T19:40:36.579Z"
   },
   {
    "duration": 4,
    "start_time": "2022-02-18T19:40:48.713Z"
   },
   {
    "duration": 88,
    "start_time": "2022-02-18T19:41:06.082Z"
   },
   {
    "duration": 3,
    "start_time": "2022-02-18T19:42:15.663Z"
   },
   {
    "duration": 688,
    "start_time": "2022-02-18T19:42:18.775Z"
   },
   {
    "duration": 3,
    "start_time": "2022-02-18T19:43:18.675Z"
   },
   {
    "duration": 161,
    "start_time": "2022-02-18T19:43:21.600Z"
   },
   {
    "duration": 166,
    "start_time": "2022-02-18T19:43:26.044Z"
   },
   {
    "duration": 34,
    "start_time": "2022-02-18T19:43:31.815Z"
   },
   {
    "duration": 47,
    "start_time": "2022-02-18T19:45:16.812Z"
   },
   {
    "duration": 48,
    "start_time": "2022-02-18T19:45:28.577Z"
   },
   {
    "duration": 52,
    "start_time": "2022-02-18T19:45:41.967Z"
   },
   {
    "duration": 214,
    "start_time": "2022-02-18T19:46:59.342Z"
   },
   {
    "duration": 112,
    "start_time": "2022-02-18T19:47:15.580Z"
   },
   {
    "duration": 3,
    "start_time": "2022-02-18T19:48:37.954Z"
   },
   {
    "duration": 305,
    "start_time": "2022-02-18T19:48:40.828Z"
   },
   {
    "duration": 33,
    "start_time": "2022-02-18T19:48:44.610Z"
   },
   {
    "duration": 41,
    "start_time": "2022-02-18T19:48:58.679Z"
   },
   {
    "duration": 37,
    "start_time": "2022-02-18T19:50:49.328Z"
   },
   {
    "duration": 44,
    "start_time": "2022-02-18T19:51:34.023Z"
   },
   {
    "duration": 3,
    "start_time": "2022-02-18T19:52:26.575Z"
   },
   {
    "duration": 3016,
    "start_time": "2022-02-18T19:52:45.906Z"
   },
   {
    "duration": 43,
    "start_time": "2022-02-18T19:53:20.741Z"
   },
   {
    "duration": 3,
    "start_time": "2022-02-18T19:53:59.891Z"
   },
   {
    "duration": 300,
    "start_time": "2022-02-18T19:54:00.926Z"
   },
   {
    "duration": 32,
    "start_time": "2022-02-18T19:54:02.606Z"
   },
   {
    "duration": 55,
    "start_time": "2022-02-18T19:54:18.003Z"
   },
   {
    "duration": 1143,
    "start_time": "2022-02-18T19:56:42.478Z"
   },
   {
    "duration": 4,
    "start_time": "2022-02-18T19:56:52.990Z"
   },
   {
    "duration": 5,
    "start_time": "2022-02-18T19:57:05.712Z"
   },
   {
    "duration": 4,
    "start_time": "2022-02-18T19:58:03.395Z"
   },
   {
    "duration": 4,
    "start_time": "2022-02-18T19:58:04.750Z"
   },
   {
    "duration": 307,
    "start_time": "2022-02-18T19:58:05.294Z"
   },
   {
    "duration": 38,
    "start_time": "2022-02-18T19:58:07.477Z"
   },
   {
    "duration": 3,
    "start_time": "2022-02-18T19:58:23.513Z"
   },
   {
    "duration": 91,
    "start_time": "2022-02-18T19:58:23.518Z"
   },
   {
    "duration": 53,
    "start_time": "2022-02-18T19:58:23.611Z"
   },
   {
    "duration": 10,
    "start_time": "2022-02-18T19:58:23.666Z"
   },
   {
    "duration": 5,
    "start_time": "2022-02-18T19:58:23.678Z"
   },
   {
    "duration": 4,
    "start_time": "2022-02-18T19:58:23.685Z"
   },
   {
    "duration": 14,
    "start_time": "2022-02-18T19:58:23.691Z"
   },
   {
    "duration": 8,
    "start_time": "2022-02-18T19:58:23.707Z"
   },
   {
    "duration": 4,
    "start_time": "2022-02-18T19:58:23.717Z"
   },
   {
    "duration": 5,
    "start_time": "2022-02-18T19:58:23.722Z"
   },
   {
    "duration": 48,
    "start_time": "2022-02-18T19:58:23.729Z"
   },
   {
    "duration": 41,
    "start_time": "2022-02-18T19:58:23.779Z"
   },
   {
    "duration": 8,
    "start_time": "2022-02-18T19:58:23.822Z"
   },
   {
    "duration": 27,
    "start_time": "2022-02-18T19:58:23.832Z"
   },
   {
    "duration": 5,
    "start_time": "2022-02-18T19:58:23.861Z"
   },
   {
    "duration": 12,
    "start_time": "2022-02-18T19:58:23.868Z"
   },
   {
    "duration": 8,
    "start_time": "2022-02-18T19:58:23.882Z"
   },
   {
    "duration": 16,
    "start_time": "2022-02-18T19:58:23.893Z"
   },
   {
    "duration": 11,
    "start_time": "2022-02-18T19:58:23.912Z"
   },
   {
    "duration": 8,
    "start_time": "2022-02-18T19:58:23.925Z"
   },
   {
    "duration": 28,
    "start_time": "2022-02-18T19:58:23.934Z"
   },
   {
    "duration": 8,
    "start_time": "2022-02-18T19:58:23.964Z"
   },
   {
    "duration": 5,
    "start_time": "2022-02-18T19:58:23.974Z"
   },
   {
    "duration": 5,
    "start_time": "2022-02-18T19:58:23.981Z"
   },
   {
    "duration": 14,
    "start_time": "2022-02-18T19:58:23.988Z"
   },
   {
    "duration": 8,
    "start_time": "2022-02-18T19:58:24.004Z"
   },
   {
    "duration": 308,
    "start_time": "2022-02-18T19:58:24.014Z"
   },
   {
    "duration": 45,
    "start_time": "2022-02-18T19:58:24.326Z"
   },
   {
    "duration": 4,
    "start_time": "2022-02-18T19:58:53.637Z"
   },
   {
    "duration": 4,
    "start_time": "2022-02-18T19:58:58.025Z"
   },
   {
    "duration": 309,
    "start_time": "2022-02-18T19:58:58.952Z"
   },
   {
    "duration": 306,
    "start_time": "2022-02-18T19:59:10.496Z"
   },
   {
    "duration": 39,
    "start_time": "2022-02-18T19:59:11.278Z"
   },
   {
    "duration": 4,
    "start_time": "2022-02-18T19:59:42.461Z"
   },
   {
    "duration": 4,
    "start_time": "2022-02-18T19:59:54.300Z"
   },
   {
    "duration": 6,
    "start_time": "2022-02-18T20:00:02.373Z"
   },
   {
    "duration": 4,
    "start_time": "2022-02-18T20:00:13.812Z"
   },
   {
    "duration": 4,
    "start_time": "2022-02-18T20:00:40.020Z"
   },
   {
    "duration": 4,
    "start_time": "2022-02-18T20:00:41.358Z"
   },
   {
    "duration": 4,
    "start_time": "2022-02-18T20:00:42.554Z"
   },
   {
    "duration": 5,
    "start_time": "2022-02-18T20:00:45.480Z"
   },
   {
    "duration": 303,
    "start_time": "2022-02-18T20:00:49.326Z"
   },
   {
    "duration": 41,
    "start_time": "2022-02-18T20:00:50.525Z"
   },
   {
    "duration": 4,
    "start_time": "2022-02-18T20:01:18.648Z"
   },
   {
    "duration": 4,
    "start_time": "2022-02-18T20:01:20.949Z"
   },
   {
    "duration": 4,
    "start_time": "2022-02-18T20:01:21.398Z"
   },
   {
    "duration": 304,
    "start_time": "2022-02-18T20:01:21.943Z"
   },
   {
    "duration": 6,
    "start_time": "2022-02-18T20:02:26.664Z"
   },
   {
    "duration": 6,
    "start_time": "2022-02-18T20:02:41.325Z"
   },
   {
    "duration": 4,
    "start_time": "2022-02-18T20:02:51.244Z"
   },
   {
    "duration": 3000,
    "start_time": "2022-02-18T20:03:09.903Z"
   },
   {
    "duration": 38,
    "start_time": "2022-02-18T20:05:49.106Z"
   },
   {
    "duration": 3,
    "start_time": "2022-02-18T20:06:14.199Z"
   },
   {
    "duration": 448,
    "start_time": "2022-02-18T20:06:17.146Z"
   },
   {
    "duration": 37,
    "start_time": "2022-02-18T20:06:18.385Z"
   },
   {
    "duration": 548,
    "start_time": "2022-02-18T20:08:12.142Z"
   },
   {
    "duration": 565,
    "start_time": "2022-02-18T20:08:36.006Z"
   },
   {
    "duration": 51,
    "start_time": "2022-02-18T20:16:58.373Z"
   },
   {
    "duration": 3,
    "start_time": "2022-02-18T20:17:06.679Z"
   },
   {
    "duration": 447,
    "start_time": "2022-02-18T20:17:14.390Z"
   },
   {
    "duration": 2,
    "start_time": "2022-02-18T20:17:16.856Z"
   },
   {
    "duration": 440,
    "start_time": "2022-02-18T20:17:18.007Z"
   },
   {
    "duration": 39,
    "start_time": "2022-02-18T20:17:20.231Z"
   },
   {
    "duration": 4,
    "start_time": "2022-02-18T20:19:53.290Z"
   },
   {
    "duration": 545,
    "start_time": "2022-02-18T20:19:54.446Z"
   },
   {
    "duration": 46,
    "start_time": "2022-02-18T20:19:55.474Z"
   },
   {
    "duration": 29,
    "start_time": "2022-02-18T20:20:32.064Z"
   },
   {
    "duration": 39,
    "start_time": "2022-02-18T20:21:23.137Z"
   },
   {
    "duration": 38,
    "start_time": "2022-02-18T20:22:53.741Z"
   },
   {
    "duration": 28,
    "start_time": "2022-02-18T20:23:06.431Z"
   },
   {
    "duration": 40,
    "start_time": "2022-02-18T20:23:10.891Z"
   },
   {
    "duration": 34,
    "start_time": "2022-02-18T20:26:36.095Z"
   },
   {
    "duration": 3,
    "start_time": "2022-02-18T20:26:47.368Z"
   },
   {
    "duration": 78,
    "start_time": "2022-02-18T20:26:47.373Z"
   },
   {
    "duration": 44,
    "start_time": "2022-02-18T20:26:47.453Z"
   },
   {
    "duration": 11,
    "start_time": "2022-02-18T20:26:47.498Z"
   },
   {
    "duration": 6,
    "start_time": "2022-02-18T20:26:47.510Z"
   },
   {
    "duration": 7,
    "start_time": "2022-02-18T20:26:47.517Z"
   },
   {
    "duration": 33,
    "start_time": "2022-02-18T20:26:47.527Z"
   },
   {
    "duration": 4,
    "start_time": "2022-02-18T20:26:47.562Z"
   },
   {
    "duration": 7,
    "start_time": "2022-02-18T20:26:47.568Z"
   },
   {
    "duration": 10,
    "start_time": "2022-02-18T20:26:47.577Z"
   },
   {
    "duration": 27,
    "start_time": "2022-02-18T20:26:47.589Z"
   },
   {
    "duration": 59,
    "start_time": "2022-02-18T20:26:47.618Z"
   },
   {
    "duration": 8,
    "start_time": "2022-02-18T20:26:47.679Z"
   },
   {
    "duration": 5,
    "start_time": "2022-02-18T20:26:47.689Z"
   },
   {
    "duration": 5,
    "start_time": "2022-02-18T20:26:47.695Z"
   },
   {
    "duration": 6,
    "start_time": "2022-02-18T20:26:47.701Z"
   },
   {
    "duration": 6,
    "start_time": "2022-02-18T20:26:47.708Z"
   },
   {
    "duration": 13,
    "start_time": "2022-02-18T20:26:47.716Z"
   },
   {
    "duration": 32,
    "start_time": "2022-02-18T20:26:47.731Z"
   },
   {
    "duration": 8,
    "start_time": "2022-02-18T20:26:47.765Z"
   },
   {
    "duration": 8,
    "start_time": "2022-02-18T20:26:47.775Z"
   },
   {
    "duration": 8,
    "start_time": "2022-02-18T20:26:47.785Z"
   },
   {
    "duration": 5,
    "start_time": "2022-02-18T20:26:47.794Z"
   },
   {
    "duration": 7,
    "start_time": "2022-02-18T20:26:47.801Z"
   },
   {
    "duration": 4,
    "start_time": "2022-02-18T20:26:47.809Z"
   },
   {
    "duration": 57,
    "start_time": "2022-02-18T20:26:47.814Z"
   },
   {
    "duration": 136,
    "start_time": "2022-02-18T20:27:52.062Z"
   },
   {
    "duration": 591,
    "start_time": "2022-02-18T20:28:32.529Z"
   },
   {
    "duration": 31,
    "start_time": "2022-02-18T20:28:56.934Z"
   },
   {
    "duration": 32,
    "start_time": "2022-02-18T20:29:13.442Z"
   },
   {
    "duration": 35,
    "start_time": "2022-02-18T20:29:46.145Z"
   },
   {
    "duration": 5,
    "start_time": "2022-02-18T20:41:35.210Z"
   },
   {
    "duration": 35,
    "start_time": "2022-02-18T20:41:38.425Z"
   },
   {
    "duration": 33,
    "start_time": "2022-02-18T20:43:58.169Z"
   },
   {
    "duration": 4,
    "start_time": "2022-02-18T20:47:03.889Z"
   },
   {
    "duration": 36,
    "start_time": "2022-02-18T20:47:05.562Z"
   },
   {
    "duration": 3,
    "start_time": "2022-02-18T20:51:11.463Z"
   },
   {
    "duration": 4,
    "start_time": "2022-02-18T20:51:13.162Z"
   },
   {
    "duration": 35,
    "start_time": "2022-02-18T20:51:14.241Z"
   },
   {
    "duration": 3,
    "start_time": "2022-02-18T20:51:31.287Z"
   },
   {
    "duration": 71,
    "start_time": "2022-02-18T20:51:31.293Z"
   },
   {
    "duration": 38,
    "start_time": "2022-02-18T20:51:31.366Z"
   },
   {
    "duration": 10,
    "start_time": "2022-02-18T20:51:31.405Z"
   },
   {
    "duration": 6,
    "start_time": "2022-02-18T20:51:31.417Z"
   },
   {
    "duration": 20,
    "start_time": "2022-02-18T20:51:31.425Z"
   },
   {
    "duration": 18,
    "start_time": "2022-02-18T20:51:31.448Z"
   },
   {
    "duration": 6,
    "start_time": "2022-02-18T20:51:31.468Z"
   },
   {
    "duration": 9,
    "start_time": "2022-02-18T20:51:31.476Z"
   },
   {
    "duration": 7,
    "start_time": "2022-02-18T20:51:31.486Z"
   },
   {
    "duration": 34,
    "start_time": "2022-02-18T20:51:31.494Z"
   },
   {
    "duration": 53,
    "start_time": "2022-02-18T20:51:31.530Z"
   },
   {
    "duration": 8,
    "start_time": "2022-02-18T20:51:31.584Z"
   },
   {
    "duration": 4,
    "start_time": "2022-02-18T20:51:31.594Z"
   },
   {
    "duration": 6,
    "start_time": "2022-02-18T20:51:31.600Z"
   },
   {
    "duration": 8,
    "start_time": "2022-02-18T20:51:31.607Z"
   },
   {
    "duration": 9,
    "start_time": "2022-02-18T20:51:31.616Z"
   },
   {
    "duration": 12,
    "start_time": "2022-02-18T20:51:31.626Z"
   },
   {
    "duration": 12,
    "start_time": "2022-02-18T20:51:31.660Z"
   },
   {
    "duration": 9,
    "start_time": "2022-02-18T20:51:31.674Z"
   },
   {
    "duration": 10,
    "start_time": "2022-02-18T20:51:31.684Z"
   },
   {
    "duration": 11,
    "start_time": "2022-02-18T20:51:31.696Z"
   },
   {
    "duration": 11,
    "start_time": "2022-02-18T20:51:31.709Z"
   },
   {
    "duration": 7,
    "start_time": "2022-02-18T20:51:31.722Z"
   },
   {
    "duration": 5,
    "start_time": "2022-02-18T20:51:31.731Z"
   },
   {
    "duration": 574,
    "start_time": "2022-02-18T20:51:31.738Z"
   },
   {
    "duration": 4,
    "start_time": "2022-02-18T20:51:32.314Z"
   },
   {
    "duration": 50,
    "start_time": "2022-02-18T20:51:32.320Z"
   },
   {
    "duration": 4,
    "start_time": "2022-02-18T20:51:32.372Z"
   },
   {
    "duration": 9,
    "start_time": "2022-02-18T20:51:32.378Z"
   },
   {
    "duration": 39,
    "start_time": "2022-02-18T20:51:32.389Z"
   },
   {
    "duration": 4,
    "start_time": "2022-02-18T20:53:11.089Z"
   },
   {
    "duration": 37,
    "start_time": "2022-02-18T20:53:12.318Z"
   },
   {
    "duration": 34,
    "start_time": "2022-02-18T20:54:28.755Z"
   },
   {
    "duration": 287,
    "start_time": "2022-02-19T09:00:28.498Z"
   },
   {
    "duration": 540,
    "start_time": "2022-02-19T09:00:32.157Z"
   },
   {
    "duration": 64,
    "start_time": "2022-02-19T09:00:32.699Z"
   },
   {
    "duration": 39,
    "start_time": "2022-02-19T09:00:32.765Z"
   },
   {
    "duration": 9,
    "start_time": "2022-02-19T09:00:32.806Z"
   },
   {
    "duration": 5,
    "start_time": "2022-02-19T09:00:32.816Z"
   },
   {
    "duration": 11,
    "start_time": "2022-02-19T09:00:32.822Z"
   },
   {
    "duration": 12,
    "start_time": "2022-02-19T09:00:32.835Z"
   },
   {
    "duration": 4,
    "start_time": "2022-02-19T09:00:32.849Z"
   },
   {
    "duration": 3,
    "start_time": "2022-02-19T09:00:32.855Z"
   },
   {
    "duration": 5,
    "start_time": "2022-02-19T09:00:32.859Z"
   },
   {
    "duration": 19,
    "start_time": "2022-02-19T09:00:32.866Z"
   },
   {
    "duration": 65,
    "start_time": "2022-02-19T09:00:32.887Z"
   },
   {
    "duration": 9,
    "start_time": "2022-02-19T09:00:32.954Z"
   },
   {
    "duration": 6,
    "start_time": "2022-02-19T09:00:32.965Z"
   },
   {
    "duration": 5,
    "start_time": "2022-02-19T09:00:32.972Z"
   },
   {
    "duration": 6,
    "start_time": "2022-02-19T09:00:32.978Z"
   },
   {
    "duration": 13,
    "start_time": "2022-02-19T09:00:32.985Z"
   },
   {
    "duration": 15,
    "start_time": "2022-02-19T09:00:32.999Z"
   },
   {
    "duration": 22,
    "start_time": "2022-02-19T09:00:33.016Z"
   },
   {
    "duration": 7,
    "start_time": "2022-02-19T09:00:33.040Z"
   },
   {
    "duration": 5,
    "start_time": "2022-02-19T09:00:33.049Z"
   },
   {
    "duration": 13,
    "start_time": "2022-02-19T09:00:33.056Z"
   },
   {
    "duration": 8,
    "start_time": "2022-02-19T09:00:33.072Z"
   },
   {
    "duration": 8,
    "start_time": "2022-02-19T09:00:33.081Z"
   },
   {
    "duration": 6,
    "start_time": "2022-02-19T09:00:33.090Z"
   },
   {
    "duration": 564,
    "start_time": "2022-02-19T09:00:33.097Z"
   },
   {
    "duration": 4,
    "start_time": "2022-02-19T09:00:33.662Z"
   },
   {
    "duration": 6,
    "start_time": "2022-02-19T09:00:33.668Z"
   },
   {
    "duration": 4,
    "start_time": "2022-02-19T09:00:33.675Z"
   },
   {
    "duration": 4,
    "start_time": "2022-02-19T09:00:33.681Z"
   },
   {
    "duration": 13,
    "start_time": "2022-02-19T09:00:33.686Z"
   },
   {
    "duration": 32,
    "start_time": "2022-02-19T09:01:23.493Z"
   },
   {
    "duration": 325,
    "start_time": "2022-02-19T09:42:21.513Z"
   },
   {
    "duration": 30,
    "start_time": "2022-02-19T09:42:24.908Z"
   },
   {
    "duration": 233,
    "start_time": "2022-02-19T09:42:56.992Z"
   },
   {
    "duration": 8,
    "start_time": "2022-02-19T09:43:33.715Z"
   },
   {
    "duration": 167,
    "start_time": "2022-02-19T09:43:55.760Z"
   },
   {
    "duration": 430,
    "start_time": "2022-02-19T09:44:00.777Z"
   },
   {
    "duration": 289,
    "start_time": "2022-02-19T09:44:08.599Z"
   },
   {
    "duration": 293,
    "start_time": "2022-02-19T09:44:33.943Z"
   },
   {
    "duration": 272,
    "start_time": "2022-02-19T09:46:27.673Z"
   },
   {
    "duration": 415,
    "start_time": "2022-02-19T09:46:56.975Z"
   },
   {
    "duration": 371,
    "start_time": "2022-02-19T09:47:06.361Z"
   },
   {
    "duration": 340,
    "start_time": "2022-02-19T09:47:11.529Z"
   },
   {
    "duration": 326,
    "start_time": "2022-02-19T09:47:17.294Z"
   },
   {
    "duration": 362,
    "start_time": "2022-02-19T09:47:23.757Z"
   },
   {
    "duration": 396,
    "start_time": "2022-02-19T09:47:34.096Z"
   },
   {
    "duration": 304,
    "start_time": "2022-02-19T09:47:54.794Z"
   },
   {
    "duration": 29,
    "start_time": "2022-02-19T09:48:20.042Z"
   },
   {
    "duration": 1740,
    "start_time": "2022-02-19T09:48:37.708Z"
   },
   {
    "duration": 980,
    "start_time": "2022-02-19T09:48:48.029Z"
   },
   {
    "duration": 170,
    "start_time": "2022-02-19T09:48:58.381Z"
   },
   {
    "duration": 304,
    "start_time": "2022-02-19T09:49:03.464Z"
   },
   {
    "duration": 450,
    "start_time": "2022-02-19T09:49:25.147Z"
   },
   {
    "duration": 515,
    "start_time": "2022-02-19T09:50:04.881Z"
   },
   {
    "duration": 302,
    "start_time": "2022-02-19T09:53:06.339Z"
   },
   {
    "duration": 18,
    "start_time": "2022-02-19T09:53:33.968Z"
   },
   {
    "duration": 18,
    "start_time": "2022-02-19T09:53:38.785Z"
   },
   {
    "duration": 18,
    "start_time": "2022-02-19T09:53:50.334Z"
   },
   {
    "duration": 35,
    "start_time": "2022-02-19T09:55:05.629Z"
   },
   {
    "duration": 168,
    "start_time": "2022-02-19T09:56:06.392Z"
   },
   {
    "duration": 300,
    "start_time": "2022-02-19T09:56:27.641Z"
   },
   {
    "duration": 1755,
    "start_time": "2022-02-19T09:56:33.800Z"
   },
   {
    "duration": 34,
    "start_time": "2022-02-19T09:56:57.129Z"
   },
   {
    "duration": 10,
    "start_time": "2022-02-19T09:57:17.611Z"
   },
   {
    "duration": 31,
    "start_time": "2022-02-19T09:57:42.487Z"
   },
   {
    "duration": 309,
    "start_time": "2022-02-19T10:04:21.556Z"
   },
   {
    "duration": 571,
    "start_time": "2022-02-19T10:04:36.576Z"
   },
   {
    "duration": 2,
    "start_time": "2022-02-19T10:05:04.829Z"
   },
   {
    "duration": 732,
    "start_time": "2022-02-19T10:05:05.506Z"
   },
   {
    "duration": 767,
    "start_time": "2022-02-19T10:05:24.603Z"
   },
   {
    "duration": 2,
    "start_time": "2022-02-19T10:07:07.974Z"
   },
   {
    "duration": 322,
    "start_time": "2022-02-19T10:07:08.505Z"
   },
   {
    "duration": 308,
    "start_time": "2022-02-19T10:07:35.207Z"
   },
   {
    "duration": 294,
    "start_time": "2022-02-19T10:07:42.535Z"
   },
   {
    "duration": 312,
    "start_time": "2022-02-19T10:07:47.495Z"
   },
   {
    "duration": 306,
    "start_time": "2022-02-19T10:07:51.300Z"
   },
   {
    "duration": 5,
    "start_time": "2022-02-19T10:08:16.705Z"
   },
   {
    "duration": 5,
    "start_time": "2022-02-19T10:12:50.053Z"
   },
   {
    "duration": 742,
    "start_time": "2022-02-19T10:23:29.453Z"
   },
   {
    "duration": 632,
    "start_time": "2022-02-19T10:23:34.836Z"
   },
   {
    "duration": 689,
    "start_time": "2022-02-19T10:24:40.039Z"
   },
   {
    "duration": 689,
    "start_time": "2022-02-19T10:24:48.528Z"
   },
   {
    "duration": 1856,
    "start_time": "2022-02-19T10:24:55.078Z"
   },
   {
    "duration": 655,
    "start_time": "2022-02-19T10:25:26.987Z"
   },
   {
    "duration": 264,
    "start_time": "2022-02-19T10:25:47.202Z"
   },
   {
    "duration": 266,
    "start_time": "2022-02-19T10:26:08.357Z"
   },
   {
    "duration": 611,
    "start_time": "2022-02-19T10:26:31.888Z"
   },
   {
    "duration": 195,
    "start_time": "2022-02-19T10:27:54.402Z"
   },
   {
    "duration": 309,
    "start_time": "2022-02-19T10:28:07.391Z"
   },
   {
    "duration": 1985,
    "start_time": "2022-02-19T10:28:14.936Z"
   },
   {
    "duration": 5,
    "start_time": "2022-02-19T10:29:59.015Z"
   },
   {
    "duration": 322,
    "start_time": "2022-02-19T10:31:01.072Z"
   },
   {
    "duration": 2010,
    "start_time": "2022-02-19T10:31:06.615Z"
   },
   {
    "duration": 1806,
    "start_time": "2022-02-19T10:31:30.983Z"
   },
   {
    "duration": 2338,
    "start_time": "2022-02-19T10:32:15.654Z"
   },
   {
    "duration": 1694,
    "start_time": "2022-02-19T10:32:20.877Z"
   },
   {
    "duration": 1581,
    "start_time": "2022-02-19T10:32:42.559Z"
   },
   {
    "duration": 2407,
    "start_time": "2022-02-19T10:32:46.773Z"
   },
   {
    "duration": 35,
    "start_time": "2022-02-19T10:38:15.262Z"
   },
   {
    "duration": 85,
    "start_time": "2022-02-19T10:43:23.192Z"
   },
   {
    "duration": 178,
    "start_time": "2022-02-19T10:44:26.040Z"
   },
   {
    "duration": 8,
    "start_time": "2022-02-19T10:44:44.146Z"
   },
   {
    "duration": 199,
    "start_time": "2022-02-19T10:44:59.935Z"
   },
   {
    "duration": 456,
    "start_time": "2022-02-19T10:45:09.411Z"
   },
   {
    "duration": 170,
    "start_time": "2022-02-19T10:45:16.989Z"
   },
   {
    "duration": 351,
    "start_time": "2022-02-19T10:45:41.680Z"
   },
   {
    "duration": 194,
    "start_time": "2022-02-19T10:45:52.822Z"
   },
   {
    "duration": 197,
    "start_time": "2022-02-19T10:47:07.862Z"
   },
   {
    "duration": 257,
    "start_time": "2022-02-19T10:47:12.723Z"
   },
   {
    "duration": 263,
    "start_time": "2022-02-19T10:47:21.667Z"
   },
   {
    "duration": 189,
    "start_time": "2022-02-19T10:47:46.300Z"
   },
   {
    "duration": 172,
    "start_time": "2022-02-19T10:47:57.476Z"
   },
   {
    "duration": 178,
    "start_time": "2022-02-19T10:48:03.546Z"
   },
   {
    "duration": 299,
    "start_time": "2022-02-19T10:48:13.833Z"
   },
   {
    "duration": 300,
    "start_time": "2022-02-19T10:48:24.291Z"
   },
   {
    "duration": 196,
    "start_time": "2022-02-19T10:48:45.960Z"
   },
   {
    "duration": 180,
    "start_time": "2022-02-19T10:51:55.602Z"
   },
   {
    "duration": 178,
    "start_time": "2022-02-19T10:52:10.055Z"
   },
   {
    "duration": 182,
    "start_time": "2022-02-19T10:52:16.907Z"
   },
   {
    "duration": 4,
    "start_time": "2022-02-19T10:52:44.516Z"
   },
   {
    "duration": 84,
    "start_time": "2022-02-19T10:52:55.210Z"
   },
   {
    "duration": 92,
    "start_time": "2022-02-19T10:52:58.922Z"
   },
   {
    "duration": 6,
    "start_time": "2022-02-19T10:53:07.165Z"
   },
   {
    "duration": 178,
    "start_time": "2022-02-19T10:53:38.762Z"
   },
   {
    "duration": 178,
    "start_time": "2022-02-19T10:54:06.804Z"
   },
   {
    "duration": 165,
    "start_time": "2022-02-19T10:54:12.629Z"
   },
   {
    "duration": 150,
    "start_time": "2022-02-19T10:55:04.953Z"
   },
   {
    "duration": 34,
    "start_time": "2022-02-19T10:56:59.944Z"
   },
   {
    "duration": 165,
    "start_time": "2022-02-19T10:57:29.108Z"
   },
   {
    "duration": 9,
    "start_time": "2022-02-19T10:57:44.759Z"
   },
   {
    "duration": 165,
    "start_time": "2022-02-19T10:58:13.838Z"
   },
   {
    "duration": 168,
    "start_time": "2022-02-19T11:00:59.235Z"
   },
   {
    "duration": 166,
    "start_time": "2022-02-19T11:01:15.973Z"
   },
   {
    "duration": 164,
    "start_time": "2022-02-19T11:01:19.686Z"
   },
   {
    "duration": 179,
    "start_time": "2022-02-19T11:01:42.728Z"
   },
   {
    "duration": 227,
    "start_time": "2022-02-19T11:01:58.310Z"
   },
   {
    "duration": 193,
    "start_time": "2022-02-19T11:02:09.589Z"
   },
   {
    "duration": 177,
    "start_time": "2022-02-19T11:02:16.082Z"
   },
   {
    "duration": 191,
    "start_time": "2022-02-19T11:02:21.188Z"
   },
   {
    "duration": 215,
    "start_time": "2022-02-19T11:02:26.293Z"
   },
   {
    "duration": 193,
    "start_time": "2022-02-19T11:02:39.051Z"
   },
   {
    "duration": 307,
    "start_time": "2022-02-19T11:02:52.334Z"
   },
   {
    "duration": 289,
    "start_time": "2022-02-19T11:22:26.890Z"
   },
   {
    "duration": 33,
    "start_time": "2022-02-19T11:22:31.376Z"
   },
   {
    "duration": 206,
    "start_time": "2022-02-19T11:22:51.908Z"
   },
   {
    "duration": 82,
    "start_time": "2022-02-19T11:23:52.943Z"
   },
   {
    "duration": 169,
    "start_time": "2022-02-19T11:25:09.576Z"
   },
   {
    "duration": 9,
    "start_time": "2022-02-19T11:25:19.224Z"
   },
   {
    "duration": 34,
    "start_time": "2022-02-19T11:25:59.632Z"
   },
   {
    "duration": 291,
    "start_time": "2022-02-19T11:27:16.667Z"
   },
   {
    "duration": 1626,
    "start_time": "2022-02-19T11:27:23.417Z"
   },
   {
    "duration": 302,
    "start_time": "2022-02-19T11:27:48.635Z"
   },
   {
    "duration": 232,
    "start_time": "2022-02-19T11:28:03.288Z"
   },
   {
    "duration": 1489,
    "start_time": "2022-02-19T11:28:13.907Z"
   },
   {
    "duration": 161,
    "start_time": "2022-02-19T11:28:19.060Z"
   },
   {
    "duration": 297,
    "start_time": "2022-02-19T11:28:25.465Z"
   },
   {
    "duration": 5,
    "start_time": "2022-02-19T11:30:15.891Z"
   },
   {
    "duration": 5,
    "start_time": "2022-02-19T11:30:27.808Z"
   },
   {
    "duration": 92,
    "start_time": "2022-02-19T11:30:44.266Z"
   },
   {
    "duration": 8,
    "start_time": "2022-02-19T11:30:49.371Z"
   },
   {
    "duration": 329,
    "start_time": "2022-02-19T12:13:40.309Z"
   },
   {
    "duration": 308,
    "start_time": "2022-02-19T12:14:36.199Z"
   },
   {
    "duration": 311,
    "start_time": "2022-02-19T12:14:52.544Z"
   },
   {
    "duration": 266,
    "start_time": "2022-02-19T12:18:56.030Z"
   },
   {
    "duration": 932,
    "start_time": "2022-02-19T12:19:44.464Z"
   },
   {
    "duration": 308,
    "start_time": "2022-02-19T12:19:57.354Z"
   },
   {
    "duration": 130,
    "start_time": "2022-02-19T12:21:46.574Z"
   },
   {
    "duration": 88,
    "start_time": "2022-02-19T12:42:42.434Z"
   },
   {
    "duration": 315,
    "start_time": "2022-02-19T12:43:19.837Z"
   },
   {
    "duration": 345,
    "start_time": "2022-02-19T12:43:51.327Z"
   },
   {
    "duration": 27,
    "start_time": "2022-02-19T12:59:47.153Z"
   },
   {
    "duration": 169,
    "start_time": "2022-02-19T13:40:36.265Z"
   },
   {
    "duration": 148,
    "start_time": "2022-02-19T13:40:43.786Z"
   },
   {
    "duration": 167,
    "start_time": "2022-02-19T13:41:10.986Z"
   },
   {
    "duration": 295,
    "start_time": "2022-02-19T13:41:26.876Z"
   },
   {
    "duration": 214,
    "start_time": "2022-02-19T13:41:36.337Z"
   },
   {
    "duration": 186,
    "start_time": "2022-02-19T13:41:44.129Z"
   },
   {
    "duration": 169,
    "start_time": "2022-02-19T13:42:05.160Z"
   },
   {
    "duration": 172,
    "start_time": "2022-02-19T13:42:13.783Z"
   },
   {
    "duration": 283,
    "start_time": "2022-02-19T13:42:24.983Z"
   },
   {
    "duration": 23,
    "start_time": "2022-02-19T13:42:54.383Z"
   },
   {
    "duration": 29,
    "start_time": "2022-02-19T13:43:21.332Z"
   },
   {
    "duration": 29,
    "start_time": "2022-02-19T13:43:27.568Z"
   },
   {
    "duration": 31,
    "start_time": "2022-02-19T13:43:41.012Z"
   },
   {
    "duration": 177,
    "start_time": "2022-02-19T13:43:51.797Z"
   },
   {
    "duration": 28,
    "start_time": "2022-02-19T13:44:07.213Z"
   },
   {
    "duration": 27,
    "start_time": "2022-02-19T13:44:13.815Z"
   },
   {
    "duration": 1555,
    "start_time": "2022-02-19T13:46:32.178Z"
   },
   {
    "duration": 277,
    "start_time": "2022-02-19T13:46:50.203Z"
   },
   {
    "duration": 227,
    "start_time": "2022-02-19T13:46:55.916Z"
   },
   {
    "duration": 4,
    "start_time": "2022-02-19T13:47:25.048Z"
   },
   {
    "duration": 222,
    "start_time": "2022-02-19T13:48:04.173Z"
   },
   {
    "duration": 212,
    "start_time": "2022-02-19T13:48:14.657Z"
   },
   {
    "duration": 22,
    "start_time": "2022-02-19T13:50:32.651Z"
   },
   {
    "duration": 50,
    "start_time": "2022-02-19T13:51:20.341Z"
   },
   {
    "duration": 252,
    "start_time": "2022-02-19T13:51:48.231Z"
   },
   {
    "duration": 245,
    "start_time": "2022-02-19T13:51:54.730Z"
   },
   {
    "duration": 33,
    "start_time": "2022-02-19T13:52:02.373Z"
   },
   {
    "duration": 19,
    "start_time": "2022-02-19T13:57:26.567Z"
   },
   {
    "duration": 31,
    "start_time": "2022-02-19T15:05:47.800Z"
   },
   {
    "duration": 46,
    "start_time": "2022-02-19T15:06:29.445Z"
   },
   {
    "duration": 28,
    "start_time": "2022-02-19T15:06:40.103Z"
   },
   {
    "duration": 40,
    "start_time": "2022-02-19T15:06:44.529Z"
   },
   {
    "duration": 39,
    "start_time": "2022-02-19T15:06:49.733Z"
   },
   {
    "duration": 32,
    "start_time": "2022-02-19T15:06:53.804Z"
   },
   {
    "duration": 32,
    "start_time": "2022-02-19T15:07:00.056Z"
   },
   {
    "duration": 20,
    "start_time": "2022-02-19T15:08:00.577Z"
   },
   {
    "duration": 41,
    "start_time": "2022-02-19T15:08:31.328Z"
   },
   {
    "duration": 19,
    "start_time": "2022-02-19T15:08:39.065Z"
   },
   {
    "duration": 2729,
    "start_time": "2022-02-19T15:09:03.353Z"
   },
   {
    "duration": 4301,
    "start_time": "2022-02-19T15:09:22.977Z"
   },
   {
    "duration": 323,
    "start_time": "2022-02-19T15:09:32.034Z"
   },
   {
    "duration": 288,
    "start_time": "2022-02-19T15:10:10.937Z"
   },
   {
    "duration": 1691,
    "start_time": "2022-02-19T15:10:17.350Z"
   },
   {
    "duration": 294,
    "start_time": "2022-02-19T15:10:22.237Z"
   },
   {
    "duration": 318,
    "start_time": "2022-02-19T15:10:50.598Z"
   },
   {
    "duration": 302,
    "start_time": "2022-02-19T15:11:10.174Z"
   },
   {
    "duration": 288,
    "start_time": "2022-02-19T15:12:00.993Z"
   },
   {
    "duration": 342,
    "start_time": "2022-02-19T15:13:32.494Z"
   },
   {
    "duration": 30,
    "start_time": "2022-02-19T15:19:35.364Z"
   },
   {
    "duration": 32,
    "start_time": "2022-02-19T15:19:47.688Z"
   },
   {
    "duration": 41,
    "start_time": "2022-02-19T15:19:56.726Z"
   },
   {
    "duration": 41,
    "start_time": "2022-02-19T15:20:05.809Z"
   },
   {
    "duration": 102,
    "start_time": "2022-02-19T15:20:20.216Z"
   },
   {
    "duration": 44,
    "start_time": "2022-02-19T15:20:27.055Z"
   },
   {
    "duration": 44,
    "start_time": "2022-02-19T15:20:31.525Z"
   },
   {
    "duration": 53,
    "start_time": "2022-02-19T15:20:35.623Z"
   },
   {
    "duration": 303,
    "start_time": "2022-02-19T15:21:54.025Z"
   },
   {
    "duration": 404,
    "start_time": "2022-02-19T15:22:08.254Z"
   },
   {
    "duration": 28,
    "start_time": "2022-02-19T15:22:54.890Z"
   },
   {
    "duration": 29,
    "start_time": "2022-02-19T15:27:42.436Z"
   },
   {
    "duration": 28,
    "start_time": "2022-02-19T15:30:10.851Z"
   },
   {
    "duration": 30,
    "start_time": "2022-02-19T15:30:21.995Z"
   },
   {
    "duration": 28,
    "start_time": "2022-02-19T15:31:51.522Z"
   },
   {
    "duration": 90,
    "start_time": "2022-02-19T15:33:41.668Z"
   },
   {
    "duration": 9,
    "start_time": "2022-02-19T15:33:52.019Z"
   },
   {
    "duration": 14,
    "start_time": "2022-02-19T15:34:03.679Z"
   },
   {
    "duration": 30,
    "start_time": "2022-02-19T15:34:09.404Z"
   },
   {
    "duration": 169,
    "start_time": "2022-02-19T15:36:18.758Z"
   },
   {
    "duration": 193,
    "start_time": "2022-02-19T15:36:29.247Z"
   },
   {
    "duration": 167,
    "start_time": "2022-02-19T15:36:39.458Z"
   },
   {
    "duration": 170,
    "start_time": "2022-02-19T15:38:24.806Z"
   },
   {
    "duration": 162,
    "start_time": "2022-02-19T15:38:44.449Z"
   },
   {
    "duration": 21,
    "start_time": "2022-02-19T15:50:04.700Z"
   },
   {
    "duration": 224,
    "start_time": "2022-02-19T15:51:11.655Z"
   },
   {
    "duration": 150,
    "start_time": "2022-02-19T15:51:18.044Z"
   },
   {
    "duration": 170,
    "start_time": "2022-02-19T15:51:22.708Z"
   },
   {
    "duration": 190,
    "start_time": "2022-02-19T15:52:17.017Z"
   },
   {
    "duration": 197,
    "start_time": "2022-02-19T15:52:21.576Z"
   },
   {
    "duration": 300,
    "start_time": "2022-02-19T15:52:28.190Z"
   },
   {
    "duration": 291,
    "start_time": "2022-02-19T15:52:45.849Z"
   },
   {
    "duration": 185,
    "start_time": "2022-02-19T15:53:06.122Z"
   },
   {
    "duration": 273,
    "start_time": "2022-02-19T15:53:10.081Z"
   },
   {
    "duration": 285,
    "start_time": "2022-02-19T15:53:15.420Z"
   },
   {
    "duration": 171,
    "start_time": "2022-02-19T15:53:47.100Z"
   },
   {
    "duration": 178,
    "start_time": "2022-02-19T15:54:15.373Z"
   },
   {
    "duration": 7,
    "start_time": "2022-02-19T15:55:04.901Z"
   },
   {
    "duration": 153,
    "start_time": "2022-02-19T15:59:42.489Z"
   },
   {
    "duration": 91,
    "start_time": "2022-02-19T16:00:03.176Z"
   },
   {
    "duration": 163,
    "start_time": "2022-02-19T16:01:10.653Z"
   },
   {
    "duration": 85,
    "start_time": "2022-02-19T16:01:43.831Z"
   },
   {
    "duration": 161,
    "start_time": "2022-02-19T16:01:49.491Z"
   },
   {
    "duration": 169,
    "start_time": "2022-02-19T16:02:32.020Z"
   },
   {
    "duration": 79,
    "start_time": "2022-02-19T16:02:53.231Z"
   },
   {
    "duration": 183,
    "start_time": "2022-02-19T16:02:57.531Z"
   },
   {
    "duration": 28,
    "start_time": "2022-02-19T16:05:05.891Z"
   },
   {
    "duration": 27,
    "start_time": "2022-02-19T16:05:12.278Z"
   },
   {
    "duration": 237,
    "start_time": "2022-02-19T16:05:20.241Z"
   },
   {
    "duration": 60,
    "start_time": "2022-02-19T16:05:36.714Z"
   },
   {
    "duration": 186,
    "start_time": "2022-02-19T16:06:07.155Z"
   },
   {
    "duration": 156,
    "start_time": "2022-02-19T16:06:27.849Z"
   },
   {
    "duration": 29,
    "start_time": "2022-02-19T16:06:40.970Z"
   },
   {
    "duration": 28,
    "start_time": "2022-02-19T16:07:45.640Z"
   },
   {
    "duration": 164,
    "start_time": "2022-02-19T16:08:08.626Z"
   },
   {
    "duration": 155,
    "start_time": "2022-02-19T16:08:15.571Z"
   },
   {
    "duration": 1204,
    "start_time": "2022-02-19T16:08:26.482Z"
   },
   {
    "duration": 79,
    "start_time": "2022-02-19T16:09:04.487Z"
   },
   {
    "duration": 29,
    "start_time": "2022-02-19T16:09:42.545Z"
   },
   {
    "duration": 28,
    "start_time": "2022-02-19T16:11:42.853Z"
   },
   {
    "duration": 28,
    "start_time": "2022-02-19T16:12:15.475Z"
   },
   {
    "duration": 28,
    "start_time": "2022-02-19T16:12:19.792Z"
   },
   {
    "duration": 30,
    "start_time": "2022-02-19T16:13:38.740Z"
   },
   {
    "duration": 240,
    "start_time": "2022-02-19T16:16:28.910Z"
   },
   {
    "duration": 166,
    "start_time": "2022-02-19T16:21:36.983Z"
   },
   {
    "duration": 183,
    "start_time": "2022-02-19T16:21:50.423Z"
   },
   {
    "duration": 273,
    "start_time": "2022-02-19T16:21:58.331Z"
   },
   {
    "duration": 255,
    "start_time": "2022-02-19T16:22:04.961Z"
   },
   {
    "duration": 252,
    "start_time": "2022-02-19T16:22:21.322Z"
   },
   {
    "duration": 253,
    "start_time": "2022-02-19T16:22:44.898Z"
   },
   {
    "duration": 410,
    "start_time": "2022-02-19T16:24:06.837Z"
   },
   {
    "duration": 339,
    "start_time": "2022-02-19T16:24:29.384Z"
   },
   {
    "duration": 682,
    "start_time": "2022-02-19T16:25:26.687Z"
   },
   {
    "duration": 333,
    "start_time": "2022-02-19T16:25:33.589Z"
   },
   {
    "duration": 33,
    "start_time": "2022-02-19T16:26:56.600Z"
   },
   {
    "duration": 5,
    "start_time": "2022-02-19T16:27:12.698Z"
   },
   {
    "duration": 5,
    "start_time": "2022-02-19T16:27:37.112Z"
   },
   {
    "duration": 7,
    "start_time": "2022-02-19T16:29:29.035Z"
   },
   {
    "duration": 4,
    "start_time": "2022-02-19T16:29:31.554Z"
   },
   {
    "duration": 266,
    "start_time": "2022-02-19T16:32:42.711Z"
   },
   {
    "duration": 188,
    "start_time": "2022-02-19T16:32:53.595Z"
   },
   {
    "duration": 269,
    "start_time": "2022-02-19T16:33:07.941Z"
   },
   {
    "duration": 33,
    "start_time": "2022-02-19T16:33:40.801Z"
   },
   {
    "duration": 36,
    "start_time": "2022-02-19T16:33:57.618Z"
   },
   {
    "duration": 36,
    "start_time": "2022-02-19T16:35:11.340Z"
   },
   {
    "duration": 44,
    "start_time": "2022-02-19T16:36:19.347Z"
   },
   {
    "duration": 34,
    "start_time": "2022-02-19T16:42:55.083Z"
   },
   {
    "duration": 8,
    "start_time": "2022-02-19T16:44:03.419Z"
   },
   {
    "duration": 34,
    "start_time": "2022-02-19T16:48:37.453Z"
   },
   {
    "duration": 44,
    "start_time": "2022-02-19T16:49:02.095Z"
   },
   {
    "duration": 43,
    "start_time": "2022-02-19T16:49:07.903Z"
   },
   {
    "duration": 1117,
    "start_time": "2022-02-19T16:58:23.278Z"
   },
   {
    "duration": 246,
    "start_time": "2022-02-19T16:58:29.795Z"
   },
   {
    "duration": 15,
    "start_time": "2022-02-19T17:02:22.414Z"
   },
   {
    "duration": 29,
    "start_time": "2022-02-19T17:02:31.303Z"
   },
   {
    "duration": 30,
    "start_time": "2022-02-19T17:02:38.091Z"
   },
   {
    "duration": 84,
    "start_time": "2022-02-19T17:02:45.798Z"
   },
   {
    "duration": 29,
    "start_time": "2022-02-19T17:02:50.850Z"
   },
   {
    "duration": 28,
    "start_time": "2022-02-19T17:03:12.784Z"
   },
   {
    "duration": 30,
    "start_time": "2022-02-19T17:03:30.529Z"
   },
   {
    "duration": 30,
    "start_time": "2022-02-19T17:04:28.148Z"
   },
   {
    "duration": 29,
    "start_time": "2022-02-19T17:06:01.706Z"
   },
   {
    "duration": 33,
    "start_time": "2022-02-19T17:06:37.976Z"
   },
   {
    "duration": 27,
    "start_time": "2022-02-19T17:34:32.757Z"
   },
   {
    "duration": 21,
    "start_time": "2022-02-19T17:35:12.894Z"
   },
   {
    "duration": 32,
    "start_time": "2022-02-19T17:35:19.047Z"
   },
   {
    "duration": 19,
    "start_time": "2022-02-19T17:35:22.656Z"
   },
   {
    "duration": 22,
    "start_time": "2022-02-19T17:35:27.812Z"
   },
   {
    "duration": 25,
    "start_time": "2022-02-19T17:35:40.424Z"
   },
   {
    "duration": 4,
    "start_time": "2022-02-19T17:35:52.509Z"
   },
   {
    "duration": 3,
    "start_time": "2022-02-19T17:35:56.743Z"
   },
   {
    "duration": 4,
    "start_time": "2022-02-19T17:36:19.532Z"
   },
   {
    "duration": 8,
    "start_time": "2022-02-19T17:38:22.964Z"
   },
   {
    "duration": 7,
    "start_time": "2022-02-19T17:38:33.524Z"
   },
   {
    "duration": 39,
    "start_time": "2022-02-19T17:48:38.016Z"
   },
   {
    "duration": 4,
    "start_time": "2022-02-19T17:49:17.037Z"
   },
   {
    "duration": 8,
    "start_time": "2022-02-19T17:49:48.587Z"
   },
   {
    "duration": 3,
    "start_time": "2022-02-19T17:50:34.799Z"
   },
   {
    "duration": 7,
    "start_time": "2022-02-19T17:51:02.497Z"
   },
   {
    "duration": 5,
    "start_time": "2022-02-19T17:51:16.459Z"
   },
   {
    "duration": 8,
    "start_time": "2022-02-19T17:51:34.684Z"
   },
   {
    "duration": 10,
    "start_time": "2022-02-19T17:51:43.647Z"
   },
   {
    "duration": 4,
    "start_time": "2022-02-19T17:51:44.037Z"
   },
   {
    "duration": 5,
    "start_time": "2022-02-19T17:51:46.506Z"
   },
   {
    "duration": 9,
    "start_time": "2022-02-19T17:51:47.252Z"
   },
   {
    "duration": 3,
    "start_time": "2022-02-19T17:51:50.424Z"
   },
   {
    "duration": 104,
    "start_time": "2022-02-19T17:51:50.429Z"
   },
   {
    "duration": 52,
    "start_time": "2022-02-19T17:51:50.535Z"
   },
   {
    "duration": 14,
    "start_time": "2022-02-19T17:51:50.589Z"
   },
   {
    "duration": 5,
    "start_time": "2022-02-19T17:51:50.632Z"
   },
   {
    "duration": 3,
    "start_time": "2022-02-19T17:51:50.639Z"
   },
   {
    "duration": 11,
    "start_time": "2022-02-19T17:51:50.645Z"
   },
   {
    "duration": 7,
    "start_time": "2022-02-19T17:51:50.658Z"
   },
   {
    "duration": 5,
    "start_time": "2022-02-19T17:51:50.666Z"
   },
   {
    "duration": 6,
    "start_time": "2022-02-19T17:51:50.673Z"
   },
   {
    "duration": 23,
    "start_time": "2022-02-19T17:51:50.681Z"
   },
   {
    "duration": 63,
    "start_time": "2022-02-19T17:51:50.705Z"
   },
   {
    "duration": 6,
    "start_time": "2022-02-19T17:51:50.770Z"
   },
   {
    "duration": 4,
    "start_time": "2022-02-19T17:51:50.778Z"
   },
   {
    "duration": 5,
    "start_time": "2022-02-19T17:51:50.784Z"
   },
   {
    "duration": 6,
    "start_time": "2022-02-19T17:51:50.791Z"
   },
   {
    "duration": 21,
    "start_time": "2022-02-19T17:51:50.798Z"
   },
   {
    "duration": 16,
    "start_time": "2022-02-19T17:51:50.820Z"
   },
   {
    "duration": 11,
    "start_time": "2022-02-19T17:51:50.840Z"
   },
   {
    "duration": 11,
    "start_time": "2022-02-19T17:51:50.853Z"
   },
   {
    "duration": 10,
    "start_time": "2022-02-19T17:51:50.865Z"
   },
   {
    "duration": 10,
    "start_time": "2022-02-19T17:51:50.877Z"
   },
   {
    "duration": 8,
    "start_time": "2022-02-19T17:51:50.888Z"
   },
   {
    "duration": 18,
    "start_time": "2022-02-19T17:51:50.897Z"
   },
   {
    "duration": 15,
    "start_time": "2022-02-19T17:51:50.917Z"
   },
   {
    "duration": 566,
    "start_time": "2022-02-19T17:51:50.933Z"
   },
   {
    "duration": 3,
    "start_time": "2022-02-19T17:51:51.501Z"
   },
   {
    "duration": 7,
    "start_time": "2022-02-19T17:51:51.506Z"
   },
   {
    "duration": 5,
    "start_time": "2022-02-19T17:51:51.514Z"
   },
   {
    "duration": 13,
    "start_time": "2022-02-19T17:51:51.520Z"
   },
   {
    "duration": 4,
    "start_time": "2022-02-19T17:51:51.534Z"
   },
   {
    "duration": 309,
    "start_time": "2022-02-19T17:51:51.540Z"
   },
   {
    "duration": 333,
    "start_time": "2022-02-19T17:51:51.851Z"
   },
   {
    "duration": 316,
    "start_time": "2022-02-19T17:51:52.186Z"
   },
   {
    "duration": 7,
    "start_time": "2022-02-19T17:51:52.503Z"
   },
   {
    "duration": 489,
    "start_time": "2022-02-19T17:51:52.512Z"
   },
   {
    "duration": 396,
    "start_time": "2022-02-19T17:51:53.003Z"
   },
   {
    "duration": 298,
    "start_time": "2022-02-19T17:51:53.401Z"
   },
   {
    "duration": 9,
    "start_time": "2022-02-19T17:51:53.700Z"
   },
   {
    "duration": 279,
    "start_time": "2022-02-19T17:51:53.711Z"
   },
   {
    "duration": 249,
    "start_time": "2022-02-19T17:51:53.992Z"
   },
   {
    "duration": 244,
    "start_time": "2022-02-19T17:51:54.243Z"
   },
   {
    "duration": 9,
    "start_time": "2022-02-19T17:51:54.489Z"
   },
   {
    "duration": 262,
    "start_time": "2022-02-19T17:51:54.500Z"
   },
   {
    "duration": 9,
    "start_time": "2022-02-19T17:51:54.764Z"
   },
   {
    "duration": 398,
    "start_time": "2022-02-19T17:51:54.774Z"
   },
   {
    "duration": 59,
    "start_time": "2022-02-19T17:51:55.174Z"
   },
   {
    "duration": 11,
    "start_time": "2022-02-19T17:51:55.235Z"
   },
   {
    "duration": 7,
    "start_time": "2022-02-19T17:51:55.247Z"
   },
   {
    "duration": 9,
    "start_time": "2022-02-19T17:51:55.256Z"
   },
   {
    "duration": 4,
    "start_time": "2022-02-19T17:51:55.274Z"
   },
   {
    "duration": 7,
    "start_time": "2022-02-19T17:52:51.675Z"
   },
   {
    "duration": 2,
    "start_time": "2022-02-19T17:53:06.465Z"
   },
   {
    "duration": 69,
    "start_time": "2022-02-19T17:53:06.469Z"
   },
   {
    "duration": 36,
    "start_time": "2022-02-19T17:53:06.540Z"
   },
   {
    "duration": 9,
    "start_time": "2022-02-19T17:53:06.578Z"
   },
   {
    "duration": 6,
    "start_time": "2022-02-19T17:53:06.588Z"
   },
   {
    "duration": 3,
    "start_time": "2022-02-19T17:53:06.596Z"
   },
   {
    "duration": 10,
    "start_time": "2022-02-19T17:53:06.633Z"
   },
   {
    "duration": 5,
    "start_time": "2022-02-19T17:53:06.645Z"
   },
   {
    "duration": 3,
    "start_time": "2022-02-19T17:53:06.652Z"
   },
   {
    "duration": 4,
    "start_time": "2022-02-19T17:53:06.657Z"
   },
   {
    "duration": 21,
    "start_time": "2022-02-19T17:53:06.663Z"
   },
   {
    "duration": 78,
    "start_time": "2022-02-19T17:53:06.686Z"
   },
   {
    "duration": 6,
    "start_time": "2022-02-19T17:53:06.766Z"
   },
   {
    "duration": 3,
    "start_time": "2022-02-19T17:53:06.774Z"
   },
   {
    "duration": 3,
    "start_time": "2022-02-19T17:53:06.779Z"
   },
   {
    "duration": 4,
    "start_time": "2022-02-19T17:53:06.784Z"
   },
   {
    "duration": 8,
    "start_time": "2022-02-19T17:53:06.790Z"
   },
   {
    "duration": 11,
    "start_time": "2022-02-19T17:53:06.800Z"
   },
   {
    "duration": 10,
    "start_time": "2022-02-19T17:53:06.833Z"
   },
   {
    "duration": 7,
    "start_time": "2022-02-19T17:53:06.845Z"
   },
   {
    "duration": 7,
    "start_time": "2022-02-19T17:53:06.854Z"
   },
   {
    "duration": 10,
    "start_time": "2022-02-19T17:53:06.862Z"
   },
   {
    "duration": 7,
    "start_time": "2022-02-19T17:53:06.874Z"
   },
   {
    "duration": 9,
    "start_time": "2022-02-19T17:53:06.882Z"
   },
   {
    "duration": 6,
    "start_time": "2022-02-19T17:53:06.892Z"
   },
   {
    "duration": 562,
    "start_time": "2022-02-19T17:53:06.899Z"
   },
   {
    "duration": 3,
    "start_time": "2022-02-19T17:53:07.463Z"
   },
   {
    "duration": 6,
    "start_time": "2022-02-19T17:53:07.468Z"
   },
   {
    "duration": 4,
    "start_time": "2022-02-19T17:53:07.475Z"
   },
   {
    "duration": 3,
    "start_time": "2022-02-19T17:53:07.481Z"
   },
   {
    "duration": 4,
    "start_time": "2022-02-19T17:53:07.485Z"
   },
   {
    "duration": 327,
    "start_time": "2022-02-19T17:53:07.490Z"
   },
   {
    "duration": 326,
    "start_time": "2022-02-19T17:53:07.819Z"
   },
   {
    "duration": 321,
    "start_time": "2022-02-19T17:53:08.147Z"
   },
   {
    "duration": 9,
    "start_time": "2022-02-19T17:53:08.469Z"
   },
   {
    "duration": 333,
    "start_time": "2022-02-19T17:53:08.479Z"
   },
   {
    "duration": 306,
    "start_time": "2022-02-19T17:53:08.813Z"
   },
   {
    "duration": 457,
    "start_time": "2022-02-19T17:53:09.120Z"
   },
   {
    "duration": 9,
    "start_time": "2022-02-19T17:53:09.579Z"
   },
   {
    "duration": 282,
    "start_time": "2022-02-19T17:53:09.590Z"
   },
   {
    "duration": 249,
    "start_time": "2022-02-19T17:53:09.873Z"
   },
   {
    "duration": 168,
    "start_time": "2022-02-19T17:53:10.124Z"
   },
   {
    "duration": 7,
    "start_time": "2022-02-19T17:53:10.294Z"
   },
   {
    "duration": 175,
    "start_time": "2022-02-19T17:53:10.303Z"
   },
   {
    "duration": 7,
    "start_time": "2022-02-19T17:53:10.480Z"
   },
   {
    "duration": 280,
    "start_time": "2022-02-19T17:53:10.489Z"
   },
   {
    "duration": 49,
    "start_time": "2022-02-19T17:53:10.770Z"
   },
   {
    "duration": 18,
    "start_time": "2022-02-19T17:53:10.821Z"
   },
   {
    "duration": 7,
    "start_time": "2022-02-19T17:53:10.840Z"
   },
   {
    "duration": 9,
    "start_time": "2022-02-19T17:53:10.849Z"
   },
   {
    "duration": 4,
    "start_time": "2022-02-19T17:53:10.860Z"
   },
   {
    "duration": 3,
    "start_time": "2022-02-19T17:54:05.338Z"
   },
   {
    "duration": 94,
    "start_time": "2022-02-19T17:54:05.343Z"
   },
   {
    "duration": 50,
    "start_time": "2022-02-19T17:54:05.440Z"
   },
   {
    "duration": 40,
    "start_time": "2022-02-19T17:54:05.492Z"
   },
   {
    "duration": 6,
    "start_time": "2022-02-19T17:54:05.534Z"
   },
   {
    "duration": 4,
    "start_time": "2022-02-19T17:54:05.542Z"
   },
   {
    "duration": 10,
    "start_time": "2022-02-19T17:54:05.549Z"
   },
   {
    "duration": 7,
    "start_time": "2022-02-19T17:54:05.561Z"
   },
   {
    "duration": 4,
    "start_time": "2022-02-19T17:54:05.570Z"
   },
   {
    "duration": 6,
    "start_time": "2022-02-19T17:54:05.575Z"
   },
   {
    "duration": 53,
    "start_time": "2022-02-19T17:54:05.582Z"
   },
   {
    "duration": 41,
    "start_time": "2022-02-19T17:54:05.636Z"
   },
   {
    "duration": 9,
    "start_time": "2022-02-19T17:54:05.678Z"
   },
   {
    "duration": 6,
    "start_time": "2022-02-19T17:54:05.688Z"
   },
   {
    "duration": 11,
    "start_time": "2022-02-19T17:54:05.696Z"
   },
   {
    "duration": 25,
    "start_time": "2022-02-19T17:54:05.709Z"
   },
   {
    "duration": 8,
    "start_time": "2022-02-19T17:54:05.735Z"
   },
   {
    "duration": 14,
    "start_time": "2022-02-19T17:54:05.745Z"
   },
   {
    "duration": 9,
    "start_time": "2022-02-19T17:54:05.762Z"
   },
   {
    "duration": 9,
    "start_time": "2022-02-19T17:54:05.773Z"
   },
   {
    "duration": 7,
    "start_time": "2022-02-19T17:54:05.784Z"
   },
   {
    "duration": 8,
    "start_time": "2022-02-19T17:54:05.793Z"
   },
   {
    "duration": 7,
    "start_time": "2022-02-19T17:54:05.803Z"
   },
   {
    "duration": 6,
    "start_time": "2022-02-19T17:54:05.832Z"
   },
   {
    "duration": 4,
    "start_time": "2022-02-19T17:54:05.840Z"
   },
   {
    "duration": 582,
    "start_time": "2022-02-19T17:54:05.845Z"
   },
   {
    "duration": 4,
    "start_time": "2022-02-19T17:54:06.431Z"
   },
   {
    "duration": 5,
    "start_time": "2022-02-19T17:54:06.436Z"
   },
   {
    "duration": 4,
    "start_time": "2022-02-19T17:54:06.443Z"
   },
   {
    "duration": 4,
    "start_time": "2022-02-19T17:54:06.448Z"
   },
   {
    "duration": 3,
    "start_time": "2022-02-19T17:54:06.453Z"
   },
   {
    "duration": 317,
    "start_time": "2022-02-19T17:54:06.458Z"
   },
   {
    "duration": 317,
    "start_time": "2022-02-19T17:54:06.776Z"
   },
   {
    "duration": 310,
    "start_time": "2022-02-19T17:54:07.095Z"
   },
   {
    "duration": 8,
    "start_time": "2022-02-19T17:54:07.406Z"
   },
   {
    "duration": 307,
    "start_time": "2022-02-19T17:54:07.415Z"
   },
   {
    "duration": 300,
    "start_time": "2022-02-19T17:54:07.723Z"
   },
   {
    "duration": 310,
    "start_time": "2022-02-19T17:54:08.024Z"
   },
   {
    "duration": 8,
    "start_time": "2022-02-19T17:54:08.336Z"
   },
   {
    "duration": 200,
    "start_time": "2022-02-19T17:54:08.345Z"
   },
   {
    "duration": 1143,
    "start_time": "2022-02-19T17:54:08.547Z"
   },
   {
    "duration": 171,
    "start_time": "2022-02-19T17:54:09.691Z"
   },
   {
    "duration": 7,
    "start_time": "2022-02-19T17:54:09.864Z"
   },
   {
    "duration": 185,
    "start_time": "2022-02-19T17:54:09.872Z"
   },
   {
    "duration": 8,
    "start_time": "2022-02-19T17:54:10.058Z"
   },
   {
    "duration": 266,
    "start_time": "2022-02-19T17:54:10.067Z"
   },
   {
    "duration": 33,
    "start_time": "2022-02-19T17:54:10.335Z"
   },
   {
    "duration": 7,
    "start_time": "2022-02-19T17:54:10.370Z"
   },
   {
    "duration": 6,
    "start_time": "2022-02-19T17:54:10.379Z"
   },
   {
    "duration": 8,
    "start_time": "2022-02-19T17:54:10.386Z"
   },
   {
    "duration": 4,
    "start_time": "2022-02-19T17:54:10.395Z"
   },
   {
    "duration": 32,
    "start_time": "2022-02-19T17:54:14.904Z"
   },
   {
    "duration": 2,
    "start_time": "2022-02-19T17:55:04.419Z"
   },
   {
    "duration": 66,
    "start_time": "2022-02-19T17:55:04.423Z"
   },
   {
    "duration": 45,
    "start_time": "2022-02-19T17:55:04.491Z"
   },
   {
    "duration": 10,
    "start_time": "2022-02-19T17:55:04.537Z"
   },
   {
    "duration": 5,
    "start_time": "2022-02-19T17:55:04.548Z"
   },
   {
    "duration": 3,
    "start_time": "2022-02-19T17:55:04.554Z"
   },
   {
    "duration": 10,
    "start_time": "2022-02-19T17:55:04.559Z"
   },
   {
    "duration": 5,
    "start_time": "2022-02-19T17:55:04.571Z"
   },
   {
    "duration": 4,
    "start_time": "2022-02-19T17:55:04.577Z"
   },
   {
    "duration": 8,
    "start_time": "2022-02-19T17:55:04.582Z"
   },
   {
    "duration": 58,
    "start_time": "2022-02-19T17:55:04.591Z"
   },
   {
    "duration": 37,
    "start_time": "2022-02-19T17:55:04.651Z"
   },
   {
    "duration": 7,
    "start_time": "2022-02-19T17:55:04.689Z"
   },
   {
    "duration": 5,
    "start_time": "2022-02-19T17:55:04.698Z"
   },
   {
    "duration": 29,
    "start_time": "2022-02-19T17:55:04.704Z"
   },
   {
    "duration": 3,
    "start_time": "2022-02-19T17:55:04.734Z"
   },
   {
    "duration": 11,
    "start_time": "2022-02-19T17:55:04.739Z"
   },
   {
    "duration": 15,
    "start_time": "2022-02-19T17:55:04.751Z"
   },
   {
    "duration": 9,
    "start_time": "2022-02-19T17:55:04.769Z"
   },
   {
    "duration": 11,
    "start_time": "2022-02-19T17:55:04.780Z"
   },
   {
    "duration": 4,
    "start_time": "2022-02-19T17:55:04.793Z"
   },
   {
    "duration": 11,
    "start_time": "2022-02-19T17:55:04.798Z"
   },
   {
    "duration": 21,
    "start_time": "2022-02-19T17:55:04.810Z"
   },
   {
    "duration": 5,
    "start_time": "2022-02-19T17:55:04.833Z"
   },
   {
    "duration": 4,
    "start_time": "2022-02-19T17:55:04.839Z"
   },
   {
    "duration": 669,
    "start_time": "2022-02-19T17:55:04.844Z"
   },
   {
    "duration": 3,
    "start_time": "2022-02-19T17:55:05.515Z"
   },
   {
    "duration": 12,
    "start_time": "2022-02-19T17:55:05.520Z"
   },
   {
    "duration": 4,
    "start_time": "2022-02-19T17:55:05.534Z"
   },
   {
    "duration": 4,
    "start_time": "2022-02-19T17:55:05.539Z"
   },
   {
    "duration": 4,
    "start_time": "2022-02-19T17:55:05.544Z"
   },
   {
    "duration": 328,
    "start_time": "2022-02-19T17:55:05.550Z"
   },
   {
    "duration": 382,
    "start_time": "2022-02-19T17:55:05.879Z"
   },
   {
    "duration": 316,
    "start_time": "2022-02-19T17:55:06.263Z"
   },
   {
    "duration": 7,
    "start_time": "2022-02-19T17:55:06.581Z"
   },
   {
    "duration": 318,
    "start_time": "2022-02-19T17:55:06.590Z"
   },
   {
    "duration": 291,
    "start_time": "2022-02-19T17:55:06.909Z"
   },
   {
    "duration": 297,
    "start_time": "2022-02-19T17:55:07.203Z"
   },
   {
    "duration": 8,
    "start_time": "2022-02-19T17:55:07.502Z"
   },
   {
    "duration": 201,
    "start_time": "2022-02-19T17:55:07.511Z"
   },
   {
    "duration": 174,
    "start_time": "2022-02-19T17:55:07.713Z"
   },
   {
    "duration": 176,
    "start_time": "2022-02-19T17:55:07.889Z"
   },
   {
    "duration": 8,
    "start_time": "2022-02-19T17:55:08.066Z"
   },
   {
    "duration": 190,
    "start_time": "2022-02-19T17:55:08.076Z"
   },
   {
    "duration": 11,
    "start_time": "2022-02-19T17:55:08.268Z"
   },
   {
    "duration": 285,
    "start_time": "2022-02-19T17:55:08.281Z"
   },
   {
    "duration": 33,
    "start_time": "2022-02-19T17:55:08.567Z"
   },
   {
    "duration": 7,
    "start_time": "2022-02-19T17:55:08.602Z"
   },
   {
    "duration": 26,
    "start_time": "2022-02-19T17:55:08.611Z"
   },
   {
    "duration": 10,
    "start_time": "2022-02-19T17:55:08.639Z"
   },
   {
    "duration": 33,
    "start_time": "2022-02-19T17:55:08.651Z"
   },
   {
    "duration": 5,
    "start_time": "2022-02-19T17:55:08.686Z"
   },
   {
    "duration": 4,
    "start_time": "2022-02-19T17:55:24.369Z"
   },
   {
    "duration": 6,
    "start_time": "2022-02-19T17:57:06.847Z"
   },
   {
    "duration": 4,
    "start_time": "2022-02-19T17:57:12.591Z"
   },
   {
    "duration": 257,
    "start_time": "2022-02-19T17:59:00.727Z"
   },
   {
    "duration": 33,
    "start_time": "2022-02-19T17:59:04.713Z"
   },
   {
    "duration": 436,
    "start_time": "2022-02-20T09:02:54.379Z"
   },
   {
    "duration": 207,
    "start_time": "2022-02-20T09:03:03.736Z"
   },
   {
    "duration": 644,
    "start_time": "2022-02-20T09:03:06.305Z"
   },
   {
    "duration": 77,
    "start_time": "2022-02-20T09:03:06.950Z"
   },
   {
    "duration": 59,
    "start_time": "2022-02-20T09:03:07.029Z"
   },
   {
    "duration": 12,
    "start_time": "2022-02-20T09:03:07.091Z"
   },
   {
    "duration": 7,
    "start_time": "2022-02-20T09:03:07.105Z"
   },
   {
    "duration": 11,
    "start_time": "2022-02-20T09:03:07.114Z"
   },
   {
    "duration": 16,
    "start_time": "2022-02-20T09:03:07.126Z"
   },
   {
    "duration": 27,
    "start_time": "2022-02-20T09:03:07.146Z"
   },
   {
    "duration": 4,
    "start_time": "2022-02-20T09:03:07.176Z"
   },
   {
    "duration": 7,
    "start_time": "2022-02-20T09:03:07.182Z"
   },
   {
    "duration": 24,
    "start_time": "2022-02-20T09:03:07.191Z"
   },
   {
    "duration": 81,
    "start_time": "2022-02-20T09:03:07.217Z"
   },
   {
    "duration": 10,
    "start_time": "2022-02-20T09:03:07.300Z"
   },
   {
    "duration": 5,
    "start_time": "2022-02-20T09:03:07.312Z"
   },
   {
    "duration": 7,
    "start_time": "2022-02-20T09:03:07.319Z"
   },
   {
    "duration": 8,
    "start_time": "2022-02-20T09:03:07.328Z"
   },
   {
    "duration": 8,
    "start_time": "2022-02-20T09:03:07.337Z"
   },
   {
    "duration": 32,
    "start_time": "2022-02-20T09:03:07.347Z"
   },
   {
    "duration": 13,
    "start_time": "2022-02-20T09:03:07.381Z"
   },
   {
    "duration": 9,
    "start_time": "2022-02-20T09:03:07.395Z"
   },
   {
    "duration": 29,
    "start_time": "2022-02-20T09:03:07.406Z"
   },
   {
    "duration": 5,
    "start_time": "2022-02-20T09:03:07.437Z"
   },
   {
    "duration": 25,
    "start_time": "2022-02-20T09:03:07.446Z"
   },
   {
    "duration": 6,
    "start_time": "2022-02-20T09:03:07.473Z"
   },
   {
    "duration": 10,
    "start_time": "2022-02-20T09:03:07.481Z"
   },
   {
    "duration": 3,
    "start_time": "2022-02-20T09:03:07.493Z"
   },
   {
    "duration": 644,
    "start_time": "2022-02-20T09:03:07.497Z"
   },
   {
    "duration": 4,
    "start_time": "2022-02-20T09:03:08.143Z"
   },
   {
    "duration": 6,
    "start_time": "2022-02-20T09:03:08.148Z"
   },
   {
    "duration": 15,
    "start_time": "2022-02-20T09:03:08.156Z"
   },
   {
    "duration": 6,
    "start_time": "2022-02-20T09:03:08.173Z"
   },
   {
    "duration": 4,
    "start_time": "2022-02-20T09:03:08.181Z"
   },
   {
    "duration": 502,
    "start_time": "2022-02-20T09:03:08.187Z"
   },
   {
    "duration": 438,
    "start_time": "2022-02-20T09:03:08.691Z"
   },
   {
    "duration": 429,
    "start_time": "2022-02-20T09:03:09.132Z"
   },
   {
    "duration": 13,
    "start_time": "2022-02-20T09:03:09.563Z"
   },
   {
    "duration": 414,
    "start_time": "2022-02-20T09:03:09.578Z"
   },
   {
    "duration": 407,
    "start_time": "2022-02-20T09:03:09.994Z"
   },
   {
    "duration": 475,
    "start_time": "2022-02-20T09:03:10.402Z"
   },
   {
    "duration": 9,
    "start_time": "2022-02-20T09:03:10.879Z"
   },
   {
    "duration": 256,
    "start_time": "2022-02-20T09:03:10.890Z"
   },
   {
    "duration": 236,
    "start_time": "2022-02-20T09:03:11.148Z"
   },
   {
    "duration": 216,
    "start_time": "2022-02-20T09:03:11.385Z"
   },
   {
    "duration": 9,
    "start_time": "2022-02-20T09:03:11.603Z"
   },
   {
    "duration": 229,
    "start_time": "2022-02-20T09:03:11.614Z"
   },
   {
    "duration": 10,
    "start_time": "2022-02-20T09:03:11.845Z"
   },
   {
    "duration": 358,
    "start_time": "2022-02-20T09:03:11.857Z"
   },
   {
    "duration": 53,
    "start_time": "2022-02-20T09:03:12.217Z"
   },
   {
    "duration": 10,
    "start_time": "2022-02-20T09:03:12.272Z"
   },
   {
    "duration": 15,
    "start_time": "2022-02-20T09:03:12.283Z"
   },
   {
    "duration": 12,
    "start_time": "2022-02-20T09:03:12.300Z"
   },
   {
    "duration": 56,
    "start_time": "2022-02-20T09:03:12.313Z"
   },
   {
    "duration": 9,
    "start_time": "2022-02-20T09:22:45.375Z"
   },
   {
    "duration": 5,
    "start_time": "2022-02-20T09:23:49.872Z"
   },
   {
    "duration": 4,
    "start_time": "2022-02-20T09:25:24.934Z"
   },
   {
    "duration": 4,
    "start_time": "2022-02-20T09:25:52.182Z"
   },
   {
    "duration": 3,
    "start_time": "2022-02-20T09:25:54.534Z"
   },
   {
    "duration": 80,
    "start_time": "2022-02-20T09:25:54.539Z"
   },
   {
    "duration": 57,
    "start_time": "2022-02-20T09:25:54.621Z"
   },
   {
    "duration": 11,
    "start_time": "2022-02-20T09:25:54.680Z"
   },
   {
    "duration": 7,
    "start_time": "2022-02-20T09:25:54.693Z"
   },
   {
    "duration": 4,
    "start_time": "2022-02-20T09:25:54.702Z"
   },
   {
    "duration": 12,
    "start_time": "2022-02-20T09:25:54.709Z"
   },
   {
    "duration": 46,
    "start_time": "2022-02-20T09:25:54.723Z"
   },
   {
    "duration": 7,
    "start_time": "2022-02-20T09:25:54.771Z"
   },
   {
    "duration": 5,
    "start_time": "2022-02-20T09:25:54.780Z"
   },
   {
    "duration": 24,
    "start_time": "2022-02-20T09:25:54.786Z"
   },
   {
    "duration": 67,
    "start_time": "2022-02-20T09:25:54.812Z"
   },
   {
    "duration": 8,
    "start_time": "2022-02-20T09:25:54.881Z"
   },
   {
    "duration": 6,
    "start_time": "2022-02-20T09:25:54.890Z"
   },
   {
    "duration": 5,
    "start_time": "2022-02-20T09:25:54.898Z"
   },
   {
    "duration": 6,
    "start_time": "2022-02-20T09:25:54.904Z"
   },
   {
    "duration": 9,
    "start_time": "2022-02-20T09:25:54.912Z"
   },
   {
    "duration": 14,
    "start_time": "2022-02-20T09:25:54.923Z"
   },
   {
    "duration": 34,
    "start_time": "2022-02-20T09:25:54.942Z"
   },
   {
    "duration": 11,
    "start_time": "2022-02-20T09:25:54.978Z"
   },
   {
    "duration": 7,
    "start_time": "2022-02-20T09:25:54.990Z"
   },
   {
    "duration": 9,
    "start_time": "2022-02-20T09:25:54.998Z"
   },
   {
    "duration": 6,
    "start_time": "2022-02-20T09:25:55.009Z"
   },
   {
    "duration": 9,
    "start_time": "2022-02-20T09:25:55.017Z"
   },
   {
    "duration": 3,
    "start_time": "2022-02-20T09:25:55.029Z"
   },
   {
    "duration": 676,
    "start_time": "2022-02-20T09:25:55.034Z"
   },
   {
    "duration": 4,
    "start_time": "2022-02-20T09:25:55.712Z"
   },
   {
    "duration": 7,
    "start_time": "2022-02-20T09:25:55.718Z"
   },
   {
    "duration": 5,
    "start_time": "2022-02-20T09:25:55.727Z"
   },
   {
    "duration": 8,
    "start_time": "2022-02-20T09:25:55.734Z"
   },
   {
    "duration": 11,
    "start_time": "2022-02-20T09:25:55.744Z"
   },
   {
    "duration": 474,
    "start_time": "2022-02-20T09:25:55.757Z"
   },
   {
    "duration": 454,
    "start_time": "2022-02-20T09:25:56.233Z"
   },
   {
    "duration": 419,
    "start_time": "2022-02-20T09:25:56.689Z"
   },
   {
    "duration": 9,
    "start_time": "2022-02-20T09:25:57.110Z"
   },
   {
    "duration": 417,
    "start_time": "2022-02-20T09:25:57.121Z"
   },
   {
    "duration": 386,
    "start_time": "2022-02-20T09:25:57.539Z"
   },
   {
    "duration": 394,
    "start_time": "2022-02-20T09:25:57.927Z"
   },
   {
    "duration": 10,
    "start_time": "2022-02-20T09:25:58.323Z"
   },
   {
    "duration": 339,
    "start_time": "2022-02-20T09:25:58.336Z"
   },
   {
    "duration": 226,
    "start_time": "2022-02-20T09:25:58.677Z"
   },
   {
    "duration": 218,
    "start_time": "2022-02-20T09:25:58.905Z"
   },
   {
    "duration": 10,
    "start_time": "2022-02-20T09:25:59.125Z"
   },
   {
    "duration": 234,
    "start_time": "2022-02-20T09:25:59.137Z"
   },
   {
    "duration": 9,
    "start_time": "2022-02-20T09:25:59.372Z"
   },
   {
    "duration": 344,
    "start_time": "2022-02-20T09:25:59.383Z"
   },
   {
    "duration": 9,
    "start_time": "2022-02-20T09:25:59.729Z"
   },
   {
    "duration": 5,
    "start_time": "2022-02-20T09:25:59.739Z"
   },
   {
    "duration": 30,
    "start_time": "2022-02-20T09:25:59.745Z"
   },
   {
    "duration": 9,
    "start_time": "2022-02-20T09:25:59.784Z"
   },
   {
    "duration": 5,
    "start_time": "2022-02-20T09:25:59.795Z"
   },
   {
    "duration": 4,
    "start_time": "2022-02-20T09:26:32.251Z"
   },
   {
    "duration": 252,
    "start_time": "2022-02-20T09:29:31.704Z"
   },
   {
    "duration": 24,
    "start_time": "2022-02-20T09:29:42.676Z"
   },
   {
    "duration": 34,
    "start_time": "2022-02-20T09:29:47.393Z"
   },
   {
    "duration": 10,
    "start_time": "2022-02-20T09:36:21.901Z"
   },
   {
    "duration": 5,
    "start_time": "2022-02-20T09:39:30.472Z"
   },
   {
    "duration": 23,
    "start_time": "2022-02-20T09:40:16.345Z"
   },
   {
    "duration": 24,
    "start_time": "2022-02-20T09:42:40.688Z"
   },
   {
    "duration": 29,
    "start_time": "2022-02-20T09:42:47.806Z"
   },
   {
    "duration": 52,
    "start_time": "2022-02-20T09:44:06.714Z"
   },
   {
    "duration": 9,
    "start_time": "2022-02-20T09:44:25.588Z"
   },
   {
    "duration": 8,
    "start_time": "2022-02-20T09:45:17.228Z"
   },
   {
    "duration": 7,
    "start_time": "2022-02-20T09:45:25.349Z"
   },
   {
    "duration": 6,
    "start_time": "2022-02-20T09:45:29.819Z"
   },
   {
    "duration": 7,
    "start_time": "2022-02-20T09:45:34.535Z"
   },
   {
    "duration": 8,
    "start_time": "2022-02-20T09:45:42.461Z"
   },
   {
    "duration": 30,
    "start_time": "2022-02-20T09:45:50.794Z"
   },
   {
    "duration": 22,
    "start_time": "2022-02-20T09:46:02.730Z"
   },
   {
    "duration": 24,
    "start_time": "2022-02-20T09:46:06.093Z"
   },
   {
    "duration": 28,
    "start_time": "2022-02-20T09:46:10.297Z"
   },
   {
    "duration": 7,
    "start_time": "2022-02-20T09:46:35.586Z"
   },
   {
    "duration": 29,
    "start_time": "2022-02-20T09:47:10.474Z"
   },
   {
    "duration": 21,
    "start_time": "2022-02-20T09:47:25.181Z"
   },
   {
    "duration": 21,
    "start_time": "2022-02-20T09:57:57.800Z"
   },
   {
    "duration": 39,
    "start_time": "2022-02-20T09:59:45.605Z"
   },
   {
    "duration": 22,
    "start_time": "2022-02-20T10:00:39.759Z"
   },
   {
    "duration": 22,
    "start_time": "2022-02-20T10:00:58.512Z"
   },
   {
    "duration": 46,
    "start_time": "2022-02-20T10:01:03.733Z"
   },
   {
    "duration": 8,
    "start_time": "2022-02-20T10:01:11.206Z"
   },
   {
    "duration": 11,
    "start_time": "2022-02-20T10:01:48.276Z"
   },
   {
    "duration": 26,
    "start_time": "2022-02-20T10:06:22.611Z"
   },
   {
    "duration": 36,
    "start_time": "2022-02-20T10:06:30.989Z"
   },
   {
    "duration": 3,
    "start_time": "2022-02-20T10:08:53.232Z"
   },
   {
    "duration": 90,
    "start_time": "2022-02-20T10:08:53.237Z"
   },
   {
    "duration": 68,
    "start_time": "2022-02-20T10:08:53.329Z"
   },
   {
    "duration": 11,
    "start_time": "2022-02-20T10:08:53.399Z"
   },
   {
    "duration": 6,
    "start_time": "2022-02-20T10:08:53.414Z"
   },
   {
    "duration": 8,
    "start_time": "2022-02-20T10:08:53.422Z"
   },
   {
    "duration": 49,
    "start_time": "2022-02-20T10:08:53.433Z"
   },
   {
    "duration": 10,
    "start_time": "2022-02-20T10:08:53.484Z"
   },
   {
    "duration": 22,
    "start_time": "2022-02-20T10:08:53.497Z"
   },
   {
    "duration": 14,
    "start_time": "2022-02-20T10:08:53.521Z"
   },
   {
    "duration": 48,
    "start_time": "2022-02-20T10:08:53.537Z"
   },
   {
    "duration": 47,
    "start_time": "2022-02-20T10:08:53.587Z"
   },
   {
    "duration": 9,
    "start_time": "2022-02-20T10:08:53.637Z"
   },
   {
    "duration": 22,
    "start_time": "2022-02-20T10:08:53.647Z"
   },
   {
    "duration": 4,
    "start_time": "2022-02-20T10:08:53.671Z"
   },
   {
    "duration": 12,
    "start_time": "2022-02-20T10:08:53.677Z"
   },
   {
    "duration": 9,
    "start_time": "2022-02-20T10:08:53.692Z"
   },
   {
    "duration": 15,
    "start_time": "2022-02-20T10:08:53.703Z"
   },
   {
    "duration": 13,
    "start_time": "2022-02-20T10:08:53.722Z"
   },
   {
    "duration": 35,
    "start_time": "2022-02-20T10:08:53.737Z"
   },
   {
    "duration": 14,
    "start_time": "2022-02-20T10:08:53.774Z"
   },
   {
    "duration": 20,
    "start_time": "2022-02-20T10:08:53.789Z"
   },
   {
    "duration": 15,
    "start_time": "2022-02-20T10:08:53.811Z"
   },
   {
    "duration": 22,
    "start_time": "2022-02-20T10:08:53.828Z"
   },
   {
    "duration": 5,
    "start_time": "2022-02-20T10:08:53.852Z"
   },
   {
    "duration": 674,
    "start_time": "2022-02-20T10:08:53.859Z"
   },
   {
    "duration": 5,
    "start_time": "2022-02-20T10:08:54.535Z"
   },
   {
    "duration": 14,
    "start_time": "2022-02-20T10:08:54.542Z"
   },
   {
    "duration": 20,
    "start_time": "2022-02-20T10:08:54.558Z"
   },
   {
    "duration": 5,
    "start_time": "2022-02-20T10:08:54.580Z"
   },
   {
    "duration": 6,
    "start_time": "2022-02-20T10:08:54.587Z"
   },
   {
    "duration": 457,
    "start_time": "2022-02-20T10:08:54.595Z"
   },
   {
    "duration": 518,
    "start_time": "2022-02-20T10:08:55.053Z"
   },
   {
    "duration": 511,
    "start_time": "2022-02-20T10:08:55.573Z"
   },
   {
    "duration": 8,
    "start_time": "2022-02-20T10:08:56.086Z"
   },
   {
    "duration": 431,
    "start_time": "2022-02-20T10:08:56.096Z"
   },
   {
    "duration": 542,
    "start_time": "2022-02-20T10:08:56.530Z"
   },
   {
    "duration": 464,
    "start_time": "2022-02-20T10:08:57.074Z"
   },
   {
    "duration": 9,
    "start_time": "2022-02-20T10:08:57.540Z"
   },
   {
    "duration": 278,
    "start_time": "2022-02-20T10:08:57.551Z"
   },
   {
    "duration": 313,
    "start_time": "2022-02-20T10:08:57.830Z"
   },
   {
    "duration": 210,
    "start_time": "2022-02-20T10:08:58.145Z"
   },
   {
    "duration": 14,
    "start_time": "2022-02-20T10:08:58.356Z"
   },
   {
    "duration": 235,
    "start_time": "2022-02-20T10:08:58.372Z"
   },
   {
    "duration": 9,
    "start_time": "2022-02-20T10:08:58.609Z"
   },
   {
    "duration": 366,
    "start_time": "2022-02-20T10:08:58.620Z"
   },
   {
    "duration": 10,
    "start_time": "2022-02-20T10:08:58.988Z"
   },
   {
    "duration": 38,
    "start_time": "2022-02-20T10:08:59.000Z"
   },
   {
    "duration": 32,
    "start_time": "2022-02-20T10:08:59.040Z"
   },
   {
    "duration": 10,
    "start_time": "2022-02-20T10:08:59.075Z"
   },
   {
    "duration": 36,
    "start_time": "2022-02-20T10:08:59.088Z"
   },
   {
    "duration": 39,
    "start_time": "2022-02-20T10:08:59.125Z"
   },
   {
    "duration": 13,
    "start_time": "2022-02-20T10:08:59.166Z"
   },
   {
    "duration": 19,
    "start_time": "2022-02-20T10:09:56.769Z"
   },
   {
    "duration": 46,
    "start_time": "2022-02-20T10:21:09.450Z"
   },
   {
    "duration": 43,
    "start_time": "2022-02-20T10:21:21.655Z"
   },
   {
    "duration": 42,
    "start_time": "2022-02-20T10:21:40.323Z"
   },
   {
    "duration": 49,
    "start_time": "2022-02-20T10:22:53.861Z"
   },
   {
    "duration": 40,
    "start_time": "2022-02-20T10:23:08.578Z"
   },
   {
    "duration": 43,
    "start_time": "2022-02-20T10:23:15.581Z"
   },
   {
    "duration": 5,
    "start_time": "2022-02-20T10:23:29.724Z"
   },
   {
    "duration": 10,
    "start_time": "2022-02-20T10:25:03.868Z"
   },
   {
    "duration": 5,
    "start_time": "2022-02-20T10:52:06.757Z"
   },
   {
    "duration": 103,
    "start_time": "2022-02-20T10:52:52.344Z"
   },
   {
    "duration": 3,
    "start_time": "2022-02-20T10:55:11.306Z"
   },
   {
    "duration": 74,
    "start_time": "2022-02-20T10:55:11.312Z"
   },
   {
    "duration": 44,
    "start_time": "2022-02-20T10:55:11.388Z"
   },
   {
    "duration": 13,
    "start_time": "2022-02-20T10:55:11.434Z"
   },
   {
    "duration": 6,
    "start_time": "2022-02-20T10:55:11.470Z"
   },
   {
    "duration": 4,
    "start_time": "2022-02-20T10:55:11.478Z"
   },
   {
    "duration": 12,
    "start_time": "2022-02-20T10:55:11.484Z"
   },
   {
    "duration": 7,
    "start_time": "2022-02-20T10:55:11.498Z"
   },
   {
    "duration": 11,
    "start_time": "2022-02-20T10:55:11.508Z"
   },
   {
    "duration": 5,
    "start_time": "2022-02-20T10:55:11.522Z"
   },
   {
    "duration": 56,
    "start_time": "2022-02-20T10:55:11.529Z"
   },
   {
    "duration": 56,
    "start_time": "2022-02-20T10:55:11.587Z"
   },
   {
    "duration": 26,
    "start_time": "2022-02-20T10:55:11.645Z"
   },
   {
    "duration": 16,
    "start_time": "2022-02-20T10:55:11.674Z"
   },
   {
    "duration": 6,
    "start_time": "2022-02-20T10:55:11.692Z"
   },
   {
    "duration": 20,
    "start_time": "2022-02-20T10:55:11.700Z"
   },
   {
    "duration": 13,
    "start_time": "2022-02-20T10:55:11.722Z"
   },
   {
    "duration": 18,
    "start_time": "2022-02-20T10:55:11.737Z"
   },
   {
    "duration": 16,
    "start_time": "2022-02-20T10:55:11.757Z"
   },
   {
    "duration": 11,
    "start_time": "2022-02-20T10:55:11.775Z"
   },
   {
    "duration": 8,
    "start_time": "2022-02-20T10:55:11.788Z"
   },
   {
    "duration": 11,
    "start_time": "2022-02-20T10:55:11.798Z"
   },
   {
    "duration": 6,
    "start_time": "2022-02-20T10:55:11.811Z"
   },
   {
    "duration": 6,
    "start_time": "2022-02-20T10:55:11.822Z"
   },
   {
    "duration": 3,
    "start_time": "2022-02-20T10:55:11.830Z"
   },
   {
    "duration": 699,
    "start_time": "2022-02-20T10:55:11.835Z"
   },
   {
    "duration": 4,
    "start_time": "2022-02-20T10:55:12.536Z"
   },
   {
    "duration": 7,
    "start_time": "2022-02-20T10:55:12.541Z"
   },
   {
    "duration": 5,
    "start_time": "2022-02-20T10:55:12.550Z"
   },
   {
    "duration": 14,
    "start_time": "2022-02-20T10:55:12.557Z"
   },
   {
    "duration": 4,
    "start_time": "2022-02-20T10:55:12.572Z"
   },
   {
    "duration": 436,
    "start_time": "2022-02-20T10:55:12.578Z"
   },
   {
    "duration": 542,
    "start_time": "2022-02-20T10:55:13.016Z"
   },
   {
    "duration": 449,
    "start_time": "2022-02-20T10:55:13.559Z"
   },
   {
    "duration": 10,
    "start_time": "2022-02-20T10:55:14.010Z"
   },
   {
    "duration": 452,
    "start_time": "2022-02-20T10:55:14.021Z"
   },
   {
    "duration": 438,
    "start_time": "2022-02-20T10:55:14.475Z"
   },
   {
    "duration": 410,
    "start_time": "2022-02-20T10:55:14.915Z"
   },
   {
    "duration": 8,
    "start_time": "2022-02-20T10:55:15.327Z"
   },
   {
    "duration": 272,
    "start_time": "2022-02-20T10:55:15.337Z"
   },
   {
    "duration": 242,
    "start_time": "2022-02-20T10:55:15.610Z"
   },
   {
    "duration": 315,
    "start_time": "2022-02-20T10:55:15.854Z"
   },
   {
    "duration": 9,
    "start_time": "2022-02-20T10:55:16.171Z"
   },
   {
    "duration": 245,
    "start_time": "2022-02-20T10:55:16.182Z"
   },
   {
    "duration": 9,
    "start_time": "2022-02-20T10:55:16.429Z"
   },
   {
    "duration": 354,
    "start_time": "2022-02-20T10:55:16.440Z"
   },
   {
    "duration": 10,
    "start_time": "2022-02-20T10:55:16.796Z"
   },
   {
    "duration": 10,
    "start_time": "2022-02-20T10:55:16.808Z"
   },
   {
    "duration": 2,
    "start_time": "2022-02-20T10:55:16.820Z"
   },
   {
    "duration": 11,
    "start_time": "2022-02-20T10:55:16.824Z"
   },
   {
    "duration": 52,
    "start_time": "2022-02-20T10:55:16.837Z"
   },
   {
    "duration": 10,
    "start_time": "2022-02-20T10:55:16.890Z"
   },
   {
    "duration": 5,
    "start_time": "2022-02-20T10:55:16.901Z"
   },
   {
    "duration": 6,
    "start_time": "2022-02-20T10:55:16.908Z"
   },
   {
    "duration": 140,
    "start_time": "2022-02-20T10:55:16.915Z"
   },
   {
    "duration": 8,
    "start_time": "2022-02-20T10:55:38.717Z"
   },
   {
    "duration": 8,
    "start_time": "2022-02-20T10:55:39.695Z"
   },
   {
    "duration": 19,
    "start_time": "2022-02-20T10:55:41.860Z"
   },
   {
    "duration": 9,
    "start_time": "2022-02-20T10:55:43.581Z"
   },
   {
    "duration": 5,
    "start_time": "2022-02-20T10:55:44.405Z"
   },
   {
    "duration": 6,
    "start_time": "2022-02-20T10:55:47.963Z"
   },
   {
    "duration": 8,
    "start_time": "2022-02-20T10:56:53.945Z"
   },
   {
    "duration": 5,
    "start_time": "2022-02-20T10:56:54.812Z"
   },
   {
    "duration": 3,
    "start_time": "2022-02-20T10:56:58.589Z"
   },
   {
    "duration": 83,
    "start_time": "2022-02-20T10:56:58.593Z"
   },
   {
    "duration": 44,
    "start_time": "2022-02-20T10:56:58.678Z"
   },
   {
    "duration": 11,
    "start_time": "2022-02-20T10:56:58.723Z"
   },
   {
    "duration": 35,
    "start_time": "2022-02-20T10:56:58.736Z"
   },
   {
    "duration": 3,
    "start_time": "2022-02-20T10:56:58.773Z"
   },
   {
    "duration": 12,
    "start_time": "2022-02-20T10:56:58.779Z"
   },
   {
    "duration": 5,
    "start_time": "2022-02-20T10:56:58.793Z"
   },
   {
    "duration": 6,
    "start_time": "2022-02-20T10:56:58.800Z"
   },
   {
    "duration": 8,
    "start_time": "2022-02-20T10:56:58.808Z"
   },
   {
    "duration": 55,
    "start_time": "2022-02-20T10:56:58.818Z"
   },
   {
    "duration": 44,
    "start_time": "2022-02-20T10:56:58.874Z"
   },
   {
    "duration": 8,
    "start_time": "2022-02-20T10:56:58.919Z"
   },
   {
    "duration": 4,
    "start_time": "2022-02-20T10:56:58.929Z"
   },
   {
    "duration": 4,
    "start_time": "2022-02-20T10:56:58.935Z"
   },
   {
    "duration": 30,
    "start_time": "2022-02-20T10:56:58.941Z"
   },
   {
    "duration": 6,
    "start_time": "2022-02-20T10:56:58.973Z"
   },
   {
    "duration": 15,
    "start_time": "2022-02-20T10:56:58.980Z"
   },
   {
    "duration": 16,
    "start_time": "2022-02-20T10:56:59.001Z"
   },
   {
    "duration": 9,
    "start_time": "2022-02-20T10:56:59.020Z"
   },
   {
    "duration": 11,
    "start_time": "2022-02-20T10:56:59.031Z"
   },
   {
    "duration": 25,
    "start_time": "2022-02-20T10:56:59.044Z"
   },
   {
    "duration": 6,
    "start_time": "2022-02-20T10:56:59.071Z"
   },
   {
    "duration": 9,
    "start_time": "2022-02-20T10:56:59.079Z"
   },
   {
    "duration": 3,
    "start_time": "2022-02-20T10:56:59.090Z"
   },
   {
    "duration": 707,
    "start_time": "2022-02-20T10:56:59.095Z"
   },
   {
    "duration": 4,
    "start_time": "2022-02-20T10:56:59.804Z"
   },
   {
    "duration": 15,
    "start_time": "2022-02-20T10:56:59.809Z"
   },
   {
    "duration": 11,
    "start_time": "2022-02-20T10:56:59.826Z"
   },
   {
    "duration": 8,
    "start_time": "2022-02-20T10:56:59.839Z"
   },
   {
    "duration": 10,
    "start_time": "2022-02-20T10:56:59.848Z"
   },
   {
    "duration": 395,
    "start_time": "2022-02-20T10:56:59.860Z"
   },
   {
    "duration": 426,
    "start_time": "2022-02-20T10:57:00.257Z"
   },
   {
    "duration": 512,
    "start_time": "2022-02-20T10:57:00.685Z"
   },
   {
    "duration": 9,
    "start_time": "2022-02-20T10:57:01.199Z"
   },
   {
    "duration": 431,
    "start_time": "2022-02-20T10:57:01.210Z"
   },
   {
    "duration": 404,
    "start_time": "2022-02-20T10:57:01.643Z"
   },
   {
    "duration": 412,
    "start_time": "2022-02-20T10:57:02.049Z"
   },
   {
    "duration": 13,
    "start_time": "2022-02-20T10:57:02.462Z"
   },
   {
    "duration": 265,
    "start_time": "2022-02-20T10:57:02.477Z"
   },
   {
    "duration": 245,
    "start_time": "2022-02-20T10:57:02.744Z"
   },
   {
    "duration": 222,
    "start_time": "2022-02-20T10:57:02.991Z"
   },
   {
    "duration": 9,
    "start_time": "2022-02-20T10:57:03.215Z"
   },
   {
    "duration": 325,
    "start_time": "2022-02-20T10:57:03.226Z"
   },
   {
    "duration": 17,
    "start_time": "2022-02-20T10:57:03.553Z"
   },
   {
    "duration": 343,
    "start_time": "2022-02-20T10:57:03.572Z"
   },
   {
    "duration": 9,
    "start_time": "2022-02-20T10:57:03.917Z"
   },
   {
    "duration": 10,
    "start_time": "2022-02-20T10:57:03.928Z"
   },
   {
    "duration": 32,
    "start_time": "2022-02-20T10:57:03.940Z"
   },
   {
    "duration": 8,
    "start_time": "2022-02-20T10:57:03.973Z"
   },
   {
    "duration": 28,
    "start_time": "2022-02-20T10:57:03.983Z"
   },
   {
    "duration": 7,
    "start_time": "2022-02-20T10:57:04.013Z"
   },
   {
    "duration": 12,
    "start_time": "2022-02-20T10:57:04.022Z"
   },
   {
    "duration": 8,
    "start_time": "2022-02-20T10:57:04.035Z"
   },
   {
    "duration": 6,
    "start_time": "2022-02-20T10:57:04.068Z"
   },
   {
    "duration": 115,
    "start_time": "2022-02-20T10:57:04.076Z"
   },
   {
    "duration": 3,
    "start_time": "2022-02-20T10:57:18.420Z"
   },
   {
    "duration": 74,
    "start_time": "2022-02-20T10:57:18.425Z"
   },
   {
    "duration": 46,
    "start_time": "2022-02-20T10:57:18.501Z"
   },
   {
    "duration": 29,
    "start_time": "2022-02-20T10:57:18.549Z"
   },
   {
    "duration": 5,
    "start_time": "2022-02-20T10:57:18.580Z"
   },
   {
    "duration": 6,
    "start_time": "2022-02-20T10:57:18.587Z"
   },
   {
    "duration": 12,
    "start_time": "2022-02-20T10:57:18.595Z"
   },
   {
    "duration": 7,
    "start_time": "2022-02-20T10:57:18.609Z"
   },
   {
    "duration": 9,
    "start_time": "2022-02-20T10:57:18.617Z"
   },
   {
    "duration": 7,
    "start_time": "2022-02-20T10:57:18.628Z"
   },
   {
    "duration": 25,
    "start_time": "2022-02-20T10:57:18.669Z"
   },
   {
    "duration": 45,
    "start_time": "2022-02-20T10:57:18.696Z"
   },
   {
    "duration": 30,
    "start_time": "2022-02-20T10:57:18.743Z"
   },
   {
    "duration": 6,
    "start_time": "2022-02-20T10:57:18.775Z"
   },
   {
    "duration": 6,
    "start_time": "2022-02-20T10:57:18.782Z"
   },
   {
    "duration": 5,
    "start_time": "2022-02-20T10:57:18.790Z"
   },
   {
    "duration": 8,
    "start_time": "2022-02-20T10:57:18.797Z"
   },
   {
    "duration": 15,
    "start_time": "2022-02-20T10:57:18.806Z"
   },
   {
    "duration": 11,
    "start_time": "2022-02-20T10:57:18.825Z"
   },
   {
    "duration": 35,
    "start_time": "2022-02-20T10:57:18.839Z"
   },
   {
    "duration": 9,
    "start_time": "2022-02-20T10:57:18.876Z"
   },
   {
    "duration": 10,
    "start_time": "2022-02-20T10:57:18.887Z"
   },
   {
    "duration": 12,
    "start_time": "2022-02-20T10:57:18.899Z"
   },
   {
    "duration": 6,
    "start_time": "2022-02-20T10:57:18.913Z"
   },
   {
    "duration": 8,
    "start_time": "2022-02-20T10:57:18.921Z"
   },
   {
    "duration": 658,
    "start_time": "2022-02-20T10:57:18.930Z"
   },
   {
    "duration": 4,
    "start_time": "2022-02-20T10:57:19.590Z"
   },
   {
    "duration": 20,
    "start_time": "2022-02-20T10:57:19.596Z"
   },
   {
    "duration": 14,
    "start_time": "2022-02-20T10:57:19.618Z"
   },
   {
    "duration": 22,
    "start_time": "2022-02-20T10:57:19.634Z"
   },
   {
    "duration": 9,
    "start_time": "2022-02-20T10:57:19.658Z"
   },
   {
    "duration": 407,
    "start_time": "2022-02-20T10:57:19.669Z"
   },
   {
    "duration": 442,
    "start_time": "2022-02-20T10:57:20.078Z"
   },
   {
    "duration": 497,
    "start_time": "2022-02-20T10:57:20.522Z"
   },
   {
    "duration": 10,
    "start_time": "2022-02-20T10:57:21.021Z"
   },
   {
    "duration": 428,
    "start_time": "2022-02-20T10:57:21.033Z"
   },
   {
    "duration": 406,
    "start_time": "2022-02-20T10:57:21.463Z"
   },
   {
    "duration": 400,
    "start_time": "2022-02-20T10:57:21.871Z"
   },
   {
    "duration": 9,
    "start_time": "2022-02-20T10:57:22.272Z"
   },
   {
    "duration": 254,
    "start_time": "2022-02-20T10:57:22.283Z"
   },
   {
    "duration": 216,
    "start_time": "2022-02-20T10:57:22.539Z"
   },
   {
    "duration": 219,
    "start_time": "2022-02-20T10:57:22.758Z"
   },
   {
    "duration": 9,
    "start_time": "2022-02-20T10:57:22.979Z"
   },
   {
    "duration": 234,
    "start_time": "2022-02-20T10:57:22.989Z"
   },
   {
    "duration": 9,
    "start_time": "2022-02-20T10:57:23.225Z"
   },
   {
    "duration": 442,
    "start_time": "2022-02-20T10:57:23.235Z"
   },
   {
    "duration": 10,
    "start_time": "2022-02-20T10:57:23.679Z"
   },
   {
    "duration": 42,
    "start_time": "2022-02-20T10:57:23.690Z"
   },
   {
    "duration": 11,
    "start_time": "2022-02-20T10:57:23.734Z"
   },
   {
    "duration": 11,
    "start_time": "2022-02-20T10:57:23.747Z"
   },
   {
    "duration": 21,
    "start_time": "2022-02-20T10:57:23.760Z"
   },
   {
    "duration": 9,
    "start_time": "2022-02-20T10:57:23.783Z"
   },
   {
    "duration": 11,
    "start_time": "2022-02-20T10:57:23.794Z"
   },
   {
    "duration": 7,
    "start_time": "2022-02-20T10:57:23.807Z"
   },
   {
    "duration": 127,
    "start_time": "2022-02-20T10:57:23.819Z"
   },
   {
    "duration": 39,
    "start_time": "2022-02-20T10:58:41.995Z"
   },
   {
    "duration": 8,
    "start_time": "2022-02-20T10:59:11.285Z"
   },
   {
    "duration": 222,
    "start_time": "2022-02-20T11:01:18.202Z"
   },
   {
    "duration": 16,
    "start_time": "2022-02-20T11:01:25.620Z"
   },
   {
    "duration": 207,
    "start_time": "2022-02-20T11:01:43.135Z"
   },
   {
    "duration": 16,
    "start_time": "2022-02-20T11:02:14.005Z"
   },
   {
    "duration": 16,
    "start_time": "2022-02-20T11:02:30.266Z"
   },
   {
    "duration": 17,
    "start_time": "2022-02-20T11:02:44.635Z"
   },
   {
    "duration": 17,
    "start_time": "2022-02-20T11:03:01.292Z"
   },
   {
    "duration": 16,
    "start_time": "2022-02-20T11:03:38.936Z"
   },
   {
    "duration": 21,
    "start_time": "2022-02-20T11:04:35.900Z"
   },
   {
    "duration": 15,
    "start_time": "2022-02-20T11:06:41.837Z"
   },
   {
    "duration": 20,
    "start_time": "2022-02-20T11:06:48.500Z"
   },
   {
    "duration": 401,
    "start_time": "2022-02-20T15:51:37.883Z"
   },
   {
    "duration": 335,
    "start_time": "2022-02-20T15:51:59.226Z"
   },
   {
    "duration": 341,
    "start_time": "2022-02-20T15:52:31.873Z"
   },
   {
    "duration": 894,
    "start_time": "2022-02-20T15:52:56.282Z"
   },
   {
    "duration": 90,
    "start_time": "2022-02-20T15:52:57.179Z"
   },
   {
    "duration": 84,
    "start_time": "2022-02-20T15:52:57.273Z"
   },
   {
    "duration": 24,
    "start_time": "2022-02-20T15:52:57.361Z"
   },
   {
    "duration": 24,
    "start_time": "2022-02-20T15:52:57.389Z"
   },
   {
    "duration": 6,
    "start_time": "2022-02-20T15:52:57.416Z"
   },
   {
    "duration": 18,
    "start_time": "2022-02-20T15:52:57.425Z"
   },
   {
    "duration": 5,
    "start_time": "2022-02-20T15:52:57.448Z"
   },
   {
    "duration": 14,
    "start_time": "2022-02-20T15:52:57.457Z"
   },
   {
    "duration": 47,
    "start_time": "2022-02-20T15:52:57.473Z"
   },
   {
    "duration": 36,
    "start_time": "2022-02-20T15:52:57.522Z"
   },
   {
    "duration": 93,
    "start_time": "2022-02-20T15:52:57.560Z"
   },
   {
    "duration": 12,
    "start_time": "2022-02-20T15:52:57.656Z"
   },
   {
    "duration": 6,
    "start_time": "2022-02-20T15:52:57.672Z"
   },
   {
    "duration": 30,
    "start_time": "2022-02-20T15:52:57.681Z"
   },
   {
    "duration": 4,
    "start_time": "2022-02-20T15:52:57.714Z"
   },
   {
    "duration": 10,
    "start_time": "2022-02-20T15:52:57.722Z"
   },
   {
    "duration": 26,
    "start_time": "2022-02-20T15:52:57.735Z"
   },
   {
    "duration": 54,
    "start_time": "2022-02-20T15:52:57.765Z"
   },
   {
    "duration": 13,
    "start_time": "2022-02-20T15:52:57.821Z"
   },
   {
    "duration": 7,
    "start_time": "2022-02-20T15:52:57.836Z"
   },
   {
    "duration": 10,
    "start_time": "2022-02-20T15:52:57.845Z"
   },
   {
    "duration": 9,
    "start_time": "2022-02-20T15:52:57.860Z"
   },
   {
    "duration": 46,
    "start_time": "2022-02-20T15:52:57.872Z"
   },
   {
    "duration": 6,
    "start_time": "2022-02-20T15:52:57.922Z"
   },
   {
    "duration": 1198,
    "start_time": "2022-02-20T15:52:57.932Z"
   },
   {
    "duration": 6,
    "start_time": "2022-02-20T15:52:59.134Z"
   },
   {
    "duration": 17,
    "start_time": "2022-02-20T15:52:59.143Z"
   },
   {
    "duration": 8,
    "start_time": "2022-02-20T15:52:59.162Z"
   },
   {
    "duration": 16,
    "start_time": "2022-02-20T15:52:59.173Z"
   },
   {
    "duration": 18,
    "start_time": "2022-02-20T15:52:59.192Z"
   },
   {
    "duration": 733,
    "start_time": "2022-02-20T15:52:59.213Z"
   },
   {
    "duration": 633,
    "start_time": "2022-02-20T15:52:59.948Z"
   },
   {
    "duration": 981,
    "start_time": "2022-02-20T15:53:00.585Z"
   },
   {
    "duration": 13,
    "start_time": "2022-02-20T15:53:01.569Z"
   },
   {
    "duration": 596,
    "start_time": "2022-02-20T15:53:01.585Z"
   },
   {
    "duration": 558,
    "start_time": "2022-02-20T15:53:02.184Z"
   },
   {
    "duration": 788,
    "start_time": "2022-02-20T15:53:02.744Z"
   },
   {
    "duration": 12,
    "start_time": "2022-02-20T15:53:03.535Z"
   },
   {
    "duration": 351,
    "start_time": "2022-02-20T15:53:03.550Z"
   },
   {
    "duration": 319,
    "start_time": "2022-02-20T15:53:03.912Z"
   },
   {
    "duration": 302,
    "start_time": "2022-02-20T15:53:04.234Z"
   },
   {
    "duration": 10,
    "start_time": "2022-02-20T15:53:04.539Z"
   },
   {
    "duration": 331,
    "start_time": "2022-02-20T15:53:04.552Z"
   },
   {
    "duration": 11,
    "start_time": "2022-02-20T15:53:04.886Z"
   },
   {
    "duration": 489,
    "start_time": "2022-02-20T15:53:04.911Z"
   },
   {
    "duration": 19,
    "start_time": "2022-02-20T15:53:05.402Z"
   },
   {
    "duration": 19,
    "start_time": "2022-02-20T15:53:05.425Z"
   },
   {
    "duration": 14,
    "start_time": "2022-02-20T15:53:05.447Z"
   },
   {
    "duration": 47,
    "start_time": "2022-02-20T15:53:05.463Z"
   },
   {
    "duration": 39,
    "start_time": "2022-02-20T15:53:05.513Z"
   },
   {
    "duration": 9,
    "start_time": "2022-02-20T15:53:05.555Z"
   },
   {
    "duration": 8,
    "start_time": "2022-02-20T15:53:05.567Z"
   },
   {
    "duration": 50,
    "start_time": "2022-02-20T15:53:05.577Z"
   },
   {
    "duration": 58,
    "start_time": "2022-02-20T15:53:05.629Z"
   },
   {
    "duration": 8,
    "start_time": "2022-02-20T15:53:05.710Z"
   },
   {
    "duration": 155,
    "start_time": "2022-02-20T15:53:05.721Z"
   },
   {
    "duration": 41,
    "start_time": "2022-02-20T15:53:05.878Z"
   },
   {
    "duration": 27,
    "start_time": "2022-02-20T15:53:05.923Z"
   },
   {
    "duration": 9041,
    "start_time": "2022-02-20T15:53:13.612Z"
   },
   {
    "duration": 15,
    "start_time": "2022-02-20T15:53:27.918Z"
   },
   {
    "duration": 26,
    "start_time": "2022-02-20T15:54:49.124Z"
   },
   {
    "duration": 14,
    "start_time": "2022-02-20T15:55:03.411Z"
   },
   {
    "duration": 28,
    "start_time": "2022-02-20T15:56:17.987Z"
   },
   {
    "duration": 8427,
    "start_time": "2022-02-20T15:58:32.368Z"
   },
   {
    "duration": 151,
    "start_time": "2022-02-20T15:58:46.662Z"
   },
   {
    "duration": 8474,
    "start_time": "2022-02-20T15:58:49.981Z"
   },
   {
    "duration": 12129,
    "start_time": "2022-02-20T15:59:23.405Z"
   },
   {
    "duration": 4,
    "start_time": "2022-02-20T16:04:28.228Z"
   },
   {
    "duration": 16,
    "start_time": "2022-02-20T16:04:41.326Z"
   },
   {
    "duration": 55,
    "start_time": "2022-02-20T16:29:06.303Z"
   },
   {
    "duration": 24,
    "start_time": "2022-02-20T16:29:10.762Z"
   },
   {
    "duration": 9706,
    "start_time": "2022-02-20T16:30:02.891Z"
   },
   {
    "duration": 642,
    "start_time": "2022-02-20T16:30:11.958Z"
   },
   {
    "duration": 53,
    "start_time": "2022-02-20T16:30:17.407Z"
   },
   {
    "duration": 24,
    "start_time": "2022-02-20T16:30:38.166Z"
   },
   {
    "duration": 278,
    "start_time": "2022-02-20T16:30:56.256Z"
   },
   {
    "duration": 272,
    "start_time": "2022-02-20T16:31:04.717Z"
   },
   {
    "duration": 249,
    "start_time": "2022-02-20T16:31:35.528Z"
   },
   {
    "duration": 306,
    "start_time": "2022-02-20T16:32:24.672Z"
   },
   {
    "duration": 421,
    "start_time": "2022-02-20T16:32:49.571Z"
   },
   {
    "duration": 388,
    "start_time": "2022-02-20T16:33:03.727Z"
   },
   {
    "duration": 245,
    "start_time": "2022-02-20T16:33:12.240Z"
   },
   {
    "duration": 270,
    "start_time": "2022-02-20T16:33:31.383Z"
   },
   {
    "duration": 19,
    "start_time": "2022-02-20T16:37:08.485Z"
   },
   {
    "duration": 3,
    "start_time": "2022-02-20T16:37:15.082Z"
   },
   {
    "duration": 17,
    "start_time": "2022-02-20T16:38:37.119Z"
   },
   {
    "duration": 338,
    "start_time": "2022-02-20T16:38:43.620Z"
   },
   {
    "duration": 3219,
    "start_time": "2022-02-20T16:40:21.799Z"
   },
   {
    "duration": 3633,
    "start_time": "2022-02-20T16:40:32.871Z"
   },
   {
    "duration": 357,
    "start_time": "2022-02-20T16:41:30.996Z"
   },
   {
    "duration": 330,
    "start_time": "2022-02-20T17:10:32.125Z"
   },
   {
    "duration": 567,
    "start_time": "2022-02-20T17:11:09.767Z"
   },
   {
    "duration": 343,
    "start_time": "2022-02-20T17:11:32.449Z"
   },
   {
    "duration": 659,
    "start_time": "2022-02-20T17:14:28.444Z"
   },
   {
    "duration": 1021,
    "start_time": "2022-02-20T17:15:04.140Z"
   },
   {
    "duration": 764,
    "start_time": "2022-02-20T17:16:57.648Z"
   },
   {
    "duration": 907,
    "start_time": "2022-02-20T17:18:10.119Z"
   },
   {
    "duration": 779,
    "start_time": "2022-02-20T17:18:40.428Z"
   },
   {
    "duration": 851,
    "start_time": "2022-02-20T17:18:45.149Z"
   },
   {
    "duration": 8,
    "start_time": "2022-02-20T17:19:08.045Z"
   },
   {
    "duration": 7,
    "start_time": "2022-02-20T17:21:11.467Z"
   },
   {
    "duration": 8,
    "start_time": "2022-02-20T17:26:03.611Z"
   },
   {
    "duration": 81,
    "start_time": "2022-02-20T17:31:00.357Z"
   },
   {
    "duration": 833,
    "start_time": "2022-02-20T17:31:42.252Z"
   },
   {
    "duration": 736,
    "start_time": "2022-02-20T17:31:49.519Z"
   },
   {
    "duration": -52,
    "start_time": "2022-02-20T17:33:57.982Z"
   },
   {
    "duration": 97,
    "start_time": "2022-02-20T17:34:03.960Z"
   },
   {
    "duration": 649,
    "start_time": "2022-02-20T17:35:58.916Z"
   },
   {
    "duration": 812,
    "start_time": "2022-02-20T17:36:31.912Z"
   },
   {
    "duration": 90,
    "start_time": "2022-02-20T17:36:32.727Z"
   },
   {
    "duration": 76,
    "start_time": "2022-02-20T17:36:32.821Z"
   },
   {
    "duration": 25,
    "start_time": "2022-02-20T17:36:32.912Z"
   },
   {
    "duration": 9,
    "start_time": "2022-02-20T17:36:32.940Z"
   },
   {
    "duration": 12,
    "start_time": "2022-02-20T17:36:32.952Z"
   },
   {
    "duration": 24,
    "start_time": "2022-02-20T17:36:32.966Z"
   },
   {
    "duration": 16,
    "start_time": "2022-02-20T17:36:32.994Z"
   },
   {
    "duration": 5,
    "start_time": "2022-02-20T17:36:33.013Z"
   },
   {
    "duration": 24,
    "start_time": "2022-02-20T17:36:33.020Z"
   },
   {
    "duration": 73,
    "start_time": "2022-02-20T17:36:33.046Z"
   },
   {
    "duration": 67,
    "start_time": "2022-02-20T17:36:33.121Z"
   },
   {
    "duration": 29,
    "start_time": "2022-02-20T17:36:33.190Z"
   },
   {
    "duration": 6,
    "start_time": "2022-02-20T17:36:33.222Z"
   },
   {
    "duration": 5,
    "start_time": "2022-02-20T17:36:33.231Z"
   },
   {
    "duration": 5,
    "start_time": "2022-02-20T17:36:33.239Z"
   },
   {
    "duration": 7,
    "start_time": "2022-02-20T17:36:33.247Z"
   },
   {
    "duration": 69,
    "start_time": "2022-02-20T17:36:33.256Z"
   },
   {
    "duration": 16,
    "start_time": "2022-02-20T17:36:33.328Z"
   },
   {
    "duration": 11,
    "start_time": "2022-02-20T17:36:33.347Z"
   },
   {
    "duration": 7,
    "start_time": "2022-02-20T17:36:33.360Z"
   },
   {
    "duration": 50,
    "start_time": "2022-02-20T17:36:33.369Z"
   },
   {
    "duration": 8,
    "start_time": "2022-02-20T17:36:33.424Z"
   },
   {
    "duration": 10,
    "start_time": "2022-02-20T17:36:33.435Z"
   },
   {
    "duration": 4,
    "start_time": "2022-02-20T17:36:33.448Z"
   },
   {
    "duration": 1055,
    "start_time": "2022-02-20T17:36:33.455Z"
   },
   {
    "duration": 6,
    "start_time": "2022-02-20T17:36:34.513Z"
   },
   {
    "duration": 6,
    "start_time": "2022-02-20T17:36:34.522Z"
   },
   {
    "duration": 5,
    "start_time": "2022-02-20T17:36:34.531Z"
   },
   {
    "duration": 10,
    "start_time": "2022-02-20T17:36:34.538Z"
   },
   {
    "duration": 10,
    "start_time": "2022-02-20T17:36:34.550Z"
   },
   {
    "duration": 764,
    "start_time": "2022-02-20T17:36:34.562Z"
   },
   {
    "duration": 641,
    "start_time": "2022-02-20T17:36:35.329Z"
   },
   {
    "duration": 615,
    "start_time": "2022-02-20T17:36:35.973Z"
   },
   {
    "duration": 24,
    "start_time": "2022-02-20T17:36:36.591Z"
   },
   {
    "duration": 977,
    "start_time": "2022-02-20T17:36:36.619Z"
   },
   {
    "duration": 861,
    "start_time": "2022-02-20T17:36:37.599Z"
   },
   {
    "duration": 659,
    "start_time": "2022-02-20T17:36:38.463Z"
   },
   {
    "duration": 12,
    "start_time": "2022-02-20T17:36:39.125Z"
   },
   {
    "duration": 374,
    "start_time": "2022-02-20T17:36:39.140Z"
   },
   {
    "duration": 498,
    "start_time": "2022-02-20T17:36:39.517Z"
   },
   {
    "duration": 308,
    "start_time": "2022-02-20T17:36:40.018Z"
   },
   {
    "duration": 11,
    "start_time": "2022-02-20T17:36:40.329Z"
   },
   {
    "duration": 329,
    "start_time": "2022-02-20T17:36:40.342Z"
   },
   {
    "duration": 12,
    "start_time": "2022-02-20T17:36:40.673Z"
   },
   {
    "duration": 493,
    "start_time": "2022-02-20T17:36:40.687Z"
   },
   {
    "duration": 28,
    "start_time": "2022-02-20T17:36:41.184Z"
   },
   {
    "duration": 15,
    "start_time": "2022-02-20T17:36:41.214Z"
   },
   {
    "duration": 16,
    "start_time": "2022-02-20T17:36:41.232Z"
   },
   {
    "duration": 11,
    "start_time": "2022-02-20T17:36:41.251Z"
   },
   {
    "duration": 70,
    "start_time": "2022-02-20T17:36:41.265Z"
   },
   {
    "duration": 11,
    "start_time": "2022-02-20T17:36:41.337Z"
   },
   {
    "duration": 7,
    "start_time": "2022-02-20T17:36:41.350Z"
   },
   {
    "duration": 901,
    "start_time": "2022-02-20T17:36:41.359Z"
   },
   {
    "duration": 10,
    "start_time": "2022-02-20T17:36:42.263Z"
   },
   {
    "duration": 845,
    "start_time": "2022-02-20T17:36:42.276Z"
   },
   {
    "duration": 76014,
    "start_time": "2022-02-20T17:36:43.124Z"
   },
   {
    "duration": 71,
    "start_time": "2022-02-20T17:37:59.141Z"
   },
   {
    "duration": 617,
    "start_time": "2022-02-20T17:40:18.781Z"
   },
   {
    "duration": 721,
    "start_time": "2022-02-20T17:40:51.564Z"
   },
   {
    "duration": 345,
    "start_time": "2022-02-20T17:42:36.573Z"
   },
   {
    "duration": 21,
    "start_time": "2022-02-20T17:42:41.733Z"
   },
   {
    "duration": 296,
    "start_time": "2022-02-20T17:43:29.846Z"
   },
   {
    "duration": 8,
    "start_time": "2022-02-20T17:46:02.040Z"
   },
   {
    "duration": 308,
    "start_time": "2022-02-20T17:47:01.981Z"
   },
   {
    "duration": 378,
    "start_time": "2022-02-20T17:49:03.368Z"
   },
   {
    "duration": 353,
    "start_time": "2022-02-20T17:49:26.114Z"
   },
   {
    "duration": 374,
    "start_time": "2022-02-20T17:50:08.872Z"
   },
   {
    "duration": 8,
    "start_time": "2022-02-20T17:54:24.195Z"
   },
   {
    "duration": 263,
    "start_time": "2022-02-20T17:54:52.798Z"
   },
   {
    "duration": 264,
    "start_time": "2022-02-20T17:56:54.321Z"
   },
   {
    "duration": 17,
    "start_time": "2022-02-20T18:01:14.122Z"
   },
   {
    "duration": 750,
    "start_time": "2022-02-20T18:02:08.063Z"
   },
   {
    "duration": 828,
    "start_time": "2022-02-20T18:02:20.582Z"
   },
   {
    "duration": 167,
    "start_time": "2022-02-20T18:04:51.723Z"
   },
   {
    "duration": 114,
    "start_time": "2022-02-20T18:05:28.479Z"
   },
   {
    "duration": 7,
    "start_time": "2022-02-20T18:06:26.255Z"
   },
   {
    "duration": 350,
    "start_time": "2022-02-20T18:06:45.590Z"
   },
   {
    "duration": 8,
    "start_time": "2022-02-20T18:06:51.294Z"
   },
   {
    "duration": 111,
    "start_time": "2022-02-20T18:17:59.587Z"
   },
   {
    "duration": 347,
    "start_time": "2022-02-20T18:19:24.986Z"
   },
   {
    "duration": 374,
    "start_time": "2022-02-20T18:19:39.173Z"
   },
   {
    "duration": 362,
    "start_time": "2022-02-20T18:19:48.495Z"
   },
   {
    "duration": 334,
    "start_time": "2022-02-20T18:20:14.192Z"
   },
   {
    "duration": 596,
    "start_time": "2022-02-21T18:28:16.675Z"
   },
   {
    "duration": 70,
    "start_time": "2022-02-21T18:28:17.273Z"
   },
   {
    "duration": 48,
    "start_time": "2022-02-21T18:28:17.345Z"
   },
   {
    "duration": 28,
    "start_time": "2022-02-21T18:28:17.396Z"
   },
   {
    "duration": 6,
    "start_time": "2022-02-21T18:28:17.427Z"
   },
   {
    "duration": 4,
    "start_time": "2022-02-21T18:28:17.435Z"
   },
   {
    "duration": 11,
    "start_time": "2022-02-21T18:28:17.441Z"
   },
   {
    "duration": 7,
    "start_time": "2022-02-21T18:28:17.454Z"
   },
   {
    "duration": 6,
    "start_time": "2022-02-21T18:28:17.464Z"
   },
   {
    "duration": 9,
    "start_time": "2022-02-21T18:28:17.472Z"
   },
   {
    "duration": 51,
    "start_time": "2022-02-21T18:28:17.483Z"
   },
   {
    "duration": 42,
    "start_time": "2022-02-21T18:28:17.536Z"
   },
   {
    "duration": 9,
    "start_time": "2022-02-21T18:28:17.580Z"
   },
   {
    "duration": 27,
    "start_time": "2022-02-21T18:28:17.591Z"
   },
   {
    "duration": 6,
    "start_time": "2022-02-21T18:28:17.620Z"
   },
   {
    "duration": 14,
    "start_time": "2022-02-21T18:28:17.628Z"
   },
   {
    "duration": 10,
    "start_time": "2022-02-21T18:28:17.644Z"
   },
   {
    "duration": 13,
    "start_time": "2022-02-21T18:28:17.656Z"
   },
   {
    "duration": 12,
    "start_time": "2022-02-21T18:28:17.671Z"
   },
   {
    "duration": 9,
    "start_time": "2022-02-21T18:28:17.684Z"
   },
   {
    "duration": 23,
    "start_time": "2022-02-21T18:28:17.695Z"
   },
   {
    "duration": 9,
    "start_time": "2022-02-21T18:28:17.720Z"
   },
   {
    "duration": 6,
    "start_time": "2022-02-21T18:28:17.730Z"
   },
   {
    "duration": 6,
    "start_time": "2022-02-21T18:28:17.738Z"
   },
   {
    "duration": 3,
    "start_time": "2022-02-21T18:28:17.745Z"
   },
   {
    "duration": 643,
    "start_time": "2022-02-21T18:28:17.750Z"
   },
   {
    "duration": 5,
    "start_time": "2022-02-21T18:28:18.396Z"
   },
   {
    "duration": 5,
    "start_time": "2022-02-21T18:28:18.403Z"
   },
   {
    "duration": 4,
    "start_time": "2022-02-21T18:28:18.418Z"
   },
   {
    "duration": 16,
    "start_time": "2022-02-21T18:28:18.424Z"
   },
   {
    "duration": 6,
    "start_time": "2022-02-21T18:28:18.442Z"
   },
   {
    "duration": 461,
    "start_time": "2022-02-21T18:28:18.450Z"
   },
   {
    "duration": 380,
    "start_time": "2022-02-21T18:28:18.912Z"
   },
   {
    "duration": 363,
    "start_time": "2022-02-21T18:28:19.293Z"
   },
   {
    "duration": 9,
    "start_time": "2022-02-21T18:28:19.659Z"
   },
   {
    "duration": 368,
    "start_time": "2022-02-21T18:28:19.670Z"
   },
   {
    "duration": 351,
    "start_time": "2022-02-21T18:28:20.040Z"
   },
   {
    "duration": 412,
    "start_time": "2022-02-21T18:28:20.393Z"
   },
   {
    "duration": 13,
    "start_time": "2022-02-21T18:28:20.806Z"
   },
   {
    "duration": 221,
    "start_time": "2022-02-21T18:28:20.821Z"
   },
   {
    "duration": 216,
    "start_time": "2022-02-21T18:28:21.044Z"
   },
   {
    "duration": 257,
    "start_time": "2022-02-21T18:28:21.263Z"
   },
   {
    "duration": 10,
    "start_time": "2022-02-21T18:28:21.523Z"
   },
   {
    "duration": 205,
    "start_time": "2022-02-21T18:28:21.535Z"
   },
   {
    "duration": 10,
    "start_time": "2022-02-21T18:28:21.742Z"
   },
   {
    "duration": 318,
    "start_time": "2022-02-21T18:28:21.753Z"
   },
   {
    "duration": 10,
    "start_time": "2022-02-21T18:28:22.073Z"
   },
   {
    "duration": 17,
    "start_time": "2022-02-21T18:28:22.084Z"
   },
   {
    "duration": 22,
    "start_time": "2022-02-21T18:28:22.103Z"
   },
   {
    "duration": 9,
    "start_time": "2022-02-21T18:28:22.127Z"
   },
   {
    "duration": 22,
    "start_time": "2022-02-21T18:28:22.137Z"
   },
   {
    "duration": 8,
    "start_time": "2022-02-21T18:28:22.161Z"
   },
   {
    "duration": 5,
    "start_time": "2022-02-21T18:28:22.172Z"
   },
   {
    "duration": 587,
    "start_time": "2022-02-21T18:28:22.179Z"
   },
   {
    "duration": 7,
    "start_time": "2022-02-21T18:28:22.768Z"
   },
   {
    "duration": 233,
    "start_time": "2022-02-21T18:28:22.776Z"
   },
   {
    "duration": 239,
    "start_time": "2022-02-21T18:28:23.011Z"
   },
   {
    "duration": 7,
    "start_time": "2022-02-21T18:28:23.252Z"
   },
   {
    "duration": 548,
    "start_time": "2022-02-21T18:28:23.261Z"
   },
   {
    "duration": 346,
    "start_time": "2022-02-21T18:28:23.811Z"
   },
   {
    "duration": 176,
    "start_time": "2022-02-21T18:28:24.159Z"
   },
   {
    "duration": 12,
    "start_time": "2022-02-21T18:28:24.336Z"
   },
   {
    "duration": 4,
    "start_time": "2022-02-21T18:28:58.075Z"
   },
   {
    "duration": 754,
    "start_time": "2022-02-21T18:29:13.267Z"
   },
   {
    "duration": 375,
    "start_time": "2022-02-21T18:29:20.222Z"
   },
   {
    "duration": 714,
    "start_time": "2022-02-21T18:29:35.855Z"
   },
   {
    "duration": 823,
    "start_time": "2022-02-21T18:30:11.604Z"
   },
   {
    "duration": 741,
    "start_time": "2022-02-21T18:30:41.313Z"
   },
   {
    "duration": 388,
    "start_time": "2022-02-21T18:31:01.591Z"
   },
   {
    "duration": 378,
    "start_time": "2022-02-22T11:01:28.324Z"
   },
   {
    "duration": 822,
    "start_time": "2022-02-22T11:01:53.306Z"
   },
   {
    "duration": 82,
    "start_time": "2022-02-22T11:01:54.131Z"
   },
   {
    "duration": 85,
    "start_time": "2022-02-22T11:01:54.217Z"
   },
   {
    "duration": 30,
    "start_time": "2022-02-22T11:01:54.305Z"
   },
   {
    "duration": 7,
    "start_time": "2022-02-22T11:01:54.338Z"
   },
   {
    "duration": 5,
    "start_time": "2022-02-22T11:01:54.348Z"
   },
   {
    "duration": 16,
    "start_time": "2022-02-22T11:01:54.355Z"
   },
   {
    "duration": 7,
    "start_time": "2022-02-22T11:01:54.374Z"
   },
   {
    "duration": 44,
    "start_time": "2022-02-22T11:01:54.384Z"
   },
   {
    "duration": 10,
    "start_time": "2022-02-22T11:01:54.430Z"
   },
   {
    "duration": 35,
    "start_time": "2022-02-22T11:01:54.443Z"
   },
   {
    "duration": 102,
    "start_time": "2022-02-22T11:01:54.480Z"
   },
   {
    "duration": 12,
    "start_time": "2022-02-22T11:01:54.584Z"
   },
   {
    "duration": 27,
    "start_time": "2022-02-22T11:01:54.599Z"
   },
   {
    "duration": 5,
    "start_time": "2022-02-22T11:01:54.629Z"
   },
   {
    "duration": 11,
    "start_time": "2022-02-22T11:01:54.636Z"
   },
   {
    "duration": 6,
    "start_time": "2022-02-22T11:01:54.650Z"
   },
   {
    "duration": 18,
    "start_time": "2022-02-22T11:01:54.658Z"
   },
   {
    "duration": 49,
    "start_time": "2022-02-22T11:01:54.678Z"
   },
   {
    "duration": 12,
    "start_time": "2022-02-22T11:01:54.730Z"
   },
   {
    "duration": 9,
    "start_time": "2022-02-22T11:01:54.745Z"
   },
   {
    "duration": 10,
    "start_time": "2022-02-22T11:01:54.757Z"
   },
   {
    "duration": 8,
    "start_time": "2022-02-22T11:01:54.775Z"
   },
   {
    "duration": 43,
    "start_time": "2022-02-22T11:01:54.787Z"
   },
   {
    "duration": 6,
    "start_time": "2022-02-22T11:01:54.834Z"
   },
   {
    "duration": 1134,
    "start_time": "2022-02-22T11:01:54.842Z"
   },
   {
    "duration": 6,
    "start_time": "2022-02-22T11:01:55.979Z"
   },
   {
    "duration": 14,
    "start_time": "2022-02-22T11:01:55.987Z"
   },
   {
    "duration": 25,
    "start_time": "2022-02-22T11:01:56.004Z"
   },
   {
    "duration": 19,
    "start_time": "2022-02-22T11:01:56.032Z"
   },
   {
    "duration": 15,
    "start_time": "2022-02-22T11:01:56.054Z"
   },
   {
    "duration": 755,
    "start_time": "2022-02-22T11:01:56.071Z"
   },
   {
    "duration": 637,
    "start_time": "2022-02-22T11:01:56.828Z"
   },
   {
    "duration": 625,
    "start_time": "2022-02-22T11:01:57.468Z"
   },
   {
    "duration": 601,
    "start_time": "2022-02-22T11:01:58.096Z"
   },
   {
    "duration": 593,
    "start_time": "2022-02-22T11:01:58.701Z"
   },
   {
    "duration": 644,
    "start_time": "2022-02-22T11:01:59.297Z"
   },
   {
    "duration": 372,
    "start_time": "2022-02-22T11:01:59.944Z"
   },
   {
    "duration": 325,
    "start_time": "2022-02-22T11:02:00.318Z"
   },
   {
    "duration": 332,
    "start_time": "2022-02-22T11:02:00.646Z"
   },
   {
    "duration": 329,
    "start_time": "2022-02-22T11:02:00.981Z"
   },
   {
    "duration": 492,
    "start_time": "2022-02-22T11:02:01.312Z"
   },
   {
    "duration": 24,
    "start_time": "2022-02-22T11:02:01.807Z"
   },
   {
    "duration": 16,
    "start_time": "2022-02-22T11:02:01.833Z"
   },
   {
    "duration": 32,
    "start_time": "2022-02-22T11:02:01.851Z"
   },
   {
    "duration": 31,
    "start_time": "2022-02-22T11:02:01.885Z"
   },
   {
    "duration": 42,
    "start_time": "2022-02-22T11:02:01.919Z"
   },
   {
    "duration": 27,
    "start_time": "2022-02-22T11:02:01.963Z"
   },
   {
    "duration": 15,
    "start_time": "2022-02-22T11:02:01.993Z"
   },
   {
    "duration": 799,
    "start_time": "2022-02-22T11:02:02.011Z"
   },
   {
    "duration": 15,
    "start_time": "2022-02-22T11:02:02.813Z"
   },
   {
    "duration": 355,
    "start_time": "2022-02-22T11:02:02.830Z"
   },
   {
    "duration": 8,
    "start_time": "2022-02-22T11:02:03.187Z"
   },
   {
    "duration": 798,
    "start_time": "2022-02-22T11:02:03.198Z"
   },
   {
    "duration": 8,
    "start_time": "2022-02-22T11:02:03.999Z"
   },
   {
    "duration": 315,
    "start_time": "2022-02-22T11:02:04.010Z"
   },
   {
    "duration": 373,
    "start_time": "2022-02-22T11:02:04.327Z"
   },
   {
    "duration": 28,
    "start_time": "2022-02-22T11:02:04.703Z"
   },
   {
    "duration": 982,
    "start_time": "2022-02-22T11:38:28.859Z"
   },
   {
    "duration": 857,
    "start_time": "2022-02-22T11:38:38.747Z"
   },
   {
    "duration": 378,
    "start_time": "2022-02-22T11:39:51.687Z"
   },
   {
    "duration": 288,
    "start_time": "2022-02-22T11:41:11.394Z"
   },
   {
    "duration": 47274,
    "start_time": "2022-02-22T11:41:21.029Z"
   },
   {
    "duration": 39128,
    "start_time": "2022-02-22T11:43:28.063Z"
   },
   {
    "duration": 7,
    "start_time": "2022-02-22T11:44:07.194Z"
   },
   {
    "duration": 267,
    "start_time": "2022-02-22T12:42:31.706Z"
   },
   {
    "duration": 90,
    "start_time": "2022-02-22T12:43:10.547Z"
   },
   {
    "duration": 307,
    "start_time": "2022-02-22T12:43:23.644Z"
   },
   {
    "duration": 404,
    "start_time": "2022-02-22T12:44:00.360Z"
   },
   {
    "duration": 436,
    "start_time": "2022-02-22T12:44:10.175Z"
   },
   {
    "duration": 367,
    "start_time": "2022-02-22T12:44:26.583Z"
   },
   {
    "duration": 384,
    "start_time": "2022-02-22T12:44:48.218Z"
   },
   {
    "duration": 457,
    "start_time": "2022-02-22T12:44:57.286Z"
   },
   {
    "duration": 3594,
    "start_time": "2022-02-22T12:45:42.473Z"
   },
   {
    "duration": 423,
    "start_time": "2022-02-22T12:45:50.600Z"
   },
   {
    "duration": 27,
    "start_time": "2022-02-22T12:46:25.317Z"
   },
   {
    "duration": 433,
    "start_time": "2022-02-22T12:47:19.573Z"
   },
   {
    "duration": 437,
    "start_time": "2022-02-22T12:47:29.352Z"
   },
   {
    "duration": 352,
    "start_time": "2022-02-22T12:49:04.087Z"
   },
   {
    "duration": 20,
    "start_time": "2022-02-22T13:03:20.292Z"
   },
   {
    "duration": 11,
    "start_time": "2022-02-22T13:04:20.280Z"
   },
   {
    "duration": 288,
    "start_time": "2022-02-22T13:05:33.872Z"
   },
   {
    "duration": 21,
    "start_time": "2022-02-22T13:05:42.182Z"
   },
   {
    "duration": 21,
    "start_time": "2022-02-22T13:05:50.608Z"
   },
   {
    "duration": 90,
    "start_time": "2022-02-22T13:07:55.263Z"
   },
   {
    "duration": 317,
    "start_time": "2022-02-22T13:08:00.155Z"
   },
   {
    "duration": 311,
    "start_time": "2022-02-22T13:08:04.692Z"
   },
   {
    "duration": 21,
    "start_time": "2022-02-22T13:08:18.117Z"
   },
   {
    "duration": 24,
    "start_time": "2022-02-22T13:08:35.592Z"
   },
   {
    "duration": 25,
    "start_time": "2022-02-22T13:08:51.593Z"
   },
   {
    "duration": 24,
    "start_time": "2022-02-22T13:09:03.882Z"
   },
   {
    "duration": 327,
    "start_time": "2022-02-22T13:10:13.834Z"
   },
   {
    "duration": 327,
    "start_time": "2022-02-22T13:10:28.795Z"
   },
   {
    "duration": 12,
    "start_time": "2022-02-22T13:13:44.415Z"
   },
   {
    "duration": 12,
    "start_time": "2022-02-22T13:13:58.682Z"
   },
   {
    "duration": 11,
    "start_time": "2022-02-22T13:14:20.979Z"
   },
   {
    "duration": 8,
    "start_time": "2022-02-22T13:15:05.733Z"
   },
   {
    "duration": 8,
    "start_time": "2022-02-22T13:15:08.658Z"
   },
   {
    "duration": 75,
    "start_time": "2022-02-22T13:16:33.346Z"
   },
   {
    "duration": 9,
    "start_time": "2022-02-22T13:16:45.495Z"
   },
   {
    "duration": 11,
    "start_time": "2022-02-22T13:16:54.742Z"
   },
   {
    "duration": 11,
    "start_time": "2022-02-22T13:17:13.275Z"
   },
   {
    "duration": 12,
    "start_time": "2022-02-22T13:18:11.443Z"
   },
   {
    "duration": 19,
    "start_time": "2022-02-22T13:18:31.095Z"
   },
   {
    "duration": 317,
    "start_time": "2022-02-22T13:18:56.444Z"
   },
   {
    "duration": 67,
    "start_time": "2022-02-22T13:19:33.221Z"
   },
   {
    "duration": 19,
    "start_time": "2022-02-22T13:20:12.240Z"
   },
   {
    "duration": 18,
    "start_time": "2022-02-22T13:21:26.942Z"
   },
   {
    "duration": 268,
    "start_time": "2022-02-22T15:33:05.138Z"
   },
   {
    "duration": 251,
    "start_time": "2022-02-22T15:33:10.897Z"
   },
   {
    "duration": 777,
    "start_time": "2022-02-22T15:33:16.978Z"
   },
   {
    "duration": 93,
    "start_time": "2022-02-22T15:33:17.758Z"
   },
   {
    "duration": 47,
    "start_time": "2022-02-22T15:33:17.854Z"
   },
   {
    "duration": 21,
    "start_time": "2022-02-22T15:33:17.903Z"
   },
   {
    "duration": 5,
    "start_time": "2022-02-22T15:33:17.927Z"
   },
   {
    "duration": 10,
    "start_time": "2022-02-22T15:33:17.934Z"
   },
   {
    "duration": 14,
    "start_time": "2022-02-22T15:33:17.945Z"
   },
   {
    "duration": 9,
    "start_time": "2022-02-22T15:33:17.961Z"
   },
   {
    "duration": 5,
    "start_time": "2022-02-22T15:33:17.972Z"
   },
   {
    "duration": 7,
    "start_time": "2022-02-22T15:33:17.979Z"
   },
   {
    "duration": 47,
    "start_time": "2022-02-22T15:33:17.988Z"
   },
   {
    "duration": 47,
    "start_time": "2022-02-22T15:33:18.036Z"
   },
   {
    "duration": 8,
    "start_time": "2022-02-22T15:33:18.085Z"
   },
   {
    "duration": 26,
    "start_time": "2022-02-22T15:33:18.095Z"
   },
   {
    "duration": 11,
    "start_time": "2022-02-22T15:33:18.123Z"
   },
   {
    "duration": 15,
    "start_time": "2022-02-22T15:33:18.136Z"
   },
   {
    "duration": 9,
    "start_time": "2022-02-22T15:33:18.153Z"
   },
   {
    "duration": 26,
    "start_time": "2022-02-22T15:33:18.165Z"
   },
   {
    "duration": 14,
    "start_time": "2022-02-22T15:33:18.193Z"
   },
   {
    "duration": 13,
    "start_time": "2022-02-22T15:33:18.208Z"
   },
   {
    "duration": 8,
    "start_time": "2022-02-22T15:33:18.223Z"
   },
   {
    "duration": 11,
    "start_time": "2022-02-22T15:33:18.233Z"
   },
   {
    "duration": 6,
    "start_time": "2022-02-22T15:33:18.246Z"
   },
   {
    "duration": 12,
    "start_time": "2022-02-22T15:33:18.254Z"
   },
   {
    "duration": 4,
    "start_time": "2022-02-22T15:33:18.267Z"
   },
   {
    "duration": 640,
    "start_time": "2022-02-22T15:33:18.273Z"
   },
   {
    "duration": 4,
    "start_time": "2022-02-22T15:33:18.920Z"
   },
   {
    "duration": 6,
    "start_time": "2022-02-22T15:33:18.926Z"
   },
   {
    "duration": 6,
    "start_time": "2022-02-22T15:33:18.933Z"
   },
   {
    "duration": 11,
    "start_time": "2022-02-22T15:33:18.940Z"
   },
   {
    "duration": 7,
    "start_time": "2022-02-22T15:33:18.952Z"
   },
   {
    "duration": 483,
    "start_time": "2022-02-22T15:33:18.961Z"
   },
   {
    "duration": 383,
    "start_time": "2022-02-22T15:33:19.445Z"
   },
   {
    "duration": 362,
    "start_time": "2022-02-22T15:33:19.831Z"
   },
   {
    "duration": 353,
    "start_time": "2022-02-22T15:33:20.194Z"
   },
   {
    "duration": 331,
    "start_time": "2022-02-22T15:33:20.550Z"
   },
   {
    "duration": 421,
    "start_time": "2022-02-22T15:33:20.883Z"
   },
   {
    "duration": 203,
    "start_time": "2022-02-22T15:33:21.306Z"
   },
   {
    "duration": 198,
    "start_time": "2022-02-22T15:33:21.511Z"
   },
   {
    "duration": 194,
    "start_time": "2022-02-22T15:33:21.711Z"
   },
   {
    "duration": 206,
    "start_time": "2022-02-22T15:33:21.907Z"
   },
   {
    "duration": 294,
    "start_time": "2022-02-22T15:33:22.119Z"
   },
   {
    "duration": 10,
    "start_time": "2022-02-22T15:33:22.416Z"
   },
   {
    "duration": 14,
    "start_time": "2022-02-22T15:33:22.428Z"
   },
   {
    "duration": 12,
    "start_time": "2022-02-22T15:33:22.444Z"
   },
   {
    "duration": 9,
    "start_time": "2022-02-22T15:33:22.458Z"
   },
   {
    "duration": 58,
    "start_time": "2022-02-22T15:33:22.469Z"
   },
   {
    "duration": 8,
    "start_time": "2022-02-22T15:33:22.528Z"
   },
   {
    "duration": 5,
    "start_time": "2022-02-22T15:33:22.537Z"
   },
   {
    "duration": 551,
    "start_time": "2022-02-22T15:33:22.544Z"
   },
   {
    "duration": 6,
    "start_time": "2022-02-22T15:33:23.097Z"
   },
   {
    "duration": 226,
    "start_time": "2022-02-22T15:33:23.104Z"
   },
   {
    "duration": 5,
    "start_time": "2022-02-22T15:33:23.332Z"
   },
   {
    "duration": 566,
    "start_time": "2022-02-22T15:33:23.339Z"
   },
   {
    "duration": 174,
    "start_time": "2022-02-22T15:33:23.907Z"
   },
   {
    "duration": 280,
    "start_time": "2022-02-22T15:33:24.083Z"
   },
   {
    "duration": 240,
    "start_time": "2022-02-22T15:33:24.364Z"
   },
   {
    "duration": 217,
    "start_time": "2022-02-22T15:33:24.606Z"
   },
   {
    "duration": 243,
    "start_time": "2022-02-22T15:33:24.825Z"
   },
   {
    "duration": 2250,
    "start_time": "2022-02-22T15:33:22.820Z"
   },
   {
    "duration": 2247,
    "start_time": "2022-02-22T15:33:22.824Z"
   },
   {
    "duration": 2245,
    "start_time": "2022-02-22T15:33:22.827Z"
   },
   {
    "duration": 2243,
    "start_time": "2022-02-22T15:33:22.830Z"
   },
   {
    "duration": 7,
    "start_time": "2022-02-22T15:34:20.018Z"
   },
   {
    "duration": 10,
    "start_time": "2022-02-22T15:35:00.150Z"
   },
   {
    "duration": 9,
    "start_time": "2022-02-22T15:39:40.644Z"
   },
   {
    "duration": 6,
    "start_time": "2022-02-22T15:40:08.154Z"
   },
   {
    "duration": 5,
    "start_time": "2022-02-22T15:40:35.904Z"
   },
   {
    "duration": 4,
    "start_time": "2022-02-22T15:40:47.553Z"
   },
   {
    "duration": 7,
    "start_time": "2022-02-22T15:40:57.273Z"
   },
   {
    "duration": 4,
    "start_time": "2022-02-22T15:40:58.839Z"
   },
   {
    "duration": 6,
    "start_time": "2022-02-22T15:41:08.322Z"
   },
   {
    "duration": 5,
    "start_time": "2022-02-22T15:41:08.471Z"
   },
   {
    "duration": 15,
    "start_time": "2022-02-22T15:41:27.712Z"
   },
   {
    "duration": 12,
    "start_time": "2022-02-22T15:42:03.713Z"
   },
   {
    "duration": 43,
    "start_time": "2022-02-22T15:42:25.383Z"
   },
   {
    "duration": 44,
    "start_time": "2022-02-22T15:42:38.202Z"
   },
   {
    "duration": 8,
    "start_time": "2022-02-22T15:43:20.733Z"
   },
   {
    "duration": 13,
    "start_time": "2022-02-22T15:44:17.402Z"
   },
   {
    "duration": 7,
    "start_time": "2022-02-22T15:45:52.932Z"
   },
   {
    "duration": 10,
    "start_time": "2022-02-22T15:46:01.529Z"
   },
   {
    "duration": 6,
    "start_time": "2022-02-22T15:46:36.779Z"
   },
   {
    "duration": 8,
    "start_time": "2022-02-22T15:46:47.180Z"
   },
   {
    "duration": 4,
    "start_time": "2022-02-22T15:47:15.797Z"
   },
   {
    "duration": 5,
    "start_time": "2022-02-22T15:47:23.456Z"
   },
   {
    "duration": 6,
    "start_time": "2022-02-22T15:47:42.089Z"
   },
   {
    "duration": 11,
    "start_time": "2022-02-22T15:48:13.258Z"
   },
   {
    "duration": 40,
    "start_time": "2022-02-22T15:48:19.639Z"
   },
   {
    "duration": 9,
    "start_time": "2022-02-22T15:49:01.901Z"
   },
   {
    "duration": 44,
    "start_time": "2022-02-22T15:49:13.000Z"
   },
   {
    "duration": 12,
    "start_time": "2022-02-22T15:52:21.544Z"
   },
   {
    "duration": 13,
    "start_time": "2022-02-22T15:52:29.322Z"
   },
   {
    "duration": 13,
    "start_time": "2022-02-22T15:52:35.960Z"
   },
   {
    "duration": 266,
    "start_time": "2022-02-22T15:56:55.271Z"
   },
   {
    "duration": 60,
    "start_time": "2022-02-22T15:57:03.506Z"
   },
   {
    "duration": 24,
    "start_time": "2022-02-22T15:57:27.534Z"
   },
   {
    "duration": 27,
    "start_time": "2022-02-22T15:57:49.314Z"
   },
   {
    "duration": 6,
    "start_time": "2022-02-22T16:04:37.849Z"
   },
   {
    "duration": 12,
    "start_time": "2022-02-22T16:05:30.182Z"
   },
   {
    "duration": 6,
    "start_time": "2022-02-22T16:05:54.066Z"
   },
   {
    "duration": 39,
    "start_time": "2022-02-22T16:06:04.765Z"
   },
   {
    "duration": 46,
    "start_time": "2022-02-22T16:06:51.449Z"
   },
   {
    "duration": 26,
    "start_time": "2022-02-22T16:07:06.409Z"
   },
   {
    "duration": 7,
    "start_time": "2022-02-22T16:07:44.111Z"
   },
   {
    "duration": 5,
    "start_time": "2022-02-22T16:07:58.149Z"
   },
   {
    "duration": 17,
    "start_time": "2022-02-22T16:09:07.614Z"
   },
   {
    "duration": 9,
    "start_time": "2022-02-22T16:09:29.789Z"
   },
   {
    "duration": 6,
    "start_time": "2022-02-22T16:11:10.303Z"
   },
   {
    "duration": 8,
    "start_time": "2022-02-22T16:11:18.104Z"
   },
   {
    "duration": 49,
    "start_time": "2022-02-22T16:12:24.155Z"
   },
   {
    "duration": 44,
    "start_time": "2022-02-22T16:12:54.134Z"
   },
   {
    "duration": 30,
    "start_time": "2022-02-22T16:14:17.803Z"
   },
   {
    "duration": 44,
    "start_time": "2022-02-22T16:14:42.932Z"
   },
   {
    "duration": 64,
    "start_time": "2022-02-22T16:15:54.315Z"
   },
   {
    "duration": 42,
    "start_time": "2022-02-22T16:16:03.513Z"
   },
   {
    "duration": 13,
    "start_time": "2022-02-22T16:19:09.421Z"
   },
   {
    "duration": 46,
    "start_time": "2022-02-22T16:19:15.963Z"
   },
   {
    "duration": 12,
    "start_time": "2022-02-22T16:22:11.379Z"
   },
   {
    "duration": 14,
    "start_time": "2022-02-22T16:22:21.729Z"
   },
   {
    "duration": 282,
    "start_time": "2022-02-22T16:25:56.831Z"
   },
   {
    "duration": 3,
    "start_time": "2022-02-22T16:26:01.480Z"
   },
   {
    "duration": 67,
    "start_time": "2022-02-22T16:26:01.711Z"
   },
   {
    "duration": 296,
    "start_time": "2022-02-22T18:00:08.859Z"
   },
   {
    "duration": 622,
    "start_time": "2022-02-22T18:00:17.903Z"
   },
   {
    "duration": 76,
    "start_time": "2022-02-22T18:00:18.526Z"
   },
   {
    "duration": 44,
    "start_time": "2022-02-22T18:00:18.604Z"
   },
   {
    "duration": 12,
    "start_time": "2022-02-22T18:00:18.650Z"
   },
   {
    "duration": 4,
    "start_time": "2022-02-22T18:00:18.664Z"
   },
   {
    "duration": 3,
    "start_time": "2022-02-22T18:00:18.670Z"
   },
   {
    "duration": 17,
    "start_time": "2022-02-22T18:00:18.675Z"
   },
   {
    "duration": 7,
    "start_time": "2022-02-22T18:00:18.695Z"
   },
   {
    "duration": 8,
    "start_time": "2022-02-22T18:00:18.704Z"
   },
   {
    "duration": 24,
    "start_time": "2022-02-22T18:00:18.713Z"
   },
   {
    "duration": 25,
    "start_time": "2022-02-22T18:00:18.741Z"
   },
   {
    "duration": 35,
    "start_time": "2022-02-22T18:00:18.768Z"
   },
   {
    "duration": 28,
    "start_time": "2022-02-22T18:00:18.805Z"
   },
   {
    "duration": 5,
    "start_time": "2022-02-22T18:00:18.835Z"
   },
   {
    "duration": 5,
    "start_time": "2022-02-22T18:00:18.842Z"
   },
   {
    "duration": 4,
    "start_time": "2022-02-22T18:00:18.849Z"
   },
   {
    "duration": 5,
    "start_time": "2022-02-22T18:00:18.855Z"
   },
   {
    "duration": 15,
    "start_time": "2022-02-22T18:00:18.861Z"
   },
   {
    "duration": 11,
    "start_time": "2022-02-22T18:00:18.877Z"
   },
   {
    "duration": 7,
    "start_time": "2022-02-22T18:00:18.889Z"
   },
   {
    "duration": 8,
    "start_time": "2022-02-22T18:00:18.898Z"
   },
   {
    "duration": 37,
    "start_time": "2022-02-22T18:00:18.907Z"
   },
   {
    "duration": 6,
    "start_time": "2022-02-22T18:00:18.948Z"
   },
   {
    "duration": 6,
    "start_time": "2022-02-22T18:00:18.956Z"
   },
   {
    "duration": 5,
    "start_time": "2022-02-22T18:00:18.964Z"
   },
   {
    "duration": 593,
    "start_time": "2022-02-22T18:00:18.970Z"
   },
   {
    "duration": 3,
    "start_time": "2022-02-22T18:00:19.565Z"
   },
   {
    "duration": 6,
    "start_time": "2022-02-22T18:00:19.570Z"
   },
   {
    "duration": 6,
    "start_time": "2022-02-22T18:00:19.578Z"
   },
   {
    "duration": 6,
    "start_time": "2022-02-22T18:00:19.585Z"
   },
   {
    "duration": 3,
    "start_time": "2022-02-22T18:00:19.593Z"
   },
   {
    "duration": 551,
    "start_time": "2022-02-22T18:00:19.597Z"
   },
   {
    "duration": 433,
    "start_time": "2022-02-22T18:00:20.150Z"
   },
   {
    "duration": 415,
    "start_time": "2022-02-22T18:00:20.585Z"
   },
   {
    "duration": 394,
    "start_time": "2022-02-22T18:00:21.002Z"
   },
   {
    "duration": 392,
    "start_time": "2022-02-22T18:00:21.398Z"
   },
   {
    "duration": 475,
    "start_time": "2022-02-22T18:00:21.791Z"
   },
   {
    "duration": 233,
    "start_time": "2022-02-22T18:00:22.267Z"
   },
   {
    "duration": 179,
    "start_time": "2022-02-22T18:00:22.502Z"
   },
   {
    "duration": 174,
    "start_time": "2022-02-22T18:00:22.683Z"
   },
   {
    "duration": 182,
    "start_time": "2022-02-22T18:00:22.859Z"
   },
   {
    "duration": 266,
    "start_time": "2022-02-22T18:00:23.043Z"
   },
   {
    "duration": 7,
    "start_time": "2022-02-22T18:00:23.311Z"
   },
   {
    "duration": 22,
    "start_time": "2022-02-22T18:00:23.319Z"
   },
   {
    "duration": 10,
    "start_time": "2022-02-22T18:00:23.343Z"
   },
   {
    "duration": 8,
    "start_time": "2022-02-22T18:00:23.355Z"
   },
   {
    "duration": 19,
    "start_time": "2022-02-22T18:00:23.364Z"
   },
   {
    "duration": 6,
    "start_time": "2022-02-22T18:00:23.385Z"
   },
   {
    "duration": 3,
    "start_time": "2022-02-22T18:00:23.393Z"
   },
   {
    "duration": 497,
    "start_time": "2022-02-22T18:00:23.398Z"
   },
   {
    "duration": 5,
    "start_time": "2022-02-22T18:00:23.897Z"
   },
   {
    "duration": 206,
    "start_time": "2022-02-22T18:00:23.903Z"
   },
   {
    "duration": 4,
    "start_time": "2022-02-22T18:00:24.111Z"
   },
   {
    "duration": 491,
    "start_time": "2022-02-22T18:00:24.116Z"
   },
   {
    "duration": 165,
    "start_time": "2022-02-22T18:00:24.609Z"
   },
   {
    "duration": 262,
    "start_time": "2022-02-22T18:00:24.776Z"
   },
   {
    "duration": 218,
    "start_time": "2022-02-22T18:00:25.040Z"
   },
   {
    "duration": 198,
    "start_time": "2022-02-22T18:00:25.260Z"
   },
   {
    "duration": 3,
    "start_time": "2022-02-22T18:00:25.460Z"
   },
   {
    "duration": 43,
    "start_time": "2022-02-22T18:00:25.464Z"
   },
   {
    "duration": 4,
    "start_time": "2022-02-22T18:00:25.509Z"
   },
   {
    "duration": 28,
    "start_time": "2022-02-22T18:00:25.515Z"
   },
   {
    "duration": 18,
    "start_time": "2022-02-22T18:00:25.545Z"
   },
   {
    "duration": 38,
    "start_time": "2022-02-22T18:00:25.565Z"
   },
   {
    "duration": 7,
    "start_time": "2022-02-22T18:00:25.605Z"
   },
   {
    "duration": 25,
    "start_time": "2022-02-22T18:00:25.613Z"
   },
   {
    "duration": 8,
    "start_time": "2022-02-22T18:00:25.643Z"
   },
   {
    "duration": 51,
    "start_time": "2022-02-22T18:00:25.656Z"
   },
   {
    "duration": 30,
    "start_time": "2022-02-22T18:00:25.709Z"
   },
   {
    "duration": 47,
    "start_time": "2022-02-22T18:00:25.742Z"
   },
   {
    "duration": 9,
    "start_time": "2022-02-22T18:00:25.791Z"
   },
   {
    "duration": 9,
    "start_time": "2022-02-22T18:01:30.860Z"
   },
   {
    "duration": 46,
    "start_time": "2022-02-22T18:01:41.319Z"
   },
   {
    "duration": 38,
    "start_time": "2022-02-22T18:02:04.408Z"
   },
   {
    "duration": 10,
    "start_time": "2022-02-22T18:02:33.915Z"
   },
   {
    "duration": 11,
    "start_time": "2022-02-22T18:05:21.917Z"
   },
   {
    "duration": 6,
    "start_time": "2022-02-22T18:06:20.889Z"
   },
   {
    "duration": 8,
    "start_time": "2022-02-22T18:06:29.319Z"
   },
   {
    "duration": 9,
    "start_time": "2022-02-22T18:06:56.128Z"
   },
   {
    "duration": 1180,
    "start_time": "2022-02-22T18:08:35.208Z"
   },
   {
    "duration": 693,
    "start_time": "2022-02-22T18:08:39.730Z"
   },
   {
    "duration": 16,
    "start_time": "2022-02-22T18:08:43.134Z"
   },
   {
    "duration": 3,
    "start_time": "2022-02-22T18:10:56.592Z"
   },
   {
    "duration": 94,
    "start_time": "2022-02-22T18:10:56.597Z"
   },
   {
    "duration": 63,
    "start_time": "2022-02-22T18:10:56.693Z"
   },
   {
    "duration": 12,
    "start_time": "2022-02-22T18:10:56.758Z"
   },
   {
    "duration": 17,
    "start_time": "2022-02-22T18:10:56.771Z"
   },
   {
    "duration": 18,
    "start_time": "2022-02-22T18:10:56.790Z"
   },
   {
    "duration": 39,
    "start_time": "2022-02-22T18:10:56.810Z"
   },
   {
    "duration": 20,
    "start_time": "2022-02-22T18:10:56.851Z"
   },
   {
    "duration": 8,
    "start_time": "2022-02-22T18:10:56.873Z"
   },
   {
    "duration": 13,
    "start_time": "2022-02-22T18:10:56.883Z"
   },
   {
    "duration": 25,
    "start_time": "2022-02-22T18:10:56.898Z"
   },
   {
    "duration": 40,
    "start_time": "2022-02-22T18:10:56.924Z"
   },
   {
    "duration": 7,
    "start_time": "2022-02-22T18:10:56.966Z"
   },
   {
    "duration": 12,
    "start_time": "2022-02-22T18:10:56.975Z"
   },
   {
    "duration": 22,
    "start_time": "2022-02-22T18:10:56.989Z"
   },
   {
    "duration": 21,
    "start_time": "2022-02-22T18:10:57.013Z"
   },
   {
    "duration": 22,
    "start_time": "2022-02-22T18:10:57.036Z"
   },
   {
    "duration": 19,
    "start_time": "2022-02-22T18:10:57.059Z"
   },
   {
    "duration": 11,
    "start_time": "2022-02-22T18:10:57.082Z"
   },
   {
    "duration": 21,
    "start_time": "2022-02-22T18:10:57.096Z"
   },
   {
    "duration": 21,
    "start_time": "2022-02-22T18:10:57.118Z"
   },
   {
    "duration": 21,
    "start_time": "2022-02-22T18:10:57.140Z"
   },
   {
    "duration": 22,
    "start_time": "2022-02-22T18:10:57.163Z"
   },
   {
    "duration": 17,
    "start_time": "2022-02-22T18:10:57.187Z"
   },
   {
    "duration": 17,
    "start_time": "2022-02-22T18:10:57.206Z"
   },
   {
    "duration": 633,
    "start_time": "2022-02-22T18:10:57.224Z"
   },
   {
    "duration": 4,
    "start_time": "2022-02-22T18:10:57.858Z"
   },
   {
    "duration": 25,
    "start_time": "2022-02-22T18:10:57.863Z"
   },
   {
    "duration": 25,
    "start_time": "2022-02-22T18:10:57.890Z"
   },
   {
    "duration": 24,
    "start_time": "2022-02-22T18:10:57.917Z"
   },
   {
    "duration": 24,
    "start_time": "2022-02-22T18:10:57.942Z"
   },
   {
    "duration": 340,
    "start_time": "2022-02-22T18:10:57.967Z"
   },
   {
    "duration": 348,
    "start_time": "2022-02-22T18:10:58.308Z"
   },
   {
    "duration": 392,
    "start_time": "2022-02-22T18:10:58.658Z"
   },
   {
    "duration": 324,
    "start_time": "2022-02-22T18:10:59.051Z"
   },
   {
    "duration": 307,
    "start_time": "2022-02-22T18:10:59.377Z"
   },
   {
    "duration": 303,
    "start_time": "2022-02-22T18:10:59.686Z"
   },
   {
    "duration": 192,
    "start_time": "2022-02-22T18:10:59.991Z"
   },
   {
    "duration": 182,
    "start_time": "2022-02-22T18:11:00.185Z"
   },
   {
    "duration": 264,
    "start_time": "2022-02-22T18:11:00.369Z"
   },
   {
    "duration": 187,
    "start_time": "2022-02-22T18:11:00.635Z"
   },
   {
    "duration": 397,
    "start_time": "2022-02-22T18:11:00.823Z"
   },
   {
    "duration": 18,
    "start_time": "2022-02-22T18:11:01.221Z"
   },
   {
    "duration": 19,
    "start_time": "2022-02-22T18:11:01.241Z"
   },
   {
    "duration": 32,
    "start_time": "2022-02-22T18:11:01.262Z"
   },
   {
    "duration": 37,
    "start_time": "2022-02-22T18:11:01.296Z"
   },
   {
    "duration": 29,
    "start_time": "2022-02-22T18:11:01.336Z"
   },
   {
    "duration": 8,
    "start_time": "2022-02-22T18:11:01.367Z"
   },
   {
    "duration": 23,
    "start_time": "2022-02-22T18:11:01.377Z"
   },
   {
    "duration": 744,
    "start_time": "2022-02-22T18:11:01.402Z"
   },
   {
    "duration": 5,
    "start_time": "2022-02-22T18:11:02.148Z"
   },
   {
    "duration": 197,
    "start_time": "2022-02-22T18:11:02.155Z"
   },
   {
    "duration": 5,
    "start_time": "2022-02-22T18:11:02.354Z"
   },
   {
    "duration": 537,
    "start_time": "2022-02-22T18:11:02.361Z"
   },
   {
    "duration": 183,
    "start_time": "2022-02-22T18:11:02.902Z"
   },
   {
    "duration": 199,
    "start_time": "2022-02-22T18:11:03.087Z"
   },
   {
    "duration": 221,
    "start_time": "2022-02-22T18:11:03.287Z"
   },
   {
    "duration": 209,
    "start_time": "2022-02-22T18:11:03.509Z"
   },
   {
    "duration": 14,
    "start_time": "2022-02-22T18:11:03.720Z"
   },
   {
    "duration": 267,
    "start_time": "2022-02-22T18:11:03.736Z"
   },
   {
    "duration": 31,
    "start_time": "2022-02-22T18:11:04.159Z"
   },
   {
    "duration": 7,
    "start_time": "2022-02-22T18:11:23.230Z"
   },
   {
    "duration": 77,
    "start_time": "2022-02-22T18:18:55.745Z"
   },
   {
    "duration": 3,
    "start_time": "2022-02-22T18:19:06.162Z"
   },
   {
    "duration": 8,
    "start_time": "2022-02-22T18:19:13.825Z"
   },
   {
    "duration": 38,
    "start_time": "2022-02-22T18:19:17.306Z"
   },
   {
    "duration": 32,
    "start_time": "2022-02-22T18:19:44.481Z"
   },
   {
    "duration": 44,
    "start_time": "2022-02-22T18:19:56.706Z"
   },
   {
    "duration": 7,
    "start_time": "2022-02-22T18:20:33.098Z"
   },
   {
    "duration": 46,
    "start_time": "2022-02-22T18:20:33.531Z"
   },
   {
    "duration": 266,
    "start_time": "2022-02-22T18:22:11.612Z"
   },
   {
    "duration": 7,
    "start_time": "2022-02-22T18:22:21.758Z"
   },
   {
    "duration": 322,
    "start_time": "2022-02-22T18:22:22.133Z"
   },
   {
    "duration": 3,
    "start_time": "2022-02-22T18:22:39.718Z"
   },
   {
    "duration": 71,
    "start_time": "2022-02-22T18:22:39.723Z"
   },
   {
    "duration": 45,
    "start_time": "2022-02-22T18:22:39.797Z"
   },
   {
    "duration": 12,
    "start_time": "2022-02-22T18:22:39.845Z"
   },
   {
    "duration": 5,
    "start_time": "2022-02-22T18:22:39.859Z"
   },
   {
    "duration": 3,
    "start_time": "2022-02-22T18:22:39.865Z"
   },
   {
    "duration": 9,
    "start_time": "2022-02-22T18:22:39.870Z"
   },
   {
    "duration": 3,
    "start_time": "2022-02-22T18:22:39.881Z"
   },
   {
    "duration": 7,
    "start_time": "2022-02-22T18:22:39.886Z"
   },
   {
    "duration": 37,
    "start_time": "2022-02-22T18:22:39.895Z"
   },
   {
    "duration": 23,
    "start_time": "2022-02-22T18:22:39.940Z"
   },
   {
    "duration": 38,
    "start_time": "2022-02-22T18:22:39.964Z"
   },
   {
    "duration": 30,
    "start_time": "2022-02-22T18:22:40.003Z"
   },
   {
    "duration": 6,
    "start_time": "2022-02-22T18:22:40.044Z"
   },
   {
    "duration": 5,
    "start_time": "2022-02-22T18:22:40.052Z"
   },
   {
    "duration": 4,
    "start_time": "2022-02-22T18:22:40.058Z"
   },
   {
    "duration": 7,
    "start_time": "2022-02-22T18:22:40.064Z"
   },
   {
    "duration": 13,
    "start_time": "2022-02-22T18:22:40.073Z"
   },
   {
    "duration": 10,
    "start_time": "2022-02-22T18:22:40.088Z"
   },
   {
    "duration": 7,
    "start_time": "2022-02-22T18:22:40.100Z"
   },
   {
    "duration": 10,
    "start_time": "2022-02-22T18:22:40.132Z"
   },
   {
    "duration": 6,
    "start_time": "2022-02-22T18:22:40.145Z"
   },
   {
    "duration": 9,
    "start_time": "2022-02-22T18:22:40.153Z"
   },
   {
    "duration": 11,
    "start_time": "2022-02-22T18:22:40.163Z"
   },
   {
    "duration": 5,
    "start_time": "2022-02-22T18:22:40.176Z"
   },
   {
    "duration": 648,
    "start_time": "2022-02-22T18:22:40.182Z"
   },
   {
    "duration": 4,
    "start_time": "2022-02-22T18:22:40.834Z"
   },
   {
    "duration": 7,
    "start_time": "2022-02-22T18:22:40.840Z"
   },
   {
    "duration": 4,
    "start_time": "2022-02-22T18:22:40.849Z"
   },
   {
    "duration": 4,
    "start_time": "2022-02-22T18:22:40.854Z"
   },
   {
    "duration": 3,
    "start_time": "2022-02-22T18:22:40.860Z"
   },
   {
    "duration": 323,
    "start_time": "2022-02-22T18:22:40.864Z"
   },
   {
    "duration": 437,
    "start_time": "2022-02-22T18:22:41.189Z"
   },
   {
    "duration": 327,
    "start_time": "2022-02-22T18:22:41.628Z"
   },
   {
    "duration": 326,
    "start_time": "2022-02-22T18:22:41.956Z"
   },
   {
    "duration": 311,
    "start_time": "2022-02-22T18:22:42.284Z"
   },
   {
    "duration": 386,
    "start_time": "2022-02-22T18:22:42.597Z"
   },
   {
    "duration": 193,
    "start_time": "2022-02-22T18:22:42.985Z"
   },
   {
    "duration": 175,
    "start_time": "2022-02-22T18:22:43.180Z"
   },
   {
    "duration": 173,
    "start_time": "2022-02-22T18:22:43.357Z"
   },
   {
    "duration": 202,
    "start_time": "2022-02-22T18:22:43.532Z"
   },
   {
    "duration": 278,
    "start_time": "2022-02-22T18:22:43.736Z"
   },
   {
    "duration": 16,
    "start_time": "2022-02-22T18:22:44.016Z"
   },
   {
    "duration": 11,
    "start_time": "2022-02-22T18:22:44.034Z"
   },
   {
    "duration": 8,
    "start_time": "2022-02-22T18:22:44.046Z"
   },
   {
    "duration": 8,
    "start_time": "2022-02-22T18:22:44.059Z"
   },
   {
    "duration": 19,
    "start_time": "2022-02-22T18:22:44.068Z"
   },
   {
    "duration": 7,
    "start_time": "2022-02-22T18:22:44.088Z"
   },
   {
    "duration": 43,
    "start_time": "2022-02-22T18:22:44.096Z"
   },
   {
    "duration": 484,
    "start_time": "2022-02-22T18:22:44.141Z"
   },
   {
    "duration": 12,
    "start_time": "2022-02-22T18:22:44.631Z"
   },
   {
    "duration": 201,
    "start_time": "2022-02-22T18:22:44.645Z"
   },
   {
    "duration": 4,
    "start_time": "2022-02-22T18:22:44.848Z"
   },
   {
    "duration": 503,
    "start_time": "2022-02-22T18:22:44.854Z"
   },
   {
    "duration": 151,
    "start_time": "2022-02-22T18:22:45.358Z"
   },
   {
    "duration": 240,
    "start_time": "2022-02-22T18:22:45.510Z"
   },
   {
    "duration": 202,
    "start_time": "2022-02-22T18:22:45.752Z"
   },
   {
    "duration": 238,
    "start_time": "2022-02-22T18:22:45.955Z"
   },
   {
    "duration": 6,
    "start_time": "2022-02-22T18:22:46.195Z"
   },
   {
    "duration": 312,
    "start_time": "2022-02-22T18:22:46.203Z"
   },
   {
    "duration": 1981,
    "start_time": "2022-02-22T18:22:44.536Z"
   },
   {
    "duration": 1976,
    "start_time": "2022-02-22T18:22:44.542Z"
   },
   {
    "duration": 1972,
    "start_time": "2022-02-22T18:22:44.547Z"
   },
   {
    "duration": 1967,
    "start_time": "2022-02-22T18:22:44.553Z"
   },
   {
    "duration": 8,
    "start_time": "2022-02-22T18:23:06.982Z"
   },
   {
    "duration": 37,
    "start_time": "2022-02-22T18:23:55.430Z"
   },
   {
    "duration": 8,
    "start_time": "2022-02-22T18:24:15.292Z"
   },
   {
    "duration": 13,
    "start_time": "2022-02-22T18:24:30.693Z"
   },
   {
    "duration": 9,
    "start_time": "2022-02-22T18:26:06.927Z"
   },
   {
    "duration": 41,
    "start_time": "2022-02-22T18:26:10.298Z"
   },
   {
    "duration": 2,
    "start_time": "2022-02-22T18:26:24.108Z"
   },
   {
    "duration": 4,
    "start_time": "2022-02-22T18:31:49.656Z"
   },
   {
    "duration": 9,
    "start_time": "2022-02-22T18:31:50.048Z"
   },
   {
    "duration": 4,
    "start_time": "2022-02-22T18:33:56.722Z"
   },
   {
    "duration": 104,
    "start_time": "2022-02-22T18:34:31.043Z"
   },
   {
    "duration": 38,
    "start_time": "2022-02-22T18:34:47.761Z"
   },
   {
    "duration": 4,
    "start_time": "2022-02-22T18:35:43.472Z"
   },
   {
    "duration": 43,
    "start_time": "2022-02-22T18:35:45.217Z"
   },
   {
    "duration": 46,
    "start_time": "2022-02-22T18:36:05.626Z"
   },
   {
    "duration": 5,
    "start_time": "2022-02-22T18:37:53.543Z"
   },
   {
    "duration": 38,
    "start_time": "2022-02-22T18:38:15.473Z"
   },
   {
    "duration": 40,
    "start_time": "2022-02-22T18:38:29.046Z"
   },
   {
    "duration": 5,
    "start_time": "2022-02-22T18:38:54.175Z"
   },
   {
    "duration": 3,
    "start_time": "2022-02-22T18:38:54.531Z"
   },
   {
    "duration": 4,
    "start_time": "2022-02-22T18:38:55.297Z"
   },
   {
    "duration": 4,
    "start_time": "2022-02-22T18:38:55.747Z"
   },
   {
    "duration": 9,
    "start_time": "2022-02-22T18:38:56.219Z"
   },
   {
    "duration": 3,
    "start_time": "2022-02-22T18:38:56.658Z"
   },
   {
    "duration": 40,
    "start_time": "2022-02-22T18:38:57.345Z"
   },
   {
    "duration": 4,
    "start_time": "2022-02-22T18:39:16.893Z"
   },
   {
    "duration": 6,
    "start_time": "2022-02-22T18:39:25.171Z"
   },
   {
    "duration": 7,
    "start_time": "2022-02-22T18:39:46.499Z"
   },
   {
    "duration": 3,
    "start_time": "2022-02-22T18:46:38.021Z"
   },
   {
    "duration": 68,
    "start_time": "2022-02-22T18:46:38.025Z"
   },
   {
    "duration": 38,
    "start_time": "2022-02-22T18:46:38.095Z"
   },
   {
    "duration": 16,
    "start_time": "2022-02-22T18:46:38.134Z"
   },
   {
    "duration": 5,
    "start_time": "2022-02-22T18:46:38.152Z"
   },
   {
    "duration": 4,
    "start_time": "2022-02-22T18:46:38.159Z"
   },
   {
    "duration": 9,
    "start_time": "2022-02-22T18:46:38.165Z"
   },
   {
    "duration": 3,
    "start_time": "2022-02-22T18:46:38.176Z"
   },
   {
    "duration": 5,
    "start_time": "2022-02-22T18:46:38.181Z"
   },
   {
    "duration": 8,
    "start_time": "2022-02-22T18:46:38.187Z"
   },
   {
    "duration": 52,
    "start_time": "2022-02-22T18:46:38.197Z"
   },
   {
    "duration": 37,
    "start_time": "2022-02-22T18:46:38.250Z"
   },
   {
    "duration": 7,
    "start_time": "2022-02-22T18:46:38.289Z"
   },
   {
    "duration": 35,
    "start_time": "2022-02-22T18:46:38.297Z"
   },
   {
    "duration": 21,
    "start_time": "2022-02-22T18:46:38.333Z"
   },
   {
    "duration": 15,
    "start_time": "2022-02-22T18:46:38.356Z"
   },
   {
    "duration": 17,
    "start_time": "2022-02-22T18:46:38.373Z"
   },
   {
    "duration": 31,
    "start_time": "2022-02-22T18:46:38.392Z"
   },
   {
    "duration": 20,
    "start_time": "2022-02-22T18:46:38.424Z"
   },
   {
    "duration": 27,
    "start_time": "2022-02-22T18:46:38.445Z"
   },
   {
    "duration": 21,
    "start_time": "2022-02-22T18:46:38.474Z"
   },
   {
    "duration": 18,
    "start_time": "2022-02-22T18:46:38.496Z"
   },
   {
    "duration": 9,
    "start_time": "2022-02-22T18:46:38.517Z"
   },
   {
    "duration": 31,
    "start_time": "2022-02-22T18:46:38.527Z"
   },
   {
    "duration": 5,
    "start_time": "2022-02-22T18:46:38.560Z"
   },
   {
    "duration": 581,
    "start_time": "2022-02-22T18:46:38.566Z"
   },
   {
    "duration": 4,
    "start_time": "2022-02-22T18:46:39.148Z"
   },
   {
    "duration": 11,
    "start_time": "2022-02-22T18:46:39.153Z"
   },
   {
    "duration": 21,
    "start_time": "2022-02-22T18:46:39.166Z"
   },
   {
    "duration": 13,
    "start_time": "2022-02-22T18:46:39.188Z"
   },
   {
    "duration": 10,
    "start_time": "2022-02-22T18:46:39.202Z"
   },
   {
    "duration": 369,
    "start_time": "2022-02-22T18:46:39.213Z"
   },
   {
    "duration": 345,
    "start_time": "2022-02-22T18:46:39.584Z"
   },
   {
    "duration": 390,
    "start_time": "2022-02-22T18:46:39.932Z"
   },
   {
    "duration": 325,
    "start_time": "2022-02-22T18:46:40.324Z"
   },
   {
    "duration": 306,
    "start_time": "2022-02-22T18:46:40.651Z"
   },
   {
    "duration": 406,
    "start_time": "2022-02-22T18:46:40.959Z"
   },
   {
    "duration": 184,
    "start_time": "2022-02-22T18:46:41.367Z"
   },
   {
    "duration": 168,
    "start_time": "2022-02-22T18:46:41.553Z"
   },
   {
    "duration": 169,
    "start_time": "2022-02-22T18:46:41.723Z"
   },
   {
    "duration": 173,
    "start_time": "2022-02-22T18:46:41.893Z"
   },
   {
    "duration": 326,
    "start_time": "2022-02-22T18:46:42.068Z"
   },
   {
    "duration": 8,
    "start_time": "2022-02-22T18:46:42.396Z"
   },
   {
    "duration": 9,
    "start_time": "2022-02-22T18:46:42.406Z"
   },
   {
    "duration": 9,
    "start_time": "2022-02-22T18:46:42.433Z"
   },
   {
    "duration": 8,
    "start_time": "2022-02-22T18:46:42.444Z"
   },
   {
    "duration": 18,
    "start_time": "2022-02-22T18:46:42.454Z"
   },
   {
    "duration": 6,
    "start_time": "2022-02-22T18:46:42.474Z"
   },
   {
    "duration": 4,
    "start_time": "2022-02-22T18:46:42.481Z"
   },
   {
    "duration": 542,
    "start_time": "2022-02-22T18:46:42.486Z"
   },
   {
    "duration": 6,
    "start_time": "2022-02-22T18:46:43.040Z"
   },
   {
    "duration": 203,
    "start_time": "2022-02-22T18:46:43.048Z"
   },
   {
    "duration": 4,
    "start_time": "2022-02-22T18:46:43.253Z"
   },
   {
    "duration": 561,
    "start_time": "2022-02-22T18:46:43.258Z"
   },
   {
    "duration": 168,
    "start_time": "2022-02-22T18:46:43.821Z"
   },
   {
    "duration": 176,
    "start_time": "2022-02-22T18:46:43.991Z"
   },
   {
    "duration": 208,
    "start_time": "2022-02-22T18:46:44.169Z"
   },
   {
    "duration": 181,
    "start_time": "2022-02-22T18:46:44.379Z"
   },
   {
    "duration": 7,
    "start_time": "2022-02-22T18:46:44.561Z"
   },
   {
    "duration": 7,
    "start_time": "2022-02-22T18:46:44.570Z"
   },
   {
    "duration": 3,
    "start_time": "2022-02-22T18:46:44.579Z"
   },
   {
    "duration": 21,
    "start_time": "2022-02-22T18:46:44.583Z"
   },
   {
    "duration": 7,
    "start_time": "2022-02-22T18:46:44.606Z"
   },
   {
    "duration": 53,
    "start_time": "2022-02-22T18:46:44.615Z"
   },
   {
    "duration": 2,
    "start_time": "2022-02-22T18:47:52.083Z"
   },
   {
    "duration": 1570,
    "start_time": "2022-02-22T18:47:52.087Z"
   },
   {
    "duration": 35,
    "start_time": "2022-02-22T18:47:53.659Z"
   },
   {
    "duration": 11,
    "start_time": "2022-02-22T18:47:53.696Z"
   },
   {
    "duration": 31,
    "start_time": "2022-02-22T18:47:53.709Z"
   },
   {
    "duration": 8,
    "start_time": "2022-02-22T18:47:53.742Z"
   },
   {
    "duration": 26,
    "start_time": "2022-02-22T18:47:53.753Z"
   },
   {
    "duration": 12,
    "start_time": "2022-02-22T18:47:53.781Z"
   },
   {
    "duration": 23,
    "start_time": "2022-02-22T18:47:53.794Z"
   },
   {
    "duration": 14,
    "start_time": "2022-02-22T18:47:53.818Z"
   },
   {
    "duration": 37,
    "start_time": "2022-02-22T18:47:53.834Z"
   },
   {
    "duration": 48,
    "start_time": "2022-02-22T18:47:53.872Z"
   },
   {
    "duration": 7,
    "start_time": "2022-02-22T18:47:53.922Z"
   },
   {
    "duration": 5,
    "start_time": "2022-02-22T18:47:53.930Z"
   },
   {
    "duration": 15,
    "start_time": "2022-02-22T18:47:53.937Z"
   },
   {
    "duration": 11,
    "start_time": "2022-02-22T18:47:53.953Z"
   },
   {
    "duration": 31,
    "start_time": "2022-02-22T18:47:53.966Z"
   },
   {
    "duration": 28,
    "start_time": "2022-02-22T18:47:53.998Z"
   },
   {
    "duration": 24,
    "start_time": "2022-02-22T18:47:54.029Z"
   },
   {
    "duration": 8,
    "start_time": "2022-02-22T18:47:54.055Z"
   },
   {
    "duration": 7,
    "start_time": "2022-02-22T18:47:54.065Z"
   },
   {
    "duration": 9,
    "start_time": "2022-02-22T18:47:54.074Z"
   },
   {
    "duration": 8,
    "start_time": "2022-02-22T18:47:54.085Z"
   },
   {
    "duration": 11,
    "start_time": "2022-02-22T18:47:54.095Z"
   },
   {
    "duration": 6,
    "start_time": "2022-02-22T18:47:54.107Z"
   },
   {
    "duration": 657,
    "start_time": "2022-02-22T18:47:54.115Z"
   },
   {
    "duration": 3,
    "start_time": "2022-02-22T18:47:54.774Z"
   },
   {
    "duration": 35,
    "start_time": "2022-02-22T18:47:54.778Z"
   },
   {
    "duration": 52,
    "start_time": "2022-02-22T18:47:54.814Z"
   },
   {
    "duration": 33,
    "start_time": "2022-02-22T18:47:54.868Z"
   },
   {
    "duration": 16,
    "start_time": "2022-02-22T18:47:54.902Z"
   },
   {
    "duration": 320,
    "start_time": "2022-02-22T18:47:54.919Z"
   },
   {
    "duration": 349,
    "start_time": "2022-02-22T18:47:55.240Z"
   },
   {
    "duration": 332,
    "start_time": "2022-02-22T18:47:55.591Z"
   },
   {
    "duration": 323,
    "start_time": "2022-02-22T18:47:55.925Z"
   },
   {
    "duration": 307,
    "start_time": "2022-02-22T18:47:56.250Z"
   },
   {
    "duration": 401,
    "start_time": "2022-02-22T18:47:56.558Z"
   },
   {
    "duration": 195,
    "start_time": "2022-02-22T18:47:56.960Z"
   },
   {
    "duration": 182,
    "start_time": "2022-02-22T18:47:57.156Z"
   },
   {
    "duration": 178,
    "start_time": "2022-02-22T18:47:57.342Z"
   },
   {
    "duration": 189,
    "start_time": "2022-02-22T18:47:57.522Z"
   },
   {
    "duration": 278,
    "start_time": "2022-02-22T18:47:57.713Z"
   },
   {
    "duration": 15,
    "start_time": "2022-02-22T18:47:57.993Z"
   },
   {
    "duration": 10,
    "start_time": "2022-02-22T18:47:58.010Z"
   },
   {
    "duration": 10,
    "start_time": "2022-02-22T18:47:58.035Z"
   },
   {
    "duration": 68,
    "start_time": "2022-02-22T18:47:58.049Z"
   },
   {
    "duration": 25,
    "start_time": "2022-02-22T18:47:58.118Z"
   },
   {
    "duration": 9,
    "start_time": "2022-02-22T18:47:58.144Z"
   },
   {
    "duration": 4,
    "start_time": "2022-02-22T18:47:58.156Z"
   },
   {
    "duration": 546,
    "start_time": "2022-02-22T18:47:58.162Z"
   },
   {
    "duration": 6,
    "start_time": "2022-02-22T18:47:58.710Z"
   },
   {
    "duration": 326,
    "start_time": "2022-02-22T18:47:58.718Z"
   },
   {
    "duration": 5,
    "start_time": "2022-02-22T18:47:59.045Z"
   },
   {
    "duration": 531,
    "start_time": "2022-02-22T18:47:59.052Z"
   },
   {
    "duration": 163,
    "start_time": "2022-02-22T18:47:59.587Z"
   },
   {
    "duration": 252,
    "start_time": "2022-02-22T18:47:59.753Z"
   },
   {
    "duration": 332,
    "start_time": "2022-02-22T18:48:00.007Z"
   },
   {
    "duration": 201,
    "start_time": "2022-02-22T18:48:00.342Z"
   },
   {
    "duration": 11,
    "start_time": "2022-02-22T18:48:00.545Z"
   },
   {
    "duration": 10,
    "start_time": "2022-02-22T18:48:00.558Z"
   },
   {
    "duration": 5,
    "start_time": "2022-02-22T18:48:00.570Z"
   },
   {
    "duration": 16,
    "start_time": "2022-02-22T18:48:00.577Z"
   },
   {
    "duration": 3,
    "start_time": "2022-02-22T18:48:00.595Z"
   },
   {
    "duration": 309,
    "start_time": "2022-02-22T18:48:00.600Z"
   },
   {
    "duration": 40,
    "start_time": "2022-02-22T18:48:19.074Z"
   },
   {
    "duration": 2,
    "start_time": "2022-02-22T18:49:24.059Z"
   },
   {
    "duration": 75,
    "start_time": "2022-02-22T18:49:24.064Z"
   },
   {
    "duration": 37,
    "start_time": "2022-02-22T18:49:24.141Z"
   },
   {
    "duration": 10,
    "start_time": "2022-02-22T18:49:24.180Z"
   },
   {
    "duration": 6,
    "start_time": "2022-02-22T18:49:24.191Z"
   },
   {
    "duration": 3,
    "start_time": "2022-02-22T18:49:24.199Z"
   },
   {
    "duration": 41,
    "start_time": "2022-02-22T18:49:24.204Z"
   },
   {
    "duration": 4,
    "start_time": "2022-02-22T18:49:24.246Z"
   },
   {
    "duration": 3,
    "start_time": "2022-02-22T18:49:24.251Z"
   },
   {
    "duration": 4,
    "start_time": "2022-02-22T18:49:24.255Z"
   },
   {
    "duration": 19,
    "start_time": "2022-02-22T18:49:24.261Z"
   },
   {
    "duration": 76,
    "start_time": "2022-02-22T18:49:24.281Z"
   },
   {
    "duration": 7,
    "start_time": "2022-02-22T18:49:24.358Z"
   },
   {
    "duration": 4,
    "start_time": "2022-02-22T18:49:24.366Z"
   },
   {
    "duration": 4,
    "start_time": "2022-02-22T18:49:24.371Z"
   },
   {
    "duration": 4,
    "start_time": "2022-02-22T18:49:24.376Z"
   },
   {
    "duration": 8,
    "start_time": "2022-02-22T18:49:24.381Z"
   },
   {
    "duration": 16,
    "start_time": "2022-02-22T18:49:24.390Z"
   },
   {
    "duration": 31,
    "start_time": "2022-02-22T18:49:24.409Z"
   },
   {
    "duration": 8,
    "start_time": "2022-02-22T18:49:24.443Z"
   },
   {
    "duration": 6,
    "start_time": "2022-02-22T18:49:24.452Z"
   },
   {
    "duration": 7,
    "start_time": "2022-02-22T18:49:24.460Z"
   },
   {
    "duration": 12,
    "start_time": "2022-02-22T18:49:24.468Z"
   },
   {
    "duration": 7,
    "start_time": "2022-02-22T18:49:24.482Z"
   },
   {
    "duration": 6,
    "start_time": "2022-02-22T18:49:24.491Z"
   },
   {
    "duration": 691,
    "start_time": "2022-02-22T18:49:24.498Z"
   },
   {
    "duration": 4,
    "start_time": "2022-02-22T18:49:25.191Z"
   },
   {
    "duration": 5,
    "start_time": "2022-02-22T18:49:25.197Z"
   },
   {
    "duration": 5,
    "start_time": "2022-02-22T18:49:25.203Z"
   },
   {
    "duration": 9,
    "start_time": "2022-02-22T18:49:25.209Z"
   },
   {
    "duration": 3,
    "start_time": "2022-02-22T18:49:25.236Z"
   },
   {
    "duration": 312,
    "start_time": "2022-02-22T18:49:25.240Z"
   },
   {
    "duration": 335,
    "start_time": "2022-02-22T18:49:25.554Z"
   },
   {
    "duration": 391,
    "start_time": "2022-02-22T18:49:25.890Z"
   },
   {
    "duration": 310,
    "start_time": "2022-02-22T18:49:26.283Z"
   },
   {
    "duration": 304,
    "start_time": "2022-02-22T18:49:26.595Z"
   },
   {
    "duration": 300,
    "start_time": "2022-02-22T18:49:26.900Z"
   },
   {
    "duration": 180,
    "start_time": "2022-02-22T18:49:27.202Z"
   },
   {
    "duration": 168,
    "start_time": "2022-02-22T18:49:27.384Z"
   },
   {
    "duration": 173,
    "start_time": "2022-02-22T18:49:27.553Z"
   },
   {
    "duration": 170,
    "start_time": "2022-02-22T18:49:27.731Z"
   },
   {
    "duration": 370,
    "start_time": "2022-02-22T18:49:27.903Z"
   },
   {
    "duration": 8,
    "start_time": "2022-02-22T18:49:28.275Z"
   },
   {
    "duration": 9,
    "start_time": "2022-02-22T18:49:28.284Z"
   },
   {
    "duration": 6,
    "start_time": "2022-02-22T18:49:28.294Z"
   },
   {
    "duration": 34,
    "start_time": "2022-02-22T18:49:28.302Z"
   },
   {
    "duration": 21,
    "start_time": "2022-02-22T18:49:28.338Z"
   },
   {
    "duration": 14,
    "start_time": "2022-02-22T18:49:28.361Z"
   },
   {
    "duration": 18,
    "start_time": "2022-02-22T18:49:28.377Z"
   },
   {
    "duration": 510,
    "start_time": "2022-02-22T18:49:28.396Z"
   },
   {
    "duration": 5,
    "start_time": "2022-02-22T18:49:28.908Z"
   },
   {
    "duration": 196,
    "start_time": "2022-02-22T18:49:28.914Z"
   },
   {
    "duration": 5,
    "start_time": "2022-02-22T18:49:29.111Z"
   },
   {
    "duration": 470,
    "start_time": "2022-02-22T18:49:29.117Z"
   },
   {
    "duration": 154,
    "start_time": "2022-02-22T18:49:29.591Z"
   },
   {
    "duration": 187,
    "start_time": "2022-02-22T18:49:29.747Z"
   },
   {
    "duration": 213,
    "start_time": "2022-02-22T18:49:29.936Z"
   },
   {
    "duration": 196,
    "start_time": "2022-02-22T18:49:30.150Z"
   },
   {
    "duration": 8,
    "start_time": "2022-02-22T18:49:30.348Z"
   },
   {
    "duration": 12,
    "start_time": "2022-02-22T18:49:30.357Z"
   },
   {
    "duration": 5,
    "start_time": "2022-02-22T18:49:30.371Z"
   },
   {
    "duration": 29,
    "start_time": "2022-02-22T18:49:30.378Z"
   },
   {
    "duration": 10,
    "start_time": "2022-02-22T18:49:30.408Z"
   },
   {
    "duration": 62,
    "start_time": "2022-02-22T18:49:30.420Z"
   },
   {
    "duration": 10,
    "start_time": "2022-02-22T18:53:26.634Z"
   },
   {
    "duration": 36,
    "start_time": "2022-02-22T18:53:34.205Z"
   },
   {
    "duration": 12,
    "start_time": "2022-02-22T18:55:08.536Z"
   },
   {
    "duration": 42,
    "start_time": "2022-02-22T19:02:54.610Z"
   },
   {
    "duration": 307,
    "start_time": "2022-02-22T19:05:27.673Z"
   },
   {
    "duration": 8,
    "start_time": "2022-02-22T19:06:09.941Z"
   },
   {
    "duration": 39,
    "start_time": "2022-02-22T19:06:10.371Z"
   },
   {
    "duration": 2,
    "start_time": "2022-02-22T19:08:20.862Z"
   },
   {
    "duration": 63,
    "start_time": "2022-02-22T19:08:20.868Z"
   },
   {
    "duration": 35,
    "start_time": "2022-02-22T19:08:20.932Z"
   },
   {
    "duration": 9,
    "start_time": "2022-02-22T19:08:20.969Z"
   },
   {
    "duration": 4,
    "start_time": "2022-02-22T19:08:20.980Z"
   },
   {
    "duration": 4,
    "start_time": "2022-02-22T19:08:20.985Z"
   },
   {
    "duration": 10,
    "start_time": "2022-02-22T19:08:20.990Z"
   },
   {
    "duration": 4,
    "start_time": "2022-02-22T19:08:21.032Z"
   },
   {
    "duration": 3,
    "start_time": "2022-02-22T19:08:21.039Z"
   },
   {
    "duration": 6,
    "start_time": "2022-02-22T19:08:21.044Z"
   },
   {
    "duration": 21,
    "start_time": "2022-02-22T19:08:21.052Z"
   },
   {
    "duration": 69,
    "start_time": "2022-02-22T19:08:21.075Z"
   },
   {
    "duration": 7,
    "start_time": "2022-02-22T19:08:21.146Z"
   },
   {
    "duration": 4,
    "start_time": "2022-02-22T19:08:21.154Z"
   },
   {
    "duration": 10,
    "start_time": "2022-02-22T19:08:21.159Z"
   },
   {
    "duration": 4,
    "start_time": "2022-02-22T19:08:21.170Z"
   },
   {
    "duration": 9,
    "start_time": "2022-02-22T19:08:21.176Z"
   },
   {
    "duration": 16,
    "start_time": "2022-02-22T19:08:21.186Z"
   },
   {
    "duration": 28,
    "start_time": "2022-02-22T19:08:21.204Z"
   },
   {
    "duration": 8,
    "start_time": "2022-02-22T19:08:21.233Z"
   },
   {
    "duration": 5,
    "start_time": "2022-02-22T19:08:21.243Z"
   },
   {
    "duration": 10,
    "start_time": "2022-02-22T19:08:21.250Z"
   },
   {
    "duration": 8,
    "start_time": "2022-02-22T19:08:21.261Z"
   },
   {
    "duration": 11,
    "start_time": "2022-02-22T19:08:21.273Z"
   },
   {
    "duration": 5,
    "start_time": "2022-02-22T19:08:21.286Z"
   },
   {
    "duration": 635,
    "start_time": "2022-02-22T19:08:21.292Z"
   },
   {
    "duration": 4,
    "start_time": "2022-02-22T19:08:21.928Z"
   },
   {
    "duration": 4,
    "start_time": "2022-02-22T19:08:21.934Z"
   },
   {
    "duration": 6,
    "start_time": "2022-02-22T19:08:21.940Z"
   },
   {
    "duration": 3,
    "start_time": "2022-02-22T19:08:21.947Z"
   },
   {
    "duration": 2,
    "start_time": "2022-02-22T19:08:21.952Z"
   },
   {
    "duration": 330,
    "start_time": "2022-02-22T19:08:21.956Z"
   },
   {
    "duration": 360,
    "start_time": "2022-02-22T19:08:22.288Z"
   },
   {
    "duration": 319,
    "start_time": "2022-02-22T19:08:22.649Z"
   },
   {
    "duration": 304,
    "start_time": "2022-02-22T19:08:22.970Z"
   },
   {
    "duration": 286,
    "start_time": "2022-02-22T19:08:23.276Z"
   },
   {
    "duration": 393,
    "start_time": "2022-02-22T19:08:23.563Z"
   },
   {
    "duration": 183,
    "start_time": "2022-02-22T19:08:23.958Z"
   },
   {
    "duration": 172,
    "start_time": "2022-02-22T19:08:24.142Z"
   },
   {
    "duration": 172,
    "start_time": "2022-02-22T19:08:24.316Z"
   },
   {
    "duration": 175,
    "start_time": "2022-02-22T19:08:24.489Z"
   },
   {
    "duration": 267,
    "start_time": "2022-02-22T19:08:24.665Z"
   },
   {
    "duration": 9,
    "start_time": "2022-02-22T19:08:24.934Z"
   },
   {
    "duration": 8,
    "start_time": "2022-02-22T19:08:24.945Z"
   },
   {
    "duration": 7,
    "start_time": "2022-02-22T19:08:24.955Z"
   },
   {
    "duration": 8,
    "start_time": "2022-02-22T19:08:24.964Z"
   },
   {
    "duration": 19,
    "start_time": "2022-02-22T19:08:24.974Z"
   },
   {
    "duration": 43,
    "start_time": "2022-02-22T19:08:24.995Z"
   },
   {
    "duration": 5,
    "start_time": "2022-02-22T19:08:25.040Z"
   },
   {
    "duration": 536,
    "start_time": "2022-02-22T19:08:25.047Z"
   },
   {
    "duration": 5,
    "start_time": "2022-02-22T19:08:25.585Z"
   },
   {
    "duration": 241,
    "start_time": "2022-02-22T19:08:25.591Z"
   },
   {
    "duration": 5,
    "start_time": "2022-02-22T19:08:25.833Z"
   },
   {
    "duration": 481,
    "start_time": "2022-02-22T19:08:25.839Z"
   },
   {
    "duration": 147,
    "start_time": "2022-02-22T19:08:26.321Z"
   },
   {
    "duration": 407,
    "start_time": "2022-02-22T19:08:26.469Z"
   },
   {
    "duration": 300,
    "start_time": "2022-02-22T19:08:26.878Z"
   },
   {
    "duration": 260,
    "start_time": "2022-02-22T19:08:27.179Z"
   },
   {
    "duration": 7,
    "start_time": "2022-02-22T19:08:27.441Z"
   },
   {
    "duration": 6,
    "start_time": "2022-02-22T19:08:27.450Z"
   },
   {
    "duration": 4,
    "start_time": "2022-02-22T19:08:27.457Z"
   },
   {
    "duration": 14,
    "start_time": "2022-02-22T19:08:27.462Z"
   },
   {
    "duration": 15,
    "start_time": "2022-02-22T19:08:27.477Z"
   },
   {
    "duration": 63,
    "start_time": "2022-02-22T19:08:27.494Z"
   },
   {
    "duration": 249,
    "start_time": "2022-02-22T19:11:09.696Z"
   },
   {
    "duration": 13,
    "start_time": "2022-02-22T19:11:18.059Z"
   },
   {
    "duration": 324,
    "start_time": "2022-02-22T19:12:20.595Z"
   },
   {
    "duration": 14,
    "start_time": "2022-02-22T19:12:29.792Z"
   },
   {
    "duration": 13,
    "start_time": "2022-02-22T19:13:12.650Z"
   },
   {
    "duration": 33,
    "start_time": "2022-02-22T19:13:57.194Z"
   },
   {
    "duration": 251,
    "start_time": "2022-02-22T19:15:17.071Z"
   },
   {
    "duration": 14,
    "start_time": "2022-02-22T19:15:35.506Z"
   },
   {
    "duration": 263,
    "start_time": "2022-02-22T19:15:55.578Z"
   },
   {
    "duration": 13,
    "start_time": "2022-02-22T19:16:29.626Z"
   },
   {
    "duration": 3,
    "start_time": "2022-02-22T19:41:40.607Z"
   },
   {
    "duration": 33,
    "start_time": "2022-02-22T19:42:06.944Z"
   },
   {
    "duration": 254,
    "start_time": "2022-02-22T19:42:41.262Z"
   },
   {
    "duration": 36,
    "start_time": "2022-02-22T19:42:55.463Z"
   },
   {
    "duration": 7,
    "start_time": "2022-02-22T19:43:14.919Z"
   },
   {
    "duration": 12,
    "start_time": "2022-02-22T19:45:12.813Z"
   },
   {
    "duration": 6,
    "start_time": "2022-02-22T19:45:27.641Z"
   },
   {
    "duration": 5,
    "start_time": "2022-02-22T19:47:28.077Z"
   },
   {
    "duration": 34,
    "start_time": "2022-02-22T19:48:16.543Z"
   },
   {
    "duration": 4,
    "start_time": "2022-02-22T19:48:25.363Z"
   },
   {
    "duration": 4,
    "start_time": "2022-02-22T19:48:39.936Z"
   },
   {
    "duration": 33,
    "start_time": "2022-02-22T19:48:40.779Z"
   },
   {
    "duration": 5,
    "start_time": "2022-02-22T19:49:51.058Z"
   },
   {
    "duration": 4,
    "start_time": "2022-02-22T19:50:19.264Z"
   },
   {
    "duration": 116,
    "start_time": "2022-02-22T19:50:22.044Z"
   },
   {
    "duration": 2,
    "start_time": "2022-02-22T19:50:29.987Z"
   },
   {
    "duration": 79,
    "start_time": "2022-02-22T19:50:29.992Z"
   },
   {
    "duration": 38,
    "start_time": "2022-02-22T19:50:30.073Z"
   },
   {
    "duration": 26,
    "start_time": "2022-02-22T19:50:30.113Z"
   },
   {
    "duration": 15,
    "start_time": "2022-02-22T19:50:30.141Z"
   },
   {
    "duration": 6,
    "start_time": "2022-02-22T19:50:30.158Z"
   },
   {
    "duration": 11,
    "start_time": "2022-02-22T19:50:30.165Z"
   },
   {
    "duration": 3,
    "start_time": "2022-02-22T19:50:30.178Z"
   },
   {
    "duration": 6,
    "start_time": "2022-02-22T19:50:30.184Z"
   },
   {
    "duration": 9,
    "start_time": "2022-02-22T19:50:30.191Z"
   },
   {
    "duration": 38,
    "start_time": "2022-02-22T19:50:30.201Z"
   },
   {
    "duration": 38,
    "start_time": "2022-02-22T19:50:30.240Z"
   },
   {
    "duration": 7,
    "start_time": "2022-02-22T19:50:30.280Z"
   },
   {
    "duration": 13,
    "start_time": "2022-02-22T19:50:30.289Z"
   },
   {
    "duration": 10,
    "start_time": "2022-02-22T19:50:30.304Z"
   },
   {
    "duration": 19,
    "start_time": "2022-02-22T19:50:30.315Z"
   },
   {
    "duration": 9,
    "start_time": "2022-02-22T19:50:30.335Z"
   },
   {
    "duration": 15,
    "start_time": "2022-02-22T19:50:30.345Z"
   },
   {
    "duration": 9,
    "start_time": "2022-02-22T19:50:30.362Z"
   },
   {
    "duration": 7,
    "start_time": "2022-02-22T19:50:30.373Z"
   },
   {
    "duration": 8,
    "start_time": "2022-02-22T19:50:30.382Z"
   },
   {
    "duration": 10,
    "start_time": "2022-02-22T19:50:30.392Z"
   },
   {
    "duration": 12,
    "start_time": "2022-02-22T19:50:30.403Z"
   },
   {
    "duration": 6,
    "start_time": "2022-02-22T19:50:30.431Z"
   },
   {
    "duration": 5,
    "start_time": "2022-02-22T19:50:30.439Z"
   },
   {
    "duration": 576,
    "start_time": "2022-02-22T19:50:30.446Z"
   },
   {
    "duration": 9,
    "start_time": "2022-02-22T19:50:31.024Z"
   },
   {
    "duration": 7,
    "start_time": "2022-02-22T19:50:31.035Z"
   },
   {
    "duration": 5,
    "start_time": "2022-02-22T19:50:31.044Z"
   },
   {
    "duration": 5,
    "start_time": "2022-02-22T19:50:31.051Z"
   },
   {
    "duration": 5,
    "start_time": "2022-02-22T19:50:31.058Z"
   },
   {
    "duration": 327,
    "start_time": "2022-02-22T19:50:31.064Z"
   },
   {
    "duration": 320,
    "start_time": "2022-02-22T19:50:31.392Z"
   },
   {
    "duration": 382,
    "start_time": "2022-02-22T19:50:31.713Z"
   },
   {
    "duration": 297,
    "start_time": "2022-02-22T19:50:32.097Z"
   },
   {
    "duration": 289,
    "start_time": "2022-02-22T19:50:32.396Z"
   },
   {
    "duration": 293,
    "start_time": "2022-02-22T19:50:32.687Z"
   },
   {
    "duration": 184,
    "start_time": "2022-02-22T19:50:32.982Z"
   },
   {
    "duration": 182,
    "start_time": "2022-02-22T19:50:33.167Z"
   },
   {
    "duration": 161,
    "start_time": "2022-02-22T19:50:33.351Z"
   },
   {
    "duration": 178,
    "start_time": "2022-02-22T19:50:33.514Z"
   },
   {
    "duration": 340,
    "start_time": "2022-02-22T19:50:33.694Z"
   },
   {
    "duration": 8,
    "start_time": "2022-02-22T19:50:34.035Z"
   },
   {
    "duration": 9,
    "start_time": "2022-02-22T19:50:34.044Z"
   },
   {
    "duration": 7,
    "start_time": "2022-02-22T19:50:34.054Z"
   },
   {
    "duration": 7,
    "start_time": "2022-02-22T19:50:34.062Z"
   },
   {
    "duration": 18,
    "start_time": "2022-02-22T19:50:34.070Z"
   },
   {
    "duration": 6,
    "start_time": "2022-02-22T19:50:34.089Z"
   },
   {
    "duration": 36,
    "start_time": "2022-02-22T19:50:34.096Z"
   },
   {
    "duration": 556,
    "start_time": "2022-02-22T19:50:34.134Z"
   },
   {
    "duration": 5,
    "start_time": "2022-02-22T19:50:34.691Z"
   },
   {
    "duration": 201,
    "start_time": "2022-02-22T19:50:34.698Z"
   },
   {
    "duration": 5,
    "start_time": "2022-02-22T19:50:34.900Z"
   },
   {
    "duration": 477,
    "start_time": "2022-02-22T19:50:34.906Z"
   },
   {
    "duration": 147,
    "start_time": "2022-02-22T19:50:35.385Z"
   },
   {
    "duration": 178,
    "start_time": "2022-02-22T19:50:35.533Z"
   },
   {
    "duration": 188,
    "start_time": "2022-02-22T19:50:35.713Z"
   },
   {
    "duration": 184,
    "start_time": "2022-02-22T19:50:35.903Z"
   },
   {
    "duration": 8,
    "start_time": "2022-02-22T19:50:36.089Z"
   },
   {
    "duration": 9,
    "start_time": "2022-02-22T19:50:36.098Z"
   },
   {
    "duration": 3,
    "start_time": "2022-02-22T19:50:36.109Z"
   },
   {
    "duration": 9,
    "start_time": "2022-02-22T19:50:36.131Z"
   },
   {
    "duration": 11,
    "start_time": "2022-02-22T19:50:36.142Z"
   },
   {
    "duration": 13,
    "start_time": "2022-02-22T19:50:36.154Z"
   },
   {
    "duration": 9,
    "start_time": "2022-02-22T19:50:36.168Z"
   },
   {
    "duration": 76,
    "start_time": "2022-02-22T19:50:36.178Z"
   },
   {
    "duration": -45,
    "start_time": "2022-02-22T19:50:36.301Z"
   },
   {
    "duration": 11,
    "start_time": "2022-02-22T19:50:47.880Z"
   },
   {
    "duration": 5,
    "start_time": "2022-02-22T19:51:04.987Z"
   },
   {
    "duration": 2,
    "start_time": "2022-02-22T19:51:21.044Z"
   },
   {
    "duration": 69,
    "start_time": "2022-02-22T19:51:21.050Z"
   },
   {
    "duration": 37,
    "start_time": "2022-02-22T19:51:21.121Z"
   },
   {
    "duration": 11,
    "start_time": "2022-02-22T19:51:21.160Z"
   },
   {
    "duration": 5,
    "start_time": "2022-02-22T19:51:21.173Z"
   },
   {
    "duration": 3,
    "start_time": "2022-02-22T19:51:21.180Z"
   },
   {
    "duration": 11,
    "start_time": "2022-02-22T19:51:21.185Z"
   },
   {
    "duration": 35,
    "start_time": "2022-02-22T19:51:21.197Z"
   },
   {
    "duration": 4,
    "start_time": "2022-02-22T19:51:21.235Z"
   },
   {
    "duration": 4,
    "start_time": "2022-02-22T19:51:21.241Z"
   },
   {
    "duration": 23,
    "start_time": "2022-02-22T19:51:21.247Z"
   },
   {
    "duration": 75,
    "start_time": "2022-02-22T19:51:21.272Z"
   },
   {
    "duration": 8,
    "start_time": "2022-02-22T19:51:21.349Z"
   },
   {
    "duration": 5,
    "start_time": "2022-02-22T19:51:21.359Z"
   },
   {
    "duration": 7,
    "start_time": "2022-02-22T19:51:21.365Z"
   },
   {
    "duration": 4,
    "start_time": "2022-02-22T19:51:21.373Z"
   },
   {
    "duration": 7,
    "start_time": "2022-02-22T19:51:21.379Z"
   },
   {
    "duration": 14,
    "start_time": "2022-02-22T19:51:21.388Z"
   },
   {
    "duration": 10,
    "start_time": "2022-02-22T19:51:21.431Z"
   },
   {
    "duration": 8,
    "start_time": "2022-02-22T19:51:21.443Z"
   },
   {
    "duration": 7,
    "start_time": "2022-02-22T19:51:21.452Z"
   },
   {
    "duration": 10,
    "start_time": "2022-02-22T19:51:21.461Z"
   },
   {
    "duration": 10,
    "start_time": "2022-02-22T19:51:21.472Z"
   },
   {
    "duration": 6,
    "start_time": "2022-02-22T19:51:21.486Z"
   },
   {
    "duration": 8,
    "start_time": "2022-02-22T19:51:21.494Z"
   },
   {
    "duration": 650,
    "start_time": "2022-02-22T19:51:21.503Z"
   },
   {
    "duration": 3,
    "start_time": "2022-02-22T19:51:22.155Z"
   },
   {
    "duration": 5,
    "start_time": "2022-02-22T19:51:22.160Z"
   },
   {
    "duration": 5,
    "start_time": "2022-02-22T19:51:22.166Z"
   },
   {
    "duration": 9,
    "start_time": "2022-02-22T19:51:22.172Z"
   },
   {
    "duration": 3,
    "start_time": "2022-02-22T19:51:22.182Z"
   },
   {
    "duration": 306,
    "start_time": "2022-02-22T19:51:22.186Z"
   },
   {
    "duration": 315,
    "start_time": "2022-02-22T19:51:22.493Z"
   },
   {
    "duration": 304,
    "start_time": "2022-02-22T19:51:22.810Z"
   },
   {
    "duration": 287,
    "start_time": "2022-02-22T19:51:23.116Z"
   },
   {
    "duration": 276,
    "start_time": "2022-02-22T19:51:23.405Z"
   },
   {
    "duration": 371,
    "start_time": "2022-02-22T19:51:23.683Z"
   },
   {
    "duration": 182,
    "start_time": "2022-02-22T19:51:24.056Z"
   },
   {
    "duration": 164,
    "start_time": "2022-02-22T19:51:24.240Z"
   },
   {
    "duration": 174,
    "start_time": "2022-02-22T19:51:24.405Z"
   },
   {
    "duration": 175,
    "start_time": "2022-02-22T19:51:24.581Z"
   },
   {
    "duration": 268,
    "start_time": "2022-02-22T19:51:24.758Z"
   },
   {
    "duration": 13,
    "start_time": "2022-02-22T19:51:25.027Z"
   },
   {
    "duration": 10,
    "start_time": "2022-02-22T19:51:25.041Z"
   },
   {
    "duration": 7,
    "start_time": "2022-02-22T19:51:25.053Z"
   },
   {
    "duration": 7,
    "start_time": "2022-02-22T19:51:25.062Z"
   },
   {
    "duration": 19,
    "start_time": "2022-02-22T19:51:25.070Z"
   },
   {
    "duration": 45,
    "start_time": "2022-02-22T19:51:25.090Z"
   },
   {
    "duration": 4,
    "start_time": "2022-02-22T19:51:25.137Z"
   },
   {
    "duration": 471,
    "start_time": "2022-02-22T19:51:25.142Z"
   },
   {
    "duration": 4,
    "start_time": "2022-02-22T19:51:25.615Z"
   },
   {
    "duration": 203,
    "start_time": "2022-02-22T19:51:25.620Z"
   },
   {
    "duration": 9,
    "start_time": "2022-02-22T19:51:25.825Z"
   },
   {
    "duration": 459,
    "start_time": "2022-02-22T19:51:25.835Z"
   },
   {
    "duration": 148,
    "start_time": "2022-02-22T19:51:26.295Z"
   },
   {
    "duration": 241,
    "start_time": "2022-02-22T19:51:26.445Z"
   },
   {
    "duration": 194,
    "start_time": "2022-02-22T19:51:26.688Z"
   },
   {
    "duration": 189,
    "start_time": "2022-02-22T19:51:26.884Z"
   },
   {
    "duration": 6,
    "start_time": "2022-02-22T19:51:27.075Z"
   },
   {
    "duration": 8,
    "start_time": "2022-02-22T19:51:27.083Z"
   },
   {
    "duration": 4,
    "start_time": "2022-02-22T19:51:27.092Z"
   },
   {
    "duration": 12,
    "start_time": "2022-02-22T19:51:27.097Z"
   },
   {
    "duration": 27,
    "start_time": "2022-02-22T19:51:27.110Z"
   },
   {
    "duration": 13,
    "start_time": "2022-02-22T19:51:27.139Z"
   },
   {
    "duration": 7,
    "start_time": "2022-02-22T19:51:27.153Z"
   },
   {
    "duration": 7,
    "start_time": "2022-02-22T19:51:27.161Z"
   },
   {
    "duration": 50,
    "start_time": "2022-02-22T19:51:27.186Z"
   },
   {
    "duration": 85,
    "start_time": "2022-02-22T19:51:42.411Z"
   },
   {
    "duration": 3,
    "start_time": "2022-02-22T19:51:52.684Z"
   },
   {
    "duration": 102,
    "start_time": "2022-02-22T19:51:52.692Z"
   },
   {
    "duration": 56,
    "start_time": "2022-02-22T19:51:52.796Z"
   },
   {
    "duration": 10,
    "start_time": "2022-02-22T19:51:52.854Z"
   },
   {
    "duration": 4,
    "start_time": "2022-02-22T19:51:52.865Z"
   },
   {
    "duration": 3,
    "start_time": "2022-02-22T19:51:52.871Z"
   },
   {
    "duration": 10,
    "start_time": "2022-02-22T19:51:52.875Z"
   },
   {
    "duration": 4,
    "start_time": "2022-02-22T19:51:52.887Z"
   },
   {
    "duration": 3,
    "start_time": "2022-02-22T19:51:52.933Z"
   },
   {
    "duration": 5,
    "start_time": "2022-02-22T19:51:52.938Z"
   },
   {
    "duration": 21,
    "start_time": "2022-02-22T19:51:52.944Z"
   },
   {
    "duration": 69,
    "start_time": "2022-02-22T19:51:52.967Z"
   },
   {
    "duration": 8,
    "start_time": "2022-02-22T19:51:53.038Z"
   },
   {
    "duration": 4,
    "start_time": "2022-02-22T19:51:53.047Z"
   },
   {
    "duration": 4,
    "start_time": "2022-02-22T19:51:53.052Z"
   },
   {
    "duration": 5,
    "start_time": "2022-02-22T19:51:53.057Z"
   },
   {
    "duration": 10,
    "start_time": "2022-02-22T19:51:53.063Z"
   },
   {
    "duration": 16,
    "start_time": "2022-02-22T19:51:53.074Z"
   },
   {
    "duration": 9,
    "start_time": "2022-02-22T19:51:53.091Z"
   },
   {
    "duration": 8,
    "start_time": "2022-02-22T19:51:53.132Z"
   },
   {
    "duration": 5,
    "start_time": "2022-02-22T19:51:53.142Z"
   },
   {
    "duration": 9,
    "start_time": "2022-02-22T19:51:53.148Z"
   },
   {
    "duration": 8,
    "start_time": "2022-02-22T19:51:53.159Z"
   },
   {
    "duration": 6,
    "start_time": "2022-02-22T19:51:53.171Z"
   },
   {
    "duration": 5,
    "start_time": "2022-02-22T19:51:53.179Z"
   },
   {
    "duration": 569,
    "start_time": "2022-02-22T19:51:53.185Z"
   },
   {
    "duration": 4,
    "start_time": "2022-02-22T19:51:53.755Z"
   },
   {
    "duration": 6,
    "start_time": "2022-02-22T19:51:53.760Z"
   },
   {
    "duration": 6,
    "start_time": "2022-02-22T19:51:53.767Z"
   },
   {
    "duration": 5,
    "start_time": "2022-02-22T19:51:53.774Z"
   },
   {
    "duration": 2,
    "start_time": "2022-02-22T19:51:53.781Z"
   },
   {
    "duration": 318,
    "start_time": "2022-02-22T19:51:53.785Z"
   },
   {
    "duration": 332,
    "start_time": "2022-02-22T19:51:54.104Z"
   },
   {
    "duration": 413,
    "start_time": "2022-02-22T19:51:54.438Z"
   },
   {
    "duration": 311,
    "start_time": "2022-02-22T19:51:54.852Z"
   },
   {
    "duration": 308,
    "start_time": "2022-02-22T19:51:55.165Z"
   },
   {
    "duration": 302,
    "start_time": "2022-02-22T19:51:55.475Z"
   },
   {
    "duration": 187,
    "start_time": "2022-02-22T19:51:55.779Z"
   },
   {
    "duration": 172,
    "start_time": "2022-02-22T19:51:55.968Z"
   },
   {
    "duration": 160,
    "start_time": "2022-02-22T19:51:56.141Z"
   },
   {
    "duration": 176,
    "start_time": "2022-02-22T19:51:56.303Z"
   },
   {
    "duration": 341,
    "start_time": "2022-02-22T19:51:56.481Z"
   },
   {
    "duration": 13,
    "start_time": "2022-02-22T19:51:56.823Z"
   },
   {
    "duration": 9,
    "start_time": "2022-02-22T19:51:56.838Z"
   },
   {
    "duration": 7,
    "start_time": "2022-02-22T19:51:56.849Z"
   },
   {
    "duration": 10,
    "start_time": "2022-02-22T19:51:56.857Z"
   },
   {
    "duration": 19,
    "start_time": "2022-02-22T19:51:56.868Z"
   },
   {
    "duration": 7,
    "start_time": "2022-02-22T19:51:56.888Z"
   },
   {
    "duration": 37,
    "start_time": "2022-02-22T19:51:56.896Z"
   },
   {
    "duration": 465,
    "start_time": "2022-02-22T19:51:56.935Z"
   },
   {
    "duration": 4,
    "start_time": "2022-02-22T19:51:57.402Z"
   },
   {
    "duration": 198,
    "start_time": "2022-02-22T19:51:57.408Z"
   },
   {
    "duration": 4,
    "start_time": "2022-02-22T19:51:57.607Z"
   },
   {
    "duration": 447,
    "start_time": "2022-02-22T19:51:57.613Z"
   },
   {
    "duration": 149,
    "start_time": "2022-02-22T19:51:58.061Z"
   },
   {
    "duration": 178,
    "start_time": "2022-02-22T19:51:58.212Z"
   },
   {
    "duration": 199,
    "start_time": "2022-02-22T19:51:58.391Z"
   },
   {
    "duration": 185,
    "start_time": "2022-02-22T19:51:58.591Z"
   },
   {
    "duration": 7,
    "start_time": "2022-02-22T19:51:58.777Z"
   },
   {
    "duration": 7,
    "start_time": "2022-02-22T19:51:58.785Z"
   },
   {
    "duration": 3,
    "start_time": "2022-02-22T19:51:58.794Z"
   },
   {
    "duration": 13,
    "start_time": "2022-02-22T19:51:58.798Z"
   },
   {
    "duration": 28,
    "start_time": "2022-02-22T19:51:58.812Z"
   },
   {
    "duration": 14,
    "start_time": "2022-02-22T19:51:58.842Z"
   },
   {
    "duration": 7,
    "start_time": "2022-02-22T19:51:58.858Z"
   },
   {
    "duration": 5,
    "start_time": "2022-02-22T19:51:58.867Z"
   },
   {
    "duration": 61,
    "start_time": "2022-02-22T19:51:58.874Z"
   },
   {
    "duration": 3,
    "start_time": "2022-02-22T19:54:18.192Z"
   },
   {
    "duration": 78,
    "start_time": "2022-02-22T19:54:18.197Z"
   },
   {
    "duration": 35,
    "start_time": "2022-02-22T19:54:18.276Z"
   },
   {
    "duration": 25,
    "start_time": "2022-02-22T19:54:18.313Z"
   },
   {
    "duration": 4,
    "start_time": "2022-02-22T19:54:18.340Z"
   },
   {
    "duration": 5,
    "start_time": "2022-02-22T19:54:18.345Z"
   },
   {
    "duration": 8,
    "start_time": "2022-02-22T19:54:18.352Z"
   },
   {
    "duration": 4,
    "start_time": "2022-02-22T19:54:18.362Z"
   },
   {
    "duration": 4,
    "start_time": "2022-02-22T19:54:18.368Z"
   },
   {
    "duration": 7,
    "start_time": "2022-02-22T19:54:18.373Z"
   },
   {
    "duration": 61,
    "start_time": "2022-02-22T19:54:18.381Z"
   },
   {
    "duration": 35,
    "start_time": "2022-02-22T19:54:18.444Z"
   },
   {
    "duration": 7,
    "start_time": "2022-02-22T19:54:18.480Z"
   },
   {
    "duration": 4,
    "start_time": "2022-02-22T19:54:18.488Z"
   },
   {
    "duration": 4,
    "start_time": "2022-02-22T19:54:18.493Z"
   },
   {
    "duration": 5,
    "start_time": "2022-02-22T19:54:18.498Z"
   },
   {
    "duration": 4,
    "start_time": "2022-02-22T19:54:18.532Z"
   },
   {
    "duration": 13,
    "start_time": "2022-02-22T19:54:18.537Z"
   },
   {
    "duration": 10,
    "start_time": "2022-02-22T19:54:18.553Z"
   },
   {
    "duration": 8,
    "start_time": "2022-02-22T19:54:18.565Z"
   },
   {
    "duration": 7,
    "start_time": "2022-02-22T19:54:18.574Z"
   },
   {
    "duration": 11,
    "start_time": "2022-02-22T19:54:18.583Z"
   },
   {
    "duration": 8,
    "start_time": "2022-02-22T19:54:18.595Z"
   },
   {
    "duration": 26,
    "start_time": "2022-02-22T19:54:18.605Z"
   },
   {
    "duration": 3,
    "start_time": "2022-02-22T19:54:18.632Z"
   },
   {
    "duration": 620,
    "start_time": "2022-02-22T19:54:18.636Z"
   },
   {
    "duration": 4,
    "start_time": "2022-02-22T19:54:19.258Z"
   },
   {
    "duration": 6,
    "start_time": "2022-02-22T19:54:19.263Z"
   },
   {
    "duration": 4,
    "start_time": "2022-02-22T19:54:19.270Z"
   },
   {
    "duration": 4,
    "start_time": "2022-02-22T19:54:19.275Z"
   },
   {
    "duration": 4,
    "start_time": "2022-02-22T19:54:19.281Z"
   },
   {
    "duration": 315,
    "start_time": "2022-02-22T19:54:19.286Z"
   },
   {
    "duration": 332,
    "start_time": "2022-02-22T19:54:19.603Z"
   },
   {
    "duration": 313,
    "start_time": "2022-02-22T19:54:19.936Z"
   },
   {
    "duration": 296,
    "start_time": "2022-02-22T19:54:20.250Z"
   },
   {
    "duration": 278,
    "start_time": "2022-02-22T19:54:20.547Z"
   },
   {
    "duration": 455,
    "start_time": "2022-02-22T19:54:20.831Z"
   },
   {
    "duration": 176,
    "start_time": "2022-02-22T19:54:21.288Z"
   },
   {
    "duration": 161,
    "start_time": "2022-02-22T19:54:21.465Z"
   },
   {
    "duration": 162,
    "start_time": "2022-02-22T19:54:21.627Z"
   },
   {
    "duration": 168,
    "start_time": "2022-02-22T19:54:21.791Z"
   },
   {
    "duration": 261,
    "start_time": "2022-02-22T19:54:21.961Z"
   },
   {
    "duration": 13,
    "start_time": "2022-02-22T19:54:22.223Z"
   },
   {
    "duration": 8,
    "start_time": "2022-02-22T19:54:22.238Z"
   },
   {
    "duration": 6,
    "start_time": "2022-02-22T19:54:22.248Z"
   },
   {
    "duration": 7,
    "start_time": "2022-02-22T19:54:22.256Z"
   },
   {
    "duration": 18,
    "start_time": "2022-02-22T19:54:22.264Z"
   },
   {
    "duration": 6,
    "start_time": "2022-02-22T19:54:22.283Z"
   },
   {
    "duration": 4,
    "start_time": "2022-02-22T19:54:22.290Z"
   },
   {
    "duration": 488,
    "start_time": "2022-02-22T19:54:22.295Z"
   },
   {
    "duration": 5,
    "start_time": "2022-02-22T19:54:22.785Z"
   },
   {
    "duration": 197,
    "start_time": "2022-02-22T19:54:22.791Z"
   },
   {
    "duration": 5,
    "start_time": "2022-02-22T19:54:22.989Z"
   },
   {
    "duration": 513,
    "start_time": "2022-02-22T19:54:22.996Z"
   },
   {
    "duration": 151,
    "start_time": "2022-02-22T19:54:23.513Z"
   },
   {
    "duration": 266,
    "start_time": "2022-02-22T19:54:23.666Z"
   },
   {
    "duration": 195,
    "start_time": "2022-02-22T19:54:23.933Z"
   },
   {
    "duration": 186,
    "start_time": "2022-02-22T19:54:24.130Z"
   },
   {
    "duration": 14,
    "start_time": "2022-02-22T19:54:24.318Z"
   },
   {
    "duration": 6,
    "start_time": "2022-02-22T19:54:24.334Z"
   },
   {
    "duration": 3,
    "start_time": "2022-02-22T19:54:24.342Z"
   },
   {
    "duration": 12,
    "start_time": "2022-02-22T19:54:24.347Z"
   },
   {
    "duration": 10,
    "start_time": "2022-02-22T19:54:24.360Z"
   },
   {
    "duration": 12,
    "start_time": "2022-02-22T19:54:24.372Z"
   },
   {
    "duration": 7,
    "start_time": "2022-02-22T19:54:24.385Z"
   },
   {
    "duration": 7,
    "start_time": "2022-02-22T19:54:24.394Z"
   },
   {
    "duration": 33,
    "start_time": "2022-02-22T19:54:24.431Z"
   },
   {
    "duration": 942,
    "start_time": "2022-02-22T19:55:18.441Z"
   },
   {
    "duration": 5,
    "start_time": "2022-02-22T19:56:14.871Z"
   },
   {
    "duration": 33,
    "start_time": "2022-02-22T19:58:19.717Z"
   },
   {
    "duration": 16,
    "start_time": "2022-02-22T20:00:48.837Z"
   },
   {
    "duration": 155,
    "start_time": "2022-02-22T20:01:57.740Z"
   },
   {
    "duration": 15,
    "start_time": "2022-02-22T20:02:27.651Z"
   },
   {
    "duration": 156,
    "start_time": "2022-02-22T20:02:41.064Z"
   },
   {
    "duration": 13,
    "start_time": "2022-02-22T20:02:47.724Z"
   },
   {
    "duration": 6230,
    "start_time": "2022-02-22T20:03:09.750Z"
   },
   {
    "duration": 13,
    "start_time": "2022-02-22T20:03:23.039Z"
   },
   {
    "duration": 9,
    "start_time": "2022-02-22T20:04:10.304Z"
   },
   {
    "duration": 8,
    "start_time": "2022-02-22T20:04:15.714Z"
   },
   {
    "duration": 11,
    "start_time": "2022-02-22T20:04:29.342Z"
   },
   {
    "duration": 8,
    "start_time": "2022-02-22T20:04:29.908Z"
   },
   {
    "duration": 11,
    "start_time": "2022-02-22T20:04:46.964Z"
   },
   {
    "duration": 9,
    "start_time": "2022-02-22T20:04:50.091Z"
   },
   {
    "duration": 8,
    "start_time": "2022-02-22T20:04:55.533Z"
   },
   {
    "duration": 2,
    "start_time": "2022-02-22T20:04:59.064Z"
   },
   {
    "duration": 64,
    "start_time": "2022-02-22T20:04:59.078Z"
   },
   {
    "duration": 34,
    "start_time": "2022-02-22T20:04:59.144Z"
   },
   {
    "duration": 9,
    "start_time": "2022-02-22T20:04:59.181Z"
   },
   {
    "duration": 3,
    "start_time": "2022-02-22T20:04:59.192Z"
   },
   {
    "duration": 11,
    "start_time": "2022-02-22T20:04:59.196Z"
   },
   {
    "duration": 26,
    "start_time": "2022-02-22T20:04:59.208Z"
   },
   {
    "duration": 11,
    "start_time": "2022-02-22T20:04:59.236Z"
   },
   {
    "duration": 7,
    "start_time": "2022-02-22T20:04:59.248Z"
   },
   {
    "duration": 9,
    "start_time": "2022-02-22T20:04:59.257Z"
   },
   {
    "duration": 26,
    "start_time": "2022-02-22T20:04:59.268Z"
   },
   {
    "duration": 50,
    "start_time": "2022-02-22T20:04:59.295Z"
   },
   {
    "duration": 7,
    "start_time": "2022-02-22T20:04:59.347Z"
   },
   {
    "duration": 5,
    "start_time": "2022-02-22T20:04:59.355Z"
   },
   {
    "duration": 4,
    "start_time": "2022-02-22T20:04:59.362Z"
   },
   {
    "duration": 7,
    "start_time": "2022-02-22T20:04:59.367Z"
   },
   {
    "duration": 9,
    "start_time": "2022-02-22T20:04:59.376Z"
   },
   {
    "duration": 15,
    "start_time": "2022-02-22T20:04:59.386Z"
   },
   {
    "duration": 29,
    "start_time": "2022-02-22T20:04:59.403Z"
   },
   {
    "duration": 8,
    "start_time": "2022-02-22T20:04:59.433Z"
   },
   {
    "duration": 4,
    "start_time": "2022-02-22T20:04:59.443Z"
   },
   {
    "duration": 10,
    "start_time": "2022-02-22T20:04:59.449Z"
   },
   {
    "duration": 10,
    "start_time": "2022-02-22T20:04:59.460Z"
   },
   {
    "duration": 12,
    "start_time": "2022-02-22T20:04:59.471Z"
   },
   {
    "duration": 4,
    "start_time": "2022-02-22T20:04:59.484Z"
   },
   {
    "duration": 583,
    "start_time": "2022-02-22T20:04:59.490Z"
   },
   {
    "duration": 4,
    "start_time": "2022-02-22T20:05:00.075Z"
   },
   {
    "duration": 13,
    "start_time": "2022-02-22T20:05:00.083Z"
   },
   {
    "duration": 12,
    "start_time": "2022-02-22T20:05:00.098Z"
   },
   {
    "duration": 5,
    "start_time": "2022-02-22T20:05:00.112Z"
   },
   {
    "duration": 10,
    "start_time": "2022-02-22T20:05:00.118Z"
   },
   {
    "duration": 316,
    "start_time": "2022-02-22T20:05:00.130Z"
   },
   {
    "duration": 421,
    "start_time": "2022-02-22T20:05:00.448Z"
   },
   {
    "duration": 376,
    "start_time": "2022-02-22T20:05:00.871Z"
   },
   {
    "duration": 313,
    "start_time": "2022-02-22T20:05:01.249Z"
   },
   {
    "duration": 303,
    "start_time": "2022-02-22T20:05:01.564Z"
   },
   {
    "duration": 291,
    "start_time": "2022-02-22T20:05:01.868Z"
   },
   {
    "duration": 184,
    "start_time": "2022-02-22T20:05:02.161Z"
   },
   {
    "duration": 166,
    "start_time": "2022-02-22T20:05:02.346Z"
   },
   {
    "duration": 251,
    "start_time": "2022-02-22T20:05:02.514Z"
   },
   {
    "duration": 177,
    "start_time": "2022-02-22T20:05:02.767Z"
   },
   {
    "duration": 264,
    "start_time": "2022-02-22T20:05:02.946Z"
   },
   {
    "duration": 9,
    "start_time": "2022-02-22T20:05:03.213Z"
   },
   {
    "duration": 10,
    "start_time": "2022-02-22T20:05:03.232Z"
   },
   {
    "duration": 8,
    "start_time": "2022-02-22T20:05:03.244Z"
   },
   {
    "duration": 7,
    "start_time": "2022-02-22T20:05:03.254Z"
   },
   {
    "duration": 19,
    "start_time": "2022-02-22T20:05:03.263Z"
   },
   {
    "duration": 6,
    "start_time": "2022-02-22T20:05:03.284Z"
   },
   {
    "duration": 41,
    "start_time": "2022-02-22T20:05:03.291Z"
   },
   {
    "duration": 465,
    "start_time": "2022-02-22T20:05:03.333Z"
   },
   {
    "duration": 5,
    "start_time": "2022-02-22T20:05:03.800Z"
   },
   {
    "duration": 214,
    "start_time": "2022-02-22T20:05:03.807Z"
   },
   {
    "duration": 10,
    "start_time": "2022-02-22T20:05:04.023Z"
   },
   {
    "duration": 435,
    "start_time": "2022-02-22T20:05:04.034Z"
   },
   {
    "duration": 141,
    "start_time": "2022-02-22T20:05:04.471Z"
   },
   {
    "duration": 177,
    "start_time": "2022-02-22T20:05:04.614Z"
   },
   {
    "duration": 199,
    "start_time": "2022-02-22T20:05:04.792Z"
   },
   {
    "duration": 190,
    "start_time": "2022-02-22T20:05:04.993Z"
   },
   {
    "duration": 7,
    "start_time": "2022-02-22T20:05:05.185Z"
   },
   {
    "duration": 8,
    "start_time": "2022-02-22T20:05:05.194Z"
   },
   {
    "duration": 3,
    "start_time": "2022-02-22T20:05:05.204Z"
   },
   {
    "duration": 26,
    "start_time": "2022-02-22T20:05:05.208Z"
   },
   {
    "duration": 95,
    "start_time": "2022-02-22T20:05:05.236Z"
   },
   {
    "duration": 13,
    "start_time": "2022-02-22T20:05:05.333Z"
   },
   {
    "duration": 8,
    "start_time": "2022-02-22T20:05:05.348Z"
   },
   {
    "duration": 13,
    "start_time": "2022-02-22T20:05:05.357Z"
   },
   {
    "duration": 11,
    "start_time": "2022-02-22T20:05:05.371Z"
   },
   {
    "duration": 7,
    "start_time": "2022-02-22T20:05:05.383Z"
   },
   {
    "duration": 153,
    "start_time": "2022-02-22T20:05:53.368Z"
   },
   {
    "duration": 2,
    "start_time": "2022-02-22T20:08:06.027Z"
   },
   {
    "duration": 63,
    "start_time": "2022-02-22T20:08:06.033Z"
   },
   {
    "duration": 42,
    "start_time": "2022-02-22T20:08:06.097Z"
   },
   {
    "duration": 10,
    "start_time": "2022-02-22T20:08:06.140Z"
   },
   {
    "duration": 4,
    "start_time": "2022-02-22T20:08:06.152Z"
   },
   {
    "duration": 3,
    "start_time": "2022-02-22T20:08:06.157Z"
   },
   {
    "duration": 9,
    "start_time": "2022-02-22T20:08:06.162Z"
   },
   {
    "duration": 4,
    "start_time": "2022-02-22T20:08:06.172Z"
   },
   {
    "duration": 3,
    "start_time": "2022-02-22T20:08:06.178Z"
   },
   {
    "duration": 9,
    "start_time": "2022-02-22T20:08:06.183Z"
   },
   {
    "duration": 55,
    "start_time": "2022-02-22T20:08:06.193Z"
   },
   {
    "duration": 39,
    "start_time": "2022-02-22T20:08:06.250Z"
   },
   {
    "duration": 8,
    "start_time": "2022-02-22T20:08:06.291Z"
   },
   {
    "duration": 33,
    "start_time": "2022-02-22T20:08:06.301Z"
   },
   {
    "duration": 5,
    "start_time": "2022-02-22T20:08:06.336Z"
   },
   {
    "duration": 5,
    "start_time": "2022-02-22T20:08:06.342Z"
   },
   {
    "duration": 10,
    "start_time": "2022-02-22T20:08:06.348Z"
   },
   {
    "duration": 15,
    "start_time": "2022-02-22T20:08:06.359Z"
   },
   {
    "duration": 9,
    "start_time": "2022-02-22T20:08:06.375Z"
   },
   {
    "duration": 7,
    "start_time": "2022-02-22T20:08:06.386Z"
   },
   {
    "duration": 7,
    "start_time": "2022-02-22T20:08:06.395Z"
   },
   {
    "duration": 32,
    "start_time": "2022-02-22T20:08:06.403Z"
   },
   {
    "duration": 6,
    "start_time": "2022-02-22T20:08:06.437Z"
   },
   {
    "duration": 9,
    "start_time": "2022-02-22T20:08:06.446Z"
   },
   {
    "duration": 5,
    "start_time": "2022-02-22T20:08:06.457Z"
   },
   {
    "duration": 559,
    "start_time": "2022-02-22T20:08:06.463Z"
   },
   {
    "duration": 8,
    "start_time": "2022-02-22T20:08:07.023Z"
   },
   {
    "duration": 3,
    "start_time": "2022-02-22T20:08:07.033Z"
   },
   {
    "duration": 4,
    "start_time": "2022-02-22T20:08:07.037Z"
   },
   {
    "duration": 4,
    "start_time": "2022-02-22T20:08:07.043Z"
   },
   {
    "duration": 3,
    "start_time": "2022-02-22T20:08:07.048Z"
   },
   {
    "duration": 337,
    "start_time": "2022-02-22T20:08:07.053Z"
   },
   {
    "duration": 342,
    "start_time": "2022-02-22T20:08:07.391Z"
   },
   {
    "duration": 329,
    "start_time": "2022-02-22T20:08:07.736Z"
   },
   {
    "duration": 382,
    "start_time": "2022-02-22T20:08:08.067Z"
   },
   {
    "duration": 330,
    "start_time": "2022-02-22T20:08:08.451Z"
   },
   {
    "duration": 293,
    "start_time": "2022-02-22T20:08:08.783Z"
   },
   {
    "duration": 179,
    "start_time": "2022-02-22T20:08:09.077Z"
   },
   {
    "duration": 171,
    "start_time": "2022-02-22T20:08:09.257Z"
   },
   {
    "duration": 158,
    "start_time": "2022-02-22T20:08:09.431Z"
   },
   {
    "duration": 177,
    "start_time": "2022-02-22T20:08:09.591Z"
   },
   {
    "duration": 264,
    "start_time": "2022-02-22T20:08:09.769Z"
   },
   {
    "duration": 8,
    "start_time": "2022-02-22T20:08:10.035Z"
   },
   {
    "duration": 15,
    "start_time": "2022-02-22T20:08:10.044Z"
   },
   {
    "duration": 13,
    "start_time": "2022-02-22T20:08:10.060Z"
   },
   {
    "duration": 8,
    "start_time": "2022-02-22T20:08:10.074Z"
   },
   {
    "duration": 115,
    "start_time": "2022-02-22T20:08:10.084Z"
   },
   {
    "duration": 12,
    "start_time": "2022-02-22T20:08:10.201Z"
   },
   {
    "duration": 8,
    "start_time": "2022-02-22T20:08:10.214Z"
   },
   {
    "duration": 510,
    "start_time": "2022-02-22T20:08:10.223Z"
   },
   {
    "duration": 5,
    "start_time": "2022-02-22T20:08:10.734Z"
   },
   {
    "duration": 196,
    "start_time": "2022-02-22T20:08:10.740Z"
   },
   {
    "duration": 4,
    "start_time": "2022-02-22T20:08:10.937Z"
   },
   {
    "duration": 483,
    "start_time": "2022-02-22T20:08:10.943Z"
   },
   {
    "duration": 140,
    "start_time": "2022-02-22T20:08:11.427Z"
   },
   {
    "duration": 169,
    "start_time": "2022-02-22T20:08:11.568Z"
   },
   {
    "duration": 194,
    "start_time": "2022-02-22T20:08:11.739Z"
   },
   {
    "duration": 181,
    "start_time": "2022-02-22T20:08:11.935Z"
   },
   {
    "duration": 7,
    "start_time": "2022-02-22T20:08:12.117Z"
   },
   {
    "duration": 20,
    "start_time": "2022-02-22T20:08:12.125Z"
   },
   {
    "duration": 16,
    "start_time": "2022-02-22T20:08:12.146Z"
   },
   {
    "duration": 16,
    "start_time": "2022-02-22T20:08:12.163Z"
   },
   {
    "duration": 25,
    "start_time": "2022-02-22T20:08:12.180Z"
   },
   {
    "duration": 28,
    "start_time": "2022-02-22T20:08:12.206Z"
   },
   {
    "duration": 11,
    "start_time": "2022-02-22T20:08:12.235Z"
   },
   {
    "duration": 10,
    "start_time": "2022-02-22T20:08:12.248Z"
   },
   {
    "duration": 172,
    "start_time": "2022-02-22T20:08:12.260Z"
   },
   {
    "duration": 152,
    "start_time": "2022-02-22T20:09:22.862Z"
   },
   {
    "duration": 166,
    "start_time": "2022-02-22T20:11:54.355Z"
   },
   {
    "duration": 156,
    "start_time": "2022-02-22T20:12:13.383Z"
   },
   {
    "duration": 167,
    "start_time": "2022-02-22T20:14:19.094Z"
   },
   {
    "duration": 242,
    "start_time": "2022-02-22T20:14:24.658Z"
   },
   {
    "duration": 161,
    "start_time": "2022-02-22T20:14:30.223Z"
   },
   {
    "duration": 280,
    "start_time": "2022-02-22T20:18:27.005Z"
   },
   {
    "duration": 32,
    "start_time": "2022-02-22T20:18:32.280Z"
   },
   {
    "duration": 33,
    "start_time": "2022-02-22T20:19:15.209Z"
   },
   {
    "duration": 32,
    "start_time": "2022-02-22T20:19:18.526Z"
   },
   {
    "duration": 32,
    "start_time": "2022-02-22T20:19:24.189Z"
   },
   {
    "duration": 79,
    "start_time": "2022-02-22T20:19:56.474Z"
   },
   {
    "duration": 7,
    "start_time": "2022-02-22T20:20:01.576Z"
   },
   {
    "duration": 36,
    "start_time": "2022-02-22T20:20:34.340Z"
   },
   {
    "duration": 164,
    "start_time": "2022-02-22T20:21:03.066Z"
   },
   {
    "duration": 309,
    "start_time": "2022-02-22T20:21:27.822Z"
   },
   {
    "duration": 344,
    "start_time": "2022-02-22T20:22:14.205Z"
   },
   {
    "duration": 357,
    "start_time": "2022-02-23T06:41:18.465Z"
   },
   {
    "duration": 587,
    "start_time": "2022-02-23T06:41:24.747Z"
   },
   {
    "duration": 63,
    "start_time": "2022-02-23T06:41:25.336Z"
   },
   {
    "duration": 45,
    "start_time": "2022-02-23T06:41:25.401Z"
   },
   {
    "duration": 9,
    "start_time": "2022-02-23T06:41:25.448Z"
   },
   {
    "duration": 5,
    "start_time": "2022-02-23T06:41:25.459Z"
   },
   {
    "duration": 3,
    "start_time": "2022-02-23T06:41:25.465Z"
   },
   {
    "duration": 13,
    "start_time": "2022-02-23T06:41:25.469Z"
   },
   {
    "duration": 4,
    "start_time": "2022-02-23T06:41:25.484Z"
   },
   {
    "duration": 4,
    "start_time": "2022-02-23T06:41:25.490Z"
   },
   {
    "duration": 7,
    "start_time": "2022-02-23T06:41:25.495Z"
   },
   {
    "duration": 43,
    "start_time": "2022-02-23T06:41:25.504Z"
   },
   {
    "duration": 35,
    "start_time": "2022-02-23T06:41:25.548Z"
   },
   {
    "duration": 7,
    "start_time": "2022-02-23T06:41:25.585Z"
   },
   {
    "duration": 3,
    "start_time": "2022-02-23T06:41:25.594Z"
   },
   {
    "duration": 4,
    "start_time": "2022-02-23T06:41:25.599Z"
   },
   {
    "duration": 6,
    "start_time": "2022-02-23T06:41:25.604Z"
   },
   {
    "duration": 5,
    "start_time": "2022-02-23T06:41:25.612Z"
   },
   {
    "duration": 31,
    "start_time": "2022-02-23T06:41:25.618Z"
   },
   {
    "duration": 8,
    "start_time": "2022-02-23T06:41:25.651Z"
   },
   {
    "duration": 7,
    "start_time": "2022-02-23T06:41:25.661Z"
   },
   {
    "duration": 6,
    "start_time": "2022-02-23T06:41:25.669Z"
   },
   {
    "duration": 7,
    "start_time": "2022-02-23T06:41:25.676Z"
   },
   {
    "duration": 4,
    "start_time": "2022-02-23T06:41:25.687Z"
   },
   {
    "duration": 5,
    "start_time": "2022-02-23T06:41:25.693Z"
   },
   {
    "duration": 5,
    "start_time": "2022-02-23T06:41:25.699Z"
   },
   {
    "duration": 543,
    "start_time": "2022-02-23T06:41:25.706Z"
   },
   {
    "duration": 4,
    "start_time": "2022-02-23T06:41:26.251Z"
   },
   {
    "duration": 7,
    "start_time": "2022-02-23T06:41:26.256Z"
   },
   {
    "duration": 5,
    "start_time": "2022-02-23T06:41:26.264Z"
   },
   {
    "duration": 8,
    "start_time": "2022-02-23T06:41:26.270Z"
   },
   {
    "duration": 4,
    "start_time": "2022-02-23T06:41:26.280Z"
   },
   {
    "duration": 390,
    "start_time": "2022-02-23T06:41:26.285Z"
   },
   {
    "duration": 315,
    "start_time": "2022-02-23T06:41:26.676Z"
   },
   {
    "duration": 299,
    "start_time": "2022-02-23T06:41:26.993Z"
   },
   {
    "duration": 287,
    "start_time": "2022-02-23T06:41:27.293Z"
   },
   {
    "duration": 272,
    "start_time": "2022-02-23T06:41:27.582Z"
   },
   {
    "duration": 340,
    "start_time": "2022-02-23T06:41:27.856Z"
   },
   {
    "duration": 172,
    "start_time": "2022-02-23T06:41:28.198Z"
   },
   {
    "duration": 164,
    "start_time": "2022-02-23T06:41:28.372Z"
   },
   {
    "duration": 158,
    "start_time": "2022-02-23T06:41:28.538Z"
   },
   {
    "duration": 168,
    "start_time": "2022-02-23T06:41:28.698Z"
   },
   {
    "duration": 247,
    "start_time": "2022-02-23T06:41:28.868Z"
   },
   {
    "duration": 8,
    "start_time": "2022-02-23T06:41:29.116Z"
   },
   {
    "duration": 22,
    "start_time": "2022-02-23T06:41:29.125Z"
   },
   {
    "duration": 9,
    "start_time": "2022-02-23T06:41:29.148Z"
   },
   {
    "duration": 6,
    "start_time": "2022-02-23T06:41:29.159Z"
   },
   {
    "duration": 18,
    "start_time": "2022-02-23T06:41:29.167Z"
   },
   {
    "duration": 7,
    "start_time": "2022-02-23T06:41:29.186Z"
   },
   {
    "duration": 5,
    "start_time": "2022-02-23T06:41:29.194Z"
   },
   {
    "duration": 478,
    "start_time": "2022-02-23T06:41:29.201Z"
   },
   {
    "duration": 5,
    "start_time": "2022-02-23T06:41:29.681Z"
   },
   {
    "duration": 193,
    "start_time": "2022-02-23T06:41:29.687Z"
   },
   {
    "duration": 4,
    "start_time": "2022-02-23T06:41:29.882Z"
   },
   {
    "duration": 470,
    "start_time": "2022-02-23T06:41:29.888Z"
   },
   {
    "duration": 137,
    "start_time": "2022-02-23T06:41:30.359Z"
   },
   {
    "duration": 238,
    "start_time": "2022-02-23T06:41:30.498Z"
   },
   {
    "duration": 200,
    "start_time": "2022-02-23T06:41:30.737Z"
   },
   {
    "duration": 189,
    "start_time": "2022-02-23T06:41:30.938Z"
   },
   {
    "duration": 7,
    "start_time": "2022-02-23T06:41:31.128Z"
   },
   {
    "duration": 15,
    "start_time": "2022-02-23T06:41:31.136Z"
   },
   {
    "duration": 3,
    "start_time": "2022-02-23T06:41:31.153Z"
   },
   {
    "duration": 20,
    "start_time": "2022-02-23T06:41:31.157Z"
   },
   {
    "duration": 16,
    "start_time": "2022-02-23T06:41:31.178Z"
   },
   {
    "duration": 13,
    "start_time": "2022-02-23T06:41:31.195Z"
   },
   {
    "duration": 7,
    "start_time": "2022-02-23T06:41:31.209Z"
   },
   {
    "duration": 4,
    "start_time": "2022-02-23T06:41:31.218Z"
   },
   {
    "duration": 179,
    "start_time": "2022-02-23T06:41:31.223Z"
   },
   {
    "duration": 42,
    "start_time": "2022-02-23T06:41:31.407Z"
   },
   {
    "duration": 7,
    "start_time": "2022-02-23T06:41:31.451Z"
   },
   {
    "duration": 347,
    "start_time": "2022-02-23T06:41:31.460Z"
   },
   {
    "duration": 30,
    "start_time": "2022-02-23T06:41:56.391Z"
   },
   {
    "duration": 23,
    "start_time": "2022-02-23T06:42:07.089Z"
   },
   {
    "duration": 23,
    "start_time": "2022-02-23T06:44:53.148Z"
   },
   {
    "duration": 61,
    "start_time": "2022-02-23T07:11:22.934Z"
   },
   {
    "duration": 31,
    "start_time": "2022-02-23T07:19:50.198Z"
   },
   {
    "duration": 5,
    "start_time": "2022-02-23T07:27:08.050Z"
   },
   {
    "duration": 37,
    "start_time": "2022-02-23T07:29:25.561Z"
   },
   {
    "duration": 36,
    "start_time": "2022-02-23T07:29:39.782Z"
   },
   {
    "duration": 3,
    "start_time": "2022-02-23T07:30:05.941Z"
   },
   {
    "duration": 65,
    "start_time": "2022-02-23T07:30:05.950Z"
   },
   {
    "duration": 36,
    "start_time": "2022-02-23T07:30:06.016Z"
   },
   {
    "duration": 9,
    "start_time": "2022-02-23T07:30:06.054Z"
   },
   {
    "duration": 5,
    "start_time": "2022-02-23T07:30:06.064Z"
   },
   {
    "duration": 3,
    "start_time": "2022-02-23T07:30:06.071Z"
   },
   {
    "duration": 9,
    "start_time": "2022-02-23T07:30:06.076Z"
   },
   {
    "duration": 5,
    "start_time": "2022-02-23T07:30:06.087Z"
   },
   {
    "duration": 3,
    "start_time": "2022-02-23T07:30:06.094Z"
   },
   {
    "duration": 5,
    "start_time": "2022-02-23T07:30:06.099Z"
   },
   {
    "duration": 50,
    "start_time": "2022-02-23T07:30:06.105Z"
   },
   {
    "duration": 36,
    "start_time": "2022-02-23T07:30:06.157Z"
   },
   {
    "duration": 7,
    "start_time": "2022-02-23T07:30:06.195Z"
   },
   {
    "duration": 7,
    "start_time": "2022-02-23T07:30:06.203Z"
   },
   {
    "duration": 7,
    "start_time": "2022-02-23T07:30:06.211Z"
   },
   {
    "duration": 26,
    "start_time": "2022-02-23T07:30:06.220Z"
   },
   {
    "duration": 4,
    "start_time": "2022-02-23T07:30:06.248Z"
   },
   {
    "duration": 14,
    "start_time": "2022-02-23T07:30:06.254Z"
   },
   {
    "duration": 10,
    "start_time": "2022-02-23T07:30:06.269Z"
   },
   {
    "duration": 7,
    "start_time": "2022-02-23T07:30:06.280Z"
   },
   {
    "duration": 4,
    "start_time": "2022-02-23T07:30:06.289Z"
   },
   {
    "duration": 7,
    "start_time": "2022-02-23T07:30:06.295Z"
   },
   {
    "duration": 5,
    "start_time": "2022-02-23T07:30:06.303Z"
   },
   {
    "duration": 37,
    "start_time": "2022-02-23T07:30:06.310Z"
   },
   {
    "duration": 2,
    "start_time": "2022-02-23T07:30:06.349Z"
   },
   {
    "duration": 543,
    "start_time": "2022-02-23T07:30:06.353Z"
   },
   {
    "duration": 4,
    "start_time": "2022-02-23T07:30:06.898Z"
   },
   {
    "duration": 5,
    "start_time": "2022-02-23T07:30:06.904Z"
   },
   {
    "duration": 5,
    "start_time": "2022-02-23T07:30:06.911Z"
   },
   {
    "duration": 4,
    "start_time": "2022-02-23T07:30:06.919Z"
   },
   {
    "duration": 4,
    "start_time": "2022-02-23T07:30:06.925Z"
   },
   {
    "duration": 359,
    "start_time": "2022-02-23T07:30:06.945Z"
   },
   {
    "duration": 428,
    "start_time": "2022-02-23T07:30:07.305Z"
   },
   {
    "duration": 303,
    "start_time": "2022-02-23T07:30:07.735Z"
   },
   {
    "duration": 288,
    "start_time": "2022-02-23T07:30:08.040Z"
   },
   {
    "duration": 284,
    "start_time": "2022-02-23T07:30:08.330Z"
   },
   {
    "duration": 290,
    "start_time": "2022-02-23T07:30:08.616Z"
   },
   {
    "duration": 271,
    "start_time": "2022-02-23T07:30:08.908Z"
   },
   {
    "duration": 176,
    "start_time": "2022-02-23T07:30:09.180Z"
   },
   {
    "duration": 164,
    "start_time": "2022-02-23T07:30:09.358Z"
   },
   {
    "duration": 267,
    "start_time": "2022-02-23T07:30:09.523Z"
   },
   {
    "duration": 375,
    "start_time": "2022-02-23T07:30:09.791Z"
   },
   {
    "duration": 8,
    "start_time": "2022-02-23T07:30:10.167Z"
   },
   {
    "duration": 8,
    "start_time": "2022-02-23T07:30:10.177Z"
   },
   {
    "duration": 7,
    "start_time": "2022-02-23T07:30:10.187Z"
   },
   {
    "duration": 8,
    "start_time": "2022-02-23T07:30:10.195Z"
   },
   {
    "duration": 43,
    "start_time": "2022-02-23T07:30:10.204Z"
   },
   {
    "duration": 6,
    "start_time": "2022-02-23T07:30:10.248Z"
   },
   {
    "duration": 4,
    "start_time": "2022-02-23T07:30:10.256Z"
   },
   {
    "duration": 529,
    "start_time": "2022-02-23T07:30:10.262Z"
   },
   {
    "duration": 5,
    "start_time": "2022-02-23T07:30:10.792Z"
   },
   {
    "duration": 189,
    "start_time": "2022-02-23T07:30:10.798Z"
   },
   {
    "duration": 4,
    "start_time": "2022-02-23T07:30:10.989Z"
   },
   {
    "duration": 471,
    "start_time": "2022-02-23T07:30:10.994Z"
   },
   {
    "duration": 162,
    "start_time": "2022-02-23T07:30:11.467Z"
   },
   {
    "duration": 167,
    "start_time": "2022-02-23T07:30:11.630Z"
   },
   {
    "duration": 279,
    "start_time": "2022-02-23T07:30:11.798Z"
   },
   {
    "duration": 197,
    "start_time": "2022-02-23T07:30:12.078Z"
   },
   {
    "duration": 7,
    "start_time": "2022-02-23T07:30:12.277Z"
   },
   {
    "duration": 14,
    "start_time": "2022-02-23T07:30:12.286Z"
   },
   {
    "duration": 4,
    "start_time": "2022-02-23T07:30:12.301Z"
   },
   {
    "duration": 14,
    "start_time": "2022-02-23T07:30:12.307Z"
   },
   {
    "duration": 31,
    "start_time": "2022-02-23T07:30:12.322Z"
   },
   {
    "duration": 15,
    "start_time": "2022-02-23T07:30:12.354Z"
   },
   {
    "duration": 8,
    "start_time": "2022-02-23T07:30:12.370Z"
   },
   {
    "duration": 5,
    "start_time": "2022-02-23T07:30:12.379Z"
   },
   {
    "duration": 171,
    "start_time": "2022-02-23T07:30:12.386Z"
   },
   {
    "duration": 6,
    "start_time": "2022-02-23T07:30:12.559Z"
   },
   {
    "duration": 356,
    "start_time": "2022-02-23T07:30:12.569Z"
   },
   {
    "duration": 294,
    "start_time": "2022-02-23T07:34:35.756Z"
   },
   {
    "duration": 222,
    "start_time": "2022-02-23T07:34:42.117Z"
   },
   {
    "duration": 914,
    "start_time": "2022-02-23T07:34:48.298Z"
   },
   {
    "duration": 306,
    "start_time": "2022-02-23T07:34:57.140Z"
   },
   {
    "duration": 10,
    "start_time": "2022-02-23T07:44:29.365Z"
   },
   {
    "duration": 278,
    "start_time": "2022-02-23T07:45:59.180Z"
   },
   {
    "duration": 161,
    "start_time": "2022-02-23T07:46:12.239Z"
   },
   {
    "duration": 1618,
    "start_time": "2022-02-23T07:46:18.171Z"
   },
   {
    "duration": 425,
    "start_time": "2022-02-23T07:46:31.074Z"
   },
   {
    "duration": 396,
    "start_time": "2022-02-23T07:53:22.593Z"
   },
   {
    "duration": 281,
    "start_time": "2022-02-23T07:54:09.559Z"
   },
   {
    "duration": 290,
    "start_time": "2022-02-23T07:54:38.441Z"
   },
   {
    "duration": 4,
    "start_time": "2022-02-23T08:02:34.218Z"
   },
   {
    "duration": 599,
    "start_time": "2022-02-23T08:04:23.801Z"
   },
   {
    "duration": 274,
    "start_time": "2022-02-23T08:04:53.991Z"
   },
   {
    "duration": 290,
    "start_time": "2022-02-23T08:17:44.356Z"
   },
   {
    "duration": 191,
    "start_time": "2022-02-23T08:17:51.144Z"
   },
   {
    "duration": 178,
    "start_time": "2022-02-23T08:18:02.253Z"
   },
   {
    "duration": 178,
    "start_time": "2022-02-23T08:18:06.367Z"
   },
   {
    "duration": 568,
    "start_time": "2022-02-23T08:18:12.041Z"
   },
   {
    "duration": 181,
    "start_time": "2022-02-23T08:18:15.961Z"
   },
   {
    "duration": 182,
    "start_time": "2022-02-23T08:18:20.533Z"
   },
   {
    "duration": 185,
    "start_time": "2022-02-23T08:18:52.245Z"
   },
   {
    "duration": 167,
    "start_time": "2022-02-23T08:19:52.212Z"
   },
   {
    "duration": 5,
    "start_time": "2022-02-23T08:20:13.691Z"
   },
   {
    "duration": 168,
    "start_time": "2022-02-23T08:21:36.765Z"
   },
   {
    "duration": 179,
    "start_time": "2022-02-23T08:21:46.026Z"
   },
   {
    "duration": 152,
    "start_time": "2022-02-23T08:21:53.967Z"
   },
   {
    "duration": 144,
    "start_time": "2022-02-23T08:21:58.686Z"
   },
   {
    "duration": 133,
    "start_time": "2022-02-23T08:22:56.817Z"
   },
   {
    "duration": 140,
    "start_time": "2022-02-23T08:23:09.262Z"
   },
   {
    "duration": 139,
    "start_time": "2022-02-23T08:23:22.638Z"
   },
   {
    "duration": 141,
    "start_time": "2022-02-23T08:23:45.690Z"
   },
   {
    "duration": 146,
    "start_time": "2022-02-23T08:23:57.746Z"
   },
   {
    "duration": 144,
    "start_time": "2022-02-23T08:24:02.327Z"
   },
   {
    "duration": 145,
    "start_time": "2022-02-23T08:24:09.484Z"
   },
   {
    "duration": 149,
    "start_time": "2022-02-23T08:24:48.229Z"
   },
   {
    "duration": 147,
    "start_time": "2022-02-23T08:25:18.990Z"
   },
   {
    "duration": 83,
    "start_time": "2022-02-23T08:27:41.908Z"
   },
   {
    "duration": 143,
    "start_time": "2022-02-23T08:27:50.001Z"
   },
   {
    "duration": 166,
    "start_time": "2022-02-23T08:42:26.006Z"
   },
   {
    "duration": 165,
    "start_time": "2022-02-23T08:42:53.047Z"
   },
   {
    "duration": 372,
    "start_time": "2022-02-23T08:43:32.535Z"
   },
   {
    "duration": 163,
    "start_time": "2022-02-23T08:44:18.770Z"
   },
   {
    "duration": 165,
    "start_time": "2022-02-23T08:44:29.847Z"
   },
   {
    "duration": 161,
    "start_time": "2022-02-23T08:45:02.504Z"
   },
   {
    "duration": 291,
    "start_time": "2022-02-23T08:45:08.976Z"
   },
   {
    "duration": 218,
    "start_time": "2022-02-23T08:45:19.093Z"
   },
   {
    "duration": 184,
    "start_time": "2022-02-23T08:45:33.111Z"
   },
   {
    "duration": 182,
    "start_time": "2022-02-23T08:45:52.820Z"
   },
   {
    "duration": 167,
    "start_time": "2022-02-23T08:46:02.340Z"
   },
   {
    "duration": 208,
    "start_time": "2022-02-23T08:46:16.410Z"
   },
   {
    "duration": 284,
    "start_time": "2022-02-23T08:46:42.483Z"
   },
   {
    "duration": 299,
    "start_time": "2022-02-23T08:46:59.906Z"
   },
   {
    "duration": 84,
    "start_time": "2022-02-23T08:53:57.998Z"
   },
   {
    "duration": 90,
    "start_time": "2022-02-23T09:11:54.909Z"
   },
   {
    "duration": 96,
    "start_time": "2022-02-23T09:12:24.970Z"
   },
   {
    "duration": 294,
    "start_time": "2022-02-23T09:14:51.859Z"
   },
   {
    "duration": 451,
    "start_time": "2022-02-23T09:16:18.437Z"
   },
   {
    "duration": 303,
    "start_time": "2022-02-23T09:16:28.757Z"
   },
   {
    "duration": 122,
    "start_time": "2022-02-23T09:16:49.560Z"
   },
   {
    "duration": 5,
    "start_time": "2022-02-23T09:17:16.692Z"
   },
   {
    "duration": 175,
    "start_time": "2022-02-23T09:40:50.514Z"
   },
   {
    "duration": 92,
    "start_time": "2022-02-23T09:41:16.398Z"
   },
   {
    "duration": 5,
    "start_time": "2022-02-23T09:42:28.120Z"
   },
   {
    "duration": 87,
    "start_time": "2022-02-23T09:44:06.565Z"
   },
   {
    "duration": 337,
    "start_time": "2022-02-23T09:45:27.534Z"
   },
   {
    "duration": 441,
    "start_time": "2022-02-23T09:57:59.945Z"
   },
   {
    "duration": 575,
    "start_time": "2022-02-23T09:58:07.417Z"
   },
   {
    "duration": 629,
    "start_time": "2022-02-23T09:58:12.949Z"
   },
   {
    "duration": 427,
    "start_time": "2022-02-23T09:58:50.302Z"
   },
   {
    "duration": 478,
    "start_time": "2022-02-23T09:59:09.701Z"
   },
   {
    "duration": 130,
    "start_time": "2022-02-23T10:03:04.759Z"
   },
   {
    "duration": 133,
    "start_time": "2022-02-23T10:03:37.897Z"
   },
   {
    "duration": 133,
    "start_time": "2022-02-23T10:03:49.109Z"
   },
   {
    "duration": 440,
    "start_time": "2022-02-23T15:12:09.995Z"
   },
   {
    "duration": 866,
    "start_time": "2022-02-23T15:12:13.866Z"
   },
   {
    "duration": 121,
    "start_time": "2022-02-23T15:12:14.735Z"
   },
   {
    "duration": 124,
    "start_time": "2022-02-23T15:12:14.863Z"
   },
   {
    "duration": 25,
    "start_time": "2022-02-23T15:12:14.992Z"
   },
   {
    "duration": 9,
    "start_time": "2022-02-23T15:12:15.020Z"
   },
   {
    "duration": 35,
    "start_time": "2022-02-23T15:12:15.032Z"
   },
   {
    "duration": 18,
    "start_time": "2022-02-23T15:12:15.070Z"
   },
   {
    "duration": 5,
    "start_time": "2022-02-23T15:12:15.093Z"
   },
   {
    "duration": 6,
    "start_time": "2022-02-23T15:12:15.102Z"
   },
   {
    "duration": 15,
    "start_time": "2022-02-23T15:12:15.111Z"
   },
   {
    "duration": 69,
    "start_time": "2022-02-23T15:12:15.128Z"
   },
   {
    "duration": 118,
    "start_time": "2022-02-23T15:12:15.200Z"
   },
   {
    "duration": 20,
    "start_time": "2022-02-23T15:12:15.322Z"
   },
   {
    "duration": 19,
    "start_time": "2022-02-23T15:12:15.346Z"
   },
   {
    "duration": 6,
    "start_time": "2022-02-23T15:12:15.368Z"
   },
   {
    "duration": 6,
    "start_time": "2022-02-23T15:12:15.377Z"
   },
   {
    "duration": 15,
    "start_time": "2022-02-23T15:12:15.387Z"
   },
   {
    "duration": 21,
    "start_time": "2022-02-23T15:12:15.404Z"
   },
   {
    "duration": 46,
    "start_time": "2022-02-23T15:12:15.428Z"
   },
   {
    "duration": 14,
    "start_time": "2022-02-23T15:12:15.477Z"
   },
   {
    "duration": 9,
    "start_time": "2022-02-23T15:12:15.493Z"
   },
   {
    "duration": 9,
    "start_time": "2022-02-23T15:12:15.505Z"
   },
   {
    "duration": 8,
    "start_time": "2022-02-23T15:12:15.562Z"
   },
   {
    "duration": 8,
    "start_time": "2022-02-23T15:12:15.574Z"
   },
   {
    "duration": 4,
    "start_time": "2022-02-23T15:12:15.585Z"
   },
   {
    "duration": 1821,
    "start_time": "2022-02-23T15:12:15.591Z"
   },
   {
    "duration": 6,
    "start_time": "2022-02-23T15:12:17.415Z"
   },
   {
    "duration": 7,
    "start_time": "2022-02-23T15:12:17.423Z"
   },
   {
    "duration": 30,
    "start_time": "2022-02-23T15:12:17.432Z"
   },
   {
    "duration": 5,
    "start_time": "2022-02-23T15:12:17.464Z"
   },
   {
    "duration": 5,
    "start_time": "2022-02-23T15:12:17.472Z"
   },
   {
    "duration": 733,
    "start_time": "2022-02-23T15:12:17.479Z"
   },
   {
    "duration": 634,
    "start_time": "2022-02-23T15:12:18.215Z"
   },
   {
    "duration": 613,
    "start_time": "2022-02-23T15:12:18.851Z"
   },
   {
    "duration": 960,
    "start_time": "2022-02-23T15:12:19.467Z"
   },
   {
    "duration": 572,
    "start_time": "2022-02-23T15:12:20.430Z"
   },
   {
    "duration": 770,
    "start_time": "2022-02-23T15:12:21.006Z"
   },
   {
    "duration": 363,
    "start_time": "2022-02-23T15:12:21.779Z"
   },
   {
    "duration": 493,
    "start_time": "2022-02-23T15:12:22.146Z"
   },
   {
    "duration": 472,
    "start_time": "2022-02-23T15:12:22.642Z"
   },
   {
    "duration": 510,
    "start_time": "2022-02-23T15:12:23.117Z"
   },
   {
    "duration": 406,
    "start_time": "2022-02-23T15:12:23.630Z"
   },
   {
    "duration": 830,
    "start_time": "2022-02-23T15:12:23.211Z"
   },
   {
    "duration": 821,
    "start_time": "2022-02-23T15:12:23.223Z"
   },
   {
    "duration": 815,
    "start_time": "2022-02-23T15:12:23.231Z"
   },
   {
    "duration": 794,
    "start_time": "2022-02-23T15:12:23.255Z"
   },
   {
    "duration": 787,
    "start_time": "2022-02-23T15:12:23.264Z"
   },
   {
    "duration": 780,
    "start_time": "2022-02-23T15:12:23.273Z"
   },
   {
    "duration": 771,
    "start_time": "2022-02-23T15:12:23.285Z"
   },
   {
    "duration": 763,
    "start_time": "2022-02-23T15:12:23.295Z"
   },
   {
    "duration": 756,
    "start_time": "2022-02-23T15:12:23.305Z"
   },
   {
    "duration": 750,
    "start_time": "2022-02-23T15:12:23.313Z"
   },
   {
    "duration": 741,
    "start_time": "2022-02-23T15:12:23.324Z"
   },
   {
    "duration": 733,
    "start_time": "2022-02-23T15:12:23.334Z"
   },
   {
    "duration": 726,
    "start_time": "2022-02-23T15:12:23.344Z"
   },
   {
    "duration": 706,
    "start_time": "2022-02-23T15:12:23.366Z"
   },
   {
    "duration": 697,
    "start_time": "2022-02-23T15:12:23.377Z"
   },
   {
    "duration": 690,
    "start_time": "2022-02-23T15:12:23.386Z"
   },
   {
    "duration": 682,
    "start_time": "2022-02-23T15:12:23.396Z"
   },
   {
    "duration": 677,
    "start_time": "2022-02-23T15:12:23.404Z"
   },
   {
    "duration": 669,
    "start_time": "2022-02-23T15:12:23.414Z"
   },
   {
    "duration": 663,
    "start_time": "2022-02-23T15:12:23.422Z"
   },
   {
    "duration": 656,
    "start_time": "2022-02-23T15:12:23.431Z"
   },
   {
    "duration": 647,
    "start_time": "2022-02-23T15:12:23.442Z"
   },
   {
    "duration": 640,
    "start_time": "2022-02-23T15:12:23.451Z"
   },
   {
    "duration": 633,
    "start_time": "2022-02-23T15:12:23.460Z"
   },
   {
    "duration": 609,
    "start_time": "2022-02-23T15:12:23.485Z"
   },
   {
    "duration": 602,
    "start_time": "2022-02-23T15:12:23.494Z"
   },
   {
    "duration": 567,
    "start_time": "2022-02-23T15:12:23.531Z"
   },
   {
    "duration": 560,
    "start_time": "2022-02-23T15:12:23.540Z"
   },
   {
    "duration": 552,
    "start_time": "2022-02-23T15:12:23.549Z"
   },
   {
    "duration": 544,
    "start_time": "2022-02-23T15:12:23.558Z"
   },
   {
    "duration": 535,
    "start_time": "2022-02-23T15:12:23.568Z"
   },
   {
    "duration": 527,
    "start_time": "2022-02-23T15:12:23.577Z"
   },
   {
    "duration": 499,
    "start_time": "2022-02-23T15:12:23.606Z"
   },
   {
    "duration": 491,
    "start_time": "2022-02-23T15:12:23.615Z"
   },
   {
    "duration": 484,
    "start_time": "2022-02-23T15:12:23.624Z"
   },
   {
    "duration": 530,
    "start_time": "2022-02-23T15:12:23.632Z"
   },
   {
    "duration": 522,
    "start_time": "2022-02-23T15:12:23.642Z"
   },
   {
    "duration": 516,
    "start_time": "2022-02-23T15:12:23.650Z"
   },
   {
    "duration": 507,
    "start_time": "2022-02-23T15:12:23.660Z"
   },
   {
    "duration": 491,
    "start_time": "2022-02-23T15:12:23.677Z"
   },
   {
    "duration": 483,
    "start_time": "2022-02-23T15:12:23.686Z"
   },
   {
    "duration": 477,
    "start_time": "2022-02-23T15:12:23.694Z"
   },
   {
    "duration": 449,
    "start_time": "2022-02-23T15:12:23.723Z"
   },
   {
    "duration": 307,
    "start_time": "2022-02-23T15:12:31.448Z"
   },
   {
    "duration": 306,
    "start_time": "2022-02-23T15:13:06.790Z"
   },
   {
    "duration": 7,
    "start_time": "2022-02-23T15:13:13.171Z"
   },
   {
    "duration": 95,
    "start_time": "2022-02-23T15:13:13.181Z"
   },
   {
    "duration": 90,
    "start_time": "2022-02-23T15:13:13.279Z"
   },
   {
    "duration": 15,
    "start_time": "2022-02-23T15:13:13.372Z"
   },
   {
    "duration": 7,
    "start_time": "2022-02-23T15:13:13.402Z"
   },
   {
    "duration": 4,
    "start_time": "2022-02-23T15:13:13.412Z"
   },
   {
    "duration": 47,
    "start_time": "2022-02-23T15:13:13.421Z"
   },
   {
    "duration": 6,
    "start_time": "2022-02-23T15:13:13.472Z"
   },
   {
    "duration": 6,
    "start_time": "2022-02-23T15:13:13.481Z"
   },
   {
    "duration": 5,
    "start_time": "2022-02-23T15:13:13.490Z"
   },
   {
    "duration": 86,
    "start_time": "2022-02-23T15:13:13.498Z"
   },
   {
    "duration": 93,
    "start_time": "2022-02-23T15:13:13.587Z"
   },
   {
    "duration": 13,
    "start_time": "2022-02-23T15:13:13.682Z"
   },
   {
    "duration": 10,
    "start_time": "2022-02-23T15:13:13.697Z"
   },
   {
    "duration": 8,
    "start_time": "2022-02-23T15:13:13.710Z"
   },
   {
    "duration": 41,
    "start_time": "2022-02-23T15:13:13.722Z"
   },
   {
    "duration": 7,
    "start_time": "2022-02-23T15:13:13.766Z"
   },
   {
    "duration": 17,
    "start_time": "2022-02-23T15:13:13.776Z"
   },
   {
    "duration": 16,
    "start_time": "2022-02-23T15:13:13.798Z"
   },
   {
    "duration": 49,
    "start_time": "2022-02-23T15:13:13.818Z"
   },
   {
    "duration": 9,
    "start_time": "2022-02-23T15:13:13.869Z"
   },
   {
    "duration": 12,
    "start_time": "2022-02-23T15:13:13.881Z"
   },
   {
    "duration": 7,
    "start_time": "2022-02-23T15:13:13.896Z"
   },
   {
    "duration": 9,
    "start_time": "2022-02-23T15:13:13.905Z"
   },
   {
    "duration": 45,
    "start_time": "2022-02-23T15:13:13.916Z"
   },
   {
    "duration": 1838,
    "start_time": "2022-02-23T15:13:13.965Z"
   },
   {
    "duration": 6,
    "start_time": "2022-02-23T15:13:15.807Z"
   },
   {
    "duration": 6,
    "start_time": "2022-02-23T15:13:15.816Z"
   },
   {
    "duration": 8,
    "start_time": "2022-02-23T15:13:15.825Z"
   },
   {
    "duration": 30,
    "start_time": "2022-02-23T15:13:15.835Z"
   },
   {
    "duration": 4,
    "start_time": "2022-02-23T15:13:15.868Z"
   },
   {
    "duration": 579,
    "start_time": "2022-02-23T15:13:15.875Z"
   },
   {
    "duration": 657,
    "start_time": "2022-02-23T15:13:16.461Z"
   },
   {
    "duration": 976,
    "start_time": "2022-02-23T15:13:17.121Z"
   },
   {
    "duration": 585,
    "start_time": "2022-02-23T15:13:18.100Z"
   },
   {
    "duration": 558,
    "start_time": "2022-02-23T15:13:18.687Z"
   },
   {
    "duration": 562,
    "start_time": "2022-02-23T15:13:19.248Z"
   },
   {
    "duration": 341,
    "start_time": "2022-02-23T15:13:19.813Z"
   },
   {
    "duration": 305,
    "start_time": "2022-02-23T15:13:20.156Z"
   },
   {
    "duration": 372,
    "start_time": "2022-02-23T15:13:20.463Z"
   },
   {
    "duration": 328,
    "start_time": "2022-02-23T15:13:20.838Z"
   },
   {
    "duration": 304,
    "start_time": "2022-02-23T15:13:21.168Z"
   },
   {
    "duration": 826,
    "start_time": "2022-02-23T15:13:20.650Z"
   },
   {
    "duration": 818,
    "start_time": "2022-02-23T15:13:20.660Z"
   },
   {
    "duration": 802,
    "start_time": "2022-02-23T15:13:20.678Z"
   },
   {
    "duration": 776,
    "start_time": "2022-02-23T15:13:20.706Z"
   },
   {
    "duration": 758,
    "start_time": "2022-02-23T15:13:20.726Z"
   },
   {
    "duration": 738,
    "start_time": "2022-02-23T15:13:20.747Z"
   },
   {
    "duration": 707,
    "start_time": "2022-02-23T15:13:20.780Z"
   },
   {
    "duration": 674,
    "start_time": "2022-02-23T15:13:20.815Z"
   },
   {
    "duration": 644,
    "start_time": "2022-02-23T15:13:20.847Z"
   },
   {
    "duration": 632,
    "start_time": "2022-02-23T15:13:20.860Z"
   },
   {
    "duration": 628,
    "start_time": "2022-02-23T15:13:20.866Z"
   },
   {
    "duration": 623,
    "start_time": "2022-02-23T15:13:20.874Z"
   },
   {
    "duration": 618,
    "start_time": "2022-02-23T15:13:20.880Z"
   },
   {
    "duration": 612,
    "start_time": "2022-02-23T15:13:20.888Z"
   },
   {
    "duration": 607,
    "start_time": "2022-02-23T15:13:20.895Z"
   },
   {
    "duration": 601,
    "start_time": "2022-02-23T15:13:20.902Z"
   },
   {
    "duration": 596,
    "start_time": "2022-02-23T15:13:20.909Z"
   },
   {
    "duration": 591,
    "start_time": "2022-02-23T15:13:20.916Z"
   },
   {
    "duration": 585,
    "start_time": "2022-02-23T15:13:20.923Z"
   },
   {
    "duration": 580,
    "start_time": "2022-02-23T15:13:20.930Z"
   },
   {
    "duration": 575,
    "start_time": "2022-02-23T15:13:20.937Z"
   },
   {
    "duration": 551,
    "start_time": "2022-02-23T15:13:20.962Z"
   },
   {
    "duration": 545,
    "start_time": "2022-02-23T15:13:20.969Z"
   },
   {
    "duration": 538,
    "start_time": "2022-02-23T15:13:20.977Z"
   },
   {
    "duration": 577,
    "start_time": "2022-02-23T15:13:20.984Z"
   },
   {
    "duration": 571,
    "start_time": "2022-02-23T15:13:20.991Z"
   },
   {
    "duration": 566,
    "start_time": "2022-02-23T15:13:20.998Z"
   },
   {
    "duration": 561,
    "start_time": "2022-02-23T15:13:21.005Z"
   },
   {
    "duration": 555,
    "start_time": "2022-02-23T15:13:21.013Z"
   },
   {
    "duration": 549,
    "start_time": "2022-02-23T15:13:21.020Z"
   },
   {
    "duration": 543,
    "start_time": "2022-02-23T15:13:21.028Z"
   },
   {
    "duration": 435,
    "start_time": "2022-02-23T15:13:21.137Z"
   },
   {
    "duration": 419,
    "start_time": "2022-02-23T15:13:21.155Z"
   },
   {
    "duration": 401,
    "start_time": "2022-02-23T15:13:21.174Z"
   },
   {
    "duration": 352,
    "start_time": "2022-02-23T15:13:21.225Z"
   },
   {
    "duration": 329,
    "start_time": "2022-02-23T15:13:21.249Z"
   },
   {
    "duration": 322,
    "start_time": "2022-02-23T15:13:21.257Z"
   },
   {
    "duration": 317,
    "start_time": "2022-02-23T15:13:21.264Z"
   },
   {
    "duration": 312,
    "start_time": "2022-02-23T15:13:21.271Z"
   },
   {
    "duration": 305,
    "start_time": "2022-02-23T15:13:21.279Z"
   },
   {
    "duration": 300,
    "start_time": "2022-02-23T15:13:21.286Z"
   },
   {
    "duration": 293,
    "start_time": "2022-02-23T15:13:21.294Z"
   },
   {
    "duration": 285,
    "start_time": "2022-02-23T15:13:21.303Z"
   },
   {
    "duration": 473,
    "start_time": "2022-02-23T15:15:05.561Z"
   },
   {
    "duration": 13,
    "start_time": "2022-02-23T15:15:09.110Z"
   },
   {
    "duration": 15,
    "start_time": "2022-02-23T15:15:14.349Z"
   },
   {
    "duration": 12,
    "start_time": "2022-02-23T15:15:16.284Z"
   },
   {
    "duration": 4,
    "start_time": "2022-02-23T15:15:19.230Z"
   },
   {
    "duration": 80,
    "start_time": "2022-02-23T15:15:19.239Z"
   },
   {
    "duration": 84,
    "start_time": "2022-02-23T15:15:19.322Z"
   },
   {
    "duration": 15,
    "start_time": "2022-02-23T15:15:19.410Z"
   },
   {
    "duration": 34,
    "start_time": "2022-02-23T15:15:19.428Z"
   },
   {
    "duration": 5,
    "start_time": "2022-02-23T15:15:19.464Z"
   },
   {
    "duration": 17,
    "start_time": "2022-02-23T15:15:19.471Z"
   },
   {
    "duration": 6,
    "start_time": "2022-02-23T15:15:19.491Z"
   },
   {
    "duration": 4,
    "start_time": "2022-02-23T15:15:19.502Z"
   },
   {
    "duration": 6,
    "start_time": "2022-02-23T15:15:19.509Z"
   },
   {
    "duration": 36,
    "start_time": "2022-02-23T15:15:19.562Z"
   },
   {
    "duration": 98,
    "start_time": "2022-02-23T15:15:19.600Z"
   },
   {
    "duration": 11,
    "start_time": "2022-02-23T15:15:19.701Z"
   },
   {
    "duration": 8,
    "start_time": "2022-02-23T15:15:19.715Z"
   },
   {
    "duration": 38,
    "start_time": "2022-02-23T15:15:19.725Z"
   },
   {
    "duration": 5,
    "start_time": "2022-02-23T15:15:19.765Z"
   },
   {
    "duration": 12,
    "start_time": "2022-02-23T15:15:19.773Z"
   },
   {
    "duration": 16,
    "start_time": "2022-02-23T15:15:19.787Z"
   },
   {
    "duration": 13,
    "start_time": "2022-02-23T15:15:19.806Z"
   },
   {
    "duration": 14,
    "start_time": "2022-02-23T15:15:19.860Z"
   },
   {
    "duration": 10,
    "start_time": "2022-02-23T15:15:19.876Z"
   },
   {
    "duration": 9,
    "start_time": "2022-02-23T15:15:19.889Z"
   },
   {
    "duration": 7,
    "start_time": "2022-02-23T15:15:19.901Z"
   },
   {
    "duration": 48,
    "start_time": "2022-02-23T15:15:19.915Z"
   },
   {
    "duration": 4,
    "start_time": "2022-02-23T15:15:19.968Z"
   },
   {
    "duration": 997,
    "start_time": "2022-02-23T15:15:19.975Z"
   },
   {
    "duration": 6,
    "start_time": "2022-02-23T15:15:20.974Z"
   },
   {
    "duration": 10,
    "start_time": "2022-02-23T15:15:20.983Z"
   },
   {
    "duration": 8,
    "start_time": "2022-02-23T15:15:20.996Z"
   },
   {
    "duration": 5,
    "start_time": "2022-02-23T15:15:21.007Z"
   },
   {
    "duration": 607,
    "start_time": "2022-02-23T15:15:21.014Z"
   },
   {
    "duration": 619,
    "start_time": "2022-02-23T15:15:21.623Z"
   },
   {
    "duration": 656,
    "start_time": "2022-02-23T15:15:22.244Z"
   },
   {
    "duration": 603,
    "start_time": "2022-02-23T15:15:22.903Z"
   },
   {
    "duration": 540,
    "start_time": "2022-02-23T15:15:23.510Z"
   },
   {
    "duration": 551,
    "start_time": "2022-02-23T15:15:24.053Z"
   },
   {
    "duration": 370,
    "start_time": "2022-02-23T15:15:24.607Z"
   },
   {
    "duration": 325,
    "start_time": "2022-02-23T15:15:24.979Z"
   },
   {
    "duration": 303,
    "start_time": "2022-02-23T15:15:25.307Z"
   },
   {
    "duration": 408,
    "start_time": "2022-02-23T15:15:25.613Z"
   },
   {
    "duration": 480,
    "start_time": "2022-02-23T15:15:26.024Z"
   },
   {
    "duration": 11,
    "start_time": "2022-02-23T15:15:26.506Z"
   },
   {
    "duration": 12,
    "start_time": "2022-02-23T15:15:26.520Z"
   },
   {
    "duration": 36,
    "start_time": "2022-02-23T15:15:26.534Z"
   },
   {
    "duration": 10,
    "start_time": "2022-02-23T15:15:26.573Z"
   },
   {
    "duration": 32,
    "start_time": "2022-02-23T15:15:26.586Z"
   },
   {
    "duration": 47,
    "start_time": "2022-02-23T15:15:26.620Z"
   },
   {
    "duration": 6,
    "start_time": "2022-02-23T15:15:26.669Z"
   },
   {
    "duration": 746,
    "start_time": "2022-02-23T15:15:26.677Z"
   },
   {
    "duration": 7,
    "start_time": "2022-02-23T15:15:27.426Z"
   },
   {
    "duration": 364,
    "start_time": "2022-02-23T15:15:27.435Z"
   },
   {
    "duration": 7,
    "start_time": "2022-02-23T15:15:27.802Z"
   },
   {
    "duration": 729,
    "start_time": "2022-02-23T15:15:27.811Z"
   },
   {
    "duration": 243,
    "start_time": "2022-02-23T15:15:28.543Z"
   },
   {
    "duration": 291,
    "start_time": "2022-02-23T15:15:28.789Z"
   },
   {
    "duration": 338,
    "start_time": "2022-02-23T15:15:29.083Z"
   },
   {
    "duration": 339,
    "start_time": "2022-02-23T15:15:29.423Z"
   },
   {
    "duration": 12,
    "start_time": "2022-02-23T15:15:29.765Z"
   },
   {
    "duration": 11,
    "start_time": "2022-02-23T15:15:29.780Z"
   },
   {
    "duration": 5,
    "start_time": "2022-02-23T15:15:29.794Z"
   },
   {
    "duration": 16,
    "start_time": "2022-02-23T15:15:29.802Z"
   },
   {
    "duration": 49,
    "start_time": "2022-02-23T15:15:29.821Z"
   },
   {
    "duration": 21,
    "start_time": "2022-02-23T15:15:29.873Z"
   },
   {
    "duration": 12,
    "start_time": "2022-02-23T15:15:29.896Z"
   },
   {
    "duration": 6,
    "start_time": "2022-02-23T15:15:29.911Z"
   },
   {
    "duration": 325,
    "start_time": "2022-02-23T15:15:29.919Z"
   },
   {
    "duration": 18,
    "start_time": "2022-02-23T15:15:30.247Z"
   },
   {
    "duration": 664,
    "start_time": "2022-02-23T15:15:30.269Z"
   },
   {
    "duration": 558,
    "start_time": "2022-02-23T15:15:30.940Z"
   },
   {
    "duration": 533,
    "start_time": "2022-02-23T15:15:31.501Z"
   },
   {
    "duration": 569,
    "start_time": "2022-02-23T15:15:32.037Z"
   },
   {
    "duration": 589,
    "start_time": "2022-02-23T15:15:32.609Z"
   },
   {
    "duration": 314,
    "start_time": "2022-02-23T15:15:33.201Z"
   },
   {
    "duration": 351,
    "start_time": "2022-02-23T15:15:33.518Z"
   },
   {
    "duration": 280,
    "start_time": "2022-02-23T15:15:33.872Z"
   },
   {
    "duration": 322,
    "start_time": "2022-02-23T15:15:34.161Z"
   },
   {
    "duration": 434,
    "start_time": "2022-02-23T15:15:34.486Z"
   },
   {
    "duration": 7,
    "start_time": "2022-02-23T15:15:34.923Z"
   },
   {
    "duration": 340,
    "start_time": "2022-02-23T15:15:34.932Z"
   },
   {
    "duration": 8,
    "start_time": "2022-02-23T15:15:35.275Z"
   },
   {
    "duration": 454,
    "start_time": "2022-02-23T15:15:35.285Z"
   },
   {
    "duration": 248,
    "start_time": "2022-02-23T15:15:35.742Z"
   },
   {
    "duration": 295,
    "start_time": "2022-02-23T15:15:35.992Z"
   },
   {
    "duration": 363,
    "start_time": "2022-02-23T15:17:53.816Z"
   },
   {
    "duration": 363,
    "start_time": "2022-02-23T15:19:53.526Z"
   },
   {
    "duration": 382,
    "start_time": "2022-02-23T15:20:03.083Z"
   },
   {
    "duration": 435,
    "start_time": "2022-02-23T15:20:11.172Z"
   },
   {
    "duration": 334,
    "start_time": "2022-02-23T15:22:33.963Z"
   },
   {
    "duration": 52,
    "start_time": "2022-02-23T15:35:28.626Z"
   },
   {
    "duration": 40,
    "start_time": "2022-02-23T17:03:28.495Z"
   },
   {
    "duration": 94,
    "start_time": "2022-03-06T09:58:14.273Z"
   },
   {
    "duration": 80,
    "start_time": "2022-03-06T10:01:36.418Z"
   },
   {
    "duration": 71,
    "start_time": "2022-03-06T10:08:14.406Z"
   },
   {
    "duration": 73,
    "start_time": "2022-03-06T10:11:16.600Z"
   },
   {
    "duration": 75,
    "start_time": "2022-03-06T10:12:00.466Z"
   },
   {
    "duration": 1337,
    "start_time": "2022-03-06T10:14:16.279Z"
   },
   {
    "duration": 257,
    "start_time": "2022-03-06T10:14:20.868Z"
   },
   {
    "duration": 87,
    "start_time": "2022-03-06T10:14:21.128Z"
   },
   {
    "duration": 42,
    "start_time": "2022-03-06T10:14:21.218Z"
   },
   {
    "duration": 17,
    "start_time": "2022-03-06T10:14:21.272Z"
   },
   {
    "duration": 5,
    "start_time": "2022-03-06T10:14:21.292Z"
   },
   {
    "duration": 4,
    "start_time": "2022-03-06T10:14:21.299Z"
   },
   {
    "duration": 19,
    "start_time": "2022-03-06T10:14:21.305Z"
   },
   {
    "duration": 6,
    "start_time": "2022-03-06T10:14:21.326Z"
   },
   {
    "duration": 7,
    "start_time": "2022-03-06T10:14:21.337Z"
   },
   {
    "duration": 7,
    "start_time": "2022-03-06T10:14:21.348Z"
   },
   {
    "duration": 41,
    "start_time": "2022-03-06T10:14:21.358Z"
   },
   {
    "duration": 72,
    "start_time": "2022-03-06T10:14:21.401Z"
   },
   {
    "duration": 11,
    "start_time": "2022-03-06T10:14:21.476Z"
   },
   {
    "duration": 7,
    "start_time": "2022-03-06T10:14:21.490Z"
   },
   {
    "duration": 5,
    "start_time": "2022-03-06T10:14:21.500Z"
   },
   {
    "duration": 5,
    "start_time": "2022-03-06T10:14:21.507Z"
   },
   {
    "duration": 11,
    "start_time": "2022-03-06T10:14:21.514Z"
   },
   {
    "duration": 20,
    "start_time": "2022-03-06T10:14:21.527Z"
   },
   {
    "duration": 16,
    "start_time": "2022-03-06T10:14:21.549Z"
   },
   {
    "duration": 16,
    "start_time": "2022-03-06T10:14:21.567Z"
   },
   {
    "duration": 7,
    "start_time": "2022-03-06T10:14:21.585Z"
   },
   {
    "duration": 9,
    "start_time": "2022-03-06T10:14:21.594Z"
   },
   {
    "duration": 8,
    "start_time": "2022-03-06T10:14:21.606Z"
   },
   {
    "duration": 18,
    "start_time": "2022-03-06T10:14:21.616Z"
   },
   {
    "duration": 4,
    "start_time": "2022-03-06T10:14:21.636Z"
   },
   {
    "duration": 1265,
    "start_time": "2022-03-06T10:14:21.643Z"
   },
   {
    "duration": 5,
    "start_time": "2022-03-06T10:14:22.914Z"
   },
   {
    "duration": 7,
    "start_time": "2022-03-06T10:14:22.923Z"
   },
   {
    "duration": 5,
    "start_time": "2022-03-06T10:14:22.932Z"
   },
   {
    "duration": 9,
    "start_time": "2022-03-06T10:14:22.940Z"
   },
   {
    "duration": 607,
    "start_time": "2022-03-06T10:14:22.973Z"
   },
   {
    "duration": 619,
    "start_time": "2022-03-06T10:14:23.583Z"
   },
   {
    "duration": 573,
    "start_time": "2022-03-06T10:14:24.205Z"
   },
   {
    "duration": 561,
    "start_time": "2022-03-06T10:14:24.781Z"
   },
   {
    "duration": 547,
    "start_time": "2022-03-06T10:14:25.344Z"
   },
   {
    "duration": 667,
    "start_time": "2022-03-06T10:14:25.893Z"
   },
   {
    "duration": 365,
    "start_time": "2022-03-06T10:14:26.563Z"
   },
   {
    "duration": 321,
    "start_time": "2022-03-06T10:14:26.930Z"
   },
   {
    "duration": 307,
    "start_time": "2022-03-06T10:14:27.254Z"
   },
   {
    "duration": 346,
    "start_time": "2022-03-06T10:14:27.564Z"
   },
   {
    "duration": 556,
    "start_time": "2022-03-06T10:14:27.913Z"
   },
   {
    "duration": 12,
    "start_time": "2022-03-06T10:14:28.470Z"
   },
   {
    "duration": 18,
    "start_time": "2022-03-06T10:14:28.484Z"
   },
   {
    "duration": 21,
    "start_time": "2022-03-06T10:14:28.504Z"
   },
   {
    "duration": 10,
    "start_time": "2022-03-06T10:14:28.527Z"
   },
   {
    "duration": 40,
    "start_time": "2022-03-06T10:14:28.572Z"
   },
   {
    "duration": 18,
    "start_time": "2022-03-06T10:14:28.614Z"
   },
   {
    "duration": 5,
    "start_time": "2022-03-06T10:14:28.635Z"
   },
   {
    "duration": 762,
    "start_time": "2022-03-06T10:14:28.643Z"
   },
   {
    "duration": 6,
    "start_time": "2022-03-06T10:14:29.408Z"
   },
   {
    "duration": 350,
    "start_time": "2022-03-06T10:14:29.416Z"
   },
   {
    "duration": 6,
    "start_time": "2022-03-06T10:14:29.773Z"
   },
   {
    "duration": 719,
    "start_time": "2022-03-06T10:14:29.781Z"
   },
   {
    "duration": 257,
    "start_time": "2022-03-06T10:14:30.502Z"
   },
   {
    "duration": 397,
    "start_time": "2022-03-06T10:14:30.762Z"
   },
   {
    "duration": 375,
    "start_time": "2022-03-06T10:14:31.161Z"
   },
   {
    "duration": 332,
    "start_time": "2022-03-06T10:14:31.538Z"
   },
   {
    "duration": 11,
    "start_time": "2022-03-06T10:14:31.872Z"
   },
   {
    "duration": 21,
    "start_time": "2022-03-06T10:14:31.886Z"
   },
   {
    "duration": 24,
    "start_time": "2022-03-06T10:14:31.909Z"
   },
   {
    "duration": 32,
    "start_time": "2022-03-06T10:14:31.935Z"
   },
   {
    "duration": 33,
    "start_time": "2022-03-06T10:14:31.969Z"
   },
   {
    "duration": 31,
    "start_time": "2022-03-06T10:14:32.004Z"
   },
   {
    "duration": 20,
    "start_time": "2022-03-06T10:14:32.038Z"
   },
   {
    "duration": 22,
    "start_time": "2022-03-06T10:14:32.061Z"
   },
   {
    "duration": 302,
    "start_time": "2022-03-06T10:14:32.085Z"
   },
   {
    "duration": 10,
    "start_time": "2022-03-06T10:14:32.390Z"
   },
   {
    "duration": 582,
    "start_time": "2022-03-06T10:14:32.402Z"
   },
   {
    "duration": 564,
    "start_time": "2022-03-06T10:14:32.986Z"
   },
   {
    "duration": 552,
    "start_time": "2022-03-06T10:14:33.552Z"
   },
   {
    "duration": 633,
    "start_time": "2022-03-06T10:14:34.106Z"
   },
   {
    "duration": 428,
    "start_time": "2022-03-06T10:14:34.741Z"
   },
   {
    "duration": 289,
    "start_time": "2022-03-06T10:14:35.174Z"
   },
   {
    "duration": 283,
    "start_time": "2022-03-06T10:14:35.474Z"
   },
   {
    "duration": 350,
    "start_time": "2022-03-06T10:14:35.759Z"
   },
   {
    "duration": 750,
    "start_time": "2022-03-06T10:14:36.112Z"
   },
   {
    "duration": 504,
    "start_time": "2022-03-06T10:14:36.865Z"
   },
   {
    "duration": 9,
    "start_time": "2022-03-06T10:14:37.372Z"
   },
   {
    "duration": 385,
    "start_time": "2022-03-06T10:14:37.385Z"
   },
   {
    "duration": 9,
    "start_time": "2022-03-06T10:14:37.773Z"
   },
   {
    "duration": 523,
    "start_time": "2022-03-06T10:14:37.795Z"
   },
   {
    "duration": 261,
    "start_time": "2022-03-06T10:14:38.321Z"
   },
   {
    "duration": 414,
    "start_time": "2022-03-06T10:14:38.585Z"
   },
   {
    "duration": 371,
    "start_time": "2022-03-06T10:14:39.002Z"
   },
   {
    "duration": 348,
    "start_time": "2022-03-06T10:14:39.376Z"
   },
   {
    "duration": 698,
    "start_time": "2022-03-06T10:15:04.388Z"
   },
   {
    "duration": 2412,
    "start_time": "2022-03-13T18:43:31.972Z"
   },
   {
    "duration": 828,
    "start_time": "2022-03-13T18:43:46.115Z"
   },
   {
    "duration": 66,
    "start_time": "2022-03-13T18:43:46.945Z"
   },
   {
    "duration": 29,
    "start_time": "2022-03-13T18:43:47.013Z"
   },
   {
    "duration": 21,
    "start_time": "2022-03-13T18:43:47.044Z"
   },
   {
    "duration": 5,
    "start_time": "2022-03-13T18:43:47.067Z"
   },
   {
    "duration": 3,
    "start_time": "2022-03-13T18:43:47.074Z"
   },
   {
    "duration": 10,
    "start_time": "2022-03-13T18:43:47.078Z"
   },
   {
    "duration": 5,
    "start_time": "2022-03-13T18:43:47.090Z"
   },
   {
    "duration": 3,
    "start_time": "2022-03-13T18:43:47.097Z"
   },
   {
    "duration": 6,
    "start_time": "2022-03-13T18:43:47.102Z"
   },
   {
    "duration": 66,
    "start_time": "2022-03-13T18:43:47.110Z"
   },
   {
    "duration": 41,
    "start_time": "2022-03-13T18:43:47.177Z"
   },
   {
    "duration": 7,
    "start_time": "2022-03-13T18:43:47.220Z"
   },
   {
    "duration": 5,
    "start_time": "2022-03-13T18:43:47.258Z"
   },
   {
    "duration": 5,
    "start_time": "2022-03-13T18:43:47.265Z"
   },
   {
    "duration": 4,
    "start_time": "2022-03-13T18:43:47.272Z"
   },
   {
    "duration": 4,
    "start_time": "2022-03-13T18:43:47.278Z"
   },
   {
    "duration": 12,
    "start_time": "2022-03-13T18:43:47.283Z"
   },
   {
    "duration": 11,
    "start_time": "2022-03-13T18:43:47.297Z"
   },
   {
    "duration": 8,
    "start_time": "2022-03-13T18:43:47.310Z"
   },
   {
    "duration": 41,
    "start_time": "2022-03-13T18:43:47.320Z"
   },
   {
    "duration": 7,
    "start_time": "2022-03-13T18:43:47.363Z"
   },
   {
    "duration": 5,
    "start_time": "2022-03-13T18:43:47.373Z"
   },
   {
    "duration": 7,
    "start_time": "2022-03-13T18:43:47.380Z"
   },
   {
    "duration": 3,
    "start_time": "2022-03-13T18:43:47.388Z"
   },
   {
    "duration": 643,
    "start_time": "2022-03-13T18:43:47.393Z"
   },
   {
    "duration": 4,
    "start_time": "2022-03-13T18:43:48.037Z"
   },
   {
    "duration": 16,
    "start_time": "2022-03-13T18:43:48.043Z"
   },
   {
    "duration": 3,
    "start_time": "2022-03-13T18:43:48.061Z"
   },
   {
    "duration": 5,
    "start_time": "2022-03-13T18:43:48.066Z"
   },
   {
    "duration": 497,
    "start_time": "2022-03-13T18:43:48.073Z"
   },
   {
    "duration": 441,
    "start_time": "2022-03-13T18:43:48.572Z"
   },
   {
    "duration": 387,
    "start_time": "2022-03-13T18:43:49.014Z"
   },
   {
    "duration": 381,
    "start_time": "2022-03-13T18:43:49.403Z"
   },
   {
    "duration": 542,
    "start_time": "2022-03-13T18:43:49.785Z"
   },
   {
    "duration": 531,
    "start_time": "2022-03-13T18:43:50.329Z"
   },
   {
    "duration": 241,
    "start_time": "2022-03-13T18:43:50.863Z"
   },
   {
    "duration": 212,
    "start_time": "2022-03-13T18:43:51.106Z"
   },
   {
    "duration": 209,
    "start_time": "2022-03-13T18:43:51.320Z"
   },
   {
    "duration": 232,
    "start_time": "2022-03-13T18:43:51.531Z"
   },
   {
    "duration": 324,
    "start_time": "2022-03-13T18:43:51.765Z"
   },
   {
    "duration": 9,
    "start_time": "2022-03-13T18:43:52.091Z"
   },
   {
    "duration": 11,
    "start_time": "2022-03-13T18:43:52.102Z"
   },
   {
    "duration": 9,
    "start_time": "2022-03-13T18:43:52.115Z"
   },
   {
    "duration": 37,
    "start_time": "2022-03-13T18:43:52.126Z"
   },
   {
    "duration": 20,
    "start_time": "2022-03-13T18:43:52.165Z"
   },
   {
    "duration": 11,
    "start_time": "2022-03-13T18:43:52.187Z"
   },
   {
    "duration": 8,
    "start_time": "2022-03-13T18:43:52.200Z"
   },
   {
    "duration": 550,
    "start_time": "2022-03-13T18:43:52.210Z"
   },
   {
    "duration": 5,
    "start_time": "2022-03-13T18:43:52.764Z"
   },
   {
    "duration": 234,
    "start_time": "2022-03-13T18:43:52.772Z"
   },
   {
    "duration": 5,
    "start_time": "2022-03-13T18:43:53.007Z"
   },
   {
    "duration": 524,
    "start_time": "2022-03-13T18:43:53.014Z"
   },
   {
    "duration": 189,
    "start_time": "2022-03-13T18:43:53.540Z"
   },
   {
    "duration": 261,
    "start_time": "2022-03-13T18:43:53.731Z"
   },
   {
    "duration": 236,
    "start_time": "2022-03-13T18:43:53.994Z"
   },
   {
    "duration": 227,
    "start_time": "2022-03-13T18:43:54.232Z"
   },
   {
    "duration": 8,
    "start_time": "2022-03-13T18:43:54.461Z"
   },
   {
    "duration": 10,
    "start_time": "2022-03-13T18:43:54.471Z"
   },
   {
    "duration": 4,
    "start_time": "2022-03-13T18:43:54.483Z"
   },
   {
    "duration": 19,
    "start_time": "2022-03-13T18:43:54.489Z"
   },
   {
    "duration": 12,
    "start_time": "2022-03-13T18:43:54.510Z"
   },
   {
    "duration": 36,
    "start_time": "2022-03-13T18:43:54.524Z"
   },
   {
    "duration": 9,
    "start_time": "2022-03-13T18:43:54.562Z"
   },
   {
    "duration": 7,
    "start_time": "2022-03-13T18:43:54.573Z"
   },
   {
    "duration": 215,
    "start_time": "2022-03-13T18:43:54.581Z"
   },
   {
    "duration": 8,
    "start_time": "2022-03-13T18:43:54.798Z"
   },
   {
    "duration": 398,
    "start_time": "2022-03-13T18:43:54.808Z"
   },
   {
    "duration": 385,
    "start_time": "2022-03-13T18:43:55.209Z"
   },
   {
    "duration": 368,
    "start_time": "2022-03-13T18:43:55.596Z"
   },
   {
    "duration": 433,
    "start_time": "2022-03-13T18:43:55.966Z"
   },
   {
    "duration": 228,
    "start_time": "2022-03-13T18:43:56.401Z"
   },
   {
    "duration": 196,
    "start_time": "2022-03-13T18:43:56.631Z"
   },
   {
    "duration": 203,
    "start_time": "2022-03-13T18:43:56.829Z"
   },
   {
    "duration": 236,
    "start_time": "2022-03-13T18:43:57.035Z"
   },
   {
    "duration": 481,
    "start_time": "2022-03-13T18:43:57.273Z"
   },
   {
    "duration": 382,
    "start_time": "2022-03-13T18:43:57.756Z"
   },
   {
    "duration": 6,
    "start_time": "2022-03-13T18:43:58.140Z"
   },
   {
    "duration": 249,
    "start_time": "2022-03-13T18:43:58.147Z"
   },
   {
    "duration": 5,
    "start_time": "2022-03-13T18:43:58.398Z"
   },
   {
    "duration": 348,
    "start_time": "2022-03-13T18:43:58.404Z"
   },
   {
    "duration": 172,
    "start_time": "2022-03-13T18:43:58.753Z"
   },
   {
    "duration": 283,
    "start_time": "2022-03-13T18:43:58.926Z"
   },
   {
    "duration": 251,
    "start_time": "2022-03-13T18:43:59.210Z"
   },
   {
    "duration": 231,
    "start_time": "2022-03-13T18:43:59.462Z"
   },
   {
    "duration": 130,
    "start_time": "2022-03-13T18:50:51.023Z"
   },
   {
    "duration": 6,
    "start_time": "2022-03-13T18:51:19.831Z"
   },
   {
    "duration": 3,
    "start_time": "2022-03-13T18:51:24.132Z"
   },
   {
    "duration": 71,
    "start_time": "2022-03-13T18:51:24.138Z"
   },
   {
    "duration": 30,
    "start_time": "2022-03-13T18:51:24.212Z"
   },
   {
    "duration": 27,
    "start_time": "2022-03-13T18:51:24.244Z"
   },
   {
    "duration": 6,
    "start_time": "2022-03-13T18:51:24.273Z"
   },
   {
    "duration": 4,
    "start_time": "2022-03-13T18:51:24.280Z"
   },
   {
    "duration": 19,
    "start_time": "2022-03-13T18:51:24.286Z"
   },
   {
    "duration": 5,
    "start_time": "2022-03-13T18:51:24.307Z"
   },
   {
    "duration": 4,
    "start_time": "2022-03-13T18:51:24.315Z"
   },
   {
    "duration": 39,
    "start_time": "2022-03-13T18:51:24.321Z"
   },
   {
    "duration": 26,
    "start_time": "2022-03-13T18:51:24.361Z"
   },
   {
    "duration": 84,
    "start_time": "2022-03-13T18:51:24.389Z"
   },
   {
    "duration": 11,
    "start_time": "2022-03-13T18:51:24.475Z"
   },
   {
    "duration": 8,
    "start_time": "2022-03-13T18:51:24.488Z"
   },
   {
    "duration": 7,
    "start_time": "2022-03-13T18:51:24.497Z"
   },
   {
    "duration": 5,
    "start_time": "2022-03-13T18:51:24.506Z"
   },
   {
    "duration": 6,
    "start_time": "2022-03-13T18:51:24.513Z"
   },
   {
    "duration": 46,
    "start_time": "2022-03-13T18:51:24.521Z"
   },
   {
    "duration": 11,
    "start_time": "2022-03-13T18:51:24.569Z"
   },
   {
    "duration": 9,
    "start_time": "2022-03-13T18:51:24.582Z"
   },
   {
    "duration": 7,
    "start_time": "2022-03-13T18:51:24.592Z"
   },
   {
    "duration": 6,
    "start_time": "2022-03-13T18:51:24.601Z"
   },
   {
    "duration": 6,
    "start_time": "2022-03-13T18:51:24.611Z"
   },
   {
    "duration": 40,
    "start_time": "2022-03-13T18:51:24.620Z"
   },
   {
    "duration": 3,
    "start_time": "2022-03-13T18:51:24.662Z"
   },
   {
    "duration": 633,
    "start_time": "2022-03-13T18:51:24.667Z"
   },
   {
    "duration": 5,
    "start_time": "2022-03-13T18:51:25.301Z"
   },
   {
    "duration": 15,
    "start_time": "2022-03-13T18:51:25.307Z"
   },
   {
    "duration": 12,
    "start_time": "2022-03-13T18:51:25.324Z"
   },
   {
    "duration": 7,
    "start_time": "2022-03-13T18:51:25.338Z"
   },
   {
    "duration": 382,
    "start_time": "2022-03-13T18:51:25.346Z"
   },
   {
    "duration": 437,
    "start_time": "2022-03-13T18:51:25.731Z"
   },
   {
    "duration": 481,
    "start_time": "2022-03-13T18:51:26.171Z"
   },
   {
    "duration": 393,
    "start_time": "2022-03-13T18:51:26.654Z"
   },
   {
    "duration": 377,
    "start_time": "2022-03-13T18:51:27.049Z"
   },
   {
    "duration": 373,
    "start_time": "2022-03-13T18:51:27.428Z"
   },
   {
    "duration": 238,
    "start_time": "2022-03-13T18:51:27.803Z"
   },
   {
    "duration": 211,
    "start_time": "2022-03-13T18:51:28.042Z"
   },
   {
    "duration": 211,
    "start_time": "2022-03-13T18:51:28.259Z"
   },
   {
    "duration": 239,
    "start_time": "2022-03-13T18:51:28.471Z"
   },
   {
    "duration": 424,
    "start_time": "2022-03-13T18:51:28.712Z"
   },
   {
    "duration": 10,
    "start_time": "2022-03-13T18:51:29.137Z"
   },
   {
    "duration": 10,
    "start_time": "2022-03-13T18:51:29.160Z"
   },
   {
    "duration": 8,
    "start_time": "2022-03-13T18:51:29.172Z"
   },
   {
    "duration": 9,
    "start_time": "2022-03-13T18:51:29.181Z"
   },
   {
    "duration": 21,
    "start_time": "2022-03-13T18:51:29.192Z"
   },
   {
    "duration": 48,
    "start_time": "2022-03-13T18:51:29.215Z"
   },
   {
    "duration": 6,
    "start_time": "2022-03-13T18:51:29.265Z"
   },
   {
    "duration": 597,
    "start_time": "2022-03-13T18:51:29.272Z"
   },
   {
    "duration": 5,
    "start_time": "2022-03-13T18:51:29.871Z"
   },
   {
    "duration": 278,
    "start_time": "2022-03-13T18:51:29.878Z"
   },
   {
    "duration": 6,
    "start_time": "2022-03-13T18:51:30.158Z"
   },
   {
    "duration": 555,
    "start_time": "2022-03-13T18:51:30.166Z"
   },
   {
    "duration": 180,
    "start_time": "2022-03-13T18:51:30.723Z"
   },
   {
    "duration": 227,
    "start_time": "2022-03-13T18:51:30.905Z"
   },
   {
    "duration": 266,
    "start_time": "2022-03-13T18:51:31.134Z"
   },
   {
    "duration": 234,
    "start_time": "2022-03-13T18:51:31.402Z"
   },
   {
    "duration": 21,
    "start_time": "2022-03-13T18:51:31.638Z"
   },
   {
    "duration": 21,
    "start_time": "2022-03-13T18:51:31.661Z"
   },
   {
    "duration": 12,
    "start_time": "2022-03-13T18:51:31.684Z"
   },
   {
    "duration": 28,
    "start_time": "2022-03-13T18:51:31.697Z"
   },
   {
    "duration": 18,
    "start_time": "2022-03-13T18:51:31.727Z"
   },
   {
    "duration": 16,
    "start_time": "2022-03-13T18:51:31.747Z"
   },
   {
    "duration": 10,
    "start_time": "2022-03-13T18:51:31.768Z"
   },
   {
    "duration": 15,
    "start_time": "2022-03-13T18:51:31.780Z"
   },
   {
    "duration": 224,
    "start_time": "2022-03-13T18:51:31.797Z"
   },
   {
    "duration": 7,
    "start_time": "2022-03-13T18:51:32.022Z"
   },
   {
    "duration": 398,
    "start_time": "2022-03-13T18:51:32.031Z"
   },
   {
    "duration": 479,
    "start_time": "2022-03-13T18:51:32.431Z"
   },
   {
    "duration": 368,
    "start_time": "2022-03-13T18:51:32.912Z"
   },
   {
    "duration": 379,
    "start_time": "2022-03-13T18:51:33.282Z"
   },
   {
    "duration": 222,
    "start_time": "2022-03-13T18:51:33.663Z"
   },
   {
    "duration": 202,
    "start_time": "2022-03-13T18:51:33.887Z"
   },
   {
    "duration": 201,
    "start_time": "2022-03-13T18:51:34.091Z"
   },
   {
    "duration": 243,
    "start_time": "2022-03-13T18:51:34.294Z"
   },
   {
    "duration": 586,
    "start_time": "2022-03-13T18:51:34.538Z"
   },
   {
    "duration": 387,
    "start_time": "2022-03-13T18:51:35.126Z"
   },
   {
    "duration": 5,
    "start_time": "2022-03-13T18:51:35.514Z"
   },
   {
    "duration": 242,
    "start_time": "2022-03-13T18:51:35.521Z"
   },
   {
    "duration": 5,
    "start_time": "2022-03-13T18:51:35.765Z"
   },
   {
    "duration": 385,
    "start_time": "2022-03-13T18:51:35.771Z"
   },
   {
    "duration": 191,
    "start_time": "2022-03-13T18:51:36.158Z"
   },
   {
    "duration": 224,
    "start_time": "2022-03-13T18:51:36.350Z"
   },
   {
    "duration": 276,
    "start_time": "2022-03-13T18:51:36.576Z"
   },
   {
    "duration": 240,
    "start_time": "2022-03-13T18:51:36.853Z"
   },
   {
    "duration": 5,
    "start_time": "2022-03-13T18:54:26.596Z"
   },
   {
    "duration": 3,
    "start_time": "2022-03-13T18:57:29.690Z"
   },
   {
    "duration": 66,
    "start_time": "2022-03-13T18:57:29.695Z"
   },
   {
    "duration": 24,
    "start_time": "2022-03-13T18:57:29.763Z"
   },
   {
    "duration": 11,
    "start_time": "2022-03-13T18:57:29.789Z"
   },
   {
    "duration": 4,
    "start_time": "2022-03-13T18:57:29.802Z"
   },
   {
    "duration": 3,
    "start_time": "2022-03-13T18:57:29.808Z"
   },
   {
    "duration": 10,
    "start_time": "2022-03-13T18:57:29.814Z"
   },
   {
    "duration": 33,
    "start_time": "2022-03-13T18:57:29.826Z"
   },
   {
    "duration": 5,
    "start_time": "2022-03-13T18:57:29.862Z"
   },
   {
    "duration": 4,
    "start_time": "2022-03-13T18:57:29.869Z"
   },
   {
    "duration": 23,
    "start_time": "2022-03-13T18:57:29.874Z"
   },
   {
    "duration": 75,
    "start_time": "2022-03-13T18:57:29.899Z"
   },
   {
    "duration": 8,
    "start_time": "2022-03-13T18:57:29.975Z"
   },
   {
    "duration": 5,
    "start_time": "2022-03-13T18:57:29.985Z"
   },
   {
    "duration": 4,
    "start_time": "2022-03-13T18:57:29.992Z"
   },
   {
    "duration": 11,
    "start_time": "2022-03-13T18:57:29.998Z"
   },
   {
    "duration": 8,
    "start_time": "2022-03-13T18:57:30.011Z"
   },
   {
    "duration": 42,
    "start_time": "2022-03-13T18:57:30.020Z"
   },
   {
    "duration": 12,
    "start_time": "2022-03-13T18:57:30.063Z"
   },
   {
    "duration": 8,
    "start_time": "2022-03-13T18:57:30.077Z"
   },
   {
    "duration": 10,
    "start_time": "2022-03-13T18:57:30.087Z"
   },
   {
    "duration": 11,
    "start_time": "2022-03-13T18:57:30.099Z"
   },
   {
    "duration": 6,
    "start_time": "2022-03-13T18:57:30.112Z"
   },
   {
    "duration": 11,
    "start_time": "2022-03-13T18:57:30.120Z"
   },
   {
    "duration": 11,
    "start_time": "2022-03-13T18:57:30.133Z"
   },
   {
    "duration": 624,
    "start_time": "2022-03-13T18:57:30.159Z"
   },
   {
    "duration": 4,
    "start_time": "2022-03-13T18:57:30.785Z"
   },
   {
    "duration": 17,
    "start_time": "2022-03-13T18:57:30.791Z"
   },
   {
    "duration": 16,
    "start_time": "2022-03-13T18:57:30.810Z"
   },
   {
    "duration": 24,
    "start_time": "2022-03-13T18:57:30.828Z"
   },
   {
    "duration": 470,
    "start_time": "2022-03-13T18:57:30.854Z"
   },
   {
    "duration": 416,
    "start_time": "2022-03-13T18:57:31.326Z"
   },
   {
    "duration": 386,
    "start_time": "2022-03-13T18:57:31.746Z"
   },
   {
    "duration": 372,
    "start_time": "2022-03-13T18:57:32.135Z"
   },
   {
    "duration": 355,
    "start_time": "2022-03-13T18:57:32.509Z"
   },
   {
    "duration": 460,
    "start_time": "2022-03-13T18:57:32.866Z"
   },
   {
    "duration": 223,
    "start_time": "2022-03-13T18:57:33.328Z"
   },
   {
    "duration": 201,
    "start_time": "2022-03-13T18:57:33.558Z"
   },
   {
    "duration": 199,
    "start_time": "2022-03-13T18:57:33.760Z"
   },
   {
    "duration": 215,
    "start_time": "2022-03-13T18:57:33.960Z"
   },
   {
    "duration": 322,
    "start_time": "2022-03-13T18:57:34.177Z"
   },
   {
    "duration": 9,
    "start_time": "2022-03-13T18:57:34.501Z"
   },
   {
    "duration": 8,
    "start_time": "2022-03-13T18:57:34.512Z"
   },
   {
    "duration": 15,
    "start_time": "2022-03-13T18:57:34.522Z"
   },
   {
    "duration": 25,
    "start_time": "2022-03-13T18:57:34.538Z"
   },
   {
    "duration": 19,
    "start_time": "2022-03-13T18:57:34.564Z"
   },
   {
    "duration": 10,
    "start_time": "2022-03-13T18:57:34.585Z"
   },
   {
    "duration": 5,
    "start_time": "2022-03-13T18:57:34.596Z"
   },
   {
    "duration": 542,
    "start_time": "2022-03-13T18:57:34.603Z"
   },
   {
    "duration": 14,
    "start_time": "2022-03-13T18:57:35.146Z"
   },
   {
    "duration": 229,
    "start_time": "2022-03-13T18:57:35.162Z"
   },
   {
    "duration": 5,
    "start_time": "2022-03-13T18:57:35.392Z"
   },
   {
    "duration": 537,
    "start_time": "2022-03-13T18:57:35.399Z"
   },
   {
    "duration": 168,
    "start_time": "2022-03-13T18:57:35.938Z"
   },
   {
    "duration": 212,
    "start_time": "2022-03-13T18:57:36.108Z"
   },
   {
    "duration": 243,
    "start_time": "2022-03-13T18:57:36.321Z"
   },
   {
    "duration": 230,
    "start_time": "2022-03-13T18:57:36.566Z"
   },
   {
    "duration": 8,
    "start_time": "2022-03-13T18:57:36.797Z"
   },
   {
    "duration": 19,
    "start_time": "2022-03-13T18:57:36.807Z"
   },
   {
    "duration": 26,
    "start_time": "2022-03-13T18:57:36.828Z"
   },
   {
    "duration": 51,
    "start_time": "2022-03-13T18:57:36.856Z"
   },
   {
    "duration": 133,
    "start_time": "2022-03-13T18:57:36.909Z"
   },
   {
    "duration": 17,
    "start_time": "2022-03-13T18:57:37.043Z"
   },
   {
    "duration": 15,
    "start_time": "2022-03-13T18:57:37.061Z"
   },
   {
    "duration": 14,
    "start_time": "2022-03-13T18:57:37.077Z"
   },
   {
    "duration": 210,
    "start_time": "2022-03-13T18:57:37.093Z"
   },
   {
    "duration": 6,
    "start_time": "2022-03-13T18:57:37.305Z"
   },
   {
    "duration": 398,
    "start_time": "2022-03-13T18:57:37.313Z"
   },
   {
    "duration": 387,
    "start_time": "2022-03-13T18:57:37.713Z"
   },
   {
    "duration": 357,
    "start_time": "2022-03-13T18:57:38.102Z"
   },
   {
    "duration": 437,
    "start_time": "2022-03-13T18:57:38.460Z"
   },
   {
    "duration": 233,
    "start_time": "2022-03-13T18:57:38.900Z"
   },
   {
    "duration": 198,
    "start_time": "2022-03-13T18:57:39.135Z"
   },
   {
    "duration": 305,
    "start_time": "2022-03-13T18:57:39.336Z"
   },
   {
    "duration": 230,
    "start_time": "2022-03-13T18:57:39.643Z"
   },
   {
    "duration": 521,
    "start_time": "2022-03-13T18:57:39.875Z"
   },
   {
    "duration": 350,
    "start_time": "2022-03-13T18:57:40.398Z"
   },
   {
    "duration": 12,
    "start_time": "2022-03-13T18:57:40.750Z"
   },
   {
    "duration": 250,
    "start_time": "2022-03-13T18:57:40.764Z"
   },
   {
    "duration": 6,
    "start_time": "2022-03-13T18:57:41.016Z"
   },
   {
    "duration": 390,
    "start_time": "2022-03-13T18:57:41.024Z"
   },
   {
    "duration": 174,
    "start_time": "2022-03-13T18:57:41.415Z"
   },
   {
    "duration": 214,
    "start_time": "2022-03-13T18:57:41.591Z"
   },
   {
    "duration": 238,
    "start_time": "2022-03-13T18:57:41.807Z"
   },
   {
    "duration": 226,
    "start_time": "2022-03-13T18:57:42.046Z"
   },
   {
    "duration": 3,
    "start_time": "2022-03-13T19:02:13.472Z"
   },
   {
    "duration": 89,
    "start_time": "2022-03-13T19:02:13.480Z"
   },
   {
    "duration": 24,
    "start_time": "2022-03-13T19:02:13.571Z"
   },
   {
    "duration": 13,
    "start_time": "2022-03-13T19:02:13.597Z"
   },
   {
    "duration": 5,
    "start_time": "2022-03-13T19:02:13.612Z"
   },
   {
    "duration": 3,
    "start_time": "2022-03-13T19:02:13.619Z"
   },
   {
    "duration": 43,
    "start_time": "2022-03-13T19:02:13.624Z"
   },
   {
    "duration": 3,
    "start_time": "2022-03-13T19:02:13.669Z"
   },
   {
    "duration": 5,
    "start_time": "2022-03-13T19:02:13.675Z"
   },
   {
    "duration": 5,
    "start_time": "2022-03-13T19:02:13.682Z"
   },
   {
    "duration": 25,
    "start_time": "2022-03-13T19:02:13.689Z"
   },
   {
    "duration": 43,
    "start_time": "2022-03-13T19:02:13.760Z"
   },
   {
    "duration": 8,
    "start_time": "2022-03-13T19:02:13.805Z"
   },
   {
    "duration": 4,
    "start_time": "2022-03-13T19:02:13.815Z"
   },
   {
    "duration": 39,
    "start_time": "2022-03-13T19:02:13.820Z"
   },
   {
    "duration": 4,
    "start_time": "2022-03-13T19:02:13.861Z"
   },
   {
    "duration": 7,
    "start_time": "2022-03-13T19:02:13.866Z"
   },
   {
    "duration": 12,
    "start_time": "2022-03-13T19:02:13.875Z"
   },
   {
    "duration": 11,
    "start_time": "2022-03-13T19:02:13.889Z"
   },
   {
    "duration": 9,
    "start_time": "2022-03-13T19:02:13.901Z"
   },
   {
    "duration": 4,
    "start_time": "2022-03-13T19:02:13.912Z"
   },
   {
    "duration": 41,
    "start_time": "2022-03-13T19:02:13.918Z"
   },
   {
    "duration": 6,
    "start_time": "2022-03-13T19:02:13.961Z"
   },
   {
    "duration": 7,
    "start_time": "2022-03-13T19:02:13.971Z"
   },
   {
    "duration": 3,
    "start_time": "2022-03-13T19:02:13.980Z"
   },
   {
    "duration": 775,
    "start_time": "2022-03-13T19:02:13.985Z"
   },
   {
    "duration": 5,
    "start_time": "2022-03-13T19:02:14.761Z"
   },
   {
    "duration": 7,
    "start_time": "2022-03-13T19:02:14.767Z"
   },
   {
    "duration": 5,
    "start_time": "2022-03-13T19:02:14.776Z"
   },
   {
    "duration": 6,
    "start_time": "2022-03-13T19:02:14.782Z"
   },
   {
    "duration": 411,
    "start_time": "2022-03-13T19:02:14.789Z"
   },
   {
    "duration": 431,
    "start_time": "2022-03-13T19:02:15.202Z"
   },
   {
    "duration": 405,
    "start_time": "2022-03-13T19:02:15.635Z"
   },
   {
    "duration": 388,
    "start_time": "2022-03-13T19:02:16.042Z"
   },
   {
    "duration": 384,
    "start_time": "2022-03-13T19:02:16.432Z"
   },
   {
    "duration": 529,
    "start_time": "2022-03-13T19:02:16.818Z"
   },
   {
    "duration": 260,
    "start_time": "2022-03-13T19:02:17.349Z"
   },
   {
    "duration": 218,
    "start_time": "2022-03-13T19:02:17.611Z"
   },
   {
    "duration": 199,
    "start_time": "2022-03-13T19:02:17.831Z"
   },
   {
    "duration": 244,
    "start_time": "2022-03-13T19:02:18.032Z"
   },
   {
    "duration": 335,
    "start_time": "2022-03-13T19:02:18.279Z"
   },
   {
    "duration": 11,
    "start_time": "2022-03-13T19:02:18.616Z"
   },
   {
    "duration": 31,
    "start_time": "2022-03-13T19:02:18.629Z"
   },
   {
    "duration": 9,
    "start_time": "2022-03-13T19:02:18.663Z"
   },
   {
    "duration": 9,
    "start_time": "2022-03-13T19:02:18.674Z"
   },
   {
    "duration": 23,
    "start_time": "2022-03-13T19:02:18.685Z"
   },
   {
    "duration": 7,
    "start_time": "2022-03-13T19:02:18.711Z"
   },
   {
    "duration": 43,
    "start_time": "2022-03-13T19:02:18.720Z"
   },
   {
    "duration": 581,
    "start_time": "2022-03-13T19:02:18.765Z"
   },
   {
    "duration": 14,
    "start_time": "2022-03-13T19:02:19.348Z"
   },
   {
    "duration": 269,
    "start_time": "2022-03-13T19:02:19.364Z"
   },
   {
    "duration": 6,
    "start_time": "2022-03-13T19:02:19.634Z"
   },
   {
    "duration": 517,
    "start_time": "2022-03-13T19:02:19.642Z"
   },
   {
    "duration": 172,
    "start_time": "2022-03-13T19:02:20.161Z"
   },
   {
    "duration": 219,
    "start_time": "2022-03-13T19:02:20.335Z"
   },
   {
    "duration": 245,
    "start_time": "2022-03-13T19:02:20.556Z"
   },
   {
    "duration": 229,
    "start_time": "2022-03-13T19:02:20.803Z"
   },
   {
    "duration": 9,
    "start_time": "2022-03-13T19:02:21.034Z"
   },
   {
    "duration": 20,
    "start_time": "2022-03-13T19:02:21.045Z"
   },
   {
    "duration": 5,
    "start_time": "2022-03-13T19:02:21.067Z"
   },
   {
    "duration": 14,
    "start_time": "2022-03-13T19:02:21.074Z"
   },
   {
    "duration": 13,
    "start_time": "2022-03-13T19:02:21.090Z"
   },
   {
    "duration": 16,
    "start_time": "2022-03-13T19:02:21.105Z"
   },
   {
    "duration": 9,
    "start_time": "2022-03-13T19:02:21.160Z"
   },
   {
    "duration": 6,
    "start_time": "2022-03-13T19:02:21.171Z"
   },
   {
    "duration": 217,
    "start_time": "2022-03-13T19:02:21.180Z"
   },
   {
    "duration": 7,
    "start_time": "2022-03-13T19:02:21.399Z"
   },
   {
    "duration": 542,
    "start_time": "2022-03-13T19:02:21.408Z"
   },
   {
    "duration": 385,
    "start_time": "2022-03-13T19:02:21.960Z"
   },
   {
    "duration": 388,
    "start_time": "2022-03-13T19:02:22.348Z"
   },
   {
    "duration": 381,
    "start_time": "2022-03-13T19:02:22.738Z"
   },
   {
    "duration": 230,
    "start_time": "2022-03-13T19:02:23.121Z"
   },
   {
    "duration": 209,
    "start_time": "2022-03-13T19:02:23.352Z"
   },
   {
    "duration": 209,
    "start_time": "2022-03-13T19:02:23.562Z"
   },
   {
    "duration": 248,
    "start_time": "2022-03-13T19:02:23.772Z"
   },
   {
    "duration": 606,
    "start_time": "2022-03-13T19:02:24.022Z"
   },
   {
    "duration": 408,
    "start_time": "2022-03-13T19:02:24.630Z"
   },
   {
    "duration": 5,
    "start_time": "2022-03-13T19:02:25.039Z"
   },
   {
    "duration": 254,
    "start_time": "2022-03-13T19:02:25.045Z"
   },
   {
    "duration": 5,
    "start_time": "2022-03-13T19:02:25.301Z"
   },
   {
    "duration": 417,
    "start_time": "2022-03-13T19:02:25.308Z"
   },
   {
    "duration": 184,
    "start_time": "2022-03-13T19:02:25.727Z"
   },
   {
    "duration": 219,
    "start_time": "2022-03-13T19:02:25.913Z"
   },
   {
    "duration": 252,
    "start_time": "2022-03-13T19:02:26.134Z"
   },
   {
    "duration": 238,
    "start_time": "2022-03-13T19:02:26.388Z"
   },
   {
    "duration": 238,
    "start_time": "2022-03-13T19:09:49.710Z"
   },
   {
    "duration": 45,
    "start_time": "2022-03-13T19:09:56.007Z"
   },
   {
    "duration": 28,
    "start_time": "2022-03-13T19:25:10.464Z"
   },
   {
    "duration": 37,
    "start_time": "2022-03-13T19:26:16.123Z"
   },
   {
    "duration": 225,
    "start_time": "2022-03-13T19:26:49.234Z"
   },
   {
    "duration": 34,
    "start_time": "2022-03-13T19:26:54.639Z"
   },
   {
    "duration": 10,
    "start_time": "2022-03-13T19:27:04.384Z"
   },
   {
    "duration": 35,
    "start_time": "2022-03-13T19:27:07.024Z"
   },
   {
    "duration": 3,
    "start_time": "2022-03-13T19:32:23.883Z"
   },
   {
    "duration": 76,
    "start_time": "2022-03-13T19:32:23.891Z"
   },
   {
    "duration": 22,
    "start_time": "2022-03-13T19:32:23.969Z"
   },
   {
    "duration": 12,
    "start_time": "2022-03-13T19:32:23.993Z"
   },
   {
    "duration": 5,
    "start_time": "2022-03-13T19:32:24.007Z"
   },
   {
    "duration": 7,
    "start_time": "2022-03-13T19:32:24.013Z"
   },
   {
    "duration": 40,
    "start_time": "2022-03-13T19:32:24.021Z"
   },
   {
    "duration": 3,
    "start_time": "2022-03-13T19:32:24.063Z"
   },
   {
    "duration": 6,
    "start_time": "2022-03-13T19:32:24.067Z"
   },
   {
    "duration": 4,
    "start_time": "2022-03-13T19:32:24.076Z"
   },
   {
    "duration": 23,
    "start_time": "2022-03-13T19:32:24.082Z"
   },
   {
    "duration": 78,
    "start_time": "2022-03-13T19:32:24.106Z"
   },
   {
    "duration": 8,
    "start_time": "2022-03-13T19:32:24.186Z"
   },
   {
    "duration": 5,
    "start_time": "2022-03-13T19:32:24.196Z"
   },
   {
    "duration": 4,
    "start_time": "2022-03-13T19:32:24.203Z"
   },
   {
    "duration": 5,
    "start_time": "2022-03-13T19:32:24.208Z"
   },
   {
    "duration": 6,
    "start_time": "2022-03-13T19:32:24.215Z"
   },
   {
    "duration": 42,
    "start_time": "2022-03-13T19:32:24.223Z"
   },
   {
    "duration": 11,
    "start_time": "2022-03-13T19:32:24.266Z"
   },
   {
    "duration": 8,
    "start_time": "2022-03-13T19:32:24.279Z"
   },
   {
    "duration": 5,
    "start_time": "2022-03-13T19:32:24.288Z"
   },
   {
    "duration": 6,
    "start_time": "2022-03-13T19:32:24.295Z"
   },
   {
    "duration": 6,
    "start_time": "2022-03-13T19:32:24.302Z"
   },
   {
    "duration": 6,
    "start_time": "2022-03-13T19:32:24.309Z"
   },
   {
    "duration": 3,
    "start_time": "2022-03-13T19:32:24.316Z"
   },
   {
    "duration": 651,
    "start_time": "2022-03-13T19:32:24.321Z"
   },
   {
    "duration": 4,
    "start_time": "2022-03-13T19:32:24.974Z"
   },
   {
    "duration": 3,
    "start_time": "2022-03-13T19:32:24.982Z"
   },
   {
    "duration": 4,
    "start_time": "2022-03-13T19:32:24.988Z"
   },
   {
    "duration": 5,
    "start_time": "2022-03-13T19:32:24.994Z"
   },
   {
    "duration": 392,
    "start_time": "2022-03-13T19:32:25.000Z"
   },
   {
    "duration": 535,
    "start_time": "2022-03-13T19:32:25.393Z"
   },
   {
    "duration": 394,
    "start_time": "2022-03-13T19:32:25.930Z"
   },
   {
    "duration": 379,
    "start_time": "2022-03-13T19:32:26.325Z"
   },
   {
    "duration": 358,
    "start_time": "2022-03-13T19:32:26.705Z"
   },
   {
    "duration": 368,
    "start_time": "2022-03-13T19:32:27.065Z"
   },
   {
    "duration": 234,
    "start_time": "2022-03-13T19:32:27.436Z"
   },
   {
    "duration": 210,
    "start_time": "2022-03-13T19:32:27.672Z"
   },
   {
    "duration": 211,
    "start_time": "2022-03-13T19:32:27.884Z"
   },
   {
    "duration": 227,
    "start_time": "2022-03-13T19:32:28.096Z"
   },
   {
    "duration": 326,
    "start_time": "2022-03-13T19:32:28.325Z"
   },
   {
    "duration": 10,
    "start_time": "2022-03-13T19:32:28.652Z"
   },
   {
    "duration": 12,
    "start_time": "2022-03-13T19:32:28.663Z"
   },
   {
    "duration": 10,
    "start_time": "2022-03-13T19:32:28.676Z"
   },
   {
    "duration": 9,
    "start_time": "2022-03-13T19:32:28.687Z"
   },
   {
    "duration": 207,
    "start_time": "2022-03-13T19:32:28.698Z"
   },
   {
    "duration": 7,
    "start_time": "2022-03-13T19:32:28.907Z"
   },
   {
    "duration": 9,
    "start_time": "2022-03-13T19:32:28.916Z"
   },
   {
    "duration": 5,
    "start_time": "2022-03-13T19:32:28.926Z"
   },
   {
    "duration": 540,
    "start_time": "2022-03-13T19:32:28.933Z"
   },
   {
    "duration": 5,
    "start_time": "2022-03-13T19:32:29.475Z"
   },
   {
    "duration": 241,
    "start_time": "2022-03-13T19:32:29.482Z"
   },
   {
    "duration": 5,
    "start_time": "2022-03-13T19:32:29.724Z"
   },
   {
    "duration": 520,
    "start_time": "2022-03-13T19:32:29.731Z"
   },
   {
    "duration": 171,
    "start_time": "2022-03-13T19:32:30.253Z"
   },
   {
    "duration": 208,
    "start_time": "2022-03-13T19:32:30.426Z"
   },
   {
    "duration": 249,
    "start_time": "2022-03-13T19:32:30.636Z"
   },
   {
    "duration": 228,
    "start_time": "2022-03-13T19:32:30.887Z"
   },
   {
    "duration": 8,
    "start_time": "2022-03-13T19:32:31.116Z"
   },
   {
    "duration": 11,
    "start_time": "2022-03-13T19:32:31.125Z"
   },
   {
    "duration": 21,
    "start_time": "2022-03-13T19:32:31.138Z"
   },
   {
    "duration": 10,
    "start_time": "2022-03-13T19:32:31.161Z"
   },
   {
    "duration": 15,
    "start_time": "2022-03-13T19:32:31.173Z"
   },
   {
    "duration": 15,
    "start_time": "2022-03-13T19:32:31.190Z"
   },
   {
    "duration": 8,
    "start_time": "2022-03-13T19:32:31.207Z"
   },
   {
    "duration": 5,
    "start_time": "2022-03-13T19:32:31.217Z"
   },
   {
    "duration": 215,
    "start_time": "2022-03-13T19:32:31.223Z"
   },
   {
    "duration": 20,
    "start_time": "2022-03-13T19:32:31.440Z"
   },
   {
    "duration": 381,
    "start_time": "2022-03-13T19:32:31.461Z"
   },
   {
    "duration": 366,
    "start_time": "2022-03-13T19:32:31.843Z"
   },
   {
    "duration": 359,
    "start_time": "2022-03-13T19:32:32.211Z"
   },
   {
    "duration": 500,
    "start_time": "2022-03-13T19:32:32.572Z"
   },
   {
    "duration": 209,
    "start_time": "2022-03-13T19:32:33.074Z"
   },
   {
    "duration": 191,
    "start_time": "2022-03-13T19:32:33.284Z"
   },
   {
    "duration": 197,
    "start_time": "2022-03-13T19:32:33.477Z"
   },
   {
    "duration": 219,
    "start_time": "2022-03-13T19:32:33.676Z"
   },
   {
    "duration": 453,
    "start_time": "2022-03-13T19:32:33.896Z"
   },
   {
    "duration": 362,
    "start_time": "2022-03-13T19:32:34.359Z"
   },
   {
    "duration": 5,
    "start_time": "2022-03-13T19:32:34.722Z"
   },
   {
    "duration": 237,
    "start_time": "2022-03-13T19:32:34.729Z"
   },
   {
    "duration": 6,
    "start_time": "2022-03-13T19:32:34.968Z"
   },
   {
    "duration": 341,
    "start_time": "2022-03-13T19:32:34.981Z"
   },
   {
    "duration": 178,
    "start_time": "2022-03-13T19:32:35.324Z"
   },
   {
    "duration": 220,
    "start_time": "2022-03-13T19:32:35.504Z"
   },
   {
    "duration": 239,
    "start_time": "2022-03-13T19:32:35.725Z"
   },
   {
    "duration": 223,
    "start_time": "2022-03-13T19:32:35.966Z"
   },
   {
    "duration": 81,
    "start_time": "2022-03-13T19:35:26.272Z"
   },
   {
    "duration": 10,
    "start_time": "2022-03-13T19:35:38.498Z"
   },
   {
    "duration": 2,
    "start_time": "2022-03-13T19:35:41.061Z"
   },
   {
    "duration": 74,
    "start_time": "2022-03-13T19:35:41.066Z"
   },
   {
    "duration": 36,
    "start_time": "2022-03-13T19:35:41.143Z"
   },
   {
    "duration": 11,
    "start_time": "2022-03-13T19:35:41.181Z"
   },
   {
    "duration": 3,
    "start_time": "2022-03-13T19:35:41.194Z"
   },
   {
    "duration": 3,
    "start_time": "2022-03-13T19:35:41.199Z"
   },
   {
    "duration": 11,
    "start_time": "2022-03-13T19:35:41.204Z"
   },
   {
    "duration": 4,
    "start_time": "2022-03-13T19:35:41.216Z"
   },
   {
    "duration": 39,
    "start_time": "2022-03-13T19:35:41.222Z"
   },
   {
    "duration": 4,
    "start_time": "2022-03-13T19:35:41.263Z"
   },
   {
    "duration": 22,
    "start_time": "2022-03-13T19:35:41.268Z"
   },
   {
    "duration": 72,
    "start_time": "2022-03-13T19:35:41.291Z"
   },
   {
    "duration": 7,
    "start_time": "2022-03-13T19:35:41.365Z"
   },
   {
    "duration": 5,
    "start_time": "2022-03-13T19:35:41.374Z"
   },
   {
    "duration": 6,
    "start_time": "2022-03-13T19:35:41.381Z"
   },
   {
    "duration": 5,
    "start_time": "2022-03-13T19:35:41.388Z"
   },
   {
    "duration": 6,
    "start_time": "2022-03-13T19:35:41.394Z"
   },
   {
    "duration": 13,
    "start_time": "2022-03-13T19:35:41.401Z"
   },
   {
    "duration": 46,
    "start_time": "2022-03-13T19:35:41.415Z"
   },
   {
    "duration": 8,
    "start_time": "2022-03-13T19:35:41.463Z"
   },
   {
    "duration": 5,
    "start_time": "2022-03-13T19:35:41.473Z"
   },
   {
    "duration": 6,
    "start_time": "2022-03-13T19:35:41.480Z"
   },
   {
    "duration": 10,
    "start_time": "2022-03-13T19:35:41.487Z"
   },
   {
    "duration": 11,
    "start_time": "2022-03-13T19:35:41.499Z"
   },
   {
    "duration": 2,
    "start_time": "2022-03-13T19:35:41.512Z"
   },
   {
    "duration": 603,
    "start_time": "2022-03-13T19:35:41.516Z"
   },
   {
    "duration": 4,
    "start_time": "2022-03-13T19:35:42.124Z"
   },
   {
    "duration": 4,
    "start_time": "2022-03-13T19:35:42.131Z"
   },
   {
    "duration": 4,
    "start_time": "2022-03-13T19:35:42.136Z"
   },
   {
    "duration": 18,
    "start_time": "2022-03-13T19:35:42.142Z"
   },
   {
    "duration": 520,
    "start_time": "2022-03-13T19:35:42.161Z"
   },
   {
    "duration": 403,
    "start_time": "2022-03-13T19:35:42.683Z"
   },
   {
    "duration": 367,
    "start_time": "2022-03-13T19:35:43.088Z"
   },
   {
    "duration": 372,
    "start_time": "2022-03-13T19:35:43.458Z"
   },
   {
    "duration": 341,
    "start_time": "2022-03-13T19:35:43.832Z"
   },
   {
    "duration": 362,
    "start_time": "2022-03-13T19:35:44.175Z"
   },
   {
    "duration": 224,
    "start_time": "2022-03-13T19:35:44.538Z"
   },
   {
    "duration": 200,
    "start_time": "2022-03-13T19:35:44.764Z"
   },
   {
    "duration": 357,
    "start_time": "2022-03-13T19:35:44.966Z"
   },
   {
    "duration": 229,
    "start_time": "2022-03-13T19:35:45.325Z"
   },
   {
    "duration": 317,
    "start_time": "2022-03-13T19:35:45.555Z"
   },
   {
    "duration": 8,
    "start_time": "2022-03-13T19:35:45.874Z"
   },
   {
    "duration": 9,
    "start_time": "2022-03-13T19:35:45.884Z"
   },
   {
    "duration": 8,
    "start_time": "2022-03-13T19:35:45.895Z"
   },
   {
    "duration": 8,
    "start_time": "2022-03-13T19:35:45.905Z"
   },
   {
    "duration": 54,
    "start_time": "2022-03-13T19:35:45.915Z"
   },
   {
    "duration": 8,
    "start_time": "2022-03-13T19:35:45.970Z"
   },
   {
    "duration": 8,
    "start_time": "2022-03-13T19:35:45.979Z"
   },
   {
    "duration": 5,
    "start_time": "2022-03-13T19:35:45.989Z"
   },
   {
    "duration": 571,
    "start_time": "2022-03-13T19:35:45.995Z"
   },
   {
    "duration": 5,
    "start_time": "2022-03-13T19:35:46.567Z"
   },
   {
    "duration": 233,
    "start_time": "2022-03-13T19:35:46.574Z"
   },
   {
    "duration": 6,
    "start_time": "2022-03-13T19:35:46.808Z"
   },
   {
    "duration": 545,
    "start_time": "2022-03-13T19:35:46.815Z"
   },
   {
    "duration": 175,
    "start_time": "2022-03-13T19:35:47.362Z"
   },
   {
    "duration": 210,
    "start_time": "2022-03-13T19:35:47.538Z"
   },
   {
    "duration": 237,
    "start_time": "2022-03-13T19:35:47.749Z"
   },
   {
    "duration": 220,
    "start_time": "2022-03-13T19:35:47.988Z"
   },
   {
    "duration": 7,
    "start_time": "2022-03-13T19:35:48.210Z"
   },
   {
    "duration": 8,
    "start_time": "2022-03-13T19:35:48.218Z"
   },
   {
    "duration": 4,
    "start_time": "2022-03-13T19:35:48.228Z"
   },
   {
    "duration": 30,
    "start_time": "2022-03-13T19:35:48.233Z"
   },
   {
    "duration": 12,
    "start_time": "2022-03-13T19:35:48.264Z"
   },
   {
    "duration": 15,
    "start_time": "2022-03-13T19:35:48.278Z"
   },
   {
    "duration": 9,
    "start_time": "2022-03-13T19:35:48.294Z"
   },
   {
    "duration": 5,
    "start_time": "2022-03-13T19:35:48.304Z"
   },
   {
    "duration": 223,
    "start_time": "2022-03-13T19:35:48.311Z"
   },
   {
    "duration": 8,
    "start_time": "2022-03-13T19:35:48.535Z"
   },
   {
    "duration": 375,
    "start_time": "2022-03-13T19:35:48.545Z"
   },
   {
    "duration": 359,
    "start_time": "2022-03-13T19:35:48.921Z"
   },
   {
    "duration": 500,
    "start_time": "2022-03-13T19:35:49.282Z"
   },
   {
    "duration": 357,
    "start_time": "2022-03-13T19:35:49.784Z"
   },
   {
    "duration": 216,
    "start_time": "2022-03-13T19:35:50.143Z"
   },
   {
    "duration": 186,
    "start_time": "2022-03-13T19:35:50.360Z"
   },
   {
    "duration": 201,
    "start_time": "2022-03-13T19:35:50.547Z"
   },
   {
    "duration": 221,
    "start_time": "2022-03-13T19:35:50.749Z"
   },
   {
    "duration": 480,
    "start_time": "2022-03-13T19:35:50.972Z"
   },
   {
    "duration": 384,
    "start_time": "2022-03-13T19:35:51.453Z"
   },
   {
    "duration": 5,
    "start_time": "2022-03-13T19:35:51.838Z"
   },
   {
    "duration": 231,
    "start_time": "2022-03-13T19:35:51.845Z"
   },
   {
    "duration": 5,
    "start_time": "2022-03-13T19:35:52.081Z"
   },
   {
    "duration": 353,
    "start_time": "2022-03-13T19:35:52.088Z"
   },
   {
    "duration": 169,
    "start_time": "2022-03-13T19:35:52.443Z"
   },
   {
    "duration": 212,
    "start_time": "2022-03-13T19:35:52.614Z"
   },
   {
    "duration": 243,
    "start_time": "2022-03-13T19:35:52.827Z"
   },
   {
    "duration": 214,
    "start_time": "2022-03-13T19:35:53.072Z"
   },
   {
    "duration": 81,
    "start_time": "2022-03-14T10:21:05.460Z"
   },
   {
    "duration": 92,
    "start_time": "2022-03-14T10:21:07.377Z"
   }
  ],
  "kernelspec": {
   "display_name": "Python 3 (ipykernel)",
   "language": "python",
   "name": "python3"
  },
  "language_info": {
   "codemirror_mode": {
    "name": "ipython",
    "version": 3
   },
   "file_extension": ".py",
   "mimetype": "text/x-python",
   "name": "python",
   "nbconvert_exporter": "python",
   "pygments_lexer": "ipython3",
   "version": "3.9.7"
  },
  "toc": {
   "base_numbering": 1,
   "nav_menu": {},
   "number_sections": true,
   "sideBar": true,
   "skip_h1_title": true,
   "title_cell": "Содержание",
   "title_sidebar": "Contents",
   "toc_cell": true,
   "toc_position": {
    "height": "calc(100% - 180px)",
    "left": "10px",
    "top": "150px",
    "width": "247px"
   },
   "toc_section_display": true,
   "toc_window_display": true
  }
 },
 "nbformat": 4,
 "nbformat_minor": 4
}
